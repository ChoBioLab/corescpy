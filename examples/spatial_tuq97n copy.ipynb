{
 "cells": [
  {
   "cell_type": "markdown",
   "metadata": {},
   "source": [
    "# Setup"
   ]
  },
  {
   "cell_type": "markdown",
   "metadata": {},
   "source": [
    "## Imports and Configuration"
   ]
  },
  {
   "cell_type": "code",
   "execution_count": 3,
   "metadata": {},
   "outputs": [
    {
     "name": "stdout",
     "output_type": "stream",
     "text": [
      "The autoreload extension is already loaded. To reload it, use:\n",
      "  %reload_ext autoreload\n"
     ]
    }
   ],
   "source": [
    "%load_ext autoreload\n",
    "%autoreload 2\n",
    "\n",
    "import scanpy as sc\n",
    "import os\n",
    "import re\n",
    "import json\n",
    "from datetime import datetime\n",
    "from anndata import AnnData\n",
    "import seaborn as sb\n",
    "import matplotlib.pyplot as plt\n",
    "import pandas as pd\n",
    "import numpy as np\n",
    "import corescpy as cr\n",
    "\n",
    "pd.options.display.max_columns = 100\n",
    "pd.options.display.max_rows = 200\n",
    "sc.settings.set_figure_params(dpi=100, frameon=False, figsize=(20, 20))\n",
    "\n",
    "palette = \"tab20\"\n",
    "\n",
    "\n",
    "def construct_file(sample, slide, date=None, timestamp=None,\n",
    "                   panel_id=\"TUQ97N\", prefix=\"output-XETG00189\",\n",
    "                   project_owner=\"EA\", run=\"CHO-001\", directory=None):\n",
    "    \"\"\"Construct file path from information.\"\"\"\n",
    "    if isinstance(sample, str):\n",
    "        sample = [sample]\n",
    "    if \"outputs\" not in directory and os.path.exists(\n",
    "            os.path.join(directory, \"outputs\")):\n",
    "        directory = os.path.join(directory, \"outputs\")\n",
    "    print(directory)\n",
    "    panel_id, prefix, project_owner, slide, date, timestamp = [\n",
    "        [x] * len(sample) if isinstance(x, str) else list(x) if x else x\n",
    "        for x in [panel_id, prefix, project_owner, slide, date, timestamp]]\n",
    "    run = [run] * len(sample) if isinstance(run, (str, int, float)) else run\n",
    "    block = [\"-\".join(i) for i in zip(sample, panel_id, project_owner)]\n",
    "    fff = [f\"{prefix[i]}__{slide[i]}__{block[i]}\" for i in range(len(sample))]\n",
    "    if date is None or timestamp is None:\n",
    "        for i, x in enumerate(fff):  # iterate current file stems\n",
    "            ddd = os.path.join(directory, panel_id[i], run[i])\n",
    "            print(ddd)\n",
    "            matches = sum([x in d for d in os.listdir(ddd)])\n",
    "            if  matches != 1:\n",
    "                raise ValueError(f\"{x} found in 0 or multiple file paths\",\n",
    "                                 f\"\\n\\n{os.listdir(ddd)}\")\n",
    "            fff[i] = os.path.join(ddd, np.array(os.listdir(ddd))[np.where([\n",
    "                x in d for d in os.listdir(ddd)])[0][0]])  # find match\n",
    "    else:\n",
    "        fff = [os.path.join(directory, panel_id[i], run[i],\n",
    "                            f\"{x}__{date[i]}__{timestamp[i]}\")\n",
    "               for i, x in enumerate(fff)]\n",
    "    return fff"
   ]
  },
  {
   "cell_type": "markdown",
   "metadata": {},
   "source": [
    "## Options"
   ]
  },
  {
   "cell_type": "code",
   "execution_count": 4,
   "metadata": {},
   "outputs": [
    {
     "name": "stdout",
     "output_type": "stream",
     "text": [
      "/mnt/cho_lab/disk2/elizabeth/data/shared-xenium-library/outputs\n",
      "/mnt/cho_lab/disk2/elizabeth/data/shared-xenium-library/outputs/TUQ97N/CHO-001\n",
      "/mnt/cho_lab/disk2/elizabeth/data/shared-xenium-library/outputs/TUQ97N/CHO-001\n",
      "/mnt/cho_lab/disk2/elizabeth/data/shared-xenium-library/outputs/TUQ97N/CHO-001\n"
     ]
    },
    {
     "data": {
      "text/html": [
       "<div>\n",
       "<style scoped>\n",
       "    .dataframe tbody tr th:only-of-type {\n",
       "        vertical-align: middle;\n",
       "    }\n",
       "\n",
       "    .dataframe tbody tr th {\n",
       "        vertical-align: top;\n",
       "    }\n",
       "\n",
       "    .dataframe thead th {\n",
       "        text-align: right;\n",
       "    }\n",
       "</style>\n",
       "<table border=\"1\" class=\"dataframe\">\n",
       "  <thead>\n",
       "    <tr style=\"text-align: right;\">\n",
       "      <th></th>\n",
       "      <th>Sample ID</th>\n",
       "      <th>Patient</th>\n",
       "      <th>Status</th>\n",
       "      <th>Project</th>\n",
       "      <th>Sample Location</th>\n",
       "      <th>Inflamed</th>\n",
       "      <th>Slide</th>\n",
       "      <th>GRID ID</th>\n",
       "      <th>Procedure Date</th>\n",
       "      <th>Age</th>\n",
       "      <th>Sex</th>\n",
       "      <th>Race</th>\n",
       "      <th>Hispanic</th>\n",
       "      <th>Diagnosis</th>\n",
       "      <th>Project.1</th>\n",
       "      <th>Procedure</th>\n",
       "      <th>Disease Status</th>\n",
       "      <th>Date Collected</th>\n",
       "      <th>Date Sectioned</th>\n",
       "      <th>Date of Hybridization</th>\n",
       "      <th>Storage in 4C</th>\n",
       "      <th>Created By</th>\n",
       "      <th>Created</th>\n",
       "      <th>Storage Status</th>\n",
       "      <th>Sample Location.1</th>\n",
       "      <th>Storage Row</th>\n",
       "      <th>Storage Col</th>\n",
       "      <th>Checked Out By</th>\n",
       "      <th>Stricture</th>\n",
       "      <th>Condition</th>\n",
       "      <th>file_path</th>\n",
       "    </tr>\n",
       "    <tr>\n",
       "      <th>Sample</th>\n",
       "      <th></th>\n",
       "      <th></th>\n",
       "      <th></th>\n",
       "      <th></th>\n",
       "      <th></th>\n",
       "      <th></th>\n",
       "      <th></th>\n",
       "      <th></th>\n",
       "      <th></th>\n",
       "      <th></th>\n",
       "      <th></th>\n",
       "      <th></th>\n",
       "      <th></th>\n",
       "      <th></th>\n",
       "      <th></th>\n",
       "      <th></th>\n",
       "      <th></th>\n",
       "      <th></th>\n",
       "      <th></th>\n",
       "      <th></th>\n",
       "      <th></th>\n",
       "      <th></th>\n",
       "      <th></th>\n",
       "      <th></th>\n",
       "      <th></th>\n",
       "      <th></th>\n",
       "      <th></th>\n",
       "      <th></th>\n",
       "      <th></th>\n",
       "      <th></th>\n",
       "      <th></th>\n",
       "    </tr>\n",
       "  </thead>\n",
       "  <tbody>\n",
       "    <tr>\n",
       "      <th>Uninflamed-50452A</th>\n",
       "      <td>50452A</td>\n",
       "      <td>50452</td>\n",
       "      <td>Available</td>\n",
       "      <td>scRNA &amp; Spatial</td>\n",
       "      <td>Terminal Ileum</td>\n",
       "      <td>uninflamed</td>\n",
       "      <td>0010700</td>\n",
       "      <td>1011335</td>\n",
       "      <td>2023-12-04</td>\n",
       "      <td>69</td>\n",
       "      <td>female</td>\n",
       "      <td>white</td>\n",
       "      <td>NO</td>\n",
       "      <td>Crohn's Disease</td>\n",
       "      <td>Helmsley-Senescence</td>\n",
       "      <td>Resection</td>\n",
       "      <td>Active</td>\n",
       "      <td>NaN</td>\n",
       "      <td>2024-01-22 15:25:38</td>\n",
       "      <td>2024-01-23 15:25:58</td>\n",
       "      <td>YES</td>\n",
       "      <td>ksenija sabic</td>\n",
       "      <td>2024-02-06 15:26:47.887</td>\n",
       "      <td>Not in storage</td>\n",
       "      <td>NaN</td>\n",
       "      <td>NaN</td>\n",
       "      <td>NaN</td>\n",
       "      <td>NaN</td>\n",
       "      <td>None</td>\n",
       "      <td>Uninflamed</td>\n",
       "      <td>/mnt/cho_lab/disk2/elizabeth/data/shared-xeniu...</td>\n",
       "    </tr>\n",
       "    <tr>\n",
       "      <th>Inflamed-50452B</th>\n",
       "      <td>50452B</td>\n",
       "      <td>50452</td>\n",
       "      <td>Available</td>\n",
       "      <td>scRNA &amp; Spatial</td>\n",
       "      <td>Terminal Ileum</td>\n",
       "      <td>inflamed</td>\n",
       "      <td>0010700</td>\n",
       "      <td>1011335</td>\n",
       "      <td>2023-12-04</td>\n",
       "      <td>69</td>\n",
       "      <td>female</td>\n",
       "      <td>white</td>\n",
       "      <td>NO</td>\n",
       "      <td>Crohn's Disease</td>\n",
       "      <td>Helmsley-Senescence</td>\n",
       "      <td>Resection</td>\n",
       "      <td>Active</td>\n",
       "      <td>NaN</td>\n",
       "      <td>2024-01-22 00:00:00</td>\n",
       "      <td>2024-01-23 00:00:00</td>\n",
       "      <td>YES</td>\n",
       "      <td>ksenija sabic</td>\n",
       "      <td>2024-02-06 15:26:47.887</td>\n",
       "      <td>Not in storage</td>\n",
       "      <td>NaN</td>\n",
       "      <td>NaN</td>\n",
       "      <td>NaN</td>\n",
       "      <td>NaN</td>\n",
       "      <td>None</td>\n",
       "      <td>Inflamed</td>\n",
       "      <td>/mnt/cho_lab/disk2/elizabeth/data/shared-xeniu...</td>\n",
       "    </tr>\n",
       "    <tr>\n",
       "      <th>Stricture-50452C</th>\n",
       "      <td>50452C</td>\n",
       "      <td>50452</td>\n",
       "      <td>Available</td>\n",
       "      <td>scRNA &amp; Spatial</td>\n",
       "      <td>Terminal Ileum (stricture)</td>\n",
       "      <td>inflamed</td>\n",
       "      <td>0010663</td>\n",
       "      <td>1011335</td>\n",
       "      <td>2023-12-04</td>\n",
       "      <td>69</td>\n",
       "      <td>female</td>\n",
       "      <td>white</td>\n",
       "      <td>NO</td>\n",
       "      <td>Crohn's Disease</td>\n",
       "      <td>Helmsley-Senescence</td>\n",
       "      <td>Resection</td>\n",
       "      <td>Active</td>\n",
       "      <td>NaN</td>\n",
       "      <td>2024-01-22 00:00:00</td>\n",
       "      <td>2024-01-23 00:00:00</td>\n",
       "      <td>YES</td>\n",
       "      <td>ksenija sabic</td>\n",
       "      <td>2024-02-06 15:26:47.887</td>\n",
       "      <td>Not in storage</td>\n",
       "      <td>NaN</td>\n",
       "      <td>NaN</td>\n",
       "      <td>NaN</td>\n",
       "      <td>NaN</td>\n",
       "      <td>Stricture</td>\n",
       "      <td>Stricture</td>\n",
       "      <td>/mnt/cho_lab/disk2/elizabeth/data/shared-xeniu...</td>\n",
       "    </tr>\n",
       "  </tbody>\n",
       "</table>\n",
       "</div>"
      ],
      "text/plain": [
       "                  Sample ID  Patient     Status          Project  \\\n",
       "Sample                                                             \n",
       "Uninflamed-50452A    50452A    50452  Available  scRNA & Spatial   \n",
       "Inflamed-50452B      50452B    50452  Available  scRNA & Spatial   \n",
       "Stricture-50452C     50452C    50452  Available  scRNA & Spatial   \n",
       "\n",
       "                              Sample Location    Inflamed    Slide  GRID ID  \\\n",
       "Sample                                                                        \n",
       "Uninflamed-50452A              Terminal Ileum  uninflamed  0010700  1011335   \n",
       "Inflamed-50452B                Terminal Ileum    inflamed  0010700  1011335   \n",
       "Stricture-50452C   Terminal Ileum (stricture)    inflamed  0010663  1011335   \n",
       "\n",
       "                  Procedure Date  Age     Sex   Race Hispanic  \\\n",
       "Sample                                                          \n",
       "Uninflamed-50452A     2023-12-04   69  female  white       NO   \n",
       "Inflamed-50452B       2023-12-04   69  female  white       NO   \n",
       "Stricture-50452C      2023-12-04   69  female  white       NO   \n",
       "\n",
       "                         Diagnosis            Project.1  Procedure  \\\n",
       "Sample                                                               \n",
       "Uninflamed-50452A  Crohn's Disease  Helmsley-Senescence  Resection   \n",
       "Inflamed-50452B    Crohn's Disease  Helmsley-Senescence  Resection   \n",
       "Stricture-50452C   Crohn's Disease  Helmsley-Senescence  Resection   \n",
       "\n",
       "                  Disease Status  Date Collected      Date Sectioned  \\\n",
       "Sample                                                                 \n",
       "Uninflamed-50452A         Active             NaN 2024-01-22 15:25:38   \n",
       "Inflamed-50452B           Active             NaN 2024-01-22 00:00:00   \n",
       "Stricture-50452C          Active             NaN 2024-01-22 00:00:00   \n",
       "\n",
       "                  Date of Hybridization Storage in 4C     Created By  \\\n",
       "Sample                                                                 \n",
       "Uninflamed-50452A   2024-01-23 15:25:58           YES  ksenija sabic   \n",
       "Inflamed-50452B     2024-01-23 00:00:00           YES  ksenija sabic   \n",
       "Stricture-50452C    2024-01-23 00:00:00           YES  ksenija sabic   \n",
       "\n",
       "                                  Created  Storage Status  Sample Location.1  \\\n",
       "Sample                                                                         \n",
       "Uninflamed-50452A 2024-02-06 15:26:47.887  Not in storage                NaN   \n",
       "Inflamed-50452B   2024-02-06 15:26:47.887  Not in storage                NaN   \n",
       "Stricture-50452C  2024-02-06 15:26:47.887  Not in storage                NaN   \n",
       "\n",
       "                   Storage Row  Storage Col  Checked Out By  Stricture  \\\n",
       "Sample                                                                   \n",
       "Uninflamed-50452A          NaN          NaN             NaN       None   \n",
       "Inflamed-50452B            NaN          NaN             NaN       None   \n",
       "Stricture-50452C           NaN          NaN             NaN  Stricture   \n",
       "\n",
       "                    Condition  \\\n",
       "Sample                          \n",
       "Uninflamed-50452A  Uninflamed   \n",
       "Inflamed-50452B      Inflamed   \n",
       "Stricture-50452C    Stricture   \n",
       "\n",
       "                                                           file_path  \n",
       "Sample                                                                \n",
       "Uninflamed-50452A  /mnt/cho_lab/disk2/elizabeth/data/shared-xeniu...  \n",
       "Inflamed-50452B    /mnt/cho_lab/disk2/elizabeth/data/shared-xeniu...  \n",
       "Stricture-50452C   /mnt/cho_lab/disk2/elizabeth/data/shared-xeniu...  "
      ]
     },
     "execution_count": 4,
     "metadata": {},
     "output_type": "execute_result"
    }
   ],
   "source": [
    "# Column Names\n",
    "col_sample_id_original = \"Sample ID\"\n",
    "col_sample_id = \"Sample\"\n",
    "col_subject = \"Patient\"\n",
    "col_batch = \"Slide\"\n",
    "col_path = \"file_path\"\n",
    "# col_date_time, col_date = \"Date Sectioned\", \"Date\"\n",
    "col_date_time, col_date = None, None\n",
    "col_inflamed, col_stricture = \"Inflamed\", \"Stricture\"\n",
    "col_condition = \"Condition\"\n",
    "meta_rn = {\"Name\": col_subject, \"Slide ID\": col_batch,\n",
    "           \"Inflammation Status\": col_inflamed}\n",
    "\n",
    "# Directories & Metadata\n",
    "# Replace manually or mirror my file/directory tree in your home\n",
    "include_stricture = True\n",
    "run = \"CHO-001\"\n",
    "samples = [\"50452A\", \"50452B\", \"50452C\"]\n",
    "# samples = [\"50452A\", \"50452B\", \"50452C\", \"50564A4\", \"50618B5\"]\n",
    "# run = [\"CHO-001\"] * 3 + [\"CHO-002\"] * 3\n",
    "panel_id = \"TUQ97N\"\n",
    "prefix = \"output-XETG00189\"\n",
    "project_owner = \"EA\"\n",
    "ddu = os.path.expanduser(\"~\")\n",
    "ddl = \"/mnt/cho_lab/disk2/elizabeth/data/shared-xenium-library\"\n",
    "ddd = os.path.join(ddl, \"outputs\", panel_id)\n",
    "panel = os.path.join(ddu, \"projects/senescence/ProposedGenePanel.xlsx\")\n",
    "file_ann = os.path.join(ddu, \"corescpy/examples/annotation_guide.xlsx\")\n",
    "\n",
    "# Input/Output Options\n",
    "reload = True\n",
    "out_dir = os.path.join(ddd, \"nebraska\")  # set to None to avoid saving\n",
    "if not os.path.exists(out_dir):\n",
    "    os.makedirs(out_dir)\n",
    "\n",
    "# Computing Resources\n",
    "gpu = False\n",
    "sc.settings.n_jobs = 4\n",
    "sc.settings.max_memory = 100\n",
    "\n",
    "# Read Metadata & Other Information\n",
    "annot_df = pd.read_excel(file_ann)\n",
    "metadata = pd.read_excel(os.path.join(ddl, \"Xenium_Samples_02092024.xlsx\"),\n",
    "                         dtype={\"Slide ID\": str})\n",
    "metadata = metadata.rename(meta_rn, axis=1)\n",
    "if samples not in [\"all\", None]:  # subset by sample ID?\n",
    "    metadata = metadata.set_index(col_sample_id_original).loc[\n",
    "        samples].reset_index()\n",
    "\n",
    "# Processing & Clustering Options\n",
    "resolution = 1.5\n",
    "min_dist = 0.3\n",
    "n_comps = 50\n",
    "# col_qscore = ?\n",
    "# custom_thresholds = {col_qscore: [, None]}\n",
    "custom_thresholds = None\n",
    "genes_subset = list(annot_df.iloc[:, 0])\n",
    "kws_pp = dict(cell_filter_pmt=None, cell_filter_ncounts=[50, None],\n",
    "              cell_filter_ngene=[30, None], gene_filter_ncell=[3, None],\n",
    "              gene_filter_ncounts=[3, None],\n",
    "              custom_thresholds=custom_thresholds,\n",
    "              kws_scale=dict(max_value=10, zero_center=True))\n",
    "kws_umap = dict(min_dist=min_dist, method=\"rapids\") if gpu is True else dict(\n",
    "    min_dist=min_dist)\n",
    "kws_cluster = dict(use_gpu=gpu, kws_umap=kws_umap, kws_neighbors=None,\n",
    "                   use_highly_variable=False, n_comps=n_comps,\n",
    "                   genes_subset=genes_subset, resolution=resolution)\n",
    "cell_types = None\n",
    "genes = [\"CDKN1A\", \"CDKN2A\", \"TP53\", \"PLAUR\", \"PTGER4\", \"FTL\", \"IL6ST\",\n",
    "         \"CSF2RB\", \"CSF2RA\", \"IL7R\", \"TBX21\", \"KLRB1\", \"CCL5\", \"HSP90AA1\",\n",
    "         \"RORC\", \"IL23R\", \"KIT\", \"CCL20\", \"TCF7\", \"LTB\", \"IL22\", \"IFNG\",\n",
    "         \"PDGFRA\", \"PTPN1\", \"OSM\", \"IL13\", \"IL1B\", \"IL6\", \"TNF\", \"S100A8\",\n",
    "         \"S100A9\", \"NOD2\", \"LACC1\", \"LRRK2\"]\n",
    "\n",
    "# Revise Metadata & Construct Variables from Options\n",
    "if col_stricture not in metadata.columns:\n",
    "    metadata.loc[:, col_stricture] = metadata[\"Sample Location\"].apply(\n",
    "        lambda x: \"Stricture\" if \"stricture\" in x.lower() else \"None\")\n",
    "metadata.loc[:, col_condition] = metadata.apply(\n",
    "    lambda x: \"Stricture\" if \"stricture\" in x[col_stricture].lower() else x[\n",
    "        col_inflamed].capitalize() , axis=1)\n",
    "if col_date_time:\n",
    "    metadata.loc[:, col_date] = metadata[col_date_time].apply(\n",
    "        lambda x: datetime.strftime(x, \"%Y%m%d\"))\n",
    "    dates = list(metadata[col_date])\n",
    "else:\n",
    "    dates = None\n",
    "metadata.loc[:, col_sample_id] = metadata.apply(\n",
    "    lambda x: f\"{x[col_condition]}-{x[col_sample_id_original]}\" , axis=1)\n",
    "metadata = metadata.set_index(col_sample_id)\n",
    "metadata.loc[:, col_path] = construct_file(\n",
    "    list(metadata[col_sample_id_original]), list(metadata[col_batch]),\n",
    "    dates, panel_id=panel_id, prefix=prefix,\n",
    "    project_owner=project_owner, run=run, directory=ddl)\n",
    "col_cell_type = \"Annotation\"\n",
    "file_path_dict = dict(zip(metadata.index.values, metadata[\"file_path\"]))\n",
    "kws_init = dict(col_batch=col_batch, col_subject=col_subject,\n",
    "                col_sample_id=col_sample_id, col_cell_type=col_cell_type)\n",
    "\n",
    "# Output Files\n",
    "suff = str(f\"res{re.sub('[.]', 'pt', str(resolution))}_dist\"\n",
    "           f\"{re.sub('[.]', 'pt', str(min_dist))}_npc{n_comps}\")  # file end\n",
    "\n",
    "# Annotation File\n",
    "col_assignment = \"Type\"\n",
    "assign = pd.read_excel(file_ann, index_col=0)\n",
    "sources = assign[col_assignment].unique()\n",
    "rename = dict(zip(sources, [\" \".join([i.capitalize() if i and i[\n",
    "    0] != \"(\" and not i.isupper() and i not in [\n",
    "        \"IgG\", \"IgA\"] else i for i in x.split(\" \")]) if len(x.split(\n",
    "            \" \")) > 1 else x for x in [re.sub(\"glia\", \"Glia\", re.sub(\n",
    "                \"_\", \" \", j)) for j in sources]]))\n",
    "assign.loc[:, col_assignment] = assign[col_assignment].replace(rename)\n",
    "assign = assign.rename_axis(\"Gene\")\n",
    "assign.columns = [col_assignment]\n",
    "marker_gene_dict = dict(assign.reset_index().groupby(col_assignment).apply(\n",
    "    lambda x: list(pd.unique(x.Gene))))  # to marker dictionary\n",
    "\n",
    "# Subset if Desired\n",
    "if include_stricture is False:\n",
    "    metadata = metadata[metadata.Stricture != \"Stricture\"]\n",
    "metadata\n",
    "\n",
    "# Genes\n",
    "# genes = [\"CDKN1A\", \"CDKN2A\", \"TP53\", \"PLAUR\", \"PTGER4\", \"FTL\", \"IL6ST\"]\n",
    "# cell_types = [\"ILC3\", \"LTi-like NCR+ ILC3\", \"LTi-like NCR- ILC3\",\n",
    "#               \"ILCP\", \"Macrophages\", \"Stem cells\"]\n",
    "# palette = [\"r\", \"tab:pink\", \"m\", \"b\", \"tab:brown\", \"cyan\"]\n",
    "# High in inf. vs. un\n",
    "# OSM\n",
    "# IL13\n",
    "# IL1B\n",
    "# IL6\n",
    "# TNF\n",
    "# S100A8\n",
    "# S100A9\n",
    "# ------------------------------\n",
    "# High in stricture vs inf/un\n",
    "# PDGFRA\n",
    "# IL6ST\n",
    "# PTPN1\n",
    "# IFNG"
   ]
  },
  {
   "cell_type": "markdown",
   "metadata": {},
   "source": [
    "## Re-Name Files in Standard Form Using Object"
   ]
  },
  {
   "cell_type": "code",
   "execution_count": null,
   "metadata": {},
   "outputs": [],
   "source": [
    "# fff = list(pd.Series([x if \"h5ad\" in x else np.nan for x in os.listdir(\n",
    "#     out_dir)]).dropna())\n",
    "# frn = []\n",
    "# for x in fff:\n",
    "#     ann = sc.read(os.path.join(out_dir, x))\n",
    "#     kwu = re.sub(\"{\", \"\", re.sub(\"}\", \"\", str(ann.obs.iloc[0].kws_umap))\n",
    "#                  ).split(\", \")\n",
    "#     kwu = np.array(kwu)[np.where([\"min_dist\" in x for x in kwu])[\n",
    "#         0]][0].split(\": \")[1]\n",
    "#     frn += [str(f\"{str(ann.obs.iloc[0][col_sample_id])}__\"\n",
    "#                 f\"res{str(ann.obs.iloc[0].resolution)}\"\n",
    "#                 f\"_dist{kwu}_npc{ann.varm['PCs'].shape[1]}\")]\n",
    "# frd = dict(zip([os.path.join(out_dir, i) for i in fff], [os.path.join(\n",
    "#     out_dir, re.sub(\"[.]\", \"pt\", re.sub(\"[.]h5ad\", \"\", i)) + \".h5ad\")\n",
    "#                                                          for i in frn]))\n",
    "# frd\n",
    "# # for x in frd:\n",
    "# #     os.system(f\"mv {x} {frd[x]}\")"
   ]
  },
  {
   "cell_type": "markdown",
   "metadata": {},
   "source": [
    "# Data"
   ]
  },
  {
   "cell_type": "markdown",
   "metadata": {},
   "source": [
    "## Loading"
   ]
  },
  {
   "cell_type": "code",
   "execution_count": 5,
   "metadata": {},
   "outputs": [
    {
     "name": "stdout",
     "output_type": "stream",
     "text": [
      "\n",
      "\n",
      "<<< INITIALIZING SPATIAL CLASS OBJECT >>>\n",
      "\n",
      "\n",
      "\n",
      "<<< INITIALIZING OMICS CLASS OBJECT >>>\n",
      "\n",
      "Unused keyword arguments: {'library_id': 'Uninflamed-50452A', 'visium': False}.\n",
      "\n",
      "\n",
      "\n",
      "\n",
      "col_gene_symbols=\"gene_symbols\"\n",
      "col_cell_type=\"Annotation\"\n",
      "col_sample_id=\"Sample\"\n",
      "col_batch=\"Slide\"\n",
      "col_subject=\"Patient\"\n",
      "col_condition=None\n",
      "col_num_umis=None\n",
      "\n",
      "\n",
      "\n",
      "key_control=None\n",
      "key_treatment=None\n",
      "\u001b[34mINFO    \u001b[0m reading                                                                                                   \n",
      "         \u001b[35m/mnt/cho_lab/disk2/elizabeth/data/shared-xenium-library/outputs/TUQ97N/CHO-001/output-XETG00189__0010700__\u001b[0m\n",
      "         \u001b[35m50452A-TUQ97N-EA__20240126__205019/\u001b[0m\u001b[95mcell_feature_matrix.h5\u001b[0m                                                 \n"
     ]
    }
   ],
   "source": [
    "%%time\n",
    "\n",
    "suff = str(f\"res{re.sub('[.]', 'pt', str(resolution))}_dist\"\n",
    "           f\"{re.sub('[.]', 'pt', str(min_dist))}_npc{n_comps}\")  # file end\n",
    "selves, paths_he, file_mks, out_files = [], [], [], []\n",
    "for x in metadata.index.values:\n",
    "    self = cr.Spatial(metadata.loc[x][col_path], library_id=x, **kws_init)\n",
    "    for i in metadata:  # add metadata for subject\n",
    "        self.rna.obs.loc[:, i] = str(metadata.loc[x][i])  # add metadata\n",
    "    selves += [self]\n",
    "    paths_he += [os.path.join(metadata.loc[x][\n",
    "        col_path], \"aux_outputs/image_he.tif\")]  # H&E paths\n",
    "        # out_files += [os.path.join(out_dir, f\"{x}.zarr\")]\n",
    "    if out_dir is not None:\n",
    "        out_files += [os.path.join(out_dir, f\"{x}__{suff}.zarr\")]\n",
    "    file_mks += [os.path.join(out_dir, f\"{x}__{suff}_markers.csv\")]"
   ]
  },
  {
   "cell_type": "code",
   "execution_count": null,
   "metadata": {},
   "outputs": [],
   "source": [
    "# threshold = 20\n",
    "# self.adata.points[\"transcripts\"][self.adata.points[\"transcripts\"].qv >= threshold].compute().shape\n"
   ]
  },
  {
   "cell_type": "code",
   "execution_count": null,
   "metadata": {},
   "outputs": [],
   "source": [
    "dir(img)"
   ]
  },
  {
   "cell_type": "code",
   "execution_count": null,
   "metadata": {},
   "outputs": [],
   "source": [
    "    import tifffile as tiff\n",
    "\n",
    "    p = paths_he[i]\n",
    "\n",
    "    img = tiff.imread(p)\n",
    "    mg = PIL.moveaxis(img, -1, 1)[0]\n",
    "    img = Image2DModel.parse(img, transformations={\"global\": Identity()},\n",
    "                             dims=(\"c\", \"y\", \"x\"))\n",
    "    self.adata.add_image(\"morphology_he\", img)"
   ]
  },
  {
   "cell_type": "code",
   "execution_count": null,
   "metadata": {},
   "outputs": [],
   "source": [
    "from PIL import Image, ImageFile\n",
    "import spatialdata\n",
    "\n",
    "Image.MAX_IMAGE_PIXELS = None\n",
    "ImageFile.LOAD_TRUNCATED_IMAGES = True\n",
    "\n",
    "img = Image.open(paths_he[i]).convert(\"RGB\")\n",
    "# img = np.asarray(Image.open(paths_he[i]).convert(\n",
    "#     \"RGB\"), dtype=np.float32) / 255\n",
    "self.adata.add_image(\"morphology_he\",\n",
    "                     spatialdata.models.Image2DModel.parse(img))"
   ]
  },
  {
   "cell_type": "code",
   "execution_count": null,
   "metadata": {},
   "outputs": [],
   "source": [
    "self.adata.table.uns[self._spatial_key][\"Stricture-50452C\"][\"images\"][\"Stricture-50452C___morphology_mip_scale3\"].show()"
   ]
  },
  {
   "cell_type": "code",
   "execution_count": null,
   "metadata": {},
   "outputs": [],
   "source": [
    "libs = [self._library_id] if isinstance(self._library_id, str) else self._library_id\n",
    "for s in libs:\n",
    "    self.adata.table.uns[self._spatial_key][s][\"images\"][key] = sq.im.ImageContainer(\n",
    "                adata.images[x][i].image, library_id=library_id)"
   ]
  },
  {
   "cell_type": "code",
   "execution_count": null,
   "metadata": {},
   "outputs": [],
   "source": [
    "self.adata.pl.render_shapes().pl.show()"
   ]
  },
  {
   "cell_type": "code",
   "execution_count": null,
   "metadata": {},
   "outputs": [],
   "source": [
    "cr.pl.plot_tiff()"
   ]
  },
  {
   "cell_type": "code",
   "execution_count": null,
   "metadata": {},
   "outputs": [],
   "source": [
    "self.adata.pl.render_shapes().pl.show()"
   ]
  },
  {
   "cell_type": "code",
   "execution_count": null,
   "metadata": {},
   "outputs": [],
   "source": [
    "dir(plotter)"
   ]
  },
  {
   "cell_type": "code",
   "execution_count": null,
   "metadata": {},
   "outputs": [],
   "source": [
    "dir(self.adata)"
   ]
  },
  {
   "cell_type": "code",
   "execution_count": null,
   "metadata": {},
   "outputs": [],
   "source": [
    "self.adata.images"
   ]
  },
  {
   "cell_type": "code",
   "execution_count": null,
   "metadata": {},
   "outputs": [],
   "source": [
    "self = selves[1]\n",
    "\n",
    "sdata_im = self.adata.aggregate(values=\"transcripts\", by=\"cell_boundaries\", agg_func=\"count\")\n",
    "sdata_im"
   ]
  },
  {
   "cell_type": "code",
   "execution_count": null,
   "metadata": {},
   "outputs": [],
   "source": [
    "self.adata.points[\"transcripts\"].feature_name.compute()"
   ]
  },
  {
   "cell_type": "code",
   "execution_count": null,
   "metadata": {},
   "outputs": [],
   "source": [
    "self.adata.points"
   ]
  },
  {
   "cell_type": "code",
   "execution_count": null,
   "metadata": {},
   "outputs": [],
   "source": [
    "self.adata.shapes[\"cell_boundaries\"]"
   ]
  },
  {
   "cell_type": "code",
   "execution_count": null,
   "metadata": {},
   "outputs": [],
   "source": [
    "plotter = spatialdata_plot.pl.basic.PlotAccessor(self.adata)"
   ]
  },
  {
   "cell_type": "code",
   "execution_count": null,
   "metadata": {},
   "outputs": [],
   "source": [
    "from spatialdata_io.readers.xenium import xenium_aligned_image\n",
    "\n",
    "img = xenium_aligned_image(\"/mnt/cho_lab/disk2/elizabeth/data/shared-xenium-library/outputs/TUQ97N/CHO-001/output-XETG00189__0010700__50452A-TUQ97N-EA__20240126__205019/aux_outputs/50452-A (FFPE) - 2024-01-16 11.36.14.tif\", None)"
   ]
  },
  {
   "cell_type": "code",
   "execution_count": null,
   "metadata": {},
   "outputs": [],
   "source": [
    "dir(img)"
   ]
  },
  {
   "cell_type": "code",
   "execution_count": null,
   "metadata": {},
   "outputs": [],
   "source": [
    "import tiffile\n",
    "\n",
    "dir(tiffile)"
   ]
  },
  {
   "cell_type": "code",
   "execution_count": null,
   "metadata": {},
   "outputs": [],
   "source": [
    "plotter.render_shapes(elements=\"cell_boundaries\").pl.show()"
   ]
  },
  {
   "cell_type": "code",
   "execution_count": null,
   "metadata": {},
   "outputs": [],
   "source": [
    "plotter.render_points(elements=\"transcripts\", color=\"feature_name\", groups=\"CDKN1A\").pl.show(\"global\")"
   ]
  },
  {
   "cell_type": "code",
   "execution_count": null,
   "metadata": {},
   "outputs": [],
   "source": [
    "self.show(kinds=[\"images\", \"shapes\"], elements=[\"cell_boundaries\", \"morphology_mip\"], color={\"morphology_mip\": \"Annotation\"})\n",
    "# self.show(kinds=\"all\", elements=[\"IL23\", \"cell_boundaries\", \"morphology_mip\"])"
   ]
  },
  {
   "cell_type": "code",
   "execution_count": null,
   "metadata": {},
   "outputs": [],
   "source": [
    "import spatialdata_plot\n",
    "\n",
    "plotter = spatialdata_plot.pl.basic.PlotAccessor(self.adata)\n",
    "# # plotter.render_images(\"morphology_focus\").pl.show()\n",
    "# # plotter.render_points(elements=\"transcripts\", color=\"CDKN1A\").pl.show()\n",
    "# plotter.render_shapes(elements=\"cell_boundaries\", color=\"green\").pl.show()\n",
    "plotter.render_shapes(elements=\"cell_boundaries\", color=\"Annotation\").pl.show(\"global\")"
   ]
  },
  {
   "cell_type": "code",
   "execution_count": null,
   "metadata": {},
   "outputs": [],
   "source": [
    "plotter.render_points(elements=None, color=\"green\", groups=[\"STAT1\"]).pl.show(\"global\")"
   ]
  },
  {
   "cell_type": "code",
   "execution_count": null,
   "metadata": {},
   "outputs": [],
   "source": [
    "self"
   ]
  },
  {
   "cell_type": "code",
   "execution_count": null,
   "metadata": {},
   "outputs": [],
   "source": [
    "self.adata.pl.render_images().pl.render_shapes().pl.show()"
   ]
  },
  {
   "cell_type": "code",
   "execution_count": null,
   "metadata": {},
   "outputs": [],
   "source": [
    "fig, axs = plt.subplots(ncols=3, figsize=(12, 3))\n",
    "\n",
    "sdata.render_images().pl.show(ax=axs[0])\n",
    "sdata.pl.render_labels().pl.show(ax=axs[1])\n",
    "sdata.pl.render_shapes().pl.show(ax=axs[2])\n",
    "sdata.pl.render_images().pl.render_labels().pl.render_shapes().pl.show()"
   ]
  },
  {
   "cell_type": "code",
   "execution_count": null,
   "metadata": {},
   "outputs": [],
   "source": [
    "transcripts = self.read_parquet()\n",
    "transcripts"
   ]
  },
  {
   "cell_type": "code",
   "execution_count": null,
   "metadata": {},
   "outputs": [],
   "source": [
    "dir(self.adata.images[\"morphology_mip\"][\"scale0\"])"
   ]
  },
  {
   "cell_type": "code",
   "execution_count": null,
   "metadata": {},
   "outputs": [],
   "source": [
    "self.adata.images[\"morphology_mip\"][\"scale0\"]"
   ]
  },
  {
   "cell_type": "code",
   "execution_count": null,
   "metadata": {},
   "outputs": [],
   "source": [
    "\n",
    "dir(self.rna.uns[\"spatial\"][self._library_id][\"images\"][\"Stricture-50452C___morphology_mip_scale0\"])"
   ]
  },
  {
   "cell_type": "markdown",
   "metadata": {},
   "source": [
    "## All Data QC"
   ]
  },
  {
   "cell_type": "code",
   "execution_count": null,
   "metadata": {},
   "outputs": [],
   "source": [
    "hue = selves[0]._columns[\"col_sample_id\"]\n",
    "ids = [str(s.rna.obs[hue].iloc[0]) for s in selves]\n",
    "patterns = [(\"MT-\", \"mt-\"), (\"RPS\", \"RPL\", \"rps\", \"rpl\"), (\n",
    "    \"^HB[^(P)]\", \"^hb[^(p)]\")]  # pattern matching for gene symbols\n",
    "patterns = dict(zip([\"mt\", \"ribo\", \"hb\"], patterns))  # dictionary\n",
    "names = dict(zip([\"mt\", \"ribo\", \"hb\"],\n",
    "                    [\"Mitochondrial\", \"Ribosomal\", \"Hemoglobin\"]))\n",
    "p_names = [names[k] if k in names else k for k in patterns]  # \"pretty\"\n",
    "patterns_names = dict(zip(patterns, p_names))  # map abbreviated to pretty\n",
    "adata = AnnData.concatenate(\n",
    "    *[x.rna for x in selves], join=\"outer\", batch_key=hue,\n",
    "    batch_categories=ids, index_unique=None, uns_merge=\"unique\")\n",
    "qc_vars = []  # to hold mt, rb, hb, etc. if present in data\n",
    "for k in patterns:  # calculate MT, RB, HB counts\n",
    "    gvars = adata.var_names.str.startswith(patterns[k])\n",
    "    if any(gvars):\n",
    "        qc_vars += [k]\n",
    "    adata.var[k] = gvars\n",
    "pct_n = [f\"pct_counts_{k}\" for k in qc_vars]  # \"% counts\" variables\n",
    "cgs = selves[0]._columns[\"col_gene_symbols\"] if selves[\n",
    "    0].rna.var.index.values[0] not in selves[0].rna.var_names else None\n",
    "adata.obs = adata.obs.astype({col_condition: \"category\"})\n",
    "ggg = list(set(genes).intersection(adata.var_names))\n",
    "ctm = list(set([\"n_genes_by_counts\", \"total_counts\", \"log1p_total_counts\",\n",
    "                \"cell_area\", \"nucleus_area\"]\n",
    "               ).intersection(adata.obs.columns))\n",
    "vam = pct_n + ctm + [hue]  # QC variable names\n",
    "mets_df = adata.obs[vam].rename_axis(\"Metric\", axis=1).rename(\n",
    "    {\"total_counts\": \"Total Counts in Cell\", \"cell_area\": \"Cell Area\",\n",
    "     \"nucleus_area\": \"Nucleus Area\",\n",
    "     \"n_genes_by_counts\": \"Genes Detected in Cell\",\n",
    "     \"log1p_total_counts\": \"Log-Normalized Total Counts\",\n",
    "     **patterns_names}, axis=1)  # rename\n",
    "fff = sb.pairplot(\n",
    "    mets_df, hue=hue, height=3, diag_kind=\"hist\",\n",
    "    plot_kws=dict(marker=\".\", linewidth=0.05))  # pair"
   ]
  },
  {
   "cell_type": "markdown",
   "metadata": {},
   "source": [
    "## Update from Saved h5ad?"
   ]
  },
  {
   "cell_type": "code",
   "execution_count": null,
   "metadata": {},
   "outputs": [],
   "source": [
    "if reload is True:\n",
    "    for i, s in enumerate(selves):\n",
    "        s.update_from_h5ad(file=out_files[i], file_path_markers=file_mks[i])"
   ]
  },
  {
   "cell_type": "markdown",
   "metadata": {},
   "source": [
    "## Check Genes"
   ]
  },
  {
   "cell_type": "code",
   "execution_count": null,
   "metadata": {},
   "outputs": [],
   "source": [
    "for s in selves:\n",
    "    _ = s.read_panel(directory=os.path.join(\n",
    "        ddd, metadata.loc[s._library_id][\"file_path\"]))"
   ]
  },
  {
   "cell_type": "markdown",
   "metadata": {},
   "source": [
    "## Explore"
   ]
  },
  {
   "cell_type": "code",
   "execution_count": null,
   "metadata": {},
   "outputs": [],
   "source": [
    "[s.print() for s in selves]\n",
    "# kim = f\"{self._library_id}{cr.pp.SPATIAL_IMAGE_KEY_SEP}morphology_mip\"\n",
    "# s.adata.pl.render_images(kim)\n",
    "# print(dir(s.adata.images[kim]))\n",
    "# s.adata.shapes[\"nucleus_boundaries\"]"
   ]
  },
  {
   "cell_type": "markdown",
   "metadata": {},
   "source": [
    "# Whole Process Example"
   ]
  },
  {
   "cell_type": "markdown",
   "metadata": {},
   "source": [
    "## Nebraska"
   ]
  },
  {
   "cell_type": "code",
   "execution_count": null,
   "metadata": {},
   "outputs": [],
   "source": [
    "# self = selves[0]\n",
    "# _ = self.preprocess(**kws_pp)\n",
    "# _ = self.cluster(**kws_cluster)\n",
    "# # self.adata.write(out_files[i], overwrite=True)  # optional, write object\n",
    "# self.calculate_centrality(n_jobs=4)\n",
    "# self.find_cooccurrence(figsize=(60, 20), kws_plot=dict(wspace=3))\n",
    "# self.find_svgs(genes=genes, method=\"moran\", n_perms=10, kws_plot=dict(\n",
    "#     legend_fontsize=\"large\"), figsize=(15, 15))\n",
    "# self.calculate_receptor_ligand(col_condition=False, p_threshold=0.001,\n",
    "#                                remove_ns=True, figsize=(20, 20))"
   ]
  },
  {
   "cell_type": "markdown",
   "metadata": {},
   "source": [
    "## Bare Squidpy"
   ]
  },
  {
   "cell_type": "code",
   "execution_count": null,
   "metadata": {},
   "outputs": [],
   "source": [
    "# import squidpy as sq\n",
    "# import scanpy as sc\n",
    "# import spatialdata_io as sdio\n",
    "\n",
    "# col_cell_type = \"leiden\"\n",
    "# n_jobs = 4\n",
    "# file = file_path_dict[list(file_path_dict.keys())[0]]\n",
    "\n",
    "# sdata = sdio.xenium(file, n_jobs=n_jobs)\n",
    "\n",
    "# sq.gr.spatial_neighbors(sdata.table)\n",
    "# sc.pp.pca(sdata.table)\n",
    "# sc.pp.neighbors(sdata.table)\n",
    "# sc.tl.leiden(sdata.table)\n",
    "# sq.gr.nhood_enrichment(sdata, cluster_key=col_cell_type, seed=1618)\n",
    "# sq.gr.co_occurrence(sdata, cluster_key=col_cell_type, n_jobs=n_jobs)\n",
    "# sq.pl.spatial_scatter(sdata, color=col_cell_type, shape=\"hex\")\n",
    "# cr.pl.plot_cooccurrence(sdata, col_cell_type=col_cell_type)\n",
    "# sq.gr.spatial_autocorr(sdata, mode=\"moran\", n_jobs=n_jobs)\n",
    "# sq.pl.spatial_scatter(adata, color=genes + [col_cell_type], shape=\"hex\")\n",
    "# sdata[0].images[\"morphology_mip\"]"
   ]
  },
  {
   "cell_type": "markdown",
   "metadata": {},
   "source": [
    "# Processing"
   ]
  },
  {
   "cell_type": "markdown",
   "metadata": {},
   "source": [
    "## Preprocessing"
   ]
  },
  {
   "cell_type": "code",
   "execution_count": null,
   "metadata": {},
   "outputs": [],
   "source": [
    "%%time\n",
    "\n",
    "# Perform Pre-Processing\n",
    "if reload is False:\n",
    "    print(kws_pp)\n",
    "    for s in selves:\n",
    "        _ = s.preprocess(**kws_pp, figsize=(20, 20))\n",
    "\n",
    "# Check Remaining Genes\n",
    "for s in selves:\n",
    "    _ = s.read_panel(directory=os.path.join(\n",
    "        ddd, metadata.loc[s._library_id][\"file_path\"]))"
   ]
  },
  {
   "cell_type": "markdown",
   "metadata": {},
   "source": [
    "## Clustering"
   ]
  },
  {
   "cell_type": "code",
   "execution_count": null,
   "metadata": {},
   "outputs": [],
   "source": [
    "%%time\n",
    "\n",
    "# Cluster & Write Objects\n",
    "for i, s in enumerate(selves):\n",
    "    if reload is False:\n",
    "        _ = s.cluster(**kws_cluster, out_file=out_files[i])  # cluster\n",
    "        _ = s.find_markers(n_genes=5, out_file=file_mks[i],\n",
    "                           col_cell_type=\"leiden\", kws_plot=False)  # markers\n",
    "        _ = s.annotate_clusters(file_ann, col_annotation=col_cell_type,\n",
    "                                out_file=out_files[i])  # annotate & write\n",
    "    _ = s.plot_spatial(title=s._library_id, color=col_cell_type)  # plot"
   ]
  },
  {
   "cell_type": "markdown",
   "metadata": {},
   "source": [
    "## Annotation (Method 2)"
   ]
  },
  {
   "cell_type": "code",
   "execution_count": null,
   "metadata": {},
   "outputs": [],
   "source": [
    "%%time\n",
    "\n",
    "col = \"Annotation_GEX\"\n",
    "for i, s in enumerate(selves):\n",
    "    # _ = s.annotate_clusters(file_ann, col_annotation=col, renaming=True)\n",
    "    _ = s.annotate_clusters(file_ann, col_annotation=col,\n",
    "                            renaming=True, method=\"GEX\")\n",
    "    # s._columns[\"col_cell_type\"] = col + \"_GEX\"\n",
    "\n",
    "# Manual Annotations\n",
    "# annots = {\n",
    "#     0: {\"0\": \"Myofibroblast\", \"1\": \"Goblet\", \"2\": \"Cycling B\",\n",
    "#         \"3\": \"Fibroblast\", \"4\": \"Endothelial\",\n",
    "#         # \"5\": \"Goblet\",\n",
    "#         \"5\": \"Epithelial\",\n",
    "#         # \"6\": \"Goblet (Best, 2+?)\", \"7\": \"Myeloid (Macrophage? DC?)\",\n",
    "#         \"6\": \"Epithelial\", \"7\": \"Myeloid\",\n",
    "#         \"8\": \"Mesenchymal-Fibrolastic-Stromal 3\",\n",
    "#         \"9\": \"Plasma\", \"10\": \"T Cell\", \"11\": \"Macrophage, LYVE1+\",\n",
    "#         \"12\": \"Pericyte\", \"13\": \"Endothelial Lymphatic\",\n",
    "#         \"14\": \"Mast\", \"15\": \"Mesenchymal-Myocytic-Myofibroblast\"},\n",
    "#     1: {\"0\": \"Contractile Pericyte\",\n",
    "#         \"1\": \"Mesenchymal-Fibroblastic-Stromal 1,3\",\n",
    "#         \"2\": \"Endothelial\", \"3\": \"B Cell\", \"4\": \"T Cell\",\n",
    "#         \"5\": \"Mesenchymal-Fibroblastic-Stromal 1\", \"6\": \"Myofibroblast\",\n",
    "#         \"7\": \"Epithelial\", \"8\": \"Plasma\", \"9\": \"Macrophage\",\n",
    "#         \"10\": \"Myeloid\", \"11\": \"Mast\",\n",
    "#         \"12\": \"Lymphatic Endothelial\", \"13\": \"Neural\"},\n",
    "#     2: {\"0\": \"B Cell\", \"1\": \"Mesenchymal\", \"2\": \"T/NK Cell\",\n",
    "#         \"3\": \"Mesenchymal-Fibroblastic-Transitional Stromal 1\",\n",
    "#         \"4\": \"Smooth Muscle\", \"5\": \"Endothelial\", \"6\": \"Macrophage\",\n",
    "#         \"7\": \"Lymphatic Endothelial\",\n",
    "#         \"8\": \"Smooth Muscle/Pericyte/Myofibroblast?\",\n",
    "#         \"9\": \"IgA Plasma\", \"10\": \"Cycling B Cell\",\n",
    "#         \"11\": \"Epithelial-Enterocyte-Tuft?\", \"12\": \"Neural\"}\n",
    "# }\n",
    "\n",
    "# ONLY FOR RESOLUTION = 0.75,\n",
    "# JUST CELL TYPE GENES USED IN CLUSTERING,\n",
    "# MIN_DIST = 0.80\n",
    "# rename_annotations = {\n",
    "#     str(\"Activated CD4 T_Branch A4 (IN)_CLP_Colonocyte_Contractile Pericyte\"\n",
    "#         \" (PLN+)_D Cells (SST+)_FCRL4+ Memory B_FDC_Fetal Arterial EC_Glia\"\n",
    "#         \" 2 (ELN+)_ILCP_Lymphoid DC_Macrophages_Mast Cell_Microfold Cell_N\"\n",
    "#         \" Cells (NTS+)_NK Cell_Pericyte_SELL+ CD8 T_Stromal 1 (ADAMDEC1+)\"\n",
    "#         \"_TRGV2 Gdt_cDC2\"): \"Mixed Immune\",\n",
    "#     str(\"Activated CD4 T_BEST2+ Goblet Cell_Branch A4 (IN)_CLP_Colonocyte_\"\n",
    "#         \"Contractile Pericyte (PLN+)_D Cells (SST+)_FCRL4+ Memory B_FDC\"\n",
    "#         \"_Fetal Arterial EC_Glia 2 (ELN+)_ILCP_Immature B_Macrophages\"\n",
    "#         \"_Microfold Cell_NK Cell_Pericyte_SELL+ CD8 T_Stromal 1 (ADAMDEC1+)\"\n",
    "#         \"_TRGV2 Gdt_cDC2_mLTo\"): \"Immune (Lymphoid?)\",\n",
    "#     str(\"Activated CD4 T_Branch A4 (IN)_CLP_Colonocyte_Contractile Pericyte\"\n",
    "#         \" (PLN+)_D Cells (SST+)_FCRL4+ Memory B_FDC_Fetal Arterial EC_Glia\"\n",
    "#         \" 2 (ELN+)_ILCP_Lymphoid DC_Macrophages_Mast Cell_Microfold Cell_N\"\n",
    "#         \" Cells (NTS+)_NK Cell_Pericyte_SELL+ CD8 T_Stromal 1 (ADAMDEC1+)_\"\n",
    "#         \"TRGV2 Gdt_cDC2\"): \"Mixed Immune\",\n",
    "#     str(\"Activated CD4 T_Branch A4 (IN)_CD8 Tmem_CLP_FCRL4+ Memory B_FDC_\"\n",
    "#         \"Fetal Arterial EC_Glia 2 (ELN+)_ILCP_Lti-like NCR+ ILC3_Lymphoid\"\n",
    "#         \" DC_Macrophages_Mast Cell_Megakaryocyte_Microfold Cell_NK Cell_\"\n",
    "#         \"Pericyte_SELL+ CD8 T_TRGV2 Gdt_mLTo\"): \"Mixed Immune\",\n",
    "#     str(\"Activated CD4 T_Branch A4 (IN)_CLP_Distal Progenitor_FCRL4+ Memory\"\n",
    "#         \" B_FDC_Fetal Arterial EC_Glia 2 (ELN+)_ILC3_Lti-like NCR+ ILC3_\"\n",
    "#         \"Macrophages_Mast Cell_Microfold Cell_Monocytes_Pericyte_Proximal \"\n",
    "#         \"Progenitor_SELL+ CD8 T_Stromal 1 (ADAMDEC1+)_\"\n",
    "#         \"TRGV2 Gdt\"): \"B_T_ILC\",\n",
    "#     str(\"Angiogenic Pericyte_Immature Pericyte_LYVE1+ Macrophage\"\n",
    "#         ): \"Pericyte_Macrophage\"}\n",
    "\n",
    "rename_annotations = None\n",
    "\n",
    "# Rename Annotations\n",
    "if rename_annotations is not None:\n",
    "    for i, s in enumerate(selves):\n",
    "        # s.rna.obs.loc[:, \"Annotation_EA\"] = s.rna.obs[\n",
    "        #     \"leiden\"].replace(annots[i])\n",
    "        s.rna.obs.loc[:, \"Annotation_Auto\"] = s.rna.obs[\"Annotation\"].copy()\n",
    "        s.rna.obs.loc[:, \"Annotation\"] = s.rna.obs[\"Annotation\"].replace(\n",
    "            rename_annotations if isinstance(\n",
    "                rename_annotations, dict) else rename_annotations[i])\n",
    "    [print(list(s.rna.obs[\"Annotation\"].unique())) for s in selves]\n",
    "\n",
    "# Plot Spatial\n",
    "for s in selves:\n",
    "    s.plot_spatial(title=s._library_id, color=col)"
   ]
  },
  {
   "cell_type": "code",
   "execution_count": null,
   "metadata": {},
   "outputs": [],
   "source": [
    "self.rna.var_names"
   ]
  },
  {
   "cell_type": "code",
   "execution_count": null,
   "metadata": {},
   "outputs": [],
   "source": [
    "assign"
   ]
  },
  {
   "cell_type": "markdown",
   "metadata": {},
   "source": [
    "## Marker Plots (Additional)"
   ]
  },
  {
   "cell_type": "code",
   "execution_count": null,
   "metadata": {},
   "outputs": [],
   "source": [
    "_ = self.plot(kind=\"heat\", swap_axes=True, vmax=10,\n",
    "              marker_genes_dict=marker_genes_dict, layer=\"counts\")"
   ]
  },
  {
   "cell_type": "markdown",
   "metadata": {},
   "source": [
    "## Concatenate AnnData"
   ]
  },
  {
   "cell_type": "code",
   "execution_count": null,
   "metadata": {},
   "outputs": [],
   "source": [
    "hue = selves[0]._columns[\"col_sample_id\"]\n",
    "ids = [str(s.rna.obs[hue].iloc[0]) for s in selves]\n",
    "adata = AnnData.concatenate(\n",
    "    *[x.rna for x in selves], join=\"outer\", batch_key=hue,\n",
    "    batch_categories=ids, index_unique=None, uns_merge=\"unique\")"
   ]
  },
  {
   "cell_type": "markdown",
   "metadata": {},
   "source": [
    "## Preliminary Exploration"
   ]
  },
  {
   "cell_type": "code",
   "execution_count": null,
   "metadata": {},
   "outputs": [],
   "source": [
    "# for s in selves:\n",
    "#     _ = s.read_panel(directory=metadata[s._library_id][\"file_path\"])\n",
    "# for s in selves:\n",
    "#     s.plot_umap(color=genes + [self._columns[\"col_cell_type\"]],\n",
    "#                 layer=\"scaled\", cmap=\"coolwarm\", vcenter=0)\n",
    "cct = selves[0]._columns[\"col_cell_type\"]\n",
    "for g in [[\"CDKN1A\", \"CDKN2A\", \"TP53\", \"PLAUR\", \"PTGER4\", \"FTL\", \"IL6ST\"],\n",
    "          [\"CSF2RB\", \"CSF2RA\", \"IL7R\", \"TBX21\", \"KLRB1\", \"CCL5\", \"HSP90AA1\",\n",
    "           \"RORC\", \"IL23R\", \"KIT\", \"CCL20\", \"TCF7\", \"LTB\", \"IL22\", \"IFNG\"],\n",
    "          [\"PDGFRA\", \"IL6ST\", \"PTPN1\", \"IFNG\"]]:\n",
    "    ggg = list(set(g).intersection(adata.var_names))\n",
    "    cr.pl.plot_cat_split(adata, col_inflamed, col_cell_type=cct,\n",
    "                         genes=ggg, kind=\"box\")\n",
    "    cr.pl.plot_cat_split(adata, col_inflamed, col_cell_type=cct,\n",
    "                         genes=ggg, columns=col_stricture, kind=\"box\")"
   ]
  },
  {
   "cell_type": "markdown",
   "metadata": {},
   "source": [
    "# Analyses"
   ]
  },
  {
   "cell_type": "markdown",
   "metadata": {},
   "source": [
    "## Centrality Scores"
   ]
  },
  {
   "cell_type": "code",
   "execution_count": null,
   "metadata": {},
   "outputs": [],
   "source": [
    "%%time\n",
    "\n",
    "for s in selves:\n",
    "    s.calculate_centrality(n_jobs=sc.settings.n_jobs)"
   ]
  },
  {
   "cell_type": "markdown",
   "metadata": {},
   "source": [
    "## Cell Type Co-Occurrence"
   ]
  },
  {
   "cell_type": "code",
   "execution_count": null,
   "metadata": {},
   "outputs": [],
   "source": [
    "%%time\n",
    "\n",
    "for s in selves:\n",
    "    _ = s.find_cooccurrence(figsize=(60, 20), kws_plot=dict(wspace=3))"
   ]
  },
  {
   "cell_type": "markdown",
   "metadata": {},
   "source": [
    "## Neighborhood Enrichment Analysis"
   ]
  },
  {
   "cell_type": "code",
   "execution_count": null,
   "metadata": {},
   "outputs": [],
   "source": [
    "%%time\n",
    "\n",
    "for s in selves:\n",
    "    _ = s.calculate_neighborhood(figsize=(60, 30))"
   ]
  },
  {
   "cell_type": "markdown",
   "metadata": {},
   "source": [
    "## Spatial Clustering"
   ]
  },
  {
   "cell_type": "code",
   "execution_count": null,
   "metadata": {},
   "outputs": [],
   "source": [
    "for s in selves:\n",
    "    _ = s.cluster_spatial()"
   ]
  },
  {
   "cell_type": "markdown",
   "metadata": {},
   "source": [
    "## Spatially-Variable Genes"
   ]
  },
  {
   "cell_type": "code",
   "execution_count": null,
   "metadata": {},
   "outputs": [],
   "source": [
    "%%time\n",
    "\n",
    "kws = dict(kws_plot=dict(legend_fontsize=\"large\"), figsize=(15, 15))\n",
    "for s in selves:\n",
    "    _ = s.find_svgs(genes=genes, method=\"moran\", n_perms=10, **kws)"
   ]
  },
  {
   "cell_type": "markdown",
   "metadata": {},
   "source": [
    "## Receptor-Ligand Interactions"
   ]
  },
  {
   "cell_type": "code",
   "execution_count": null,
   "metadata": {},
   "outputs": [],
   "source": [
    "%%time\n",
    "\n",
    "for s in selves:\n",
    "    # kss, ktt = [s.rna.obs[s._columns[\"col_cell_type\"]].unique(\n",
    "    #     ).to_list()[i:(4 + i)] for i in [1, 2]]\n",
    "    kss, ktt = None, None\n",
    "    _ = s.calculate_receptor_ligand(\n",
    "        col_condition=False, p_threshold=0.01, remove_ns=True,\n",
    "        figsize=(30, 10), top_n=25, key_sources=kss, key_targets=ktt)\n",
    "    # s.calculate_receptor_ligand_spatial()"
   ]
  },
  {
   "cell_type": "markdown",
   "metadata": {},
   "source": [
    "## Cell Type Composition "
   ]
  },
  {
   "cell_type": "code",
   "execution_count": null,
   "metadata": {},
   "outputs": [],
   "source": [
    "for s in selves:\n",
    "    s.run_composition_analysis()"
   ]
  },
  {
   "cell_type": "markdown",
   "metadata": {},
   "source": [
    "## GEX"
   ]
  },
  {
   "cell_type": "code",
   "execution_count": null,
   "metadata": {},
   "outputs": [],
   "source": [
    "for s in selves:\n",
    "    s.plot_spatial(color=[\"TNF\", \"IL23\", col_cell_type])"
   ]
  },
  {
   "cell_type": "code",
   "execution_count": null,
   "metadata": {},
   "outputs": [],
   "source": [
    "_ = self.calculate_spatial_distance(\"LTi-like NCR+ ILC3\", genes=\"CSF2RB\")"
   ]
  },
  {
   "cell_type": "code",
   "execution_count": null,
   "metadata": {},
   "outputs": [],
   "source": [
    "adata.X = adata.layers[\"counts\"]\n",
    "sq.tl.var_by_distance(\n",
    "    adata, \"LTi-like NCR+ ILC3\", col_cell_type, library_key=col_sample_id,\n",
    "    design_matrix_key=\"design_matrix\", covariates=[\"Patient\", \"Inflamed\"],\n",
    "    metric=\"euclidean\", spatial_key=self._spatial_key, copy=False)\n",
    "sq.pl.var_by_distance(\n",
    "    adata=adata, var=[\"CSF2RB\", \"CSF2RA\", \"IL7R\"],\n",
    "    anchor_key=\"LTi-like NCR+ ILC3\",\n",
    "    covariate=\"Inflamed\")"
   ]
  },
  {
   "cell_type": "markdown",
   "metadata": {},
   "source": [
    "## Compare GEX"
   ]
  },
  {
   "cell_type": "code",
   "execution_count": null,
   "metadata": {},
   "outputs": [],
   "source": [
    "# goi = [\"CSF2\", \"CSF2RB\", \"CSF2RA\", \"CDKN1A\", \"CDKN2A\", \"TP53\", \"PLAUR\"]\n",
    "# goi = [\"CDKN1A\", \"CDKN2A\", \"TP53\", \"PLAUR\", \"PTGER4\", \"FTL\", \"IL6ST\", \"CSF2\",\n",
    "#        \"CSF2RB\", \"CSF2RA\", \"IL7R\", \"TBX21\", \"KLRB1\", \"CCL5\", \"HSP90AA1\",\n",
    "#        \"RORC\", \"IL23R\", \"KIT\", \"CCL20\", \"TCF7\", \"LTB\", \"IL22\", \"IFNG\"]\n",
    "# goi = genes\n",
    "\n",
    "# fig, axs = selves[0].plot_compare_spatial(selves[1:], goi)\n",
    "\n",
    "# fig, axs = plt.subplots(len(goi) + 1, len(selves),\n",
    "#                         figsize=(5 * len(goi), 20 * len(selves)))\n",
    "# for j, s in enumerate(selves):\n",
    "#     for i, g in enumerate(goi + [s._columns[\"col_cell_type\"]]):\n",
    "#         s.plot_spatial(ax=axs[i, j], color=None if i == 0 else goi[i - 1],\n",
    "#                        cmap=\"magma\", layer=s._layers[\"log1p\"])\n",
    "#         if i == 0:\n",
    "#             axs[i, j].set_title(s._library_id)\n",
    "# plt.subplots_adjust(wspace=0.3)\n",
    "# fig.show()\n"
   ]
  },
  {
   "cell_type": "markdown",
   "metadata": {},
   "source": [
    "### Senescence"
   ]
  },
  {
   "cell_type": "code",
   "execution_count": null,
   "metadata": {},
   "outputs": [],
   "source": [
    "goi = [\"CDKN1A\", \"CDKN2A\", \"TP53\", \"PLAUR\", \"PTGER4\", \"FTL\", \"IL6ST\"]\n",
    "fig, axs = selves[0].plot_compare_spatial(selves[1:], goi, wspace=0.3)"
   ]
  },
  {
   "cell_type": "markdown",
   "metadata": {},
   "source": [
    "### CSF2RB"
   ]
  },
  {
   "cell_type": "code",
   "execution_count": null,
   "metadata": {},
   "outputs": [],
   "source": [
    "%%time\n",
    "\n",
    "goi = [\"CSF2RB\", \"CSF2RA\", \"IL7R\", \"TBX21\", \"KLRB1\", \"CCL5\", \"HSP90AA1\",\n",
    "       \"RORC\", \"IL23R\", \"KIT\", \"CCL20\", \"TCF7\", \"LTB\", \"IL22\", \"IFNG\"]\n",
    "fig, axs = selves[0].plot_compare_spatial(selves[1:], goi, figsize=(40, 70),\n",
    "                                          wspace=0.1)"
   ]
  },
  {
   "cell_type": "markdown",
   "metadata": {},
   "source": [
    "### High in Inflamed vs. Un-Inflamed? "
   ]
  },
  {
   "cell_type": "code",
   "execution_count": null,
   "metadata": {},
   "outputs": [],
   "source": [
    "%%time\n",
    "\n",
    "goi = [\"OSM\", \"IL13\", \"IL1B\", \"IL6\", \"TNF\", \"S100A8\", \"S100A9\"]\n",
    "fig, axs = selves[0].plot_compare_spatial(selves[1:], goi, wspace=0.1)"
   ]
  },
  {
   "cell_type": "markdown",
   "metadata": {},
   "source": [
    "### High in Stricture vs. Uni-Inflamed?"
   ]
  },
  {
   "cell_type": "code",
   "execution_count": null,
   "metadata": {},
   "outputs": [],
   "source": [
    "%%time\n",
    "\n",
    "goi = [\"PDGFRA\", \"IL6ST\", \"PTPN1\", \"IFNG\"]\n",
    "fig, axs = selves[0].plot_compare_spatial(selves[1:], goi, wspace=0.2)"
   ]
  }
 ],
 "metadata": {
  "kernelspec": {
   "display_name": "py-bio",
   "language": "python",
   "name": "python3"
  },
  "language_info": {
   "codemirror_mode": {
    "name": "ipython",
    "version": 3
   },
   "file_extension": ".py",
   "mimetype": "text/x-python",
   "name": "python",
   "nbconvert_exporter": "python",
   "pygments_lexer": "ipython3",
   "version": "3.10.4"
  }
 },
 "nbformat": 4,
 "nbformat_minor": 2
}
