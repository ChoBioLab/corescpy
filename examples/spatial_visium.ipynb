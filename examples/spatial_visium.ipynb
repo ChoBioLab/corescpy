{
 "cells": [
  {
   "cell_type": "markdown",
   "metadata": {},
   "source": [
    "# Setup"
   ]
  },
  {
   "cell_type": "code",
   "execution_count": 2,
   "metadata": {},
   "outputs": [
    {
     "ename": "SyntaxError",
     "evalue": "invalid syntax (3692531250.py, line 4)",
     "output_type": "error",
     "traceback": [
      "\u001b[0;36m  Cell \u001b[0;32mIn[2], line 4\u001b[0;36m\u001b[0m\n\u001b[0;31m    from  import Spatial\u001b[0m\n\u001b[0m          ^\u001b[0m\n\u001b[0;31mSyntaxError\u001b[0m\u001b[0;31m:\u001b[0m invalid syntax\n"
     ]
    }
   ],
   "source": [
    "%load_ext autoreload\n",
    "%autoreload 2\n",
    "\n",
    "from  import Spatial\n",
    "import scanpy as sc\n",
    "import squidpy as sq\n",
    "import functools\n",
    "import os\n",
    "from os import system\n",
    "import pandas as pd\n",
    "\n",
    "ddd = os.path.join(os.path.expanduser(\"~\"), \"projects/data/public/visium\")\n",
    "\n",
    "pd.options.display.max_columns = 100\n",
    "\n",
    "# genes = [\"CDKN1A\", \"CDKN2A\", \"TP53\", \"PLAUR\",\n",
    "#          \"PTGER4\", \"ATG16L1\", \"NOD2\", \"LACC1\"]\n",
    "# cell_types = None\n",
    "# palette = \"tab20\"\n",
    "\n",
    "genes = dict(CSF=[\"CSF2\", \"CSF2RB\", \"CSF2RA\"],\n",
    "             All_ILCs=[\"IL7R\"],\n",
    "             ILC1=[\"TBX21\", \"KLRB1\", \"CCL5\", \"HSP90AA1\", \"IFNG\"],\n",
    "             ILC3=[\"RORC\", \"IL23R\", \"KIT\", \"CCL20\", \"TCF7\", \"IL22\"],\n",
    "             Cytokines=[\"IFNG\", \"IL22\"])  # ILC1 & ILC3, respectively\n",
    "cell_types = [\"ILC3\", \"LTi-like NCR+ ILC3\", \"LTi-like NCR- ILC3\",\n",
    "              \"ILCP\", \"Macrophages\", \"Stem cells\"]\n",
    "# palette = [\"r\", \"tab:pink\", \"m\", \"b\", \"tab:brown\", \"cyan\"]\n",
    "palette = \"tab10\"\n",
    "\n",
    "kws_pp = dict(cell_filter_pmt=[0, 100], cell_filter_ncounts=None,\n",
    "              cell_filter_ngene=[0, None], gene_filter_ncell=[3, None],\n",
    "              gene_filter_ncounts=None)  # can call using 1 arguments"
   ]
  },
  {
   "cell_type": "markdown",
   "metadata": {},
   "source": [
    "# Data"
   ]
  },
  {
   "cell_type": "code",
   "execution_count": null,
   "metadata": {},
   "outputs": [],
   "source": [
    "selves = []\n",
    "for s in zip([\"Post-Xenium\"], [\"_Post_Xenium\"]):\n",
    "    for i, n in enumerate([\"Rep1\", \"Rep2\"]):\n",
    "        d_p = os.path.join(ddd, f\"CytAssist_FFPE_Human_Colon/{s[0]}/{n}\")\n",
    "        self = Spatial(d_p, visium=True, col_cell_type=\"leiden\")\n",
    "        self.adata.obs = self.adata.obs.assign(Condition=s[0])\n",
    "        self.adata.obs = self.adata.obs.assign(Replicate=i)\n",
    "        self.adata.obs = self.adata.obs.assign(Sample=f\"{s[0]}_{n}\")\n",
    "        # self._columns[\"col_sample_id\"] = \"Sample\"\n",
    "        # self._columns[\"col_condition\"] = \"Condition\"\n",
    "        selves += [self]"
   ]
  },
  {
   "cell_type": "markdown",
   "metadata": {},
   "source": [
    "## Preprocessing"
   ]
  },
  {
   "cell_type": "code",
   "execution_count": null,
   "metadata": {},
   "outputs": [],
   "source": [
    "%%time\n",
    "\n",
    "_ = self.preprocess(**kws_pp)"
   ]
  },
  {
   "cell_type": "markdown",
   "metadata": {},
   "source": [
    "## Clustering"
   ]
  },
  {
   "cell_type": "code",
   "execution_count": null,
   "metadata": {},
   "outputs": [],
   "source": [
    "%%time\n",
    "\n",
    "_ = self.cluster()"
   ]
  },
  {
   "cell_type": "markdown",
   "metadata": {},
   "source": [
    "# Variables"
   ]
  },
  {
   "cell_type": "code",
   "execution_count": null,
   "metadata": {},
   "outputs": [],
   "source": [
    "cell_types = list(self.rna.obs[self._columns[\"col_cell_type\"]].sample(3))"
   ]
  },
  {
   "cell_type": "markdown",
   "metadata": {},
   "source": [
    "# Centrality Scores"
   ]
  },
  {
   "cell_type": "code",
   "execution_count": null,
   "metadata": {},
   "outputs": [],
   "source": [
    "%%time\n",
    "\n",
    "self.calculate_centrality(n_jobs=4)"
   ]
  },
  {
   "cell_type": "markdown",
   "metadata": {},
   "source": [
    "# Cell Type Co-Occurrence"
   ]
  },
  {
   "cell_type": "code",
   "execution_count": null,
   "metadata": {},
   "outputs": [],
   "source": [
    "%%time\n",
    "\n",
    "_ = self.find_cooccurrence(key_cell_type=cell_types, figsize=(60, 20),\n",
    "                           palette=palette, kws_plot=dict(wspace=3))"
   ]
  },
  {
   "cell_type": "markdown",
   "metadata": {},
   "source": [
    "# Neighbors Enrichment Analysis"
   ]
  },
  {
   "cell_type": "code",
   "execution_count": null,
   "metadata": {},
   "outputs": [],
   "source": [
    "%%time\n",
    "\n",
    "_ = self.calculate_neighborhood(figsize=(60, 30), cmap=\"coolwarm\",\n",
    "                                cbar_range=[-30, 30])"
   ]
  },
  {
   "cell_type": "markdown",
   "metadata": {},
   "source": [
    "# Spatially-Variable Genes"
   ]
  },
  {
   "cell_type": "code",
   "execution_count": null,
   "metadata": {},
   "outputs": [],
   "source": [
    "%%time\n",
    "\n",
    "ggg = genes if genes and isinstance(genes, dict) else {\"Genes\": genes}\n",
    "genes_all = functools.reduce(lambda i, j: i + j, [ggg[g] for g in ggg])\n",
    "# for g in ggg:\n",
    "#   self.find_svgs(genes=ggg[g])\n",
    "fig = self.find_svgs(\n",
    "    genes=genes_all, method=\"moran\", n_perms=10, kws_plot=dict(\n",
    "        wspace=0.1, cmap=\"coolwarm\", vcenter=0, size=3,\n",
    "        legend_fontsize=\"large\"), figsize=(15, 15))"
   ]
  },
  {
   "cell_type": "markdown",
   "metadata": {},
   "source": [
    "# Receptor-Ligand Interactions"
   ]
  },
  {
   "cell_type": "code",
   "execution_count": null,
   "metadata": {},
   "outputs": [],
   "source": [
    "%%time\n",
    "\n",
    "out = self.calculate_receptor_ligand(\n",
    "    key_sources=cell_types, key_targets=cell_types, col_condition=False,\n",
    "    p_threshold=0.001, remove_ns=True, figsize=(15, 10))"
   ]
  },
  {
   "cell_type": "code",
   "execution_count": null,
   "metadata": {},
   "outputs": [],
   "source": [
    "os.listdir(self._dir)"
   ]
  },
  {
   "cell_type": "code",
   "execution_count": null,
   "metadata": {},
   "outputs": [],
   "source": [
    "self.adata.uns[\"spatial\"]"
   ]
  }
 ],
 "metadata": {
  "kernelspec": {
   "display_name": "py-bio",
   "language": "python",
   "name": "python3"
  },
  "language_info": {
   "codemirror_mode": {
    "name": "ipython",
    "version": 3
   },
   "file_extension": ".py",
   "mimetype": "text/x-python",
   "name": "python",
   "nbconvert_exporter": "python",
   "pygments_lexer": "ipython3",
   "version": "3.10.4"
  }
 },
 "nbformat": 4,
 "nbformat_minor": 2
}
