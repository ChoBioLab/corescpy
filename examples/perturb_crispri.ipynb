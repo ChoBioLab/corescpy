{
 "cells": [
  {
   "cell_type": "markdown",
   "metadata": {},
   "source": [
    "# Setup"
   ]
  },
  {
   "cell_type": "markdown",
   "metadata": {},
   "source": [
    "## Imports & Options"
   ]
  },
  {
   "cell_type": "code",
   "execution_count": null,
   "metadata": {},
   "outputs": [],
   "source": [
    "# Packages\n",
    "import crispr as cr \n",
    "from crispr.crispr_class import Crispr\n",
    "import pertpy as pt\n",
    "import muon\n",
    "import os\n",
    "import pandas as pd\n",
    "import numpy as np\n",
    "from config import DIR\n",
    "\n",
    "# Initialize Object\n",
    "kwargs_init = dict(\n",
    "    assay=None, assay_protein=None, \n",
    "    col_gene_symbols=\"gene_symbols\",\n",
    "    layer_perturbation=\"X_pert\", \n",
    "    col_cell_type=\"leiden\", \n",
    "    col_sample_id=\"gemgroup\", \n",
    "    col_batch=\"gemgroup\", \n",
    "    col_perturbation=\"guide_ids\", \n",
    "    col_guide_rna=\"guide_ids\", \n",
    "    col_target_genes=\"guide_ids\", \n",
    "    label_perturbation_type=\"KD\", \n",
    "    key_control=\"NT\", key_treatment=None)\n",
    "file_path = f\"{DIR}/replogle_2022_k562_esss.h5ad\"\n",
    "# file_path = f\"{DIR}/replogle_2022_k562_esss_processed.h5ad\""
   ]
  },
  {
   "cell_type": "markdown",
   "metadata": {},
   "source": [
    "## Data & Object"
   ]
  },
  {
   "cell_type": "code",
   "execution_count": null,
   "metadata": {},
   "outputs": [],
   "source": [
    "# Initialize Object\n",
    "ann = Crispr(file_path, **kwargs_init)\n",
    "    \n",
    "# Subset Large Data to Save Time/Memory\n",
    "ann.adata.obs[ann._columns[\"col_target_genes\"]] = ann.adata.obs[\n",
    "    ann._columns[\"col_target_genes\"]].astype(str).replace(\"\", ann._keys[\n",
    "        \"key_control\"]).replace(np.nan,  ann._keys[\"key_control\"])\n",
    "ann.adata = ann.adata[ann.adata.obs[\"guide_ids\"].isin(\n",
    "    [\"NT\", \"CDKN1A\", \"CDKN1A,CDKN1B\", \"CEBPA\", \"CEBPB\", \n",
    "     \"CEBPA,CEBPB\", \"DUSP9,KLF1\", \"SAMD1,UBASH3B\", \"TGFBR2\", \n",
    "     \"FEV,ISL2\", \"PRTG,TGFBR2\", \"JUN\", \"CLDN6,KLF1\", \n",
    "     \"CEBPE,SPI1\", \"PTPN13\", \"CEBPE,PTPN12\", \"CDKN1B,CDKN1C\", \n",
    "     \"FOXF1,FOXL2\", \"AHR,FEV\", \"CDKN1A,CDKN1B\",])]  # subset for speed\n",
    "    \n",
    "# Add Control Keys Where Needed\n",
    "ann.adata.obs[ann._columns[\"col_perturbation\"]] = ann.adata.obs[\n",
    "    ann._columns[\"col_perturbation\"]].replace(\"\", np.nan).replace(\n",
    "        np.nan, ann._keys[\"key_control\"])\n",
    "    \n",
    "# Fix Gene Columns\n",
    "if ann._columns[\"col_gene_symbols\"] in ann.adata.var.index.names:\n",
    "    ann.adata.var = ann.adata.var.reset_index()\n",
    "        \n",
    "# Binary Perturbation Column      \n",
    "conds = list(ann.adata.obs[ann._columns[\"col_perturbation\"]].unique())\n",
    "lab_tx = \"Perturbed\" if ann._keys[\n",
    "    \"key_treatment\"] is None else ann._keys[\"key_treatment\"]\n",
    "ann.adata.obs[ann._columns[\"col_perturbation\"] + \"_old\"] = ann.adata.obs[\n",
    "    ann._columns[\"col_perturbation\"]].copy()\n",
    "ann.adata.obs[ann._columns[\n",
    "    \"col_perturbation\"] + \"_binary\"] = ann.adata.obs[\n",
    "        ann._columns[\"col_perturbation\"]].apply(\n",
    "            lambda x: lab_tx if x != ann._keys[\"key_control\"] else x)\n",
    "ann._keys[\"key_treatment\"] = lab_tx\n",
    "ann.adata"
   ]
  },
  {
   "cell_type": "markdown",
   "metadata": {},
   "source": [
    "## Preprocessing & Clustering"
   ]
  },
  {
   "cell_type": "code",
   "execution_count": null,
   "metadata": {},
   "outputs": [],
   "source": [
    "if \"_processed\" not in file_path:  # if not already processed & clustered\n",
    "    # Preprocess\n",
    "    process_kws = dict(kws_hvg=dict(min_mean=0.0125, max_mean=3, min_disp=0.5),\n",
    "                    target_sum=1e4, max_genes_by_counts=2500, max_pct_mt=5, \n",
    "                    min_genes=200, min_cells=3, scale=10, regress_out=None)\n",
    "    _ = ann.preprocess(**process_kws, kws_umap=None)  # preprocessing \n",
    "\n",
    "    # Cluster\n",
    "    kws_pca = dict(n_comps=None, use_highly_variable=True)\n",
    "    ann.cluster(paga=False, method_cluster=\"leiden\", kws_pca=kws_pca, \n",
    "                kws_neighbors=None, kws_umap=None, kws_cluster=None)"
   ]
  },
  {
   "cell_type": "markdown",
   "metadata": {},
   "source": [
    "# Basic Plots"
   ]
  },
  {
   "cell_type": "code",
   "execution_count": null,
   "metadata": {},
   "outputs": [],
   "source": [
    "genes_subset = [\"CDKN1A\", \"CDKN1B\", \"CEBPE\", \"CEBPA\"]\n",
    "figs = ann.plot(genes=genes_subset)"
   ]
  },
  {
   "cell_type": "markdown",
   "metadata": {},
   "source": [
    "# Analyze"
   ]
  },
  {
   "cell_type": "markdown",
   "metadata": {},
   "source": [
    "## Augur"
   ]
  },
  {
   "cell_type": "code",
   "execution_count": null,
   "metadata": {},
   "outputs": [],
   "source": [
    "# Run Augur\n",
    "# kws_augur_predict = None\n",
    "kws_augur_predict = dict(span=1)\n",
    "augur_data, augur_results, figs_augur = ann.run_augur(\n",
    "    col_perturbation=ann._columns[\"col_perturbation\"] + \"_binary\", \n",
    "    key_treatment=ann._keys[\"key_treatment\"], \n",
    "    classifier=\"random_forest_classifier\", n_threads=True,\n",
    "    augur_mode=\"default\", select_variance_features=True, n_folds=2,\n",
    "    subsample_size=20, kws_augur_predict=kws_augur_predict)"
   ]
  },
  {
   "cell_type": "markdown",
   "metadata": {},
   "source": [
    "## Distance Metrics"
   ]
  },
  {
   "cell_type": "code",
   "execution_count": null,
   "metadata": {},
   "outputs": [],
   "source": [
    "fig_distance = ann.compute_distance(distance_type=\"edistance\", method=\"X_pca\")"
   ]
  }
 ],
 "metadata": {
  "kernelspec": {
   "display_name": "py-bio",
   "language": "python",
   "name": "python3"
  },
  "language_info": {
   "codemirror_mode": {
    "name": "ipython",
    "version": 3
   },
   "file_extension": ".py",
   "mimetype": "text/x-python",
   "name": "python",
   "nbconvert_exporter": "python",
   "pygments_lexer": "ipython3",
   "version": "3.10.4"
  },
  "orig_nbformat": 4
 },
 "nbformat": 4,
 "nbformat_minor": 2
}
