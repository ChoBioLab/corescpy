{
 "cells": [
  {
   "cell_type": "markdown",
   "metadata": {},
   "source": [
    "# Setup"
   ]
  },
  {
   "cell_type": "markdown",
   "metadata": {},
   "source": [
    "## Imports and Configuration"
   ]
  },
  {
   "cell_type": "code",
   "execution_count": 1,
   "metadata": {},
   "outputs": [
    {
     "data": {
      "text/html": [
       "<pre style=\"white-space:pre;overflow-x:auto;line-height:normal;font-family:Menlo,'DejaVu Sans Mono',consolas,'Courier New',monospace\"><span style=\"color: #808000; text-decoration-color: #808000; font-weight: bold\">ryp2 is not installed. Install with </span><span style=\"color: #008000; text-decoration-color: #008000; font-weight: bold\">pip install rpy2 </span><span style=\"color: #808000; text-decoration-color: #808000; font-weight: bold\">to run tools with R support.</span>\n",
       "</pre>\n"
      ],
      "text/plain": [
       "\u001b[1;33mryp2 is not installed. Install with \u001b[0m\u001b[1;32mpip install rpy2 \u001b[0m\u001b[1;33mto run tools with R support.\u001b[0m\n"
      ]
     },
     "metadata": {},
     "output_type": "display_data"
    },
    {
     "name": "stderr",
     "output_type": "stream",
     "text": [
      "Downloading data from `https://omnipathdb.org/queries/enzsub?format=json`\n",
      "Downloading data from `https://omnipathdb.org/queries/interactions?format=json`\n",
      "Downloading data from `https://omnipathdb.org/queries/complexes?format=json`\n",
      "Downloading data from `https://omnipathdb.org/queries/annotations?format=json`\n",
      "Downloading data from `https://omnipathdb.org/queries/intercell?format=json`\n",
      "Downloading data from `https://omnipathdb.org/about?format=text`\n"
     ]
    }
   ],
   "source": [
    "%load_ext autoreload\n",
    "%autoreload 2\n",
    "\n",
    "import scanpy as sc\n",
    "import os\n",
    "import re\n",
    "import json\n",
    "from datetime import datetime\n",
    "from anndata import AnnData\n",
    "import seaborn as sb\n",
    "import matplotlib.pyplot as plt\n",
    "import pandas as pd\n",
    "import numpy as np\n",
    "import corescpy as cr\n",
    "\n",
    "pd.options.display.max_columns = 100\n",
    "pd.options.display.max_rows = 200\n",
    "sc.settings.set_figure_params(dpi=100, frameon=False, figsize=(20, 20))\n",
    "\n",
    "palette = \"tab20\"\n",
    "\n",
    "\n",
    "def construct_file(sample, slide, date=None, timestamp=None,\n",
    "                   panel_id=\"TUQ97N\", prefix=\"output-XETG00189\",\n",
    "                   project_owner=\"EA\", run=\"CHO-001\", directory=None):\n",
    "    \"\"\"Construct file path from information.\"\"\"\n",
    "    if isinstance(sample, str):\n",
    "        sample = [sample]\n",
    "    if \"outputs\" not in directory and os.path.exists(\n",
    "            os.path.join(directory, \"outputs\")):\n",
    "        directory = os.path.join(directory, \"outputs\")\n",
    "    print(directory)\n",
    "    panel_id, prefix, project_owner, slide, date, timestamp = [\n",
    "        [x] * len(sample) if isinstance(x, str) else list(x) if x else x\n",
    "        for x in [panel_id, prefix, project_owner, slide, date, timestamp]]\n",
    "    run = [run] * len(sample) if isinstance(run, (str, int, float)) else run\n",
    "    block = [\"-\".join(i) for i in zip(sample, panel_id, project_owner)]\n",
    "    fff = [f\"{prefix[i]}__{slide[i]}__{block[i]}\" for i in range(len(sample))]\n",
    "    if date is None or timestamp is None:\n",
    "        for i, x in enumerate(fff):  # iterate current file stems\n",
    "            ddd = os.path.join(directory, panel_id[i], run[i])\n",
    "            print(ddd)\n",
    "            matches = sum([x in d for d in os.listdir(ddd)])\n",
    "            if  matches != 1:\n",
    "                raise ValueError(f\"{x} found in 0 or multiple file paths\",\n",
    "                                 f\"\\n\\n{os.listdir(ddd)}\")\n",
    "            fff[i] = os.path.join(ddd, np.array(os.listdir(ddd))[np.where([\n",
    "                x in d for d in os.listdir(ddd)])[0][0]])  # find match\n",
    "    else:\n",
    "        fff = [os.path.join(directory, panel_id[i], run[i],\n",
    "                            f\"{x}__{date[i]}__{timestamp[i]}\")\n",
    "               for i, x in enumerate(fff)]\n",
    "    return fff"
   ]
  },
  {
   "cell_type": "markdown",
   "metadata": {},
   "source": [
    "## Options"
   ]
  },
  {
   "cell_type": "code",
   "execution_count": 6,
   "metadata": {},
   "outputs": [
    {
     "name": "stdout",
     "output_type": "stream",
     "text": [
      "/mnt/cho_lab/disk2/elizabeth/data/shared-xenium-library/outputs\n",
      "/mnt/cho_lab/disk2/elizabeth/data/shared-xenium-library/outputs/TUQ97N/CHO-001\n",
      "/mnt/cho_lab/disk2/elizabeth/data/shared-xenium-library/outputs/TUQ97N/CHO-001\n",
      "/mnt/cho_lab/disk2/elizabeth/data/shared-xenium-library/outputs/TUQ97N/CHO-001\n"
     ]
    },
    {
     "data": {
      "text/html": [
       "<div>\n",
       "<style scoped>\n",
       "    .dataframe tbody tr th:only-of-type {\n",
       "        vertical-align: middle;\n",
       "    }\n",
       "\n",
       "    .dataframe tbody tr th {\n",
       "        vertical-align: top;\n",
       "    }\n",
       "\n",
       "    .dataframe thead th {\n",
       "        text-align: right;\n",
       "    }\n",
       "</style>\n",
       "<table border=\"1\" class=\"dataframe\">\n",
       "  <thead>\n",
       "    <tr style=\"text-align: right;\">\n",
       "      <th></th>\n",
       "      <th>Sample ID</th>\n",
       "      <th>Patient</th>\n",
       "      <th>Status</th>\n",
       "      <th>Project</th>\n",
       "      <th>Sample Location</th>\n",
       "      <th>Inflamed</th>\n",
       "      <th>Slide</th>\n",
       "      <th>GRID ID</th>\n",
       "      <th>Procedure Date</th>\n",
       "      <th>Age</th>\n",
       "      <th>Sex</th>\n",
       "      <th>Race</th>\n",
       "      <th>Hispanic</th>\n",
       "      <th>Diagnosis</th>\n",
       "      <th>Project.1</th>\n",
       "      <th>Procedure</th>\n",
       "      <th>Disease Status</th>\n",
       "      <th>Date Collected</th>\n",
       "      <th>Date Sectioned</th>\n",
       "      <th>Date of Hybridization</th>\n",
       "      <th>Storage in 4C</th>\n",
       "      <th>Created By</th>\n",
       "      <th>Created</th>\n",
       "      <th>Storage Status</th>\n",
       "      <th>Sample Location.1</th>\n",
       "      <th>Storage Row</th>\n",
       "      <th>Storage Col</th>\n",
       "      <th>Checked Out By</th>\n",
       "      <th>Stricture</th>\n",
       "      <th>Condition</th>\n",
       "      <th>file_path</th>\n",
       "    </tr>\n",
       "    <tr>\n",
       "      <th>Sample</th>\n",
       "      <th></th>\n",
       "      <th></th>\n",
       "      <th></th>\n",
       "      <th></th>\n",
       "      <th></th>\n",
       "      <th></th>\n",
       "      <th></th>\n",
       "      <th></th>\n",
       "      <th></th>\n",
       "      <th></th>\n",
       "      <th></th>\n",
       "      <th></th>\n",
       "      <th></th>\n",
       "      <th></th>\n",
       "      <th></th>\n",
       "      <th></th>\n",
       "      <th></th>\n",
       "      <th></th>\n",
       "      <th></th>\n",
       "      <th></th>\n",
       "      <th></th>\n",
       "      <th></th>\n",
       "      <th></th>\n",
       "      <th></th>\n",
       "      <th></th>\n",
       "      <th></th>\n",
       "      <th></th>\n",
       "      <th></th>\n",
       "      <th></th>\n",
       "      <th></th>\n",
       "      <th></th>\n",
       "    </tr>\n",
       "  </thead>\n",
       "  <tbody>\n",
       "    <tr>\n",
       "      <th>Uninflamed-50452A</th>\n",
       "      <td>50452A</td>\n",
       "      <td>50452</td>\n",
       "      <td>Available</td>\n",
       "      <td>scRNA &amp; Spatial</td>\n",
       "      <td>Terminal Ileum</td>\n",
       "      <td>uninflamed</td>\n",
       "      <td>0010700</td>\n",
       "      <td>1011335</td>\n",
       "      <td>2023-12-04</td>\n",
       "      <td>69</td>\n",
       "      <td>female</td>\n",
       "      <td>white</td>\n",
       "      <td>NO</td>\n",
       "      <td>Crohn's Disease</td>\n",
       "      <td>Helmsley-Senescence</td>\n",
       "      <td>Resection</td>\n",
       "      <td>Active</td>\n",
       "      <td>NaN</td>\n",
       "      <td>2024-01-22 15:25:38</td>\n",
       "      <td>2024-01-23 15:25:58</td>\n",
       "      <td>YES</td>\n",
       "      <td>ksenija sabic</td>\n",
       "      <td>2024-02-06 15:26:47.887</td>\n",
       "      <td>Not in storage</td>\n",
       "      <td>NaN</td>\n",
       "      <td>NaN</td>\n",
       "      <td>NaN</td>\n",
       "      <td>NaN</td>\n",
       "      <td>None</td>\n",
       "      <td>Uninflamed</td>\n",
       "      <td>/mnt/cho_lab/disk2/elizabeth/data/shared-xeniu...</td>\n",
       "    </tr>\n",
       "    <tr>\n",
       "      <th>Inflamed-50452B</th>\n",
       "      <td>50452B</td>\n",
       "      <td>50452</td>\n",
       "      <td>Available</td>\n",
       "      <td>scRNA &amp; Spatial</td>\n",
       "      <td>Terminal Ileum</td>\n",
       "      <td>inflamed</td>\n",
       "      <td>0010700</td>\n",
       "      <td>1011335</td>\n",
       "      <td>2023-12-04</td>\n",
       "      <td>69</td>\n",
       "      <td>female</td>\n",
       "      <td>white</td>\n",
       "      <td>NO</td>\n",
       "      <td>Crohn's Disease</td>\n",
       "      <td>Helmsley-Senescence</td>\n",
       "      <td>Resection</td>\n",
       "      <td>Active</td>\n",
       "      <td>NaN</td>\n",
       "      <td>2024-01-22 00:00:00</td>\n",
       "      <td>2024-01-23 00:00:00</td>\n",
       "      <td>YES</td>\n",
       "      <td>ksenija sabic</td>\n",
       "      <td>2024-02-06 15:26:47.887</td>\n",
       "      <td>Not in storage</td>\n",
       "      <td>NaN</td>\n",
       "      <td>NaN</td>\n",
       "      <td>NaN</td>\n",
       "      <td>NaN</td>\n",
       "      <td>None</td>\n",
       "      <td>Inflamed</td>\n",
       "      <td>/mnt/cho_lab/disk2/elizabeth/data/shared-xeniu...</td>\n",
       "    </tr>\n",
       "    <tr>\n",
       "      <th>Stricture-50452C</th>\n",
       "      <td>50452C</td>\n",
       "      <td>50452</td>\n",
       "      <td>Available</td>\n",
       "      <td>scRNA &amp; Spatial</td>\n",
       "      <td>Terminal Ileum (stricture)</td>\n",
       "      <td>inflamed</td>\n",
       "      <td>0010663</td>\n",
       "      <td>1011335</td>\n",
       "      <td>2023-12-04</td>\n",
       "      <td>69</td>\n",
       "      <td>female</td>\n",
       "      <td>white</td>\n",
       "      <td>NO</td>\n",
       "      <td>Crohn's Disease</td>\n",
       "      <td>Helmsley-Senescence</td>\n",
       "      <td>Resection</td>\n",
       "      <td>Active</td>\n",
       "      <td>NaN</td>\n",
       "      <td>2024-01-22 00:00:00</td>\n",
       "      <td>2024-01-23 00:00:00</td>\n",
       "      <td>YES</td>\n",
       "      <td>ksenija sabic</td>\n",
       "      <td>2024-02-06 15:26:47.887</td>\n",
       "      <td>Not in storage</td>\n",
       "      <td>NaN</td>\n",
       "      <td>NaN</td>\n",
       "      <td>NaN</td>\n",
       "      <td>NaN</td>\n",
       "      <td>Stricture</td>\n",
       "      <td>Stricture</td>\n",
       "      <td>/mnt/cho_lab/disk2/elizabeth/data/shared-xeniu...</td>\n",
       "    </tr>\n",
       "  </tbody>\n",
       "</table>\n",
       "</div>"
      ],
      "text/plain": [
       "                  Sample ID  Patient     Status          Project  \\\n",
       "Sample                                                             \n",
       "Uninflamed-50452A    50452A    50452  Available  scRNA & Spatial   \n",
       "Inflamed-50452B      50452B    50452  Available  scRNA & Spatial   \n",
       "Stricture-50452C     50452C    50452  Available  scRNA & Spatial   \n",
       "\n",
       "                              Sample Location    Inflamed    Slide  GRID ID  \\\n",
       "Sample                                                                        \n",
       "Uninflamed-50452A              Terminal Ileum  uninflamed  0010700  1011335   \n",
       "Inflamed-50452B                Terminal Ileum    inflamed  0010700  1011335   \n",
       "Stricture-50452C   Terminal Ileum (stricture)    inflamed  0010663  1011335   \n",
       "\n",
       "                  Procedure Date  Age     Sex   Race Hispanic  \\\n",
       "Sample                                                          \n",
       "Uninflamed-50452A     2023-12-04   69  female  white       NO   \n",
       "Inflamed-50452B       2023-12-04   69  female  white       NO   \n",
       "Stricture-50452C      2023-12-04   69  female  white       NO   \n",
       "\n",
       "                         Diagnosis            Project.1  Procedure  \\\n",
       "Sample                                                               \n",
       "Uninflamed-50452A  Crohn's Disease  Helmsley-Senescence  Resection   \n",
       "Inflamed-50452B    Crohn's Disease  Helmsley-Senescence  Resection   \n",
       "Stricture-50452C   Crohn's Disease  Helmsley-Senescence  Resection   \n",
       "\n",
       "                  Disease Status  Date Collected      Date Sectioned  \\\n",
       "Sample                                                                 \n",
       "Uninflamed-50452A         Active             NaN 2024-01-22 15:25:38   \n",
       "Inflamed-50452B           Active             NaN 2024-01-22 00:00:00   \n",
       "Stricture-50452C          Active             NaN 2024-01-22 00:00:00   \n",
       "\n",
       "                  Date of Hybridization Storage in 4C     Created By  \\\n",
       "Sample                                                                 \n",
       "Uninflamed-50452A   2024-01-23 15:25:58           YES  ksenija sabic   \n",
       "Inflamed-50452B     2024-01-23 00:00:00           YES  ksenija sabic   \n",
       "Stricture-50452C    2024-01-23 00:00:00           YES  ksenija sabic   \n",
       "\n",
       "                                  Created  Storage Status  Sample Location.1  \\\n",
       "Sample                                                                         \n",
       "Uninflamed-50452A 2024-02-06 15:26:47.887  Not in storage                NaN   \n",
       "Inflamed-50452B   2024-02-06 15:26:47.887  Not in storage                NaN   \n",
       "Stricture-50452C  2024-02-06 15:26:47.887  Not in storage                NaN   \n",
       "\n",
       "                   Storage Row  Storage Col  Checked Out By  Stricture  \\\n",
       "Sample                                                                   \n",
       "Uninflamed-50452A          NaN          NaN             NaN       None   \n",
       "Inflamed-50452B            NaN          NaN             NaN       None   \n",
       "Stricture-50452C           NaN          NaN             NaN  Stricture   \n",
       "\n",
       "                    Condition  \\\n",
       "Sample                          \n",
       "Uninflamed-50452A  Uninflamed   \n",
       "Inflamed-50452B      Inflamed   \n",
       "Stricture-50452C    Stricture   \n",
       "\n",
       "                                                           file_path  \n",
       "Sample                                                                \n",
       "Uninflamed-50452A  /mnt/cho_lab/disk2/elizabeth/data/shared-xeniu...  \n",
       "Inflamed-50452B    /mnt/cho_lab/disk2/elizabeth/data/shared-xeniu...  \n",
       "Stricture-50452C   /mnt/cho_lab/disk2/elizabeth/data/shared-xeniu...  "
      ]
     },
     "execution_count": 6,
     "metadata": {},
     "output_type": "execute_result"
    }
   ],
   "source": [
    "# Column Names\n",
    "col_sample_id_original = \"Sample ID\"\n",
    "col_sample_id = \"Sample\"\n",
    "col_subject = \"Patient\"\n",
    "col_batch = \"Slide\"\n",
    "col_path = \"file_path\"\n",
    "# col_date_time, col_date = \"Date Sectioned\", \"Date\"\n",
    "col_date_time, col_date = None, None\n",
    "col_inflamed, col_stricture = \"Inflamed\", \"Stricture\"\n",
    "col_condition = \"Condition\"\n",
    "meta_rn = {\"Name\": col_subject, \"Slide ID\": col_batch,\n",
    "           \"Inflammation Status\": col_inflamed}\n",
    "\n",
    "# Directories & Metadata\n",
    "# Replace manually or mirror my file/directory tree in your home\n",
    "include_stricture = True\n",
    "run = \"CHO-001\"\n",
    "samples = [\"50452A\", \"50452B\", \"50452C\"]\n",
    "# samples = [\"50452A\", \"50452B\", \"50452C\", \"50564A4\", \"50618B5\"]\n",
    "# run = [\"CHO-001\"] * 3 + [\"CHO-002\"] * 3\n",
    "panel_id = \"TUQ97N\"\n",
    "prefix = \"output-XETG00189\"\n",
    "project_owner = \"EA\"\n",
    "ddu = os.path.expanduser(\"~\")\n",
    "ddl = \"/mnt/cho_lab/disk2/elizabeth/data/shared-xenium-library\"\n",
    "ddd = os.path.join(ddl, \"outputs\", panel_id)\n",
    "panel = os.path.join(ddu, \"projects/senescence/ProposedGenePanel.xlsx\")\n",
    "file_ann = os.path.join(ddu, \"corescpy/examples/annotation_guide.xlsx\")\n",
    "\n",
    "# Input/Output Options\n",
    "reload = True\n",
    "out_dir = os.path.join(ddd, \"nebraska\")  # set to None to avoid saving\n",
    "if not os.path.exists(out_dir):\n",
    "    os.makedirs(out_dir)\n",
    "\n",
    "# Computing Resources\n",
    "gpu = False\n",
    "sc.settings.n_jobs = 4\n",
    "sc.settings.max_memory = 100\n",
    "\n",
    "# Read Metadata & Other Information\n",
    "annot_df = pd.read_excel(file_ann)\n",
    "metadata = pd.read_excel(os.path.join(ddl, \"Xenium_Samples_02092024.xlsx\"),\n",
    "                         dtype={\"Slide ID\": str})\n",
    "metadata = metadata.rename(meta_rn, axis=1)\n",
    "if samples not in [\"all\", None]:  # subset by sample ID?\n",
    "    metadata = metadata.set_index(col_sample_id_original).loc[\n",
    "        samples].reset_index()\n",
    "\n",
    "# Processing & Clustering Options\n",
    "resolution = 1.5\n",
    "min_dist = 1\n",
    "n_comps = 20\n",
    "# col_qscore = ?\n",
    "# custom_thresholds = {col_qscore: [, None]}\n",
    "custom_thresholds = None\n",
    "genes_subset = list(annot_df.iloc[:, 0])\n",
    "kws_pp = dict(cell_filter_pmt=None, cell_filter_ncounts=[50, None],\n",
    "              cell_filter_ngene=[30, None], gene_filter_ncell=[3, None],\n",
    "              gene_filter_ncounts=[3, None],\n",
    "              custom_thresholds=custom_thresholds,\n",
    "              kws_scale=dict(max_value=10, zero_center=True))\n",
    "kws_umap = dict(min_dist=min_dist, method=\"rapids\") if gpu is True else dict(\n",
    "    min_dist=min_dist)\n",
    "kws_cluster = dict(use_gpu=gpu, kws_umap=kws_umap, kws_neighbors=None,\n",
    "                   use_highly_variable=False, n_comps=n_comps,\n",
    "                   genes_subset=genes_subset, resolution=resolution)\n",
    "cell_types = None\n",
    "genes = [\"CDKN1A\", \"CDKN2A\", \"TP53\", \"PLAUR\", \"PTGER4\", \"FTL\", \"IL6ST\",\n",
    "         \"CSF2RB\", \"CSF2RA\", \"IL7R\", \"TBX21\", \"KLRB1\", \"CCL5\", \"HSP90AA1\",\n",
    "         \"RORC\", \"IL23R\", \"KIT\", \"CCL20\", \"TCF7\", \"LTB\", \"IL22\", \"IFNG\",\n",
    "         \"PDGFRA\", \"PTPN1\", \"OSM\", \"IL13\", \"IL1B\", \"IL6\", \"TNF\", \"S100A8\",\n",
    "         \"S100A9\", \"NOD2\", \"LACC1\", \"LRRK2\"]\n",
    "\n",
    "# Revise Metadata & Construct Variables from Options\n",
    "if col_stricture not in metadata.columns:\n",
    "    metadata.loc[:, col_stricture] = metadata[\"Sample Location\"].apply(\n",
    "        lambda x: \"Stricture\" if \"stricture\" in x.lower() else \"None\")\n",
    "metadata.loc[:, col_condition] = metadata.apply(\n",
    "    lambda x: \"Stricture\" if \"stricture\" in x[col_stricture].lower() else x[\n",
    "        col_inflamed].capitalize() , axis=1)\n",
    "if col_date_time:\n",
    "    metadata.loc[:, col_date] = metadata[col_date_time].apply(\n",
    "        lambda x: datetime.strftime(x, \"%Y%m%d\"))\n",
    "    dates = list(metadata[col_date])\n",
    "else:\n",
    "    dates = None\n",
    "metadata.loc[:, col_sample_id] = metadata.apply(\n",
    "    lambda x: f\"{x[col_condition]}-{x[col_sample_id_original]}\" , axis=1)\n",
    "metadata = metadata.set_index(col_sample_id)\n",
    "metadata.loc[:, col_path] = construct_file(\n",
    "    list(metadata[col_sample_id_original]), list(metadata[col_batch]),\n",
    "    dates, panel_id=panel_id, prefix=prefix,\n",
    "    project_owner=project_owner, run=run, directory=ddl)\n",
    "col_cell_type = \"Annotation\"\n",
    "file_path_dict = dict(zip(metadata.index.values, metadata[\"file_path\"]))\n",
    "kws_init = dict(col_batch=col_batch, col_subject=col_subject,\n",
    "                col_sample_id=col_sample_id, col_cell_type=col_cell_type)\n",
    "\n",
    "# Output Files\n",
    "suff = str(f\"res{re.sub('[.]', 'pt', str(resolution))}_dist\"\n",
    "           f\"{re.sub('[.]', 'pt', str(min_dist))}_npc{n_comps}\")  # file end\n",
    "out_files = []\n",
    "for x in metadata.index.values:\n",
    "    if out_dir is not None:\n",
    "        out_files += [os.path.join(out_dir, f\"{x}__{suff}.zarr\")]\n",
    "\n",
    "# Subset if Desired\n",
    "if include_stricture is False:\n",
    "    metadata = metadata[metadata.Stricture != \"Stricture\"]\n",
    "metadata\n",
    "\n",
    "# Genes\n",
    "# genes = [\"CDKN1A\", \"CDKN2A\", \"TP53\", \"PLAUR\", \"PTGER4\", \"FTL\", \"IL6ST\"]\n",
    "# cell_types = [\"ILC3\", \"LTi-like NCR+ ILC3\", \"LTi-like NCR- ILC3\",\n",
    "#               \"ILCP\", \"Macrophages\", \"Stem cells\"]\n",
    "# palette = [\"r\", \"tab:pink\", \"m\", \"b\", \"tab:brown\", \"cyan\"]\n",
    "# High in inf. vs. un\n",
    "# OSM\n",
    "# IL13\n",
    "# IL1B\n",
    "# IL6\n",
    "# TNF\n",
    "# S100A8\n",
    "# S100A9\n",
    "# ------------------------------\n",
    "# High in stricture vs inf/un\n",
    "# PDGFRA\n",
    "# IL6ST\n",
    "# PTPN1\n",
    "# IFNG"
   ]
  },
  {
   "cell_type": "markdown",
   "metadata": {},
   "source": [
    "## Re-Name Files in Standard Form Using Object"
   ]
  },
  {
   "cell_type": "code",
   "execution_count": null,
   "metadata": {},
   "outputs": [],
   "source": [
    "# fff = list(pd.Series([x if \"h5ad\" in x else np.nan for x in os.listdir(\n",
    "#     out_dir)]).dropna())\n",
    "# frn = []\n",
    "# for x in fff:\n",
    "#     ann = sc.read(os.path.join(out_dir, x))\n",
    "#     kwu = re.sub(\"{\", \"\", re.sub(\"}\", \"\", str(ann.obs.iloc[0].kws_umap))\n",
    "#                  ).split(\", \")\n",
    "#     kwu = np.array(kwu)[np.where([\"min_dist\" in x for x in kwu])[\n",
    "#         0]][0].split(\": \")[1]\n",
    "#     frn += [str(f\"{str(ann.obs.iloc[0][col_sample_id])}__\"\n",
    "#                 f\"res{str(ann.obs.iloc[0].resolution)}\"\n",
    "#                 f\"_dist{kwu}_npc{ann.varm['PCs'].shape[1]}\")]\n",
    "# frd = dict(zip([os.path.join(out_dir, i) for i in fff], [os.path.join(\n",
    "#     out_dir, re.sub(\"[.]\", \"pt\", re.sub(\"[.]h5ad\", \"\", i)) + \".h5ad\")\n",
    "#                                                          for i in frn]))\n",
    "# frd\n",
    "# # for x in frd:\n",
    "# #     os.system(f\"mv {x} {frd[x]}\")"
   ]
  },
  {
   "cell_type": "markdown",
   "metadata": {},
   "source": [
    "# Data"
   ]
  },
  {
   "cell_type": "markdown",
   "metadata": {},
   "source": [
    "## Loading"
   ]
  },
  {
   "cell_type": "code",
   "execution_count": 7,
   "metadata": {},
   "outputs": [
    {
     "name": "stdout",
     "output_type": "stream",
     "text": [
      "\n",
      "\n",
      "<<< INITIALIZING SPATIAL CLASS OBJECT >>>\n",
      "\n",
      "\n",
      "\n",
      "<<< INITIALIZING OMICS CLASS OBJECT >>>\n",
      "\n",
      "Unused keyword arguments: {'library_id': 'Uninflamed-50452A', 'visium': False}.\n",
      "\n",
      "\n",
      "\n",
      "\n",
      "col_gene_symbols=\"gene_symbols\"\n",
      "col_cell_type=\"Annotation\"\n",
      "col_sample_id=\"Sample\"\n",
      "col_batch=\"Slide\"\n",
      "col_subject=\"Patient\"\n",
      "col_condition=None\n",
      "col_num_umis=None\n",
      "\n",
      "\n",
      "\n",
      "key_control=None\n",
      "key_treatment=None\n",
      "\u001b[34mINFO    \u001b[0m reading                                                                                                   \n",
      "         \u001b[35m/mnt/cho_lab/disk2/elizabeth/data/shared-xenium-library/outputs/TUQ97N/CHO-001/output-XETG00189__0010700__\u001b[0m\n",
      "         \u001b[35m50452A-TUQ97N-EA__20240126__205019/\u001b[0m\u001b[95mcell_feature_matrix.h5\u001b[0m                                                 \n"
     ]
    },
    {
     "name": "stdout",
     "output_type": "stream",
     "text": [
      "WARNING: Unable to find `y`, `x` or `z` dimension in `('c', 'y', 'x')`. Renaming to `('channels', 'y', 'x', 'z')`\n",
      "WARNING: Unable to find `y`, `x` or `z` dimension in `('c', 'y', 'x')`. Renaming to `('channels', 'y', 'x', 'z')`\n",
      "WARNING: Unable to find `y`, `x` or `z` dimension in `('c', 'y', 'x')`. Renaming to `('channels', 'y', 'x', 'z')`\n",
      "WARNING: Unable to find `y`, `x` or `z` dimension in `('c', 'y', 'x')`. Renaming to `('channels', 'y', 'x', 'z')`\n",
      "WARNING: Unable to find `y`, `x` or `z` dimension in `('c', 'y', 'x')`. Renaming to `('channels', 'y', 'x', 'z')`\n",
      "WARNING: Unable to find `y`, `x` or `z` dimension in `('c', 'y', 'x')`. Renaming to `('channels', 'y', 'x', 'z')`\n",
      "WARNING: Unable to find `y`, `x` or `z` dimension in `('c', 'y', 'x')`. Renaming to `('channels', 'y', 'x', 'z')`\n",
      "WARNING: Unable to find `y`, `x` or `z` dimension in `('c', 'y', 'x')`. Renaming to `('channels', 'y', 'x', 'z')`\n",
      "WARNING: Unable to find `y`, `x` or `z` dimension in `('c', 'y', 'x')`. Renaming to `('channels', 'y', 'x', 'z')`\n",
      "WARNING: Unable to find `y`, `x` or `z` dimension in `('c', 'y', 'x')`. Renaming to `('channels', 'y', 'x', 'z')`\n",
      "dsfasfda AnnData object with n_obs × n_vars = 333825 × 469\n",
      "    obs: 'cell_id', 'transcript_counts', 'control_probe_counts', 'control_codeword_counts', 'unassigned_codeword_counts', 'deprecated_codeword_counts', 'total_counts', 'cell_area', 'nucleus_area', 'region', 'Sample'\n",
      "    var: 'gene_ids', 'feature_types', 'genome'\n",
      "    uns: 'spatialdata_attrs', 'spatial', 'original_ix'\n",
      "    obsm: 'spatial'\n",
      "\n",
      "\n",
      "================================================================================\n",
      "Cell Counts: Initial\n",
      "================================================================================\n",
      "\n",
      "\n",
      "Observations: 333825\n",
      "\n",
      "\n",
      "\n",
      "================================================================================\n",
      "Gene Counts: Initial\n",
      "================================================================================\n",
      "\n",
      "Empty DataFrame\n",
      "Columns: [index, gene_ids, feature_types, genome]\n",
      "Index: []\n",
      "\n",
      "\n",
      "\n",
      "\n",
      "\n",
      " SpatialData object with:\n",
      "├── Images\n",
      "│     ├── 'morphology_focus': MultiscaleSpatialImage[cyx] (1, 57808, 45580), (1, 28904, 22790), (1, 14452, 11395), (1, 7226, 5697), (1, 3613, 2848)\n",
      "│     └── 'morphology_mip': MultiscaleSpatialImage[cyx] (1, 57808, 45580), (1, 28904, 22790), (1, 14452, 11395), (1, 7226, 5697), (1, 3613, 2848)\n",
      "├── Points\n",
      "│     └── 'transcripts': DataFrame with shape: (<Delayed>, 10) (3D points)\n",
      "├── Shapes\n",
      "│     ├── 'cell_boundaries': GeoDataFrame shape: (333825, 1) (2D shapes)\n",
      "│     ├── 'cell_circles': GeoDataFrame shape: (333825, 2) (2D shapes)\n",
      "│     └── 'nucleus_boundaries': GeoDataFrame shape: (333825, 1) (2D shapes)\n",
      "└── Table\n",
      "      └── AnnData object with n_obs × n_vars = 333825 × 469\n",
      "    obs: 'cell_id', 'transcript_counts', 'control_probe_counts', 'control_codeword_counts', 'unassigned_codeword_counts', 'deprecated_codeword_counts', 'total_counts', 'cell_area', 'nucleus_area', 'region', 'Sample'\n",
      "    var: 'gene_ids', 'feature_types', 'genome'\n",
      "    uns: 'spatialdata_attrs', 'spatial', 'original_ix'\n",
      "    obsm: 'spatial'\n",
      "    layers: 'counts': AnnData (333825, 469)\n",
      "with coordinate systems:\n",
      "▸ 'global', with elements:\n",
      "        morphology_focus (Images), morphology_mip (Images), transcripts (Points), cell_boundaries (Shapes), cell_circles (Shapes), nucleus_boundaries (Shapes)\n",
      "None\n",
      "\n",
      "\n",
      " AnnData object with n_obs × n_vars = 333825 × 469\n",
      "    obs: 'cell_id', 'transcript_counts', 'control_probe_counts', 'control_codeword_counts', 'unassigned_codeword_counts', 'deprecated_codeword_counts', 'total_counts', 'cell_area', 'nucleus_area', 'region', 'Sample'\n",
      "    var: 'gene_ids', 'feature_types', 'genome'\n",
      "    uns: 'spatialdata_attrs', 'spatial', 'original_ix'\n",
      "    obsm: 'spatial'\n",
      "    layers: 'counts' \n",
      "\n",
      "                      gene_ids    feature_types   genome\n",
      "gene_symbols                                           \n",
      "ABCA7         ENSG00000064687  Gene Expression  Unknown\n",
      "ACTA2         ENSG00000107796  Gene Expression  Unknown\n",
      "ACTG2         ENSG00000163017  Gene Expression  Unknown\n",
      "ADAM15        ENSG00000143537  Gene Expression  Unknown\n",
      "ADAM28        ENSG00000042980  Gene Expression  Unknown \n",
      "\n",
      "       cell_id  transcript_counts  control_probe_counts  \\\n",
      "0  aaaaibki-1                168                     0   \n",
      "1  aaaaiiji-1                166                     0   \n",
      "2  aaaajape-1                135                     0   \n",
      "3  aaaamhbm-1                 99                     0   \n",
      "4  aaabdoak-1                 61                     0   \n",
      "\n",
      "   control_codeword_counts  unassigned_codeword_counts  \\\n",
      "0                        0                           0   \n",
      "1                        0                           0   \n",
      "2                        0                           0   \n",
      "3                        0                           0   \n",
      "4                        0                           0   \n",
      "\n",
      "   deprecated_codeword_counts  total_counts   cell_area  nucleus_area  \\\n",
      "0                           0           168  328.150481     13.908126   \n",
      "1                           0           166  107.607348     18.649532   \n",
      "2                           0           135  110.226410     10.250469   \n",
      "3                           0            99   46.736720     16.482032   \n",
      "4                           0            61   22.216876      6.954063   \n",
      "\n",
      "         region             Sample  \n",
      "0  cell_circles  Uninflamed-50452A  \n",
      "1  cell_circles  Uninflamed-50452A  \n",
      "2  cell_circles  Uninflamed-50452A  \n",
      "3  cell_circles  Uninflamed-50452A  \n",
      "4  cell_circles  Uninflamed-50452A  \n",
      "\n",
      "\n",
      "\n",
      "col_gene_symbols=\"gene_symbols\"\n",
      "col_cell_type=\"Annotation\"\n",
      "col_sample_id=\"Sample\"\n",
      "col_batch=\"Slide\"\n",
      "col_subject=\"Patient\"\n",
      "col_condition=None\n",
      "col_num_umis=None\n",
      "col_segment=\"region\"\n",
      "\n",
      "\n",
      "\n",
      "key_control=None\n",
      "key_treatment=None\n",
      "\n",
      "\n",
      "<<< INITIALIZING SPATIAL CLASS OBJECT >>>\n",
      "\n",
      "\n",
      "\n",
      "<<< INITIALIZING OMICS CLASS OBJECT >>>\n",
      "\n",
      "Unused keyword arguments: {'library_id': 'Inflamed-50452B', 'visium': False}.\n",
      "\n",
      "\n",
      "\n",
      "\n",
      "col_gene_symbols=\"gene_symbols\"\n",
      "col_cell_type=\"Annotation\"\n",
      "col_sample_id=\"Sample\"\n",
      "col_batch=\"Slide\"\n",
      "col_subject=\"Patient\"\n",
      "col_condition=None\n",
      "col_num_umis=None\n",
      "\n",
      "\n",
      "\n",
      "key_control=None\n",
      "key_treatment=None\n",
      "\u001b[34mINFO    \u001b[0m reading                                                                                                   \n",
      "         \u001b[35m/mnt/cho_lab/disk2/elizabeth/data/shared-xenium-library/outputs/TUQ97N/CHO-001/output-XETG00189__0010700__\u001b[0m\n",
      "         \u001b[35m50452B-TUQ97N-EA__20240126__205019/\u001b[0m\u001b[95mcell_feature_matrix.h5\u001b[0m                                                 \n",
      "WARNING: Unable to find `y`, `x` or `z` dimension in `('c', 'y', 'x')`. Renaming to `('channels', 'y', 'x', 'z')`\n",
      "WARNING: Unable to find `y`, `x` or `z` dimension in `('c', 'y', 'x')`. Renaming to `('channels', 'y', 'x', 'z')`\n",
      "WARNING: Unable to find `y`, `x` or `z` dimension in `('c', 'y', 'x')`. Renaming to `('channels', 'y', 'x', 'z')`\n",
      "WARNING: Unable to find `y`, `x` or `z` dimension in `('c', 'y', 'x')`. Renaming to `('channels', 'y', 'x', 'z')`\n",
      "WARNING: Unable to find `y`, `x` or `z` dimension in `('c', 'y', 'x')`. Renaming to `('channels', 'y', 'x', 'z')`\n",
      "WARNING: Unable to find `y`, `x` or `z` dimension in `('c', 'y', 'x')`. Renaming to `('channels', 'y', 'x', 'z')`\n",
      "WARNING: Unable to find `y`, `x` or `z` dimension in `('c', 'y', 'x')`. Renaming to `('channels', 'y', 'x', 'z')`\n",
      "WARNING: Unable to find `y`, `x` or `z` dimension in `('c', 'y', 'x')`. Renaming to `('channels', 'y', 'x', 'z')`\n",
      "WARNING: Unable to find `y`, `x` or `z` dimension in `('c', 'y', 'x')`. Renaming to `('channels', 'y', 'x', 'z')`\n",
      "WARNING: Unable to find `y`, `x` or `z` dimension in `('c', 'y', 'x')`. Renaming to `('channels', 'y', 'x', 'z')`\n",
      "dsfasfda AnnData object with n_obs × n_vars = 276881 × 469\n",
      "    obs: 'cell_id', 'transcript_counts', 'control_probe_counts', 'control_codeword_counts', 'unassigned_codeword_counts', 'deprecated_codeword_counts', 'total_counts', 'cell_area', 'nucleus_area', 'region', 'Sample'\n",
      "    var: 'gene_ids', 'feature_types', 'genome'\n",
      "    uns: 'spatialdata_attrs', 'spatial', 'original_ix'\n",
      "    obsm: 'spatial'\n",
      "\n",
      "\n",
      "================================================================================\n",
      "Cell Counts: Initial\n",
      "================================================================================\n",
      "\n",
      "\n",
      "Observations: 276881\n",
      "\n",
      "\n",
      "\n",
      "================================================================================\n",
      "Gene Counts: Initial\n",
      "================================================================================\n",
      "\n",
      "Empty DataFrame\n",
      "Columns: [index, gene_ids, feature_types, genome]\n",
      "Index: []\n",
      "\n",
      "\n",
      "\n",
      "\n",
      "\n",
      " SpatialData object with:\n",
      "├── Images\n",
      "│     ├── 'morphology_focus': MultiscaleSpatialImage[cyx] (1, 37492, 51118), (1, 18746, 25559), (1, 9373, 12779), (1, 4686, 6389), (1, 2343, 3194)\n",
      "│     └── 'morphology_mip': MultiscaleSpatialImage[cyx] (1, 37492, 51118), (1, 18746, 25559), (1, 9373, 12779), (1, 4686, 6389), (1, 2343, 3194)\n",
      "├── Points\n",
      "│     └── 'transcripts': DataFrame with shape: (<Delayed>, 10) (3D points)\n",
      "├── Shapes\n",
      "│     ├── 'cell_boundaries': GeoDataFrame shape: (276881, 1) (2D shapes)\n",
      "│     ├── 'cell_circles': GeoDataFrame shape: (276881, 2) (2D shapes)\n",
      "│     └── 'nucleus_boundaries': GeoDataFrame shape: (276881, 1) (2D shapes)\n",
      "└── Table\n",
      "      └── AnnData object with n_obs × n_vars = 276881 × 469\n",
      "    obs: 'cell_id', 'transcript_counts', 'control_probe_counts', 'control_codeword_counts', 'unassigned_codeword_counts', 'deprecated_codeword_counts', 'total_counts', 'cell_area', 'nucleus_area', 'region', 'Sample'\n",
      "    var: 'gene_ids', 'feature_types', 'genome'\n",
      "    uns: 'spatialdata_attrs', 'spatial', 'original_ix'\n",
      "    obsm: 'spatial'\n",
      "    layers: 'counts': AnnData (276881, 469)\n",
      "with coordinate systems:\n",
      "▸ 'global', with elements:\n",
      "        morphology_focus (Images), morphology_mip (Images), transcripts (Points), cell_boundaries (Shapes), cell_circles (Shapes), nucleus_boundaries (Shapes)\n",
      "None\n",
      "\n",
      "\n",
      " AnnData object with n_obs × n_vars = 276881 × 469\n",
      "    obs: 'cell_id', 'transcript_counts', 'control_probe_counts', 'control_codeword_counts', 'unassigned_codeword_counts', 'deprecated_codeword_counts', 'total_counts', 'cell_area', 'nucleus_area', 'region', 'Sample'\n",
      "    var: 'gene_ids', 'feature_types', 'genome'\n",
      "    uns: 'spatialdata_attrs', 'spatial', 'original_ix'\n",
      "    obsm: 'spatial'\n",
      "    layers: 'counts' \n",
      "\n",
      "                      gene_ids    feature_types   genome\n",
      "gene_symbols                                           \n",
      "ABCA7         ENSG00000064687  Gene Expression  Unknown\n",
      "ACTA2         ENSG00000107796  Gene Expression  Unknown\n",
      "ACTG2         ENSG00000163017  Gene Expression  Unknown\n",
      "ADAM15        ENSG00000143537  Gene Expression  Unknown\n",
      "ADAM28        ENSG00000042980  Gene Expression  Unknown \n",
      "\n",
      "       cell_id  transcript_counts  control_probe_counts  \\\n",
      "0  aaaahemo-1                145                     0   \n",
      "1  aaaamioh-1                 28                     0   \n",
      "2  aaabdmfg-1                 28                     0   \n",
      "3  aaabjabe-1                145                     0   \n",
      "4  aaabkpll-1                166                     0   \n",
      "\n",
      "   control_codeword_counts  unassigned_codeword_counts  \\\n",
      "0                        0                           0   \n",
      "1                        0                           0   \n",
      "2                        0                           0   \n",
      "3                        0                           0   \n",
      "4                        0                           0   \n",
      "\n",
      "   deprecated_codeword_counts  total_counts  cell_area  nucleus_area  \\\n",
      "0                           0           145  92.434847     14.675782   \n",
      "1                           0            28  25.152032      9.798907   \n",
      "2                           0            28  31.428751     17.249688   \n",
      "3                           0           145  60.057815     28.087189   \n",
      "4                           0           166  80.649065     21.539532   \n",
      "\n",
      "         region           Sample  \n",
      "0  cell_circles  Inflamed-50452B  \n",
      "1  cell_circles  Inflamed-50452B  \n",
      "2  cell_circles  Inflamed-50452B  \n",
      "3  cell_circles  Inflamed-50452B  \n",
      "4  cell_circles  Inflamed-50452B  \n",
      "\n",
      "\n",
      "\n",
      "col_gene_symbols=\"gene_symbols\"\n",
      "col_cell_type=\"Annotation\"\n",
      "col_sample_id=\"Sample\"\n",
      "col_batch=\"Slide\"\n",
      "col_subject=\"Patient\"\n",
      "col_condition=None\n",
      "col_num_umis=None\n",
      "col_segment=\"region\"\n",
      "\n",
      "\n",
      "\n",
      "key_control=None\n",
      "key_treatment=None\n",
      "\n",
      "\n",
      "<<< INITIALIZING SPATIAL CLASS OBJECT >>>\n",
      "\n",
      "\n",
      "\n",
      "<<< INITIALIZING OMICS CLASS OBJECT >>>\n",
      "\n",
      "Unused keyword arguments: {'library_id': 'Stricture-50452C', 'visium': False}.\n",
      "\n",
      "\n",
      "\n",
      "\n",
      "col_gene_symbols=\"gene_symbols\"\n",
      "col_cell_type=\"Annotation\"\n",
      "col_sample_id=\"Sample\"\n",
      "col_batch=\"Slide\"\n",
      "col_subject=\"Patient\"\n",
      "col_condition=None\n",
      "col_num_umis=None\n",
      "\n",
      "\n",
      "\n",
      "key_control=None\n",
      "key_treatment=None\n",
      "\u001b[34mINFO    \u001b[0m reading                                                                                                   \n",
      "         \u001b[35m/mnt/cho_lab/disk2/elizabeth/data/shared-xenium-library/outputs/TUQ97N/CHO-001/output-XETG00189__0010663__\u001b[0m\n",
      "         \u001b[35m50452C-TUQ97N-EA__20240126__205019/\u001b[0m\u001b[95mcell_feature_matrix.h5\u001b[0m                                                 \n",
      "WARNING: Unable to find `y`, `x` or `z` dimension in `('c', 'y', 'x')`. Renaming to `('channels', 'y', 'x', 'z')`\n",
      "WARNING: Unable to find `y`, `x` or `z` dimension in `('c', 'y', 'x')`. Renaming to `('channels', 'y', 'x', 'z')`\n",
      "WARNING: Unable to find `y`, `x` or `z` dimension in `('c', 'y', 'x')`. Renaming to `('channels', 'y', 'x', 'z')`\n",
      "WARNING: Unable to find `y`, `x` or `z` dimension in `('c', 'y', 'x')`. Renaming to `('channels', 'y', 'x', 'z')`\n",
      "WARNING: Unable to find `y`, `x` or `z` dimension in `('c', 'y', 'x')`. Renaming to `('channels', 'y', 'x', 'z')`\n",
      "WARNING: Unable to find `y`, `x` or `z` dimension in `('c', 'y', 'x')`. Renaming to `('channels', 'y', 'x', 'z')`\n",
      "WARNING: Unable to find `y`, `x` or `z` dimension in `('c', 'y', 'x')`. Renaming to `('channels', 'y', 'x', 'z')`\n",
      "WARNING: Unable to find `y`, `x` or `z` dimension in `('c', 'y', 'x')`. Renaming to `('channels', 'y', 'x', 'z')`\n",
      "WARNING: Unable to find `y`, `x` or `z` dimension in `('c', 'y', 'x')`. Renaming to `('channels', 'y', 'x', 'z')`\n",
      "WARNING: Unable to find `y`, `x` or `z` dimension in `('c', 'y', 'x')`. Renaming to `('channels', 'y', 'x', 'z')`\n",
      "dsfasfda AnnData object with n_obs × n_vars = 613026 × 469\n",
      "    obs: 'cell_id', 'transcript_counts', 'control_probe_counts', 'control_codeword_counts', 'unassigned_codeword_counts', 'deprecated_codeword_counts', 'total_counts', 'cell_area', 'nucleus_area', 'region', 'Sample'\n",
      "    var: 'gene_ids', 'feature_types', 'genome'\n",
      "    uns: 'spatialdata_attrs', 'spatial', 'original_ix'\n",
      "    obsm: 'spatial'\n",
      "\n",
      "\n",
      "================================================================================\n",
      "Cell Counts: Initial\n",
      "================================================================================\n",
      "\n",
      "\n",
      "Observations: 613026\n",
      "\n",
      "\n",
      "\n",
      "================================================================================\n",
      "Gene Counts: Initial\n",
      "================================================================================\n",
      "\n",
      "Empty DataFrame\n",
      "Columns: [index, gene_ids, feature_types, genome]\n",
      "Index: []\n",
      "\n",
      "\n",
      "\n",
      "\n",
      "\n",
      " SpatialData object with:\n",
      "├── Images\n",
      "│     ├── 'morphology_focus': MultiscaleSpatialImage[cyx] (1, 98585, 48410), (1, 49292, 24205), (1, 24646, 12102), (1, 12323, 6051), (1, 6161, 3025)\n",
      "│     └── 'morphology_mip': MultiscaleSpatialImage[cyx] (1, 98585, 48410), (1, 49292, 24205), (1, 24646, 12102), (1, 12323, 6051), (1, 6161, 3025)\n",
      "├── Points\n",
      "│     └── 'transcripts': DataFrame with shape: (<Delayed>, 10) (3D points)\n",
      "├── Shapes\n",
      "│     ├── 'cell_boundaries': GeoDataFrame shape: (613026, 1) (2D shapes)\n",
      "│     ├── 'cell_circles': GeoDataFrame shape: (613026, 2) (2D shapes)\n",
      "│     └── 'nucleus_boundaries': GeoDataFrame shape: (613026, 1) (2D shapes)\n",
      "└── Table\n",
      "      └── AnnData object with n_obs × n_vars = 613026 × 469\n",
      "    obs: 'cell_id', 'transcript_counts', 'control_probe_counts', 'control_codeword_counts', 'unassigned_codeword_counts', 'deprecated_codeword_counts', 'total_counts', 'cell_area', 'nucleus_area', 'region', 'Sample'\n",
      "    var: 'gene_ids', 'feature_types', 'genome'\n",
      "    uns: 'spatialdata_attrs', 'spatial', 'original_ix'\n",
      "    obsm: 'spatial'\n",
      "    layers: 'counts': AnnData (613026, 469)\n",
      "with coordinate systems:\n",
      "▸ 'global', with elements:\n",
      "        morphology_focus (Images), morphology_mip (Images), transcripts (Points), cell_boundaries (Shapes), cell_circles (Shapes), nucleus_boundaries (Shapes)\n",
      "None\n",
      "\n",
      "\n",
      " AnnData object with n_obs × n_vars = 613026 × 469\n",
      "    obs: 'cell_id', 'transcript_counts', 'control_probe_counts', 'control_codeword_counts', 'unassigned_codeword_counts', 'deprecated_codeword_counts', 'total_counts', 'cell_area', 'nucleus_area', 'region', 'Sample'\n",
      "    var: 'gene_ids', 'feature_types', 'genome'\n",
      "    uns: 'spatialdata_attrs', 'spatial', 'original_ix'\n",
      "    obsm: 'spatial'\n",
      "    layers: 'counts' \n",
      "\n",
      "                      gene_ids    feature_types   genome\n",
      "gene_symbols                                           \n",
      "ABCA7         ENSG00000064687  Gene Expression  Unknown\n",
      "ACTA2         ENSG00000107796  Gene Expression  Unknown\n",
      "ACTG2         ENSG00000163017  Gene Expression  Unknown\n",
      "ADAM15        ENSG00000143537  Gene Expression  Unknown\n",
      "ADAM28        ENSG00000042980  Gene Expression  Unknown \n",
      "\n",
      "       cell_id  transcript_counts  control_probe_counts  \\\n",
      "0  aaaafddg-1                 12                     0   \n",
      "1  aaaafdmg-1                306                     0   \n",
      "2  aaaafkdp-1                203                     0   \n",
      "3  aaaafnae-1                248                     0   \n",
      "4  aaaahffg-1                280                     0   \n",
      "\n",
      "   control_codeword_counts  unassigned_codeword_counts  \\\n",
      "0                        0                           0   \n",
      "1                        0                           0   \n",
      "2                        0                           0   \n",
      "3                        0                           0   \n",
      "4                        0                           0   \n",
      "\n",
      "   deprecated_codeword_counts  total_counts   cell_area  nucleus_area  \\\n",
      "0                           0            12  833.900499      6.547656   \n",
      "1                           0           306  595.610959     23.797345   \n",
      "2                           0           203  353.844388     13.817813   \n",
      "3                           0           248  440.183141     10.882657   \n",
      "4                           0           280  371.726263     54.684221   \n",
      "\n",
      "         region            Sample  \n",
      "0  cell_circles  Stricture-50452C  \n",
      "1  cell_circles  Stricture-50452C  \n",
      "2  cell_circles  Stricture-50452C  \n",
      "3  cell_circles  Stricture-50452C  \n",
      "4  cell_circles  Stricture-50452C  \n",
      "\n",
      "\n",
      "\n",
      "col_gene_symbols=\"gene_symbols\"\n",
      "col_cell_type=\"Annotation\"\n",
      "col_sample_id=\"Sample\"\n",
      "col_batch=\"Slide\"\n",
      "col_subject=\"Patient\"\n",
      "col_condition=None\n",
      "col_num_umis=None\n",
      "col_segment=\"region\"\n",
      "\n",
      "\n",
      "\n",
      "key_control=None\n",
      "key_treatment=None\n",
      "CPU times: user 3min 50s, sys: 8.13 s, total: 3min 58s\n",
      "Wall time: 3min 55s\n"
     ]
    }
   ],
   "source": [
    "%%time\n",
    "\n",
    "# metadata = dict(zip([\"Uninflamed-50452A\", \"Inflamed-50452B\"], [\n",
    "#     metadata[x] for x in [\"Uninflamed-50452A\", \"Inflamed-50452B\"]]))\n",
    "suff = str(f\"res{re.sub('[.]', 'pt', str(resolution))}_dist\"\n",
    "           f\"{re.sub('[.]', 'pt', str(min_dist))}_npc{n_comps}\")  # file end\n",
    "selves = []\n",
    "for x in metadata.index.values:\n",
    "    self = cr.Spatial(metadata.loc[x][col_path], library_id=x, **kws_init)\n",
    "    for i in metadata:  # add metadata for subject\n",
    "        self.rna.obs.loc[:, i] = str(metadata.loc[x][i])  # add metadata\n",
    "    selves += [self]\n",
    "        # out_files += [os.path.join(out_dir, f\"{x}.zarr\")]\n",
    "# # self.print_tiff()  # print tiff info"
   ]
  },
  {
   "cell_type": "code",
   "execution_count": 11,
   "metadata": {},
   "outputs": [
    {
     "data": {
      "text/plain": [
       "SpatialData object with:\n",
       "├── Images\n",
       "│     ├── 'morphology_focus': MultiscaleSpatialImage[cyx] (1, 98585, 48410), (1, 49292, 24205), (1, 24646, 12102), (1, 12323, 6051), (1, 6161, 3025)\n",
       "│     └── 'morphology_mip': MultiscaleSpatialImage[cyx] (1, 98585, 48410), (1, 49292, 24205), (1, 24646, 12102), (1, 12323, 6051), (1, 6161, 3025)\n",
       "├── Points\n",
       "│     └── 'transcripts': DataFrame with shape: (<Delayed>, 10) (3D points)\n",
       "├── Shapes\n",
       "│     ├── 'cell_boundaries': GeoDataFrame shape: (613026, 1) (2D shapes)\n",
       "│     ├── 'cell_circles': GeoDataFrame shape: (613026, 2) (2D shapes)\n",
       "│     └── 'nucleus_boundaries': GeoDataFrame shape: (613026, 1) (2D shapes)\n",
       "└── Table\n",
       "      └── AnnData object with n_obs × n_vars = 588249 × 469\n",
       "    obs: 'cell_id', 'transcript_counts', 'control_probe_counts', 'control_codeword_counts', 'unassigned_codeword_counts', 'deprecated_codeword_counts', 'total_counts', 'cell_area', 'nucleus_area', 'region', 'Sample', 'Sample ID', 'Patient', 'Status', 'Project', 'Sample Location', 'Inflamed', 'Slide', 'GRID ID', 'Procedure Date', 'Age', 'Sex', 'Race', 'Hispanic', 'Diagnosis', 'Project.1', 'Procedure', 'Disease Status', 'Date Collected', 'Date Sectioned', 'Date of Hybridization', 'Storage in 4C', 'Created By', 'Created', 'Storage Status', 'Sample Location.1', 'Storage Row', 'Storage Col', 'Checked Out By', 'Stricture', 'Condition', 'file_path', 'n_counts', 'log_counts', 'n_genes', 'n_genes_by_counts', 'log1p_n_genes_by_counts', 'log1p_total_counts', 'assay_protein', 'col_gene_symbols', 'col_cell_type', 'col_sample_id', 'col_batch', 'col_subject', 'col_condition', 'col_num_umis', 'col_segment', 'cell_filter_pmt', 'cell_filter_ncounts', 'cell_filter_ngene', 'gene_filter_ncell', 'gene_filter_ncounts', 'custom_thresholds', 'figsize', 'kws_scale', 'method_cluster', 'leiden', 'kws_pca', 'kws_umap', 'kws_neighbors', 'kws_cluster', 'resolution', 'genes_subset', 'Annotation'\n",
       "    var: 'gene_ids', 'feature_types', 'genome', 'mt', 'ribo', 'hb', 'n_cells_by_counts', 'mean_counts', 'log1p_mean_counts', 'pct_dropout_by_counts', 'total_counts', 'log1p_total_counts', 'n_cells', 'n_counts', 'highly_variable', 'means', 'dispersions', 'dispersions_norm', 'mean', 'std'\n",
       "    uns: 'Patient_colors', 'Sample_colors', 'Slide_colors', 'hvg', 'leiden', 'leiden_colors', 'log1p', 'neighbors', 'original_ix', 'pca', 'spatialdata_attrs', 'umap', 'spatial'\n",
       "    obsm: 'X_pca', 'X_umap', 'spatial'\n",
       "    varm: 'PCs'\n",
       "    layers: 'counts', 'log1p', 'scaled'\n",
       "    obsp: 'connectivities', 'distances': AnnData (588249, 469)\n",
       "with coordinate systems:\n",
       "▸ 'global', with elements:\n",
       "        morphology_focus (Images), morphology_mip (Images), transcripts (Points), cell_boundaries (Shapes), cell_circles (Shapes), nucleus_boundaries (Shapes)"
      ]
     },
     "execution_count": 11,
     "metadata": {},
     "output_type": "execute_result"
    }
   ],
   "source": [
    "# threshold = 20\n",
    "# self.adata.points[\"transcripts\"][self.adata.points[\"transcripts\"].qv >= threshold].compute().shape\n",
    "self.adata"
   ]
  },
  {
   "cell_type": "code",
   "execution_count": 20,
   "metadata": {},
   "outputs": [
    {
     "ename": "TypeError",
     "evalue": "Unsupported type: <class 'pandas.core.frame.DataFrame'>",
     "output_type": "error",
     "traceback": [
      "\u001b[0;31m---------------------------------------------------------------------------\u001b[0m",
      "\u001b[0;31mTypeError\u001b[0m                                 Traceback (most recent call last)",
      "Cell \u001b[0;32mIn[20], line 1\u001b[0m\n\u001b[0;32m----> 1\u001b[0m \u001b[38;5;28;43mself\u001b[39;49m\u001b[38;5;241;43m.\u001b[39;49m\u001b[43madata\u001b[49m\u001b[38;5;241;43m.\u001b[39;49m\u001b[43madd_labels\u001b[49m\u001b[43m(\u001b[49m\u001b[38;5;124;43m\"\u001b[39;49m\u001b[38;5;124;43mshapes\u001b[39;49m\u001b[38;5;124;43m\"\u001b[39;49m\u001b[43m,\u001b[49m\u001b[43m \u001b[49m\u001b[38;5;28;43mself\u001b[39;49m\u001b[38;5;241;43m.\u001b[39;49m\u001b[43madata\u001b[49m\u001b[38;5;241;43m.\u001b[39;49m\u001b[43mtable\u001b[49m\u001b[38;5;241;43m.\u001b[39;49m\u001b[43mobs\u001b[49m\u001b[43m[\u001b[49m\u001b[43m[\u001b[49m\u001b[38;5;124;43m\"\u001b[39;49m\u001b[38;5;124;43mAnnotation\u001b[39;49m\u001b[38;5;124;43m\"\u001b[39;49m\u001b[43m]\u001b[49m\u001b[43m]\u001b[49m\u001b[43m)\u001b[49m\n",
      "File \u001b[0;32m~/miniconda3/envs/py-bio/lib/python3.10/site-packages/spatialdata/_core/spatialdata.py:796\u001b[0m, in \u001b[0;36mSpatialData.add_labels\u001b[0;34m(self, name, labels, storage_options, overwrite)\u001b[0m\n\u001b[1;32m    794\u001b[0m     \u001b[38;5;28mself\u001b[39m\u001b[38;5;241m.\u001b[39m_add_labels_in_memory(name\u001b[38;5;241m=\u001b[39mname, labels\u001b[38;5;241m=\u001b[39mlabels, overwrite\u001b[38;5;241m=\u001b[39m\u001b[38;5;28;01mTrue\u001b[39;00m)\n\u001b[1;32m    795\u001b[0m \u001b[38;5;28;01melse\u001b[39;00m:\n\u001b[0;32m--> 796\u001b[0m     \u001b[38;5;28;43mself\u001b[39;49m\u001b[38;5;241;43m.\u001b[39;49m\u001b[43m_add_labels_in_memory\u001b[49m\u001b[43m(\u001b[49m\u001b[43mname\u001b[49m\u001b[38;5;241;43m=\u001b[39;49m\u001b[43mname\u001b[49m\u001b[43m,\u001b[49m\u001b[43m \u001b[49m\u001b[43mlabels\u001b[49m\u001b[38;5;241;43m=\u001b[39;49m\u001b[43mlabels\u001b[49m\u001b[43m,\u001b[49m\u001b[43m \u001b[49m\u001b[43moverwrite\u001b[49m\u001b[38;5;241;43m=\u001b[39;49m\u001b[43moverwrite\u001b[49m\u001b[43m)\u001b[49m\n",
      "File \u001b[0;32m~/miniconda3/envs/py-bio/lib/python3.10/site-packages/spatialdata/_core/spatialdata.py:319\u001b[0m, in \u001b[0;36mSpatialData._add_labels_in_memory\u001b[0;34m(self, name, labels, overwrite)\u001b[0m\n\u001b[1;32m    317\u001b[0m \u001b[38;5;28;01mif\u001b[39;00m name \u001b[38;5;129;01min\u001b[39;00m \u001b[38;5;28mself\u001b[39m\u001b[38;5;241m.\u001b[39m_labels \u001b[38;5;129;01mand\u001b[39;00m \u001b[38;5;129;01mnot\u001b[39;00m overwrite:\n\u001b[1;32m    318\u001b[0m     \u001b[38;5;28;01mraise\u001b[39;00m \u001b[38;5;167;01mKeyError\u001b[39;00m(\u001b[38;5;124mf\u001b[39m\u001b[38;5;124m\"\u001b[39m\u001b[38;5;124mLabels \u001b[39m\u001b[38;5;132;01m{\u001b[39;00mname\u001b[38;5;132;01m}\u001b[39;00m\u001b[38;5;124m already exists in the dataset.\u001b[39m\u001b[38;5;124m\"\u001b[39m)\n\u001b[0;32m--> 319\u001b[0m ndim \u001b[38;5;241m=\u001b[39m \u001b[38;5;28mlen\u001b[39m(\u001b[43mget_axes_names\u001b[49m\u001b[43m(\u001b[49m\u001b[43mlabels\u001b[49m\u001b[43m)\u001b[49m)\n\u001b[1;32m    320\u001b[0m \u001b[38;5;28;01mif\u001b[39;00m ndim \u001b[38;5;241m==\u001b[39m \u001b[38;5;241m2\u001b[39m:\n\u001b[1;32m    321\u001b[0m     Label2D_s\u001b[38;5;241m.\u001b[39mvalidate(labels)\n",
      "File \u001b[0;32m~/miniconda3/envs/py-bio/lib/python3.10/functools.py:889\u001b[0m, in \u001b[0;36msingledispatch.<locals>.wrapper\u001b[0;34m(*args, **kw)\u001b[0m\n\u001b[1;32m    885\u001b[0m \u001b[38;5;28;01mif\u001b[39;00m \u001b[38;5;129;01mnot\u001b[39;00m args:\n\u001b[1;32m    886\u001b[0m     \u001b[38;5;28;01mraise\u001b[39;00m \u001b[38;5;167;01mTypeError\u001b[39;00m(\u001b[38;5;124mf\u001b[39m\u001b[38;5;124m'\u001b[39m\u001b[38;5;132;01m{\u001b[39;00mfuncname\u001b[38;5;132;01m}\u001b[39;00m\u001b[38;5;124m requires at least \u001b[39m\u001b[38;5;124m'\u001b[39m\n\u001b[1;32m    887\u001b[0m                     \u001b[38;5;124m'\u001b[39m\u001b[38;5;124m1 positional argument\u001b[39m\u001b[38;5;124m'\u001b[39m)\n\u001b[0;32m--> 889\u001b[0m \u001b[38;5;28;01mreturn\u001b[39;00m \u001b[43mdispatch\u001b[49m\u001b[43m(\u001b[49m\u001b[43margs\u001b[49m\u001b[43m[\u001b[49m\u001b[38;5;241;43m0\u001b[39;49m\u001b[43m]\u001b[49m\u001b[38;5;241;43m.\u001b[39;49m\u001b[38;5;18;43m__class__\u001b[39;49m\u001b[43m)\u001b[49m\u001b[43m(\u001b[49m\u001b[38;5;241;43m*\u001b[39;49m\u001b[43margs\u001b[49m\u001b[43m,\u001b[49m\u001b[43m \u001b[49m\u001b[38;5;241;43m*\u001b[39;49m\u001b[38;5;241;43m*\u001b[39;49m\u001b[43mkw\u001b[49m\u001b[43m)\u001b[49m\n",
      "File \u001b[0;32m~/miniconda3/envs/py-bio/lib/python3.10/site-packages/spatialdata/models/_utils.py:130\u001b[0m, in \u001b[0;36mget_axes_names\u001b[0;34m(e)\u001b[0m\n\u001b[1;32m    116\u001b[0m \u001b[38;5;129m@singledispatch\u001b[39m\n\u001b[1;32m    117\u001b[0m \u001b[38;5;28;01mdef\u001b[39;00m \u001b[38;5;21mget_axes_names\u001b[39m(e: SpatialElement) \u001b[38;5;241m-\u001b[39m\u001b[38;5;241m>\u001b[39m \u001b[38;5;28mtuple\u001b[39m[\u001b[38;5;28mstr\u001b[39m, \u001b[38;5;241m.\u001b[39m\u001b[38;5;241m.\u001b[39m\u001b[38;5;241m.\u001b[39m]:\n\u001b[1;32m    118\u001b[0m \u001b[38;5;250m    \u001b[39m\u001b[38;5;124;03m\"\"\"\u001b[39;00m\n\u001b[1;32m    119\u001b[0m \u001b[38;5;124;03m    Get the dimensions of a SpatialElement.\u001b[39;00m\n\u001b[1;32m    120\u001b[0m \n\u001b[0;32m   (...)\u001b[0m\n\u001b[1;32m    128\u001b[0m \u001b[38;5;124;03m    Dimensions of the SpatialElement (e.g. (\"z\", \"y\", \"x\"))\u001b[39;00m\n\u001b[1;32m    129\u001b[0m \u001b[38;5;124;03m    \"\"\"\u001b[39;00m\n\u001b[0;32m--> 130\u001b[0m     \u001b[38;5;28;01mraise\u001b[39;00m \u001b[38;5;167;01mTypeError\u001b[39;00m(\u001b[38;5;124mf\u001b[39m\u001b[38;5;124m\"\u001b[39m\u001b[38;5;124mUnsupported type: \u001b[39m\u001b[38;5;132;01m{\u001b[39;00m\u001b[38;5;28mtype\u001b[39m(e)\u001b[38;5;132;01m}\u001b[39;00m\u001b[38;5;124m\"\u001b[39m)\n",
      "\u001b[0;31mTypeError\u001b[0m: Unsupported type: <class 'pandas.core.frame.DataFrame'>"
     ]
    }
   ],
   "source": [
    "self.adata.add_labels(\"shapes\", self.adata.table.obs[[\"Annotation\"]])"
   ]
  },
  {
   "cell_type": "code",
   "execution_count": 10,
   "metadata": {},
   "outputs": [
    {
     "ename": "TypeError",
     "evalue": "plot_tiff() missing 1 required positional argument: 'file_tiff'",
     "output_type": "error",
     "traceback": [
      "\u001b[0;31m---------------------------------------------------------------------------\u001b[0m",
      "\u001b[0;31mTypeError\u001b[0m                                 Traceback (most recent call last)",
      "Cell \u001b[0;32mIn[10], line 1\u001b[0m\n\u001b[0;32m----> 1\u001b[0m \u001b[43mcr\u001b[49m\u001b[38;5;241;43m.\u001b[39;49m\u001b[43mpl\u001b[49m\u001b[38;5;241;43m.\u001b[39;49m\u001b[43mplot_tiff\u001b[49m\u001b[43m(\u001b[49m\u001b[43m)\u001b[49m\n",
      "\u001b[0;31mTypeError\u001b[0m: plot_tiff() missing 1 required positional argument: 'file_tiff'"
     ]
    }
   ],
   "source": [
    "cr.pl.plot_tiff()"
   ]
  },
  {
   "cell_type": "code",
   "execution_count": null,
   "metadata": {},
   "outputs": [],
   "source": [
    "plotter = spatialdata_plot.pl.basic.PlotAccessor(self.adata)\n",
    "plotter.render_shapes().pl.show()"
   ]
  },
  {
   "cell_type": "code",
   "execution_count": 9,
   "metadata": {},
   "outputs": [
    {
     "data": {
      "text/plain": [
       "SpatialData object with:\n",
       "├── Images\n",
       "│     ├── 'morphology_focus': MultiscaleSpatialImage[cyx] (1, 98585, 48410), (1, 49292, 24205), (1, 24646, 12102), (1, 12323, 6051), (1, 6161, 3025)\n",
       "│     └── 'morphology_mip': MultiscaleSpatialImage[cyx] (1, 98585, 48410), (1, 49292, 24205), (1, 24646, 12102), (1, 12323, 6051), (1, 6161, 3025)\n",
       "├── Points\n",
       "│     └── 'transcripts': DataFrame with shape: (<Delayed>, 10) (3D points)\n",
       "├── Shapes\n",
       "│     ├── 'cell_boundaries': GeoDataFrame shape: (613026, 1) (2D shapes)\n",
       "│     ├── 'cell_circles': GeoDataFrame shape: (613026, 2) (2D shapes)\n",
       "│     └── 'nucleus_boundaries': GeoDataFrame shape: (613026, 1) (2D shapes)\n",
       "└── Table\n",
       "      └── AnnData object with n_obs × n_vars = 588249 × 469\n",
       "    obs: 'cell_id', 'transcript_counts', 'control_probe_counts', 'control_codeword_counts', 'unassigned_codeword_counts', 'deprecated_codeword_counts', 'total_counts', 'cell_area', 'nucleus_area', 'region', 'Sample', 'Sample ID', 'Patient', 'Status', 'Project', 'Sample Location', 'Inflamed', 'Slide', 'GRID ID', 'Procedure Date', 'Age', 'Sex', 'Race', 'Hispanic', 'Diagnosis', 'Project.1', 'Procedure', 'Disease Status', 'Date Collected', 'Date Sectioned', 'Date of Hybridization', 'Storage in 4C', 'Created By', 'Created', 'Storage Status', 'Sample Location.1', 'Storage Row', 'Storage Col', 'Checked Out By', 'Stricture', 'Condition', 'file_path', 'n_counts', 'log_counts', 'n_genes', 'n_genes_by_counts', 'log1p_n_genes_by_counts', 'log1p_total_counts', 'assay_protein', 'col_gene_symbols', 'col_cell_type', 'col_sample_id', 'col_batch', 'col_subject', 'col_condition', 'col_num_umis', 'col_segment', 'cell_filter_pmt', 'cell_filter_ncounts', 'cell_filter_ngene', 'gene_filter_ncell', 'gene_filter_ncounts', 'custom_thresholds', 'figsize', 'kws_scale', 'method_cluster', 'leiden', 'kws_pca', 'kws_umap', 'kws_neighbors', 'kws_cluster', 'resolution', 'genes_subset', 'Annotation'\n",
       "    var: 'gene_ids', 'feature_types', 'genome', 'mt', 'ribo', 'hb', 'n_cells_by_counts', 'mean_counts', 'log1p_mean_counts', 'pct_dropout_by_counts', 'total_counts', 'log1p_total_counts', 'n_cells', 'n_counts', 'highly_variable', 'means', 'dispersions', 'dispersions_norm', 'mean', 'std'\n",
       "    uns: 'Patient_colors', 'Sample_colors', 'Slide_colors', 'hvg', 'leiden', 'leiden_colors', 'log1p', 'neighbors', 'original_ix', 'pca', 'spatialdata_attrs', 'umap', 'spatial'\n",
       "    obsm: 'X_pca', 'X_umap', 'spatial'\n",
       "    varm: 'PCs'\n",
       "    layers: 'counts', 'log1p', 'scaled'\n",
       "    obsp: 'connectivities', 'distances': AnnData (588249, 469)\n",
       "with coordinate systems:\n",
       "▸ 'global', with elements:\n",
       "        morphology_focus (Images), morphology_mip (Images), transcripts (Points), cell_boundaries (Shapes), cell_circles (Shapes), nucleus_boundaries (Shapes)"
      ]
     },
     "execution_count": 9,
     "metadata": {},
     "output_type": "execute_result"
    }
   ],
   "source": []
  },
  {
   "cell_type": "code",
   "execution_count": null,
   "metadata": {},
   "outputs": [],
   "source": [
    "dir(plotter)"
   ]
  },
  {
   "cell_type": "code",
   "execution_count": null,
   "metadata": {},
   "outputs": [],
   "source": [
    "dir(self.adata)"
   ]
  },
  {
   "cell_type": "code",
   "execution_count": null,
   "metadata": {},
   "outputs": [],
   "source": [
    "self.adata.images"
   ]
  },
  {
   "cell_type": "code",
   "execution_count": null,
   "metadata": {},
   "outputs": [],
   "source": [
    "self = selves[1]\n",
    "\n",
    "sdata_im = self.adata.aggregate(values=\"transcripts\", by=\"cell_boundaries\", agg_func=\"count\")\n",
    "sdata_im"
   ]
  },
  {
   "cell_type": "code",
   "execution_count": null,
   "metadata": {},
   "outputs": [],
   "source": [
    "self.adata.points[\"transcripts\"].feature_name.compute()"
   ]
  },
  {
   "cell_type": "code",
   "execution_count": null,
   "metadata": {},
   "outputs": [],
   "source": [
    "self.adata.points"
   ]
  },
  {
   "cell_type": "code",
   "execution_count": null,
   "metadata": {},
   "outputs": [],
   "source": [
    "self.adata.shapes[\"cell_boundaries\"]"
   ]
  },
  {
   "cell_type": "code",
   "execution_count": null,
   "metadata": {},
   "outputs": [],
   "source": [
    "plotter = spatialdata_plot.pl.basic.PlotAccessor(self.adata)"
   ]
  },
  {
   "cell_type": "code",
   "execution_count": null,
   "metadata": {},
   "outputs": [],
   "source": [
    "from spatialdata_io.readers.xenium import xenium_aligned_image\n",
    "\n",
    "img = xenium_aligned_image(\"/mnt/cho_lab/disk2/elizabeth/data/shared-xenium-library/outputs/TUQ97N/CHO-001/output-XETG00189__0010700__50452A-TUQ97N-EA__20240126__205019/aux_outputs/50452-A (FFPE) - 2024-01-16 11.36.14.tif\", None)"
   ]
  },
  {
   "cell_type": "code",
   "execution_count": null,
   "metadata": {},
   "outputs": [],
   "source": [
    "dir(img)"
   ]
  },
  {
   "cell_type": "code",
   "execution_count": null,
   "metadata": {},
   "outputs": [],
   "source": [
    "import tiffile\n",
    "\n",
    "dir(tiffile)"
   ]
  },
  {
   "cell_type": "code",
   "execution_count": null,
   "metadata": {},
   "outputs": [],
   "source": [
    "plotter.render_shapes(elements=\"cell_boundaries\").pl.show()"
   ]
  },
  {
   "cell_type": "code",
   "execution_count": null,
   "metadata": {},
   "outputs": [],
   "source": [
    "plotter.render_points(elements=\"transcripts\", color=\"feature_name\", groups=\"CDKN1A\").pl.show(\"global\")"
   ]
  },
  {
   "cell_type": "code",
   "execution_count": null,
   "metadata": {},
   "outputs": [],
   "source": [
    "self.show(kinds=[\"images\", \"shapes\"], elements=[\"cell_boundaries\", \"morphology_mip\"], color={\"morphology_mip\": \"Annotation\"})\n",
    "# self.show(kinds=\"all\", elements=[\"IL23\", \"cell_boundaries\", \"morphology_mip\"])"
   ]
  },
  {
   "cell_type": "code",
   "execution_count": null,
   "metadata": {},
   "outputs": [],
   "source": [
    "import spatialdata_plot\n",
    "\n",
    "plotter = spatialdata_plot.pl.basic.PlotAccessor(self.adata)\n",
    "# # plotter.render_images(\"morphology_focus\").pl.show()\n",
    "# # plotter.render_points(elements=\"transcripts\", color=\"CDKN1A\").pl.show()\n",
    "# plotter.render_shapes(elements=\"cell_boundaries\", color=\"green\").pl.show()\n",
    "plotter.render_shapes(elements=\"cell_boundaries\", color=\"Annotation\").pl.show(\"global\")"
   ]
  },
  {
   "cell_type": "code",
   "execution_count": null,
   "metadata": {},
   "outputs": [],
   "source": [
    "plotter.render_points(elements=None, color=\"green\", groups=[\"STAT1\"]).pl.show(\"global\")"
   ]
  },
  {
   "cell_type": "code",
   "execution_count": null,
   "metadata": {},
   "outputs": [],
   "source": [
    "self"
   ]
  },
  {
   "cell_type": "code",
   "execution_count": null,
   "metadata": {},
   "outputs": [],
   "source": [
    "self.adata.pl.render_images().pl.render_shapes().pl.show()"
   ]
  },
  {
   "cell_type": "code",
   "execution_count": null,
   "metadata": {},
   "outputs": [],
   "source": [
    "fig, axs = plt.subplots(ncols=3, figsize=(12, 3))\n",
    "\n",
    "sdata.render_images().pl.show(ax=axs[0])\n",
    "sdata.pl.render_labels().pl.show(ax=axs[1])\n",
    "sdata.pl.render_shapes().pl.show(ax=axs[2])\n",
    "sdata.pl.render_images().pl.render_labels().pl.render_shapes().pl.show()"
   ]
  },
  {
   "cell_type": "code",
   "execution_count": null,
   "metadata": {},
   "outputs": [],
   "source": [
    "transcripts = self.read_parquet()\n",
    "transcripts"
   ]
  },
  {
   "cell_type": "code",
   "execution_count": null,
   "metadata": {},
   "outputs": [],
   "source": [
    "dir(self.adata.images[\"morphology_mip\"][\"scale0\"])"
   ]
  },
  {
   "cell_type": "code",
   "execution_count": null,
   "metadata": {},
   "outputs": [],
   "source": [
    "self.adata.images[\"morphology_mip\"][\"scale0\"]"
   ]
  },
  {
   "cell_type": "code",
   "execution_count": null,
   "metadata": {},
   "outputs": [],
   "source": [
    "\n",
    "dir(self.rna.uns[\"spatial\"][self._library_id][\"images\"][\"Stricture-50452C___morphology_mip_scale0\"])"
   ]
  },
  {
   "cell_type": "markdown",
   "metadata": {},
   "source": [
    "## All Data QC"
   ]
  },
  {
   "cell_type": "code",
   "execution_count": null,
   "metadata": {},
   "outputs": [],
   "source": [
    "hue = selves[0]._columns[\"col_sample_id\"]\n",
    "ids = [str(s.rna.obs[hue].iloc[0]) for s in selves]\n",
    "patterns = [(\"MT-\", \"mt-\"), (\"RPS\", \"RPL\", \"rps\", \"rpl\"), (\n",
    "    \"^HB[^(P)]\", \"^hb[^(p)]\")]  # pattern matching for gene symbols\n",
    "patterns = dict(zip([\"mt\", \"ribo\", \"hb\"], patterns))  # dictionary\n",
    "names = dict(zip([\"mt\", \"ribo\", \"hb\"],\n",
    "                    [\"Mitochondrial\", \"Ribosomal\", \"Hemoglobin\"]))\n",
    "p_names = [names[k] if k in names else k for k in patterns]  # \"pretty\"\n",
    "patterns_names = dict(zip(patterns, p_names))  # map abbreviated to pretty\n",
    "adata = AnnData.concatenate(\n",
    "    *[x.rna for x in selves], join=\"outer\", batch_key=hue,\n",
    "    batch_categories=ids, index_unique=None, uns_merge=\"unique\")\n",
    "qc_vars = []  # to hold mt, rb, hb, etc. if present in data\n",
    "for k in patterns:  # calculate MT, RB, HB counts\n",
    "    gvars = adata.var_names.str.startswith(patterns[k])\n",
    "    if any(gvars):\n",
    "        qc_vars += [k]\n",
    "    adata.var[k] = gvars\n",
    "pct_n = [f\"pct_counts_{k}\" for k in qc_vars]  # \"% counts\" variables\n",
    "cgs = selves[0]._columns[\"col_gene_symbols\"] if selves[\n",
    "    0].rna.var.index.values[0] not in selves[0].rna.var_names else None\n",
    "adata.obs = adata.obs.astype({col_condition: \"category\"})\n",
    "ggg = list(set(genes).intersection(adata.var_names))\n",
    "ctm = list(set([\"n_genes_by_counts\", \"total_counts\", \"log1p_total_counts\",\n",
    "                \"cell_area\", \"nucleus_area\"]\n",
    "               ).intersection(adata.obs.columns))\n",
    "vam = pct_n + ctm + [hue]  # QC variable names\n",
    "mets_df = adata.obs[vam].rename_axis(\"Metric\", axis=1).rename(\n",
    "    {\"total_counts\": \"Total Counts in Cell\", \"cell_area\": \"Cell Area\",\n",
    "     \"nucleus_area\": \"Nucleus Area\",\n",
    "     \"n_genes_by_counts\": \"Genes Detected in Cell\",\n",
    "     \"log1p_total_counts\": \"Log-Normalized Total Counts\",\n",
    "     **patterns_names}, axis=1)  # rename\n",
    "fff = sb.pairplot(\n",
    "    mets_df, hue=hue, height=3, diag_kind=\"hist\",\n",
    "    plot_kws=dict(marker=\".\", linewidth=0.05))  # pair"
   ]
  },
  {
   "cell_type": "markdown",
   "metadata": {},
   "source": [
    "## Update from Saved h5ad?"
   ]
  },
  {
   "cell_type": "code",
   "execution_count": 8,
   "metadata": {},
   "outputs": [
    {
     "name": "stdout",
     "output_type": "stream",
     "text": [
      "\n",
      "\n",
      "<<< RESTORING SINGLE-SAMPLE FROM h5ad >>>\n",
      "\n",
      "WARNING: Unable to find `y`, `x` or `z` dimension in `('c', 'y', 'x')`. Renaming to `('channels', 'y', 'x', 'z')`\n",
      "WARNING: Unable to find `y`, `x` or `z` dimension in `('c', 'y', 'x')`. Renaming to `('channels', 'y', 'x', 'z')`\n",
      "WARNING: Unable to find `y`, `x` or `z` dimension in `('c', 'y', 'x')`. Renaming to `('channels', 'y', 'x', 'z')`\n",
      "WARNING: Unable to find `y`, `x` or `z` dimension in `('c', 'y', 'x')`. Renaming to `('channels', 'y', 'x', 'z')`\n",
      "WARNING: Unable to find `y`, `x` or `z` dimension in `('c', 'y', 'x')`. Renaming to `('channels', 'y', 'x', 'z')`\n",
      "WARNING: Unable to find `y`, `x` or `z` dimension in `('c', 'y', 'x')`. Renaming to `('channels', 'y', 'x', 'z')`\n",
      "WARNING: Unable to find `y`, `x` or `z` dimension in `('c', 'y', 'x')`. Renaming to `('channels', 'y', 'x', 'z')`\n",
      "WARNING: Unable to find `y`, `x` or `z` dimension in `('c', 'y', 'x')`. Renaming to `('channels', 'y', 'x', 'z')`\n",
      "WARNING: Unable to find `y`, `x` or `z` dimension in `('c', 'y', 'x')`. Renaming to `('channels', 'y', 'x', 'z')`\n",
      "WARNING: Unable to find `y`, `x` or `z` dimension in `('c', 'y', 'x')`. Renaming to `('channels', 'y', 'x', 'z')`\n",
      "\n",
      "\n",
      "<<< RESTORING SINGLE-SAMPLE FROM h5ad >>>\n",
      "\n",
      "WARNING: Unable to find `y`, `x` or `z` dimension in `('c', 'y', 'x')`. Renaming to `('channels', 'y', 'x', 'z')`\n",
      "WARNING: Unable to find `y`, `x` or `z` dimension in `('c', 'y', 'x')`. Renaming to `('channels', 'y', 'x', 'z')`\n",
      "WARNING: Unable to find `y`, `x` or `z` dimension in `('c', 'y', 'x')`. Renaming to `('channels', 'y', 'x', 'z')`\n",
      "WARNING: Unable to find `y`, `x` or `z` dimension in `('c', 'y', 'x')`. Renaming to `('channels', 'y', 'x', 'z')`\n",
      "WARNING: Unable to find `y`, `x` or `z` dimension in `('c', 'y', 'x')`. Renaming to `('channels', 'y', 'x', 'z')`\n",
      "WARNING: Unable to find `y`, `x` or `z` dimension in `('c', 'y', 'x')`. Renaming to `('channels', 'y', 'x', 'z')`\n",
      "WARNING: Unable to find `y`, `x` or `z` dimension in `('c', 'y', 'x')`. Renaming to `('channels', 'y', 'x', 'z')`\n",
      "WARNING: Unable to find `y`, `x` or `z` dimension in `('c', 'y', 'x')`. Renaming to `('channels', 'y', 'x', 'z')`\n",
      "WARNING: Unable to find `y`, `x` or `z` dimension in `('c', 'y', 'x')`. Renaming to `('channels', 'y', 'x', 'z')`\n",
      "WARNING: Unable to find `y`, `x` or `z` dimension in `('c', 'y', 'x')`. Renaming to `('channels', 'y', 'x', 'z')`\n",
      "\n",
      "\n",
      "<<< RESTORING SINGLE-SAMPLE FROM h5ad >>>\n",
      "\n",
      "WARNING: Unable to find `y`, `x` or `z` dimension in `('c', 'y', 'x')`. Renaming to `('channels', 'y', 'x', 'z')`\n",
      "WARNING: Unable to find `y`, `x` or `z` dimension in `('c', 'y', 'x')`. Renaming to `('channels', 'y', 'x', 'z')`\n",
      "WARNING: Unable to find `y`, `x` or `z` dimension in `('c', 'y', 'x')`. Renaming to `('channels', 'y', 'x', 'z')`\n",
      "WARNING: Unable to find `y`, `x` or `z` dimension in `('c', 'y', 'x')`. Renaming to `('channels', 'y', 'x', 'z')`\n",
      "WARNING: Unable to find `y`, `x` or `z` dimension in `('c', 'y', 'x')`. Renaming to `('channels', 'y', 'x', 'z')`\n",
      "WARNING: Unable to find `y`, `x` or `z` dimension in `('c', 'y', 'x')`. Renaming to `('channels', 'y', 'x', 'z')`\n",
      "WARNING: Unable to find `y`, `x` or `z` dimension in `('c', 'y', 'x')`. Renaming to `('channels', 'y', 'x', 'z')`\n",
      "WARNING: Unable to find `y`, `x` or `z` dimension in `('c', 'y', 'x')`. Renaming to `('channels', 'y', 'x', 'z')`\n",
      "WARNING: Unable to find `y`, `x` or `z` dimension in `('c', 'y', 'x')`. Renaming to `('channels', 'y', 'x', 'z')`\n",
      "WARNING: Unable to find `y`, `x` or `z` dimension in `('c', 'y', 'x')`. Renaming to `('channels', 'y', 'x', 'z')`\n"
     ]
    }
   ],
   "source": [
    "if reload is True:\n",
    "    for i, s in enumerate(selves):\n",
    "        s.update_from_h5ad(file=out_files[i])"
   ]
  },
  {
   "cell_type": "markdown",
   "metadata": {},
   "source": [
    "## Check Genes"
   ]
  },
  {
   "cell_type": "code",
   "execution_count": null,
   "metadata": {},
   "outputs": [],
   "source": [
    "for s in selves:\n",
    "    _ = s.read_panel(directory=os.path.join(\n",
    "        ddd, metadata.loc[s._library_id][\"file_path\"]))"
   ]
  },
  {
   "cell_type": "markdown",
   "metadata": {},
   "source": [
    "## Explore"
   ]
  },
  {
   "cell_type": "code",
   "execution_count": null,
   "metadata": {},
   "outputs": [],
   "source": [
    "[s.print() for s in selves]\n",
    "# kim = f\"{self._library_id}{cr.pp.SPATIAL_IMAGE_KEY_SEP}morphology_mip\"\n",
    "# s.adata.pl.render_images(kim)\n",
    "# print(dir(s.adata.images[kim]))\n",
    "# s.adata.shapes[\"nucleus_boundaries\"]"
   ]
  },
  {
   "cell_type": "markdown",
   "metadata": {},
   "source": [
    "# Whole Process Example"
   ]
  },
  {
   "cell_type": "markdown",
   "metadata": {},
   "source": [
    "## Nebraska"
   ]
  },
  {
   "cell_type": "code",
   "execution_count": null,
   "metadata": {},
   "outputs": [],
   "source": [
    "# self = selves[0]\n",
    "# _ = self.preprocess(**kws_pp)\n",
    "# _ = self.cluster(**kws_cluster)\n",
    "# # self.adata.write(out_files[i], overwrite=True)  # optional, write object\n",
    "# self.calculate_centrality(n_jobs=4)\n",
    "# self.find_cooccurrence(figsize=(60, 20), kws_plot=dict(wspace=3))\n",
    "# self.find_svgs(genes=genes, method=\"moran\", n_perms=10, kws_plot=dict(\n",
    "#     legend_fontsize=\"large\"), figsize=(15, 15))\n",
    "# self.calculate_receptor_ligand(col_condition=False, p_threshold=0.001,\n",
    "#                                remove_ns=True, figsize=(20, 20))"
   ]
  },
  {
   "cell_type": "markdown",
   "metadata": {},
   "source": [
    "## Bare Squidpy"
   ]
  },
  {
   "cell_type": "code",
   "execution_count": null,
   "metadata": {},
   "outputs": [],
   "source": [
    "# import squidpy as sq\n",
    "# import scanpy as sc\n",
    "# import spatialdata_io as sdio\n",
    "\n",
    "# col_cell_type = \"leiden\"\n",
    "# n_jobs = 4\n",
    "# file = file_path_dict[list(file_path_dict.keys())[0]]\n",
    "\n",
    "# sdata = sdio.xenium(file, n_jobs=n_jobs)\n",
    "\n",
    "# sq.gr.spatial_neighbors(sdata.table)\n",
    "# sc.pp.pca(sdata.table)\n",
    "# sc.pp.neighbors(sdata.table)\n",
    "# sc.tl.leiden(sdata.table)\n",
    "# sq.gr.nhood_enrichment(sdata, cluster_key=col_cell_type, seed=1618)\n",
    "# sq.gr.co_occurrence(sdata, cluster_key=col_cell_type, n_jobs=n_jobs)\n",
    "# sq.pl.spatial_scatter(sdata, color=col_cell_type, shape=\"hex\")\n",
    "# cr.pl.plot_cooccurrence(sdata, col_cell_type=col_cell_type)\n",
    "# sq.gr.spatial_autocorr(sdata, mode=\"moran\", n_jobs=n_jobs)\n",
    "# sq.pl.spatial_scatter(adata, color=genes + [col_cell_type], shape=\"hex\")\n",
    "# sdata[0].images[\"morphology_mip\"]"
   ]
  },
  {
   "cell_type": "markdown",
   "metadata": {},
   "source": [
    "# Processing"
   ]
  },
  {
   "cell_type": "markdown",
   "metadata": {},
   "source": [
    "## Preprocessing"
   ]
  },
  {
   "cell_type": "code",
   "execution_count": null,
   "metadata": {},
   "outputs": [],
   "source": [
    "%%time\n",
    "\n",
    "# Perform Pre-Processing\n",
    "if reload is False:\n",
    "    print(kws_pp)\n",
    "    for s in selves:\n",
    "        _ = s.preprocess(**kws_pp, figsize=(20, 20))\n",
    "\n",
    "# Check Remaining Genes\n",
    "for s in selves:\n",
    "    _ = s.read_panel(directory=os.path.join(\n",
    "        ddd, metadata.loc[s._library_id][\"file_path\"]))"
   ]
  },
  {
   "cell_type": "markdown",
   "metadata": {},
   "source": [
    "## Clustering"
   ]
  },
  {
   "cell_type": "code",
   "execution_count": null,
   "metadata": {},
   "outputs": [],
   "source": [
    "%%time\n",
    "\n",
    "# Cluster & Write Objects\n",
    "if reload is False:\n",
    "    for i, s in enumerate(selves):\n",
    "        _ = s.cluster(**kws_cluster)  # cluster\n",
    "        _ = s.find_markers(n_genes=5, out_file=os.path.splitext(\n",
    "            out_files[i])[0] + \"_markers.csv\")  # find cluster gene markers\n",
    "        _ = s.annotate_clusters(file_ann, col_annotation=col_cell_type)\n",
    "        if out_files is not None and len(out_files) > 0:\n",
    "            s.write(out_files[i])  # write adata.table to h5ad\n",
    "        _ = s.plot_spatial(title=s._library_id, color=col_cell_type)  # plot"
   ]
  },
  {
   "cell_type": "markdown",
   "metadata": {},
   "source": [
    "## Markers"
   ]
  },
  {
   "cell_type": "code",
   "execution_count": null,
   "metadata": {},
   "outputs": [],
   "source": [
    "if out_files is not None:\n",
    "    for i, s in enumerate(selves[:2]):\n",
    "        mmm = s.find_markers(n_genes=5, out_file=os.path.splitext(\n",
    "            out_files[i])[0] + \"_markers.csv\")"
   ]
  },
  {
   "cell_type": "markdown",
   "metadata": {},
   "source": [
    "## Annotations"
   ]
  },
  {
   "cell_type": "code",
   "execution_count": null,
   "metadata": {},
   "outputs": [],
   "source": [
    "%%time\n",
    "\n",
    "for i, s in enumerate(selves):\n",
    "    col = \"Annotation\"\n",
    "    # _ = s.annotate_clusters(file_ann, col_annotation=col, renaming=True)\n",
    "    _ = s.annotate_clusters(file_ann, col_annotation=col, renaming=True,\n",
    "                            method=\"GEX\", col_annotation=col + \"_GEX\")\n",
    "    # s._columns[\"col_cell_type\"] = col + \"_GEX\"\n",
    "\n",
    "# Manual Annotations\n",
    "# annots = {\n",
    "#     0: {\"0\": \"Myofibroblast\", \"1\": \"Goblet\", \"2\": \"Cycling B\",\n",
    "#         \"3\": \"Fibroblast\", \"4\": \"Endothelial\",\n",
    "#         # \"5\": \"Goblet\",\n",
    "#         \"5\": \"Epithelial\",\n",
    "#         # \"6\": \"Goblet (Best, 2+?)\", \"7\": \"Myeloid (Macrophage? DC?)\",\n",
    "#         \"6\": \"Epithelial\", \"7\": \"Myeloid\",\n",
    "#         \"8\": \"Mesenchymal-Fibrolastic-Stromal 3\",\n",
    "#         \"9\": \"Plasma\", \"10\": \"T Cell\", \"11\": \"Macrophage, LYVE1+\",\n",
    "#         \"12\": \"Pericyte\", \"13\": \"Endothelial Lymphatic\",\n",
    "#         \"14\": \"Mast\", \"15\": \"Mesenchymal-Myocytic-Myofibroblast\"},\n",
    "#     1: {\"0\": \"Contractile Pericyte\",\n",
    "#         \"1\": \"Mesenchymal-Fibroblastic-Stromal 1,3\",\n",
    "#         \"2\": \"Endothelial\", \"3\": \"B Cell\", \"4\": \"T Cell\",\n",
    "#         \"5\": \"Mesenchymal-Fibroblastic-Stromal 1\", \"6\": \"Myofibroblast\",\n",
    "#         \"7\": \"Epithelial\", \"8\": \"Plasma\", \"9\": \"Macrophage\",\n",
    "#         \"10\": \"Myeloid\", \"11\": \"Mast\",\n",
    "#         \"12\": \"Lymphatic Endothelial\", \"13\": \"Neural\"},\n",
    "#     2: {\"0\": \"B Cell\", \"1\": \"Mesenchymal\", \"2\": \"T/NK Cell\",\n",
    "#         \"3\": \"Mesenchymal-Fibroblastic-Transitional Stromal 1\",\n",
    "#         \"4\": \"Smooth Muscle\", \"5\": \"Endothelial\", \"6\": \"Macrophage\",\n",
    "#         \"7\": \"Lymphatic Endothelial\",\n",
    "#         \"8\": \"Smooth Muscle/Pericyte/Myofibroblast?\",\n",
    "#         \"9\": \"IgA Plasma\", \"10\": \"Cycling B Cell\",\n",
    "#         \"11\": \"Epithelial-Enterocyte-Tuft?\", \"12\": \"Neural\"}\n",
    "# }\n",
    "\n",
    "# ONLY FOR RESOLUTION = 0.75,\n",
    "# JUST CELL TYPE GENES USED IN CLUSTERING,\n",
    "# MIN_DIST = 0.80\n",
    "# rename_annotations = {\n",
    "#     str(\"Activated CD4 T_Branch A4 (IN)_CLP_Colonocyte_Contractile Pericyte\"\n",
    "#         \" (PLN+)_D Cells (SST+)_FCRL4+ Memory B_FDC_Fetal Arterial EC_Glia\"\n",
    "#         \" 2 (ELN+)_ILCP_Lymphoid DC_Macrophages_Mast Cell_Microfold Cell_N\"\n",
    "#         \" Cells (NTS+)_NK Cell_Pericyte_SELL+ CD8 T_Stromal 1 (ADAMDEC1+)\"\n",
    "#         \"_TRGV2 Gdt_cDC2\"): \"Mixed Immune\",\n",
    "#     str(\"Activated CD4 T_BEST2+ Goblet Cell_Branch A4 (IN)_CLP_Colonocyte_\"\n",
    "#         \"Contractile Pericyte (PLN+)_D Cells (SST+)_FCRL4+ Memory B_FDC\"\n",
    "#         \"_Fetal Arterial EC_Glia 2 (ELN+)_ILCP_Immature B_Macrophages\"\n",
    "#         \"_Microfold Cell_NK Cell_Pericyte_SELL+ CD8 T_Stromal 1 (ADAMDEC1+)\"\n",
    "#         \"_TRGV2 Gdt_cDC2_mLTo\"): \"Immune (Lymphoid?)\",\n",
    "#     str(\"Activated CD4 T_Branch A4 (IN)_CLP_Colonocyte_Contractile Pericyte\"\n",
    "#         \" (PLN+)_D Cells (SST+)_FCRL4+ Memory B_FDC_Fetal Arterial EC_Glia\"\n",
    "#         \" 2 (ELN+)_ILCP_Lymphoid DC_Macrophages_Mast Cell_Microfold Cell_N\"\n",
    "#         \" Cells (NTS+)_NK Cell_Pericyte_SELL+ CD8 T_Stromal 1 (ADAMDEC1+)_\"\n",
    "#         \"TRGV2 Gdt_cDC2\"): \"Mixed Immune\",\n",
    "#     str(\"Activated CD4 T_Branch A4 (IN)_CD8 Tmem_CLP_FCRL4+ Memory B_FDC_\"\n",
    "#         \"Fetal Arterial EC_Glia 2 (ELN+)_ILCP_Lti-like NCR+ ILC3_Lymphoid\"\n",
    "#         \" DC_Macrophages_Mast Cell_Megakaryocyte_Microfold Cell_NK Cell_\"\n",
    "#         \"Pericyte_SELL+ CD8 T_TRGV2 Gdt_mLTo\"): \"Mixed Immune\",\n",
    "#     str(\"Activated CD4 T_Branch A4 (IN)_CLP_Distal Progenitor_FCRL4+ Memory\"\n",
    "#         \" B_FDC_Fetal Arterial EC_Glia 2 (ELN+)_ILC3_Lti-like NCR+ ILC3_\"\n",
    "#         \"Macrophages_Mast Cell_Microfold Cell_Monocytes_Pericyte_Proximal \"\n",
    "#         \"Progenitor_SELL+ CD8 T_Stromal 1 (ADAMDEC1+)_\"\n",
    "#         \"TRGV2 Gdt\"): \"B_T_ILC\",\n",
    "#     str(\"Angiogenic Pericyte_Immature Pericyte_LYVE1+ Macrophage\"\n",
    "#         ): \"Pericyte_Macrophage\"}\n",
    "\n",
    "rename_annotations = None\n",
    "\n",
    "# Rename Annotations\n",
    "if rename_annotations is not None:\n",
    "    for i, s in enumerate(selves):\n",
    "        # s.rna.obs.loc[:, \"Annotation_EA\"] = s.rna.obs[\n",
    "        #     \"leiden\"].replace(annots[i])\n",
    "        s.rna.obs.loc[:, \"Annotation_Auto\"] = s.rna.obs[\"Annotation\"].copy()\n",
    "        s.rna.obs.loc[:, \"Annotation\"] = s.rna.obs[\"Annotation\"].replace(\n",
    "            rename_annotations if isinstance(\n",
    "                rename_annotations, dict) else rename_annotations[i])\n",
    "    [print(list(s.rna.obs[\"Annotation\"].unique())) for s in selves]\n",
    "\n",
    "# Plot Spatial\n",
    "for s in selves:\n",
    "    s.plot_spatial(title=s._library_id)"
   ]
  },
  {
   "cell_type": "markdown",
   "metadata": {},
   "source": [
    "## Concatenate AnnData"
   ]
  },
  {
   "cell_type": "code",
   "execution_count": null,
   "metadata": {},
   "outputs": [],
   "source": [
    "hue = selves[0]._columns[\"col_sample_id\"]\n",
    "ids = [str(s.rna.obs[hue].iloc[0]) for s in selves]\n",
    "adata = AnnData.concatenate(\n",
    "    *[x.rna for x in selves], join=\"outer\", batch_key=hue,\n",
    "    batch_categories=ids, index_unique=None, uns_merge=\"unique\")"
   ]
  },
  {
   "cell_type": "markdown",
   "metadata": {},
   "source": [
    "## Preliminary Exploration"
   ]
  },
  {
   "cell_type": "code",
   "execution_count": null,
   "metadata": {},
   "outputs": [],
   "source": [
    "# for s in selves:\n",
    "#     _ = s.read_panel(directory=metadata[s._library_id][\"file_path\"])\n",
    "# for s in selves:\n",
    "#     s.plot_umap(color=genes + [self._columns[\"col_cell_type\"]],\n",
    "#                 layer=\"scaled\", cmap=\"coolwarm\", vcenter=0)\n",
    "cct = selves[0]._columns[\"col_cell_type\"]\n",
    "for g in [[\"CDKN1A\", \"CDKN2A\", \"TP53\", \"PLAUR\", \"PTGER4\", \"FTL\", \"IL6ST\"],\n",
    "          [\"CSF2RB\", \"CSF2RA\", \"IL7R\", \"TBX21\", \"KLRB1\", \"CCL5\", \"HSP90AA1\",\n",
    "           \"RORC\", \"IL23R\", \"KIT\", \"CCL20\", \"TCF7\", \"LTB\", \"IL22\", \"IFNG\"],\n",
    "          [\"PDGFRA\", \"IL6ST\", \"PTPN1\", \"IFNG\"]]:\n",
    "    ggg = list(set(g).intersection(adata.var_names))\n",
    "    cr.pl.plot_cat_split(adata, col_inflamed, col_cell_type=cct,\n",
    "                         genes=ggg, kind=\"box\")\n",
    "    cr.pl.plot_cat_split(adata, col_inflamed, col_cell_type=cct,\n",
    "                         genes=ggg, columns=col_stricture, kind=\"box\")"
   ]
  },
  {
   "cell_type": "markdown",
   "metadata": {},
   "source": [
    "# Analyses"
   ]
  },
  {
   "cell_type": "markdown",
   "metadata": {},
   "source": [
    "## Centrality Scores"
   ]
  },
  {
   "cell_type": "code",
   "execution_count": null,
   "metadata": {},
   "outputs": [],
   "source": [
    "%%time\n",
    "\n",
    "for s in selves:\n",
    "    s.calculate_centrality(n_jobs=sc.settings.n_jobs)"
   ]
  },
  {
   "cell_type": "markdown",
   "metadata": {},
   "source": [
    "## Cell Type Co-Occurrence"
   ]
  },
  {
   "cell_type": "code",
   "execution_count": null,
   "metadata": {},
   "outputs": [],
   "source": [
    "%%time\n",
    "\n",
    "for s in selves:\n",
    "    _ = s.find_cooccurrence(figsize=(60, 20), kws_plot=dict(wspace=3))"
   ]
  },
  {
   "cell_type": "markdown",
   "metadata": {},
   "source": [
    "## Neighborhood Enrichment Analysis"
   ]
  },
  {
   "cell_type": "code",
   "execution_count": null,
   "metadata": {},
   "outputs": [],
   "source": [
    "%%time\n",
    "\n",
    "for s in selves:\n",
    "    _ = s.calculate_neighborhood(figsize=(60, 30))"
   ]
  },
  {
   "cell_type": "markdown",
   "metadata": {},
   "source": [
    "## Spatial Clustering"
   ]
  },
  {
   "cell_type": "code",
   "execution_count": null,
   "metadata": {},
   "outputs": [],
   "source": [
    "for s in selves:\n",
    "    _ = s.cluster_spatial()"
   ]
  },
  {
   "cell_type": "markdown",
   "metadata": {},
   "source": [
    "## Spatially-Variable Genes"
   ]
  },
  {
   "cell_type": "code",
   "execution_count": null,
   "metadata": {},
   "outputs": [],
   "source": [
    "%%time\n",
    "\n",
    "kws = dict(kws_plot=dict(legend_fontsize=\"large\"), figsize=(15, 15))\n",
    "for s in selves:\n",
    "    _ = s.find_svgs(genes=genes, method=\"moran\", n_perms=10, **kws)"
   ]
  },
  {
   "cell_type": "markdown",
   "metadata": {},
   "source": [
    "## Receptor-Ligand Interactions"
   ]
  },
  {
   "cell_type": "code",
   "execution_count": null,
   "metadata": {},
   "outputs": [],
   "source": [
    "%%time\n",
    "\n",
    "for s in selves:\n",
    "    # kss, ktt = [s.rna.obs[s._columns[\"col_cell_type\"]].unique(\n",
    "    #     ).to_list()[i:(4 + i)] for i in [1, 2]]\n",
    "    kss, ktt = None, None\n",
    "    _ = s.calculate_receptor_ligand(\n",
    "        col_condition=False, p_threshold=0.01, remove_ns=True,\n",
    "        figsize=(30, 10), top_n=25, key_sources=kss, key_targets=ktt)"
   ]
  },
  {
   "cell_type": "code",
   "execution_count": null,
   "metadata": {},
   "outputs": [],
   "source": [
    "for s in selves:\n",
    "    s.calculate_receptor_ligand_spatial()"
   ]
  },
  {
   "cell_type": "markdown",
   "metadata": {},
   "source": [
    "## Cell Type Composition "
   ]
  },
  {
   "cell_type": "code",
   "execution_count": null,
   "metadata": {},
   "outputs": [],
   "source": [
    "for s in selves:\n",
    "    s.run_composition_analysis()"
   ]
  },
  {
   "cell_type": "markdown",
   "metadata": {},
   "source": [
    "## Compare GEX"
   ]
  },
  {
   "cell_type": "code",
   "execution_count": null,
   "metadata": {},
   "outputs": [],
   "source": [
    "# goi = [\"CSF2\", \"CSF2RB\", \"CSF2RA\", \"CDKN1A\", \"CDKN2A\", \"TP53\", \"PLAUR\"]\n",
    "# goi = [\"CDKN1A\", \"CDKN2A\", \"TP53\", \"PLAUR\", \"PTGER4\", \"FTL\", \"IL6ST\", \"CSF2\",\n",
    "#        \"CSF2RB\", \"CSF2RA\", \"IL7R\", \"TBX21\", \"KLRB1\", \"CCL5\", \"HSP90AA1\",\n",
    "#        \"RORC\", \"IL23R\", \"KIT\", \"CCL20\", \"TCF7\", \"LTB\", \"IL22\", \"IFNG\"]\n",
    "# goi = genes\n",
    "\n",
    "# fig, axs = selves[0].plot_compare_spatial(selves[1:], goi)\n",
    "\n",
    "# fig, axs = plt.subplots(len(goi) + 1, len(selves),\n",
    "#                         figsize=(5 * len(goi), 20 * len(selves)))\n",
    "# for j, s in enumerate(selves):\n",
    "#     for i, g in enumerate(goi + [s._columns[\"col_cell_type\"]]):\n",
    "#         s.plot_spatial(ax=axs[i, j], color=None if i == 0 else goi[i - 1],\n",
    "#                        cmap=\"magma\", layer=s._layers[\"log1p\"])\n",
    "#         if i == 0:\n",
    "#             axs[i, j].set_title(s._library_id)\n",
    "# plt.subplots_adjust(wspace=0.3)\n",
    "# fig.show()\n"
   ]
  },
  {
   "cell_type": "markdown",
   "metadata": {},
   "source": [
    "### Senescence"
   ]
  },
  {
   "cell_type": "code",
   "execution_count": null,
   "metadata": {},
   "outputs": [],
   "source": [
    "goi = [\"CDKN1A\", \"CDKN2A\", \"TP53\", \"PLAUR\", \"PTGER4\", \"FTL\", \"IL6ST\"]\n",
    "fig, axs = selves[0].plot_compare_spatial(selves[1:], goi)"
   ]
  },
  {
   "cell_type": "markdown",
   "metadata": {},
   "source": [
    "### CSF2RB"
   ]
  },
  {
   "cell_type": "code",
   "execution_count": null,
   "metadata": {},
   "outputs": [],
   "source": [
    "%%time\n",
    "\n",
    "goi = [\"CSF2RB\", \"CSF2RA\", \"IL7R\", \"TBX21\", \"KLRB1\", \"CCL5\", \"HSP90AA1\",\n",
    "       \"RORC\", \"IL23R\", \"KIT\", \"CCL20\", \"TCF7\", \"LTB\", \"IL22\", \"IFNG\"]\n",
    "fig, axs = selves[0].plot_compare_spatial(selves[1:], goi, figsize=(40, 70))"
   ]
  },
  {
   "cell_type": "markdown",
   "metadata": {},
   "source": [
    "### High in Inflamed vs. Un-Inflamed? "
   ]
  },
  {
   "cell_type": "code",
   "execution_count": null,
   "metadata": {},
   "outputs": [],
   "source": [
    "%%time\n",
    "goi = [\"OSM\", \"IL13\", \"IL1B\", \"IL6\", \"TNF\", \"S100A8\", \"S100A9\"]\n",
    "fig, axs = selves[0].plot_compare_spatial(selves[1:], goi)"
   ]
  },
  {
   "cell_type": "markdown",
   "metadata": {},
   "source": [
    "### High in Stricture vs. Uni-Inflamed?"
   ]
  },
  {
   "cell_type": "code",
   "execution_count": null,
   "metadata": {},
   "outputs": [],
   "source": [
    "%%time\n",
    "\n",
    "goi = [\"PDGFRA\", \"IL6ST\", \"PTPN1\", \"IFNG\"]\n",
    "fig, axs = selves[0].plot_compare_spatial(selves[1:], goi)"
   ]
  },
  {
   "cell_type": "markdown",
   "metadata": {},
   "source": [
    "# Workspace (IGNORE)"
   ]
  },
  {
   "cell_type": "markdown",
   "metadata": {},
   "source": [
    "## Calculate QC Metrics"
   ]
  },
  {
   "cell_type": "code",
   "execution_count": null,
   "metadata": {},
   "outputs": [],
   "source": [
    "# QC Variables\n",
    "patterns = [(\"MT-\", \"mt-\"), (\"RPS\", \"RPL\", \"rps\", \"rpl\"), (\n",
    "    \"^HB[^(P)]\", \"^hb[^(p)]\")]  # pattern matching for gene symbols\n",
    "patterns = dict(zip([\"mt\", \"ribo\", \"hb\"], patterns))  # dictionary\n",
    "names = dict(zip([\"mt\", \"ribo\", \"hb\"],\n",
    "                [\"Mitochondrial\", \"Ribosomal\", \"Hemoglobin\"]))\n",
    "p_names = [names[k] if k in names else k for k in patterns]  # \"pretty\"\n",
    "patterns_names = dict(zip(patterns, p_names))  # map abbreviated to pretty\n",
    "rename_perc = dict(zip([f\"pct_counts_{p}\" for p in names], [\n",
    "    names[p] + \" \" + \"%\" + \" of Counts\" for p in names]))\n",
    "\n",
    "# Calculate QC Metrics\n",
    "for s in selves:\n",
    "    s.get_layer(layer=s._layers[\"counts\"], inplace=True)\n",
    "    for k in patterns:\n",
    "        gvars = s.rna.var_names.str.startswith(patterns[k])\n",
    "        if any(gvars):\n",
    "            s.rna.var[k] = gvars\n",
    "            qc_vars += [k]\n",
    "    sc.pp.calculate_qc_metrics(\n",
    "        s.rna, percent_top=None, inplace=True, log1p=True)\n",
    "[x.rna for x in selves]"
   ]
  },
  {
   "cell_type": "code",
   "execution_count": null,
   "metadata": {},
   "outputs": [],
   "source": [
    "hue = selves[0]._columns[\"col_sample_id\"]\n",
    "ids = [str(s.rna.obs[hue].iloc[0]) for s in selves]\n",
    "adata = AnnData.concatenate(\n",
    "    *[x.rna for x in selves], join=\"outer\", batch_key=hue,\n",
    "    batch_categories=ids, index_unique=None, uns_merge=\"unique\")"
   ]
  },
  {
   "cell_type": "code",
   "execution_count": null,
   "metadata": {},
   "outputs": [],
   "source": [
    "vam = pct_n + [\"n_genes_by_counts\", \"total_counts\"] + list(\n",
    "    [h] if h else [])  # QC variable names\n",
    "rnd = {\"total_counts\": \"Total Counts in Cell\", **rename_perc,\n",
    "        \"n_genes_by_counts\": \"Genes Detected in Cell\", **patterns_names}\n",
    "mets_df = adata.obs[vam].rename_axis(\"Metric\", axis=1).rename(rnd, axis=1)\n",
    "fff = seaborn.pairplot(\n",
    "    mets_df, diag_kind=\"kde\", hue=hue,\n",
    "    diag_kws=dict(fill=True, cut=0), plot_kws=dict(\n",
    "        marker=\".\", linewidth=0.05), height=5)  # QC pairplot"
   ]
  },
  {
   "cell_type": "code",
   "execution_count": null,
   "metadata": {},
   "outputs": [],
   "source": [
    "if any((\"pct_dropout_by_counts\" in c for c in adata.var.columns)):\n",
    "    ids = list(adata.obs[h].unique()) if h else None\n",
    "    var_do = \"Percent Dropout by Counts\"\n",
    "    if ids is not None:\n",
    "        dropout = [f\"pct_dropout_by_counts-{i}\" for i in ids]\n",
    "        dff = pd.concat([adata.var[d].to_frame(var_do)\n",
    "                        for d in dropout], keys=ids, names=[\"Sample\", \"Gene\"])\n",
    "    else:\n",
    "        dff = adata.var[d].to_frame(var_do)\n",
    "    seaborn.catplot(dff, x=var_do, hue=\"Gene\", col=h,\n",
    "                    col_order=ids, kind=\"swarm\", legend=False)"
   ]
  },
  {
   "cell_type": "code",
   "execution_count": null,
   "metadata": {},
   "outputs": [],
   "source": [
    "pct_n = []\n",
    "ctm = list(set([\n",
    "    \"n_genes_by_counts\", \"total_counts\", \"log1p_total_counts\",\n",
    "    \"cell_area\", \"nucleus_area\"]).intersection(adata.obs.columns))\n",
    "vam = pct_n + ctm + list([h] if h else [])  # QC variable names\n",
    "mets_df = adata.obs[vam].rename_axis(\"Metric\", axis=1).rename(\n",
    "    {\"total_counts\": \"Total Counts in Cell\",\n",
    "        \"cell_area\": \"Cell Area\", \"nucleus_area\": \"Nucleus Area\",\n",
    "        \"log1p_total_counts\": \"Log-Normalized Total Counts\",\n",
    "        **rename_perc, \"n_genes_by_counts\": \"Genes Detected in Cell\",\n",
    "        **patterns_names}, axis=1)  # rename\n",
    "fff = seaborn.pairplot(\n",
    "    mets_df, diag_kind=\"kde\", hue=h if h else None,\n",
    "    diag_kws=dict(fill=True, cut=0), plot_kws=dict(\n",
    "        marker=\".\", linewidth=0.05), height=5)  # QC pairplot"
   ]
  },
  {
   "cell_type": "code",
   "execution_count": null,
   "metadata": {},
   "outputs": [],
   "source": [
    "scatter_vars = pct_n + [\"n_genes_by_counts\", \"cell_area\", \"nucleus_area\"]\n",
    "scatter_vars = list(set(scatter_vars).intersection(adata.obs.columns))\n",
    "rrs, ccs = len(pd.unique(hhh)), len(scatter_vars)\n",
    "fff, axs = plt.subplots(rrs, ccs, figsize=(\n",
    "    5 * ccs, 5 * rrs), sharex=False, sharey=False)  # subplot grid\n",
    "for i, h in enumerate(pd.unique(hhh)):\n",
    "    for j, v in enumerate(scatter_vars):\n",
    "        aij = axs if not isinstance(axs, np.ndarray) else axs[\n",
    "            i, j] if len(axs.shape) > 1 else axs[j] if ccs > 1 else axs[i]\n",
    "        try:  # % mt, etc. vs. counts\n",
    "            sc.pl.scatter(adata, x=\"total_counts\", y=v, ax=aij,\n",
    "                            color=h, frameon=False, show=False)  # scatter\n",
    "            if aij.legend_ is not None and v != \"n_genes_by_counts\":\n",
    "                aij.legend_.remove()  # legend only on last column\n",
    "            aij.set_title(f\"{v} (by {h})\" if h else v)  # title\n",
    "        except Exception as err:\n",
    "            print(traceback.format_exc())\n",
    "            warn(f\"\\n\\n{'=' * 80}\\n\\nCouldn't plot {h} vs. {v}: {err}\")\n",
    "plt.subplots_adjust(wspace=0.3, hspace=0.3)\n",
    "plt.show()"
   ]
  },
  {
   "cell_type": "code",
   "execution_count": null,
   "metadata": {},
   "outputs": [],
   "source": [
    "s.plot_spatial(palette=None)"
   ]
  },
  {
   "cell_type": "code",
   "execution_count": null,
   "metadata": {},
   "outputs": [],
   "source": [
    "list(s.rna.obs[\"Annotation\"].unique())"
   ]
  },
  {
   "cell_type": "markdown",
   "metadata": {},
   "source": [
    "## Markers"
   ]
  },
  {
   "cell_type": "code",
   "execution_count": null,
   "metadata": {},
   "outputs": [],
   "source": [
    "        mmm = s.find_markers(n_genes=5, kws_plot=dict(col_wrap=3),\n",
    "                             col_cell_type=\"Annotation\")\n",
    "        mmm[0].to_csv(os.path.splitext(out_files[i])[0] + \"_markers.csv\")"
   ]
  },
  {
   "cell_type": "code",
   "execution_count": null,
   "metadata": {},
   "outputs": [],
   "source": [
    "clus = \"Activated CD4 T_Branch A4 (IN)_Branch B1 (eMN)_CLP_Colonocyte_Contractile Pericyte (PLN+)_D Cells (SST+)_FCRL4+ Memory B_FDC_Fetal Arterial EC_Glia 2 (ELN+)_ILCP_Lymphoid DC_Macrophages_Microfold Cell_Myofibroblast (RSPO2+)_NK Cell_Pericyte_SELL+ CD8 T_SMC (PLPP2+)_Stromal 1 (ADAMDEC1+)_TRGV2 Gdt_cDC2\"\n",
    "mark = mmm[0].loc[clus].copy()\n",
    "mark = mark.assign(lfc_abs=mark[\"logfoldchanges\"].abs())\n",
    "print(mark.sort_values(\"pvals_adj\").iloc[:10].sort_values(\"lfc_abs\", ascending=False))"
   ]
  },
  {
   "cell_type": "code",
   "execution_count": null,
   "metadata": {},
   "outputs": [],
   "source": [
    "xxx, yyy = selves[0].find_markers(n_genes=5)"
   ]
  },
  {
   "cell_type": "code",
   "execution_count": null,
   "metadata": {},
   "outputs": [],
   "source": [
    "mark = xxx[xxx.scores > 0].copy()\n",
    "mark.groupby(mark.index.names[0]).apply(lambda x: x.sort_values(\"pvals_adj\").iloc[:30].sort_values(\"logfoldchanges\", ascending=False).iloc[:7]).reset_index(0, drop=True)"
   ]
  },
  {
   "cell_type": "code",
   "execution_count": null,
   "metadata": {},
   "outputs": [],
   "source": [
    "mark = mmm[0][mmm[0].scores > 0].copy()\n",
    "mark.groupby(mark.index.names[0]).apply(lambda x: x.sort_values(\"pvals_adj\").iloc[:30].sort_values(\"logfoldchanges\", ascending=False).iloc[:5]).reset_index(0, drop=True).reset_index(1)[[\"names\"]].set_index(\"names\", append=True)\n",
    "mark.groupby(mark.index.names[0]).apply(lambda x: x.sort_values(\"pvals_adj\").iloc[:30].sort_values(\"logfoldchanges\", ascending=False).iloc[:7]).reset_index(0, drop=True)"
   ]
  },
  {
   "cell_type": "code",
   "execution_count": null,
   "metadata": {},
   "outputs": [],
   "source": [
    "            for s in selves:\n",
    "                _, annot = cr.ax.annotate_by_markers(\n",
    "                    s.rna, file_ann, renaming=True,\n",
    "                    col_new=\"Annotation_2\", col_cell_type=\"leiden\")\n",
    "                s.rna.obs.loc[:, \"Annotation_2\"] = s.rna.obs[\n",
    "                    \"leiden\"].replace(dict(zip(\n",
    "                        annot.index.values, list(annot[\"Annotation_2\"]))))\n",
    "                s.plot_spatial(color=\"Annotation_2\")"
   ]
  },
  {
   "cell_type": "markdown",
   "metadata": {},
   "source": [
    "## Annotations"
   ]
  },
  {
   "cell_type": "code",
   "execution_count": null,
   "metadata": {},
   "outputs": [],
   "source": [
    "    from copy import deepcopy\n",
    "\n",
    "    adata=selves[0].rna.copy()\n",
    "    data_assignment=file_ann\n",
    "    col_assignment=\"Type\"\n",
    "    col_cell_type=\"leiden\"\n",
    "    col_new=\"Annotation\"\n",
    "    renaming=False\n",
    "    n_top=10\n",
    "\n",
    "    col_bc = adata.obs.index.names[0]\n",
    "\n",
    "    if isinstance(data_assignment, (str, os.PathLike)):\n",
    "        data_assignment = pd.read_excel(data_assignment, index_col=0)\n",
    "    assign = data_assignment.copy()\n",
    "    if renaming is True:\n",
    "        sources = assign[col_assignment].unique()\n",
    "        rename = dict(zip(sources, [\" \".join([i.capitalize() if i and i[\n",
    "            0] != \"(\" and not i.isupper() and i not in [\n",
    "                \"IgG\", \"IgA\"] else i for i in x.split(\" \")]) if len(x.split(\n",
    "                    \" \")) > 1 else x for x in [re.sub(\"glia\", \"Glia\", re.sub(\n",
    "                        \"_\", \" \", j)) for j in sources]]))\n",
    "        assign.loc[:, col_assignment] = assign[col_assignment].replace(rename)\n",
    "    nrow = assign.shape[0]\n",
    "    if assign.reset_index().iloc[:, 0].duplicated().any():\n",
    "        assign = assign.reset_index()\n",
    "        assign = assign[~assign.iloc[:, 0].duplicated()]\n",
    "        assign = assign.set_index(list(assign.columns)[0])\n",
    "        print(f\"Dropping {assign.shape[0]} duplicate genes of {nrow}.\")\n",
    "    assign.index.name = None\n",
    "    assign.columns = [col_assignment]\n",
    "\n",
    "    # Assign marker gene metadata using reference dataset\n",
    "    meta_gene = deepcopy(adata.var)\n",
    "    shared_marks = list(set(meta_gene.index.tolist()).intersection(\n",
    "        assign[col_assignment].index.tolist()))  # available genes\n",
    "    meta_gene.loc[shared_marks, \"Markers\"] = assign.loc[\n",
    "        shared_marks, col_assignment]\n",
    "\n",
    "    # Calculate Average Expression by Cluster\n",
    "    ser_counts = adata.obs[col_cell_type].value_counts()\n",
    "    ser_counts.name = \"cell counts\"\n",
    "    meta_c = pd.DataFrame(ser_counts)\n",
    "    sig_cl = pd.DataFrame(columns=adata.var_names, index=adata.obs[\n",
    "        col_cell_type].cat.categories)  # cell types (rows) ~ genes (columns)\n",
    "    for c in adata.obs[col_cell_type].cat.categories:  # iterate cluters\n",
    "        sig_cl.loc[c] = adata[adata.obs[col_cell_type].isin([c]), :].X.mean(0)\n",
    "    sig_cl = sig_cl.transpose()\n",
    "    leiden = [f\"{col_cell_type}-\" + str(x) for x in sig_cl.columns.tolist()]\n",
    "    sig_cl.columns = leiden\n",
    "    meta_c.index = sig_cl.columns.tolist()\n",
    "    meta_c[col_cell_type] = pd.Series(\n",
    "        meta_c.index.tolist(), index=meta_c.index.tolist())\n",
    "    meta_gene = pd.DataFrame(index=sig_cl.index.tolist())\n",
    "    meta_gene[\"info\"] = pd.Series(\"\", index=meta_gene.index.tolist())\n",
    "    meta_gene[\"Markers\"] = pd.Series(\"N.A.\", index=sig_cl.index.tolist())\n",
    "    meta_gene.loc[shared_marks, \"Markers\"] = assign.loc[\n",
    "        shared_marks, col_assignment]\n",
    "\n",
    "    # Assign Cell Types\n",
    "    meta_c[col_new] = pd.Series(\"N.A.\", index=meta_c.index.tolist())\n",
    "    for inst_cluster in sig_cl.columns.tolist():\n",
    "        top_genes = (sig_cl[inst_cluster].sort_values(\n",
    "            ascending=False).index.tolist()[:n_top])\n",
    "        inst_ser = meta_gene.loc[top_genes, \"Markers\"]\n",
    "        inst_ser = inst_ser[inst_ser != \"N.A.\"]\n",
    "        ser_counts = inst_ser.value_counts()\n",
    "        max_count = ser_counts.max()\n",
    "        max_cat = \"_\".join(sorted(ser_counts[\n",
    "            ser_counts == max_count].index.tolist()))\n",
    "        meta_c.loc[inst_cluster, col_new] = max_cat"
   ]
  },
  {
   "cell_type": "code",
   "execution_count": null,
   "metadata": {},
   "outputs": [],
   "source": [
    "assign"
   ]
  },
  {
   "cell_type": "code",
   "execution_count": null,
   "metadata": {},
   "outputs": [],
   "source": []
  },
  {
   "cell_type": "code",
   "execution_count": null,
   "metadata": {},
   "outputs": [],
   "source": [
    "mapping = pd.DataFrame(columns=assign[col_assignment].unique(), index=assign.index.values)\n",
    "mapping = mapping.apply(lambda x: assign[col_assignment].isin([x.name]))"
   ]
  }
 ],
 "metadata": {
  "kernelspec": {
   "display_name": "py-bio",
   "language": "python",
   "name": "python3"
  },
  "language_info": {
   "codemirror_mode": {
    "name": "ipython",
    "version": 3
   },
   "file_extension": ".py",
   "mimetype": "text/x-python",
   "name": "python",
   "nbconvert_exporter": "python",
   "pygments_lexer": "ipython3",
   "version": "3.10.4"
  }
 },
 "nbformat": 4,
 "nbformat_minor": 2
}
