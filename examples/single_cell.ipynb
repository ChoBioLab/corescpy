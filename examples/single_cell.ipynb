{
 "cells": [
  {
   "cell_type": "code",
   "execution_count": 1,
   "metadata": {},
   "outputs": [],
   "source": [
    "%load_ext autoreload\n",
    "%autoreload 2\n",
    "\n",
    "import crispr as cr\n",
    "from crispr.class_sc import Omics\n",
    "\n",
    "file_path = {\"directory\": \"data/crispr-screening/HH06\"}\n",
    "col_sample_id = \"orig.ident\"\n",
    "kws_harmony = {\"plot_convergence\": True,\n",
    "               \"random_state\": 1618}\n",
    "kws_umap = {\"min_dist\": 0.3}\n",
    "kws_init = {\"assay\": None, \"assay_protein\": None, \n",
    "            \"col_gene_symbols\": \"gene_symbols\", \n",
    "            \"col_cell_type\": \"majority_voting\", \n",
    "            \"col_sample_id\": None,\n",
    "            \"col_condition\": None, \n",
    "            \"key_control\": None, \n",
    "            \"key_treatment\": None}\n",
    "kws_pp = {\"kws_hvg\": {\"min_mean\": 0.0125, \"max_mean\": 10, \n",
    "                      \"min_disp\": 0.5, \"flavor\": \"cell_ranger\"}, \n",
    "          \"target_sum\": 10000.0, \"cell_filter_pmt\": [0, 15], \n",
    "          \"cell_filter_ngene\": [200, None], \"cell_filter_ncounts\": [3, 40000], \n",
    "          \"gene_filter_ncell\": [3, None], \"regress_out\": None, \n",
    "          \"kws_scale\": \"log\", \"kws_umap\": kws_umap}\n",
    "kws_cluster = {\"method_cluster\": \"leiden\", \"kws_umap\": kws_umap, \n",
    "               \"kws_neighbors\": None, \n",
    "               \"kws_pca\": {\"n_comps\": None, \"use_highly_variable\": True}, \n",
    "               \"kws_cluster\": {\"resolution\": 0.5}}"
   ]
  },
  {
   "cell_type": "markdown",
   "metadata": {},
   "source": [
    "# Single-Cell Omics Object Initialization"
   ]
  },
  {
   "cell_type": "code",
   "execution_count": 2,
   "metadata": {},
   "outputs": [
    {
     "ename": "AttributeError",
     "evalue": "module 'crispr' has no attribute 'Omics'",
     "output_type": "error",
     "traceback": [
      "\u001b[0;31m---------------------------------------------------------------------------\u001b[0m",
      "\u001b[0;31mAttributeError\u001b[0m                            Traceback (most recent call last)",
      "Cell \u001b[0;32mIn[2], line 1\u001b[0m\n\u001b[0;32m----> 1\u001b[0m \u001b[39mself\u001b[39m \u001b[39m=\u001b[39m cr\u001b[39m.\u001b[39;49mOmics(file_path, \u001b[39m*\u001b[39m\u001b[39m*\u001b[39mkws_init)\n",
      "\u001b[0;31mAttributeError\u001b[0m: module 'crispr' has no attribute 'Omics'"
     ]
    }
   ],
   "source": [
    "self = Omics(file_path, **kws_init)"
   ]
  },
  {
   "cell_type": "markdown",
   "metadata": {},
   "source": [
    "# Preprocessing\n",
    "\n",
    "Perform normalization, filtering, QC, etc."
   ]
  },
  {
   "cell_type": "code",
   "execution_count": null,
   "metadata": {},
   "outputs": [],
   "source": [
    "self.preprocess(**kws_pp)"
   ]
  },
  {
   "cell_type": "markdown",
   "metadata": {},
   "source": [
    "# Clustering\n",
    "\n",
    "Use this method to perform dimensionality reduction and clustering.\n",
    "\n",
    "Optionally, by specifying `model_celltypist`, we can also detect cell types using `CellTypist`.\n",
    "\n",
    "You can see what models are available with this code:\n",
    "```\n",
    "import celltypist\n",
    "celltypist.models.models_description().set_index(\"model\").description.apply(lambda x: print(x))\n",
    "```\n",
    "\n",
    "Or it will show you valid models automatically if you feed it an unknown model: `self.cluster(**kws_cluster, model=\"kate_moss.pkl\")``\n",
    "\n",
    "You can perform this after clustering by leaving `model_celltypist` as None and at any point running `self.annotate_clusters(...)`."
   ]
  },
  {
   "cell_type": "code",
   "execution_count": null,
   "metadata": {},
   "outputs": [],
   "source": [
    "self.cluster(**kws_cluster, \n",
    "             model_celltypist=\"COVID19_HumanChallenge_Blood.pkl\")"
   ]
  },
  {
   "cell_type": "markdown",
   "metadata": {},
   "source": [
    "# Plots\n",
    "\n",
    "Create a variety of plots visualizing gene expression, cell clusters, etc."
   ]
  },
  {
   "cell_type": "code",
   "execution_count": null,
   "metadata": {},
   "outputs": [],
   "source": [
    "clus = list(self.rna.obs[\"predicted_labels\"].sample(2))  # clusters to circle\n",
    "figs = self.plot(genes=16,  # or could specify list of gene names\n",
    "                 col_cell_type=\"predicted_labels\",\n",
    "                 cell_types_circle=clus,  # list cell types to circle on UMAP\n",
    "                 kws_gex_violin=dict(scale=\"area\", height=10),\n",
    "                 genes_highlight=None,  # could be genes names to highlight\n",
    "                 kws_ump=dict(col_cell_type=\"predicted_labels\"))"
   ]
  }
 ],
 "metadata": {
  "kernelspec": {
   "display_name": "py-bio",
   "language": "python",
   "name": "python3"
  },
  "language_info": {
   "codemirror_mode": {
    "name": "ipython",
    "version": 3
   },
   "file_extension": ".py",
   "mimetype": "text/x-python",
   "name": "python",
   "nbconvert_exporter": "python",
   "pygments_lexer": "ipython3",
   "version": "3.10.4"
  },
  "orig_nbformat": 4
 },
 "nbformat": 4,
 "nbformat_minor": 2
}
