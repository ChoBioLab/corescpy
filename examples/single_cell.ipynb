{
 "cells": [
  {
   "cell_type": "code",
   "execution_count": null,
   "metadata": {},
   "outputs": [],
   "source": [
    "%load_ext autoreload\n",
    "%autoreload 2\n",
    "\n",
    "import os\n",
    "from corescpy.class_sc import Omics\n",
    "import pandas as pd\n",
    "\n",
    "ddd = \"/home/asline01/projects/data/ileal-cd/CD-1\"  # cellranger directory\n",
    "\n",
    "file_path = os.path.join(ddd, \"filtered_feature_bc_matrix\")\n",
    "col_sample_id = \"orig.ident\"\n",
    "kws_harmony = {\"plot_convergence\": True,\n",
    "               \"random_state\": 1618}\n",
    "kws_init = {\"assay\": None, \"assay_protein\": None, \n",
    "            \"col_gene_symbols\": \"gene_symbols\", \n",
    "            \"col_cell_type\": \"majority_voting\", \n",
    "            \"col_sample_id\": None,\n",
    "            \"col_condition\": None, \n",
    "            \"key_control\": None, \n",
    "            \"key_treatment\": None}\n",
    "kws_pp = {\"kws_hvg\": {\"min_mean\": 0.0125, \"max_mean\": 10, \n",
    "                      \"min_disp\": 0.5, \"flavor\": \"cell_ranger\"}, \n",
    "          \"target_sum\": 10000.0, \"cell_filter_pmt\": [0, 15], \n",
    "          \"cell_filter_ngene\": [200, None], \"cell_filter_ncounts\": [3, 40000], \n",
    "          \"gene_filter_ncell\": [3, None], \"regress_out\": None, \n",
    "          \"kws_scale\": \"log\"}\n",
    "kws_cluster = {\"method_cluster\": \"leiden\", \"kws_umap\": {\"min_dist\": 0.3}, \n",
    "               \"kws_neighbors\": None,  \"resolution\": 1,\n",
    "               \"kws_pca\": {\"n_comps\": None, \"use_highly_variable\": True}, \n",
    "               \"resolution\": 0.5, \"kws_cluster\": {}}"
   ]
  },
  {
   "cell_type": "markdown",
   "metadata": {},
   "source": [
    "# Single-Cell Omics Object Initialization"
   ]
  },
  {
   "cell_type": "code",
   "execution_count": 4,
   "metadata": {},
   "outputs": [
    {
     "name": "stdout",
     "output_type": "stream",
     "text": [
      "\n",
      "\n",
      "<<< INITIALIZING CRISPR CLASS OBJECT >>>\n",
      "\n",
      "col_gene_symbols=\"gene_symbols\"\n",
      "col_cell_type=\"majority_voting\"\n",
      "col_sample_id=None\n",
      "col_batch=None\n",
      "col_condition=None\n",
      "col_num_umis=None\n",
      "key_control=None\n",
      "key_treatment=None\n",
      "\n",
      "<<< LOADING FILE /home/asline01/projects/data/ileal-cd/CD-1/filtered_feature_bc_matrix with sc.read() >>>\n"
     ]
    },
    {
     "ename": "ValueError",
     "evalue": "Reading with filekey '/home/asline01/projects/data/ileal-cd/CD-1/filtered_feature_bc_matrix' failed, the inferred filename PosixPath('/home/asline01/projects/data/ileal-cd/CD-1/filtered_feature_bc_matrix.h5ad') does not exist. If you intended to provide a filename, either use a filename ending on one of the available extensions {'csv', 'data', 'tsv', 'h5ad', 'mtx.gz', 'xlsx', 'tab', 'loom', 'h5', 'anndata', 'txt', 'soft.gz', 'mtx'} or pass the parameter `ext`.",
     "output_type": "error",
     "traceback": [
      "\u001b[0;31m---------------------------------------------------------------------------\u001b[0m",
      "\u001b[0;31mValueError\u001b[0m                                Traceback (most recent call last)",
      "Cell \u001b[0;32mIn[4], line 1\u001b[0m\n\u001b[0;32m----> 1\u001b[0m \u001b[38;5;28mself\u001b[39m \u001b[38;5;241m=\u001b[39m \u001b[43mOmics\u001b[49m\u001b[43m(\u001b[49m\u001b[43mfile_path\u001b[49m\u001b[43m,\u001b[49m\u001b[43m \u001b[49m\u001b[38;5;241;43m*\u001b[39;49m\u001b[38;5;241;43m*\u001b[39;49m\u001b[43mkws_init\u001b[49m\u001b[43m)\u001b[49m\n",
      "File \u001b[0;32m~/corescpy/corescpy/class_sc.py:137\u001b[0m, in \u001b[0;36mOmics.__init__\u001b[0;34m(self, file_path, assay, assay_protein, raw, col_gene_symbols, col_cell_type, col_sample_id, col_condition, col_num_umis, key_control, key_treatment, kws_multi, **kwargs)\u001b[0m\n\u001b[1;32m    126\u001b[0m     \u001b[38;5;28mself\u001b[39m\u001b[38;5;241m.\u001b[39madata \u001b[38;5;241m=\u001b[39m cr\u001b[38;5;241m.\u001b[39mpp\u001b[38;5;241m.\u001b[39mcreate_object_multi(\n\u001b[1;32m    127\u001b[0m         file_path, kws_init\u001b[38;5;241m=\u001b[39m\u001b[38;5;28mdict\u001b[39m(\n\u001b[1;32m    128\u001b[0m             assay\u001b[38;5;241m=\u001b[39massay, assay_protein\u001b[38;5;241m=\u001b[39massay_protein, \n\u001b[0;32m   (...)\u001b[0m\n\u001b[1;32m    134\u001b[0m             col_sample_id\u001b[38;5;241m=\u001b[39mcol_sample_id, \u001b[38;5;241m*\u001b[39m\u001b[38;5;241m*\u001b[39mkwargs),\n\u001b[1;32m    135\u001b[0m         \u001b[38;5;241m*\u001b[39m\u001b[38;5;241m*\u001b[39mkws_multi)  \u001b[38;5;66;03m# create integrated object\u001b[39;00m\n\u001b[1;32m    136\u001b[0m \u001b[38;5;28;01melse\u001b[39;00m:\n\u001b[0;32m--> 137\u001b[0m     \u001b[38;5;28mself\u001b[39m\u001b[38;5;241m.\u001b[39madata \u001b[38;5;241m=\u001b[39m \u001b[43mcr\u001b[49m\u001b[38;5;241;43m.\u001b[39;49m\u001b[43mpp\u001b[49m\u001b[38;5;241;43m.\u001b[39;49m\u001b[43mcreate_object\u001b[49m\u001b[43m(\u001b[49m\n\u001b[1;32m    138\u001b[0m \u001b[43m        \u001b[49m\u001b[38;5;28;43mself\u001b[39;49m\u001b[38;5;241;43m.\u001b[39;49m\u001b[43m_file_path\u001b[49m\u001b[43m,\u001b[49m\u001b[43m \u001b[49m\u001b[43massay\u001b[49m\u001b[38;5;241;43m=\u001b[39;49m\u001b[43massay\u001b[49m\u001b[43m,\u001b[49m\u001b[43m \u001b[49m\u001b[43mraw\u001b[49m\u001b[38;5;241;43m=\u001b[39;49m\u001b[43mraw\u001b[49m\u001b[43m,\u001b[49m\n\u001b[1;32m    139\u001b[0m \u001b[43m        \u001b[49m\u001b[43mcol_gene_symbols\u001b[49m\u001b[38;5;241;43m=\u001b[39;49m\u001b[43mcol_gene_symbols\u001b[49m\u001b[43m,\u001b[49m\n\u001b[1;32m    140\u001b[0m \u001b[43m        \u001b[49m\u001b[43mcol_sample_id\u001b[49m\u001b[38;5;241;43m=\u001b[39;49m\u001b[43mcol_sample_id\u001b[49m\u001b[43m,\u001b[49m\u001b[43m \u001b[49m\u001b[38;5;241;43m*\u001b[39;49m\u001b[38;5;241;43m*\u001b[39;49m\u001b[43mkwargs\u001b[49m\u001b[43m)\u001b[49m  \u001b[38;5;66;03m# make AnnData\u001b[39;00m\n\u001b[1;32m    141\u001b[0m \u001b[38;5;28mprint\u001b[39m(\u001b[38;5;28mself\u001b[39m\u001b[38;5;241m.\u001b[39madata\u001b[38;5;241m.\u001b[39mobs, \u001b[38;5;124m\"\u001b[39m\u001b[38;5;130;01m\\n\u001b[39;00m\u001b[38;5;130;01m\\n\u001b[39;00m\u001b[38;5;124m\"\u001b[39m) \u001b[38;5;28;01mif\u001b[39;00m assay \u001b[38;5;28;01melse\u001b[39;00m \u001b[38;5;28;01mNone\u001b[39;00m\n\u001b[1;32m    143\u001b[0m \u001b[38;5;66;03m# Let Property Setters Run\u001b[39;00m\n",
      "File \u001b[0;32m~/corescpy/corescpy/processing/preprocessing.py:123\u001b[0m, in \u001b[0;36mcreate_object\u001b[0;34m(file, col_gene_symbols, assay, kws_process_guide_rna, raw, **kwargs)\u001b[0m\n\u001b[1;32m    121\u001b[0m \u001b[38;5;28;01melse\u001b[39;00m:\n\u001b[1;32m    122\u001b[0m     \u001b[38;5;28mprint\u001b[39m(\u001b[38;5;124mf\u001b[39m\u001b[38;5;124m\"\u001b[39m\u001b[38;5;130;01m\\n\u001b[39;00m\u001b[38;5;124m<<< LOADING FILE \u001b[39m\u001b[38;5;132;01m{\u001b[39;00mfile\u001b[38;5;132;01m}\u001b[39;00m\u001b[38;5;124m with sc.read() >>>\u001b[39m\u001b[38;5;124m\"\u001b[39m)\n\u001b[0;32m--> 123\u001b[0m     adata \u001b[38;5;241m=\u001b[39m \u001b[43msc\u001b[49m\u001b[38;5;241;43m.\u001b[39;49m\u001b[43mread\u001b[49m\u001b[43m(\u001b[49m\u001b[43mfile\u001b[49m\u001b[43m)\u001b[49m\n\u001b[1;32m    125\u001b[0m \u001b[38;5;66;03m# Use Raw Data (Optional)\u001b[39;00m\n\u001b[1;32m    126\u001b[0m \u001b[38;5;28;01mif\u001b[39;00m raw \u001b[38;5;129;01mis\u001b[39;00m \u001b[38;5;28;01mTrue\u001b[39;00m:\n",
      "File \u001b[0;32m~/miniconda3/envs/py-bio/lib/python3.10/site-packages/scanpy/readwrite.py:127\u001b[0m, in \u001b[0;36mread\u001b[0;34m(filename, backed, sheet, ext, delimiter, first_column_names, backup_url, cache, cache_compression, **kwargs)\u001b[0m\n\u001b[1;32m    125\u001b[0m filename \u001b[38;5;241m=\u001b[39m settings\u001b[38;5;241m.\u001b[39mwritedir \u001b[38;5;241m/\u001b[39m (filekey \u001b[38;5;241m+\u001b[39m \u001b[38;5;124m'\u001b[39m\u001b[38;5;124m.\u001b[39m\u001b[38;5;124m'\u001b[39m \u001b[38;5;241m+\u001b[39m settings\u001b[38;5;241m.\u001b[39mfile_format_data)\n\u001b[1;32m    126\u001b[0m \u001b[38;5;28;01mif\u001b[39;00m \u001b[38;5;129;01mnot\u001b[39;00m filename\u001b[38;5;241m.\u001b[39mexists():\n\u001b[0;32m--> 127\u001b[0m     \u001b[38;5;28;01mraise\u001b[39;00m \u001b[38;5;167;01mValueError\u001b[39;00m(\n\u001b[1;32m    128\u001b[0m         \u001b[38;5;124mf\u001b[39m\u001b[38;5;124m'\u001b[39m\u001b[38;5;124mReading with filekey \u001b[39m\u001b[38;5;132;01m{\u001b[39;00mfilekey\u001b[38;5;132;01m!r}\u001b[39;00m\u001b[38;5;124m failed, \u001b[39m\u001b[38;5;124m'\u001b[39m\n\u001b[1;32m    129\u001b[0m         \u001b[38;5;124mf\u001b[39m\u001b[38;5;124m'\u001b[39m\u001b[38;5;124mthe inferred filename \u001b[39m\u001b[38;5;132;01m{\u001b[39;00mfilename\u001b[38;5;132;01m!r}\u001b[39;00m\u001b[38;5;124m does not exist. \u001b[39m\u001b[38;5;124m'\u001b[39m\n\u001b[1;32m    130\u001b[0m         \u001b[38;5;124m'\u001b[39m\u001b[38;5;124mIf you intended to provide a filename, either use a filename \u001b[39m\u001b[38;5;124m'\u001b[39m\n\u001b[1;32m    131\u001b[0m         \u001b[38;5;124mf\u001b[39m\u001b[38;5;124m'\u001b[39m\u001b[38;5;124mending on one of the available extensions \u001b[39m\u001b[38;5;132;01m{\u001b[39;00mavail_exts\u001b[38;5;132;01m}\u001b[39;00m\u001b[38;5;124m \u001b[39m\u001b[38;5;124m'\u001b[39m\n\u001b[1;32m    132\u001b[0m         \u001b[38;5;124m'\u001b[39m\u001b[38;5;124mor pass the parameter `ext`.\u001b[39m\u001b[38;5;124m'\u001b[39m\n\u001b[1;32m    133\u001b[0m     )\n\u001b[1;32m    134\u001b[0m \u001b[38;5;28;01mreturn\u001b[39;00m read_h5ad(filename, backed\u001b[38;5;241m=\u001b[39mbacked)\n",
      "\u001b[0;31mValueError\u001b[0m: Reading with filekey '/home/asline01/projects/data/ileal-cd/CD-1/filtered_feature_bc_matrix' failed, the inferred filename PosixPath('/home/asline01/projects/data/ileal-cd/CD-1/filtered_feature_bc_matrix.h5ad') does not exist. If you intended to provide a filename, either use a filename ending on one of the available extensions {'csv', 'data', 'tsv', 'h5ad', 'mtx.gz', 'xlsx', 'tab', 'loom', 'h5', 'anndata', 'txt', 'soft.gz', 'mtx'} or pass the parameter `ext`."
     ]
    }
   ],
   "source": [
    "self = Omics(file_path, **kws_init)"
   ]
  },
  {
   "cell_type": "markdown",
   "metadata": {},
   "source": [
    "# Preprocessing\n",
    "\n",
    "Perform normalization, filtering, QC, etc."
   ]
  },
  {
   "cell_type": "code",
   "execution_count": null,
   "metadata": {},
   "outputs": [],
   "source": [
    "self.preprocess(**kws_pp)"
   ]
  },
  {
   "cell_type": "markdown",
   "metadata": {},
   "source": [
    "# Clustering\n",
    "\n",
    "Use this method to perform dimensionality reduction and clustering.\n",
    "\n",
    "Optionally, by specifying `model_celltypist`, we can also detect cell types using `CellTypist`.\n",
    "\n",
    "You can provide a CellTypist model name as a string, or to train your own custom model, provide an AnnData object with the training data and, if cell type column names differ across training and main data (in `self`) or if you want to pass additional arguments to `celltypist.train()`, then provide a dictionary of arguments to `kws_train`. (Cell type name can be under `labels` or `col_cell_type` in this dictonary.)\n",
    "\n",
    "You can see what models are available with this code:\n",
    "```\n",
    "import celltypist\n",
    "celltypist.models.models_description().set_index(\"model\").description.apply(lambda x: print(x))\n",
    "```\n",
    "\n",
    "Or it will show you valid models automatically if you feed it an unknown model: `self.cluster(**kws_cluster, model=\"kate_moss.pkl\")``\n",
    "\n",
    "You can perform this after clustering by leaving `model_celltypist` as None and at any point running `self.annotate_clusters(...)`."
   ]
  },
  {
   "cell_type": "code",
   "execution_count": null,
   "metadata": {},
   "outputs": [],
   "source": [
    "self.cluster(**kws_cluster)\n",
    "_ = self.annotate_clusters(\"COVID19_HumanChallenge_Blood.pkl\")"
   ]
  },
  {
   "cell_type": "markdown",
   "metadata": {},
   "source": [
    "# Plots\n",
    "\n",
    "Create a variety of plots visualizing gene expression, cell clusters, etc.\n",
    "\n",
    "If you want to focus on a cell type categorization column other than \n",
    "\n",
    "You can often specify splitting/color-coding columns to be different across different plots by specifying a different `col_cell_type` argument in their respective `kws_<PLOT>` arguments (e.g., `kws_umap=\"predicted_labels\"`).\n",
    "\n",
    "By specifying `color` in `kws_umap`, you can create an additional UMAP colored by a column other than the cell type. If you also specified `cell_types_circle` in the main list of arguments, the UMAP will be colored by `kws_umap[\"color\"]` (or the cell type column, if color isn't specified), and the cell types listed in `cell_types_circle` will be circled on it. "
   ]
  },
  {
   "cell_type": "code",
   "execution_count": null,
   "metadata": {},
   "outputs": [],
   "source": [
    "clus = list(self.rna.obs[\"predicted_labels\"].sample(2))  # clusters to circle\n",
    "kgh = list(pd.Series(self.rna.var_names).sample(2))  # gene labels: highlight \n",
    "figs = self.plot(genes=16,  # or could specify list of gene names\n",
    "                 col_cell_type=\"majority_voting\",\n",
    "                 cell_types_circle=clus,  # list cell types to circle on UMAP\n",
    "                 kws_gex_violin=dict(scale=\"area\", height=10),\n",
    "                 genes_highlight=kgh,  # could be genes names to highlight\n",
    "                 kws_umap=dict(col_cell_type=\"predicted_labels\",\n",
    "                               color=None))  # for UMAP"
   ]
  }
 ],
 "metadata": {
  "kernelspec": {
   "display_name": "py-bio",
   "language": "python",
   "name": "python3"
  },
  "language_info": {
   "codemirror_mode": {
    "name": "ipython",
    "version": 3
   },
   "file_extension": ".py",
   "mimetype": "text/x-python",
   "name": "python",
   "nbconvert_exporter": "python",
   "pygments_lexer": "ipython3",
   "version": "3.10.4"
  },
  "orig_nbformat": 4
 },
 "nbformat": 4,
 "nbformat_minor": 2
}
