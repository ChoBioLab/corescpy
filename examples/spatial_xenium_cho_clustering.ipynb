{
 "cells": [
  {
   "cell_type": "markdown",
   "metadata": {},
   "source": [
    "# Setup"
   ]
  },
  {
   "cell_type": "markdown",
   "metadata": {},
   "source": [
    "## Imports & Settings"
   ]
  },
  {
   "cell_type": "code",
   "execution_count": 1,
   "metadata": {},
   "outputs": [
    {
     "data": {
      "text/html": [
       "<pre style=\"white-space:pre;overflow-x:auto;line-height:normal;font-family:Menlo,'DejaVu Sans Mono',consolas,'Courier New',monospace\"><span style=\"color: #808000; text-decoration-color: #808000; font-weight: bold\">ryp2 is not installed. Install with </span><span style=\"color: #008000; text-decoration-color: #008000; font-weight: bold\">pip install rpy2 </span><span style=\"color: #808000; text-decoration-color: #808000; font-weight: bold\">to run tools with R support.</span>\n",
       "</pre>\n"
      ],
      "text/plain": [
       "\u001b[1;33mryp2 is not installed. Install with \u001b[0m\u001b[1;32mpip install rpy2 \u001b[0m\u001b[1;33mto run tools with R support.\u001b[0m\n"
      ]
     },
     "metadata": {},
     "output_type": "display_data"
    },
    {
     "name": "stderr",
     "output_type": "stream",
     "text": [
      "Downloading data from `https://omnipathdb.org/queries/enzsub?format=json`\n",
      "Downloading data from `https://omnipathdb.org/queries/interactions?format=json`\n",
      "Downloading data from `https://omnipathdb.org/queries/complexes?format=json`\n",
      "Downloading data from `https://omnipathdb.org/queries/annotations?format=json`\n",
      "Downloading data from `https://omnipathdb.org/queries/intercell?format=json`\n",
      "Downloading data from `https://omnipathdb.org/about?format=text`\n"
     ]
    }
   ],
   "source": [
    "%load_ext autoreload\n",
    "%autoreload 2\n",
    "\n",
    "import os\n",
    "import re\n",
    "import itertools\n",
    "import scipy\n",
    "import scanpy as sc\n",
    "import seaborn as sb\n",
    "import pandas as pd\n",
    "import numpy as np\n",
    "import corescpy as cr\n",
    "from cr.pp import (\n",
    "    COL_SAMPLE_ID_O, COL_SAMPLE_ID, COL_SUBJECT, COL_INFLAMED, COL_STRICTURE,\n",
    "    COL_CONDITION, COL_FFF, COL_TANGRAM, COL_SEGMENT, COL_SLIDE,\n",
    "    COL_OBJECT, KEY_INFLAMED, KEY_UNINFLAMED, KEY_STRICTURE)\n",
    "\n",
    "# Computing Resources\n",
    "gpu = False\n",
    "sc.settings.n_jobs = 8\n",
    "sc.settings.max_memory = 150\n",
    "\n",
    "# Display\n",
    "pd.options.display.max_colwidth = 1000\n",
    "pd.options.display.max_columns = 100\n",
    "pd.options.display.max_rows = 500\n",
    "sc.settings.set_figure_params(dpi=100, frameon=False, figsize=(20, 20))\n",
    "\n",
    "# Panel & Column Names (from Metadata & To Be Created)\n",
    "panel = \"TUQ97N\"\n",
    "col_sample_id_o, col_sample_id, col_condition, col_subject = (\n",
    "    cr.pp.COL_SAMPLE_ID_O, cr.pp.COL_SAMPLE_ID,\n",
    "    cr.pp.COL_CONDITION, cr.pp.COL_SUBJECT)\n",
    "col_inflamed, col_stricture = (cr.pp.COL_INFLAMED, cr.pp.COL_STRICTURE)\n",
    "col_fff = cr.pp.COL_FFF  # column in which to store data file path\n",
    "col_tangram = cr.pp.COL_TANGRAM  # for future Tangram imputation\n",
    "col_segment = cr.pp.COL_SEGMENT  # column to signal old or new segmentation"
   ]
  },
  {
   "cell_type": "markdown",
   "metadata": {},
   "source": [
    "## Options & Data"
   ]
  },
  {
   "cell_type": "code",
   "execution_count": 2,
   "metadata": {},
   "outputs": [
    {
     "name": "stdout",
     "output_type": "stream",
     "text": [
      "                Sample ID  Patient Condition  Inflamed Stricture segmentation\n",
      "Sample                                                                       \n",
      "Inflamed-50006A    50006A    50006  Inflamed  inflamed        no          new\n",
      "\n",
      "\n",
      "<<< INITIALIZING SPATIAL CLASS OBJECT >>>\n",
      "\n",
      "\u001b[34mINFO    \u001b[0m reading                                                                                                   \n",
      "         \u001b[35m/mnt/cho_lab/bbdata2/outputs/TUQ97N/CHO-007/output-XETG00189__0022407__50006A-TUQ97N-EA__20240411__205514/\u001b[0m\n",
      "         \u001b[95mcell_feature_matrix.h5\u001b[0m                                                                                    \n",
      "WARNING: Unable to find `y`, `x` or `z` dimension in `('c', 'y', 'x')`. Renaming to `('channels', 'y', 'x', 'z')`\n",
      "WARNING: Unable to find `y`, `x` or `z` dimension in `('c', 'y', 'x')`. Renaming to `('channels', 'y', 'x', 'z')`\n",
      "WARNING: Unable to find `y`, `x` or `z` dimension in `('c', 'y', 'x')`. Renaming to `('channels', 'y', 'x', 'z')`\n",
      "WARNING: Unable to find `y`, `x` or `z` dimension in `('c', 'y', 'x')`. Renaming to `('channels', 'y', 'x', 'z')`\n",
      "WARNING: Unable to find `y`, `x` or `z` dimension in `('c', 'y', 'x')`. Renaming to `('channels', 'y', 'x', 'z')`\n",
      "\n",
      "\n",
      "================================================================================\n",
      "Counts: Initial\n",
      "================================================================================\n",
      "\n",
      "\n",
      "\tObservations: 297656\n",
      "\n",
      "\tGenes: 469\n",
      "\n",
      "\n",
      "\n",
      "================================================================================\n",
      "\n",
      "\n",
      "\n",
      "\n",
      " AnnData object with n_obs × n_vars = 297656 × 469\n",
      "    obs: 'cell_id', 'transcript_counts', 'control_probe_counts', 'control_codeword_counts', 'unassigned_codeword_counts', 'deprecated_codeword_counts', 'total_counts', 'cell_area', 'nucleus_area', 'region', 'z_level', 'nucleus_count', 'cell_labels', 'Sample'\n",
      "    var: 'gene_ids', 'feature_types', 'genome'\n",
      "    uns: 'spatialdata_attrs', 'spatial', 'original_ix'\n",
      "    obsm: 'spatial'\n",
      "    layers: 'counts' \n",
      "\n",
      "                      gene_ids    feature_types   genome\n",
      "gene_symbols                                           \n",
      "ABCA7         ENSG00000064687  Gene Expression  Unknown\n",
      "ACTA2         ENSG00000107796  Gene Expression  Unknown\n",
      "ACTG2         ENSG00000163017  Gene Expression  Unknown\n",
      "ADAM15        ENSG00000143537  Gene Expression  Unknown\n",
      "ADAM28        ENSG00000042980  Gene Expression  Unknown \n",
      "\n",
      " \n",
      "\n",
      "\n",
      "\n",
      "col_gene_symbols=\"gene_symbols\"\n",
      "col_cell_type=\"manual_res0pt5_dist0pt5_npc30\"\n",
      "col_sample_id=\"Sample\"\n",
      "col_batch=\"Sample\"\n",
      "col_subject=\"Patient\"\n",
      "col_condition=None\n",
      "col_num_umis=None\n",
      "col_segment=\"region\"\n",
      "\n",
      "\n",
      "\n",
      "key_control=None\n",
      "key_treatment=None\n",
      "\n",
      "\n",
      "<<< RESTORING SINGLE-SAMPLE FROM h5ad >>>\n",
      "\n",
      "WARNING: Unable to find `y`, `x` or `z` dimension in `('c', 'y', 'x')`. Renaming to `('channels', 'y', 'x', 'z')`\n",
      "WARNING: Unable to find `y`, `x` or `z` dimension in `('c', 'y', 'x')`. Renaming to `('channels', 'y', 'x', 'z')`\n",
      "WARNING: Unable to find `y`, `x` or `z` dimension in `('c', 'y', 'x')`. Renaming to `('channels', 'y', 'x', 'z')`\n",
      "WARNING: Unable to find `y`, `x` or `z` dimension in `('c', 'y', 'x')`. Renaming to `('channels', 'y', 'x', 'z')`\n",
      "WARNING: Unable to find `y`, `x` or `z` dimension in `('c', 'y', 'x')`. Renaming to `('channels', 'y', 'x', 'z')`\n",
      "AnnData object with n_obs × n_vars = 220569 × 469\n",
      "    obs: 'cell_id', 'transcript_counts', 'control_probe_counts', 'control_codeword_counts', 'unassigned_codeword_counts', 'deprecated_codeword_counts', 'total_counts', 'cell_area', 'nucleus_area', 'region', 'z_level', 'nucleus_count', 'cell_labels', 'Sample', 'Sample ID', 'Patient', 'Status', 'Slide Id', 'Project', 'Location', 'Stricture', 'GRID ID', 'Inflamed', 'Procedure Date', 'Age', 'Sex', 'Race', 'Hispanic', 'Diagnosis', 'Project.1', 'Procedure', 'Disease_Status', 'Date Collected', 'Date Sectioned', 'Date Hybridization', 'Storage 4c', 'Created By', 'Created', 'Storage Status', 'Location.1', 'Storage Row', 'Storage Col', 'Checked Out By', 'out_file', 'Condition', 'file_path', 'n_counts', 'log_counts', 'n_genes', 'n_genes_by_counts', 'log1p_n_genes_by_counts', 'log1p_total_counts', 'assay_protein', 'col_gene_symbols', 'col_cell_type', 'col_sample_id', 'col_batch', 'col_subject', 'col_condition', 'col_num_umis', 'col_segment', 'cell_filter_pmt', 'cell_filter_ncounts', 'cell_filter_ngene', 'gene_filter_ncell', 'gene_filter_ncounts', 'custom_thresholds', 'method_norm', 'figsize', 'kws_scale', 'leiden_res0pt5_dist0pt5_npc30', 'label_res0pt5_dist0pt5_npc30', 'leiden_res0pt75_dist0pt3_npc30', 'label_res0pt75_dist0pt3_npc30', 'leiden_res1pt5_dist0_npc30', 'label_res1pt5_dist0_npc30', 'manual_res0pt5_dist0pt5_npc30', 'manual_res0pt75_dist0pt3_npc30', 'manual_res1pt5_dist0_npc30', 'annotation_res0pt5_dist0pt5_npc30', 'bin_res0pt5_dist0pt5_npc30', 'bucket_res0pt5_dist0pt5_npc30', 'annotation_res0pt75_dist0pt3_npc30', 'bin_res0pt75_dist0pt3_npc30', 'bucket_res0pt75_dist0pt3_npc30', 'annotation_res1pt5_dist0_npc30', 'bin_res1pt5_dist0_npc30', 'bucket_res1pt5_dist0_npc30', 'CDKN1A_threshold2', 'TP53_threshold2', 'PLAUR_threshold2', 'CDKN1A_TP53_threshold2', 'CDKN1A_PLAUR_threshold2', 'TP53_PLAUR_threshold2', 'CDKN1A_TP53_PLAUR_threshold2', 'IL7R_threshold2', 'KLRB1_threshold2', 'RORC_threshold2', 'IL7R_KLRB1_threshold2', 'IL7R_RORC_threshold2', 'KLRB1_RORC_threshold2', 'IL7R_KLRB1_RORC_threshold2'\n",
      "    var: 'gene_ids', 'feature_types', 'genome', 'mt', 'ribo', 'hb', 'n_cells_by_counts', 'mean_counts', 'log1p_mean_counts', 'pct_dropout_by_counts', 'total_counts', 'log1p_total_counts', 'n_cells', 'n_counts', 'highly_variable', 'means', 'dispersions', 'dispersions_norm', 'mean', 'std'\n",
      "    uns: 'Sample_colors', 'hvg', 'label_res0pt5_dist0pt5_npc30_colors', 'label_res0pt75_dist0pt3_npc30_colors', 'label_res1pt5_dist0_npc30_colors', 'leiden_res0pt5_dist0pt5_npc30', 'leiden_res0pt75_dist0pt3_npc30', 'leiden_res1pt5_dist0_npc30', 'liana_res', 'log1p', 'manual_res1pt5_dist0_npc30_centrality_scores', 'manual_res1pt5_dist0_npc30_co_occurrence', 'manual_res1pt5_dist0_npc30_interactions', 'manual_res1pt5_dist0_npc30_nhood_enrichment', 'neighbors', 'original_ix', 'pca', 'rank_genes_groups_leiden_res0pt5_dist0pt5_npc30', 'rank_genes_groups_leiden_res0pt75_dist0pt3_npc30', 'rank_genes_groups_leiden_res1pt5_dist0_npc30', 'spatial_neighbors', 'spatialdata_attrs', 'specifications', 'umap', 'spatial'\n",
      "    obsm: 'X_pca', 'X_umap', 'spatial'\n",
      "    varm: 'PCs'\n",
      "    layers: 'counts', 'log1p', 'scaled'\n",
      "    obsp: 'connectivities', 'distances', 'spatial_connectivities', 'spatial_distances'\n"
     ]
    }
   ],
   "source": [
    "# Directories & Metadata\n",
    "load, reannotate = True, True\n",
    "run = None  # just look for samples in all runs\n",
    "samples = \"all\"\n",
    "\n",
    "# Main Directories\n",
    "# Replace manually or mirror my file/directory tree in your home (`ddu`)\n",
    "ddu = os.path.expanduser(\"~\")\n",
    "ddm = \"/mnt/cho_lab\" if os.path.exists(\"/mnt/cho_lab\") else \"/mnt\"  # Spark?\n",
    "ddl = f\"{ddm}/disk2/{os.getlogin()}/data/shared-xenium-library\" if (\n",
    "    \"cho\" in ddm) else os.path.join(ddu, \"shared-xenium-library\")\n",
    "ddx = f\"{ddm}/bbdata2\"  # mounted drive Xenium folder\n",
    "out_dir = os.path.join(ddl, \"outputs\", panel, \"nebraska\")  # None = no save\n",
    "d_path = os.path.join(ddm, \"disk2\" if \"cho\" in ddm else \"\",\n",
    "                      os.getlogin(), \"data\")  # other, e.g., Tangram data\n",
    "file_mdf = os.path.join(ddl, \"samples.csv\")  # metadata\n",
    "anf = pd.read_csv(os.path.join(ddu, \"corescpy/examples/markers_lineages.csv\"))\n",
    "genes_subset = None\n",
    "# genes_subset = list(anf.iloc[:, 0])\n",
    "\n",
    "# Processing & Clustering Options\n",
    "kws_pp = dict(cell_filter_pmt=None, cell_filter_ncounts=[15, None],\n",
    "              cell_filter_ngene=[3, None], gene_filter_ncell=[3, None],\n",
    "              gene_filter_ncounts=[3, None], custom_thresholds=None,\n",
    "              kws_scale=dict(max_value=10, zero_center=True),\n",
    "              method_norm=\"log\")  # preprocessing keyword arguments\n",
    "kws_cluster = dict(kws_umap=dict(method=\"rapids\" if gpu else \"umap\"),\n",
    "                   genes_subset=genes_subset,  # use only markers\n",
    "                   use_gpu=gpu, use_highly_variable=False)\n",
    "kws_clustering, col_assignment = {}, []\n",
    "res_list = [1.5, 0.75, 0.5]\n",
    "min_dist_list = [0, 0.3, 0.5]\n",
    "n_comps_list = [30, 30, 30]\n",
    "\n",
    "# After this point, no more options to specify\n",
    "# Just code to infer the data file path from your specifications\n",
    "# and construct argument dictionaries and manipulate metadata and such.\n",
    "\n",
    "# Construct Clustering Keyword Dictionary\n",
    "for i in zip(res_list, min_dist_list, n_comps_list):\n",
    "    kws = {**kws_cluster}\n",
    "    kws.update({\"resolution\": i[0], \"n_comps\": i[2],\n",
    "                \"kws_umap\": {**kws_cluster[\"kws_umap\"], \"min_dist\": i[1]}})\n",
    "    suff = str(f\"res{re.sub('[.]', 'pt', str(kws['resolution']))}_dist\"\n",
    "               f\"{re.sub('[.]', 'pt', str(kws['kws_umap']['min_dist']))}\"\n",
    "               f\"_npc{kws['n_comps']}\")  # file path suffix\n",
    "    kws_clustering.update({suff: kws})\n",
    "    col_assignment += [\"group\" if kws[\"resolution\"] >= 0.7 else \"Bucket\"]\n",
    "if man_anns is True:\n",
    "    man_anns = list(kws_clustering.keys())\n",
    "col_cell_type = list(kws_clustering.keys())[0] if (\n",
    "    man_anns is None) else f\"annotation_{man_anns[-1]}\"  # default cell labels\n",
    "\n",
    "# Read Metadata\n",
    "metadata = cr.pp.get_metadata_cho(\n",
    "    ddx, file_mdf, panel_id=panel, samples=samples)  # get metadata\n",
    "\n",
    "# Annotation File\n",
    "assign = anf.dropna(subset=col_assignment).set_index(\n",
    "    \"gene\").rename_axis(\"Gene\")  # markers\n",
    "# assign = assign[~assign.Quality.isin([-1])]  # drop low-quality markers\n",
    "\n",
    "# Print Metadata & Make Output Directory (If Not Present)\n",
    "print(metadata[[col_sample_id_o, col_subject, col_condition,\n",
    "                col_inflamed, col_stricture, col_segment]])\n",
    "if not os.path.exists(out_dir):\n",
    "    os.makedirs(out_dir)\n",
    "\n",
    "# Load Data\n",
    "kws_init = dict(col_sample_id=col_sample_id, col_subject=col_subject,\n",
    "                col_cell_type=col_cell_type)  # object creation arguments\n",
    "selves = [None] * metadata.shape[0]  # to hold different samples\n",
    "for i, x in enumerate(metadata.index.values):\n",
    "    selves[i] = cr.Spatial(metadata.loc[x][col_fff], library_id=x, **kws_init)\n",
    "    out = os.path.join(out_dir, selves[i]._library_id)  # where to save object\n",
    "    if load and os.path.exists(os.path.join(out_dir, self._library_id)):\n",
    "        selves[i].update_from_h5ad(out)  # update from processed object file\n",
    "    for j in metadata:  # iterate metadata columns & add to .obs\n",
    "        selves[i].rna.obs.loc[:, j] = str(metadata.loc[x][j])\n",
    "    selves[i].rna.obs.loc[:, COL_OBJECT] = out  # output path (to save object)"
   ]
  },
  {
   "cell_type": "markdown",
   "metadata": {},
   "source": [
    "# Clustering"
   ]
  },
  {
   "cell_type": "markdown",
   "metadata": {},
   "source": [
    "## Processing, Leiden, Annotation"
   ]
  },
  {
   "cell_type": "code",
   "execution_count": null,
   "metadata": {},
   "outputs": [],
   "source": [
    "%%time\n",
    "\n",
    "for i, s in enumerate(selves):\n",
    "    f_o = str(selves[i].rna.obs.out_file.iloc[0])\n",
    "\n",
    "    # Preprocessing\n",
    "    print(\"\\n\\n\", kws_pp, \"\\n\\n\")\n",
    "    _ = s.preprocess(**kws_pp, figsize=(15, 15))  # preprocess\n",
    "\n",
    "    # Clustering at Different Resolutions & Minimum Distances & # of PCs\n",
    "    for j, x in enumerate(kws_clustering):\n",
    "\n",
    "        # Variables & Output Files\n",
    "        print(f\"\\n\\n{'=' * 80}\\n{x}\\n{'=' * 80}\\n\\n\")\n",
    "        cct, cca = f\"leiden_{x}\", f\"label_{x}\"  # Leiden & annotation columns\n",
    "        annot = assign[[col_assignment[j]]]  # gene-annotation dictionary\n",
    "\n",
    "        # Clustering, Markers, Annotation, & Writing Output\n",
    "        if load is False or cct not in s.rna.obs:\n",
    "            _ = s.cluster(**kws_clustering[x], key_added=cct, out_file=f_o)\n",
    "        if load is False or f\"rank_genes_groups_{cct}\" not in s.rna.uns:\n",
    "            _ = s.find_markers(col_cell_type=cct, kws_plot=False)  # DEGs\n",
    "        if reannotate is True or load is False:  # annotate; Explorer files\n",
    "            _ = s.annotate_clusters(annot, col_cell_type=cct,\n",
    "                                    col_annotation=cca)  # annotate\n",
    "            for c in [k for k in [cct, cca] if k in s.rna.obs]:  # Explorer\n",
    "                s.write_clusters(out_dir, col_cell_type=c, overwrite=True,\n",
    "                                 file_prefix=f\"{s._library_id}__\",\n",
    "                                 n_top=\"find_markers\")\n",
    "\n",
    "        # Write Final Object\n",
    "        if load is False or reannotate is True and f_o is not None:\n",
    "            s.write(f_o)"
   ]
  },
  {
   "cell_type": "markdown",
   "metadata": {},
   "source": [
    "## Plot Clusters Individually (in Same PDF)"
   ]
  },
  {
   "cell_type": "code",
   "execution_count": null,
   "metadata": {},
   "outputs": [],
   "source": [
    "for i, s in enumerate(selves):\n",
    "    for x in kws_clustering:\n",
    "        print(f\"\\n\\n{'=' * 80}\\n{x}\\n{'=' * 80}\\n\\n\")\n",
    "        cct, cca =   # Leiden & annotation columns\n",
    "        for c in [f\"leiden_{x}\", f\"label_{x}\", f\"manual_{x}\"]:\n",
    "            if c not in s.rna.obs:\n",
    "                print(f\"\\n\\n{c} not in {s.rna.obs.columns}.\\n\\n\")\n",
    "            pfp = os.path.join(out_dir, \"plots\", s._library_id, f\"{c}.pdf\")\n",
    "            if out_dir is not None and (\n",
    "                    load is False or not os.path.exists(pfp)):\n",
    "                s.plot_clusters(col_cell_type=c, out_dir=pfp, multi_pdf=True)"
   ]
  },
  {
   "cell_type": "markdown",
   "metadata": {},
   "source": [
    "## Plot Clusters"
   ]
  },
  {
   "cell_type": "code",
   "execution_count": null,
   "metadata": {},
   "outputs": [],
   "source": [
    "for s in selves:\n",
    "    s.plot_spatial(color=col_tangram)\n",
    "    for j, x in enumerate(kws_clustering):\n",
    "        _ = s.plot_spatial(color=[f\"leiden_{x}\", f\"label_{x}\"])"
   ]
  },
  {
   "cell_type": "markdown",
   "metadata": {},
   "source": [
    "# Analyze"
   ]
  },
  {
   "cell_type": "markdown",
   "metadata": {},
   "source": [
    "## Centrality Scores"
   ]
  },
  {
   "cell_type": "code",
   "execution_count": null,
   "metadata": {},
   "outputs": [],
   "source": [
    "%%time\n",
    "\n",
    "for s in selves:\n",
    "    s.calculate_centrality(n_jobs=sc.settings.n_jobs)"
   ]
  },
  {
   "cell_type": "markdown",
   "metadata": {},
   "source": [
    "## Neighborhood Enrichment Analysis"
   ]
  },
  {
   "cell_type": "code",
   "execution_count": null,
   "metadata": {},
   "outputs": [],
   "source": [
    "%%time\n",
    "\n",
    "for s in selves:\n",
    "    _ = s.calculate_neighborhood(figsize=(60, 30))"
   ]
  },
  {
   "cell_type": "markdown",
   "metadata": {},
   "source": [
    "## Cell Type Co-Occurrence"
   ]
  },
  {
   "cell_type": "code",
   "execution_count": null,
   "metadata": {},
   "outputs": [],
   "source": [
    "%%time\n",
    "\n",
    "for s in selves:\n",
    "    _ = s.find_cooccurrence(figsize=(60, 20), kws_plot=dict(wspace=3))"
   ]
  },
  {
   "cell_type": "markdown",
   "metadata": {},
   "source": [
    "## Spatial Clustering"
   ]
  },
  {
   "cell_type": "code",
   "execution_count": null,
   "metadata": {},
   "outputs": [],
   "source": [
    "for s in selves:\n",
    "    cct = f\"leiden_spatial_{list(kws_clustering.keys())[-1]}\"\n",
    "    _ = s.cluster_spatial(key_added=cct,\n",
    "                          **kws_clustering[list(kws_clustering.keys())[-1]])\n",
    "    _ = s.find_markers(col_cell_type=cct, kws_plot=False)\n",
    "    _ = s.annotate_clusters(assign[[col_assignment[-1]]], col_cell_type=cct,\n",
    "                            col_annotation=f\"annotation_{cct}\")\n",
    "    for c in [cct, f\"annotation_{cct}\"]:\n",
    "        s.plot_spatial(c)\n",
    "        if out_dir is not None:\n",
    "            s.write_clusters(out_dir, col_cell_type=c,\n",
    "                             n_top=True, overwrite=True,\n",
    "                             file_prefix=f\"{s._library_id}___\")\n",
    "    if out_dir is not None:\n",
    "        s.write(str(s.rna.obs.out_file.iloc[0]))"
   ]
  },
  {
   "cell_type": "markdown",
   "metadata": {},
   "source": [
    "## Spatially-Variable Genes"
   ]
  },
  {
   "cell_type": "code",
   "execution_count": null,
   "metadata": {},
   "outputs": [],
   "source": [
    "%%time\n",
    "\n",
    "kws = dict(kws_plot=dict(legend_fontsize=\"large\"), figsize=(15, 15))\n",
    "for s in selves:\n",
    "    _ = s.find_svgs(genes=15, method=\"moran\", n_perms=10, **kws)"
   ]
  },
  {
   "cell_type": "markdown",
   "metadata": {},
   "source": [
    "## GEX"
   ]
  },
  {
   "cell_type": "code",
   "execution_count": null,
   "metadata": {},
   "outputs": [],
   "source": [
    "# for s in selves:\n",
    "#     s.plot_spatial(color=[\"TNF\", \"IL23\", col_cell_type])"
   ]
  }
 ],
 "metadata": {
  "kernelspec": {
   "display_name": "py-bio",
   "language": "python",
   "name": "python3"
  },
  "language_info": {
   "codemirror_mode": {
    "name": "ipython",
    "version": 3
   },
   "file_extension": ".py",
   "mimetype": "text/x-python",
   "name": "python",
   "nbconvert_exporter": "python",
   "pygments_lexer": "ipython3",
   "version": "3.10.4"
  }
 },
 "nbformat": 4,
 "nbformat_minor": 2
}
