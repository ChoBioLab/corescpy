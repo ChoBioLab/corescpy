{
 "cells": [
  {
   "cell_type": "markdown",
   "metadata": {},
   "source": [
    "# Setup"
   ]
  },
  {
   "cell_type": "code",
   "execution_count": 10,
   "metadata": {},
   "outputs": [
    {
     "name": "stdout",
     "output_type": "stream",
     "text": [
      "The autoreload extension is already loaded. To reload it, use:\n",
      "  %reload_ext autoreload\n"
     ]
    }
   ],
   "source": [
    "%load_ext autoreload\n",
    "%autoreload 2\n",
    "\n",
    "from crispr import Spatial\n",
    "import scanpy as sc\n",
    "import squidpy as sq\n",
    "import functools\n",
    "import os\n",
    "from os import system\n",
    "import pandas as pd\n",
    "\n",
    "ddd = os.path.join(os.path.expanduser(\"~\"), \"projects/data/public/xenium\")\n",
    "\n",
    "pd.options.display.max_columns = 100\n",
    "\n",
    "# genes = [\"CDKN1A\", \"CDKN2A\", \"TP53\", \"PLAUR\",\n",
    "#          \"PTGER4\", \"ATG16L1\", \"NOD2\", \"LACC1\"]\n",
    "# cell_types = None\n",
    "# palette = \"tab20\"\n",
    "\n",
    "genes = dict(CSF=[\"CSF2\", \"CSF2RB\", \"CSF2RA\"],\n",
    "             All_ILCs=[\"IL7R\"],\n",
    "             ILC1=[\"TBX21\", \"KLRB1\", \"CCL5\", \"HSP90AA1\", \"IFNG\"],\n",
    "             ILC3=[\"RORC\", \"IL23R\", \"KIT\", \"CCL20\", \"TCF7\", \"IL22\"],\n",
    "             Cytokines=[\"IFNG\", \"IL22\"])  # ILC1 & ILC3, respectively\n",
    "cell_types = [\"ILC3\", \"LTi-like NCR+ ILC3\", \"LTi-like NCR- ILC3\",\n",
    "              \"ILCP\", \"Macrophages\", \"Stem cells\"]\n",
    "# palette = [\"r\", \"tab:pink\", \"m\", \"b\", \"tab:brown\", \"cyan\"]\n",
    "palette = \"tab10\"\n",
    "\n",
    "kws_pp = dict(cell_filter_pmt=[0, 100], cell_filter_ncounts=None,\n",
    "              cell_filter_ngene=[0, None], gene_filter_ncell=[3, None],\n",
    "              gene_filter_ncounts=None)  # can call using 1 arguments"
   ]
  },
  {
   "cell_type": "markdown",
   "metadata": {},
   "source": [
    "# Data"
   ]
  },
  {
   "cell_type": "code",
   "execution_count": 11,
   "metadata": {},
   "outputs": [
    {
     "name": "stdout",
     "output_type": "stream",
     "text": [
      "\n",
      "\n",
      "<<< INITIALIZING SPATIAL CLASS OBJECT >>>\n",
      "\n",
      "\n",
      "\n",
      "<<< INITIALIZING OMICS CLASS OBJECT >>>\n",
      "\n",
      "col_gene_symbols=\"gene_symbols\"\n",
      "col_cell_type=\"leiden\"\n",
      "col_sample_id=None\n",
      "col_batch=None\n",
      "col_subject=None\n",
      "col_condition=None\n",
      "col_num_umis=None\n",
      "key_control=None\n",
      "key_treatment=None\n",
      "\n",
      "\n",
      "<<< LOADING 10X FILE /home/elizabeth/elizabeth/projects/data/public/xenium/Xenium_V1_hColon_Non_diseased_Base_FFPE_outs/cell_feature_matrix >>>\n",
      "\n",
      "\n",
      "================================================================================\n",
      "Cell Counts: Initial\n",
      "================================================================================\n",
      "\n",
      "\n",
      "Observations: 270984\n",
      "\n",
      "\n",
      "\n",
      "================================================================================\n",
      "Gene Counts: Initial\n",
      "================================================================================\n",
      "\n",
      "Empty DataFrame\n",
      "Columns: [index, gene_ids, feature_types]\n",
      "Index: []\n",
      "\n",
      "\n",
      "\n",
      "\n",
      "\n",
      " AnnData object with n_obs × n_vars = 270984 × 541\n",
      "    var: 'gene_ids', 'feature_types'\n",
      "    layers: 'counts'\n",
      "\n",
      "\n",
      " AnnData object with n_obs × n_vars = 270984 × 541\n",
      "    var: 'gene_ids', 'feature_types'\n",
      "    layers: 'counts'\n",
      "                     gene_ids    feature_types\n",
      "gene_symbols                                  \n",
      "ABCC8         ENSG00000006071  Gene Expression\n",
      "ADH1C         ENSG00000248144  Gene Expression\n",
      "ADRA2A        ENSG00000150594  Gene Expression\n",
      "AFAP1L2       ENSG00000169129  Gene Expression\n",
      "AGTR1         ENSG00000144891  Gene Expression\n",
      "Empty DataFrame\n",
      "Columns: []\n",
      "Index: [aaaacagj-1, aaaaiafa-1, aaaajlbn-1, aaaajpaa-1, aaaakaii-1]\n",
      "\n",
      "*** Retrieving spatial data from {file_path_spatial}\n",
      "\n",
      "\n",
      "\n",
      "\n",
      "col_gene_symbols=\"gene_symbols\"\n",
      "col_cell_type=\"leiden\"\n",
      "col_sample_id=None\n",
      "col_batch=None\n",
      "col_subject=None\n",
      "col_condition=None\n",
      "col_num_umis=None\n",
      "key_control=None\n",
      "key_treatment=None\n"
     ]
    }
   ],
   "source": [
    "d_p = os.path.join(\n",
    "    ddd, \"Xenium_V1_hColon_Non_diseased_Base_FFPE_outs/cell_feature_matrix\")\n",
    "self = Spatial(d_p)"
   ]
  },
  {
   "cell_type": "markdown",
   "metadata": {},
   "source": [
    "## Preprocessing"
   ]
  },
  {
   "cell_type": "code",
   "execution_count": 12,
   "metadata": {},
   "outputs": [
    {
     "name": "stdout",
     "output_type": "stream",
     "text": [
      "\n",
      "Un-Used Keyword Arguments: {'assay_protein': None, 'col_sample_id': None, 'col_batch': None, 'col_subject': None, 'col_condition': None, 'col_num_umis': None}\n",
      "\n",
      "\n"
     ]
    }
   ],
   "source": [
    "%%time\n",
    "\n",
    "_ = self.preprocess(**kws_pp)"
   ]
  },
  {
   "cell_type": "markdown",
   "metadata": {},
   "source": [
    "## Clustering"
   ]
  },
  {
   "cell_type": "code",
   "execution_count": null,
   "metadata": {},
   "outputs": [],
   "source": [
    "%%time\n",
    "\n",
    "_ = self.cluster()"
   ]
  },
  {
   "cell_type": "markdown",
   "metadata": {},
   "source": [
    "# Centrality Scores"
   ]
  },
  {
   "cell_type": "code",
   "execution_count": null,
   "metadata": {},
   "outputs": [],
   "source": [
    "%%time\n",
    "\n",
    "self.calculate_centrality(col_cell_type=\"majority_voting\", n_jobs=4)"
   ]
  },
  {
   "cell_type": "markdown",
   "metadata": {},
   "source": [
    "# Cell Type Co-Occurrence"
   ]
  },
  {
   "cell_type": "code",
   "execution_count": null,
   "metadata": {},
   "outputs": [],
   "source": [
    "%%time\n",
    "\n",
    "_ = self.find_cooccurrence(key_cell_type=cell_types, figsize=(60, 20),\n",
    "                           palette=palette, kws_plot=dict(wspace=3))"
   ]
  },
  {
   "cell_type": "markdown",
   "metadata": {},
   "source": [
    "# Neighbors Enrichment Analysis"
   ]
  },
  {
   "cell_type": "code",
   "execution_count": null,
   "metadata": {},
   "outputs": [],
   "source": [
    "%%time\n",
    "\n",
    "_ = self.calculate_neighborhood(figsize=(60, 30), cmap=\"coolwarm\",\n",
    "                                cbar_range=[-30, 30])"
   ]
  },
  {
   "cell_type": "markdown",
   "metadata": {},
   "source": [
    "# Spatially-Variable Genes"
   ]
  },
  {
   "cell_type": "code",
   "execution_count": null,
   "metadata": {},
   "outputs": [],
   "source": [
    "%%time\n",
    "\n",
    "ggg = genes if genes and isinstance(genes, dict) else {\"Genes\": genes}\n",
    "genes_all = functools.reduce(lambda i, j: i + j, [ggg[g] for g in ggg])\n",
    "# for g in ggg:\n",
    "#   self.find_svgs(genes=ggg[g])\n",
    "fig = self.find_svgs(\n",
    "    genes=genes_all, method=\"moran\", n_perms=10, kws_plot=dict(\n",
    "        wspace=0.1, cmap=\"coolwarm\", vcenter=0, size=3,\n",
    "        legend_fontsize=\"large\"), figsize=(15, 15))"
   ]
  },
  {
   "cell_type": "markdown",
   "metadata": {},
   "source": [
    "# Receptor-Ligand Interactions"
   ]
  },
  {
   "cell_type": "code",
   "execution_count": null,
   "metadata": {},
   "outputs": [],
   "source": [
    "%%time\n",
    "\n",
    "out = self.calculate_receptor_ligand(\n",
    "    key_sources=cell_types, key_targets=cell_types, col_condition=False,\n",
    "    p_threshold=0.001, remove_ns=True, figsize=(15, 10))"
   ]
  }
 ],
 "metadata": {
  "kernelspec": {
   "display_name": "py-bio",
   "language": "python",
   "name": "python3"
  },
  "language_info": {
   "codemirror_mode": {
    "name": "ipython",
    "version": 3
   },
   "file_extension": ".py",
   "mimetype": "text/x-python",
   "name": "python",
   "nbconvert_exporter": "python",
   "pygments_lexer": "ipython3",
   "version": "3.10.4"
  }
 },
 "nbformat": 4,
 "nbformat_minor": 2
}
