{
 "cells": [
  {
   "cell_type": "markdown",
   "metadata": {},
   "source": [
    "# Setup"
   ]
  },
  {
   "cell_type": "markdown",
   "metadata": {},
   "source": [
    "## Imports & Settings"
   ]
  },
  {
   "cell_type": "code",
   "execution_count": 3,
   "metadata": {},
   "outputs": [
    {
     "data": {
      "text/html": [
       "<pre style=\"white-space:pre;overflow-x:auto;line-height:normal;font-family:Menlo,'DejaVu Sans Mono',consolas,'Courier New',monospace\"><span style=\"color: #808000; text-decoration-color: #808000; font-weight: bold\">ryp2 is not installed. Install with </span><span style=\"color: #008000; text-decoration-color: #008000; font-weight: bold\">pip install rpy2 </span><span style=\"color: #808000; text-decoration-color: #808000; font-weight: bold\">to run tools with R support.</span>\n",
       "</pre>\n"
      ],
      "text/plain": [
       "\u001b[1;33mryp2 is not installed. Install with \u001b[0m\u001b[1;32mpip install rpy2 \u001b[0m\u001b[1;33mto run tools with R support.\u001b[0m\n"
      ]
     },
     "metadata": {},
     "output_type": "display_data"
    },
    {
     "name": "stderr",
     "output_type": "stream",
     "text": [
      "Downloading data from `https://omnipathdb.org/queries/enzsub?format=json`\n",
      "Downloading data from `https://omnipathdb.org/queries/interactions?format=json`\n",
      "Downloading data from `https://omnipathdb.org/queries/complexes?format=json`\n",
      "Downloading data from `https://omnipathdb.org/queries/annotations?format=json`\n",
      "Downloading data from `https://omnipathdb.org/queries/intercell?format=json`\n",
      "Downloading data from `https://omnipathdb.org/about?format=text`\n"
     ]
    }
   ],
   "source": [
    "%load_ext autoreload\n",
    "%autoreload 2\n",
    "\n",
    "import os\n",
    "import re\n",
    "import scanpy as sc\n",
    "import pandas as pd\n",
    "import numpy as np\n",
    "import corescpy as cr\n",
    "\n",
    "# Computing Resources\n",
    "gpu = False\n",
    "sc.settings.n_jobs = 4\n",
    "sc.settings.max_memory = 150\n",
    "\n",
    "# Display\n",
    "pd.options.display.max_columns = 100\n",
    "pd.options.display.max_rows = 500\n",
    "sc.settings.set_figure_params(dpi=100, frameon=False, figsize=(20, 20))\n",
    "\n",
    "# Column Names (from Metadata & To Be Created)\n",
    "col_sample_id_o, col_sample_id = \"Sample ID\", \"Sample\"  # in metadata, new\n",
    "col_subject = \"Patient\"  # in metadata file\n",
    "col_inflamed, col_stricture = \"Inflamed\", \"Stricture\"  # in metadata file\n",
    "col_condition = \"Condition\"  # constructed from col_inflamed & col_stricture\n",
    "col_fff = \"file_path\"  # column in metadata in which to store data file path\n",
    "col_cell_type = \"Annotation\"  # for eventual cluster annotation column\n",
    "col_tangram = \"tangram_prediction\"  # for future Tangram imputation annotation"
   ]
  },
  {
   "cell_type": "markdown",
   "metadata": {},
   "source": [
    "## Options & Data"
   ]
  },
  {
   "cell_type": "code",
   "execution_count": 4,
   "metadata": {},
   "outputs": [
    {
     "name": "stdout",
     "output_type": "stream",
     "text": [
      "                  Sample ID  Patient     Status  Slide Id          Project  \\\n",
      "Sample                                                                       \n",
      "Stricture-49696A4   49696A4    49696  Available   11170.0  scRNA & Spatial   \n",
      "\n",
      "                         Location Stricture  GRID ID  Inflamed Procedure Date  \\\n",
      "Sample                                                                          \n",
      "Stricture-49696A4  Terminal Ileum       yes  1011303  inflamed        2023-10   \n",
      "\n",
      "                   Age     Sex                    Race Hispanic  \\\n",
      "Sample                                                            \n",
      "Stricture-49696A4   33  female  black/african-american       NO   \n",
      "\n",
      "                         Diagnosis            Project.1  Procedure  \\\n",
      "Sample                                                               \n",
      "Stricture-49696A4  Crohn's Disease  Helmsley-Senescence  Resection   \n",
      "\n",
      "                  Disease_Status Date Collected Date Sectioned  \\\n",
      "Sample                                                           \n",
      "Stricture-49696A4         Active     2023.10.30     2024.01.30   \n",
      "\n",
      "                  Date Hybridization Storage 4c      Created By      Created  \\\n",
      "Sample                                                                         \n",
      "Stricture-49696A4         2024.02.29         NO  lorena tavares  08-Mar-2024   \n",
      "\n",
      "                   Storage Status  Location.1  Storage Row  Storage Col  \\\n",
      "Sample                                                                    \n",
      "Stricture-49696A4  Not in storage         NaN          NaN          NaN   \n",
      "\n",
      "                   Checked Out By  \\\n",
      "Sample                              \n",
      "Stricture-49696A4             NaN   \n",
      "\n",
      "                                                            out_file  \\\n",
      "Sample                                                                 \n",
      "Stricture-49696A4  output-XETG00189__0011170__Region_1__20240229_...   \n",
      "\n",
      "                   Condition  \\\n",
      "Sample                         \n",
      "Stricture-49696A4  Stricture   \n",
      "\n",
      "                                                           file_path  \n",
      "Sample                                                                \n",
      "Stricture-49696A4  /mnt/cho_lab/bbdata1/outputs/TUQ97N/CHO-004/ou...  \n",
      "\n",
      "\n",
      "<<< INITIALIZING SPATIAL CLASS OBJECT >>>\n",
      "\n",
      "\n",
      "\n",
      "<<< INITIALIZING OMICS CLASS OBJECT >>>\n",
      "\n",
      "\n",
      "\n",
      "\n",
      "col_gene_symbols=\"gene_symbols\"\n",
      "col_cell_type=\"Annotation\"\n",
      "col_sample_id=\"Sample\"\n",
      "col_batch=\"Sample\"\n",
      "col_subject=\"Patient\"\n",
      "col_condition=None\n",
      "col_num_umis=None\n",
      "\n",
      "\n",
      "\n",
      "key_control=None\n",
      "key_treatment=None\n",
      "\u001b[34mINFO    \u001b[0m reading                                                                                                   \n",
      "         \u001b[35m/mnt/cho_lab/bbdata1/outputs/TUQ97N/CHO-004/output-XETG00189__0011170__Region_1__20240229__215114/\u001b[0m\u001b[95mcell_fea\u001b[0m\n",
      "         \u001b[95mture_matrix.h5\u001b[0m                                                                                            \n"
     ]
    },
    {
     "name": "stdout",
     "output_type": "stream",
     "text": [
      "WARNING: Unable to find `y`, `x` or `z` dimension in `('c', 'y', 'x')`. Renaming to `('channels', 'y', 'x', 'z')`\n",
      "WARNING: Unable to find `y`, `x` or `z` dimension in `('c', 'y', 'x')`. Renaming to `('channels', 'y', 'x', 'z')`\n",
      "WARNING: Unable to find `y`, `x` or `z` dimension in `('c', 'y', 'x')`. Renaming to `('channels', 'y', 'x', 'z')`\n",
      "WARNING: Unable to find `y`, `x` or `z` dimension in `('c', 'y', 'x')`. Renaming to `('channels', 'y', 'x', 'z')`\n",
      "WARNING: Unable to find `y`, `x` or `z` dimension in `('c', 'y', 'x')`. Renaming to `('channels', 'y', 'x', 'z')`\n",
      "WARNING: Unable to find `y`, `x` or `z` dimension in `('c', 'y', 'x')`. Renaming to `('channels', 'y', 'x', 'z')`\n",
      "WARNING: Unable to find `y`, `x` or `z` dimension in `('c', 'y', 'x')`. Renaming to `('channels', 'y', 'x', 'z')`\n",
      "WARNING: Unable to find `y`, `x` or `z` dimension in `('c', 'y', 'x')`. Renaming to `('channels', 'y', 'x', 'z')`\n",
      "WARNING: Unable to find `y`, `x` or `z` dimension in `('c', 'y', 'x')`. Renaming to `('channels', 'y', 'x', 'z')`\n",
      "WARNING: Unable to find `y`, `x` or `z` dimension in `('c', 'y', 'x')`. Renaming to `('channels', 'y', 'x', 'z')`\n",
      "dsfasfda AnnData object with n_obs × n_vars = 1366137 × 469\n",
      "    obs: 'cell_id', 'transcript_counts', 'control_probe_counts', 'control_codeword_counts', 'unassigned_codeword_counts', 'deprecated_codeword_counts', 'total_counts', 'cell_area', 'nucleus_area', 'region', 'Sample'\n",
      "    var: 'gene_ids', 'feature_types', 'genome'\n",
      "    uns: 'spatialdata_attrs', 'spatial', 'original_ix'\n",
      "    obsm: 'spatial'\n",
      "\n",
      "\n",
      "================================================================================\n",
      "Cell Counts: Initial\n",
      "================================================================================\n",
      "\n",
      "\n",
      "Observations: 1366137\n",
      "\n",
      "\n",
      "\n",
      "================================================================================\n",
      "Gene Counts: Initial\n",
      "================================================================================\n",
      "\n",
      "Empty DataFrame\n",
      "Columns: [index, gene_ids, feature_types, genome]\n",
      "Index: []\n",
      "\n",
      "\n",
      "\n",
      "\n",
      "\n",
      " SpatialData object with:\n",
      "├── Images\n",
      "│     ├── 'morphology_focus': MultiscaleSpatialImage[cyx] (1, 105445, 54268), (1, 52722, 27134), (1, 26361, 13567), (1, 13180, 6783), (1, 6590, 3391)\n",
      "│     └── 'morphology_mip': MultiscaleSpatialImage[cyx] (1, 105445, 54268), (1, 52722, 27134), (1, 26361, 13567), (1, 13180, 6783), (1, 6590, 3391)\n",
      "├── Points\n",
      "│     └── 'transcripts': DataFrame with shape: (<Delayed>, 10) (3D points)\n",
      "├── Shapes\n",
      "│     ├── 'cell_boundaries': GeoDataFrame shape: (1366137, 1) (2D shapes)\n",
      "│     ├── 'cell_circles': GeoDataFrame shape: (1366137, 2) (2D shapes)\n",
      "│     └── 'nucleus_boundaries': GeoDataFrame shape: (1366137, 1) (2D shapes)\n",
      "└── Table\n",
      "      └── AnnData object with n_obs × n_vars = 1366137 × 469\n",
      "    obs: 'cell_id', 'transcript_counts', 'control_probe_counts', 'control_codeword_counts', 'unassigned_codeword_counts', 'deprecated_codeword_counts', 'total_counts', 'cell_area', 'nucleus_area', 'region', 'Sample'\n",
      "    var: 'gene_ids', 'feature_types', 'genome'\n",
      "    uns: 'spatialdata_attrs', 'spatial', 'original_ix'\n",
      "    obsm: 'spatial'\n",
      "    layers: 'counts': AnnData (1366137, 469)\n",
      "with coordinate systems:\n",
      "▸ 'global', with elements:\n",
      "        morphology_focus (Images), morphology_mip (Images), transcripts (Points), cell_boundaries (Shapes), cell_circles (Shapes), nucleus_boundaries (Shapes)\n",
      "None\n",
      "\n",
      "\n",
      " AnnData object with n_obs × n_vars = 1366137 × 469\n",
      "    obs: 'cell_id', 'transcript_counts', 'control_probe_counts', 'control_codeword_counts', 'unassigned_codeword_counts', 'deprecated_codeword_counts', 'total_counts', 'cell_area', 'nucleus_area', 'region', 'Sample'\n",
      "    var: 'gene_ids', 'feature_types', 'genome'\n",
      "    uns: 'spatialdata_attrs', 'spatial', 'original_ix'\n",
      "    obsm: 'spatial'\n",
      "    layers: 'counts' \n",
      "\n",
      "                      gene_ids    feature_types   genome\n",
      "gene_symbols                                           \n",
      "ABCA7         ENSG00000064687  Gene Expression  Unknown\n",
      "ACTA2         ENSG00000107796  Gene Expression  Unknown\n",
      "ACTG2         ENSG00000163017  Gene Expression  Unknown\n",
      "ADAM15        ENSG00000143537  Gene Expression  Unknown\n",
      "ADAM28        ENSG00000042980  Gene Expression  Unknown \n",
      "\n",
      "       cell_id  transcript_counts  control_probe_counts  \\\n",
      "0  aaaaainh-1                321                     0   \n",
      "1  aaaaameo-1                304                     0   \n",
      "2  aaaabddj-1                306                     0   \n",
      "3  aaaachjg-1                126                     0   \n",
      "4  aaaacjmm-1                191                     0   \n",
      "\n",
      "   control_codeword_counts  unassigned_codeword_counts  \\\n",
      "0                        0                           0   \n",
      "1                        0                           0   \n",
      "2                        0                           0   \n",
      "3                        0                           0   \n",
      "4                        0                           0   \n",
      "\n",
      "   deprecated_codeword_counts  total_counts   cell_area  nucleus_area  \\\n",
      "0                           0           321  600.578147     48.497814   \n",
      "1                           0           304  793.756591     15.398282   \n",
      "2                           0           306  586.489396     32.918907   \n",
      "3                           0           126  231.470946     25.919688   \n",
      "4                           0           191  331.401731     34.996095   \n",
      "\n",
      "         region             Sample  \n",
      "0  cell_circles  Stricture-49696A4  \n",
      "1  cell_circles  Stricture-49696A4  \n",
      "2  cell_circles  Stricture-49696A4  \n",
      "3  cell_circles  Stricture-49696A4  \n",
      "4  cell_circles  Stricture-49696A4  \n",
      "\n",
      "\n",
      "\n",
      "col_gene_symbols=\"gene_symbols\"\n",
      "col_cell_type=\"Annotation\"\n",
      "col_sample_id=\"Sample\"\n",
      "col_batch=\"Sample\"\n",
      "col_subject=\"Patient\"\n",
      "col_condition=None\n",
      "col_num_umis=None\n",
      "col_segment=\"region\"\n",
      "\n",
      "\n",
      "\n",
      "key_control=None\n",
      "key_treatment=None\n",
      "\n",
      "\n",
      "<<< RESTORING SINGLE-SAMPLE FROM h5ad >>>\n",
      "\n",
      "WARNING: Unable to find `y`, `x` or `z` dimension in `('c', 'y', 'x')`. Renaming to `('channels', 'y', 'x', 'z')`\n",
      "WARNING: Unable to find `y`, `x` or `z` dimension in `('c', 'y', 'x')`. Renaming to `('channels', 'y', 'x', 'z')`\n",
      "WARNING: Unable to find `y`, `x` or `z` dimension in `('c', 'y', 'x')`. Renaming to `('channels', 'y', 'x', 'z')`\n",
      "WARNING: Unable to find `y`, `x` or `z` dimension in `('c', 'y', 'x')`. Renaming to `('channels', 'y', 'x', 'z')`\n",
      "WARNING: Unable to find `y`, `x` or `z` dimension in `('c', 'y', 'x')`. Renaming to `('channels', 'y', 'x', 'z')`\n",
      "WARNING: Unable to find `y`, `x` or `z` dimension in `('c', 'y', 'x')`. Renaming to `('channels', 'y', 'x', 'z')`\n",
      "WARNING: Unable to find `y`, `x` or `z` dimension in `('c', 'y', 'x')`. Renaming to `('channels', 'y', 'x', 'z')`\n",
      "WARNING: Unable to find `y`, `x` or `z` dimension in `('c', 'y', 'x')`. Renaming to `('channels', 'y', 'x', 'z')`\n",
      "WARNING: Unable to find `y`, `x` or `z` dimension in `('c', 'y', 'x')`. Renaming to `('channels', 'y', 'x', 'z')`\n",
      "WARNING: Unable to find `y`, `x` or `z` dimension in `('c', 'y', 'x')`. Renaming to `('channels', 'y', 'x', 'z')`\n",
      "AnnData object with n_obs × n_vars = 1199348 × 469\n",
      "    obs: 'cell_id', 'transcript_counts', 'control_probe_counts', 'control_codeword_counts', 'unassigned_codeword_counts', 'deprecated_codeword_counts', 'total_counts', 'cell_area', 'nucleus_area', 'region', 'Sample', 'Sample ID', 'Patient', 'Status', 'Slide Id', 'Project', 'Location', 'Stricture', 'GRID ID', 'Inflamed', 'Procedure Date', 'Age', 'Sex', 'Race', 'Hispanic', 'Diagnosis', 'Project.1', 'Procedure', 'Disease_Status', 'Date Collected', 'Date Sectioned', 'Date Hybridization', 'Storage 4c', 'Created By', 'Created', 'Storage Status', 'Location.1', 'Storage Row', 'Storage Col', 'Checked Out By', 'out_file', 'Condition', 'file_path', 'n_counts', 'log_counts', 'n_genes', 'n_genes_by_counts', 'log1p_n_genes_by_counts', 'log1p_total_counts', 'assay_protein', 'col_gene_symbols', 'col_cell_type', 'col_sample_id', 'col_batch', 'col_subject', 'col_condition', 'col_num_umis', 'col_segment', 'cell_filter_pmt', 'cell_filter_ncounts', 'cell_filter_ngene', 'gene_filter_ncell', 'gene_filter_ncounts', 'custom_thresholds', 'method_norm', 'figsize', 'kws_scale', 'leiden_res0pt5_dist0pt5_npc30', 'label_res0pt5_dist0pt5_npc30', 'leiden_res0pt75_dist0pt3_npc30'\n",
      "    var: 'gene_ids', 'feature_types', 'genome', 'mt', 'ribo', 'hb', 'n_cells_by_counts', 'mean_counts', 'log1p_mean_counts', 'pct_dropout_by_counts', 'total_counts', 'log1p_total_counts', 'n_cells', 'n_counts', 'highly_variable', 'means', 'dispersions', 'dispersions_norm', 'mean', 'std'\n",
      "    uns: 'Sample_colors', 'hvg', 'label_res0pt5_dist0pt5_npc30_colors', 'leiden', 'log1p', 'neighbors', 'original_ix', 'pca', 'rank_genes_groups_leiden_res0pt5_dist0pt5_npc30', 'spatialdata_attrs', 'specifications', 'umap', 'spatial'\n",
      "    obsm: 'X_pca', 'X_umap', 'spatial'\n",
      "    varm: 'PCs'\n",
      "    layers: 'counts', 'log1p', 'scaled'\n",
      "    obsp: 'connectivities', 'distances'\n"
     ]
    }
   ],
   "source": [
    "# Directories & Metadata\n",
    "load, reannotate = True, True\n",
    "run = \"CHO-004\"\n",
    "# run = [\"CHO-001\", \"CHO-002\"]\n",
    "# run = [\"CHO-001\", \"CHO-002\", \"CHO-005\", \"CHO-006\", \"CHO-007\"]\n",
    "samples = \"all\"\n",
    "# samples = [\"50564A4\", \"50618B5\"]\n",
    "# samples = [\"50007B2\"]\n",
    "# samples = [\"50452A\", \"50452B\", \"50452C\"]\n",
    "# samples = [\"50564A4\", \"50618B5\"]\n",
    "\n",
    "# Optionally, Define Manual Annotation Version\n",
    "# should be stored in (\"<out_dir>/annotations_dictionaries\")\n",
    "# in format <selves[i]._library_id>___leiden_<resc[i]>_dictionary.xlsx\n",
    "# with first column = leiden cluster and second column = annotation\n",
    "# resc = None\n",
    "# resc = [\"res1pt5_dist0_npc30\", \"res1pt5_dist0_npc30\",\n",
    "#         \"res0pt75_dist0pt3_npc30\"]\n",
    "\n",
    "# Main Directories\n",
    "# Replace manually or mirror my file/directory tree in your home (`ddu`)\n",
    "ddu = os.path.expanduser(\"~\")\n",
    "ddm = \"/mnt/cho_lab\" if os.path.exists(\"/mnt/cho_lab\") else \"/mnt\"  # Spark?\n",
    "ddl = f\"{ddm}/disk2/{os.getlogin()}/data/shared-xenium-library\" if (\n",
    "    \"cho\" in ddm) else os.path.join(ddu, \"shared-xenium-library\")\n",
    "ddx = f\"{ddm}/bbdata1\"  # mounted drive Xenium folder\n",
    "out_dir = os.path.join(ddl, \"outputs\", \"TUQ97N\", \"nebraska\")  # None = no save\n",
    "d_path = os.path.join(ddm, \"disk2\" if \"cho\" in ddm else \"\",\n",
    "                      os.getlogin(), \"data\")  # other, e.g., Tangram data\n",
    "anf = pd.read_csv(os.path.join(ddu, \"corescpy/examples/markers_lineages.csv\"))\n",
    "file_mdf = os.path.join(ddl, \"samples.csv\")  # metadata\n",
    "\n",
    "# Annotation & Tangram Imputation\n",
    "col_assignment = \"Bin\"  # which column from annotation file to use\n",
    "# col_cell_type_sc, file_sc = \"ClusterAnnotation\", str(\n",
    "#     f\"{d_path}/2023-05-12_CombinedCD-v2_ileal_new.h5ad\")\n",
    "col_cell_type_sc, file_sc = \"cell_type\", f\"{d_path}/elmentaite_ileal.h5ad\"\n",
    "# file_sc = None  # to skip Tangram imputation/label transfer\n",
    "\n",
    "# Processing & Clustering Options\n",
    "kws_pp = dict(cell_filter_pmt=None, cell_filter_ncounts=[50, None],\n",
    "              cell_filter_ngene=[10, None], gene_filter_ncell=[3, None],\n",
    "              gene_filter_ncounts=[3, None], custom_thresholds=None,\n",
    "              kws_scale=dict(max_value=10, zero_center=True),\n",
    "              method_norm=\"log\")  # preprocessing keyword arguments\n",
    "kws_cluster = dict(kws_umap=dict(method=\"rapids\" if gpu else \"umap\"),\n",
    "                   genes_subset=list(anf.iloc[:, 0]),  # use only markers\n",
    "                   use_gpu=gpu, use_highly_variable=False)\n",
    "kws_clustering, col_assignment = {}, []\n",
    "for i in zip([0.5, 0.75, 1.5], [0.5, 0.3, 0], [30, 30, 30]):\n",
    "    kws = {**kws_cluster, \"resolution\": i[0], \"kws_umap\": {\n",
    "        **kws_cluster[\"kws_umap\"], \"min_dist\": i[1]}, \"n_comps\": i[2]}\n",
    "    suff = str(f\"res{re.sub('[.]', 'pt', str(kws['resolution']))}_dist\"\n",
    "               f\"{re.sub('[.]', 'pt', str(kws['kws_umap']['min_dist']))}\"\n",
    "               f\"_npc{kws['n_comps']}\")  # file path suffix\n",
    "    kws_clustering.update({suff: kws})\n",
    "    col_assignment += [\"group\" if kws[\"resolution\"] >= 0.7 else \"Bucket\"]\n",
    "\n",
    "# After this point, no more options to specify\n",
    "# Just code to infer the data file path from your specifications\n",
    "# and construct argument dictionaries and manipulate metadata and such.\n",
    "\n",
    "# Read Metadata & Other Information\n",
    "metadata = (pd.read_excel if file_mdf[-4:] == \"xlsx\" else pd.read_csv)(\n",
    "    file_mdf, dtype={\"Slide ID\": str}).rename({\n",
    "        \"Name\": col_subject, \"Inflammation\": col_inflamed}, axis=1)\n",
    "if samples not in [\"all\", None]:  # subset by sample ID?\n",
    "    metadata = metadata.set_index(col_sample_id_o).loc[samples].reset_index()\n",
    "\n",
    "# Revise Metadata & Construct Variables from Options\n",
    "metadata.loc[:, col_condition] = metadata.apply(lambda x: \"Stricture\" if x[\n",
    "    col_stricture].lower() in [\"stricture\", \"yes\"] else x[\n",
    "        col_inflamed].capitalize(), axis=1)  # inflamation/stricture condition\n",
    "metadata.loc[:, col_sample_id] = metadata[[col_condition, col_sample_id_o]\n",
    "                                          ].apply(\"-\".join, axis=1)\n",
    "metadata = metadata.set_index(col_sample_id)\n",
    "fff = np.array(cr.pp.construct_file(run=run, directory=ddx))\n",
    "bff = np.array([os.path.basename(i) for i in fff])  # base path names\n",
    "samps = np.array([i.split(\"__\")[2].split(\"-\")[0] for i in fff])\n",
    "for x in metadata[col_sample_id_o]:\n",
    "    m_f = metadata[metadata[col_sample_id_o] == x][\n",
    "        \"out_file\"].iloc[0]  # ...use to find unconventionally-named files\n",
    "    locx = np.where(samps == x)[0] if pd.isnull(\n",
    "        m_f) else np.where(bff == m_f)[0]\n",
    "    metadata.loc[metadata[col_sample_id_o] == x, col_fff] = fff[locx[0]] if (\n",
    "        len(locx) > 0) else np.nan  # assign output file to metadata row\n",
    "metadata = metadata.dropna(subset=[col_fff]).drop_duplicates()\n",
    "\n",
    "# Annotation File\n",
    "assign = anf.dropna(subset=col_assignment).set_index(\n",
    "    \"gene\").rename_axis(\"Gene\")  # markers\n",
    "assign = assign[~assign.Quality.isin([-1])]  # drop low-quality markers\n",
    "\n",
    "# Print Metadata & Make Output Directory (If Not Present)\n",
    "print(metadata)\n",
    "if not os.path.exists(out_dir):\n",
    "    os.makedirs(out_dir)\n",
    "\n",
    "# Load Data\n",
    "kws_init = dict(col_sample_id=col_sample_id, col_subject=col_subject,\n",
    "                col_cell_type=col_cell_type)  # object creation arguments\n",
    "selves = [None] * metadata.shape[0]  # to hold different samples\n",
    "for i, x in enumerate(metadata.index.values):\n",
    "    selves[i] = cr.Spatial(metadata.loc[x][col_fff], library_id=x, **kws_init)\n",
    "    for j in metadata:  # iterate metadata columns\n",
    "        selves[i].rna.obs.loc[:, j] = str(metadata.loc[x][j])  # add to object\n",
    "    selves[i].rna.obs.loc[:, \"out_file\"] = os.path.join(\n",
    "        out_dir, selves[i]._library_id)  # output path (to save object)\n",
    "    if load is True:\n",
    "        selves[i].update_from_h5ad(str(selves[i].rna.obs.out_file.iloc[0]))\n",
    "        print(selves[i].rna)\n",
    "\n",
    "# Marker Gene Dictionary (for Scanpy Plotting)\n",
    "marker_genes_dict = dict(assign[\"Bucket\"].reset_index().groupby(\n",
    "    \"Bucket\").apply(lambda x: list(pd.unique(list(set(\n",
    "        x.Gene).intersection(selves[0].rna.var_names))))))  # to dictionary"
   ]
  },
  {
   "cell_type": "markdown",
   "metadata": {},
   "source": [
    "## Manual Annotations"
   ]
  },
  {
   "cell_type": "markdown",
   "metadata": {},
   "source": [
    "### Load Manual Annotations"
   ]
  },
  {
   "cell_type": "code",
   "execution_count": null,
   "metadata": {},
   "outputs": [],
   "source": [
    "if resc is not None:\n",
    "    mans = dict(zip([s._library_id for s in selves], [dict(\n",
    "        pd.read_excel(os.path.join(out_dir, \"annotation_dictionaries\", str(\n",
    "            f\"{s._library_id}___leiden_{resc[i]}_dictionary.xlsx\",\n",
    "            )), index_col=0).annotation) for i, s in enumerate(selves)]))\n",
    "    mans = dict(zip(mans, [dict(zip([str(int(i)) for i in mans[m]], [\n",
    "        mans[m][i] for i in mans[m]])) for m in mans]))\n",
    "    for i, s in enumerate(selves):\n",
    "        s.rna.obs.loc[:, f\"manual_{resc[i]}\"] = s.rna.obs[\n",
    "            f\"leiden_{resc[i]}\"].astype(int).astype(str).replace(\n",
    "                mans[s._library_id])  # replace Leiden with manual annotations\n",
    "        s.rna.obs.loc[s.rna.obs[f\"manual_{resc[i]}\"].isnull(),\n",
    "                      f\"manual_{resc[i]}\"] = s.rna.obs.loc[s.rna.obs[\n",
    "                          f\"manual_{resc[i]}\"].isnull(\n",
    "                              ), f\"leiden_{resc[i]}\"].astype(str)  # NA -> L\n",
    "        s.rna.obs.loc[:, f\"manual_{resc[i]}\"] = s.rna.obs[\n",
    "            f\"manual_{resc[i]}\"].astype(\"category\")  # as categorical\n",
    "        s._columns[\"col_cell_type\"] = f\"manual_{resc[i]}\"\n",
    "        # s.plot_spatial(f\"manual_{resc[i]}\")for s in selves:\n",
    "        s.rna.obs.loc[:, s._columns[\"col_cell_type\"]] = s.rna.obs[s._columns[\n",
    "            \"col_cell_type\"]].astype(\"category\")"
   ]
  },
  {
   "cell_type": "markdown",
   "metadata": {},
   "source": [
    "### Write Manual Annotations"
   ]
  },
  {
   "cell_type": "code",
   "execution_count": null,
   "metadata": {},
   "outputs": [],
   "source": [
    "if resc is not None and out_dir is not None:\n",
    "    for i, s in enumerate(selves):\n",
    "        s.write_clusters(out_dir, col_cell_type=f\"manual_{resc[i]}\",\n",
    "                         overwrite=True, file_prefix=f\"{s._library_id}__\")\n",
    "        s.write(s.rna.obs.out_file.iloc[0])"
   ]
  },
  {
   "cell_type": "markdown",
   "metadata": {},
   "source": [
    "# Clustering"
   ]
  },
  {
   "cell_type": "markdown",
   "metadata": {},
   "source": [
    "## Processing, Leiden, Annotation"
   ]
  },
  {
   "cell_type": "code",
   "execution_count": 6,
   "metadata": {},
   "outputs": [],
   "source": [
    "load = False"
   ]
  },
  {
   "cell_type": "code",
   "execution_count": 7,
   "metadata": {},
   "outputs": [
    {
     "name": "stdout",
     "output_type": "stream",
     "text": [
      "\n",
      "\n",
      " {'cell_filter_pmt': None, 'cell_filter_ncounts': [50, None], 'cell_filter_ngene': [10, None], 'gene_filter_ncell': [3, None], 'gene_filter_ncounts': [3, None], 'custom_thresholds': None, 'kws_scale': {'max_value': 10, 'zero_center': True}, 'method_norm': 'log'} \n",
      "\n",
      "\n",
      "\n",
      "\n",
      "================================================================================\n",
      "res0pt5_dist0pt5_npc30\n",
      "================================================================================\n",
      "\n",
      "\n",
      "\n",
      "\n",
      "================================================================================\n",
      "res0pt75_dist0pt3_npc30\n",
      "================================================================================\n",
      "\n",
      "\n",
      "\n",
      "\n",
      "================================================================================\n",
      "res1pt5_dist0_npc30\n",
      "================================================================================\n",
      "\n",
      "\n",
      "\n",
      "\n",
      "Un-used Keyword Arguments: {'assay': None}\n",
      "\n",
      "\n",
      "<<< PERFORMING PCA >>>\n",
      "{'use_highly_variable': False, 'n_comps': 30, 'random_state': 0}\n",
      "\n",
      "\n",
      "\n",
      "<<< COMPUTING NEIGHBORHOOD GRAPH >>>\n",
      "{'random_state': 0, 'n_pcs': 30}\n",
      "\n",
      "\n",
      "\n",
      "<<< EMBEDDING UMAP >>>\n",
      "{'random_state': 0, 'method': 'umap', 'min_dist': 0}\n",
      "\n",
      "\n",
      "\n",
      "<<< CLUSTERING WITH LEIDEN METHOD >>>\n",
      "Resolution=1.5\n"
     ]
    }
   ],
   "source": [
    "%%time\n",
    "\n",
    "print(\"\\n\\n\", kws_pp, \"\\n\\n\")\n",
    "for i, s in enumerate(selves):\n",
    "    f_o = str(selves[i].rna.obs.out_file.iloc[0])\n",
    "\n",
    "    # Preprocessing\n",
    "    # if load is False:\n",
    "    #     _ = s.preprocess(**kws_pp, figsize=(15, 15))  # preprocess\n",
    "\n",
    "    # Clustering at Different Resolutions & Minimum Distances\n",
    "    for j, x in enumerate(kws_clustering):\n",
    "\n",
    "        # Variables & Output Files\n",
    "        print(f\"\\n\\n{'=' * 80}\\n{x}\\n{'=' * 80}\\n\\n\")\n",
    "        cct, cca = f\"leiden_{x}\", f\"label_{x}\"  # Leiden & annotation columns\n",
    "        annot = assign[[col_assignment[j]]]  # gene-annotation dictionary\n",
    "\n",
    "        # Skip?\n",
    "        if cct in s.rna.obs:\n",
    "            continue\n",
    "\n",
    "        # Clustering, Markers, Annotation, & Writing Output\n",
    "        if load is False:\n",
    "            _ = s.cluster(**kws_clustering[x], key_added=cct, out_file=f_o)\n",
    "        if load is False or f\"rank_genes_groups_{cct}\" not in s.rna.uns:\n",
    "            _ = s.find_markers(col_cell_type=cct, kws_plot=False)  # DEGs\n",
    "        if reannotate is True or load is False:  # annotate; Explorer files\n",
    "            _ = s.annotate_clusters(annot, col_cell_type=cct,\n",
    "                                    col_annotation=cca)  # annotate\n",
    "            for c in [k for k in [cct, cca] if k in s.rna.obs]:  # Explorer\n",
    "                s.write_clusters(out_dir, col_cell_type=c, overwrite=True,\n",
    "                                 file_prefix=f\"{s._library_id}__\", n_top=True)\n",
    "\n",
    "    # Write Final Object\n",
    "    if load is False or reannotate is True and f_o is not None:\n",
    "        s.write(f_o)"
   ]
  },
  {
   "cell_type": "markdown",
   "metadata": {},
   "source": [
    "## Tangram Imputation"
   ]
  },
  {
   "cell_type": "code",
   "execution_count": null,
   "metadata": {},
   "outputs": [],
   "source": [
    "%%time\n",
    "\n",
    "if file_sc is not None:\n",
    "    adata_sc = sc.read(file_sc)  # read whole tx'ome data for imputation\n",
    "    if load is False:\n",
    "        for i, s in enumerate(selves):\n",
    "            out = s.impute(\n",
    "                adata_sc.copy(), col_cell_type=col_cell_type_sc,\n",
    "                mode=\"clusters\", markers=None, plot=False, plot_density=False,\n",
    "                plot_genes=None, col_annotation=col_tangram, out_file=None)\n",
    "            out[0].write_h5ad(os.path.splitext(selves[\n",
    "                0].rna.obs.out_file.iloc[0])[0] + \"___tangram.h5ad\")  # write\n",
    "            s.write(s.rna.obs.out_file.iloc[0])\n",
    "            s.write_clusters(out_dir, file_prefix=f\"{s._library_id}___\",\n",
    "                             col_cell_type=col_tangram,\n",
    "                             overwrite=True, n_top=True)\n",
    "    s.plot_spatial(color=col_tangram)"
   ]
  },
  {
   "cell_type": "markdown",
   "metadata": {},
   "source": [
    "## Plot Clusters"
   ]
  },
  {
   "cell_type": "code",
   "execution_count": null,
   "metadata": {},
   "outputs": [],
   "source": [
    "for s in selves:\n",
    "    s.plot_spatial(color=col_tangram)\n",
    "    for j, x in enumerate(kws_clustering):\n",
    "        _ = s.plot_spatial(color=[f\"leiden_{x}\",, f\"label_{x}\"])"
   ]
  },
  {
   "cell_type": "markdown",
   "metadata": {},
   "source": [
    "# Analyze"
   ]
  },
  {
   "cell_type": "code",
   "execution_count": null,
   "metadata": {},
   "outputs": [],
   "source": [
    "sq.gr.interaction_matrix(self.adata, cct, normalized=normalized)"
   ]
  },
  {
   "cell_type": "markdown",
   "metadata": {},
   "source": [
    "## Centrality Scores"
   ]
  },
  {
   "cell_type": "code",
   "execution_count": 7,
   "metadata": {},
   "outputs": [
    {
     "name": "stdout",
     "output_type": "stream",
     "text": [
      "\t*** Building connectivity matrix...\n",
      "Unexpected exception formatting exception. Falling back to standard exception\n"
     ]
    },
    {
     "name": "stderr",
     "output_type": "stream",
     "text": [
      "Traceback (most recent call last):\n",
      "  File \"/home/elizabeth/elizabeth/miniconda3/envs/py-bio/lib/python3.10/site-packages/IPython/core/magics/execution.py\", line 1340, in time\n",
      "    exec(code, glob, local_ns)\n",
      "  File \"<timed exec>\", line 2, in <module>\n",
      "  File \"/home/elizabeth/elizabeth/corescpy/corescpy/class_spatial.py\", line 434, in calculate_centrality\n",
      "    self.rna.obs = self.rna.obs.astype({cct: \"category\"})\n",
      "  File \"/home/elizabeth/elizabeth/miniconda3/envs/py-bio/lib/python3.10/site-packages/pandas/core/generic.py\", line 6599, in astype\n",
      "    raise KeyError(\n",
      "KeyError: \"Only a column name can be used for the key in a dtype mappings argument. 'Annotation' not found in columns.\"\n",
      "\n",
      "During handling of the above exception, another exception occurred:\n",
      "\n",
      "Traceback (most recent call last):\n",
      "  File \"/home/elizabeth/elizabeth/miniconda3/envs/py-bio/lib/python3.10/site-packages/IPython/core/interactiveshell.py\", line 2142, in showtraceback\n",
      "    stb = self.InteractiveTB.structured_traceback(\n",
      "  File \"/home/elizabeth/elizabeth/miniconda3/envs/py-bio/lib/python3.10/site-packages/IPython/core/ultratb.py\", line 1435, in structured_traceback\n",
      "    return FormattedTB.structured_traceback(\n",
      "  File \"/home/elizabeth/elizabeth/miniconda3/envs/py-bio/lib/python3.10/site-packages/IPython/core/ultratb.py\", line 1326, in structured_traceback\n",
      "    return VerboseTB.structured_traceback(\n",
      "  File \"/home/elizabeth/elizabeth/miniconda3/envs/py-bio/lib/python3.10/site-packages/IPython/core/ultratb.py\", line 1173, in structured_traceback\n",
      "    formatted_exception = self.format_exception_as_a_whole(etype, evalue, etb, number_of_lines_of_context,\n",
      "  File \"/home/elizabeth/elizabeth/miniconda3/envs/py-bio/lib/python3.10/site-packages/IPython/core/ultratb.py\", line 1063, in format_exception_as_a_whole\n",
      "    self.get_records(etb, number_of_lines_of_context, tb_offset) if etb else []\n",
      "  File \"/home/elizabeth/elizabeth/miniconda3/envs/py-bio/lib/python3.10/site-packages/IPython/core/ultratb.py\", line 1155, in get_records\n",
      "    FrameInfo(\n",
      "  File \"/home/elizabeth/elizabeth/miniconda3/envs/py-bio/lib/python3.10/site-packages/IPython/core/ultratb.py\", line 780, in __init__\n",
      "    ix = inspect.getsourcelines(frame)\n",
      "  File \"/home/elizabeth/elizabeth/miniconda3/envs/py-bio/lib/python3.10/inspect.py\", line 1129, in getsourcelines\n",
      "    lines, lnum = findsource(object)\n",
      "  File \"/home/elizabeth/elizabeth/miniconda3/envs/py-bio/lib/python3.10/inspect.py\", line 958, in findsource\n",
      "    raise OSError('could not get source code')\n",
      "OSError: could not get source code\n"
     ]
    }
   ],
   "source": [
    "%%time\n",
    "\n",
    "for s in selves:\n",
    "    s.calculate_centrality(n_jobs=sc.settings.n_jobs)"
   ]
  },
  {
   "cell_type": "markdown",
   "metadata": {},
   "source": [
    "## Neighborhood Enrichment Analysis"
   ]
  },
  {
   "cell_type": "code",
   "execution_count": null,
   "metadata": {},
   "outputs": [],
   "source": [
    "%%time\n",
    "\n",
    "for s in selves:\n",
    "    _ = s.calculate_neighborhood(figsize=(60, 30))"
   ]
  },
  {
   "cell_type": "markdown",
   "metadata": {},
   "source": [
    "## Cell Type Co-Occurrence"
   ]
  },
  {
   "cell_type": "code",
   "execution_count": 152,
   "metadata": {},
   "outputs": [
    {
     "name": "stdout",
     "output_type": "stream",
     "text": [
      "WARNING: `n_splits` was automatically set to `153` to prevent `312629x312629` distance matrix from being created\n"
     ]
    },
    {
     "data": {
      "application/vnd.jupyter.widget-view+json": {
       "model_id": "b5d43bdf34d1414e80065dd37fac1474",
       "version_major": 2,
       "version_minor": 0
      },
      "text/plain": [
       "  0%|          | 0/11781 [00:00<?, ?/s]"
      ]
     },
     "metadata": {},
     "output_type": "display_data"
    },
    {
     "name": "stdout",
     "output_type": "stream",
     "text": [
      "ERROR: Unable to fetch palette, reason: 'manual_res1pt5_dist0_npc30_colors'. Using `None`.\n"
     ]
    }
   ],
   "source": [
    "%%time\n",
    "\n",
    "for s in selves:\n",
    "    _ = s.find_cooccurrence(figsize=(60, 20), kws_plot=dict(wspace=3))"
   ]
  },
  {
   "cell_type": "markdown",
   "metadata": {},
   "source": [
    "## Spatial Clustering"
   ]
  },
  {
   "cell_type": "code",
   "execution_count": null,
   "metadata": {},
   "outputs": [],
   "source": [
    "for s in selves:\n",
    "    cct = f\"leiden_spatial_{list(kws_clustering.keys())[-1]}\"\n",
    "    _ = s.cluster_spatial(key_added=cct,\n",
    "                          **kws_clustering[list(kws_clustering.keys())[-1]])\n",
    "    _ = s.find_markers(col_cell_type=cct, kws_plot=False)\n",
    "    _ = s.annotate_clusters(assign[[col_assignment[-1]]], col_cell_type=cct,\n",
    "                            col_annotation=f\"annotation_{cct}\")\n",
    "    for c in [cct, f\"annotation_{cct}\"]:\n",
    "        s.plot_spatial(c)\n",
    "        if out_dir is not None:\n",
    "            s.write_clusters(out_dir, col_cell_type=c,\n",
    "                             n_top=True, overwrite=True,\n",
    "                             file_prefix=f\"{s._library_id}___\")\n",
    "    if out_dir is not None:\n",
    "        s.write(str(s.rna.obs.out_file.iloc[0]))"
   ]
  },
  {
   "cell_type": "markdown",
   "metadata": {},
   "source": [
    "## Spatially-Variable Genes"
   ]
  },
  {
   "cell_type": "code",
   "execution_count": null,
   "metadata": {},
   "outputs": [
    {
     "ename": "NameError",
     "evalue": "name 'genes' is not defined",
     "output_type": "error",
     "traceback": [
      "\u001b[0;31m---------------------------------------------------------------------------\u001b[0m",
      "\u001b[0;31mNameError\u001b[0m                                 Traceback (most recent call last)",
      "File \u001b[0;32m<timed exec>:3\u001b[0m\n",
      "\u001b[0;31mNameError\u001b[0m: name 'genes' is not defined"
     ]
    }
   ],
   "source": [
    "%%time\n",
    "\n",
    "kws = dict(kws_plot=dict(legend_fontsize=\"large\"), figsize=(15, 15))\n",
    "for s in selves:\n",
    "    _ = s.find_svgs(genes=15, method=\"moran\", n_perms=10, **kws)"
   ]
  },
  {
   "cell_type": "markdown",
   "metadata": {},
   "source": [
    "## Receptor-Ligand Interactions"
   ]
  },
  {
   "cell_type": "code",
   "execution_count": null,
   "metadata": {},
   "outputs": [],
   "source": [
    "%%time\n",
    "\n",
    "for s in selves:\n",
    "    kss, ktt = None, None\n",
    "    _ = s.calculate_receptor_ligand(\n",
    "        col_condition=False, p_threshold=0.01, remove_ns=True,\n",
    "        figsize=(30, 20), top_n=25, key_sources=kss, key_targets=ktt)\n",
    "    # s.calculate_receptor_ligand_spatial()"
   ]
  },
  {
   "cell_type": "markdown",
   "metadata": {},
   "source": [
    "## Cell Type Composition "
   ]
  },
  {
   "cell_type": "code",
   "execution_count": null,
   "metadata": {},
   "outputs": [],
   "source": [
    "for s in selves:\n",
    "    s.run_composition_analysis()"
   ]
  },
  {
   "cell_type": "markdown",
   "metadata": {},
   "source": [
    "## GEX"
   ]
  },
  {
   "cell_type": "code",
   "execution_count": null,
   "metadata": {},
   "outputs": [],
   "source": [
    "for s in selves:\n",
    "    s.plot_spatial(color=[\"TNF\", \"IL23\", col_cell_type])"
   ]
  },
  {
   "cell_type": "code",
   "execution_count": null,
   "metadata": {},
   "outputs": [],
   "source": [
    "_ = self.calculate_spatial_distance(\"LTi-like NCR+ ILC3\", genes=\"CSF2RB\")"
   ]
  },
  {
   "cell_type": "code",
   "execution_count": null,
   "metadata": {},
   "outputs": [],
   "source": [
    "adata.X = adata.layers[\"counts\"]\n",
    "sq.tl.var_by_distance(\n",
    "    adata, \"LTi-like NCR+ ILC3\", col_cell_type, library_key=col_sample_id,\n",
    "    design_matrix_key=\"design_matrix\", covariates=[\"Patient\", \"Inflamed\"],\n",
    "    metric=\"euclidean\", spatial_key=self._spatial_key, copy=False)\n",
    "sq.pl.var_by_distance(\n",
    "    adata=adata, var=[\"CSF2RB\", \"CSF2RA\", \"IL7R\"],\n",
    "    anchor_key=\"LTi-like NCR+ ILC3\",\n",
    "    covariate=\"Inflamed\")"
   ]
  },
  {
   "cell_type": "markdown",
   "metadata": {},
   "source": [
    "# Workspace"
   ]
  },
  {
   "cell_type": "markdown",
   "metadata": {},
   "source": [
    "## Manual Annotations\n",
    "\n",
    "50452"
   ]
  },
  {
   "cell_type": "markdown",
   "metadata": {},
   "source": [
    "## GEX"
   ]
  },
  {
   "cell_type": "code",
   "execution_count": null,
   "metadata": {},
   "outputs": [],
   "source": [
    "for self in selves:\n",
    "    self.update_from_h5ad(str(self.rna.obs.out_file.iloc[0]))"
   ]
  },
  {
   "cell_type": "code",
   "execution_count": null,
   "metadata": {},
   "outputs": [],
   "source": [
    "# i = 0\n",
    "# s = selves[i]\n",
    "# s.update_from_h5ad(str(s.rna.obs.out_file.iloc[0]))\n",
    "s.rna.obs.loc[:, f\"leiden_{resc[i]}\"] = s.rna.obs[\n",
    "    f\"leiden_{resc[i]}\"].astype(str)\n",
    "s.get_layer(\"counts\", inplace=True)\n",
    "print(np.mean(s.rna[s.rna.obs[f\"leiden_{resc[i]}\"] == \"9\"][:, \"CD79A\"].X > 0))\n",
    "print(np.mean(s.rna[s.rna.obs[f\"leiden_{resc[i]}\"] == \"9\"][:, \"CD79B\"].X > 0))\n",
    "print(np.mean(s.rna[s.rna.obs[f\"leiden_{resc[i]}\"] == \"6\"][:, \"CD79A\"].X > 0))\n",
    "print(np.mean(s.rna[s.rna.obs[f\"leiden_{resc[i]}\"] == \"6\"][:, \"CD79B\"].X > 0))\n",
    "print(np.mean(s.rna[s.rna.obs[f\"leiden_{resc[i]}\"] == \"6\"][\n",
    "    :, \"ADAMDEC1\"].X > 0))"
   ]
  },
  {
   "cell_type": "code",
   "execution_count": null,
   "metadata": {},
   "outputs": [],
   "source": [
    "for x in [\"COL1A1\", \"PEG10\", \"RCN3\"]:\n",
    "    print(np.mean(s.rna[s.rna.obs[f\"leiden_{resc[i]}\"] == \"10\"][:, x].X > 0))"
   ]
  },
  {
   "cell_type": "code",
   "execution_count": null,
   "metadata": {},
   "outputs": [],
   "source": [
    "for x in [\"BMP5\", \"F3\", \"MMP11\", \"CCL8\", \"NPY\", \"CH25H\"]:\n",
    "    print(np.mean(s.rna[s.rna.obs[f\"leiden_{resc[i]}\"] == \"15\"][:, x].X > 0))"
   ]
  },
  {
   "cell_type": "code",
   "execution_count": null,
   "metadata": {},
   "outputs": [],
   "source": [
    "for x in [\"LGR5\"]:\n",
    "    print(np.mean(s.rna[s.rna.obs[f\"leiden_{resc[i]}\"] == \"16\"][:, x].X > 0))"
   ]
  },
  {
   "cell_type": "code",
   "execution_count": null,
   "metadata": {},
   "outputs": [],
   "source": [
    "for x in [\"CRIP2\", \"KCNA5\", \"LBH\", \"NET1\", \"PLN\", \"RERGL\"]:\n",
    "    print(round(np.mean(s.rna[s.rna.obs[f\"leiden_{resc[i]}\"] == \"20\"][:, x].X > 0) * 100, 0))"
   ]
  },
  {
   "cell_type": "code",
   "execution_count": null,
   "metadata": {},
   "outputs": [],
   "source": [
    "for x in [\"TPSAB1\", \"CMA1\"]:\n",
    "    print(np.mean(s.rna[s.rna.obs[f\"leiden_{resc[i]}\"] == \"21\"][:, x].X > 0))"
   ]
  },
  {
   "cell_type": "code",
   "execution_count": null,
   "metadata": {},
   "outputs": [],
   "source": [
    "for x in [\"GNLY\", \"GZMB\"]:\n",
    "    print(np.mean(s.rna[s.rna.obs[f\"leiden_{resc[i]}\"] != \"23\"][:, x].X > 0))"
   ]
  },
  {
   "cell_type": "code",
   "execution_count": null,
   "metadata": {},
   "outputs": [],
   "source": [
    "for x in marker_genes_dict[\"Pericyte\"]:\n",
    "    print(int(100 * np.mean(s.rna[s.rna.obs[f\"leiden_{resc[i]}\"] == \"25\"][\n",
    "        :, x].X > 0)), \" vs. \", int(100 * np.mean(s.rna[s.rna.obs[\n",
    "            f\"leiden_{resc[i]}\"] != \"25\"][:, x].X > 0)))"
   ]
  },
  {
   "cell_type": "code",
   "execution_count": null,
   "metadata": {},
   "outputs": [],
   "source": [
    "comp = \"20\"\n",
    "print(\", \".join([x + \": \" + str(int(100 * np.mean(s.rna[s.rna.obs[\n",
    "    f\"leiden_{resc[i]}\"] == \"25\"][:, x].X > 0))) + \" vs. \" + str(int(\n",
    "        100 * np.mean(s.rna[s.rna.obs[f\"leiden_{resc[i]}\"] == comp][\n",
    "            :, x].X > 0))) + \"%\" for x in [\"COL4A1\", \"COL4A2\", \"DLC1\"]]))\n",
    "print(f\"\\n...compared to {comp}\")"
   ]
  },
  {
   "cell_type": "code",
   "execution_count": null,
   "metadata": {},
   "outputs": [],
   "source": [
    "print(\", \".join([x + \": \" + str(int(100 * np.mean(s.rna[s.rna.obs[\n",
    "    f\"leiden_{resc[i]}\"] == \"9\"][:, x].X > 0))) + \" vs. \" + str(int(\n",
    "        100 * np.mean(s.rna[s.rna.obs[f\"leiden_{resc[i]}\"] != \"9\"][\n",
    "            :, x].X > 0))) + \"%\" for x in [\n",
    "                \"ZBTB38\", \"IFNAR2\", \"SELENOM\", \"XBP1\"]]))"
   ]
  },
  {
   "cell_type": "markdown",
   "metadata": {},
   "source": [
    "## CD34"
   ]
  },
  {
   "cell_type": "code",
   "execution_count": null,
   "metadata": {},
   "outputs": [],
   "source": [
    "import matplotlib.pyplot as plt\n",
    "\n",
    "gene = \"CD34\"\n",
    "thr = np.arange(1, 15)  # thresholds\n",
    "fig, axes = plt.subplots(1, len(selves))\n",
    "for i, s in enumerate(selves):\n",
    "    print(f\"{s._library_id}: {np.sum(s.rna[:, gene].X > 0)} / {s.rna.n_obs}\")\n",
    "    a_x = axes[i].bar(thr, [np.sum(s.rna[:, gene].X >= i) for i in thr])\n",
    "    axes[i].set_title(s._library_id)\n",
    "    # for x in s.rna.obs[f\"leiden_{resc[i]}\"].unique():\n",
    "    #     print(str(x) + \": \" + np.mean(s.rna[s.rna.obs[\n",
    "    #         f\"leiden_{resc[i]}\"] == x][:, \"CD34\"].X > 0))\n",
    "fig.suptitle(\"Total Cells above Count Thresholds for CD34\")"
   ]
  },
  {
   "cell_type": "markdown",
   "metadata": {},
   "source": [
    "## CSF1/2"
   ]
  },
  {
   "cell_type": "code",
   "execution_count": null,
   "metadata": {},
   "outputs": [],
   "source": [
    "for g in [\"CSF1\", \"CSF2\"]:\n",
    "    print(f\"\\n\\n{'=' * 80}\\n{g}\\n{'=' * 80}\")\n",
    "    for i, s in enumerate(selves):\n",
    "        print(f\"{s._library_id}: {np.sum(s.rna[:, g].X > 0)} / {s.rna.n_obs}\")"
   ]
  },
  {
   "cell_type": "markdown",
   "metadata": {},
   "source": [
    "## Aligned Images"
   ]
  },
  {
   "cell_type": "code",
   "execution_count": null,
   "metadata": {},
   "outputs": [],
   "source": [
    "\n",
    "\n",
    "landmarks = ShapesModel.parse(\n",
    "    np.array([[10556.699, 7829.764], [13959.155, 13522.025], [10621.200, 17392.116]]), geometry=0, radius=500\n",
    ")\n",
    "visium_sdata[\"visium_landmarks\"] = visium_landmarks\n",
    "\n",
    "xenium_landmarks = ShapesModel.parse(\n",
    "    np.array([[9438.385, 13933.017], [24847.866, 5948.002], [34082.584, 15234.235]]), geometry=0, radius=500\n",
    ")\n",
    "xenium_sdata[\"xenium_landmarks\"] = xenium_landmarks"
   ]
  },
  {
   "cell_type": "code",
   "execution_count": null,
   "metadata": {},
   "outputs": [],
   "source": [
    "import spatialdata_io as sdio\n",
    "from spatialdata.models import ShapesModel\n",
    "\n",
    "fai = os.path.join(\n",
    "    \"~/corescpy/examples/data/spatial\",\n",
    "    \"Stricture-50452C__P53Red_P16Green_DAPIBlue.ome.tif\")\n",
    "faa = os.path.join(\n",
    "    \"~/corescpy/examples/data/spatial\",\n",
    "    \"Stricture-50452C__P53Red_P16Green_DAPIBlue_matrix.csv\")\n",
    "\n",
    "img = sdio.xenium_aligned_image(fai, faa)"
   ]
  }
 ],
 "metadata": {
  "kernelspec": {
   "display_name": "py-bio",
   "language": "python",
   "name": "python3"
  },
  "language_info": {
   "codemirror_mode": {
    "name": "ipython",
    "version": 3
   },
   "file_extension": ".py",
   "mimetype": "text/x-python",
   "name": "python",
   "nbconvert_exporter": "python",
   "pygments_lexer": "ipython3",
   "version": "3.10.4"
  }
 },
 "nbformat": 4,
 "nbformat_minor": 2
}
