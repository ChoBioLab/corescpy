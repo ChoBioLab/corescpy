{
 "cells": [
  {
   "cell_type": "markdown",
   "metadata": {},
   "source": [
    "# Setup"
   ]
  },
  {
   "cell_type": "markdown",
   "metadata": {},
   "source": [
    "## Imports & Settings"
   ]
  },
  {
   "cell_type": "code",
   "execution_count": 6,
   "metadata": {},
   "outputs": [
    {
     "name": "stdout",
     "output_type": "stream",
     "text": [
      "The autoreload extension is already loaded. To reload it, use:\n",
      "  %reload_ext autoreload\n"
     ]
    }
   ],
   "source": [
    "%load_ext autoreload\n",
    "%autoreload 2\n",
    "\n",
    "import os\n",
    "import re\n",
    "import itertools\n",
    "import scipy\n",
    "import scanpy as sc\n",
    "import seaborn as sb\n",
    "import pandas as pd\n",
    "import numpy as np\n",
    "import corescpy as cr\n",
    "\n",
    "# Computing Resources\n",
    "gpu = False\n",
    "sc.settings.n_jobs = 4\n",
    "sc.settings.max_memory = 150\n",
    "\n",
    "# Display\n",
    "pd.options.display.max_colwidth = 1000\n",
    "pd.options.display.max_columns = 100\n",
    "pd.options.display.max_rows = 500\n",
    "sc.settings.set_figure_params(dpi=100, frameon=False, figsize=(20, 20))\n",
    "\n",
    "# Panel Information\n",
    "old_seg = [\"50452A\", \"50452B\", \"50452C\",  # CHO-001\n",
    "           \"50618B5\", \"50564A4\",  # CHO-002\n",
    "           \"49377A2\",  # CHO-003\n",
    "           \"49464A4\",  # ?\n",
    "           \"49696A4\", \"49559A5\",  # CHO-004\n",
    "           \"50115A2\", \"50007B2\",  # CHO-005\n",
    "           \"49471A4\", \"50445A3\",  # CHO-006\n",
    "           ]  # old segmentation = old processing arguments\n",
    "\n",
    "# Panel & Column Names (from Metadata & To Be Created)\n",
    "panel = \"TUQ97N\"\n",
    "col_sample_id_o, col_sample_id = \"Sample ID\", \"Sample\"  # in metadata, new\n",
    "col_subject = \"Patient\"  # in metadata file\n",
    "col_inflamed, col_stricture = \"Inflamed\", \"Stricture\"  # in metadata file\n",
    "col_condition = \"Condition\"  # constructed from col_inflamed & col_stricture\n",
    "col_fff = \"file_path\"  # column in metadata in which to store data file path\n",
    "col_tangram = \"tangram_prediction\"  # for future Tangram imputation annotation\n",
    "col_segment = \"segmentation\""
   ]
  },
  {
   "cell_type": "markdown",
   "metadata": {},
   "source": [
    "## Options & Data"
   ]
  },
  {
   "cell_type": "code",
   "execution_count": 7,
   "metadata": {},
   "outputs": [
    {
     "name": "stdout",
     "output_type": "stream",
     "text": [
      "                 Sample ID  Patient     Status  Slide Id          Project  \\\n",
      "Sample                                                                      \n",
      "Stricture-50217C    50217C    50217  Available   10463.0  scRNA & Spatial   \n",
      "\n",
      "                        Location Stricture  GRID ID  Inflamed Procedure Date  \\\n",
      "Sample                                                                         \n",
      "Stricture-50217C  Terminal Ileum       yes  1011325  inflamed        2023-11   \n",
      "\n",
      "                  Age     Sex   Race Hispanic        Diagnosis  \\\n",
      "Sample                                                           \n",
      "Stricture-50217C   47  female  white       NO  Crohn's Disease   \n",
      "\n",
      "                            Project.1  Procedure Disease_Status  \\\n",
      "Sample                                                            \n",
      "Stricture-50217C  Helmsley-Senescence  Resection         Active   \n",
      "\n",
      "                 Date Collected Date Sectioned Date Hybridization Storage 4c  \\\n",
      "Sample                                                                         \n",
      "Stricture-50217C     2023.11.17     2024.03.21         2024.04.15        YES   \n",
      "\n",
      "                      Created By      Created  Storage Status  Location.1  \\\n",
      "Sample                                                                      \n",
      "Stricture-50217C  lorena tavares  15-Apr-2024  Not in storage         NaN   \n",
      "\n",
      "                  Storage Row  Storage Col  Checked Out By out_file  \\\n",
      "Sample                                                                \n",
      "Stricture-50217C          NaN          NaN             NaN      NaN   \n",
      "\n",
      "                 segmentation  Condition  \\\n",
      "Sample                                     \n",
      "Stricture-50217C          new  Stricture   \n",
      "\n",
      "                                                                                                                  file_path  \n",
      "Sample                                                                                                                       \n",
      "Stricture-50217C  /mnt/cho_lab/bbdata2/outputs/TUQ97N/CHO-009/output-XETG00189__0010463__50217C-TUQ97N-EA__20240418__170624  \n",
      "\n",
      "\n",
      "<<< INITIALIZING SPATIAL CLASS OBJECT >>>\n",
      "\n",
      "\u001b[34mINFO    \u001b[0m reading                                                                                                   \n",
      "         \u001b[35m/mnt/cho_lab/bbdata2/outputs/TUQ97N/CHO-009/output-XETG00189__0010463__50217C-TUQ97N-EA__20240418__170624/\u001b[0m\n",
      "         \u001b[95mcell_feature_matrix.h5\u001b[0m                                                                                    \n",
      "WARNING: Unable to find `y`, `x` or `z` dimension in `('c', 'y', 'x')`. Renaming to `('channels', 'y', 'x', 'z')`\n",
      "WARNING: Unable to find `y`, `x` or `z` dimension in `('c', 'y', 'x')`. Renaming to `('channels', 'y', 'x', 'z')`\n",
      "WARNING: Unable to find `y`, `x` or `z` dimension in `('c', 'y', 'x')`. Renaming to `('channels', 'y', 'x', 'z')`\n",
      "WARNING: Unable to find `y`, `x` or `z` dimension in `('c', 'y', 'x')`. Renaming to `('channels', 'y', 'x', 'z')`\n",
      "WARNING: Unable to find `y`, `x` or `z` dimension in `('c', 'y', 'x')`. Renaming to `('channels', 'y', 'x', 'z')`\n",
      "\n",
      "\n",
      "================================================================================\n",
      "Counts: Initial\n",
      "================================================================================\n",
      "\n",
      "\n",
      "\tObservations: 860665\n",
      "\n",
      "\tGenes: 469\n",
      "\n",
      "\n",
      "\n",
      "================================================================================\n",
      "\n",
      "\n",
      "\n",
      "\n",
      " AnnData object with n_obs × n_vars = 860665 × 469\n",
      "    obs: 'cell_id', 'transcript_counts', 'control_probe_counts', 'control_codeword_counts', 'unassigned_codeword_counts', 'deprecated_codeword_counts', 'total_counts', 'cell_area', 'nucleus_area', 'region', 'z_level', 'nucleus_count', 'cell_labels', 'Sample'\n",
      "    var: 'gene_ids', 'feature_types', 'genome'\n",
      "    uns: 'spatialdata_attrs', 'spatial', 'original_ix'\n",
      "    obsm: 'spatial'\n",
      "    layers: 'counts' \n",
      "\n",
      "                      gene_ids    feature_types   genome\n",
      "gene_symbols                                           \n",
      "ABCA7         ENSG00000064687  Gene Expression  Unknown\n",
      "ACTA2         ENSG00000107796  Gene Expression  Unknown\n",
      "ACTG2         ENSG00000163017  Gene Expression  Unknown\n",
      "ADAM15        ENSG00000143537  Gene Expression  Unknown\n",
      "ADAM28        ENSG00000042980  Gene Expression  Unknown \n",
      "\n",
      " \n",
      "\n",
      "\n",
      "\n",
      "col_gene_symbols=\"gene_symbols\"\n",
      "col_cell_type=\"manual_res1pt5_dist0_npc30\"\n",
      "col_sample_id=\"Sample\"\n",
      "col_batch=\"Sample\"\n",
      "col_subject=\"Patient\"\n",
      "col_condition=None\n",
      "col_num_umis=None\n",
      "col_segment=\"region\"\n",
      "\n",
      "\n",
      "\n",
      "key_control=None\n",
      "key_treatment=None\n"
     ]
    }
   ],
   "source": [
    "# Directories & Metadata\n",
    "load, reannotate = False, True\n",
    "# samples = \"all\"\n",
    "# run = \"CHO-008\"\n",
    "run = None  # just look for samples in all runs\n",
    "samples = [\"50217C\"]\n",
    "# run = [\"CHO-001\"] * 3 + [\"CHO-002\"] * 2\n",
    "# samples = [\"50452A\", \"50452B\", \"50618B5\", \"50564A4\",\n",
    "#            \"50452C\", \"50007B2\", \"50115A2\", \"50445A3\", \"49471A4\"]\n",
    "# samples = [\"50452A\", \"50452B\", \"50452C\", \"50618B5\", \"50564A4\"]\n",
    "# run = [\"CHO-005\"] * 2 + [\"CHO-006\"] * 2\n",
    "# samples = [\"50007B2\", \"50115A2\", \"50445A3\", \"49471A4\"]\n",
    "# run = [\"CHO-008\", \"CHO-009\", \"CHO-010\"]\n",
    "# samples = [\"50564A4\", \"50618B5\"]\n",
    "# samples = [\"50007B2\"]\n",
    "# samples = [\"50006B\", \"50006A\", \"50006C\"]\n",
    "# run = [\"CHO-008\", \"CHO-008\", \"CHO-009\"]\n",
    "# samples = [\"50217B\", \"50217A\", \"50217C\"]\n",
    "# run = [\"CHO-007\", \"CHO-007\", \"CHO-008\", \"CHO-008\", \"CHO-010\", \"CHO-010\"]\n",
    "# samples = [\"50006A\", \"50006B\", \"50217B\", \"50217A\", \"50336C\", \"50336B\"]\n",
    "# samples = [\"50336C\", \"50336B\", \"50336A\"]\n",
    "# samples = [\"50452A\", \"50452B\", \"50452C\"]\n",
    "# samples = [\"50564A4\", \"50618B5\"]\n",
    "\n",
    "# Optionally, Define Manual Annotation Versions\n",
    "# should be stored in (\"<out_dir>/annotations_dictionaries\")\n",
    "# in format <selves[i]._library_id>___leiden_<man_anns[i]>_dictionary.xlsx\n",
    "# with first column = leiden cluster and second column = annotation\n",
    "man_anns = True  # load manual annotations according to clustering kws\n",
    "# man_anns = [\"res0pt5_dist0pt5_npc30\", \"res0pt75_dist0pt3_npc30\",\n",
    "#             \"res1pt5_dist0_npc30\"]  # choose manual annotations to load\n",
    "# man_anns = None  # do not load manual annotations\n",
    "\n",
    "# Main Directories\n",
    "# Replace manually or mirror my file/directory tree in your home (`ddu`)\n",
    "ddu = os.path.expanduser(\"~\")\n",
    "ddm = \"/mnt/cho_lab\" if os.path.exists(\"/mnt/cho_lab\") else \"/mnt\"  # Spark?\n",
    "ddl = f\"{ddm}/disk2/{os.getlogin()}/data/shared-xenium-library\" if (\n",
    "    \"cho\" in ddm) else os.path.join(ddu, \"shared-xenium-library\")\n",
    "ddx = f\"{ddm}/bbdata2\"  # mounted drive Xenium folder\n",
    "out_dir = os.path.join(ddl, \"outputs\", \"TUQ97N\", \"nebraska\")  # None = no save\n",
    "d_path = os.path.join(ddm, \"disk2\" if \"cho\" in ddm else \"\",\n",
    "                      os.getlogin(), \"data\")  # other, e.g., Tangram data\n",
    "anf = pd.read_csv(os.path.join(ddu, \"corescpy/examples/markers_lineages.csv\"))\n",
    "file_mdf = os.path.join(ddl, \"samples.csv\")  # metadata\n",
    "\n",
    "# Annotation & Tangram Imputation\n",
    "col_assignment = \"Bin\"  # which column from annotation file to use\n",
    "# col_cell_type_sc, file_sc = \"ClusterAnnotation\", str(\n",
    "#     f\"{d_path}/2023-05-12_CombinedCD-v2_ileal_new.h5ad\")\n",
    "col_cell_type_sc, file_sc = \"cell_type\", f\"{d_path}/elmentaite_ileal.h5ad\"\n",
    "# file_sc = None  # to skip Tangram imputation/label transfer\n",
    "\n",
    "# Processing & Clustering Options\n",
    "kws_pp = dict(cell_filter_pmt=None, cell_filter_ncounts=[15, None],\n",
    "              cell_filter_ngene=[3, None], gene_filter_ncell=[3, None],\n",
    "              gene_filter_ncounts=[3, None], custom_thresholds=None,\n",
    "              kws_scale=dict(max_value=10, zero_center=True),\n",
    "              method_norm=\"log\")  # preprocessing keyword arguments\n",
    "kws_pp_o = dict(cell_filter_pmt=None, cell_filter_ncounts=[50, None],\n",
    "                cell_filter_ngene=[10, None], gene_filter_ncell=[3, None],\n",
    "                gene_filter_ncounts=[3, None], custom_thresholds=None,\n",
    "                kws_scale=dict(max_value=10, zero_center=True),\n",
    "                method_norm=\"log\")  # old segmentation preprocessing arguments\n",
    "kws_cluster = dict(kws_umap=dict(method=\"rapids\" if gpu else \"umap\"),\n",
    "                   genes_subset=list(anf.iloc[:, 0]),  # use only markers\n",
    "                   use_gpu=gpu, use_highly_variable=False)\n",
    "kws_clustering, col_assignment = {}, []\n",
    "for i in zip([0.5, 0.75, 1.5], [0.5, 0.3, 0], [30, 30, 30]):\n",
    "    kws = {**kws_cluster, \"resolution\": i[0], \"kws_umap\": {\n",
    "        **kws_cluster[\"kws_umap\"], \"min_dist\": i[1]}, \"n_comps\": i[2]}\n",
    "    suff = str(f\"res{re.sub('[.]', 'pt', str(kws['resolution']))}_dist\"\n",
    "               f\"{re.sub('[.]', 'pt', str(kws['kws_umap']['min_dist']))}\"\n",
    "               f\"_npc{kws['n_comps']}\")  # file path suffix\n",
    "    kws_clustering.update({suff: kws})\n",
    "    col_assignment += [\"group\" if kws[\"resolution\"] >= 0.7 else \"Bucket\"]\n",
    "if man_anns is True:\n",
    "    man_anns = list(kws_clustering.keys())\n",
    "col_cell_type = list(kws_clustering.keys())[-1] if (\n",
    "    man_anns is None) else f\"manual_{man_anns[-1]}\"  # default cell labels\n",
    "\n",
    "# After this point, no more options to specify\n",
    "# Just code to infer the data file path from your specifications\n",
    "# and construct argument dictionaries and manipulate metadata and such.\n",
    "\n",
    "# Read Metadata & Other Information\n",
    "metadata = (pd.read_excel if file_mdf[-4:] == \"xlsx\" else pd.read_csv)(\n",
    "    file_mdf, dtype={\"Slide ID\": str}).rename({\n",
    "        \"Name\": col_subject, \"Inflammation\": col_inflamed}, axis=1)\n",
    "metadata.loc[:, col_segment] = \"new\"\n",
    "metadata.loc[metadata[col_sample_id_o].isin(old_seg), col_segment] = \"old\"\n",
    "if samples not in [\"all\", None]:  # subset by sample ID?\n",
    "    metadata = metadata.set_index(col_sample_id_o).loc[samples].reset_index()\n",
    "\n",
    "# Revise Metadata & Construct Variables from Options\n",
    "metadata.loc[:, col_condition] = metadata.apply(lambda x: \"Stricture\" if x[\n",
    "    col_stricture].lower() in [\"stricture\", \"yes\"] else x[\n",
    "        col_inflamed].capitalize(), axis=1)  # inflamation/stricture condition\n",
    "metadata.loc[:, col_sample_id] = metadata[[col_condition, col_sample_id_o]\n",
    "                                          ].apply(\"-\".join, axis=1)\n",
    "metadata = metadata.set_index(col_sample_id)\n",
    "fff = np.array(cr.pp.construct_file(run=run, directory=ddx, panel_id=panel))\n",
    "bff = np.array([os.path.basename(i) for i in fff])  # base path names\n",
    "samps = np.array([i.split(\"__\")[2].split(\"-\")[0] for i in fff])\n",
    "for x in metadata[col_sample_id_o]:\n",
    "    m_f = metadata[metadata[col_sample_id_o] == x][\n",
    "        \"out_file\"].iloc[0]  # ...use to find unconventionally-named files\n",
    "    locx = np.where(samps == x)[0] if pd.isnull(\n",
    "        m_f) else np.where(bff == m_f)[0]\n",
    "    metadata.loc[metadata[col_sample_id_o] == x, col_fff] = fff[locx[0]] if (\n",
    "        len(locx) > 0) else np.nan  # assign output file to metadata row\n",
    "metadata = metadata.dropna(subset=[col_fff]).drop_duplicates()\n",
    "\n",
    "# Annotation File\n",
    "assign = anf.dropna(subset=col_assignment).set_index(\n",
    "    \"gene\").rename_axis(\"Gene\")  # markers\n",
    "# assign = assign[~assign.Quality.isin([-1])]  # drop low-quality markers\n",
    "\n",
    "# Print Metadata & Make Output Directory (If Not Present)\n",
    "print(metadata)\n",
    "if not os.path.exists(out_dir):\n",
    "    os.makedirs(out_dir)\n",
    "\n",
    "# Load Data\n",
    "kws_init = dict(col_sample_id=col_sample_id, col_subject=col_subject,\n",
    "                col_cell_type=col_cell_type)  # object creation arguments\n",
    "selves = [None] * metadata.shape[0]  # to hold different samples\n",
    "for i, x in enumerate(metadata.index.values):\n",
    "    selves[i] = cr.Spatial(metadata.loc[x][col_fff], library_id=x, **kws_init)\n",
    "    for j in metadata:  # iterate metadata columns\n",
    "        selves[i].rna.obs.loc[:, j] = str(metadata.loc[x][j])  # add to object\n",
    "    selves[i].rna.obs.loc[:, \"out_file\"] = os.path.join(\n",
    "        out_dir, selves[i]._library_id)  # output path (to save object)\n",
    "    if load is True:\n",
    "        if os.path.exists(str(selves[i].rna.obs.out_file.iloc[0]) + \".h5ad\"):\n",
    "            selves[i].update_from_h5ad(selves[i].rna.obs.out_file.iloc[0])\n",
    "        print(selves[i].rna)\n",
    "\n",
    "# Marker Gene Dictionary (for Scanpy Plotting)\n",
    "marker_genes_dict = dict(assign[\"Bucket\"].reset_index().groupby(\n",
    "    \"Bucket\").apply(lambda x: list(pd.unique(list(set(\n",
    "        x.Gene).intersection(selves[0].rna.var_names))))))  # to dictionary"
   ]
  },
  {
   "cell_type": "markdown",
   "metadata": {},
   "source": [
    "## Manual Annotations"
   ]
  },
  {
   "cell_type": "markdown",
   "metadata": {},
   "source": [
    "### Load Manual Annotations"
   ]
  },
  {
   "cell_type": "code",
   "execution_count": null,
   "metadata": {},
   "outputs": [],
   "source": [
    "if man_anns is not None and man_anns is not False:\n",
    "    for i, s in enumerate(selves):\n",
    "        for r in man_anns:  # iterate Leiden clusterings\n",
    "            fmr = os.path.join(out_dir, \"annotation_dictionaries\", str(\n",
    "                f\"{s._library_id}___leiden_{r}_dictionary.xlsx\"))  # mappings\n",
    "            if os.path.exists(fmr) is False:\n",
    "                print(f\"{fmr} file NOT found.\")\n",
    "                continue\n",
    "            else:\n",
    "                print(f\"{fmr} file found.\")\n",
    "            fmr = pd.read_excel(fmr).iloc[:, :2].astype(str)\n",
    "            mans = dict(fmr.set_index(fmr.columns[0]).iloc[:, 0])\n",
    "            s.rna.obs.loc[:, f\"manual_{r}\"] = s.rna.obs[f\"leiden_{r}\"].astype(\n",
    "                int).astype(str).replace(mans)  # Leiden -> manual annotation\n",
    "            s.rna.obs.loc[s.rna.obs[f\"manual_{r}\"].isnull(\n",
    "                ), f\"manual_{r}\"] = s.rna.obs.loc[s.rna.obs[\n",
    "                    f\"manual_{r}\"].isnull(), f\"leiden_{r}\"].astype(\n",
    "                        str)  # missing annotations replaced with Leiden\n",
    "            s.rna.obs.loc[:, f\"manual_{r}\"] = s.rna.obs[\n",
    "                f\"manual_{r}\"].astype(\"category\")  # as categorical\n",
    "            # s.plot_spatial(f\"manual_{r}\")"
   ]
  },
  {
   "cell_type": "markdown",
   "metadata": {},
   "source": [
    "### Write Manual Annotations"
   ]
  },
  {
   "cell_type": "code",
   "execution_count": null,
   "metadata": {},
   "outputs": [],
   "source": [
    "if man_anns not in [None, False] and out_dir is not None:\n",
    "    for i, s in enumerate(selves):\n",
    "        for r in man_anns:\n",
    "            if f\"manual_{r}\" in s.rna.obs:\n",
    "                s.write_clusters(out_dir, col_cell_type=f\"manual_{r}\",\n",
    "                                 overwrite=True,\n",
    "                                 file_prefix=f\"{s._library_id}__\")\n",
    "        s.write(s.rna.obs.out_file.iloc[0])"
   ]
  },
  {
   "cell_type": "markdown",
   "metadata": {},
   "source": [
    "# Clustering"
   ]
  },
  {
   "cell_type": "markdown",
   "metadata": {},
   "source": [
    "## Processing, Leiden, Annotation"
   ]
  },
  {
   "cell_type": "code",
   "execution_count": 8,
   "metadata": {},
   "outputs": [
    {
     "name": "stdout",
     "output_type": "stream",
     "text": [
      "\n",
      "\n",
      " {'cell_filter_pmt': None, 'cell_filter_ncounts': [15, None], 'cell_filter_ngene': [3, None], 'gene_filter_ncell': [3, None], 'gene_filter_ncounts': [3, None], 'custom_thresholds': None, 'kws_scale': {'max_value': 10, 'zero_center': True}, 'method_norm': 'log'} \n",
      "\n",
      "\n",
      "AnnData object with n_obs × n_vars = 860665 × 469\n",
      "    obs: 'cell_id', 'transcript_counts', 'control_probe_counts', 'control_codeword_counts', 'unassigned_codeword_counts', 'deprecated_codeword_counts', 'total_counts', 'cell_area', 'nucleus_area', 'region', 'z_level', 'nucleus_count', 'cell_labels', 'Sample', 'Sample ID', 'Patient', 'Status', 'Slide Id', 'Project', 'Location', 'Stricture', 'GRID ID', 'Inflamed', 'Procedure Date', 'Age', 'Sex', 'Race', 'Hispanic', 'Diagnosis', 'Project.1', 'Procedure', 'Disease_Status', 'Date Collected', 'Date Sectioned', 'Date Hybridization', 'Storage 4c', 'Created By', 'Created', 'Storage Status', 'Location.1', 'Storage Row', 'Storage Col', 'Checked Out By', 'out_file', 'segmentation', 'Condition', 'file_path'\n",
      "    var: 'gene_ids', 'feature_types', 'genome'\n",
      "    uns: 'spatialdata_attrs', 'spatial', 'original_ix'\n",
      "    obsm: 'spatial'\n",
      "    layers: 'counts'\n",
      "\n",
      "Un-Used Keyword Arguments: {'assay_protein': None, 'col_condition': None, 'col_num_umis': None, 'col_segment': 'region'}\n",
      "\n",
      "\n"
     ]
    },
    {
     "data": {
      "image/png": "[encoded data removed]",
      "text/plain": [
       "<Figure size 1500x1500 with 1 Axes>"
      ]
     },
     "metadata": {
      "image/png": {
       "height": 1213,
       "width": 1302
      }
     },
     "output_type": "display_data"
    },
    {
     "name": "stdout",
     "output_type": "stream",
     "text": [
      "\n",
      "\n",
      "================================================================================\n",
      "Counts: Initial\n",
      "================================================================================\n",
      "\n",
      "\n",
      "\tObservations: 860665\n",
      "\n",
      "\tGenes: 469\n",
      "\n",
      "\n",
      "\n",
      "================================================================================\n",
      "\n",
      "\n",
      "<<< PERFORMING QUALITY CONTROL ANALYSIS>>>\n",
      "\n",
      "\t*** Detecting Mitochondrial, Ribosomal, Hemoglobin genes...\n",
      "\n",
      "\t*** Calculating & plotting QC metrics...\n",
      "\n",
      "\n"
     ]
    }
   ],
   "source": []
  },
  {
   "cell_type": "code",
   "execution_count": null,
   "metadata": {},
   "outputs": [],
   "source": [
    "%%time\n",
    "\n",
    "print(\"\\n\\n\", kws_pp, \"\\n\\n\")\n",
    "for i, s in enumerate(selves):\n",
    "    f_o = str(selves[i].rna.obs.out_file.iloc[0])\n",
    "\n",
    "    # Preprocessing\n",
    "    if \"log1p\" not in s.rna.layers:\n",
    "        _ = s.preprocess(**kws_pp, figsize=(15, 15))  # preprocess\n",
    "\n",
    "    # Clustering at Different Resolutions & Minimum Distances\n",
    "    for j, x in enumerate(kws_clustering):\n",
    "\n",
    "        # Variables & Output Files\n",
    "        print(f\"\\n\\n{'=' * 80}\\n{x}\\n{'=' * 80}\\n\\n\")\n",
    "        cct, cca = f\"leiden_{x}\", f\"label_{x}\"  # Leiden & annotation columns\n",
    "        annot = assign[[col_assignment[j]]]  # gene-annotation dictionary\n",
    "\n",
    "        # Skip If Already Done?\n",
    "        if cct in s.rna.obs:\n",
    "            print(cct + \" already present for \" + s._library_id)\n",
    "            continue\n",
    "\n",
    "        # Clustering, Markers, Annotation, & Writing Output\n",
    "        _ = s.cluster(**kws_clustering[x], key_added=cct, out_file=f_o)\n",
    "        _ = s.find_markers(col_cell_type=cct, kws_plot=False)  # DEGs\n",
    "        _ = s.annotate_clusters(annot, col_cell_type=cct,\n",
    "                                col_annotation=cca)  # annotate\n",
    "        for c in [k for k in [cct, cca] if k in s.rna.obs]:  # Explorer\n",
    "            s.write_clusters(out_dir, col_cell_type=c, overwrite=True,\n",
    "                             file_prefix=f\"{s._library_id}__\", n_top=True)\n",
    "\n",
    "        # Write Final Object\n",
    "        s.write(f_o)"
   ]
  },
  {
   "cell_type": "markdown",
   "metadata": {},
   "source": [
    "## Tangram Imputation"
   ]
  },
  {
   "cell_type": "code",
   "execution_count": null,
   "metadata": {},
   "outputs": [],
   "source": [
    "%%time\n",
    "\n",
    "if file_sc is not None:\n",
    "    adata_sc = sc.read(file_sc)  # read whole tx'ome data for imputation\n",
    "    if load is False:\n",
    "        for i, s in enumerate(selves):\n",
    "            out = s.impute(\n",
    "                adata_sc.copy(), col_cell_type=col_cell_type_sc,\n",
    "                mode=\"clusters\", markers=None, plot=False, plot_density=False,\n",
    "                plot_genes=None, col_annotation=col_tangram, out_file=None)\n",
    "            out[0].write_h5ad(os.path.splitext(selves[\n",
    "                0].rna.obs.out_file.iloc[0])[0] + \"___tangram.h5ad\")  # write\n",
    "            s.write(s.rna.obs.out_file.iloc[0])\n",
    "            s.write_clusters(out_dir, file_prefix=f\"{s._library_id}___\",\n",
    "                             col_cell_type=col_tangram,\n",
    "                             overwrite=True, n_top=True)\n",
    "    s.plot_spatial(color=col_tangram)"
   ]
  },
  {
   "cell_type": "markdown",
   "metadata": {},
   "source": [
    "## Plot Clusters"
   ]
  },
  {
   "cell_type": "code",
   "execution_count": null,
   "metadata": {},
   "outputs": [],
   "source": [
    "for s in selves:\n",
    "    s.plot_spatial(color=col_tangram)\n",
    "    for j, x in enumerate(kws_clustering):\n",
    "        _ = s.plot_spatial(color=[f\"leiden_{x}\",, f\"label_{x}\"])"
   ]
  },
  {
   "cell_type": "markdown",
   "metadata": {},
   "source": [
    "## ToppGene & Marker Expression"
   ]
  },
  {
   "cell_type": "code",
   "execution_count": null,
   "metadata": {},
   "outputs": [],
   "source": [
    "self = selves[0]\n",
    "self.get_layer(\"counts\", inplace=True)\n",
    "\n",
    "srcs = [\"Cells of the human intestinal tract mapped across space and time\",\n",
    "        \"Human Ileal Epithelial cells from Crohn’s Disease\",\n",
    "        \"Human Ileal Immune cells from Crohn’s Disease\"]\n",
    "# cct = \"leiden_res0pt5_dist0pt5_npc30\"\n",
    "# cct = \"leiden_res0pt75_dist0pt3_npc30\"\n",
    "c_t = \"leiden_res1pt5_dist0_npc30\"\n",
    "tgdf, mks = self.annotate_clusters(\n",
    "        None, sources=srcs, col_cell_type=c_t, max_results=10000,\n",
    "        name_pattern={srcs[0]: \"SmallIntestine\"}, p_threshold=1e-15,\n",
    "        lfc_threshold=1.5, n_top_genes=20, n_top_annotations=40)\n",
    "tgdf.loc[:, \"Name\"] = tgdf.Name.str.strip(\n",
    "        \" / Per Region, Age_group, Lineage, cell class, cell type   \").apply(\n",
    "                lambda x: re.sub(\"SmallIntestine\", \"SmInt\", \" --- \".join(\n",
    "                        x.split(\"|\")[0].split(\"-\"))))"
   ]
  },
  {
   "cell_type": "markdown",
   "metadata": {},
   "source": [
    "### By Top Markers"
   ]
  },
  {
   "cell_type": "code",
   "execution_count": null,
   "metadata": {},
   "outputs": [],
   "source": [
    "key_cluster = \"9\"\n",
    "count_threshold = 1\n",
    "\n",
    "print(tgdf.loc[key_cluster].iloc[:, :-3])\n",
    "_, percs_exp, n_exp, genes, msg = self.print_markers(\n",
    "    key_cluster, assign, col_cell_type=c_t, lfc_threshold=2,\n",
    "    count_threshold=count_threshold, p_threshold=1e-15,\n",
    "    print_threshold=15, n_top_genes=40)\n",
    "print(\"\\n\\n\", genes, \"\\n\\n\", n_exp.applymap(int), \"\\n\\n\")\n",
    "print(msg)\n",
    "percs_exp.applymap(lambda x: x if x == \"\" else str(int(x)) + \"%\")"
   ]
  },
  {
   "cell_type": "markdown",
   "metadata": {},
   "source": [
    "### By Genes"
   ]
  },
  {
   "cell_type": "code",
   "execution_count": null,
   "metadata": {},
   "outputs": [],
   "source": [
    "key_cluster = \"8\"\n",
    "print(tgdf.loc[key_cluster].iloc[:, :-3])\n",
    "_, percs_exp, n_exp, genes, msg = self.print_markers(\n",
    "    key_cluster, assign, col_cell_type=c_t, lfc_threshold=None,\n",
    "    count_threshold=1, p_threshold=1, n_top_genes=[\n",
    "        \"LGR5\", \"CCL25\", \"CDCA7\", \"TOP2A\",\n",
    "        \"MUC2\", \"MUC5B\", \"MUC1\", \"MUC4\", \"KLK1\", \"ZG16\", \"BEST2\",\n",
    "        \"BEST4\", \"CCL20\"])\n",
    "print(\"\\n\\n\", genes, \"\\n\\n\", n_exp.applymap(int), \"\\n\\n\")\n",
    "print(msg)\n",
    "print(percs_exp.stack().replace(\"\", np.nan).dropna().rename_axis([\n",
    "    \"Gene\", \"Annotation\"]).groupby(\"Annotation\").apply(\n",
    "        lambda x: x.sort_values(ascending=False).apply(\n",
    "            lambda y: f\"{int(y)}%\")).reset_index(2, drop=True))\n",
    "percs_exp.applymap(lambda x: x if x == \"\" else str(int(x)) + \"%\")"
   ]
  },
  {
   "cell_type": "code",
   "execution_count": null,
   "metadata": {},
   "outputs": [],
   "source": [
    "key_cluster = \"0\"\n",
    "_, percs_exp, n_exp, genes, msg = self.print_markers(\n",
    "    key_cluster, assign, col_cell_type=c_t, lfc_threshold=None,\n",
    "    count_threshold=1, p_threshold=1, n_top_genes=list(assign[\n",
    "        assign.Bin == \"SMC\"].index.intersection(self.rna.var_names)))\n",
    "print(\"\\n\\n\", genes, \"\\n\\n\", n_exp.applymap(int), \"\\n\\n\")\n",
    "print(msg)\n",
    "print(percs_exp.stack().replace(\"\", np.nan).dropna().rename_axis([\n",
    "    \"Gene\", \"Annotation\"]).groupby(\"Annotation\").apply(\n",
    "        lambda x: x.sort_values(ascending=False).apply(\n",
    "            lambda y: f\"{int(y)}%\")).reset_index(2, drop=True))\n",
    "percs_exp.applymap(lambda x: x if x == \"\" else str(int(x)) + \"%\")"
   ]
  },
  {
   "cell_type": "code",
   "execution_count": null,
   "metadata": {},
   "outputs": [],
   "source": [
    "key_cluster = \"15\"\n",
    "_, percs_exp, n_exp, genes, msg = self.print_markers(\n",
    "    key_cluster, assign, col_cell_type=c_t, lfc_threshold=None,\n",
    "    count_threshold=1, p_threshold=1, n_top_genes=list(assign[\n",
    "        assign.Bucket == \"Granulocyte\"].index.intersection(\n",
    "            self.rna.var_names)))\n",
    "print(\"\\n\\n\", genes, \"\\n\\n\", n_exp.applymap(int), \"\\n\\n\")\n",
    "print(msg)\n",
    "print(percs_exp.stack().replace(\"\", np.nan).dropna().rename_axis([\n",
    "    \"Gene\", \"Annotation\"]).groupby(\"Annotation\").apply(\n",
    "        lambda x: x.sort_values(ascending=False).apply(\n",
    "            lambda y: f\"{int(y)}%\")).reset_index(2, drop=True))\n",
    "percs_exp.applymap(lambda x: x if x == \"\" else str(int(x)) + \"%\")"
   ]
  },
  {
   "cell_type": "code",
   "execution_count": null,
   "metadata": {},
   "outputs": [],
   "source": [
    "key_cluster = \"15\"\n",
    "_, percs_exp, n_exp, genes, msg = self.print_markers(\n",
    "    key_cluster, assign, col_cell_type=c_t, lfc_threshold=None,\n",
    "    count_threshold=1, p_threshold=1, n_top_genes=list(assign[\n",
    "        assign.Lump == \"Stromal\"].index.intersection(self.rna.var_names)))\n",
    "print(\"\\n\\n\", genes, \"\\n\\n\", n_exp.applymap(int), \"\\n\\n\")\n",
    "print(msg)\n",
    "percs_exp.applymap(lambda x: x if x == \"\" else str(int(x)) + \"%\")"
   ]
  },
  {
   "cell_type": "code",
   "execution_count": null,
   "metadata": {},
   "outputs": [],
   "source": [
    "percs_exp.replace(\"\", np.nan).stack().dropna().sort_values().astype(int)"
   ]
  },
  {
   "cell_type": "code",
   "execution_count": null,
   "metadata": {},
   "outputs": [],
   "source": [
    "percs_exp.replace(\"\", np.nan).stack().dropna().rename_axis([\n",
    "    \"Gene\", \"Annotation\"]).groupby(\"Annotation\").apply(\n",
    "        lambda x: x.astype(int).sort_values()).reset_index(2, drop=True)"
   ]
  },
  {
   "cell_type": "markdown",
   "metadata": {},
   "source": [
    "### Sensitivity: % of Total Cells (Restricted to Comparison)"
   ]
  },
  {
   "cell_type": "code",
   "execution_count": null,
   "metadata": {},
   "outputs": [],
   "source": [
    "# comp = [\"0\", \"5\", \"8\", \"10\", \"18\", \"20\", \"34\"]\n",
    "comp = [\"2\", \"7\", \"11\", \"21\", \"28\"]\n",
    "count_threshold = 1\n",
    "key_cluster = \"2\"\n",
    "_, percs_exp, n_exp, genes, msg = self.print_markers(\n",
    "    key_cluster, assign, col_cell_type=c_t, lfc_threshold=None,\n",
    "    key_compare=comp, count_threshold=count_threshold, p_threshold=1,\n",
    "    n_top_genes=list(assign[assign.Lump == \"Epithelial\"].index.intersection(\n",
    "        self.rna.var_names)) + [\"TP53\", \"PLAUR\"])\n",
    "print(\"\\n\\n\", genes, \"\\n\\n\", n_exp.applymap(int), \"\\n\\n\")\n",
    "print(msg)\n",
    "percs_exp.applymap(lambda x: x if x == \"\" else str(int(x)) + \"%\")"
   ]
  },
  {
   "cell_type": "markdown",
   "metadata": {},
   "source": [
    "# Analyze"
   ]
  },
  {
   "cell_type": "markdown",
   "metadata": {},
   "source": [
    "## Centrality Scores"
   ]
  },
  {
   "cell_type": "code",
   "execution_count": null,
   "metadata": {},
   "outputs": [],
   "source": [
    "%%time\n",
    "\n",
    "for s in selves:\n",
    "    s.calculate_centrality(n_jobs=sc.settings.n_jobs)"
   ]
  },
  {
   "cell_type": "markdown",
   "metadata": {},
   "source": [
    "## Neighborhood Enrichment Analysis"
   ]
  },
  {
   "cell_type": "code",
   "execution_count": null,
   "metadata": {},
   "outputs": [],
   "source": [
    "%%time\n",
    "\n",
    "for s in selves:\n",
    "    _ = s.calculate_neighborhood(figsize=(60, 30))"
   ]
  },
  {
   "cell_type": "markdown",
   "metadata": {},
   "source": [
    "## Cell Type Co-Occurrence"
   ]
  },
  {
   "cell_type": "code",
   "execution_count": null,
   "metadata": {},
   "outputs": [],
   "source": [
    "%%time\n",
    "\n",
    "for s in selves:\n",
    "    _ = s.find_cooccurrence(figsize=(60, 20), kws_plot=dict(wspace=3))"
   ]
  },
  {
   "cell_type": "markdown",
   "metadata": {},
   "source": [
    "## Spatial Clustering"
   ]
  },
  {
   "cell_type": "code",
   "execution_count": null,
   "metadata": {},
   "outputs": [],
   "source": [
    "for s in selves:\n",
    "    cct = f\"leiden_spatial_{list(kws_clustering.keys())[-1]}\"\n",
    "    _ = s.cluster_spatial(key_added=cct,\n",
    "                          **kws_clustering[list(kws_clustering.keys())[-1]])\n",
    "    _ = s.find_markers(col_cell_type=cct, kws_plot=False)\n",
    "    _ = s.annotate_clusters(assign[[col_assignment[-1]]], col_cell_type=cct,\n",
    "                            col_annotation=f\"annotation_{cct}\")\n",
    "    for c in [cct, f\"annotation_{cct}\"]:\n",
    "        s.plot_spatial(c)\n",
    "        if out_dir is not None:\n",
    "            s.write_clusters(out_dir, col_cell_type=c,\n",
    "                             n_top=True, overwrite=True,\n",
    "                             file_prefix=f\"{s._library_id}___\")\n",
    "    if out_dir is not None:\n",
    "        s.write(str(s.rna.obs.out_file.iloc[0]))"
   ]
  },
  {
   "cell_type": "markdown",
   "metadata": {},
   "source": [
    "## Spatially-Variable Genes"
   ]
  },
  {
   "cell_type": "code",
   "execution_count": null,
   "metadata": {},
   "outputs": [],
   "source": [
    "%%time\n",
    "\n",
    "kws = dict(kws_plot=dict(legend_fontsize=\"large\"), figsize=(15, 15))\n",
    "for s in selves:\n",
    "    _ = s.find_svgs(genes=15, method=\"moran\", n_perms=10, **kws)"
   ]
  },
  {
   "cell_type": "markdown",
   "metadata": {},
   "source": [
    "## Receptor-Ligand Interactions"
   ]
  },
  {
   "cell_type": "code",
   "execution_count": null,
   "metadata": {},
   "outputs": [],
   "source": [
    "%%time\n",
    "\n",
    "for s in selves:\n",
    "    kss, ktt = None, None\n",
    "    _ = s.calculate_receptor_ligand(\n",
    "        col_condition=False, p_threshold=0.01, remove_ns=True,\n",
    "        figsize=(30, 20), top_n=25, key_sources=kss, key_targets=ktt)\n",
    "    # s.calculate_receptor_ligand_spatial()"
   ]
  },
  {
   "cell_type": "markdown",
   "metadata": {},
   "source": [
    "## Cell Type Composition "
   ]
  },
  {
   "cell_type": "code",
   "execution_count": null,
   "metadata": {},
   "outputs": [],
   "source": [
    "for s in selves:\n",
    "    s.run_composition_analysis()"
   ]
  },
  {
   "cell_type": "markdown",
   "metadata": {},
   "source": [
    "## GEX"
   ]
  },
  {
   "cell_type": "code",
   "execution_count": null,
   "metadata": {},
   "outputs": [],
   "source": [
    "for s in selves:\n",
    "    s.plot_spatial(color=[\"TNF\", \"IL23\", col_cell_type])"
   ]
  },
  {
   "cell_type": "code",
   "execution_count": null,
   "metadata": {},
   "outputs": [],
   "source": [
    "_ = self.calculate_spatial_distance(\"LTi-like NCR+ ILC3\", genes=\"CSF2RB\")"
   ]
  },
  {
   "cell_type": "code",
   "execution_count": null,
   "metadata": {},
   "outputs": [],
   "source": [
    "adata.X = adata.layers[\"counts\"]\n",
    "sq.tl.var_by_distance(\n",
    "    adata, \"LTi-like NCR+ ILC3\", col_cell_type, library_key=col_sample_id,\n",
    "    design_matrix_key=\"design_matrix\", covariates=[\"Patient\", \"Inflamed\"],\n",
    "    metric=\"euclidean\", spatial_key=self._spatial_key, copy=False)\n",
    "sq.pl.var_by_distance(\n",
    "    adata=adata, var=[\"CSF2RB\", \"CSF2RA\", \"IL7R\"],\n",
    "    anchor_key=\"LTi-like NCR+ ILC3\",\n",
    "    covariate=\"Inflamed\")"
   ]
  },
  {
   "cell_type": "markdown",
   "metadata": {},
   "source": [
    "# Workspace"
   ]
  },
  {
   "cell_type": "code",
   "execution_count": null,
   "metadata": {},
   "outputs": [],
   "source": []
  },
  {
   "cell_type": "code",
   "execution_count": null,
   "metadata": {},
   "outputs": [],
   "source": [
    "mks = pd.read_csv(\"/mnt/cho_lab/disk2/jiayuzh/projects/perianal-cd/analysis\"\n",
    "                  \"/coreSC/output/output_2024-05-06_11.53.33/all_markers.csv\",\n",
    "                  index_col=0).rename_axis(\"gene_ix\").reset_index(\n",
    "                      ).set_index([\"cluster\", \"gene\"])\n",
    "srcs = [\"Cells of the human intestinal tract mapped across space and time\",\n",
    "        \"Human Ileal Epithelial cells from Crohn’s Disease\",\n",
    "        \"Human Ileal Immune cells from Crohn’s Disease\"]\n",
    "kwarg = dict(sources=srcs, max_results=10000,\n",
    "              name_pattern={srcs[0]: \"SmallIntestine\"})\n",
    "nta, ntg = 40, 20\n",
    "mmm = mks[mks.p_val_adj <= 1e-15]\n",
    "mmm = mmm[mmm.avg_log2FC >= 0.75]  # filter ~ LFC\n",
    "mmm = mmm.groupby(\"cluster\").apply(lambda x: x.iloc[:min(x.shape[\n",
    "    0], ntg)]).reset_index(0, drop=True)  # only N top\n",
    "types = mmm.reset_index().cluster.unique()\n",
    "tgdf = pd.concat([cr.tl.get_topp_gene(\n",
    "    list(mmm.loc[x].index.values), **kwargs, verbose=False).drop(\n",
    "        \"Source\", axis=1).reset_index(0, drop=True).iloc[:nta]\n",
    "    for x in types], keys=types)  # ToppGene results"
   ]
  },
  {
   "cell_type": "code",
   "execution_count": null,
   "metadata": {},
   "outputs": [],
   "source": [
    "clus = 5\n",
    "mcm = mmm[(mmm[\"pct.1\"] >= 0.5) & (mmm[\"pct.2\"] <= 0.33)].loc[clus]\n",
    "ggg = list(mcm.iloc[:30].index)\n",
    "print(\", \".join(ggg), \"\\n\")\n",
    "mcm"
   ]
  },
  {
   "cell_type": "code",
   "execution_count": null,
   "metadata": {},
   "outputs": [],
   "source": [
    "ggg = list(mmm.loc[clus].iloc[:30].index)\n",
    "print(\", \".join(ggg), \"\\n\")\n",
    "print(assign.loc[assign.index.intersection(ggg)].rename_axis(\n",
    "    \"gene\").reset_index().groupby(\"group\").apply(\n",
    "        lambda x: \", \".join(x.gene.unique())))\n",
    "tgdf.loc[clus]"
   ]
  },
  {
   "cell_type": "markdown",
   "metadata": {},
   "source": [
    "## Manual Annotations"
   ]
  },
  {
   "cell_type": "markdown",
   "metadata": {},
   "source": [
    "### Uninflamed-50452A"
   ]
  },
  {
   "cell_type": "code",
   "execution_count": null,
   "metadata": {},
   "outputs": [],
   "source": [
    "i = 0\n",
    "s = selves[i]\n",
    "r = \"leiden_res1pt5_dist0_npc30\"\n",
    "s.get_layer(\"counts\", inplace=True)\n",
    "print(np.mean(s.rna[s.rna.obs[f\"leiden_{r}\"] == \"9\"][:, \"CD79A\"].X > 0))\n",
    "print(np.mean(s.rna[s.rna.obs[f\"leiden_{r}\"] == \"9\"][:, \"CD79B\"].X > 0))\n",
    "print(np.mean(s.rna[s.rna.obs[f\"leiden_{r}\"] == \"6\"][:, \"CD79A\"].X > 0))\n",
    "print(np.mean(s.rna[s.rna.obs[f\"leiden_{r}\"] == \"6\"][:, \"CD79B\"].X > 0))\n",
    "print(np.mean(s.rna[s.rna.obs[f\"leiden_{r}\"] == \"6\"][\n",
    "    :, \"ADAMDEC1\"].X > 0))"
   ]
  },
  {
   "cell_type": "code",
   "execution_count": null,
   "metadata": {},
   "outputs": [],
   "source": [
    "for x in [\"COL1A1\", \"PEG10\", \"RCN3\"]:\n",
    "    print(np.mean(s.rna[s.rna.obs[f\"leiden_{r}\"] == \"10\"][:, x].X > 0))"
   ]
  },
  {
   "cell_type": "code",
   "execution_count": null,
   "metadata": {},
   "outputs": [],
   "source": [
    "for x in [\"BMP5\", \"F3\", \"MMP11\", \"CCL8\", \"NPY\", \"CH25H\"]:\n",
    "    print(np.mean(s.rna[s.rna.obs[f\"leiden_{r}\"] == \"15\"][:, x].X > 0))"
   ]
  },
  {
   "cell_type": "code",
   "execution_count": null,
   "metadata": {},
   "outputs": [],
   "source": [
    "for x in [\"LGR5\"]:\n",
    "    print(np.mean(s.rna[s.rna.obs[f\"leiden_{r}\"] == \"16\"][:, x].X > 0))"
   ]
  },
  {
   "cell_type": "code",
   "execution_count": null,
   "metadata": {},
   "outputs": [],
   "source": [
    "for x in [\"CRIP2\", \"KCNA5\", \"LBH\", \"NET1\", \"PLN\", \"RERGL\"]:\n",
    "    print(round(np.mean(s.rna[s.rna.obs[f\"leiden_{r}\"] == \"20\"][:, x].X > 0) * 100, 0))"
   ]
  },
  {
   "cell_type": "code",
   "execution_count": null,
   "metadata": {},
   "outputs": [],
   "source": [
    "for x in [\"TPSAB1\", \"CMA1\"]:\n",
    "    print(np.mean(s.rna[s.rna.obs[f\"leiden_{r}\"] == \"21\"][:, x].X > 0))"
   ]
  },
  {
   "cell_type": "code",
   "execution_count": null,
   "metadata": {},
   "outputs": [],
   "source": [
    "for x in [\"GNLY\", \"GZMB\"]:\n",
    "    print(np.mean(s.rna[s.rna.obs[f\"leiden_{r}\"] != \"23\"][:, x].X > 0))"
   ]
  },
  {
   "cell_type": "code",
   "execution_count": null,
   "metadata": {},
   "outputs": [],
   "source": [
    "for x in marker_genes_dict[\"Pericyte\"]:\n",
    "    print(int(100 * np.mean(s.rna[s.rna.obs[f\"leiden_{r}\"] == \"25\"][\n",
    "        :, x].X > 0)), \" vs. \", int(100 * np.mean(s.rna[s.rna.obs[\n",
    "            f\"leiden_{r}\"] != \"25\"][:, x].X > 0)))"
   ]
  },
  {
   "cell_type": "code",
   "execution_count": null,
   "metadata": {},
   "outputs": [],
   "source": [
    "comp = \"2\"\n",
    "print(\", \".join([x + \": \" + str(int(100 * np.mean(s.rna[s.rna.obs[\n",
    "    f\"leiden_{r}\"] == \"11\"][:, x].X > 0))) + \" vs. \" + str(int(\n",
    "        100 * np.mean(s.rna[s.rna.obs[f\"leiden_{r}\"] == comp][\n",
    "            :, x].X > 0))) + \"%\" for x in [\"COL4A1\", \"COL4A2\", \"DLC1\"]]))\n",
    "print(f\"\\n...compared to {comp}\")"
   ]
  },
  {
   "cell_type": "code",
   "execution_count": null,
   "metadata": {},
   "outputs": [],
   "source": [
    "print(\", \".join([x + \": \" + str(int(100 * np.mean(s.rna[s.rna.obs[\n",
    "    f\"leiden_{r}\"] == \"9\"][:, x].X > 0))) + \" vs. \" + str(int(\n",
    "        100 * np.mean(s.rna[s.rna.obs[f\"leiden_{r}\"] != \"9\"][\n",
    "            :, x].X > 0))) + \"%\" for x in [\n",
    "                \"ZBTB38\", \"IFNAR2\", \"SELENOM\", \"XBP1\"]]))"
   ]
  },
  {
   "cell_type": "markdown",
   "metadata": {},
   "source": [
    "### Stricture-50452C"
   ]
  },
  {
   "cell_type": "code",
   "execution_count": null,
   "metadata": {},
   "outputs": [],
   "source": [
    "# Memory B\n",
    "# Stricture-50452C___leiden_res0.75_dist0.3_npc30\n",
    "i = -1\n",
    "s = selves[i]\n",
    "r = \"leiden_res0.75_dist0.3_npc30\"\n",
    "s.rna.obs.loc[:, f\"leiden_{r}\"] = s.rna.obs[\n",
    "    f\"leiden_{r}\"].astype(float).astype(int).astype(str)\n",
    "clid = \"21\"\n",
    "comp = [\"2\", \"16\", \"18\"]\n",
    "print(\", \".join([x + \": \" + str(int(100 * np.mean(s.rna[s.rna.obs[\n",
    "    f\"leiden_{r}\"] == clid][:, x].X > 0))) + \" vs. \" + str(int(\n",
    "        100 * np.mean(s.rna[s.rna.obs[f\"leiden_{r}\"].isin(comp)][\n",
    "            :, x].X > 0))) + \"%\" for x in [\n",
    "                \"GPR183\", \"HHEX\", \"INPP5D\", \"LRRK2\"]]))\n",
    "print(f\"\\n...compared to {comp}\")"
   ]
  },
  {
   "cell_type": "code",
   "execution_count": null,
   "metadata": {},
   "outputs": [],
   "source": [
    "# Naive B\n",
    "# Stricture-50452C___leiden_res0.75_dist0.3_npc30\n",
    "i = -1\n",
    "s = selves[i]\n",
    "r = \"leiden_res0.75_dist0.3_npc30\"\n",
    "s.rna.obs.loc[:, f\"leiden_{r}\"] = s.rna.obs[\n",
    "    f\"leiden_{r}\"].astype(float).astype(int).astype(str)\n",
    "clid = \"21\"\n",
    "comp = [\"2\", \"16\", \"18\"]\n",
    "print(\", \".join([x + \": \" + str(int(100 * np.mean(s.rna[s.rna.obs[\n",
    "    f\"leiden_{r}\"] == clid][:, x].X > 0))) + \" vs. \" + str(int(\n",
    "        100 * np.mean(s.rna[s.rna.obs[f\"leiden_{r}\"].isin(comp)][\n",
    "            :, x].X > 0))) + \"%\" for x in [\n",
    "                \"IRF1\", \"LNPEP\", \"PLAC8\", \"IFITM1\"]]))\n",
    "print(f\"\\n...compared to {comp}\")"
   ]
  },
  {
   "cell_type": "markdown",
   "metadata": {},
   "source": [
    "### Uninflamed-50006B"
   ]
  },
  {
   "cell_type": "code",
   "execution_count": null,
   "metadata": {},
   "outputs": [],
   "source": [
    "# Neural-Glia\n",
    "# Uninflamed-50006B\n",
    "i = 0\n",
    "s = selves[i]\n",
    "r = \"leiden_res1pt5_dist0_npc30\"\n",
    "clus = \"24\"\n",
    "comp = [\"19\"]\n",
    "comp = list(set(comp).difference(set([clus])))\n",
    "ccc = \", \".join([x + \": \" + str(int(100 * np.mean(s.rna[s.rna.obs[r] == clus][\n",
    "    :, x].X > 0))) + \" vs. \" + str(int(100 * np.mean(s.rna[s.rna.obs[\n",
    "        r].isin(comp)][:, x].X > 0))) + \"%\" for x in assign[\n",
    "            assign.Bin == \"Neural\"].index.intersection(\n",
    "                s.rna.var_names).difference(assign[\n",
    "                    assign.Bin == \"Glia\"].index)])\n",
    "f\"{clus} compared to {comp}: {ccc}\""
   ]
  },
  {
   "cell_type": "code",
   "execution_count": null,
   "metadata": {},
   "outputs": [],
   "source": [
    "# Epithelial\n",
    "# Uninflamed-50006B\n",
    "i = 0\n",
    "s = selves[i]\n",
    "r = \"leiden_res1pt5_dist0_npc30\"\n",
    "clus = \"26\"\n",
    "# comp = [\"10\", \"28\"]\n",
    "# comp = [\"1\", \"3\", \"4\", \"7\", \"8\", \"10\", \"20\", \"26\"]\n",
    "# comp = [\"3\", \"4\", \"7\", \"8\", \"10\", \"26\"]\n",
    "comp = [\"4\", \"7\", \"8\", \"9\"]  # suspected goblets\n",
    "# comp = [\"8\"]\n",
    "comp = list(set(comp).difference(set([clus])))\n",
    "ccc = \", \".join([x + \": \" + str(int(100 * np.mean(s.rna[s.rna.obs[r] == clus][\n",
    "    :, x].X > 0))) + \" vs. \" + str(int(100 * np.mean(s.rna[s.rna.obs[\n",
    "        r].isin(comp)][:, x].X > 0))) + \"%\" for x in [\n",
    "            \"MUC2\", \"MUC4\", \"MUC1\", \"KLK1\", \"ZG16\",  # \"FAM3D\",\n",
    "            \"BEST2\", \"BEST4\",\"LGR5\", \"CDCA7\", \"CCL20\", \"LYZ\",\n",
    "            \"HCK\", \"MATK\", \"ZFHX3\"]])  # Tuft markers\n",
    "f\"{clus} compared to {comp}: {ccc}\""
   ]
  },
  {
   "cell_type": "code",
   "execution_count": null,
   "metadata": {},
   "outputs": [],
   "source": [
    "# Eptithelial\n",
    "# Uninflamed-50006B\n",
    "i = 0\n",
    "s = selves[i]\n",
    "r = \"leiden_res1pt5_dist0_npc30\"\n",
    "clus = \"26\"\n",
    "comp = [\"10\", \"28\"]\n",
    "# comp = [\"1\", \"3\", \"4\", \"7\", \"8\", \"10\", \"20\", \"26\"]\n",
    "# comp = [\"3\", \"4\", \"7\", \"8\", \"10\", \"26\"]\n",
    "# comp = [\"4\", \"7\", \"8\", \"9\"]  # suspected goblets\n",
    "# comp = [\"8\"]\n",
    "comp = list(set(comp).difference(set([clus])))\n",
    "ccc = \", \".join([x + \": \" + str(int(100 * np.mean(s.rna[s.rna.obs[r] == clus][\n",
    "    :, x].X > 0))) + \" vs. \" + str(int(100 * np.mean(s.rna[s.rna.obs[\n",
    "        r].isin(comp)][:, x].X > 0))) + \"%\" for x in [\n",
    "            \"MUC5B\", \"KIT\", \"MARCKSL1\", \"NACA\", \"FAM3D\", \"LCN2\", \"IRF2BP2\",\n",
    "            \"MUC4\", \"SATB2\", \"UQCRC1\", \"SLC39A8\", \"SERBP1\", \"TP53\", \"MYO10\",\n",
    "            \"KLK1\", \"HMGB1\", \"HOXA3\", \"NR5A2\", \"CAT\", \"LIMA1\", \"COX8A\",\n",
    "            \"LGALS9\", \"HMGB2\", \"CDCA7\", \"ZFP91\", \"MUC1\", \"ATF6B\"]])\n",
    "f\"{clus} compared to {comp}: {ccc}\""
   ]
  },
  {
   "cell_type": "code",
   "execution_count": null,
   "metadata": {},
   "outputs": [],
   "source": [
    "ggc = [\"HCK\", \"MATK\", \"ZFHX3\"]\n",
    "subs = s.rna[s.rna.obs[r] == clus].copy()\n",
    "subs = sc.tl.score_genes(subs, ggc, score_name=\"|\".join(ggc),\n",
    "                         use_raw=False, copy=True)  # score co-GEX\n",
    "np.mean(subs.obs[\"|\".join(ggc)] > 0)"
   ]
  },
  {
   "cell_type": "markdown",
   "metadata": {},
   "source": [
    "### Stricture-50006C"
   ]
  },
  {
   "cell_type": "code",
   "execution_count": null,
   "metadata": {},
   "outputs": [],
   "source": [
    "# Stricture-50006C\n",
    "# T Cell\n",
    "i = -1\n",
    "s = selves[i]\n",
    "r = \"leiden_res1pt5_dist0_npc30\"\n",
    "clus = \"22\"\n",
    "comp = list(s.rna.obs[r].unique())\n",
    "comp = list(set(comp).difference(set([clus])))\n",
    "ccc = \", \".join([x + \": \" + str(int(100 * np.mean(s.rna[s.rna.obs[r] == clus][\n",
    "    :, x].X > 0))) + \" vs. \" + str(int(100 * np.mean(s.rna[s.rna.obs[\n",
    "        r].isin(comp)][:, x].X > 0))) + \"%\" for x in assign[\n",
    "            assign.Bin == \"T Cell\"].index.intersection(s.rna.var_names)])\n",
    "f\"{clus} compared to {comp}: {ccc}\""
   ]
  },
  {
   "cell_type": "code",
   "execution_count": null,
   "metadata": {},
   "outputs": [],
   "source": [
    "# Stricture-50006C\n",
    "# gDT\n",
    "i = -1\n",
    "s = selves[i]\n",
    "r = \"leiden_res1pt5_dist0_npc30\"\n",
    "clus = \"27\"\n",
    "comp = list(s.rna.obs[r].unique())\n",
    "comp = list(set(comp).difference(set([clus])))\n",
    "ccc = \", \".join([x + \": \" + str(int(100 * np.mean(s.rna[s.rna.obs[r] == clus][\n",
    "    :, x].X > 0))) + \" vs. \" + str(int(100 * np.mean(s.rna[s.rna.obs[\n",
    "        r].isin(comp)][:, x].X > 0))) + \"%\" for x in assign[\n",
    "            assign.group.apply(lambda x: \"gdT\" in x)\n",
    "            ].index.intersection(s.rna.var_names)])\n",
    "f\"{clus} compared to {comp}: {ccc}\""
   ]
  },
  {
   "cell_type": "code",
   "execution_count": null,
   "metadata": {},
   "outputs": [],
   "source": [
    "# Stricture-50006C\n",
    "# LEC\n",
    "i = -1\n",
    "s = selves[i]\n",
    "r = \"leiden_res1pt5_dist0_npc30\"\n",
    "clus = \"27\"\n",
    "comp = list(s.rna.obs[r].unique())\n",
    "comp = list(set(comp).difference(set([clus])))\n",
    "ccc = \", \".join([x + \": \" + str(int(100 * np.mean(s.rna[s.rna.obs[r] == clus][\n",
    "    :, x].X > 0))) + \" vs. \" + str(int(100 * np.mean(s.rna[s.rna.obs[\n",
    "        r].isin(comp)][:, x].X > 0))) + \"%\" for x in assign[\n",
    "            assign.group.apply(lambda x: \"LEC\" in x)\n",
    "            ].index.intersection(s.rna.var_names)])\n",
    "f\"{clus} compared to {comp}: {ccc}\""
   ]
  },
  {
   "cell_type": "code",
   "execution_count": null,
   "metadata": {},
   "outputs": [],
   "source": [
    "# Stricture-50006C\n",
    "# cDC\n",
    "i = -1\n",
    "s = selves[i]\n",
    "r = \"leiden_res1pt5_dist0_npc30\"\n",
    "clus = \"25\"\n",
    "# comp = list(s.rna.obs[r].unique())\n",
    "comp = [\"6\"]\n",
    "comp = list(set(comp).difference(set([clus])))\n",
    "ccc = \", \".join([x + \": \" + str(int(100 * np.mean(s.rna[s.rna.obs[r] == clus][\n",
    "    :, x].X > 0))) + \" vs. \" + str(int(100 * np.mean(s.rna[s.rna.obs[\n",
    "        r].isin(comp)][:, x].X > 0))) + \"%\" for x in assign[\n",
    "            assign.group == \"cDC1\"].index.intersection(s.rna.var_names)])\n",
    "f\"{clus} compared to {comp}: {ccc}\""
   ]
  },
  {
   "cell_type": "code",
   "execution_count": null,
   "metadata": {},
   "outputs": [],
   "source": [
    "# Stricture-50006C\n",
    "i = -1\n",
    "s = selves[i]\n",
    "r = \"leiden_res1pt5_dist0_npc30\"\n",
    "clus = \"21\"\n",
    "comp = list(s.rna.obs[r].unique())\n",
    "comp = list(set(comp).difference(set([clus])))\n",
    "ccc = \", \".join([x + \": \" + str(int(100 * np.mean(s.rna[s.rna.obs[r] == clus][\n",
    "    :, x].X > 0))) + \" vs. \" + str(int(100 * np.mean(s.rna[s.rna.obs[\n",
    "        r].isin(comp)][:, x].X > 0))) + \"%\" for x in assign[\n",
    "            assign.Bin == \"Neural\"].index.intersection(s.rna.var_names)])\n",
    "f\"{clus} compared to {comp}: {ccc}\""
   ]
  },
  {
   "cell_type": "code",
   "execution_count": null,
   "metadata": {},
   "outputs": [],
   "source": [
    "# Stricture-50006C\n",
    "i = -1\n",
    "s = selves[i]\n",
    "r = \"leiden_res1pt5_dist0_npc30\"\n",
    "clus = \"11\"\n",
    "comp = list(s.rna.obs[r].unique())\n",
    "comp = list(set(comp).difference(set([clus])))\n",
    "ccc = \", \".join([x + \": \" + str(int(100 * np.mean(s.rna[s.rna.obs[r] == clus][\n",
    "    :, x].X > 0))) + \" vs. \" + str(int(100 * np.mean(s.rna[s.rna.obs[\n",
    "        r].isin(comp)][:, x].X > 0))) + \"%\" for x in [\"LYVE1\"]])\n",
    "f\"{clus} compared to {comp}: {ccc}\""
   ]
  },
  {
   "cell_type": "code",
   "execution_count": null,
   "metadata": {},
   "outputs": [],
   "source": [
    "# Stricture-50006C\n",
    "i = -1\n",
    "s = selves[i]\n",
    "r = \"leiden_res1pt5_dist0_npc30\"\n",
    "clus = \"27\"\n",
    "comp = list(s.rna.obs[r].unique())\n",
    "comp = list(set(comp).difference(set([clus])))\n",
    "ccc = \", \".join([x + \": \" + str(int(100 * np.mean(s.rna[s.rna.obs[r] == clus][\n",
    "    :, x].X > 0))) + \" vs. \" + str(int(100 * np.mean(s.rna[s.rna.obs[\n",
    "        r].isin(comp)][:, x].X > 0))) + \"%\" for x in assign[\n",
    "            assign.Bin == \"Endothelial\"].index.intersection(s.rna.var_names)])\n",
    "f\"{clus} compared to {comp}: {ccc}\""
   ]
  },
  {
   "cell_type": "code",
   "execution_count": null,
   "metadata": {},
   "outputs": [],
   "source": [
    "# Stricture-50006C\n",
    "i = -1\n",
    "s = selves[i]\n",
    "r = \"leiden_res1pt5_dist0_npc30\"\n",
    "clus = \"31\"\n",
    "comp = [\"4\"]\n",
    "comp = list(set(comp).difference(set([clus])))\n",
    "ccc = \", \".join([x + \": \" + str(int(100 * np.mean(s.rna[s.rna.obs[r] == clus][\n",
    "    :, x].X > 0))) + \" vs. \" + str(int(100 * np.mean(s.rna[s.rna.obs[\n",
    "        r].isin(comp)][:, x].X > 0))) + \"%\" for x in assign[\n",
    "            assign.Bin == \"Glia\"].index.intersection(s.rna.var_names)])\n",
    "f\"{clus} compared to {comp}: {ccc}\""
   ]
  },
  {
   "cell_type": "markdown",
   "metadata": {},
   "source": [
    "### Uninflamed-50336C\n"
   ]
  },
  {
   "cell_type": "code",
   "execution_count": null,
   "metadata": {},
   "outputs": [],
   "source": [
    "# Stricture-50006C\n",
    "i = 0\n",
    "s = selves[i]\n",
    "r = \"leiden_res1pt5_dist0_npc30\"\n",
    "clus = \"9\"\n",
    "# comp = [\"4\"]\n",
    "comp = list(s.rna.obs[r].unique())\n",
    "comp = list(set(comp).difference(set([clus])))\n",
    "ccc = \", \".join([x + \": \" + str(int(100 * np.mean(s.rna[s.rna.obs[r] == clus][\n",
    "    :, x].X > 0))) + \" vs. \" + str(int(100 * np.mean(s.rna[s.rna.obs[\n",
    "        r].isin(comp)][:, x].X > 0))) + \"%\" for x in assign[\n",
    "            assign.group == \"LYVE1+ Macrophage\"].index.intersection(\n",
    "                s.rna.var_names)])\n",
    "f\"{clus} compared to {comp}: {ccc}\""
   ]
  },
  {
   "cell_type": "code",
   "execution_count": null,
   "metadata": {},
   "outputs": [],
   "source": [
    "# Stricture-50006C\n",
    "i = 0\n",
    "s = selves[i]\n",
    "r = \"leiden_res1pt5_dist0_npc30\"\n",
    "clus = \"0\"\n",
    "# comp = [\"4\"]\n",
    "comp = list(s.rna.obs[r].unique())\n",
    "comp = list(set(comp).difference(set([clus])))\n",
    "ccc = \", \".join([x + \": \" + str(int(100 * np.mean(s.rna[s.rna.obs[r] == clus][\n",
    "    :, x].X > 0))) + \" vs. \" + str(int(100 * np.mean(s.rna[s.rna.obs[\n",
    "        r].isin(comp)][:, x].X > 0))) + \"%\" for x in assign[\n",
    "            assign.Bucket == \"B Cell\"].index.intersection(\n",
    "                s.rna.var_names)])\n",
    "f\"{clus} compared to {comp}: {ccc}\""
   ]
  },
  {
   "cell_type": "code",
   "execution_count": null,
   "metadata": {},
   "outputs": [],
   "source": [
    "# Stricture-50006C\n",
    "# Stem/TA\n",
    "i = 0\n",
    "s = selves[i]\n",
    "r = \"leiden_res1pt5_dist0_npc30\"\n",
    "ggx = assign[assign[\"group\"].isin([\"Stem cells\",\n",
    "                                   \"Proximal progenitor\"])].index\n",
    "# ggx = [\"LGR5\"]\n",
    "clus = \"13\"\n",
    "comp = [\"2\"]\n",
    "# comp = list(s.rna.obs[r].unique())\n",
    "ccc = \", \".join([x + \": \" + str(int(100 * np.mean(s.rna[s.rna.obs[r] == clus][\n",
    "    :, x].X > 0))) + \" vs. \" + str(int(100 * np.mean(s.rna[s.rna.obs[r].isin(\n",
    "        list(set(comp).difference(set([clus]))))][:, x].X > 0))) + \"%\"\n",
    "    for x in set(ggx).intersection(s.rna.var_names)])\n",
    "f\"{clus} compared to {comp}: {ccc}\""
   ]
  },
  {
   "cell_type": "code",
   "execution_count": null,
   "metadata": {},
   "outputs": [],
   "source": [
    "# Stricture-50006C\n",
    "# Goblet\n",
    "i = 0\n",
    "s = selves[i]\n",
    "r = \"leiden_res1pt5_dist0_npc30\"\n",
    "ggx = assign[assign[\"Bin\"].isin([\"Goblet\"])].index\n",
    "# ggx = [\"LGR5\"]\n",
    "clus = \"14\"\n",
    "comp = [\"3\"]\n",
    "# comp = list(s.rna.obs[r].unique())\n",
    "ccc = \", \".join([x + \": \" + str(int(100 * np.mean(s.rna[s.rna.obs[r] == clus][\n",
    "    :, x].X > 0))) + \" vs. \" + str(int(100 * np.mean(s.rna[s.rna.obs[r].isin(\n",
    "        list(set(comp).difference(set([clus]))))][:, x].X > 0))) + \"%\"\n",
    "    for x in set(ggx).intersection(s.rna.var_names)])\n",
    "f\"{clus} compared to {comp}: {ccc}\""
   ]
  },
  {
   "cell_type": "code",
   "execution_count": null,
   "metadata": {},
   "outputs": [],
   "source": [
    "# Stricture-50006C\n",
    "# Stem/Paneth\n",
    "i = 0\n",
    "s = selves[i]\n",
    "r = \"leiden_res1pt5_dist0_npc30\"\n",
    "ggx = [\"LYZ\", \"LCN2\", \"RAMP1\"]\n",
    "clus = \"19\"\n",
    "comp = [\"3\"]\n",
    "# comp = list(s.rna.obs[r].unique())\n",
    "ccc = \", \".join([x + \": \" + str(int(100 * np.mean(s.rna[s.rna.obs[r] == clus][\n",
    "    :, x].X > 0))) + \" vs. \" + str(int(100 * np.mean(s.rna[s.rna.obs[r].isin(\n",
    "        list(set(comp).difference(set([clus]))))][:, x].X > 0))) + \"%\"\n",
    "    for x in set(ggx).intersection(s.rna.var_names)])\n",
    "f\"{clus} compared to {comp}: {ccc}\""
   ]
  },
  {
   "cell_type": "code",
   "execution_count": null,
   "metadata": {},
   "outputs": [],
   "source": [
    "# Stricture-50006C\n",
    "# Stem/Paneth\n",
    "i = 0\n",
    "s = selves[i]\n",
    "r = \"leiden_res1pt5_dist0_npc30\"\n",
    "ggx = assign[assign[\"group\"].isin([\"Mast Cell\"])].index\n",
    "clus = \"24\"\n",
    "comp = list(s.rna.obs[r].unique())\n",
    "ccc = \", \".join([x + \": \" + str(int(100 * np.mean(s.rna[s.rna.obs[r] == clus][\n",
    "    :, x].X > 0))) + \" vs. \" + str(int(100 * np.mean(s.rna[s.rna.obs[r].isin(\n",
    "        list(set(comp).difference(set([clus]))))][:, x].X > 0))) + \"%\"\n",
    "    for x in set(ggx).intersection(s.rna.var_names)])\n",
    "f\"{clus} compared to {comp}: {ccc}\""
   ]
  },
  {
   "cell_type": "code",
   "execution_count": null,
   "metadata": {},
   "outputs": [],
   "source": [
    "# Stricture-50006C\n",
    "# MF/DP\n",
    "i = 0\n",
    "s = selves[i]\n",
    "r = \"leiden_res1pt5_dist0_npc30\"\n",
    "ggx = assign[assign[\"Bin\"].isin([\"Myofibroblast\"])].index\n",
    "clus = \"31\"\n",
    "# comp = list(s.rna.obs[r].unique())\n",
    "# comp = [\"1\", \"6\"]\n",
    "comp = [\"17\", \"22\"]\n",
    "ccc = \", \".join([x + \": \" + str(int(100 * np.mean(s.rna[s.rna.obs[r] == clus][\n",
    "    :, x].X > 0))) + \" vs. \" + str(int(100 * np.mean(s.rna[s.rna.obs[r].isin(\n",
    "        list(set(comp).difference(set([clus]))))][:, x].X > 0))) + \"%\"\n",
    "    for x in set(ggx).intersection(s.rna.var_names)])\n",
    "f\"{clus} compared to {comp}: {ccc}\""
   ]
  },
  {
   "cell_type": "code",
   "execution_count": null,
   "metadata": {},
   "outputs": [],
   "source": [
    "# Stricture-50006C\n",
    "# SMC/MF/DP\n",
    "i = 0\n",
    "s = selves[i]\n",
    "r = \"leiden_res1pt5_dist0_npc30\"\n",
    "ggx = assign[assign[\"Bin\"].isin([\"SMC\"])].index\n",
    "clus = \"1\"\n",
    "comp = [\"6\"]\n",
    "ccc = \", \".join([x + \": \" + str(int(100 * np.mean(s.rna[s.rna.obs[r] == clus][\n",
    "    :, x].X > 0))) + \" vs. \" + str(int(100 * np.mean(s.rna[s.rna.obs[r].isin(\n",
    "        list(set(comp).difference(set([clus]))))][:, x].X > 0))) + \"%\"\n",
    "    for x in set(ggx).intersection(s.rna.var_names)])\n",
    "f\"{clus} compared to {comp}: {ccc}\""
   ]
  },
  {
   "cell_type": "markdown",
   "metadata": {},
   "source": [
    "## CD34"
   ]
  },
  {
   "cell_type": "code",
   "execution_count": null,
   "metadata": {},
   "outputs": [],
   "source": [
    "import matplotlib.pyplot as plt\n",
    "\n",
    "gene = \"CD34\"\n",
    "thr = np.arange(1, 15)  # thresholds\n",
    "fig, axes = plt.subplots(1, len(selves))\n",
    "for i, s in enumerate(selves):\n",
    "    print(f\"{s._library_id}: {np.sum(s.rna[:, gene].X > 0)} / {s.rna.n_obs}\")\n",
    "    a_x = axes[i].bar(thr, [np.sum(s.rna[:, gene].X >= i) for i in thr])\n",
    "    axes[i].set_title(s._library_id)\n",
    "    # for x in s.rna.obs[f\"leiden_{r}\"].unique():\n",
    "    #     print(str(x) + \": \" + np.mean(s.rna[s.rna.obs[\n",
    "    #         f\"leiden_{r}\"] == x][:, \"CD34\"].X > 0))\n",
    "fig.suptitle(\"Total Cells above Count Thresholds for CD34\")"
   ]
  },
  {
   "cell_type": "markdown",
   "metadata": {},
   "source": [
    "## CSF"
   ]
  },
  {
   "cell_type": "code",
   "execution_count": null,
   "metadata": {},
   "outputs": [],
   "source": [
    "csf, thresh, ggg = [np.nan] * len(selves), [1, 2, 3, 4], [\n",
    "    \"CSF1\", \"CSF2\", \"CSF3\"]\n",
    "for i, s in enumerate(selves):\n",
    "    s.get_layer(\"counts\", inplace=True)\n",
    "    csf[i] = pd.DataFrame(dict(\n",
    "        Gene=ggg * len(thresh), Threshold=[t for t in thresh for g in ggg],\n",
    "        Count=np.nan, Total=[s.rna.n_obs] * len(ggg) * len(thresh))).assign(\n",
    "            Sample=s._library_id, Condition=s._library_id.split(\n",
    "                \"-\")[0]).set_index([\"Threshold\", \"Gene\"])\n",
    "    for t in thresh:\n",
    "        csf[i].loc[t, \"Count\"] = [np.sum(s.rna[:, g].X >= t)\n",
    "                                  for g in csf[i].loc[t].index]\n",
    "csf = pd.concat(csf).set_index(\"Sample\", append=True).sort_index()\n",
    "csf = csf.assign(Ratio=csf.Count / csf.Total)\n",
    "csf"
   ]
  },
  {
   "cell_type": "code",
   "execution_count": null,
   "metadata": {},
   "outputs": [],
   "source": [
    "ggg = [\"CSF1\", \"CSF2\", \"CSF3\"]\n",
    "tx_cts = {}\n",
    "for s in selves:\n",
    "    s.get_layer(\"counts\", inplace=True)\n",
    "    tx_cts[s._library_id] = pd.Series([s.rna[:, g].X.sum(\n",
    "        ) for g in ggg], index=pd.Index(ggg, name=\"Gene\"))\n",
    "tx_cts = pd.concat(tx_cts, keys=tx_cts, names=[\"Sample\", \"Gene\"])\n",
    "tx_cts\n",
    "# tx_cts.to_csv(\"/home/elizabeth/elizabeth/projects/csf2rb/analysis\"\n",
    "#               \"/quantification_csf_tx_cts.csv\")"
   ]
  },
  {
   "cell_type": "code",
   "execution_count": null,
   "metadata": {},
   "outputs": [],
   "source": [
    "# txo = pd.read_csv(\"/home/elizabeth/elizabeth/projects/csf2rb/analysis\"\n",
    "#                   \"/quantification_csf_tx_cts.csv\", index_col=[\n",
    "#                       0, 1]).rename_axis(tx_cts.index.names).iloc[:, 0]\n",
    "# pd.concat([txo.drop(tx_cts.index.intersection(txo.index)), tx_cts]).to_csv(\n",
    "#     \"/home/elizabeth/elizabeth/projects/csf2rb/analysis\"\n",
    "#     \"/quantification_csf_tx_cts.csv\")"
   ]
  },
  {
   "cell_type": "code",
   "execution_count": null,
   "metadata": {},
   "outputs": [],
   "source": [
    "import seaborn as sb\n",
    "from statannotations.Annotator import Annotator\n",
    "import matplotlib.pyplot as plt\n",
    "\n",
    "csfp = csf[csf.Condition.isin([\"Inflamed\", \"Uninflamed\"])].set_index(\n",
    "    \"Condition\", append=True)[[\"Count\", \"Ratio\"]].rename_axis(\n",
    "        \"Metric\", axis=1).stack().to_frame(\"Score\")\n",
    "fig = sb.catplot(csfp.reset_index(), x=\"Gene\", y=\"Score\", col=\"Metric\",\n",
    "                 margin_titles=True,\n",
    "                 row=\"Threshold\", hue=\"Condition\", kind=\"bar\",\n",
    "                 sharex=False, sharey=False)\n",
    "for a in fig.axes[:, 1]:\n",
    "    a.set_ylim([0, max(csfp.Ratio, 0.3)])\n",
    "fig.fig.tight_layout()"
   ]
  },
  {
   "cell_type": "code",
   "execution_count": null,
   "metadata": {},
   "outputs": [],
   "source": [
    "arg = dict(x=\"Gene\", y=\"Ratio\", hue=\"Condition\", hue_order=[\n",
    "    \"Inflamed\", \"Uninflamed\"], order=[\"CSF1\", \"CSF2\"])\n",
    "fig = sb.catplot(kind=\"bar\", errorbar=\"se\", row=\"Threshold\", data=csfp, **arg)\n",
    "pairs = [\n",
    "    ((\"CSF1\", \"Inflamed\"), (\"CSF2\", \"Inflamed\")),\n",
    "    ((\"CSF1\", \"Uninflamed\"), (\"CSF2\", \"Uninflamed\")),\n",
    "    ((\"CSF1\", \"Uninflamed\"), (\"CSF1\", \"Inflamed\")),\n",
    "    ((\"CSF2\", \"Uninflamed\"), (\"CSF2\", \"Inflamed\"))\n",
    "]\n",
    "\n",
    "ant = Annotator(None, pairs)\n",
    "fig.map_dataframe(ant.plot_and_annotate_facets, plot_params=arg,\n",
    "                  plot=\"boxplot\", annotation_func=\"apply_test\",\n",
    "                  configuration={\"test\": \"wilcox\"})\n",
    "plt.show()"
   ]
  },
  {
   "cell_type": "code",
   "execution_count": null,
   "metadata": {},
   "outputs": [],
   "source": [
    "arg = dict(x=\"Gene\", y=\"Ratio\", hue=\"Condition\", hue_order=[\n",
    "    \"Inflamed\", \"Uninflamed\"], order=[\"CSF1\", \"CSF2\"])\n",
    "fig = sb.catplot(kind=\"bar\", errorbar=\"se\", row=\"Threshold\", data=csfp, **arg)\n",
    "pairs = [\n",
    "    ((\"CSF1\", \"Inflamed\"), (\"CSF2\", \"Inflamed\")),\n",
    "    ((\"CSF1\", \"Uninflamed\"), (\"CSF2\", \"Uninflamed\"))\n",
    "]\n",
    "\n",
    "ant = Annotator(None, pairs)\n",
    "fig.map_dataframe(ant.plot_and_annotate_facets, plot_params=arg,\n",
    "                  plot=\"boxplot\", annotation_func=\"apply_test\",\n",
    "                  configuration={\"test\": \"wilcox\"})\n",
    "plt.show()"
   ]
  },
  {
   "cell_type": "code",
   "execution_count": null,
   "metadata": {},
   "outputs": [],
   "source": [
    "csfp = csf.reset_index()\n",
    "arg = dict(x=\"Gene\", y=\"Ratio\", hue=\"Condition\", hue_order=[\n",
    "    \"Inflamed\", \"Uninflamed\"], order=[\"CSF1\", \"CSF2\"])\n",
    "fig = sb.catplot(kind=\"bar\", errorbar=\"se\", row=\"Threshold\", data=csfp, **arg)\n",
    "# fig.map(sb.stripplot, arg[\"x\"], arg[\"y\"], arg[\"hue\"],\n",
    "#         hue_order=arg[\"hue_order\"], order=arg[\"order\"], dodge=True,\n",
    "#         palette=sb.color_palette(), alpha=0.6, linewidth=1)\n",
    "pairs = [\n",
    "    ((\"CSF1\", \"Inflamed\"), (\"CSF2\", \"Inflamed\")),\n",
    "    ((\"CSF1\", \"Uninflamed\"), (\"CSF2\", \"Uninflamed\")),\n",
    "    ((\"CSF1\", \"Uninflamed\"), (\"CSF1\", \"Inflamed\")),\n",
    "    ((\"CSF2\", \"Uninflamed\"), (\"CSF2\", \"Inflamed\"))\n",
    "]\n",
    "for t, ax in fig.axes_dict.items():\n",
    "        annot = Annotator(ax, pairs, **arg, data=csfp[csfp.Threshold == t])\n",
    "        annot.configure(test=\"Mann-Whitney\", text_format=\"simple\",\n",
    "                        loc=\"inside\", verbose=2)\n",
    "        annot.apply_test().annotate()"
   ]
  },
  {
   "cell_type": "code",
   "execution_count": null,
   "metadata": {},
   "outputs": [],
   "source": [
    "csfp = csf[csf.Condition.isin([\"Inflamed\", \"Uninflamed\"])].set_index(\n",
    "    \"Condition\", append=True)[[\"Count\", \"Ratio\"]].rename_axis(\n",
    "        \"Metric\", axis=1).stack().to_frame(\"Score\")\n",
    "fig = sb.catplot(csfp, x=\"Gene\", y=\"Score\", col=\"Metric\", margin_titles=True,\n",
    "                 row=\"Threshold\", kind=\"bar\", errorbar=\"se\",\n",
    "                 sharex=False, sharey=False)\n",
    "for a in fig.axes[:, 1]:\n",
    "    a.set_ylim([0, max([csf.Ratio.max(), 0.3])])\n",
    "fig.fig.tight_layout()"
   ]
  },
  {
   "cell_type": "markdown",
   "metadata": {},
   "source": [
    "## Aligned Images"
   ]
  },
  {
   "cell_type": "code",
   "execution_count": null,
   "metadata": {},
   "outputs": [],
   "source": [
    "landmarks = ShapesModel.parse(\n",
    "    np.array([[10556.699, 7829.764], [13959.155, 13522.025], [10621.200, 17392.116]]), geometry=0, radius=500\n",
    ")\n",
    "visium_sdata[\"visium_landmarks\"] = visium_landmarks\n",
    "\n",
    "xenium_landmarks = ShapesModel.parse(\n",
    "    np.array([[9438.385, 13933.017], [24847.866, 5948.002], [34082.584, 15234.235]]), geometry=0, radius=500\n",
    ")\n",
    "xenium_sdata[\"xenium_landmarks\"] = xenium_landmarks"
   ]
  },
  {
   "cell_type": "code",
   "execution_count": null,
   "metadata": {},
   "outputs": [],
   "source": [
    "import spatialdata_io as sdio\n",
    "from spatialdata.models import ShapesModel\n",
    "\n",
    "fai = os.path.join(\n",
    "    \"~/corescpy/examples/data/spatial\",\n",
    "    \"Stricture-50452C__P53Red_P16Green_DAPIBlue.ome.tif\")\n",
    "faa = os.path.join(\n",
    "    \"~/corescpy/examples/data/spatial\",\n",
    "    \"Stricture-50452C__P53Red_P16Green_DAPIBlue_matrix.csv\")\n",
    "\n",
    "img = sdio.xenium_aligned_image(fai, faa)"
   ]
  }
 ],
 "metadata": {
  "kernelspec": {
   "display_name": "py-bio",
   "language": "python",
   "name": "python3"
  },
  "language_info": {
   "codemirror_mode": {
    "name": "ipython",
    "version": 3
   },
   "file_extension": ".py",
   "mimetype": "text/x-python",
   "name": "python",
   "nbconvert_exporter": "python",
   "pygments_lexer": "ipython3",
   "version": "3.10.4"
  }
 },
 "nbformat": 4,
 "nbformat_minor": 2
}
