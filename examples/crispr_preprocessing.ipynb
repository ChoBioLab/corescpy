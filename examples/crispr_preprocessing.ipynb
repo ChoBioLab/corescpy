{
 "cells": [
  {
   "cell_type": "markdown",
   "metadata": {},
   "source": [
    "# Setup\n",
    "\n",
    "The package is imported as `cr` in this chunk. Sub-modules can be called using:\n",
    "- `cr.pp` (functions in the `crispr/processing` directory scripts)\n",
    "- `cr.ax` (functions in the `crispr/processing` directory scripts)\n",
    "- `cr.pl` (functions in the `crispr/visualization` directory scripts)\n",
    "- `cr.tl` (functions in the `crispr/utils` directory scripts)\n",
    "\n",
    "You can access functions this way directly (e.g., `cr.tl.print_counts()`) if they are \"exposed,\" i.e., listed in the `__init__.py` script under a given sub-module (e.g., `crispr/processing/__init__.py`).\n",
    "\n",
    "Other functions or objects you may need to import (e.g., the default perturbation layer name, using `from crispr.analysis.perturbations import layer_perturbation`); however, most or all functions are exposed.\n",
    "\n",
    "There are also certain `Crispr` class initialization arguments defined here. No need to change anything***; these arguments are all just to identify columns in the CRISPR screening data and such.\n",
    "\n",
    "You will specify arguments to your liking in the next chunk of code under the \"Options\" section.\n",
    "\n",
    "---\n",
    "\n",
    "\\*** One exception may be `col_cell_type` to \"leiden\" or \"majority_voting\" if you want one of those as the default cell type label used in downstream processes, though you can always just specify something different using the `col_cell_type` argument in a given method."
   ]
  },
  {
   "cell_type": "code",
   "execution_count": 6,
   "metadata": {},
   "outputs": [
    {
     "name": "stdout",
     "output_type": "stream",
     "text": [
      "The autoreload extension is already loaded. To reload it, use:\n",
      "  %reload_ext autoreload\n"
     ]
    }
   ],
   "source": [
    "%load_ext autoreload\n",
    "%autoreload 2\n",
    "\n",
    "import crispr as cr\n",
    "from crispr.class_sc import Omics\n",
    "from anndata import AnnData\n",
    "import scanpy as sc\n",
    "import copy\n",
    "import os\n",
    "import seaborn as sns\n",
    "import matplotlib.pyplot as plt\n",
    "import pandas as pd\n",
    "from examples import config\n",
    "\n",
    "col_sample_id = \"orig.ident\"\n",
    "kws_harmony = dict(plot_convergence=True, random_state=1618)\n",
    "kws_init = dict(assay=None, assay_protein=None, col_sample_id=None,\n",
    "                col_gene_symbols=\"gene_symbols\",\n",
    "                col_cell_type=\"predicted_labels\",\n",
    "                col_perturbed=\"perturbation\",\n",
    "                col_guide_rna=\"feature_call\",\n",
    "                col_num_umis=\"num_umis\",\n",
    "                col_condition=\"target_gene_name\",\n",
    "                key_control=\"NT\", key_treatment=\"KD\")"
   ]
  },
  {
   "cell_type": "code",
   "execution_count": 17,
   "metadata": {},
   "outputs": [
    {
     "name": "stdout",
     "output_type": "stream",
     "text": [
      "method_cluster=\"leiden\"\n",
      "kws_umap=dict(min_dist = \"0.3\")\n",
      "kws_neighbors=None\n",
      "resolution=\"1.2\"\n",
      "kws_pca=dict(n_comps = \"20\", use_highly_variable = \"True\")\n"
     ]
    }
   ],
   "source": [
    "cr.tl.print_pretty_dictionary(kws_cluster)"
   ]
  },
  {
   "cell_type": "markdown",
   "metadata": {},
   "source": [
    "# File Path\n",
    "\n",
    "Here I specify the file paths for HH03-HH06. Each dataset is specified via `{\"directory\": <FILE_PATH>}` to signify that it's a CellRanger output.\n",
    "\n",
    "I specify the `file_path` argument via code below in order to detect where your data are relative to the working directory of this script; however, in practice, you can specify paths directly/manually. \n",
    "\n",
    "For example, you can specify as a dictionary of multiple files in order to :integrate the samples into one object using Harmony.\n",
    "\n",
    "```\n",
    "file_path = {\"HH03_normoxia_noMDP\": {\"directory\": \"/home/elizabeth/elizabeth/crispr/examples/data/crispr-screening/HH03\"},\n",
    "             \"HH04_normoxia_MDP\": {\"directory\": \"/home/elizabeth/elizabeth/crispr/examples/data/crispr-screening/HH04\"},\n",
    "             \"HH05_hypoxia_noMDP\": {\"directory\": \"/home/elizabeth/elizabeth/crispr/examples/data/crispr-screening/HH05\"},\n",
    "             \"HH06_hypoxia_MDP\": {\"directory\": \"/home/elizabeth/elizabeth/crispr/examples/data/crispr-screening/HH06\"}}\n",
    "self = cr.Crispr(file_path)\n",
    "```\n",
    "\n",
    "If you use this method, you'd need to specify certain initialization arguments differently. Refer to `crispr/examples/crispr_integration.ipynb` for an example.\n",
    "\n",
    "---\n",
    "\n",
    "**In this notebook**, for ease of examining minimally-processed objects separately, we will create multiple objects, using each element of the `file_path_list` as the `file_path` argument for each dataset. This will return a list of individual objects (instantiations of the class defined in `crispr/class_crispr.py`) for each dataset.\n",
    "\n",
    "```\n",
    "file_path_list = [{\"directory\": \"/home/elizabeth/elizabeth/crispr/examples/data/crispr-screening/HH03\"},\n",
    "                  {\"directory\": \"/home/elizabeth/elizabeth/crispr/examples/data/crispr-screening/HH04\"},\n",
    "                  {\"directory\": \"/home/elizabeth/elizabeth/crispr/examples/data/crispr-screening/HH05\"},\n",
    "                  {\"directory\": \"/home/elizabeth/elizabeth/crispr/examples/data/crispr-screening/HH06\"}]\n",
    "selves = [cr.Crispr(file_path)]\n",
    "```"
   ]
  },
  {
   "cell_type": "code",
   "execution_count": 2,
   "metadata": {},
   "outputs": [],
   "source": [
    "file_path = [\"HH03_normoxia_noMDP\", \"HH04_normoxia_MDP\",\n",
    "             \"HH05_hypoxia_noMDP\", \"HH06_hypoxia_MDP\"]\n",
    "file_path = dict([(x, {\"directory\": os.path.join(\n",
    "    config.DIR, \"crispr-screening\", x.split(\"_\")[0])}) for x in file_path])\n",
    "file_path_list = [file_path[x] for x in file_path]"
   ]
  },
  {
   "cell_type": "markdown",
   "metadata": {},
   "source": [
    "# Options\n",
    "\n",
    "These first options you may want to fiddle with."
   ]
  },
  {
   "cell_type": "markdown",
   "metadata": {},
   "source": [
    "## Guide RNA Processing"
   ]
  },
  {
   "cell_type": "code",
   "execution_count": 8,
   "metadata": {},
   "outputs": [],
   "source": [
    "kws_process_guide_rna = dict(feature_split = \"|\", guide_split = \"-\", \n",
    "                             key_control_patterns = [\"CTRL\"], \n",
    "                             remove_multi_transfected = True)"
   ]
  },
  {
   "cell_type": "markdown",
   "metadata": {},
   "source": [
    "## scRNA-seq Pre-Processing & Clustering\n",
    "\n",
    "You don't necessarily need to change these, but you can if you want to fiddle with the options. \n",
    "\n",
    "More options are available for greater customization. See the docstring in the functions in `crispr/processing/preprocessing.py` (the `cr.pp` module, if you imported the package using `import crispr as cr` as is done in the first chunk in this notebook) and `crispr/analysis/clustering.py`. \n",
    "\n",
    "The main wrapper function for preprocessing is `cr.pp.process_data()`. This function calls additional functions in the same script (and some others in the visualization module, `crispr/visualization/preprocessing.py`)"
   ]
  },
  {
   "cell_type": "code",
   "execution_count": 14,
   "metadata": {},
   "outputs": [],
   "source": [
    "kws_umap = dict(min_dist=0.3)\n",
    "kws_pp = {\"kws_hvg\": {\"min_mean\": 0.0125, \"max_mean\": 10, \n",
    "                      \"min_disp\": 0.5, \"flavor\": \"cell_ranger\"}, \n",
    "          \"target_sum\": 10000.0, \n",
    "          \"cell_filter_pmt\": [0, 15], \n",
    "          \"cell_filter_ngene\": [200, 7000], \n",
    "          \"cell_filter_ncounts\": [500, 60000], \n",
    "          \"gene_filter_ncell\": [3, None], \n",
    "          \"kws_scale\": \"z\", \"regress_out\": None, \"kws_umap\": kws_umap}\n",
    "kws_cluster = {\"method_cluster\": \"leiden\", \"kws_umap\": kws_umap, \n",
    "               \"kws_neighbors\": None, \"resolution\": 1.2,\n",
    "               \"kws_pca\": {\"n_comps\": 20, \"use_highly_variable\": True}}"
   ]
  },
  {
   "cell_type": "markdown",
   "metadata": {},
   "source": [
    "# Data"
   ]
  },
  {
   "cell_type": "code",
   "execution_count": null,
   "metadata": {},
   "outputs": [],
   "source": [
    "selves = [cr.Crispr(f, **kws_init, kws_process_guide_rna=kws_grna) \n",
    "          for f in file_path_list] # create object"
   ]
  }
 ],
 "metadata": {
  "kernelspec": {
   "display_name": "py-bio",
   "language": "python",
   "name": "python3"
  },
  "language_info": {
   "codemirror_mode": {
    "name": "ipython",
    "version": 3
   },
   "file_extension": ".py",
   "mimetype": "text/x-python",
   "name": "python",
   "nbconvert_exporter": "python",
   "pygments_lexer": "ipython3",
   "version": "3.10.4"
  }
 },
 "nbformat": 4,
 "nbformat_minor": 2
}
