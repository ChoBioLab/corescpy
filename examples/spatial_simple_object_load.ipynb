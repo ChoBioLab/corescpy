{
 "cells": [
  {
   "cell_type": "markdown",
   "metadata": {},
   "source": [
    "# Setup"
   ]
  },
  {
   "cell_type": "code",
   "execution_count": 1,
   "metadata": {},
   "outputs": [
    {
     "name": "stderr",
     "output_type": "stream",
     "text": [
      "<frozen importlib._bootstrap>:241: RuntimeWarning: numpy.ndarray size changed, may indicate binary incompatibility. Expected 16 from C header, got 96 from PyObject\n"
     ]
    },
    {
     "data": {
      "text/html": [
       "<pre style=\"white-space:pre;overflow-x:auto;line-height:normal;font-family:Menlo,'DejaVu Sans Mono',consolas,'Courier New',monospace\"><span style=\"color: #808000; text-decoration-color: #808000; font-weight: bold\">ryp2 is not installed. Install with </span><span style=\"color: #008000; text-decoration-color: #008000; font-weight: bold\">pip install rpy2 </span><span style=\"color: #808000; text-decoration-color: #808000; font-weight: bold\">to run tools with R support.</span>\n",
       "</pre>\n"
      ],
      "text/plain": [
       "\u001b[1;33mryp2 is not installed. Install with \u001b[0m\u001b[1;32mpip install rpy2 \u001b[0m\u001b[1;33mto run tools with R support.\u001b[0m\n"
      ]
     },
     "metadata": {},
     "output_type": "display_data"
    },
    {
     "name": "stderr",
     "output_type": "stream",
     "text": [
      "Downloading data from `https://omnipathdb.org/queries/enzsub?format=json`\n",
      "Downloading data from `https://omnipathdb.org/queries/interactions?format=json`\n",
      "Downloading data from `https://omnipathdb.org/queries/complexes?format=json`\n",
      "Downloading data from `https://omnipathdb.org/queries/annotations?format=json`\n",
      "Downloading data from `https://omnipathdb.org/queries/intercell?format=json`\n",
      "Downloading data from `https://omnipathdb.org/about?format=text`\n"
     ]
    }
   ],
   "source": [
    "%load_ext autoreload\n",
    "%autoreload 2\n",
    "\n",
    "import os\n",
    "import re\n",
    "import functools\n",
    "import spatialdata\n",
    "import spatialdata_plot\n",
    "import spatialdata_io as sdio\n",
    "import numpy as np\n",
    "import pandas as pd\n",
    "import corescpy as cr"
   ]
  },
  {
   "cell_type": "markdown",
   "metadata": {},
   "source": [
    "## Find File Name"
   ]
  },
  {
   "cell_type": "code",
   "execution_count": 2,
   "metadata": {},
   "outputs": [],
   "source": [
    "# File Paths\n",
    "libid = \"50006B\"\n",
    "ddd = \"/mnt/cho_lab/disk2/elizabeth/data/shared-xenium-library\"\n",
    "dir_data = \"/mnt/cho_lab/bbdata2/outputs/TUQ97N\"  # data directory\n",
    "out_dir = os.path.join(ddd, \"outputs/TUQ97N/nebraska\")  # output directory\n",
    "file_mdf = os.path.join(ddd, \"samples.csv\")  # metadata\n",
    "files = functools.reduce(lambda i, j: i + j, [[os.path.join(\n",
    "    run, i) for i in os.listdir(os.path.join(\n",
    "        dir_data, run))] for run in os.listdir(dir_data)])  # all data paths\n",
    "\n",
    "# Metadata\n",
    "col_inflamed, col_stricture, cso, col_sample, col_subject, col_condition = (\n",
    "    \"Inflamed\", \"Stricture\", \"Sample ID\", \"Sample\", \"Patient\", \"Condition\")\n",
    "key_uninfl, key_infl, key_stric = \"Uninflamed\", \"Inflamed\", \"Stricture\"\n",
    "m_d = (pd.read_excel if file_mdf[-4:] == \"xlsx\" else pd.read_csv)(\n",
    "    file_mdf, dtype={\"Slide ID\": str}).rename({\n",
    "        \"Name\": col_subject, \"Inflammation\": col_inflamed}, axis=1)\n",
    "m_d.loc[:, col_condition] = m_d.apply(lambda x: \"Stricture\" if x[\n",
    "    col_stricture].lower() in [\"stricture\", \"yes\"] else x[\n",
    "        col_inflamed].capitalize(), axis=1)  # inflamation/stricture condition\n",
    "m_d.loc[:, col_sample] = m_d[[col_condition, cso]].apply(\"-\".join, axis=1)\n",
    "\n",
    "# Find File Path & Condition-ID String\n",
    "file_path = np.array(files)[np.where([libid == os.path.basename(\n",
    "    x).split(\"__\")[2].split(\"-\")[0] for x in files])[0][0]]\n",
    "lib = m_d.reset_index().set_index(cso).loc[libid][col_sample]"
   ]
  },
  {
   "cell_type": "markdown",
   "metadata": {},
   "source": [
    "## Load Data"
   ]
  },
  {
   "cell_type": "code",
   "execution_count": 3,
   "metadata": {},
   "outputs": [
    {
     "name": "stdout",
     "output_type": "stream",
     "text": [
      "\n",
      "\n",
      "<<< INITIALIZING SPATIAL CLASS OBJECT >>>\n",
      "\n",
      "\u001b[34mINFO    \u001b[0m reading                                                                                                   \n",
      "         \u001b[35m/mnt/cho_lab/bbdata2/outputs/TUQ97N/CHO-007/output-XETG00189__0022407__50006B-TUQ97N-EA__20240411__205514/\u001b[0m\n",
      "         \u001b[95mcell_feature_matrix.h5\u001b[0m                                                                                    \n"
     ]
    },
    {
     "name": "stdout",
     "output_type": "stream",
     "text": [
      "WARNING: Unable to find `y`, `x` or `z` dimension in `('c', 'y', 'x')`. Renaming to `('channels', 'y', 'x', 'z')`\n",
      "WARNING: Unable to find `y`, `x` or `z` dimension in `('c', 'y', 'x')`. Renaming to `('channels', 'y', 'x', 'z')`\n",
      "WARNING: Unable to find `y`, `x` or `z` dimension in `('c', 'y', 'x')`. Renaming to `('channels', 'y', 'x', 'z')`\n",
      "WARNING: Unable to find `y`, `x` or `z` dimension in `('c', 'y', 'x')`. Renaming to `('channels', 'y', 'x', 'z')`\n",
      "WARNING: Unable to find `y`, `x` or `z` dimension in `('c', 'y', 'x')`. Renaming to `('channels', 'y', 'x', 'z')`\n",
      "\n",
      "\n",
      "================================================================================\n",
      "Counts: Initial\n",
      "================================================================================\n",
      "\n",
      "\n",
      "\tObservations: 116837\n",
      "\n",
      "\tGenes: 469\n",
      "\n",
      "\n",
      "\n",
      "================================================================================\n",
      "\n",
      "\n",
      "\n",
      "\n",
      " AnnData object with n_obs × n_vars = 116837 × 469\n",
      "    obs: 'cell_id', 'transcript_counts', 'control_probe_counts', 'control_codeword_counts', 'unassigned_codeword_counts', 'deprecated_codeword_counts', 'total_counts', 'cell_area', 'nucleus_area', 'region', 'z_level', 'nucleus_count', 'cell_labels', 'Sample'\n",
      "    var: 'gene_ids', 'feature_types', 'genome'\n",
      "    uns: 'spatialdata_attrs', 'spatial', 'original_ix'\n",
      "    obsm: 'spatial'\n",
      "    layers: 'counts' \n",
      "\n",
      "                      gene_ids    feature_types   genome\n",
      "gene_symbols                                           \n",
      "ABCA7         ENSG00000064687  Gene Expression  Unknown\n",
      "ACTA2         ENSG00000107796  Gene Expression  Unknown\n",
      "ACTG2         ENSG00000163017  Gene Expression  Unknown\n",
      "ADAM15        ENSG00000143537  Gene Expression  Unknown\n",
      "ADAM28        ENSG00000042980  Gene Expression  Unknown \n",
      "\n",
      " \n",
      "\n",
      "\n",
      "\n",
      "col_gene_symbols=\"gene_symbols\"\n",
      "col_cell_type=\"leiden\"\n",
      "col_sample_id=\"Sample\"\n",
      "col_batch=\"Sample\"\n",
      "col_subject=None\n",
      "col_condition=None\n",
      "col_num_umis=None\n",
      "col_segment=\"region\"\n",
      "\n",
      "\n",
      "\n",
      "key_control=None\n",
      "key_treatment=None\n",
      "\n",
      "\n",
      "<<< RESTORING SINGLE-SAMPLE FROM h5ad >>>\n",
      "\n",
      "WARNING: Unable to find `y`, `x` or `z` dimension in `('c', 'y', 'x')`. Renaming to `('channels', 'y', 'x', 'z')`\n",
      "WARNING: Unable to find `y`, `x` or `z` dimension in `('c', 'y', 'x')`. Renaming to `('channels', 'y', 'x', 'z')`\n",
      "WARNING: Unable to find `y`, `x` or `z` dimension in `('c', 'y', 'x')`. Renaming to `('channels', 'y', 'x', 'z')`\n",
      "WARNING: Unable to find `y`, `x` or `z` dimension in `('c', 'y', 'x')`. Renaming to `('channels', 'y', 'x', 'z')`\n",
      "WARNING: Unable to find `y`, `x` or `z` dimension in `('c', 'y', 'x')`. Renaming to `('channels', 'y', 'x', 'z')`\n"
     ]
    },
    {
     "data": {
      "text/plain": [
       "SpatialData object with:\n",
       "├── Images\n",
       "│     └── 'morphology_focus': MultiscaleSpatialImage[cyx] (5, 34128, 51148), (5, 17064, 25574), (5, 8532, 12787), (5, 4266, 6393), (5, 2133, 3196)\n",
       "├── Labels\n",
       "│     ├── 'cell_labels': MultiscaleSpatialImage[yx] (34128, 51148), (17064, 25574), (8532, 12787), (4266, 6393), (2133, 3196)\n",
       "│     └── 'nucleus_labels': MultiscaleSpatialImage[yx] (34128, 51148), (17064, 25574), (8532, 12787), (4266, 6393), (2133, 3196)\n",
       "├── Points\n",
       "│     └── 'transcripts': DataFrame with shape: (<Delayed>, 11) (3D points)\n",
       "├── Shapes\n",
       "│     ├── 'cell_boundaries': GeoDataFrame shape: (116837, 1) (2D shapes)\n",
       "│     ├── 'cell_circles': GeoDataFrame shape: (116837, 2) (2D shapes)\n",
       "│     └── 'nucleus_boundaries': GeoDataFrame shape: (114734, 1) (2D shapes)\n",
       "└── Tables\n",
       "      └── 'table': AnnData (78976, 469)\n",
       "with coordinate systems:\n",
       "▸ 'global', with elements:\n",
       "        morphology_focus (Images), cell_labels (Labels), nucleus_labels (Labels), transcripts (Points), cell_boundaries (Shapes), cell_circles (Shapes), nucleus_boundaries (Shapes)"
      ]
     },
     "execution_count": 3,
     "metadata": {},
     "output_type": "execute_result"
    }
   ],
   "source": [
    "self = cr.Spatial(os.path.join(dir_data, file_path), library_id=lib)\n",
    "if os.path.exists(os.path.join(out_dir, f\"{lib}.h5ad\")):  # processed object?\n",
    "    self.update_from_h5ad(os.path.join(out_dir, f\"{lib}.h5ad\"))\n",
    "self.get_layer(\"counts\", inplace=True)  # start with integer counts data\n",
    "self.adata"
   ]
  },
  {
   "cell_type": "markdown",
   "metadata": {},
   "source": [
    "# Plot"
   ]
  },
  {
   "cell_type": "code",
   "execution_count": null,
   "metadata": {},
   "outputs": [],
   "source": [
    "# sdata.pl.render_shapes(\"cell_boundaries\").pl.show()  # not working?\n",
    "sdata.pl.render_labels(\"cell_labels\").pl.show()\n",
    "# sdata.pl.render_images(\"morphology_focus\").pl.show()  # takes long"
   ]
  },
  {
   "cell_type": "markdown",
   "metadata": {},
   "source": [
    "# See Transcripts Data"
   ]
  },
  {
   "cell_type": "code",
   "execution_count": null,
   "metadata": {},
   "outputs": [],
   "source": [
    "points = self.adata.points[\"transcripts\"].compute()\n",
    "points"
   ]
  },
  {
   "cell_type": "markdown",
   "metadata": {},
   "source": [
    "# Crop Data by Xenium Explorer Selection"
   ]
  },
  {
   "cell_type": "markdown",
   "metadata": {},
   "source": [
    "## Xenium Explorer Selection File"
   ]
  },
  {
   "cell_type": "code",
   "execution_count": 15,
   "metadata": {},
   "outputs": [],
   "source": [
    "# coord_suffix = \"mucosa\"\n",
    "coord_suffix = \"mucosa_CSF2\"\n",
    "dir_coord = os.path.join(out_dir, \"coordinates\", coord_suffix)  # coordinates"
   ]
  },
  {
   "cell_type": "code",
   "execution_count": 18,
   "metadata": {},
   "outputs": [
    {
     "data": {
      "image/svg+xml": [
       "<svg xmlns=\"http://www.w3.org/2000/svg\" xmlns:xlink=\"http://www.w3.org/1999/xlink\" width=\"300\" height=\"300\" viewBox=\"41381.31764705882 57417.69411764706 2201.929411764715 839.8117647058825\" preserveAspectRatio=\"xMinYMin meet\"><g transform=\"matrix(1,0,0,-1,0,115675.2)\"><path fill-rule=\"evenodd\" fill=\"#66cc99\" stroke=\"#555555\" stroke-width=\"14.679529411764767\" opacity=\"0.6\" d=\"M 41575.10588235294,58175.95294117647 L 41462.870588235295,58143.952941176474 L 41496.51764705883,58116.75294117647 L 41524.0,58038.588235294126 L 41576.89411764706,57959.01176470589 L 41672.14117647059,57867.717647058824 L 41725.36470588235,57820.23529411764 L 41800.32941176471,57822.82352941177 L 41914.964705882354,57822.82352941177 L 42025.08235294118,57838.588235294126 L 42140.705882352944,57896.84705882353 L 42252.65882352942,57903.05882352941 L 42358.68235294118,57903.05882352941 L 42519.05882352941,57870.870588235295 L 42630.30588235294,57834.91764705883 L 42584.8,57763.623529411765 L 42550.72941176471,57675.57647058823 L 42549.50588235295,57564.98823529412 L 42550.776470588244,57560.61176470588 L 42589.27058823529,57499.24705882353 L 42688.047058823526,57507.105882352946 L 42747.62352941177,57566.68235294118 L 42779.81176470588,57691.105882352946 L 42898.117647058825,57701.035294117646 L 43002.16470588235,57694.58823529412 L 43147.57647058824,57642.16470588235 L 43299.717647058824,57591.48235294118 L 43399.43529411765,57553.74117647059 L 43501.694117647065,57578.30588235294 L 43481.788235294116,57669.22352941176 L 43413.83529411765,57728.94117647059 L 43312.09411764706,57764.32941176471 L 43224.4705882353,57792.28235294118 L 43123.05882352941,57841.92941176471 L 43025.64705882353,57909.74117647059 L 42970.964705882354,57949.27058823529 L 42872.89411764706,58004.23529411765 L 42828.8,58057.74117647059 L 42755.57647058823,58064.705882352944 L 42670.72941176471,58058.54117647059 L 42540.14117647059,58055.2 L 42437.31764705883,58055.2 L 42349.600000000006,58044.23529411765 L 42278.49411764706,58020.8 L 42131.05882352941,57977.50588235294 L 42068.94117647059,57942.82352941177 L 41968.09411764706,57942.447058823534 L 41881.41176470588,57988.00000000001 L 41821.74117647059,58057.22352941176 L 41752.32941176471,58112.56470588235 L 41639.24705882353,58114.16470588236 L 41575.10588235294,58175.95294117647 z\" /></g></svg>"
      ],
      "text/plain": [
       "<POLYGON ((41575.106 58175.953, 41462.871 58143.953, 41496.518 58116.753, 41...>"
      ]
     },
     "execution_count": 18,
     "metadata": {},
     "output_type": "execute_result"
    }
   ],
   "source": [
    "coords = sdio.xenium_explorer_selection(\n",
    "    os.path.join(dir_coord, s + f\"_{coord_suffix}_2.csv\"))\n",
    "coords"
   ]
  },
  {
   "cell_type": "code",
   "execution_count": 26,
   "metadata": {},
   "outputs": [
    {
     "data": {
      "text/plain": [
       "shapely.geometry.multipolygon.MultiPolygon"
      ]
     },
     "execution_count": 26,
     "metadata": {},
     "output_type": "execute_result"
    }
   ],
   "source": [
    "type(coords)"
   ]
  },
  {
   "cell_type": "code",
   "execution_count": 27,
   "metadata": {},
   "outputs": [],
   "source": []
  },
  {
   "cell_type": "markdown",
   "metadata": {},
   "source": [
    "## Crop"
   ]
  },
  {
   "cell_type": "code",
   "execution_count": null,
   "metadata": {},
   "outputs": [],
   "source": [
    "sdata = self.crop(os.path.join(dir_coord, libid + f\"_{coord_suffix}.csv\"))"
   ]
  },
  {
   "cell_type": "markdown",
   "metadata": {},
   "source": [
    "# Workspace"
   ]
  },
  {
   "cell_type": "code",
   "execution_count": 3,
   "metadata": {},
   "outputs": [],
   "source": [
    "elements = getattr(self.adata, \"shapes\")"
   ]
  },
  {
   "cell_type": "code",
   "execution_count": null,
   "metadata": {},
   "outputs": [],
   "source": [
    "coords = sdio.xenium_explorer_selection(os.path.join(\n",
    "    dir_coord, libid + f\"_{coord_suffix}.csv\"))\n",
    "sdata_cropped = spatialdata.polygon_query(self.adata, coords, **{\n",
    "                \"target_coordinate_system\": \"global\",\n",
    "                \"filter_table\": True})"
   ]
  },
  {
   "cell_type": "code",
   "execution_count": 23,
   "metadata": {},
   "outputs": [
    {
     "data": {
      "text/plain": [
       "SpatialData object with:\n",
       "├── Images\n",
       "│     └── 'morphology_focus': MultiscaleSpatialImage[cyx] (5, 72335, 48440), (5, 36167, 24220), (5, 18084, 12110), (5, 9042, 6055), (5, 4520, 3027)\n",
       "├── Labels\n",
       "│     ├── 'cell_labels': MultiscaleSpatialImage[yx] (72335, 48440), (36167, 24220), (18084, 12110), (9042, 6055), (4520, 3027)\n",
       "│     └── 'nucleus_labels': MultiscaleSpatialImage[yx] (72335, 48440), (36167, 24220), (18084, 12110), (9042, 6055), (4520, 3027)\n",
       "├── Points\n",
       "│     └── 'transcripts': DataFrame with shape: (<Delayed>, 11) (3D points)\n",
       "├── Shapes\n",
       "│     ├── 'cell_boundaries': GeoDataFrame shape: (277685, 1) (2D shapes)\n",
       "│     ├── 'cell_circles': GeoDataFrame shape: (269452, 2) (2D shapes)\n",
       "│     └── 'nucleus_boundaries': GeoDataFrame shape: (269480, 1) (2D shapes)\n",
       "└── Tables\n",
       "      └── 'table': AnnData (263895, 469)\n",
       "with coordinate systems:\n",
       "▸ 'global', with elements:\n",
       "        morphology_focus (Images), cell_labels (Labels), nucleus_labels (Labels), transcripts (Points), cell_boundaries (Shapes), cell_circles (Shapes), nucleus_boundaries (Shapes)"
      ]
     },
     "execution_count": 23,
     "metadata": {},
     "output_type": "execute_result"
    }
   ],
   "source": [
    "sdata"
   ]
  },
  {
   "cell_type": "code",
   "execution_count": 16,
   "metadata": {},
   "outputs": [
    {
     "data": {
      "text/plain": [
       "SpatialData object with:\n",
       "├── Images\n",
       "│     └── 'morphology_focus': MultiscaleSpatialImage[cyx] (5, 17854, 11974), (5, 8927, 5987), (5, 4464, 2993), (5, 2232, 1497), (5, 1116, 748)\n",
       "├── Labels\n",
       "│     ├── 'cell_labels': MultiscaleSpatialImage[yx] (17854, 11974), (8927, 5987), (4464, 2993), (2232, 1497), (1116, 748)\n",
       "│     └── 'nucleus_labels': MultiscaleSpatialImage[yx] (17854, 11974), (8927, 5987), (4464, 2993), (2232, 1497), (1116, 748)\n",
       "├── Points\n",
       "│     └── 'transcripts': DataFrame with shape: (<Delayed>, 11) (3D points)\n",
       "├── Shapes\n",
       "│     ├── 'cell_boundaries': GeoDataFrame shape: (25457, 1) (2D shapes)\n",
       "│     ├── 'cell_circles': GeoDataFrame shape: (24621, 2) (2D shapes)\n",
       "│     └── 'nucleus_boundaries': GeoDataFrame shape: (24621, 1) (2D shapes)\n",
       "└── Tables\n",
       "      └── 'table': AnnData (21535, 469)\n",
       "with coordinate systems:\n",
       "▸ 'global', with elements:\n",
       "        morphology_focus (Images), cell_labels (Labels), nucleus_labels (Labels), transcripts (Points), cell_boundaries (Shapes), cell_circles (Shapes), nucleus_boundaries (Shapes)"
      ]
     },
     "execution_count": 16,
     "metadata": {},
     "output_type": "execute_result"
    }
   ],
   "source": [
    "sdata"
   ]
  },
  {
   "cell_type": "code",
   "execution_count": 31,
   "metadata": {},
   "outputs": [],
   "source": [
    "# import shapely\n",
    "\n",
    "# s = \"50336B\"\n",
    "\n",
    "# coords = [sdio.xenium_explorer_selection(os.path.join(\n",
    "#     dir_coord, s + f\"_{coord_suffix}{i}.csv\")) for i in [\"_1\", \"_2\"]]\n",
    "# coords = shapely.MultiPolygon(coords)\n",
    "# print(f\"\\n\\n{'*' * 40}\\n{s}\\n{'*' * 40}\\n\\n\")\n",
    "# file_path = np.array(files)[np.where([s == os.path.basename(\n",
    "#     x).split(\"__\")[2].split(\"-\")[0] for x in files])[0][0]]\n",
    "# lib = m_d.reset_index().set_index(cso).loc[s][col_sample]\n",
    "# self = cr.Spatial(os.path.join(dir_data, file_path), library_id=lib)\n",
    "# self.update_from_h5ad(os.path.join(out_dir, f\"{lib}.h5ad\"))\n",
    "sdata = self.crop(coords)\n",
    "sdata.pl.render_labels(\"cell_labels\").pl.show()\n",
    "self.adata = sdata\n",
    "self.write(os.path.join(out_dir, f\"{lib}_{coord_suffix}.h5ad\"))"
   ]
  },
  {
   "cell_type": "code",
   "execution_count": null,
   "metadata": {},
   "outputs": [
    {
     "name": "stdout",
     "output_type": "stream",
     "text": [
      "\n",
      "\n",
      "****************************************\n",
      "50336C\n",
      "****************************************\n",
      "\n",
      "\n",
      "\n",
      "\n",
      "<<< INITIALIZING SPATIAL CLASS OBJECT >>>\n",
      "\n",
      "\u001b[34mINFO    \u001b[0m reading                                                                                                   \n",
      "         \u001b[35m/mnt/cho_lab/bbdata2/outputs/TUQ97N/CHO-010/output-XETG00189__0011047__50336C-TUQ97N-EA__20240422__175051/\u001b[0m\n",
      "         \u001b[95mcell_feature_matrix.h5\u001b[0m                                                                                    \n"
     ]
    },
    {
     "ename": "KeyboardInterrupt",
     "evalue": "",
     "output_type": "error",
     "traceback": [
      "\u001b[0;31m---------------------------------------------------------------------------\u001b[0m",
      "\u001b[0;31mKeyboardInterrupt\u001b[0m                         Traceback (most recent call last)",
      "Cell \u001b[0;32mIn[4], line 7\u001b[0m\n\u001b[1;32m      4\u001b[0m file_path \u001b[38;5;241m=\u001b[39m np\u001b[38;5;241m.\u001b[39marray(files)[np\u001b[38;5;241m.\u001b[39mwhere([s \u001b[38;5;241m==\u001b[39m os\u001b[38;5;241m.\u001b[39mpath\u001b[38;5;241m.\u001b[39mbasename(\n\u001b[1;32m      5\u001b[0m     x)\u001b[38;5;241m.\u001b[39msplit(\u001b[38;5;124m\"\u001b[39m\u001b[38;5;124m__\u001b[39m\u001b[38;5;124m\"\u001b[39m)[\u001b[38;5;241m2\u001b[39m]\u001b[38;5;241m.\u001b[39msplit(\u001b[38;5;124m\"\u001b[39m\u001b[38;5;124m-\u001b[39m\u001b[38;5;124m\"\u001b[39m)[\u001b[38;5;241m0\u001b[39m] \u001b[38;5;28;01mfor\u001b[39;00m x \u001b[38;5;129;01min\u001b[39;00m files])[\u001b[38;5;241m0\u001b[39m][\u001b[38;5;241m0\u001b[39m]]\n\u001b[1;32m      6\u001b[0m lib \u001b[38;5;241m=\u001b[39m m_d\u001b[38;5;241m.\u001b[39mreset_index()\u001b[38;5;241m.\u001b[39mset_index(cso)\u001b[38;5;241m.\u001b[39mloc[s][col_sample]\n\u001b[0;32m----> 7\u001b[0m \u001b[38;5;28mself\u001b[39m \u001b[38;5;241m=\u001b[39m \u001b[43mcr\u001b[49m\u001b[38;5;241;43m.\u001b[39;49m\u001b[43mSpatial\u001b[49m\u001b[43m(\u001b[49m\u001b[43mos\u001b[49m\u001b[38;5;241;43m.\u001b[39;49m\u001b[43mpath\u001b[49m\u001b[38;5;241;43m.\u001b[39;49m\u001b[43mjoin\u001b[49m\u001b[43m(\u001b[49m\u001b[43mdir_data\u001b[49m\u001b[43m,\u001b[49m\u001b[43m \u001b[49m\u001b[43mfile_path\u001b[49m\u001b[43m)\u001b[49m\u001b[43m,\u001b[49m\u001b[43m \u001b[49m\u001b[43mlibrary_id\u001b[49m\u001b[38;5;241;43m=\u001b[39;49m\u001b[43mlib\u001b[49m\u001b[43m)\u001b[49m\n\u001b[1;32m      8\u001b[0m \u001b[38;5;28mself\u001b[39m\u001b[38;5;241m.\u001b[39mupdate_from_h5ad(os\u001b[38;5;241m.\u001b[39mpath\u001b[38;5;241m.\u001b[39mjoin(out_dir, \u001b[38;5;124mf\u001b[39m\u001b[38;5;124m\"\u001b[39m\u001b[38;5;132;01m{\u001b[39;00mlib\u001b[38;5;132;01m}\u001b[39;00m\u001b[38;5;124m.h5ad\u001b[39m\u001b[38;5;124m\"\u001b[39m))\n\u001b[1;32m      9\u001b[0m sdata \u001b[38;5;241m=\u001b[39m \u001b[38;5;28mself\u001b[39m\u001b[38;5;241m.\u001b[39mcrop(os\u001b[38;5;241m.\u001b[39mpath\u001b[38;5;241m.\u001b[39mjoin(dir_coord, s \u001b[38;5;241m+\u001b[39m \u001b[38;5;124mf\u001b[39m\u001b[38;5;124m\"\u001b[39m\u001b[38;5;124m_\u001b[39m\u001b[38;5;132;01m{\u001b[39;00mcoord_suffix\u001b[38;5;132;01m}\u001b[39;00m\u001b[38;5;124m.csv\u001b[39m\u001b[38;5;124m\"\u001b[39m))\n",
      "File \u001b[0;32m~/corescpy/corescpy/class_spatial.py:84\u001b[0m, in \u001b[0;36mSpatial.__init__\u001b[0;34m(self, file_path, col_sample_id, library_id, visium, **kwargs)\u001b[0m\n\u001b[1;32m     82\u001b[0m \u001b[38;5;28mprint\u001b[39m(\u001b[38;5;124m\"\u001b[39m\u001b[38;5;130;01m\\n\u001b[39;00m\u001b[38;5;130;01m\\n\u001b[39;00m\u001b[38;5;124m<<< INITIALIZING SPATIAL CLASS OBJECT >>>\u001b[39m\u001b[38;5;130;01m\\n\u001b[39;00m\u001b[38;5;124m\"\u001b[39m)\n\u001b[1;32m     83\u001b[0m _ \u001b[38;5;241m=\u001b[39m kwargs\u001b[38;5;241m.\u001b[39mpop(\u001b[38;5;124m\"\u001b[39m\u001b[38;5;124mfile_path_spatial\u001b[39m\u001b[38;5;124m\"\u001b[39m, \u001b[38;5;28;01mNone\u001b[39;00m)\n\u001b[0;32m---> 84\u001b[0m \u001b[38;5;28;43msuper\u001b[39;49m\u001b[43m(\u001b[49m\u001b[43m)\u001b[49m\u001b[38;5;241;43m.\u001b[39;49m\u001b[38;5;21;43m__init__\u001b[39;49m\u001b[43m(\u001b[49m\u001b[43mfile_path\u001b[49m\u001b[43m,\u001b[49m\u001b[43m \u001b[49m\u001b[43mspatial\u001b[49m\u001b[38;5;241;43m=\u001b[39;49m\u001b[38;5;28;43;01mTrue\u001b[39;49;00m\u001b[43m,\u001b[49m\u001b[43m \u001b[49m\u001b[43mcol_sample_id\u001b[49m\u001b[38;5;241;43m=\u001b[39;49m\u001b[43mcol_sample_id\u001b[49m\u001b[43m,\u001b[49m\n\u001b[1;32m     85\u001b[0m \u001b[43m                 \u001b[49m\u001b[43mlibrary_id\u001b[49m\u001b[38;5;241;43m=\u001b[39;49m\u001b[43mlibrary_id\u001b[49m\u001b[43m,\u001b[49m\u001b[43m \u001b[49m\u001b[43mvisium\u001b[49m\u001b[38;5;241;43m=\u001b[39;49m\u001b[43mvisium\u001b[49m\u001b[43m,\u001b[49m\n\u001b[1;32m     86\u001b[0m \u001b[43m                 \u001b[49m\u001b[43mverbose\u001b[49m\u001b[38;5;241;43m=\u001b[39;49m\u001b[38;5;28;43;01mFalse\u001b[39;49;00m\u001b[43m,\u001b[49m\u001b[43m \u001b[49m\u001b[38;5;241;43m*\u001b[39;49m\u001b[38;5;241;43m*\u001b[39;49m\u001b[43mkwargs\u001b[49m\u001b[43m)\u001b[49m\n\u001b[1;32m     87\u001b[0m \u001b[38;5;28mself\u001b[39m\u001b[38;5;241m.\u001b[39m_spatial_key \u001b[38;5;241m=\u001b[39m cr\u001b[38;5;241m.\u001b[39mpp\u001b[38;5;241m.\u001b[39mSPATIAL_KEY\n\u001b[1;32m     88\u001b[0m \u001b[38;5;28mself\u001b[39m\u001b[38;5;241m.\u001b[39m_kind \u001b[38;5;241m=\u001b[39m \u001b[38;5;124m\"\u001b[39m\u001b[38;5;124mxenium\u001b[39m\u001b[38;5;124m\"\u001b[39m \u001b[38;5;28;01mif\u001b[39;00m visium \u001b[38;5;129;01mis\u001b[39;00m \u001b[38;5;28;01mFalse\u001b[39;00m \u001b[38;5;28;01melse\u001b[39;00m \u001b[38;5;124m\"\u001b[39m\u001b[38;5;124mvisium\u001b[39m\u001b[38;5;124m\"\u001b[39m\n",
      "File \u001b[0;32m~/corescpy/corescpy/class_sc.py:165\u001b[0m, in \u001b[0;36mOmics.__init__\u001b[0;34m(self, file_path, prefix, assay, assay_protein, raw, col_gene_symbols, spatial, col_cell_type, col_sample_id, col_subject, col_condition, key_control, key_treatment, kws_multi, verbose, **kwargs)\u001b[0m\n\u001b[1;32m    155\u001b[0m     \u001b[38;5;28mself\u001b[39m\u001b[38;5;241m.\u001b[39madata \u001b[38;5;241m=\u001b[39m cr\u001b[38;5;241m.\u001b[39mpp\u001b[38;5;241m.\u001b[39mcreate_object_multi(\n\u001b[1;32m    156\u001b[0m         file_path, kws_init\u001b[38;5;241m=\u001b[39m\u001b[38;5;28mdict\u001b[39m(\n\u001b[1;32m    157\u001b[0m             prefix\u001b[38;5;241m=\u001b[39mprefix, assay\u001b[38;5;241m=\u001b[39massay, assay_protein\u001b[38;5;241m=\u001b[39massay_protein,\n\u001b[0;32m   (...)\u001b[0m\n\u001b[1;32m    162\u001b[0m             col_sample_id\u001b[38;5;241m=\u001b[39mcol_sample_id, \u001b[38;5;241m*\u001b[39m\u001b[38;5;241m*\u001b[39mkwargs), spatial\u001b[38;5;241m=\u001b[39mspatial,\n\u001b[1;32m    163\u001b[0m         \u001b[38;5;241m*\u001b[39m\u001b[38;5;241m*\u001b[39mkws_multi)  \u001b[38;5;66;03m# create integrated object\u001b[39;00m\n\u001b[1;32m    164\u001b[0m \u001b[38;5;28;01melse\u001b[39;00m:\n\u001b[0;32m--> 165\u001b[0m     \u001b[38;5;28mself\u001b[39m\u001b[38;5;241m.\u001b[39madata \u001b[38;5;241m=\u001b[39m \u001b[43mcr\u001b[49m\u001b[38;5;241;43m.\u001b[39;49m\u001b[43mpp\u001b[49m\u001b[38;5;241;43m.\u001b[39;49m\u001b[43mcreate_object\u001b[49m\u001b[43m(\u001b[49m\n\u001b[1;32m    166\u001b[0m \u001b[43m        \u001b[49m\u001b[38;5;28;43mself\u001b[39;49m\u001b[38;5;241;43m.\u001b[39;49m\u001b[43m_file_path\u001b[49m\u001b[43m,\u001b[49m\u001b[43m \u001b[49m\u001b[43mprefix\u001b[49m\u001b[38;5;241;43m=\u001b[39;49m\u001b[43mprefix\u001b[49m\u001b[43m,\u001b[49m\u001b[43m \u001b[49m\u001b[43mcol_sample_id\u001b[49m\u001b[38;5;241;43m=\u001b[39;49m\u001b[43mcol_sample_id\u001b[49m\u001b[43m,\u001b[49m\n\u001b[1;32m    167\u001b[0m \u001b[43m        \u001b[49m\u001b[43mcol_gene_symbols\u001b[49m\u001b[38;5;241;43m=\u001b[39;49m\u001b[43mcol_gene_symbols\u001b[49m\u001b[43m,\u001b[49m\u001b[43m \u001b[49m\u001b[43mkws_process_guide_rna\u001b[49m\u001b[38;5;241;43m=\u001b[39;49m\u001b[43mkpg\u001b[49m\u001b[43m,\u001b[49m\n\u001b[1;32m    168\u001b[0m \u001b[43m        \u001b[49m\u001b[43mspatial\u001b[49m\u001b[38;5;241;43m=\u001b[39;49m\u001b[43mspatial\u001b[49m\u001b[43m,\u001b[49m\u001b[43m \u001b[49m\u001b[43massay\u001b[49m\u001b[38;5;241;43m=\u001b[39;49m\u001b[43massay\u001b[49m\u001b[43m,\u001b[49m\u001b[43m \u001b[49m\u001b[43mraw\u001b[49m\u001b[38;5;241;43m=\u001b[39;49m\u001b[43mraw\u001b[49m\u001b[43m,\u001b[49m\u001b[43m \u001b[49m\u001b[38;5;241;43m*\u001b[39;49m\u001b[38;5;241;43m*\u001b[39;49m\u001b[43mkwargs\u001b[49m\u001b[43m)\u001b[49m  \u001b[38;5;66;03m# object\u001b[39;00m\n\u001b[1;32m    169\u001b[0m \u001b[38;5;28mprint\u001b[39m(\u001b[38;5;124mf\u001b[39m\u001b[38;5;124m\"\u001b[39m\u001b[38;5;132;01m{\u001b[39;00m\u001b[38;5;28mself\u001b[39m\u001b[38;5;241m.\u001b[39madata\u001b[38;5;241m.\u001b[39mobs\u001b[38;5;132;01m}\u001b[39;00m\u001b[38;5;130;01m\\n\u001b[39;00m\u001b[38;5;130;01m\\n\u001b[39;00m\u001b[38;5;124m\"\u001b[39m \u001b[38;5;28;01mif\u001b[39;00m assay \u001b[38;5;129;01mand\u001b[39;00m verbose \u001b[38;5;129;01mis\u001b[39;00m \u001b[38;5;28;01mTrue\u001b[39;00m \u001b[38;5;28;01melse\u001b[39;00m \u001b[38;5;124m\"\u001b[39m\u001b[38;5;124m\"\u001b[39m)\n\u001b[1;32m    171\u001b[0m \u001b[38;5;66;03m# Let Property Setters Run\u001b[39;00m\n",
      "File \u001b[0;32m~/corescpy/corescpy/processing/preprocessing.py:146\u001b[0m, in \u001b[0;36mcreate_object\u001b[0;34m(file, col_gene_symbols, assay, kws_process_guide_rna, assay_gdo, raw, gex_only, prefix, spatial, **kwargs)\u001b[0m\n\u001b[1;32m    142\u001b[0m \u001b[38;5;28;01melif\u001b[39;00m spatial \u001b[38;5;129;01mnot\u001b[39;00m \u001b[38;5;129;01min\u001b[39;00m [\u001b[38;5;28;01mNone\u001b[39;00m, \u001b[38;5;28;01mFalse\u001b[39;00m]:\n\u001b[1;32m    143\u001b[0m     kwargs \u001b[38;5;241m=\u001b[39m {\u001b[38;5;241m*\u001b[39m\u001b[38;5;241m*\u001b[39m\u001b[38;5;28mdict\u001b[39m(prefix\u001b[38;5;241m=\u001b[39mprefix, col_sample_id\u001b[38;5;241m=\u001b[39mcsid,\n\u001b[1;32m    144\u001b[0m                      col_gene_symbols\u001b[38;5;241m=\u001b[39mcol_gene_symbols),\n\u001b[1;32m    145\u001b[0m               \u001b[38;5;241m*\u001b[39m\u001b[38;5;241m*\u001b[39mkwargs}  \u001b[38;5;66;03m# user-specified + variable keyword arguments\u001b[39;00m\n\u001b[0;32m--> 146\u001b[0m     adata \u001b[38;5;241m=\u001b[39m \u001b[43mcr\u001b[49m\u001b[38;5;241;43m.\u001b[39;49m\u001b[43mpp\u001b[49m\u001b[38;5;241;43m.\u001b[39;49m\u001b[43mread_spatial\u001b[49m\u001b[43m(\u001b[49m\u001b[43mfile_path\u001b[49m\u001b[38;5;241;43m=\u001b[39;49m\u001b[43mfile\u001b[49m\u001b[43m,\u001b[49m\u001b[43m \u001b[49m\u001b[38;5;241;43m*\u001b[39;49m\u001b[38;5;241;43m*\u001b[39;49m\u001b[43mkwargs\u001b[49m\u001b[43m)\u001b[49m\n\u001b[1;32m    147\u001b[0m     \u001b[38;5;28;01mif\u001b[39;00m \u001b[38;5;124m\"\u001b[39m\u001b[38;5;124mtable\u001b[39m\u001b[38;5;124m\"\u001b[39m \u001b[38;5;129;01min\u001b[39;00m \u001b[38;5;28mdir\u001b[39m(adata) \u001b[38;5;129;01mand\u001b[39;00m \u001b[38;5;124m\"\u001b[39m\u001b[38;5;124moriginal_ix\u001b[39m\u001b[38;5;124m\"\u001b[39m \u001b[38;5;129;01mnot\u001b[39;00m \u001b[38;5;129;01min\u001b[39;00m adata\u001b[38;5;241m.\u001b[39mtable\u001b[38;5;241m.\u001b[39muns:\n\u001b[1;32m    148\u001b[0m         adata\u001b[38;5;241m.\u001b[39mtable\u001b[38;5;241m.\u001b[39muns[\u001b[38;5;124m\"\u001b[39m\u001b[38;5;124moriginal_ix\u001b[39m\u001b[38;5;124m\"\u001b[39m] \u001b[38;5;241m=\u001b[39m adata\u001b[38;5;241m.\u001b[39mtable\u001b[38;5;241m.\u001b[39mobs\u001b[38;5;241m.\u001b[39mindex\u001b[38;5;241m.\u001b[39mvalues\n",
      "File \u001b[0;32m~/corescpy/corescpy/processing/spatial_pp.py:111\u001b[0m, in \u001b[0;36mread_spatial\u001b[0;34m(file_path, file_path_spatial, file_path_image, visium, spatial_key, library_id, col_gene_symbols, prefix, gex_only, col_sample_id, n_jobs, **kwargs)\u001b[0m\n\u001b[1;32m    109\u001b[0m     \u001b[38;5;28mprint\u001b[39m(\u001b[38;5;124mf\u001b[39m\u001b[38;5;124m\"\u001b[39m\u001b[38;5;130;01m\\n\u001b[39;00m\u001b[38;5;124m*** USING FILE PATH \u001b[39m\u001b[38;5;132;01m{\u001b[39;00mfile_path\u001b[38;5;132;01m}\u001b[39;00m\u001b[38;5;124m as library ID.\u001b[39m\u001b[38;5;130;01m\\n\u001b[39;00m\u001b[38;5;124m\"\u001b[39m)\n\u001b[1;32m    110\u001b[0m     library_id \u001b[38;5;241m=\u001b[39m \u001b[38;5;28mstr\u001b[39m(file_path)\n\u001b[0;32m--> 111\u001b[0m adata \u001b[38;5;241m=\u001b[39m \u001b[43msdio\u001b[49m\u001b[38;5;241;43m.\u001b[39;49m\u001b[43mxenium\u001b[49m\u001b[43m(\u001b[49m\u001b[43mfile_path\u001b[49m\u001b[43m,\u001b[49m\u001b[43m \u001b[49m\u001b[43mn_jobs\u001b[49m\u001b[38;5;241;43m=\u001b[39;49m\u001b[43mn_jobs\u001b[49m\u001b[43m)\u001b[49m\n\u001b[1;32m    112\u001b[0m \u001b[38;5;28;01mif\u001b[39;00m STORE_UNS_SQUIDPY:\n\u001b[1;32m    113\u001b[0m     adata \u001b[38;5;241m=\u001b[39m update_spatial_uns(adata, library_id, col_sample_id)\n",
      "File \u001b[0;32m~/miniconda3/envs/bio/lib/python3.10/site-packages/spatialdata_io/_utils.py:46\u001b[0m, in \u001b[0;36mdeprecation_alias.<locals>.deprecation_decorator.<locals>.wrapper\u001b[0;34m(*args, **kwargs)\u001b[0m\n\u001b[1;32m     44\u001b[0m class_name \u001b[38;5;241m=\u001b[39m f\u001b[38;5;241m.\u001b[39m\u001b[38;5;18m__qualname__\u001b[39m\n\u001b[1;32m     45\u001b[0m rename_kwargs(f\u001b[38;5;241m.\u001b[39m\u001b[38;5;18m__name__\u001b[39m, kwargs, aliases, class_name)\n\u001b[0;32m---> 46\u001b[0m \u001b[38;5;28;01mreturn\u001b[39;00m \u001b[43mf\u001b[49m\u001b[43m(\u001b[49m\u001b[38;5;241;43m*\u001b[39;49m\u001b[43margs\u001b[49m\u001b[43m,\u001b[49m\u001b[43m \u001b[49m\u001b[38;5;241;43m*\u001b[39;49m\u001b[38;5;241;43m*\u001b[39;49m\u001b[43mkwargs\u001b[49m\u001b[43m)\u001b[49m\n",
      "File \u001b[0;32m~/miniconda3/envs/bio/lib/python3.10/site-packages/spatialdata_io/readers/xenium.py:209\u001b[0m, in \u001b[0;36mxenium\u001b[0;34m(path, n_jobs, cells_as_circles, cell_boundaries, nucleus_boundaries, cell_labels, nucleus_labels, transcripts, morphology_mip, morphology_focus, aligned_images, imread_kwargs, image_models_kwargs, labels_models_kwargs)\u001b[0m\n\u001b[1;32m    206\u001b[0m             table\u001b[38;5;241m.\u001b[39mobs[\u001b[38;5;124m\"\u001b[39m\u001b[38;5;124mcell_labels\u001b[39m\u001b[38;5;124m\"\u001b[39m] \u001b[38;5;241m=\u001b[39m cell_labels_indices_mapping[\u001b[38;5;124m\"\u001b[39m\u001b[38;5;124mlabel_index\u001b[39m\u001b[38;5;124m\"\u001b[39m]\n\u001b[1;32m    208\u001b[0m \u001b[38;5;28;01mif\u001b[39;00m nucleus_boundaries:\n\u001b[0;32m--> 209\u001b[0m     polygons[\u001b[38;5;124m\"\u001b[39m\u001b[38;5;124mnucleus_boundaries\u001b[39m\u001b[38;5;124m\"\u001b[39m] \u001b[38;5;241m=\u001b[39m \u001b[43m_get_polygons\u001b[49m\u001b[43m(\u001b[49m\n\u001b[1;32m    210\u001b[0m \u001b[43m        \u001b[49m\u001b[43mpath\u001b[49m\u001b[43m,\u001b[49m\n\u001b[1;32m    211\u001b[0m \u001b[43m        \u001b[49m\u001b[43mXeniumKeys\u001b[49m\u001b[38;5;241;43m.\u001b[39;49m\u001b[43mNUCLEUS_BOUNDARIES_FILE\u001b[49m\u001b[43m,\u001b[49m\n\u001b[1;32m    212\u001b[0m \u001b[43m        \u001b[49m\u001b[43mspecs\u001b[49m\u001b[43m,\u001b[49m\n\u001b[1;32m    213\u001b[0m \u001b[43m        \u001b[49m\u001b[43mn_jobs\u001b[49m\u001b[43m,\u001b[49m\n\u001b[1;32m    214\u001b[0m \u001b[43m        \u001b[49m\u001b[43midx\u001b[49m\u001b[38;5;241;43m=\u001b[39;49m\u001b[43mtable\u001b[49m\u001b[38;5;241;43m.\u001b[39;49m\u001b[43mobs\u001b[49m\u001b[43m[\u001b[49m\u001b[38;5;28;43mstr\u001b[39;49m\u001b[43m(\u001b[49m\u001b[43mXeniumKeys\u001b[49m\u001b[38;5;241;43m.\u001b[39;49m\u001b[43mCELL_ID\u001b[49m\u001b[43m)\u001b[49m\u001b[43m]\u001b[49m\u001b[38;5;241;43m.\u001b[39;49m\u001b[43mcopy\u001b[49m\u001b[43m(\u001b[49m\u001b[43m)\u001b[49m\u001b[43m,\u001b[49m\n\u001b[1;32m    215\u001b[0m \u001b[43m    \u001b[49m\u001b[43m)\u001b[49m\n\u001b[1;32m    217\u001b[0m \u001b[38;5;28;01mif\u001b[39;00m cell_boundaries:\n\u001b[1;32m    218\u001b[0m     polygons[\u001b[38;5;124m\"\u001b[39m\u001b[38;5;124mcell_boundaries\u001b[39m\u001b[38;5;124m\"\u001b[39m] \u001b[38;5;241m=\u001b[39m _get_polygons(\n\u001b[1;32m    219\u001b[0m         path,\n\u001b[1;32m    220\u001b[0m         XeniumKeys\u001b[38;5;241m.\u001b[39mCELL_BOUNDARIES_FILE,\n\u001b[0;32m   (...)\u001b[0m\n\u001b[1;32m    223\u001b[0m         idx\u001b[38;5;241m=\u001b[39mtable\u001b[38;5;241m.\u001b[39mobs[\u001b[38;5;28mstr\u001b[39m(XeniumKeys\u001b[38;5;241m.\u001b[39mCELL_ID)]\u001b[38;5;241m.\u001b[39mcopy(),\n\u001b[1;32m    224\u001b[0m     )\n",
      "File \u001b[0;32m~/miniconda3/envs/bio/lib/python3.10/site-packages/spatialdata_io/readers/xenium.py:334\u001b[0m, in \u001b[0;36m_get_polygons\u001b[0;34m(path, file, specs, n_jobs, idx)\u001b[0m\n\u001b[1;32m    332\u001b[0m index \u001b[38;5;241m=\u001b[39m pd\u001b[38;5;241m.\u001b[39mSeries(group_by\u001b[38;5;241m.\u001b[39mindices\u001b[38;5;241m.\u001b[39mkeys())\n\u001b[1;32m    333\u001b[0m index \u001b[38;5;241m=\u001b[39m _decode_cell_id_column(index)\n\u001b[0;32m--> 334\u001b[0m out \u001b[38;5;241m=\u001b[39m \u001b[43mParallel\u001b[49m\u001b[43m(\u001b[49m\u001b[43mn_jobs\u001b[49m\u001b[38;5;241;43m=\u001b[39;49m\u001b[43mn_jobs\u001b[49m\u001b[43m)\u001b[49m\u001b[43m(\u001b[49m\n\u001b[1;32m    335\u001b[0m \u001b[43m    \u001b[49m\u001b[43mdelayed\u001b[49m\u001b[43m(\u001b[49m\u001b[43m_poly\u001b[49m\u001b[43m)\u001b[49m\u001b[43m(\u001b[49m\u001b[43mi\u001b[49m\u001b[38;5;241;43m.\u001b[39;49m\u001b[43mto_numpy\u001b[49m\u001b[43m(\u001b[49m\u001b[43m)\u001b[49m\u001b[43m)\u001b[49m\n\u001b[1;32m    336\u001b[0m \u001b[43m    \u001b[49m\u001b[38;5;28;43;01mfor\u001b[39;49;00m\u001b[43m \u001b[49m\u001b[43m_\u001b[49m\u001b[43m,\u001b[49m\u001b[43m \u001b[49m\u001b[43mi\u001b[49m\u001b[43m \u001b[49m\u001b[38;5;129;43;01min\u001b[39;49;00m\u001b[43m \u001b[49m\u001b[43mgroup_by\u001b[49m\u001b[43m[\u001b[49m\u001b[43m[\u001b[49m\u001b[43mXeniumKeys\u001b[49m\u001b[38;5;241;43m.\u001b[39;49m\u001b[43mBOUNDARIES_VERTEX_X\u001b[49m\u001b[43m,\u001b[49m\u001b[43m \u001b[49m\u001b[43mXeniumKeys\u001b[49m\u001b[38;5;241;43m.\u001b[39;49m\u001b[43mBOUNDARIES_VERTEX_Y\u001b[49m\u001b[43m]\u001b[49m\u001b[43m]\u001b[49m\n\u001b[1;32m    337\u001b[0m \u001b[43m\u001b[49m\u001b[43m)\u001b[49m\n\u001b[1;32m    338\u001b[0m geo_df \u001b[38;5;241m=\u001b[39m GeoDataFrame({\u001b[38;5;124m\"\u001b[39m\u001b[38;5;124mgeometry\u001b[39m\u001b[38;5;124m\"\u001b[39m: out})\n\u001b[1;32m    339\u001b[0m version \u001b[38;5;241m=\u001b[39m _parse_version_of_xenium_analyzer(specs)\n",
      "File \u001b[0;32m~/miniconda3/envs/bio/lib/python3.10/site-packages/joblib/parallel.py:1918\u001b[0m, in \u001b[0;36mParallel.__call__\u001b[0;34m(self, iterable)\u001b[0m\n\u001b[1;32m   1916\u001b[0m     output \u001b[38;5;241m=\u001b[39m \u001b[38;5;28mself\u001b[39m\u001b[38;5;241m.\u001b[39m_get_sequential_output(iterable)\n\u001b[1;32m   1917\u001b[0m     \u001b[38;5;28mnext\u001b[39m(output)\n\u001b[0;32m-> 1918\u001b[0m     \u001b[38;5;28;01mreturn\u001b[39;00m output \u001b[38;5;28;01mif\u001b[39;00m \u001b[38;5;28mself\u001b[39m\u001b[38;5;241m.\u001b[39mreturn_generator \u001b[38;5;28;01melse\u001b[39;00m \u001b[38;5;28;43mlist\u001b[39;49m\u001b[43m(\u001b[49m\u001b[43moutput\u001b[49m\u001b[43m)\u001b[49m\n\u001b[1;32m   1920\u001b[0m \u001b[38;5;66;03m# Let's create an ID that uniquely identifies the current call. If the\u001b[39;00m\n\u001b[1;32m   1921\u001b[0m \u001b[38;5;66;03m# call is interrupted early and that the same instance is immediately\u001b[39;00m\n\u001b[1;32m   1922\u001b[0m \u001b[38;5;66;03m# re-used, this id will be used to prevent workers that were\u001b[39;00m\n\u001b[1;32m   1923\u001b[0m \u001b[38;5;66;03m# concurrently finalizing a task from the previous call to run the\u001b[39;00m\n\u001b[1;32m   1924\u001b[0m \u001b[38;5;66;03m# callback.\u001b[39;00m\n\u001b[1;32m   1925\u001b[0m \u001b[38;5;28;01mwith\u001b[39;00m \u001b[38;5;28mself\u001b[39m\u001b[38;5;241m.\u001b[39m_lock:\n",
      "File \u001b[0;32m~/miniconda3/envs/bio/lib/python3.10/site-packages/joblib/parallel.py:1847\u001b[0m, in \u001b[0;36mParallel._get_sequential_output\u001b[0;34m(self, iterable)\u001b[0m\n\u001b[1;32m   1845\u001b[0m \u001b[38;5;28mself\u001b[39m\u001b[38;5;241m.\u001b[39mn_dispatched_batches \u001b[38;5;241m+\u001b[39m\u001b[38;5;241m=\u001b[39m \u001b[38;5;241m1\u001b[39m\n\u001b[1;32m   1846\u001b[0m \u001b[38;5;28mself\u001b[39m\u001b[38;5;241m.\u001b[39mn_dispatched_tasks \u001b[38;5;241m+\u001b[39m\u001b[38;5;241m=\u001b[39m \u001b[38;5;241m1\u001b[39m\n\u001b[0;32m-> 1847\u001b[0m res \u001b[38;5;241m=\u001b[39m \u001b[43mfunc\u001b[49m\u001b[43m(\u001b[49m\u001b[38;5;241;43m*\u001b[39;49m\u001b[43margs\u001b[49m\u001b[43m,\u001b[49m\u001b[43m \u001b[49m\u001b[38;5;241;43m*\u001b[39;49m\u001b[38;5;241;43m*\u001b[39;49m\u001b[43mkwargs\u001b[49m\u001b[43m)\u001b[49m\n\u001b[1;32m   1848\u001b[0m \u001b[38;5;28mself\u001b[39m\u001b[38;5;241m.\u001b[39mn_completed_tasks \u001b[38;5;241m+\u001b[39m\u001b[38;5;241m=\u001b[39m \u001b[38;5;241m1\u001b[39m\n\u001b[1;32m   1849\u001b[0m \u001b[38;5;28mself\u001b[39m\u001b[38;5;241m.\u001b[39mprint_progress()\n",
      "File \u001b[0;32m~/miniconda3/envs/bio/lib/python3.10/site-packages/spatialdata_io/readers/xenium.py:326\u001b[0m, in \u001b[0;36m_get_polygons.<locals>._poly\u001b[0;34m(arr)\u001b[0m\n\u001b[1;32m    325\u001b[0m \u001b[38;5;28;01mdef\u001b[39;00m \u001b[38;5;21m_poly\u001b[39m(arr: ArrayLike) \u001b[38;5;241m-\u001b[39m\u001b[38;5;241m>\u001b[39m Polygon:\n\u001b[0;32m--> 326\u001b[0m     \u001b[38;5;28;01mreturn\u001b[39;00m \u001b[43mPolygon\u001b[49m\u001b[43m(\u001b[49m\u001b[43marr\u001b[49m\u001b[43m[\u001b[49m\u001b[43m:\u001b[49m\u001b[38;5;241;43m-\u001b[39;49m\u001b[38;5;241;43m1\u001b[39;49m\u001b[43m]\u001b[49m\u001b[43m)\u001b[49m\n",
      "File \u001b[0;32m~/miniconda3/envs/bio/lib/python3.10/site-packages/shapely/geometry/polygon.py:239\u001b[0m, in \u001b[0;36mPolygon.__new__\u001b[0;34m(self, shell, holes)\u001b[0m\n\u001b[1;32m    236\u001b[0m     \u001b[38;5;28;01melse\u001b[39;00m:\n\u001b[1;32m    237\u001b[0m         holes \u001b[38;5;241m=\u001b[39m [LinearRing(ring) \u001b[38;5;28;01mfor\u001b[39;00m ring \u001b[38;5;129;01min\u001b[39;00m holes]\n\u001b[0;32m--> 239\u001b[0m geom \u001b[38;5;241m=\u001b[39m \u001b[43mshapely\u001b[49m\u001b[38;5;241;43m.\u001b[39;49m\u001b[43mpolygons\u001b[49m\u001b[43m(\u001b[49m\u001b[43mshell\u001b[49m\u001b[43m,\u001b[49m\u001b[43m \u001b[49m\u001b[43mholes\u001b[49m\u001b[38;5;241;43m=\u001b[39;49m\u001b[43mholes\u001b[49m\u001b[43m)\u001b[49m\n\u001b[1;32m    240\u001b[0m \u001b[38;5;28;01mif\u001b[39;00m \u001b[38;5;129;01mnot\u001b[39;00m \u001b[38;5;28misinstance\u001b[39m(geom, Polygon):\n\u001b[1;32m    241\u001b[0m     \u001b[38;5;28;01mraise\u001b[39;00m \u001b[38;5;167;01mValueError\u001b[39;00m(\u001b[38;5;124m\"\u001b[39m\u001b[38;5;124mInvalid values passed to Polygon constructor\u001b[39m\u001b[38;5;124m\"\u001b[39m)\n",
      "File \u001b[0;32m~/miniconda3/envs/bio/lib/python3.10/site-packages/shapely/decorators.py:77\u001b[0m, in \u001b[0;36mmultithreading_enabled.<locals>.wrapped\u001b[0;34m(*args, **kwargs)\u001b[0m\n\u001b[1;32m     75\u001b[0m     \u001b[38;5;28;01mfor\u001b[39;00m arr \u001b[38;5;129;01min\u001b[39;00m array_args:\n\u001b[1;32m     76\u001b[0m         arr\u001b[38;5;241m.\u001b[39mflags\u001b[38;5;241m.\u001b[39mwriteable \u001b[38;5;241m=\u001b[39m \u001b[38;5;28;01mFalse\u001b[39;00m\n\u001b[0;32m---> 77\u001b[0m     \u001b[38;5;28;01mreturn\u001b[39;00m \u001b[43mfunc\u001b[49m\u001b[43m(\u001b[49m\u001b[38;5;241;43m*\u001b[39;49m\u001b[43margs\u001b[49m\u001b[43m,\u001b[49m\u001b[43m \u001b[49m\u001b[38;5;241;43m*\u001b[39;49m\u001b[38;5;241;43m*\u001b[39;49m\u001b[43mkwargs\u001b[49m\u001b[43m)\u001b[49m\n\u001b[1;32m     78\u001b[0m \u001b[38;5;28;01mfinally\u001b[39;00m:\n\u001b[1;32m     79\u001b[0m     \u001b[38;5;28;01mfor\u001b[39;00m arr, old_flag \u001b[38;5;129;01min\u001b[39;00m \u001b[38;5;28mzip\u001b[39m(array_args, old_flags):\n",
      "File \u001b[0;32m~/miniconda3/envs/bio/lib/python3.10/site-packages/shapely/creation.py:265\u001b[0m, in \u001b[0;36mpolygons\u001b[0;34m(geometries, holes, indices, out, **kwargs)\u001b[0m\n\u001b[1;32m    262\u001b[0m     \u001b[38;5;28;01mif\u001b[39;00m np\u001b[38;5;241m.\u001b[39missubdtype(holes\u001b[38;5;241m.\u001b[39mdtype, np\u001b[38;5;241m.\u001b[39mnumber):\n\u001b[1;32m    263\u001b[0m         holes \u001b[38;5;241m=\u001b[39m linearrings(holes)\n\u001b[0;32m--> 265\u001b[0m \u001b[38;5;28;01mreturn\u001b[39;00m \u001b[43mlib\u001b[49m\u001b[38;5;241;43m.\u001b[39;49m\u001b[43mpolygons\u001b[49m\u001b[43m(\u001b[49m\u001b[43mgeometries\u001b[49m\u001b[43m,\u001b[49m\u001b[43m \u001b[49m\u001b[43mholes\u001b[49m\u001b[43m,\u001b[49m\u001b[43m \u001b[49m\u001b[43mout\u001b[49m\u001b[38;5;241;43m=\u001b[39;49m\u001b[43mout\u001b[49m\u001b[43m,\u001b[49m\u001b[43m \u001b[49m\u001b[38;5;241;43m*\u001b[39;49m\u001b[38;5;241;43m*\u001b[39;49m\u001b[43mkwargs\u001b[49m\u001b[43m)\u001b[49m\n",
      "\u001b[0;31mKeyboardInterrupt\u001b[0m: "
     ]
    }
   ],
   "source": [
    "# for s in [\"50336C\", \"50403B\", \"50006A\", \"50217B\", \"50217A\",\n",
    "#           \"50336B\", \"50403A2\", \"50006B\"]:\n",
    "for s in [\"50336C\", \"50403B\", \"50006A\", \"50217B\", \"50217A\",\n",
    "          \"50403A2\", \"50006B\"]:\n",
    "    print(f\"\\n\\n{'*' * 40}\\n{s}\\n{'*' * 40}\\n\\n\")\n",
    "    file_path = np.array(files)[np.where([s == os.path.basename(\n",
    "        x).split(\"__\")[2].split(\"-\")[0] for x in files])[0][0]]\n",
    "    lib = m_d.reset_index().set_index(cso).loc[s][col_sample]\n",
    "    self = cr.Spatial(os.path.join(dir_data, file_path), library_id=lib)\n",
    "    self.update_from_h5ad(os.path.join(out_dir, f\"{lib}.h5ad\"))\n",
    "    sdata = self.crop(os.path.join(dir_coord, s + f\"_{coord_suffix}.csv\"))\n",
    "    sdata.pl.render_labels(\"cell_labels\").pl.show()\n",
    "    self.adata = sdata\n",
    "    self.write(os.path.join(out_dir, f\"{lib}_{coord_suffix}.h5ad\"))"
   ]
  },
  {
   "cell_type": "code",
   "execution_count": 71,
   "metadata": {},
   "outputs": [
    {
     "data": {
      "text/plain": [
       "SpatialData object with:\n",
       "├── Images\n",
       "│     └── 'morphology_focus': MultiscaleSpatialImage[cyx] (5, 74826, 48440), (5, 37413, 24220), (5, 18706, 12110), (5, 9353, 6055), (5, 4676, 3027)\n",
       "├── Labels\n",
       "│     ├── 'cell_labels': MultiscaleSpatialImage[yx] (74826, 48440), (37413, 24220), (18706, 12110), (9353, 6055), (4676, 3027)\n",
       "│     └── 'nucleus_labels': MultiscaleSpatialImage[yx] (74826, 48440), (37413, 24220), (18706, 12110), (9353, 6055), (4676, 3027)\n",
       "├── Points\n",
       "│     └── 'transcripts': DataFrame with shape: (<Delayed>, 11) (3D points)\n",
       "├── Shapes\n",
       "│     ├── 'cell_boundaries': GeoDataFrame shape: (387961, 1) (2D shapes)\n",
       "│     ├── 'cell_circles': GeoDataFrame shape: (387961, 2) (2D shapes)\n",
       "│     └── 'nucleus_boundaries': GeoDataFrame shape: (379551, 1) (2D shapes)\n",
       "└── Tables\n",
       "      └── 'table': AnnData (387961, 469)\n",
       "with coordinate systems:\n",
       "▸ 'global', with elements:\n",
       "        morphology_focus (Images), cell_labels (Labels), nucleus_labels (Labels), transcripts (Points), cell_boundaries (Shapes), cell_circles (Shapes), nucleus_boundaries (Shapes)"
      ]
     },
     "execution_count": 71,
     "metadata": {},
     "output_type": "execute_result"
    }
   ],
   "source": [
    "self.adata"
   ]
  },
  {
   "cell_type": "code",
   "execution_count": null,
   "metadata": {},
   "outputs": [],
   "source": [
    "self.plot_spatial()"
   ]
  },
  {
   "cell_type": "code",
   "execution_count": null,
   "metadata": {},
   "outputs": [],
   "source": [
    "# To Reload Past Cropping\n",
    "\n",
    "# for s in [\"50336B\", \"50336C\", \"50403B\", \"50006A\", \"50217B\", \"50217A\",\n",
    "#           \"50403A2\", \"50006B\"]:\n",
    "#     print(f\"\\n\\n{'*' * 40}\\n{s}\\n{'*' * 40}\\n\\n\")\n",
    "#     file_path = np.array(files)[np.where([s == os.path.basename(\n",
    "#         x).split(\"__\")[2].split(\"-\")[0] for x in files])[0][0]]\n",
    "#     lib = m_d.reset_index().set_index(cso).loc[s][col_sample]\n",
    "#     self = cr.Spatial(os.path.join(dir_data, file_path), library_id=lib)\n",
    "#     table = sc.read(os.path.join(out_dir, f\"{lib}_{coord_suffix}.h5ad\"))\n",
    "#     sdata = copy.deepcopy(self.adata)\n",
    "#     sdata = cr.pp.subset_spatial(\n",
    "#         sdata, col_region=col_sample_id, col_cell_id=\"cell_id\",\n",
    "#         key_cell_id=table.obs[\"cell_id\"].to_list())\n",
    "#     sdata.pl.render_labels(\"cell_labels\").pl.show()"
   ]
  },
  {
   "cell_type": "code",
   "execution_count": null,
   "metadata": {},
   "outputs": [],
   "source": [
    "    from spatialdata.transformations import get_transformation, set_transformation\n",
    "    from spatialdata._core.operations.transform import transform\n",
    "\n",
    "    polygon_gdf = ShapesModel.parse(GeoDataFrame(geometry=[polygon]))\n",
    "\n",
    "    m_without_c, input_axes_without_c, output_axes_without_c = _get_axes_of_tranformation(\n",
    "        element, target_coordinate_system\n",
    "    )\n",
    "    spatial_transform = Affine(m_without_c, input_axes=input_axes_without_c, output_axes=output_axes_without_c)\n",
    "\n",
    "    m_without_c_linear = m_without_c[:-1, :-1]\n",
    "    case = _get_case_of_bounding_box_query(m_without_c_linear, input_axes_without_c, output_axes_without_c)\n",
    "\n",
    "\n",
    "\n",
    "\n",
    "\n",
    "    polygon_gdf = _get_polygon_in_intrinsic_coordinates(element, target_coordinate_system, polygon)\n",
    "    polygon = polygon_gdf[\"geometry\"].iloc[0]\n",
    "\n",
    "    buffered = circles_to_polygons(element) if ShapesModel.RADIUS_KEY in element.columns else element\n",
    "\n",
    "    OLD_INDEX = \"__old_index\"\n",
    "    if OLD_INDEX in buffered.columns:\n",
    "        assert np.all(element[OLD_INDEX] == buffered.index)\n",
    "    else:\n",
    "        buffered[OLD_INDEX] = buffered.index\n",
    "\n",
    "    print(buffered.geometry)"
   ]
  }
 ],
 "metadata": {
  "kernelspec": {
   "display_name": "bio",
   "language": "python",
   "name": "python3"
  },
  "language_info": {
   "codemirror_mode": {
    "name": "ipython",
    "version": 3
   },
   "file_extension": ".py",
   "mimetype": "text/x-python",
   "name": "python",
   "nbconvert_exporter": "python",
   "pygments_lexer": "ipython3",
   "version": "3.10.4"
  }
 },
 "nbformat": 4,
 "nbformat_minor": 2
}
