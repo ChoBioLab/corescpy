{
 "cells": [
  {
   "cell_type": "markdown",
   "metadata": {},
   "source": [
    "# Options"
   ]
  },
  {
   "cell_type": "code",
   "execution_count": null,
   "metadata": {},
   "outputs": [],
   "source": [
    "%load_ext autoreload\n",
    "%autoreload 2\n",
    "\n",
    "import os\n",
    "import re\n",
    "import functools\n",
    "import numpy as np\n",
    "import pandas as pd\n",
    "import corescpy as cr\n",
    "\n",
    "# Count Threshold for Cell Quantification\n",
    "count_threshold = 1\n",
    "\n",
    "# File Paths\n",
    "libid = \"Uninflamed-50336C\"\n",
    "col_assignment = \"group\"\n",
    "dir_data = \"/mnt/cho_lab/bbdata2/outputs/TUQ97N\"\n",
    "out_dir = str(\"/mnt/cho_lab/disk2/elizabeth/data/shared-xenium-library/\"\n",
    "              \"outputs/TUQ97N/nebraska\")\n",
    "path_ann = \"~/corescpy/examples/markers_lineages.csv\"\n",
    "\n",
    "# Clustering Version\n",
    "c_t = \"leiden_res1pt5_dist0_npc30\"  # high resolution\n",
    "# c_t = \"leiden_res0pt75_dist0pt3_npc30\"  # medium resolution\n",
    "# c_t = \"leiden_res0pt5_dist0pt5_npc30\"  # low resolution\n",
    "\n",
    "# ToppGene Sources\n",
    "srcs = [\"Cells of the human intestinal tract mapped across space and time\",\n",
    "        \"Human Ileal Epithelial cells from Crohn’s Disease\",\n",
    "        \"Human Ileal Immune cells from Crohn’s Disease\"]\n",
    "\n",
    "# Display\n",
    "pd.options.display.max_colwidth = 1000\n",
    "pd.options.display.max_columns = 100\n",
    "pd.options.display.max_rows = 500"
   ]
  },
  {
   "cell_type": "markdown",
   "metadata": {},
   "source": [
    "# Load Data"
   ]
  },
  {
   "cell_type": "code",
   "execution_count": null,
   "metadata": {},
   "outputs": [],
   "source": [
    "# Annotation Guide File\n",
    "anf = pd.read_csv(path_ann)\n",
    "assign = anf.dropna(subset=col_assignment).set_index(\n",
    "    \"gene\").rename_axis(\"Gene\")  # markers\n",
    "\n",
    "# Find File for Sample\n",
    "files = functools.reduce(lambda i, j: i + j, [[os.path.join(\n",
    "    run, i) for i in os.listdir(os.path.join(\n",
    "        dir_data, run))] for run in os.listdir(dir_data)])\n",
    "file_path = np.array(files)[np.where([\"-\".join(libid.split(\n",
    "    \"-\")[1:]) == os.path.basename(x).split(\"__\")[2].split(\n",
    "        \"-\")[0] for x in files])[0][0]]\n",
    "\n",
    "# Load Spatial Data\n",
    "self = cr.Spatial(os.path.join(dir_data, file_path), library_id=libid)\n",
    "self.update_from_h5ad(os.path.join(out_dir, libid + \".h5ad\"))\n",
    "self.get_layer(\"counts\", inplace=True)"
   ]
  },
  {
   "cell_type": "markdown",
   "metadata": {},
   "source": [
    "# ToppGene"
   ]
  },
  {
   "cell_type": "code",
   "execution_count": null,
   "metadata": {},
   "outputs": [],
   "source": [
    "tgdf, mks = self.annotate_clusters(\n",
    "        None, sources=srcs, col_cell_type=c_t, max_results=10000,\n",
    "        name_pattern={srcs[0]: \"SmallIntestine\"}, p_threshold=1e-15,\n",
    "        lfc_threshold=1, n_top_genes=20, n_top_annotations=40)\n",
    "longs = [(\" / Per Region, Age_group, Lineage, cell class, cell type\", \"\"),\n",
    "         (\"SmallIntestine\", \"SmInt\")]\n",
    "for x in longs:\n",
    "    tgdf.loc[:, \"Name\"] = tgdf.Name.apply(lambda y: re.sub(x[0], x[1], y))\n",
    "tgdf.loc[:, \"Name\"] = tgdf.Name.apply(lambda y: \"|\".join(y.split(\"|\")[\n",
    "        :-1]) if y.split(\"|\")[-1].split(\"-\")[0] in y.split(\"-\")[0] and (any(\n",
    "            i in y for i in [\"Child\", \"Adult\", \"Pediatric\", \"Trim\"])) else y)\n",
    "tgdf = tgdf.rename_axis([c_t, \"Rank\"])\n",
    "tgdf = tgdf.join(tgdf.apply(\n",
    "    lambda x: f\"{x['GenesInTermInQuery']} / {x['GenesInQuery']}\",\n",
    "    axis=1).to_frame(\"Marker Matches\"))\n",
    "tgdf = tgdf[list(tgdf.columns[:1]) + [\"Marker Matches\"] + list(\n",
    "        tgdf.columns[1:-1])]\n",
    "tgdf"
   ]
  },
  {
   "cell_type": "markdown",
   "metadata": {},
   "source": [
    "# Quantification"
   ]
  },
  {
   "cell_type": "markdown",
   "metadata": {},
   "source": [
    "## Calculate"
   ]
  },
  {
   "cell_type": "code",
   "execution_count": null,
   "metadata": {},
   "outputs": [],
   "source": [
    "%%time\n",
    "\n",
    "outs, failed = {}, []  # hold results\n",
    "for i, k in enumerate(self.rna.obs[c_t].unique()):\n",
    "    if tgdf is not None and k in tgdf.reset_index(1).index.values:\n",
    "        print(f\"{'=' * 80}\\n{k}\\n ({i + 1}/{len(self.rna.obs[c_t].unique())})\"\n",
    "              f\"\\n{'=' * 80}\\n\\n{tgdf.loc[k].iloc[:, :3]}\\n\\n\")\n",
    "    try:\n",
    "        outs[k] = self.print_markers(\n",
    "                k, assign, col_cell_type=c_t, lfc_threshold=2,\n",
    "                count_threshold=count_threshold, p_threshold=1e-15,\n",
    "                print_threshold=15, n_top_genes=20)\n",
    "    except Exception as err:\n",
    "        failed += [(k, err)]\n",
    "if len(failed) > 0:\n",
    "    print(f\"Failed: {pd.Series(dict(failed))}\")"
   ]
  },
  {
   "cell_type": "markdown",
   "metadata": {},
   "source": [
    "## Format"
   ]
  },
  {
   "cell_type": "code",
   "execution_count": null,
   "metadata": {},
   "outputs": [],
   "source": [
    "quant = {}\n",
    "for k in outs:\n",
    "    _, percs_exp, n_exp, _, _ = outs[k]\n",
    "    n_exp = n_exp.copy()\n",
    "    quant[k] = pd.concat([x.rename_axis(\"Measure\", axis=1).stack() for x in [\n",
    "        percs_exp.rename_axis(\"Cell Types\", axis=1).stack().replace(\n",
    "            \"\", np.nan).dropna().to_frame(\"n_exp\"), n_exp.set_index(\n",
    "                \"Cell Types\", append=True).rename({k: \"Cluster\"}, axis=1)]],\n",
    "                         keys=[\"quantification\", \"representation\"]).unstack(\n",
    "                             0).unstack(-1).dropna(how=\"all\", axis=1)\n",
    "quant = pd.concat(quant, names=[\"Cluster\"])"
   ]
  },
  {
   "cell_type": "markdown",
   "metadata": {},
   "source": [
    "## Write"
   ]
  },
  {
   "cell_type": "code",
   "execution_count": null,
   "metadata": {},
   "outputs": [],
   "source": [
    "if out_dir:\n",
    "    quant.to_excel(os.path.join(\n",
    "        out_dir, \"quantification\",\n",
    "        f\"{self._library_id}__{c_t}_quantification_annotation.xlsx\"))"
   ]
  },
  {
   "cell_type": "markdown",
   "metadata": {},
   "source": [
    "# Extras"
   ]
  },
  {
   "cell_type": "markdown",
   "metadata": {},
   "source": [
    "## Specific Genes"
   ]
  },
  {
   "cell_type": "code",
   "execution_count": null,
   "metadata": {},
   "outputs": [],
   "source": [
    "%%time\n",
    "\n",
    "ggg = pd.DataFrame([\"CDKN1A\", \"CDKN2A\", \"TP53\", \"PLAUR\", \"IL6ST\"])[\n",
    "    0].to_frame(\"Gene\").assign(Annotation=\"Senescence\").set_index(\"Gene\")\n",
    "outs_snc, failed = {}, []  # hold results\n",
    "for i, k in enumerate(self.rna.obs[c_t].unique()):\n",
    "    outs_snc[k] = self.print_markers(\n",
    "        k, ggg, col_cell_type=c_t, lfc_threshold=None, print_threshold=0,\n",
    "        count_threshold=count_threshold, p_threshold=None, n_top_genes=None)\n",
    "if len(failed) > 0:\n",
    "    print(f\"Failed: {pd.Series(dict(failed))}\")"
   ]
  },
  {
   "cell_type": "code",
   "execution_count": null,
   "metadata": {},
   "outputs": [],
   "source": [
    "q_snc = {}\n",
    "for k in outs:\n",
    "    _, percs_exp, n_exp, _, _ = outs[k]\n",
    "    n_exp = n_exp.copy()\n",
    "    q_snc[k] = pd.concat([x.rename_axis(\"Measure\", axis=1).stack() for x in [\n",
    "        percs_exp.rename_axis(\"Cell Types\", axis=1).stack().replace(\n",
    "            \"\", np.nan).dropna().to_frame(\"n_exp\"), n_exp.set_index(\n",
    "                \"Cell Types\", append=True).rename({k: \"Cluster\"}, axis=1)]],\n",
    "                         keys=[\"quantification\", \"representation\"]).unstack(\n",
    "                             0).unstack(-1).dropna(how=\"all\", axis=1)\n",
    "q_snc = pd.concat(quant, names=[\"Cluster\"])\n",
    "q_snc"
   ]
  }
 ],
 "metadata": {
  "kernelspec": {
   "display_name": "bio",
   "language": "python",
   "name": "python3"
  },
  "language_info": {
   "codemirror_mode": {
    "name": "ipython",
    "version": 3
   },
   "file_extension": ".py",
   "mimetype": "text/x-python",
   "name": "python",
   "nbconvert_exporter": "python",
   "pygments_lexer": "ipython3",
   "version": "3.10.4"
  }
 },
 "nbformat": 4,
 "nbformat_minor": 2
}
