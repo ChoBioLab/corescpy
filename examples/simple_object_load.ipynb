{
 "cells": [
  {
   "cell_type": "code",
   "execution_count": 10,
   "metadata": {},
   "outputs": [
    {
     "name": "stdout",
     "output_type": "stream",
     "text": [
      "The autoreload extension is already loaded. To reload it, use:\n",
      "  %reload_ext autoreload\n",
      "\n",
      "\n",
      "<<< INITIALIZING SPATIAL CLASS OBJECT >>>\n",
      "\n",
      "\u001b[34mINFO    \u001b[0m reading                                                                                                   \n",
      "         \u001b[35m/mnt/cho_lab/bbdata2/outputs/TUQ97N/CHO-001/output-XETG00189__0010700__50452A-TUQ97N-EA__20240126__205019/\u001b[0m\n",
      "         \u001b[95mcell_feature_matrix.h5\u001b[0m                                                                                    \n"
     ]
    }
   ],
   "source": [
    "%load_ext autoreload\n",
    "%autoreload 2\n",
    "\n",
    "import os\n",
    "import re\n",
    "import functools\n",
    "import numpy as np\n",
    "import pandas as pd\n",
    "import corescpy as cr\n",
    "\n",
    "# File Paths\n",
    "libid = \"50452A\"\n",
    "ddd = \"/mnt/cho_lab/disk2/elizabeth/data/shared-xenium-library\"\n",
    "dir_data = \"/mnt/cho_lab/bbdata2/outputs/TUQ97N\"  # data directory\n",
    "out_dir = os.path.join(ddd, \"outputs/TUQ97N/nebraska\")  # output directory\n",
    "file_mdf = os.path.join(ddd, \"samples.csv\")  # metadata\n",
    "\n",
    "# Metadata\n",
    "col_subject, col_condition = \"Patient\", \"Condition\"\n",
    "col_inflamed, col_stricture = \"Inflamed\", \"Stricture\"  # in metadata file\n",
    "col_sample_id_o, col_sample_id = \"Sample ID\", \"Sample\"  # in metadata, new\n",
    "key_uninfl, key_infl, key_stric = \"Uninflamed\", \"Inflamed\", \"Stricture\"\n",
    "m_d = (pd.read_excel if file_mdf[-4:] == \"xlsx\" else pd.read_csv)(\n",
    "    file_mdf, dtype={\"Slide ID\": str}).rename({\n",
    "        \"Name\": col_subject, \"Inflammation\": col_inflamed}, axis=1)\n",
    "m_d.loc[:, col_condition] = m_d.apply(lambda x: \"Stricture\" if x[\n",
    "    col_stricture].lower() in [\"stricture\", \"yes\"] else x[\n",
    "        col_inflamed].capitalize(), axis=1)  # inflamation/stricture condition\n",
    "m_d.loc[:, col_sample_id] = m_d[[col_condition, col_sample_id_o]].apply(\n",
    "    \"-\".join, axis=1)\n",
    "\n",
    "# Find File Path\n",
    "files = functools.reduce(lambda i, j: i + j, [[os.path.join(\n",
    "    run, i) for i in os.listdir(os.path.join(\n",
    "        dir_data, run))] for run in os.listdir(dir_data)])\n",
    "file_path = np.array(files)[np.where([libid == os.path.basename(\n",
    "    x).split(\"__\")[2].split(\"-\")[0] for x in files])[0][0]]\n",
    "\n",
    "# Load Data\n",
    "lib = m_d.reset_index().set_index(col_sample_id_o).loc[libid][col_sample_id]\n",
    "self = cr.Spatial(os.path.join(dir_data, file_path), library_id=lib)\n",
    "self.update_from_h5ad(os.path.join(out_dir, lib + \".h5ad\"))\n",
    "self.get_layer(\"counts\", inplace=True)"
   ]
  },
  {
   "cell_type": "markdown",
   "metadata": {},
   "source": [
    "# Crop Data by Xenium Explorer Selection"
   ]
  },
  {
   "cell_type": "code",
   "execution_count": null,
   "metadata": {},
   "outputs": [],
   "source": [
    "coord_suffix = \"mucosa\"\n",
    "dir_coord = os.path.join(out_dir, \"coordinates\", coord_suffix)  # coordinates\n",
    "sdata = self.crop(os.path.join(out_dir, libid + f\"_{coord_suffix}.csv\"))"
   ]
  }
 ],
 "metadata": {
  "kernelspec": {
   "display_name": "bio",
   "language": "python",
   "name": "python3"
  },
  "language_info": {
   "codemirror_mode": {
    "name": "ipython",
    "version": 3
   },
   "file_extension": ".py",
   "mimetype": "text/x-python",
   "name": "python",
   "nbconvert_exporter": "python",
   "pygments_lexer": "ipython3",
   "version": "3.10.4"
  }
 },
 "nbformat": 4,
 "nbformat_minor": 2
}
