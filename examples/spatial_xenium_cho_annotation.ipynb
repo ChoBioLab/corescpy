{
 "cells": [
  {
   "cell_type": "markdown",
   "metadata": {},
   "source": [
    "# Options & Data"
   ]
  },
  {
   "cell_type": "code",
   "execution_count": null,
   "metadata": {},
   "outputs": [],
   "source": [
    "%load_ext autoreload\n",
    "%autoreload 2\n",
    "\n",
    "import os\n",
    "import re\n",
    "import functools\n",
    "import numpy as np\n",
    "import pandas as pd\n",
    "import corescpy as cr\n",
    "\n",
    "# Count Threshold for Cell Quantification\n",
    "count_threshold = 1\n",
    "\n",
    "# File Paths\n",
    "libid = \"Uninflamed-50336C\"\n",
    "col_assignment = \"group\"\n",
    "dir_data = \"/mnt/cho_lab/bbdata2/outputs/TUQ97N\"\n",
    "out_dir = str(\"/mnt/cho_lab/disk2/elizabeth/data/shared-xenium-library/\"\n",
    "              \"outputs/TUQ97N/nebraska\")\n",
    "path_ann = \"~/corescpy/examples/markers_lineages.csv\"\n",
    "\n",
    "# Clustering Version\n",
    "c_t = \"leiden_res1pt5_dist0_npc30\"  # high resolution\n",
    "# c_t = \"leiden_res0pt75_dist0pt3_npc30\"  # medium resolution\n",
    "# c_t = \"leiden_res0pt5_dist0pt5_npc30\"  # low resolution\n",
    "\n",
    "# ToppGene Sources & Quantification Count Threshold\n",
    "srcs = [\"Cells of the human intestinal tract mapped across space and time\",\n",
    "        \"Human Ileal Epithelial cells from Crohn’s Disease\",\n",
    "        \"Human Ileal Immune cells from Crohn’s Disease\"]\n",
    "count_threshold = 1\n",
    "\n",
    "# Display\n",
    "pd.options.display.max_colwidth = 1000\n",
    "pd.options.display.max_columns = 100\n",
    "pd.options.display.max_rows = 500\n",
    "\n",
    "# Annotation Guide File\n",
    "anf = pd.read_csv(path_ann)\n",
    "assign = anf.dropna(subset=col_assignment).set_index(\n",
    "    \"gene\").rename_axis(\"Gene\")  # markers\n",
    "\n",
    "# Find File for Sample\n",
    "files = functools.reduce(lambda i, j: i + j, [[os.path.join(\n",
    "    run, i) for i in os.listdir(os.path.join(\n",
    "        dir_data, run))] for run in os.listdir(dir_data)])\n",
    "file_path = np.array(files)[np.where([\"-\".join(libid.split(\n",
    "    \"-\")[1:]) == os.path.basename(x).split(\"__\")[2].split(\n",
    "        \"-\")[0] for x in files])[0][0]]\n",
    "\n",
    "# Load Spatial Data\n",
    "self = cr.Spatial(os.path.join(dir_data, file_path), library_id=libid)\n",
    "self.update_from_h5ad(os.path.join(out_dir, libid + \".h5ad\"))\n",
    "self.get_layer(\"counts\", inplace=True)"
   ]
  },
  {
   "cell_type": "markdown",
   "metadata": {},
   "source": [
    "# ToppGene"
   ]
  },
  {
   "cell_type": "code",
   "execution_count": null,
   "metadata": {},
   "outputs": [],
   "source": [
    "self.get_layer(\"counts\", inplace=True)\n",
    "tgdf, mks = self.annotate_clusters(\n",
    "        None, sources=srcs, col_cell_type=c_t, max_results=10000,\n",
    "        name_pattern={srcs[0]: \"SmallIntestine\"}, p_threshold=1e-15,\n",
    "        lfc_threshold=1, n_top_genes=20, n_top_annotations=40)\n",
    "longs = [(\" / Per Region, Age_group, Lineage, cell class, cell type\", \"\"),\n",
    "         (\"SmallIntestine\", \"SmInt\")]\n",
    "for x in longs:\n",
    "    tgdf.loc[:, \"Name\"] = tgdf.Name.apply(lambda y: re.sub(x[0], x[1], y))\n",
    "tgdf.loc[:, \"Name\"] = tgdf.Name.apply(lambda y: \"|\".join(y.split(\"|\")[\n",
    "        :-1]) if y.split(\"|\")[-1].split(\"-\")[0] in y.split(\"-\")[0] and (any(\n",
    "            i in y for i in [\"Child\", \"Adult\", \"Pediatric\", \"Trim\"])) else y)\n",
    "tgdf = tgdf.rename_axis([c_t, \"Rank\"])\n",
    "tgdf = tgdf.join(tgdf.apply(\n",
    "    lambda x: f\"{x['GenesInTermInQuery']} / {x['GenesInQuery']}\",\n",
    "    axis=1).to_frame(\"Marker Matches\"))\n",
    "tgdf = tgdf[list(tgdf.columns[:1]) + [\"Marker Matches\"] + list(\n",
    "        tgdf.columns[1:-1])]\n",
    "tgdf = tgdf.rename_axis([c_t, \"Rank\"])\n",
    "tgdf"
   ]
  },
  {
   "cell_type": "markdown",
   "metadata": {},
   "source": [
    "# Quantification"
   ]
  },
  {
   "cell_type": "markdown",
   "metadata": {},
   "source": [
    "## By Markers"
   ]
  },
  {
   "cell_type": "code",
   "execution_count": null,
   "metadata": {},
   "outputs": [],
   "source": [
    "%%time\n",
    "\n",
    "outs, failed = {}, []  # hold results\n",
    "for i, k in enumerate(self.rna.obs[c_t].unique()):\n",
    "    if tgdf is not None and k in tgdf.reset_index(1).index.values:\n",
    "        print(f\"{'=' * 80}\\n{k}\\n ({i + 1}/{len(self.rna.obs[c_t].unique())})\"\n",
    "              f\"\\n{'=' * 80}\\n\\n{tgdf.loc[k].iloc[:, :3]}\\n\\n\")\n",
    "    try:\n",
    "        outs[k] = self.print_markers(\n",
    "                k, assign, col_cell_type=c_t, lfc_threshold=2,\n",
    "                count_threshold=count_threshold, p_threshold=1e-15,\n",
    "                print_threshold=15, n_top_genes=20)\n",
    "    except Exception as err:\n",
    "        failed += [(k, err)]\n",
    "if len(failed) > 0:\n",
    "    print(f\"Failed: {pd.Series(dict(failed))}\")"
   ]
  },
  {
   "cell_type": "markdown",
   "metadata": {},
   "source": [
    "## By Specific Genes"
   ]
  },
  {
   "cell_type": "code",
   "execution_count": null,
   "metadata": {},
   "outputs": [],
   "source": [
    "%%time\n",
    "\n",
    "ggg = pd.DataFrame([\"CDKN1A\", \"CDKN2A\", \"TP53\", \"PLAUR\", \"IL6ST\"])[\n",
    "    0].to_frame(\"Gene\").assign(Annotation=\"Senescence\").set_index(\"Gene\")\n",
    "outs_bg, failed = {}, []  # hold results\n",
    "for i, k in enumerate(self.rna.obs[c_t].unique()):\n",
    "    outs_bg[k] = self.print_markers(\n",
    "        k, ggg, col_cell_type=c_t, lfc_threshold=None, print_threshold=0,\n",
    "        count_threshold=count_threshold, p_threshold=None, n_top_genes=None)\n",
    "if len(failed) > 0:\n",
    "    print(f\"Failed: {pd.Series(dict(failed))}\")"
   ]
  },
  {
   "cell_type": "markdown",
   "metadata": {},
   "source": [
    "## Write"
   ]
  },
  {
   "cell_type": "code",
   "execution_count": null,
   "metadata": {},
   "outputs": [],
   "source": [
    "for i, x in [outs, outs_bg]:\n",
    "    quant = {}\n",
    "    for k in outs:\n",
    "        percs_exp, n_exp = x[k][1].copy(), x[k][2].copy()\n",
    "        quant[k] = pd.concat([\n",
    "            x.rename_axis(\"Measure\", axis=1).stack() for x in [\n",
    "                percs_exp.rename_axis(\"Cell Types\", axis=1).stack().replace(\n",
    "                    \"\", np.nan).dropna().to_frame(\"n_exp\"), n_exp.set_index(\n",
    "                        \"Cell Types\", append=True).rename({\n",
    "                            k: \"Cluster\"}, axis=1)]], keys=[\n",
    "                                \"quantification\", \"representation\"]).unstack(\n",
    "                                    0).unstack(-1).dropna(how=\"all\", axis=1)\n",
    "    quant = pd.concat(quant, names=[\"Cluster\"])\n",
    "    if out_dir:\n",
    "        suf = \"\" if i == 0 else \"_\" + \"_\".join(ggg.reset_index(\n",
    "            ).Gene.unique().to_list())  # file suffix if by gene\n",
    "        quant.to_excel(os.path.join(\n",
    "            out_dir, \"quantification\",\n",
    "            f\"{self._library_id}__{c_t}_quantification_annotation{suf}.xlsx\"))"
   ]
  },
  {
   "cell_type": "markdown",
   "metadata": {},
   "source": [
    "# View"
   ]
  },
  {
   "cell_type": "markdown",
   "metadata": {},
   "source": [
    "## ToppGene/Quantifications"
   ]
  },
  {
   "cell_type": "code",
   "execution_count": null,
   "metadata": {},
   "outputs": [],
   "source": [
    "key_cluster = \"32\"\n",
    "output = outs  # see \"by markers\" version\n",
    "# output = outs_bg  # see \"by specific genes\" version\n",
    "\n",
    "if tgdf is not None and key_cluster in tgdf.reset_index(1).index.values:\n",
    "    print(f\"{'=' * 80}\\n\\n{key_cluster}\\n\\n\"\n",
    "          f\"{tgdf.loc[key_cluster].iloc[:, :-3]}\")\n",
    "_, percs_exp, n_exp, genes, msg = outs[key_cluster]\n",
    "n_exp = n_exp.copy().set_index(\"Cell Types\", append=True)\n",
    "print(percs_exp.applymap(lambda x: x if x == \"\" else str(\n",
    "    int(x)) + \"%\").stack().replace(\"\", np.nan).dropna().sort_values(\n",
    "            ascending=False).head(20))\n",
    "print(f\"{genes}\\n\\n{n_exp.applymap(int)}\\n\\n{msg}\")\n",
    "print(f\"\\n\\nN = {sum(self.rna.obs[c_t] == k)}\\n\\n\")\n",
    "percs_exp.applymap(lambda x: x if x == \"\" else str(int(x)) + \"%\")"
   ]
  },
  {
   "cell_type": "markdown",
   "metadata": {},
   "source": [
    "## Plotting"
   ]
  },
  {
   "cell_type": "code",
   "execution_count": null,
   "metadata": {},
   "outputs": [],
   "source": [
    "fig, axis = plt.subplots(1, 2)\n",
    "self.plot_spatial(color=c_t, groups=[\"32\"], ax=axis[0])\n",
    "self.plot_spatial(\"Stricture-50336A___morphology_focus_scale4\", ax=axis[1])"
   ]
  },
  {
   "cell_type": "markdown",
   "metadata": {},
   "source": [
    "## Specific to Subsets of Cell Types"
   ]
  },
  {
   "cell_type": "code",
   "execution_count": null,
   "metadata": {},
   "outputs": [],
   "source": [
    "# comp = [\"0\", \"5\", \"8\", \"10\", \"18\", \"20\", \"34\"]\n",
    "comp = [\"2\", \"7\", \"11\", \"21\", \"28\"]\n",
    "count_threshold = 1\n",
    "key_cluster = \"2\"\n",
    "_, percs_exp, n_exp, genes, msg = self.print_markers(\n",
    "    key_cluster, assign, col_cell_type=c_t, lfc_threshold=None,\n",
    "    key_compare=comp, count_threshold=count_threshold, p_threshold=1,\n",
    "    n_top_genes=list(assign[assign.Lump == \"Epithelial\"].index.intersection(\n",
    "        self.rna.var_names)) + [\"TP53\", \"PLAUR\"])\n",
    "n_exp = n_exp.copy().set_index(\"Cell Types\", append=True)\n",
    "print(f\"{genes}\\n\\n{n_exp.applymap(int)}\\n\\n{msg}\")\n",
    "percs_exp.applymap(lambda x: x if x == \"\" else str(int(x)) + \"%\")"
   ]
  }
 ],
 "metadata": {
  "kernelspec": {
   "display_name": "bio",
   "language": "python",
   "name": "python3"
  },
  "language_info": {
   "codemirror_mode": {
    "name": "ipython",
    "version": 3
   },
   "file_extension": ".py",
   "mimetype": "text/x-python",
   "name": "python",
   "nbconvert_exporter": "python",
   "pygments_lexer": "ipython3",
   "version": "3.10.4"
  }
 },
 "nbformat": 4,
 "nbformat_minor": 2
}
