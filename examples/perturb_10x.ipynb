{
 "cells": [
  {
   "cell_type": "markdown",
   "metadata": {},
   "source": [
    "# Setup"
   ]
  },
  {
   "cell_type": "code",
   "execution_count": null,
   "metadata": {},
   "outputs": [],
   "source": [
    "import crispr as cr \n",
    "import pertpy\n",
    "import muon\n",
    "import os\n",
    "import pandas as pd\n",
    "import numpy as np\n",
    "from config import (files_data, col_cell_type_data, col_gene_symbols_data, \n",
    "                    assays_data, layer_perturbation_data,\n",
    "                    col_perturbation_data, key_control_data, \n",
    "                    col_split_by_data, layer_perturbation_data,\n",
    "                    label_perturbation_type_data, col_target_genes_data,\n",
    "                    key_treatment_data, col_guide_rna_data,\n",
    "                    col_sample_id_data, load_example_data)\n",
    "\n",
    "# Options\n",
    "print(dir(cr.ax))\n",
    "n_threads = 4\n",
    "file = \"CRISPRi_scr\"\n",
    "regress_out = None\n",
    "process_kws = dict(hvg_kws = dict(min_mean=0.0125, max_mean=3, min_disp=0.5),\n",
    "                   target_sum = 1e4, max_genes_by_counts = 2500, \n",
    "                   max_pct_mt = 5, min_genes = 200, min_cells = 3, scale = 10,\n",
    "                   regress_out = regress_out)\n",
    "write_public = True  # if need to download public data, write to examples/data?\n",
    "\n",
    "#  Set Arguments\n",
    "col_cell_type = col_cell_type_data[file]\n",
    "col_sample_id = col_sample_id_data[file]\n",
    "col_perturbation = col_perturbation_data[file]\n",
    "key_control, label_perturbation_type, col_target_genes, layer = [\n",
    "    x[file] for x in [key_control_data, label_perturbation_type_data,\n",
    "                      col_target_genes_data, layer_perturbation_data]\n",
    "]\n",
    "col_gene_symbols = col_gene_symbols_data[file]\n",
    "if file in assays_data:\n",
    "    if isinstance(assays_data[file], str) or assays_data[file] is None:\n",
    "        assays_data[file] = [assays_data[file], None]\n",
    "    assay, assay_protein = assays_data[file]\n",
    "else:\n",
    "    assay, assay_protein = None\n",
    "key_treatment = key_treatment_data[file]\n",
    "col_split_by = col_split_by_data[file]\n",
    "col_guide_rna = col_guide_rna_data[file]\n",
    "layer_perturbation = layer_perturbation_data[file]\n",
    "file_path = files_data[file]\n",
    "print(files_data)"
   ]
  },
  {
   "cell_type": "markdown",
   "metadata": {},
   "source": [
    "## Data"
   ]
  },
  {
   "cell_type": "code",
   "execution_count": null,
   "metadata": {},
   "outputs": [],
   "source": [
    "f = h5py.File(file_path, \"r\")\n",
    "mat = f[\"matrix\"]\n",
    "print(mat[\"features\"][\"feature_type\"])\n",
    "\n",
    "f.close()"
   ]
  },
  {
   "cell_type": "code",
   "execution_count": null,
   "metadata": {},
   "outputs": [],
   "source": [
    "import h5py \n",
    "import anndata \n",
    "import scipy.sparse as sp_sparse\n",
    "\n",
    "key = (\"matrix\", \"features\")\n",
    "with h5py.File(file_path, \"r\") as f:\n",
    "    keys = [k for k in f.keys()]\n",
    "    # read array\n",
    "    if isinstance(key, (list, np.ndarray, tuple, set)):\n",
    "        mat = f[key[0]]\n",
    "        shape = mat[\"shape\"]\n",
    "        for i in range(1, len(key)):\n",
    "            print(i, mat.keys())\n",
    "            mat = mat[key[i]]\n",
    "    else:\n",
    "        mat = f[key]\n",
    "    print(mat)\n",
    "    print(type(mat))\n",
    "    mat = sp_sparse.csr_matrix(mat)\n",
    "    adata = anndata.AnnData(mat, shape=())"
   ]
  },
  {
   "cell_type": "code",
   "execution_count": null,
   "metadata": {},
   "outputs": [],
   "source": [
    "# h5f.close()\n",
    "# dir(h5f[\"matrix\"][\"features\"][\"target_gene_name\"])\n",
    "import scipy.sparse as sp_sparse\n",
    "with h5py.File(file_path, \"r\") as f:\n",
    "    matrix = sp_sparse.csr_matrix((f['matrix']['data'], \n",
    "                                    f['matrix']['indices'], \n",
    "                                    f['matrix']['indptr']), \n",
    "                                    shape=f['matrix']['shape'])\n",
    "    # feature_ids = [x.decode(\"ascii\", \"ignore\") \n",
    "    #             for x in f[\"matrix\"][\"features\"][\"id\"]]\n",
    "    # feature_names = [x.decode(\"ascii\", \"ignore\") \n",
    "    #                     for x in f[\"matrix\"][\"features\"][\"name\"]]        \n",
    "    # barcodes = list(f[\"matrix\"][\"barcodes\"][:])\n",
    "    # matrix = sp_sparse.csr_matrix((f[\"matrix\"][\"data\"], \n",
    "    #                                 f[\"matrix\"][\"indices\"], \n",
    "    #                                 f[\"matrix\"][\"indptr\"]), \n",
    "    #                                   shape=f[\"matrix\"][\"shape\"])\n",
    "    # fbm = FeatureBCMatrix(feature_ids, feature_names, barcodes, matrix)"
   ]
  },
  {
   "cell_type": "code",
   "execution_count": null,
   "metadata": {},
   "outputs": [],
   "source": [
    "import scanpy as sc\n",
    "\n",
    "# with h5py.File(file_path, 'r') as h5_file:\n",
    "#     print(list(h5_file.keys()))  # List all the keys (datasets/groups) in the file\n",
    "#     print(h5_file[\"matrix\"].keys())\n",
    "#     # Explore the structure of the file and metadata\n",
    "h5f = h5py.File(file_path, \"r\")\n",
    "\n",
    "adata = load_example_data(file, col_gene_symbols=col_gene_symbols)\n",
    "print(pd.read_csv(\"data/crispr-screening/feature_ref.csv\"))\n",
    "adata.obs"
   ]
  },
  {
   "cell_type": "code",
   "execution_count": null,
   "metadata": {},
   "outputs": [],
   "source": [
    "import scipy.sparse as sp\n",
    "import scanpy as sc\n",
    "\n",
    "adata = sc.read_10x_h5(file_path, gex_only=False)\n",
    "adata_crispr = adata[:, adata.var.feature_types == \"CRISPR Guide Capture\"]\n",
    "adata = adata[:, adata.var.feature_types == \"Gene Expression\"]\n",
    "common_genes = adata.var_names.intersection(adata_crispr.var_names)\n",
    "adata = adata[:, common_genes]\n",
    "adata.layers[\"X_pert\"] = sp.csr_matrix(adata_crispr.X)"
   ]
  },
  {
   "cell_type": "code",
   "execution_count": null,
   "metadata": {},
   "outputs": [],
   "source": [
    "fbm, gex, barcodes, genes = cr.pp.get_matrix_from_h5(file_path)"
   ]
  },
  {
   "cell_type": "code",
   "execution_count": null,
   "metadata": {},
   "outputs": [],
   "source": [
    "adata.var[adata.var.feature_types == \"CRISPR Guide Capture\"]\n",
    "adata.var[adata.var.feature_types == \"Gene Expression\"]"
   ]
  }
 ],
 "metadata": {
  "language_info": {
   "name": "python"
  },
  "orig_nbformat": 4
 },
 "nbformat": 4,
 "nbformat_minor": 2
}
