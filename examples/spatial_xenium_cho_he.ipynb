{
 "cells": [
  {
   "cell_type": "markdown",
   "metadata": {},
   "source": [
    "# Imports"
   ]
  },
  {
   "cell_type": "code",
   "execution_count": null,
   "metadata": {},
   "outputs": [],
   "source": [
    "%load_ext autoreload\n",
    "%autoreload 2\n",
    "%matplotlib inline\n",
    "\n",
    "import os\n",
    "import re\n",
    "import functools\n",
    "import matplotlib.pyplot as plt\n",
    "import seaborn as sb\n",
    "import scanpy as sc\n",
    "import spatialdata\n",
    "import spatialdata_io as sdio\n",
    "import numpy as np\n",
    "import pandas as pd\n",
    "import corescpy as cr"
   ]
  },
  {
   "cell_type": "markdown",
   "metadata": {},
   "source": [
    "# Setup"
   ]
  },
  {
   "cell_type": "markdown",
   "metadata": {},
   "source": [
    "## Options & Data"
   ]
  },
  {
   "cell_type": "code",
   "execution_count": null,
   "metadata": {},
   "outputs": [],
   "source": [
    "%%time\n",
    "\n",
    "# Count Threshold for Cell Quantification\n",
    "count_threshold = 1\n",
    "\n",
    "# File Paths\n",
    "libid = \"Inflamed-50006A\"\n",
    "# libid = \"Uninflamed-50336C\"\n",
    "# libid = \"Stricture-50564A4\"\n",
    "dir_data = \"/mnt/cho_lab/bbdata2/outputs/TUQ97N\"\n",
    "out_dir = str(\"/mnt/cho_lab/disk2/elizabeth/data/shared-xenium-library/\"\n",
    "              \"outputs/TUQ97N/nebraska\")\n",
    "path_dir = os.path.join(out_dir, \"pathology\")\n",
    "file_align = os.path.join(path_dir,\n",
    "                          f\"alignment/{libid}_alignment_files/matrix.csv\")\n",
    "file_image = (os.path.join(path_dir, f\"{libid.split('-')[1]}.ndpi\"),  # raw\n",
    "              os.path.join(path_dir, f\"ome-tiff/{libid}.ome.tif\"))  # convert\n",
    "\n",
    "# Clustering Version\n",
    "col_cell_type = \"leiden_res1pt5_dist0_npc30\"  # high resolution\n",
    "# c_t = \"leiden_res0pt75_dist0pt3_npc30\"  # medium resolution\n",
    "# c_t = \"leiden_res0pt5_dist0pt5_npc30\"  # low resolution\n",
    "\n",
    "# Display\n",
    "pd.options.display.max_colwidth = 1000\n",
    "pd.options.display.max_columns = 100\n",
    "pd.options.display.max_rows = 500\n",
    "\n",
    "# Spatial Data\n",
    "files = functools.reduce(lambda i, j: i + j, [[os.path.join(\n",
    "    run, i) for i in os.listdir(os.path.join(\n",
    "        dir_data, run))] for run in os.listdir(dir_data)])\n",
    "file_path = np.array(files)[np.where([\"-\".join(libid.split(\n",
    "    \"-\")[1:]) == os.path.basename(x).split(\"__\")[2].split(\n",
    "        \"-\")[0] for x in files])[0][0]]\n",
    "self = cr.Spatial(os.path.join(dir_data, file_path), library_id=libid,\n",
    "                  col_cell_type=col_cell_type, n_jobs=16)\n",
    "self.update_from_h5ad(os.path.join(out_dir, libid + \".h5ad\"))\n",
    "self.get_layer(\"counts\", inplace=True)\n",
    "self.adata"
   ]
  },
  {
   "cell_type": "markdown",
   "metadata": {},
   "source": [
    "## Load Annotations"
   ]
  },
  {
   "cell_type": "code",
   "execution_count": null,
   "metadata": {},
   "outputs": [],
   "source": [
    "fmr = os.path.join(out_dir, \"annotation_dictionaries\", str(\n",
    "    f\"{self._library_id}___{col_cell_type}_dictionary.xlsx\"))  # file\n",
    "fmr = pd.read_excel(fmr).astype(str)\n",
    "c_m = col_cell_type.split(\"leiden_\")[1]\n",
    "for x in [\"annotation\", \"bin\", \"bucket\"]:\n",
    "    self.rna.obs.loc[:, f\"{x}_{c_m}\"] = self.rna.obs[col_cell_type].astype(\n",
    "        int).astype(str).replace(fmr.set_index(fmr.columns[0])[x])  # to label\n",
    "    self.rna.obs.loc[:, f\"{x}_{c_m}\"] = self.rna.obs[\n",
    "        f\"{x}_{c_m}\"].astype(\"category\")  # as categorical"
   ]
  },
  {
   "cell_type": "markdown",
   "metadata": {},
   "source": [
    "## Load Image"
   ]
  },
  {
   "cell_type": "code",
   "execution_count": null,
   "metadata": {},
   "outputs": [],
   "source": [
    "if os.path.exists(file_image[1]) is False:  # convert to ome-tiff if needed\n",
    "    cr.tl.write_ome_tif(file_image[0], file_image[1],\n",
    "                        bf_cmd=\"cd ~/bftools && \")\n",
    "self.add_image(file_image[1], name=\"he\", file_align=file_align)  # add image"
   ]
  },
  {
   "cell_type": "code",
   "execution_count": null,
   "metadata": {},
   "outputs": [],
   "source": [
    "# %matplotlib inline\n",
    "# import matplotlib.pyplot as plt\n",
    "# from napari_spatialdata import Interactive\n",
    "# from spatialdata import SpatialData\n",
    "\n",
    "# plt.rcParams[\"figure.figsize\"] = (20, 20)\n",
    "\n",
    "# sdata = self.adata\n",
    "# interactive = Interactive(sdata)\n",
    "# interactive.run()"
   ]
  },
  {
   "cell_type": "markdown",
   "metadata": {},
   "source": [
    "# Render Images"
   ]
  },
  {
   "cell_type": "code",
   "execution_count": null,
   "metadata": {},
   "outputs": [],
   "source": [
    "%%time\n",
    "\n",
    "axes = plt.subplots(1, 2, figsize=(20, 13))[1].flatten()\n",
    "# axes = plt.subplots(3, 1, figsize=(20, 13))[1].flatten()\n",
    "self.adata.pl.render_images(\"he\").pl.show(\n",
    "    ax=axes[0], title=\"H&E\", coordinate_systems=\"global\")\n",
    "self.adata.pl.render_images(\"morphology_focus\").pl.show(\n",
    "    ax=axes[1], title=\"Morphology\", coordinate_systems=\"global\")\n",
    "# self.adata.pl.render_shapes(color=col_cell_type).pl.show(\n",
    "#     ax=axes[2], title=\"Labels\", coordinate_systems=\"global\")"
   ]
  },
  {
   "cell_type": "code",
   "execution_count": null,
   "metadata": {},
   "outputs": [],
   "source": [
    "self.adata.pl.render_images(\"morphology_focus\").pl.show(\n",
    "    title=\"Morphology\", coordinate_systems=\"global\", dpi=20)\n",
    "self.adata.pl.render_shapes(elements=\"cell_boundaries\", groups=[\n",
    "    \"1\", \"2\"], color=col_cell_type).pl.show(coordinate_systems=\"global\")"
   ]
  },
  {
   "cell_type": "code",
   "execution_count": null,
   "metadata": {},
   "outputs": [],
   "source": [
    "axes = plt.subplots(1, 2, figsize=(30, 30))[1].flatten()\n",
    "self.adata.pl.render_images(\"he\").pl.show(\n",
    "    ax=axes[0], title=\"H&E\", coordinate_systems=\"global\")\n",
    "self.adata.pl.render_shapes(color=col_cell_type).pl.show(\n",
    "    ax=axes[1], title=\"Labels\", coordinate_systems=\"global\")"
   ]
  },
  {
   "cell_type": "code",
   "execution_count": null,
   "metadata": {},
   "outputs": [],
   "source": [
    "sdata = self.crop([800, 1000], [600, 800])"
   ]
  },
  {
   "cell_type": "code",
   "execution_count": null,
   "metadata": {},
   "outputs": [],
   "source": [
    "sdata.pl.render_images(\"morphology_focus\", scale=\"scale4\").pl.show(\n",
    "    title=\"Morphology\", coordinate_systems=\"global\")"
   ]
  },
  {
   "cell_type": "code",
   "execution_count": null,
   "metadata": {},
   "outputs": [],
   "source": [
    "%%time\n",
    "\n",
    "from spatialdata_io.experimental import to_legacy_anndata\n",
    "\n",
    "adata = to_legacy_anndata(self.adata, include_images=True,\n",
    "                          coordinate_system=\"transformed\")\n",
    "sc.pl.spatial(adata, library_id=\"morphology_focus\", img_key=\"hires\",\n",
    "              na_color=\"white\", show=True, crop_coord=(0, 2000, 0, 2000))"
   ]
  },
  {
   "cell_type": "markdown",
   "metadata": {},
   "source": [
    "# Image Analysis"
   ]
  },
  {
   "cell_type": "code",
   "execution_count": null,
   "metadata": {},
   "outputs": [],
   "source": [
    "# Directories & Metadata\n",
    "load, reannotate = True, True\n",
    "# run = \"CHO-011\"\n",
    "# samples = \"all\"\n",
    "run = None  # just look for samples in all runs\n",
    "# samples = [\"50452A\", \"50452B\", \"50006A\", \"50006B\",\n",
    "#            \"50217A\", \"50217B\", \"50336B\", \"50336C\"]  # paired (un)inflamed\n",
    "# samples = [\"50006B\", \"50006A\",  \"50006C\",\n",
    "#            \"50217B\", \"50217A\", \"50217C\",\n",
    "#            \"50564A4\",\n",
    "#            \"50452A\", \"50452B\", \"50452C\",\n",
    "#            \"50336C\", \"50336B\",  \"50336A\"]  # all\n",
    "samples = [\"50006C\", \"50217C\", \"50452C\", \"50336A\"]  # paired strictures\n",
    "\n",
    "\n",
    "# Optionally, Define Manual Annotation Versions\n",
    "# should be stored in (\"<out_dir>/annotations_dictionaries\")\n",
    "# in format <selves[i]._library_id>___leiden_<man_anns[i]>_dictionary.xlsx\n",
    "# with first column = leiden cluster and second column = annotation\n",
    "man_anns = True  # load manual annotations according to clustering kws\n",
    "# man_anns = [\"res0pt5_dist0pt5_npc30\", \"res0pt75_dist0pt3_npc30\",\n",
    "#             \"res1pt5_dist0_npc30\"]  # choose manual annotations to load\n",
    "# man_anns = None  # do not load manual annotations\n",
    "\n",
    "# Main Directories\n",
    "# Replace manually or mirror my file/directory tree in your home (`ddu`)\n"
   ]
  },
  {
   "cell_type": "code",
   "execution_count": null,
   "metadata": {},
   "outputs": [],
   "source": [
    "for g in genes:\n",
    "    sc.queries.enrich(adata, g)\n"
   ]
  }
 ],
 "metadata": {
  "kernelspec": {
   "display_name": "bio",
   "language": "python",
   "name": "python3"
  },
  "language_info": {
   "codemirror_mode": {
    "name": "ipython",
    "version": 3
   },
   "file_extension": ".py",
   "mimetype": "text/x-python",
   "name": "python",
   "nbconvert_exporter": "python",
   "pygments_lexer": "ipython3",
   "version": "3.10.4"
  }
 },
 "nbformat": 4,
 "nbformat_minor": 2
}
