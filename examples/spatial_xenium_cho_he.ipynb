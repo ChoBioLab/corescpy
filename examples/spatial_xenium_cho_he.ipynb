{
 "cells": [
  {
   "cell_type": "markdown",
   "metadata": {},
   "source": [
    "# Imports"
   ]
  },
  {
   "cell_type": "code",
   "execution_count": null,
   "metadata": {},
   "outputs": [],
   "source": [
    "%load_ext autoreload\n",
    "%autoreload 2\n",
    "%matplotlib inline\n",
    "\n",
    "import os\n",
    "import re\n",
    "import functools\n",
    "import matplotlib.pyplot as plt\n",
    "import seaborn as sb\n",
    "import scanpy as sc\n",
    "import spatialdata\n",
    "import spatialdata_io as sdio\n",
    "import numpy as np\n",
    "import pandas as pd\n",
    "import corescpy as cr\n",
    "\n",
    "pd.options.display.max_colwidth = 1000\n",
    "pd.options.display.max_columns = 100\n",
    "pd.options.display.max_rows = 500"
   ]
  },
  {
   "cell_type": "markdown",
   "metadata": {},
   "source": [
    "# Setup"
   ]
  },
  {
   "cell_type": "markdown",
   "metadata": {},
   "source": [
    "## Options & Data"
   ]
  },
  {
   "cell_type": "code",
   "execution_count": null,
   "metadata": {},
   "outputs": [],
   "source": [
    "%%time\n",
    "\n",
    "# Count Threshold for Cell Quantification\n",
    "count_threshold = 1\n",
    "\n",
    "# File Paths\n",
    "libid = \"Inflamed-50006A\"\n",
    "# libid = \"Uninflamed-50336C\"\n",
    "# libid = \"Stricture-50564A4\"\n",
    "dir_data = \"/mnt/cho_lab/bbdata2/outputs/TUQ97N\"\n",
    "out_dir = str(\"/mnt/cho_lab/disk2/elizabeth/data/shared-xenium-library/\"\n",
    "              \"outputs/TUQ97N/nebraska\")\n",
    "path_dir = os.path.join(out_dir, \"pathology\")\n",
    "file_align = os.path.join(path_dir,\n",
    "                          f\"alignment/{libid}_alignment_files/matrix.csv\")\n",
    "file_image = (os.path.join(path_dir, f\"{libid.split('-')[1]}.ndpi\"),  # raw\n",
    "              os.path.join(path_dir, f\"ome-tiff/{libid}.ome.tif\"))  # convert\n",
    "\n",
    "# Clustering Version\n",
    "col_cell_type = \"leiden_res1pt5_dist0_npc30\"  # high resolution\n",
    "# c_t = \"leiden_res0pt75_dist0pt3_npc30\"  # medium resolution\n",
    "# c_t = \"leiden_res0pt5_dist0pt5_npc30\"  # low resolution\n",
    "\n",
    "# Display\n",
    "pd.options.display.max_colwidth = 1000\n",
    "pd.options.display.max_columns = 100\n",
    "pd.options.display.max_rows = 500\n",
    "\n",
    "# Spatial Data\n",
    "files = functools.reduce(lambda i, j: i + j, [[os.path.join(\n",
    "    run, i) for i in os.listdir(os.path.join(\n",
    "        dir_data, run))] for run in os.listdir(dir_data)])\n",
    "file_path = np.array(files)[np.where([\"-\".join(libid.split(\n",
    "    \"-\")[1:]) == os.path.basename(x).split(\"__\")[2].split(\n",
    "        \"-\")[0] for x in files])[0][0]]\n",
    "self = cr.Spatial(os.path.join(dir_data, file_path), library_id=libid,\n",
    "                  col_cell_type=col_cell_type, n_jobs=16)\n",
    "self.update_from_h5ad(os.path.join(out_dir, libid + \".h5ad\"))\n",
    "self.get_layer(\"counts\", inplace=True)\n",
    "self.adata"
   ]
  },
  {
   "cell_type": "markdown",
   "metadata": {},
   "source": [
    "## Load Annotations"
   ]
  },
  {
   "cell_type": "code",
   "execution_count": null,
   "metadata": {},
   "outputs": [],
   "source": [
    "fmr = os.path.join(out_dir, \"annotation_dictionaries\", str(\n",
    "    f\"{self._library_id}___{col_cell_type}_dictionary.xlsx\"))  # file\n",
    "fmr = pd.read_excel(fmr).astype(str)\n",
    "c_m = col_cell_type.split(\"leiden_\")[1]\n",
    "for x in [\"annotation\", \"bin\", \"bucket\"]:\n",
    "    self.rna.obs.loc[:, f\"{x}_{c_m}\"] = self.rna.obs[col_cell_type].astype(\n",
    "        int).astype(str).replace(fmr.set_index(fmr.columns[0])[x])  # to label\n",
    "    self.rna.obs.loc[:, f\"{x}_{c_m}\"] = self.rna.obs[\n",
    "        f\"{x}_{c_m}\"].astype(\"category\")  # as categorical"
   ]
  },
  {
   "cell_type": "markdown",
   "metadata": {},
   "source": [
    "## Load Image\n",
    "\n",
    "If you haven't already, add the `bfconvert` command-line tool (https://docs.openmicroscopy.org/bio-formats/5.7.1/users/comlinetools/index.html) to your path. For instance, if the tool is stored in `/opt`:\n",
    "\n",
    "`echo 'export PATH=\"$PATH:/opt/bftools/\"\" >> ~/.bashrc`."
   ]
  },
  {
   "cell_type": "code",
   "execution_count": null,
   "metadata": {},
   "outputs": [],
   "source": [
    "if os.path.exists(file_image[1]) is False:  # convert to ome-tiff if needed\n",
    "    cr.tl.write_ome_tif(file_image[0], file_image[1], bf_cmd=\"bfconvert\")\n",
    "self.add_image(file_image[1], name=\"he\", file_align=file_align)  # add image"
   ]
  },
  {
   "cell_type": "code",
   "execution_count": null,
   "metadata": {},
   "outputs": [],
   "source": [
    "# %matplotlib inline\n",
    "# import matplotlib.pyplot as plt\n",
    "# from napari_spatialdata import Interactive\n",
    "# from spatialdata import SpatialData\n",
    "\n",
    "# plt.rcParams[\"figure.figsize\"] = (20, 20)\n",
    "\n",
    "# sdata = self.adata\n",
    "# interactive = Interactive(sdata)\n",
    "# interactive.run()"
   ]
  },
  {
   "cell_type": "markdown",
   "metadata": {},
   "source": [
    "# Render Images"
   ]
  },
  {
   "cell_type": "code",
   "execution_count": null,
   "metadata": {},
   "outputs": [],
   "source": [
    "%%time\n",
    "\n",
    "axes = plt.subplots(1, 2, figsize=(20, 13))[1].flatten()\n",
    "# axes = plt.subplots(3, 1, figsize=(20, 13))[1].flatten()\n",
    "self.adata.pl.render_images(\"he\").pl.show(\n",
    "    ax=axes[0], title=\"H&E\", coordinate_systems=\"global\")\n",
    "self.adata.pl.render_images(\"morphology_focus\").pl.show(\n",
    "    ax=axes[1], title=\"Morphology\", coordinate_systems=\"global\")\n",
    "# self.adata.pl.render_shapes(color=col_cell_type).pl.show(\n",
    "#     ax=axes[2], title=\"Labels\", coordinate_systems=\"global\")"
   ]
  },
  {
   "cell_type": "code",
   "execution_count": null,
   "metadata": {},
   "outputs": [],
   "source": [
    "self.adata.pl.render_images(\"morphology_focus\").pl.show(\n",
    "    title=\"Morphology\", coordinate_systems=\"global\", dpi=20)\n",
    "self.adata.pl.render_shapes(elements=\"cell_boundaries\", groups=[\n",
    "    \"1\", \"2\"], color=col_cell_type).pl.show(coordinate_systems=\"global\")"
   ]
  },
  {
   "cell_type": "code",
   "execution_count": null,
   "metadata": {},
   "outputs": [],
   "source": [
    "axes = plt.subplots(1, 2, figsize=(30, 30))[1].flatten()\n",
    "self.adata.pl.render_images(\"he\").pl.show(\n",
    "    ax=axes[0], title=\"H&E\", coordinate_systems=\"global\")\n",
    "self.adata.pl.render_shapes(color=col_cell_type).pl.show(\n",
    "    ax=axes[1], title=\"Labels\", coordinate_systems=\"global\")"
   ]
  },
  {
   "cell_type": "code",
   "execution_count": null,
   "metadata": {},
   "outputs": [],
   "source": [
    "sdata = self.crop([800, 1000], [600, 800])"
   ]
  },
  {
   "cell_type": "code",
   "execution_count": null,
   "metadata": {},
   "outputs": [],
   "source": [
    "sdata.pl.render_images(\"morphology_focus\", scale=\"scale4\").pl.show(\n",
    "    title=\"Morphology\", coordinate_systems=\"global\")"
   ]
  },
  {
   "cell_type": "code",
   "execution_count": null,
   "metadata": {},
   "outputs": [],
   "source": [
    "%%time\n",
    "\n",
    "from spatialdata_io.experimental import to_legacy_anndata\n",
    "\n",
    "adata = to_legacy_anndata(self.adata, include_images=True,\n",
    "                          coordinate_system=\"transformed\")\n",
    "sc.pl.spatial(adata, library_id=\"morphology_focus\", img_key=\"hires\",\n",
    "              na_color=\"white\", show=True, crop_coord=(0, 2000, 0, 2000))"
   ]
  },
  {
   "cell_type": "markdown",
   "metadata": {},
   "source": [
    "# Image Analysis"
   ]
  },
  {
   "cell_type": "code",
   "execution_count": null,
   "metadata": {},
   "outputs": [],
   "source": [
    "# Directories & Metadata\n",
    "load, reannotate = True, True\n",
    "# run = \"CHO-011\"\n",
    "# samples = \"all\"\n",
    "run = None  # just look for samples in all runs\n",
    "# samples = [\"50452A\", \"50452B\", \"50006A\", \"50006B\",\n",
    "#            \"50217A\", \"50217B\", \"50336B\", \"50336C\"]  # paired (un)inflamed\n",
    "# samples = [\"50006B\", \"50006A\",  \"50006C\",\n",
    "#            \"50217B\", \"50217A\", \"50217C\",\n",
    "#            \"50564A4\",\n",
    "#            \"50452A\", \"50452B\", \"50452C\",\n",
    "#            \"50336C\", \"50336B\",  \"50336A\"]  # all\n",
    "samples = [\"50006C\", \"50217C\", \"50452C\", \"50336A\"]  # paired strictures\n",
    "\n",
    "\n",
    "# Optionally, Define Manual Annotation Versions\n",
    "# should be stored in (\"<out_dir>/annotations_dictionaries\")\n",
    "# in format <selves[i]._library_id>___leiden_<man_anns[i]>_dictionary.xlsx\n",
    "# with first column = leiden cluster and second column = annotation\n",
    "man_anns = True  # load manual annotations according to clustering kws\n",
    "# man_anns = [\"res0pt5_dist0pt5_npc30\", \"res0pt75_dist0pt3_npc30\",\n",
    "#             \"res1pt5_dist0_npc30\"]  # choose manual annotations to load\n",
    "# man_anns = None  # do not load manual annotations\n",
    "\n",
    "# Main Directories\n",
    "# Replace manually or mirror my file/directory tree in your home (`ddu`)\n"
   ]
  },
  {
   "cell_type": "code",
   "execution_count": null,
   "metadata": {},
   "outputs": [],
   "source": [
    "for g in genes:\n",
    "    sc.queries.enrich(adata, g)\n"
   ]
  },
  {
   "cell_type": "markdown",
   "metadata": {},
   "source": [
    "# Workspace"
   ]
  },
  {
   "cell_type": "markdown",
   "metadata": {},
   "source": [
    "## STLearn"
   ]
  },
  {
   "cell_type": "code",
   "execution_count": null,
   "metadata": {},
   "outputs": [],
   "source": [
    "%load_ext autoreload\n",
    "%autoreload 2\n",
    "%matplotlib inline\n",
    "\n",
    "import os\n",
    "import matplotlib.pyplot as plt\n",
    "import warnings\n",
    "import functools\n",
    "import stlearn as st\n",
    "import scanpy as sc\n",
    "from dask_image.imread import imread\n",
    "import imagecodecs\n",
    "from PIL import Image\n",
    "import dask.array as da\n",
    "import squidpy as sq\n",
    "import pandas as pd\n",
    "import numpy as np\n",
    "\n",
    "warnings.filterwarnings(\"ignore\")\n",
    "\n",
    "pd.options.display.max_colwidth = 1000\n",
    "pd.options.display.max_columns = 100\n",
    "pd.options.display.max_rows = 500\n",
    "\n"
   ]
  },
  {
   "cell_type": "code",
   "execution_count": null,
   "metadata": {},
   "outputs": [],
   "source": [
    "# File Paths & Options\n",
    "SPATIAL_KEY = \"spatial\"\n",
    "library_id = \"Inflamed-50452B\"\n",
    "dir_data = \"/mnt/cho_lab/bbdata2/outputs/TUQ97N\"\n",
    "out_dir = str(\"/mnt/cho_lab/disk2/elizabeth/data/shared-xenium-library/\"\n",
    "              \"outputs/TUQ97N/nebraska\")\n",
    "path_dir = os.path.join(out_dir, \"pathology\")\n",
    "file_align = os.path.join(\n",
    "    path_dir, f\"alignment/{library_id}_alignment_files/matrix.csv\")\n",
    "file_image = (os.path.join(path_dir, f\"{library_id.split('-')[1]}.ndpi\"),\n",
    "              os.path.join(path_dir, f\"ome-tiff/{library_id}.ome.tif\"))\n",
    "image_kws = {}\n",
    "\n",
    "# Find Files\n",
    "files = functools.reduce(lambda i, j: i + j, [[os.path.join(\n",
    "    run, i) for i in os.listdir(os.path.join(\n",
    "        dir_data, run))] for run in os.listdir(dir_data)])\n",
    "file_path = np.array(files)[np.where([\"-\".join(library_id.split(\n",
    "    \"-\")[1:]) == os.path.basename(x).split(\"__\")[2].split(\n",
    "        \"-\")[0] for x in files])[0][0]]\n",
    "img_dir = os.path.join(dir_data, file_path)\n",
    "if os.path.exists(os.path.join(img_dir, \"morphology_focus.ome.tif\")) is False:\n",
    "    img_dir = os.path.join(img_dir, \"morphology_focus\")\n",
    "\n",
    "# Data\n",
    "adata = sc.read(os.path.join(out_dir, f\"{library_id}.h5ad\"))\n",
    "adata.uns[SPATIAL_KEY] = {library_id: {\"images\": {}}}"
   ]
  },
  {
   "cell_type": "code",
   "execution_count": null,
   "metadata": {},
   "outputs": [],
   "source": [
    "# img_files = {f for f in os.listdir(img_dir) if f.endswith(\"_focus.ome.tif\")}\n",
    "# channel_names = {0: \"DAPI\"} if len(img_files) == 1 else {\n",
    "#     0: \"DAPI\", 1: \"ATP1A1/CD45/E-Cadherin\", 2: \"18S\",\n",
    "#     3: \"AlphaSMA/Vimentin\", 4: \"dummy\"}\n",
    "# image_kws[\"c_coords\"] = list(channel_names.values())\n",
    "# image_path = os.path.join(img_dir, \"morphology_focus_{:04}.ome.tif\".format(\n",
    "#     0) if len(img_files) > 1 else \"morphology_focus.ome.tif\")\n",
    "# image = imread(image_path)\n",
    "\n",
    "# if \"c_coords\" in image_kws and \"dummy\" in image_kws[\"c_coords\"]:\n",
    "#     image = da.concatenate([image, da.zeros_like(image[0:1])], axis=0)\n",
    "# adata.uns[\"spatial\"][library_id][\"images\"] = {\"hires\": sq.im.ImageContainer(\n",
    "#     image, library_id=library_id)}\n",
    "\n",
    "# st.add.image(adata, library_id=library_id, quality=quality,\n",
    "#              imgpath=image_path, scale=scale)\n",
    "\n",
    "max_size = np.max([adata.obs[\"imagecol\"].max(), adata.obs[\"imagerow\"].max()])\n",
    "max_size = int(max_size + 0.1 * max_size)\n",
    "image = Image.new(\"RGBA\", (max_size, max_size), (255, 255, 255, 255))\n",
    "adata.uns[\"spatial\"][library_id][\"images\"] = {\"hires\": np.array(image)}"
   ]
  },
  {
   "cell_type": "code",
   "execution_count": null,
   "metadata": {},
   "outputs": [],
   "source": [
    "col_cell_type = \"leiden_res1pt5_dist0_npc30\"  # high resolution\n",
    "l_r = {\"CSF1\": \"CSF1R\", \"CSF2\": [\"CSF2RA\", \"CSF2RB\"]}\n",
    "plot_lr = [\"CSF1_CSF1R\", \"CSF2_CSF2RA\", \"CSF2_CSF2RB\"]\n",
    "\n",
    "n_spots = 125\n",
    "organism = \"human\"\n",
    "resource = \"connectomeDB2020_lit\"\n",
    "distance = 100\n",
    "min_spots = 20\n",
    "n_pairs = 10000  # CHANGE DEFAULT TO 10000\n",
    "n_top = 50\n",
    "n_jobs = 20\n",
    "stats = \"all\"\n",
    "layer = \"counts\"\n",
    "adj_method = None\n",
    "pval_adj_cutoff = None\n",
    "\n",
    "kwargs = {}"
   ]
  },
  {
   "cell_type": "code",
   "execution_count": null,
   "metadata": {},
   "outputs": [],
   "source": [
    "# Process Arguments\n",
    "if isinstance(stats, str) and stats.lower().strip() == \"all\":\n",
    "    stats = [\"lr_scores\", \"p_vals\", \"p_adjs\", \"-log10(p_adjs)\"]\n",
    "pval_adj_cutoff, pval_adj_cutoff = [kwargs.pop(x, None) for x in [\n",
    "    \"pval_adj_cutoff\", \"adj_method\"]]\n",
    "\n",
    "# Make Compatible with Hard-Coded Column in stlearn Code\n",
    "# max_coor = np.max(adata.obsm[\"spatial\"])\n",
    "# scale = 2000 / max_coor\n",
    "scale = kwargs.pop(\"scale\", 1)\n",
    "quality = kwargs.pop(\"key_image\", \"hires\")\n",
    "spot_diameter_fullres = kwargs.pop(\"spot_diameter_fullres\", 15)\n",
    "if \"spatial\" in adata.obsm:\n",
    "    adata.obs.loc[:, \"imagerow\"] = adata.obsm[\"spatial\"][:, 0] * scale\n",
    "    adata.obs.loc[:, \"imagecol\"] = adata.obsm[\"spatial\"][:, 1] * scale\n",
    "if \"scalefactors\" not in adata.uns[\"spatial\"]:\n",
    "    adata.uns[\"spatial\"][library_id][\"scalefactors\"] = {}\n",
    "    adata.uns[\"spatial\"][library_id][\"scalefactors\"][\n",
    "        \"tissue_\" + quality + \"_scalef\"] = scale\n",
    "    adata.uns[\"spatial\"][library_id][\"scalefactors\"][\n",
    "        \"spot_diameter_fullres\"] = spot_diameter_fullres\n",
    "    adata.uns[\"spatial\"][library_id][\"use_quality\"] = \"hires\""
   ]
  },
  {
   "cell_type": "code",
   "execution_count": null,
   "metadata": {},
   "outputs": [],
   "source": [
    "# Pre-Process Data\n",
    "adata.X = adata.layers[layer].copy()\n",
    "st.pp.normalize_total(adata)\n",
    "\n",
    "# Create Spot Grid\n",
    "grid = st.tl.cci.grid(adata, n_row=n_spots, n_col=n_spots,\n",
    "                      use_label=col_cell_type)"
   ]
  },
  {
   "cell_type": "code",
   "execution_count": null,
   "metadata": {},
   "outputs": [],
   "source": [
    "# Plot: Compare Clusters to Created Spots\n",
    "fig, axes = plt.subplots(ncols=2, figsize=(20, 8))\n",
    "st.pl.cluster_plot(grid, use_label=col_cell_type, size=10,\n",
    "                   ax=axes[0], show_plot=False)\n",
    "st.pl.cluster_plot(adata, use_label=col_cell_type,\n",
    "                   ax=axes[1], show_plot=False)\n",
    "axes[0].set_title(f\"Grid: Dominant Spots\")\n",
    "axes[1].set_title(f\"Cell {col_cell_type} Labels\")\n",
    "plt.show()"
   ]
  },
  {
   "cell_type": "code",
   "execution_count": null,
   "metadata": {},
   "outputs": [],
   "source": [
    "groups = list(grid.obs[col_cell_type].cat.categories)\n",
    "for g in groups[0:2]:\n",
    "    fig, axes = plt.subplots(ncols=3, figsize=(20,8))\n",
    "    group_props = grid.uns[col_cell_type][g].values\n",
    "    grid.obs[\"Group\"] = group_props\n",
    "    st.pl.feat_plot(grid, feature=\"Group\", ax=axes[0], show_plot=False,\n",
    "                    vmax=1, show_color_bar=False)\n",
    "    st.pl.cluster_plot(grid, use_label=col_cell_type, list_clusters=[g],\n",
    "                       ax=axes[1], show_plot=False)\n",
    "    st.pl.cluster_plot(adata, use_label=col_cell_type, list_clusters=[g],\n",
    "                       ax=axes[2], show_plot=False)\n",
    "    axes[0].set_title(f\"Grid {g} Proportions (Maximum = 1)\")\n",
    "    axes[1].set_title(f\"Grid {g} Maximum Spots\")\n",
    "    axes[2].set_title(f\"Individual Cell {g}\")\n",
    "    plt.show()"
   ]
  },
  {
   "cell_type": "code",
   "execution_count": null,
   "metadata": {},
   "outputs": [],
   "source": [
    "# Run Analysis\n",
    "lrs = st.tl.cci.load_lrs([resource], species=organism)\n",
    "st.tl.cci.run(\n",
    "    grid, lrs, min_spots=min_spots, distance=distance,\n",
    "    n_pairs=n_pairs, n_cpus=n_jobs)\n",
    "if pval_adj_cutoff is not None or adj_method is not None:  # adjust p?\n",
    "    st.tl.cci.adj_pvals(\n",
    "        grid, correct_axis=\"spot\", pval_adj_cutoff=pval_adj_cutoff,\n",
    "        adj_method=adj_method)  # optionally, adjust p-values\n",
    "print(grid.uns[\"lr_summary\"])"
   ]
  },
  {
   "cell_type": "code",
   "execution_count": null,
   "metadata": {},
   "outputs": [],
   "source": [
    "# QC Plots\n",
    "try:\n",
    "    fig, axes = st.pl.cci_check(grid, col_cell_type, figsize=(16, 5))\n",
    "    fig.suptitle(\"CCI Check: Interactions Shouldn't Correlate Much \"\n",
    "                \"with Cell Type Frequency if Well-Controlled for\")\n",
    "    st.pl.lr_diagnostics(grid, figsize=(10, 2.5))\n",
    "except Exception as err:\n",
    "    print(err, \"\\n\\nQC Plots failed\")\n",
    "\n",
    "# Results Plots\n",
    "st.pl.lr_summary(grid, n_top=n_top, figsize=(10, 3))  # summary plot\n",
    "if plot_lr is True or isinstance(\n",
    "        plot_lr, (int, float)):  # if pairs unspecified, or just want top N\n",
    "    plot_lr = 3 if plot_lr is None else int(plot_lr)  # top 3 = default\n",
    "    plot_lr = grid.uns[\"lr_summary\"].index.values[:plot_lr]  # best pairs\n",
    "if plot_lr not in [None, False]:  # if wanted these plots...\n",
    "    fig, axes = plt.subplots(ncols=len(stats), nrows=len(plot_lr),\n",
    "                             figsize=(12, 6))\n",
    "    for r, x in enumerate(plot_lr):  # iterate ligand-receptors\n",
    "        for c, stat in enumerate(stats):  # iterate statistics\n",
    "            st.pl.lr_result_plot(grid, use_result=stat, use_lr=x,\n",
    "                                 show_color_bar=False, ax=axes[r, c])\n",
    "            axes[r, c].set_title(f\"{x} {stat}\")"
   ]
  },
  {
   "cell_type": "markdown",
   "metadata": {},
   "source": [
    "## L-R"
   ]
  },
  {
   "cell_type": "code",
   "execution_count": null,
   "metadata": {},
   "outputs": [],
   "source": [
    "st.tl.cci.run_cci(grid, col_cell_type, min_spots=3, spot_mixtures=True,\n",
    "                  cell_prop_cutoff=0.2, sig_spots=True, n_perms=1000)"
   ]
  },
  {
   "cell_type": "code",
   "execution_count": null,
   "metadata": {},
   "outputs": [],
   "source": [
    "# Color spot by the mean LR expression in the spots connected by arrow\n",
    "for lr in plot_lr:\n",
    "    try:\n",
    "        st.pl.lr_plot(grid, lr, outer_size_prop=1, outer_mode=None,\n",
    "                      use_label=col_cell_type, show_arrows=True,\n",
    "                      show_image=True, sig_spots=False, sig_cci=True,\n",
    "                      arrow_width=2, pt_scale=10, arrow_head_width=4,\n",
    "                      arrow_cmap=\"YlOrRd\", arrow_vmax=1.5)\n",
    "    except Exception as err:\n",
    "        print(err)"
   ]
  },
  {
   "cell_type": "code",
   "execution_count": null,
   "metadata": {},
   "outputs": [],
   "source": [
    "st.pl.cci_map(grid, col_cell_type)"
   ]
  },
  {
   "cell_type": "code",
   "execution_count": null,
   "metadata": {},
   "outputs": [],
   "source": [
    "# QC\n",
    "st.pl.cci_check(grid, col_cell_type)\n",
    "\n",
    "# Visualising the no. of interactions between cell types across all LR pairs #\n",
    "pos_1 = st.pl.ccinet_plot(grid, col_cell_type, return_pos=True)\n",
    "\n",
    "# Just examining the cell type interactions between selected pairs #\n",
    "for best_lr in plot_lr:\n",
    "    try:\n",
    "        st.pl.ccinet_plot(grid, col_cell_type, best_lr, min_counts=2,\n",
    "                        figsize=(10, 7.5), pos=pos_1)\n",
    "    except Exception as err:\n",
    "        print(err)\n",
    "\n",
    "# Chord\n",
    "st.pl.lr_chord_plot(grid, col_cell_type)\n",
    "for lr in plot_lr:\n",
    "    try:\n",
    "        st.pl.lr_chord_plot(grid, col_cell_type, lr)\n",
    "    except Exception as err:\n",
    "        print(err)\n",
    "\n",
    "# Map\n",
    "st.pl.lr_cci_map(grid, col_cell_type, lrs=plot_lr,\n",
    "                 min_total=100, figsize=(20,4))\n",
    "st.pl.cci_map(grid, col_cell_type)"
   ]
  },
  {
   "cell_type": "code",
   "execution_count": null,
   "metadata": {},
   "outputs": [],
   "source": [
    "lr_dfs = [lr_int_dfs[lr] if lr in lr_int_dfs else np.nan for lr in plot_lr]\n",
    "lr_dfs = [x.replace(0, np.nan).stack().dropna().sort_values(\n",
    "    ascending=False).to_frame(plot_lr[i]) if isinstance(\n",
    "        x, pd.DataFrame) else None for i, x in enumerate(lr_dfs)]\n",
    "pd.concat(lr_dfs)"
   ]
  },
  {
   "cell_type": "code",
   "execution_count": null,
   "metadata": {},
   "outputs": [],
   "source": [
    "# Gene Expression Plots\n",
    "if plot_lr is not None:\n",
    "    genes = functools.reduce(lambda i, j: list(i) + list(j),\n",
    "                             [i.split(\"_\") for i in plot_lr])\n",
    "    for g in genes:\n",
    "        fig, axes = plt.subplots(ncols=2, figsize=(20, 5))\n",
    "        st.pl.gene_plot(grid, gene_symbols=g, ax=axes[0],\n",
    "                        show_color_bar=False, show_plot=False)\n",
    "        st.pl.gene_plot(adata, gene_symbols=g, ax=axes[1],\n",
    "                        show_color_bar=False, show_plot=False, vmax=80)\n",
    "        axes[0].set_title(f\"Grid {g} Expression\")\n",
    "        axes[1].set_title(f\"Cell {g} Expression\")\n",
    "        plt.show()"
   ]
  },
  {
   "cell_type": "markdown",
   "metadata": {},
   "source": [
    "## Liana"
   ]
  },
  {
   "cell_type": "code",
   "execution_count": null,
   "metadata": {},
   "outputs": [],
   "source": [
    "import liana as li\n",
    "from liana.method import MistyData, genericMistyData, lrMistyData\n",
    "from liana.method.sp import RandomForestModel, LinearModel, RobustLinearModel\n",
    "import decoupler as dc\n",
    "\n",
    "organism = \"human\"\n",
    "adata = sc.read(os.path.join(out_dir, libid + \".h5ad\"))\n",
    "\n",
    "\n",
    "\n",
    "\n",
    "adata.X = adata.layers[\"counts\"].copy()\n",
    "sc.pp.normalize_total(adata, target_sum=1e4)\n",
    "sc.pp.log1p(adata)\n",
    "sc.pp.highly_variable_genes(adata)\n",
    "\n",
    "progeny = dc.get_progeny(organism=organism, top=500)\n",
    "dc.run_mlm(mat=adata, net=progeny, source=\"source\", target=\"target\",\n",
    "           weight=\"weight\", verbose=True, use_raw=False)\n",
    "acts_progeny = li.ut.obsm_to_adata(adata, \"mlm_estimate\")\n",
    "\n",
    "adata.obsm[\"compositions\"] =\n",
    "comps = li.ut.obsm_to_adata(adata, \"compositions\")\n",
    "\n",
    "misty = genericMistyData(intra=comps, extra=acts_progeny, cutoff=0.05,\n",
    "                         bandwidth=200, coord_type=\"generic\", n_rings=1)\n",
    "\n",
    "hvg = adata.var[adata.var[\"highly_variable\"]].index\n",
    "misty(bypass_intra=True, model=LinearModel, verbose=True)\n"
   ]
  },
  {
   "cell_type": "code",
   "execution_count": null,
   "metadata": {},
   "outputs": [],
   "source": [
    "ann = sc.read(\"kuppe_heart19.h5ad\", backup_url='https://figshare.com/ndownloader/files/41501073?private_link=4744950f8768d5c8f68c')\n",
    "ann.obsm[\"compositions\"]"
   ]
  }
 ],
 "metadata": {
  "kernelspec": {
   "display_name": "bio",
   "language": "python",
   "name": "python3"
  },
  "language_info": {
   "codemirror_mode": {
    "name": "ipython",
    "version": 3
   },
   "file_extension": ".py",
   "mimetype": "text/x-python",
   "name": "python",
   "nbconvert_exporter": "python",
   "pygments_lexer": "ipython3",
   "version": "3.8.19"
  }
 },
 "nbformat": 4,
 "nbformat_minor": 2
}
