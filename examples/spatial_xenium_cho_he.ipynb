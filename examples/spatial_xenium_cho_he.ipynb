{
 "cells": [
  {
   "cell_type": "markdown",
   "metadata": {},
   "source": [
    "# Imports"
   ]
  },
  {
   "cell_type": "code",
   "execution_count": null,
   "metadata": {},
   "outputs": [],
   "source": [
    "%load_ext autoreload\n",
    "%autoreload 2\n",
    "%matplotlib inline\n",
    "\n",
    "import os\n",
    "import re\n",
    "import functools\n",
    "import matplotlib.pyplot as plt\n",
    "import seaborn as sb\n",
    "import scanpy as sc\n",
    "import spatialdata\n",
    "import spatialdata_io as sdio\n",
    "import numpy as np\n",
    "import pandas as pd\n",
    "import corescpy as cr"
   ]
  },
  {
   "cell_type": "markdown",
   "metadata": {},
   "source": [
    "# Setup"
   ]
  },
  {
   "cell_type": "markdown",
   "metadata": {},
   "source": [
    "## Options & Data"
   ]
  },
  {
   "cell_type": "code",
   "execution_count": null,
   "metadata": {},
   "outputs": [],
   "source": [
    "%%time\n",
    "\n",
    "# Count Threshold for Cell Quantification\n",
    "count_threshold = 1\n",
    "\n",
    "# File Paths\n",
    "libid = \"Inflamed-50006A\"\n",
    "# libid = \"Uninflamed-50336C\"\n",
    "# libid = \"Stricture-50564A4\"\n",
    "dir_data = \"/mnt/cho_lab/bbdata2/outputs/TUQ97N\"\n",
    "out_dir = str(\"/mnt/cho_lab/disk2/elizabeth/data/shared-xenium-library/\"\n",
    "              \"outputs/TUQ97N/nebraska\")\n",
    "path_dir = os.path.join(out_dir, \"pathology\")\n",
    "file_align = os.path.join(path_dir,\n",
    "                          f\"alignment/{libid}_alignment_files/matrix.csv\")\n",
    "file_image = (os.path.join(path_dir, f\"{libid.split('-')[1]}.ndpi\"),  # raw\n",
    "              os.path.join(path_dir, f\"ome-tiff/{libid}.ome.tif\"))  # convert\n",
    "\n",
    "# Clustering Version\n",
    "col_cell_type = \"leiden_res1pt5_dist0_npc30\"  # high resolution\n",
    "# c_t = \"leiden_res0pt75_dist0pt3_npc30\"  # medium resolution\n",
    "# c_t = \"leiden_res0pt5_dist0pt5_npc30\"  # low resolution\n",
    "\n",
    "# Display\n",
    "pd.options.display.max_colwidth = 1000\n",
    "pd.options.display.max_columns = 100\n",
    "pd.options.display.max_rows = 500\n",
    "\n",
    "# Spatial Data\n",
    "files = functools.reduce(lambda i, j: i + j, [[os.path.join(\n",
    "    run, i) for i in os.listdir(os.path.join(\n",
    "        dir_data, run))] for run in os.listdir(dir_data)])\n",
    "file_path = np.array(files)[np.where([\"-\".join(libid.split(\n",
    "    \"-\")[1:]) == os.path.basename(x).split(\"__\")[2].split(\n",
    "        \"-\")[0] for x in files])[0][0]]\n",
    "self = cr.Spatial(os.path.join(dir_data, file_path), library_id=libid,\n",
    "                  col_cell_type=col_cell_type, n_jobs=16)\n",
    "self.update_from_h5ad(os.path.join(out_dir, libid + \".h5ad\"))\n",
    "self.get_layer(\"counts\", inplace=True)\n",
    "self.adata"
   ]
  },
  {
   "cell_type": "markdown",
   "metadata": {},
   "source": [
    "## Load Annotations"
   ]
  },
  {
   "cell_type": "code",
   "execution_count": null,
   "metadata": {},
   "outputs": [],
   "source": [
    "fmr = os.path.join(out_dir, \"annotation_dictionaries\", str(\n",
    "    f\"{self._library_id}___{col_cell_type}_dictionary.xlsx\"))  # file\n",
    "fmr = pd.read_excel(fmr).astype(str)\n",
    "c_m = col_cell_type.split(\"leiden_\")[1]\n",
    "for x in [\"annotation\", \"bin\", \"bucket\"]:\n",
    "    self.rna.obs.loc[:, f\"{x}_{c_m}\"] = self.rna.obs[col_cell_type].astype(\n",
    "        int).astype(str).replace(fmr.set_index(fmr.columns[0])[x])  # to label\n",
    "    self.rna.obs.loc[:, f\"{x}_{c_m}\"] = self.rna.obs[\n",
    "        f\"{x}_{c_m}\"].astype(\"category\")  # as categorical"
   ]
  },
  {
   "cell_type": "markdown",
   "metadata": {},
   "source": [
    "## Load Image\n",
    "\n",
    "If you haven't already, add the `bfconvert` command-line tool (https://docs.openmicroscopy.org/bio-formats/5.7.1/users/comlinetools/index.html) to your path. For instance, if the tool is stored in `/opt`:\n",
    "\n",
    "`echo 'export PATH=\"$PATH:/opt/bftools/\"\" >> ~/.bashrc`."
   ]
  },
  {
   "cell_type": "code",
   "execution_count": null,
   "metadata": {},
   "outputs": [],
   "source": [
    "if os.path.exists(file_image[1]) is False:  # convert to ome-tiff if needed\n",
    "    cr.tl.write_ome_tif(file_image[0], file_image[1], bf_cmd=\"bfconvert\")\n",
    "self.add_image(file_image[1], name=\"he\", file_align=file_align)  # add image"
   ]
  },
  {
   "cell_type": "code",
   "execution_count": null,
   "metadata": {},
   "outputs": [],
   "source": [
    "# %matplotlib inline\n",
    "# import matplotlib.pyplot as plt\n",
    "# from napari_spatialdata import Interactive\n",
    "# from spatialdata import SpatialData\n",
    "\n",
    "# plt.rcParams[\"figure.figsize\"] = (20, 20)\n",
    "\n",
    "# sdata = self.adata\n",
    "# interactive = Interactive(sdata)\n",
    "# interactive.run()"
   ]
  },
  {
   "cell_type": "markdown",
   "metadata": {},
   "source": [
    "# Render Images"
   ]
  },
  {
   "cell_type": "code",
   "execution_count": null,
   "metadata": {},
   "outputs": [],
   "source": [
    "%%time\n",
    "\n",
    "axes = plt.subplots(1, 2, figsize=(20, 13))[1].flatten()\n",
    "# axes = plt.subplots(3, 1, figsize=(20, 13))[1].flatten()\n",
    "self.adata.pl.render_images(\"he\").pl.show(\n",
    "    ax=axes[0], title=\"H&E\", coordinate_systems=\"global\")\n",
    "self.adata.pl.render_images(\"morphology_focus\").pl.show(\n",
    "    ax=axes[1], title=\"Morphology\", coordinate_systems=\"global\")\n",
    "# self.adata.pl.render_shapes(color=col_cell_type).pl.show(\n",
    "#     ax=axes[2], title=\"Labels\", coordinate_systems=\"global\")"
   ]
  },
  {
   "cell_type": "code",
   "execution_count": null,
   "metadata": {},
   "outputs": [],
   "source": [
    "self.adata.pl.render_images(\"morphology_focus\").pl.show(\n",
    "    title=\"Morphology\", coordinate_systems=\"global\", dpi=20)\n",
    "self.adata.pl.render_shapes(elements=\"cell_boundaries\", groups=[\n",
    "    \"1\", \"2\"], color=col_cell_type).pl.show(coordinate_systems=\"global\")"
   ]
  },
  {
   "cell_type": "code",
   "execution_count": null,
   "metadata": {},
   "outputs": [],
   "source": [
    "axes = plt.subplots(1, 2, figsize=(30, 30))[1].flatten()\n",
    "self.adata.pl.render_images(\"he\").pl.show(\n",
    "    ax=axes[0], title=\"H&E\", coordinate_systems=\"global\")\n",
    "self.adata.pl.render_shapes(color=col_cell_type).pl.show(\n",
    "    ax=axes[1], title=\"Labels\", coordinate_systems=\"global\")"
   ]
  },
  {
   "cell_type": "code",
   "execution_count": null,
   "metadata": {},
   "outputs": [],
   "source": [
    "sdata = self.crop([800, 1000], [600, 800])"
   ]
  },
  {
   "cell_type": "code",
   "execution_count": null,
   "metadata": {},
   "outputs": [],
   "source": [
    "sdata.pl.render_images(\"morphology_focus\", scale=\"scale4\").pl.show(\n",
    "    title=\"Morphology\", coordinate_systems=\"global\")"
   ]
  },
  {
   "cell_type": "code",
   "execution_count": null,
   "metadata": {},
   "outputs": [],
   "source": [
    "%%time\n",
    "\n",
    "from spatialdata_io.experimental import to_legacy_anndata\n",
    "\n",
    "adata = to_legacy_anndata(self.adata, include_images=True,\n",
    "                          coordinate_system=\"transformed\")\n",
    "sc.pl.spatial(adata, library_id=\"morphology_focus\", img_key=\"hires\",\n",
    "              na_color=\"white\", show=True, crop_coord=(0, 2000, 0, 2000))"
   ]
  },
  {
   "cell_type": "markdown",
   "metadata": {},
   "source": [
    "# Image Analysis"
   ]
  },
  {
   "cell_type": "code",
   "execution_count": null,
   "metadata": {},
   "outputs": [],
   "source": [
    "# Directories & Metadata\n",
    "load, reannotate = True, True\n",
    "# run = \"CHO-011\"\n",
    "# samples = \"all\"\n",
    "run = None  # just look for samples in all runs\n",
    "# samples = [\"50452A\", \"50452B\", \"50006A\", \"50006B\",\n",
    "#            \"50217A\", \"50217B\", \"50336B\", \"50336C\"]  # paired (un)inflamed\n",
    "# samples = [\"50006B\", \"50006A\",  \"50006C\",\n",
    "#            \"50217B\", \"50217A\", \"50217C\",\n",
    "#            \"50564A4\",\n",
    "#            \"50452A\", \"50452B\", \"50452C\",\n",
    "#            \"50336C\", \"50336B\",  \"50336A\"]  # all\n",
    "samples = [\"50006C\", \"50217C\", \"50452C\", \"50336A\"]  # paired strictures\n",
    "\n",
    "\n",
    "# Optionally, Define Manual Annotation Versions\n",
    "# should be stored in (\"<out_dir>/annotations_dictionaries\")\n",
    "# in format <selves[i]._library_id>___leiden_<man_anns[i]>_dictionary.xlsx\n",
    "# with first column = leiden cluster and second column = annotation\n",
    "man_anns = True  # load manual annotations according to clustering kws\n",
    "# man_anns = [\"res0pt5_dist0pt5_npc30\", \"res0pt75_dist0pt3_npc30\",\n",
    "#             \"res1pt5_dist0_npc30\"]  # choose manual annotations to load\n",
    "# man_anns = None  # do not load manual annotations\n",
    "\n",
    "# Main Directories\n",
    "# Replace manually or mirror my file/directory tree in your home (`ddu`)\n"
   ]
  },
  {
   "cell_type": "code",
   "execution_count": null,
   "metadata": {},
   "outputs": [],
   "source": [
    "for g in genes:\n",
    "    sc.queries.enrich(adata, g)\n"
   ]
  },
  {
   "cell_type": "markdown",
   "metadata": {},
   "source": [
    "# Workspace"
   ]
  },
  {
   "cell_type": "markdown",
   "metadata": {},
   "source": [
    "## STLearn"
   ]
  },
  {
   "cell_type": "code",
   "execution_count": null,
   "metadata": {},
   "outputs": [],
   "source": [
    "SPATIAL_KEY = \"spatial\"\n",
    "\n",
    "def update_spatial_uns(adata, library_id, col_sample_id, rna_only=False):\n",
    "    \"\"\"Copy SpatialData.images to .table.uns (Squidpy-compatible).\"\"\"\n",
    "    imgs = {}\n",
    "    if \"images\" in dir(adata):\n",
    "        for x in adata.images:\n",
    "            scales = [int(i.split(\"scale\")[1]) for i in adata.images[x] if (\n",
    "                \"scale\") in i] if \"focus\" in x else []\n",
    "            for i in adata.images[x]:\n",
    "                key = f\"{library_id}{SPATIAL_IMAGE_KEY_SEP}{x}_{i}\"\n",
    "                imgs[key] = sq.im.ImageContainer(\n",
    "                    adata.images[x][i].image, library_id=library_id)\n",
    "                if len(scales) > 0 and \"scale\" in i and str(i.split(\n",
    "                        \"scale\")[1]) == str(min(scales)):\n",
    "                    imgs[\"hires\"] = imgs[key]  # Squidpy-compatible\n",
    "    if rna_only is True:\n",
    "        # if col_sample_id in adata.table.obs:\n",
    "        #     rna = adata.table[adata.table.obs[col_sample_id] == library_id]\n",
    "        rna = adata.table if \"table\" in dir(adata) else adata\n",
    "        rna.uns[SPATIAL_KEY] = {library_id: {\"images\": imgs}}\n",
    "        # rna.uns[SPATIAL_KEY][\"library_id\"] = library_id\n",
    "        return rna\n",
    "    else:\n",
    "        adata.table.uns[SPATIAL_KEY] = {library_id: {\"images\": imgs}}\n",
    "        # adata.table.uns[SPATIAL_KEY][\"library_id\"] = library_id\n",
    "        if col_sample_id not in adata.table.obs:\n",
    "            adata.table.obs.loc[:, col_sample_id] = library_id\n",
    "        return adata"
   ]
  },
  {
   "cell_type": "code",
   "execution_count": 1,
   "metadata": {},
   "outputs": [
    {
     "ename": "ImportError",
     "evalue": "Numba needs NumPy 1.22 or greater. Got NumPy 1.21.",
     "output_type": "error",
     "traceback": [
      "\u001b[0;31m---------------------------------------------------------------------------\u001b[0m",
      "\u001b[0;31mImportError\u001b[0m                               Traceback (most recent call last)",
      "Cell \u001b[0;32mIn[1], line 3\u001b[0m\n\u001b[1;32m      1\u001b[0m \u001b[38;5;28;01mimport\u001b[39;00m \u001b[38;5;21;01mmatplotlib\u001b[39;00m\u001b[38;5;21;01m.\u001b[39;00m\u001b[38;5;21;01mpyplot\u001b[39;00m \u001b[38;5;28;01mas\u001b[39;00m \u001b[38;5;21;01mplt\u001b[39;00m\n\u001b[1;32m      2\u001b[0m \u001b[38;5;28;01mimport\u001b[39;00m \u001b[38;5;21;01mwarnings\u001b[39;00m\n\u001b[0;32m----> 3\u001b[0m \u001b[38;5;28;01mimport\u001b[39;00m \u001b[38;5;21;01mstlearn\u001b[39;00m \u001b[38;5;28;01mas\u001b[39;00m \u001b[38;5;21;01mst\u001b[39;00m\n\u001b[1;32m      4\u001b[0m \u001b[38;5;28;01mimport\u001b[39;00m \u001b[38;5;21;01mscanpy\u001b[39;00m \u001b[38;5;28;01mas\u001b[39;00m \u001b[38;5;21;01msc\u001b[39;00m\n\u001b[1;32m      5\u001b[0m \u001b[38;5;28;01mimport\u001b[39;00m \u001b[38;5;21;01mpandas\u001b[39;00m \u001b[38;5;28;01mas\u001b[39;00m \u001b[38;5;21;01mpd\u001b[39;00m\n",
      "File \u001b[0;32m~/miniconda3/envs/spatial-alt/lib/python3.8/site-packages/stlearn/__init__.py:9\u001b[0m\n\u001b[1;32m      5\u001b[0m __version__ \u001b[38;5;241m=\u001b[39m \u001b[38;5;124m\"\u001b[39m\u001b[38;5;124m0.4.12\u001b[39m\u001b[38;5;124m\"\u001b[39m\n\u001b[1;32m      8\u001b[0m \u001b[38;5;28;01mfrom\u001b[39;00m \u001b[38;5;21;01m.\u001b[39;00m \u001b[38;5;28;01mimport\u001b[39;00m add\n\u001b[0;32m----> 9\u001b[0m \u001b[38;5;28;01mfrom\u001b[39;00m \u001b[38;5;21;01m.\u001b[39;00m \u001b[38;5;28;01mimport\u001b[39;00m pp\n\u001b[1;32m     10\u001b[0m \u001b[38;5;28;01mfrom\u001b[39;00m \u001b[38;5;21;01m.\u001b[39;00m \u001b[38;5;28;01mimport\u001b[39;00m em\n\u001b[1;32m     11\u001b[0m \u001b[38;5;28;01mfrom\u001b[39;00m \u001b[38;5;21;01m.\u001b[39;00m \u001b[38;5;28;01mimport\u001b[39;00m tl\n",
      "File \u001b[0;32m~/miniconda3/envs/spatial-alt/lib/python3.8/site-packages/stlearn/pp.py:1\u001b[0m\n\u001b[0;32m----> 1\u001b[0m \u001b[38;5;28;01mfrom\u001b[39;00m \u001b[38;5;21;01m.\u001b[39;00m\u001b[38;5;21;01mpreprocessing\u001b[39;00m\u001b[38;5;21;01m.\u001b[39;00m\u001b[38;5;21;01mfilter_genes\u001b[39;00m \u001b[38;5;28;01mimport\u001b[39;00m filter_genes\n\u001b[1;32m      2\u001b[0m \u001b[38;5;28;01mfrom\u001b[39;00m \u001b[38;5;21;01m.\u001b[39;00m\u001b[38;5;21;01mpreprocessing\u001b[39;00m\u001b[38;5;21;01m.\u001b[39;00m\u001b[38;5;21;01mnormalize\u001b[39;00m \u001b[38;5;28;01mimport\u001b[39;00m normalize_total\n\u001b[1;32m      3\u001b[0m \u001b[38;5;28;01mfrom\u001b[39;00m \u001b[38;5;21;01m.\u001b[39;00m\u001b[38;5;21;01mpreprocessing\u001b[39;00m\u001b[38;5;21;01m.\u001b[39;00m\u001b[38;5;21;01mlog_scale\u001b[39;00m \u001b[38;5;28;01mimport\u001b[39;00m log1p\n",
      "File \u001b[0;32m~/miniconda3/envs/spatial-alt/lib/python3.8/site-packages/stlearn/preprocessing/filter_genes.py:5\u001b[0m\n\u001b[1;32m      3\u001b[0m \u001b[38;5;28;01mimport\u001b[39;00m \u001b[38;5;21;01mnumpy\u001b[39;00m \u001b[38;5;28;01mas\u001b[39;00m \u001b[38;5;21;01mnp\u001b[39;00m\n\u001b[1;32m      4\u001b[0m \u001b[38;5;28;01mfrom\u001b[39;00m \u001b[38;5;21;01mscipy\u001b[39;00m\u001b[38;5;21;01m.\u001b[39;00m\u001b[38;5;21;01msparse\u001b[39;00m \u001b[38;5;28;01mimport\u001b[39;00m issparse, isspmatrix_csr, csr_matrix, spmatrix\n\u001b[0;32m----> 5\u001b[0m \u001b[38;5;28;01mimport\u001b[39;00m \u001b[38;5;21;01mscanpy\u001b[39;00m\n\u001b[1;32m      8\u001b[0m \u001b[38;5;28;01mdef\u001b[39;00m \u001b[38;5;21mfilter_genes\u001b[39m(\n\u001b[1;32m      9\u001b[0m     adata: AnnData,\n\u001b[1;32m     10\u001b[0m     min_counts: Optional[\u001b[38;5;28mint\u001b[39m] \u001b[38;5;241m=\u001b[39m \u001b[38;5;28;01mNone\u001b[39;00m,\n\u001b[0;32m   (...)\u001b[0m\n\u001b[1;32m     14\u001b[0m     inplace: \u001b[38;5;28mbool\u001b[39m \u001b[38;5;241m=\u001b[39m \u001b[38;5;28;01mTrue\u001b[39;00m,\n\u001b[1;32m     15\u001b[0m ) \u001b[38;5;241m-\u001b[39m\u001b[38;5;241m>\u001b[39m Union[AnnData, \u001b[38;5;28;01mNone\u001b[39;00m, Tuple[np\u001b[38;5;241m.\u001b[39mndarray, np\u001b[38;5;241m.\u001b[39mndarray]]:\n\u001b[1;32m     16\u001b[0m \u001b[38;5;250m    \u001b[39m\u001b[38;5;124;03m\"\"\"\\\u001b[39;00m\n\u001b[1;32m     17\u001b[0m \u001b[38;5;124;03m    Wrap function scanpy.pp.filter_genes\u001b[39;00m\n\u001b[1;32m     18\u001b[0m \n\u001b[0;32m   (...)\u001b[0m\n\u001b[1;32m     49\u001b[0m \u001b[38;5;124;03m        `n_counts` or `n_cells` per gene.\u001b[39;00m\n\u001b[1;32m     50\u001b[0m \u001b[38;5;124;03m    \"\"\"\u001b[39;00m\n",
      "File \u001b[0;32m~/miniconda3/envs/spatial-alt/lib/python3.8/site-packages/scanpy/__init__.py:16\u001b[0m\n\u001b[1;32m     11\u001b[0m     \u001b[38;5;28;01mexcept\u001b[39;00m \u001b[38;5;167;01mModuleNotFoundError\u001b[39;00m:\n\u001b[1;32m     12\u001b[0m         \u001b[38;5;28;01mraise\u001b[39;00m \u001b[38;5;167;01mRuntimeError\u001b[39;00m(\n\u001b[1;32m     13\u001b[0m             \u001b[38;5;124m\"\u001b[39m\u001b[38;5;124mscanpy is not correctly installed. Please install it, e.g. with pip.\u001b[39m\u001b[38;5;124m\"\u001b[39m\n\u001b[1;32m     14\u001b[0m         )\n\u001b[0;32m---> 16\u001b[0m \u001b[38;5;28;01mfrom\u001b[39;00m \u001b[38;5;21;01m.\u001b[39;00m\u001b[38;5;21;01m_utils\u001b[39;00m \u001b[38;5;28;01mimport\u001b[39;00m check_versions\n\u001b[1;32m     18\u001b[0m check_versions()\n\u001b[1;32m     19\u001b[0m \u001b[38;5;28;01mdel\u001b[39;00m check_versions\n",
      "File \u001b[0;32m~/miniconda3/envs/spatial-alt/lib/python3.8/site-packages/scanpy/_utils/__init__.py:28\u001b[0m\n\u001b[1;32m     25\u001b[0m \u001b[38;5;28;01mfrom\u001b[39;00m \u001b[38;5;21;01m.\u001b[39;00m\u001b[38;5;21;01m.\u001b[39;00m\u001b[38;5;21;01m_settings\u001b[39;00m \u001b[38;5;28;01mimport\u001b[39;00m settings\n\u001b[1;32m     26\u001b[0m \u001b[38;5;28;01mfrom\u001b[39;00m \u001b[38;5;21;01m.\u001b[39;00m\u001b[38;5;21;01m.\u001b[39;00m \u001b[38;5;28;01mimport\u001b[39;00m logging \u001b[38;5;28;01mas\u001b[39;00m logg\n\u001b[0;32m---> 28\u001b[0m \u001b[38;5;28;01mfrom\u001b[39;00m \u001b[38;5;21;01m.\u001b[39;00m\u001b[38;5;21;01mcompute\u001b[39;00m\u001b[38;5;21;01m.\u001b[39;00m\u001b[38;5;21;01mis_constant\u001b[39;00m \u001b[38;5;28;01mimport\u001b[39;00m is_constant\n\u001b[1;32m     31\u001b[0m \u001b[38;5;28;01mclass\u001b[39;00m \u001b[38;5;21;01mEmpty\u001b[39;00m(Enum):\n\u001b[1;32m     32\u001b[0m     token \u001b[38;5;241m=\u001b[39m \u001b[38;5;241m0\u001b[39m\n",
      "File \u001b[0;32m~/miniconda3/envs/spatial-alt/lib/python3.8/site-packages/scanpy/_utils/compute/is_constant.py:5\u001b[0m\n\u001b[1;32m      2\u001b[0m \u001b[38;5;28;01mfrom\u001b[39;00m \u001b[38;5;21;01mnumbers\u001b[39;00m \u001b[38;5;28;01mimport\u001b[39;00m Integral\n\u001b[1;32m      4\u001b[0m \u001b[38;5;28;01mimport\u001b[39;00m \u001b[38;5;21;01mnumpy\u001b[39;00m \u001b[38;5;28;01mas\u001b[39;00m \u001b[38;5;21;01mnp\u001b[39;00m\n\u001b[0;32m----> 5\u001b[0m \u001b[38;5;28;01mfrom\u001b[39;00m \u001b[38;5;21;01mnumba\u001b[39;00m \u001b[38;5;28;01mimport\u001b[39;00m njit\n\u001b[1;32m      6\u001b[0m \u001b[38;5;28;01mfrom\u001b[39;00m \u001b[38;5;21;01mscipy\u001b[39;00m \u001b[38;5;28;01mimport\u001b[39;00m sparse\n\u001b[1;32m      9\u001b[0m \u001b[38;5;129m@singledispatch\u001b[39m\n\u001b[1;32m     10\u001b[0m \u001b[38;5;28;01mdef\u001b[39;00m \u001b[38;5;21mis_constant\u001b[39m(a, axis\u001b[38;5;241m=\u001b[39m\u001b[38;5;28;01mNone\u001b[39;00m) \u001b[38;5;241m-\u001b[39m\u001b[38;5;241m>\u001b[39m np\u001b[38;5;241m.\u001b[39mndarray:\n",
      "File \u001b[0;32m~/miniconda3/envs/spatial-alt/lib/python3.8/site-packages/numba/__init__.py:55\u001b[0m\n\u001b[1;32m     50\u001b[0m             msg \u001b[38;5;241m=\u001b[39m (\u001b[38;5;124m\"\u001b[39m\u001b[38;5;124mNumba requires SciPy version 1.0 or greater. Got SciPy \u001b[39m\u001b[38;5;124m\"\u001b[39m\n\u001b[1;32m     51\u001b[0m                    \u001b[38;5;124mf\u001b[39m\u001b[38;5;124m\"\u001b[39m\u001b[38;5;132;01m{\u001b[39;00mscipy\u001b[38;5;241m.\u001b[39m__version__\u001b[38;5;132;01m}\u001b[39;00m\u001b[38;5;124m.\u001b[39m\u001b[38;5;124m\"\u001b[39m)\n\u001b[1;32m     52\u001b[0m             \u001b[38;5;28;01mraise\u001b[39;00m \u001b[38;5;167;01mImportError\u001b[39;00m(msg)\n\u001b[0;32m---> 55\u001b[0m \u001b[43m_ensure_critical_deps\u001b[49m\u001b[43m(\u001b[49m\u001b[43m)\u001b[49m\n\u001b[1;32m     56\u001b[0m \u001b[38;5;66;03m# END DO NOT MOVE\u001b[39;00m\n\u001b[1;32m     57\u001b[0m \u001b[38;5;66;03m# ---------------------- WARNING WARNING WARNING ----------------------------\u001b[39;00m\n\u001b[1;32m     60\u001b[0m \u001b[38;5;28;01mfrom\u001b[39;00m \u001b[38;5;21;01m.\u001b[39;00m\u001b[38;5;21;01m_version\u001b[39;00m \u001b[38;5;28;01mimport\u001b[39;00m get_versions\n",
      "File \u001b[0;32m~/miniconda3/envs/spatial-alt/lib/python3.8/site-packages/numba/__init__.py:40\u001b[0m, in \u001b[0;36m_ensure_critical_deps\u001b[0;34m()\u001b[0m\n\u001b[1;32m     37\u001b[0m \u001b[38;5;28;01mif\u001b[39;00m numpy_version \u001b[38;5;241m<\u001b[39m (\u001b[38;5;241m1\u001b[39m, \u001b[38;5;241m22\u001b[39m):\n\u001b[1;32m     38\u001b[0m     msg \u001b[38;5;241m=\u001b[39m (\u001b[38;5;124mf\u001b[39m\u001b[38;5;124m\"\u001b[39m\u001b[38;5;124mNumba needs NumPy 1.22 or greater. Got NumPy \u001b[39m\u001b[38;5;124m\"\u001b[39m\n\u001b[1;32m     39\u001b[0m            \u001b[38;5;124mf\u001b[39m\u001b[38;5;124m\"\u001b[39m\u001b[38;5;132;01m{\u001b[39;00mnumpy_version[\u001b[38;5;241m0\u001b[39m]\u001b[38;5;132;01m}\u001b[39;00m\u001b[38;5;124m.\u001b[39m\u001b[38;5;132;01m{\u001b[39;00mnumpy_version[\u001b[38;5;241m1\u001b[39m]\u001b[38;5;132;01m}\u001b[39;00m\u001b[38;5;124m.\u001b[39m\u001b[38;5;124m\"\u001b[39m)\n\u001b[0;32m---> 40\u001b[0m     \u001b[38;5;28;01mraise\u001b[39;00m \u001b[38;5;167;01mImportError\u001b[39;00m(msg)\n\u001b[1;32m     41\u001b[0m \u001b[38;5;28;01melif\u001b[39;00m numpy_version \u001b[38;5;241m>\u001b[39m (\u001b[38;5;241m1\u001b[39m, \u001b[38;5;241m25\u001b[39m):\n\u001b[1;32m     42\u001b[0m     \u001b[38;5;28;01mraise\u001b[39;00m \u001b[38;5;167;01mImportError\u001b[39;00m(\u001b[38;5;124m\"\u001b[39m\u001b[38;5;124mNumba needs NumPy 1.25 or less\u001b[39m\u001b[38;5;124m\"\u001b[39m)\n",
      "\u001b[0;31mImportError\u001b[0m: Numba needs NumPy 1.22 or greater. Got NumPy 1.21."
     ]
    }
   ],
   "source": [
    "import matplotlib.pyplot as plt\n",
    "import warnings\n",
    "import stlearn as st\n",
    "import scanpy as sc\n",
    "import pandas as pd\n",
    "import numpy as np\n",
    "\n",
    "warnings.filterwarnings(\"ignore\")\n",
    "\n",
    "library_id = \"Inflamed-50006A\"\n",
    "\n",
    "col_cell_type = \"leiden_res1pt5_dist0_npc30\"\n",
    "adata = sc.read(str(\"/mnt/cho_lab/disk2/elizabeth/data/shared-xenium-library/\"\n",
    "                    f\"outputs/TUQ97N/nebraska/{library_id}.h5ad\"))\n",
    "adata = update_spatial_uns(adata, library_id, \"Sample\", rna_only=True)"
   ]
  },
  {
   "cell_type": "code",
   "execution_count": 2,
   "metadata": {},
   "outputs": [],
   "source": [
    "kwargs = {}\n",
    "\n",
    "col_cell_type = None\n",
    "n_spots = 125\n",
    "organism = \"human\"\n",
    "resource = \"connectomeDB2020_lit\"\n",
    "distance = None\n",
    "min_spots = 20\n",
    "n_pairs = 100  # CHANGE DEFAULT TO 10000\n",
    "n_top = 50\n",
    "n_jobs = 8\n",
    "stats = \"all\"\n",
    "layer = \"counts\""
   ]
  },
  {
   "cell_type": "code",
   "execution_count": 39,
   "metadata": {},
   "outputs": [],
   "source": [
    "scale = 1\n",
    "quality = \"hires\"\n",
    "spot_diameter_fullres = 15\n",
    "if \"scalefactors\" not in adata.uns[\"spatial\"]:\n",
    "    adata.uns[\"spatial\"][library_id][\"scalefactors\"] = {}\n",
    "    adata.uns[\"spatial\"][library_id][\"scalefactors\"][\n",
    "        \"tissue_\" + quality + \"_scalef\"] = scale\n",
    "    adata.uns[\"spatial\"][library_id][\"scalefactors\"][\n",
    "        \"spot_diameter_fullres\"] = spot_diameter_fullres"
   ]
  },
  {
   "cell_type": "code",
   "execution_count": null,
   "metadata": {},
   "outputs": [],
   "source": [
    "# Process Arguments\n",
    "if isinstance(stats, str) and stats.lower().strip() == \"all\":\n",
    "    stats = [\"lr_scores\", \"p_vals\", \"p_adjs\", \"-log10(p_adjs)\"]\n",
    "pval_adj_cutoff, pval_adj_cutoff = [kwargs.pop(x, None) for x in [\n",
    "    \"pval_adj_cutoff\", \"adj_method\"]]\n",
    "\n",
    "# Make Compatible with Hard-Coded Column in stlearn Code\n",
    "# max_coor = np.max(adata.obsm[\"spatial\"])\n",
    "# scale = 2000 / max_coor\n",
    "\n",
    "if \"spatial\" in adata.obsm:\n",
    "    scale = kwargs.pop(\"scale\")\n",
    "    quality = kwargs.pop(\"key_image\", \"hires\")\n",
    "    spot_diameter_fullres = kwargs.pop(\"spot_diameter_fullres\", 15)\n",
    "    adata.obs.loc[:, \"imagerow\"] = adata.obsm[\"spatial\"][:, 0] * scale\n",
    "    adata.obs.loc[:, \"imagecol\"] = adata.obsm[\"spatial\"][:, 1] * scale\n",
    "if \"scalefactors\" not in adata.uns[\"spatial\"]:\n",
    "    adata.uns[\"spatial\"][library_id][\"scalefactors\"] = {}\n",
    "    adata.uns[\"spatial\"][library_id][\"scalefactors\"][\n",
    "        \"tissue_\" + quality + \"_scalef\"] = scale\n",
    "    adata.uns[\"spatial\"][library_id][\"scalefactors\"][\n",
    "        \"spot_diameter_fullres\"] = spot_diameter_fullres\n",
    "\n",
    "# Process Data\n",
    "adata.X = adata.layers[layer].copy()\n",
    "st.pp.normalize_total(adata)"
   ]
  },
  {
   "cell_type": "code",
   "execution_count": null,
   "metadata": {},
   "outputs": [],
   "source": [
    "# Create Spot Grid\n",
    "grid = st.tl.cci.grid(adata, n_row=n_spots, n_col=n_spots,\n",
    "                      use_label=col_cell_type)"
   ]
  },
  {
   "cell_type": "code",
   "execution_count": null,
   "metadata": {},
   "outputs": [],
   "source": [
    "# Plot: Compare Clusters to Created Spots\n",
    "fig, axes = plt.subplots(ncols=2, figsize=(20, 8))\n",
    "st.pl.cluster_plot(grid, use_label=cct, size=10, ax=axes[0], show_plot=False)\n",
    "st.pl.cluster_plot(adata, use_label=cct, ax=axes[1], show_plot=False)\n",
    "axes[0].set_title(f\"Grid: Dominant Spots\")\n",
    "axes[1].set_title(f\"Cell {cct} Labels\")\n",
    "plt.show()"
   ]
  },
  {
   "cell_type": "code",
   "execution_count": null,
   "metadata": {},
   "outputs": [],
   "source": [
    "groups = list(grid.obs[cct].cat.categories)\n",
    "for g in groups[0:2]:\n",
    "    fig, axes = plt.subplots(ncols=3, figsize=(20,8))\n",
    "    group_props = grid.uns[cct][g].values\n",
    "    grid.obs[\"Group\"] = group_props\n",
    "    st.pl.feat_plot(grid, feature=\"Group\", ax=axes[0], show_plot=False,\n",
    "                    vmax=1, show_color_bar=False)\n",
    "    st.pl.cluster_plot(grid, use_label=cct, list_clusters=[g],\n",
    "                       ax=axes[1], show_plot=False)\n",
    "    st.pl.cluster_plot(adata, use_label=cct, list_clusters=[g],\n",
    "                       ax=axes[2], show_plot=False)\n",
    "    axes[0].set_title(f\"Grid {g} Proportions (Maximum = 1)\")\n",
    "    axes[1].set_title(f\"Grid {g} Maximum Spots\")\n",
    "    axes[2].set_title(f\"Individual Cell {g}\")\n",
    "    plt.show()"
   ]
  },
  {
   "cell_type": "code",
   "execution_count": null,
   "metadata": {},
   "outputs": [],
   "source": [
    "lrs = st.tl.cci.load_lrs([resource], species=organism)\n",
    "st.tl.cci.run(\n",
    "    grid, lrs, min_spots=min_spots, distance=distance,\n",
    "    n_pairs=n_pairs, n_cpus=n_jobs)\n",
    "if pval_adj_cutoff is not None or adj_method is not None:  # adjust p?\n",
    "    st.tl.cci.adj_pvals(\n",
    "        grid, correct_axis=\"spot\", pval_adj_cutoff=pval_adj_cutoff,\n",
    "        adj_method=adj_method)  # optionally, adjust p-values\n",
    "print(grid.uns[\"lr_summary\"])"
   ]
  },
  {
   "cell_type": "code",
   "execution_count": null,
   "metadata": {},
   "outputs": [],
   "source": [
    "# QC Plots\n",
    "fig, axes = st.pl.cci_check(grid, cct, figsize=(16, 5))\n",
    "fig.suptitle(\"CCI Check: Interactions Shouldn't Correlate Much \"\n",
    "             \"with Cell Type Frequency if Well-Controlled for\")\n",
    "st.pl.lr_diagnostics(grid, figsize=(10, 2.5))\n",
    "\n",
    "# Results Plots\n",
    "st.pl.lr_summary(data, n_top=n_top, figsize=(10, 3))  # summary plot\n",
    "if plot_lr is True or isinstance(\n",
    "        plot_lr, (int, float)):  # if pairs unspecified, or just want top N\n",
    "    plot_lr = 3 if plot_lr is None else int(plot_lr)  # top 3 = default\n",
    "    plot_lr = grid.uns[\"lr_summary\"].index.values[:plot_lr]  # best pairs\n",
    "if plot_lr not in [None, False]:  # if wanted these plots...\n",
    "    fig, axes = plt.subplots(ncols=len(stats), nrows=len(plot_lr),\n",
    "                             figsize=(12, 6))\n",
    "    for r, x in enumerate(plot_lr):  # iterate ligand-receptors\n",
    "        for c, stat in enumerate(stats):  # iterate statistics\n",
    "            st.pl.lr_result_plot(grid, use_result=stat, use_lr=x,\n",
    "                                 show_color_bar=False, ax=axes[r, c])\n",
    "            axes[r, c].set_title(f\"{x} {stat}\")\n",
    "\n",
    "# Gene Expression Plots\n",
    "if plot_lr is not None:\n",
    "    genes = functools.reduce(lambda i, j: list(i) + list(j),\n",
    "                             [i.split(\"_\") for i in plot_lr])\n",
    "    for g in genes:\n",
    "        fig, axes = plt.subplots(ncols=2, figsize=(20, 5))\n",
    "        st.pl.gene_plot(grid, gene_symbols=g, ax=axes[0],\n",
    "                        show_color_bar=False, show_plot=False)\n",
    "        st.pl.gene_plot(adata, gene_symbols=g, ax=axes[1],\n",
    "                        show_color_bar=False, show_plot=False, vmax=80)\n",
    "        axes[0].set_title(f\"Grid {g} Expression\")\n",
    "        axes[1].set_title(f\"Cell {g} Expression\")\n",
    "        plt.show()"
   ]
  },
  {
   "cell_type": "code",
   "execution_count": null,
   "metadata": {},
   "outputs": [],
   "source": [
    "return grid, grid.uns[\"lr_summary\"]"
   ]
  },
  {
   "cell_type": "markdown",
   "metadata": {},
   "source": [
    "## Liana"
   ]
  },
  {
   "cell_type": "code",
   "execution_count": null,
   "metadata": {},
   "outputs": [],
   "source": [
    "import liana as li\n",
    "from liana.method import MistyData, genericMistyData, lrMistyData\n",
    "from liana.method.sp import RandomForestModel, LinearModel, RobustLinearModel\n",
    "import decoupler as dc\n",
    "\n",
    "organism = \"human\"\n",
    "adata = sc.read(os.path.join(out_dir, libid + \".h5ad\"))\n",
    "\n",
    "\n",
    "\n",
    "\n",
    "adata.X = adata.layers[\"counts\"].copy()\n",
    "sc.pp.normalize_total(adata, target_sum=1e4)\n",
    "sc.pp.log1p(adata)\n",
    "sc.pp.highly_variable_genes(adata)\n",
    "\n",
    "progeny = dc.get_progeny(organism=organism, top=500)\n",
    "dc.run_mlm(mat=adata, net=progeny, source=\"source\", target=\"target\",\n",
    "           weight=\"weight\", verbose=True, use_raw=False)\n",
    "acts_progeny = li.ut.obsm_to_adata(adata, \"mlm_estimate\")\n",
    "\n",
    "adata.obsm[\"compositions\"] =\n",
    "comps = li.ut.obsm_to_adata(adata, \"compositions\")\n",
    "\n",
    "misty = genericMistyData(intra=comps, extra=acts_progeny, cutoff=0.05,\n",
    "                         bandwidth=200, coord_type=\"generic\", n_rings=1)\n",
    "\n",
    "hvg = adata.var[adata.var[\"highly_variable\"]].index\n",
    "misty(bypass_intra=True, model=LinearModel, verbose=True)\n"
   ]
  },
  {
   "cell_type": "code",
   "execution_count": null,
   "metadata": {},
   "outputs": [],
   "source": [
    "ann = sc.read(\"kuppe_heart19.h5ad\", backup_url='https://figshare.com/ndownloader/files/41501073?private_link=4744950f8768d5c8f68c')\n",
    "ann.obsm[\"compositions\"]"
   ]
  }
 ],
 "metadata": {
  "kernelspec": {
   "display_name": "bio",
   "language": "python",
   "name": "python3"
  },
  "language_info": {
   "codemirror_mode": {
    "name": "ipython",
    "version": 3
   },
   "file_extension": ".py",
   "mimetype": "text/x-python",
   "name": "python",
   "nbconvert_exporter": "python",
   "pygments_lexer": "ipython3",
   "version": "3.10.4"
  }
 },
 "nbformat": 4,
 "nbformat_minor": 2
}
