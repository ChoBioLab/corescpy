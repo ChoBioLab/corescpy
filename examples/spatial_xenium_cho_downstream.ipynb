{
 "cells": [
  {
   "cell_type": "markdown",
   "metadata": {},
   "source": [
    "# Setup"
   ]
  },
  {
   "cell_type": "markdown",
   "metadata": {},
   "source": [
    "## Imports & Settings"
   ]
  },
  {
   "cell_type": "code",
   "execution_count": 1,
   "metadata": {},
   "outputs": [
    {
     "data": {
      "text/html": [
       "<pre style=\"white-space:pre;overflow-x:auto;line-height:normal;font-family:Menlo,'DejaVu Sans Mono',consolas,'Courier New',monospace\"><span style=\"color: #808000; text-decoration-color: #808000; font-weight: bold\">ryp2 is not installed. Install with </span><span style=\"color: #008000; text-decoration-color: #008000; font-weight: bold\">pip install rpy2 </span><span style=\"color: #808000; text-decoration-color: #808000; font-weight: bold\">to run tools with R support.</span>\n",
       "</pre>\n"
      ],
      "text/plain": [
       "\u001b[1;33mryp2 is not installed. Install with \u001b[0m\u001b[1;32mpip install rpy2 \u001b[0m\u001b[1;33mto run tools with R support.\u001b[0m\n"
      ]
     },
     "metadata": {},
     "output_type": "display_data"
    },
    {
     "name": "stderr",
     "output_type": "stream",
     "text": [
      "Downloading data from `https://omnipathdb.org/queries/enzsub?format=json`\n",
      "Downloading data from `https://omnipathdb.org/queries/interactions?format=json`\n",
      "Downloading data from `https://omnipathdb.org/queries/complexes?format=json`\n",
      "Downloading data from `https://omnipathdb.org/queries/annotations?format=json`\n",
      "Downloading data from `https://omnipathdb.org/queries/intercell?format=json`\n",
      "Downloading data from `https://omnipathdb.org/about?format=text`\n"
     ]
    },
    {
     "name": "stdout",
     "output_type": "stream",
     "text": [
      "\n",
      "\n",
      "\n",
      "================================================================================\n",
      "Directories\n",
      "================================================================================\n",
      "\n",
      "HPC Entry Point (Cho): /mnt/cho_lab\n",
      "Data: /mnt/cho_lab/bbdata2\n",
      "Metadata: /mnt/cho_lab/disk2/elizabeth/data/shared-xenium-library/samples_TUQ97N.csv\n",
      "Images: /mnt/cho_lab/bbdata1/xenium/TUQ97N\n",
      "Object/Outputs:\n",
      "\t/mnt/cho_lab/disk2/elizabeth/data/shared-xenium-library/outputs/TUQ97N/nebraska (objects)\n",
      "\t/mnt/cho_lab/disk2/elizabeth/data/shared-xenium-library/outputs/TUQ97N/nebraska/plots/downstream (plots)\n",
      "\t/mnt/cho_lab/disk2/elizabeth/data/shared-xenium-library/outputs/TUQ97N/nebraska/find_markers (markers)\n",
      "Annotations: /mnt/cho_lab/disk2/elizabeth/data/shared-xenium-library/outputs/TUQ97N/nebraska/annotation_dictionaries/annotations_all.xlsx\n",
      "\n",
      "\n",
      "\n"
     ]
    }
   ],
   "source": [
    "%load_ext autoreload\n",
    "%autoreload 2\n",
    "\n",
    "import os\n",
    "import re\n",
    "import itertools\n",
    "import functools\n",
    "import seaborn as sb\n",
    "import matplotlib.pyplot as plt\n",
    "import scipy\n",
    "import scanpy as sc\n",
    "import pandas as pd\n",
    "import numpy as np\n",
    "import corescpy as cr\n",
    "\n",
    "# Big Options\n",
    "overwrite = False  # don't overwrite object\n",
    "full_object = False  # False = faster; True = more features\n",
    "# write_object_suffix = None\n",
    "obj_suffix = \"_downstream\"\n",
    "panel = \"TUQ97N\"\n",
    "capitalize_sample = True if panel == \"TUQ97N\" else False\n",
    "# panel = \"XR4UZH\"\n",
    "suffix = \"\"  # if main objects (<sample><_region if applicable>.h5ad)\n",
    "# suffix = \"_new\"  # example suffix for object h5ad file (to avoid overwrite)\n",
    "\n",
    "# Main Directories\n",
    "usr_write_rel_path = f\"{os.getlogin()}/data/shared-xenium-library\"\n",
    "d_hpc = \"/mnt/cho_lab\" if os.path.exists(\n",
    "    \"/mnt/cho_lab\") else \"/sc/arion/projects/untreatedIBD\"  # HPC path\n",
    "d_nfs = os.path.join(d_hpc, \"bbdata2\") if os.path.exists(os.path.join(\n",
    "    d_hpc, \"bbdata2\")) else os.path.join(\n",
    "        d_hpc, \"chobiolab-core/shared-xenium-library\")\n",
    "d_usr = os.path.join(d_hpc, \"disk2\", usr_write_rel_path) if os.path.exists(\n",
    "    os.path.join(d_hpc, \"disk2\")) else os.path.join(d_hpc, usr_write_rel_path)\n",
    "d_obj = d_usr  # CHANGE IF WRITING & PULLING OBJECTS FROM DIFFERENT PATHS\n",
    "d_img = os.path.join(d_hpc, f\"cache/tissue-registry/xenium/{panel}\") if (\n",
    "    \"arion\" in d_hpc) else os.path.join(d_hpc, f\"bbdata1/xenium/{panel}\")\n",
    "\n",
    "# Construct Directories (Less Likely to Need Changes)\n",
    "# Mirror my file/directory tree in the `d_usr` directory\n",
    "obj_ext = \".h5ad\"  # extension for processed objects\n",
    "out_subdir_markers = \"find_markers\"  # sub-directory under out_dir for markers\n",
    "out_obj = os.path.join(d_obj, f\"outputs/{panel}/nebraska\")\n",
    "out_dir = os.path.join(d_usr, f\"outputs/{panel}/nebraska\")  # to save objects\n",
    "out_plot = None if out_dir is None else os.path.join(\n",
    "    out_dir, \"plots/downstream\")  # plot output directory\n",
    "file_mdf = os.path.join(d_usr, f\"samples_{panel}.csv\")  # metadata file path\n",
    "file_a = None  # don't map manual annotations\n",
    "file_a = os.path.join(out_dir, \"annotation_dictionaries/annotations_all.xlsx\")\n",
    "print(f\"\\n\\n\\n{'=' * 80}\\nDirectories\\n{'=' * 80}\\n\\nHPC Entry Point (Cho): \"\n",
    "      f\"{d_hpc}\\nData: {d_nfs}\\nMetadata: {file_mdf}\\nImages: {d_img}\\n\"\n",
    "      f\"Object/Outputs:\\n\\t{out_dir} (objects)\\n\\t{out_plot} (plots)\\n\\t\"\n",
    "      f\"{os.path.join(out_dir, out_subdir_markers)} (markers)\\n\"\n",
    "      f\"Annotations: {file_a}\\n\\n\\n\")\n",
    "\n",
    "# Computing Resources\n",
    "gpu = False\n",
    "sc.settings.n_jobs = 8\n",
    "# sc.settings.max_memory = 150\n",
    "\n",
    "# Display\n",
    "pd.options.display.max_colwidth = 1000\n",
    "pd.options.display.max_columns = 100\n",
    "pd.options.display.max_rows = 500\n",
    "sc.settings.set_figure_params(dpi=100, frameon=False, figsize=(20, 20))\n",
    "plt.rcParams[\"axes.labelsize\"] = 14    # Axis labels\n",
    "plt.rcParams[\"axes.titlesize\"] = 20    # Title\n",
    "plt.rcParams[\"xtick.labelsize\"] = 14   # X-axis tick labels\n",
    "plt.rcParams[\"ytick.labelsize\"] = 14   # Y-axis tick labels\n",
    "plt.rcParams[\"figure.titlesize\"] = 20  # Suptitle (overall figure title)\n",
    "\n",
    "# Samples/Runs\n",
    "run = None  # just look for samples in all Xenium runs for the panel\n",
    "# run = \"CHO-001\"  # run all from this run; so don't have to specify samples\n",
    "samples = \"all\"  # use samples = \"all\" with run = something for all from run\n",
    "# samples = [\"50006B\"]\n",
    "\n",
    "# For Main Objects\n",
    "# sub_dir_parent = None\n",
    "# sub_dirs = [None]  # if no sub-directory; top level of\n",
    "\n",
    "# For Regional/Object Sub-Directory Analyses\n",
    "sub_dir_parent = \"objects_cropped\"\n",
    "sub_dirs = [\"mucosa\", \"submucosa\", \"myenteric_plexus\", \"smc_circular\",\n",
    "            \"smc_longitudinal\", \"serosa\"]  # if objects in sub-directories\n",
    "\n",
    "# Object Files: Suffixes on Sample ID = Subdirectories or Single Suffix or \"\"\n",
    "suffixes = [f\"_{x}{suffix}\" if x else f\"{suffix}\" for x in sub_dirs]\n",
    "\n",
    "# Genes of Interest\n",
    "genes = {\n",
    "    \"CD Risk\": [\"LACC1\", \"LRRK2\", \"PTGER4\"],\n",
    "    \"SnC Marker\": [\"CDKN2A\", \"CDKN1A\", \"TP53\", \"PLAUR\"],\n",
    "    \"Apoptosis-Resistance\": [\"BCL2\"],\n",
    "    \"SASP\": [\"IL4\", \"IL13\", \"IL1A\", \"CXCL8\", \"CCL2\", \"CEBPB\", \"NFKB1\",\n",
    "             \"TGFB1\", \"IGFBP7\"],\n",
    "    \"SASP-IL6\": [\"OSM\", \"IL6\", \"IL6ST\"],\n",
    "    \"Fibrosis\": [\"SUCNR1\", \"CXCR4\", \"IL33\", \"IL23A\",\n",
    "                 \"IL1B\", \"IL12\", \"IL17\", \"IL36\", \"TL1A\", \"IL11\", \"IFNG\",\n",
    "                 \"IL22\", \"IL10\", \"IL21\", \"IL34\", \"CCL11\"],\n",
    "    \"ER Stress/UPR\": [\"ATF4\"],\n",
    "    \"Autophagy\": [\"MTOR\", \"ATG3\", \"ATG5\", \"ATG7\", \"ATG12\", \"ATG16L1\", \"SQSTM1\",\n",
    "                  \"BECN1\", \"IRGM1\", \"ATG8\", \"ATG6\"],\n",
    "    \"DNA Repair\": [\"ERCC1\", \"ERCC4\"],\n",
    "    \"Healing\": [\"LCN2\", \"MMP9\", \"GREM1\", \"PDGFRA\"],\n",
    "    \"Mixed\": [\"ICAM1\"]\n",
    "}   # genes of interest: can just specify list of genes\n",
    "genes_dict_colors = [\n",
    "    \"#FF0000\", \"#0000FF\", \"#000000\", \"#FFFF00\", \"#D2B48C\",\n",
    "    \"#FFC0CB\", \"#A52A2A\", \"#800080\", \"#008000\", \"#808080\"\n",
    "] if isinstance(genes, dict) else None  # colors for each \"key\" of genes dict\n",
    "\n",
    "# Leiden Column & Manual Annotation Mapping Options\n",
    "col_leiden = f\"leiden_res1pt5_dist0_npc30\"\n",
    "col_assignment = \"bucket\"  # column in annotation file whose labels to use\n",
    "col_cluster = col_leiden if file_a is None else str(\n",
    "    col_assignment + \"_\" + col_leiden.split(\"leiden_\")[1])\n",
    "# col_assignment = \"annotation\"  # more specific cell types\n",
    "suffix_ct = f\"_{col_leiden}\" + str(f\"_{col_cluster}\" if (\n",
    "    col_cluster != col_leiden) else \"\")  # new out file suffix ~ cell type"
   ]
  },
  {
   "cell_type": "markdown",
   "metadata": {},
   "source": [
    "## Setup\n",
    "\n",
    "Get constants (e.g., column names in metadata), read metadata, create dictionary of clustering parameters (so can iterate across different clustering specifications to make multiple versions, e.g., at multiple resolutions) using `res_list`, `min_dist_list`, and `n_comps_list`, make any output directories (e.g., for processed objects, plots, find markers results, Xenium Explorer cluster files) if any don't exist yet, load data into objects, etc."
   ]
  },
  {
   "cell_type": "code",
   "execution_count": 2,
   "metadata": {},
   "outputs": [
    {
     "name": "stdout",
     "output_type": "stream",
     "text": [
      "\n",
      "\n",
      "                    stricture   Condition sample_id inflammation  subject_id\n",
      "Sample                                                                     \n",
      "Uninflamed-50403A2        no  uninflamed   50403A2   uninflamed       50403\n",
      "Uninflamed-50403A1        no  uninflamed   50403A1   uninflamed       50403\n",
      "Uninflamed-50336C         no  uninflamed    50336C   uninflamed       50336\n",
      "Inflamed-50336B           no    inflamed    50336B     inflamed       50336\n",
      "Stricture-50336A         yes   stricture    50336A     inflamed       50336\n",
      "Stricture-50403C2        yes   stricture   50403C2     inflamed       50403\n",
      "Stricture-50403C1        yes   stricture   50403C1     inflamed       50403\n",
      "Inflamed-50403B           no    inflamed    50403B     inflamed       50403\n",
      "Stricture-50217C         yes   stricture    50217C     inflamed       50217\n",
      "Uninflamed-50217B         no  uninflamed    50217B   uninflamed       50217\n",
      "Inflamed-50217A           no    inflamed    50217A     inflamed       50217\n",
      "Stricture-50006C         yes   stricture    50006C     inflamed       50006\n",
      "Uninflamed-50006B         no  uninflamed    50006B   uninflamed       50006\n",
      "Inflamed-50006A           no    inflamed    50006A     inflamed       50006\n",
      "Stricture-50445A3        yes   stricture   50445A3     inflamed       50445\n",
      "Stricture-50007B2        yes   stricture   50007B2     inflamed       50007\n",
      "Stricture-50115A2        yes   stricture   50115A2     inflamed       50115\n",
      "Stricture-49471A4        yes   stricture   49471A4     inflamed       49471\n",
      "Stricture-50618B5        yes   stricture   50618B5     inflamed       50618\n",
      "Stricture-50564A4        yes   stricture   50564A4     inflamed       50564\n",
      "Stricture-50452C         yes   stricture    50452C     inflamed       50452\n",
      "Inflamed-50452B           no    inflamed    50452B     inflamed       50452\n",
      "Uninflamed-50452A         no  uninflamed    50452A   uninflamed       50452\n"
     ]
    }
   ],
   "source": [
    "# Get/Set Constants\n",
    "constants_dict = cr.get_panel_constants(panel_id=panel)\n",
    "col_sample_id_o, col_sample_id, col_condition, col_inflamed, col_subject = [\n",
    "    constants_dict[x] if x in constants_dict else None for x in [\n",
    "        \"col_sample_id_o\", \"col_sample_id\", \"col_condition\",\n",
    "        \"col_inflamed\", \"col_subject\"]]\n",
    "col_stricture, key_stricture, col_f, col_tangram, col_segment, col_object = [\n",
    "    constants_dict[x] if (x in constants_dict) else None for x in [\n",
    "        \"col_stricture\", \"key_stricture\", \"col_data_dir\",\n",
    "        \"col_tangram\", \"col_segment\", \"col_object\"]]\n",
    "\n",
    "# Read Metadata\n",
    "metadata = cr.pp.get_metadata_cho(\n",
    "    d_nfs, file_mdf, panel_id=panel, samples=samples, run=run,\n",
    "    capitalize_sample=capitalize_sample)  # get metadata\n",
    "print(\"\\n\\n\", metadata[list(set([\n",
    "    col_sample_id_o, col_subject, col_condition, col_inflamed, col_stricture,\n",
    "    col_segment]).intersection(metadata))])\n",
    "\n",
    "# Annotation File\n",
    "f_ann = pd.read_excel(file_a, index_col=[0, 1]).dropna(how=\"all\").dropna(\n",
    "    how=\"all\", axis=1)\n",
    "f_ann = f_ann.reset_index().astype({f_ann.index.names[1]: \"int\"}).astype({\n",
    "    f_ann.index.names[1]: \"string\"}).set_index(f_ann.index.names)\n",
    "\n",
    "# Final Setup\n",
    "if out_plot is not None:\n",
    "    os.makedirs(out_plot, exist_ok=True)  # ensure plot save path exists\n",
    "kws_init = dict(col_sample_id=col_sample_id, col_subject=col_subject,\n",
    "                col_cell_type=col_cluster)"
   ]
  },
  {
   "cell_type": "markdown",
   "metadata": {},
   "source": [
    "# Describe\n",
    "\n",
    "Number of cells per region."
   ]
  },
  {
   "cell_type": "code",
   "execution_count": null,
   "metadata": {},
   "outputs": [],
   "source": [
    "n_cells = {}\n",
    "for r, sub_d in zip(suffixes, sub_dirs):  # loop sub-directories (or just top)\n",
    "    out_r = str(os.path.join(out_plot, sub_d) if (\n",
    "        sub_d) else out_plot) if out_plot else None  # plot directory\n",
    "    in_r = os.path.join(out_obj, sub_dir_parent) if (\n",
    "        sub_dir_parent) else out_obj  # object directory\n",
    "    in_r = os.path.join(in_r, sub_d) if sub_d else in_r  # sub-directory?\n",
    "    n_cells[r] = {}\n",
    "\n",
    "    # Iterate Samples\n",
    "    for x in metadata.index.values:\n",
    "        print(f\"\\n\\n{'=' * 80}\\n{x}\\n{'=' * 80}\\n\\n\")\n",
    "        out = os.path.join(in_r, f\"{x}{r}{obj_ext}\")\n",
    "        if not os.path.exists(out):\n",
    "            print(f\"Skipping {x}: {out} doesn't exist!\")\n",
    "            n_cells[r][x] = np.nan\n",
    "        else:\n",
    "            n_cells[r][x] = sc.read_h5ad(out).obs.shape[0]"
   ]
  },
  {
   "cell_type": "markdown",
   "metadata": {},
   "source": [
    "# Analyze\n",
    "\n",
    "The first clustering version (first specified in `res_list`) is the cell type column used by default in downstream analyses (because it was specified in `kws_init[\"col_cell_type\"]` when creating the object and thus is stored in `self._columns[\"col_cell_type\"]`). Specify `col_cell_type` as an argument in the following functions to use a different column."
   ]
  },
  {
   "cell_type": "code",
   "execution_count": 3,
   "metadata": {},
   "outputs": [
    {
     "name": "stdout",
     "output_type": "stream",
     "text": [
      "ERROR: Unable to fetch palette, reason: 'bucket_res1pt5_dist0_npc30_colors'. Using `None`.\n",
      "\t*** Computing interaction matrix...\n",
      "\n",
      "\n",
      "*** Centrality scores stored in `.rna.uns['bucket_res1pt5_dist0_npc30_centrality_scores']`\n",
      "\n",
      "\n",
      "\n",
      "\n",
      "*** Interaction matrix results stored in `.rna.uns['bucket_res1pt5_dist0_npc30__interactions']`\n",
      "\n",
      "\n"
     ]
    },
    {
     "data": {
      "application/vnd.jupyter.widget-view+json": {
       "model_id": "c7a0d1de4e514491ab6c4049cd93c443",
       "version_major": 2,
       "version_minor": 0
      },
      "text/plain": [
       "  0%|          | 0/1000 [00:00<?, ?/s]"
      ]
     },
     "metadata": {},
     "output_type": "display_data"
    },
    {
     "name": "stdout",
     "output_type": "stream",
     "text": [
      "\n",
      "\n",
      "*** Neighborhood results stored in `.rna.uns['bucket_res1pt5_dist0_npc30_nhood_enrichment']`\n",
      "\n",
      "\n",
      "WARNING: `n_splits` was automatically set to `119` to prevent `242232x242232` distance matrix from being created\n"
     ]
    },
    {
     "data": {
      "application/vnd.jupyter.widget-view+json": {
       "model_id": "d0285c054d364bd8a9de5df084867ccb",
       "version_major": 2,
       "version_minor": 0
      },
      "text/plain": [
       "  0%|          | 0/7140 [00:00<?, ?/s]"
      ]
     },
     "metadata": {},
     "output_type": "display_data"
    }
   ],
   "source": [
    "%%time\n",
    "\n",
    "# Iterate Regions\n",
    "for r, sub_d in zip(suffixes, sub_dirs):  # loop sub-directories (or just top)\n",
    "    fig_central, fig_neigh, fig_cooccur, fig_svg = {}, {}, {}, {}\n",
    "    fig_gex = {\"heat\": {}, \"dot\": {}}\n",
    "    out_r = str(os.path.join(out_plot, sub_d) if (\n",
    "        sub_d) else out_plot) if out_plot else None  # plot directory\n",
    "    in_r = os.path.join(out_obj, sub_dir_parent) if (\n",
    "        sub_dir_parent) else out_obj  # object directory\n",
    "    in_r = os.path.join(in_r, sub_d) if sub_d else in_r  # sub-directory?\n",
    "    if out_plot is not None:\n",
    "        os.makedirs(out_r, exist_ok=True)\n",
    "    if obj_suffix is not None:\n",
    "        out_obj_new = os.path.join(out_dir, sub_dir_parent) if (\n",
    "            sub_dir_parent) else out_dir  # object directory\n",
    "        os.makedirs(out_obj_new, exist_ok=True)\n",
    "\n",
    "    # Iterate Samples\n",
    "    for x in metadata.index.values:\n",
    "        print(f\"\\n\\n{'=' * 80}\\n{x}\\n{'=' * 80}\\n\\n\")\n",
    "\n",
    "        # Load Data\n",
    "        out = os.path.join(in_r, f\"{x}{r}{obj_ext}\")\n",
    "        out_h5ad = None if obj_suffix is None else os.path.join(\n",
    "            out_obj_new, sub_d, f\"{x}{r}{obj_suffix}.h5ad\")\n",
    "        print(f\"\\n\\nInput Object: {out}\\nOutput Object: {out_h5ad}\\n\"\n",
    "              f\"Plot Directory: {out_r}\")\n",
    "        if not os.path.exists(out):\n",
    "            print(f\"Skipping {x}: {out} doesn't exist!\")\n",
    "            continue\n",
    "        if overwrite is False and os.path.exists(out_h5ad):\n",
    "            print(f\"\\n\\nAlready exists: {out_h5ad}\\n\\n\")\n",
    "            continue\n",
    "        self = cr.Spatial(metadata.loc[x][col_f] if full_object else out,\n",
    "                          # path_xenium=metadata.loc[x][col_f],\n",
    "                          library_id=x, **kws_init)\n",
    "        if full_object is True:\n",
    "            self.update_from_h5ad(out)  # update with prior preprocessing\n",
    "        # for j in metadata.dropna(how=\"all\", axis=1):  # add metadata to .obs\n",
    "        #     self.rna.obs.loc[:, j] = str(metadata.loc[x][j])\n",
    "        _ = self.annotate_clusters(\n",
    "            f_ann.loc[f\"{self._library_id}___{col_leiden}_dictionary.xlsx\"][\n",
    "                col_assignment], col_cell_type=col_leiden,\n",
    "            col_annotation=col_cluster, copy=False)  # annotations\n",
    "\n",
    "        # Gene Expression Plots (Only GEX Data)\n",
    "        goi = list(set(pd.unique(functools.reduce(lambda u, v: u + v, [\n",
    "            genes[g] for g in genes])) if isinstance(genes, dict) else genes\n",
    "                    ).intersection(self.rna.var_names))  # gene list\n",
    "        # fig_gex[\"spatial\"][self._library_id] = self.plot_spatial(\n",
    "        #     color=goi + [col_cluster], title=f\"{self._library_id}{r}\")\n",
    "        pex = \"_\".join(re.sub(\"/\", \"\", str(\n",
    "            f\"{self._library_id}{r}{suffix_ct}_{'_'.join(genes)}\")).split(\n",
    "                \" \")) + \".jpeg\"\n",
    "        fig_gex[\"dot\"][self._library_id] = cr.pl.plot_dot(\n",
    "            self.rna, col_cluster, genes,\n",
    "            title=f\"{self._library_id}{r}\",\n",
    "            genes_dict_colors=genes_dict_colors, vmin=0, vmax=10,\n",
    "            percent=\"right\", center=None, out_file=os.path.join(\n",
    "                out_r, \"dot_gex_\" + pex))\n",
    "        fig_gex[\"heat\"][self._library_id] = cr.pl.plot_matrix(\n",
    "            self.rna, col_cluster, genes,\n",
    "            title=f\"{self._library_id}{r}\",\n",
    "            genes_dict_colors=genes_dict_colors, vmin=0, vmax=10,\n",
    "            percent=\"right\", center=None, out_file=os.path.join(\n",
    "                out_r, \"heat_gex_\" + pex))\n",
    "\n",
    "        # Spatial Analyses\n",
    "        _, fig_central[self._library_id] = self.calculate_centrality(\n",
    "            figsize=(20, 10), out_plot=os.path.join(\n",
    "                out_r, f\"centrality_{self._library_id}{r}{suffix_ct}.jpeg\"))\n",
    "        _, fig_neigh[self._library_id] = self.calculate_neighborhood(\n",
    "            figsize=(60, 30), out_plot=os.path.join(\n",
    "                out_r, f\"neighborhood_{self._library_id}{r}{suffix_ct}.jpeg\"))\n",
    "        _, fig_cooccur[self._library_id] = self.find_cooccurrence(\n",
    "            figsize=(60, 20), kws_plot=dict(wspace=3), out_plot=os.path.join(\n",
    "                out_r, f\"cooccurrence_{self._library_id}{r}{suffix_ct}.jpeg\"))\n",
    "        _ = self.find_svgs(\n",
    "            genes=goi, method=\"moran\", n_perms=10, kws_plot=dict(\n",
    "                legend_fontsize=\"large\"), figsize=(15, 15),\n",
    "            out_plot=os.path.join(\n",
    "                out_r, f\"svg_{self._library_id}{r}{suffix_ct}.jpeg\"))\n",
    "        if out_h5ad is not None:\n",
    "            print(f\"Writing {out_h5ad}\")\n",
    "            self.write(out_h5ad)"
   ]
  }
 ],
 "metadata": {
  "kernelspec": {
   "display_name": "py-bio",
   "language": "python",
   "name": "python3"
  },
  "language_info": {
   "codemirror_mode": {
    "name": "ipython",
    "version": 3
   },
   "file_extension": ".py",
   "mimetype": "text/x-python",
   "name": "python",
   "nbconvert_exporter": "python",
   "pygments_lexer": "ipython3",
   "version": "3.10.4"
  }
 },
 "nbformat": 4,
 "nbformat_minor": 2
}
