{
 "cells": [
  {
   "cell_type": "markdown",
   "metadata": {},
   "source": [
    "# Setup"
   ]
  },
  {
   "cell_type": "code",
   "execution_count": 1,
   "metadata": {},
   "outputs": [
    {
     "ename": "KeyboardInterrupt",
     "evalue": "",
     "output_type": "error",
     "traceback": [
      "\u001b[0;31m---------------------------------------------------------------------------\u001b[0m",
      "\u001b[0;31mKeyboardInterrupt\u001b[0m                         Traceback (most recent call last)",
      "Cell \u001b[0;32mIn[1], line 4\u001b[0m\n\u001b[1;32m      1\u001b[0m get_ipython()\u001b[39m.\u001b[39mrun_line_magic(\u001b[39m'\u001b[39m\u001b[39mload_ext\u001b[39m\u001b[39m'\u001b[39m, \u001b[39m'\u001b[39m\u001b[39mautoreload\u001b[39m\u001b[39m'\u001b[39m)\n\u001b[1;32m      2\u001b[0m get_ipython()\u001b[39m.\u001b[39mrun_line_magic(\u001b[39m'\u001b[39m\u001b[39mautoreload\u001b[39m\u001b[39m'\u001b[39m, \u001b[39m'\u001b[39m\u001b[39m2\u001b[39m\u001b[39m'\u001b[39m)\n\u001b[0;32m----> 4\u001b[0m \u001b[39mimport\u001b[39;00m \u001b[39mcrispr\u001b[39;00m \u001b[39mas\u001b[39;00m \u001b[39mcr\u001b[39;00m\n\u001b[1;32m      5\u001b[0m \u001b[39mfrom\u001b[39;00m \u001b[39manndata\u001b[39;00m \u001b[39mimport\u001b[39;00m AnnData\n\u001b[1;32m      6\u001b[0m \u001b[39mimport\u001b[39;00m \u001b[39mscanpy\u001b[39;00m \u001b[39mas\u001b[39;00m \u001b[39msc\u001b[39;00m\n",
      "File \u001b[0;32m~/anaconda3/envs/py-bio/lib/python3.10/site-packages/crispr/__init__.py:1\u001b[0m\n\u001b[0;32m----> 1\u001b[0m \u001b[39mfrom\u001b[39;00m \u001b[39m.\u001b[39;00m \u001b[39mimport\u001b[39;00m analysis \u001b[39mas\u001b[39;00m ax\n\u001b[1;32m      2\u001b[0m \u001b[39mfrom\u001b[39;00m \u001b[39m.\u001b[39;00m \u001b[39mimport\u001b[39;00m visualization \u001b[39mas\u001b[39;00m pl\n\u001b[1;32m      3\u001b[0m \u001b[39mfrom\u001b[39;00m \u001b[39m.\u001b[39;00m \u001b[39mimport\u001b[39;00m processing \u001b[39mas\u001b[39;00m pp\n",
      "File \u001b[0;32m~/anaconda3/envs/py-bio/lib/python3.10/site-packages/crispr/analysis/__init__.py:2\u001b[0m\n\u001b[1;32m      1\u001b[0m \u001b[39m# from ._processing import preprocessing as pp\u001b[39;00m\n\u001b[0;32m----> 2\u001b[0m \u001b[39mfrom\u001b[39;00m \u001b[39m.\u001b[39;00m\u001b[39mperturbations\u001b[39;00m \u001b[39mimport\u001b[39;00m (perform_mixscape,\n\u001b[1;32m      3\u001b[0m                             perform_augur, \n\u001b[1;32m      4\u001b[0m                             perform_differential_prioritization,\n\u001b[1;32m      5\u001b[0m                             analyze_composition,\n\u001b[1;32m      6\u001b[0m                             compute_distance,\n\u001b[1;32m      7\u001b[0m                             perform_gsea)\n\u001b[1;32m      8\u001b[0m \u001b[39mfrom\u001b[39;00m \u001b[39m.\u001b[39;00m\u001b[39mclustering\u001b[39;00m \u001b[39mimport\u001b[39;00m cluster, find_markers, perform_celltypist\n",
      "File \u001b[0;32m~/anaconda3/envs/py-bio/lib/python3.10/site-packages/crispr/analysis/perturbations.py:1\u001b[0m\n\u001b[0;32m----> 1\u001b[0m \u001b[39mimport\u001b[39;00m \u001b[39mpertpy\u001b[39;00m \u001b[39mas\u001b[39;00m \u001b[39mpt\u001b[39;00m\n\u001b[1;32m      2\u001b[0m \u001b[39mimport\u001b[39;00m \u001b[39marviz\u001b[39;00m \u001b[39mas\u001b[39;00m \u001b[39maz\u001b[39;00m\n\u001b[1;32m      3\u001b[0m \u001b[39mimport\u001b[39;00m \u001b[39mscanpy\u001b[39;00m \u001b[39mas\u001b[39;00m \u001b[39msc\u001b[39;00m\n",
      "File \u001b[0;32m~/anaconda3/envs/py-bio/lib/python3.10/site-packages/pertpy/__init__.py:16\u001b[0m\n\u001b[1;32m     13\u001b[0m warnings\u001b[39m.\u001b[39mfilterwarnings(\u001b[39m\"\u001b[39m\u001b[39mignore\u001b[39m\u001b[39m\"\u001b[39m, category\u001b[39m=\u001b[39mMatplotlibDeprecationWarning)\n\u001b[1;32m     15\u001b[0m \u001b[39mfrom\u001b[39;00m \u001b[39m.\u001b[39;00m \u001b[39mimport\u001b[39;00m data \u001b[39mas\u001b[39;00m dt\n\u001b[0;32m---> 16\u001b[0m \u001b[39mfrom\u001b[39;00m \u001b[39m.\u001b[39;00m \u001b[39mimport\u001b[39;00m plot \u001b[39mas\u001b[39;00m pl\n\u001b[1;32m     17\u001b[0m \u001b[39mfrom\u001b[39;00m \u001b[39m.\u001b[39;00m \u001b[39mimport\u001b[39;00m preprocessing \u001b[39mas\u001b[39;00m pp\n\u001b[1;32m     18\u001b[0m \u001b[39mfrom\u001b[39;00m \u001b[39m.\u001b[39;00m \u001b[39mimport\u001b[39;00m tools \u001b[39mas\u001b[39;00m tl\n",
      "File \u001b[0;32m~/anaconda3/envs/py-bio/lib/python3.10/site-packages/pertpy/plot/__init__.py:4\u001b[0m\n\u001b[1;32m      1\u001b[0m \u001b[39mfrom\u001b[39;00m \u001b[39mpertpy\u001b[39;00m\u001b[39m.\u001b[39;00m\u001b[39mplot\u001b[39;00m\u001b[39m.\u001b[39;00m\u001b[39m_augurpy\u001b[39;00m \u001b[39mimport\u001b[39;00m AugurpyPlot \u001b[39mas\u001b[39;00m ag  \u001b[39m# noqa: N813\u001b[39;00m\n\u001b[1;32m      3\u001b[0m \u001b[39mtry\u001b[39;00m:\n\u001b[0;32m----> 4\u001b[0m     \u001b[39mfrom\u001b[39;00m \u001b[39mpertpy\u001b[39;00m\u001b[39m.\u001b[39;00m\u001b[39mplot\u001b[39;00m\u001b[39m.\u001b[39;00m\u001b[39m_coda\u001b[39;00m \u001b[39mimport\u001b[39;00m CodaPlot \u001b[39mas\u001b[39;00m coda  \u001b[39m# noqa: N813\u001b[39;00m\n\u001b[1;32m      5\u001b[0m \u001b[39mexcept\u001b[39;00m \u001b[39mImportError\u001b[39;00m:\n\u001b[1;32m      6\u001b[0m     \u001b[39mpass\u001b[39;00m\n",
      "File \u001b[0;32m~/anaconda3/envs/py-bio/lib/python3.10/site-packages/pertpy/plot/_coda.py:19\u001b[0m\n\u001b[1;32m     16\u001b[0m \u001b[39mfrom\u001b[39;00m \u001b[39mmudata\u001b[39;00m \u001b[39mimport\u001b[39;00m MuData\n\u001b[1;32m     17\u001b[0m \u001b[39mfrom\u001b[39;00m \u001b[39mstatannotations\u001b[39;00m\u001b[39m.\u001b[39;00m\u001b[39mAnnotator\u001b[39;00m \u001b[39mimport\u001b[39;00m Annotator\n\u001b[0;32m---> 19\u001b[0m \u001b[39mfrom\u001b[39;00m \u001b[39mpertpy\u001b[39;00m\u001b[39m.\u001b[39;00m\u001b[39mtools\u001b[39;00m\u001b[39m.\u001b[39;00m\u001b[39m_coda\u001b[39;00m\u001b[39m.\u001b[39;00m\u001b[39m_base_coda\u001b[39;00m \u001b[39mimport\u001b[39;00m CompositionalModel2, collapse_singularities_2\n\u001b[1;32m     21\u001b[0m sns\u001b[39m.\u001b[39mset_style(\u001b[39m\"\u001b[39m\u001b[39mticks\u001b[39m\u001b[39m\"\u001b[39m)\n\u001b[1;32m     24\u001b[0m \u001b[39mclass\u001b[39;00m \u001b[39mCodaPlot\u001b[39;00m:\n",
      "File \u001b[0;32m~/anaconda3/envs/py-bio/lib/python3.10/site-packages/pertpy/tools/__init__.py:14\u001b[0m\n\u001b[1;32m     12\u001b[0m \u001b[39mfrom\u001b[39;00m \u001b[39mpertpy\u001b[39;00m\u001b[39m.\u001b[39;00m\u001b[39mtools\u001b[39;00m\u001b[39m.\u001b[39;00m\u001b[39m_perturbation_space\u001b[39;00m\u001b[39m.\u001b[39;00m\u001b[39m_discriminator_classifier\u001b[39;00m \u001b[39mimport\u001b[39;00m DiscriminatorClassifierSpace\n\u001b[1;32m     13\u001b[0m \u001b[39mfrom\u001b[39;00m \u001b[39mpertpy\u001b[39;00m\u001b[39m.\u001b[39;00m\u001b[39mtools\u001b[39;00m\u001b[39m.\u001b[39;00m\u001b[39m_perturbation_space\u001b[39;00m\u001b[39m.\u001b[39;00m\u001b[39m_simple\u001b[39;00m \u001b[39mimport\u001b[39;00m CentroidSpace, DBSCANSpace, KMeansSpace, PseudobulkSpace\n\u001b[0;32m---> 14\u001b[0m \u001b[39mfrom\u001b[39;00m \u001b[39mpertpy\u001b[39;00m\u001b[39m.\u001b[39;00m\u001b[39mtools\u001b[39;00m\u001b[39m.\u001b[39;00m\u001b[39m_scgen\u001b[39;00m \u001b[39mimport\u001b[39;00m SCGEN\n\u001b[1;32m     16\u001b[0m \u001b[39mtry\u001b[39;00m:\n\u001b[1;32m     17\u001b[0m     \u001b[39mfrom\u001b[39;00m \u001b[39mpertpy\u001b[39;00m\u001b[39m.\u001b[39;00m\u001b[39mtools\u001b[39;00m\u001b[39m.\u001b[39;00m\u001b[39m_coda\u001b[39;00m\u001b[39m.\u001b[39;00m\u001b[39m_sccoda\u001b[39;00m \u001b[39mimport\u001b[39;00m Sccoda\n",
      "File \u001b[0;32m~/anaconda3/envs/py-bio/lib/python3.10/site-packages/pertpy/tools/_scgen/__init__.py:1\u001b[0m\n\u001b[0;32m----> 1\u001b[0m \u001b[39mfrom\u001b[39;00m \u001b[39mpertpy\u001b[39;00m\u001b[39m.\u001b[39;00m\u001b[39mtools\u001b[39;00m\u001b[39m.\u001b[39;00m\u001b[39m_scgen\u001b[39;00m\u001b[39m.\u001b[39;00m\u001b[39m_jax_scgen\u001b[39;00m \u001b[39mimport\u001b[39;00m SCGEN\n",
      "File \u001b[0;32m~/anaconda3/envs/py-bio/lib/python3.10/site-packages/pertpy/tools/_scgen/_jax_scgen.py:9\u001b[0m\n\u001b[1;32m      7\u001b[0m \u001b[39mfrom\u001b[39;00m \u001b[39manndata\u001b[39;00m \u001b[39mimport\u001b[39;00m AnnData\n\u001b[1;32m      8\u001b[0m \u001b[39mfrom\u001b[39;00m \u001b[39mjax\u001b[39;00m \u001b[39mimport\u001b[39;00m Array\n\u001b[0;32m----> 9\u001b[0m \u001b[39mfrom\u001b[39;00m \u001b[39mscvi\u001b[39;00m \u001b[39mimport\u001b[39;00m REGISTRY_KEYS\n\u001b[1;32m     10\u001b[0m \u001b[39mfrom\u001b[39;00m \u001b[39mscvi\u001b[39;00m\u001b[39m.\u001b[39;00m\u001b[39mdata\u001b[39;00m \u001b[39mimport\u001b[39;00m AnnDataManager\n\u001b[1;32m     11\u001b[0m \u001b[39mfrom\u001b[39;00m \u001b[39mscvi\u001b[39;00m\u001b[39m.\u001b[39;00m\u001b[39mdata\u001b[39;00m\u001b[39m.\u001b[39;00m\u001b[39mfields\u001b[39;00m \u001b[39mimport\u001b[39;00m CategoricalObsField, LayerField\n",
      "File \u001b[0;32m~/anaconda3/envs/py-bio/lib/python3.10/site-packages/scvi/__init__.py:8\u001b[0m\n\u001b[1;32m      5\u001b[0m \u001b[39mimport\u001b[39;00m \u001b[39mwarnings\u001b[39;00m\n\u001b[1;32m      7\u001b[0m \u001b[39mfrom\u001b[39;00m \u001b[39m.\u001b[39;00m\u001b[39m_constants\u001b[39;00m \u001b[39mimport\u001b[39;00m METRIC_KEYS, REGISTRY_KEYS\n\u001b[0;32m----> 8\u001b[0m \u001b[39mfrom\u001b[39;00m \u001b[39m.\u001b[39;00m\u001b[39m_settings\u001b[39;00m \u001b[39mimport\u001b[39;00m settings\n\u001b[1;32m     10\u001b[0m \u001b[39m# this import needs to come after prior imports to prevent circular import\u001b[39;00m\n\u001b[1;32m     11\u001b[0m \u001b[39mfrom\u001b[39;00m \u001b[39m.\u001b[39;00m \u001b[39mimport\u001b[39;00m autotune, data, model, external, utils, criticism\n",
      "File \u001b[0;32m~/anaconda3/envs/py-bio/lib/python3.10/site-packages/scvi/_settings.py:8\u001b[0m\n\u001b[1;32m      5\u001b[0m \u001b[39mfrom\u001b[39;00m \u001b[39mtyping\u001b[39;00m \u001b[39mimport\u001b[39;00m Literal, Optional, Union\n\u001b[1;32m      7\u001b[0m \u001b[39mimport\u001b[39;00m \u001b[39mtorch\u001b[39;00m\n\u001b[0;32m----> 8\u001b[0m \u001b[39mfrom\u001b[39;00m \u001b[39mlightning\u001b[39;00m\u001b[39m.\u001b[39;00m\u001b[39mpytorch\u001b[39;00m \u001b[39mimport\u001b[39;00m seed_everything\n\u001b[1;32m      9\u001b[0m \u001b[39mfrom\u001b[39;00m \u001b[39mrich\u001b[39;00m\u001b[39m.\u001b[39;00m\u001b[39mconsole\u001b[39;00m \u001b[39mimport\u001b[39;00m Console\n\u001b[1;32m     10\u001b[0m \u001b[39mfrom\u001b[39;00m \u001b[39mrich\u001b[39;00m\u001b[39m.\u001b[39;00m\u001b[39mlogging\u001b[39;00m \u001b[39mimport\u001b[39;00m RichHandler\n",
      "File \u001b[0;32m~/anaconda3/envs/py-bio/lib/python3.10/site-packages/lightning/__init__.py:27\u001b[0m\n\u001b[1;32m     25\u001b[0m \u001b[39mfrom\u001b[39;00m \u001b[39mlightning\u001b[39;00m\u001b[39m.\u001b[39;00m\u001b[39mfabric\u001b[39;00m\u001b[39m.\u001b[39;00m\u001b[39mfabric\u001b[39;00m \u001b[39mimport\u001b[39;00m Fabric  \u001b[39m# noqa: E402\u001b[39;00m\n\u001b[1;32m     26\u001b[0m \u001b[39mfrom\u001b[39;00m \u001b[39mlightning\u001b[39;00m\u001b[39m.\u001b[39;00m\u001b[39mfabric\u001b[39;00m\u001b[39m.\u001b[39;00m\u001b[39mutilities\u001b[39;00m\u001b[39m.\u001b[39;00m\u001b[39mseed\u001b[39;00m \u001b[39mimport\u001b[39;00m seed_everything  \u001b[39m# noqa: E402\u001b[39;00m\n\u001b[0;32m---> 27\u001b[0m \u001b[39mfrom\u001b[39;00m \u001b[39mlightning\u001b[39;00m\u001b[39m.\u001b[39;00m\u001b[39mpytorch\u001b[39;00m\u001b[39m.\u001b[39;00m\u001b[39mcallbacks\u001b[39;00m \u001b[39mimport\u001b[39;00m Callback  \u001b[39m# noqa: E402\u001b[39;00m\n\u001b[1;32m     28\u001b[0m \u001b[39mfrom\u001b[39;00m \u001b[39mlightning\u001b[39;00m\u001b[39m.\u001b[39;00m\u001b[39mpytorch\u001b[39;00m\u001b[39m.\u001b[39;00m\u001b[39mcore\u001b[39;00m \u001b[39mimport\u001b[39;00m LightningDataModule, LightningModule  \u001b[39m# noqa: E402\u001b[39;00m\n\u001b[1;32m     29\u001b[0m \u001b[39mfrom\u001b[39;00m \u001b[39mlightning\u001b[39;00m\u001b[39m.\u001b[39;00m\u001b[39mpytorch\u001b[39;00m\u001b[39m.\u001b[39;00m\u001b[39mtrainer\u001b[39;00m \u001b[39mimport\u001b[39;00m Trainer  \u001b[39m# noqa: E402\u001b[39;00m\n",
      "File \u001b[0;32m~/anaconda3/envs/py-bio/lib/python3.10/site-packages/lightning/pytorch/__init__.py:26\u001b[0m\n\u001b[1;32m     23\u001b[0m     _logger\u001b[39m.\u001b[39mpropagate \u001b[39m=\u001b[39m \u001b[39mFalse\u001b[39;00m\n\u001b[1;32m     25\u001b[0m \u001b[39mfrom\u001b[39;00m \u001b[39mlightning\u001b[39;00m\u001b[39m.\u001b[39;00m\u001b[39mfabric\u001b[39;00m\u001b[39m.\u001b[39;00m\u001b[39mutilities\u001b[39;00m\u001b[39m.\u001b[39;00m\u001b[39mseed\u001b[39;00m \u001b[39mimport\u001b[39;00m seed_everything  \u001b[39m# noqa: E402\u001b[39;00m\n\u001b[0;32m---> 26\u001b[0m \u001b[39mfrom\u001b[39;00m \u001b[39mlightning\u001b[39;00m\u001b[39m.\u001b[39;00m\u001b[39mpytorch\u001b[39;00m\u001b[39m.\u001b[39;00m\u001b[39mcallbacks\u001b[39;00m \u001b[39mimport\u001b[39;00m Callback  \u001b[39m# noqa: E402\u001b[39;00m\n\u001b[1;32m     27\u001b[0m \u001b[39mfrom\u001b[39;00m \u001b[39mlightning\u001b[39;00m\u001b[39m.\u001b[39;00m\u001b[39mpytorch\u001b[39;00m\u001b[39m.\u001b[39;00m\u001b[39mcore\u001b[39;00m \u001b[39mimport\u001b[39;00m LightningDataModule, LightningModule  \u001b[39m# noqa: E402\u001b[39;00m\n\u001b[1;32m     28\u001b[0m \u001b[39mfrom\u001b[39;00m \u001b[39mlightning\u001b[39;00m\u001b[39m.\u001b[39;00m\u001b[39mpytorch\u001b[39;00m\u001b[39m.\u001b[39;00m\u001b[39mtrainer\u001b[39;00m \u001b[39mimport\u001b[39;00m Trainer  \u001b[39m# noqa: E402\u001b[39;00m\n",
      "File \u001b[0;32m~/anaconda3/envs/py-bio/lib/python3.10/site-packages/lightning/pytorch/callbacks/__init__.py:29\u001b[0m\n\u001b[1;32m     27\u001b[0m \u001b[39mfrom\u001b[39;00m \u001b[39mlightning\u001b[39;00m\u001b[39m.\u001b[39;00m\u001b[39mpytorch\u001b[39;00m\u001b[39m.\u001b[39;00m\u001b[39mcallbacks\u001b[39;00m\u001b[39m.\u001b[39;00m\u001b[39mprediction_writer\u001b[39;00m \u001b[39mimport\u001b[39;00m BasePredictionWriter\n\u001b[1;32m     28\u001b[0m \u001b[39mfrom\u001b[39;00m \u001b[39mlightning\u001b[39;00m\u001b[39m.\u001b[39;00m\u001b[39mpytorch\u001b[39;00m\u001b[39m.\u001b[39;00m\u001b[39mcallbacks\u001b[39;00m\u001b[39m.\u001b[39;00m\u001b[39mprogress\u001b[39;00m \u001b[39mimport\u001b[39;00m ProgressBar, RichProgressBar, TQDMProgressBar\n\u001b[0;32m---> 29\u001b[0m \u001b[39mfrom\u001b[39;00m \u001b[39mlightning\u001b[39;00m\u001b[39m.\u001b[39;00m\u001b[39mpytorch\u001b[39;00m\u001b[39m.\u001b[39;00m\u001b[39mcallbacks\u001b[39;00m\u001b[39m.\u001b[39;00m\u001b[39mpruning\u001b[39;00m \u001b[39mimport\u001b[39;00m ModelPruning\n\u001b[1;32m     30\u001b[0m \u001b[39mfrom\u001b[39;00m \u001b[39mlightning\u001b[39;00m\u001b[39m.\u001b[39;00m\u001b[39mpytorch\u001b[39;00m\u001b[39m.\u001b[39;00m\u001b[39mcallbacks\u001b[39;00m\u001b[39m.\u001b[39;00m\u001b[39mrich_model_summary\u001b[39;00m \u001b[39mimport\u001b[39;00m RichModelSummary\n\u001b[1;32m     31\u001b[0m \u001b[39mfrom\u001b[39;00m \u001b[39mlightning\u001b[39;00m\u001b[39m.\u001b[39;00m\u001b[39mpytorch\u001b[39;00m\u001b[39m.\u001b[39;00m\u001b[39mcallbacks\u001b[39;00m\u001b[39m.\u001b[39;00m\u001b[39mstochastic_weight_avg\u001b[39;00m \u001b[39mimport\u001b[39;00m StochasticWeightAveraging\n",
      "File \u001b[0;32m~/anaconda3/envs/py-bio/lib/python3.10/site-packages/lightning/pytorch/callbacks/pruning.py:28\u001b[0m\n\u001b[1;32m     26\u001b[0m \u001b[39mimport\u001b[39;00m \u001b[39mlightning\u001b[39;00m\u001b[39m.\u001b[39;00m\u001b[39mpytorch\u001b[39;00m \u001b[39mas\u001b[39;00m \u001b[39mpl\u001b[39;00m\n\u001b[1;32m     27\u001b[0m \u001b[39mfrom\u001b[39;00m \u001b[39mlightning\u001b[39;00m\u001b[39m.\u001b[39;00m\u001b[39mpytorch\u001b[39;00m\u001b[39m.\u001b[39;00m\u001b[39mcallbacks\u001b[39;00m\u001b[39m.\u001b[39;00m\u001b[39mcallback\u001b[39;00m \u001b[39mimport\u001b[39;00m Callback\n\u001b[0;32m---> 28\u001b[0m \u001b[39mfrom\u001b[39;00m \u001b[39mlightning\u001b[39;00m\u001b[39m.\u001b[39;00m\u001b[39mpytorch\u001b[39;00m\u001b[39m.\u001b[39;00m\u001b[39mcore\u001b[39;00m\u001b[39m.\u001b[39;00m\u001b[39mmodule\u001b[39;00m \u001b[39mimport\u001b[39;00m LightningModule\n\u001b[1;32m     29\u001b[0m \u001b[39mfrom\u001b[39;00m \u001b[39mlightning\u001b[39;00m\u001b[39m.\u001b[39;00m\u001b[39mpytorch\u001b[39;00m\u001b[39m.\u001b[39;00m\u001b[39mutilities\u001b[39;00m\u001b[39m.\u001b[39;00m\u001b[39mexceptions\u001b[39;00m \u001b[39mimport\u001b[39;00m MisconfigurationException\n\u001b[1;32m     30\u001b[0m \u001b[39mfrom\u001b[39;00m \u001b[39mlightning\u001b[39;00m\u001b[39m.\u001b[39;00m\u001b[39mpytorch\u001b[39;00m\u001b[39m.\u001b[39;00m\u001b[39mutilities\u001b[39;00m\u001b[39m.\u001b[39;00m\u001b[39mrank_zero\u001b[39;00m \u001b[39mimport\u001b[39;00m rank_zero_debug, rank_zero_only\n",
      "File \u001b[0;32m~/anaconda3/envs/py-bio/lib/python3.10/site-packages/lightning/pytorch/core/__init__.py:16\u001b[0m\n\u001b[1;32m      1\u001b[0m \u001b[39m# Copyright The Lightning AI team.\u001b[39;00m\n\u001b[1;32m      2\u001b[0m \u001b[39m#\u001b[39;00m\n\u001b[1;32m      3\u001b[0m \u001b[39m# Licensed under the Apache License, Version 2.0 (the \"License\");\u001b[39;00m\n\u001b[0;32m   (...)\u001b[0m\n\u001b[1;32m     12\u001b[0m \u001b[39m# See the License for the specific language governing permissions and\u001b[39;00m\n\u001b[1;32m     13\u001b[0m \u001b[39m# limitations under the License.\u001b[39;00m\n\u001b[1;32m     15\u001b[0m \u001b[39mfrom\u001b[39;00m \u001b[39mlightning\u001b[39;00m\u001b[39m.\u001b[39;00m\u001b[39mpytorch\u001b[39;00m\u001b[39m.\u001b[39;00m\u001b[39mcore\u001b[39;00m\u001b[39m.\u001b[39;00m\u001b[39mdatamodule\u001b[39;00m \u001b[39mimport\u001b[39;00m LightningDataModule\n\u001b[0;32m---> 16\u001b[0m \u001b[39mfrom\u001b[39;00m \u001b[39mlightning\u001b[39;00m\u001b[39m.\u001b[39;00m\u001b[39mpytorch\u001b[39;00m\u001b[39m.\u001b[39;00m\u001b[39mcore\u001b[39;00m\u001b[39m.\u001b[39;00m\u001b[39mmodule\u001b[39;00m \u001b[39mimport\u001b[39;00m LightningModule\n\u001b[1;32m     18\u001b[0m __all__ \u001b[39m=\u001b[39m [\u001b[39m\"\u001b[39m\u001b[39mLightningDataModule\u001b[39m\u001b[39m\"\u001b[39m, \u001b[39m\"\u001b[39m\u001b[39mLightningModule\u001b[39m\u001b[39m\"\u001b[39m]\n",
      "File \u001b[0;32m~/anaconda3/envs/py-bio/lib/python3.10/site-packages/lightning/pytorch/core/module.py:62\u001b[0m\n\u001b[1;32m     60\u001b[0m \u001b[39mfrom\u001b[39;00m \u001b[39mlightning\u001b[39;00m\u001b[39m.\u001b[39;00m\u001b[39mpytorch\u001b[39;00m\u001b[39m.\u001b[39;00m\u001b[39mcore\u001b[39;00m\u001b[39m.\u001b[39;00m\u001b[39moptimizer\u001b[39;00m \u001b[39mimport\u001b[39;00m LightningOptimizer\n\u001b[1;32m     61\u001b[0m \u001b[39mfrom\u001b[39;00m \u001b[39mlightning\u001b[39;00m\u001b[39m.\u001b[39;00m\u001b[39mpytorch\u001b[39;00m\u001b[39m.\u001b[39;00m\u001b[39mcore\u001b[39;00m\u001b[39m.\u001b[39;00m\u001b[39msaving\u001b[39;00m \u001b[39mimport\u001b[39;00m _load_from_checkpoint\n\u001b[0;32m---> 62\u001b[0m \u001b[39mfrom\u001b[39;00m \u001b[39mlightning\u001b[39;00m\u001b[39m.\u001b[39;00m\u001b[39mpytorch\u001b[39;00m\u001b[39m.\u001b[39;00m\u001b[39mloggers\u001b[39;00m \u001b[39mimport\u001b[39;00m Logger\n\u001b[1;32m     63\u001b[0m \u001b[39mfrom\u001b[39;00m \u001b[39mlightning\u001b[39;00m\u001b[39m.\u001b[39;00m\u001b[39mpytorch\u001b[39;00m\u001b[39m.\u001b[39;00m\u001b[39mtrainer\u001b[39;00m \u001b[39mimport\u001b[39;00m call\n\u001b[1;32m     64\u001b[0m \u001b[39mfrom\u001b[39;00m \u001b[39mlightning\u001b[39;00m\u001b[39m.\u001b[39;00m\u001b[39mpytorch\u001b[39;00m\u001b[39m.\u001b[39;00m\u001b[39mtrainer\u001b[39;00m\u001b[39m.\u001b[39;00m\u001b[39mconnectors\u001b[39;00m\u001b[39m.\u001b[39;00m\u001b[39mlogger_connector\u001b[39;00m\u001b[39m.\u001b[39;00m\u001b[39mfx_validator\u001b[39;00m \u001b[39mimport\u001b[39;00m _FxValidator\n",
      "File \u001b[0;32m~/anaconda3/envs/py-bio/lib/python3.10/site-packages/lightning/pytorch/loggers/__init__.py:21\u001b[0m\n\u001b[1;32m     19\u001b[0m \u001b[39mfrom\u001b[39;00m \u001b[39mlightning\u001b[39;00m\u001b[39m.\u001b[39;00m\u001b[39mpytorch\u001b[39;00m\u001b[39m.\u001b[39;00m\u001b[39mloggers\u001b[39;00m\u001b[39m.\u001b[39;00m\u001b[39mmlflow\u001b[39;00m \u001b[39mimport\u001b[39;00m _MLFLOW_AVAILABLE, MLFlowLogger  \u001b[39m# noqa: F401\u001b[39;00m\n\u001b[1;32m     20\u001b[0m \u001b[39mfrom\u001b[39;00m \u001b[39mlightning\u001b[39;00m\u001b[39m.\u001b[39;00m\u001b[39mpytorch\u001b[39;00m\u001b[39m.\u001b[39;00m\u001b[39mloggers\u001b[39;00m\u001b[39m.\u001b[39;00m\u001b[39mneptune\u001b[39;00m \u001b[39mimport\u001b[39;00m NeptuneLogger  \u001b[39m# noqa: F401\u001b[39;00m\n\u001b[0;32m---> 21\u001b[0m \u001b[39mfrom\u001b[39;00m \u001b[39mlightning\u001b[39;00m\u001b[39m.\u001b[39;00m\u001b[39mpytorch\u001b[39;00m\u001b[39m.\u001b[39;00m\u001b[39mloggers\u001b[39;00m\u001b[39m.\u001b[39;00m\u001b[39mtensorboard\u001b[39;00m \u001b[39mimport\u001b[39;00m TensorBoardLogger\n\u001b[1;32m     22\u001b[0m \u001b[39mfrom\u001b[39;00m \u001b[39mlightning\u001b[39;00m\u001b[39m.\u001b[39;00m\u001b[39mpytorch\u001b[39;00m\u001b[39m.\u001b[39;00m\u001b[39mloggers\u001b[39;00m\u001b[39m.\u001b[39;00m\u001b[39mwandb\u001b[39;00m \u001b[39mimport\u001b[39;00m WandbLogger  \u001b[39m# noqa: F401\u001b[39;00m\n\u001b[1;32m     24\u001b[0m __all__ \u001b[39m=\u001b[39m [\u001b[39m\"\u001b[39m\u001b[39mCSVLogger\u001b[39m\u001b[39m\"\u001b[39m, \u001b[39m\"\u001b[39m\u001b[39mLogger\u001b[39m\u001b[39m\"\u001b[39m, \u001b[39m\"\u001b[39m\u001b[39mTensorBoardLogger\u001b[39m\u001b[39m\"\u001b[39m]\n",
      "File \u001b[0;32m~/anaconda3/envs/py-bio/lib/python3.10/site-packages/lightning/pytorch/loggers/tensorboard.py:43\u001b[0m\n\u001b[1;32m     40\u001b[0m     \u001b[39mfrom\u001b[39;00m \u001b[39momegaconf\u001b[39;00m \u001b[39mimport\u001b[39;00m Container, OmegaConf\n\u001b[1;32m     42\u001b[0m \u001b[39m# Skip doctests if requirements aren't available\u001b[39;00m\n\u001b[0;32m---> 43\u001b[0m \u001b[39mif\u001b[39;00m \u001b[39mnot\u001b[39;00m (_TENSORBOARD_AVAILABLE \u001b[39mor\u001b[39;00m _TENSORBOARDX_AVAILABLE):\n\u001b[1;32m     44\u001b[0m     __doctest_skip__ \u001b[39m=\u001b[39m [\u001b[39m\"\u001b[39m\u001b[39mTensorBoardLogger\u001b[39m\u001b[39m\"\u001b[39m, \u001b[39m\"\u001b[39m\u001b[39mTensorBoardLogger.*\u001b[39m\u001b[39m\"\u001b[39m]\n\u001b[1;32m     47\u001b[0m \u001b[39mclass\u001b[39;00m \u001b[39mTensorBoardLogger\u001b[39;00m(Logger, FabricTensorBoardLogger):\n",
      "File \u001b[0;32m~/anaconda3/envs/py-bio/lib/python3.10/site-packages/lightning_utilities/core/imports.py:136\u001b[0m, in \u001b[0;36mRequirementCache.__bool__\u001b[0;34m(self)\u001b[0m\n\u001b[1;32m    134\u001b[0m \u001b[39mdef\u001b[39;00m \u001b[39m__bool__\u001b[39m(\u001b[39mself\u001b[39m) \u001b[39m-\u001b[39m\u001b[39m>\u001b[39m \u001b[39mbool\u001b[39m:\n\u001b[1;32m    135\u001b[0m \u001b[39m    \u001b[39m\u001b[39m\"\"\"Format as bool.\"\"\"\u001b[39;00m\n\u001b[0;32m--> 136\u001b[0m     \u001b[39mself\u001b[39;49m\u001b[39m.\u001b[39;49m_check_requirement()\n\u001b[1;32m    137\u001b[0m     \u001b[39mreturn\u001b[39;00m \u001b[39mself\u001b[39m\u001b[39m.\u001b[39mavailable\n",
      "File \u001b[0;32m~/anaconda3/envs/py-bio/lib/python3.10/site-packages/lightning_utilities/core/imports.py:120\u001b[0m, in \u001b[0;36mRequirementCache._check_requirement\u001b[0;34m(self)\u001b[0m\n\u001b[1;32m    117\u001b[0m     \u001b[39mreturn\u001b[39;00m\n\u001b[1;32m    118\u001b[0m \u001b[39mtry\u001b[39;00m:\n\u001b[1;32m    119\u001b[0m     \u001b[39m# first try the pkg_resources requirement\u001b[39;00m\n\u001b[0;32m--> 120\u001b[0m     pkg_resources\u001b[39m.\u001b[39;49mrequire(\u001b[39mself\u001b[39;49m\u001b[39m.\u001b[39;49mrequirement)\n\u001b[1;32m    121\u001b[0m     \u001b[39mself\u001b[39m\u001b[39m.\u001b[39mavailable \u001b[39m=\u001b[39m \u001b[39mTrue\u001b[39;00m\n\u001b[1;32m    122\u001b[0m     \u001b[39mself\u001b[39m\u001b[39m.\u001b[39mmessage \u001b[39m=\u001b[39m \u001b[39mf\u001b[39m\u001b[39m\"\u001b[39m\u001b[39mRequirement \u001b[39m\u001b[39m{\u001b[39;00m\u001b[39mself\u001b[39m\u001b[39m.\u001b[39mrequirement\u001b[39m!r}\u001b[39;00m\u001b[39m met\u001b[39m\u001b[39m\"\u001b[39m\n",
      "File \u001b[0;32m~/anaconda3/envs/py-bio/lib/python3.10/site-packages/pkg_resources/__init__.py:968\u001b[0m, in \u001b[0;36mWorkingSet.require\u001b[0;34m(self, *requirements)\u001b[0m\n\u001b[1;32m    959\u001b[0m \u001b[39mdef\u001b[39;00m \u001b[39mrequire\u001b[39m(\u001b[39mself\u001b[39m, \u001b[39m*\u001b[39mrequirements):\n\u001b[1;32m    960\u001b[0m \u001b[39m    \u001b[39m\u001b[39m\"\"\"Ensure that distributions matching `requirements` are activated\u001b[39;00m\n\u001b[1;32m    961\u001b[0m \n\u001b[1;32m    962\u001b[0m \u001b[39m    `requirements` must be a string or a (possibly-nested) sequence\u001b[39;00m\n\u001b[0;32m   (...)\u001b[0m\n\u001b[1;32m    966\u001b[0m \u001b[39m    included, even if they were already activated in this working set.\u001b[39;00m\n\u001b[1;32m    967\u001b[0m \u001b[39m    \"\"\"\u001b[39;00m\n\u001b[0;32m--> 968\u001b[0m     needed \u001b[39m=\u001b[39m \u001b[39mself\u001b[39;49m\u001b[39m.\u001b[39;49mresolve(parse_requirements(requirements))\n\u001b[1;32m    970\u001b[0m     \u001b[39mfor\u001b[39;00m dist \u001b[39min\u001b[39;00m needed:\n\u001b[1;32m    971\u001b[0m         \u001b[39mself\u001b[39m\u001b[39m.\u001b[39madd(dist)\n",
      "File \u001b[0;32m~/anaconda3/envs/py-bio/lib/python3.10/site-packages/pkg_resources/__init__.py:829\u001b[0m, in \u001b[0;36mWorkingSet.resolve\u001b[0;34m(self, requirements, env, installer, replace_conflicting, extras)\u001b[0m\n\u001b[1;32m    826\u001b[0m \u001b[39mif\u001b[39;00m \u001b[39mnot\u001b[39;00m req_extras\u001b[39m.\u001b[39mmarkers_pass(req, extras):\n\u001b[1;32m    827\u001b[0m     \u001b[39mcontinue\u001b[39;00m\n\u001b[0;32m--> 829\u001b[0m dist \u001b[39m=\u001b[39m \u001b[39mself\u001b[39;49m\u001b[39m.\u001b[39;49m_resolve_dist(\n\u001b[1;32m    830\u001b[0m     req, best, replace_conflicting, env, installer, required_by, to_activate\n\u001b[1;32m    831\u001b[0m )\n\u001b[1;32m    833\u001b[0m \u001b[39m# push the new requirements onto the stack\u001b[39;00m\n\u001b[1;32m    834\u001b[0m new_requirements \u001b[39m=\u001b[39m dist\u001b[39m.\u001b[39mrequires(req\u001b[39m.\u001b[39mextras)[::\u001b[39m-\u001b[39m\u001b[39m1\u001b[39m]\n",
      "File \u001b[0;32m~/anaconda3/envs/py-bio/lib/python3.10/site-packages/pkg_resources/__init__.py:858\u001b[0m, in \u001b[0;36mWorkingSet._resolve_dist\u001b[0;34m(self, req, best, replace_conflicting, env, installer, required_by, to_activate)\u001b[0m\n\u001b[1;32m    856\u001b[0m \u001b[39mif\u001b[39;00m env \u001b[39mis\u001b[39;00m \u001b[39mNone\u001b[39;00m:\n\u001b[1;32m    857\u001b[0m     \u001b[39mif\u001b[39;00m dist \u001b[39mis\u001b[39;00m \u001b[39mNone\u001b[39;00m:\n\u001b[0;32m--> 858\u001b[0m         env \u001b[39m=\u001b[39m Environment(\u001b[39mself\u001b[39;49m\u001b[39m.\u001b[39;49mentries)\n\u001b[1;32m    859\u001b[0m     \u001b[39melse\u001b[39;00m:\n\u001b[1;32m    860\u001b[0m         \u001b[39m# Use an empty environment and workingset to avoid\u001b[39;00m\n\u001b[1;32m    861\u001b[0m         \u001b[39m# any further conflicts with the conflicting\u001b[39;00m\n\u001b[1;32m    862\u001b[0m         \u001b[39m# distribution\u001b[39;00m\n\u001b[1;32m    863\u001b[0m         env \u001b[39m=\u001b[39m Environment([])\n",
      "File \u001b[0;32m~/anaconda3/envs/py-bio/lib/python3.10/site-packages/pkg_resources/__init__.py:1056\u001b[0m, in \u001b[0;36mEnvironment.__init__\u001b[0;34m(self, search_path, platform, python)\u001b[0m\n\u001b[1;32m   1054\u001b[0m \u001b[39mself\u001b[39m\u001b[39m.\u001b[39mplatform \u001b[39m=\u001b[39m platform\n\u001b[1;32m   1055\u001b[0m \u001b[39mself\u001b[39m\u001b[39m.\u001b[39mpython \u001b[39m=\u001b[39m python\n\u001b[0;32m-> 1056\u001b[0m \u001b[39mself\u001b[39;49m\u001b[39m.\u001b[39;49mscan(search_path)\n",
      "File \u001b[0;32m~/anaconda3/envs/py-bio/lib/python3.10/site-packages/pkg_resources/__init__.py:1089\u001b[0m, in \u001b[0;36mEnvironment.scan\u001b[0;34m(self, search_path)\u001b[0m\n\u001b[1;32m   1087\u001b[0m \u001b[39mfor\u001b[39;00m item \u001b[39min\u001b[39;00m search_path:\n\u001b[1;32m   1088\u001b[0m     \u001b[39mfor\u001b[39;00m dist \u001b[39min\u001b[39;00m find_distributions(item):\n\u001b[0;32m-> 1089\u001b[0m         \u001b[39mself\u001b[39;49m\u001b[39m.\u001b[39;49madd(dist)\n",
      "File \u001b[0;32m~/anaconda3/envs/py-bio/lib/python3.10/site-packages/pkg_resources/__init__.py:1108\u001b[0m, in \u001b[0;36mEnvironment.add\u001b[0;34m(self, dist)\u001b[0m\n\u001b[1;32m   1106\u001b[0m \u001b[39mif\u001b[39;00m dist \u001b[39mnot\u001b[39;00m \u001b[39min\u001b[39;00m dists:\n\u001b[1;32m   1107\u001b[0m     dists\u001b[39m.\u001b[39mappend(dist)\n\u001b[0;32m-> 1108\u001b[0m     dists\u001b[39m.\u001b[39;49msort(key\u001b[39m=\u001b[39;49moperator\u001b[39m.\u001b[39;49mattrgetter(\u001b[39m'\u001b[39;49m\u001b[39mhashcmp\u001b[39;49m\u001b[39m'\u001b[39;49m), reverse\u001b[39m=\u001b[39;49m\u001b[39mTrue\u001b[39;49;00m)\n",
      "File \u001b[0;32m~/anaconda3/envs/py-bio/lib/python3.10/site-packages/pkg_resources/__init__.py:2681\u001b[0m, in \u001b[0;36mDistribution.hashcmp\u001b[0;34m(self)\u001b[0m\n\u001b[1;32m   2678\u001b[0m \u001b[39m@property\u001b[39m\n\u001b[1;32m   2679\u001b[0m \u001b[39mdef\u001b[39;00m \u001b[39mhashcmp\u001b[39m(\u001b[39mself\u001b[39m):\n\u001b[1;32m   2680\u001b[0m     \u001b[39mreturn\u001b[39;00m (\n\u001b[0;32m-> 2681\u001b[0m         \u001b[39mself\u001b[39;49m\u001b[39m.\u001b[39;49m_forgiving_parsed_version,\n\u001b[1;32m   2682\u001b[0m         \u001b[39mself\u001b[39m\u001b[39m.\u001b[39mprecedence,\n\u001b[1;32m   2683\u001b[0m         \u001b[39mself\u001b[39m\u001b[39m.\u001b[39mkey,\n\u001b[1;32m   2684\u001b[0m         \u001b[39mself\u001b[39m\u001b[39m.\u001b[39mlocation,\n\u001b[1;32m   2685\u001b[0m         \u001b[39mself\u001b[39m\u001b[39m.\u001b[39mpy_version \u001b[39mor\u001b[39;00m \u001b[39m'\u001b[39m\u001b[39m'\u001b[39m,\n\u001b[1;32m   2686\u001b[0m         \u001b[39mself\u001b[39m\u001b[39m.\u001b[39mplatform \u001b[39mor\u001b[39;00m \u001b[39m'\u001b[39m\u001b[39m'\u001b[39m,\n\u001b[1;32m   2687\u001b[0m     )\n",
      "File \u001b[0;32m~/anaconda3/envs/py-bio/lib/python3.10/site-packages/pkg_resources/__init__.py:2742\u001b[0m, in \u001b[0;36mDistribution._forgiving_parsed_version\u001b[0;34m(self)\u001b[0m\n\u001b[1;32m   2739\u001b[0m \u001b[39m@property\u001b[39m\n\u001b[1;32m   2740\u001b[0m \u001b[39mdef\u001b[39;00m \u001b[39m_forgiving_parsed_version\u001b[39m(\u001b[39mself\u001b[39m):\n\u001b[1;32m   2741\u001b[0m     \u001b[39mtry\u001b[39;00m:\n\u001b[0;32m-> 2742\u001b[0m         \u001b[39mreturn\u001b[39;00m \u001b[39mself\u001b[39;49m\u001b[39m.\u001b[39;49mparsed_version\n\u001b[1;32m   2743\u001b[0m     \u001b[39mexcept\u001b[39;00m packaging\u001b[39m.\u001b[39mversion\u001b[39m.\u001b[39mInvalidVersion \u001b[39mas\u001b[39;00m ex:\n\u001b[1;32m   2744\u001b[0m         \u001b[39mself\u001b[39m\u001b[39m.\u001b[39m_parsed_version \u001b[39m=\u001b[39m parse_version(_forgiving_version(\u001b[39mself\u001b[39m\u001b[39m.\u001b[39mversion))\n",
      "File \u001b[0;32m~/anaconda3/envs/py-bio/lib/python3.10/site-packages/pkg_resources/__init__.py:2727\u001b[0m, in \u001b[0;36mDistribution.parsed_version\u001b[0;34m(self)\u001b[0m\n\u001b[1;32m   2725\u001b[0m \u001b[39m@property\u001b[39m\n\u001b[1;32m   2726\u001b[0m \u001b[39mdef\u001b[39;00m \u001b[39mparsed_version\u001b[39m(\u001b[39mself\u001b[39m):\n\u001b[0;32m-> 2727\u001b[0m     \u001b[39mif\u001b[39;00m \u001b[39mnot\u001b[39;00m \u001b[39mhasattr\u001b[39;49m(\u001b[39mself\u001b[39;49m, \u001b[39m\"\u001b[39;49m\u001b[39m_parsed_version\u001b[39;49m\u001b[39m\"\u001b[39;49m):\n\u001b[1;32m   2728\u001b[0m         \u001b[39mtry\u001b[39;00m:\n\u001b[1;32m   2729\u001b[0m             \u001b[39mself\u001b[39m\u001b[39m.\u001b[39m_parsed_version \u001b[39m=\u001b[39m parse_version(\u001b[39mself\u001b[39m\u001b[39m.\u001b[39mversion)\n",
      "File \u001b[0;32m~/.local/lib/python3.10/site-packages/rpy2/rinterface.py:94\u001b[0m, in \u001b[0;36m_sigint_handler\u001b[0;34m(sig, frame)\u001b[0m\n\u001b[1;32m     93\u001b[0m \u001b[39mdef\u001b[39;00m \u001b[39m_sigint_handler\u001b[39m(sig, frame):\n\u001b[0;32m---> 94\u001b[0m     \u001b[39mraise\u001b[39;00m \u001b[39mKeyboardInterrupt\u001b[39;00m()\n",
      "\u001b[0;31mKeyboardInterrupt\u001b[0m: "
     ]
    }
   ],
   "source": [
    "%load_ext autoreload\n",
    "%autoreload 2\n",
    "\n",
    "import crispr as cr\n",
    "from anndata import AnnData\n",
    "import scanpy as sc\n",
    "import copy\n",
    "\n",
    "col_sample_id = \"orig.ident\"\n",
    "kws_harmony = {\"plot_convergence\": True,\n",
    "               \"random_state\": 1618}\n",
    "kws_process_guide_rna = {\"feature_split\": \"|\", \"guide_split\": \"-\", \n",
    "                         \"key_control_patterns\": [\"CTRL\"],\n",
    "                         \"remove_multi_transfected\": True}\n",
    "kws_umap = {\"min_dist\": 0.3}\n",
    "kws_umap=kws_umap\n",
    "kws_init = {\"assay\": None, \"assay_protein\": None, \n",
    "            \"col_gene_symbols\": \"gene_symbols\", \n",
    "            \"col_cell_type\": \"majority_voting\", \n",
    "            \"col_sample_id\": col_sample_id, \"col_batch\": col_sample_id, \n",
    "            \"col_perturbed\": \"perturbation\", \n",
    "            \"col_guide_rna\": \"feature_call\", \n",
    "            \"col_num_umis\": \"num_umis\", \n",
    "            \"kws_process_guide_rna\": kws_process_guide_rna,\n",
    "            \"col_condition\": \"target_gene_name\", \"key_control\": \"NT\", \n",
    "            \"key_treatment\": \"KD\"}\n",
    "kws_pp = {\"kws_hvg\": {\"min_mean\": 0.0125, \"max_mean\": 10, \n",
    "                      \"min_disp\": 0.5, \"flavor\": \"cell_ranger\"}, \n",
    "          \"target_sum\": 10000.0, \"cell_filter_pmt\": [0, 15], \n",
    "          \"cell_filter_ngene\": [200, None], \"cell_filter_ncounts\": [3, 40000], \n",
    "          \"gene_filter_ncell\": [3, None], \"regress_out\": None, \n",
    "          \"kws_scale\": \"z\", \"kws_umap\": kws_umap}\n",
    "kws_cluster = {\"method_cluster\": \"leiden\", \"kws_umap\": kws_umap, \n",
    "               \"kws_neighbors\": None, \n",
    "               \"kws_pca\": {\"n_comps\": None, \"use_highly_variable\": True}, \n",
    "               \"kws_cluster\": {\"resolution\": 0.5}}\n",
    "\n",
    "file_path = {\"HH03\": {\"directory\": \"data/crispr-screening/HH06\"}, \n",
    "             \"CR4\": {\"directory\": \"data/crispr-screening/HH-Hu-CR4\"},\n",
    "             \"CR5\": {\"directory\": \"data/crispr-screening/HH-Hu-CR5\"}}\n",
    "\n"
   ]
  },
  {
   "cell_type": "markdown",
   "metadata": {},
   "source": [
    "# Create Integrated Object\n",
    "\n",
    "We first have to create preprocessed and clustered individual objects, then integrate them with Harmony."
   ]
  },
  {
   "cell_type": "markdown",
   "metadata": {},
   "source": [
    "## Integrate Data\n",
    "\n",
    "If `kws_pp` and/or `kws_cluster` = None, then preprocessing and/or clustering, respectively, will not be performed on individual objects."
   ]
  },
  {
   "cell_type": "code",
   "execution_count": null,
   "metadata": {},
   "outputs": [
    {
     "data": {
      "text/plain": [
       "dict_keys(['assay', 'col_gene_symbols', 'col_cell_type', 'col_sample_id', 'col_batch', 'col_perturbed', 'col_guide_rna', 'col_num_umis', 'kws_process_guide_rna', 'col_condition', 'key_control', 'key_treatment', 'remove_multi_transfected', 'key_nonperturbed'])"
      ]
     },
     "execution_count": 33,
     "metadata": {},
     "output_type": "execute_result"
    }
   ],
   "source": [
    "{\"assay\": None, \"col_gene_symbols\": \"gene_symbols\", \"col_cell_type\": \"majority_voting\", \"col_sample_id\": \"orig.ident\", \"col_batch\": \"orig.ident\", \"col_perturbed\": \"perturbation\", \"col_guide_rna\": \"feature_call\", \"col_num_umis\": \"num_umis\", \"kws_process_guide_rna\": {\"feature_split\": \"|\", \"guide_split\": \"-\", \"key_control_patterns\": [\"CTRL\"], \"col_guide_rna\": \"feature_call\", \"col_num_umis\": \"num_umis\", \"key_control\": \"NT\", \"remove_multi_transfected\": True}, \"col_condition\": \"target_gene_name\", \"key_control\": \"NT\", \"key_treatment\": \"KD\", \"remove_multi_transfected\": True, \"key_nonperturbed\": \"NP\"}.keys()\n"
   ]
  },
  {
   "cell_type": "code",
   "execution_count": 35,
   "metadata": {},
   "outputs": [
    {
     "name": "stdout",
     "output_type": "stream",
     "text": [
      "\n",
      "\n",
      "<<< INTEGRATING DATASETS >>>\n",
      "\n",
      "\n",
      "\n",
      "<<< INITIALIZING CRISPR CLASS OBJECT >>>\n",
      "\n",
      "{'assay': None, 'col_gene_symbols': 'gene_symbols', 'col_sample_id': 'orig.ident', 'kws_process_guide_rna': {'feature_split': '|', 'guide_split': '-', 'key_control_patterns': ['CTRL'], 'remove_multi_transfected': True, 'col_guide_rna': 'feature_call', 'col_num_umis': 'num_umis', 'key_control': 'NT'}, 'remove_multi_transfected': True}\n",
      "\n",
      "<<< LOADING PROTOSPACER METADATA >>>\n"
     ]
    },
    {
     "ename": "TypeError",
     "evalue": "read_10x_mtx() got an unexpected keyword argument 'remove_multi_transfected'",
     "output_type": "error",
     "traceback": [
      "\u001b[0;31m---------------------------------------------------------------------------\u001b[0m",
      "\u001b[0;31mTypeError\u001b[0m                                 Traceback (most recent call last)",
      "Cell \u001b[0;32mIn[35], line 1\u001b[0m\n\u001b[0;32m----> 1\u001b[0m adata \u001b[39m=\u001b[39m cr\u001b[39m.\u001b[39;49mCrispr(file_path, kws_init\u001b[39m=\u001b[39;49mkws_init, kws_pp\u001b[39m=\u001b[39;49mkws_pp, \n\u001b[1;32m      2\u001b[0m                   kws_cluster\u001b[39m=\u001b[39;49mkws_cluster, kws_harmony\u001b[39m=\u001b[39;49mkws_harmony)\n",
      "File \u001b[0;32m~/projects/crispr/crispr/crispr_class.py:373\u001b[0m, in \u001b[0;36mCrispr.__init__\u001b[0;34m(self, file_path, **kwargs)\u001b[0m\n\u001b[1;32m    371\u001b[0m \u001b[39m# Integrate Datasets if Needed or Create Single One\u001b[39;00m\n\u001b[1;32m    372\u001b[0m \u001b[39mif\u001b[39;00m \u001b[39mself\u001b[39m\u001b[39m.\u001b[39m_integrated \u001b[39mis\u001b[39;00m \u001b[39mTrue\u001b[39;00m:\n\u001b[0;32m--> 373\u001b[0m     \u001b[39mself\u001b[39m\u001b[39m.\u001b[39madata \u001b[39m=\u001b[39m cr\u001b[39m.\u001b[39;49mpp\u001b[39m.\u001b[39;49mcreate_object_multi(\n\u001b[1;32m    374\u001b[0m         file_path, kws_init\u001b[39m=\u001b[39;49mkws_init, kws_pp\u001b[39m=\u001b[39;49mkws_pp, \n\u001b[1;32m    375\u001b[0m         kws_cluster\u001b[39m=\u001b[39;49mkws_cluster, kws_harmony\u001b[39m=\u001b[39;49mkws_harmony\n\u001b[1;32m    376\u001b[0m         )  \u001b[39m# create integrated AnnData object to pass to create_object\u001b[39;00m\n\u001b[1;32m    377\u001b[0m     cr\u001b[39m.\u001b[39mpp\u001b[39m.\u001b[39mperform_qc(\u001b[39mself\u001b[39m\u001b[39m.\u001b[39madata\u001b[39m.\u001b[39mcopy(), hue\u001b[39m=\u001b[39mkws_init[\u001b[39m\"\u001b[39m\u001b[39mcol_sample_id\u001b[39m\u001b[39m\"\u001b[39m])\n\u001b[1;32m    378\u001b[0m     \u001b[39mprint\u001b[39m(\u001b[39m\"\u001b[39m\u001b[39m\\n\u001b[39;00m\u001b[39m\\n\u001b[39;00m\u001b[39m<<< INITIALIZING INTEGRATED CRISPR CLASS OBJECT >>>\u001b[39m\u001b[39m\\n\u001b[39;00m\u001b[39m\"\u001b[39m)\n",
      "File \u001b[0;32m~/projects/crispr/crispr/processing/preprocessing.py:51\u001b[0m, in \u001b[0;36mcreate_object_multi\u001b[0;34m(file_path, kws_init, kws_pp, kws_cluster, kws_harmony)\u001b[0m\n\u001b[1;32m     46\u001b[0m [kws_init, kws_pp, kws_cluster] \u001b[39m=\u001b[39m [\u001b[39mdict\u001b[39m(\u001b[39mzip\u001b[39m(ids, x)) \u001b[39mif\u001b[39;00m \u001b[39misinstance\u001b[39m(\n\u001b[1;32m     47\u001b[0m     x, \u001b[39mlist\u001b[39m) \u001b[39melse\u001b[39;00m \u001b[39mdict\u001b[39m(\u001b[39mzip\u001b[39m(ids, [x] \u001b[39m*\u001b[39m \u001b[39mlen\u001b[39m(ids))) \u001b[39mfor\u001b[39;00m x \u001b[39min\u001b[39;00m [\n\u001b[1;32m     48\u001b[0m         kws_init, kws_pp, kws_cluster]]  \u001b[39m# dictionaries for each\u001b[39;00m\n\u001b[1;32m     50\u001b[0m \u001b[39m# Create AnnData Objects\u001b[39;00m\n\u001b[0;32m---> 51\u001b[0m selves \u001b[39m=\u001b[39m \u001b[39mdict\u001b[39m(\u001b[39mzip\u001b[39m(file_path, [\n\u001b[1;32m     52\u001b[0m     cr\u001b[39m.\u001b[39mCrispr(file_path[f], \u001b[39m*\u001b[39m\u001b[39m*\u001b[39mkws_init[f]) \u001b[39mfor\u001b[39;00m f \u001b[39min\u001b[39;00m file_path])\n\u001b[1;32m     53\u001b[0m               )  \u001b[39m# create individual Crispr objects\u001b[39;00m\n\u001b[1;32m     55\u001b[0m \u001b[39m# Preprocessing & Clustering\u001b[39;00m\n\u001b[1;32m     56\u001b[0m \u001b[39mfor\u001b[39;00m x \u001b[39min\u001b[39;00m selves:  \u001b[39m# preprocess & cluster each object\u001b[39;00m\n",
      "File \u001b[0;32m~/projects/crispr/crispr/processing/preprocessing.py:52\u001b[0m, in \u001b[0;36m<listcomp>\u001b[0;34m(.0)\u001b[0m\n\u001b[1;32m     46\u001b[0m [kws_init, kws_pp, kws_cluster] \u001b[39m=\u001b[39m [\u001b[39mdict\u001b[39m(\u001b[39mzip\u001b[39m(ids, x)) \u001b[39mif\u001b[39;00m \u001b[39misinstance\u001b[39m(\n\u001b[1;32m     47\u001b[0m     x, \u001b[39mlist\u001b[39m) \u001b[39melse\u001b[39;00m \u001b[39mdict\u001b[39m(\u001b[39mzip\u001b[39m(ids, [x] \u001b[39m*\u001b[39m \u001b[39mlen\u001b[39m(ids))) \u001b[39mfor\u001b[39;00m x \u001b[39min\u001b[39;00m [\n\u001b[1;32m     48\u001b[0m         kws_init, kws_pp, kws_cluster]]  \u001b[39m# dictionaries for each\u001b[39;00m\n\u001b[1;32m     50\u001b[0m \u001b[39m# Create AnnData Objects\u001b[39;00m\n\u001b[1;32m     51\u001b[0m selves \u001b[39m=\u001b[39m \u001b[39mdict\u001b[39m(\u001b[39mzip\u001b[39m(file_path, [\n\u001b[0;32m---> 52\u001b[0m     cr\u001b[39m.\u001b[39;49mCrispr(file_path[f], \u001b[39m*\u001b[39;49m\u001b[39m*\u001b[39;49mkws_init[f]) \u001b[39mfor\u001b[39;00m f \u001b[39min\u001b[39;00m file_path])\n\u001b[1;32m     53\u001b[0m               )  \u001b[39m# create individual Crispr objects\u001b[39;00m\n\u001b[1;32m     55\u001b[0m \u001b[39m# Preprocessing & Clustering\u001b[39;00m\n\u001b[1;32m     56\u001b[0m \u001b[39mfor\u001b[39;00m x \u001b[39min\u001b[39;00m selves:  \u001b[39m# preprocess & cluster each object\u001b[39;00m\n",
      "File \u001b[0;32m~/projects/crispr/crispr/crispr_class.py:382\u001b[0m, in \u001b[0;36mCrispr.__init__\u001b[0;34m(self, file_path, **kwargs)\u001b[0m\n\u001b[1;32m    380\u001b[0m     \u001b[39mprint\u001b[39m(\u001b[39m\"\u001b[39m\u001b[39m\\n\u001b[39;00m\u001b[39m\\n\u001b[39;00m\u001b[39m<<< INITIALIZING CRISPR CLASS OBJECT >>>\u001b[39m\u001b[39m\\n\u001b[39;00m\u001b[39m\"\u001b[39m)\n\u001b[1;32m    381\u001b[0m     \u001b[39mprint\u001b[39m(kws_init)\n\u001b[0;32m--> 382\u001b[0m     \u001b[39mself\u001b[39m\u001b[39m.\u001b[39madata \u001b[39m=\u001b[39m cr\u001b[39m.\u001b[39;49mpp\u001b[39m.\u001b[39;49mcreate_object(file_path, \u001b[39m*\u001b[39;49m\u001b[39m*\u001b[39;49mkws_init)  \u001b[39m# adata\u001b[39;00m\n\u001b[1;32m    383\u001b[0m \u001b[39mself\u001b[39m\u001b[39m.\u001b[39m_layers \u001b[39m=\u001b[39m {\u001b[39m*\u001b[39m\u001b[39m*\u001b[39mcr\u001b[39m.\u001b[39mpp\u001b[39m.\u001b[39mget_layer_dict(), \n\u001b[1;32m    384\u001b[0m                 \u001b[39m\"\u001b[39m\u001b[39mlayer_perturbation\u001b[39m\u001b[39m\"\u001b[39m: \u001b[39m\"\u001b[39m\u001b[39mX_pert\u001b[39m\u001b[39m\"\u001b[39m}\n\u001b[1;32m    386\u001b[0m \u001b[39m# Create Attributes to Store Results/Figures\u001b[39;00m\n",
      "File \u001b[0;32m~/projects/crispr/crispr/processing/preprocessing.py:96\u001b[0m, in \u001b[0;36mcreate_object\u001b[0;34m(file, col_gene_symbols, assay, col_barcode, col_sample_id, kws_process_guide_rna, plot, **kwargs)\u001b[0m\n\u001b[1;32m     94\u001b[0m \u001b[39melif\u001b[39;00m \u001b[39misinstance\u001b[39m(file, \u001b[39mdict\u001b[39m):  \u001b[39m# metadata in protospacer files\u001b[39;00m\n\u001b[1;32m     95\u001b[0m     \u001b[39mprint\u001b[39m(\u001b[39mf\u001b[39m\u001b[39m\"\u001b[39m\u001b[39m\\n\u001b[39;00m\u001b[39m<<< LOADING PROTOSPACER METADATA >>>\u001b[39m\u001b[39m\"\u001b[39m)\n\u001b[0;32m---> 96\u001b[0m     adata \u001b[39m=\u001b[39m cr\u001b[39m.\u001b[39;49mpp\u001b[39m.\u001b[39;49mcombine_matrix_protospacer(\n\u001b[1;32m     97\u001b[0m         \u001b[39m*\u001b[39;49m\u001b[39m*\u001b[39;49mfile, col_gene_symbols\u001b[39m=\u001b[39;49mcol_gene_symbols, \n\u001b[1;32m     98\u001b[0m         col_barcode\u001b[39m=\u001b[39;49mcol_barcode, \u001b[39m*\u001b[39;49m\u001b[39m*\u001b[39;49mkwargs)  \u001b[39m# + metadata from protospacer\u001b[39;00m\n\u001b[1;32m     99\u001b[0m \u001b[39melif\u001b[39;00m \u001b[39mnot\u001b[39;00m \u001b[39misinstance\u001b[39m(file, (\u001b[39mstr\u001b[39m, os\u001b[39m.\u001b[39mPathLike)):  \u001b[39m# if already AnnData\u001b[39;00m\n\u001b[1;32m    100\u001b[0m     \u001b[39mprint\u001b[39m(\u001b[39mf\u001b[39m\u001b[39m\"\u001b[39m\u001b[39m\\n\u001b[39;00m\u001b[39m<<< LOADING OBJECT >>>\u001b[39m\u001b[39m\"\u001b[39m)\n",
      "File \u001b[0;32m~/projects/crispr/crispr/processing/importing.py:224\u001b[0m, in \u001b[0;36mcombine_matrix_protospacer\u001b[0;34m(directory, subdirectory_mtx, col_gene_symbols, file_protospacer, col_barcode, **kwargs)\u001b[0m\n\u001b[1;32m    195\u001b[0m \u001b[39mdef\u001b[39;00m \u001b[39mcombine_matrix_protospacer\u001b[39m(\n\u001b[1;32m    196\u001b[0m     directory\u001b[39m=\u001b[39m\u001b[39m\"\u001b[39m\u001b[39m\"\u001b[39m, subdirectory_mtx\u001b[39m=\u001b[39m\u001b[39m\"\u001b[39m\u001b[39mfiltered_feature_bc_matrix\u001b[39m\u001b[39m\"\u001b[39m, \n\u001b[1;32m    197\u001b[0m     col_gene_symbols\u001b[39m=\u001b[39m\u001b[39m\"\u001b[39m\u001b[39mgene_symbols\u001b[39m\u001b[39m\"\u001b[39m, \n\u001b[1;32m    198\u001b[0m     file_protospacer\u001b[39m=\u001b[39m\u001b[39m\"\u001b[39m\u001b[39mcrispr_analysis/protospacer_calls_per_cell.csv\u001b[39m\u001b[39m\"\u001b[39m, \n\u001b[1;32m    199\u001b[0m     col_barcode\u001b[39m=\u001b[39m\u001b[39m\"\u001b[39m\u001b[39mcell_barcode\u001b[39m\u001b[39m\"\u001b[39m, \n\u001b[1;32m    200\u001b[0m     \u001b[39m*\u001b[39m\u001b[39m*\u001b[39mkwargs):\n\u001b[1;32m    201\u001b[0m \u001b[39m    \u001b[39m\u001b[39m\"\"\"\u001b[39;00m\n\u001b[1;32m    202\u001b[0m \u001b[39m    Combine CellRanger directory-derived AnnData `.obs` & perturbation data.\u001b[39;00m\n\u001b[1;32m    203\u001b[0m \u001b[39m    \u001b[39;00m\n\u001b[0;32m   (...)\u001b[0m\n\u001b[1;32m    222\u001b[0m \u001b[39m    \u001b[39;00m\n\u001b[1;32m    223\u001b[0m \u001b[39m    \"\"\"\u001b[39;00m\n\u001b[0;32m--> 224\u001b[0m     adata \u001b[39m=\u001b[39m sc\u001b[39m.\u001b[39;49mread_10x_mtx(\n\u001b[1;32m    225\u001b[0m         os\u001b[39m.\u001b[39;49mpath\u001b[39m.\u001b[39;49mjoin(directory, subdirectory_mtx), \n\u001b[1;32m    226\u001b[0m         var_names\u001b[39m=\u001b[39;49mcol_gene_symbols, \u001b[39m*\u001b[39;49m\u001b[39m*\u001b[39;49mkwargs)  \u001b[39m# 10x matrix, barcodes, features\u001b[39;00m\n\u001b[1;32m    227\u001b[0m     dff \u001b[39m=\u001b[39m pd\u001b[39m.\u001b[39mread_csv(os\u001b[39m.\u001b[39mpath\u001b[39m.\u001b[39mjoin(directory, file_protospacer), \n\u001b[1;32m    228\u001b[0m                       index_col\u001b[39m=\u001b[39mcol_barcode)  \u001b[39m# perturbation information\u001b[39;00m\n\u001b[1;32m    229\u001b[0m     \u001b[39mif\u001b[39;00m col_barcode \u001b[39mis\u001b[39;00m \u001b[39mNone\u001b[39;00m:\n",
      "\u001b[0;31mTypeError\u001b[0m: read_10x_mtx() got an unexpected keyword argument 'remove_multi_transfected'"
     ]
    }
   ],
   "source": [
    "adata = cr.pp.create_object_multi(\n",
    "    file_path, kws_init=kws_init, kws_pp=kws_pp, kws_cluster=kws_cluster, \n",
    "    kws_harmony=kws_harmony)  # create integrated AnnData object\n",
    "kws_init_new = copy.deepcopy(kws_init)\n",
    "kws_init_new[\"kws_process_guide_rna\"] = None  # don't need any more\n",
    "kws_init_new[\"col_sample_id\"] = col_sample_id\n",
    "kws_init_new[\"col_batch\"] = col_sample_id"
   ]
  },
  {
   "cell_type": "markdown",
   "metadata": {},
   "source": [
    "## Create Overall Object"
   ]
  },
  {
   "cell_type": "code",
   "execution_count": null,
   "metadata": {},
   "outputs": [],
   "source": [
    "self = cr.Crispr(adata, **{**kws_init_new, \n",
    "                           **{\"col_sample_id\": \"unique.idents\", \n",
    "                              \"col_batch\": \"unique.idents\"}}\n",
    "                 )  # pass integrated object to Crispr class\n",
    "del(adata)  # object now in `self`"
   ]
  },
  {
   "cell_type": "markdown",
   "metadata": {},
   "source": [
    "# Clustering & Annotations\n",
    "\n",
    "Clustering was conducted in the individual objects in `cr.pp.create_object_multi()`, but we want to re-do QC and clustering in the overall sample.\n",
    "\n",
    "## Clustering\n",
    "\n",
    "We need to have `kws_pca=False` so that the Harmony-adjusted PCA created during integration (rather than a newly-calculated one) will be used."
   ]
  },
  {
   "cell_type": "code",
   "execution_count": null,
   "metadata": {},
   "outputs": [],
   "source": [
    "self.cluster(**{**kws_cluster, \"kws_pca\": False}, layer=\"log1p\")\n",
    "degs = self.find_markers(n_genes=10, method=\"wilcoxon\", key_reference=\"rest\")\n",
    "degs[0]  # marker data; degs[1] for figures"
   ]
  },
  {
   "cell_type": "markdown",
   "metadata": {},
   "source": [
    "## CellTypist\n",
    "\n",
    "Annotate cell types."
   ]
  },
  {
   "cell_type": "code",
   "execution_count": null,
   "metadata": {},
   "outputs": [],
   "source": [
    "preds, f_ct = self.annotate_clusters(model=\"COVID19_HumanChallenge_Blood.pkl\")\n",
    "self.rna.obs"
   ]
  },
  {
   "cell_type": "markdown",
   "metadata": {},
   "source": [
    "# Plots"
   ]
  },
  {
   "cell_type": "code",
   "execution_count": null,
   "metadata": {},
   "outputs": [],
   "source": [
    "cct = \"predicted_labels\" if \"predicted_labels\" in self.rna.obs else None\n",
    "clus = list(self.rna.obs[cct].sample(2))  # clusters to circle\n",
    "figs = self.plot(genes=36, \n",
    "                 kws_qc=True,\n",
    "                 col_cell_type=cct,\n",
    "                 layers=\"all\",  # also plot \"scaled\" layer, for instance\n",
    "                 kws_gex_violin=dict(scale=\"area\", height=10),\n",
    "                 kws_clustering=dict(col_cell_type=cct))"
   ]
  },
  {
   "cell_type": "markdown",
   "metadata": {},
   "source": [
    "# Analyses\n",
    "\n",
    "Perform perturbation-specific analyses."
   ]
  },
  {
   "cell_type": "markdown",
   "metadata": {},
   "source": [
    "## Augur"
   ]
  },
  {
   "cell_type": "code",
   "execution_count": null,
   "metadata": {},
   "outputs": [],
   "source": [
    "cct = \"majority_voting\" if \"majority_voting\" in self.rna.obs else \\\n",
    "    self._columns[\"col_cell_type\"]\n",
    "_ = self.run_augur(\n",
    "    col_cell_type=cct, \n",
    "    # ^ will be label in self._columns by default, but can override here\n",
    "    col_perturbed=self._columns[\"col_perturbed\"], \n",
    "    # ^ will be this by default if unspecified, but can override here\n",
    "    key_treatment=self._keys[\"key_treatment\"],  \n",
    "    # ^ will be this by default if unspecified, but can override here\n",
    "    select_variance_features=True,  # filter by highly variable genes\n",
    "    classifier=\"random_forest_classifier\", n_folds=3, augur_mode=\"default\", \n",
    "    kws_umap=kws_umap, subsample_size=5, kws_augur_predict=dict(span=0.7))"
   ]
  },
  {
   "cell_type": "markdown",
   "metadata": {},
   "source": [
    "## Mixscape"
   ]
  },
  {
   "cell_type": "code",
   "execution_count": null,
   "metadata": {},
   "outputs": [],
   "source": [
    "figs_mixscape = self.run_mixscape(\n",
    "    col_split_by=\"orig.ident\", col_cell_type=cct, target_gene_idents=True)"
   ]
  },
  {
   "cell_type": "markdown",
   "metadata": {},
   "source": [
    "# Distance\n",
    "\n",
    "Investigate distance metrics."
   ]
  },
  {
   "cell_type": "code",
   "execution_count": null,
   "metadata": {},
   "outputs": [],
   "source": [
    "kws_plot = dict(figsize=(15, 15), robust=True)  # heatmap keywords\n",
    "fig_dist_w = self.compute_distance(distance_type=\"edistance\", method=\"X_pca\",\n",
    "                                   kws_plot=kws_plot)\n",
    "fig_dist_e = self.compute_distance(distance_type=\"mmd\", method=\"X_pca\",\n",
    "                                   kws_plot=kws_plot)"
   ]
  }
 ],
 "metadata": {
  "kernelspec": {
   "display_name": "py-bio",
   "language": "python",
   "name": "python3"
  },
  "language_info": {
   "codemirror_mode": {
    "name": "ipython",
    "version": 3
   },
   "file_extension": ".py",
   "mimetype": "text/x-python",
   "name": "python",
   "nbconvert_exporter": "python",
   "pygments_lexer": "ipython3",
   "version": "3.10.4"
  },
  "orig_nbformat": 4
 },
 "nbformat": 4,
 "nbformat_minor": 2
}
