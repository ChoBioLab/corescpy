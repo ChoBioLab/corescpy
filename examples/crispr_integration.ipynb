{
 "cells": [
  {
   "cell_type": "code",
   "execution_count": null,
   "metadata": {},
   "outputs": [],
   "source": [
    "import crispr as cr\n",
    "from crispr.crispr_class import Crispr\n",
    "\n",
    "kws_process_guide_rna = {\"feature_split\": \"|\", \"guide_split\": \"-\", \n",
    "                         \"key_control_patterns\": [\"CTRL\"]}\n",
    "kws_umap = {\"min_dist\": 0.3}\n",
    "kws_umap=kws_umap\n",
    "kws_init = {\"assay\": None, \"assay_protein\": None, \n",
    "            \"col_gene_symbols\": \"gene_symbols\", \n",
    "            \"col_cell_type\": \"majority_voting\", \n",
    "            \"col_sample_id\": None, \"col_batch\": None, \n",
    "            \"col_perturbed\": \"perturbation\", \n",
    "            \"col_guide_rna\": \"feature_call\", \n",
    "            \"col_num_umis\": \"num_umis\", \n",
    "            \"kws_process_guide_rna\": kws_process_guide_rna,\n",
    "            \"col_condition\": \"target_gene_name\", \"key_control\": \"NT\", \n",
    "            \"key_treatment\": \"KD\", \"remove_multi_transfected\": True}\n",
    "kws_pp = {\"kws_hvg\": {\"min_mean\": 0.0125, \"max_mean\": 10, \n",
    "                      \"min_disp\": 0.5, \"flavor\": \"cell_ranger\"}, \n",
    "          \"target_sum\": 10000.0, \"cell_filter_pmt\": [0, 15], \n",
    "          \"cell_filter_ngene\": [200, None], \"cell_filter_ncounts\": [3, 40000], \n",
    "          \"gene_filter_ncell\": [3, None], \"regress_out\": None, \n",
    "          \"kws_scale\": \"z\", \"kws_umap\": kws_umap}\n",
    "\n",
    "file_path = {'HH03': {'directory': 'data/crispr-screening/HH03'}, \n",
    "             'HH06': {'directory': 'data/crispr-screening/HH06'}}, "
   ]
  },
  {
   "cell_type": "code",
   "execution_count": null,
   "metadata": {},
   "outputs": [],
   "source": [
    "selves = [Crispr(file_path[f], **kws_init)for f in file_path]"
   ]
  }
 ],
 "metadata": {
  "language_info": {
   "name": "python"
  },
  "orig_nbformat": 4
 },
 "nbformat": 4,
 "nbformat_minor": 2
}
