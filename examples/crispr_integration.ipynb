{
 "cells": [
  {
   "cell_type": "markdown",
   "metadata": {},
   "source": [
    "# Setup"
   ]
  },
  {
   "cell_type": "code",
   "execution_count": 10,
   "metadata": {},
   "outputs": [
    {
     "name": "stdout",
     "output_type": "stream",
     "text": [
      "The autoreload extension is already loaded. To reload it, use:\n",
      "  %reload_ext autoreload\n"
     ]
    }
   ],
   "source": [
    "%load_ext autoreload\n",
    "%autoreload 2\n",
    "\n",
    "import crispr as cr\n",
    "from crispr.class_sc import Omics\n",
    "from anndata import AnnData\n",
    "import scanpy as sc\n",
    "import copy\n",
    "\n",
    "col_sample_id = \"orig.ident\"\n",
    "kws_harmony = {\"plot_convergence\": True, \"random_state\": 1618}\n",
    "col_guide_rna = \"feature_call\"\n",
    "col_num_umis = \"num_umis\"\n",
    "guide_split = \"-\"\n",
    "key_control_patterns = [\"CTRL\"]\n",
    "key_control = \"NT\"\n",
    "feature_split = \"|\"\n",
    "min_n_target_control_drop = None\n",
    "max_pct_control_drop = 75\n",
    "min_pct_dominant = 80\n",
    "min_pct_avg_n = 40\n",
    "remove_multi_transfected = True\n",
    "col_guide_rna_new = \"target_gene_name\"\n",
    "conserve_memory = False\n",
    "\n",
    "kws_process_guide_rna = {\"feature_split\": \"|\", \"guide_split\": \"-\", \n",
    "                         \"key_control_patterns\": [\"CTRL\"],\n",
    "                         \"remove_multi_transfected\": True}\n",
    "kws_process_guide_rna.update(dict(\n",
    "    min_n_target_control_drop=min_n_target_control_drop,\n",
    "    max_pct_control_drop=max_pct_control_drop, \n",
    "    min_pct_dominant=min_pct_dominant, min_pct_avg_n=min_pct_avg_n,\n",
    "    remove_multi_transfected=remove_multi_transfected,))\n",
    "kws_init = {\"assay\": None, \"assay_protein\": None, \n",
    "            \"col_gene_symbols\": \"gene_symbols\", \n",
    "            \"col_cell_type\": \"majority_voting\", \n",
    "            \"col_sample_id\": col_sample_id, \n",
    "            \"key_control\": \"NT\", \"key_treatment\": \"KD\",\n",
    "            \"col_condition\": col_guide_rna_new}  # initialization arguments\n",
    "kws_crispr = {\n",
    "    \"kws_process_guide_rna\": kws_process_guide_rna,\n",
    "    \"col_guide_rna\": \"feature_call\", \"col_num_umis\": \"num_umis\", \n",
    "    \"col_perturbed\": \"perturbation\"}  # CRISPR initialization arguments\n",
    "kws_umap = {\"min_dist\": 0.3}\n",
    "kws_pp = {\"kws_hvg\": {\"min_mean\": 0.0125, \"max_mean\": 10, \n",
    "                      \"min_disp\": 0.5, \"flavor\": \"cell_ranger\"}, \n",
    "          \"target_sum\": 10000.0, \n",
    "          \"cell_filter_pmt\": [0, 15], \n",
    "          \"cell_filter_ngene\": [200, 7000], \n",
    "          \"cell_filter_ncounts\": [500, 60000], \n",
    "          \"gene_filter_ncell\": [3, None], \n",
    "          \"kws_scale\": \"z\",\n",
    "          \"regress_out\": None, \"kws_umap\": kws_umap}\n",
    "kws_cluster = {\"method_cluster\": \"leiden\", \"kws_umap\": kws_umap, \n",
    "               \"kws_neighbors\": None, \n",
    "               \"kws_pca\": {\"n_comps\": 20, \"use_highly_variable\": True}, \n",
    "               \"resolution\": 1.2, \"kws_cluster\": {}}\n",
    "file_path = {\"HH03\": {\"directory\": \"data/crispr-screening/HH03\"}, \n",
    "             \"HH04\": {\"directory\": \"data/crispr-screening/HH04\"},\n",
    "             \"HH05\": {\"directory\": \"data/crispr-screening/HH05\"},\n",
    "             \"HH06\": {\"directory\": \"data/crispr-screening/HH06\"},\n",
    "             \"CR4\": {\"directory\": \"data/crispr-screening/HH-Hu-CR4\"},\n",
    "             \"CR5\": {\"directory\": \"data/crispr-screening/HH-Hu-CR5\"}}\n"
   ]
  },
  {
   "cell_type": "markdown",
   "metadata": {},
   "source": [
    "# Create Integrated Object\n",
    "\n",
    "We first have to create preprocessed and clustered individual objects, then integrate them with Harmony."
   ]
  },
  {
   "cell_type": "markdown",
   "metadata": {},
   "source": [
    "## Integrate Data\n",
    "\n",
    "If `kws_pp` and/or `kws_cluster` = None, then preprocessing and/or clustering, respectively, will not be performed on individual objects."
   ]
  },
  {
   "cell_type": "markdown",
   "metadata": {},
   "source": [
    "## Create Overall Object"
   ]
  },
  {
   "cell_type": "code",
   "execution_count": 11,
   "metadata": {},
   "outputs": [
    {
     "name": "stdout",
     "output_type": "stream",
     "text": [
      "\n",
      "\n",
      "<<< INITIALIZING OMICS CLASS OBJECT >>>\n",
      "\n",
      "Unused keyword arguments: {'kws_process_guide_rna': {'col_guide_rna': 'feature_call', 'col_num_umis': 'num_umis', 'key_control': 'NT', 'col_guide_rna_new': 'target_gene_name', 'feature_split': '|', 'guide_split': '-', 'key_control_patterns': ['CTRL'], 'remove_multi_transfected': True, 'min_n_target_control_drop': None, 'max_pct_control_drop': 75, 'min_pct_dominant': 80, 'min_pct_avg_n': 40}}.\n",
      "\n",
      "col_gene_symbols=\"gene_symbols\"\n",
      "col_cell_type=\"leiden\"\n",
      "col_sample_id=\"orig.ident\"\n",
      "col_batch=\"orig.ident\"\n",
      "col_subject=None\n",
      "col_condition=\"target_gene_name\"\n",
      "col_num_umis=\"num_umis\"\n",
      "key_control=\"NT\"\n",
      "key_treatment=\"KD\"\n",
      "\n",
      "\n",
      "<<< INITIALIZING OMICS CLASS OBJECT >>>\n",
      "\n",
      "Unused keyword arguments: {'kws_process_guide_rna': {'col_guide_rna': 'feature_call', 'col_num_umis': 'num_umis', 'key_control': 'NT', 'col_guide_rna_new': 'target_gene_name', 'feature_split': '|', 'guide_split': '-', 'key_control_patterns': ['CTRL'], 'remove_multi_transfected': True, 'min_n_target_control_drop': None, 'max_pct_control_drop': 75, 'min_pct_dominant': 80, 'min_pct_avg_n': 40}}.\n",
      "\n",
      "col_gene_symbols=\"gene_symbols\"\n",
      "col_cell_type=\"leiden\"\n",
      "col_sample_id=\"orig.ident\"\n",
      "col_batch=\"orig.ident\"\n",
      "col_subject=None\n",
      "col_condition=\"target_gene_name\"\n",
      "col_num_umis=\"num_umis\"\n",
      "key_control=\"NT\"\n",
      "key_treatment=\"KD\"\n",
      "\n",
      "\n",
      "<<< LOADING PROTOSPACER METADATA >>>\n",
      "\n",
      "\n",
      "================================================================================\n",
      "Cell Counts: Initial\n",
      "================================================================================\n",
      "\n",
      "15078\n",
      "\n",
      "\n",
      "================================================================================\n",
      "Gene Counts: Initial\n",
      "================================================================================\n",
      "\n",
      "\n",
      "\n",
      "<<< PERFORMING gRNA PROCESSING & FILTERING >>>\n",
      "\n",
      "{'feature_split': '|', 'guide_split': '-', 'key_control_patterns': ['CTRL'], 'min_n_target_control_drop': None, 'max_pct_control_drop': 75, 'min_pct_dominant': 80, 'min_pct_avg_n': 40}\n"
     ]
    },
    {
     "name": "stdout",
     "output_type": "stream",
     "text": [
      "                    num_features  \\\n",
      "AAACCCAAGAATTTGG-1           6.0   \n",
      "AAACCCAAGATTTGCC-1           2.0   \n",
      "AAACCCAAGCGATTCT-1           3.0   \n",
      "AAACCCAAGTCGGGAT-1           NaN   \n",
      "AAACCCAAGTCTGCAT-1           6.0   \n",
      "...                          ...   \n",
      "TTTGTTGGTTGCCGAC-1           4.0   \n",
      "TTTGTTGTCACTGTTT-1           2.0   \n",
      "TTTGTTGTCAGACCCG-1           NaN   \n",
      "TTTGTTGTCAGTGTGT-1           5.0   \n",
      "TTTGTTGTCCACGTCT-1           NaN   \n",
      "\n",
      "                                                feature_call_original  \\\n",
      "AAACCCAAGAATTTGG-1  RASGRP1-1|PAF1-1|NEG_CTRL-2-1|NRBP1-2|RASGRP1-...   \n",
      "AAACCCAAGATTTGCC-1                                    SNX17-1|SNX17-2   \n",
      "AAACCCAAGCGATTCT-1                           SP110-1|HLA-B-1|SP140L-2   \n",
      "AAACCCAAGTCGGGAT-1                                                NaN   \n",
      "AAACCCAAGTCTGCAT-1    RSBN1-1|PRDX6-1|STK11-1|RSBN1-2|PRDX6-2|NR4A1-2   \n",
      "...                                                               ...   \n",
      "TTTGTTGGTTGCCGAC-1                    DUSP1-1|PPARA-1|TAGAP-2|DUSP1-2   \n",
      "TTTGTTGTCACTGTTT-1                                   ATG16L1-1|GPX4-1   \n",
      "TTTGTTGTCAGACCCG-1                                                NaN   \n",
      "TTTGTTGTCAGTGTGT-1       HLA-B-1|TMEM50B-1|DUSP1-1|DUSP1-2|RUNX3-P2-2   \n",
      "TTTGTTGTCCACGTCT-1                                                NaN   \n",
      "\n",
      "                        num_umis_original  \\\n",
      "AAACCCAAGAATTTGG-1        10|19|55|4|9|18   \n",
      "AAACCCAAGATTTGCC-1                 200|33   \n",
      "AAACCCAAGCGATTCT-1                12|22|7   \n",
      "AAACCCAAGTCGGGAT-1                    NaN   \n",
      "AAACCCAAGTCTGCAT-1  194|381|51|513|119|47   \n",
      "...                                   ...   \n",
      "TTTGTTGGTTGCCGAC-1             48|19|4|46   \n",
      "TTTGTTGTCACTGTTT-1                 73|125   \n",
      "TTTGTTGTCAGACCCG-1                    NaN   \n",
      "TTTGTTGTCAGTGTGT-1        188|168|35|9|47   \n",
      "TTTGTTGTCCACGTCT-1                    NaN   \n",
      "\n",
      "                                           feature_call          num_umis  \\\n",
      "AAACCCAAGAATTTGG-1   RASGRP1|PAF1|NT|NRBP1|RASGRP1|PAF1         37.0|19.0   \n",
      "AAACCCAAGATTTGCC-1                          SNX17|SNX17             233.0   \n",
      "AAACCCAAGCGATTCT-1                     SP110|HLA|SP140L     22.0|12.0|7.0   \n",
      "AAACCCAAGTCGGGAT-1                                  NaN               NaN   \n",
      "AAACCCAAGTCTGCAT-1  RSBN1|PRDX6|STK11|RSBN1|PRDX6|NR4A1       500.0|707.0   \n",
      "...                                                 ...               ...   \n",
      "TTTGTTGGTTGCCGAC-1              DUSP1|PPARA|TAGAP|DUSP1              94.0   \n",
      "TTTGTTGTCACTGTTT-1                         ATG16L1|GPX4        73.0|125.0   \n",
      "TTTGTTGTCAGACCCG-1                                  NaN               NaN   \n",
      "TTTGTTGTCAGTGTGT-1        HLA|TMEM50B|DUSP1|DUSP1|RUNX3  188.0|47.0|168.0   \n",
      "TTTGTTGTCCACGTCT-1                                  NaN               NaN   \n",
      "\n",
      "                     target_gene_name  \n",
      "AAACCCAAGAATTTGG-1       PAF1|RASGRP1  \n",
      "AAACCCAAGATTTGCC-1              SNX17  \n",
      "AAACCCAAGCGATTCT-1   HLA|SP110|SP140L  \n",
      "AAACCCAAGTCGGGAT-1                NaN  \n",
      "AAACCCAAGTCTGCAT-1        PRDX6|RSBN1  \n",
      "...                               ...  \n",
      "TTTGTTGGTTGCCGAC-1              DUSP1  \n",
      "TTTGTTGTCACTGTTT-1       ATG16L1|GPX4  \n",
      "TTTGTTGTCAGACCCG-1                NaN  \n",
      "TTTGTTGTCAGTGTGT-1  HLA|RUNX3|TMEM50B  \n",
      "TTTGTTGTCCACGTCT-1                NaN  \n",
      "\n",
      "[15078 rows x 6 columns]\n",
      "\n",
      "\n",
      "\t*** Removing multiply-transfected cells...\n",
      "Dropped 6304 out of 15078 observations (41.81%).\n",
      "\n",
      "\n",
      "\t*** Removing filtered-out cells...\n",
      "Dropped 5142 out of 8774 observations (58.6%).\n",
      "\n",
      "\n",
      "================================================================================\n",
      "Cell Counts: Post-gRNA Processing\n",
      "================================================================================\n",
      "\n",
      "3632\n",
      "\n",
      "\n",
      "================================================================================\n",
      "Gene Counts: Post-gRNA Processing\n",
      "================================================================================\n",
      "\n",
      "\n",
      "\n",
      " AnnData object with n_obs × n_vars = 3632 × 36717\n",
      "    obs: 'num_features', 'feature_call_original', 'num_umis_original', 'feature_call', 'num_umis', 'target_gene_name', 'guide_split'\n",
      "    var: 'gene_ids', 'feature_types'\n",
      "    uns: 'grna_keywords', 'grna_feats_n', 'grna_info', 'grna_info_all'\n",
      "    layers: 'counts'\n",
      "\n",
      "\n",
      " AnnData object with n_obs × n_vars = 3632 × 36717\n",
      "    obs: 'num_features', 'feature_call_original', 'num_umis_original', 'feature_call', 'num_umis', 'target_gene_name', 'guide_split'\n",
      "    var: 'gene_ids', 'feature_types'\n",
      "    uns: 'grna_keywords', 'grna_feats_n', 'grna_info', 'grna_info_all'\n",
      "    layers: 'counts'\n",
      "                     gene_ids    feature_types\n",
      "gene_symbols                                  \n",
      "FAM138A       ENSG00000237613  Gene Expression\n",
      "FAM138A-1     ENSG00000237613  Gene Expression\n",
      "FAM138A-2     ENSG00000237613  Gene Expression\n",
      "FAM138A-3     ENSG00000237613  Gene Expression\n",
      "FAM138A-4     ENSG00000237613  Gene Expression\n",
      "                    num_features                       feature_call_original  \\\n",
      "AAACCCAAGATTTGCC-1           2.0                             SNX17-1|SNX17-2   \n",
      "AAACCCAGTCTCAAGT-1           1.0                                      SPI1-2   \n",
      "AAACCCAGTGTTAGCT-1           4.0  SNX17-1|IL10RB-1|NEG_CTRL-3-1|NEG_CTRL-3-2   \n",
      "AAACCCATCTCTCTTC-1           2.0                           POLR2E-1|POLR2E-2   \n",
      "AAACGAAAGCCTTCTC-1           3.0                      LACC1-1|STK11-2|MAFB-2   \n",
      "\n",
      "                   num_umis_original        feature_call num_umis  \\\n",
      "AAACCCAAGATTTGCC-1            200|33         SNX17|SNX17    233.0   \n",
      "AAACCCAGTCTCAAGT-1                11                SPI1     11.0   \n",
      "AAACCCAGTGTTAGCT-1       21|64|74|35  SNX17|IL10RB|NT|NT     64.0   \n",
      "AAACCCATCTCTCTTC-1           549|128       POLR2E|POLR2E    677.0   \n",
      "AAACGAAAGCCTTCTC-1      118|134|1531    LACC1|STK11|MAFB   1531.0   \n",
      "\n",
      "                   target_gene_name guide_split  \n",
      "AAACCCAAGATTTGCC-1            SNX17           -  \n",
      "AAACCCAGTCTCAAGT-1             SPI1           -  \n",
      "AAACCCAGTGTTAGCT-1           IL10RB           -  \n",
      "AAACCCATCTCTCTTC-1           POLR2E           -  \n",
      "AAACGAAAGCCTTCTC-1             MAFB           -  \n",
      "\n",
      "\n",
      "<<< INITIALIZING OMICS CLASS OBJECT >>>\n",
      "\n",
      "Unused keyword arguments: {'kws_process_guide_rna': {'col_guide_rna': 'feature_call', 'col_num_umis': 'num_umis', 'key_control': 'NT', 'col_guide_rna_new': 'target_gene_name', 'feature_split': '|', 'guide_split': '-', 'key_control_patterns': ['CTRL'], 'remove_multi_transfected': True, 'min_n_target_control_drop': None, 'max_pct_control_drop': 75, 'min_pct_dominant': 80, 'min_pct_avg_n': 40}}.\n",
      "\n",
      "col_gene_symbols=\"gene_symbols\"\n",
      "col_cell_type=\"leiden\"\n",
      "col_sample_id=\"orig.ident\"\n",
      "col_batch=\"orig.ident\"\n",
      "col_subject=None\n",
      "col_condition=\"target_gene_name\"\n",
      "col_num_umis=\"num_umis\"\n",
      "key_control=\"NT\"\n",
      "key_treatment=\"KD\"\n",
      "\n",
      "\n",
      "<<< LOADING PROTOSPACER METADATA >>>\n",
      "\n",
      "\n",
      "================================================================================\n",
      "Cell Counts: Initial\n",
      "================================================================================\n",
      "\n",
      "22087\n",
      "\n",
      "\n",
      "================================================================================\n",
      "Gene Counts: Initial\n",
      "================================================================================\n",
      "\n",
      "\n",
      "\n",
      "<<< PERFORMING gRNA PROCESSING & FILTERING >>>\n",
      "\n",
      "{'feature_split': '|', 'guide_split': '-', 'key_control_patterns': ['CTRL'], 'min_n_target_control_drop': None, 'max_pct_control_drop': 75, 'min_pct_dominant': 80, 'min_pct_avg_n': 40}\n"
     ]
    }
   ],
   "source": [
    "kws_multi = dict(kws_pp=kws_pp, kws_harmony=kws_harmony,\n",
    "                 kws_cluster=kws_cluster)  # pre-integration processing\n",
    "self = cr.Crispr(file_path, **kws_init, **kws_crispr, \n",
    "                 kws_multi=kws_multi)  # create object"
   ]
  },
  {
   "cell_type": "markdown",
   "metadata": {},
   "source": [
    "# Clustering & Annotations\n",
    "\n",
    "Clustering was conducted in the individual objects in `cr.pp.create_object_multi()`, but we want to re-do QC and clustering in the overall sample.\n",
    "\n",
    "## Clustering\n",
    "\n",
    "We need to have `kws_pca=False` so that the Harmony-adjusted PCA created during integration (rather than a newly-calculated one) will be used."
   ]
  },
  {
   "cell_type": "code",
   "execution_count": null,
   "metadata": {},
   "outputs": [],
   "source": [
    "self.cluster(**{**kws_cluster, \"kws_pca\": False}, layer=\"log1p\")"
   ]
  },
  {
   "cell_type": "markdown",
   "metadata": {},
   "source": [
    "## CellTypist\n",
    "\n",
    "Annotate cell types."
   ]
  },
  {
   "cell_type": "code",
   "execution_count": null,
   "metadata": {},
   "outputs": [],
   "source": [
    "_ = self.annotate_clusters(model=\"COVID19_HumanChallenge_Blood.pkl\")\n",
    "self.rna.obs"
   ]
  },
  {
   "cell_type": "markdown",
   "metadata": {},
   "source": [
    "# Plots"
   ]
  },
  {
   "cell_type": "code",
   "execution_count": null,
   "metadata": {},
   "outputs": [],
   "source": [
    "cct = \"predicted_labels\" if \"predicted_labels\" in self.rna.obs else None\n",
    "clus = list(self.rna.obs[cct].sample(2))  # clusters to circle\n",
    "figs = self.plot(genes=36, \n",
    "                 kws_qc=True,\n",
    "                 col_cell_type=cct,\n",
    "                 layers=\"all\",  # also plot \"scaled\" layer, for instance\n",
    "                 kws_gex_violin=dict(scale=\"area\", height=10),\n",
    "                 kws_clustering=dict(col_cell_type=cct))"
   ]
  },
  {
   "cell_type": "markdown",
   "metadata": {},
   "source": [
    "# Analyses\n",
    "\n",
    "Perform perturbation-specific analyses."
   ]
  },
  {
   "cell_type": "markdown",
   "metadata": {},
   "source": [
    "## Augur"
   ]
  },
  {
   "cell_type": "code",
   "execution_count": null,
   "metadata": {},
   "outputs": [],
   "source": [
    "cct = \"majority_voting\" if \"majority_voting\" in self.rna.obs else \\\n",
    "    self._columns[\"col_cell_type\"]\n",
    "_ = self.run_augur(\n",
    "    col_cell_type=cct, \n",
    "    # ^ will be label in self._columns by default, but can override here\n",
    "    col_perturbed=self._columns[\"col_perturbed\"], \n",
    "    # ^ will be this by default if unspecified, but can override here\n",
    "    key_treatment=self._keys[\"key_treatment\"],  \n",
    "    # ^ will be this by default if unspecified, but can override here\n",
    "    select_variance_features=True,  # filter by highly variable genes\n",
    "    classifier=\"random_forest_classifier\", n_folds=3, augur_mode=\"default\", \n",
    "    kws_umap=kws_umap, subsample_size=5, kws_augur_predict=dict(span=0.7))"
   ]
  },
  {
   "cell_type": "markdown",
   "metadata": {},
   "source": [
    "## Mixscape\n",
    "\n",
    "Classify perturbation \"escapees,\" score perturbation responses, and find perturbation-based clusters."
   ]
  },
  {
   "cell_type": "code",
   "execution_count": null,
   "metadata": {},
   "outputs": [],
   "source": [
    "# col_split_by = self._columns[\"col_sample_id\"]  # separate by sample\n",
    "col_split_by = None  # calculate together\n",
    "target_gene_idents = [\"NOD2\", \"LACC1\", \"ATG16L1\", \"IL6ST\"]  # plot these\n",
    "_ = self.run_mixscape(col_split_by=col_split_by,\n",
    "                      target_gene_idents=target_gene_idents)  # Mixscape"
   ]
  },
  {
   "cell_type": "markdown",
   "metadata": {},
   "source": [
    "## Distance\n",
    "\n",
    "Investigate distance metrics."
   ]
  },
  {
   "cell_type": "code",
   "execution_count": null,
   "metadata": {},
   "outputs": [],
   "source": [
    "_ = self.compute_distance(\n",
    "    distance_type=\"edistance\", method=\"X_pca\", kws_plot=dict(\n",
    "        figsize=(15, 15), robust=True), col_target_genes=self._columns[\n",
    "            \"col_guide_rna\"] + \"_original\", layer=\"log1p\")"
   ]
  }
 ],
 "metadata": {
  "kernelspec": {
   "display_name": "py-bio",
   "language": "python",
   "name": "python3"
  },
  "language_info": {
   "codemirror_mode": {
    "name": "ipython",
    "version": 3
   },
   "file_extension": ".py",
   "mimetype": "text/x-python",
   "name": "python",
   "nbconvert_exporter": "python",
   "pygments_lexer": "ipython3",
   "version": "3.10.4"
  },
  "orig_nbformat": 4
 },
 "nbformat": 4,
 "nbformat_minor": 2
}
