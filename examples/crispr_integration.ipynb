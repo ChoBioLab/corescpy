{
 "cells": [
  {
   "cell_type": "markdown",
   "metadata": {},
   "source": [
    "# Setup"
   ]
  },
  {
   "cell_type": "code",
   "execution_count": 34,
   "metadata": {},
   "outputs": [
    {
     "name": "stdout",
     "output_type": "stream",
     "text": [
      "The autoreload extension is already loaded. To reload it, use:\n",
      "  %reload_ext autoreload\n"
     ]
    }
   ],
   "source": [
    "%load_ext autoreload\n",
    "%autoreload 2\n",
    "\n",
    "import crispr as cr\n",
    "from anndata import AnnData\n",
    "import scanpy as sc\n",
    "import copy\n",
    "\n",
    "col_sample_id = \"orig.ident\"\n",
    "kws_harmony = {\"plot_convergence\": True,\n",
    "               \"random_state\": 1618}\n",
    "kws_process_guide_rna = {\"feature_split\": \"|\", \"guide_split\": \"-\", \n",
    "                         \"key_control_patterns\": [\"CTRL\"],\n",
    "                         \"remove_multi_transfected\": True}\n",
    "kws_umap = {\"min_dist\": 0.3}\n",
    "kws_umap=kws_umap\n",
    "kws_init = {\"assay\": None, \"assay_protein\": None, \n",
    "            \"col_gene_symbols\": \"gene_symbols\", \n",
    "            \"col_cell_type\": \"majority_voting\", \n",
    "            \"col_sample_id\": col_sample_id, \"col_batch\": col_sample_id, \n",
    "            \"col_perturbed\": \"perturbation\", \n",
    "            \"col_guide_rna\": \"feature_call\", \n",
    "            \"col_num_umis\": \"num_umis\", \n",
    "            \"kws_process_guide_rna\": kws_process_guide_rna,\n",
    "            \"col_condition\": \"target_gene_name\", \"key_control\": \"NT\", \n",
    "            \"key_treatment\": \"KD\"}\n",
    "kws_pp = {\"kws_hvg\": {\"min_mean\": 0.0125, \"max_mean\": 10, \n",
    "                      \"min_disp\": 0.5, \"flavor\": \"cell_ranger\"}, \n",
    "          \"target_sum\": 10000.0, \"cell_filter_pmt\": [0, 15], \n",
    "          \"cell_filter_ngene\": [200, None], \"cell_filter_ncounts\": [3, 40000], \n",
    "          \"gene_filter_ncell\": [3, None], \"regress_out\": None, \n",
    "          \"kws_scale\": \"z\", \"kws_umap\": kws_umap}\n",
    "kws_cluster = {\"method_cluster\": \"leiden\", \"kws_umap\": kws_umap, \n",
    "               \"kws_neighbors\": None, \n",
    "               \"kws_pca\": {\"n_comps\": None, \"use_highly_variable\": True}, \n",
    "               \"kws_cluster\": {\"resolution\": 0.5}}\n",
    "\n",
    "file_path = {'HH03': {'directory': 'data/crispr-screening/HH06'}, \n",
    "             'CR4': {'directory': 'data/crispr-screening/HH-Hu-CR4'},\n",
    "             'CR5': {'directory': 'data/crispr-screening/HH-Hu-CR5'}}\n",
    "\n"
   ]
  },
  {
   "cell_type": "markdown",
   "metadata": {},
   "source": [
    "# Create Integrated Object\n",
    "\n",
    "We first have to create preprocessed and clustered individual objects, then integrate them with Harmony."
   ]
  },
  {
   "cell_type": "markdown",
   "metadata": {},
   "source": [
    "## Integrate Data\n",
    "\n",
    "If `kws_pp` and/or `kws_cluster` = None, then preprocessing and/or clustering, respectively, will not be performed on individual objects."
   ]
  },
  {
   "cell_type": "code",
   "execution_count": 33,
   "metadata": {},
   "outputs": [
    {
     "data": {
      "text/plain": [
       "dict_keys(['assay', 'col_gene_symbols', 'col_cell_type', 'col_sample_id', 'col_batch', 'col_perturbed', 'col_guide_rna', 'col_num_umis', 'kws_process_guide_rna', 'col_condition', 'key_control', 'key_treatment', 'remove_multi_transfected', 'key_nonperturbed'])"
      ]
     },
     "execution_count": 33,
     "metadata": {},
     "output_type": "execute_result"
    }
   ],
   "source": [
    "{\"assay\": None, \"col_gene_symbols\": \"gene_symbols\", \"col_cell_type\": \"majority_voting\", \"col_sample_id\": \"orig.ident\", \"col_batch\": \"orig.ident\", \"col_perturbed\": \"perturbation\", \"col_guide_rna\": \"feature_call\", \"col_num_umis\": \"num_umis\", \"kws_process_guide_rna\": {\"feature_split\": \"|\", \"guide_split\": \"-\", \"key_control_patterns\": [\"CTRL\"], \"col_guide_rna\": \"feature_call\", \"col_num_umis\": \"num_umis\", \"key_control\": \"NT\", \"remove_multi_transfected\": True}, \"col_condition\": \"target_gene_name\", \"key_control\": \"NT\", \"key_treatment\": \"KD\", \"remove_multi_transfected\": True, \"key_nonperturbed\": \"NP\"}.keys()\n"
   ]
  },
  {
   "cell_type": "code",
   "execution_count": 35,
   "metadata": {},
   "outputs": [
    {
     "name": "stdout",
     "output_type": "stream",
     "text": [
      "\n",
      "\n",
      "<<< INTEGRATING DATASETS >>>\n",
      "\n",
      "\n",
      "\n",
      "<<< INITIALIZING CRISPR CLASS OBJECT >>>\n",
      "\n",
      "{'assay': None, 'col_gene_symbols': 'gene_symbols', 'col_sample_id': 'orig.ident', 'kws_process_guide_rna': {'feature_split': '|', 'guide_split': '-', 'key_control_patterns': ['CTRL'], 'remove_multi_transfected': True, 'col_guide_rna': 'feature_call', 'col_num_umis': 'num_umis', 'key_control': 'NT'}, 'remove_multi_transfected': True}\n",
      "\n",
      "<<< LOADING PROTOSPACER METADATA >>>\n"
     ]
    },
    {
     "ename": "TypeError",
     "evalue": "read_10x_mtx() got an unexpected keyword argument 'remove_multi_transfected'",
     "output_type": "error",
     "traceback": [
      "\u001b[0;31m---------------------------------------------------------------------------\u001b[0m",
      "\u001b[0;31mTypeError\u001b[0m                                 Traceback (most recent call last)",
      "Cell \u001b[0;32mIn[35], line 1\u001b[0m\n\u001b[0;32m----> 1\u001b[0m adata \u001b[39m=\u001b[39m cr\u001b[39m.\u001b[39;49mCrispr(file_path, kws_init\u001b[39m=\u001b[39;49mkws_init, kws_pp\u001b[39m=\u001b[39;49mkws_pp, \n\u001b[1;32m      2\u001b[0m                   kws_cluster\u001b[39m=\u001b[39;49mkws_cluster, kws_harmony\u001b[39m=\u001b[39;49mkws_harmony)\n",
      "File \u001b[0;32m~/projects/crispr/crispr/crispr_class.py:373\u001b[0m, in \u001b[0;36mCrispr.__init__\u001b[0;34m(self, file_path, **kwargs)\u001b[0m\n\u001b[1;32m    371\u001b[0m \u001b[39m# Integrate Datasets if Needed or Create Single One\u001b[39;00m\n\u001b[1;32m    372\u001b[0m \u001b[39mif\u001b[39;00m \u001b[39mself\u001b[39m\u001b[39m.\u001b[39m_integrated \u001b[39mis\u001b[39;00m \u001b[39mTrue\u001b[39;00m:\n\u001b[0;32m--> 373\u001b[0m     \u001b[39mself\u001b[39m\u001b[39m.\u001b[39madata \u001b[39m=\u001b[39m cr\u001b[39m.\u001b[39;49mpp\u001b[39m.\u001b[39;49mcreate_object_multi(\n\u001b[1;32m    374\u001b[0m         file_path, kws_init\u001b[39m=\u001b[39;49mkws_init, kws_pp\u001b[39m=\u001b[39;49mkws_pp, \n\u001b[1;32m    375\u001b[0m         kws_cluster\u001b[39m=\u001b[39;49mkws_cluster, kws_harmony\u001b[39m=\u001b[39;49mkws_harmony\n\u001b[1;32m    376\u001b[0m         )  \u001b[39m# create integrated AnnData object to pass to create_object\u001b[39;00m\n\u001b[1;32m    377\u001b[0m     cr\u001b[39m.\u001b[39mpp\u001b[39m.\u001b[39mperform_qc(\u001b[39mself\u001b[39m\u001b[39m.\u001b[39madata\u001b[39m.\u001b[39mcopy(), hue\u001b[39m=\u001b[39mkws_init[\u001b[39m\"\u001b[39m\u001b[39mcol_sample_id\u001b[39m\u001b[39m\"\u001b[39m])\n\u001b[1;32m    378\u001b[0m     \u001b[39mprint\u001b[39m(\u001b[39m\"\u001b[39m\u001b[39m\\n\u001b[39;00m\u001b[39m\\n\u001b[39;00m\u001b[39m<<< INITIALIZING INTEGRATED CRISPR CLASS OBJECT >>>\u001b[39m\u001b[39m\\n\u001b[39;00m\u001b[39m\"\u001b[39m)\n",
      "File \u001b[0;32m~/projects/crispr/crispr/processing/preprocessing.py:51\u001b[0m, in \u001b[0;36mcreate_object_multi\u001b[0;34m(file_path, kws_init, kws_pp, kws_cluster, kws_harmony)\u001b[0m\n\u001b[1;32m     46\u001b[0m [kws_init, kws_pp, kws_cluster] \u001b[39m=\u001b[39m [\u001b[39mdict\u001b[39m(\u001b[39mzip\u001b[39m(ids, x)) \u001b[39mif\u001b[39;00m \u001b[39misinstance\u001b[39m(\n\u001b[1;32m     47\u001b[0m     x, \u001b[39mlist\u001b[39m) \u001b[39melse\u001b[39;00m \u001b[39mdict\u001b[39m(\u001b[39mzip\u001b[39m(ids, [x] \u001b[39m*\u001b[39m \u001b[39mlen\u001b[39m(ids))) \u001b[39mfor\u001b[39;00m x \u001b[39min\u001b[39;00m [\n\u001b[1;32m     48\u001b[0m         kws_init, kws_pp, kws_cluster]]  \u001b[39m# dictionaries for each\u001b[39;00m\n\u001b[1;32m     50\u001b[0m \u001b[39m# Create AnnData Objects\u001b[39;00m\n\u001b[0;32m---> 51\u001b[0m selves \u001b[39m=\u001b[39m \u001b[39mdict\u001b[39m(\u001b[39mzip\u001b[39m(file_path, [\n\u001b[1;32m     52\u001b[0m     cr\u001b[39m.\u001b[39mCrispr(file_path[f], \u001b[39m*\u001b[39m\u001b[39m*\u001b[39mkws_init[f]) \u001b[39mfor\u001b[39;00m f \u001b[39min\u001b[39;00m file_path])\n\u001b[1;32m     53\u001b[0m               )  \u001b[39m# create individual Crispr objects\u001b[39;00m\n\u001b[1;32m     55\u001b[0m \u001b[39m# Preprocessing & Clustering\u001b[39;00m\n\u001b[1;32m     56\u001b[0m \u001b[39mfor\u001b[39;00m x \u001b[39min\u001b[39;00m selves:  \u001b[39m# preprocess & cluster each object\u001b[39;00m\n",
      "File \u001b[0;32m~/projects/crispr/crispr/processing/preprocessing.py:52\u001b[0m, in \u001b[0;36m<listcomp>\u001b[0;34m(.0)\u001b[0m\n\u001b[1;32m     46\u001b[0m [kws_init, kws_pp, kws_cluster] \u001b[39m=\u001b[39m [\u001b[39mdict\u001b[39m(\u001b[39mzip\u001b[39m(ids, x)) \u001b[39mif\u001b[39;00m \u001b[39misinstance\u001b[39m(\n\u001b[1;32m     47\u001b[0m     x, \u001b[39mlist\u001b[39m) \u001b[39melse\u001b[39;00m \u001b[39mdict\u001b[39m(\u001b[39mzip\u001b[39m(ids, [x] \u001b[39m*\u001b[39m \u001b[39mlen\u001b[39m(ids))) \u001b[39mfor\u001b[39;00m x \u001b[39min\u001b[39;00m [\n\u001b[1;32m     48\u001b[0m         kws_init, kws_pp, kws_cluster]]  \u001b[39m# dictionaries for each\u001b[39;00m\n\u001b[1;32m     50\u001b[0m \u001b[39m# Create AnnData Objects\u001b[39;00m\n\u001b[1;32m     51\u001b[0m selves \u001b[39m=\u001b[39m \u001b[39mdict\u001b[39m(\u001b[39mzip\u001b[39m(file_path, [\n\u001b[0;32m---> 52\u001b[0m     cr\u001b[39m.\u001b[39;49mCrispr(file_path[f], \u001b[39m*\u001b[39;49m\u001b[39m*\u001b[39;49mkws_init[f]) \u001b[39mfor\u001b[39;00m f \u001b[39min\u001b[39;00m file_path])\n\u001b[1;32m     53\u001b[0m               )  \u001b[39m# create individual Crispr objects\u001b[39;00m\n\u001b[1;32m     55\u001b[0m \u001b[39m# Preprocessing & Clustering\u001b[39;00m\n\u001b[1;32m     56\u001b[0m \u001b[39mfor\u001b[39;00m x \u001b[39min\u001b[39;00m selves:  \u001b[39m# preprocess & cluster each object\u001b[39;00m\n",
      "File \u001b[0;32m~/projects/crispr/crispr/crispr_class.py:382\u001b[0m, in \u001b[0;36mCrispr.__init__\u001b[0;34m(self, file_path, **kwargs)\u001b[0m\n\u001b[1;32m    380\u001b[0m     \u001b[39mprint\u001b[39m(\u001b[39m\"\u001b[39m\u001b[39m\\n\u001b[39;00m\u001b[39m\\n\u001b[39;00m\u001b[39m<<< INITIALIZING CRISPR CLASS OBJECT >>>\u001b[39m\u001b[39m\\n\u001b[39;00m\u001b[39m\"\u001b[39m)\n\u001b[1;32m    381\u001b[0m     \u001b[39mprint\u001b[39m(kws_init)\n\u001b[0;32m--> 382\u001b[0m     \u001b[39mself\u001b[39m\u001b[39m.\u001b[39madata \u001b[39m=\u001b[39m cr\u001b[39m.\u001b[39;49mpp\u001b[39m.\u001b[39;49mcreate_object(file_path, \u001b[39m*\u001b[39;49m\u001b[39m*\u001b[39;49mkws_init)  \u001b[39m# adata\u001b[39;00m\n\u001b[1;32m    383\u001b[0m \u001b[39mself\u001b[39m\u001b[39m.\u001b[39m_layers \u001b[39m=\u001b[39m {\u001b[39m*\u001b[39m\u001b[39m*\u001b[39mcr\u001b[39m.\u001b[39mpp\u001b[39m.\u001b[39mget_layer_dict(), \n\u001b[1;32m    384\u001b[0m                 \u001b[39m\"\u001b[39m\u001b[39mlayer_perturbation\u001b[39m\u001b[39m\"\u001b[39m: \u001b[39m\"\u001b[39m\u001b[39mX_pert\u001b[39m\u001b[39m\"\u001b[39m}\n\u001b[1;32m    386\u001b[0m \u001b[39m# Create Attributes to Store Results/Figures\u001b[39;00m\n",
      "File \u001b[0;32m~/projects/crispr/crispr/processing/preprocessing.py:96\u001b[0m, in \u001b[0;36mcreate_object\u001b[0;34m(file, col_gene_symbols, assay, col_barcode, col_sample_id, kws_process_guide_rna, plot, **kwargs)\u001b[0m\n\u001b[1;32m     94\u001b[0m \u001b[39melif\u001b[39;00m \u001b[39misinstance\u001b[39m(file, \u001b[39mdict\u001b[39m):  \u001b[39m# metadata in protospacer files\u001b[39;00m\n\u001b[1;32m     95\u001b[0m     \u001b[39mprint\u001b[39m(\u001b[39mf\u001b[39m\u001b[39m\"\u001b[39m\u001b[39m\\n\u001b[39;00m\u001b[39m<<< LOADING PROTOSPACER METADATA >>>\u001b[39m\u001b[39m\"\u001b[39m)\n\u001b[0;32m---> 96\u001b[0m     adata \u001b[39m=\u001b[39m cr\u001b[39m.\u001b[39;49mpp\u001b[39m.\u001b[39;49mcombine_matrix_protospacer(\n\u001b[1;32m     97\u001b[0m         \u001b[39m*\u001b[39;49m\u001b[39m*\u001b[39;49mfile, col_gene_symbols\u001b[39m=\u001b[39;49mcol_gene_symbols, \n\u001b[1;32m     98\u001b[0m         col_barcode\u001b[39m=\u001b[39;49mcol_barcode, \u001b[39m*\u001b[39;49m\u001b[39m*\u001b[39;49mkwargs)  \u001b[39m# + metadata from protospacer\u001b[39;00m\n\u001b[1;32m     99\u001b[0m \u001b[39melif\u001b[39;00m \u001b[39mnot\u001b[39;00m \u001b[39misinstance\u001b[39m(file, (\u001b[39mstr\u001b[39m, os\u001b[39m.\u001b[39mPathLike)):  \u001b[39m# if already AnnData\u001b[39;00m\n\u001b[1;32m    100\u001b[0m     \u001b[39mprint\u001b[39m(\u001b[39mf\u001b[39m\u001b[39m\"\u001b[39m\u001b[39m\\n\u001b[39;00m\u001b[39m<<< LOADING OBJECT >>>\u001b[39m\u001b[39m\"\u001b[39m)\n",
      "File \u001b[0;32m~/projects/crispr/crispr/processing/importing.py:224\u001b[0m, in \u001b[0;36mcombine_matrix_protospacer\u001b[0;34m(directory, subdirectory_mtx, col_gene_symbols, file_protospacer, col_barcode, **kwargs)\u001b[0m\n\u001b[1;32m    195\u001b[0m \u001b[39mdef\u001b[39;00m \u001b[39mcombine_matrix_protospacer\u001b[39m(\n\u001b[1;32m    196\u001b[0m     directory\u001b[39m=\u001b[39m\u001b[39m\"\u001b[39m\u001b[39m\"\u001b[39m, subdirectory_mtx\u001b[39m=\u001b[39m\u001b[39m\"\u001b[39m\u001b[39mfiltered_feature_bc_matrix\u001b[39m\u001b[39m\"\u001b[39m, \n\u001b[1;32m    197\u001b[0m     col_gene_symbols\u001b[39m=\u001b[39m\u001b[39m\"\u001b[39m\u001b[39mgene_symbols\u001b[39m\u001b[39m\"\u001b[39m, \n\u001b[1;32m    198\u001b[0m     file_protospacer\u001b[39m=\u001b[39m\u001b[39m\"\u001b[39m\u001b[39mcrispr_analysis/protospacer_calls_per_cell.csv\u001b[39m\u001b[39m\"\u001b[39m, \n\u001b[1;32m    199\u001b[0m     col_barcode\u001b[39m=\u001b[39m\u001b[39m\"\u001b[39m\u001b[39mcell_barcode\u001b[39m\u001b[39m\"\u001b[39m, \n\u001b[1;32m    200\u001b[0m     \u001b[39m*\u001b[39m\u001b[39m*\u001b[39mkwargs):\n\u001b[1;32m    201\u001b[0m \u001b[39m    \u001b[39m\u001b[39m\"\"\"\u001b[39;00m\n\u001b[1;32m    202\u001b[0m \u001b[39m    Combine CellRanger directory-derived AnnData `.obs` & perturbation data.\u001b[39;00m\n\u001b[1;32m    203\u001b[0m \u001b[39m    \u001b[39;00m\n\u001b[0;32m   (...)\u001b[0m\n\u001b[1;32m    222\u001b[0m \u001b[39m    \u001b[39;00m\n\u001b[1;32m    223\u001b[0m \u001b[39m    \"\"\"\u001b[39;00m\n\u001b[0;32m--> 224\u001b[0m     adata \u001b[39m=\u001b[39m sc\u001b[39m.\u001b[39;49mread_10x_mtx(\n\u001b[1;32m    225\u001b[0m         os\u001b[39m.\u001b[39;49mpath\u001b[39m.\u001b[39;49mjoin(directory, subdirectory_mtx), \n\u001b[1;32m    226\u001b[0m         var_names\u001b[39m=\u001b[39;49mcol_gene_symbols, \u001b[39m*\u001b[39;49m\u001b[39m*\u001b[39;49mkwargs)  \u001b[39m# 10x matrix, barcodes, features\u001b[39;00m\n\u001b[1;32m    227\u001b[0m     dff \u001b[39m=\u001b[39m pd\u001b[39m.\u001b[39mread_csv(os\u001b[39m.\u001b[39mpath\u001b[39m.\u001b[39mjoin(directory, file_protospacer), \n\u001b[1;32m    228\u001b[0m                       index_col\u001b[39m=\u001b[39mcol_barcode)  \u001b[39m# perturbation information\u001b[39;00m\n\u001b[1;32m    229\u001b[0m     \u001b[39mif\u001b[39;00m col_barcode \u001b[39mis\u001b[39;00m \u001b[39mNone\u001b[39;00m:\n",
      "\u001b[0;31mTypeError\u001b[0m: read_10x_mtx() got an unexpected keyword argument 'remove_multi_transfected'"
     ]
    }
   ],
   "source": [
    "adata = cr.Crispr(file_path, kws_init=kws_init, kws_pp=kws_pp, \n",
    "                  kws_cluster=kws_cluster, kws_harmony=kws_harmony)"
   ]
  },
  {
   "cell_type": "markdown",
   "metadata": {},
   "source": [
    "## Create Overall Object"
   ]
  },
  {
   "cell_type": "code",
   "execution_count": null,
   "metadata": {},
   "outputs": [],
   "source": [
    "self = cr.Crispr(adata, **{**kws_init_new, \n",
    "                           **{\"col_sample_id\": \"unique.idents\", \n",
    "                              \"col_batch\": \"unique.idents\"}}\n",
    "                 )  # pass integrated object to Crispr class\n",
    "del(adata)  # object now in `self`"
   ]
  },
  {
   "cell_type": "markdown",
   "metadata": {},
   "source": [
    "# Clustering & Annotations\n",
    "\n",
    "Clustering was conducted in the individual objects in `cr.pp.create_object_multi()`, but we want to re-do QC and clustering in the overall sample.\n",
    "\n",
    "## Clustering\n",
    "\n",
    "We need to have `kws_pca=False` so that the Harmony-adjusted PCA created during integration (rather than a newly-calculated one) will be used."
   ]
  },
  {
   "cell_type": "code",
   "execution_count": null,
   "metadata": {},
   "outputs": [],
   "source": [
    "self.cluster(**{**kws_cluster, \"kws_pca\": False}, layer=\"log1p\")\n",
    "degs = self.find_markers(n_genes=10, method=\"wilcoxon\", key_reference=\"rest\")\n",
    "degs[0]  # marker data; degs[1] for figures"
   ]
  },
  {
   "cell_type": "markdown",
   "metadata": {},
   "source": [
    "## CellTypist\n",
    "\n",
    "Annotate cell types."
   ]
  },
  {
   "cell_type": "code",
   "execution_count": null,
   "metadata": {},
   "outputs": [],
   "source": [
    "preds, f_ct = self.annotate_clusters(model=\"COVID19_HumanChallenge_Blood.pkl\")\n",
    "self.rna.obs"
   ]
  },
  {
   "cell_type": "markdown",
   "metadata": {},
   "source": [
    "# Plots"
   ]
  },
  {
   "cell_type": "code",
   "execution_count": null,
   "metadata": {},
   "outputs": [],
   "source": [
    "cct = \"predicted_labels\" if \"predicted_labels\" in self.rna.obs else None\n",
    "clus = list(self.rna.obs[cct].sample(2))  # clusters to circle\n",
    "figs = self.plot(genes=36, \n",
    "                 kws_qc=True,\n",
    "                 col_cell_type=cct,\n",
    "                 layers=\"all\",  # also plot \"scaled\" layer, for instance\n",
    "                 kws_gex_violin=dict(scale=\"area\", height=10),\n",
    "                 kws_clustering=dict(col_cell_type=cct))"
   ]
  },
  {
   "cell_type": "markdown",
   "metadata": {},
   "source": [
    "# Analyses\n",
    "\n",
    "Perform perturbation-specific analyses."
   ]
  },
  {
   "cell_type": "markdown",
   "metadata": {},
   "source": [
    "## Augur"
   ]
  },
  {
   "cell_type": "code",
   "execution_count": null,
   "metadata": {},
   "outputs": [],
   "source": [
    "cct = \"majority_voting\" if \"majority_voting\" in self.rna.obs else \\\n",
    "    self._columns[\"col_cell_type\"]\n",
    "_ = self.run_augur(\n",
    "    col_cell_type=cct, \n",
    "    # ^ will be label in self._columns by default, but can override here\n",
    "    col_perturbed=self._columns[\"col_perturbed\"], \n",
    "    # ^ will be this by default if unspecified, but can override here\n",
    "    key_treatment=self._keys[\"key_treatment\"],  \n",
    "    # ^ will be this by default if unspecified, but can override here\n",
    "    select_variance_features=True,  # filter by highly variable genes\n",
    "    classifier=\"random_forest_classifier\", n_folds=3, augur_mode=\"default\", \n",
    "    kws_umap=kws_umap, subsample_size=5, kws_augur_predict=dict(span=0.7))"
   ]
  },
  {
   "cell_type": "markdown",
   "metadata": {},
   "source": [
    "## Mixscape"
   ]
  },
  {
   "cell_type": "code",
   "execution_count": null,
   "metadata": {},
   "outputs": [],
   "source": [
    "figs_mixscape = self.run_mixscape(\n",
    "    col_split_by=\"orig.ident\", col_cell_type=cct, target_gene_idents=True)"
   ]
  },
  {
   "cell_type": "markdown",
   "metadata": {},
   "source": [
    "# Distance\n",
    "\n",
    "Investigate distance metrics."
   ]
  },
  {
   "cell_type": "code",
   "execution_count": null,
   "metadata": {},
   "outputs": [],
   "source": [
    "kws_plot = dict(figsize=(15, 15), robust=True)  # heatmap keywords\n",
    "fig_dist_w = self.compute_distance(distance_type=\"edistance\", method=\"X_pca\",\n",
    "                                   kws_plot=kws_plot)\n",
    "fig_dist_e = self.compute_distance(distance_type=\"mmd\", method=\"X_pca\",\n",
    "                                   kws_plot=kws_plot)"
   ]
  }
 ],
 "metadata": {
  "kernelspec": {
   "display_name": "py-bio",
   "language": "python",
   "name": "python3"
  },
  "language_info": {
   "codemirror_mode": {
    "name": "ipython",
    "version": 3
   },
   "file_extension": ".py",
   "mimetype": "text/x-python",
   "name": "python",
   "nbconvert_exporter": "python",
   "pygments_lexer": "ipython3",
   "version": "3.10.4"
  },
  "orig_nbformat": 4
 },
 "nbformat": 4,
 "nbformat_minor": 2
}
