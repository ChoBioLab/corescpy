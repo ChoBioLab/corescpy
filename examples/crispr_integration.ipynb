{
 "cells": [
  {
   "cell_type": "markdown",
   "metadata": {},
   "source": [
    "# Objects"
   ]
  },
  {
   "cell_type": "code",
   "execution_count": 1,
   "metadata": {},
   "outputs": [],
   "source": [
    "%load_ext autoreload\n",
    "%autoreload 2\n",
    "\n",
    "import crispr as cr\n",
    "from anndata import AnnData\n",
    "import scanpy as sc\n",
    "import copy\n",
    "\n",
    "harmony = True\n",
    "kws_process_guide_rna = {\"feature_split\": \"|\", \"guide_split\": \"-\", \n",
    "                         \"key_control_patterns\": [\"CTRL\"]}\n",
    "kws_umap = {\"min_dist\": 0.3}\n",
    "kws_umap=kws_umap\n",
    "kws_init = {\"assay\": None, \"assay_protein\": None, \n",
    "            \"col_gene_symbols\": \"gene_symbols\", \n",
    "            \"col_cell_type\": \"majority_voting\", \n",
    "            \"col_sample_id\": None, \"col_batch\": None, \n",
    "            \"col_perturbed\": \"perturbation\", \n",
    "            \"col_guide_rna\": \"feature_call\", \n",
    "            \"col_num_umis\": \"num_umis\", \n",
    "            \"kws_process_guide_rna\": kws_process_guide_rna,\n",
    "            \"col_condition\": \"target_gene_name\", \"key_control\": \"NT\", \n",
    "            \"key_treatment\": \"KD\", \"remove_multi_transfected\": True}\n",
    "kws_pp = {\"kws_hvg\": {\"min_mean\": 0.0125, \"max_mean\": 10, \n",
    "                      \"min_disp\": 0.5, \"flavor\": \"cell_ranger\"}, \n",
    "          \"target_sum\": 10000.0, \"cell_filter_pmt\": [0, 15], \n",
    "          \"cell_filter_ngene\": [200, None], \"cell_filter_ncounts\": [3, 40000], \n",
    "          \"gene_filter_ncell\": [3, None], \"regress_out\": None, \n",
    "          \"kws_scale\": \"z\", \"kws_umap\": kws_umap}\n",
    "kws_cluster = {\"method_cluster\": \"leiden\", \"kws_umap\": kws_umap, \n",
    "               \"kws_neighbors\": None, \n",
    "               \"kws_pca\": {\"n_comps\": None, \"use_highly_variable\": True}, \n",
    "               \"kws_cluster\": {\"resolution\": 0.5}}\n",
    "\n",
    "file_path = {'HH03': {'directory': 'data/crispr-screening/HH06'}, \n",
    "             'CR4': {'directory': 'data/crispr-screening/HH-Hu-CR4'},\n",
    "             'CR5': {'directory': 'data/crispr-screening/HH-Hu-CR5'}}\n",
    "\n"
   ]
  },
  {
   "cell_type": "markdown",
   "metadata": {},
   "source": [
    "# Create Integrated Object"
   ]
  },
  {
   "cell_type": "code",
   "execution_count": 3,
   "metadata": {},
   "outputs": [
    {
     "name": "stdout",
     "output_type": "stream",
     "text": [
      "\n",
      "\n",
      "<<< INITIALIZING CRISPR CLASS OBJECT >>>\n",
      "\n",
      "\n",
      "<<< LOADING PROTOSPACER METADATA >>>\n"
     ]
    }
   ],
   "source": [
    "adata = cr.pp.create_object_multi(file_path, kws_init, kws_pp, kws_cluster, \n",
    "                                  harmony=harmony)  # create AnnData object\n",
    "kws_init_new = copy.deepcopy(kws_init)\n",
    "kws_init_new[\"kws_process_guide_rna\"] = None  # don't need any more\n",
    "self = cr.Crispr(adata, **kws_init)  # pass integrated object to Crispr class\n",
    "del(adata)  # object now in `self`"
   ]
  },
  {
   "cell_type": "markdown",
   "metadata": {},
   "source": [
    "# Clustering & Annotations\n",
    "\n",
    "Clustering was conducted in the individual objects in `cr.pp.create_object_multi()`, but we want to re-do QC and clustering in the overall sample.\n",
    "\n",
    "## Clustering"
   ]
  },
  {
   "cell_type": "code",
   "execution_count": null,
   "metadata": {},
   "outputs": [],
   "source": [
    "self.cluster(**kws_cluster)\n",
    "degs = self.find_markers(n_genes=10, method=\"wilcoxon\", key_reference=\"rest\")\n",
    "degs[0]  # marker data; degs[1] for figures"
   ]
  },
  {
   "cell_type": "markdown",
   "metadata": {},
   "source": [
    "## CellTypist\n",
    "\n",
    "Annotate cell types."
   ]
  },
  {
   "cell_type": "code",
   "execution_count": null,
   "metadata": {},
   "outputs": [],
   "source": [
    "preds, f_ct = self.annotate_clusters(model=\"COVID19_HumanChallenge_Blood.pkl\")\n",
    "self.rna.obs"
   ]
  },
  {
   "cell_type": "markdown",
   "metadata": {},
   "source": [
    "# Plots"
   ]
  },
  {
   "cell_type": "code",
   "execution_count": null,
   "metadata": {},
   "outputs": [],
   "source": [
    "cct = \"predicted_labels\" if \"predicted_labels\" in self.rna.obs else None\n",
    "clus = list(self.rna.obs[cct].sample(2))  # clusters to circle\n",
    "figs = self.plot(genes=36, \n",
    "                 col_cell_type=cct,\n",
    "                 layers=\"all\",  # also plot \"scaled\" layer, for instance\n",
    "                 kws_gex_violin=dict(scale=\"area\", height=10),\n",
    "                 kws_clustering=dict(col_cell_type=cct))"
   ]
  },
  {
   "cell_type": "markdown",
   "metadata": {},
   "source": [
    "# Analyses\n",
    "\n",
    "Perform perturbation-specific analyses."
   ]
  },
  {
   "cell_type": "markdown",
   "metadata": {},
   "source": [
    "## Mixscape"
   ]
  },
  {
   "cell_type": "code",
   "execution_count": null,
   "metadata": {},
   "outputs": [],
   "source": [
    "figs_mixscape = self.run_mixscape(\n",
    "    col_split_by=self._columns[\"col_sample_id\"], col_cell_type=cct, \n",
    "    target_gene_idents=True)"
   ]
  },
  {
   "cell_type": "markdown",
   "metadata": {},
   "source": [
    "## Augur"
   ]
  },
  {
   "cell_type": "markdown",
   "metadata": {},
   "source": [
    "figs_mixscape = self.run_mixscape(\n",
    "    col_split_by=self._columns[\"col_sample_id\"], col_cell_type=cct, \n",
    "    target_gene_idents=True)"
   ]
  },
  {
   "cell_type": "markdown",
   "metadata": {},
   "source": [
    "# Distance\n",
    "\n",
    "Investigate distance metrics."
   ]
  }
 ],
 "metadata": {
  "kernelspec": {
   "display_name": "py-bio",
   "language": "python",
   "name": "python3"
  },
  "language_info": {
   "codemirror_mode": {
    "name": "ipython",
    "version": 3
   },
   "file_extension": ".py",
   "mimetype": "text/x-python",
   "name": "python",
   "nbconvert_exporter": "python",
   "pygments_lexer": "ipython3",
   "version": "3.10.4"
  },
  "orig_nbformat": 4
 },
 "nbformat": 4,
 "nbformat_minor": 2
}
