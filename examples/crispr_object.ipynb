{
 "cells": [
  {
   "cell_type": "markdown",
   "metadata": {},
   "source": [
    "# Introduction\n",
    "\n",
    "Welcome to Crispr! See \"Major Methods\" below for an overview of a typical workflow. \n",
    "\n",
    "## Table of contents:\n",
    "  * <a href=#Setup>Setup</a>\n",
    "    * <a href=#Ojbect>Initialization of Object</a>\n",
    "    * <a href=#Processing>Preprocessing & Clustering</a> \n",
    "  * <a href=#Plots>Initial Plotting</a>\n",
    "  * <a href=#Analyses>Perturbation Analyses</a>\n",
    "    * <a href=#Augur>Aggregate Cell-Type Perturbation Scoring (Augur)</a>\n",
    "    * <a href=#Mixscape>Cell-Level Perturbation Classification & Response Scoring (Mixscape)</a>\n",
    "    * <a href=#Distance>Distance Metrics</a>\n",
    "    * <a href=#Composition>Compositional Analysis (scGen)</a>\n",
    "    * <a href=#Dialogue>Multi-Cellular Programs (Dialogue)</a>\n",
    "\n",
    "The `crispr.Crispr()` class is the main way of interacting with the package; however, if you want to manipulate a data object before subjecting it to the initial processing steps in the `Crispr.__init__` method for some reason, you can use `adata = cr.pp.create_object(file_path, ...)`, then pass `adata` to the class initialization method in lieu of a file/dictionary of file processing arguments.\n",
    "\n",
    "<u> Argument Conventions: </u>\n",
    "\n",
    "Certain arguments used throughout the `crispr` package (including outside the `crispr.crispr_class.Crispr()` class), hold to conventions intended to foster readability, maintain consistency, and promote clarity, both for end-users and future developers.\n",
    "\n",
    "* Use the `copy` argument to avoid altering internal attributes (including `.adata`) in most `Crispr` class methods.\n",
    "\n",
    "* Arguments starting in `col_` and `key_`\n",
    "    - The \"col_\" prefix indicates that an argument refers to a column name (often in `.adata.obs` or `.adata.var`), while the \"key_\" prefix means you're meant to specify a type of entry in a column. For instance, assume the column \"condition\" contains the names of different experimental conditions (drug A, drug B, drug C). In a function where you want to compare, for instance, drug A vs. control, you would specify `key_treatment=\"drug A\"` and k\n",
    "    - These names may \n",
    "        * already exist (or will exist in the `.adata` attribute immediately upon creating the AnnData object from the data file) or \n",
    "        * may yet to be created, namely, after object initialization by running the object's methods. Thus, you may specify what you want certain columns to be named (e.g., the binary perturbed/non-perturbed column) or what entries within a column will be called (e.g., \"Control\" for rows within the `col_control` corresponding to cells that have control guide RNA IDs in `col_guide_rna`), for aesthetics, customizability to your design/interpretability, and/or to avoid duplicating pre-existing names.\n",
    "    - These arguments will be entered as items (with the argument names as keys) in dictionaries stored in the object attributes `._columns` and `._keys`, respectively.\n",
    "    - These arguments will often be passed by default (or will force them as specifications) to various object methods.\n",
    "    - In certain methods, you can specify a new column to use just for that function. For instance, if you have a column containing CellTypist annotations and want to use those clusters instead of the \"leiden\" ones for the `run_dialogue()` method, you can specify in that method (`run_dialogue(col_cell_type=\"majority_voting\")`) without changing the attribute (`self._columns`) that contains your original specification here.\n",
    "\n",
    "<!-- break -->\n",
    "\n",
    "* `col_perturbed` (binary) vs. `col_condition` (can have >= 3 categories)\n",
    "    - In the `Crispr` class object, `col_perturbed` is meant to be a binary column that has `key_control` as the entry for control rows and `key_treatment` for all other experimental conditions. \n",
    "        * For instance, for a CRISPR design targeting more than one gene, `col_perturbed` would contain only `key_treatment` (i.e., all perturbed cells, regardless of targeted gene) while `col_condition` would contain entries specifying the particular gene(s) targeted (or `key_control`).\n",
    "        * A drug design targeting more than one gene, `col_perturbed` would contain only `key_treatment` (i.e., all perturbed cells, regardless of targeted gene) while `col_condition` would contain entries specifying the particular gene(s) targeted (or `key_control`).\n",
    "        * If the design only targets one gene/has one treatment conditions/etc., these columns would simply be equivalent.\n",
    "    - In the `Crispr` class object, it is created during object initialization as a column (named after your specification of `col_perturbed`) in `.obs`. All rows in `.obs[col_condition]` that do not = `key_control` will be set as `key_treatment`.\n",
    "    - In the `crispr` package more broadly, if a function calls for a `col_perturbed` argument, that indicates that it works with binary categories only. If it is fed a column with three or more categories, it will either subset the data to include only rows where that column = `key_treatment` or `key_control` (desirable behavior if you want to compare only a subset of the existing conditions, but undesirable if you want to look at, say, any drug vs. control, where the desired \"drug\" category consists of rows where the column = \"drug A\" and \"drug B\"), or it will throw an error.\n",
    "\n",
    "## Initialization Method Arguments (Select)\n",
    "\n",
    "Here are some of the important argument for the `Crispr()` class initialization method:\n",
    "\n",
    "* `file_path`: Path or object containing data. Used in initialization to create the initial `self.adata` attribute (an AnnData or MuData object). Either\n",
    "    - a path to a 10x directory (with matrix.mtx.gz, barcodes.tsv.gz, features.tsv.gz),\n",
    "    - a path to an .h5ad or .mu file (Scanpy/AnnData/Muon-compatible), \n",
    "    - an AnnData or MuData object (e.g., already loaded with Scanpy or Muon, or by using `crispr.pp.create_object(file_path)`), or\n",
    "    - a dictionary containing keyword arguments to pass to  `crispr.pp.combine_matrix_protospacer()` (in order to load information about perturbations from other file(s); see function documentation), or\n",
    "    - to concatenate multiple datasets, a dictionary (keyed by your desired subject/sample names to be used in `col_sample_id`) consisting of whatever objects you would pass to `create_object()`'s `file` argument for the individual objects. You must also specify `col_sample` (a tuple as described in the documentation below). The other arguments passed to the `crispr.pp.create_object()` function (e.g., `col_gene_symbols`) can be specified as normal if they are common across samples; otherwise, specify them as lists in the same order as the `file` dictionary. \n",
    "* `col_sample_id`: Column in `.obs` with sample IDs. If this column does not yet exist in your data and needs to be created by concatenating datasets, you must provide\n",
    "    - `file_path` as a dictionary keyed by desired `col_sample_id` values as well as \n",
    "    - signal that concatenation needs to happen by specifying `col_sample_id` as a tuple, with the second element containing a dictionary of keyword arguments to pass to `AnnData.concatenate()` or None (to use defaults).\n",
    "\n",
    "See docstring in `crispr.crispr_object` and the README for more details.\n",
    "\n",
    "\n",
    "## Crispr Object Properties\n",
    "\n",
    "Below are descriptions of major `Crispr()` object attributes and methods.\n",
    "\n",
    "### Attributes\n",
    "\n",
    "* `.adata`: AnnData object. Columns or other objects created in the course of running certain methods may also be stored in its various attributes. Below are listed some of the major attributes of `.adata`. Note that for multi-modal data (self._assay is not None), some of these attributes may need to be accessed by `.adata[self._assay].<attribute>`, but for brevity, we'll refer to `.adata` here. Not all will/have to be present, except `.X`, `.obs`, and `.var`. You can access the gene expression modality directly by calling `self.rna`, whether the data are multi- or single-modal.\n",
    "    -  `.X`: Sparse matrix of data originally passed to the function to create an AnnData object (e.g., from CellRanger output).\n",
    "    -  `.layers`: Contains different versions of `adata.X`, such as scaled data (`adata.layers[\"scaled\"]`) or that created by calculating a \n",
    "                  Mixscape perturbation signature (`adata.layers[\"X_pert\"]`, by default).\n",
    "    -  `.obs`: pandas.DataFrame of observations (rows=cells). You can store additional data about individual cells/samples/etc. here by assigning a new column. Can also be called directly using `self.obs`.\n",
    "    -  `.obsm`: xxxxxxxxxxxxxxxxxxxxxxxxxx\n",
    "    -  `.obsm`: xxxxxxxxxxxxxxxxxxxxxxxxxx\n",
    "    -  `.var`: pandas.DataFrame of observations (rows=cells). You can store additional data about individual cells/samples/etc. here by assigning a new column. \n",
    "            Often contains the gene symbols and EnsemblIDs (either of which is often the index/`.var_names`),\n",
    "            \"feature_types\" (e.g., \"Gene Expression\"), and, after preprocessing, may contain columns such as the number of cells expressing that feature (\"n_cells\"),\n",
    "            whether that feature is a mitochonrial (\"mt\") and/or highly variable (\"highly_variable\") gene, mean and total counts, percent dropout, means, dispersions, \n",
    "            and normalized versions of these metrics. Can also be called directly using `self.var`.\n",
    "    -  `.uns`: A dictionary that holds various results and other information. Can also be called directly using `self.uns`.\n",
    "    -  `.obs_names`: Row indices of `.obs` (e.g., cell barcodes). Changing this attribute changes this index, and has other potential benefits/consequences.\n",
    "    -  `.var_names`: Row indices of `.var` (i.e., gene names). Changing this attribute changes this index, and has other potential benefits/consequences.\n",
    "    -  `.n_obs`: Number of observations (i.e., cells).\n",
    "    -  `.n_vars`: Number of features (i.e., genes/proteins/etc.).\n",
    "* `.results`: Stored output (other than figures). Note that some results may also be saved in `.obs` and `.uns` attributes of `.adata`.\n",
    "* `.figures`: Stored figure objects.\n",
    "* `.info`: Miscellaneous information about the object (e.g., its analysis/processing history).\n",
    "\n",
    "### Methods\n",
    "\n",
    "Here are the methods (applicable to scRNA-seq generally, not just perturbations) **in order** of a typical workflow _(replace ... with argument specifications)_:\n",
    "\n",
    "* `self.preprocess(...)`: Perform filtering, normalization, scaling, quality control analysis, selection for highly variable genes, regressing out confounds, and intial exploration of the data (e.g., cell counts, mitochondrial counts, etc.).\n",
    "* `self.cluster(...)`: Perform dimensionality reduction (e.g., PCA) and clustering (Louvain or Leiden), as well as related visualization.\n",
    "* `self.plot(...)`: Create additional basic plots (e.g., dot, matrix, and violin gene expression plots).\n",
    "\n",
    "The following perturbation-specific methods can be executed optionally and in any order:\n",
    "\n",
    "* `self.run_augur(...)`: Score and plot how strongly different cell types responded to perturbation(s). This score is operationalized as the accuracy with which a machine learning model can use gene expression data to predict the perturbation condition to which cells of a given type belong. Augur provides scores aggregated across cells of a given type rather than for individual cells.\n",
    "* `self.run_mixscape(...)`: Quantify and plot the extent to which individual cells responded to CRISPR perturbation(s), and identify which perturbation condition cells were not detectibly perturbed in terms of their gene expression.\n",
    "* `self.compute_distance(...)`: Calculate and visualize various distance metrics that quantify the similarity in gene expression profiles across perturbation conditions.\n",
    "* `self.run_composition_analysis(...)`: Analyze and visualize shifts in the cell type composition across perturbation conditions.\n",
    "* `self.run_dialogue(...)`: Create plots showing multi-cellular programs."
   ]
  },
  {
   "cell_type": "markdown",
   "metadata": {},
   "source": [
    "# Setup\n",
    "\n",
    "First, we need to initialize the object, and if the object isn't already preprocessed and/or clustered, perform those steps.\n",
    "\n",
    "## Imports & Options\n",
    "\n",
    "This first chunk contains code that a typical user would not need and is only included because we need to set initialization keywords and other variables (drawn from the `crispr/examples/config.py` file) that correspond to the dataset specified in the `file` variable. See `config.py` for the names of different files/datasets you can specify."
   ]
  },
  {
   "cell_type": "code",
   "execution_count": 1,
   "metadata": {},
   "outputs": [
    {
     "data": {
      "text/html": [
       "<pre style=\"white-space:pre;overflow-x:auto;line-height:normal;font-family:Menlo,'DejaVu Sans Mono',consolas,'Courier New',monospace\"><span style=\"color: #808000; text-decoration-color: #808000; font-weight: bold\">ryp2 is not installed. Install with </span><span style=\"color: #008000; text-decoration-color: #008000; font-weight: bold\">pip install rpy2 </span><span style=\"color: #808000; text-decoration-color: #808000; font-weight: bold\">to run tools with R support.</span>\n",
       "</pre>\n"
      ],
      "text/plain": [
       "\u001b[1;33mryp2 is not installed. Install with \u001b[0m\u001b[1;32mpip install rpy2 \u001b[0m\u001b[1;33mto run tools with R support.\u001b[0m\n"
      ]
     },
     "metadata": {},
     "output_type": "display_data"
    },
    {
     "name": "stderr",
     "output_type": "stream",
     "text": [
      "Downloading data from `https://omnipathdb.org/queries/enzsub?format=json`\n",
      "Downloading data from `https://omnipathdb.org/queries/interactions?format=json`\n",
      "Downloading data from `https://omnipathdb.org/queries/complexes?format=json`\n",
      "Downloading data from `https://omnipathdb.org/queries/annotations?format=json`\n",
      "Downloading data from `https://omnipathdb.org/queries/intercell?format=json`\n",
      "Downloading data from `https://omnipathdb.org/about?format=text`\n"
     ]
    },
    {
     "name": "stdout",
     "output_type": "stream",
     "text": [
      "['__builtins__', '__cached__', '__doc__', '__file__', '__loader__', '__name__', '__package__', '__path__', '__spec__', 'analyze_causal_network', 'analyze_composition', 'analyze_receptor_ligand', 'calculate_dea_deseq2', 'cluster', 'clustering', 'communication', 'composition', 'compute_distance', 'find_marker_genes', 'perform_augur', 'perform_celltypist', 'perform_dea', 'perform_differential_prioritization', 'perform_gsea', 'perform_mixscape', 'perform_pathway_interference', 'perturbations']\n",
      "{'directory': '/home/elizabeth/elizabeth/crispr/examples/data/crispr-screening/HH03'}\n",
      "Initialization arguments (from config):\n",
      "\n",
      "{'assay': None, 'assay_protein': None, 'col_gene_symbols': 'gene_symbols', 'col_cell_type': 'predicted_labels', 'col_sample_id': None, 'col_perturbed': 'perturbation', 'col_guide_rna': 'feature_call', 'col_num_umis': 'num_umis', 'kws_process_guide_rna': {'feature_split': '|', 'guide_split': '-', 'key_control_patterns': ['CTRL'], 'remove_multi_transfected': True}, 'col_condition': 'target_gene_name', 'key_control': 'NT', 'key_treatment': 'KD'}\n",
      "UMAP Keywords: {'min_dist': 0.3}\n",
      "\n",
      "\n"
     ]
    }
   ],
   "source": [
    "%load_ext autoreload\n",
    "%autoreload 2\n",
    "\n",
    "import crispr as cr \n",
    "from crispr import Crispr\n",
    "import pertpy as pt\n",
    "import scanpy as sc\n",
    "import pandas as pd\n",
    "import numpy as np\n",
    "from config import (\n",
    "    files_data, assays_data, col_cell_type_data, col_gene_symbols_data,\n",
    "    col_perturbed_data, col_condition_data, key_control_data, \n",
    "    key_treatment_data, col_split_by_data, col_batch_data, col_sample_id_data, \n",
    "    kws_process_guide_rna_data, col_guide_rna_data, col_num_umis_data)\n",
    "\n",
    "pd.options.display.max_columns = 100\n",
    "\n",
    "# Options\n",
    "skip_preprocessing_clustering = False  # to skip these steps\n",
    "print(dir(cr.ax))\n",
    "file = \"CRISPRi_scr\"\n",
    "# file = \"CRISPRi_ess\"\n",
    "# file = \"ECCITE\"\n",
    "# file = \"augur_ex\"\n",
    "# file = \"coda\"\n",
    "# file = \"screen\"\n",
    "# file = \"perturb-seq\"\n",
    "\n",
    "#  Set Arguments\n",
    "kws_umap = dict(min_dist=0.3)  # passed to UMAP fx\n",
    "assay, assay_protein = None, None  # will change below if needed\n",
    "if file in assays_data and assays_data[file] is not None:\n",
    "    assay, assay_protein = [assays_data[file], None] if isinstance(\n",
    "        assays_data[file], str) else assays_data[file]\n",
    "else:\n",
    "    assay, assay_protein = None, None\n",
    "col_split_by = col_split_by_data[file]\n",
    "kwargs_init = dict(assay=assay, assay_protein=assay_protein,\n",
    "                   col_gene_symbols=col_gene_symbols_data[file],  \n",
    "                   col_cell_type=col_cell_type_data[file], \n",
    "                   col_sample_id=col_sample_id_data[file], \n",
    "                   # col_batch=col_batch_data[file],\n",
    "                   col_perturbed=col_perturbed_data[file], \n",
    "                   col_guide_rna=col_guide_rna_data[file], \n",
    "                   col_num_umis=col_num_umis_data[file],\n",
    "                   kws_process_guide_rna={\n",
    "                       **kws_process_guide_rna_data[file],\n",
    "                       \"remove_multi_transfected\": True} if (\n",
    "                           kws_process_guide_rna_data[file]) else None,\n",
    "                   col_condition=col_condition_data[file], \n",
    "                   key_control=key_control_data[file], \n",
    "                   key_treatment=key_treatment_data[file])\n",
    "if file == \"default_fast\":\n",
    "    skip_preprocessing_clustering = True\n",
    "if isinstance(file, str) and file in [\"ECCITE\", \"Adamson\"]:\n",
    "    file_path = pt.data.papalexi_2021() if (\n",
    "        file == \"ECCITE\") else pt.data.adamson_2016_upr_perturb_seq()\n",
    "else:\n",
    "    file_path = files_data[file]\n",
    "print(file_path)\n",
    "print(f\"Initialization arguments (from config):\\n\\n{kwargs_init}\")\n",
    "print(f\"UMAP Keywords: {kws_umap}\\n\\n\")"
   ]
  },
  {
   "cell_type": "markdown",
   "metadata": {},
   "source": [
    "## Object\n",
    "\n",
    "This code instantiates the CRISPR object, which is the main way of interacting with this package as an end-user.\n",
    "\n",
    "This is more code than you would need in real life; it just ensures that certain public datasets are loaded from the source for various reasons."
   ]
  },
  {
   "cell_type": "code",
   "execution_count": 9,
   "metadata": {},
   "outputs": [
    {
     "name": "stdout",
     "output_type": "stream",
     "text": [
      "\n",
      "\n",
      "<<< INITIALIZING OMICS CLASS OBJECT >>>\n",
      "\n",
      "Unused keyword arguments: {'kws_process_guide_rna': {'col_guide_rna': 'feature_call', 'col_num_umis': 'num_umis', 'key_control': 'NT', 'col_guide_rna_new': 'target_gene_name', 'feature_split': '|', 'guide_split': '-', 'key_control_patterns': ['CTRL'], 'remove_multi_transfected': True}}.\n",
      "\n",
      "col_gene_symbols=\"gene_symbols\"\n",
      "col_cell_type=\"leiden\"\n",
      "col_sample_id=None\n",
      "col_batch=None\n",
      "col_subject=None\n",
      "col_condition=\"target_gene_name\"\n",
      "col_num_umis=\"num_umis\"\n",
      "key_control=\"NT\"\n",
      "key_treatment=\"KD\"\n",
      "\n",
      "\n",
      "<<< LOADING PROTOSPACER METADATA >>>\n",
      "\n",
      "\n",
      "================================================================================\n",
      "Cell Counts: Initial\n",
      "================================================================================\n",
      "\n",
      "\n",
      "Observations: 15078\n",
      "\n",
      "\n",
      "\n",
      "================================================================================\n",
      "Gene Counts: Initial\n",
      "================================================================================\n",
      "\n",
      "Empty DataFrame\n",
      "Columns: [index, gene_ids, feature_types]\n",
      "Index: []\n",
      "\n",
      "\n",
      "\n",
      "\n",
      "\n",
      "<<< PERFORMING gRNA PROCESSING & FILTERING >>>\n",
      "\n",
      "{'feature_split': '|', 'guide_split': '-', 'key_control_patterns': ['CTRL']}\n"
     ]
    },
    {
     "ename": "KeyboardInterrupt",
     "evalue": "",
     "output_type": "error",
     "traceback": [
      "\u001b[0;31m---------------------------------------------------------------------------\u001b[0m",
      "\u001b[0;31mKeyboardInterrupt\u001b[0m                         Traceback (most recent call last)",
      "Cell \u001b[0;32mIn[9], line 1\u001b[0m\n\u001b[0;32m----> 1\u001b[0m \u001b[38;5;28mself\u001b[39m \u001b[38;5;241m=\u001b[39m \u001b[43mCrispr\u001b[49m\u001b[43m(\u001b[49m\u001b[43mfile_path\u001b[49m\u001b[43m,\u001b[49m\u001b[43m \u001b[49m\u001b[38;5;241;43m*\u001b[39;49m\u001b[38;5;241;43m*\u001b[39;49m\u001b[43mkwargs_init\u001b[49m\u001b[43m)\u001b[49m\n\u001b[1;32m      2\u001b[0m \u001b[38;5;28mself\u001b[39m\u001b[38;5;241m.\u001b[39mrna\u001b[38;5;241m.\u001b[39mobs  \u001b[38;5;66;03m# RNA assay/gene expression modality dataframe\u001b[39;00m\n",
      "File \u001b[0;32m~/crispr/crispr/class_crispr.py:318\u001b[0m, in \u001b[0;36mCrispr.__init__\u001b[0;34m(self, file_path, assay, assay_protein, col_gene_symbols, col_cell_type, col_sample_id, col_condition, col_perturbed, col_guide_rna, col_num_umis, key_control, key_treatment, key_nonperturbed, kws_process_guide_rna, kws_multi, **kwargs)\u001b[0m\n\u001b[1;32m    316\u001b[0m \u001b[38;5;28;01melse\u001b[39;00m:\n\u001b[1;32m    317\u001b[0m     kws_pga, kws_process_guide_rna \u001b[38;5;241m=\u001b[39m \u001b[38;5;28;01mNone\u001b[39;00m, \u001b[38;5;28;01mNone\u001b[39;00m\n\u001b[0;32m--> 318\u001b[0m \u001b[38;5;28;43msuper\u001b[39;49m\u001b[43m(\u001b[49m\u001b[43m)\u001b[49m\u001b[38;5;241;43m.\u001b[39;49m\u001b[38;5;21;43m__init__\u001b[39;49m\u001b[43m(\u001b[49m\n\u001b[1;32m    319\u001b[0m \u001b[43m    \u001b[49m\u001b[38;5;28;43mself\u001b[39;49m\u001b[38;5;241;43m.\u001b[39;49m\u001b[43m_file_path\u001b[49m\u001b[43m,\u001b[49m\u001b[43m \u001b[49m\u001b[43massay\u001b[49m\u001b[38;5;241;43m=\u001b[39;49m\u001b[43massay\u001b[49m\u001b[43m,\u001b[49m\u001b[43m \u001b[49m\u001b[43mcol_gene_symbols\u001b[49m\u001b[38;5;241;43m=\u001b[39;49m\u001b[43mcol_gene_symbols\u001b[49m\u001b[43m,\u001b[49m\n\u001b[1;32m    320\u001b[0m \u001b[43m    \u001b[49m\u001b[43mcol_sample_id\u001b[49m\u001b[38;5;241;43m=\u001b[39;49m\u001b[43mcol_sample_id\u001b[49m\u001b[43m,\u001b[49m\u001b[43m \u001b[49m\u001b[43mcol_condition\u001b[49m\u001b[38;5;241;43m=\u001b[39;49m\u001b[43mcol_condition\u001b[49m\u001b[43m,\u001b[49m\n\u001b[1;32m    321\u001b[0m \u001b[43m    \u001b[49m\u001b[43mkey_control\u001b[49m\u001b[38;5;241;43m=\u001b[39;49m\u001b[43mkey_control\u001b[49m\u001b[43m,\u001b[49m\u001b[43m \u001b[49m\u001b[43mkey_treatment\u001b[49m\u001b[38;5;241;43m=\u001b[39;49m\u001b[43mkey_treatment\u001b[49m\u001b[43m,\u001b[49m\n\u001b[1;32m    322\u001b[0m \u001b[43m    \u001b[49m\u001b[43mkws_process_guide_rna\u001b[49m\u001b[38;5;241;43m=\u001b[39;49m\u001b[43mkws_pga\u001b[49m\u001b[43m,\u001b[49m\u001b[43m \u001b[49m\u001b[43mkws_multi\u001b[49m\u001b[38;5;241;43m=\u001b[39;49m\u001b[43mkws_multi\u001b[49m\u001b[43m)\u001b[49m  \u001b[38;5;66;03m# make adata\u001b[39;00m\n\u001b[1;32m    323\u001b[0m \u001b[38;5;28mself\u001b[39m\u001b[38;5;241m.\u001b[39minfo[\u001b[38;5;124m\"\u001b[39m\u001b[38;5;124mguide_rna\u001b[39m\u001b[38;5;124m\"\u001b[39m][\u001b[38;5;124m\"\u001b[39m\u001b[38;5;124mkeywords\u001b[39m\u001b[38;5;124m\"\u001b[39m] \u001b[38;5;241m=\u001b[39m kws_process_guide_rna\n\u001b[1;32m    324\u001b[0m \u001b[38;5;28;01mif\u001b[39;00m kws_process_guide_rna \u001b[38;5;129;01mand\u001b[39;00m \u001b[38;5;124m\"\u001b[39m\u001b[38;5;124mguide_split\u001b[39m\u001b[38;5;124m\"\u001b[39m \u001b[38;5;129;01min\u001b[39;00m kws_process_guide_rna:\n",
      "File \u001b[0;32m~/crispr/crispr/class_sc.py:151\u001b[0m, in \u001b[0;36mOmics.__init__\u001b[0;34m(self, file_path, assay, assay_protein, raw, col_gene_symbols, col_cell_type, col_sample_id, col_subject, col_condition, key_control, key_treatment, kws_multi, **kwargs)\u001b[0m\n\u001b[1;32m    140\u001b[0m     \u001b[38;5;28mself\u001b[39m\u001b[38;5;241m.\u001b[39madata \u001b[38;5;241m=\u001b[39m cr\u001b[38;5;241m.\u001b[39mpp\u001b[38;5;241m.\u001b[39mcreate_object_multi(\n\u001b[1;32m    141\u001b[0m         file_path, kws_init\u001b[38;5;241m=\u001b[39m\u001b[38;5;28mdict\u001b[39m(\n\u001b[1;32m    142\u001b[0m             assay\u001b[38;5;241m=\u001b[39massay, assay_protein\u001b[38;5;241m=\u001b[39massay_protein, \n\u001b[0;32m   (...)\u001b[0m\n\u001b[1;32m    148\u001b[0m             col_sample_id\u001b[38;5;241m=\u001b[39mcol_sample_id, \u001b[38;5;241m*\u001b[39m\u001b[38;5;241m*\u001b[39mkwargs),\n\u001b[1;32m    149\u001b[0m         \u001b[38;5;241m*\u001b[39m\u001b[38;5;241m*\u001b[39mkws_multi)  \u001b[38;5;66;03m# create integrated object\u001b[39;00m\n\u001b[1;32m    150\u001b[0m \u001b[38;5;28;01melse\u001b[39;00m:\n\u001b[0;32m--> 151\u001b[0m     \u001b[38;5;28mself\u001b[39m\u001b[38;5;241m.\u001b[39madata \u001b[38;5;241m=\u001b[39m \u001b[43mcr\u001b[49m\u001b[38;5;241;43m.\u001b[39;49m\u001b[43mpp\u001b[49m\u001b[38;5;241;43m.\u001b[39;49m\u001b[43mcreate_object\u001b[49m\u001b[43m(\u001b[49m\n\u001b[1;32m    152\u001b[0m \u001b[43m        \u001b[49m\u001b[38;5;28;43mself\u001b[39;49m\u001b[38;5;241;43m.\u001b[39;49m\u001b[43m_file_path\u001b[49m\u001b[43m,\u001b[49m\u001b[43m \u001b[49m\u001b[43massay\u001b[49m\u001b[38;5;241;43m=\u001b[39;49m\u001b[43massay\u001b[49m\u001b[43m,\u001b[49m\u001b[43m \u001b[49m\u001b[43mraw\u001b[49m\u001b[38;5;241;43m=\u001b[39;49m\u001b[43mraw\u001b[49m\u001b[43m,\u001b[49m\n\u001b[1;32m    153\u001b[0m \u001b[43m        \u001b[49m\u001b[43mcol_gene_symbols\u001b[49m\u001b[38;5;241;43m=\u001b[39;49m\u001b[43mcol_gene_symbols\u001b[49m\u001b[43m,\u001b[49m\n\u001b[1;32m    154\u001b[0m \u001b[43m        \u001b[49m\u001b[43mcol_sample_id\u001b[49m\u001b[38;5;241;43m=\u001b[39;49m\u001b[43mcol_sample_id\u001b[49m\u001b[43m,\u001b[49m\u001b[43m \u001b[49m\u001b[38;5;241;43m*\u001b[39;49m\u001b[38;5;241;43m*\u001b[39;49m\u001b[43mkwargs\u001b[49m\u001b[43m)\u001b[49m  \u001b[38;5;66;03m# make AnnData\u001b[39;00m\n\u001b[1;32m    155\u001b[0m \u001b[38;5;28mprint\u001b[39m(\u001b[38;5;28mself\u001b[39m\u001b[38;5;241m.\u001b[39madata\u001b[38;5;241m.\u001b[39mobs, \u001b[38;5;124m\"\u001b[39m\u001b[38;5;130;01m\\n\u001b[39;00m\u001b[38;5;130;01m\\n\u001b[39;00m\u001b[38;5;124m\"\u001b[39m) \u001b[38;5;28;01mif\u001b[39;00m assay \u001b[38;5;28;01melse\u001b[39;00m \u001b[38;5;28;01mNone\u001b[39;00m\n\u001b[1;32m    157\u001b[0m \u001b[38;5;66;03m# Let Property Setters Run\u001b[39;00m\n",
      "File \u001b[0;32m~/crispr/crispr/processing/preprocessing.py:158\u001b[0m, in \u001b[0;36mcreate_object\u001b[0;34m(file, col_gene_symbols, assay, kws_process_guide_rna, raw, **kwargs)\u001b[0m\n\u001b[1;32m    156\u001b[0m \u001b[38;5;28;01mif\u001b[39;00m assay:\n\u001b[1;32m    157\u001b[0m     \u001b[38;5;28;01mraise\u001b[39;00m \u001b[38;5;167;01mNotImplementedError\u001b[39;00m(\u001b[38;5;124m\"\u001b[39m\u001b[38;5;124mMulti-modal CRISPR not supported.\u001b[39m\u001b[38;5;124m\"\u001b[39m)\n\u001b[0;32m--> 158\u001b[0m adata \u001b[38;5;241m=\u001b[39m \u001b[43mcr\u001b[49m\u001b[38;5;241;43m.\u001b[39;49m\u001b[43mpp\u001b[49m\u001b[38;5;241;43m.\u001b[39;49m\u001b[43mprocess_guide_rna\u001b[49m\u001b[43m(\u001b[49m\u001b[43madata\u001b[49m\u001b[43m,\u001b[49m\u001b[43m \u001b[49m\u001b[38;5;241;43m*\u001b[39;49m\u001b[38;5;241;43m*\u001b[39;49m\u001b[43mkws_process_guide_rna\u001b[49m\u001b[43m)\u001b[49m\n\u001b[1;32m    159\u001b[0m cct \u001b[38;5;241m=\u001b[39m kws_process_guide_rna[\u001b[38;5;124m\"\u001b[39m\u001b[38;5;124mcol_cell_type\u001b[39m\u001b[38;5;124m\"\u001b[39m] \u001b[38;5;28;01mif\u001b[39;00m \u001b[38;5;124m\"\u001b[39m\u001b[38;5;124mcol_cell_type\u001b[39m\u001b[38;5;124m\"\u001b[39m \u001b[38;5;129;01min\u001b[39;00m (\n\u001b[1;32m    160\u001b[0m     kws_process_guide_rna) \u001b[38;5;28;01melse\u001b[39;00m \u001b[38;5;28;01mNone\u001b[39;00m  \u001b[38;5;66;03m# to group counts ~ cell type\u001b[39;00m\n\u001b[1;32m    161\u001b[0m cr\u001b[38;5;241m.\u001b[39mtl\u001b[38;5;241m.\u001b[39mprint_counts(adata, title\u001b[38;5;241m=\u001b[39m\u001b[38;5;124m\"\u001b[39m\u001b[38;5;124mPost-gRNA Processing\u001b[39m\u001b[38;5;124m\"\u001b[39m, group_by\u001b[38;5;241m=\u001b[39mcct)\n",
      "File \u001b[0;32m~/crispr/crispr/processing/guide_rna.py:134\u001b[0m, in \u001b[0;36mprocess_guide_rna\u001b[0;34m(adata, col_guide_rna, col_guide_rna_new, col_num_umis, key_control, conserve_memory, remove_multi_transfected, remove_from_gex, **kws_process_guide_rna)\u001b[0m\n\u001b[1;32m    131\u001b[0m \u001b[38;5;28mprint\u001b[39m(\u001b[38;5;124mf\u001b[39m\u001b[38;5;124m\"\u001b[39m\u001b[38;5;130;01m\\n\u001b[39;00m\u001b[38;5;130;01m\\n\u001b[39;00m\u001b[38;5;124m<<< PERFORMING gRNA PROCESSING & FILTERING >>>\u001b[39m\u001b[38;5;130;01m\\n\u001b[39;00m\u001b[38;5;130;01m\\n\u001b[39;00m\u001b[38;5;132;01m{\u001b[39;00mkws_pga\u001b[38;5;132;01m}\u001b[39;00m\u001b[38;5;124m\"\u001b[39m)\n\u001b[1;32m    133\u001b[0m \u001b[38;5;66;03m# Filter by Guide Counts\u001b[39;00m\n\u001b[0;32m--> 134\u001b[0m tg_info, feats_n \u001b[38;5;241m=\u001b[39m \u001b[43mfilter_by_guide_counts\u001b[49m\u001b[43m(\u001b[49m\n\u001b[1;32m    135\u001b[0m \u001b[43m    \u001b[49m\u001b[43mann\u001b[49m\u001b[43m,\u001b[49m\u001b[43m \u001b[49m\u001b[43mcol_guide_rna\u001b[49m\u001b[43m,\u001b[49m\u001b[43m \u001b[49m\u001b[43mcol_num_umis\u001b[49m\u001b[38;5;241;43m=\u001b[39;49m\u001b[43mcol_num_umis\u001b[49m\u001b[43m,\u001b[49m\u001b[43m \u001b[49m\n\u001b[1;32m    136\u001b[0m \u001b[43m    \u001b[49m\u001b[43mkey_control\u001b[49m\u001b[38;5;241;43m=\u001b[39;49m\u001b[43mkey_control\u001b[49m\u001b[43m,\u001b[49m\u001b[43m \u001b[49m\u001b[38;5;241;43m*\u001b[39;49m\u001b[38;5;241;43m*\u001b[39;49m\u001b[43mkws_pga\u001b[49m\n\u001b[1;32m    137\u001b[0m \u001b[43m    \u001b[49m\u001b[43m)\u001b[49m  \u001b[38;5;66;03m# process (e.g., multi-probe names) & filter by # gRNA\u001b[39;00m\n\u001b[1;32m    139\u001b[0m \u001b[38;5;66;03m# Add Results to AnnData\u001b[39;00m\n\u001b[1;32m    140\u001b[0m \u001b[38;5;28;01mfor\u001b[39;00m x \u001b[38;5;129;01min\u001b[39;00m [\u001b[38;5;124m\"\u001b[39m\u001b[38;5;124mfeature_split\u001b[39m\u001b[38;5;124m\"\u001b[39m, \u001b[38;5;124m\"\u001b[39m\u001b[38;5;124mguide_split\u001b[39m\u001b[38;5;124m\"\u001b[39m]:\n",
      "File \u001b[0;32m~/crispr/crispr/processing/guide_rna.py:318\u001b[0m, in \u001b[0;36mfilter_by_guide_counts\u001b[0;34m(adata, col_guide_rna, col_num_umis, max_pct_control_drop, min_n_target_control_drop, min_pct_avg_n, min_pct_dominant, drop_multi_control, feature_split, guide_split, key_control_patterns, key_control, **kwargs)\u001b[0m\n\u001b[1;32m    311\u001b[0m             \u001b[38;5;28;01mraise\u001b[39;00m \u001b[38;5;167;01mValueError\u001b[39;00m(\n\u001b[1;32m    312\u001b[0m                 \u001b[38;5;124mf\u001b[39m\u001b[38;5;124m\"\u001b[39m\u001b[38;5;124m`guide_split` can\u001b[39m\u001b[38;5;124m'\u001b[39m\u001b[38;5;124mt contain reserved name \u001b[39m\u001b[38;5;132;01m{\u001b[39;00mgrs\u001b[38;5;132;01m}\u001b[39;00m\u001b[38;5;124m.\u001b[39m\u001b[38;5;124m\"\u001b[39m)\n\u001b[1;32m    313\u001b[0m         warn(\n\u001b[1;32m    314\u001b[0m             \u001b[38;5;124mf\u001b[39m\u001b[38;5;124m\"\u001b[39m\u001b[38;5;124m`guide_split` (\u001b[39m\u001b[38;5;132;01m{\u001b[39;00mguide_split\u001b[38;5;132;01m}\u001b[39;00m\u001b[38;5;124m) found in at least one gene \u001b[39m\u001b[38;5;124m\"\u001b[39m\n\u001b[1;32m    315\u001b[0m             \u001b[38;5;124mf\u001b[39m\u001b[38;5;124m\"\u001b[39m\u001b[38;5;124mname (\u001b[39m\u001b[38;5;132;01m{\u001b[39;00m\u001b[38;5;124m'\u001b[39m\u001b[38;5;124m, \u001b[39m\u001b[38;5;124m'\u001b[39m\u001b[38;5;241m.\u001b[39mjoin(bad_symb)\u001b[38;5;132;01m}\u001b[39;00m\u001b[38;5;124m). Using \u001b[39m\u001b[38;5;132;01m{\u001b[39;00mgrs\u001b[38;5;132;01m}\u001b[39;00m\u001b[38;5;124m. as temporary \u001b[39m\u001b[38;5;124m\"\u001b[39m\n\u001b[1;32m    316\u001b[0m             \u001b[38;5;124m\"\u001b[39m\u001b[38;5;124msubstitute. Will try to replace later, but note risks of \u001b[39m\u001b[38;5;124m\"\u001b[39m\n\u001b[1;32m    317\u001b[0m             \u001b[38;5;124m\"\u001b[39m\u001b[38;5;124m`guide_split` being a character also found in gene names.\u001b[39m\u001b[38;5;124m\"\u001b[39m)\n\u001b[0;32m--> 318\u001b[0m         guides \u001b[38;5;241m=\u001b[39m \u001b[43mguides\u001b[49m\u001b[38;5;241;43m.\u001b[39;49m\u001b[43mapply\u001b[49m\u001b[43m(\u001b[49m\u001b[38;5;28;43;01mlambda\u001b[39;49;00m\u001b[43m \u001b[49m\u001b[43mx\u001b[49m\u001b[43m:\u001b[49m\u001b[43m \u001b[49m\u001b[43mre\u001b[49m\u001b[38;5;241;43m.\u001b[39;49m\u001b[43msub\u001b[49m\u001b[43m(\u001b[49m\u001b[43mbad_symb\u001b[49m\u001b[43m[\u001b[49m\u001b[43mnp\u001b[49m\u001b[38;5;241;43m.\u001b[39;49m\u001b[43mwhere\u001b[49m\u001b[43m(\u001b[49m\n\u001b[1;32m    319\u001b[0m \u001b[43m            \u001b[49m\u001b[43m[\u001b[49m\u001b[43mi\u001b[49m\u001b[43m \u001b[49m\u001b[38;5;129;43;01min\u001b[39;49;00m\u001b[43m \u001b[49m\u001b[38;5;28;43mstr\u001b[39;49m\u001b[43m(\u001b[49m\u001b[43mx\u001b[49m\u001b[43m)\u001b[49m\u001b[43m \u001b[49m\u001b[38;5;28;43;01mfor\u001b[39;49;00m\u001b[43m \u001b[49m\u001b[43mi\u001b[49m\u001b[43m \u001b[49m\u001b[38;5;129;43;01min\u001b[39;49;00m\u001b[43m \u001b[49m\u001b[43mbad_symb\u001b[49m\u001b[43m]\u001b[49m\u001b[43m)\u001b[49m\u001b[43m[\u001b[49m\u001b[38;5;241;43m0\u001b[39;49m\u001b[43m]\u001b[49m\u001b[43m[\u001b[49m\u001b[38;5;241;43m0\u001b[39;49m\u001b[43m]\u001b[49m\u001b[43m]\u001b[49m\u001b[43m,\u001b[49m\u001b[43m \u001b[49m\u001b[43mre\u001b[49m\u001b[38;5;241;43m.\u001b[39;49m\u001b[43msub\u001b[49m\u001b[43m(\u001b[49m\n\u001b[1;32m    320\u001b[0m \u001b[43m            \u001b[49m\u001b[43mguide_split\u001b[49m\u001b[43m,\u001b[49m\u001b[43m \u001b[49m\u001b[43mgrs\u001b[49m\u001b[43m,\u001b[49m\u001b[43m \u001b[49m\u001b[43mbad_symb\u001b[49m\u001b[43m[\u001b[49m\u001b[43mnp\u001b[49m\u001b[38;5;241;43m.\u001b[39;49m\u001b[43mwhere\u001b[49m\u001b[43m(\u001b[49m\n\u001b[1;32m    321\u001b[0m \u001b[43m                \u001b[49m\u001b[43m[\u001b[49m\u001b[43mi\u001b[49m\u001b[43m \u001b[49m\u001b[38;5;129;43;01min\u001b[39;49;00m\u001b[43m \u001b[49m\u001b[38;5;28;43mstr\u001b[39;49m\u001b[43m(\u001b[49m\u001b[43mx\u001b[49m\u001b[43m)\u001b[49m\u001b[43m \u001b[49m\u001b[38;5;28;43;01mfor\u001b[39;49;00m\u001b[43m \u001b[49m\u001b[43mi\u001b[49m\u001b[43m \u001b[49m\u001b[38;5;129;43;01min\u001b[39;49;00m\u001b[43m \u001b[49m\u001b[43mbad_symb\u001b[49m\u001b[43m]\u001b[49m\u001b[43m)\u001b[49m\u001b[43m[\u001b[49m\u001b[38;5;241;43m0\u001b[39;49m\u001b[43m]\u001b[49m\u001b[43m[\u001b[49m\u001b[38;5;241;43m0\u001b[39;49m\u001b[43m]\u001b[49m\u001b[43m]\u001b[49m\u001b[43m)\u001b[49m\u001b[43m,\u001b[49m\u001b[43m \u001b[49m\n\u001b[1;32m    322\u001b[0m \u001b[43m            \u001b[49m\u001b[38;5;28;43mstr\u001b[39;49m\u001b[43m(\u001b[49m\u001b[43mx\u001b[49m\u001b[43m)\u001b[49m\u001b[43m)\u001b[49m\u001b[43m \u001b[49m\u001b[38;5;28;43;01mif\u001b[39;49;00m\u001b[43m \u001b[49m\u001b[38;5;28;43many\u001b[39;49m\u001b[43m(\u001b[49m\u001b[43m(\u001b[49m\u001b[43mi\u001b[49m\u001b[43m \u001b[49m\u001b[38;5;129;43;01min\u001b[39;49;00m\u001b[43m \u001b[49m\u001b[38;5;28;43mstr\u001b[39;49m\u001b[43m(\u001b[49m\u001b[43mx\u001b[49m\u001b[43m)\u001b[49m\u001b[43m \u001b[49m\u001b[38;5;28;43;01mfor\u001b[39;49;00m\u001b[43m \u001b[49m\u001b[43mi\u001b[49m\u001b[43m \u001b[49m\u001b[38;5;129;43;01min\u001b[39;49;00m\u001b[43m \u001b[49m\u001b[43mbad_symb\u001b[49m\u001b[43m)\u001b[49m\u001b[43m)\u001b[49m\u001b[43m \u001b[49m\u001b[38;5;28;43;01melse\u001b[39;49;00m\u001b[43m \u001b[49m\u001b[43mx\u001b[49m\u001b[43m)\u001b[49m\n\u001b[1;32m    324\u001b[0m \u001b[38;5;66;03m# Find Gene Targets & Counts of Guides\u001b[39;00m\n\u001b[1;32m    325\u001b[0m targets, grnas \u001b[38;5;241m=\u001b[39m detect_guide_targets(\n\u001b[1;32m    326\u001b[0m     guides, feature_split\u001b[38;5;241m=\u001b[39mfeature_split, guide_split\u001b[38;5;241m=\u001b[39mguide_split,\n\u001b[1;32m    327\u001b[0m     key_control_patterns\u001b[38;5;241m=\u001b[39mkey_control_patterns, \n\u001b[1;32m    328\u001b[0m     key_control\u001b[38;5;241m=\u001b[39mkey_control, \u001b[38;5;241m*\u001b[39m\u001b[38;5;241m*\u001b[39mkwargs)  \u001b[38;5;66;03m# target genes\u001b[39;00m\n",
      "File \u001b[0;32m~/miniconda3/envs/py-bio/lib/python3.10/site-packages/pandas/core/series.py:4904\u001b[0m, in \u001b[0;36mSeries.apply\u001b[0;34m(self, func, convert_dtype, args, by_row, **kwargs)\u001b[0m\n\u001b[1;32m   4769\u001b[0m \u001b[38;5;28;01mdef\u001b[39;00m \u001b[38;5;21mapply\u001b[39m(\n\u001b[1;32m   4770\u001b[0m     \u001b[38;5;28mself\u001b[39m,\n\u001b[1;32m   4771\u001b[0m     func: AggFuncType,\n\u001b[0;32m   (...)\u001b[0m\n\u001b[1;32m   4776\u001b[0m     \u001b[38;5;241m*\u001b[39m\u001b[38;5;241m*\u001b[39mkwargs,\n\u001b[1;32m   4777\u001b[0m ) \u001b[38;5;241m-\u001b[39m\u001b[38;5;241m>\u001b[39m DataFrame \u001b[38;5;241m|\u001b[39m Series:\n\u001b[1;32m   4778\u001b[0m \u001b[38;5;250m    \u001b[39m\u001b[38;5;124;03m\"\"\"\u001b[39;00m\n\u001b[1;32m   4779\u001b[0m \u001b[38;5;124;03m    Invoke function on values of Series.\u001b[39;00m\n\u001b[1;32m   4780\u001b[0m \n\u001b[0;32m   (...)\u001b[0m\n\u001b[1;32m   4895\u001b[0m \u001b[38;5;124;03m    dtype: float64\u001b[39;00m\n\u001b[1;32m   4896\u001b[0m \u001b[38;5;124;03m    \"\"\"\u001b[39;00m\n\u001b[1;32m   4897\u001b[0m     \u001b[38;5;28;01mreturn\u001b[39;00m \u001b[43mSeriesApply\u001b[49m\u001b[43m(\u001b[49m\n\u001b[1;32m   4898\u001b[0m \u001b[43m        \u001b[49m\u001b[38;5;28;43mself\u001b[39;49m\u001b[43m,\u001b[49m\n\u001b[1;32m   4899\u001b[0m \u001b[43m        \u001b[49m\u001b[43mfunc\u001b[49m\u001b[43m,\u001b[49m\n\u001b[1;32m   4900\u001b[0m \u001b[43m        \u001b[49m\u001b[43mconvert_dtype\u001b[49m\u001b[38;5;241;43m=\u001b[39;49m\u001b[43mconvert_dtype\u001b[49m\u001b[43m,\u001b[49m\n\u001b[1;32m   4901\u001b[0m \u001b[43m        \u001b[49m\u001b[43mby_row\u001b[49m\u001b[38;5;241;43m=\u001b[39;49m\u001b[43mby_row\u001b[49m\u001b[43m,\u001b[49m\n\u001b[1;32m   4902\u001b[0m \u001b[43m        \u001b[49m\u001b[43margs\u001b[49m\u001b[38;5;241;43m=\u001b[39;49m\u001b[43margs\u001b[49m\u001b[43m,\u001b[49m\n\u001b[1;32m   4903\u001b[0m \u001b[43m        \u001b[49m\u001b[43mkwargs\u001b[49m\u001b[38;5;241;43m=\u001b[39;49m\u001b[43mkwargs\u001b[49m\u001b[43m,\u001b[49m\n\u001b[0;32m-> 4904\u001b[0m \u001b[43m    \u001b[49m\u001b[43m)\u001b[49m\u001b[38;5;241;43m.\u001b[39;49m\u001b[43mapply\u001b[49m\u001b[43m(\u001b[49m\u001b[43m)\u001b[49m\n",
      "File \u001b[0;32m~/miniconda3/envs/py-bio/lib/python3.10/site-packages/pandas/core/apply.py:1427\u001b[0m, in \u001b[0;36mSeriesApply.apply\u001b[0;34m(self)\u001b[0m\n\u001b[1;32m   1424\u001b[0m     \u001b[38;5;28;01mreturn\u001b[39;00m \u001b[38;5;28mself\u001b[39m\u001b[38;5;241m.\u001b[39mapply_compat()\n\u001b[1;32m   1426\u001b[0m \u001b[38;5;66;03m# self.func is Callable\u001b[39;00m\n\u001b[0;32m-> 1427\u001b[0m \u001b[38;5;28;01mreturn\u001b[39;00m \u001b[38;5;28;43mself\u001b[39;49m\u001b[38;5;241;43m.\u001b[39;49m\u001b[43mapply_standard\u001b[49m\u001b[43m(\u001b[49m\u001b[43m)\u001b[49m\n",
      "File \u001b[0;32m~/miniconda3/envs/py-bio/lib/python3.10/site-packages/pandas/core/apply.py:1507\u001b[0m, in \u001b[0;36mSeriesApply.apply_standard\u001b[0;34m(self)\u001b[0m\n\u001b[1;32m   1501\u001b[0m \u001b[38;5;66;03m# row-wise access\u001b[39;00m\n\u001b[1;32m   1502\u001b[0m \u001b[38;5;66;03m# apply doesn't have a `na_action` keyword and for backward compat reasons\u001b[39;00m\n\u001b[1;32m   1503\u001b[0m \u001b[38;5;66;03m# we need to give `na_action=\"ignore\"` for categorical data.\u001b[39;00m\n\u001b[1;32m   1504\u001b[0m \u001b[38;5;66;03m# TODO: remove the `na_action=\"ignore\"` when that default has been changed in\u001b[39;00m\n\u001b[1;32m   1505\u001b[0m \u001b[38;5;66;03m#  Categorical (GH51645).\u001b[39;00m\n\u001b[1;32m   1506\u001b[0m action \u001b[38;5;241m=\u001b[39m \u001b[38;5;124m\"\u001b[39m\u001b[38;5;124mignore\u001b[39m\u001b[38;5;124m\"\u001b[39m \u001b[38;5;28;01mif\u001b[39;00m \u001b[38;5;28misinstance\u001b[39m(obj\u001b[38;5;241m.\u001b[39mdtype, CategoricalDtype) \u001b[38;5;28;01melse\u001b[39;00m \u001b[38;5;28;01mNone\u001b[39;00m\n\u001b[0;32m-> 1507\u001b[0m mapped \u001b[38;5;241m=\u001b[39m \u001b[43mobj\u001b[49m\u001b[38;5;241;43m.\u001b[39;49m\u001b[43m_map_values\u001b[49m\u001b[43m(\u001b[49m\n\u001b[1;32m   1508\u001b[0m \u001b[43m    \u001b[49m\u001b[43mmapper\u001b[49m\u001b[38;5;241;43m=\u001b[39;49m\u001b[43mcurried\u001b[49m\u001b[43m,\u001b[49m\u001b[43m \u001b[49m\u001b[43mna_action\u001b[49m\u001b[38;5;241;43m=\u001b[39;49m\u001b[43maction\u001b[49m\u001b[43m,\u001b[49m\u001b[43m \u001b[49m\u001b[43mconvert\u001b[49m\u001b[38;5;241;43m=\u001b[39;49m\u001b[38;5;28;43mself\u001b[39;49m\u001b[38;5;241;43m.\u001b[39;49m\u001b[43mconvert_dtype\u001b[49m\n\u001b[1;32m   1509\u001b[0m \u001b[43m\u001b[49m\u001b[43m)\u001b[49m\n\u001b[1;32m   1511\u001b[0m \u001b[38;5;28;01mif\u001b[39;00m \u001b[38;5;28mlen\u001b[39m(mapped) \u001b[38;5;129;01mand\u001b[39;00m \u001b[38;5;28misinstance\u001b[39m(mapped[\u001b[38;5;241m0\u001b[39m], ABCSeries):\n\u001b[1;32m   1512\u001b[0m     \u001b[38;5;66;03m# GH#43986 Need to do list(mapped) in order to get treated as nested\u001b[39;00m\n\u001b[1;32m   1513\u001b[0m     \u001b[38;5;66;03m#  See also GH#25959 regarding EA support\u001b[39;00m\n\u001b[1;32m   1514\u001b[0m     \u001b[38;5;28;01mreturn\u001b[39;00m obj\u001b[38;5;241m.\u001b[39m_constructor_expanddim(\u001b[38;5;28mlist\u001b[39m(mapped), index\u001b[38;5;241m=\u001b[39mobj\u001b[38;5;241m.\u001b[39mindex)\n",
      "File \u001b[0;32m~/miniconda3/envs/py-bio/lib/python3.10/site-packages/pandas/core/base.py:921\u001b[0m, in \u001b[0;36mIndexOpsMixin._map_values\u001b[0;34m(self, mapper, na_action, convert)\u001b[0m\n\u001b[1;32m    918\u001b[0m \u001b[38;5;28;01mif\u001b[39;00m \u001b[38;5;28misinstance\u001b[39m(arr, ExtensionArray):\n\u001b[1;32m    919\u001b[0m     \u001b[38;5;28;01mreturn\u001b[39;00m arr\u001b[38;5;241m.\u001b[39mmap(mapper, na_action\u001b[38;5;241m=\u001b[39mna_action)\n\u001b[0;32m--> 921\u001b[0m \u001b[38;5;28;01mreturn\u001b[39;00m \u001b[43malgorithms\u001b[49m\u001b[38;5;241;43m.\u001b[39;49m\u001b[43mmap_array\u001b[49m\u001b[43m(\u001b[49m\u001b[43marr\u001b[49m\u001b[43m,\u001b[49m\u001b[43m \u001b[49m\u001b[43mmapper\u001b[49m\u001b[43m,\u001b[49m\u001b[43m \u001b[49m\u001b[43mna_action\u001b[49m\u001b[38;5;241;43m=\u001b[39;49m\u001b[43mna_action\u001b[49m\u001b[43m,\u001b[49m\u001b[43m \u001b[49m\u001b[43mconvert\u001b[49m\u001b[38;5;241;43m=\u001b[39;49m\u001b[43mconvert\u001b[49m\u001b[43m)\u001b[49m\n",
      "File \u001b[0;32m~/miniconda3/envs/py-bio/lib/python3.10/site-packages/pandas/core/algorithms.py:1743\u001b[0m, in \u001b[0;36mmap_array\u001b[0;34m(arr, mapper, na_action, convert)\u001b[0m\n\u001b[1;32m   1741\u001b[0m values \u001b[38;5;241m=\u001b[39m arr\u001b[38;5;241m.\u001b[39mastype(\u001b[38;5;28mobject\u001b[39m, copy\u001b[38;5;241m=\u001b[39m\u001b[38;5;28;01mFalse\u001b[39;00m)\n\u001b[1;32m   1742\u001b[0m \u001b[38;5;28;01mif\u001b[39;00m na_action \u001b[38;5;129;01mis\u001b[39;00m \u001b[38;5;28;01mNone\u001b[39;00m:\n\u001b[0;32m-> 1743\u001b[0m     \u001b[38;5;28;01mreturn\u001b[39;00m \u001b[43mlib\u001b[49m\u001b[38;5;241;43m.\u001b[39;49m\u001b[43mmap_infer\u001b[49m\u001b[43m(\u001b[49m\u001b[43mvalues\u001b[49m\u001b[43m,\u001b[49m\u001b[43m \u001b[49m\u001b[43mmapper\u001b[49m\u001b[43m,\u001b[49m\u001b[43m \u001b[49m\u001b[43mconvert\u001b[49m\u001b[38;5;241;43m=\u001b[39;49m\u001b[43mconvert\u001b[49m\u001b[43m)\u001b[49m\n\u001b[1;32m   1744\u001b[0m \u001b[38;5;28;01melse\u001b[39;00m:\n\u001b[1;32m   1745\u001b[0m     \u001b[38;5;28;01mreturn\u001b[39;00m lib\u001b[38;5;241m.\u001b[39mmap_infer_mask(\n\u001b[1;32m   1746\u001b[0m         values, mapper, mask\u001b[38;5;241m=\u001b[39misna(values)\u001b[38;5;241m.\u001b[39mview(np\u001b[38;5;241m.\u001b[39muint8), convert\u001b[38;5;241m=\u001b[39mconvert\n\u001b[1;32m   1747\u001b[0m     )\n",
      "File \u001b[0;32mlib.pyx:2972\u001b[0m, in \u001b[0;36mpandas._libs.lib.map_infer\u001b[0;34m()\u001b[0m\n",
      "File \u001b[0;32m~/crispr/crispr/processing/guide_rna.py:322\u001b[0m, in \u001b[0;36mfilter_by_guide_counts.<locals>.<lambda>\u001b[0;34m(x)\u001b[0m\n\u001b[1;32m    311\u001b[0m             \u001b[38;5;28;01mraise\u001b[39;00m \u001b[38;5;167;01mValueError\u001b[39;00m(\n\u001b[1;32m    312\u001b[0m                 \u001b[38;5;124mf\u001b[39m\u001b[38;5;124m\"\u001b[39m\u001b[38;5;124m`guide_split` can\u001b[39m\u001b[38;5;124m'\u001b[39m\u001b[38;5;124mt contain reserved name \u001b[39m\u001b[38;5;132;01m{\u001b[39;00mgrs\u001b[38;5;132;01m}\u001b[39;00m\u001b[38;5;124m.\u001b[39m\u001b[38;5;124m\"\u001b[39m)\n\u001b[1;32m    313\u001b[0m         warn(\n\u001b[1;32m    314\u001b[0m             \u001b[38;5;124mf\u001b[39m\u001b[38;5;124m\"\u001b[39m\u001b[38;5;124m`guide_split` (\u001b[39m\u001b[38;5;132;01m{\u001b[39;00mguide_split\u001b[38;5;132;01m}\u001b[39;00m\u001b[38;5;124m) found in at least one gene \u001b[39m\u001b[38;5;124m\"\u001b[39m\n\u001b[1;32m    315\u001b[0m             \u001b[38;5;124mf\u001b[39m\u001b[38;5;124m\"\u001b[39m\u001b[38;5;124mname (\u001b[39m\u001b[38;5;132;01m{\u001b[39;00m\u001b[38;5;124m'\u001b[39m\u001b[38;5;124m, \u001b[39m\u001b[38;5;124m'\u001b[39m\u001b[38;5;241m.\u001b[39mjoin(bad_symb)\u001b[38;5;132;01m}\u001b[39;00m\u001b[38;5;124m). Using \u001b[39m\u001b[38;5;132;01m{\u001b[39;00mgrs\u001b[38;5;132;01m}\u001b[39;00m\u001b[38;5;124m. as temporary \u001b[39m\u001b[38;5;124m\"\u001b[39m\n\u001b[1;32m    316\u001b[0m             \u001b[38;5;124m\"\u001b[39m\u001b[38;5;124msubstitute. Will try to replace later, but note risks of \u001b[39m\u001b[38;5;124m\"\u001b[39m\n\u001b[1;32m    317\u001b[0m             \u001b[38;5;124m\"\u001b[39m\u001b[38;5;124m`guide_split` being a character also found in gene names.\u001b[39m\u001b[38;5;124m\"\u001b[39m)\n\u001b[1;32m    318\u001b[0m         guides \u001b[38;5;241m=\u001b[39m guides\u001b[38;5;241m.\u001b[39mapply(\u001b[38;5;28;01mlambda\u001b[39;00m x: re\u001b[38;5;241m.\u001b[39msub(bad_symb[np\u001b[38;5;241m.\u001b[39mwhere(\n\u001b[1;32m    319\u001b[0m             [i \u001b[38;5;129;01min\u001b[39;00m \u001b[38;5;28mstr\u001b[39m(x) \u001b[38;5;28;01mfor\u001b[39;00m i \u001b[38;5;129;01min\u001b[39;00m bad_symb])[\u001b[38;5;241m0\u001b[39m][\u001b[38;5;241m0\u001b[39m]], re\u001b[38;5;241m.\u001b[39msub(\n\u001b[1;32m    320\u001b[0m             guide_split, grs, bad_symb[np\u001b[38;5;241m.\u001b[39mwhere(\n\u001b[1;32m    321\u001b[0m                 [i \u001b[38;5;129;01min\u001b[39;00m \u001b[38;5;28mstr\u001b[39m(x) \u001b[38;5;28;01mfor\u001b[39;00m i \u001b[38;5;129;01min\u001b[39;00m bad_symb])[\u001b[38;5;241m0\u001b[39m][\u001b[38;5;241m0\u001b[39m]]), \n\u001b[0;32m--> 322\u001b[0m             \u001b[38;5;28mstr\u001b[39m(x)) \u001b[38;5;28;01mif\u001b[39;00m \u001b[38;5;28;43many\u001b[39;49m\u001b[43m(\u001b[49m\u001b[43m(\u001b[49m\u001b[43mi\u001b[49m\u001b[43m \u001b[49m\u001b[38;5;129;43;01min\u001b[39;49;00m\u001b[43m \u001b[49m\u001b[38;5;28;43mstr\u001b[39;49m\u001b[43m(\u001b[49m\u001b[43mx\u001b[49m\u001b[43m)\u001b[49m\u001b[43m \u001b[49m\u001b[38;5;28;43;01mfor\u001b[39;49;00m\u001b[43m \u001b[49m\u001b[43mi\u001b[49m\u001b[43m \u001b[49m\u001b[38;5;129;43;01min\u001b[39;49;00m\u001b[43m \u001b[49m\u001b[43mbad_symb\u001b[49m\u001b[43m)\u001b[49m\u001b[43m)\u001b[49m \u001b[38;5;28;01melse\u001b[39;00m x)\n\u001b[1;32m    324\u001b[0m \u001b[38;5;66;03m# Find Gene Targets & Counts of Guides\u001b[39;00m\n\u001b[1;32m    325\u001b[0m targets, grnas \u001b[38;5;241m=\u001b[39m detect_guide_targets(\n\u001b[1;32m    326\u001b[0m     guides, feature_split\u001b[38;5;241m=\u001b[39mfeature_split, guide_split\u001b[38;5;241m=\u001b[39mguide_split,\n\u001b[1;32m    327\u001b[0m     key_control_patterns\u001b[38;5;241m=\u001b[39mkey_control_patterns, \n\u001b[1;32m    328\u001b[0m     key_control\u001b[38;5;241m=\u001b[39mkey_control, \u001b[38;5;241m*\u001b[39m\u001b[38;5;241m*\u001b[39mkwargs)  \u001b[38;5;66;03m# target genes\u001b[39;00m\n",
      "File \u001b[0;32m~/crispr/crispr/processing/guide_rna.py:322\u001b[0m, in \u001b[0;36m<genexpr>\u001b[0;34m(.0)\u001b[0m\n\u001b[1;32m    311\u001b[0m             \u001b[38;5;28;01mraise\u001b[39;00m \u001b[38;5;167;01mValueError\u001b[39;00m(\n\u001b[1;32m    312\u001b[0m                 \u001b[38;5;124mf\u001b[39m\u001b[38;5;124m\"\u001b[39m\u001b[38;5;124m`guide_split` can\u001b[39m\u001b[38;5;124m'\u001b[39m\u001b[38;5;124mt contain reserved name \u001b[39m\u001b[38;5;132;01m{\u001b[39;00mgrs\u001b[38;5;132;01m}\u001b[39;00m\u001b[38;5;124m.\u001b[39m\u001b[38;5;124m\"\u001b[39m)\n\u001b[1;32m    313\u001b[0m         warn(\n\u001b[1;32m    314\u001b[0m             \u001b[38;5;124mf\u001b[39m\u001b[38;5;124m\"\u001b[39m\u001b[38;5;124m`guide_split` (\u001b[39m\u001b[38;5;132;01m{\u001b[39;00mguide_split\u001b[38;5;132;01m}\u001b[39;00m\u001b[38;5;124m) found in at least one gene \u001b[39m\u001b[38;5;124m\"\u001b[39m\n\u001b[1;32m    315\u001b[0m             \u001b[38;5;124mf\u001b[39m\u001b[38;5;124m\"\u001b[39m\u001b[38;5;124mname (\u001b[39m\u001b[38;5;132;01m{\u001b[39;00m\u001b[38;5;124m'\u001b[39m\u001b[38;5;124m, \u001b[39m\u001b[38;5;124m'\u001b[39m\u001b[38;5;241m.\u001b[39mjoin(bad_symb)\u001b[38;5;132;01m}\u001b[39;00m\u001b[38;5;124m). Using \u001b[39m\u001b[38;5;132;01m{\u001b[39;00mgrs\u001b[38;5;132;01m}\u001b[39;00m\u001b[38;5;124m. as temporary \u001b[39m\u001b[38;5;124m\"\u001b[39m\n\u001b[1;32m    316\u001b[0m             \u001b[38;5;124m\"\u001b[39m\u001b[38;5;124msubstitute. Will try to replace later, but note risks of \u001b[39m\u001b[38;5;124m\"\u001b[39m\n\u001b[1;32m    317\u001b[0m             \u001b[38;5;124m\"\u001b[39m\u001b[38;5;124m`guide_split` being a character also found in gene names.\u001b[39m\u001b[38;5;124m\"\u001b[39m)\n\u001b[1;32m    318\u001b[0m         guides \u001b[38;5;241m=\u001b[39m guides\u001b[38;5;241m.\u001b[39mapply(\u001b[38;5;28;01mlambda\u001b[39;00m x: re\u001b[38;5;241m.\u001b[39msub(bad_symb[np\u001b[38;5;241m.\u001b[39mwhere(\n\u001b[1;32m    319\u001b[0m             [i \u001b[38;5;129;01min\u001b[39;00m \u001b[38;5;28mstr\u001b[39m(x) \u001b[38;5;28;01mfor\u001b[39;00m i \u001b[38;5;129;01min\u001b[39;00m bad_symb])[\u001b[38;5;241m0\u001b[39m][\u001b[38;5;241m0\u001b[39m]], re\u001b[38;5;241m.\u001b[39msub(\n\u001b[1;32m    320\u001b[0m             guide_split, grs, bad_symb[np\u001b[38;5;241m.\u001b[39mwhere(\n\u001b[1;32m    321\u001b[0m                 [i \u001b[38;5;129;01min\u001b[39;00m \u001b[38;5;28mstr\u001b[39m(x) \u001b[38;5;28;01mfor\u001b[39;00m i \u001b[38;5;129;01min\u001b[39;00m bad_symb])[\u001b[38;5;241m0\u001b[39m][\u001b[38;5;241m0\u001b[39m]]), \n\u001b[0;32m--> 322\u001b[0m             \u001b[38;5;28mstr\u001b[39m(x)) \u001b[38;5;28;01mif\u001b[39;00m \u001b[38;5;28many\u001b[39m((i \u001b[38;5;129;01min\u001b[39;00m \u001b[38;5;28;43mstr\u001b[39;49m\u001b[43m(\u001b[49m\u001b[43mx\u001b[49m\u001b[43m)\u001b[49m \u001b[38;5;28;01mfor\u001b[39;00m i \u001b[38;5;129;01min\u001b[39;00m bad_symb)) \u001b[38;5;28;01melse\u001b[39;00m x)\n\u001b[1;32m    324\u001b[0m \u001b[38;5;66;03m# Find Gene Targets & Counts of Guides\u001b[39;00m\n\u001b[1;32m    325\u001b[0m targets, grnas \u001b[38;5;241m=\u001b[39m detect_guide_targets(\n\u001b[1;32m    326\u001b[0m     guides, feature_split\u001b[38;5;241m=\u001b[39mfeature_split, guide_split\u001b[38;5;241m=\u001b[39mguide_split,\n\u001b[1;32m    327\u001b[0m     key_control_patterns\u001b[38;5;241m=\u001b[39mkey_control_patterns, \n\u001b[1;32m    328\u001b[0m     key_control\u001b[38;5;241m=\u001b[39mkey_control, \u001b[38;5;241m*\u001b[39m\u001b[38;5;241m*\u001b[39mkwargs)  \u001b[38;5;66;03m# target genes\u001b[39;00m\n",
      "\u001b[0;31mKeyboardInterrupt\u001b[0m: "
     ]
    }
   ],
   "source": [
    "self = Crispr(file_path, **kwargs_init)\n",
    "self.rna.obs  # RNA assay/gene expression modality dataframe"
   ]
  },
  {
   "cell_type": "markdown",
   "metadata": {},
   "source": [
    "## Preprocessing"
   ]
  },
  {
   "cell_type": "code",
   "execution_count": null,
   "metadata": {},
   "outputs": [
    {
     "name": "stdout",
     "output_type": "stream",
     "text": [
      "{'kws_hvg': {'min_mean': 0.0125, 'max_mean': 10, 'min_disp': 0.5, 'flavor': 'cell_ranger'}, 'target_sum': 10000.0, 'cell_filter_pmt': [0, 30], 'cell_filter_ngene': [200, None], 'cell_filter_ncounts': [3, 40000], 'gene_filter_ncell': [3, None], 'regress_out': None, 'kws_scale': 'z'}\n",
      "\n",
      "Un-Used Keyword Arguments: {'assay_protein': None, 'col_sample_id': None, 'col_batch': None, 'col_subject': None, 'col_condition': 'target_gene_name', 'col_num_umis': 'num_umis', 'col_target_genes': 'target_gene_name', 'col_perturbed': 'perturbation', 'col_guide_rna': 'feature_call', 'col_guide_split': 'guide_split', 'kws_umap': {'min_dist': 0.3}}\n",
      "\n",
      "\n"
     ]
    },
    {
     "data": {
      "image/png": "[encoded data removed]",
      "text/plain": [
       "<Figure size 500x350 with 1 Axes>"
      ]
     },
     "metadata": {},
     "output_type": "display_data"
    },
    {
     "name": "stdout",
     "output_type": "stream",
     "text": [
      "\n",
      "\n",
      "================================================================================\n",
      "Cell Counts: Initial\n",
      "================================================================================\n",
      "\n",
      "\n",
      "Observations: 3688\n",
      "\n",
      "\n",
      "\n",
      "================================================================================\n",
      "Gene Counts: Initial\n",
      "================================================================================\n",
      "\n",
      "Empty DataFrame\n",
      "Columns: [gene_symbols, gene_ids, feature_types]\n",
      "Index: []\n",
      "\n",
      "\n",
      "\n",
      "\n",
      "<<< PERFORMING QUALITY CONTROL ANALYSIS>>>\n",
      "\n",
      "\t*** Detecting Mitochondrial, Ribosomal, Hemoglobin genes...\n",
      "\n",
      "\t*** Calculating & plotting QC metrics...\n",
      "\n",
      "\n"
     ]
    },
    {
     "name": "stderr",
     "output_type": "stream",
     "text": [
      "... storing 'feature_call_original' as categorical\n",
      "... storing 'num_umis_original' as categorical\n",
      "... storing 'feature_call' as categorical\n",
      "... storing 'num_umis' as categorical\n",
      "... storing 'target_gene_name' as categorical\n",
      "... storing 'guide_split' as categorical\n",
      "... storing 'perturbation' as categorical\n",
      "... storing 'gene_ids' as categorical\n",
      "... storing 'feature_types' as categorical\n"
     ]
    },
    {
     "data": {
      "image/png": "[encoded data removed]",
      "text/plain": [
       "<Figure size 500x500 with 1 Axes>"
      ]
     },
     "metadata": {},
     "output_type": "display_data"
    },
    {
     "name": "stdout",
     "output_type": "stream",
     "text": [
      "Traceback (most recent call last):\n",
      "  File \"/home/elizabeth/elizabeth/crispr/crispr/processing/preprocessing.py\", line 526, in perform_qc\n",
      "    figs[\"pct_counts_kde\"] = seaborn.displot(\n",
      "  File \"/home/elizabeth/elizabeth/miniconda3/envs/py-bio/lib/python3.10/site-packages/seaborn/distributions.py\", line 2218, in displot\n",
      "    p.plot_univariate_density(**kde_kws)\n",
      "  File \"/home/elizabeth/elizabeth/miniconda3/envs/py-bio/lib/python3.10/site-packages/seaborn/distributions.py\", line 930, in plot_univariate_density\n",
      "    densities = self._compute_univariate_density(\n",
      "  File \"/home/elizabeth/elizabeth/miniconda3/envs/py-bio/lib/python3.10/site-packages/seaborn/distributions.py\", line 325, in _compute_univariate_density\n",
      "    for sub_vars, sub_data in self.iter_data(\"hue\", from_comp_data=True):\n",
      "  File \"/home/elizabeth/elizabeth/miniconda3/envs/py-bio/lib/python3.10/site-packages/seaborn/_base.py\", line 938, in iter_data\n",
      "    iter_keys = itertools.product(*grouping_keys)\n",
      "TypeError: 'NoneType' object is not iterable\n",
      "\n",
      "\n",
      "<<< FILTERING CELLS (TOO FEW GENES) & GENES (TOO FEW CELLS) >>>\n",
      "\n",
      "\n",
      "================================================================================\n",
      "Cell Counts: Post-Basic Filter\n",
      "================================================================================\n",
      "\n",
      "\n",
      "Observations: 0\n",
      "\n",
      "\n",
      "\n",
      "================================================================================\n",
      "Gene Counts: Post-Basic Filter\n",
      "================================================================================\n",
      "\n",
      "     n_cells_by_counts  mean_counts  log1p_mean_counts  pct_dropout_by_counts  \\\n",
      "75%                NaN          NaN                NaN                    NaN   \n",
      "25%                NaN          NaN                NaN                    NaN   \n",
      "50%                NaN          NaN                NaN                    NaN   \n",
      "\n",
      "     total_counts  log1p_total_counts  n_cells  \n",
      "75%           NaN                 NaN      NaN  \n",
      "25%           NaN                 NaN      NaN  \n",
      "50%           NaN                 NaN      NaN  \n",
      "\n",
      "\n",
      "\n",
      "\n",
      "<<< FURTHER CELL & GENE FILTERING >>>\n",
      "\n",
      "<<< PERFORING THRESHOLD-BASED FILTERING >>>\n",
      "\n",
      "Total Cell Count: 0\n",
      "\n",
      "\t*** Filtering cells by mitochondrial gene percentage...\n",
      "\n",
      "\tMinimum=0\n",
      "\tMaximum=30\n",
      "\tNew Count: 0\n",
      "\n",
      "\t*** Filtering genes based on # of genes expressed...\n",
      "\n",
      "\tmin_genes=200\tCount: 0\n",
      "\n",
      "\tNo max_genes\n",
      "\n",
      "\t*** Filtering cells based on # of reads...\n",
      "\n",
      "\tmin_counts=3\tCount: 0\n",
      "\n",
      "\tmax_counts=40000\tCount: 0\n",
      "\n",
      "\t*** Filtering genes based on # cells expressing them...\n",
      "\n",
      "\tmin_cells=3\tCount: 0\n",
      "\n",
      "\tNo max_cells\n",
      "\n",
      "\t*** Filtering genes based on counts...\n",
      "\n",
      "\tNo min_counts\n",
      "\n",
      "\tNo max_counts\n",
      "\n",
      "Post-Filtering Cell #: 0, Gene #: 0\n",
      "\n",
      "\n",
      "\n",
      "================================================================================\n",
      "Cell Counts: Post-Filter\n",
      "================================================================================\n",
      "\n",
      "\n",
      "Observations: 0\n",
      "\n",
      "\n",
      "\n",
      "================================================================================\n",
      "Gene Counts: Post-Filter\n",
      "================================================================================\n",
      "\n",
      "     n_cells_by_counts  mean_counts  log1p_mean_counts  pct_dropout_by_counts  \\\n",
      "75%                NaN          NaN                NaN                    NaN   \n",
      "25%                NaN          NaN                NaN                    NaN   \n",
      "50%                NaN          NaN                NaN                    NaN   \n",
      "\n",
      "     total_counts  log1p_total_counts  n_cells  \n",
      "75%           NaN                 NaN      NaN  \n",
      "25%           NaN                 NaN      NaN  \n",
      "50%           NaN                 NaN      NaN  \n",
      "\n",
      "\n",
      "\n",
      "\n",
      "<<< NORMALIZING CELL COUNTS >>>\n",
      "\n",
      "\t*** Total-count normalizing...\n",
      "AnnData object with n_obs × n_vars = 0 × 0\n",
      "    obs: 'num_features', 'feature_call_original', 'num_umis_original', 'feature_call', 'num_umis', 'target_gene_name', 'guide_split', 'perturbation', 'n_counts', 'log_counts', 'n_genes', 'n_genes_by_counts', 'log1p_n_genes_by_counts', 'total_counts', 'log1p_total_counts', 'total_counts_ribo', 'log1p_total_counts_ribo', 'pct_counts_ribo', 'total_counts_hb', 'log1p_total_counts_hb', 'pct_counts_hb', 'total_counts_mt', 'log1p_total_counts_mt', 'pct_counts_mt'\n",
      "    var: 'gene_ids', 'feature_types', 'mt', 'ribo', 'hb', 'n_cells_by_counts', 'mean_counts', 'log1p_mean_counts', 'pct_dropout_by_counts', 'total_counts', 'log1p_total_counts', 'n_cells'\n",
      "    uns: 'grna_keywords', 'grna_feats_n', 'grna_info', 'grna_info_all'\n",
      "    layers: 'counts'\n",
      "\n",
      "\t*** Log-normalizing => `.X` & log1p layer...\n"
     ]
    },
    {
     "ename": "ValueError",
     "evalue": "Found array with 0 sample(s) (shape=(0, 0)) while a minimum of 1 is required.",
     "output_type": "error",
     "traceback": [
      "\u001b[0;31m---------------------------------------------------------------------------\u001b[0m",
      "\u001b[0;31mValueError\u001b[0m                                Traceback (most recent call last)",
      "Cell \u001b[0;32mIn[8], line 15\u001b[0m\n\u001b[1;32m     12\u001b[0m     \u001b[38;5;66;03m# kws_scale=True)  # or just overall center/standardize GEX\u001b[39;00m\n\u001b[1;32m     13\u001b[0m     \u001b[38;5;66;03m# kws_scale=10)  # (use integer to also place a max_value)\u001b[39;00m\n\u001b[1;32m     14\u001b[0m \u001b[38;5;28mprint\u001b[39m(process_kws)\n\u001b[0;32m---> 15\u001b[0m \u001b[38;5;28;43mself\u001b[39;49m\u001b[38;5;241;43m.\u001b[39;49m\u001b[43mpreprocess\u001b[49m\u001b[43m(\u001b[49m\u001b[38;5;241;43m*\u001b[39;49m\u001b[38;5;241;43m*\u001b[39;49m\u001b[43mprocess_kws\u001b[49m\u001b[43m,\u001b[49m\u001b[43m \u001b[49m\u001b[43mkws_umap\u001b[49m\u001b[38;5;241;43m=\u001b[39;49m\u001b[43mkws_umap\u001b[49m\u001b[43m)\u001b[49m  \u001b[38;5;66;03m# preprocessing \u001b[39;00m\n\u001b[1;32m     16\u001b[0m \u001b[38;5;28mself\u001b[39m\u001b[38;5;241m.\u001b[39mrna\u001b[38;5;241m.\u001b[39mobs\n",
      "File \u001b[0;32m~/crispr/crispr/class_sc.py:432\u001b[0m, in \u001b[0;36mOmics.preprocess\u001b[0;34m(self, assay_protein, layer_in, copy, kws_scale, by_batch, **kwargs)\u001b[0m\n\u001b[1;32m    430\u001b[0m adata \u001b[38;5;241m=\u001b[39m \u001b[38;5;28mself\u001b[39m\u001b[38;5;241m.\u001b[39mrna\u001b[38;5;241m.\u001b[39mcopy()\n\u001b[1;32m    431\u001b[0m adata\u001b[38;5;241m.\u001b[39mX \u001b[38;5;241m=\u001b[39m adata\u001b[38;5;241m.\u001b[39mlayers[layer]  \u001b[38;5;66;03m# use specified layer\u001b[39;00m\n\u001b[0;32m--> 432\u001b[0m adata, figs \u001b[38;5;241m=\u001b[39m \u001b[43mcr\u001b[49m\u001b[38;5;241;43m.\u001b[39;49m\u001b[43mpp\u001b[49m\u001b[38;5;241;43m.\u001b[39;49m\u001b[43mprocess_data\u001b[49m\u001b[43m(\u001b[49m\u001b[43madata\u001b[49m\u001b[43m,\u001b[49m\u001b[43m \u001b[49m\u001b[38;5;241;43m*\u001b[39;49m\u001b[38;5;241;43m*\u001b[39;49m\u001b[43mkws\u001b[49m\u001b[43m)\u001b[49m  \u001b[38;5;66;03m# preprocess\u001b[39;00m\n\u001b[1;32m    433\u001b[0m \u001b[38;5;66;03m# if assay_protein is not None:  # if includes protein assay\u001b[39;00m\n\u001b[1;32m    434\u001b[0m \u001b[38;5;66;03m#     ad_p = muon.prot.pp.clr(adata[assay_protein], inplace=False)\u001b[39;00m\n\u001b[1;32m    435\u001b[0m \u001b[38;5;28;01mfor\u001b[39;00m x \u001b[38;5;129;01min\u001b[39;00m kws:\n",
      "File \u001b[0;32m~/crispr/crispr/processing/preprocessing.py:359\u001b[0m, in \u001b[0;36mprocess_data\u001b[0;34m(adata, col_gene_symbols, col_cell_type, outlier_mads, cell_filter_pmt, cell_filter_ncounts, cell_filter_ngene, gene_filter_ncell, gene_filter_ncounts, remove_malat1, target_sum, kws_hvg, kws_scale, regress_out, **kwargs)\u001b[0m\n\u001b[1;32m    357\u001b[0m \u001b[38;5;28mprint\u001b[39m(ann)\n\u001b[1;32m    358\u001b[0m \u001b[38;5;28mprint\u001b[39m(\u001b[38;5;124mf\u001b[39m\u001b[38;5;124m\"\u001b[39m\u001b[38;5;130;01m\\n\u001b[39;00m\u001b[38;5;130;01m\\t\u001b[39;00m\u001b[38;5;124m*** Log-normalizing => `.X` & \u001b[39m\u001b[38;5;132;01m{\u001b[39;00mlayers[\u001b[38;5;124m'\u001b[39m\u001b[38;5;124mlog1p\u001b[39m\u001b[38;5;124m'\u001b[39m]\u001b[38;5;132;01m}\u001b[39;00m\u001b[38;5;124m layer...\u001b[39m\u001b[38;5;124m\"\u001b[39m)\n\u001b[0;32m--> 359\u001b[0m \u001b[43msc\u001b[49m\u001b[38;5;241;43m.\u001b[39;49m\u001b[43mpp\u001b[49m\u001b[38;5;241;43m.\u001b[39;49m\u001b[43mlog1p\u001b[49m\u001b[43m(\u001b[49m\u001b[43mann\u001b[49m\u001b[43m)\u001b[49m  \u001b[38;5;66;03m# log-transformed; INPLACE\u001b[39;00m\n\u001b[1;32m    360\u001b[0m ann\u001b[38;5;241m.\u001b[39mlayers[layers[\u001b[38;5;124m\"\u001b[39m\u001b[38;5;124mlog1p\u001b[39m\u001b[38;5;124m\"\u001b[39m]] \u001b[38;5;241m=\u001b[39m ann\u001b[38;5;241m.\u001b[39mX\u001b[38;5;241m.\u001b[39mcopy()  \u001b[38;5;66;03m# also keep in layer\u001b[39;00m\n\u001b[1;32m    361\u001b[0m ann\u001b[38;5;241m.\u001b[39mraw \u001b[38;5;241m=\u001b[39m ann\u001b[38;5;241m.\u001b[39mcopy()  \u001b[38;5;66;03m# before HVG, batch correction, etc.\u001b[39;00m\n",
      "File \u001b[0;32m~/miniconda3/envs/py-bio/lib/python3.10/functools.py:889\u001b[0m, in \u001b[0;36msingledispatch.<locals>.wrapper\u001b[0;34m(*args, **kw)\u001b[0m\n\u001b[1;32m    885\u001b[0m \u001b[38;5;28;01mif\u001b[39;00m \u001b[38;5;129;01mnot\u001b[39;00m args:\n\u001b[1;32m    886\u001b[0m     \u001b[38;5;28;01mraise\u001b[39;00m \u001b[38;5;167;01mTypeError\u001b[39;00m(\u001b[38;5;124mf\u001b[39m\u001b[38;5;124m'\u001b[39m\u001b[38;5;132;01m{\u001b[39;00mfuncname\u001b[38;5;132;01m}\u001b[39;00m\u001b[38;5;124m requires at least \u001b[39m\u001b[38;5;124m'\u001b[39m\n\u001b[1;32m    887\u001b[0m                     \u001b[38;5;124m'\u001b[39m\u001b[38;5;124m1 positional argument\u001b[39m\u001b[38;5;124m'\u001b[39m)\n\u001b[0;32m--> 889\u001b[0m \u001b[38;5;28;01mreturn\u001b[39;00m \u001b[43mdispatch\u001b[49m\u001b[43m(\u001b[49m\u001b[43margs\u001b[49m\u001b[43m[\u001b[49m\u001b[38;5;241;43m0\u001b[39;49m\u001b[43m]\u001b[49m\u001b[38;5;241;43m.\u001b[39;49m\u001b[38;5;18;43m__class__\u001b[39;49m\u001b[43m)\u001b[49m\u001b[43m(\u001b[49m\u001b[38;5;241;43m*\u001b[39;49m\u001b[43margs\u001b[49m\u001b[43m,\u001b[49m\u001b[43m \u001b[49m\u001b[38;5;241;43m*\u001b[39;49m\u001b[38;5;241;43m*\u001b[39;49m\u001b[43mkw\u001b[49m\u001b[43m)\u001b[49m\n",
      "File \u001b[0;32m~/miniconda3/envs/py-bio/lib/python3.10/site-packages/scanpy/preprocessing/_simple.py:383\u001b[0m, in \u001b[0;36mlog1p_anndata\u001b[0;34m(adata, base, copy, chunked, chunk_size, layer, obsm)\u001b[0m\n\u001b[1;32m    381\u001b[0m \u001b[38;5;28;01melse\u001b[39;00m:\n\u001b[1;32m    382\u001b[0m     X \u001b[38;5;241m=\u001b[39m _get_obs_rep(adata, layer\u001b[38;5;241m=\u001b[39mlayer, obsm\u001b[38;5;241m=\u001b[39mobsm)\n\u001b[0;32m--> 383\u001b[0m     X \u001b[38;5;241m=\u001b[39m \u001b[43mlog1p\u001b[49m\u001b[43m(\u001b[49m\u001b[43mX\u001b[49m\u001b[43m,\u001b[49m\u001b[43m \u001b[49m\u001b[43mcopy\u001b[49m\u001b[38;5;241;43m=\u001b[39;49m\u001b[38;5;28;43;01mFalse\u001b[39;49;00m\u001b[43m,\u001b[49m\u001b[43m \u001b[49m\u001b[43mbase\u001b[49m\u001b[38;5;241;43m=\u001b[39;49m\u001b[43mbase\u001b[49m\u001b[43m)\u001b[49m\n\u001b[1;32m    384\u001b[0m     _set_obs_rep(adata, X, layer\u001b[38;5;241m=\u001b[39mlayer, obsm\u001b[38;5;241m=\u001b[39mobsm)\n\u001b[1;32m    386\u001b[0m adata\u001b[38;5;241m.\u001b[39muns[\u001b[38;5;124m\"\u001b[39m\u001b[38;5;124mlog1p\u001b[39m\u001b[38;5;124m\"\u001b[39m] \u001b[38;5;241m=\u001b[39m {\u001b[38;5;124m\"\u001b[39m\u001b[38;5;124mbase\u001b[39m\u001b[38;5;124m\"\u001b[39m: base}\n",
      "File \u001b[0;32m~/miniconda3/envs/py-bio/lib/python3.10/functools.py:889\u001b[0m, in \u001b[0;36msingledispatch.<locals>.wrapper\u001b[0;34m(*args, **kw)\u001b[0m\n\u001b[1;32m    885\u001b[0m \u001b[38;5;28;01mif\u001b[39;00m \u001b[38;5;129;01mnot\u001b[39;00m args:\n\u001b[1;32m    886\u001b[0m     \u001b[38;5;28;01mraise\u001b[39;00m \u001b[38;5;167;01mTypeError\u001b[39;00m(\u001b[38;5;124mf\u001b[39m\u001b[38;5;124m'\u001b[39m\u001b[38;5;132;01m{\u001b[39;00mfuncname\u001b[38;5;132;01m}\u001b[39;00m\u001b[38;5;124m requires at least \u001b[39m\u001b[38;5;124m'\u001b[39m\n\u001b[1;32m    887\u001b[0m                     \u001b[38;5;124m'\u001b[39m\u001b[38;5;124m1 positional argument\u001b[39m\u001b[38;5;124m'\u001b[39m)\n\u001b[0;32m--> 889\u001b[0m \u001b[38;5;28;01mreturn\u001b[39;00m \u001b[43mdispatch\u001b[49m\u001b[43m(\u001b[49m\u001b[43margs\u001b[49m\u001b[43m[\u001b[49m\u001b[38;5;241;43m0\u001b[39;49m\u001b[43m]\u001b[49m\u001b[38;5;241;43m.\u001b[39;49m\u001b[38;5;18;43m__class__\u001b[39;49m\u001b[43m)\u001b[49m\u001b[43m(\u001b[49m\u001b[38;5;241;43m*\u001b[39;49m\u001b[43margs\u001b[49m\u001b[43m,\u001b[49m\u001b[43m \u001b[49m\u001b[38;5;241;43m*\u001b[39;49m\u001b[38;5;241;43m*\u001b[39;49m\u001b[43mkw\u001b[49m\u001b[43m)\u001b[49m\n",
      "File \u001b[0;32m~/miniconda3/envs/py-bio/lib/python3.10/site-packages/scanpy/preprocessing/_simple.py:333\u001b[0m, in \u001b[0;36mlog1p_sparse\u001b[0;34m(X, base, copy)\u001b[0m\n\u001b[1;32m    331\u001b[0m \u001b[38;5;129m@log1p\u001b[39m\u001b[38;5;241m.\u001b[39mregister(spmatrix)\n\u001b[1;32m    332\u001b[0m \u001b[38;5;28;01mdef\u001b[39;00m \u001b[38;5;21mlog1p_sparse\u001b[39m(X, \u001b[38;5;241m*\u001b[39m, base: Optional[Number] \u001b[38;5;241m=\u001b[39m \u001b[38;5;28;01mNone\u001b[39;00m, copy: \u001b[38;5;28mbool\u001b[39m \u001b[38;5;241m=\u001b[39m \u001b[38;5;28;01mFalse\u001b[39;00m):\n\u001b[0;32m--> 333\u001b[0m     X \u001b[38;5;241m=\u001b[39m \u001b[43mcheck_array\u001b[49m\u001b[43m(\u001b[49m\n\u001b[1;32m    334\u001b[0m \u001b[43m        \u001b[49m\u001b[43mX\u001b[49m\u001b[43m,\u001b[49m\u001b[43m \u001b[49m\u001b[43maccept_sparse\u001b[49m\u001b[38;5;241;43m=\u001b[39;49m\u001b[43m(\u001b[49m\u001b[38;5;124;43m\"\u001b[39;49m\u001b[38;5;124;43mcsr\u001b[39;49m\u001b[38;5;124;43m\"\u001b[39;49m\u001b[43m,\u001b[49m\u001b[43m \u001b[49m\u001b[38;5;124;43m\"\u001b[39;49m\u001b[38;5;124;43mcsc\u001b[39;49m\u001b[38;5;124;43m\"\u001b[39;49m\u001b[43m)\u001b[49m\u001b[43m,\u001b[49m\u001b[43m \u001b[49m\u001b[43mdtype\u001b[49m\u001b[38;5;241;43m=\u001b[39;49m\u001b[43m(\u001b[49m\u001b[43mnp\u001b[49m\u001b[38;5;241;43m.\u001b[39;49m\u001b[43mfloat64\u001b[49m\u001b[43m,\u001b[49m\u001b[43m \u001b[49m\u001b[43mnp\u001b[49m\u001b[38;5;241;43m.\u001b[39;49m\u001b[43mfloat32\u001b[49m\u001b[43m)\u001b[49m\u001b[43m,\u001b[49m\u001b[43m \u001b[49m\u001b[43mcopy\u001b[49m\u001b[38;5;241;43m=\u001b[39;49m\u001b[43mcopy\u001b[49m\n\u001b[1;32m    335\u001b[0m \u001b[43m    \u001b[49m\u001b[43m)\u001b[49m\n\u001b[1;32m    336\u001b[0m     X\u001b[38;5;241m.\u001b[39mdata \u001b[38;5;241m=\u001b[39m log1p(X\u001b[38;5;241m.\u001b[39mdata, copy\u001b[38;5;241m=\u001b[39m\u001b[38;5;28;01mFalse\u001b[39;00m, base\u001b[38;5;241m=\u001b[39mbase)\n\u001b[1;32m    337\u001b[0m     \u001b[38;5;28;01mreturn\u001b[39;00m X\n",
      "File \u001b[0;32m~/miniconda3/envs/py-bio/lib/python3.10/site-packages/sklearn/utils/validation.py:1026\u001b[0m, in \u001b[0;36mcheck_array\u001b[0;34m(array, accept_sparse, accept_large_sparse, dtype, order, copy, force_all_finite, ensure_2d, allow_nd, ensure_min_samples, ensure_min_features, estimator, input_name)\u001b[0m\n\u001b[1;32m   1024\u001b[0m     n_samples \u001b[38;5;241m=\u001b[39m _num_samples(array)\n\u001b[1;32m   1025\u001b[0m     \u001b[38;5;28;01mif\u001b[39;00m n_samples \u001b[38;5;241m<\u001b[39m ensure_min_samples:\n\u001b[0;32m-> 1026\u001b[0m         \u001b[38;5;28;01mraise\u001b[39;00m \u001b[38;5;167;01mValueError\u001b[39;00m(\n\u001b[1;32m   1027\u001b[0m             \u001b[38;5;124m\"\u001b[39m\u001b[38;5;124mFound array with \u001b[39m\u001b[38;5;132;01m%d\u001b[39;00m\u001b[38;5;124m sample(s) (shape=\u001b[39m\u001b[38;5;132;01m%s\u001b[39;00m\u001b[38;5;124m) while a\u001b[39m\u001b[38;5;124m\"\u001b[39m\n\u001b[1;32m   1028\u001b[0m             \u001b[38;5;124m\"\u001b[39m\u001b[38;5;124m minimum of \u001b[39m\u001b[38;5;132;01m%d\u001b[39;00m\u001b[38;5;124m is required\u001b[39m\u001b[38;5;132;01m%s\u001b[39;00m\u001b[38;5;124m.\u001b[39m\u001b[38;5;124m\"\u001b[39m\n\u001b[1;32m   1029\u001b[0m             \u001b[38;5;241m%\u001b[39m (n_samples, array\u001b[38;5;241m.\u001b[39mshape, ensure_min_samples, context)\n\u001b[1;32m   1030\u001b[0m         )\n\u001b[1;32m   1032\u001b[0m \u001b[38;5;28;01mif\u001b[39;00m ensure_min_features \u001b[38;5;241m>\u001b[39m \u001b[38;5;241m0\u001b[39m \u001b[38;5;129;01mand\u001b[39;00m array\u001b[38;5;241m.\u001b[39mndim \u001b[38;5;241m==\u001b[39m \u001b[38;5;241m2\u001b[39m:\n\u001b[1;32m   1033\u001b[0m     n_features \u001b[38;5;241m=\u001b[39m array\u001b[38;5;241m.\u001b[39mshape[\u001b[38;5;241m1\u001b[39m]\n",
      "\u001b[0;31mValueError\u001b[0m: Found array with 0 sample(s) (shape=(0, 0)) while a minimum of 1 is required."
     ]
    },
    {
     "data": {
      "image/png": "[encoded data removed]",
      "text/plain": [
       "<Figure size 500x500 with 6 Axes>"
      ]
     },
     "metadata": {},
     "output_type": "display_data"
    },
    {
     "data": {
      "image/png": "[encoded data removed]",
      "text/plain": [
       "<Figure size 500x500 with 1 Axes>"
      ]
     },
     "metadata": {},
     "output_type": "display_data"
    },
    {
     "data": {
      "image/png": "[encoded data removed]",
      "text/plain": [
       "<Figure size 600x600 with 3 Axes>"
      ]
     },
     "metadata": {},
     "output_type": "display_data"
    }
   ],
   "source": [
    "if skip_preprocessing_clustering is False:\n",
    "    process_kws = dict(\n",
    "        kws_hvg=dict(min_mean=0.0125, max_mean=10, min_disp=0.5, \n",
    "                     flavor=\"cell_ranger\"),  # for highly-variable gene fx\n",
    "        target_sum=1e4,  # total-count normalization (1e4=10,000/cell)\n",
    "        cell_filter_pmt=[0, 30],  # range of mitchondrial gene % allowed\n",
    "        cell_filter_ngene=[200, None],  # cells: min/max genes expressed\n",
    "        cell_filter_ncounts=[3, 40000],  # cells: min/max read range\n",
    "        gene_filter_ncell=[3, None],  # genes: min/max cell count range\n",
    "        regress_out=None,  # don't regress out confounds like pct_mt\n",
    "        kws_scale=\"z\")  # z-score w.r.t control means/SDs\n",
    "        # kws_scale=True)  # or just overall center/standardize GEX\n",
    "        # kws_scale=10)  # (use integer to also place a max_value)\n",
    "    print(process_kws)\n",
    "    self.preprocess(**process_kws, kws_umap=kws_umap)  # preprocessing \n",
    "    self.rna.obs"
   ]
  },
  {
   "cell_type": "markdown",
   "metadata": {},
   "source": [
    "## Clustering\n",
    "\n",
    "In this section, we'll perform steps related to clustering/annotation of cell types.\n",
    "\n",
    "### Leiden Clustering\n",
    "\n",
    "Let's perform dimensionality reduction (PCA) and cluster the data using the \"leiden\" method. "
   ]
  },
  {
   "cell_type": "code",
   "execution_count": null,
   "metadata": {},
   "outputs": [],
   "source": [
    "if skip_preprocessing_clustering is False:\n",
    "    self.cluster(method_cluster=\"leiden\", resolution=0.5,\n",
    "                 kws_pca=dict(n_comps=None, use_highly_variable=True), \n",
    "                 kws_umap=kws_umap, kws_neighbors=None, kws_cluster=None)"
   ]
  },
  {
   "cell_type": "markdown",
   "metadata": {},
   "source": [
    "### Find Cluster Markers (DEGs)\n",
    "\n",
    "To sort by absolute values on \"scores\" for cluster 6, showing the top 3 gene markers:\n",
    "\n",
    "`clus = \"6\"`\n",
    "\n",
    "`marks.loc[clus].loc[marks.loc[clus].scores.abs().sort_values(ascending=False).iloc[:3].index]`\n",
    "\n",
    "To show the top 3 gene markers for all clusters:\n",
    "\n",
    "`marks.groupby(marks.index.names[0]).apply(lambda x: x.scores.abs().sort_values(ascending=False).iloc[:3].index])`"
   ]
  },
  {
   "cell_type": "code",
   "execution_count": null,
   "metadata": {},
   "outputs": [],
   "source": [
    "degs = self.find_markers(n_genes=10, method=\"wilcoxon\", key_reference=\"rest\")\n",
    "degs[0]  # degs[1] for figures"
   ]
  },
  {
   "cell_type": "markdown",
   "metadata": {},
   "source": [
    "### CellTypist Annotations\n",
    "\n",
    "Now let's detect cell types using `CellTypist`.\n",
    "\n",
    "You can provide a CellTypist model name as a string, or **to train your own custom model**, provide an `AnnData` object with the training data and, if cell type column names differ across training and main data (in `self`) or if you want to pass additional arguments to `celltypist.train()`, then provide a dictionary of arguments to `kws_train`. (Cell type name can be under `labels` or `col_cell_type` in this dictonary.)\n",
    "\n",
    "**We will use an aribtrary model just for illustration, but you should pick one that suits your data.**\n",
    "\n",
    "You can see what models are available with this code:\n",
    "```\n",
    "import celltypist\n",
    "celltypist.models.models_description().set_index(\"model\").description.apply(lambda x: print(x))\n",
    "celltypist.models.models_description()\n",
    "```\n",
    "\n",
    "Or it will show you valid models automatically after the error message if you feed it an unknown model:\n",
    "\n",
    "```\n",
    "self.annotate_clusters(model=\"kate_moss.pkl\")\n",
    "```"
   ]
  },
  {
   "cell_type": "code",
   "execution_count": null,
   "metadata": {},
   "outputs": [],
   "source": [
    "_ = self.annotate_clusters(\"COVID19_HumanChallenge_Blood.pkl\")\n",
    "# THIS MODEL IS JUST FOR ILLUSTRATION\n",
    "# YOU SHOULD CHOOSE ONE THAT MAKES SENSE FOR YOUR DATA\n",
    "self.rna.obs"
   ]
  },
  {
   "cell_type": "markdown",
   "metadata": {},
   "source": [
    "# Inspection\n",
    "\n",
    "First, you can easily print the `.adata` representation, the gene expression modality `.obs` preview, and columns and keys stored in the object's attributes using the `print()` method."
   ]
  },
  {
   "cell_type": "code",
   "execution_count": null,
   "metadata": {},
   "outputs": [],
   "source": [
    "self.print()"
   ]
  },
  {
   "cell_type": "markdown",
   "metadata": {},
   "source": [
    "## Set Up Arguments for Later\n",
    "\n",
    "\n",
    "This code looks more complicated than it actually would actually be for an end user because it was made to be generalizable across several datasets with particular column names, sizes that make it necessary to subset them in order to run the vignettes in a reasonable period of time, etc.\n",
    "\n",
    "Basically, you won't need this code as an end user; this is just to choose random subsets of genes and perturbations, etc. that are available in a given example dataset.\n",
    "\n",
    "In real use cases, you will know what genes and conditions are of interest, and you can manually specify them by simply stating them in the appropriate arguments (such as `target_gene_idents`) or (in many cases) by not specifying the argument (resulting in the code using all available genes, etc.)."
   ]
  },
  {
   "cell_type": "code",
   "execution_count": null,
   "metadata": {},
   "outputs": [],
   "source": [
    "genes = self.rna.var.reset_index()[self._columns[\"col_gene_symbols\"]]\n",
    "if file == \"CRISPRi_scr\":\n",
    "    genes_subset = [\n",
    "        \"CDKN2A\", \"CDKN1A\", \"PLAUR\", \"TP53\", \"IL6ST\", \"IL1A\", \"CXCL8\", \"CCL2\", \n",
    "        \"CEBPB\", \"NFKB1\", \"IGFBP7\", \"BCL2\", \"ERCC1\", \"ERCC4\", \"PTGER4\", \n",
    "        \"TGFB1\", \"ATG16L1\", \"NOD2\", \"LACC1\"]\n",
    "    genes_subset = list(set(genes_subset).intersection(genes))\n",
    "else:\n",
    "    genes_subset = list(pd.Series(genes).sample(10))\n",
    "target_gene_idents = list(self.obs[self._columns[\n",
    "    \"col_target_genes\"]].sample(10))  # 10 random guide gene targets"
   ]
  },
  {
   "cell_type": "markdown",
   "metadata": {},
   "source": [
    "## Explore Data Descriptives\n",
    "\n",
    "You can plot and explore descriptives using the `describe()` method."
   ]
  },
  {
   "cell_type": "code",
   "execution_count": null,
   "metadata": {},
   "outputs": [],
   "source": [
    "_ = self.describe()  # simple\n",
    "# _ = self.describe(group_by=self._columns[\"col_target_genes\"], plot=True)"
   ]
  },
  {
   "cell_type": "markdown",
   "metadata": {},
   "source": [
    "# Plots\n",
    "\n",
    "Create plots applicable to scRNA-seq data broadly (e.g., UMAP, dotplots) without having to do any perturbation-specific analyses.\n",
    "\n",
    "## Basic Usage\n",
    "\n",
    "You can create simple plots easily without having to remember a bunch of arguments to specify! \n",
    "\n",
    "The most useful is the `genes` argument, which allows you to subset the number of features plotted (useful for spead and layout/interpretability of plots)."
   ]
  },
  {
   "cell_type": "code",
   "execution_count": null,
   "metadata": {},
   "outputs": [],
   "source": [
    "# figs = self.plot(genes=[\"gene A\", \"gene B\"...])  # to specify specific genes\n",
    "figs = self.plot(genes=24)  # to specify random subset of this # of genes"
   ]
  },
  {
   "cell_type": "markdown",
   "metadata": {},
   "source": [
    "## Advanced Usage\n",
    "\n",
    "Use the `layers` argument to plot more layers (in this instance, all of them, including the scaled data) for certain plot types.\n",
    " \n",
    "Use the `cell_types_circle` argument to create a UMAP with certain cell types circled in red.\n",
    "\n",
    "Use the `genes_highlight` argument to highlight in gold the names of specified genes on the gene expression dot plot.\n",
    "\n",
    "Use the `kws_clustering` argument to specify a dictionary keywords to pass to certain UMAP-based plots. For instance, specify `kws_clustering=dict(col_cell_type=\"leiden\")` to use leiden clusters instead of whatever is stored in `self._columns[\"col_cell_type\"]`.\n",
    "\n",
    "Use the `kws_gex_violin` argument to pass additional arguments to the violin plots of gene expression."
   ]
  },
  {
   "cell_type": "code",
   "execution_count": null,
   "metadata": {},
   "outputs": [],
   "source": [
    "cct = \"predicted_labels\" if \"predicted_labels\" in self.rna.obs else None\n",
    "clus = list(self.rna.obs[cct].sample(2))  # clusters to circle\n",
    "figs = self.plot(genes=36, \n",
    "                 col_cell_type=cct,\n",
    "                 cell_types_circle=clus,  # list cell types to circle on UMAP\n",
    "                 genes_highlight=list(np.array(genes_subset)[1:3]), \n",
    "                 kws_gex_violin=dict(scale=\"area\", height=10),\n",
    "                 kws_umap=dict(col_cell_type=cct))"
   ]
  },
  {
   "cell_type": "markdown",
   "metadata": {},
   "source": [
    "## Specific Plots\n",
    "\n",
    "Use the package visualization sub-module function to make specific, customizable plots. \n",
    "\n",
    "Use arguments creatively to customize. For example, set the `col_cell_type` argument to the name of the perturbation condition column in the `plot_gex()` function to plot gene expression across perturbation conditions instead of cell types.\n",
    "\n",
    "Use `kws_<kind>` (replacing <kind> with the plot type, e.g., `kws_dot`) arguments to specify a dictionary of keyword arguments to pass to a Scanpy plotting functions (e.g., https://scanpy.readthedocs.io/en/stable/generated/scanpy.pl.dotplot.html) for further customization."
   ]
  },
  {
   "cell_type": "code",
   "execution_count": null,
   "metadata": {},
   "outputs": [],
   "source": [
    "# Scanpy Figure Defaults\n",
    "sc.set_figure_params(scanpy=True, dpi=100, dpi_save=200, frameon=True, \n",
    "                     fontsize=8, figsize=(20, 40), color_map=None, \n",
    "                     format=\"pdf\", facecolor=None, transparent=False)\n",
    "\n",
    "# Simple GEX Heatmap by Cell Type\n",
    "fig = self.plot(kind=\"hm\", genes=genes_subset, figsize=(60, 60))\n",
    "\n",
    "# Argument to Subset Data to Target Genes of Interest\n",
    "target_gene_idents = [\"NOD2\", \"LACC1\", \"ATG16L1\", \"SP100\", \"NT\"]\n",
    "subset = list(self.rna.obs[self._columns[\"col_condition\"]].isin(\n",
    "    target_gene_idents))\n",
    "\n",
    "# Dot Plot\n",
    "fig = self.plot([\"FTL\", \"FTH1\", \"STAT1\", \"CCL5\"], \n",
    "                subset=subset, kind=\"dot\",  # specify dot plot\n",
    "                col_cell_type=self._columns[\"col_condition\"])\n",
    "\n",
    "# Dot Plot with Genes Grouped & Labeled\n",
    "marker_genes_dict = {\"Monocyte\": [\"FCGR3A\", \"FCN1\", \"S100A4\", \"S100A6\"],\n",
    "                     \"B\": [\"CD79A\", \"CD19\"]\n",
    "                     }  # labeled ~ cell type here, but labels can be anything\n",
    "fig = self.plot(subset=subset, kind=\"dot\",  # specify dot plot\n",
    "                col_cell_type=self._columns[\"col_condition\"], \n",
    "                marker_genes_dict=marker_genes_dict)\n",
    "\n",
    "# Heatmap\n",
    "fig = self.plot(subset=subset, kind=\"hm\",  # specify heatmap plot\n",
    "                col_cell_type=self._columns[\"col_condition\"], \n",
    "                genes=genes_subset, figsize=(60, 60), layer=\"scaled\")\n",
    "\n",
    "# Matrix Plot\n",
    "fig = self.plot(subset=subset, kind=\"matrix\",  # specify heatmap plot\n",
    "                col_cell_type=self._columns[\"col_condition\"], \n",
    "                genes=genes_subset, layer=\"scaled\", figsize=(60, 60))"
   ]
  },
  {
   "cell_type": "markdown",
   "metadata": {},
   "source": [
    "# Analyses\n",
    "\n",
    "The following examples concern CRISPR or other perturbation design-specific analyses."
   ]
  },
  {
   "cell_type": "markdown",
   "metadata": {},
   "source": [
    "## Guide RNA Counts/Percentage"
   ]
  },
  {
   "cell_type": "code",
   "execution_count": null,
   "metadata": {},
   "outputs": [],
   "source": [
    "# Choose Subset of Target Genes (optional)\n",
    "tgis = list(pd.Series(target_gene_idents).sample(3)) if len(\n",
    "    target_gene_idents) > 3 else target_gene_idents  # smaller subset = faster\n",
    "cct = \"majority_voting\" if \"majority_voting\" in self.rna.obs else None\n",
    "\n",
    "# Guide RNA Counts\n",
    "_ = self.get_guide_rna_counts(target_gene_idents=tgis)\n",
    "\n",
    "# ...By Cell Type\n",
    "_ = self.get_guide_rna_counts(target_gene_idents=tgis, group_by=cct)\n",
    "\n",
    "# # ...By Target Gene Ultimately Assigned\n",
    "# _ = self.get_guide_rna_counts(target_gene_idents=tgis, \n",
    "#                               group_by=self._columns[\"col_target_genes\"])\n",
    "\n",
    "# ...By Cell Type & Target Gene Ultimately Assigned\n",
    "_ = self.get_guide_rna_counts(target_gene_idents=tgis, group_by=[\n",
    "    cct, self._columns[\"col_target_genes\"]], margin_titles=True)"
   ]
  },
  {
   "cell_type": "markdown",
   "metadata": {},
   "source": [
    "## Distance\n",
    "\n",
    "Distance Metrics\n",
    "\n",
    "See `self.figures[\"distances\"]` and  `self.results[\"distances\"]` for results."
   ]
  },
  {
   "cell_type": "code",
   "execution_count": null,
   "metadata": {},
   "outputs": [],
   "source": [
    "for x in [\"mmd\", \"edistance\"]:\n",
    "    _ = self.compute_distance(distance_type=x, method=\"X_pca\", kws_plot=dict(\n",
    "        figsize=(15, 15), robust=True))"
   ]
  },
  {
   "cell_type": "markdown",
   "metadata": {},
   "source": [
    "## Augur: Perturbation Responses by Cell Type\n",
    "\n",
    "**Which cell types are most affected by perturbations?** Quantify perturbation responses by cell type with Augur, which uses supervised machine learning classification of experimental condition labels (e.g., treated versus untreated). The more separable the condition among cells of a given type, the higher the perturbation effect score.\n",
    "\n",
    "<u> __Features__ </u>  \n",
    "\n",
    "- Quantify and visualize degree of perturbation response by cell type\n",
    "- Identify the most important features (genes).\n",
    "\n",
    "<u> __Input__ </u>  \n",
    "\n",
    "There are no required arguments. \n",
    "* If you want to override defaults drawn from `._columns` and/or `._keys`, specify the appropriate argument (e.g., `col_cell_type`). \n",
    "* You can also specify a different `classifer` (default \"random_forest_classifer\") used in the machine learning classification procedure used to calculate the AUCs/accuracy. \n",
    "* You may pass keyword arguments to the Augur predict method by specifying a dictionary in `kws_augur_predict`.\n",
    "* Specify `select_variance_features` as True to run the original Augur implementation, which removes genes that don't vary much across cell type. If False, use features selected by `scanpy.pp.highly_variable_genes()`, which is faster and sensitively recovers effects; however, the feature selection may yield inflated Augur scores because this reduced feature set is used in training, resulting in it taking advantage of the pre-existing power of this feature selection to separate cell types.\n",
    "* Specify `n_folds` and/or `subsample_size` to choose the number and sample size of folds in cross-validation.\n",
    "* Set an integer for `seed` to allow reproducibility across runs.\n",
    "\n",
    "<u> __Output__ </u>  \n",
    "\n",
    "Tuple, where the first element is the AnnData object created by the function, the second, the results dictionary, and the third, a dictionary of figures visualizing results. If copy is False (default), these outputs can also be found in `.results[\"augur\"]` and `.figures[\"augur\"]`.\n",
    "\n",
    "<u> __Notes__ </u>  \n",
    "\n",
    "- Sub-sample sizes equal across conditions; does not account for perturbation-induced compositional shifts (cell type abundance)\n",
    "- Scores are for cell types (aggregated across cells, not individual cells)\n",
    "- Two modes\n",
    "    - If select_variance_feature=True, \n",
    "    - If False, you also have to be sure that \"highly_variable_features\" is a variable in your data. This can be complicated if you have a separate layer for perturbation data."
   ]
  },
  {
   "cell_type": "code",
   "execution_count": null,
   "metadata": {},
   "outputs": [],
   "source": [
    "cct = \"majority_voting\" if \"majority_voting\" in self.rna.obs else \\\n",
    "    self._columns[\"col_cell_type\"]\n",
    "_ = self.run_augur(\n",
    "    col_cell_type=cct, \n",
    "    # ^ will be label in self._columns by default, but can override here\n",
    "    col_perturbed=self._columns[\"col_perturbed\"], \n",
    "    # ^ will be this by default if unspecified, but can override here\n",
    "    key_treatment=self._keys[\"key_treatment\"],  \n",
    "    # ^ will be this by default if unspecified, but can o verride here\n",
    "    select_variance_features=True,  # filter by highly variable genes\n",
    "    classifier=\"random_forest_classifier\", n_folds=3, augur_mode=\"default\", \n",
    "    kws_umap=kws_umap, subsample_size=5, kws_augur_predict=dict(span=0.7),\n",
    "    n_threads=None)"
   ]
  },
  {
   "cell_type": "markdown",
   "metadata": {},
   "source": [
    "## Mixscape: Cell-Level Perturbation Classification & Scoring\n",
    "\n",
    "**Is a perturbed cell detectibly perturbed, and to what extent?** Mixscape first calculates the \"**perturbation signature**\" by determining which control condition cells most closely resemble each perturbed cell in terms of mRNA expression and then subtracts the control expression from that of the perturbed cells' (i.e., centers perturbed cells' gene expression on their control neighbors).\n",
    "\n",
    "Then, it **identifies** and removes perturbed **cells with no detectible perturbation** (i.e., assigns them to predicted classes of perturbed versus not perturbed). You can then create visuals based on whether the cell is detectibly perturbed, \"non-perturbed\" (not detectibly perturbed), or control (no treatment). Optionally, you can visualize protein expression by this predicted class in certain multi-modal data.\n",
    "\n",
    "**Are there perturbation-specific clusters?** Mixscape uses linear discriminant analysis (LDA) to cluster cells that resemble each other in terms of gene expression and perturbation condition. _(LDA reduces dimensionality and attempts to maximize the separability of classes. Unperturbed cells are removed from analysis.)_ \n",
    "\n",
    "<u> __Features__ </u>  \n",
    "\n",
    "- Plot targeting efficiency.\n",
    "- Remove confounds (e.g., cell cycle, batch effects)\n",
    "- Classify cells as affected or unaffected (i.e., \"escapees\") by the perturbation\n",
    "- Quantify and visualize degree of perturbation response\n",
    "\n",
    "<u> __Input__ </u> \n",
    "\n",
    "See documentation, but the key arguments are listed here.\n",
    "\n",
    "* **col_cell_type**: If you want to run using a different cell classification column, (e.g., CellTypist annotations that weren't used for the original `self._columns[\"col_cell_type\"]``), you can specify a different column by passing `col_cell_type=<column name>` if you'd like.\n",
    "* **target_gene_idents**: A list of gene symbols to focus on in plots/analyses. Specify as True to include all.\n",
    "* **target_gene_idents**: The default layer of data used is \"log1p.\" Remember that Mixscape centers cells on their control neighbors when considering whether to use centered and/or scaled data.\n",
    "\n",
    "<u> __Output__ </u>  \n",
    "\n",
    "Assuming your `Crispr` object is named \"self\":\n",
    "- Targeting Efficiency: `self.figures[\"mixscape\"][\"targeting_efficiency\"]`\n",
    "- Differential Expression Ordered by Posterior Probabilities: `self.figures[\"mixscape\"][\"DEX_ordered_by_ppp_heat\"]`\n",
    "- Posterior Probabilities Violin Plot: `self.figures[\"mixscape\"][\"ppp_violin\"]`\n",
    "- Perturbation Scores: `self.figures[\"mixscape\"][\"perturbation_score\"]`\n",
    "- Perturbation Clusters (from LDA): `self.figures[\"mixscape\"][\"perturbation_clusters\"]`\n",
    "\n",
    "The above instructions are for accessing output via the object attributes. Assuming output is assigned to a variable `figs` (i.e., `figs = ` would replace the `_ = ` in the code below), replace `self.figures[\"mixscape\"]` in the above code with `figs`.\n",
    "\n",
    "<u> __Notes__ </u>  \n",
    "\n",
    "- If `._columns[\"col_sample_id\"]` is not None, perturbation scores will by default be calculated and/or plotted taking that into consideration (e.g., biological replicates) unless `col_split_by=False`. That argument can also be set to a different column name explicitly, in which case that specification will be used as the `col_split_by` argument in Pertpy Mixscape functions in place of sample ID."
   ]
  },
  {
   "cell_type": "markdown",
   "metadata": {},
   "source": [
    "#### Run Mixscape"
   ]
  },
  {
   "cell_type": "code",
   "execution_count": null,
   "metadata": {},
   "outputs": [],
   "source": [
    "cct = \"predicted_labels\" if \"predicted_labels\" in self.rna.obs else None\n",
    "tgis = list(self.rna.obs[self._columns[\"col_target_genes\"]].sample(3))\n",
    "_ = self.run_mixscape(col_cell_type=cct, target_gene_idents=tgis)\n",
    "# _ = self.run_mixscape(target_gene_idents=True)  # plot all target genes"
   ]
  },
  {
   "cell_type": "markdown",
   "metadata": {},
   "source": [
    "#### Create Different Mixscape Plots\n",
    "\n",
    "If you want to re-create mixscape **plots with <u> different target genes and/or proteins of interest**</u> later, you can use `self.plot_mixscape(<ONE OR MORE TARGET GENES>)`. If you want a different color for the perturbation score curves, specify `color=` in that method."
   ]
  },
  {
   "cell_type": "code",
   "execution_count": null,
   "metadata": {},
   "outputs": [],
   "source": [
    "tgis = pd.Series(self.rna.uns[\"mixscape\"].keys()).sample(1)\n",
    "_ = self.plot_mixscape(tgis, color=\"red\")"
   ]
  },
  {
   "cell_type": "markdown",
   "metadata": {},
   "source": [
    "## Multi-Cellular Programs (Dialogue)"
   ]
  },
  {
   "cell_type": "code",
   "execution_count": null,
   "metadata": {},
   "outputs": [],
   "source": [
    "cct = \"majority_voting\" if \"majority_voting\" in self.rna.obs else \\\n",
    "    self._columns[\"col_cell_type\"]\n",
    "fig_mcp = self.run_dialogue(n_programs=4, cmap=\"coolwarm\")"
   ]
  }
 ],
 "metadata": {
  "kernelspec": {
   "display_name": "py-bio",
   "language": "python",
   "name": "python3"
  },
  "language_info": {
   "codemirror_mode": {
    "name": "ipython",
    "version": 3
   },
   "file_extension": ".py",
   "mimetype": "text/x-python",
   "name": "python",
   "nbconvert_exporter": "python",
   "pygments_lexer": "ipython3",
   "version": "3.10.4"
  },
  "orig_nbformat": 4
 },
 "nbformat": 4,
 "nbformat_minor": 2
}
