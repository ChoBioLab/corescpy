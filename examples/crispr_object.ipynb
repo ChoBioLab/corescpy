{
 "cells": [
  {
   "cell_type": "markdown",
   "metadata": {},
   "source": [
    "# Setup"
   ]
  },
  {
   "cell_type": "code",
   "execution_count": 1,
   "metadata": {},
   "outputs": [
    {
     "name": "stdout",
     "output_type": "stream",
     "text": [
      "['__builtins__', '__cached__', '__doc__', '__file__', '__loader__', '__name__', '__package__', '__path__', '__spec__', 'analyze_composition', 'cluster', 'clustering', 'compute_distance', 'perform_augur', 'perform_differential_prioritization', 'perform_mixscape', 'perturbations']\n",
      "{'CRISPRi_scr': '/home/asline01/projects/crispr/examples/data/crispr-screening/filtered_feature_bc_matrix_HH06.h5', 'CRISPRi_wgs': '/home/asline01/projects/crispr/examples/data/replogle_2022_k562_gwps.h5ad', 'CRISPRi_ess': '/home/asline01/projects/crispr/examples/data/replogle_2022_k562_esss.h5ad', 'pool': '/home/asline01/projects/crispr/examples/data/norman_2019_raw.h5ad', 'bulk': '/home/asline01/projects/crispr/examples/data/burczynski_crohn.h5ad', 'screen': '/home/asline01/projects/crispr/examples/data/dixit_2016_raw.h5ad', 'perturb-seq': '/home/asline01/projects/crispr/examples/data/adamson_2016_upr_perturb_seq.h5ad', 'ECCITE': '/home/asline01/projects/crispr/examples/data/papalexi_2021.h5ad', 'coda': '/home/asline01/projects/crispr/examples/data/haber_2017_regions.h5ad', 'CRISPRa': '/home/asline01/projects/crispr/examples/data/tian_2021_crispra.h5ad', 'augur_ex': '/home/asline01/projects/crispr/examples/data/bhattacherjee.h5ad'}\n"
     ]
    }
   ],
   "source": [
    "import crispr as cr \n",
    "from crispr.crispr_class import Crispr\n",
    "import pertpy\n",
    "import muon\n",
    "import os\n",
    "import pandas as pd\n",
    "import numpy as np\n",
    "from config import (files_data, col_cell_type_data, col_gene_symbols_data, \n",
    "                    assays_data, layer_perturbation_data,\n",
    "                    col_perturbation_data, key_control_data, \n",
    "                    col_split_by_data, layer_perturbation_data,\n",
    "                    label_perturbation_type_data, col_target_genes_data,\n",
    "                    key_treatment_data, col_guide_rna_data, col_batch_data,\n",
    "                    col_sample_id_data, load_example_data)\n",
    "\n",
    "# Options\n",
    "skip_preprocessing_clustering = False  # to skip these steps\n",
    "print(dir(cr.ax))\n",
    "# file = \"CRISPRi_scr\"\n",
    "# file = \"CRISPRi_ess\"\n",
    "file = \"ECCITE\"\n",
    "# file = \"augur_ex\"\n",
    "# file = \"screen\"\n",
    "# file = \"coda\"\n",
    "# file = \"perturb-seq\"\n",
    "write_public = True  # if need to download public data, write to examples/data?\n",
    "\n",
    "#  Set Arguments\n",
    "col_cell_type = col_cell_type_data[file]\n",
    "col_sample_id = col_sample_id_data[file]\n",
    "col_perturbation = col_perturbation_data[file]\n",
    "col_target_genes = col_target_genes_data[file]\n",
    "key_control, label_perturbation_type, layer = [\n",
    "    x[file] for x in [key_control_data, label_perturbation_type_data,\n",
    "                      layer_perturbation_data]\n",
    "]\n",
    "col_gene_symbols = col_gene_symbols_data[file]\n",
    "if file in assays_data:\n",
    "    if isinstance(assays_data[file], str) or assays_data[file] is None:\n",
    "        assays_data[file] = [assays_data[file], None]\n",
    "    assay, assay_protein = assays_data[file]\n",
    "else:\n",
    "    assay, assay_protein = None\n",
    "key_treatment = key_treatment_data[file]\n",
    "col_split_by = col_split_by_data[file]\n",
    "col_guide_rna = col_guide_rna_data[file]\n",
    "layer_perturbation = layer_perturbation_data[file]\n",
    "file_path = files_data[file]\n",
    "col_batch = col_batch_data[file]\n",
    "kwargs_init = dict(assay=assay, assay_protein=assay_protein,\n",
    "                   col_gene_symbols=col_gene_symbols, \n",
    "                   col_cell_type=col_cell_type, col_sample_id=col_sample_id, \n",
    "                   col_perturbation=col_perturbation, col_guide_rna=col_guide_rna,\n",
    "                   col_target_genes=col_target_genes, col_batch=col_batch,\n",
    "                   layer_perturbation=layer_perturbation,\n",
    "                   label_perturbation_type=label_perturbation_type,\n",
    "                   key_control=key_control, key_treatment=key_treatment)\n",
    "print(files_data)"
   ]
  },
  {
   "cell_type": "markdown",
   "metadata": {},
   "source": [
    "# Setup Object\n",
    "\n",
    "## Instantiate"
   ]
  },
  {
   "cell_type": "code",
   "execution_count": 2,
   "metadata": {},
   "outputs": [
    {
     "name": "stdout",
     "output_type": "stream",
     "text": [
      "Initialization keyword arguments (from config):\n",
      "{'assay': 'rna', 'assay_protein': 'adt', 'col_gene_symbols': None, 'col_cell_type': 'leiden', 'col_sample_id': 'orig.ident', 'col_perturbation': 'perturbation', 'col_guide_rna': 'guide_ID', 'col_target_genes': 'gene_target', 'col_batch': nan, 'layer_perturbation': 'X_pert', 'label_perturbation_type': 'KO', 'key_control': 'NT', 'key_treatment': 'Perturbed'}\n",
      "\n",
      "<<< LOADING OBJECT>>>\n",
      "\n",
      "\n",
      " MuData object with n_obs × n_vars = 20729 × 18776\n",
      "  4 modalities\n",
      "    rna:\t20729 x 18649\n",
      "      obs:\t'orig.ident', 'nCount_RNA', 'nFeature_RNA', 'nCount_HTO', 'nFeature_HTO', 'nCount_GDO', 'nCount_ADT', 'nFeature_ADT', 'percent.mito', 'MULTI_ID', 'HTO_classification', 'guide_ID', 'gene_target', 'NT', 'perturbation', 'replicate', 'S.Score', 'G2M.Score', 'Phase'\n",
      "      var:\t'name'\n",
      "    adt:\t20729 x 4\n",
      "      obs:\t'orig.ident', 'nCount_RNA', 'nFeature_RNA', 'nCount_HTO', 'nFeature_HTO', 'nCount_GDO', 'nCount_ADT', 'nFeature_ADT', 'percent.mito', 'MULTI_ID', 'HTO_classification', 'guide_ID', 'gene_target', 'NT', 'perturbation', 'replicate', 'S.Score', 'G2M.Score', 'Phase'\n",
      "      var:\t'name'\n",
      "    hto:\t20729 x 12\n",
      "      obs:\t'orig.ident', 'nCount_RNA', 'nFeature_RNA', 'nCount_HTO', 'nFeature_HTO', 'nCount_GDO', 'nCount_ADT', 'nFeature_ADT', 'percent.mito', 'MULTI_ID', 'HTO_classification', 'guide_ID', 'gene_target', 'NT', 'perturbation', 'replicate', 'S.Score', 'G2M.Score', 'Phase'\n",
      "      var:\t'name'\n",
      "    gdo:\t20729 x 111\n",
      "      obs:\t'orig.ident', 'nCount_RNA', 'nFeature_RNA', 'nCount_HTO', 'nFeature_HTO', 'nCount_GDO', 'nCount_ADT', 'nFeature_ADT', 'percent.mito', 'MULTI_ID', 'HTO_classification', 'guide_ID', 'gene_target', 'NT', 'perturbation', 'replicate', 'S.Score', 'G2M.Score', 'Phase'\n",
      "      var:\t'name'\n"
     ]
    }
   ],
   "source": [
    "# Initialize Object\n",
    "print(f\"Initialization keyword arguments (from config):\\n{kwargs_init}\")\n",
    "if skip_preprocessing_clustering:\n",
    "    file_path_new = os.path.splitext(file_path)[0] + \"_processed\" + \".h5ad\"\n",
    "    if os.path.exists(file_path_new):\n",
    "        file_path = os.path.splitext(file_path)[0] + \"_processed\" + \".h5ad\"\n",
    "    else:\n",
    "        print(f\"Can't skip. {file_path_new} does not exist.\")\n",
    "        skip_preprocessing_clustering\n",
    "if file == \"ECCITE\":\n",
    "    ann = Crispr(pertpy.data.papalexi_2021(), **kwargs_init)\n",
    "else:\n",
    "    ann = Crispr(file_path, **kwargs_init)\n",
    "    \n",
    "# Make New Variable\n",
    "if file == \"CRISPRi_ess\":\n",
    "    ann.adata.obs[ann._columns[\"col_target_genes\"]] = ann.adata.obs[\n",
    "        col_target_genes].astype(str).str.strip(\" \").replace(\n",
    "            \"\", ann._keys[\"key_control\"]).replace(\n",
    "                np.nan,  ann._keys[\"key_control\"])\n",
    "    ann.adata.obs[ann._columns[\"col_perturbation\"]] = ann.adata.obs[\n",
    "        ann._columns[\"col_target_genes\"]]\n",
    "    ann.adata = ann.adata[ann.adata.obs[\"guide_ids\"].isin(\n",
    "        [\"CDKN1A\", \"CDKN1A,CDKN1B\", \"CEBPA\", \"CEBPB\", \n",
    "         \"CEBPA,CEBPB\"])]  # subset for speed"
   ]
  },
  {
   "cell_type": "markdown",
   "metadata": {},
   "source": [
    "## Preprocess and Cluster\n",
    "\n",
    "See `ann.figures[run_label][\"clustering\"]` (object attribute) or figs_qc[] (method output) for figures.\n",
    "\n",
    "You must set use_highly_variable to False if you don't want to filter by HVGs\n",
    "and if you did not set kws_hvg to None or False in `.preprocess()`\n",
    "\n",
    "\n",
    "In that scenario, the 'highly_variable' column in  will be created in `.obsm` \n",
    "during `.preprocess()` and then used by defualt in `.cluster`."
   ]
  },
  {
   "cell_type": "code",
   "execution_count": 3,
   "metadata": {},
   "outputs": [
    {
     "name": "stdout",
     "output_type": "stream",
     "text": [
      "MuData object with n_obs × n_vars = 20729 × 18776\n",
      "  4 modalities\n",
      "    rna:\t20729 x 18649\n",
      "      obs:\t'orig.ident', 'nCount_RNA', 'nFeature_RNA', 'nCount_HTO', 'nFeature_HTO', 'nCount_GDO', 'nCount_ADT', 'nFeature_ADT', 'percent.mito', 'MULTI_ID', 'HTO_classification', 'guide_ID', 'gene_target', 'NT', 'perturbation', 'replicate', 'S.Score', 'G2M.Score', 'Phase'\n",
      "      var:\t'name'\n",
      "    adt:\t20729 x 4\n",
      "      obs:\t'orig.ident', 'nCount_RNA', 'nFeature_RNA', 'nCount_HTO', 'nFeature_HTO', 'nCount_GDO', 'nCount_ADT', 'nFeature_ADT', 'percent.mito', 'MULTI_ID', 'HTO_classification', 'guide_ID', 'gene_target', 'NT', 'perturbation', 'replicate', 'S.Score', 'G2M.Score', 'Phase'\n",
      "      var:\t'name'\n",
      "    hto:\t20729 x 12\n",
      "      obs:\t'orig.ident', 'nCount_RNA', 'nFeature_RNA', 'nCount_HTO', 'nFeature_HTO', 'nCount_GDO', 'nCount_ADT', 'nFeature_ADT', 'percent.mito', 'MULTI_ID', 'HTO_classification', 'guide_ID', 'gene_target', 'NT', 'perturbation', 'replicate', 'S.Score', 'G2M.Score', 'Phase'\n",
      "      var:\t'name'\n",
      "    gdo:\t20729 x 111\n",
      "      obs:\t'orig.ident', 'nCount_RNA', 'nFeature_RNA', 'nCount_HTO', 'nFeature_HTO', 'nCount_GDO', 'nCount_ADT', 'nFeature_ADT', 'percent.mito', 'MULTI_ID', 'HTO_classification', 'guide_ID', 'gene_target', 'NT', 'perturbation', 'replicate', 'S.Score', 'G2M.Score', 'Phase'\n",
      "      var:\t'name'\n",
      "\n",
      "\n",
      "================================================================================\n",
      "Cell Counts\n",
      "================================================================================\n",
      "\n",
      "\n",
      "Un-used Keyword Arguments: {'col_sample_id': 'orig.ident', 'col_batch': nan, 'col_perturbation': 'perturbation', 'col_guide_rna': 'guide_ID', 'col_target_genes': 'gene_target'}\n",
      "None rna 20\n"
     ]
    },
    {
     "data": {
      "image/png": "[encoded data removed]",
      "text/plain": [
       "<Figure size 500x550 with 1 Axes>"
      ]
     },
     "metadata": {},
     "output_type": "display_data"
    },
    {
     "name": "stdout",
     "output_type": "stream",
     "text": [
      "\n",
      "<<< FILTERING >>>\n",
      "\n",
      "<<< DETECTING MITOCHONDRIAL GENES >>>\n",
      "\n",
      "<<< PERFORMING QUALITY CONTROL >>>\n"
     ]
    }
   ],
   "source": [
    "if not skip_preprocessing_clustering:\n",
    "    # Filtering, Normalization, Scaling, QC\n",
    "    cnfnd = None\n",
    "    # cnfnd = ['total_counts', 'pct_counts_mt']\n",
    "    # cnfnd=[\"total_counts\", \"pct_counts_mt\", col_batch]\n",
    "    process_kws = dict(kws_hvg=dict(min_mean=0.0125, max_mean=3, min_disp=0.5),\n",
    "                       target_sum=1e4, max_genes_by_counts=2500, max_pct_mt=5, \n",
    "                       min_genes=200, min_cells=3, scale=10, regress_out=cnfnd)\n",
    "    figs_qc = ann.preprocess(**process_kws)  # preprocessing \n",
    "    kws_pca = dict(n_comps=None, use_highly_variable=True)\n",
    "\n",
    "    # Clustering\n",
    "    ann.cluster(paga=False, method_cluster=\"leiden\",\n",
    "                kws_pca=kws_pca, kws_neighbors=None, \n",
    "                kws_umap=None, kws_cluster=None)"
   ]
  },
  {
   "cell_type": "markdown",
   "metadata": {},
   "source": [
    "# Analyses"
   ]
  },
  {
   "cell_type": "markdown",
   "metadata": {},
   "source": [
    "## Cell Type Perturbation Response\n",
    "\n",
    "Which cell types are most affected by perturbations? Quantify perturbation responses by cell type with Augur, which uses supervised machine learning classification of condition labels (e.g., treated versus untreated, )\n",
    "\n",
    "<u> __Features__ </u>  \n",
    "\n",
    "- Quantify and visualize degree of perturbation response by cell type\n",
    "\n",
    "<u> __Input__ </u>  \n",
    "\n",
    "<u> __Output__ </u>  \n",
    "\n",
    "mean_augur_score\n",
    "\n",
    "<u> __Notes__ </u>  \n",
    "\n",
    "- By default, this method will use the \n",
    "- Sub-sample sizes equal across condiitons; does not account for perturbation-induced compositional shifts (cell type abundance)\n",
    "- Scores are for cell types (aggregated across cells, not individual cells)\n",
    "- Two modes\n",
    "    - If select_variance_feature=True, run the original Augur implementation, which removes genes that don't vary much across cell type.\n",
    "    - If False, use features selected by `scanpy.pp.highly_variable_genes()`, which is faster and sensitively recovers effects; however, the feature selection may yield inflated Augur scores because this reduced feature set is used in training, resulting in it taking advantage of the pre-existing power of this feature selection to separate cell types."
   ]
  },
  {
   "cell_type": "code",
   "execution_count": 1,
   "metadata": {},
   "outputs": [
    {
     "ename": "NameError",
     "evalue": "name 'ann' is not defined",
     "output_type": "error",
     "traceback": [
      "\u001b[0;31m---------------------------------------------------------------------------\u001b[0m",
      "\u001b[0;31mNameError\u001b[0m                                 Traceback (most recent call last)",
      "Cell \u001b[0;32mIn[1], line 1\u001b[0m\n\u001b[0;32m----> 1\u001b[0m conds \u001b[39m=\u001b[39m ann\u001b[39m.\u001b[39madata\u001b[39m.\u001b[39mobs[ann\u001b[39m.\u001b[39m_columns[\u001b[39m\"\u001b[39m\u001b[39mcol_perturbation\u001b[39m\u001b[39m\"\u001b[39m]]\u001b[39m.\u001b[39munique()  \u001b[39m# choose a perturbation\u001b[39;00m\n\u001b[1;32m      2\u001b[0m augur_data, augur_results, figs_augur \u001b[39m=\u001b[39m ann\u001b[39m.\u001b[39mrun_augur(\n\u001b[1;32m      3\u001b[0m     key_treatment\u001b[39m=\u001b[39mconds[conds \u001b[39m!=\u001b[39m ann\u001b[39m.\u001b[39m_keys[\u001b[39m\"\u001b[39m\u001b[39mkey_control\u001b[39m\u001b[39m\"\u001b[39m]][\u001b[39m0\u001b[39m],\n\u001b[1;32m      4\u001b[0m     classifier\u001b[39m=\u001b[39m\u001b[39m\"\u001b[39m\u001b[39mrandom_forest_classifier\u001b[39m\u001b[39m\"\u001b[39m, augur_mode\u001b[39m=\u001b[39m\u001b[39m\"\u001b[39m\u001b[39maugur\u001b[39m\u001b[39m\"\u001b[39m, \n\u001b[1;32m      5\u001b[0m     select_variance_features\u001b[39m=\u001b[39m\u001b[39mFalse\u001b[39;00m, subsample_size\u001b[39m=\u001b[39m\u001b[39m10\u001b[39m)\n",
      "\u001b[0;31mNameError\u001b[0m: name 'ann' is not defined"
     ]
    }
   ],
   "source": [
    "conds = ann.adata.obs[ann._columns[\"col_perturbation\"]].unique()  # choose a perturbation\n",
    "augur_data, augur_results, figs_augur = ann.run_augur(\n",
    "    key_treatment=conds[conds != ann._keys[\"key_control\"]][0],\n",
    "    classifier=\"random_forest_classifier\", augur_mode=\"augur\", \n",
    "    select_variance_features=False, subsample_size=10)"
   ]
  },
  {
   "cell_type": "markdown",
   "metadata": {},
   "source": [
    "# Q\n",
    "\n",
    "Which cell types are most affected by perturbations? Quantify perturbation responses by cell type with Augur, which uses supervised machine learning classification of condition labels (e.g., treated versus untreated) and looking at how easy it is to tell perturbed versus non-perturbed (more separable = higher effect).\n",
    "\n",
    "<u> __Features__ </u>  \n",
    "\n",
    "- Remove confounds (e.g., cell cycle, batch effects)\n",
    "- Identify cells that were/were not (i.e., \"escapees\") affected by the perturbation\n",
    "- Quantify and visualize degree of perturbation response by cell type\n",
    "\n",
    "<u> __Input__ </u>  \n",
    "\n",
    "<u> __Output__ </u>  \n",
    "- Mixscape figures\n",
    "\n",
    "<u> __Notes__ </u>  \n"
   ]
  },
  {
   "cell_type": "code",
   "execution_count": 5,
   "metadata": {},
   "outputs": [
    {
     "name": "stdout",
     "output_type": "stream",
     "text": [
      "Un-used Keyword Arguments: {'col_gene_symbols': None, 'col_cell_type': 'leiden', 'col_sample_id': 'orig.ident', 'col_batch': nan}\n"
     ]
    }
   ],
   "source": [
    "figs_mixscape = ann.run_mixscape()"
   ]
  },
  {
   "cell_type": "markdown",
   "metadata": {},
   "source": [
    "## Distance Metrics\n",
    "\n",
    "See `ann.figures[run_label][\"distances\"]` and  `ann.results[run_label][\"distances\"]`\n",
    "for results."
   ]
  },
  {
   "cell_type": "code",
   "execution_count": null,
   "metadata": {},
   "outputs": [],
   "source": [
    "# adata = load_example_data(file, col_gene_symbols, \n",
    "#                           write_public=write_public)  # (down)load h5ad file\n",
    "# adata = cr.pp.process_data(adata, assay=assay, assay_protein=assay_protein,\n",
    "#                            **process_kws)  # process\n",
    "# figs_cluster = cr.ax.clustering.cluster(adata, assay=assay, plot=True,\n",
    "#                                         method_cluster=\"leiden\")\n",
    "# figs_distance = cr.ax.compute_distance(adata, col_perturbation, col_cell_type=col_cell_type, \n",
    "#                                        distance_type=\"edistance\", method=\"X_pca\",\n",
    "#                                        kws_plot=None, highlight_real_range=False, plot=True)"
   ]
  },
  {
   "cell_type": "code",
   "execution_count": null,
   "metadata": {},
   "outputs": [],
   "source": [
    "fig_distance = ann.compute_distance(distance_type=\"edistance\", method=\"X_pca\")"
   ]
  }
 ],
 "metadata": {
  "kernelspec": {
   "display_name": "py-bio",
   "language": "python",
   "name": "python3"
  },
  "language_info": {
   "codemirror_mode": {
    "name": "ipython",
    "version": 3
   },
   "file_extension": ".py",
   "mimetype": "text/x-python",
   "name": "python",
   "nbconvert_exporter": "python",
   "pygments_lexer": "ipython3",
   "version": "3.10.4"
  },
  "orig_nbformat": 4
 },
 "nbformat": 4,
 "nbformat_minor": 2
}
