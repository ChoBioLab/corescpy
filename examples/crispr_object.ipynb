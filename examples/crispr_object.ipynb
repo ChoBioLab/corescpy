{
 "cells": [
  {
   "cell_type": "code",
   "execution_count": 1,
   "metadata": {},
   "outputs": [
    {
     "name": "stdout",
     "output_type": "stream",
     "text": [
      "['__builtins__', '__cached__', '__doc__', '__file__', '__loader__', '__name__', '__package__', '__path__', '__spec__', 'analyze_composition', 'cluster', 'clustering', 'perform_augur', 'perform_differential_prioritization', 'perform_mixscape', 'perturbations']\n",
      "{'CRISPRi_scr': '/home/asline01/projects/crispr/examples/data/crispr-screening/filtered_feature_bc_matrix_HH06.h5', 'CRISPRi_wgs': '/home/asline01/projects/crispr/examples/data/replogle_2022_k562_gwps.h5ad', 'CRISPRi_ess': '/home/asline01/projects/crispr/examples/data/replogle_2022_k562_esss.h5ad', 'pool': '/home/asline01/projects/crispr/examples/data/norman_2019_raw.h5ad', 'bulk': '/home/asline01/projects/crispr/examples/data/burczynski_crohn.h5ad', 'screen': '/home/asline01/projects/crispr/examples/data/dixit_2016_raw.h5ad', 'perturb-seq': '/home/asline01/projects/crispr/examples/data/adamson_2016_upr_perturb_seq.h5ad', 'ECCITE': '/home/asline01/projects/crispr/examples/data/papalexi_2021.h5ad', 'coda': '/home/asline01/projects/crispr/examples/data/haber_2017_regions.h5ad', 'CRISPRa': '/home/asline01/projects/crispr/examples/data/tian_2021_crispra.h5ad', 'augur_ex': '/home/asline01/projects/crispr/examples/data/bhattacherjee.h5ad'}\n",
      "\n",
      "<<< LOADING FILE /home/asline01/projects/crispr/examples/data/replogle_2022_k562_esss.h5ad with sc.read()>>>\n",
      "AnnData object with n_obs × n_vars = 111445 × 33694\n",
      "    obs: 'guide_identity', 'read_count', 'UMI_count', 'coverage', 'gemgroup', 'good_coverage', 'number_of_cells', 'guide_AHR', 'guide_ARID1A', 'guide_ARRDC3', 'guide_ATL1', 'guide_BAK1', 'guide_BCL2L11', 'guide_BCORL1', 'guide_BPGM', 'guide_C19orf26', 'guide_C3orf72', 'guide_CBFA2T3', 'guide_CBL', 'guide_CDKN1A', 'guide_CDKN1B', 'guide_CDKN1C', 'guide_CEBPA', 'guide_CEBPB', 'guide_CEBPE', 'guide_CELF2', 'guide_CITED1', 'guide_CKS1B', 'guide_CLDN6', 'guide_CNN1', 'guide_CNNM4', 'guide_COL1A1', 'guide_COL2A1', 'guide_CSRNP1', 'guide_DLX2', 'guide_DUSP9', 'guide_EGR1', 'guide_ELMSAN1', 'guide_ETS2', 'guide_FEV', 'guide_FOSB', 'guide_FOXA1', 'guide_FOXA3', 'guide_FOXF1', 'guide_FOXL2', 'guide_FOXO4', 'guide_GLB1L2', 'guide_HES7', 'guide_HK2', 'guide_HNF4A', 'guide_HOXA13', 'guide_HOXB9', 'guide_HOXC13', 'guide_IER5L', 'guide_IGDCC3', 'guide_IKZF3', 'guide_IRF1', 'guide_ISL2', 'guide_JUN', 'guide_KIAA1804', 'guide_KIF18B', 'guide_KIF2C', 'guide_KLF1', 'guide_KMT2A', 'guide_LHX1', 'guide_LYL1', 'guide_MAML2', 'guide_MAP2K3', 'guide_MAP2K6', 'guide_MAP4K3', 'guide_MAP4K5', 'guide_MAP7D1', 'guide_MAPK1', 'guide_MEIS1', 'guide_MIDN', 'guide_NCL', 'guide_NIT1', 'guide_OSR2', 'guide_PLK4', 'guide_POU3F2', 'guide_PRDM1', 'guide_PRTG', 'guide_PTPN1', 'guide_PTPN12', 'guide_PTPN13', 'guide_PTPN9', 'guide_RHOXF2', 'guide_RREB1', 'guide_RUNX1T1', 'guide_S1PR2', 'guide_SAMD1', 'guide_SET', 'guide_SGK1', 'guide_SLC38A2', 'guide_SLC4A1', 'guide_SLC6A9', 'guide_SNAI1', 'guide_SPI1', 'guide_STIL', 'guide_TBX2', 'guide_TBX3', 'guide_TGFBR2', 'guide_TMSB4X', 'guide_TP73', 'guide_TSC22D1', 'guide_UBASH3A', 'guide_UBASH3B', 'guide_ZBTB1', 'guide_ZBTB10', 'guide_ZBTB25', 'guide_ZC3HAV1', 'guide_ZNF318', 'guide_ids'\n",
      "    var: 'gene_symbols'\n"
     ]
    },
    {
     "ename": "TypeError",
     "evalue": "Crispr.adata() missing 1 required positional argument: 'value'",
     "output_type": "error",
     "traceback": [
      "\u001b[0;31m---------------------------------------------------------------------------\u001b[0m",
      "\u001b[0;31mTypeError\u001b[0m                                 Traceback (most recent call last)",
      "Cell \u001b[0;32mIn[1], line 66\u001b[0m\n\u001b[1;32m     55\u001b[0m \u001b[39mprint\u001b[39m(files_data)\n\u001b[1;32m     57\u001b[0m ann \u001b[39m=\u001b[39m Crispr(file_path, assay\u001b[39m=\u001b[39massay, assay_protein\u001b[39m=\u001b[39massay_protein,\n\u001b[1;32m     58\u001b[0m              col_gene_symbols\u001b[39m=\u001b[39mcol_gene_symbols, \n\u001b[1;32m     59\u001b[0m              col_cell_type\u001b[39m=\u001b[39mcol_cell_type, col_sample_id\u001b[39m=\u001b[39mcol_sample_id, \n\u001b[0;32m   (...)\u001b[0m\n\u001b[1;32m     63\u001b[0m              label_perturbation_type\u001b[39m=\u001b[39mlabel_perturbation_type,\n\u001b[1;32m     64\u001b[0m              key_control\u001b[39m=\u001b[39mkey_control, key_treatment\u001b[39m=\u001b[39mkey_treatment)\n\u001b[0;32m---> 66\u001b[0m ann\u001b[39m.\u001b[39;49mpreprocess()\n\u001b[1;32m     67\u001b[0m ann\u001b[39m.\u001b[39mcluster()\n",
      "File \u001b[0;32m~/anaconda3/envs/py-bio/lib/python3.10/site-packages/crispr/crispr_class.py:61\u001b[0m, in \u001b[0;36mCrispr.preprocess\u001b[0;34m(self, assay, assay_protein, clustering, run_label, **kwargs)\u001b[0m\n\u001b[1;32m     59\u001b[0m \u001b[39mif\u001b[39;00m assay_protein \u001b[39mis\u001b[39;00m \u001b[39mNone\u001b[39;00m:\n\u001b[1;32m     60\u001b[0m     assay_protein \u001b[39m=\u001b[39m \u001b[39mself\u001b[39m\u001b[39m.\u001b[39m_assay_protein\n\u001b[0;32m---> 61\u001b[0m cr\u001b[39m.\u001b[39mpp\u001b[39m.\u001b[39mprocess_data(\u001b[39mself\u001b[39;49m\u001b[39m.\u001b[39;49madata, assay\u001b[39m=\u001b[39massay, \n\u001b[1;32m     62\u001b[0m                    assay_protein\u001b[39m=\u001b[39massay_protein, \u001b[39m*\u001b[39m\u001b[39m*\u001b[39mkwargs)  \u001b[39m# preprocess\u001b[39;00m\n\u001b[1;32m     63\u001b[0m \u001b[39mif\u001b[39;00m clustering \u001b[39mnot\u001b[39;00m \u001b[39min\u001b[39;00m [\u001b[39mNone\u001b[39;00m, \u001b[39mFalse\u001b[39;00m]:\n\u001b[1;32m     64\u001b[0m     \u001b[39mif\u001b[39;00m clustering \u001b[39mis\u001b[39;00m \u001b[39mTrue\u001b[39;00m:\n",
      "\u001b[0;31mTypeError\u001b[0m: Crispr.adata() missing 1 required positional argument: 'value'"
     ]
    }
   ],
   "source": [
    "import crispr as cr \n",
    "from crispr.crispr_class import Crispr\n",
    "import pertpy\n",
    "import muon\n",
    "import os\n",
    "import pandas as pd\n",
    "import numpy as np\n",
    "from config import (files_data, col_cell_type_data, col_gene_symbols_data, \n",
    "                    assays_data, layer_perturbation_data,\n",
    "                    col_perturbation_data, key_control_data, \n",
    "                    col_split_by_data, layer_perturbation_data,\n",
    "                    label_perturbation_type_data, col_target_genes_data,\n",
    "                    key_treatment_data, col_guide_rna_data,\n",
    "                    col_sample_id_data, load_example_data)\n",
    "\n",
    "# Options\n",
    "print(dir(cr.ax))\n",
    "n_threads = 4\n",
    "# file = \"CRISPRi_scr\"\n",
    "file = \"CRISPRi_ess\"\n",
    "# file = \"ECCITE\"\n",
    "# file = \"augur_ex\"\n",
    "# file = \"screen\"\n",
    "# file = \"coda\"\n",
    "# file = \"perturb-seq\"\n",
    "# regress_out = ['total_counts', 'pct_counts_mt']\n",
    "regress_out = None\n",
    "process_kws = dict(hvg_kws = dict(min_mean=0.0125, max_mean=3, min_disp=0.5),\n",
    "                   target_sum = 1e4, max_genes_by_counts = 2500, \n",
    "                   max_pct_mt = 5, min_genes = 200, min_cells = 3, scale = 10,\n",
    "                   regress_out = regress_out)\n",
    "write_public = True  # if need to download public data, write to examples/data?\n",
    "\n",
    "#  Set Arguments\n",
    "col_cell_type = col_cell_type_data[file]\n",
    "col_sample_id = col_sample_id_data[file]\n",
    "col_perturbation = col_perturbation_data[file]\n",
    "col_target_genes = col_target_genes_data[file]\n",
    "key_control, label_perturbation_type, layer = [\n",
    "    x[file] for x in [key_control_data, label_perturbation_type_data,\n",
    "                      layer_perturbation_data]\n",
    "]\n",
    "col_gene_symbols = col_gene_symbols_data[file]\n",
    "if file in assays_data:\n",
    "    if isinstance(assays_data[file], str) or assays_data[file] is None:\n",
    "        assays_data[file] = [assays_data[file], None]\n",
    "    assay, assay_protein = assays_data[file]\n",
    "else:\n",
    "    assay, assay_protein = None\n",
    "key_treatment = key_treatment_data[file]\n",
    "col_split_by = col_split_by_data[file]\n",
    "col_guide_rna = col_guide_rna_data[file]\n",
    "layer_perturbation = layer_perturbation_data[file]\n",
    "file_path = files_data[file]\n",
    "print(files_data)\n",
    "\n",
    "ann = Crispr(file_path, assay=assay, assay_protein=assay_protein,\n",
    "             col_gene_symbols=col_gene_symbols, \n",
    "             col_cell_type=col_cell_type, col_sample_id=col_sample_id, \n",
    "             col_perturbation=col_perturbation, col_guide_rna=col_guide_rna,\n",
    "             col_target_genes=col_target_genes, \n",
    "             layer_perturbation=layer_perturbation,\n",
    "             label_perturbation_type=label_perturbation_type,\n",
    "             key_control=key_control, key_treatment=key_treatment)\n",
    "\n",
    "ann.preprocess()\n",
    "ann.cluster()"
   ]
  }
 ],
 "metadata": {
  "kernelspec": {
   "display_name": "py-bio",
   "language": "python",
   "name": "python3"
  },
  "language_info": {
   "codemirror_mode": {
    "name": "ipython",
    "version": 3
   },
   "file_extension": ".py",
   "mimetype": "text/x-python",
   "name": "python",
   "nbconvert_exporter": "python",
   "pygments_lexer": "ipython3",
   "version": "3.10.4"
  },
  "orig_nbformat": 4
 },
 "nbformat": 4,
 "nbformat_minor": 2
}
