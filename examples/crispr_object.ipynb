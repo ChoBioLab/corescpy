{
 "cells": [
  {
   "cell_type": "markdown",
   "metadata": {},
   "source": [
    "# Setup"
   ]
  },
  {
   "cell_type": "code",
   "execution_count": 1,
   "metadata": {},
   "outputs": [
    {
     "name": "stdout",
     "output_type": "stream",
     "text": [
      "['__builtins__', '__cached__', '__doc__', '__file__', '__loader__', '__name__', '__package__', '__path__', '__spec__', 'analyze_composition', 'cluster', 'clustering', 'compute_distance', 'find_markers', 'perform_augur', 'perform_differential_prioritization', 'perform_gsea', 'perform_mixscape', 'perturbations']\n",
      "{'CRISPRi_scr': {'directory': '/home/asline01/projects/crispr/examples/data/crispr-screening/HH03'}, 'CRISPRi_wgs': '/home/asline01/projects/crispr/examples/data/replogle_2022_k562_gwps.h5ad', 'CRISPRi_ess': '/home/asline01/projects/crispr/examples/data/replogle_2022_k562_esss.h5ad', 'pool': '/home/asline01/projects/crispr/examples/data/norman_2019_raw.h5ad', 'bulk': '/home/asline01/projects/crispr/examples/data/burczynski_crohn.h5ad', 'screen': '/home/asline01/projects/crispr/examples/data/dixit_2016_raw.h5ad', 'perturb-seq': '/home/asline01/projects/crispr/examples/data/adamson_2016_upr_perturb_seq.h5ad', 'ECCITE': '/home/asline01/projects/crispr/examples/data/papalexi_2021.h5ad', 'coda': '/home/asline01/projects/crispr/examples/data/haber_2017_regions.h5ad', 'CRISPRa': '/home/asline01/projects/crispr/examples/data/tian_2021_crispra.h5ad', 'augur_ex': '/home/asline01/projects/crispr/examples/data/bhattacherjee.h5ad', 'adamson': '/home/asline01/projects/crispr/examples/data/adamson_2016_upr_perturb_seq.h5ad'}\n"
     ]
    }
   ],
   "source": [
    "%load_ext autoreload\n",
    "%autoreload 2\n",
    "\n",
    "import crispr as cr \n",
    "from crispr.crispr_class import Crispr\n",
    "import pertpy as pt\n",
    "import pandas as pd\n",
    "import numpy as np\n",
    "from config import (files_data, col_cell_type_data, col_gene_symbols_data, \n",
    "                    assays_data, layer_perturbation_data,\n",
    "                    col_perturbation_data, key_control_data, \n",
    "                    col_split_by_data, layer_perturbation_data,\n",
    "                    col_target_genes_data,\n",
    "                    key_treatment_data, col_guide_rna_data, col_batch_data,\n",
    "                    col_sample_id_data, kws_process_guide_rna_data, \n",
    "                    col_num_umis_data)\n",
    "\n",
    "# Options\n",
    "pd.options.display.max_columns = 100\n",
    "skip_preprocessing_clustering = False  # to skip these steps\n",
    "print(dir(cr.ax))\n",
    "file = \"CRISPRi_scr\"\n",
    "# file = \"CRISPRi_ess\"\n",
    "# file = \"ECCITE\"\n",
    "# file = \"augur_ex\"\n",
    "# file = \"coda\"\n",
    "# file = \"screen\"\n",
    "# file = \"perturb-seq\"\n",
    "kws_pca = dict(n_comps=None, use_highly_variable=True)\n",
    "kws_neighbors = None  # passed to neighbors function\n",
    "kws_umap = dict(min_dist=0.3)  # passed to UMAP fx\n",
    "kws_cluster = dict(resolution=0.5)  # passed to louvain/leiden fx\n",
    "\n",
    "#  Set Arguments\n",
    "if file in assays_data:\n",
    "    if isinstance(assays_data[file], str) or assays_data[file] is None:\n",
    "        assays_data[file] = [assays_data[file], None]\n",
    "    assay, assay_protein = assays_data[file]\n",
    "else:\n",
    "    assay, assay_protein = None\n",
    "file_path = files_data[file]\n",
    "kws_process_guide_rna = kws_process_guide_rna_data[file]\n",
    "col_split_by = col_split_by_data[file]\n",
    "kwargs_init = dict(assay=assay, assay_protein=assay_protein,\n",
    "                   col_gene_symbols=col_gene_symbols_data[file],  \n",
    "                   col_cell_type=col_cell_type_data[file], \n",
    "                   col_sample_id=col_sample_id_data[file], \n",
    "                   col_batch=col_batch_data[file],\n",
    "                   col_perturbation=col_perturbation_data[file], \n",
    "                   col_guide_rna=col_guide_rna_data[file], \n",
    "                   col_num_umis=col_num_umis_data[file],\n",
    "                   kws_process_guide_rna=kws_process_guide_rna_data[file],\n",
    "                   remove_multi_transfected=True,\n",
    "                   col_target_genes=col_target_genes_data[file], \n",
    "                   layer_perturbation=layer_perturbation_data[file],\n",
    "                   key_control=key_control_data[file], \n",
    "                   key_treatment=key_treatment_data[file])\n",
    "print(files_data)\n",
    "if file == \"default_fast\":\n",
    "    skip_preprocessing_clustering = True\n",
    "    \n",
    "    \n",
    "    # git commit -m \"code to process guide RNAs overhauled. Filtering by counts, control proportions, multiplicity, etc. Methods simplified -> modular functions\"\n"
   ]
  },
  {
   "cell_type": "markdown",
   "metadata": {},
   "source": [
    "# Setup Object\n",
    "\n",
    "## Instantiate"
   ]
  },
  {
   "cell_type": "markdown",
   "metadata": {},
   "source": [
    "\n",
    "This is more code than an end-user will actually need. `self = Crispr(file_path)` is the bare minimum needed (though you must specify some column and entry label names, such as the column name for the gene symbols, if they aren't the same as the defaults).\n",
    "\n",
    "End users can simply pass to the `file` argument of `Crispr()` a 10x CellRanger output directory (or a dictionary of appropriate protospacer-related arguments if perturbation-related data aren't included in the .mtx file; see the `Crispr.preprocessing.combine_matrix_protospacer()` function for details) or .h5ad file if desired.\n",
    "\n",
    "The extra code is just for generalizability across example datasets because in certain cases, we want to pass an AnnData Scanpy object because there are specific manipulations made to certain public datasets in the config.load_example_data function meant to decrease computation time/memory usage, etc.\n"
   ]
  },
  {
   "cell_type": "code",
   "execution_count": 35,
   "metadata": {},
   "outputs": [
    {
     "name": "stdout",
     "output_type": "stream",
     "text": [
      "Initialization arguments (from config):\n",
      "\n",
      "{'assay': None, 'assay_protein': None, 'col_gene_symbols': 'gene_symbols', 'col_cell_type': 'leiden', 'col_sample_id': None, 'col_batch': None, 'col_perturbation': 'name', 'col_guide_rna': 'feature_call', 'col_num_umis': 'num_umis', 'kws_process_guide_rna': {'feature_split': '|', 'guide_split': '-', 'key_control_patterns': ['CTRL']}, 'remove_multi_transfected': True, 'col_target_genes': 'target_gene_name', 'layer_perturbation': nan, 'key_control': 'NT', 'key_treatment': 'KD'}\n"
     ]
    }
   ],
   "source": [
    "print(f\"Initialization arguments (from config):\\n\\n{kwargs_init}\")\n",
    "if isinstance(file, str) and file in [\"ECCITE\", \"Adamson\"]:\n",
    "    self = Crispr(\n",
    "        pt.data.papalexi_2021() if file == \"ECCITE\" else\n",
    "        pt.data.adamson_2016_upr_perturb_seq(), **kwargs_init)\n",
    "else:\n",
    "    self = Crispr(file_path, **kwargs_init)\n",
    "self.adata[self._assay].obs if self._assay else self.adata.obs"
   ]
  },
  {
   "cell_type": "markdown",
   "metadata": {},
   "source": [
    "## Preprocess and Cluster\n",
    "\n",
    "See `self.figures[run_label][\"clustering\"]` (object attribute) or method output for figures.\n",
    "\n",
    "You must set use_highly_variable to False if you don't want to filter by HVGs\n",
    "and if you did not set kws_hvg to None or False in `.preprocess()`\n",
    "\n",
    "\n",
    "In that scenario, the 'highly_variable' column in  will be created in `.obsm` \n",
    "during `.preprocess()` and then used by default in `.cluster`."
   ]
  },
  {
   "cell_type": "code",
   "execution_count": 34,
   "metadata": {},
   "outputs": [
    {
     "data": {
      "text/plain": [
       "View of AnnData object with n_obs × n_vars = 6733 × 36601\n",
       "    obs: 'num_features', 'feature_call_original', 'num_umis_original', 'feature_call', 'feature_call_flat_ix', 'feature_call_list_all', 'num_umis_list_all', 'num_umis_total', 'feature_call_list_count_filtered', 'num_umis_list_count_filtered', 'num_umis'\n",
       "    var: 'gene_ids', 'feature_types'"
      ]
     },
     "execution_count": 34,
     "metadata": {},
     "output_type": "execute_result"
    }
   ],
   "source": [
    "self.adata[~self.adata.obs[col_guide_rna].isnull()]"
   ]
  },
  {
   "cell_type": "code",
   "execution_count": null,
   "metadata": {},
   "outputs": [],
   "source": [
    "if skip_preprocessing_clustering is False:  # if not already processed & clustered\n",
    "    \n",
    "    # Arguments\n",
    "    print(f\"UMAP Keywords: {kws_umap}\")\n",
    "    \n",
    "    # Preprocess\n",
    "    process_kws = dict(kws_hvg=dict(min_mean=0.0125, max_mean=3, min_disp=0.5),\n",
    "                       target_sum=1e4, max_genes_by_counts=2500, max_pct_mt=15,\n",
    "                       min_genes=200, min_cells=3, scale=10, regress_out=None)\n",
    "    self.preprocess(**process_kws, kws_umap=kws_umap)  # preprocessing\n",
    "    \n",
    "    # Cluster \n",
    "    self.cluster(method_cluster=\"leiden\", kws_neighbors=kws_neighbors,\n",
    "                 kws_pca=kws_pca, kws_umap=kws_umap,  kws_cluster=kws_cluster)\n",
    "    \n",
    "self.adata.obs"
   ]
  },
  {
   "cell_type": "markdown",
   "metadata": {},
   "source": [
    "### Find Markers (DEGs)"
   ]
  },
  {
   "cell_type": "code",
   "execution_count": null,
   "metadata": {},
   "outputs": [],
   "source": [
    "self._columns[\"col_num_umis\"] = \"num_umis\""
   ]
  },
  {
   "cell_type": "code",
   "execution_count": null,
   "metadata": {},
   "outputs": [],
   "source": [
    "marks, figs_m = self.find_markers(n_genes=5, layer=\"scaled\", \n",
    "                                  method=\"wilcoxon\", key_reference=\"rest\")\n",
    "print(marks)\n",
    "# marks.loc[\"6\"].loc[marks.loc[\"6\"].scores.abs().sort_values(ascending=False).iloc[:10].index]"
   ]
  },
  {
   "cell_type": "markdown",
   "metadata": {},
   "source": [
    "## Inspect & Set Up Arguments for Later\n",
    "\n",
    "\n",
    "This code looks more complicated than it actually would actually be for an end user because it was made to be generalizable across several datasets with particular column names, sizes that make it necessary to subset them in order to run the vignettes in a reasonable period of time, etc.\n",
    "\n",
    "Basically, you won't need this code as an end user; this is just to choose relevant random subsets of genes, perturbations, etc. that are available in a given example dataset, for illustration purposes (and to conserve memory/time by not using every gene/condition/etc.). \n",
    "\n",
    "In real use cases, you will know what genes and conditions are of interest, and you can manually specify them by simply stating them in the appropriate arguments (such as `target_gene_idents`) or (in many cases) by not specifying the argument (resulting in the code using all available genes, etc.)."
   ]
  },
  {
   "cell_type": "code",
   "execution_count": null,
   "metadata": {},
   "outputs": [],
   "source": [
    "# Choose Subset of Sequenced Genes\n",
    "genes = np.array((self.adata[assay] if assay else self.adata).var.reset_index(\n",
    "    )[self._columns[\"col_gene_symbols\"]].copy())\n",
    "if file == \"CRISPRi_scr\":\n",
    "    genes_subset = [\"CDKN2A\", \"CDKN1A\", \"PLAUR\", \"TP53\", \"IL6ST\", \"IL1A\", \n",
    "                    \"CXCL8\", \"CCL2\", \"CEBPB\", \"NFKB1\", \"IGFBP7\", \"TGFB1\", \n",
    "                    \"BCL2\", \"PTGER4\", \"ERCC1\", \"ERCC4\", \"ATG16L1\", \"NOD2\", \"LACC1\"]\n",
    "else:\n",
    "    genes_subset = list(pd.Series(genes).sample(10))\n",
    "\n",
    "# Perturbation Categories\n",
    "(self.adata[assay] if assay else self.adata).obs[\n",
    "    self._columns[\"col_perturbation\"]]"
   ]
  },
  {
   "cell_type": "markdown",
   "metadata": {},
   "source": [
    "## Basic Plots"
   ]
  },
  {
   "cell_type": "code",
   "execution_count": null,
   "metadata": {},
   "outputs": [],
   "source": [
    "figs = self.plot(genes=genes_subset, layers=\"all\", \n",
    "                 kws_gex_violin=dict(scale=\"area\", height=10))"
   ]
  },
  {
   "cell_type": "markdown",
   "metadata": {},
   "source": [
    "# Perturbation Analyses"
   ]
  },
  {
   "cell_type": "markdown",
   "metadata": {},
   "source": [
    "## Augur: Cell Type-Level Perturbation Response\n",
    "\n",
    "Which cell types are most affected by perturbations? Quantify perturbation responses by cell type with Augur, which uses supervised machine learning classification of experimental condition labels (e.g., treated versus untreated). The more separable the condition among cells of a given type, the higher the perturbation effect score.\n",
    "\n",
    "<u> __Features__ </u>  \n",
    "\n",
    "- Quantify and visualize degree of perturbation response by cell type\n",
    "\n",
    "<u> __Input__ </u>  \n",
    "\n",
    "<u> __Output__ </u>  \n",
    "\n",
    "mean_augur_score\n",
    "\n",
    "<u> __Notes__ </u>  \n",
    "\n",
    "- Sub-sample sizes equal across conditions; does not account for perturbation-induced compositional shifts (cell type abundance)\n",
    "- Scores are for cell types (aggregated across cells, not individual cells)\n",
    "- Two modes\n",
    "    - If select_variance_feature=True, run the original Augur implementation, which removes genes that don't vary much across cell type.\n",
    "    - If False, use features selected by `scanpy.pp.highly_variable_genes()`, which is faster and sensitively recovers effects; however, the feature selection may yield inflated Augur scores because this reduced feature set is used in training, resulting in it taking advantage of the pre-existing power of this feature selection to separate cell types.\n",
    "    - If False, you also have to be sure that \"highly_variable_features\" is a variable in your data. This can be complicated if you have a separate layer for perturbation data."
   ]
  },
  {
   "cell_type": "code",
   "execution_count": null,
   "metadata": {},
   "outputs": [],
   "source": [
    "augur_data, augur_results, figs_augur = self.run_augur(\n",
    "    col_perturbation=self._columns[\"col_perturbation\"], \n",
    "    key_treatment=self._keys[\"key_treatment\"], \n",
    "    classifier=\"random_forest_classifier\", n_threads=True,\n",
    "    augur_mode=\"default\", select_variance_features=True, \n",
    "    n_folds=2,  # in real life, you'll want this to be >= 3, usually 3-10\n",
    "    kws_umap=kws_umap, subsample_size=20, kws_augur_predict=dict(span=0.7))"
   ]
  },
  {
   "cell_type": "markdown",
   "metadata": {},
   "source": [
    "## Mixscape: Cell-Level Perturbation Response\n",
    "\n",
    "**Which cell types are most affected by perturbations?** Quantify perturbation responses by cell type with Augur, which uses supervised machine learning classification of condition labels (e.g., treated versus untreated) and looking at how easy it is to tell perturbed versus non-perturbed (more separable = higher effect).\n",
    "\n",
    "**Are there perturbation-specific clusters?** Mixscape uses linear discriminant analysis (LDA) to cluster cells that resemble each other in terms of gene expression and perturbation condition. _(LDA reduces dimensionality and attempts to maximize the separability of classes. Unperturbed cells are removed from analysis.)_\n",
    "\n",
    "<u> __Features__ </u>  \n",
    "\n",
    "- Remove confounds (e.g., cell cycle, batch effects)\n",
    "- Classify cells as affected or unaffected (i.e., \"escapees\") by the perturbation\n",
    "- Quantify and visualize degree of perturbation response\n",
    "\n",
    "<u> __Input__ </u>  \n",
    "\n",
    "<u> __Output__ </u>  \n",
    "- Mixscape figures\n",
    "\n",
    "<u> __Notes__ </u>  \n"
   ]
  },
  {
   "cell_type": "code",
   "execution_count": null,
   "metadata": {},
   "outputs": [],
   "source": [
    "figs_mixscape = self.run_mixscape(col_split_by=col_split_by,\n",
    "                                  target_gene_idents=True  \n",
    "                                  # or specify list of genes of interest\n",
    "                                  )"
   ]
  },
  {
   "cell_type": "markdown",
   "metadata": {},
   "source": [
    "## Distance Metrics\n",
    "\n",
    "See `self.figures[run_label][\"distances\"]` and  `self.results[run_label][\"distances\"]`\n",
    "for results."
   ]
  },
  {
   "cell_type": "code",
   "execution_count": null,
   "metadata": {},
   "outputs": [],
   "source": [
    "fig_dist_w = self.compute_distance(distance_type=\"edistance\", method=\"X_pca\",\n",
    "                                   kws_plot=dict(figsize=(30, 30), robust=True))\n",
    "\n",
    "fig_dist_e = self.compute_distance(distance_type=\"mmd\", method=\"X_pca\",\n",
    "                                   kws_plot=dict(figsize=(30, 30), robust=True))"
   ]
  },
  {
   "cell_type": "markdown",
   "metadata": {},
   "source": [
    "## Composition Analysis"
   ]
  },
  {
   "cell_type": "code",
   "execution_count": null,
   "metadata": {},
   "outputs": [],
   "source": [
    "out_ca = cr.ax.analyze_composition(\n",
    "    self.adata, \"1\", assay=self._assay, analysis_type=\"cell_level\", \n",
    "    generate_sample_level=False, **self._columns, \n",
    "    sample_identifier=None, est_fdr=0.05)"
   ]
  }
 ],
 "metadata": {
  "kernelspec": {
   "display_name": "py-bio",
   "language": "python",
   "name": "python3"
  },
  "language_info": {
   "codemirror_mode": {
    "name": "ipython",
    "version": 3
   },
   "file_extension": ".py",
   "mimetype": "text/x-python",
   "name": "python",
   "nbconvert_exporter": "python",
   "pygments_lexer": "ipython3",
   "version": "3.10.4"
  },
  "orig_nbformat": 4
 },
 "nbformat": 4,
 "nbformat_minor": 2
}
