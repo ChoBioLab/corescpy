{
 "cells": [
  {
   "cell_type": "markdown",
   "metadata": {},
   "source": [
    "# Introduction\n",
    "\n",
    "Welcome to Crispr! See \"Major Methods\" below for an overview of a typical workflow. \n",
    "\n",
    "## Table of contents:\n",
    "  * <a href=#Setup>Setup</a>\n",
    "    * <a href=#Ojbect>Initialization of Object</a>\n",
    "    * <a href=#Processing>Preprocessing & Clustering</a> \n",
    "  * <a href=#Plots>Initial Plotting</a>\n",
    "  * <a href=#Analyses>Perturbation Analyses</a>\n",
    "    * <a href=#Augur>Aggregate Cell-Type Perturbation Scoring (Augur)</a>\n",
    "    * <a href=#Mixscape>Cell-Level Perturbation Classification & Response Scoring (Mixscape)</a>\n",
    "    * <a href=#Distance>Distance Metrics</a>\n",
    "    * <a href=#Composition>Compositional Analysis (scGen)</a>\n",
    "    * <a href=#Dialogue>Multi-Cellular Programs (Dialogue)</a>\n",
    "\n",
    "The `crispr.Crispr()` class is the main way of interacting with the package; however, if you want to manipulate a data object before subjecting it to the initial processing steps in the `Crispr.__init__` method for some reason, you can use `adata = cr.pp.create_object(file_path, ...)`, then pass `adata` to the class initialization method in lieu of a file/dictionary of file processing arguments.\n",
    "\n",
    "<u> Argument Conventions: </u>\n",
    "\n",
    "Certain arguments used throughout the `crispr` package (including outside the `crispr.crispr_class.Crispr()` class), hold to conventions intended to foster readability, maintain consistency, and promote clarity, both for end-users and future developers.\n",
    "\n",
    "* Use the `copy` argument to avoid altering internal attributes (including `.adata`) in most `Crispr` class methods.\n",
    "\n",
    "* Arguments starting in `col_` and `key_`\n",
    "    - The \"col_\" prefix indicates that an argument refers to a column name (often in `.adata.obs` or `.adata.var`), while the \"key_\" prefix means you're meant to specify a type of entry in a column. For instance, assume the column \"condition\" contains the names of different experimental conditions (drug A, drug B, drug C). In a function where you want to compare, for instance, drug A vs. control, you would specify `key_treatment=\"drug A\"` and k\n",
    "    - These names may \n",
    "        * already exist (or will exist in the `.adata` attribute immediately upon creating the AnnData object from the data file) or \n",
    "        * may yet to be created, namely, after object initialization by running the object's methods. Thus, you may specify what you want certain columns to be named (e.g., the binary perturbed/non-perturbed column) or what entries within a column will be called (e.g., \"Control\" for rows within the `col_control` corresponding to cells that have control guide RNA IDs in `col_guide_rna`), for aesthetics, customizability to your design/interpretability, and/or to avoid duplicating pre-existing names.\n",
    "    - These arguments will be entered as items (with the argument names as keys) in dictionaries stored in the object attributes `._columns` and `._keys`, respectively.\n",
    "    - These arguments will often be passed by default (or will force them as specifications) to various object methods.\n",
    "    - In certain methods, you can specify a new column to use just for that function. For instance, if you have a column containing CellTypist annotations and want to use those clusters instead of the \"leiden\" ones for the `run_dialogue()` method, you can specify in that method (`run_dialogue(col_cell_type=\"majority_voting\")`) without changing the attribute (`self._columns`) that contains your original specification here.\n",
    "\n",
    "<!-- break -->\n",
    "\n",
    "* `col_perturbed` (binary) vs. `col_condition` (can have >= 3 categories)\n",
    "    - In the `Crispr` class object, `col_perturbed` is meant to be a binary column that has `key_control` as the entry for control rows and `key_treatment` for all other experimental conditions. \n",
    "        * For instance, for a CRISPR design targeting more than one gene, `col_perturbed` would contain only `key_treatment` (i.e., all perturbed cells, regardless of targeted gene) while `col_condition` would contain entries specifying the particular gene(s) targeted (or `key_control`).\n",
    "        * A drug design targeting more than one gene, `col_perturbed` would contain only `key_treatment` (i.e., all perturbed cells, regardless of targeted gene) while `col_condition` would contain entries specifying the particular gene(s) targeted (or `key_control`).\n",
    "        * If the design only targets one gene/has one treatment conditions/etc., these columns would simply be equivalent.\n",
    "    - In the `Crispr` class object, it is created during object initialization as a column (named after your specification of `col_perturbed`) in `.obs`. All rows in `.obs[col_condition]` that do not = `key_control` will be set as `key_treatment`.\n",
    "    - In the `crispr` package more broadly, if a function calls for a `col_perturbed` argument, that indicates that it works with binary categories only. If it is fed a column with three or more categories, it will either subset the data to include only rows where that column = `key_treatment` or `key_control` (desirable behavior if you want to compare only a subset of the existing conditions, but undesirable if you want to look at, say, any drug vs. control, where the desired \"drug\" category consists of rows where the column = \"drug A\" and \"drug B\"), or it will throw an error.\n",
    "\n",
    "## Initialization Method Arguments (Select)\n",
    "\n",
    "Here are some of the important argument for the `Crispr()` class initialization method:\n",
    "\n",
    "* `file_path`: Path or object containing data. Used in initialization to create the initial `self.adata` attribute (an AnnData or MuData object). Either\n",
    "    - a path to a 10x directory (with matrix.mtx.gz, barcodes.tsv.gz, features.tsv.gz),\n",
    "    - a path to an .h5ad or .mu file (Scanpy/AnnData/Muon-compatible), \n",
    "    - an AnnData or MuData object (e.g., already loaded with Scanpy or Muon, or by using `crispr.pp.create_object(file_path)`), or\n",
    "    - a dictionary containing keyword arguments to pass to  `crispr.pp.combine_matrix_protospacer()` (in order to load information about perturbations from other file(s); see function documentation), or\n",
    "    - to concatenate multiple datasets, a dictionary (keyed by your desired subject/sample names to be used in `col_sample_id`) consisting of whatever objects you would pass to `create_object()`'s `file` argument for the individual objects. You must also specify `col_sample` (a tuple as described in the documentation below). The other arguments passed to the `crispr.pp.create_object()` function (e.g., `col_gene_symbols`) can be specified as normal if they are common across samples; otherwise, specify them as lists in the same order as the `file` dictionary. \n",
    "* `col_sample_id`: Column in `.obs` with sample IDs. If this column does not yet exist in your data and needs to be created by concatenating datasets, you must provide\n",
    "    - `file_path` as a dictionary keyed by desired `col_sample_id` values as well as \n",
    "    - signal that concatenation needs to happen by specifying `col_sample_id` as a tuple, with the second element containing a dictionary of keyword arguments to pass to `AnnData.concatenate()` or None (to use defaults).\n",
    "\n",
    "See docstring in `crispr.crispr_object` and the README for more details.\n",
    "\n",
    "\n",
    "## Crispr Object Properties\n",
    "\n",
    "Below are descriptions of major `Crispr()` object attributes and methods.\n",
    "\n",
    "### Attributes\n",
    "\n",
    "* `.adata`: AnnData object. Columns or other objects created in the course of running certain methods may also be stored in its various attributes. Below are listed some of the major attributes of `.adata`. Note that for multi-modal data (self._assay is not None), some of these attributes may need to be accessed by `.adata[self._assay].<attribute>`, but for brevity, we'll refer to `.adata` here. Not all will/have to be present, except `.X`, `.obs`, and `.var`. You can access the gene expression modality directly by calling `self.rna`, whether the data are multi- or single-modal.\n",
    "    -  `.X`: Sparse matrix of data originally passed to the function to create an AnnData object (e.g., from CellRanger output).\n",
    "    -  `.layers`: Contains different versions of `adata.X`, such as scaled data (`adata.layers[\"scaled\"]`) or that created by calculating a \n",
    "                  Mixscape perturbation signature (`adata.layers[\"X_pert\"]`, by default).\n",
    "    -  `.obs`: pandas.DataFrame of observations (rows=cells). You can store additional data about individual cells/samples/etc. here by assigning a new column. Can also be called directly using `self.obs`.\n",
    "    -  `.obsm`: xxxxxxxxxxxxxxxxxxxxxxxxxx\n",
    "    -  `.obsm`: xxxxxxxxxxxxxxxxxxxxxxxxxx\n",
    "    -  `.var`: pandas.DataFrame of observations (rows=cells). You can store additional data about individual cells/samples/etc. here by assigning a new column. \n",
    "            Often contains the gene symbols and EnsemblIDs (either of which is often the index/`.var_names`),\n",
    "            \"feature_types\" (e.g., \"Gene Expression\"), and, after preprocessing, may contain columns such as the number of cells expressing that feature (\"n_cells\"),\n",
    "            whether that feature is a mitochonrial (\"mt\") and/or highly variable (\"highly_variable\") gene, mean and total counts, percent dropout, means, dispersions, \n",
    "            and normalized versions of these metrics. Can also be called directly using `self.var`.\n",
    "    -  `.uns`: A dictionary that holds various results and other information. Can also be called directly using `self.uns`.\n",
    "    -  `.obs_names`: Row indices of `.obs` (e.g., cell barcodes). Changing this attribute changes this index, and has other potential benefits/consequences.\n",
    "    -  `.var_names`: Row indices of `.var` (i.e., gene names). Changing this attribute changes this index, and has other potential benefits/consequences.\n",
    "    -  `.n_obs`: Number of observations (i.e., cells).\n",
    "    -  `.n_vars`: Number of features (i.e., genes/proteins/etc.).\n",
    "* `.results`: Stored output (other than figures). Note that some results may also be saved in `.obs` and `.uns` attributes of `.adata`.\n",
    "* `.figures`: Stored figure objects.\n",
    "* `.info`: Miscellaneous information about the object (e.g., its analysis/processing history).\n",
    "\n",
    "### Methods\n",
    "\n",
    "Here are the methods (applicable to scRNA-seq generally, not just perturbations) **in order** of a typical workflow _(replace ... with argument specifications)_:\n",
    "\n",
    "* `self.preprocess(...)`: Perform filtering, normalization, scaling, quality control analysis, selection for highly variable genes, regressing out confounds, and intial exploration of the data (e.g., cell counts, mitochondrial counts, etc.).\n",
    "* `self.cluster(...)`: Perform dimensionality reduction (e.g., PCA) and clustering (Louvain or Leiden), as well as related visualization.\n",
    "* `self.plot(...)`: Create additional basic plots (e.g., dot, matrix, and violin gene expression plots).\n",
    "\n",
    "The following perturbation-specific methods can be executed optionally and in any order:\n",
    "\n",
    "* `self.run_augur(...)`: Score and plot how strongly different cell types responded to perturbation(s). This score is operationalized as the accuracy with which a machine learning model can use gene expression data to predict the perturbation condition to which cells of a given type belong. Augur provides scores aggregated across cells of a given type rather than for individual cells.\n",
    "* `self.run_mixscape(...)`: Quantify and plot the extent to which individual cells responded to CRISPR perturbation(s), and identify which perturbation condition cells were not detectibly perturbed in terms of their gene expression.\n",
    "* `self.compute_distance(...)`: Calculate and visualize various distance metrics that quantify the similarity in gene expression profiles across perturbation conditions.\n",
    "* `self.run_composition_analysis(...)`: Analyze and visualize shifts in the cell type composition across perturbation conditions.\n",
    "* `self.run_dialogue(...)`: Create plots showing multi-cellular programs."
   ]
  },
  {
   "cell_type": "markdown",
   "metadata": {},
   "source": [
    "# Setup\n",
    "\n",
    "First, we need to initialize the object, and if the object isn't already preprocessed and/or clustered, perform those steps.\n",
    "\n",
    "## Imports & Options\n",
    "\n",
    "This first chunk contains code that a typical user would not need and is only included because we need to set initialization keywords and other variables (drawn from the `crispr/examples/config.py` file) that correspond to the dataset specified in the `file` variable. See `config.py` for the names of different files/datasets you can specify."
   ]
  },
  {
   "cell_type": "code",
   "execution_count": 194,
   "metadata": {},
   "outputs": [
    {
     "name": "stdout",
     "output_type": "stream",
     "text": [
      "The autoreload extension is already loaded. To reload it, use:\n",
      "  %reload_ext autoreload\n",
      "['__builtins__', '__cached__', '__doc__', '__file__', '__loader__', '__name__', '__package__', '__path__', '__spec__', 'analyze_causal_network', 'analyze_composition', 'analyze_receptor_ligand', 'calculate_dea_deseq2', 'cluster', 'clustering', 'communication', 'composition', 'compute_distance', 'find_marker_genes', 'perform_augur', 'perform_celltypist', 'perform_dea', 'perform_differential_prioritization', 'perform_gsea', 'perform_mixscape', 'perform_pathway_interference', 'perturbations']\n",
      "{'directory': '/home/elizabeth/elizabeth/crispr/examples/data/crispr-screening/HH06'}\n",
      "Initialization arguments (from config):\n",
      "\n",
      "{'assay': None, 'assay_protein': None, 'col_gene_symbols': 'gene_symbols', 'col_cell_type': 'predicted_labels', 'col_sample_id': None, 'col_perturbed': 'perturbation', 'col_guide_rna': 'feature_call', 'col_num_umis': 'num_umis', 'kws_process_guide_rna': {'feature_split': '|', 'guide_split': '-', 'key_control_patterns': ['CTRL'], 'remove_multi_transfected': True, 'min_n_target_control_drop': None, 'max_pct_control_drop': 75, 'min_pct_dominant': 80, 'min_pct_avg_n': 40}, 'col_condition': 'target_gene_name', 'key_control': 'NT', 'key_treatment': 'KD'}\n",
      "UMAP Keywords: {'min_dist': 0.3}\n",
      "\n",
      "\n"
     ]
    },
    {
     "name": "stderr",
     "output_type": "stream",
     "text": [
      "[autoreload of crispr.processing.importing failed: Traceback (most recent call last):\n",
      "  File \"/home/elizabeth/elizabeth/miniconda3/envs/py-bio/lib/python3.10/site-packages/IPython/extensions/autoreload.py\", line 276, in check\n",
      "    superreload(m, reload, self.old_objects)\n",
      "  File \"/home/elizabeth/elizabeth/miniconda3/envs/py-bio/lib/python3.10/site-packages/IPython/extensions/autoreload.py\", line 475, in superreload\n",
      "    module = reload(module)\n",
      "  File \"/home/elizabeth/elizabeth/miniconda3/envs/py-bio/lib/python3.10/importlib/__init__.py\", line 169, in reload\n",
      "    _bootstrap._exec(spec, module)\n",
      "  File \"<frozen importlib._bootstrap>\", line 619, in _exec\n",
      "  File \"<frozen importlib._bootstrap_external>\", line 879, in exec_module\n",
      "  File \"<frozen importlib._bootstrap_external>\", line 1017, in get_code\n",
      "  File \"<frozen importlib._bootstrap_external>\", line 947, in source_to_code\n",
      "  File \"<frozen importlib._bootstrap>\", line 241, in _call_with_frames_removed\n",
      "  File \"/home/elizabeth/elizabeth/crispr/crispr/processing/importing.py\", line 139\n",
      "    new_path = re.sub(\"^_\", \"\", re.sub(\"^[.]\", \"\", re.sub(\n",
      "                                \n",
      "SyntaxError: invalid syntax. Perhaps you forgot a comma?\n",
      "]\n"
     ]
    }
   ],
   "source": [
    "%load_ext autoreload\n",
    "%autoreload 2\n",
    "\n",
    "import crispr as cr\n",
    "from crispr import Crispr\n",
    "import pertpy as pt\n",
    "import scanpy as sc\n",
    "import pandas as pd\n",
    "import numpy as np\n",
    "from config import (\n",
    "    files_data, assays_data, col_cell_type_data, col_gene_symbols_data,\n",
    "    col_perturbed_data, col_condition_data, key_control_data,\n",
    "    key_treatment_data, col_split_by_data, col_batch_data, col_sample_id_data,\n",
    "    kws_process_guide_rna_data, col_guide_rna_data, col_num_umis_data)\n",
    "\n",
    "pd.options.display.max_columns = 100\n",
    "\n",
    "# Options\n",
    "skip_preprocessing_clustering = False  # to skip these steps\n",
    "print(dir(cr.ax))\n",
    "file = \"CRISPRi_scr\"\n",
    "# file = \"CRISPRi_ess\"\n",
    "# file = \"ECCITE\"\n",
    "# file = \"augur_ex\"\n",
    "# file = \"coda\"\n",
    "# file = \"screen\"\n",
    "# file = \"perturb-seq\"\n",
    "\n",
    "#  Set Arguments\n",
    "kws_umap = dict(min_dist=0.3)  # passed to UMAP fx\n",
    "assay, assay_protein = None, None  # will change below if needed\n",
    "if file in assays_data and assays_data[file] is not None:\n",
    "    assay, assay_protein = [assays_data[file], None] if isinstance(\n",
    "        assays_data[file], str) else assays_data[file]\n",
    "else:\n",
    "    assay, assay_protein = None, None\n",
    "col_split_by = col_split_by_data[file]\n",
    "kwargs_init = dict(assay=assay, assay_protein=assay_protein,\n",
    "                   col_gene_symbols=col_gene_symbols_data[file],\n",
    "                   col_cell_type=col_cell_type_data[file],\n",
    "                   col_sample_id=col_sample_id_data[file],\n",
    "                   # col_batch=col_batch_data[file],\n",
    "                   col_perturbed=col_perturbed_data[file],\n",
    "                   col_guide_rna=col_guide_rna_data[file],\n",
    "                   col_num_umis=col_num_umis_data[file],\n",
    "                   kws_process_guide_rna={**kws_process_guide_rna_data[file]},\n",
    "                   col_condition=col_condition_data[file],\n",
    "                   key_control=key_control_data[file],\n",
    "                   key_treatment=key_treatment_data[file])\n",
    "if file == \"default_fast\":\n",
    "    skip_preprocessing_clustering = True\n",
    "if isinstance(file, str) and file in [\"ECCITE\", \"Adamson\"]:\n",
    "    file_path = pt.data.papalexi_2021() if (\n",
    "        file == \"ECCITE\") else pt.data.adamson_2016_upr_perturb_seq()\n",
    "else:\n",
    "    file_path = files_data[file]\n",
    "print(file_path)\n",
    "print(f\"Initialization arguments (from config):\\n\\n{kwargs_init}\")\n",
    "print(f\"UMAP Keywords: {kws_umap}\\n\\n\")"
   ]
  },
  {
   "cell_type": "markdown",
   "metadata": {},
   "source": [
    "## Object\n",
    "\n",
    "This code instantiates the CRISPR object, which is the main way of interacting with this package as an end-user.\n",
    "\n",
    "This is more code than you would need in real life; it just ensures that certain public datasets are loaded from the source for various reasons."
   ]
  },
  {
   "cell_type": "code",
   "execution_count": 195,
   "metadata": {},
   "outputs": [
    {
     "name": "stdout",
     "output_type": "stream",
     "text": [
      "\n",
      "\n",
      "<<< INITIALIZING OMICS CLASS OBJECT >>>\n",
      "\n",
      "Unused keyword arguments: {'kws_process_guide_rna': {'col_guide_rna': 'feature_call', 'col_num_umis': 'num_umis', 'key_control': 'NT', 'col_guide_rna_new': 'target_gene_name', 'feature_split': '|', 'guide_split': '-', 'key_control_patterns': ['CTRL'], 'remove_multi_transfected': True, 'min_n_target_control_drop': None, 'max_pct_control_drop': 75, 'min_pct_dominant': 80, 'min_pct_avg_n': 40}}.\n",
      "\n",
      "col_gene_symbols=\"gene_symbols\"\n",
      "col_cell_type=\"leiden\"\n",
      "col_sample_id=None\n",
      "col_batch=None\n",
      "col_subject=None\n",
      "col_condition=\"target_gene_name\"\n",
      "col_num_umis=\"num_umis\"\n",
      "key_control=\"NT\"\n",
      "key_treatment=\"KD\"\n",
      "\n",
      "\n",
      "<<< LOADING PROTOSPACER METADATA >>>\n"
     ]
    },
    {
     "ename": "KeyboardInterrupt",
     "evalue": "",
     "output_type": "error",
     "traceback": [
      "\u001b[0;31m---------------------------------------------------------------------------\u001b[0m",
      "\u001b[0;31mKeyboardInterrupt\u001b[0m                         Traceback (most recent call last)",
      "Cell \u001b[0;32mIn[195], line 1\u001b[0m\n\u001b[0;32m----> 1\u001b[0m \u001b[38;5;28mself\u001b[39m \u001b[38;5;241m=\u001b[39m \u001b[43mCrispr\u001b[49m\u001b[43m(\u001b[49m\u001b[43mfile_path\u001b[49m\u001b[43m,\u001b[49m\u001b[43m \u001b[49m\u001b[38;5;241;43m*\u001b[39;49m\u001b[38;5;241;43m*\u001b[39;49m\u001b[43mkwargs_init\u001b[49m\u001b[43m)\u001b[49m\n\u001b[1;32m      2\u001b[0m \u001b[38;5;28mself\u001b[39m\u001b[38;5;241m.\u001b[39mrna\u001b[38;5;241m.\u001b[39mobs  \u001b[38;5;66;03m# RNA assay/gene expression modality dataframe\u001b[39;00m\n\u001b[1;32m      3\u001b[0m adata \u001b[38;5;241m=\u001b[39m \u001b[38;5;28mself\u001b[39m\u001b[38;5;241m.\u001b[39madata\u001b[38;5;241m.\u001b[39mcopy()\n",
      "File \u001b[0;32m~/crispr/crispr/class_crispr.py:318\u001b[0m, in \u001b[0;36mCrispr.__init__\u001b[0;34m(self, file_path, assay, assay_protein, col_gene_symbols, col_cell_type, col_sample_id, col_condition, col_perturbed, col_guide_rna, col_num_umis, key_control, key_treatment, key_nonperturbed, kws_process_guide_rna, kws_multi, **kwargs)\u001b[0m\n\u001b[1;32m    316\u001b[0m \u001b[38;5;28;01melse\u001b[39;00m:\n\u001b[1;32m    317\u001b[0m     kws_pga, kws_process_guide_rna \u001b[38;5;241m=\u001b[39m \u001b[38;5;28;01mNone\u001b[39;00m, \u001b[38;5;28;01mNone\u001b[39;00m\n\u001b[0;32m--> 318\u001b[0m \u001b[38;5;28;43msuper\u001b[39;49m\u001b[43m(\u001b[49m\u001b[43m)\u001b[49m\u001b[38;5;241;43m.\u001b[39;49m\u001b[38;5;21;43m__init__\u001b[39;49m\u001b[43m(\u001b[49m\n\u001b[1;32m    319\u001b[0m \u001b[43m    \u001b[49m\u001b[38;5;28;43mself\u001b[39;49m\u001b[38;5;241;43m.\u001b[39;49m\u001b[43m_file_path\u001b[49m\u001b[43m,\u001b[49m\u001b[43m \u001b[49m\u001b[43massay\u001b[49m\u001b[38;5;241;43m=\u001b[39;49m\u001b[43massay\u001b[49m\u001b[43m,\u001b[49m\u001b[43m \u001b[49m\u001b[43mcol_gene_symbols\u001b[49m\u001b[38;5;241;43m=\u001b[39;49m\u001b[43mcol_gene_symbols\u001b[49m\u001b[43m,\u001b[49m\n\u001b[1;32m    320\u001b[0m \u001b[43m    \u001b[49m\u001b[43mcol_sample_id\u001b[49m\u001b[38;5;241;43m=\u001b[39;49m\u001b[43mcol_sample_id\u001b[49m\u001b[43m,\u001b[49m\u001b[43m \u001b[49m\u001b[43mcol_condition\u001b[49m\u001b[38;5;241;43m=\u001b[39;49m\u001b[43mcol_condition\u001b[49m\u001b[43m,\u001b[49m\n\u001b[1;32m    321\u001b[0m \u001b[43m    \u001b[49m\u001b[43mkey_control\u001b[49m\u001b[38;5;241;43m=\u001b[39;49m\u001b[43mkey_control\u001b[49m\u001b[43m,\u001b[49m\u001b[43m \u001b[49m\u001b[43mkey_treatment\u001b[49m\u001b[38;5;241;43m=\u001b[39;49m\u001b[43mkey_treatment\u001b[49m\u001b[43m,\u001b[49m\n\u001b[1;32m    322\u001b[0m \u001b[43m    \u001b[49m\u001b[43mkws_process_guide_rna\u001b[49m\u001b[38;5;241;43m=\u001b[39;49m\u001b[43mkws_pga\u001b[49m\u001b[43m,\u001b[49m\u001b[43m \u001b[49m\u001b[43mkws_multi\u001b[49m\u001b[38;5;241;43m=\u001b[39;49m\u001b[43mkws_multi\u001b[49m\u001b[43m)\u001b[49m  \u001b[38;5;66;03m# make adata\u001b[39;00m\n\u001b[1;32m    324\u001b[0m \u001b[38;5;66;03m# Store gRNA Processing Information\u001b[39;00m\n\u001b[1;32m    325\u001b[0m \u001b[38;5;28mself\u001b[39m\u001b[38;5;241m.\u001b[39minfo[\u001b[38;5;124m\"\u001b[39m\u001b[38;5;124mguide_rna\u001b[39m\u001b[38;5;124m\"\u001b[39m][\u001b[38;5;124m\"\u001b[39m\u001b[38;5;124mkeywords\u001b[39m\u001b[38;5;124m\"\u001b[39m] \u001b[38;5;241m=\u001b[39m kws_process_guide_rna\n",
      "File \u001b[0;32m~/crispr/crispr/class_sc.py:156\u001b[0m, in \u001b[0;36mOmics.__init__\u001b[0;34m(self, file_path, prefix, assay, assay_protein, raw, col_gene_symbols, col_cell_type, col_sample_id, col_subject, col_condition, key_control, key_treatment, kws_multi, **kwargs)\u001b[0m\n\u001b[1;32m    145\u001b[0m     \u001b[38;5;28mself\u001b[39m\u001b[38;5;241m.\u001b[39madata \u001b[38;5;241m=\u001b[39m cr\u001b[38;5;241m.\u001b[39mpp\u001b[38;5;241m.\u001b[39mcreate_object_multi(\n\u001b[1;32m    146\u001b[0m         file_path, kws_init\u001b[38;5;241m=\u001b[39m\u001b[38;5;28mdict\u001b[39m(\n\u001b[1;32m    147\u001b[0m             prefix\u001b[38;5;241m=\u001b[39mprefix, assay\u001b[38;5;241m=\u001b[39massay, assay_protein\u001b[38;5;241m=\u001b[39massay_protein,\n\u001b[0;32m   (...)\u001b[0m\n\u001b[1;32m    153\u001b[0m             col_sample_id\u001b[38;5;241m=\u001b[39mcol_sample_id, \u001b[38;5;241m*\u001b[39m\u001b[38;5;241m*\u001b[39mkwargs),\n\u001b[1;32m    154\u001b[0m         \u001b[38;5;241m*\u001b[39m\u001b[38;5;241m*\u001b[39mkws_multi)  \u001b[38;5;66;03m# create integrated object\u001b[39;00m\n\u001b[1;32m    155\u001b[0m \u001b[38;5;28;01melse\u001b[39;00m:\n\u001b[0;32m--> 156\u001b[0m     \u001b[38;5;28mself\u001b[39m\u001b[38;5;241m.\u001b[39madata \u001b[38;5;241m=\u001b[39m \u001b[43mcr\u001b[49m\u001b[38;5;241;43m.\u001b[39;49m\u001b[43mpp\u001b[49m\u001b[38;5;241;43m.\u001b[39;49m\u001b[43mcreate_object\u001b[49m\u001b[43m(\u001b[49m\n\u001b[1;32m    157\u001b[0m \u001b[43m        \u001b[49m\u001b[38;5;28;43mself\u001b[39;49m\u001b[38;5;241;43m.\u001b[39;49m\u001b[43m_file_path\u001b[49m\u001b[43m,\u001b[49m\u001b[43m \u001b[49m\u001b[43mprefix\u001b[49m\u001b[38;5;241;43m=\u001b[39;49m\u001b[43mprefix\u001b[49m\u001b[43m,\u001b[49m\u001b[43m \u001b[49m\u001b[43massay\u001b[49m\u001b[38;5;241;43m=\u001b[39;49m\u001b[43massay\u001b[49m\u001b[43m,\u001b[49m\u001b[43m \u001b[49m\u001b[43mraw\u001b[49m\u001b[38;5;241;43m=\u001b[39;49m\u001b[43mraw\u001b[49m\u001b[43m,\u001b[49m\n\u001b[1;32m    158\u001b[0m \u001b[43m        \u001b[49m\u001b[43mcol_gene_symbols\u001b[49m\u001b[38;5;241;43m=\u001b[39;49m\u001b[43mcol_gene_symbols\u001b[49m\u001b[43m,\u001b[49m\n\u001b[1;32m    159\u001b[0m \u001b[43m        \u001b[49m\u001b[43mcol_sample_id\u001b[49m\u001b[38;5;241;43m=\u001b[39;49m\u001b[43mcol_sample_id\u001b[49m\u001b[43m,\u001b[49m\u001b[43m \u001b[49m\u001b[38;5;241;43m*\u001b[39;49m\u001b[38;5;241;43m*\u001b[39;49m\u001b[43mkwargs\u001b[49m\u001b[43m)\u001b[49m  \u001b[38;5;66;03m# make AnnData\u001b[39;00m\n\u001b[1;32m    160\u001b[0m \u001b[38;5;28mprint\u001b[39m(\u001b[38;5;28mself\u001b[39m\u001b[38;5;241m.\u001b[39madata\u001b[38;5;241m.\u001b[39mobs, \u001b[38;5;124m\"\u001b[39m\u001b[38;5;130;01m\\n\u001b[39;00m\u001b[38;5;130;01m\\n\u001b[39;00m\u001b[38;5;124m\"\u001b[39m) \u001b[38;5;28;01mif\u001b[39;00m assay \u001b[38;5;28;01melse\u001b[39;00m \u001b[38;5;28;01mNone\u001b[39;00m\n\u001b[1;32m    162\u001b[0m \u001b[38;5;66;03m# Let Property Setters Run\u001b[39;00m\n",
      "File \u001b[0;32m~/crispr/crispr/processing/preprocessing.py:108\u001b[0m, in \u001b[0;36mcreate_object\u001b[0;34m(file, col_gene_symbols, assay, kws_process_guide_rna, raw, gex_only, prefix, **kwargs)\u001b[0m\n\u001b[1;32m    106\u001b[0m \u001b[38;5;28;01melif\u001b[39;00m \u001b[38;5;28misinstance\u001b[39m(file, \u001b[38;5;28mdict\u001b[39m):  \u001b[38;5;66;03m# metadata in protospacer files\u001b[39;00m\n\u001b[1;32m    107\u001b[0m     \u001b[38;5;28mprint\u001b[39m(\u001b[38;5;124m\"\u001b[39m\u001b[38;5;130;01m\\n\u001b[39;00m\u001b[38;5;130;01m\\n\u001b[39;00m\u001b[38;5;124m<<< LOADING PROTOSPACER METADATA >>>\u001b[39m\u001b[38;5;124m\"\u001b[39m)\n\u001b[0;32m--> 108\u001b[0m     adata \u001b[38;5;241m=\u001b[39m \u001b[43mcr\u001b[49m\u001b[38;5;241;43m.\u001b[39;49m\u001b[43mpp\u001b[49m\u001b[38;5;241;43m.\u001b[39;49m\u001b[43mcombine_matrix_protospacer\u001b[49m\u001b[43m(\u001b[49m\n\u001b[1;32m    109\u001b[0m \u001b[43m        \u001b[49m\u001b[38;5;241;43m*\u001b[39;49m\u001b[38;5;241;43m*\u001b[39;49m\u001b[43mfile\u001b[49m\u001b[43m,\u001b[49m\u001b[43m \u001b[49m\u001b[43mcol_gene_symbols\u001b[49m\u001b[38;5;241;43m=\u001b[39;49m\u001b[43mcol_gene_symbols\u001b[49m\u001b[43m,\u001b[49m\u001b[43m \u001b[49m\u001b[43mgex_only\u001b[49m\u001b[38;5;241;43m=\u001b[39;49m\u001b[43mgex_only\u001b[49m\u001b[43m,\u001b[49m\n\u001b[1;32m    110\u001b[0m \u001b[43m        \u001b[49m\u001b[43mprefix\u001b[49m\u001b[38;5;241;43m=\u001b[39;49m\u001b[43mprefix\u001b[49m\u001b[43m,\u001b[49m\u001b[43m \u001b[49m\u001b[38;5;241;43m*\u001b[39;49m\u001b[38;5;241;43m*\u001b[39;49m\u001b[43mkwargs\u001b[49m\u001b[43m)\u001b[49m  \u001b[38;5;66;03m# + metadata from protospacer\u001b[39;00m\n\u001b[1;32m    111\u001b[0m \u001b[38;5;28;01melif\u001b[39;00m \u001b[38;5;129;01mnot\u001b[39;00m \u001b[38;5;28misinstance\u001b[39m(file, (\u001b[38;5;28mstr\u001b[39m, os\u001b[38;5;241m.\u001b[39mPathLike)):  \u001b[38;5;66;03m# if already AnnData\u001b[39;00m\n\u001b[1;32m    112\u001b[0m     \u001b[38;5;28mprint\u001b[39m(\u001b[38;5;124m\"\u001b[39m\u001b[38;5;130;01m\\n\u001b[39;00m\u001b[38;5;130;01m\\n\u001b[39;00m\u001b[38;5;124m<<< LOADING OBJECT >>>\u001b[39m\u001b[38;5;124m\"\u001b[39m)\n",
      "File \u001b[0;32m~/crispr/crispr/processing/importing.py:223\u001b[0m, in \u001b[0;36mcombine_matrix_protospacer\u001b[0;34m(directory, subdirectory_mtx, file_protospacer, col_gene_symbols, col_barcode, gex_only, drop_guide_capture, prefix, **kwargs)\u001b[0m\n\u001b[1;32m    221\u001b[0m     os.path.join(directory, subdirectory_mtx),\n\u001b[1;32m    222\u001b[0m     var_names=col_gene_symbols, gex_only=gex_only, prefix=prefix,\n\u001b[0;32m--> 223\u001b[0m     **kwargs)  # read 10x matrix, barcodes, features files\n\u001b[1;32m    224\u001b[0m dff = pd.read_csv(os.path.join(directory, file_protospacer),\n\u001b[1;32m    225\u001b[0m                   index_col=col_barcode)  # perturbation information\n",
      "File \u001b[0;32m~/miniconda3/envs/py-bio/lib/python3.10/site-packages/scanpy/readwrite.py:489\u001b[0m, in \u001b[0;36mread_10x_mtx\u001b[0;34m(path, var_names, make_unique, cache, cache_compression, gex_only, prefix)\u001b[0m\n\u001b[1;32m    487\u001b[0m genefile_exists \u001b[38;5;241m=\u001b[39m (path \u001b[38;5;241m/\u001b[39m \u001b[38;5;124mf\u001b[39m\u001b[38;5;124m'\u001b[39m\u001b[38;5;132;01m{\u001b[39;00mprefix\u001b[38;5;132;01m}\u001b[39;00m\u001b[38;5;124mgenes.tsv\u001b[39m\u001b[38;5;124m'\u001b[39m)\u001b[38;5;241m.\u001b[39mis_file()\n\u001b[1;32m    488\u001b[0m read \u001b[38;5;241m=\u001b[39m _read_legacy_10x_mtx \u001b[38;5;28;01mif\u001b[39;00m genefile_exists \u001b[38;5;28;01melse\u001b[39;00m _read_v3_10x_mtx\n\u001b[0;32m--> 489\u001b[0m adata \u001b[38;5;241m=\u001b[39m \u001b[43mread\u001b[49m\u001b[43m(\u001b[49m\n\u001b[1;32m    490\u001b[0m \u001b[43m    \u001b[49m\u001b[38;5;28;43mstr\u001b[39;49m\u001b[43m(\u001b[49m\u001b[43mpath\u001b[49m\u001b[43m)\u001b[49m\u001b[43m,\u001b[49m\n\u001b[1;32m    491\u001b[0m \u001b[43m    \u001b[49m\u001b[43mvar_names\u001b[49m\u001b[38;5;241;43m=\u001b[39;49m\u001b[43mvar_names\u001b[49m\u001b[43m,\u001b[49m\n\u001b[1;32m    492\u001b[0m \u001b[43m    \u001b[49m\u001b[43mmake_unique\u001b[49m\u001b[38;5;241;43m=\u001b[39;49m\u001b[43mmake_unique\u001b[49m\u001b[43m,\u001b[49m\n\u001b[1;32m    493\u001b[0m \u001b[43m    \u001b[49m\u001b[43mcache\u001b[49m\u001b[38;5;241;43m=\u001b[39;49m\u001b[43mcache\u001b[49m\u001b[43m,\u001b[49m\n\u001b[1;32m    494\u001b[0m \u001b[43m    \u001b[49m\u001b[43mcache_compression\u001b[49m\u001b[38;5;241;43m=\u001b[39;49m\u001b[43mcache_compression\u001b[49m\u001b[43m,\u001b[49m\n\u001b[1;32m    495\u001b[0m \u001b[43m    \u001b[49m\u001b[43mprefix\u001b[49m\u001b[38;5;241;43m=\u001b[39;49m\u001b[43mprefix\u001b[49m\u001b[43m,\u001b[49m\n\u001b[1;32m    496\u001b[0m \u001b[43m\u001b[49m\u001b[43m)\u001b[49m\n\u001b[1;32m    497\u001b[0m \u001b[38;5;28;01mif\u001b[39;00m genefile_exists \u001b[38;5;129;01mor\u001b[39;00m \u001b[38;5;129;01mnot\u001b[39;00m gex_only:\n\u001b[1;32m    498\u001b[0m     \u001b[38;5;28;01mreturn\u001b[39;00m adata\n",
      "File \u001b[0;32m~/miniconda3/envs/py-bio/lib/python3.10/site-packages/scanpy/readwrite.py:553\u001b[0m, in \u001b[0;36m_read_v3_10x_mtx\u001b[0;34m(path, var_names, make_unique, cache, cache_compression, prefix)\u001b[0m\n\u001b[1;32m    549\u001b[0m \u001b[38;5;250m\u001b[39m\u001b[38;5;124;03m\"\"\"\u001b[39;00m\n\u001b[1;32m    550\u001b[0m \u001b[38;5;124;03mRead mtx from output from Cell Ranger v3 or later versions\u001b[39;00m\n\u001b[1;32m    551\u001b[0m \u001b[38;5;124;03m\"\"\"\u001b[39;00m\n\u001b[1;32m    552\u001b[0m path \u001b[38;5;241m=\u001b[39m Path(path)\n\u001b[0;32m--> 553\u001b[0m adata \u001b[38;5;241m=\u001b[39m \u001b[43mread\u001b[49m\u001b[43m(\u001b[49m\n\u001b[1;32m    554\u001b[0m \u001b[43m    \u001b[49m\u001b[43mpath\u001b[49m\u001b[43m \u001b[49m\u001b[38;5;241;43m/\u001b[39;49m\u001b[43m \u001b[49m\u001b[38;5;124;43mf\u001b[39;49m\u001b[38;5;124;43m'\u001b[39;49m\u001b[38;5;132;43;01m{\u001b[39;49;00m\u001b[43mprefix\u001b[49m\u001b[38;5;132;43;01m}\u001b[39;49;00m\u001b[38;5;124;43mmatrix.mtx.gz\u001b[39;49m\u001b[38;5;124;43m'\u001b[39;49m\u001b[43m,\u001b[49m\n\u001b[1;32m    555\u001b[0m \u001b[43m    \u001b[49m\u001b[43mcache\u001b[49m\u001b[38;5;241;43m=\u001b[39;49m\u001b[43mcache\u001b[49m\u001b[43m,\u001b[49m\n\u001b[1;32m    556\u001b[0m \u001b[43m    \u001b[49m\u001b[43mcache_compression\u001b[49m\u001b[38;5;241;43m=\u001b[39;49m\u001b[43mcache_compression\u001b[49m\u001b[43m,\u001b[49m\n\u001b[1;32m    557\u001b[0m \u001b[43m\u001b[49m\u001b[43m)\u001b[49m\u001b[38;5;241m.\u001b[39mT  \u001b[38;5;66;03m# transpose the data\u001b[39;00m\n\u001b[1;32m    558\u001b[0m genes \u001b[38;5;241m=\u001b[39m pd\u001b[38;5;241m.\u001b[39mread_csv(path \u001b[38;5;241m/\u001b[39m \u001b[38;5;124mf\u001b[39m\u001b[38;5;124m'\u001b[39m\u001b[38;5;132;01m{\u001b[39;00mprefix\u001b[38;5;132;01m}\u001b[39;00m\u001b[38;5;124mfeatures.tsv.gz\u001b[39m\u001b[38;5;124m'\u001b[39m, header\u001b[38;5;241m=\u001b[39m\u001b[38;5;28;01mNone\u001b[39;00m, sep\u001b[38;5;241m=\u001b[39m\u001b[38;5;124m'\u001b[39m\u001b[38;5;130;01m\\t\u001b[39;00m\u001b[38;5;124m'\u001b[39m)\n\u001b[1;32m    559\u001b[0m \u001b[38;5;28;01mif\u001b[39;00m var_names \u001b[38;5;241m==\u001b[39m \u001b[38;5;124m'\u001b[39m\u001b[38;5;124mgene_symbols\u001b[39m\u001b[38;5;124m'\u001b[39m:\n",
      "File \u001b[0;32m~/miniconda3/envs/py-bio/lib/python3.10/site-packages/scanpy/readwrite.py:111\u001b[0m, in \u001b[0;36mread\u001b[0;34m(filename, backed, sheet, ext, delimiter, first_column_names, backup_url, cache, cache_compression, **kwargs)\u001b[0m\n\u001b[1;32m    109\u001b[0m filename \u001b[38;5;241m=\u001b[39m Path(filename)  \u001b[38;5;66;03m# allow passing strings\u001b[39;00m\n\u001b[1;32m    110\u001b[0m \u001b[38;5;28;01mif\u001b[39;00m is_valid_filename(filename):\n\u001b[0;32m--> 111\u001b[0m     \u001b[38;5;28;01mreturn\u001b[39;00m \u001b[43m_read\u001b[49m\u001b[43m(\u001b[49m\n\u001b[1;32m    112\u001b[0m \u001b[43m        \u001b[49m\u001b[43mfilename\u001b[49m\u001b[43m,\u001b[49m\n\u001b[1;32m    113\u001b[0m \u001b[43m        \u001b[49m\u001b[43mbacked\u001b[49m\u001b[38;5;241;43m=\u001b[39;49m\u001b[43mbacked\u001b[49m\u001b[43m,\u001b[49m\n\u001b[1;32m    114\u001b[0m \u001b[43m        \u001b[49m\u001b[43msheet\u001b[49m\u001b[38;5;241;43m=\u001b[39;49m\u001b[43msheet\u001b[49m\u001b[43m,\u001b[49m\n\u001b[1;32m    115\u001b[0m \u001b[43m        \u001b[49m\u001b[43mext\u001b[49m\u001b[38;5;241;43m=\u001b[39;49m\u001b[43mext\u001b[49m\u001b[43m,\u001b[49m\n\u001b[1;32m    116\u001b[0m \u001b[43m        \u001b[49m\u001b[43mdelimiter\u001b[49m\u001b[38;5;241;43m=\u001b[39;49m\u001b[43mdelimiter\u001b[49m\u001b[43m,\u001b[49m\n\u001b[1;32m    117\u001b[0m \u001b[43m        \u001b[49m\u001b[43mfirst_column_names\u001b[49m\u001b[38;5;241;43m=\u001b[39;49m\u001b[43mfirst_column_names\u001b[49m\u001b[43m,\u001b[49m\n\u001b[1;32m    118\u001b[0m \u001b[43m        \u001b[49m\u001b[43mbackup_url\u001b[49m\u001b[38;5;241;43m=\u001b[39;49m\u001b[43mbackup_url\u001b[49m\u001b[43m,\u001b[49m\n\u001b[1;32m    119\u001b[0m \u001b[43m        \u001b[49m\u001b[43mcache\u001b[49m\u001b[38;5;241;43m=\u001b[39;49m\u001b[43mcache\u001b[49m\u001b[43m,\u001b[49m\n\u001b[1;32m    120\u001b[0m \u001b[43m        \u001b[49m\u001b[43mcache_compression\u001b[49m\u001b[38;5;241;43m=\u001b[39;49m\u001b[43mcache_compression\u001b[49m\u001b[43m,\u001b[49m\n\u001b[1;32m    121\u001b[0m \u001b[43m        \u001b[49m\u001b[38;5;241;43m*\u001b[39;49m\u001b[38;5;241;43m*\u001b[39;49m\u001b[43mkwargs\u001b[49m\u001b[43m,\u001b[49m\n\u001b[1;32m    122\u001b[0m \u001b[43m    \u001b[49m\u001b[43m)\u001b[49m\n\u001b[1;32m    123\u001b[0m \u001b[38;5;66;03m# generate filename and read to dict\u001b[39;00m\n\u001b[1;32m    124\u001b[0m filekey \u001b[38;5;241m=\u001b[39m \u001b[38;5;28mstr\u001b[39m(filename)\n",
      "File \u001b[0;32m~/miniconda3/envs/py-bio/lib/python3.10/site-packages/scanpy/readwrite.py:750\u001b[0m, in \u001b[0;36m_read\u001b[0;34m(filename, backed, sheet, ext, delimiter, first_column_names, backup_url, cache, cache_compression, suppress_cache_warning, **kwargs)\u001b[0m\n\u001b[1;32m    748\u001b[0m         adata \u001b[38;5;241m=\u001b[39m read_excel(filename, sheet)\n\u001b[1;32m    749\u001b[0m \u001b[38;5;28;01melif\u001b[39;00m ext \u001b[38;5;129;01min\u001b[39;00m {\u001b[38;5;124m'\u001b[39m\u001b[38;5;124mmtx\u001b[39m\u001b[38;5;124m'\u001b[39m, \u001b[38;5;124m'\u001b[39m\u001b[38;5;124mmtx.gz\u001b[39m\u001b[38;5;124m'\u001b[39m}:\n\u001b[0;32m--> 750\u001b[0m     adata \u001b[38;5;241m=\u001b[39m \u001b[43mread_mtx\u001b[49m\u001b[43m(\u001b[49m\u001b[43mfilename\u001b[49m\u001b[43m)\u001b[49m\n\u001b[1;32m    751\u001b[0m \u001b[38;5;28;01melif\u001b[39;00m ext \u001b[38;5;241m==\u001b[39m \u001b[38;5;124m'\u001b[39m\u001b[38;5;124mcsv\u001b[39m\u001b[38;5;124m'\u001b[39m:\n\u001b[1;32m    752\u001b[0m     adata \u001b[38;5;241m=\u001b[39m read_csv(filename, first_column_names\u001b[38;5;241m=\u001b[39mfirst_column_names)\n",
      "File \u001b[0;32m~/miniconda3/envs/py-bio/lib/python3.10/site-packages/anndata/_io/read.py:317\u001b[0m, in \u001b[0;36mread_mtx\u001b[0;34m(filename, dtype)\u001b[0m\n\u001b[1;32m    314\u001b[0m \u001b[38;5;28;01mfrom\u001b[39;00m \u001b[38;5;21;01mscipy\u001b[39;00m\u001b[38;5;21;01m.\u001b[39;00m\u001b[38;5;21;01mio\u001b[39;00m \u001b[38;5;28;01mimport\u001b[39;00m mmread\n\u001b[1;32m    316\u001b[0m \u001b[38;5;66;03m# could be rewritten accounting for dtype to be more performant\u001b[39;00m\n\u001b[0;32m--> 317\u001b[0m X \u001b[38;5;241m=\u001b[39m \u001b[43mmmread\u001b[49m\u001b[43m(\u001b[49m\u001b[43mfspath\u001b[49m\u001b[43m(\u001b[49m\u001b[43mfilename\u001b[49m\u001b[43m)\u001b[49m\u001b[43m)\u001b[49m\u001b[38;5;241;43m.\u001b[39;49m\u001b[43mastype\u001b[49m\u001b[43m(\u001b[49m\u001b[43mdtype\u001b[49m\u001b[43m)\u001b[49m\n\u001b[1;32m    318\u001b[0m \u001b[38;5;28;01mfrom\u001b[39;00m \u001b[38;5;21;01mscipy\u001b[39;00m\u001b[38;5;21;01m.\u001b[39;00m\u001b[38;5;21;01msparse\u001b[39;00m \u001b[38;5;28;01mimport\u001b[39;00m csr_matrix\n\u001b[1;32m    320\u001b[0m X \u001b[38;5;241m=\u001b[39m csr_matrix(X)\n",
      "File \u001b[0;32m~/miniconda3/envs/py-bio/lib/python3.10/site-packages/scipy/sparse/_data.py:76\u001b[0m, in \u001b[0;36m_data_matrix.astype\u001b[0;34m(self, dtype, casting, copy)\u001b[0m\n\u001b[1;32m     71\u001b[0m \u001b[38;5;28;01mif\u001b[39;00m \u001b[38;5;28mself\u001b[39m\u001b[38;5;241m.\u001b[39mdtype \u001b[38;5;241m!=\u001b[39m dtype:\n\u001b[1;32m     72\u001b[0m     matrix \u001b[38;5;241m=\u001b[39m \u001b[38;5;28mself\u001b[39m\u001b[38;5;241m.\u001b[39m_with_data(\n\u001b[1;32m     73\u001b[0m         \u001b[38;5;28mself\u001b[39m\u001b[38;5;241m.\u001b[39mdata\u001b[38;5;241m.\u001b[39mastype(dtype, casting\u001b[38;5;241m=\u001b[39mcasting, copy\u001b[38;5;241m=\u001b[39m\u001b[38;5;28;01mTrue\u001b[39;00m),\n\u001b[1;32m     74\u001b[0m         copy\u001b[38;5;241m=\u001b[39m\u001b[38;5;28;01mTrue\u001b[39;00m\n\u001b[1;32m     75\u001b[0m     )\n\u001b[0;32m---> 76\u001b[0m     \u001b[38;5;28;01mreturn\u001b[39;00m matrix\u001b[38;5;241m.\u001b[39m_with_data(\u001b[43mmatrix\u001b[49m\u001b[38;5;241;43m.\u001b[39;49m\u001b[43m_deduped_data\u001b[49m\u001b[43m(\u001b[49m\u001b[43m)\u001b[49m, copy\u001b[38;5;241m=\u001b[39m\u001b[38;5;28;01mFalse\u001b[39;00m)\n\u001b[1;32m     77\u001b[0m \u001b[38;5;28;01melif\u001b[39;00m copy:\n\u001b[1;32m     78\u001b[0m     \u001b[38;5;28;01mreturn\u001b[39;00m \u001b[38;5;28mself\u001b[39m\u001b[38;5;241m.\u001b[39mcopy()\n",
      "File \u001b[0;32m~/miniconda3/envs/py-bio/lib/python3.10/site-packages/scipy/sparse/_data.py:33\u001b[0m, in \u001b[0;36m_data_matrix._deduped_data\u001b[0;34m(self)\u001b[0m\n\u001b[1;32m     31\u001b[0m \u001b[38;5;28;01mdef\u001b[39;00m \u001b[38;5;21m_deduped_data\u001b[39m(\u001b[38;5;28mself\u001b[39m):\n\u001b[1;32m     32\u001b[0m     \u001b[38;5;28;01mif\u001b[39;00m \u001b[38;5;28mhasattr\u001b[39m(\u001b[38;5;28mself\u001b[39m, \u001b[38;5;124m'\u001b[39m\u001b[38;5;124msum_duplicates\u001b[39m\u001b[38;5;124m'\u001b[39m):\n\u001b[0;32m---> 33\u001b[0m         \u001b[38;5;28;43mself\u001b[39;49m\u001b[38;5;241;43m.\u001b[39;49m\u001b[43msum_duplicates\u001b[49m\u001b[43m(\u001b[49m\u001b[43m)\u001b[49m\n\u001b[1;32m     34\u001b[0m     \u001b[38;5;28;01mreturn\u001b[39;00m \u001b[38;5;28mself\u001b[39m\u001b[38;5;241m.\u001b[39mdata\n",
      "File \u001b[0;32m~/miniconda3/envs/py-bio/lib/python3.10/site-packages/scipy/sparse/_coo.py:436\u001b[0m, in \u001b[0;36m_coo_base.sum_duplicates\u001b[0;34m(self)\u001b[0m\n\u001b[1;32m    434\u001b[0m \u001b[38;5;28;01mif\u001b[39;00m \u001b[38;5;28mself\u001b[39m\u001b[38;5;241m.\u001b[39mhas_canonical_format:\n\u001b[1;32m    435\u001b[0m     \u001b[38;5;28;01mreturn\u001b[39;00m\n\u001b[0;32m--> 436\u001b[0m summed \u001b[38;5;241m=\u001b[39m \u001b[38;5;28;43mself\u001b[39;49m\u001b[38;5;241;43m.\u001b[39;49m\u001b[43m_sum_duplicates\u001b[49m\u001b[43m(\u001b[49m\u001b[38;5;28;43mself\u001b[39;49m\u001b[38;5;241;43m.\u001b[39;49m\u001b[43mrow\u001b[49m\u001b[43m,\u001b[49m\u001b[43m \u001b[49m\u001b[38;5;28;43mself\u001b[39;49m\u001b[38;5;241;43m.\u001b[39;49m\u001b[43mcol\u001b[49m\u001b[43m,\u001b[49m\u001b[43m \u001b[49m\u001b[38;5;28;43mself\u001b[39;49m\u001b[38;5;241;43m.\u001b[39;49m\u001b[43mdata\u001b[49m\u001b[43m)\u001b[49m\n\u001b[1;32m    437\u001b[0m \u001b[38;5;28mself\u001b[39m\u001b[38;5;241m.\u001b[39mrow, \u001b[38;5;28mself\u001b[39m\u001b[38;5;241m.\u001b[39mcol, \u001b[38;5;28mself\u001b[39m\u001b[38;5;241m.\u001b[39mdata \u001b[38;5;241m=\u001b[39m summed\n\u001b[1;32m    438\u001b[0m \u001b[38;5;28mself\u001b[39m\u001b[38;5;241m.\u001b[39mhas_canonical_format \u001b[38;5;241m=\u001b[39m \u001b[38;5;28;01mTrue\u001b[39;00m\n",
      "File \u001b[0;32m~/miniconda3/envs/py-bio/lib/python3.10/site-packages/scipy/sparse/_coo.py:447\u001b[0m, in \u001b[0;36m_coo_base._sum_duplicates\u001b[0;34m(self, row, col, data)\u001b[0m\n\u001b[1;32m    443\u001b[0m     \u001b[38;5;28;01mreturn\u001b[39;00m row, col, data\n\u001b[1;32m    444\u001b[0m \u001b[38;5;66;03m# Sort indices w.r.t. rows, then cols. This corresponds to C-order,\u001b[39;00m\n\u001b[1;32m    445\u001b[0m \u001b[38;5;66;03m# which we rely on for argmin/argmax to return the first index in the\u001b[39;00m\n\u001b[1;32m    446\u001b[0m \u001b[38;5;66;03m# same way that numpy does (in the case of ties).\u001b[39;00m\n\u001b[0;32m--> 447\u001b[0m order \u001b[38;5;241m=\u001b[39m \u001b[43mnp\u001b[49m\u001b[38;5;241;43m.\u001b[39;49m\u001b[43mlexsort\u001b[49m\u001b[43m(\u001b[49m\u001b[43m(\u001b[49m\u001b[43mcol\u001b[49m\u001b[43m,\u001b[49m\u001b[43m \u001b[49m\u001b[43mrow\u001b[49m\u001b[43m)\u001b[49m\u001b[43m)\u001b[49m\n\u001b[1;32m    448\u001b[0m row \u001b[38;5;241m=\u001b[39m row[order]\n\u001b[1;32m    449\u001b[0m col \u001b[38;5;241m=\u001b[39m col[order]\n",
      "File \u001b[0;32m<__array_function__ internals>:200\u001b[0m, in \u001b[0;36mlexsort\u001b[0;34m(*args, **kwargs)\u001b[0m\n",
      "\u001b[0;31mKeyboardInterrupt\u001b[0m: "
     ]
    }
   ],
   "source": [
    "self = Crispr(file_path, **kwargs_init)\n",
    "self.rna.obs  # RNA assay/gene expression modality dataframe\n",
    "adata = self.adata.copy()"
   ]
  },
  {
   "cell_type": "markdown",
   "metadata": {},
   "source": [
    "## Preprocessing"
   ]
  },
  {
   "cell_type": "code",
   "execution_count": null,
   "metadata": {},
   "outputs": [],
   "source": [
    "if skip_preprocessing_clustering is False:\n",
    "    process_kws = dict(\n",
    "        kws_hvg=dict(min_mean=0.0125, max_mean=10, min_disp=0.5,\n",
    "                     flavor=\"cell_ranger\"),  # for highly-variable gene fx\n",
    "        target_sum=1e4,  # total-count normalization (1e4=10,000/cell)\n",
    "        cell_filter_pmt=[0, 30],  # range of mitchondrial gene % allowed\n",
    "        cell_filter_ngene=[0, 7000 if isinstance(file, str) and (\n",
    "          \"CRISPRi_scr\" in file) else None],  # cells: min/max genes expressed\n",
    "        cell_filter_ncounts=[3, 60000 if isinstance(file, str) and (\n",
    "          \"CRISPRi_scr\" in file) else 40000],  # cells: min/max read range\n",
    "        gene_filter_ncell=[3, None],  # genes: min/max cell count range\n",
    "        regress_out=None,  # don't regress out confounds like pct_mt\n",
    "        kws_scale=\"z\")  # z-score w.r.t control means/SDs\n",
    "        # kws_scale=True)  # or just overall center/standardize GEX\n",
    "        # kws_scale=10)  # (use integer to also place a max_value)\n",
    "    print(process_kws)\n",
    "    self.preprocess(**process_kws, kws_umap=kws_umap)  # preprocessing\n",
    "    self.rna.obs"
   ]
  },
  {
   "cell_type": "markdown",
   "metadata": {},
   "source": [
    "## Clustering\n",
    "\n",
    "In this section, we'll perform steps related to clustering/annotation of cell types.\n",
    "\n",
    "### Leiden Clustering\n",
    "\n",
    "Let's perform dimensionality reduction (PCA) and cluster the data using the \"leiden\" method. "
   ]
  },
  {
   "cell_type": "code",
   "execution_count": null,
   "metadata": {},
   "outputs": [],
   "source": [
    "if skip_preprocessing_clustering is False:\n",
    "    self.cluster(method_cluster=\"leiden\", resolution=0.5,\n",
    "                 kws_pca=dict(n_comps=None, use_highly_variable=True),\n",
    "                 kws_umap=kws_umap, kws_neighbors=None, kws_cluster=None)"
   ]
  },
  {
   "cell_type": "markdown",
   "metadata": {},
   "source": [
    "### Find Cluster Markers (DEGs)\n",
    "\n",
    "To sort by absolute values on \"scores\" for cluster 6, showing the top 3 gene markers:\n",
    "\n",
    "`clus = \"6\"`\n",
    "\n",
    "`marks.loc[clus].loc[marks.loc[clus].scores.abs().sort_values(ascending=False).iloc[:3].index]`\n",
    "\n",
    "To show the top 3 gene markers for all clusters:\n",
    "\n",
    "`marks.groupby(marks.index.names[0]).apply(lambda x: x.scores.abs().sort_values(ascending=False).iloc[:3].index])`"
   ]
  },
  {
   "cell_type": "code",
   "execution_count": null,
   "metadata": {},
   "outputs": [],
   "source": [
    "degs = self.find_markers(n_genes=10, method=\"wilcoxon\", key_reference=\"rest\")\n",
    "degs[0]  # degs[1] for figures"
   ]
  },
  {
   "cell_type": "markdown",
   "metadata": {},
   "source": [
    "### CellTypist Annotations\n",
    "\n",
    "Now let's detect cell types using `CellTypist`.\n",
    "\n",
    "You can provide a CellTypist model name as a string, or **to train your own custom model**, provide an `AnnData` object with the training data and, if cell type column names differ across training and main data (in `self`) or if you want to pass additional arguments to `celltypist.train()`, then provide a dictionary of arguments to `kws_train`. (Cell type name can be under `labels` or `col_cell_type` in this dictonary.)\n",
    "\n",
    "**We will use an aribtrary model just for illustration, but you should pick one that suits your data.**\n",
    "\n",
    "You can see what models are available with this code:\n",
    "```\n",
    "import celltypist\n",
    "celltypist.models.models_description().set_index(\"model\").description.apply(lambda x: print(x))\n",
    "celltypist.models.models_description()\n",
    "```\n",
    "\n",
    "Or it will show you valid models automatically after the error message if you feed it an unknown model:\n",
    "\n",
    "```\n",
    "self.annotate_clusters(model=\"kate_moss.pkl\")\n",
    "```"
   ]
  },
  {
   "cell_type": "code",
   "execution_count": null,
   "metadata": {},
   "outputs": [],
   "source": [
    "_ = self.annotate_clusters(\"COVID19_HumanChallenge_Blood.pkl\")\n",
    "# THIS MODEL IS JUST FOR ILLUSTRATION\n",
    "# YOU SHOULD CHOOSE ONE THAT MAKES SENSE FOR YOUR DATA\n",
    "self.rna.obs"
   ]
  },
  {
   "cell_type": "markdown",
   "metadata": {},
   "source": [
    "# Inspection\n",
    "\n",
    "First, you can easily print the `.adata` representation, the gene expression modality `.obs` preview, and columns and keys stored in the object's attributes using the `print()` method."
   ]
  },
  {
   "cell_type": "code",
   "execution_count": null,
   "metadata": {},
   "outputs": [],
   "source": [
    "self.print()"
   ]
  },
  {
   "cell_type": "markdown",
   "metadata": {},
   "source": [
    "## Set Up Arguments for Later\n",
    "\n",
    "\n",
    "This code looks more complicated than it actually would actually be for an end user because it was made to be generalizable across several datasets with particular column names, sizes that make it necessary to subset them in order to run the vignettes in a reasonable period of time, etc.\n",
    "\n",
    "Basically, you won't need this code as an end user; this is just to choose random subsets of genes and perturbations, etc. that are available in a given example dataset.\n",
    "\n",
    "In real use cases, you will know what genes and conditions are of interest, and you can manually specify them by simply stating them in the appropriate arguments (such as `target_gene_idents`) or (in many cases) by not specifying the argument (resulting in the code using all available genes, etc.)."
   ]
  },
  {
   "cell_type": "code",
   "execution_count": null,
   "metadata": {},
   "outputs": [],
   "source": [
    "genes = self.rna.var.reset_index()[self._columns[\"col_gene_symbols\"]]\n",
    "if file == \"CRISPRi_scr\":\n",
    "    genes_subset = [\n",
    "        \"CDKN2A\", \"CDKN1A\", \"PLAUR\", \"TP53\", \"IL6ST\", \"IL1A\", \"CXCL8\", \"CCL2\",\n",
    "        \"CEBPB\", \"NFKB1\", \"IGFBP7\", \"BCL2\", \"ERCC1\", \"ERCC4\", \"PTGER4\",\n",
    "        \"TGFB1\", \"ATG16L1\", \"NOD2\", \"LACC1\"]\n",
    "    genes_subset = list(set(genes_subset).intersection(genes))\n",
    "else:\n",
    "    genes_subset = list(pd.Series(genes).sample(10))\n",
    "target_gene_idents = list(self.obs[self._columns[\n",
    "    \"col_target_genes\"]].sample(10))  # 10 random guide gene targets"
   ]
  },
  {
   "cell_type": "markdown",
   "metadata": {},
   "source": [
    "## Explore Data Descriptives\n",
    "\n",
    "You can plot and explore descriptives using the `describe()` method."
   ]
  },
  {
   "cell_type": "code",
   "execution_count": null,
   "metadata": {},
   "outputs": [],
   "source": [
    "_ = self.describe()  # simple\n",
    "# _ = self.describe(group_by=self._columns[\"col_target_genes\"], plot=True)"
   ]
  },
  {
   "cell_type": "markdown",
   "metadata": {},
   "source": [
    "# Plots\n",
    "\n",
    "Create plots applicable to scRNA-seq data broadly (e.g., UMAP, dotplots) without having to do any perturbation-specific analyses.\n",
    "\n",
    "## Basic Usage\n",
    "\n",
    "You can create simple plots easily without having to remember a bunch of arguments to specify! \n",
    "\n",
    "The most useful is the `genes` argument, which allows you to subset the number of features plotted (useful for spead and layout/interpretability of plots)."
   ]
  },
  {
   "cell_type": "code",
   "execution_count": null,
   "metadata": {},
   "outputs": [],
   "source": [
    "# figs = self.plot(genes=[\"gene A\", \"gene B\"...])  # to specify specific genes\n",
    "figs = self.plot(genes=24)  # to specify random subset of this # of genes"
   ]
  },
  {
   "cell_type": "markdown",
   "metadata": {},
   "source": [
    "## Advanced Usage\n",
    "\n",
    "Use the `layers` argument to plot more layers (in this instance, all of them, including the scaled data) for certain plot types.\n",
    " \n",
    "Use the `cell_types_circle` argument to create a UMAP with certain cell types circled in red.\n",
    "\n",
    "Use the `genes_highlight` argument to highlight in gold the names of specified genes on the gene expression dot plot.\n",
    "\n",
    "Use the `kws_clustering` argument to specify a dictionary keywords to pass to certain UMAP-based plots. For instance, specify `kws_clustering=dict(col_cell_type=\"leiden\")` to use leiden clusters instead of whatever is stored in `self._columns[\"col_cell_type\"]`.\n",
    "\n",
    "Use the `kws_gex_violin` argument to pass additional arguments to the violin plots of gene expression."
   ]
  },
  {
   "cell_type": "code",
   "execution_count": null,
   "metadata": {},
   "outputs": [],
   "source": [
    "cct = \"predicted_labels\" if \"predicted_labels\" in self.rna.obs else None\n",
    "clus = list(self.rna.obs[cct].sample(2))  # clusters to circle\n",
    "figs = self.plot(genes=36,\n",
    "                 col_cell_type=cct,\n",
    "                 cell_types_circle=clus,  # list cell types to circle on UMAP\n",
    "                 genes_highlight=list(np.array(genes_subset)[1:3]),\n",
    "                 kws_gex_violin=dict(scale=\"area\", height=10),\n",
    "                 kws_umap=dict(col_cell_type=cct))"
   ]
  },
  {
   "cell_type": "markdown",
   "metadata": {},
   "source": [
    "## Specific Plots\n",
    "\n",
    "Use the package visualization sub-module function to make specific, customizable plots. \n",
    "\n",
    "Use arguments creatively to customize. For example, set the `col_cell_type` argument to the name of the perturbation condition column in the `plot_gex()` function to plot gene expression across perturbation conditions instead of cell types.\n",
    "\n",
    "Use `kws_<kind>` (replacing <kind> with the plot type, e.g., `kws_dot`) arguments to specify a dictionary of keyword arguments to pass to a Scanpy plotting functions (e.g., https://scanpy.readthedocs.io/en/stable/generated/scanpy.pl.dotplot.html) for further customization."
   ]
  },
  {
   "cell_type": "code",
   "execution_count": null,
   "metadata": {},
   "outputs": [],
   "source": [
    "# Scanpy Figure Defaults\n",
    "sc.set_figure_params(scanpy=True, dpi=100, dpi_save=200, frameon=True,\n",
    "                     fontsize=8, figsize=(20, 40), color_map=None,\n",
    "                     format=\"pdf\", facecolor=None, transparent=False)\n",
    "\n",
    "# Simple GEX Heatmap by Cell Type\n",
    "fig = self.plot(kind=\"hm\", genes=genes_subset, figsize=(60, 60))\n",
    "\n",
    "# Argument to Subset Data to Target Genes of Interest\n",
    "target_gene_idents = [\"NOD2\", \"LACC1\", \"ATG16L1\", \"SP100\", \"NT\"]\n",
    "subset = list(self.rna.obs[self._columns[\"col_condition\"]].isin(\n",
    "    target_gene_idents))\n",
    "\n",
    "# Dot Plot\n",
    "fig = self.plot([\"FTL\", \"FTH1\", \"STAT1\", \"CCL5\"],\n",
    "                subset=subset, kind=\"dot\",  # specify dot plot\n",
    "                col_cell_type=self._columns[\"col_condition\"])\n",
    "\n",
    "# Dot Plot with Genes Grouped & Labeled\n",
    "marker_genes_dict = {\"Monocyte\": [\"FCGR3A\", \"FCN1\", \"S100A4\", \"S100A6\"],\n",
    "                     \"B\": [\"CD79A\", \"CD19\"]\n",
    "                     }  # labeled ~ cell type here, but labels can be anything\n",
    "fig = self.plot(subset=subset, kind=\"dot\",  # specify dot plot\n",
    "                col_cell_type=self._columns[\"col_condition\"],\n",
    "                marker_genes_dict=marker_genes_dict)\n",
    "\n",
    "# Heatmap\n",
    "fig = self.plot(subset=subset, kind=\"hm\",  # specify heatmap plot\n",
    "                col_cell_type=self._columns[\"col_condition\"],\n",
    "                genes=genes_subset, figsize=(60, 60), layer=\"scaled\")\n",
    "\n",
    "# Matrix Plot\n",
    "fig = self.plot(subset=subset, kind=\"matrix\",  # specify heatmap plot\n",
    "                col_cell_type=self._columns[\"col_condition\"],\n",
    "                genes=genes_subset, layer=\"scaled\", figsize=(60, 60))"
   ]
  },
  {
   "cell_type": "markdown",
   "metadata": {},
   "source": [
    "# Analyses\n",
    "\n",
    "The following examples concern CRISPR or other perturbation design-specific analyses."
   ]
  },
  {
   "cell_type": "markdown",
   "metadata": {},
   "source": [
    "## Guide RNA Counts/Percentage"
   ]
  },
  {
   "cell_type": "code",
   "execution_count": null,
   "metadata": {},
   "outputs": [],
   "source": [
    "# Choose Subset of Target Genes (optional)\n",
    "tgis = list(pd.Series(target_gene_idents).sample(3)) if len(\n",
    "    target_gene_idents) > 3 else target_gene_idents  # smaller subset = faster\n",
    "cct = \"majority_voting\" if \"majority_voting\" in self.rna.obs else None\n",
    "\n",
    "# Guide RNA Counts\n",
    "_ = self.get_guide_rna_counts(target_gene_idents=tgis)\n",
    "\n",
    "# ...By Cell Type\n",
    "_ = self.get_guide_rna_counts(target_gene_idents=tgis, group_by=cct)\n",
    "\n",
    "# # ...By Target Gene Ultimately Assigned\n",
    "# _ = self.get_guide_rna_counts(target_gene_idents=tgis,\n",
    "#                               group_by=self._columns[\"col_target_genes\"])\n",
    "\n",
    "# ...By Cell Type & Target Gene Ultimately Assigned\n",
    "_ = self.get_guide_rna_counts(target_gene_idents=tgis, group_by=[\n",
    "    cct, self._columns[\"col_target_genes\"]], margin_titles=True)"
   ]
  },
  {
   "cell_type": "markdown",
   "metadata": {},
   "source": [
    "## Distance\n",
    "\n",
    "Distance Metrics\n",
    "\n",
    "See `self.figures[\"distances\"]` and  `self.results[\"distances\"]` for results."
   ]
  },
  {
   "cell_type": "code",
   "execution_count": null,
   "metadata": {},
   "outputs": [],
   "source": [
    "for x in [\"mmd\", \"edistance\"]:\n",
    "    _ = self.compute_distance(distance_type=x, method=\"X_pca\", kws_plot=dict(\n",
    "        figsize=(15, 15), robust=True))"
   ]
  },
  {
   "cell_type": "markdown",
   "metadata": {},
   "source": [
    "## Augur: Perturbation Responses by Cell Type\n",
    "\n",
    "**Which cell types are most affected by perturbations?** Quantify perturbation responses by cell type with Augur, which uses supervised machine learning classification of experimental condition labels (e.g., treated versus untreated). The more separable the condition among cells of a given type, the higher the perturbation effect score.\n",
    "\n",
    "<u> __Features__ </u>  \n",
    "\n",
    "- Quantify and visualize degree of perturbation response by cell type\n",
    "- Identify the most important features (genes).\n",
    "\n",
    "<u> __Input__ </u>  \n",
    "\n",
    "There are no required arguments. \n",
    "* If you want to override defaults drawn from `._columns` and/or `._keys`, specify the appropriate argument (e.g., `col_cell_type`). \n",
    "* You can also specify a different `classifer` (default \"random_forest_classifer\") used in the machine learning classification procedure used to calculate the AUCs/accuracy. \n",
    "* You may pass keyword arguments to the Augur predict method by specifying a dictionary in `kws_augur_predict`.\n",
    "* Specify `select_variance_features` as True to run the original Augur implementation, which removes genes that don't vary much across cell type. If False, use features selected by `scanpy.pp.highly_variable_genes()`, which is faster and sensitively recovers effects; however, the feature selection may yield inflated Augur scores because this reduced feature set is used in training, resulting in it taking advantage of the pre-existing power of this feature selection to separate cell types.\n",
    "* Specify `n_folds` and/or `subsample_size` to choose the number and sample size of folds in cross-validation.\n",
    "* Set an integer for `seed` to allow reproducibility across runs.\n",
    "\n",
    "<u> __Output__ </u>  \n",
    "\n",
    "Tuple, where the first element is the AnnData object created by the function, the second, the results dictionary, and the third, a dictionary of figures visualizing results. If copy is False (default), these outputs can also be found in `.results[\"augur\"]` and `.figures[\"augur\"]`.\n",
    "\n",
    "<u> __Notes__ </u>  \n",
    "\n",
    "- Sub-sample sizes equal across conditions; does not account for perturbation-induced compositional shifts (cell type abundance)\n",
    "- Scores are for cell types (aggregated across cells, not individual cells)\n",
    "- Two modes\n",
    "    - If select_variance_feature=True, \n",
    "    - If False, you also have to be sure that \"highly_variable_features\" is a variable in your data. This can be complicated if you have a separate layer for perturbation data."
   ]
  },
  {
   "cell_type": "code",
   "execution_count": null,
   "metadata": {},
   "outputs": [],
   "source": [
    "cct = \"majority_voting\" if \"majority_voting\" in self.rna.obs else \\\n",
    "    self._columns[\"col_cell_type\"]\n",
    "_ = self.run_augur(\n",
    "    col_cell_type=cct,\n",
    "    # ^ will be label in self._columns by default, but can override here\n",
    "    col_perturbed=self._columns[\"col_perturbed\"],\n",
    "    # ^ will be this by default if unspecified, but can override here\n",
    "    key_treatment=self._keys[\"key_treatment\"],\n",
    "    # ^ will be this by default if unspecified, but can o verride here\n",
    "    select_variance_features=True,  # filter by highly variable genes\n",
    "    classifier=\"random_forest_classifier\", n_folds=3, augur_mode=\"default\",\n",
    "    kws_umap=kws_umap, subsample_size=5, kws_augur_predict=dict(span=0.7),\n",
    "    n_threads=None)"
   ]
  },
  {
   "cell_type": "markdown",
   "metadata": {},
   "source": [
    "## Mixscape: Cell-Level Perturbation Classification & Scoring\n",
    "\n",
    "**Is a perturbed cell detectibly perturbed, and to what extent?** Mixscape first calculates the \"**perturbation signature**\" by determining which control condition cells most closely resemble each perturbed cell in terms of mRNA expression and then subtracts the control expression from that of the perturbed cells' (i.e., centers perturbed cells' gene expression on their control neighbors).\n",
    "\n",
    "Then, it **identifies** and removes perturbed **cells with no detectible perturbation** (i.e., assigns them to predicted classes of perturbed versus not perturbed). You can then create visuals based on whether the cell is detectibly perturbed, \"non-perturbed\" (not detectibly perturbed), or control (no treatment). Optionally, you can visualize protein expression by this predicted class in certain multi-modal data.\n",
    "\n",
    "**Are there perturbation-specific clusters?** Mixscape uses linear discriminant analysis (LDA) to cluster cells that resemble each other in terms of gene expression and perturbation condition. _(LDA reduces dimensionality and attempts to maximize the separability of classes. Unperturbed cells are removed from analysis.)_ \n",
    "\n",
    "<u> __Features__ </u>  \n",
    "\n",
    "- Plot targeting efficiency.\n",
    "- Remove confounds (e.g., cell cycle, batch effects)\n",
    "- Classify cells as affected or unaffected (i.e., \"escapees\") by the perturbation\n",
    "- Quantify and visualize degree of perturbation response\n",
    "\n",
    "<u> __Input__ </u> \n",
    "\n",
    "See documentation, but the key arguments are listed here.\n",
    "\n",
    "* **col_cell_type**: If you want to run using a different cell classification column, (e.g., CellTypist annotations that weren't used for the original `self._columns[\"col_cell_type\"]``), you can specify a different column by passing `col_cell_type=<column name>` if you'd like.\n",
    "* **target_gene_idents**: A list of gene symbols to focus on in plots/analyses. Specify as True to include all.\n",
    "* **target_gene_idents**: The default layer of data used is \"log1p.\" Remember that Mixscape centers cells on their control neighbors when considering whether to use centered and/or scaled data.\n",
    "\n",
    "<u> __Output__ </u>  \n",
    "\n",
    "Assuming your `Crispr` object is named \"self\":\n",
    "- Targeting Efficiency: `self.figures[\"mixscape\"][\"targeting_efficiency\"]`\n",
    "- Differential Expression Ordered by Posterior Probabilities: `self.figures[\"mixscape\"][\"DEX_ordered_by_ppp_heat\"]`\n",
    "- Posterior Probabilities Violin Plot: `self.figures[\"mixscape\"][\"ppp_violin\"]`\n",
    "- Perturbation Scores: `self.figures[\"mixscape\"][\"perturbation_score\"]`\n",
    "- Perturbation Clusters (from LDA): `self.figures[\"mixscape\"][\"perturbation_clusters\"]`\n",
    "\n",
    "The above instructions are for accessing output via the object attributes. Assuming output is assigned to a variable `figs` (i.e., `figs = ` would replace the `_ = ` in the code below), replace `self.figures[\"mixscape\"]` in the above code with `figs`.\n",
    "\n",
    "<u> __Notes__ </u>  \n",
    "\n",
    "- If `._columns[\"col_sample_id\"]` is not None, perturbation scores will by default be calculated and/or plotted taking that into consideration (e.g., biological replicates) unless `col_split_by=False`. That argument can also be set to a different column name explicitly, in which case that specification will be used as the `col_split_by` argument in Pertpy Mixscape functions in place of sample ID."
   ]
  },
  {
   "cell_type": "markdown",
   "metadata": {},
   "source": [
    "#### Run Mixscape"
   ]
  },
  {
   "cell_type": "code",
   "execution_count": null,
   "metadata": {},
   "outputs": [],
   "source": [
    "cct = \"predicted_labels\" if \"predicted_labels\" in self.rna.obs else None\n",
    "tgis = list(self.rna.obs[self._columns[\"col_target_genes\"]].sample(3))\n",
    "_ = self.run_mixscape(col_cell_type=cct, target_gene_idents=tgis)\n",
    "# _ = self.run_mixscape(target_gene_idents=True)  # plot all target genes"
   ]
  },
  {
   "cell_type": "markdown",
   "metadata": {},
   "source": [
    "#### Create Different Mixscape Plots\n",
    "\n",
    "If you want to re-create mixscape **plots with <u> different target genes and/or proteins of interest**</u> later, you can use `self.plot_mixscape(<ONE OR MORE TARGET GENES>)`. If you want a different color for the perturbation score curves, specify `color=` in that method."
   ]
  },
  {
   "cell_type": "code",
   "execution_count": null,
   "metadata": {},
   "outputs": [],
   "source": [
    "tgis = pd.Series(self.rna.uns[\"mixscape\"].keys()).sample(1)\n",
    "_ = self.plot_mixscape(tgis, color=\"red\")"
   ]
  },
  {
   "cell_type": "markdown",
   "metadata": {},
   "source": [
    "## Multi-Cellular Programs (Dialogue)"
   ]
  },
  {
   "cell_type": "code",
   "execution_count": null,
   "metadata": {},
   "outputs": [],
   "source": [
    "cct = \"majority_voting\" if \"majority_voting\" in self.rna.obs else \\\n",
    "    self._columns[\"col_cell_type\"]\n",
    "fig_mcp = self.run_dialogue(n_programs=4, cmap=\"coolwarm\")"
   ]
  }
 ],
 "metadata": {
  "kernelspec": {
   "display_name": "py-bio",
   "language": "python",
   "name": "python3"
  },
  "language_info": {
   "codemirror_mode": {
    "name": "ipython",
    "version": 3
   },
   "file_extension": ".py",
   "mimetype": "text/x-python",
   "name": "python",
   "nbconvert_exporter": "python",
   "pygments_lexer": "ipython3",
   "version": "3.10.4"
  },
  "orig_nbformat": 4
 },
 "nbformat": 4,
 "nbformat_minor": 2
}
