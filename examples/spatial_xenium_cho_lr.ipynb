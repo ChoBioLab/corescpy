{
 "cells": [
  {
   "cell_type": "code",
   "execution_count": null,
   "metadata": {},
   "outputs": [],
   "source": [
    "%load_ext autoreload\n",
    "%autoreload 2\n",
    "%matplotlib inline\n",
    "\n",
    "import os\n",
    "import matplotlib.pyplot as plt\n",
    "import warnings\n",
    "import functools\n",
    "import stlearn as st\n",
    "import scanpy as sc\n",
    "from dask_image.imread import imread\n",
    "import imagecodecs\n",
    "from PIL import Image\n",
    "import dask.array as da\n",
    "import squidpy as sq\n",
    "import pandas as pd\n",
    "import numpy as np\n",
    "\n",
    "warnings.filterwarnings(\"ignore\")\n",
    "\n",
    "pd.options.display.max_colwidth = 1000\n",
    "pd.options.display.max_columns = 100\n",
    "pd.options.display.max_rows = 500\n",
    "\n",
    "col_cell_type = \"leiden_res1pt5_dist0_npc30\"  # high resolution\n",
    "l_r = {\"CSF1\": \"CSF1R\", \"CSF2\": [\"CSF2RA\", \"CSF2RB\"]}\n",
    "plot_lr = [\"CSF1_CSF1R\", \"CSF2_CSF2RA\", \"CSF2_CSF2RB\"]\n",
    "\n",
    "n_spots = 125\n",
    "organism = \"human\"\n",
    "resource = \"connectomeDB2020_lit\"\n",
    "distance = 100\n",
    "min_spots = 20\n",
    "n_pairs = 10000  # CHANGE DEFAULT TO 10000\n",
    "n_top = 50\n",
    "n_jobs = 20\n",
    "stats = \"all\"\n",
    "layer = \"counts\"\n",
    "adj_method = None\n",
    "pval_adj_cutoff = None\n",
    "stats = [\"lr_scores\", \"p_vals\", \"p_adjs\", \"-log10(p_adjs)\"]\n",
    "\n",
    "kwargs = {}"
   ]
  },
  {
   "cell_type": "markdown",
   "metadata": {},
   "source": [
    "# Data"
   ]
  },
  {
   "cell_type": "code",
   "execution_count": null,
   "metadata": {},
   "outputs": [],
   "source": [
    "# File Paths & Options\n",
    "SPATIAL_KEY = \"spatial\"\n",
    "library_id = \"Inflamed-50452B\"\n",
    "dir_data = \"/mnt/cho_lab/bbdata2/outputs/TUQ97N\"\n",
    "out_dir = str(\"/mnt/cho_lab/disk2/elizabeth/data/shared-xenium-library/\"\n",
    "              \"outputs/TUQ97N/nebraska\")\n",
    "path_dir = os.path.join(out_dir, \"pathology\")\n",
    "file_align = os.path.join(\n",
    "    path_dir, f\"alignment/{library_id}_alignment_files/matrix.csv\")\n",
    "file_image = (os.path.join(path_dir, f\"{library_id.split('-')[1]}.ndpi\"),\n",
    "              os.path.join(path_dir, f\"ome-tiff/{library_id}.ome.tif\"))\n",
    "image_kws = {}\n",
    "\n",
    "# Find Files\n",
    "files = functools.reduce(lambda i, j: i + j, [[os.path.join(\n",
    "    run, i) for i in os.listdir(os.path.join(\n",
    "        dir_data, run))] for run in os.listdir(dir_data)])\n",
    "file_path = np.array(files)[np.where([\"-\".join(library_id.split(\n",
    "    \"-\")[1:]) == os.path.basename(x).split(\"__\")[2].split(\n",
    "        \"-\")[0] for x in files])[0][0]]\n",
    "img_dir = os.path.join(dir_data, file_path)\n",
    "if os.path.exists(os.path.join(img_dir, \"morphology_focus.ome.tif\")) is False:\n",
    "    img_dir = os.path.join(img_dir, \"morphology_focus\")\n",
    "\n",
    "# Data\n",
    "adata = sc.read(os.path.join(out_dir, f\"{library_id}.h5ad\"))\n",
    "adata.uns[SPATIAL_KEY] = {library_id: {\"images\": {}}}"
   ]
  },
  {
   "cell_type": "markdown",
   "metadata": {},
   "source": [
    "# Images"
   ]
  },
  {
   "cell_type": "code",
   "execution_count": null,
   "metadata": {},
   "outputs": [],
   "source": [
    "# Full Resolution? (Not Compatible Yet with stlearn)\n",
    "# img_files = {f for f in os.listdir(img_dir) if f.endswith(\"_focus.ome.tif\")}\n",
    "# channel_names = {0: \"DAPI\"} if len(img_files) == 1 else {\n",
    "#     0: \"DAPI\", 1: \"ATP1A1/CD45/E-Cadherin\", 2: \"18S\",\n",
    "#     3: \"AlphaSMA/Vimentin\", 4: \"dummy\"}\n",
    "# image_kws[\"c_coords\"] = list(channel_names.values())\n",
    "# image_path = os.path.join(img_dir, \"morphology_focus_{:04}.ome.tif\".format(\n",
    "#     0) if len(img_files) > 1 else \"morphology_focus.ome.tif\")\n",
    "# image = imread(image_path)\n",
    "\n",
    "# if \"c_coords\" in image_kws and \"dummy\" in image_kws[\"c_coords\"]:\n",
    "#     image = da.concatenate([image, da.zeros_like(image[0:1])], axis=0)\n",
    "# adata.uns[\"spatial\"][library_id][\"images\"] = {\"hires\": sq.im.ImageContainer(\n",
    "#     image, library_id=library_id)}\n",
    "\n",
    "# st.add.image(adata, library_id=library_id, quality=quality,\n",
    "#              imgpath=image_path, scale=scale)\n",
    "\n",
    "# Stlearn Way (Not Full Resolution)\n",
    "max_size = np.max([adata.obs[\"imagecol\"].max(), adata.obs[\"imagerow\"].max()])\n",
    "max_size = int(max_size + 0.1 * max_size)\n",
    "image = Image.new(\"RGBA\", (max_size, max_size), (255, 255, 255, 255))\n",
    "adata.uns[\"spatial\"][library_id][\"images\"] = {\"hires\": np.array(image)}\n",
    "\n",
    "# Make Compatible with Hard-Coded Column in stlearn Code\n",
    "# max_coor = np.max(adata.obsm[\"spatial\"])\n",
    "# scale = 2000 / max_coor\n",
    "scale = kwargs.pop(\"scale\", 1)\n",
    "quality = kwargs.pop(\"key_image\", \"hires\")\n",
    "spot_diameter_fullres = kwargs.pop(\"spot_diameter_fullres\", 15)\n",
    "if \"spatial\" in adata.obsm:\n",
    "    adata.obs.loc[:, \"imagerow\"] = adata.obsm[\"spatial\"][:, 0] * scale\n",
    "    adata.obs.loc[:, \"imagecol\"] = adata.obsm[\"spatial\"][:, 1] * scale\n",
    "if \"scalefactors\" not in adata.uns[\"spatial\"]:\n",
    "    adata.uns[\"spatial\"][library_id][\"scalefactors\"] = {}\n",
    "    adata.uns[\"spatial\"][library_id][\"scalefactors\"][\n",
    "        \"tissue_\" + quality + \"_scalef\"] = scale\n",
    "    adata.uns[\"spatial\"][library_id][\"scalefactors\"][\n",
    "        \"spot_diameter_fullres\"] = spot_diameter_fullres\n",
    "    adata.uns[\"spatial\"][library_id][\"use_quality\"] = \"hires\""
   ]
  },
  {
   "cell_type": "markdown",
   "metadata": {},
   "source": [
    "# Processing"
   ]
  },
  {
   "cell_type": "code",
   "execution_count": null,
   "metadata": {},
   "outputs": [],
   "source": [
    "# Pre-Process Data\n",
    "adata.X = adata.layers[layer].copy()\n",
    "st.pp.normalize_total(adata)\n",
    "\n",
    "# Create Spot Grid\n",
    "grid = st.tl.cci.grid(adata, n_row=n_spots, n_col=n_spots,\n",
    "                      use_label=col_cell_type)\n",
    "\n",
    "# Plot: Compare Clusters to Created Spots\n",
    "fig, axes = plt.subplots(ncols=2, figsize=(20, 8))\n",
    "st.pl.cluster_plot(grid, use_label=col_cell_type, size=10,\n",
    "                   ax=axes[0], show_plot=False)\n",
    "st.pl.cluster_plot(adata, use_label=col_cell_type,\n",
    "                   ax=axes[1], show_plot=False)\n",
    "axes[0].set_title(f\"Grid: Dominant Spots\")\n",
    "axes[1].set_title(f\"Cell {col_cell_type} Labels\")\n",
    "plt.show()git com"
   ]
  },
  {
   "cell_type": "markdown",
   "metadata": {},
   "source": [
    "## Plot Cell Types"
   ]
  },
  {
   "cell_type": "code",
   "execution_count": null,
   "metadata": {},
   "outputs": [],
   "source": [
    "groups = list(grid.obs[col_cell_type].cat.categories)\n",
    "for g in groups[0:2]:\n",
    "    fig, axes = plt.subplots(ncols=3, figsize=(20,8))\n",
    "    group_props = grid.uns[col_cell_type][g].values\n",
    "    grid.obs[\"Group\"] = group_props\n",
    "    st.pl.feat_plot(grid, feature=\"Group\", ax=axes[0], show_plot=False,\n",
    "                    vmax=1, show_color_bar=False)\n",
    "    st.pl.cluster_plot(grid, use_label=col_cell_type, list_clusters=[g],\n",
    "                       ax=axes[1], show_plot=False)\n",
    "    st.pl.cluster_plot(adata, use_label=col_cell_type, list_clusters=[g],\n",
    "                       ax=axes[2], show_plot=False)\n",
    "    axes[0].set_title(f\"Grid {g} Proportions (Maximum = 1)\")\n",
    "    axes[1].set_title(f\"Grid {g} Maximum Spots\")\n",
    "    axes[2].set_title(f\"Individual Cell {g}\")\n",
    "    plt.show()"
   ]
  },
  {
   "cell_type": "markdown",
   "metadata": {},
   "source": [
    "# Analysis"
   ]
  },
  {
   "cell_type": "code",
   "execution_count": null,
   "metadata": {},
   "outputs": [],
   "source": [
    "lrs = st.tl.cci.load_lrs([resource], species=organism)\n",
    "st.tl.cci.run(\n",
    "    grid, lrs, min_spots=min_spots, distance=distance,\n",
    "    n_pairs=n_pairs, n_cpus=n_jobs)\n",
    "if pval_adj_cutoff is not None or adj_method is not None:  # adjust p?\n",
    "    st.tl.cci.adj_pvals(\n",
    "        grid, correct_axis=\"spot\", pval_adj_cutoff=pval_adj_cutoff,\n",
    "        adj_method=adj_method)  # optionally, adjust p-values\n",
    "print(grid.uns[\"lr_summary\"])"
   ]
  },
  {
   "cell_type": "markdown",
   "metadata": {},
   "source": [
    "# Plots"
   ]
  },
  {
   "cell_type": "markdown",
   "metadata": {},
   "source": [
    "## QC & Results"
   ]
  },
  {
   "cell_type": "code",
   "execution_count": null,
   "metadata": {},
   "outputs": [],
   "source": [
    "# QC Plots\n",
    "try:\n",
    "    fig, axes = st.pl.cci_check(grid, col_cell_type, figsize=(16, 5))\n",
    "    fig.suptitle(\"CCI Check: Interactions Shouldn't Correlate Much \"\n",
    "                \"with Cell Type Frequency if Well-Controlled for\")\n",
    "    st.pl.lr_diagnostics(grid, figsize=(10, 2.5))\n",
    "except Exception as err:\n",
    "    print(err, \"\\n\\nQC Plots failed\")\n",
    "\n",
    "# Results Plots\n",
    "st.pl.lr_summary(grid, n_top=n_top, figsize=(10, 3))  # summary plot\n",
    "if plot_lr is True or isinstance(\n",
    "        plot_lr, (int, float)):  # if pairs unspecified, or just want top N\n",
    "    plot_lr = 3 if plot_lr is None else int(plot_lr)  # top 3 = default\n",
    "    plot_lr = grid.uns[\"lr_summary\"].index.values[:plot_lr]  # best pairs\n",
    "if plot_lr not in [None, False]:  # if wanted these plots...\n",
    "    fig, axes = plt.subplots(ncols=len(stats), nrows=len(plot_lr),\n",
    "                             figsize=(12, 6))\n",
    "    for r, x in enumerate(plot_lr):  # iterate ligand-receptors\n",
    "        for c, stat in enumerate(stats):  # iterate statistics\n",
    "            st.pl.lr_result_plot(grid, use_result=stat, use_lr=x,\n",
    "                                 show_color_bar=False, ax=axes[r, c])\n",
    "            axes[r, c].set_title(f\"{x} {stat}\")"
   ]
  },
  {
   "cell_type": "markdown",
   "metadata": {},
   "source": [
    "## Gene Expression"
   ]
  },
  {
   "cell_type": "code",
   "execution_count": null,
   "metadata": {},
   "outputs": [],
   "source": [
    "if plot_lr is not None:\n",
    "    genes = functools.reduce(lambda i, j: list(i) + list(j),\n",
    "                             [i.split(\"_\") for i in plot_lr])\n",
    "    for g in genes:\n",
    "        fig, axes = plt.subplots(ncols=2, figsize=(20, 5))\n",
    "        st.pl.gene_plot(grid, gene_symbols=g, ax=axes[0],\n",
    "                        show_color_bar=False, show_plot=False)\n",
    "        st.pl.gene_plot(adata, gene_symbols=g, ax=axes[1],\n",
    "                        show_color_bar=False, show_plot=False, vmax=80)\n",
    "        axes[0].set_title(f\"Grid {g} Expression\")\n",
    "        axes[1].set_title(f\"Cell {g} Expression\")\n",
    "        plt.show()"
   ]
  }
 ],
 "metadata": {
  "language_info": {
   "name": "python"
  }
 },
 "nbformat": 4,
 "nbformat_minor": 2
}
