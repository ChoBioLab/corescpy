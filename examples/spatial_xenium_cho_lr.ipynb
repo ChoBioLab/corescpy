{
 "cells": [
  {
   "cell_type": "code",
   "execution_count": 3,
   "metadata": {},
   "outputs": [
    {
     "name": "stdout",
     "output_type": "stream",
     "text": [
      "The autoreload extension is already loaded. To reload it, use:\n",
      "  %reload_ext autoreload\n"
     ]
    }
   ],
   "source": [
    "%load_ext autoreload\n",
    "%autoreload 2\n",
    "%matplotlib inline\n",
    "\n",
    "import os\n",
    "import matplotlib as mpl\n",
    "import matplotlib.pyplot as plt\n",
    "import seaborn as sb\n",
    "import traceback\n",
    "import warnings\n",
    "import functools\n",
    "from dask_image.imread import imread\n",
    "import imagecodecs\n",
    "from PIL import Image\n",
    "import dask.array as da\n",
    "import scipy.spatial as spatial\n",
    "import stlearn as st\n",
    "import scanpy as sc\n",
    "import squidpy as sq\n",
    "import pandas as pd\n",
    "import numpy as np\n",
    "import corescpy as cr\n",
    "from corescpy.ax import create_spot_grid\n",
    "\n",
    "warnings.filterwarnings(\"ignore\")\n",
    "\n",
    "pd.options.display.max_colwidth = 1000\n",
    "pd.options.display.max_columns = 100\n",
    "pd.options.display.max_rows = 500\n",
    "\n",
    "SPATIAL_KEY = \"spatial\"\n",
    "\n",
    "col_cell_type = \"leiden_res1pt5_dist0_npc30\"  # high resolution\n",
    "l_r = {\"CSF1\": \"CSF1R\", \"CSF2\": [\"CSF2RA\", \"CSF2RB\"]}\n",
    "plot_lr = [\"CSF1_CSF1R\", \"CSF2_CSF2RA\", \"CSF2_CSF2RB\"]\n",
    "\n",
    "n_spots = 400\n",
    "organism = \"human\"\n",
    "resource = \"connectomeDB2020_lit\"\n",
    "# distance = 200\n",
    "distance = \"auto\"\n",
    "min_med_neighbors = 5\n",
    "min_spots = 2\n",
    "n_pairs = 10000  # CHANGE DEFAULT TO 10000\n",
    "n_top = 50\n",
    "n_jobs = 20\n",
    "layer = \"counts\"\n",
    "cell_prop_cutoff = 0.1\n",
    "n_perms = 10000\n",
    "adj_method = \"fdr_bh\"\n",
    "pval_adj_cutoff = 0.05\n",
    "adj_axis = \"spot\""
   ]
  },
  {
   "cell_type": "markdown",
   "metadata": {},
   "source": [
    "# Data"
   ]
  },
  {
   "cell_type": "markdown",
   "metadata": {},
   "source": [
    "## Metadata"
   ]
  },
  {
   "cell_type": "code",
   "execution_count": 4,
   "metadata": {},
   "outputs": [
    {
     "name": "stdout",
     "output_type": "stream",
     "text": [
      "Condition\n",
      "Stricture     16\n",
      "Uninflamed     5\n",
      "Inflamed       5\n",
      "Name: count, dtype: int64\n"
     ]
    },
    {
     "data": {
      "text/plain": [
       "Patient\n",
       "50006      Inflamed-50006A\n",
       "50006     Stricture-50006C\n",
       "50006    Uninflamed-50006B\n",
       "50217      Inflamed-50217A\n",
       "50217     Stricture-50217C\n",
       "50217    Uninflamed-50217B\n",
       "50336      Inflamed-50336B\n",
       "50336     Stricture-50336A\n",
       "50336    Uninflamed-50336C\n",
       "50403      Inflamed-50403A\n",
       "50403    Stricture-50403C1\n",
       "50403    Stricture-50403C2\n",
       "50403    Uninflamed-50403B\n",
       "50452      Inflamed-50452B\n",
       "50452     Stricture-50452C\n",
       "50452    Uninflamed-50452A\n",
       "dtype: object"
      ]
     },
     "execution_count": 4,
     "metadata": {},
     "output_type": "execute_result"
    }
   ],
   "source": [
    "col_subject, col_condition = \"Patient\", \"Condition\"\n",
    "col_inflamed, col_stricture = \"Inflamed\", \"Stricture\"  # in metadata file\n",
    "col_sample_id_o, col_sample_id = \"Sample ID\", \"Sample\"  # in metadata, new\n",
    "key_uninfl, key_infl, key_stric = \"Uninflamed\", \"Inflamed\", \"Stricture\"\n",
    "ddm = \"/mnt/cho_lab\" if os.path.exists(\"/mnt/cho_lab\") else \"/mnt\"  # Spark?\n",
    "ddl = f\"{ddm}/disk2/{os.getlogin()}/data/shared-xenium-library\" if (\n",
    "    \"cho\" in ddm) else os.path.join(ddu, \"shared-xenium-library\")\n",
    "file_mdf = os.path.join(ddl, \"samples.csv\")  # metadata\n",
    "m_d = (pd.read_excel if file_mdf[-4:] == \"xlsx\" else pd.read_csv)(\n",
    "    file_mdf, dtype={\"Slide ID\": str}).rename({\n",
    "        \"Name\": col_subject, \"Inflammation\": col_inflamed}, axis=1)\n",
    "m_d.loc[:, col_condition] = m_d.apply(lambda x: \"Stricture\" if x[\n",
    "    col_stricture].lower() in [\"stricture\", \"yes\"] else x[\n",
    "        col_inflamed].capitalize(), axis=1)  # inflamation/stricture condition\n",
    "m_d.loc[:, col_sample_id] = m_d[[col_condition, col_sample_id_o]].apply(\n",
    "    \"-\".join, axis=1)\n",
    "m_d = m_d.set_index(col_sample_id)\n",
    "print(m_d[[col_subject, col_condition]].reset_index(0)[\n",
    "    col_condition].value_counts())\n",
    "samps_paired = m_d.groupby(\"Patient\").apply(\n",
    "    lambda x: list(x.reset_index()[col_sample_id].sort_values()) if all((\n",
    "        i in list(x.reset_index()[col_condition]) for i in [\n",
    "            key_uninfl, key_infl, key_stric])) else np.nan).dropna(\n",
    "                ).explode()\n",
    "# m_d.reset_index().set_index([col_subject, col_condition]).sort_index()\n",
    "samps_paired"
   ]
  },
  {
   "cell_type": "markdown",
   "metadata": {},
   "source": [
    "## Spatial Data"
   ]
  },
  {
   "cell_type": "code",
   "execution_count": 5,
   "metadata": {},
   "outputs": [],
   "source": [
    "# File Paths & Options\n",
    "libids = [\"50452A\", \"50452B\", \"50006A\", \"50006B\",\n",
    "          \"50217A\", \"50217B\", \"50336B\", \"50336C\"]  # paired (un)inflamed\n",
    "libids = [m_d.reset_index().set_index(\n",
    "    col_sample_id_o).loc[i][col_sample_id] for i in libids]\n",
    "dir_data = os.path.join(ddm, \"bbdata2/outputs/TUQ97N\")\n",
    "out_dir = os.path.join(ddl, \"outputs/TUQ97N/nebraska\")\n",
    "col_cell_type = \"leiden_res1pt5_dist0_npc30\"  # high resolution\n",
    "\n",
    "# Spatial Data\n",
    "files = functools.reduce(lambda i, j: i + j, [[os.path.join(\n",
    "    run, i) for i in os.listdir(os.path.join(\n",
    "        dir_data, run))] for run in os.listdir(dir_data)])\n",
    "file_path = functools.reduce(\n",
    "    lambda x, y: list(x) + list(y), [np.array(files)[\n",
    "        np.where([\"-\".join(i.split(\"-\")[1:]) == os.path.basename(x).split(\n",
    "            \"__\")[2].split(\"-\")[0] for x in files])[0][0]] for i in libids])\n",
    "adatas = dict(zip(libids, [sc.read(os.path.join(\n",
    "    out_dir, f\"{i}.h5ad\")) for i in libids]))\n",
    "for x in adatas:\n",
    "    adatas[x].X = adatas[x].layers[layer].copy()"
   ]
  },
  {
   "cell_type": "markdown",
   "metadata": {},
   "source": [
    "## Object Compatibility\n",
    "\n",
    "We have to re-configure a few object attributes to make it compatible with the expectations of `stlearn`, including legacy Squidpy styles of storing morphology image(s) and `stlearn`'s bespoke columns for coordinates."
   ]
  },
  {
   "cell_type": "code",
   "execution_count": 6,
   "metadata": {},
   "outputs": [],
   "source": [
    "# Make Compatible with Expected Hard-Coded Columns/Attributes in stlearn Code\n",
    "# max_coor = np.max(adata.obsm[\"spatial\"])\n",
    "# scale = 2000 / max_coor\n",
    "for x in adatas:\n",
    "    adatas[x].uns[SPATIAL_KEY] = {x: {\"images\": {}}}\n",
    "scale = 1\n",
    "quality = \"hires\"\n",
    "spot_diameter_fullres = 15\n",
    "for x in adatas:\n",
    "    adatas[x].obs.loc[:, \"imagecol\"] = adatas[x].obsm[\"spatial\"][:, 0] * scale\n",
    "    adatas[x].obs.loc[:, \"imagerow\"] = adatas[x].obsm[\"spatial\"][:, 1] * scale\n",
    "    if \"scalefactors\" not in adatas[x].uns[\"spatial\"]:\n",
    "        adatas[x].uns[\"spatial\"][x][\"scalefactors\"] = {}\n",
    "        adatas[x].uns[\"spatial\"][x][\"scalefactors\"][\n",
    "            \"tissue_\" + quality + \"_scalef\"] = scale\n",
    "        adatas[x].uns[\"spatial\"][x][\"scalefactors\"][\n",
    "            \"spot_diameter_fullres\"] = spot_diameter_fullres\n",
    "        adatas[x].uns[\"spatial\"][x][\"use_quality\"] = \"hires\"\n",
    "\n",
    "# Full Resolution? (Not Compatible Yet with stlearn)\n",
    "# image_kws = {}\n",
    "# img_files = {f for f in os.listdir(img_dir) if f.endswith(\"_focus.ome.tif\")}\n",
    "# channel_names = {0: \"DAPI\"} if len(img_files) == 1 else {\n",
    "#     0: \"DAPI\", 1: \"ATP1A1/CD45/E-Cadherin\", 2: \"18S\",\n",
    "#     3: \"AlphaSMA/Vimentin\", 4: \"dummy\"}\n",
    "# image_kws[\"c_coords\"] = list(channel_names.values())\n",
    "# image_path = os.path.join(img_dir, \"morphology_focus_{:04}.ome.tif\".format(\n",
    "#     0) if len(img_files) > 1 else \"morphology_focus.ome.tif\")\n",
    "# img = imread(image_path)\n",
    "# if \"c_coords\" in image_kws and \"dummy\" in image_kws[\"c_coords\"]:\n",
    "#     img = da.concatenate([img, da.zeros_like(img[0:1])], axis=0)\n",
    "# adata.uns[\"spatial\"][library_id][\"images\"] = {\"hires\": sq.im.ImageContainer(\n",
    "#     img, library_id=library_id)}\n",
    "\n",
    "# Stlearn Way of Loading Images (Full Resolution)\n",
    "# st.add.image(adata, library_id=library_id, quality=quality,\n",
    "#              imgpath=image_path, scale=scale)\n",
    "\n",
    "# Stlearn Way of Loading Images (Not Full Resolution)\n",
    "for x in adatas:\n",
    "    max_size = np.max([adatas[x].obs[\"imagecol\"].max(),\n",
    "                       adatas[x].obs[\"imagerow\"].max()])\n",
    "    max_size = int(max_size + 0.1 * max_size)\n",
    "    img = Image.new(\"RGBA\", (max_size, max_size), (255, 255, 255, 255))\n",
    "    adatas[x].uns[\"spatial\"][x][\"images\"] = {\"hires\": np.array(img)}"
   ]
  },
  {
   "cell_type": "markdown",
   "metadata": {},
   "source": [
    "# Create Grids \n",
    "\n",
    "`stlearn` can create Visum-like data from Xenium data by aggregating the singl cells into larger \"spots\" (reducing the resolution) and performing label transfer to annotate the cells according to the dominant cluster/cell type in that spot."
   ]
  },
  {
   "cell_type": "code",
   "execution_count": 7,
   "metadata": {},
   "outputs": [
    {
     "name": "stdout",
     "output_type": "stream",
     "text": [
      "\n",
      "\n",
      "400 by 400 has 160000 spots\n",
      "\n",
      "\n",
      "Normalization step is finished in adata.X\n",
      "Gridding...\n"
     ]
    },
    {
     "name": "stderr",
     "output_type": "stream",
     "text": [
      "finding looplift candidates\n"
     ]
    },
    {
     "ename": "ValueError",
     "evalue": "Failed in object mode pipeline (step: remove phis nodes)\nCannot add edge as dest node 2054 not in nodes {130, 9, 10, 266, 12, 396, 398, 142, 400, 401, 44, 46, 176, 306, 188, 200, 342, 346, 358, 234}",
     "output_type": "error",
     "traceback": [
      "\u001b[0;31m---------------------------------------------------------------------------\u001b[0m",
      "\u001b[0;31mTypingError\u001b[0m                               Traceback (most recent call last)",
      "File \u001b[0;32m~/miniconda3/envs/py-bio/lib/python3.10/site-packages/numba/core/dispatcher.py:1223\u001b[0m, in \u001b[0;36mLiftedLoop.compile\u001b[0;34m(self, sig)\u001b[0m\n\u001b[1;32m   1222\u001b[0m \u001b[38;5;28;01mtry\u001b[39;00m:\n\u001b[0;32m-> 1223\u001b[0m     cres \u001b[38;5;241m=\u001b[39m \u001b[43mcompiler\u001b[49m\u001b[38;5;241;43m.\u001b[39;49m\u001b[43mcompile_ir\u001b[49m\u001b[43m(\u001b[49m\u001b[43mtypingctx\u001b[49m\u001b[38;5;241;43m=\u001b[39;49m\u001b[38;5;28;43mself\u001b[39;49m\u001b[38;5;241;43m.\u001b[39;49m\u001b[43mtypingctx\u001b[49m\u001b[43m,\u001b[49m\n\u001b[1;32m   1224\u001b[0m \u001b[43m                               \u001b[49m\u001b[43mtargetctx\u001b[49m\u001b[38;5;241;43m=\u001b[39;49m\u001b[38;5;28;43mself\u001b[39;49m\u001b[38;5;241;43m.\u001b[39;49m\u001b[43mtargetctx\u001b[49m\u001b[43m,\u001b[49m\n\u001b[1;32m   1225\u001b[0m \u001b[43m                               \u001b[49m\u001b[43mfunc_ir\u001b[49m\u001b[38;5;241;43m=\u001b[39;49m\u001b[43mcloned_func_ir\u001b[49m\u001b[43m,\u001b[49m\n\u001b[1;32m   1226\u001b[0m \u001b[43m                               \u001b[49m\u001b[43margs\u001b[49m\u001b[38;5;241;43m=\u001b[39;49m\u001b[43margs\u001b[49m\u001b[43m,\u001b[49m\n\u001b[1;32m   1227\u001b[0m \u001b[43m                               \u001b[49m\u001b[43mreturn_type\u001b[49m\u001b[38;5;241;43m=\u001b[39;49m\u001b[43mreturn_type\u001b[49m\u001b[43m,\u001b[49m\n\u001b[1;32m   1228\u001b[0m \u001b[43m                               \u001b[49m\u001b[43mflags\u001b[49m\u001b[38;5;241;43m=\u001b[39;49m\u001b[43mnpm_loop_flags\u001b[49m\u001b[43m,\u001b[49m\n\u001b[1;32m   1229\u001b[0m \u001b[43m                               \u001b[49m\u001b[38;5;28;43mlocals\u001b[39;49m\u001b[38;5;241;43m=\u001b[39;49m\u001b[38;5;28;43mself\u001b[39;49m\u001b[38;5;241;43m.\u001b[39;49m\u001b[43mlocals\u001b[49m\u001b[43m,\u001b[49m\n\u001b[1;32m   1230\u001b[0m \u001b[43m                               \u001b[49m\u001b[43mlifted\u001b[49m\u001b[38;5;241;43m=\u001b[39;49m\u001b[43m(\u001b[49m\u001b[43m)\u001b[49m\u001b[43m,\u001b[49m\n\u001b[1;32m   1231\u001b[0m \u001b[43m                               \u001b[49m\u001b[43mlifted_from\u001b[49m\u001b[38;5;241;43m=\u001b[39;49m\u001b[38;5;28;43mself\u001b[39;49m\u001b[38;5;241;43m.\u001b[39;49m\u001b[43mlifted_from\u001b[49m\u001b[43m,\u001b[49m\n\u001b[1;32m   1232\u001b[0m \u001b[43m                               \u001b[49m\u001b[43mis_lifted_loop\u001b[49m\u001b[38;5;241;43m=\u001b[39;49m\u001b[38;5;28;43;01mTrue\u001b[39;49;00m\u001b[43m,\u001b[49m\u001b[43m)\u001b[49m\n\u001b[1;32m   1233\u001b[0m \u001b[38;5;28;01mexcept\u001b[39;00m errors\u001b[38;5;241m.\u001b[39mTypingError:\n",
      "File \u001b[0;32m~/miniconda3/envs/py-bio/lib/python3.10/site-packages/numba/core/compiler.py:789\u001b[0m, in \u001b[0;36mcompile_ir\u001b[0;34m(typingctx, targetctx, func_ir, args, return_type, flags, locals, lifted, lifted_from, is_lifted_loop, library, pipeline_class)\u001b[0m\n\u001b[1;32m    788\u001b[0m \u001b[38;5;66;03m# compile with rewrites off, IR shouldn't be mutated irreparably\u001b[39;00m\n\u001b[0;32m--> 789\u001b[0m norw_cres \u001b[38;5;241m=\u001b[39m \u001b[43mcompile_local\u001b[49m\u001b[43m(\u001b[49m\u001b[43mfunc_ir\u001b[49m\u001b[38;5;241;43m.\u001b[39;49m\u001b[43mcopy\u001b[49m\u001b[43m(\u001b[49m\u001b[43m)\u001b[49m\u001b[43m,\u001b[49m\u001b[43m \u001b[49m\u001b[43mnorw_flags\u001b[49m\u001b[43m)\u001b[49m\n\u001b[1;32m    791\u001b[0m \u001b[38;5;66;03m# try and compile with rewrites on if no_rewrites was not set in the\u001b[39;00m\n\u001b[1;32m    792\u001b[0m \u001b[38;5;66;03m# original flags, IR might get broken but we've got a CompileResult\u001b[39;00m\n\u001b[1;32m    793\u001b[0m \u001b[38;5;66;03m# that's usable from above.\u001b[39;00m\n",
      "File \u001b[0;32m~/miniconda3/envs/py-bio/lib/python3.10/site-packages/numba/core/compiler.py:785\u001b[0m, in \u001b[0;36mcompile_ir.<locals>.compile_local\u001b[0;34m(the_ir, the_flags)\u001b[0m\n\u001b[1;32m    783\u001b[0m pipeline \u001b[38;5;241m=\u001b[39m pipeline_class(typingctx, targetctx, library,\n\u001b[1;32m    784\u001b[0m                           args, return_type, the_flags, \u001b[38;5;28mlocals\u001b[39m)\n\u001b[0;32m--> 785\u001b[0m \u001b[38;5;28;01mreturn\u001b[39;00m \u001b[43mpipeline\u001b[49m\u001b[38;5;241;43m.\u001b[39;49m\u001b[43mcompile_ir\u001b[49m\u001b[43m(\u001b[49m\u001b[43mfunc_ir\u001b[49m\u001b[38;5;241;43m=\u001b[39;49m\u001b[43mthe_ir\u001b[49m\u001b[43m,\u001b[49m\u001b[43m \u001b[49m\u001b[43mlifted\u001b[49m\u001b[38;5;241;43m=\u001b[39;49m\u001b[43mlifted\u001b[49m\u001b[43m,\u001b[49m\n\u001b[1;32m    786\u001b[0m \u001b[43m                           \u001b[49m\u001b[43mlifted_from\u001b[49m\u001b[38;5;241;43m=\u001b[39;49m\u001b[43mlifted_from\u001b[49m\u001b[43m)\u001b[49m\n",
      "File \u001b[0;32m~/miniconda3/envs/py-bio/lib/python3.10/site-packages/numba/core/compiler.py:455\u001b[0m, in \u001b[0;36mCompilerBase.compile_ir\u001b[0;34m(self, func_ir, lifted, lifted_from)\u001b[0m\n\u001b[1;32m    454\u001b[0m FixupArgs()\u001b[38;5;241m.\u001b[39mrun_pass(\u001b[38;5;28mself\u001b[39m\u001b[38;5;241m.\u001b[39mstate)\n\u001b[0;32m--> 455\u001b[0m \u001b[38;5;28;01mreturn\u001b[39;00m \u001b[38;5;28;43mself\u001b[39;49m\u001b[38;5;241;43m.\u001b[39;49m\u001b[43m_compile_ir\u001b[49m\u001b[43m(\u001b[49m\u001b[43m)\u001b[49m\n",
      "File \u001b[0;32m~/miniconda3/envs/py-bio/lib/python3.10/site-packages/numba/core/compiler.py:520\u001b[0m, in \u001b[0;36mCompilerBase._compile_ir\u001b[0;34m(self)\u001b[0m\n\u001b[1;32m    519\u001b[0m \u001b[38;5;28;01massert\u001b[39;00m \u001b[38;5;28mself\u001b[39m\u001b[38;5;241m.\u001b[39mstate\u001b[38;5;241m.\u001b[39mfunc_ir \u001b[38;5;129;01mis\u001b[39;00m \u001b[38;5;129;01mnot\u001b[39;00m \u001b[38;5;28;01mNone\u001b[39;00m\n\u001b[0;32m--> 520\u001b[0m \u001b[38;5;28;01mreturn\u001b[39;00m \u001b[38;5;28;43mself\u001b[39;49m\u001b[38;5;241;43m.\u001b[39;49m\u001b[43m_compile_core\u001b[49m\u001b[43m(\u001b[49m\u001b[43m)\u001b[49m\n",
      "File \u001b[0;32m~/miniconda3/envs/py-bio/lib/python3.10/site-packages/numba/core/compiler.py:492\u001b[0m, in \u001b[0;36mCompilerBase._compile_core\u001b[0;34m(self)\u001b[0m\n\u001b[1;32m    491\u001b[0m         \u001b[38;5;28;01mif\u001b[39;00m is_final_pipeline:\n\u001b[0;32m--> 492\u001b[0m             \u001b[38;5;28;01mraise\u001b[39;00m e\n\u001b[1;32m    493\u001b[0m \u001b[38;5;28;01melse\u001b[39;00m:\n",
      "File \u001b[0;32m~/miniconda3/envs/py-bio/lib/python3.10/site-packages/numba/core/compiler.py:479\u001b[0m, in \u001b[0;36mCompilerBase._compile_core\u001b[0;34m(self)\u001b[0m\n\u001b[1;32m    478\u001b[0m \u001b[38;5;28;01mtry\u001b[39;00m:\n\u001b[0;32m--> 479\u001b[0m     \u001b[43mpm\u001b[49m\u001b[38;5;241;43m.\u001b[39;49m\u001b[43mrun\u001b[49m\u001b[43m(\u001b[49m\u001b[38;5;28;43mself\u001b[39;49m\u001b[38;5;241;43m.\u001b[39;49m\u001b[43mstate\u001b[49m\u001b[43m)\u001b[49m\n\u001b[1;32m    480\u001b[0m     \u001b[38;5;28;01mif\u001b[39;00m \u001b[38;5;28mself\u001b[39m\u001b[38;5;241m.\u001b[39mstate\u001b[38;5;241m.\u001b[39mcr \u001b[38;5;129;01mis\u001b[39;00m \u001b[38;5;129;01mnot\u001b[39;00m \u001b[38;5;28;01mNone\u001b[39;00m:\n",
      "File \u001b[0;32m~/miniconda3/envs/py-bio/lib/python3.10/site-packages/numba/core/compiler_machinery.py:368\u001b[0m, in \u001b[0;36mPassManager.run\u001b[0;34m(self, state)\u001b[0m\n\u001b[1;32m    367\u001b[0m patched_exception \u001b[38;5;241m=\u001b[39m \u001b[38;5;28mself\u001b[39m\u001b[38;5;241m.\u001b[39m_patch_error(msg, e)\n\u001b[0;32m--> 368\u001b[0m \u001b[38;5;28;01mraise\u001b[39;00m patched_exception\n",
      "File \u001b[0;32m~/miniconda3/envs/py-bio/lib/python3.10/site-packages/numba/core/compiler_machinery.py:356\u001b[0m, in \u001b[0;36mPassManager.run\u001b[0;34m(self, state)\u001b[0m\n\u001b[1;32m    355\u001b[0m \u001b[38;5;28;01mif\u001b[39;00m \u001b[38;5;28misinstance\u001b[39m(pass_inst, CompilerPass):\n\u001b[0;32m--> 356\u001b[0m     \u001b[38;5;28;43mself\u001b[39;49m\u001b[38;5;241;43m.\u001b[39;49m\u001b[43m_runPass\u001b[49m\u001b[43m(\u001b[49m\u001b[43midx\u001b[49m\u001b[43m,\u001b[49m\u001b[43m \u001b[49m\u001b[43mpass_inst\u001b[49m\u001b[43m,\u001b[49m\u001b[43m \u001b[49m\u001b[43mstate\u001b[49m\u001b[43m)\u001b[49m\n\u001b[1;32m    357\u001b[0m \u001b[38;5;28;01melse\u001b[39;00m:\n",
      "File \u001b[0;32m~/miniconda3/envs/py-bio/lib/python3.10/site-packages/numba/core/compiler_lock.py:35\u001b[0m, in \u001b[0;36m_CompilerLock.__call__.<locals>._acquire_compile_lock\u001b[0;34m(*args, **kwargs)\u001b[0m\n\u001b[1;32m     34\u001b[0m \u001b[38;5;28;01mwith\u001b[39;00m \u001b[38;5;28mself\u001b[39m:\n\u001b[0;32m---> 35\u001b[0m     \u001b[38;5;28;01mreturn\u001b[39;00m \u001b[43mfunc\u001b[49m\u001b[43m(\u001b[49m\u001b[38;5;241;43m*\u001b[39;49m\u001b[43margs\u001b[49m\u001b[43m,\u001b[49m\u001b[43m \u001b[49m\u001b[38;5;241;43m*\u001b[39;49m\u001b[38;5;241;43m*\u001b[39;49m\u001b[43mkwargs\u001b[49m\u001b[43m)\u001b[49m\n",
      "File \u001b[0;32m~/miniconda3/envs/py-bio/lib/python3.10/site-packages/numba/core/compiler_machinery.py:311\u001b[0m, in \u001b[0;36mPassManager._runPass\u001b[0;34m(self, index, pss, internal_state)\u001b[0m\n\u001b[1;32m    310\u001b[0m \u001b[38;5;28;01mwith\u001b[39;00m SimpleTimer() \u001b[38;5;28;01mas\u001b[39;00m pass_time:\n\u001b[0;32m--> 311\u001b[0m     mutated \u001b[38;5;241m|\u001b[39m\u001b[38;5;241m=\u001b[39m \u001b[43mcheck\u001b[49m\u001b[43m(\u001b[49m\u001b[43mpss\u001b[49m\u001b[38;5;241;43m.\u001b[39;49m\u001b[43mrun_pass\u001b[49m\u001b[43m,\u001b[49m\u001b[43m \u001b[49m\u001b[43minternal_state\u001b[49m\u001b[43m)\u001b[49m\n\u001b[1;32m    312\u001b[0m \u001b[38;5;28;01mwith\u001b[39;00m SimpleTimer() \u001b[38;5;28;01mas\u001b[39;00m finalize_time:\n",
      "File \u001b[0;32m~/miniconda3/envs/py-bio/lib/python3.10/site-packages/numba/core/compiler_machinery.py:273\u001b[0m, in \u001b[0;36mPassManager._runPass.<locals>.check\u001b[0;34m(func, compiler_state)\u001b[0m\n\u001b[1;32m    272\u001b[0m \u001b[38;5;28;01mdef\u001b[39;00m \u001b[38;5;21mcheck\u001b[39m(func, compiler_state):\n\u001b[0;32m--> 273\u001b[0m     mangled \u001b[38;5;241m=\u001b[39m \u001b[43mfunc\u001b[49m\u001b[43m(\u001b[49m\u001b[43mcompiler_state\u001b[49m\u001b[43m)\u001b[49m\n\u001b[1;32m    274\u001b[0m     \u001b[38;5;28;01mif\u001b[39;00m mangled \u001b[38;5;129;01mnot\u001b[39;00m \u001b[38;5;129;01min\u001b[39;00m (\u001b[38;5;28;01mTrue\u001b[39;00m, \u001b[38;5;28;01mFalse\u001b[39;00m):\n",
      "File \u001b[0;32m~/miniconda3/envs/py-bio/lib/python3.10/site-packages/numba/core/typed_passes.py:112\u001b[0m, in \u001b[0;36mBaseTypeInference.run_pass\u001b[0;34m(self, state)\u001b[0m\n\u001b[1;32m    109\u001b[0m \u001b[38;5;28;01mwith\u001b[39;00m fallback_context(state, \u001b[38;5;124m'\u001b[39m\u001b[38;5;124mFunction \u001b[39m\u001b[38;5;124m\"\u001b[39m\u001b[38;5;132;01m%s\u001b[39;00m\u001b[38;5;124m\"\u001b[39m\u001b[38;5;124m failed type inference\u001b[39m\u001b[38;5;124m'\u001b[39m\n\u001b[1;32m    110\u001b[0m                       \u001b[38;5;241m%\u001b[39m (state\u001b[38;5;241m.\u001b[39mfunc_id\u001b[38;5;241m.\u001b[39mfunc_name,)):\n\u001b[1;32m    111\u001b[0m     \u001b[38;5;66;03m# Type inference\u001b[39;00m\n\u001b[0;32m--> 112\u001b[0m     typemap, return_type, calltypes, errs \u001b[38;5;241m=\u001b[39m \u001b[43mtype_inference_stage\u001b[49m\u001b[43m(\u001b[49m\n\u001b[1;32m    113\u001b[0m \u001b[43m        \u001b[49m\u001b[43mstate\u001b[49m\u001b[38;5;241;43m.\u001b[39;49m\u001b[43mtypingctx\u001b[49m\u001b[43m,\u001b[49m\n\u001b[1;32m    114\u001b[0m \u001b[43m        \u001b[49m\u001b[43mstate\u001b[49m\u001b[38;5;241;43m.\u001b[39;49m\u001b[43mtargetctx\u001b[49m\u001b[43m,\u001b[49m\n\u001b[1;32m    115\u001b[0m \u001b[43m        \u001b[49m\u001b[43mstate\u001b[49m\u001b[38;5;241;43m.\u001b[39;49m\u001b[43mfunc_ir\u001b[49m\u001b[43m,\u001b[49m\n\u001b[1;32m    116\u001b[0m \u001b[43m        \u001b[49m\u001b[43mstate\u001b[49m\u001b[38;5;241;43m.\u001b[39;49m\u001b[43margs\u001b[49m\u001b[43m,\u001b[49m\n\u001b[1;32m    117\u001b[0m \u001b[43m        \u001b[49m\u001b[43mstate\u001b[49m\u001b[38;5;241;43m.\u001b[39;49m\u001b[43mreturn_type\u001b[49m\u001b[43m,\u001b[49m\n\u001b[1;32m    118\u001b[0m \u001b[43m        \u001b[49m\u001b[43mstate\u001b[49m\u001b[38;5;241;43m.\u001b[39;49m\u001b[43mlocals\u001b[49m\u001b[43m,\u001b[49m\n\u001b[1;32m    119\u001b[0m \u001b[43m        \u001b[49m\u001b[43mraise_errors\u001b[49m\u001b[38;5;241;43m=\u001b[39;49m\u001b[38;5;28;43mself\u001b[39;49m\u001b[38;5;241;43m.\u001b[39;49m\u001b[43m_raise_errors\u001b[49m\u001b[43m)\u001b[49m\n\u001b[1;32m    120\u001b[0m     state\u001b[38;5;241m.\u001b[39mtypemap \u001b[38;5;241m=\u001b[39m typemap\n",
      "File \u001b[0;32m~/miniconda3/envs/py-bio/lib/python3.10/site-packages/numba/core/typed_passes.py:93\u001b[0m, in \u001b[0;36mtype_inference_stage\u001b[0;34m(typingctx, targetctx, interp, args, return_type, locals, raise_errors)\u001b[0m\n\u001b[1;32m     92\u001b[0m \u001b[38;5;66;03m# return errors in case of partial typing\u001b[39;00m\n\u001b[0;32m---> 93\u001b[0m errs \u001b[38;5;241m=\u001b[39m \u001b[43minfer\u001b[49m\u001b[38;5;241;43m.\u001b[39;49m\u001b[43mpropagate\u001b[49m\u001b[43m(\u001b[49m\u001b[43mraise_errors\u001b[49m\u001b[38;5;241;43m=\u001b[39;49m\u001b[43mraise_errors\u001b[49m\u001b[43m)\u001b[49m\n\u001b[1;32m     94\u001b[0m typemap, restype, calltypes \u001b[38;5;241m=\u001b[39m infer\u001b[38;5;241m.\u001b[39munify(raise_errors\u001b[38;5;241m=\u001b[39mraise_errors)\n",
      "File \u001b[0;32m~/miniconda3/envs/py-bio/lib/python3.10/site-packages/numba/core/typeinfer.py:1091\u001b[0m, in \u001b[0;36mTypeInferer.propagate\u001b[0;34m(self, raise_errors)\u001b[0m\n\u001b[1;32m   1090\u001b[0m \u001b[38;5;28;01mif\u001b[39;00m \u001b[38;5;129;01mnot\u001b[39;00m force_lit_args:\n\u001b[0;32m-> 1091\u001b[0m     \u001b[38;5;28;01mraise\u001b[39;00m errors[\u001b[38;5;241m0\u001b[39m]\n\u001b[1;32m   1092\u001b[0m \u001b[38;5;28;01melse\u001b[39;00m:\n",
      "\u001b[0;31mTypingError\u001b[0m: Failed in nopython mode pipeline (step: nopython frontend)\nnon-precise type pyobject\nDuring: typing of argument at /home/elizabeth/elizabeth/miniconda3/envs/py-bio/lib/python3.10/site-packages/stlearn/tools/microenv/cci/het.py (501)\n\nFile \"../../miniconda3/envs/py-bio/lib/python3.10/site-packages/stlearn/tools/microenv/cci/het.py\", line 501:\ndef grid_parallel(\n    <source elided>\n    # generate grids from top to bottom and left to right\n    for i in prange(n_col):\n    ^\n",
      "\nDuring handling of the above exception, another exception occurred:\n",
      "\u001b[0;31mValueError\u001b[0m                                Traceback (most recent call last)",
      "File \u001b[0;32m<timed exec>:10\u001b[0m\n",
      "File \u001b[0;32m~/corescpy/corescpy/processing/spatial_pp.py:149\u001b[0m, in \u001b[0;36mcreate_spot_grid\u001b[0;34m(adata, col_cell_type, n_spots, layer, n_jobs, title, cmap, kws_plot)\u001b[0m\n\u001b[1;32m    147\u001b[0m     adata\u001b[38;5;241m.\u001b[39mX \u001b[38;5;241m=\u001b[39m adata\u001b[38;5;241m.\u001b[39mlayers[layer]\u001b[38;5;241m.\u001b[39mcopy()\n\u001b[1;32m    148\u001b[0m st\u001b[38;5;241m.\u001b[39mpp\u001b[38;5;241m.\u001b[39mnormalize_total(adata)  \u001b[38;5;66;03m# total count-normalize\u001b[39;00m\n\u001b[0;32m--> 149\u001b[0m grid \u001b[38;5;241m=\u001b[39m \u001b[43mst\u001b[49m\u001b[38;5;241;43m.\u001b[39;49m\u001b[43mtl\u001b[49m\u001b[38;5;241;43m.\u001b[39;49m\u001b[43mcci\u001b[49m\u001b[38;5;241;43m.\u001b[39;49m\u001b[43mgrid\u001b[49m\u001b[43m(\u001b[49m\u001b[43madata\u001b[49m\u001b[43m,\u001b[49m\u001b[43m \u001b[49m\u001b[43mn_row\u001b[49m\u001b[38;5;241;43m=\u001b[39;49m\u001b[43mn_spots\u001b[49m\u001b[43m,\u001b[49m\u001b[43m \u001b[49m\u001b[43mn_col\u001b[49m\u001b[38;5;241;43m=\u001b[39;49m\u001b[43mn_spots\u001b[49m\u001b[43m,\u001b[49m\n\u001b[1;32m    150\u001b[0m \u001b[43m                      \u001b[49m\u001b[43muse_label\u001b[49m\u001b[38;5;241;43m=\u001b[39;49m\u001b[43mcol_cell_type\u001b[49m\u001b[43m,\u001b[49m\u001b[43m \u001b[49m\u001b[43mn_cpus\u001b[49m\u001b[38;5;241;43m=\u001b[39;49m\u001b[43mn_jobs\u001b[49m\u001b[43m)\u001b[49m\n\u001b[1;32m    151\u001b[0m \u001b[38;5;28;01mif\u001b[39;00m kws_plot \u001b[38;5;129;01mis\u001b[39;00m \u001b[38;5;129;01mnot\u001b[39;00m \u001b[38;5;28;01mNone\u001b[39;00m:  \u001b[38;5;66;03m# plot label transfer; adata vs. grid\u001b[39;00m\n\u001b[1;32m    152\u001b[0m     f_s \u001b[38;5;241m=\u001b[39m kws_plot\u001b[38;5;241m.\u001b[39mpop(\u001b[38;5;124m\"\u001b[39m\u001b[38;5;124mfigsize\u001b[39m\u001b[38;5;124m\"\u001b[39m, \u001b[38;5;28;01mNone\u001b[39;00m)\n",
      "File \u001b[0;32m~/miniconda3/envs/py-bio/lib/python3.10/site-packages/stlearn/tools/microenv/cci/analysis.py:133\u001b[0m, in \u001b[0;36mgrid\u001b[0;34m(adata, n_row, n_col, use_label, n_cpus, verbose)\u001b[0m\n\u001b[1;32m    130\u001b[0m     cell_info \u001b[38;5;241m=\u001b[39m np\u001b[38;5;241m.\u001b[39mzeros((n_squares, \u001b[38;5;28mlen\u001b[39m(cell_set)), dtype\u001b[38;5;241m=\u001b[39mnp\u001b[38;5;241m.\u001b[39mfloat64)\n\u001b[1;32m    132\u001b[0m \u001b[38;5;66;03m# Performing grid operation in parallel #\u001b[39;00m\n\u001b[0;32m--> 133\u001b[0m \u001b[43mgrid_parallel\u001b[49m\u001b[43m(\u001b[49m\n\u001b[1;32m    134\u001b[0m \u001b[43m    \u001b[49m\u001b[43mgrid_coords\u001b[49m\u001b[43m,\u001b[49m\n\u001b[1;32m    135\u001b[0m \u001b[43m    \u001b[49m\u001b[43mxedges\u001b[49m\u001b[43m,\u001b[49m\n\u001b[1;32m    136\u001b[0m \u001b[43m    \u001b[49m\u001b[43myedges\u001b[49m\u001b[43m,\u001b[49m\n\u001b[1;32m    137\u001b[0m \u001b[43m    \u001b[49m\u001b[43mn_row\u001b[49m\u001b[43m,\u001b[49m\n\u001b[1;32m    138\u001b[0m \u001b[43m    \u001b[49m\u001b[43mn_col\u001b[49m\u001b[43m,\u001b[49m\n\u001b[1;32m    139\u001b[0m \u001b[43m    \u001b[49m\u001b[43mxs\u001b[49m\u001b[43m,\u001b[49m\n\u001b[1;32m    140\u001b[0m \u001b[43m    \u001b[49m\u001b[43mys\u001b[49m\u001b[43m,\u001b[49m\n\u001b[1;32m    141\u001b[0m \u001b[43m    \u001b[49m\u001b[43mcell_bcs\u001b[49m\u001b[43m,\u001b[49m\n\u001b[1;32m    142\u001b[0m \u001b[43m    \u001b[49m\u001b[43mgrid_cell_counts\u001b[49m\u001b[43m,\u001b[49m\n\u001b[1;32m    143\u001b[0m \u001b[43m    \u001b[49m\u001b[43mgrid_expr\u001b[49m\u001b[43m,\u001b[49m\n\u001b[1;32m    144\u001b[0m \u001b[43m    \u001b[49m\u001b[43madata\u001b[49m\u001b[38;5;241;43m.\u001b[39;49m\u001b[43mX\u001b[49m\u001b[43m,\u001b[49m\n\u001b[1;32m    145\u001b[0m \u001b[43m    \u001b[49m\u001b[38;5;28;43mtype\u001b[39;49m\u001b[43m(\u001b[49m\u001b[43muse_label\u001b[49m\u001b[43m)\u001b[49m\u001b[43m \u001b[49m\u001b[38;5;241;43m!=\u001b[39;49m\u001b[43m \u001b[49m\u001b[38;5;28;43mtype\u001b[39;49m\u001b[43m(\u001b[49m\u001b[38;5;28;43;01mNone\u001b[39;49;00m\u001b[43m)\u001b[49m\u001b[43m,\u001b[49m\n\u001b[1;32m    146\u001b[0m \u001b[43m    \u001b[49m\u001b[43mcell_labels\u001b[49m\u001b[43m,\u001b[49m\n\u001b[1;32m    147\u001b[0m \u001b[43m    \u001b[49m\u001b[43mcell_info\u001b[49m\u001b[43m,\u001b[49m\n\u001b[1;32m    148\u001b[0m \u001b[43m    \u001b[49m\u001b[43mcell_set\u001b[49m\u001b[43m,\u001b[49m\n\u001b[1;32m    149\u001b[0m \u001b[43m\u001b[49m\u001b[43m)\u001b[49m\n\u001b[1;32m    151\u001b[0m \u001b[38;5;66;03m# Creating gridded anndata #\u001b[39;00m\n\u001b[1;32m    152\u001b[0m grid_expr \u001b[38;5;241m=\u001b[39m pd\u001b[38;5;241m.\u001b[39mDataFrame(\n\u001b[1;32m    153\u001b[0m     grid_expr,\n\u001b[1;32m    154\u001b[0m     index\u001b[38;5;241m=\u001b[39m[\u001b[38;5;124mf\u001b[39m\u001b[38;5;124m\"\u001b[39m\u001b[38;5;124mgrid_\u001b[39m\u001b[38;5;132;01m{\u001b[39;00mi\u001b[38;5;132;01m}\u001b[39;00m\u001b[38;5;124m\"\u001b[39m \u001b[38;5;28;01mfor\u001b[39;00m i \u001b[38;5;129;01min\u001b[39;00m \u001b[38;5;28mrange\u001b[39m(n_squares)],\n\u001b[1;32m    155\u001b[0m     columns\u001b[38;5;241m=\u001b[39madata\u001b[38;5;241m.\u001b[39mvar_names\u001b[38;5;241m.\u001b[39mvalues\u001b[38;5;241m.\u001b[39mastype(\u001b[38;5;28mstr\u001b[39m),\n\u001b[1;32m    156\u001b[0m )\n",
      "File \u001b[0;32m~/miniconda3/envs/py-bio/lib/python3.10/site-packages/numba/core/dispatcher.py:487\u001b[0m, in \u001b[0;36m_DispatcherBase._compile_for_args\u001b[0;34m(self, *args, **kws)\u001b[0m\n\u001b[1;32m    485\u001b[0m             e\u001b[38;5;241m.\u001b[39mpatch_message(\u001b[38;5;124m'\u001b[39m\u001b[38;5;130;01m\\n\u001b[39;00m\u001b[38;5;124m'\u001b[39m\u001b[38;5;241m.\u001b[39mjoin((\u001b[38;5;28mstr\u001b[39m(e)\u001b[38;5;241m.\u001b[39mrstrip(), help_msg)))\n\u001b[1;32m    486\u001b[0m     \u001b[38;5;66;03m# ignore the FULL_TRACEBACKS config, this needs reporting!\u001b[39;00m\n\u001b[0;32m--> 487\u001b[0m     \u001b[38;5;28;01mraise\u001b[39;00m e\n\u001b[1;32m    488\u001b[0m \u001b[38;5;28;01mfinally\u001b[39;00m:\n\u001b[1;32m    489\u001b[0m     \u001b[38;5;28mself\u001b[39m\u001b[38;5;241m.\u001b[39m_types_active_call \u001b[38;5;241m=\u001b[39m []\n",
      "File \u001b[0;32m~/miniconda3/envs/py-bio/lib/python3.10/site-packages/numba/core/dispatcher.py:420\u001b[0m, in \u001b[0;36m_DispatcherBase._compile_for_args\u001b[0;34m(self, *args, **kws)\u001b[0m\n\u001b[1;32m    418\u001b[0m return_val \u001b[38;5;241m=\u001b[39m \u001b[38;5;28;01mNone\u001b[39;00m\n\u001b[1;32m    419\u001b[0m \u001b[38;5;28;01mtry\u001b[39;00m:\n\u001b[0;32m--> 420\u001b[0m     return_val \u001b[38;5;241m=\u001b[39m \u001b[38;5;28;43mself\u001b[39;49m\u001b[38;5;241;43m.\u001b[39;49m\u001b[43mcompile\u001b[49m\u001b[43m(\u001b[49m\u001b[38;5;28;43mtuple\u001b[39;49m\u001b[43m(\u001b[49m\u001b[43margtypes\u001b[49m\u001b[43m)\u001b[49m\u001b[43m)\u001b[49m\n\u001b[1;32m    421\u001b[0m \u001b[38;5;28;01mexcept\u001b[39;00m errors\u001b[38;5;241m.\u001b[39mForceLiteralArg \u001b[38;5;28;01mas\u001b[39;00m e:\n\u001b[1;32m    422\u001b[0m     \u001b[38;5;66;03m# Received request for compiler re-entry with the list of arguments\u001b[39;00m\n\u001b[1;32m    423\u001b[0m     \u001b[38;5;66;03m# indicated by e.requested_args.\u001b[39;00m\n\u001b[1;32m    424\u001b[0m     \u001b[38;5;66;03m# First, check if any of these args are already Literal-ized\u001b[39;00m\n\u001b[1;32m    425\u001b[0m     already_lit_pos \u001b[38;5;241m=\u001b[39m [i \u001b[38;5;28;01mfor\u001b[39;00m i \u001b[38;5;129;01min\u001b[39;00m e\u001b[38;5;241m.\u001b[39mrequested_args\n\u001b[1;32m    426\u001b[0m                        \u001b[38;5;28;01mif\u001b[39;00m \u001b[38;5;28misinstance\u001b[39m(args[i], types\u001b[38;5;241m.\u001b[39mLiteral)]\n",
      "File \u001b[0;32m~/miniconda3/envs/py-bio/lib/python3.10/site-packages/numba/core/dispatcher.py:1234\u001b[0m, in \u001b[0;36mLiftedLoop.compile\u001b[0;34m(self, sig)\u001b[0m\n\u001b[1;32m   1223\u001b[0m     cres \u001b[38;5;241m=\u001b[39m compiler\u001b[38;5;241m.\u001b[39mcompile_ir(typingctx\u001b[38;5;241m=\u001b[39m\u001b[38;5;28mself\u001b[39m\u001b[38;5;241m.\u001b[39mtypingctx,\n\u001b[1;32m   1224\u001b[0m                                targetctx\u001b[38;5;241m=\u001b[39m\u001b[38;5;28mself\u001b[39m\u001b[38;5;241m.\u001b[39mtargetctx,\n\u001b[1;32m   1225\u001b[0m                                func_ir\u001b[38;5;241m=\u001b[39mcloned_func_ir,\n\u001b[0;32m   (...)\u001b[0m\n\u001b[1;32m   1231\u001b[0m                                lifted_from\u001b[38;5;241m=\u001b[39m\u001b[38;5;28mself\u001b[39m\u001b[38;5;241m.\u001b[39mlifted_from,\n\u001b[1;32m   1232\u001b[0m                                is_lifted_loop\u001b[38;5;241m=\u001b[39m\u001b[38;5;28;01mTrue\u001b[39;00m,)\n\u001b[1;32m   1233\u001b[0m \u001b[38;5;28;01mexcept\u001b[39;00m errors\u001b[38;5;241m.\u001b[39mTypingError:\n\u001b[0;32m-> 1234\u001b[0m     cres \u001b[38;5;241m=\u001b[39m \u001b[43mcompiler\u001b[49m\u001b[38;5;241;43m.\u001b[39;49m\u001b[43mcompile_ir\u001b[49m\u001b[43m(\u001b[49m\u001b[43mtypingctx\u001b[49m\u001b[38;5;241;43m=\u001b[39;49m\u001b[38;5;28;43mself\u001b[39;49m\u001b[38;5;241;43m.\u001b[39;49m\u001b[43mtypingctx\u001b[49m\u001b[43m,\u001b[49m\n\u001b[1;32m   1235\u001b[0m \u001b[43m                               \u001b[49m\u001b[43mtargetctx\u001b[49m\u001b[38;5;241;43m=\u001b[39;49m\u001b[38;5;28;43mself\u001b[39;49m\u001b[38;5;241;43m.\u001b[39;49m\u001b[43mtargetctx\u001b[49m\u001b[43m,\u001b[49m\n\u001b[1;32m   1236\u001b[0m \u001b[43m                               \u001b[49m\u001b[43mfunc_ir\u001b[49m\u001b[38;5;241;43m=\u001b[39;49m\u001b[43mcloned_func_ir\u001b[49m\u001b[43m,\u001b[49m\n\u001b[1;32m   1237\u001b[0m \u001b[43m                               \u001b[49m\u001b[43margs\u001b[49m\u001b[38;5;241;43m=\u001b[39;49m\u001b[43margs\u001b[49m\u001b[43m,\u001b[49m\n\u001b[1;32m   1238\u001b[0m \u001b[43m                               \u001b[49m\u001b[43mreturn_type\u001b[49m\u001b[38;5;241;43m=\u001b[39;49m\u001b[43mreturn_type\u001b[49m\u001b[43m,\u001b[49m\n\u001b[1;32m   1239\u001b[0m \u001b[43m                               \u001b[49m\u001b[43mflags\u001b[49m\u001b[38;5;241;43m=\u001b[39;49m\u001b[43mpyobject_loop_flags\u001b[49m\u001b[43m,\u001b[49m\n\u001b[1;32m   1240\u001b[0m \u001b[43m                               \u001b[49m\u001b[38;5;28;43mlocals\u001b[39;49m\u001b[38;5;241;43m=\u001b[39;49m\u001b[38;5;28;43mself\u001b[39;49m\u001b[38;5;241;43m.\u001b[39;49m\u001b[43mlocals\u001b[49m\u001b[43m,\u001b[49m\n\u001b[1;32m   1241\u001b[0m \u001b[43m                               \u001b[49m\u001b[43mlifted\u001b[49m\u001b[38;5;241;43m=\u001b[39;49m\u001b[43m(\u001b[49m\u001b[43m)\u001b[49m\u001b[43m,\u001b[49m\n\u001b[1;32m   1242\u001b[0m \u001b[43m                               \u001b[49m\u001b[43mlifted_from\u001b[49m\u001b[38;5;241;43m=\u001b[39;49m\u001b[38;5;28;43mself\u001b[39;49m\u001b[38;5;241;43m.\u001b[39;49m\u001b[43mlifted_from\u001b[49m\u001b[43m,\u001b[49m\n\u001b[1;32m   1243\u001b[0m \u001b[43m                               \u001b[49m\u001b[43mis_lifted_loop\u001b[49m\u001b[38;5;241;43m=\u001b[39;49m\u001b[38;5;28;43;01mTrue\u001b[39;49;00m\u001b[43m,\u001b[49m\u001b[43m)\u001b[49m\n\u001b[1;32m   1244\u001b[0m \u001b[38;5;66;03m# Check typing error if object mode is used\u001b[39;00m\n\u001b[1;32m   1245\u001b[0m \u001b[38;5;28;01mif\u001b[39;00m (cres\u001b[38;5;241m.\u001b[39mtyping_error \u001b[38;5;129;01mis\u001b[39;00m \u001b[38;5;129;01mnot\u001b[39;00m \u001b[38;5;28;01mNone\u001b[39;00m):\n",
      "File \u001b[0;32m~/miniconda3/envs/py-bio/lib/python3.10/site-packages/numba/core/compiler.py:789\u001b[0m, in \u001b[0;36mcompile_ir\u001b[0;34m(typingctx, targetctx, func_ir, args, return_type, flags, locals, lifted, lifted_from, is_lifted_loop, library, pipeline_class)\u001b[0m\n\u001b[1;32m    785\u001b[0m     \u001b[38;5;28;01mreturn\u001b[39;00m pipeline\u001b[38;5;241m.\u001b[39mcompile_ir(func_ir\u001b[38;5;241m=\u001b[39mthe_ir, lifted\u001b[38;5;241m=\u001b[39mlifted,\n\u001b[1;32m    786\u001b[0m                                lifted_from\u001b[38;5;241m=\u001b[39mlifted_from)\n\u001b[1;32m    788\u001b[0m \u001b[38;5;66;03m# compile with rewrites off, IR shouldn't be mutated irreparably\u001b[39;00m\n\u001b[0;32m--> 789\u001b[0m norw_cres \u001b[38;5;241m=\u001b[39m \u001b[43mcompile_local\u001b[49m\u001b[43m(\u001b[49m\u001b[43mfunc_ir\u001b[49m\u001b[38;5;241;43m.\u001b[39;49m\u001b[43mcopy\u001b[49m\u001b[43m(\u001b[49m\u001b[43m)\u001b[49m\u001b[43m,\u001b[49m\u001b[43m \u001b[49m\u001b[43mnorw_flags\u001b[49m\u001b[43m)\u001b[49m\n\u001b[1;32m    791\u001b[0m \u001b[38;5;66;03m# try and compile with rewrites on if no_rewrites was not set in the\u001b[39;00m\n\u001b[1;32m    792\u001b[0m \u001b[38;5;66;03m# original flags, IR might get broken but we've got a CompileResult\u001b[39;00m\n\u001b[1;32m    793\u001b[0m \u001b[38;5;66;03m# that's usable from above.\u001b[39;00m\n\u001b[1;32m    794\u001b[0m rw_cres \u001b[38;5;241m=\u001b[39m \u001b[38;5;28;01mNone\u001b[39;00m\n",
      "File \u001b[0;32m~/miniconda3/envs/py-bio/lib/python3.10/site-packages/numba/core/compiler.py:785\u001b[0m, in \u001b[0;36mcompile_ir.<locals>.compile_local\u001b[0;34m(the_ir, the_flags)\u001b[0m\n\u001b[1;32m    782\u001b[0m \u001b[38;5;28;01mdef\u001b[39;00m \u001b[38;5;21mcompile_local\u001b[39m(the_ir, the_flags):\n\u001b[1;32m    783\u001b[0m     pipeline \u001b[38;5;241m=\u001b[39m pipeline_class(typingctx, targetctx, library,\n\u001b[1;32m    784\u001b[0m                               args, return_type, the_flags, \u001b[38;5;28mlocals\u001b[39m)\n\u001b[0;32m--> 785\u001b[0m     \u001b[38;5;28;01mreturn\u001b[39;00m \u001b[43mpipeline\u001b[49m\u001b[38;5;241;43m.\u001b[39;49m\u001b[43mcompile_ir\u001b[49m\u001b[43m(\u001b[49m\u001b[43mfunc_ir\u001b[49m\u001b[38;5;241;43m=\u001b[39;49m\u001b[43mthe_ir\u001b[49m\u001b[43m,\u001b[49m\u001b[43m \u001b[49m\u001b[43mlifted\u001b[49m\u001b[38;5;241;43m=\u001b[39;49m\u001b[43mlifted\u001b[49m\u001b[43m,\u001b[49m\n\u001b[1;32m    786\u001b[0m \u001b[43m                               \u001b[49m\u001b[43mlifted_from\u001b[49m\u001b[38;5;241;43m=\u001b[39;49m\u001b[43mlifted_from\u001b[49m\u001b[43m)\u001b[49m\n",
      "File \u001b[0;32m~/miniconda3/envs/py-bio/lib/python3.10/site-packages/numba/core/compiler.py:455\u001b[0m, in \u001b[0;36mCompilerBase.compile_ir\u001b[0;34m(self, func_ir, lifted, lifted_from)\u001b[0m\n\u001b[1;32m    452\u001b[0m \u001b[38;5;28mself\u001b[39m\u001b[38;5;241m.\u001b[39mstate\u001b[38;5;241m.\u001b[39mnargs \u001b[38;5;241m=\u001b[39m \u001b[38;5;28mself\u001b[39m\u001b[38;5;241m.\u001b[39mstate\u001b[38;5;241m.\u001b[39mfunc_ir\u001b[38;5;241m.\u001b[39marg_count\n\u001b[1;32m    454\u001b[0m FixupArgs()\u001b[38;5;241m.\u001b[39mrun_pass(\u001b[38;5;28mself\u001b[39m\u001b[38;5;241m.\u001b[39mstate)\n\u001b[0;32m--> 455\u001b[0m \u001b[38;5;28;01mreturn\u001b[39;00m \u001b[38;5;28;43mself\u001b[39;49m\u001b[38;5;241;43m.\u001b[39;49m\u001b[43m_compile_ir\u001b[49m\u001b[43m(\u001b[49m\u001b[43m)\u001b[49m\n",
      "File \u001b[0;32m~/miniconda3/envs/py-bio/lib/python3.10/site-packages/numba/core/compiler.py:520\u001b[0m, in \u001b[0;36mCompilerBase._compile_ir\u001b[0;34m(self)\u001b[0m\n\u001b[1;32m    516\u001b[0m \u001b[38;5;250m\u001b[39m\u001b[38;5;124;03m\"\"\"\u001b[39;00m\n\u001b[1;32m    517\u001b[0m \u001b[38;5;124;03mPopulate and run pipeline for IR input\u001b[39;00m\n\u001b[1;32m    518\u001b[0m \u001b[38;5;124;03m\"\"\"\u001b[39;00m\n\u001b[1;32m    519\u001b[0m \u001b[38;5;28;01massert\u001b[39;00m \u001b[38;5;28mself\u001b[39m\u001b[38;5;241m.\u001b[39mstate\u001b[38;5;241m.\u001b[39mfunc_ir \u001b[38;5;129;01mis\u001b[39;00m \u001b[38;5;129;01mnot\u001b[39;00m \u001b[38;5;28;01mNone\u001b[39;00m\n\u001b[0;32m--> 520\u001b[0m \u001b[38;5;28;01mreturn\u001b[39;00m \u001b[38;5;28;43mself\u001b[39;49m\u001b[38;5;241;43m.\u001b[39;49m\u001b[43m_compile_core\u001b[49m\u001b[43m(\u001b[49m\u001b[43m)\u001b[49m\n",
      "File \u001b[0;32m~/miniconda3/envs/py-bio/lib/python3.10/site-packages/numba/core/compiler.py:492\u001b[0m, in \u001b[0;36mCompilerBase._compile_core\u001b[0;34m(self)\u001b[0m\n\u001b[1;32m    490\u001b[0m         \u001b[38;5;28mself\u001b[39m\u001b[38;5;241m.\u001b[39mstate\u001b[38;5;241m.\u001b[39mstatus\u001b[38;5;241m.\u001b[39mfail_reason \u001b[38;5;241m=\u001b[39m e\n\u001b[1;32m    491\u001b[0m         \u001b[38;5;28;01mif\u001b[39;00m is_final_pipeline:\n\u001b[0;32m--> 492\u001b[0m             \u001b[38;5;28;01mraise\u001b[39;00m e\n\u001b[1;32m    493\u001b[0m \u001b[38;5;28;01melse\u001b[39;00m:\n\u001b[1;32m    494\u001b[0m     \u001b[38;5;28;01mraise\u001b[39;00m CompilerError(\u001b[38;5;124m\"\u001b[39m\u001b[38;5;124mAll available pipelines exhausted\u001b[39m\u001b[38;5;124m\"\u001b[39m)\n",
      "File \u001b[0;32m~/miniconda3/envs/py-bio/lib/python3.10/site-packages/numba/core/compiler.py:479\u001b[0m, in \u001b[0;36mCompilerBase._compile_core\u001b[0;34m(self)\u001b[0m\n\u001b[1;32m    477\u001b[0m res \u001b[38;5;241m=\u001b[39m \u001b[38;5;28;01mNone\u001b[39;00m\n\u001b[1;32m    478\u001b[0m \u001b[38;5;28;01mtry\u001b[39;00m:\n\u001b[0;32m--> 479\u001b[0m     \u001b[43mpm\u001b[49m\u001b[38;5;241;43m.\u001b[39;49m\u001b[43mrun\u001b[49m\u001b[43m(\u001b[49m\u001b[38;5;28;43mself\u001b[39;49m\u001b[38;5;241;43m.\u001b[39;49m\u001b[43mstate\u001b[49m\u001b[43m)\u001b[49m\n\u001b[1;32m    480\u001b[0m     \u001b[38;5;28;01mif\u001b[39;00m \u001b[38;5;28mself\u001b[39m\u001b[38;5;241m.\u001b[39mstate\u001b[38;5;241m.\u001b[39mcr \u001b[38;5;129;01mis\u001b[39;00m \u001b[38;5;129;01mnot\u001b[39;00m \u001b[38;5;28;01mNone\u001b[39;00m:\n\u001b[1;32m    481\u001b[0m         \u001b[38;5;28;01mbreak\u001b[39;00m\n",
      "File \u001b[0;32m~/miniconda3/envs/py-bio/lib/python3.10/site-packages/numba/core/compiler_machinery.py:368\u001b[0m, in \u001b[0;36mPassManager.run\u001b[0;34m(self, state)\u001b[0m\n\u001b[1;32m    365\u001b[0m msg \u001b[38;5;241m=\u001b[39m \u001b[38;5;124m\"\u001b[39m\u001b[38;5;124mFailed in \u001b[39m\u001b[38;5;132;01m%s\u001b[39;00m\u001b[38;5;124m mode pipeline (step: \u001b[39m\u001b[38;5;132;01m%s\u001b[39;00m\u001b[38;5;124m)\u001b[39m\u001b[38;5;124m\"\u001b[39m \u001b[38;5;241m%\u001b[39m \\\n\u001b[1;32m    366\u001b[0m     (\u001b[38;5;28mself\u001b[39m\u001b[38;5;241m.\u001b[39mpipeline_name, pass_desc)\n\u001b[1;32m    367\u001b[0m patched_exception \u001b[38;5;241m=\u001b[39m \u001b[38;5;28mself\u001b[39m\u001b[38;5;241m.\u001b[39m_patch_error(msg, e)\n\u001b[0;32m--> 368\u001b[0m \u001b[38;5;28;01mraise\u001b[39;00m patched_exception\n",
      "File \u001b[0;32m~/miniconda3/envs/py-bio/lib/python3.10/site-packages/numba/core/compiler_machinery.py:356\u001b[0m, in \u001b[0;36mPassManager.run\u001b[0;34m(self, state)\u001b[0m\n\u001b[1;32m    354\u001b[0m pass_inst \u001b[38;5;241m=\u001b[39m _pass_registry\u001b[38;5;241m.\u001b[39mget(pss)\u001b[38;5;241m.\u001b[39mpass_inst\n\u001b[1;32m    355\u001b[0m \u001b[38;5;28;01mif\u001b[39;00m \u001b[38;5;28misinstance\u001b[39m(pass_inst, CompilerPass):\n\u001b[0;32m--> 356\u001b[0m     \u001b[38;5;28;43mself\u001b[39;49m\u001b[38;5;241;43m.\u001b[39;49m\u001b[43m_runPass\u001b[49m\u001b[43m(\u001b[49m\u001b[43midx\u001b[49m\u001b[43m,\u001b[49m\u001b[43m \u001b[49m\u001b[43mpass_inst\u001b[49m\u001b[43m,\u001b[49m\u001b[43m \u001b[49m\u001b[43mstate\u001b[49m\u001b[43m)\u001b[49m\n\u001b[1;32m    357\u001b[0m \u001b[38;5;28;01melse\u001b[39;00m:\n\u001b[1;32m    358\u001b[0m     \u001b[38;5;28;01mraise\u001b[39;00m \u001b[38;5;167;01mBaseException\u001b[39;00m(\u001b[38;5;124m\"\u001b[39m\u001b[38;5;124mLegacy pass in use\u001b[39m\u001b[38;5;124m\"\u001b[39m)\n",
      "File \u001b[0;32m~/miniconda3/envs/py-bio/lib/python3.10/site-packages/numba/core/compiler_lock.py:35\u001b[0m, in \u001b[0;36m_CompilerLock.__call__.<locals>._acquire_compile_lock\u001b[0;34m(*args, **kwargs)\u001b[0m\n\u001b[1;32m     32\u001b[0m \u001b[38;5;129m@functools\u001b[39m\u001b[38;5;241m.\u001b[39mwraps(func)\n\u001b[1;32m     33\u001b[0m \u001b[38;5;28;01mdef\u001b[39;00m \u001b[38;5;21m_acquire_compile_lock\u001b[39m(\u001b[38;5;241m*\u001b[39margs, \u001b[38;5;241m*\u001b[39m\u001b[38;5;241m*\u001b[39mkwargs):\n\u001b[1;32m     34\u001b[0m     \u001b[38;5;28;01mwith\u001b[39;00m \u001b[38;5;28mself\u001b[39m:\n\u001b[0;32m---> 35\u001b[0m         \u001b[38;5;28;01mreturn\u001b[39;00m \u001b[43mfunc\u001b[49m\u001b[43m(\u001b[49m\u001b[38;5;241;43m*\u001b[39;49m\u001b[43margs\u001b[49m\u001b[43m,\u001b[49m\u001b[43m \u001b[49m\u001b[38;5;241;43m*\u001b[39;49m\u001b[38;5;241;43m*\u001b[39;49m\u001b[43mkwargs\u001b[49m\u001b[43m)\u001b[49m\n",
      "File \u001b[0;32m~/miniconda3/envs/py-bio/lib/python3.10/site-packages/numba/core/compiler_machinery.py:311\u001b[0m, in \u001b[0;36mPassManager._runPass\u001b[0;34m(self, index, pss, internal_state)\u001b[0m\n\u001b[1;32m    309\u001b[0m     mutated \u001b[38;5;241m|\u001b[39m\u001b[38;5;241m=\u001b[39m check(pss\u001b[38;5;241m.\u001b[39mrun_initialization, internal_state)\n\u001b[1;32m    310\u001b[0m \u001b[38;5;28;01mwith\u001b[39;00m SimpleTimer() \u001b[38;5;28;01mas\u001b[39;00m pass_time:\n\u001b[0;32m--> 311\u001b[0m     mutated \u001b[38;5;241m|\u001b[39m\u001b[38;5;241m=\u001b[39m \u001b[43mcheck\u001b[49m\u001b[43m(\u001b[49m\u001b[43mpss\u001b[49m\u001b[38;5;241;43m.\u001b[39;49m\u001b[43mrun_pass\u001b[49m\u001b[43m,\u001b[49m\u001b[43m \u001b[49m\u001b[43minternal_state\u001b[49m\u001b[43m)\u001b[49m\n\u001b[1;32m    312\u001b[0m \u001b[38;5;28;01mwith\u001b[39;00m SimpleTimer() \u001b[38;5;28;01mas\u001b[39;00m finalize_time:\n\u001b[1;32m    313\u001b[0m     mutated \u001b[38;5;241m|\u001b[39m\u001b[38;5;241m=\u001b[39m check(pss\u001b[38;5;241m.\u001b[39mrun_finalizer, internal_state)\n",
      "File \u001b[0;32m~/miniconda3/envs/py-bio/lib/python3.10/site-packages/numba/core/compiler_machinery.py:273\u001b[0m, in \u001b[0;36mPassManager._runPass.<locals>.check\u001b[0;34m(func, compiler_state)\u001b[0m\n\u001b[1;32m    272\u001b[0m \u001b[38;5;28;01mdef\u001b[39;00m \u001b[38;5;21mcheck\u001b[39m(func, compiler_state):\n\u001b[0;32m--> 273\u001b[0m     mangled \u001b[38;5;241m=\u001b[39m \u001b[43mfunc\u001b[49m\u001b[43m(\u001b[49m\u001b[43mcompiler_state\u001b[49m\u001b[43m)\u001b[49m\n\u001b[1;32m    274\u001b[0m     \u001b[38;5;28;01mif\u001b[39;00m mangled \u001b[38;5;129;01mnot\u001b[39;00m \u001b[38;5;129;01min\u001b[39;00m (\u001b[38;5;28;01mTrue\u001b[39;00m, \u001b[38;5;28;01mFalse\u001b[39;00m):\n\u001b[1;32m    275\u001b[0m         msg \u001b[38;5;241m=\u001b[39m (\u001b[38;5;124m\"\u001b[39m\u001b[38;5;124mCompilerPass implementations should return True/False. \u001b[39m\u001b[38;5;124m\"\u001b[39m\n\u001b[1;32m    276\u001b[0m                \u001b[38;5;124m\"\u001b[39m\u001b[38;5;124mCompilerPass with name \u001b[39m\u001b[38;5;124m'\u001b[39m\u001b[38;5;132;01m%s\u001b[39;00m\u001b[38;5;124m'\u001b[39m\u001b[38;5;124m did not.\u001b[39m\u001b[38;5;124m\"\u001b[39m)\n",
      "File \u001b[0;32m~/miniconda3/envs/py-bio/lib/python3.10/site-packages/numba/core/typed_passes.py:892\u001b[0m, in \u001b[0;36mPreLowerStripPhis.run_pass\u001b[0;34m(self, state)\u001b[0m\n\u001b[1;32m    890\u001b[0m \u001b[38;5;66;03m# Rerun postprocessor to update metadata\u001b[39;00m\n\u001b[1;32m    891\u001b[0m post_proc \u001b[38;5;241m=\u001b[39m postproc\u001b[38;5;241m.\u001b[39mPostProcessor(state\u001b[38;5;241m.\u001b[39mfunc_ir)\n\u001b[0;32m--> 892\u001b[0m \u001b[43mpost_proc\u001b[49m\u001b[38;5;241;43m.\u001b[39;49m\u001b[43mrun\u001b[49m\u001b[43m(\u001b[49m\u001b[43memit_dels\u001b[49m\u001b[38;5;241;43m=\u001b[39;49m\u001b[38;5;28;43;01mFalse\u001b[39;49;00m\u001b[43m)\u001b[49m\n\u001b[1;32m    894\u001b[0m \u001b[38;5;66;03m# Ensure we are not in objectmode generator\u001b[39;00m\n\u001b[1;32m    895\u001b[0m \u001b[38;5;28;01mif\u001b[39;00m (state\u001b[38;5;241m.\u001b[39mfunc_ir\u001b[38;5;241m.\u001b[39mgenerator_info \u001b[38;5;129;01mis\u001b[39;00m \u001b[38;5;129;01mnot\u001b[39;00m \u001b[38;5;28;01mNone\u001b[39;00m\n\u001b[1;32m    896\u001b[0m         \u001b[38;5;129;01mand\u001b[39;00m state\u001b[38;5;241m.\u001b[39mtypemap \u001b[38;5;129;01mis\u001b[39;00m \u001b[38;5;129;01mnot\u001b[39;00m \u001b[38;5;28;01mNone\u001b[39;00m):\n\u001b[1;32m    897\u001b[0m     \u001b[38;5;66;03m# Rebuild generator type\u001b[39;00m\n\u001b[1;32m    898\u001b[0m     \u001b[38;5;66;03m# TODO: move this into PostProcessor\u001b[39;00m\n",
      "File \u001b[0;32m~/miniconda3/envs/py-bio/lib/python3.10/site-packages/numba/core/postproc.py:79\u001b[0m, in \u001b[0;36mPostProcessor.run\u001b[0;34m(self, emit_dels, extend_lifetimes)\u001b[0m\n\u001b[1;32m     71\u001b[0m \u001b[38;5;28;01mdef\u001b[39;00m \u001b[38;5;21mrun\u001b[39m(\u001b[38;5;28mself\u001b[39m, emit_dels: \u001b[38;5;28mbool\u001b[39m \u001b[38;5;241m=\u001b[39m \u001b[38;5;28;01mFalse\u001b[39;00m, extend_lifetimes: \u001b[38;5;28mbool\u001b[39m \u001b[38;5;241m=\u001b[39m \u001b[38;5;28;01mFalse\u001b[39;00m):\n\u001b[1;32m     72\u001b[0m \u001b[38;5;250m    \u001b[39m\u001b[38;5;124;03m\"\"\"\u001b[39;00m\n\u001b[1;32m     73\u001b[0m \u001b[38;5;124;03m    Run the following passes over Numba IR:\u001b[39;00m\n\u001b[1;32m     74\u001b[0m \u001b[38;5;124;03m    - canonicalize the CFG\u001b[39;00m\n\u001b[0;32m   (...)\u001b[0m\n\u001b[1;32m     77\u001b[0m \u001b[38;5;124;03m    - compute generator info (if function is a generator function)\u001b[39;00m\n\u001b[1;32m     78\u001b[0m \u001b[38;5;124;03m    \"\"\"\u001b[39;00m\n\u001b[0;32m---> 79\u001b[0m     \u001b[38;5;28mself\u001b[39m\u001b[38;5;241m.\u001b[39mfunc_ir\u001b[38;5;241m.\u001b[39mblocks \u001b[38;5;241m=\u001b[39m \u001b[43mtransforms\u001b[49m\u001b[38;5;241;43m.\u001b[39;49m\u001b[43mcanonicalize_cfg\u001b[49m\u001b[43m(\u001b[49m\u001b[38;5;28;43mself\u001b[39;49m\u001b[38;5;241;43m.\u001b[39;49m\u001b[43mfunc_ir\u001b[49m\u001b[38;5;241;43m.\u001b[39;49m\u001b[43mblocks\u001b[49m\u001b[43m)\u001b[49m\n\u001b[1;32m     80\u001b[0m     vlt \u001b[38;5;241m=\u001b[39m VariableLifetime(\u001b[38;5;28mself\u001b[39m\u001b[38;5;241m.\u001b[39mfunc_ir\u001b[38;5;241m.\u001b[39mblocks)\n\u001b[1;32m     81\u001b[0m     \u001b[38;5;28mself\u001b[39m\u001b[38;5;241m.\u001b[39mfunc_ir\u001b[38;5;241m.\u001b[39mvariable_lifetime \u001b[38;5;241m=\u001b[39m vlt\n",
      "File \u001b[0;32m~/miniconda3/envs/py-bio/lib/python3.10/site-packages/numba/core/transforms.py:358\u001b[0m, in \u001b[0;36mcanonicalize_cfg\u001b[0;34m(blocks)\u001b[0m\n\u001b[1;32m    353\u001b[0m \u001b[38;5;28;01mdef\u001b[39;00m \u001b[38;5;21mcanonicalize_cfg\u001b[39m(blocks):\n\u001b[1;32m    354\u001b[0m \u001b[38;5;250m    \u001b[39m\u001b[38;5;124;03m\"\"\"\u001b[39;00m\n\u001b[1;32m    355\u001b[0m \u001b[38;5;124;03m    Rewrite the given blocks to canonicalize the CFG.\u001b[39;00m\n\u001b[1;32m    356\u001b[0m \u001b[38;5;124;03m    Returns a new dictionary of blocks.\u001b[39;00m\n\u001b[1;32m    357\u001b[0m \u001b[38;5;124;03m    \"\"\"\u001b[39;00m\n\u001b[0;32m--> 358\u001b[0m     \u001b[38;5;28;01mreturn\u001b[39;00m \u001b[43mcanonicalize_cfg_single_backedge\u001b[49m\u001b[43m(\u001b[49m\u001b[43mblocks\u001b[49m\u001b[43m)\u001b[49m\n",
      "File \u001b[0;32m~/miniconda3/envs/py-bio/lib/python3.10/site-packages/numba/core/transforms.py:287\u001b[0m, in \u001b[0;36mcanonicalize_cfg_single_backedge\u001b[0;34m(blocks)\u001b[0m\n\u001b[1;32m    283\u001b[0m \u001b[38;5;28;01mdef\u001b[39;00m \u001b[38;5;21mcanonicalize_cfg_single_backedge\u001b[39m(blocks):\n\u001b[1;32m    284\u001b[0m \u001b[38;5;250m    \u001b[39m\u001b[38;5;124;03m\"\"\"\u001b[39;00m\n\u001b[1;32m    285\u001b[0m \u001b[38;5;124;03m    Rewrite loops that have multiple backedges.\u001b[39;00m\n\u001b[1;32m    286\u001b[0m \u001b[38;5;124;03m    \"\"\"\u001b[39;00m\n\u001b[0;32m--> 287\u001b[0m     cfg \u001b[38;5;241m=\u001b[39m \u001b[43mcompute_cfg_from_blocks\u001b[49m\u001b[43m(\u001b[49m\u001b[43mblocks\u001b[49m\u001b[43m)\u001b[49m\n\u001b[1;32m    288\u001b[0m     newblocks \u001b[38;5;241m=\u001b[39m blocks\u001b[38;5;241m.\u001b[39mcopy()\n\u001b[1;32m    290\u001b[0m     \u001b[38;5;28;01mdef\u001b[39;00m \u001b[38;5;21mnew_block_id\u001b[39m():\n",
      "File \u001b[0;32m~/miniconda3/envs/py-bio/lib/python3.10/site-packages/numba/core/analysis.py:243\u001b[0m, in \u001b[0;36mcompute_cfg_from_blocks\u001b[0;34m(blocks)\u001b[0m\n\u001b[1;32m    241\u001b[0m     term \u001b[38;5;241m=\u001b[39m b\u001b[38;5;241m.\u001b[39mterminator\n\u001b[1;32m    242\u001b[0m     \u001b[38;5;28;01mfor\u001b[39;00m target \u001b[38;5;129;01min\u001b[39;00m term\u001b[38;5;241m.\u001b[39mget_targets():\n\u001b[0;32m--> 243\u001b[0m         \u001b[43mcfg\u001b[49m\u001b[38;5;241;43m.\u001b[39;49m\u001b[43madd_edge\u001b[49m\u001b[43m(\u001b[49m\u001b[43mk\u001b[49m\u001b[43m,\u001b[49m\u001b[43m \u001b[49m\u001b[43mtarget\u001b[49m\u001b[43m)\u001b[49m\n\u001b[1;32m    245\u001b[0m cfg\u001b[38;5;241m.\u001b[39mset_entry_point(\u001b[38;5;28mmin\u001b[39m(blocks))\n\u001b[1;32m    246\u001b[0m cfg\u001b[38;5;241m.\u001b[39mprocess()\n",
      "File \u001b[0;32m~/miniconda3/envs/py-bio/lib/python3.10/site-packages/numba/core/controlflow.py:114\u001b[0m, in \u001b[0;36mCFGraph.add_edge\u001b[0;34m(self, src, dest, data)\u001b[0m\n\u001b[1;32m    111\u001b[0m     \u001b[38;5;28;01mraise\u001b[39;00m \u001b[38;5;167;01mValueError\u001b[39;00m(\u001b[38;5;124m\"\u001b[39m\u001b[38;5;124mCannot add edge as src node \u001b[39m\u001b[38;5;132;01m%s\u001b[39;00m\u001b[38;5;124m not in nodes \u001b[39m\u001b[38;5;132;01m%s\u001b[39;00m\u001b[38;5;124m\"\u001b[39m \u001b[38;5;241m%\u001b[39m\n\u001b[1;32m    112\u001b[0m                      (src, \u001b[38;5;28mself\u001b[39m\u001b[38;5;241m.\u001b[39m_nodes))\n\u001b[1;32m    113\u001b[0m \u001b[38;5;28;01mif\u001b[39;00m dest \u001b[38;5;129;01mnot\u001b[39;00m \u001b[38;5;129;01min\u001b[39;00m \u001b[38;5;28mself\u001b[39m\u001b[38;5;241m.\u001b[39m_nodes:\n\u001b[0;32m--> 114\u001b[0m     \u001b[38;5;28;01mraise\u001b[39;00m \u001b[38;5;167;01mValueError\u001b[39;00m(\u001b[38;5;124m\"\u001b[39m\u001b[38;5;124mCannot add edge as dest node \u001b[39m\u001b[38;5;132;01m%s\u001b[39;00m\u001b[38;5;124m not in nodes \u001b[39m\u001b[38;5;132;01m%s\u001b[39;00m\u001b[38;5;124m\"\u001b[39m \u001b[38;5;241m%\u001b[39m\n\u001b[1;32m    115\u001b[0m                      (dest, \u001b[38;5;28mself\u001b[39m\u001b[38;5;241m.\u001b[39m_nodes))\n\u001b[1;32m    116\u001b[0m \u001b[38;5;28mself\u001b[39m\u001b[38;5;241m.\u001b[39m_add_edge(src, dest, data)\n",
      "\u001b[0;31mValueError\u001b[0m: Failed in object mode pipeline (step: remove phis nodes)\nCannot add edge as dest node 2054 not in nodes {130, 9, 10, 266, 12, 396, 398, 142, 400, 401, 44, 46, 176, 306, 188, 200, 342, 346, 358, 234}"
     ]
    }
   ],
   "source": [
    "%%time\n",
    "\n",
    "# Re-Load Instead of Running\n",
    "# for x in adatas:\n",
    "#     grids[x] = sc.read(os.path.join(out_dir, f\"{x}_stlearn{suffix}.h5ad\"))\n",
    "#     _ = grids[x].uns.pop(col_cell_type + \"_colors\", None)\n",
    "#     # _ = adatas[x].uns.pop(col_cell_type + \"_colors\", None)\n",
    "\n",
    "# Run Gridding\n",
    "grids = {}\n",
    "for x in adatas:\n",
    "    grids[x], _ = create_spot_grid(adatas[x], col_cell_type, n_spots,\n",
    "                                   cmap=\"jana_40\", n_jobs=n_jobs, title=x)"
   ]
  },
  {
   "cell_type": "markdown",
   "metadata": {},
   "source": [
    "# Plot Cell Types"
   ]
  },
  {
   "cell_type": "code",
   "execution_count": null,
   "metadata": {},
   "outputs": [],
   "source": [
    "# for x in grids[x]:\n",
    "#     groups = list(grids[x].obs[col_cell_type].cat.categories)\n",
    "#     for g in groups:\n",
    "#         fig, axes = plt.subplots(ncols=3, figsize=(20, 8))\n",
    "#         group_props = grids[x].uns[col_cell_type][g].values\n",
    "#         grids[x].obs.loc[:, \"Group\"] = group_props\n",
    "#         st.pl.feat_plot(grids[x], feature=\"Group\", ax=axes[0],\n",
    "#                         show_plot=False, vmax=1, show_color_bar=False)\n",
    "#         st.pl.cluster_plot(grids[x], use_label=col_cell_type,\n",
    "#                            list_clusters=[g], ax=axes[1], show_plot=False)\n",
    "#         st.pl.cluster_plot(grids[x], use_label=col_cell_type,\n",
    "#                            list_clusters=[g], ax=axes[2], show_plot=False)\n",
    "#         axes[0].set_title(f\"Grid {g} Proportions (Maximum = 1)\")\n",
    "#         axes[1].set_title(f\"Grid {g} Maximum Spots\")\n",
    "#         axes[2].set_title(f\"Individual Cell {g}\")\n",
    "#         fig.suptitle(x)\n",
    "#         plt.show()"
   ]
  },
  {
   "cell_type": "markdown",
   "metadata": {},
   "source": [
    "## Check Number of Neighbors Given Different Distance Parameters\n",
    "\n",
    "Per https://github.com/BiomedicalMachineLearning/stLearn/issues/186#issuecomment-1238036775\n",
    "\n",
    "If distance is set to \"auto\" in the options cell earlier, then this dataframe will be used to set object/sample-specific distance parameters according to the `min_med_neighbors` parameter (i.e., will use the minimum distance that yields at least that specified number)."
   ]
  },
  {
   "cell_type": "code",
   "execution_count": 8,
   "metadata": {},
   "outputs": [
    {
     "data": {
      "text/html": [
       "<div>\n",
       "<style scoped>\n",
       "    .dataframe tbody tr th:only-of-type {\n",
       "        vertical-align: middle;\n",
       "    }\n",
       "\n",
       "    .dataframe tbody tr th {\n",
       "        vertical-align: top;\n",
       "    }\n",
       "\n",
       "    .dataframe thead th {\n",
       "        text-align: right;\n",
       "    }\n",
       "</style>\n",
       "<table border=\"1\" class=\"dataframe\">\n",
       "  <thead>\n",
       "    <tr style=\"text-align: right;\">\n",
       "      <th>Sample</th>\n",
       "    </tr>\n",
       "    <tr>\n",
       "      <th>Distances</th>\n",
       "    </tr>\n",
       "  </thead>\n",
       "  <tbody>\n",
       "  </tbody>\n",
       "</table>\n",
       "</div>"
      ],
      "text/plain": [
       "Empty DataFrame\n",
       "Columns: []\n",
       "Index: []"
      ]
     },
     "execution_count": 8,
     "metadata": {},
     "output_type": "execute_result"
    },
    {
     "data": {
      "image/png": "[encoded data removed]",
      "text/plain": [
       "<Figure size 500x500 with 1 Axes>"
      ]
     },
     "metadata": {},
     "output_type": "display_data"
    }
   ],
   "source": [
    "neighbors = {}\n",
    "for d in np.arange(0, 301, 10):\n",
    "    nnb = {}\n",
    "    for x in grids:\n",
    "        point_tree = spatial.cKDTree(grids[x].obs[[\"imagerow\", \"imagecol\"]])\n",
    "        nnb[x] = point_tree.query_ball_point(point_tree.data[0], d)\n",
    "    neighbors[d] = pd.Series([len(nnb[i]) for i in nnb], index=pd.Index(\n",
    "        grids.keys(), name=col_sample_id))\n",
    "neighbors = pd.concat(neighbors, names=[\"Distances\"]).unstack(col_sample_id)\n",
    "sb.relplot(neighbors.stack().to_frame(\"Number of Neighbors\"), kind=\"line\",\n",
    "           hue=col_sample_id, x=\"Distances\", y=\"Number of Neighbors\")\n",
    "neighbors"
   ]
  },
  {
   "cell_type": "markdown",
   "metadata": {},
   "source": [
    "# Analysis\n",
    "\n",
    "**Important Input**\n",
    "\n",
    "`adj_axis`: Per `stlearn` documentation: \"adjusting by no. of LRs tested per spot (LR), no. of spots tested per LR (spot), or no adjustment (None)\".\n",
    "\n",
    "`distance`: Per author on `stlearn` GitHub: Distance is the \"pixel length as the radius from each spot center. We will query all the spots within that radius.\" Also see https://github.com/BiomedicalMachineLearning/stLearn/issues/199#issuecomment-1272672934.\n",
    "\n",
    "**Important Output**\n",
    "\n",
    "`grid.uns[\"lr_summary\"]`: Summarizes results for each ligand-receptor pair (number of spots with L-R, number of significant spots, and p-values).\n",
    "\n",
    "`grid.obsm[\"lr_scores\"]`: Ligand-receptor pair scores.\n",
    "\n",
    "`grid.obsm[\"lr_sig_scores\"]`: Rows = spots and columns = ligand-receptor pairs. Per stLearn GitHub issue, \"Positive values in this matrix indicate significance of the LR in the respective spot (non-significant spots are set to zero).\" It has the same index as in `grid.uns[\"lr_summary\"]`."
   ]
  },
  {
   "cell_type": "code",
   "execution_count": null,
   "metadata": {},
   "outputs": [],
   "source": [
    "%%time\n",
    "\n",
    "distances = {}\n",
    "for x in grids:\n",
    "    ddd = min(neighbors[x].index.values[np.where(np.array(neighbors[x].apply(\n",
    "        lambda y: y >= min_med_neighbors)))[0]]\n",
    "              )  # least distance to have >= specified # of median neighbors\n",
    "    distances[x] = ddd if distance == \"auto\" else distance  # auto or fixed?\n",
    "    kws = dict(n_spots=n_spots, organism=organism, resource=resource,\n",
    "               distance=distances[x], min_med_neighbors=min_med_neighbors,\n",
    "               min_spots=min_spots, n_pairs=n_pairs, n_top=n_top,\n",
    "               n_jobs=n_jobs, layer=layer, cell_prop_cutoff=cell_prop_cutoff,\n",
    "               n_perms=n_perms, adj_method=adj_method,\n",
    "               pval_adj_cutoff=pval_adj_cutoff, adj_axis=adj_axis)\n",
    "    for v in kws:\n",
    "        grids[x].obs.loc[:, v] = str(kws[v])  # store keyword argument in .obs\n",
    "    print(f\"\\n\\n{'=' * 80}\\n{x}\\n{'=' * 80}\\n\\n\")\n",
    "    grids[x] = analyze_lr_spatial(\n",
    "        grids[x], col_cell_type, distances[x], min_spots, n_pairs,\n",
    "        n_perms=n_perms, n_jobs=n_jobs, cell_prop_cutoff=cell_prop_cutoff,\n",
    "        resource=resource, organism=organism, adj_axis=adj_axis,\n",
    "        pval_adj_cutoff=pval_adj_cutoff, adj_method=adj_method)\n",
    "pd.concat([grids[x].uns[\"lr_summary\"] for x in grids],\n",
    "          keys=grids.keys(), names=[col_sample_id])"
   ]
  },
  {
   "cell_type": "code",
   "execution_count": 53,
   "metadata": {},
   "outputs": [
    {
     "name": "stdout",
     "output_type": "stream",
     "text": [
      "\n",
      "\n",
      "================================================================================\n",
      "Uninflamed-50452A\n",
      "================================================================================\n",
      "\n",
      "\n",
      "Calculating neighbours...\n"
     ]
    },
    {
     "name": "stdout",
     "output_type": "stream",
     "text": [
      "70 spots with no neighbours, 10 median spot neighbours.\n",
      "Spot neighbour indices stored in adata.obsm['spot_neighbours'] & adata.obsm['spot_neigh_bcs'].\n",
      "Altogether 22 valid L-R pairs\n"
     ]
    },
    {
     "name": "stderr",
     "output_type": "stream",
     "text": [
      "Generating backgrounds & testing each LR pair...:   0%|           [ time left: ? ]"
     ]
    }
   ],
   "source": [
    "    ddd = min(neighbors[x].index.values[np.where(np.array(neighbors[x].apply(\n",
    "        lambda y: y >= min_med_neighbors)))[0]]\n",
    "              )  # least distance to have >= specified # of median neighbors\n",
    "    distances[x] = ddd if distance == \"auto\" else distance  # auto or fixed?\n",
    "    kws = dict(n_spots=n_spots, organism=organism, resource=resource,\n",
    "               distance=distances[x], min_med_neighbors=min_med_neighbors,\n",
    "               min_spots=min_spots, n_pairs=n_pairs, n_top=n_top,\n",
    "               n_jobs=n_jobs, layer=layer, cell_prop_cutoff=cell_prop_cutoff,\n",
    "               n_perms=n_perms, adj_method=adj_method,\n",
    "               pval_adj_cutoff=pval_adj_cutoff, adj_axis=adj_axis)\n",
    "    for v in kws:\n",
    "        grids[x].obs.loc[:, v] = str(kws[v])  # store keyword argument in .obs\n",
    "    print(f\"\\n\\n{'=' * 80}\\n{x}\\n{'=' * 80}\\n\\n\")\n",
    "    grids[x] = analyze_lr_spatial(\n",
    "        grids[x], col_cell_type, distances[x], min_spots, n_pairs,\n",
    "        n_perms=n_perms, n_jobs=n_jobs, cell_prop_cutoff=cell_prop_cutoff,\n",
    "        resource=resource, organism=organism, adj_axis=adj_axis,\n",
    "        pval_adj_cutoff=pval_adj_cutoff, adj_method=adj_method)"
   ]
  },
  {
   "cell_type": "markdown",
   "metadata": {},
   "source": [
    "# Write Objects"
   ]
  },
  {
   "cell_type": "code",
   "execution_count": 16,
   "metadata": {},
   "outputs": [],
   "source": [
    "suffix = \"\"\n",
    "# suffix = f\"_{date}\"\n",
    "for x in grids:\n",
    "    grids[x].write_h5ad(os.path.join(out_dir, f\"{x}_stlearn{suffix}.h5ad\"))"
   ]
  },
  {
   "cell_type": "markdown",
   "metadata": {},
   "source": [
    "# Plots"
   ]
  },
  {
   "cell_type": "code",
   "execution_count": null,
   "metadata": {},
   "outputs": [],
   "source": [
    "# def plot_spatial_lr_qc(grid, col_cell_type, n_top=50):\n",
    "#     \"\"\"Plot QC & results from spatial LR & CCI analysis.\"\"\"\n",
    "#     figs = {}\n",
    "#     try:\n",
    "#         st.pl.lr_diagnostics(grid, figsize=(10, 2.5))  # QC\n",
    "#         figs[\"qc_lr_diagnostics\"] = plt.gcf()\n",
    "#         st.pl.lr_n_spots(grid, n_top=n_top, figsize=(11, 3), max_text=100)\n",
    "#         figs[\"qc_lr_spots\"] = plt.gcf()\n",
    "#         figs[\"qc_lr_spots\"]].suptitle(\"L-R QC\")\n",
    "#     except Exception:\n",
    "#         traceback.print_exc()\n",
    "#         print(err, \"\\n\\L-R QC plot failed\")\n",
    "#     try:\n",
    "#         st.pl.cci_check(grid, col_cell_type, figsize=(16, 5))\n",
    "#         figs[\"qc_cci\"] = plt.gcf()\n",
    "#         figs[\"qc_cci\"].suptitle(\"CCI QC\")\n",
    "#     except Exception:\n",
    "#         traceback.print_exc()\n",
    "#         print(err, \"\\n\\nCCI QC plot failed\")\n",
    "#     return figs\n",
    "\n",
    "\n",
    "# def plot_spatial_lr_results(grid, col_cell_type, figsize=None,\n",
    "#                             stats=None, plot_lr=3, n_top=50, **kwargs):\n",
    "#     \"\"\"Plot QC & results from spatial LR & CCI analysis.\"\"\"\n",
    "#     figs = {}\n",
    "#     f_s = (12, 6) if figsize is None else figsize\n",
    "#     if stats is None:\n",
    "#         stats = [\"lr_scores\", \"p_vals\", \"p_adjs\", \"-log10(p_adjs)\"]\n",
    "#     if plot_lr not in [False, None]:\n",
    "#         plot_lr = [plot_lr] if isinstance(plot_lr, str) else grid.uns[\n",
    "#             \"lr_summary\"].index.values[:int(plot_lr)] if isinstance(plot_lr, (\n",
    "#                 int, float)) else list(plot_lr)  # use top N (plot_lr)\n",
    "#         ncols = 3 if len(plot_lr) > 3 else len(plot_lr)  # L-R facets (row)\n",
    "#         nrows = int(len(plot_lr) / ncols) if ncols > 1 else 1  # L-R columns\n",
    "#     st.pl.lr_summary(grid, n_top=n_top, figsize=f_s)  # plot L-R ranks\n",
    "#     figs[\"lr_ranks\"] = plt.gcf()\n",
    "#     if plot_lr is not False:\n",
    "#         fig, axes = kwargs.pop(\"fig\", None), kwargs.pop(\"axes\", None)\n",
    "#         if fig is None or axes is None:\n",
    "#             fig, axes = plt.subplots(ncols=len(stats), nrows=len(plot_lr),\n",
    "#                                         figsize=f_s)  # subplots: L-R pairs\n",
    "#         for r, lr in enumerate(plot_lr):  # iterate ligand-receptors\n",
    "#             kws = {\"show_color_bar\": False, **kwargs}\n",
    "#             try:\n",
    "#                 for c, stat in enumerate(stats):  # iterate statistics\n",
    "#                     st.pl.lr_result_plot(\n",
    "#                         grid, use_result=stat, use_lr=lr,\n",
    "#                         fig=fig, ax=axes[r, c], **kws)  # plot L-R\n",
    "#                     axes[r, c].set_title(f\"{lr} {stat}\")\n",
    "#             except Exception:\n",
    "#                 traceback.print_exc()\n",
    "#                 print(f\"Results summary plot error for {lr}\")\n",
    "#         figs[\"results\"] = fig, axes\n",
    "#     return figs\n",
    "\n",
    "\n",
    "\n",
    "# def plot_spatial_lr_map(grid, col_cell_type, figsize=None,\n",
    "#                         plot_lr=3, min_total=100, **kwargs):\n",
    "#     \"\"\"Plot QC & results from spatial LR & CCI analysis.\"\"\"\n",
    "#     figs = {}\n",
    "#     f_s = (12, 6) if figsize is None else figsize\n",
    "#     if plot_lr not in [False, None]:\n",
    "#         plot_lr = [plot_lr] if isinstance(plot_lr, str) else grid.uns[\n",
    "#             \"lr_summary\"].index.values[:int(plot_lr)] if isinstance(plot_lr, (\n",
    "#                 int, float)) else list(plot_lr)  # use top N (plot_lr)\n",
    "#         ncols = 3 if len(plot_lr) > 3 else len(plot_lr)  # L-R facets (row)\n",
    "#         nrows = int(len(plot_lr) / ncols) if ncols > 1 else 1  # L-R columns\n",
    "#     if \"lr_colors\" in kwargs:\n",
    "#         kwargs[\"lr_colors\"] = dict(zip(kwargs[\"lr_colors\"], [\n",
    "#             mpl.colors.to_hex(kwargs[\"lr_colors\"][u])\n",
    "#             for u in kwargs[\"lr_colors\"]]))  # convert colors to hex\n",
    "#     st.pl.cci_map(grid, col_cell_type, **kwargs)\n",
    "#     figs[\"map\"] = plt.gcf()\n",
    "#     if plot_lr is not False:\n",
    "#         fig, axes = kwargs.pop(\"fig\", None), kwargs.pop(\"axes\", None)\n",
    "#         if fig is None or axes is None:  # subplots: L-R pairs\n",
    "#             fig, axes = plt.subplots(ncols=ncols, nrows=nrows, figsize=f_s)\n",
    "#         for i, lr in enumerate(plot_lr):  # iterate L-R pairs\n",
    "#             try:\n",
    "#                 st.pl.cci_map(grid, col_cell_type, lr, show=False,\n",
    "#                               ax=axes.flatten()[i], **kwargs)  # heatmap plot\n",
    "#             except Exception:\n",
    "#                 traceback.print_exc()\n",
    "#                 print(f\"CCI map plot error for {lr}\")\n",
    "#         plt.show()\n",
    "#         try:\n",
    "#             st.pl.lr_cci_map(grid, col_cell_type, lrs=plot_lr,\n",
    "#                              min_total=min_total, figsize=f_s)\n",
    "#         except Exception:\n",
    "#             traceback.print_exc()\n",
    "#         figs[\"map_lr\"] = fig\n",
    "#     return figs\n",
    "\n",
    "\n",
    "# def plot_spatial_lr_network(grid, col_cell_type, **kwargs):\n",
    "#     \"\"\"Plot QC & results from spatial LR & CCI analysis.\"\"\"\n",
    "#     kind_all = [\"net\", \"chord\"]\n",
    "#     kind = [kind_all if kind.lower() == \"all\" else kind.lower()] if (\n",
    "#         isinstance(kind, str)) else [k.lower() for k in kind]\n",
    "#     if \"net\" in kind:\n",
    "#         f_s = (12, 6) if figsize is None else figsize\n",
    "#         pos_1 = st.pl.ccinet_plot(grid, col_cell_type, return_pos=True)  # all\n",
    "#         if plot_lr is not False:\n",
    "#             for lr in plot_lr:  # iterate L-R pairs\n",
    "#                 try:\n",
    "#                     st.pl.ccinet_plot(grid, col_cell_type, lr, figsize=f_s,\n",
    "#                                       min_counts=min_counts,\n",
    "#                                       pos=pos_1, **kwargs)\n",
    "#                 except Exception as err:\n",
    "#                     print(f\"Net plot error for {lr}\")\n",
    "#     if \"chord\" in kind:\n",
    "#         for lr in plot_lr:  # iterate L-R pairs\n",
    "#             try:\n",
    "#                 st.pl.lr_chord_plot(grid, col_cell_type, lr, **kwargs)\n",
    "#             except Exception:\n",
    "#                 traceback.print_exc()\n",
    "#                 print(f\"Chord plot error for {lr}\")\n",
    "\n",
    "\n",
    "# def plot_spatial_lr_arrow(grid, col_cell_type, kind=\"results\", figsize=None,\n",
    "#                           sig_spots=False, sig_cci=True, show_arrows=True,\n",
    "#                           stats=None, plot_lr=3, n_top=50, min_total=100, **kwargs):\n",
    "#     \"\"\"Plot QC & results from spatial LR & CCI analysis.\"\"\"\n",
    "#     figs = {}\n",
    "#     f_s = (12, 6) if figsize is None else figsize\n",
    "#     if \"lr_colors\" in kwargs:\n",
    "#         kwargs[\"lr_colors\"] = dict(zip(kwargs[\"lr_colors\"], [\n",
    "#             mpl.colors.to_hex(kwargs[\"lr_colors\"][u])\n",
    "#             for u in kwargs[\"lr_colors\"]]))  # convert colors to hex\n",
    "#     if plot_lr is not False:\n",
    "#         fig, axes = kwargs.pop(\"fig\", None), kwargs.pop(\"axes\", None)\n",
    "#         if fig is None or axes is None:\n",
    "#             fig, axes = plt.subplots(ncols=len(stats), nrows=len(plot_lr),\n",
    "#                                      figsize=f_s)  # subplots: L-R pairs\n",
    "#         for r, lr in enumerate(plot_lr):  # iterate ligand-receptors\n",
    "#             kws = {\"show_color_bar\": False, **kwargs}\n",
    "#             try:\n",
    "#                 for c, stat in enumerate(stats):  # iterate statistics\n",
    "#                     st.pl.lr_result_plot(grid, use_result=stat, ax=axes[r, c],\n",
    "#                                          use_lr=lr, fig=fig, **kws)  # plot\n",
    "#                     axes[r, c].set_title(f\"{lr} {stat}\")\n",
    "#             except Exception:\n",
    "#                 traceback.print_exc()\n",
    "#                 print(f\"Results summary plot error for {lr}\")\n",
    "#         figs[\"results\"] = fig, axes"
   ]
  },
  {
   "cell_type": "code",
   "execution_count": null,
   "metadata": {},
   "outputs": [],
   "source": [
    "def plot_spatial_lr(grid, col_cell_type, kind=\"results\", figsize=None,\n",
    "                    sig_spots=False, sig_cci=True, show_arrows=True,\n",
    "                    stats=None, plot_lr=3, n_top=50, min_total=100, **kwargs):\n",
    "    \"\"\"Plot QC & results from spatial LR & CCI analysis.\"\"\"\n",
    "    figs = {}\n",
    "    f_s = (12, 6) if figsize is None else figsize\n",
    "    if stats is None:\n",
    "        stats = [\"lr_scores\", \"p_vals\", \"p_adjs\", \"-log10(p_adjs)\"]\n",
    "    kind_all = [\"qc\", \"results\", \"arrow\", \"map\", \"net\", \"chord\"]\n",
    "    kind = [kind_all if kind.lower() == \"all\" else kind.lower()] if (\n",
    "        isinstance(kind, str)) else [k.lower() for k in kind]\n",
    "    if plot_lr not in [False, None]:\n",
    "        plot_lr = [plot_lr] if isinstance(plot_lr, str) else grid.uns[\n",
    "            \"lr_summary\"].index.values[:int(plot_lr)] if isinstance(plot_lr, (\n",
    "                int, float)) else list(plot_lr)  # use top N (plot_lr)\n",
    "        ncols = 3 if len(plot_lr) > 3 else len(plot_lr)  # L-R facets (row)\n",
    "        nrows = int(len(plot_lr) / ncols) if ncols > 1 else 1  # L-R columns\n",
    "    if \"lr_colors\" in kwargs:\n",
    "        kwargs[\"lr_colors\"] = dict(zip(kwargs[\"lr_colors\"], [\n",
    "            mpl.colors.to_hex(kwargs[\"lr_colors\"][u])\n",
    "            for u in kwargs[\"lr_colors\"]]))  # convert colors to hex\n",
    "\n",
    "    # QC/Diagnostics (Metrics Shouldn't Correlate Much with L-R Expression)\n",
    "    if \"qc\" in kind:\n",
    "        print(f\"\\n\\n{'*' * 40}\\nQC Plots\\n{'*' * 40}\\n\\n\"\n",
    "              \"Expression frequency and L-R/CCI metrics shouldn't correlate much\"\n",
    "              \"; otherwise, increase `n_perms` and/or `n_pairs`.\")\n",
    "        try:\n",
    "            st.pl.lr_diagnostics(grid, figsize=(10, 2.5))  # QC\n",
    "            figs[\"qc_lr_diagnostics\"] = plt.gcf()\n",
    "            st.pl.lr_n_spots(grid, n_top=n_top, figsize=(11, 3), max_text=100)\n",
    "            figs[\"qc_lr_spots\"] = plt.gcf()\n",
    "        except Exception:\n",
    "            traceback.print_exc()\n",
    "            print(err, \"\\n\\L-R QC plot failed\")\n",
    "        try:\n",
    "            st.pl.cci_check(grid, col_cell_type, figsize=(16, 5))\n",
    "            figs[\"qc_cci\"] = plt.gcf()\n",
    "            figs[\"qc_cci\"].suptitle(\"CCI Check: Interactions & cell type \"\n",
    "                                    \"frequency shouldn't correlate much\")\n",
    "        except Exception:\n",
    "            traceback.print_exc()\n",
    "            print(err, \"\\n\\nCCI QC plot failed\")\n",
    "\n",
    "    # Results Summary (Rankings of L-R Pairs by Number of Significant Spots)\n",
    "    if \"results\" in kind:\n",
    "        print(f\"\\n\\n{'*' * 40}\\nResults Plots\\n{'*' * 40}\\n\\n\")\n",
    "        st.pl.lr_summary(grid, n_top=n_top, figsize=f_s)  # plot L-R ranks\n",
    "        figs[\"lr_ranks\"] = plt.gcf()\n",
    "        if plot_lr is not False:\n",
    "            fig, axes = kwargs.pop(\"fig\", None), kwargs.pop(\"axes\", None)\n",
    "            if fig is None or axes is None:\n",
    "                fig, axes = plt.subplots(ncols=len(stats), nrows=len(plot_lr),\n",
    "                                         figsize=f_s)  # subplots: L-R pairs\n",
    "            for r, lr in enumerate(plot_lr):  # iterate ligand-receptors\n",
    "                kws = {\"show_color_bar\": False, **kwargs}\n",
    "                try:\n",
    "                    for c, stat in enumerate(stats):  # iterate statistics\n",
    "                        st.pl.lr_result_plot(\n",
    "                            grid, use_result=stat, use_lr=lr,\n",
    "                            fig=fig, ax=axes[r, c], **kws)  # plot L-R\n",
    "                        axes[r, c].set_title(f\"{lr} {stat}\")\n",
    "                except Exception:\n",
    "                    traceback.print_exc()\n",
    "                    print(f\"Results summary plot error for {lr}\")\n",
    "            figs[\"results\"] = fig, axes\n",
    "\n",
    "    # Color Spot by Mean L-R Expression in Spots Connected by Arrow\n",
    "    if \"arrow\" in kind:\n",
    "        fig, axes = kwargs.pop(\"fig\", None), kwargs.pop(\"axes\", None)\n",
    "        if fig is None or axes is None:\n",
    "            fig, axes = plt.subplots(ncols=ncols, nrows=nrows,\n",
    "                                     figsize=f_s, squeeze=False)\n",
    "        for i, lr in enumerate(plot_lr):  # iterate L-R pairs\n",
    "            axes.flatten()[i].set_title(lr)\n",
    "            kws = dict(arrow_width=2, pt_scale=10, arrow_head_width=4,\n",
    "                       arrow_cmap=\"YlOrRd\", arrow_vmax=1.5, outer_mode=None,\n",
    "                       outer_size_prop=1, fig=fig, ax=axes.flatten()[i],\n",
    "                       sig_spots=sig_spots, sig_cci=sig_cci)\n",
    "            kws.update({**kwargs, \"show_arrows\": False} if (\n",
    "                col_cell_type is None) else {**kwargs})\n",
    "            if \"lr_colors\" in kws:\n",
    "                kws[\"lr_colors\"] = {**kws[\"lr_colors\"]}\n",
    "                for v, k in enumerate([\"l\", \"r\", \"lr\"]):  # key palette by L-R\n",
    "                    lab = lr.split(\"_\")[v] if v < 2 else lr\n",
    "                    kws[\"lr_colors\"][lab] = kws[\"lr_colors\"][k]\n",
    "                    _ = kws[\"lr_colors\"].pop(k)\n",
    "            try:\n",
    "                st.pl.lr_plot(grid, lr, use_label=col_cell_type, **kws)\n",
    "            except Exception:\n",
    "                traceback.print_exc()\n",
    "                print(f\"L-R arrow plot error for {lr}\")\n",
    "        figs[\"arrow\"] = fig, axes\n",
    "        plt.show()\n",
    "\n",
    "    # Net Plot: # of Interactions between Cell Types across All L-R Pairs\n",
    "    if \"net\" in kind:\n",
    "        pos_1 = st.pl.ccinet_plot(grid, col_cell_type, return_pos=True)  # all\n",
    "        if plot_lr is not False:\n",
    "            for lr in plot_lr:  # iterate L-R pairs\n",
    "                try:\n",
    "                    st.pl.ccinet_plot(grid, col_cell_type, lr, min_counts=2,\n",
    "                                      figsize=f_s, pos=pos_1, **kwargs)\n",
    "                except Exception as err:\n",
    "                    print(f\"Net plot error for {lr}\")\n",
    "\n",
    "    # Chord Plot\n",
    "    if \"chord\" in kind:\n",
    "        # st.pl.lr_chord_plot(grid, col_cell_type)  # all\n",
    "        if plot_lr is not False:\n",
    "            for lr in plot_lr:  # just between selected pairs\n",
    "                try:\n",
    "                    st.pl.lr_chord_plot(grid, col_cell_type, lr)\n",
    "                except Exception:\n",
    "                    traceback.print_exc()\n",
    "                    print(f\"Chord plot error for {lr}\")\n",
    "\n",
    "    # Heatmap Equivalent of Net & Chord\n",
    "    if \"map\" in kind:\n",
    "        st.pl.cci_map(grid, col_cell_type, **kwargs)\n",
    "        if plot_lr is not False:\n",
    "            fig, axes = kwargs.pop(\"fig\", None), kwargs.pop(\"axes\", None)\n",
    "            if fig is None or axes is None:\n",
    "                fig, axes = plt.subplots(ncols=ncols, nrows=nrows,\n",
    "                                         figsize=f_s)  # subplots: L-R pairs\n",
    "            for i, lr in enumerate(plot_lr):  # iterate L-R pairs\n",
    "                try:\n",
    "                    figs[\"map\"] = st.pl.cci_map(\n",
    "                        grid, col_cell_type, lr, show=False,\n",
    "                        ax=axes.flatten()[i], **kwargs)  # heatmap plot\n",
    "                except Exception:\n",
    "                    traceback.print_exc()\n",
    "                    print(f\"CCI map plot error for {lr}\")\n",
    "            plt.show()\n",
    "            try:\n",
    "                st.pl.lr_cci_map(grid, col_cell_type, lrs=plot_lr,\n",
    "                                 min_total=min_total, figsize=(20, 4))\n",
    "            except Exception:\n",
    "                traceback.print_exc()\n",
    "    return figs"
   ]
  },
  {
   "cell_type": "markdown",
   "metadata": {},
   "source": [
    "## QC/Diagnostics\n",
    "\n",
    "**First Set of Plots (For L-R Analysis; Scatter)**\n",
    "\n",
    "`st.pl.lr_diagnostics`: Per `stlearn` documentation...\n",
    "\n",
    "> A key aspect of the LR analysis is to control for LR expression level and frequency when calling significant hotspots.\n",
    ">\n",
    "> Hence, our diagnostic plots should show next to no correlation between the hotspots of the LR pairs and the expression level and frequency of expression.\n",
    ">\n",
    "> The following diagnostics allow us to check and make sure this is the case; if not, could indicate a larger number of permutations is required.\n",
    ">\n",
    ">\n",
    "> * Left plot: Relationship between LR expression level (non-zero spots average median expression of genes in the LR pair) and the ranking of the LR.\n",
    "> \n",
    "> * Right plot: Relationship between LR expression frequency (average proportion of zero spots for each gene in the LR pair) and the ranking of the LR.\n",
    "> \n",
    "> [If] there is a...correlation between the LR expression frequency and number of significant spots, [this indicates] the n_pairs parameter should be set higher to create more accurate background distributions (10,000 pairs was used in the case of the paper version of the above).\n",
    "\n",
    "**Second Set of Plots (For L-R Analysis; Bars)**\n",
    "\n",
    "`st.pl.lr_n_spots`: Per `stlearn` documentation...\n",
    "> The above boxplots show the number of spots with ligand-receptor scores for each LR on the y-axis, with the LR ranking on the x-axis. The bar area is stratified by spots which were significant (green) and non-significant (blue).\n",
    "> \n",
    "> [If] there does appear to be some correlation with more highly frequent LR pairs and LR ranking...the n_pairs parameter above should be set higher.\n",
    "\n",
    "**Third Set of Plots (for CCI Analysis)**\n",
    "\n",
    "Interactions & cell type frequency shouldn't correlate much if well-controlled for."
   ]
  },
  {
   "cell_type": "code",
   "execution_count": null,
   "metadata": {},
   "outputs": [],
   "source": [
    "for x in grids:\n",
    "    print(f\"\\n\\n{'=' * 80}\\n{x}\\n{'=' * 80}\")\n",
    "    plot_spatial_lr(grids[x], col_cell_type, kind=\"qc\")"
   ]
  },
  {
   "cell_type": "markdown",
   "metadata": {},
   "source": [
    "## L-R Results Summary\n",
    "\n",
    "Rankings, p-values, and scores"
   ]
  },
  {
   "cell_type": "code",
   "execution_count": null,
   "metadata": {},
   "outputs": [],
   "source": [
    "sig_spots = True\n",
    "# sig_spots = False\n",
    "for x in grids:\n",
    "    print(f\"\\n\\n{'=' * 80}\\n{x}\\n{'=' * 80}\")\n",
    "    plot_spatial_lr(grids[x], col_cell_type, kind=\"results\",\n",
    "                    plot_lr=plot_lr, sig_spots=sig_spots)"
   ]
  },
  {
   "cell_type": "markdown",
   "metadata": {},
   "source": [
    "## L-R Co-Expression\n",
    "\n",
    "`outer_mode` & corresponding color map arguments: Per `stlearn` documentation...\n",
    "> The mode for the larger points when displaying LR expression; can either be ‘binary’ or ‘continuous’ or None. \n",
    "* > ‘Binary’ discretizes each spot as expressing L, R, both, or neither. \n",
    "   - `inner_cmap`: \"Cmap for the inner point\"\n",
    "   - `lr_colors`: \"Specifies the colors of the LRs...{‘l’: color, ‘r’: color, ‘lr’: color, ‘’: color}; the last key-value indicates colour for spots not expressing the ligand or receptor\"\n",
    "* > ‘Continuous’ shows color gradient for levels of LR expression by plotting two points for each spot, the ‘inner’ point is the receptor expression levels, and the ‘outer’ point is the ligand expression level. None plots no ligand/receptor expression.\n",
    "   - `l_cmap`:  \"Cmap for coloring the ligand expression\"\n",
    "   - `r_cmap`: \"Cmap for coloring the receptor expression\"\n",
    "   - `lr_cmap`: \"Cmap for coloring coexpression\"\n",
    "\n",
    "`min_expr`: Per `stlearn`...\"The minimum expr above which LR considered expressed when plotting binary LR expression.\""
   ]
  },
  {
   "cell_type": "code",
   "execution_count": null,
   "metadata": {},
   "outputs": [],
   "source": [
    "# Set to None for Just L-R; `col_cell_type` to Show Labels Too\n",
    "cct = None\n",
    "# cct = col_cell_type\n",
    "\n",
    "# Plot\n",
    "for m in [\"binary\", \"continuous\"]:\n",
    "    for s in [True, False]:\n",
    "        for x in grids:\n",
    "            palette = {\"lr_colors\": {\"l\": \"g\", \"r\": \"b\", \"lr\":\n",
    "                \"y\", \"\": \"w\"}} if m == \"binary\" else {}\n",
    "            title = str(f\"{x}: {m.capitalize()} Coexpression\"\n",
    "                        f\" ({'Significant Only' if s else 'All'})\")\n",
    "            plot_spatial_lr(grids[x], cct, kind=\"arrow\", plot_lr=plot_lr,\n",
    "                            outer_mode=m, title=title, sig_spots=s,\n",
    "                            figsize=(35, 15), **palette)"
   ]
  },
  {
   "cell_type": "markdown",
   "metadata": {},
   "source": [
    "## Cell-Cell Interactions\n",
    "\n",
    "Per `stlearn`...\n",
    "> The number of interactions refers to the number of times a spot with the reciever cell type expressed the ligand and the source cell type expressed the receptor in the same neighbourhood."
   ]
  },
  {
   "cell_type": "markdown",
   "metadata": {},
   "source": [
    "### CCI Map\n",
    "\n",
    "**First Plot (CCI)**\n",
    "Per `stlearn` documentation:\n",
    "> This is a heatmap equivalent to the network diagrams and chordplots, it has more quantitative benefits.\n",
    "> The # of interactions refers to the number of times a spot with the reciever cell type expressed the ligand and the source cell type expressed the receptor in the same neighbourhood.\n",
    "\n",
    "**Second Plot (LR-CCI)**\n",
    "\n",
    "CCI plots by individual L-R pairs"
   ]
  },
  {
   "cell_type": "code",
   "execution_count": null,
   "metadata": {},
   "outputs": [],
   "source": [
    "# sig = False\n",
    "sig = True  # only show significant\n",
    "for x in grids:\n",
    "    print(f\"\\n\\n{'=' * 80}\\n{x}\\n{'=' * 80}\")\n",
    "    plot_spatial_lr(grids[x], col_cell_type, kind=\"map\",\n",
    "                    figsize=(12 * len(plot_lr), 10), sig_interactions=sig,\n",
    "                    title=str(f\"{x}: Cell-Cell Interactions (\"\n",
    "                              f\"(Significant{'' if sig else ' and N.S.'})\"),\n",
    "                    plot_lr=plot_lr)"
   ]
  },
  {
   "cell_type": "markdown",
   "metadata": {},
   "source": [
    "### CCI Chord\n",
    "\n",
    "Most useful for small numbers of cell types"
   ]
  },
  {
   "cell_type": "code",
   "execution_count": null,
   "metadata": {},
   "outputs": [],
   "source": [
    "for x in grids:\n",
    "    print(f\"\\n\\n{'=' * 80}\\n{x}\\n{'=' * 80}\")\n",
    "    plot_spatial_lr(grids[x], col_cell_type, kind=\"chord\", plot_lr=plot_lr)"
   ]
  },
  {
   "cell_type": "markdown",
   "metadata": {},
   "source": [
    "### CCI Arrow"
   ]
  },
  {
   "cell_type": "code",
   "execution_count": null,
   "metadata": {},
   "outputs": [],
   "source": [
    "for x in grids:\n",
    "    print(f\"\\n\\n{'=' * 80}\\n{x}\\n{'=' * 80}\")\n",
    "    plot_spatial_lr(grids[x], col_cell_type, kind=\"arrow\",\n",
    "                    figsize=(30, 30), plot_lr=plot_lr)"
   ]
  },
  {
   "cell_type": "markdown",
   "metadata": {},
   "source": [
    "### CCI Net"
   ]
  },
  {
   "cell_type": "code",
   "execution_count": null,
   "metadata": {},
   "outputs": [],
   "source": [
    "for x in grids:\n",
    "    print(f\"\\n\\n{'=' * 80}\\n{x}\\n{'=' * 80}\")\n",
    "    plot_spatial_lr(grids[x], col_cell_type, title=f\"{x}: L-R Interactions\",\n",
    "                    kind=\"net\", plot_lr=plot_lr)"
   ]
  },
  {
   "cell_type": "markdown",
   "metadata": {},
   "source": [
    "## Gene Expression"
   ]
  },
  {
   "cell_type": "code",
   "execution_count": null,
   "metadata": {},
   "outputs": [],
   "source": [
    "if plot_lr is not None:\n",
    "    genes = functools.reduce(lambda i, j: list(i) + list(j),\n",
    "                             [i.split(\"_\") for i in plot_lr])\n",
    "    for g in genes:\n",
    "        fig, axes = plt.subplots(ncols=2, figsize=(20, 5))\n",
    "        st.pl.gene_plot(grid, gene_symbols=g, ax=axes[0],\n",
    "                        show_color_bar=False, show_plot=False)\n",
    "        st.pl.gene_plot(adata, gene_symbols=g, ax=axes[1],\n",
    "                        show_color_bar=False, show_plot=False, vmax=80)\n",
    "        axes[0].set_title(f\"Grid {g} Expression\")\n",
    "        axes[1].set_title(f\"Cell {g} Expression\")\n",
    "        plt.show()"
   ]
  },
  {
   "cell_type": "markdown",
   "metadata": {},
   "source": [
    "# Explore Summary"
   ]
  },
  {
   "cell_type": "code",
   "execution_count": null,
   "metadata": {},
   "outputs": [],
   "source": [
    "lr_int_dfs = grid.uns[f\"per_lr_cci_{col_cell_type}\"]\n",
    "lr_dfs = [lr_int_dfs[lr] if lr in lr_int_dfs else np.nan for lr in plot_lr]\n",
    "[x.replace(0, np.nan).stack().dropna().to_frame(plot_lr[i]) if isinstance(\n",
    "    x, pd.DataFrame) else None for i, x in enumerate(lr_dfs)]"
   ]
  }
 ],
 "metadata": {
  "kernelspec": {
   "display_name": "spatial-alt",
   "language": "python",
   "name": "python3"
  },
  "language_info": {
   "codemirror_mode": {
    "name": "ipython",
    "version": 3
   },
   "file_extension": ".py",
   "mimetype": "text/x-python",
   "name": "python",
   "nbconvert_exporter": "python",
   "pygments_lexer": "ipython3",
   "version": "3.10.4"
  }
 },
 "nbformat": 4,
 "nbformat_minor": 2
}
