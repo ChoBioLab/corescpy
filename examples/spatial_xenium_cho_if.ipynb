{
 "cells": [
  {
   "cell_type": "markdown",
   "metadata": {},
   "source": [
    "# Setup"
   ]
  },
  {
   "cell_type": "markdown",
   "metadata": {},
   "source": [
    "## Imports & Settings"
   ]
  },
  {
   "cell_type": "code",
   "execution_count": null,
   "metadata": {},
   "outputs": [],
   "source": [
    "%load_ext autoreload\n",
    "%autoreload 2\n",
    "\n",
    "import os\n",
    "import re\n",
    "import scanpy as sc\n",
    "import pandas as pd\n",
    "import numpy as np\n",
    "import corescpy as cr\n",
    "\n",
    "# Computing Resources\n",
    "gpu = False\n",
    "sc.settings.n_jobs = 4\n",
    "sc.settings.max_memory = 150\n",
    "\n",
    "# Display\n",
    "pd.options.display.max_colwidth = 1000\n",
    "pd.options.display.max_columns = 100\n",
    "pd.options.display.max_rows = 500\n",
    "sc.settings.set_figure_params(dpi=100, frameon=False, figsize=(20, 20))\n",
    "\n",
    "# Column Names (from Metadata & To Be Created)\n",
    "col_sample_id_o, col_sample_id = \"Sample ID\", \"Sample\"  # in metadata, new\n",
    "col_subject = \"Patient\"  # in metadata file\n",
    "col_inflamed, col_stricture = \"Inflamed\", \"Stricture\"  # in metadata file\n",
    "col_condition = \"Condition\"  # constructed from col_inflamed & col_stricture\n",
    "col_fff = \"file_path\"  # column in metadata in which to store data file path\n",
    "col_tangram = \"tangram_prediction\"  # for future Tangram imputation annotation"
   ]
  },
  {
   "cell_type": "markdown",
   "metadata": {},
   "source": [
    "## Options & Data"
   ]
  },
  {
   "cell_type": "code",
   "execution_count": null,
   "metadata": {},
   "outputs": [],
   "source": [
    "# Directories & Metadata\n",
    "load, reannotate = True, False\n",
    "run = \"CHO-008\"\n",
    "# samples = [\"49696A4\"]\n",
    "samples = \"all\"\n",
    "\n",
    "# Optionally, Define Manual Annotation Versions\n",
    "# should be stored in (\"<out_dir>/annotations_dictionaries\")\n",
    "# in format <selves[i]._library_id>___leiden_<man_anns[i]>_dictionary.xlsx\n",
    "# with first column = leiden cluster and second column = annotation\n",
    "man_anns = True  # load manual annotations according to clustering kws\n",
    "# man_anns = [\"res0pt5_dist0pt5_npc30\", \"res0pt75_dist0pt3_npc30\",\n",
    "#             \"res1pt5_dist0_npc30\"]  # choose manual annotations to load\n",
    "# man_anns = None  # do not load manual annotations\n",
    "\n",
    "# Main Directories\n",
    "# Replace manually or mirror my file/directory tree in your home (`ddu`)\n",
    "ddu = os.path.expanduser(\"~\")\n",
    "ddm = \"/mnt/cho_lab\" if os.path.exists(\"/mnt/cho_lab\") else \"/mnt\"  # Spark?\n",
    "ddl = f\"{ddm}/disk2/{os.getlogin()}/data/shared-xenium-library\" if (\n",
    "    \"cho\" in ddm) else os.path.join(ddu, \"shared-xenium-library\")\n",
    "ddx = f\"{ddm}/bbdata2\"  # mounted drive Xenium folder\n",
    "out_dir = os.path.join(ddl, \"outputs\", \"TUQ97N\", \"nebraska\")  # None = no save\n",
    "d_path = os.path.join(ddm, \"disk2\" if \"cho\" in ddm else \"\",\n",
    "                      os.getlogin(), \"data\")  # other, e.g., Tangram data\n",
    "anf = pd.read_csv(os.path.join(ddu, \"corescpy/examples/markers_lineages.csv\"))\n",
    "file_mdf = os.path.join(ddl, \"samples.csv\")  # metadata\n",
    "\n",
    "# Annotation & Tangram Imputation\n",
    "col_assignment = \"Bin\"  # which column from annotation file to use\n",
    "# col_cell_type_sc, file_sc = \"ClusterAnnotation\", str(\n",
    "#     f\"{d_path}/2023-05-12_CombinedCD-v2_ileal_new.h5ad\")\n",
    "col_cell_type_sc, file_sc = \"cell_type\", f\"{d_path}/elmentaite_ileal.h5ad\"\n",
    "# file_sc = None  # to skip Tangram imputation/label transfer\n",
    "\n",
    "# Processing & Clustering Options\n",
    "kws_pp = dict(cell_filter_pmt=None, cell_filter_ncounts=[15, None],\n",
    "              cell_filter_ngene=[3, None], gene_filter_ncell=[3, None],\n",
    "              gene_filter_ncounts=[3, None], custom_thresholds=None,\n",
    "              kws_scale=dict(max_value=10, zero_center=True),\n",
    "              method_norm=\"log\")  # preprocessing keyword arguments\n",
    "kws_cluster = dict(kws_umap=dict(method=\"rapids\" if gpu else \"umap\"),\n",
    "                   genes_subset=list(anf.iloc[:, 0]),  # use only markers\n",
    "                   use_gpu=gpu, use_highly_variable=False)\n",
    "kws_clustering, col_assignment = {}, []\n",
    "for i in zip([0.5, 0.75, 1.5], [0.5, 0.3, 0], [30, 30, 30]):\n",
    "    kws = {**kws_cluster, \"resolution\": i[0], \"kws_umap\": {\n",
    "        **kws_cluster[\"kws_umap\"], \"min_dist\": i[1]}, \"n_comps\": i[2]}\n",
    "    suff = str(f\"res{re.sub('[.]', 'pt', str(kws['resolution']))}_dist\"\n",
    "               f\"{re.sub('[.]', 'pt', str(kws['kws_umap']['min_dist']))}\"\n",
    "               f\"_npc{kws['n_comps']}\")  # file path suffix\n",
    "    kws_clustering.update({suff: kws})\n",
    "    col_assignment += [\"group\" if kws[\"resolution\"] >= 0.7 else \"Bucket\"]\n",
    "if man_anns is True:\n",
    "    man_anns = list(kws_clustering.keys())\n",
    "col_cell_type = list(kws_clustering.keys())[-1] if (\n",
    "    man_anns is None) else f\"manual_{man_anns[-1]}\"  # default cell labels\n",
    "\n",
    "# After this point, no more options to specify\n",
    "# Just code to infer the data file path from your specifications\n",
    "# and construct argument dictionaries and manipulate metadata and such.\n",
    "\n",
    "# Read Metadata & Other Information\n",
    "metadata = (pd.read_excel if file_mdf[-4:] == \"xlsx\" else pd.read_csv)(\n",
    "    file_mdf, dtype={\"Slide ID\": str}).rename({\n",
    "        \"Name\": col_subject, \"Inflammation\": col_inflamed}, axis=1)\n",
    "if samples not in [\"all\", None]:  # subset by sample ID?\n",
    "    metadata = metadata.set_index(col_sample_id_o).loc[samples].reset_index()\n",
    "\n",
    "# Revise Metadata & Construct Variables from Options\n",
    "metadata.loc[:, col_condition] = metadata.apply(lambda x: \"Stricture\" if x[\n",
    "    col_stricture].lower() in [\"stricture\", \"yes\"] else x[\n",
    "        col_inflamed].capitalize(), axis=1)  # inflamation/stricture condition\n",
    "metadata.loc[:, col_sample_id] = metadata[[col_condition, col_sample_id_o]\n",
    "                                          ].apply(\"-\".join, axis=1)\n",
    "metadata = metadata.set_index(col_sample_id)\n",
    "fff = np.array(cr.pp.construct_file(run=run, directory=ddx))\n",
    "bff = np.array([os.path.basename(i) for i in fff])  # base path names\n",
    "samps = np.array([i.split(\"__\")[2].split(\"-\")[0] for i in fff])\n",
    "for x in metadata[col_sample_id_o]:\n",
    "    m_f = metadata[metadata[col_sample_id_o] == x][\n",
    "        \"out_file\"].iloc[0]  # ...use to find unconventionally-named files\n",
    "    locx = np.where(samps == x)[0] if pd.isnull(\n",
    "        m_f) else np.where(bff == m_f)[0]\n",
    "    metadata.loc[metadata[col_sample_id_o] == x, col_fff] = fff[locx[0]] if (\n",
    "        len(locx) > 0) else np.nan  # assign output file to metadata row\n",
    "metadata = metadata.dropna(subset=[col_fff]).drop_duplicates()\n",
    "\n",
    "# Annotation File\n",
    "assign = anf.dropna(subset=col_assignment).set_index(\n",
    "    \"gene\").rename_axis(\"Gene\")  # markers\n",
    "# assign = assign[~assign.Quality.isin([-1])]  # drop low-quality markers\n",
    "\n",
    "# Print Metadata & Make Output Directory (If Not Present)\n",
    "if not os.path.exists(out_dir):\n",
    "    os.makedirs(out_dir)\n",
    "\n",
    "# Load Data\n",
    "kws_init = dict(col_sample_id=col_sample_id, col_subject=col_subject,\n",
    "                col_cell_type=col_cell_type)  # object creation arguments\n",
    "selves = [None] * metadata.shape[0]  # to hold different samples\n",
    "for i, x in enumerate(metadata.index.values):\n",
    "    selves[i] = cr.Spatial(metadata.loc[x][col_fff], library_id=x, **kws_init)\n",
    "    for j in metadata:  # iterate metadata columns\n",
    "        selves[i].rna.obs.loc[:, j] = str(metadata.loc[x][j])  # add to object\n",
    "    selves[i].rna.obs.loc[:, \"out_file\"] = os.path.join(\n",
    "        out_dir, selves[i]._library_id)  # output path (to save object)\n",
    "    if load is True:\n",
    "        if os.path.exists(str(selves[i].rna.obs.out_file.iloc[0]) + \".h5ad\"):\n",
    "            selves[i].update_from_h5ad(selves[i].rna.obs.out_file.iloc[0])\n",
    "        print(selves[i].rna)\n",
    "\n",
    "# Marker Gene Dictionary (for Scanpy Plotting)\n",
    "marker_genes_dict = dict(assign[\"Bucket\"].reset_index().groupby(\n",
    "    \"Bucket\").apply(lambda x: list(pd.unique(list(set(\n",
    "        x.Gene).intersection(selves[0].rna.var_names))))))  # to dictionary"
   ]
  },
  {
   "cell_type": "markdown",
   "metadata": {},
   "source": [
    "## Manual Annotations"
   ]
  },
  {
   "cell_type": "code",
   "execution_count": null,
   "metadata": {},
   "outputs": [],
   "source": [
    "if man_anns is not None and man_anns is not False:\n",
    "    for i, s in enumerate(selves):\n",
    "        for r in man_anns:  # iterate Leiden clusterings\n",
    "            fmr = os.path.join(out_dir, \"annotation_dictionaries\", str(\n",
    "                f\"{s._library_id}___leiden_{r}_dictionary.xlsx\"))  # mappings\n",
    "            if os.path.exists(fmr) is False:\n",
    "                print(f\"{fmr} file NOT found.\")\n",
    "                continue\n",
    "            else:\n",
    "                print(f\"{fmr} file found.\")\n",
    "            fmr = pd.read_excel(fmr).iloc[:, :2].astype(str)\n",
    "            mans = dict(fmr.set_index(fmr.columns[0]).iloc[:, 0])\n",
    "            s.rna.obs.loc[:, f\"manual_{r}\"] = s.rna.obs[f\"leiden_{r}\"].astype(\n",
    "                int).astype(str).replace(mans)  # Leiden -> manual annotation\n",
    "            s.rna.obs.loc[s.rna.obs[f\"manual_{r}\"].isnull(\n",
    "                ), f\"manual_{r}\"] = s.rna.obs.loc[s.rna.obs[\n",
    "                    f\"manual_{r}\"].isnull(), f\"leiden_{r}\"].astype(\n",
    "                        str)  # missing annotations replaced with Leiden\n",
    "            s.rna.obs.loc[:, f\"manual_{r}\"] = s.rna.obs[\n",
    "                f\"manual_{r}\"].astype(\"category\")  # as categorical\n",
    "            # s.plot_spatial(f\"manual_{r}\")"
   ]
  },
  {
   "cell_type": "markdown",
   "metadata": {},
   "source": [
    "## Plot Clusters"
   ]
  },
  {
   "cell_type": "code",
   "execution_count": null,
   "metadata": {},
   "outputs": [],
   "source": [
    "for s in selves:\n",
    "    s.plot_spatial(color=col_tangram)\n",
    "    for j, x in enumerate(kws_clustering):\n",
    "        _ = s.plot_spatial(color=[f\"leiden_{x}\",, f\"label_{x}\"])"
   ]
  },
  {
   "cell_type": "markdown",
   "metadata": {},
   "source": [
    "# Analyze"
   ]
  },
  {
   "cell_type": "markdown",
   "metadata": {},
   "source": [
    "## Immunofluorescence"
   ]
  },
  {
   "cell_type": "code",
   "execution_count": null,
   "metadata": {},
   "outputs": [],
   "source": []
  },
  {
   "cell_type": "markdown",
   "metadata": {},
   "source": [
    "## Centrality Scores"
   ]
  },
  {
   "cell_type": "code",
   "execution_count": null,
   "metadata": {},
   "outputs": [],
   "source": [
    "%%time\n",
    "\n",
    "for s in selves:\n",
    "    s.calculate_centrality(n_jobs=sc.settings.n_jobs)"
   ]
  },
  {
   "cell_type": "markdown",
   "metadata": {},
   "source": [
    "## Neighborhood Enrichment Analysis"
   ]
  },
  {
   "cell_type": "code",
   "execution_count": null,
   "metadata": {},
   "outputs": [],
   "source": [
    "%%time\n",
    "\n",
    "for s in selves:\n",
    "    _ = s.calculate_neighborhood(figsize=(60, 30))"
   ]
  },
  {
   "cell_type": "markdown",
   "metadata": {},
   "source": [
    "## Cell Type Co-Occurrence"
   ]
  },
  {
   "cell_type": "code",
   "execution_count": null,
   "metadata": {},
   "outputs": [],
   "source": [
    "%%time\n",
    "\n",
    "for s in selves:\n",
    "    _ = s.find_cooccurrence(figsize=(60, 20), kws_plot=dict(wspace=3))"
   ]
  },
  {
   "cell_type": "markdown",
   "metadata": {},
   "source": [
    "## Spatial Clustering"
   ]
  },
  {
   "cell_type": "code",
   "execution_count": null,
   "metadata": {},
   "outputs": [],
   "source": [
    "for s in selves:\n",
    "    cct = f\"leiden_spatial_{list(kws_clustering.keys())[-1]}\"\n",
    "    _ = s.cluster_spatial(key_added=cct,\n",
    "                          **kws_clustering[list(kws_clustering.keys())[-1]])\n",
    "    _ = s.find_markers(col_cell_type=cct, kws_plot=False)\n",
    "    _ = s.annotate_clusters(assign[[col_assignment[-1]]], col_cell_type=cct,\n",
    "                            col_annotation=f\"annotation_{cct}\")\n",
    "    for c in [cct, f\"annotation_{cct}\"]:\n",
    "        s.plot_spatial(c)\n",
    "        if out_dir is not None:\n",
    "            s.write_clusters(out_dir, col_cell_type=c,\n",
    "                             n_top=True, overwrite=True,\n",
    "                             file_prefix=f\"{s._library_id}___\")\n",
    "    if out_dir is not None:\n",
    "        s.write(str(s.rna.obs.out_file.iloc[0]))"
   ]
  },
  {
   "cell_type": "markdown",
   "metadata": {},
   "source": [
    "## Spatially-Variable Genes"
   ]
  },
  {
   "cell_type": "code",
   "execution_count": null,
   "metadata": {},
   "outputs": [],
   "source": [
    "%%time\n",
    "\n",
    "kws = dict(kws_plot=dict(legend_fontsize=\"large\"), figsize=(15, 15))\n",
    "for s in selves:\n",
    "    _ = s.find_svgs(genes=15, method=\"moran\", n_perms=10, **kws)"
   ]
  },
  {
   "cell_type": "markdown",
   "metadata": {},
   "source": [
    "## Receptor-Ligand Interactions"
   ]
  },
  {
   "cell_type": "code",
   "execution_count": null,
   "metadata": {},
   "outputs": [],
   "source": [
    "%%time\n",
    "\n",
    "for s in selves:\n",
    "    kss, ktt = None, None\n",
    "    _ = s.calculate_receptor_ligand(\n",
    "        col_condition=False, p_threshold=0.01, remove_ns=True,\n",
    "        figsize=(30, 20), top_n=25, key_sources=kss, key_targets=ktt)\n",
    "    # s.calculate_receptor_ligand_spatial()"
   ]
  },
  {
   "cell_type": "markdown",
   "metadata": {},
   "source": [
    "## Cell Type Composition "
   ]
  },
  {
   "cell_type": "code",
   "execution_count": null,
   "metadata": {},
   "outputs": [],
   "source": [
    "for s in selves:\n",
    "    s.run_composition_analysis()"
   ]
  },
  {
   "cell_type": "markdown",
   "metadata": {},
   "source": [
    "## GEX"
   ]
  },
  {
   "cell_type": "code",
   "execution_count": null,
   "metadata": {},
   "outputs": [],
   "source": [
    "for s in selves:\n",
    "    s.plot_spatial(color=[\"TNF\", \"IL23\", col_cell_type])"
   ]
  },
  {
   "cell_type": "code",
   "execution_count": null,
   "metadata": {},
   "outputs": [],
   "source": [
    "_ = self.calculate_spatial_distance(\"LTi-like NCR+ ILC3\", genes=\"CSF2RB\")"
   ]
  },
  {
   "cell_type": "code",
   "execution_count": null,
   "metadata": {},
   "outputs": [],
   "source": [
    "adata.X = adata.layers[\"counts\"]\n",
    "sq.tl.var_by_distance(\n",
    "    adata, \"LTi-like NCR+ ILC3\", col_cell_type, library_key=col_sample_id,\n",
    "    design_matrix_key=\"design_matrix\", covariates=[\"Patient\", \"Inflamed\"],\n",
    "    metric=\"euclidean\", spatial_key=self._spatial_key, copy=False)\n",
    "sq.pl.var_by_distance(\n",
    "    adata=adata, var=[\"CSF2RB\", \"CSF2RA\", \"IL7R\"],\n",
    "    anchor_key=\"LTi-like NCR+ ILC3\",\n",
    "    covariate=\"Inflamed\")"
   ]
  },
  {
   "cell_type": "markdown",
   "metadata": {},
   "source": [
    "# Workspace"
   ]
  },
  {
   "cell_type": "code",
   "execution_count": null,
   "metadata": {},
   "outputs": [],
   "source": []
  },
  {
   "cell_type": "code",
   "execution_count": null,
   "metadata": {},
   "outputs": [],
   "source": [
    "mks = pd.read_csv(\"/mnt/cho_lab/disk2/jiayuzh/projects/perianal-cd/analysis\"\n",
    "                  \"/coreSC/output/output_2024-05-06_11.53.33/all_markers.csv\",\n",
    "                  index_col=0).rename_axis(\"gene_ix\").reset_index(\n",
    "                      ).set_index([\"cluster\", \"gene\"])\n",
    "srcs = [\"Cells of the human intestinal tract mapped across space and time\",\n",
    "        \"Human Ileal Epithelial cells from Crohn’s Disease\",\n",
    "        \"Human Ileal Immune cells from Crohn’s Disease\"]\n",
    "kwarg = dict(sources=srcs, max_results=10000,\n",
    "              name_pattern={srcs[0]: \"SmallIntestine\"})\n",
    "nta, ntg = 40, 20\n",
    "mmm = mks[mks.p_val_adj <= 1e-15]\n",
    "mmm = mmm[mmm.avg_log2FC >= 0.75]  # filter ~ LFC\n",
    "mmm = mmm.groupby(\"cluster\").apply(lambda x: x.iloc[:min(x.shape[\n",
    "    0], ntg)]).reset_index(0, drop=True)  # only N top\n",
    "types = mmm.reset_index().cluster.unique()\n",
    "tgdf = pd.concat([cr.tl.get_topp_gene(\n",
    "    list(mmm.loc[x].index.values), **kwargs, verbose=False).drop(\n",
    "        \"Source\", axis=1).reset_index(0, drop=True).iloc[:nta]\n",
    "    for x in types], keys=types)  # ToppGene results"
   ]
  },
  {
   "cell_type": "code",
   "execution_count": null,
   "metadata": {},
   "outputs": [],
   "source": [
    "clus = 5\n",
    "mcm = mmm[(mmm[\"pct.1\"] >= 0.5) & (mmm[\"pct.2\"] <= 0.33)].loc[clus]\n",
    "ggg = list(mcm.iloc[:30].index)\n",
    "print(\", \".join(ggg), \"\\n\")\n",
    "mcm"
   ]
  },
  {
   "cell_type": "code",
   "execution_count": null,
   "metadata": {},
   "outputs": [],
   "source": [
    "ggg = list(mmm.loc[clus].iloc[:30].index)\n",
    "print(\", \".join(ggg), \"\\n\")\n",
    "print(assign.loc[assign.index.intersection(ggg)].rename_axis(\n",
    "    \"gene\").reset_index().groupby(\"group\").apply(\n",
    "        lambda x: \", \".join(x.gene.unique())))\n",
    "tgdf.loc[clus]"
   ]
  },
  {
   "cell_type": "markdown",
   "metadata": {},
   "source": [
    "## Manual Annotations"
   ]
  },
  {
   "cell_type": "markdown",
   "metadata": {},
   "source": [
    "### Uninflamed-50452A"
   ]
  },
  {
   "cell_type": "code",
   "execution_count": null,
   "metadata": {},
   "outputs": [],
   "source": [
    "i = 0\n",
    "s = selves[i]\n",
    "r = \"leiden_res1pt5_dist0_npc30\"\n",
    "s.get_layer(\"counts\", inplace=True)\n",
    "print(np.mean(s.rna[s.rna.obs[f\"leiden_{r}\"] == \"9\"][:, \"CD79A\"].X > 0))\n",
    "print(np.mean(s.rna[s.rna.obs[f\"leiden_{r}\"] == \"9\"][:, \"CD79B\"].X > 0))\n",
    "print(np.mean(s.rna[s.rna.obs[f\"leiden_{r}\"] == \"6\"][:, \"CD79A\"].X > 0))\n",
    "print(np.mean(s.rna[s.rna.obs[f\"leiden_{r}\"] == \"6\"][:, \"CD79B\"].X > 0))\n",
    "print(np.mean(s.rna[s.rna.obs[f\"leiden_{r}\"] == \"6\"][\n",
    "    :, \"ADAMDEC1\"].X > 0))"
   ]
  },
  {
   "cell_type": "code",
   "execution_count": null,
   "metadata": {},
   "outputs": [],
   "source": [
    "for x in [\"COL1A1\", \"PEG10\", \"RCN3\"]:\n",
    "    print(np.mean(s.rna[s.rna.obs[f\"leiden_{r}\"] == \"10\"][:, x].X > 0))"
   ]
  },
  {
   "cell_type": "code",
   "execution_count": null,
   "metadata": {},
   "outputs": [],
   "source": [
    "for x in [\"BMP5\", \"F3\", \"MMP11\", \"CCL8\", \"NPY\", \"CH25H\"]:\n",
    "    print(np.mean(s.rna[s.rna.obs[f\"leiden_{r}\"] == \"15\"][:, x].X > 0))"
   ]
  },
  {
   "cell_type": "code",
   "execution_count": null,
   "metadata": {},
   "outputs": [],
   "source": [
    "for x in [\"LGR5\"]:\n",
    "    print(np.mean(s.rna[s.rna.obs[f\"leiden_{r}\"] == \"16\"][:, x].X > 0))"
   ]
  },
  {
   "cell_type": "code",
   "execution_count": null,
   "metadata": {},
   "outputs": [],
   "source": [
    "for x in [\"CRIP2\", \"KCNA5\", \"LBH\", \"NET1\", \"PLN\", \"RERGL\"]:\n",
    "    print(round(np.mean(s.rna[s.rna.obs[f\"leiden_{r}\"] == \"20\"][:, x].X > 0) * 100, 0))"
   ]
  },
  {
   "cell_type": "code",
   "execution_count": null,
   "metadata": {},
   "outputs": [],
   "source": [
    "for x in [\"TPSAB1\", \"CMA1\"]:\n",
    "    print(np.mean(s.rna[s.rna.obs[f\"leiden_{r}\"] == \"21\"][:, x].X > 0))"
   ]
  },
  {
   "cell_type": "code",
   "execution_count": null,
   "metadata": {},
   "outputs": [],
   "source": [
    "for x in [\"GNLY\", \"GZMB\"]:\n",
    "    print(np.mean(s.rna[s.rna.obs[f\"leiden_{r}\"] != \"23\"][:, x].X > 0))"
   ]
  },
  {
   "cell_type": "code",
   "execution_count": null,
   "metadata": {},
   "outputs": [],
   "source": [
    "for x in marker_genes_dict[\"Pericyte\"]:\n",
    "    print(int(100 * np.mean(s.rna[s.rna.obs[f\"leiden_{r}\"] == \"25\"][\n",
    "        :, x].X > 0)), \" vs. \", int(100 * np.mean(s.rna[s.rna.obs[\n",
    "            f\"leiden_{r}\"] != \"25\"][:, x].X > 0)))"
   ]
  },
  {
   "cell_type": "code",
   "execution_count": null,
   "metadata": {},
   "outputs": [],
   "source": [
    "comp = \"2\"\n",
    "print(\", \".join([x + \": \" + str(int(100 * np.mean(s.rna[s.rna.obs[\n",
    "    f\"leiden_{r}\"] == \"11\"][:, x].X > 0))) + \" vs. \" + str(int(\n",
    "        100 * np.mean(s.rna[s.rna.obs[f\"leiden_{r}\"] == comp][\n",
    "            :, x].X > 0))) + \"%\" for x in [\"COL4A1\", \"COL4A2\", \"DLC1\"]]))\n",
    "print(f\"\\n...compared to {comp}\")"
   ]
  },
  {
   "cell_type": "code",
   "execution_count": null,
   "metadata": {},
   "outputs": [],
   "source": [
    "print(\", \".join([x + \": \" + str(int(100 * np.mean(s.rna[s.rna.obs[\n",
    "    f\"leiden_{r}\"] == \"9\"][:, x].X > 0))) + \" vs. \" + str(int(\n",
    "        100 * np.mean(s.rna[s.rna.obs[f\"leiden_{r}\"] != \"9\"][\n",
    "            :, x].X > 0))) + \"%\" for x in [\n",
    "                \"ZBTB38\", \"IFNAR2\", \"SELENOM\", \"XBP1\"]]))"
   ]
  },
  {
   "cell_type": "markdown",
   "metadata": {},
   "source": [
    "### Stricture-50452C"
   ]
  },
  {
   "cell_type": "code",
   "execution_count": null,
   "metadata": {},
   "outputs": [],
   "source": [
    "# Memory B\n",
    "# Stricture-50452C___leiden_res0.75_dist0.3_npc30\n",
    "i = -1\n",
    "s = selves[i]\n",
    "r = \"leiden_res0.75_dist0.3_npc30\"\n",
    "s.rna.obs.loc[:, f\"leiden_{r}\"] = s.rna.obs[\n",
    "    f\"leiden_{r}\"].astype(float).astype(int).astype(str)\n",
    "clid = \"21\"\n",
    "comp = [\"2\", \"16\", \"18\"]\n",
    "print(\", \".join([x + \": \" + str(int(100 * np.mean(s.rna[s.rna.obs[\n",
    "    f\"leiden_{r}\"] == clid][:, x].X > 0))) + \" vs. \" + str(int(\n",
    "        100 * np.mean(s.rna[s.rna.obs[f\"leiden_{r}\"].isin(comp)][\n",
    "            :, x].X > 0))) + \"%\" for x in [\n",
    "                \"GPR183\", \"HHEX\", \"INPP5D\", \"LRRK2\"]]))\n",
    "print(f\"\\n...compared to {comp}\")"
   ]
  },
  {
   "cell_type": "code",
   "execution_count": null,
   "metadata": {},
   "outputs": [],
   "source": [
    "# Naive B\n",
    "# Stricture-50452C___leiden_res0.75_dist0.3_npc30\n",
    "i = -1\n",
    "s = selves[i]\n",
    "r = \"leiden_res0.75_dist0.3_npc30\"\n",
    "s.rna.obs.loc[:, f\"leiden_{r}\"] = s.rna.obs[\n",
    "    f\"leiden_{r}\"].astype(float).astype(int).astype(str)\n",
    "clid = \"21\"\n",
    "comp = [\"2\", \"16\", \"18\"]\n",
    "print(\", \".join([x + \": \" + str(int(100 * np.mean(s.rna[s.rna.obs[\n",
    "    f\"leiden_{r}\"] == clid][:, x].X > 0))) + \" vs. \" + str(int(\n",
    "        100 * np.mean(s.rna[s.rna.obs[f\"leiden_{r}\"].isin(comp)][\n",
    "            :, x].X > 0))) + \"%\" for x in [\n",
    "                \"IRF1\", \"LNPEP\", \"PLAC8\", \"IFITM1\"]]))\n",
    "print(f\"\\n...compared to {comp}\")"
   ]
  },
  {
   "cell_type": "markdown",
   "metadata": {},
   "source": [
    "### Uninflamed-50006B"
   ]
  },
  {
   "cell_type": "code",
   "execution_count": null,
   "metadata": {},
   "outputs": [],
   "source": [
    "# Neural-Glia\n",
    "# Uninflamed-50006B\n",
    "i = 0\n",
    "s = selves[i]\n",
    "r = \"leiden_res1pt5_dist0_npc30\"\n",
    "clus = \"24\"\n",
    "comp = [\"19\"]\n",
    "comp = list(set(comp).difference(set([clus])))\n",
    "ccc = \", \".join([x + \": \" + str(int(100 * np.mean(s.rna[s.rna.obs[r] == clus][\n",
    "    :, x].X > 0))) + \" vs. \" + str(int(100 * np.mean(s.rna[s.rna.obs[\n",
    "        r].isin(comp)][:, x].X > 0))) + \"%\" for x in assign[\n",
    "            assign.Bin == \"Neural\"].index.intersection(\n",
    "                s.rna.var_names).difference(assign[\n",
    "                    assign.Bin == \"Glia\"].index)])\n",
    "f\"{clus} compared to {comp}: {ccc}\""
   ]
  },
  {
   "cell_type": "code",
   "execution_count": null,
   "metadata": {},
   "outputs": [],
   "source": [
    "# Epithelial\n",
    "# Uninflamed-50006B\n",
    "i = 0\n",
    "s = selves[i]\n",
    "r = \"leiden_res1pt5_dist0_npc30\"\n",
    "clus = \"26\"\n",
    "# comp = [\"10\", \"28\"]\n",
    "# comp = [\"1\", \"3\", \"4\", \"7\", \"8\", \"10\", \"20\", \"26\"]\n",
    "# comp = [\"3\", \"4\", \"7\", \"8\", \"10\", \"26\"]\n",
    "comp = [\"4\", \"7\", \"8\", \"9\"]  # suspected goblets\n",
    "# comp = [\"8\"]\n",
    "comp = list(set(comp).difference(set([clus])))\n",
    "ccc = \", \".join([x + \": \" + str(int(100 * np.mean(s.rna[s.rna.obs[r] == clus][\n",
    "    :, x].X > 0))) + \" vs. \" + str(int(100 * np.mean(s.rna[s.rna.obs[\n",
    "        r].isin(comp)][:, x].X > 0))) + \"%\" for x in [\n",
    "            \"MUC2\", \"MUC4\", \"MUC1\", \"KLK1\", \"ZG16\",  # \"FAM3D\",\n",
    "            \"BEST2\", \"BEST4\",\"LGR5\", \"CDCA7\", \"CCL20\", \"LYZ\",\n",
    "            \"HCK\", \"MATK\", \"ZFHX3\"]])  # Tuft markers\n",
    "f\"{clus} compared to {comp}: {ccc}\""
   ]
  },
  {
   "cell_type": "code",
   "execution_count": null,
   "metadata": {},
   "outputs": [],
   "source": [
    "# Eptithelial\n",
    "# Uninflamed-50006B\n",
    "i = 0\n",
    "s = selves[i]\n",
    "r = \"leiden_res1pt5_dist0_npc30\"\n",
    "clus = \"26\"\n",
    "comp = [\"10\", \"28\"]\n",
    "# comp = [\"1\", \"3\", \"4\", \"7\", \"8\", \"10\", \"20\", \"26\"]\n",
    "# comp = [\"3\", \"4\", \"7\", \"8\", \"10\", \"26\"]\n",
    "# comp = [\"4\", \"7\", \"8\", \"9\"]  # suspected goblets\n",
    "# comp = [\"8\"]\n",
    "comp = list(set(comp).difference(set([clus])))\n",
    "ccc = \", \".join([x + \": \" + str(int(100 * np.mean(s.rna[s.rna.obs[r] == clus][\n",
    "    :, x].X > 0))) + \" vs. \" + str(int(100 * np.mean(s.rna[s.rna.obs[\n",
    "        r].isin(comp)][:, x].X > 0))) + \"%\" for x in [\n",
    "            \"MUC5B\", \"KIT\", \"MARCKSL1\", \"NACA\", \"FAM3D\", \"LCN2\", \"IRF2BP2\",\n",
    "            \"MUC4\", \"SATB2\", \"UQCRC1\", \"SLC39A8\", \"SERBP1\", \"TP53\", \"MYO10\",\n",
    "            \"KLK1\", \"HMGB1\", \"HOXA3\", \"NR5A2\", \"CAT\", \"LIMA1\", \"COX8A\",\n",
    "            \"LGALS9\", \"HMGB2\", \"CDCA7\", \"ZFP91\", \"MUC1\", \"ATF6B\"]])\n",
    "f\"{clus} compared to {comp}: {ccc}\""
   ]
  },
  {
   "cell_type": "code",
   "execution_count": null,
   "metadata": {},
   "outputs": [],
   "source": [
    "ggc = [\"HCK\", \"MATK\", \"ZFHX3\"]\n",
    "subs = s.rna[s.rna.obs[r] == clus].copy()\n",
    "subs = sc.tl.score_genes(subs, ggc, score_name=\"|\".join(ggc),\n",
    "                         use_raw=False, copy=True)  # score co-GEX\n",
    "np.mean(subs.obs[\"|\".join(ggc)] > 0)"
   ]
  },
  {
   "cell_type": "markdown",
   "metadata": {},
   "source": [
    "### Stricture-50006C"
   ]
  },
  {
   "cell_type": "code",
   "execution_count": null,
   "metadata": {},
   "outputs": [],
   "source": [
    "# Stricture-50006C\n",
    "# T Cell\n",
    "i = -1\n",
    "s = selves[i]\n",
    "r = \"leiden_res1pt5_dist0_npc30\"\n",
    "clus = \"22\"\n",
    "comp = list(s.rna.obs[r].unique())\n",
    "comp = list(set(comp).difference(set([clus])))\n",
    "ccc = \", \".join([x + \": \" + str(int(100 * np.mean(s.rna[s.rna.obs[r] == clus][\n",
    "    :, x].X > 0))) + \" vs. \" + str(int(100 * np.mean(s.rna[s.rna.obs[\n",
    "        r].isin(comp)][:, x].X > 0))) + \"%\" for x in assign[\n",
    "            assign.Bin == \"T Cell\"].index.intersection(s.rna.var_names)])\n",
    "f\"{clus} compared to {comp}: {ccc}\""
   ]
  },
  {
   "cell_type": "code",
   "execution_count": null,
   "metadata": {},
   "outputs": [],
   "source": [
    "# Stricture-50006C\n",
    "# gDT\n",
    "i = -1\n",
    "s = selves[i]\n",
    "r = \"leiden_res1pt5_dist0_npc30\"\n",
    "clus = \"27\"\n",
    "comp = list(s.rna.obs[r].unique())\n",
    "comp = list(set(comp).difference(set([clus])))\n",
    "ccc = \", \".join([x + \": \" + str(int(100 * np.mean(s.rna[s.rna.obs[r] == clus][\n",
    "    :, x].X > 0))) + \" vs. \" + str(int(100 * np.mean(s.rna[s.rna.obs[\n",
    "        r].isin(comp)][:, x].X > 0))) + \"%\" for x in assign[\n",
    "            assign.group.apply(lambda x: \"gdT\" in x)\n",
    "            ].index.intersection(s.rna.var_names)])\n",
    "f\"{clus} compared to {comp}: {ccc}\""
   ]
  },
  {
   "cell_type": "code",
   "execution_count": null,
   "metadata": {},
   "outputs": [],
   "source": [
    "# Stricture-50006C\n",
    "# LEC\n",
    "i = -1\n",
    "s = selves[i]\n",
    "r = \"leiden_res1pt5_dist0_npc30\"\n",
    "clus = \"27\"\n",
    "comp = list(s.rna.obs[r].unique())\n",
    "comp = list(set(comp).difference(set([clus])))\n",
    "ccc = \", \".join([x + \": \" + str(int(100 * np.mean(s.rna[s.rna.obs[r] == clus][\n",
    "    :, x].X > 0))) + \" vs. \" + str(int(100 * np.mean(s.rna[s.rna.obs[\n",
    "        r].isin(comp)][:, x].X > 0))) + \"%\" for x in assign[\n",
    "            assign.group.apply(lambda x: \"LEC\" in x)\n",
    "            ].index.intersection(s.rna.var_names)])\n",
    "f\"{clus} compared to {comp}: {ccc}\""
   ]
  },
  {
   "cell_type": "code",
   "execution_count": null,
   "metadata": {},
   "outputs": [],
   "source": [
    "# Stricture-50006C\n",
    "# cDC\n",
    "i = -1\n",
    "s = selves[i]\n",
    "r = \"leiden_res1pt5_dist0_npc30\"\n",
    "clus = \"25\"\n",
    "# comp = list(s.rna.obs[r].unique())\n",
    "comp = [\"6\"]\n",
    "comp = list(set(comp).difference(set([clus])))\n",
    "ccc = \", \".join([x + \": \" + str(int(100 * np.mean(s.rna[s.rna.obs[r] == clus][\n",
    "    :, x].X > 0))) + \" vs. \" + str(int(100 * np.mean(s.rna[s.rna.obs[\n",
    "        r].isin(comp)][:, x].X > 0))) + \"%\" for x in assign[\n",
    "            assign.group == \"cDC1\"].index.intersection(s.rna.var_names)])\n",
    "f\"{clus} compared to {comp}: {ccc}\""
   ]
  },
  {
   "cell_type": "code",
   "execution_count": null,
   "metadata": {},
   "outputs": [],
   "source": [
    "# Stricture-50006C\n",
    "i = -1\n",
    "s = selves[i]\n",
    "r = \"leiden_res1pt5_dist0_npc30\"\n",
    "clus = \"21\"\n",
    "comp = list(s.rna.obs[r].unique())\n",
    "comp = list(set(comp).difference(set([clus])))\n",
    "ccc = \", \".join([x + \": \" + str(int(100 * np.mean(s.rna[s.rna.obs[r] == clus][\n",
    "    :, x].X > 0))) + \" vs. \" + str(int(100 * np.mean(s.rna[s.rna.obs[\n",
    "        r].isin(comp)][:, x].X > 0))) + \"%\" for x in assign[\n",
    "            assign.Bin == \"Neural\"].index.intersection(s.rna.var_names)])\n",
    "f\"{clus} compared to {comp}: {ccc}\""
   ]
  },
  {
   "cell_type": "code",
   "execution_count": null,
   "metadata": {},
   "outputs": [],
   "source": [
    "# Stricture-50006C\n",
    "i = -1\n",
    "s = selves[i]\n",
    "r = \"leiden_res1pt5_dist0_npc30\"\n",
    "clus = \"11\"\n",
    "comp = list(s.rna.obs[r].unique())\n",
    "comp = list(set(comp).difference(set([clus])))\n",
    "ccc = \", \".join([x + \": \" + str(int(100 * np.mean(s.rna[s.rna.obs[r] == clus][\n",
    "    :, x].X > 0))) + \" vs. \" + str(int(100 * np.mean(s.rna[s.rna.obs[\n",
    "        r].isin(comp)][:, x].X > 0))) + \"%\" for x in [\"LYVE1\"]])\n",
    "f\"{clus} compared to {comp}: {ccc}\""
   ]
  },
  {
   "cell_type": "code",
   "execution_count": null,
   "metadata": {},
   "outputs": [],
   "source": [
    "# Stricture-50006C\n",
    "i = -1\n",
    "s = selves[i]\n",
    "r = \"leiden_res1pt5_dist0_npc30\"\n",
    "clus = \"27\"\n",
    "comp = list(s.rna.obs[r].unique())\n",
    "comp = list(set(comp).difference(set([clus])))\n",
    "ccc = \", \".join([x + \": \" + str(int(100 * np.mean(s.rna[s.rna.obs[r] == clus][\n",
    "    :, x].X > 0))) + \" vs. \" + str(int(100 * np.mean(s.rna[s.rna.obs[\n",
    "        r].isin(comp)][:, x].X > 0))) + \"%\" for x in assign[\n",
    "            assign.Bin == \"Endothelial\"].index.intersection(s.rna.var_names)])\n",
    "f\"{clus} compared to {comp}: {ccc}\""
   ]
  },
  {
   "cell_type": "code",
   "execution_count": null,
   "metadata": {},
   "outputs": [],
   "source": [
    "# Stricture-50006C\n",
    "i = -1\n",
    "s = selves[i]\n",
    "r = \"leiden_res1pt5_dist0_npc30\"\n",
    "clus = \"31\"\n",
    "comp = [\"4\"]\n",
    "comp = list(set(comp).difference(set([clus])))\n",
    "ccc = \", \".join([x + \": \" + str(int(100 * np.mean(s.rna[s.rna.obs[r] == clus][\n",
    "    :, x].X > 0))) + \" vs. \" + str(int(100 * np.mean(s.rna[s.rna.obs[\n",
    "        r].isin(comp)][:, x].X > 0))) + \"%\" for x in assign[\n",
    "            assign.Bin == \"Glia\"].index.intersection(s.rna.var_names)])\n",
    "f\"{clus} compared to {comp}: {ccc}\""
   ]
  },
  {
   "cell_type": "markdown",
   "metadata": {},
   "source": [
    "### Uninflamed-50336C\n"
   ]
  },
  {
   "cell_type": "code",
   "execution_count": null,
   "metadata": {},
   "outputs": [],
   "source": [
    "# Stricture-50006C\n",
    "i = 0\n",
    "s = selves[i]\n",
    "r = \"leiden_res1pt5_dist0_npc30\"\n",
    "clus = \"9\"\n",
    "# comp = [\"4\"]\n",
    "comp = list(s.rna.obs[r].unique())\n",
    "comp = list(set(comp).difference(set([clus])))\n",
    "ccc = \", \".join([x + \": \" + str(int(100 * np.mean(s.rna[s.rna.obs[r] == clus][\n",
    "    :, x].X > 0))) + \" vs. \" + str(int(100 * np.mean(s.rna[s.rna.obs[\n",
    "        r].isin(comp)][:, x].X > 0))) + \"%\" for x in assign[\n",
    "            assign.group == \"LYVE1+ Macrophage\"].index.intersection(\n",
    "                s.rna.var_names)])\n",
    "f\"{clus} compared to {comp}: {ccc}\""
   ]
  },
  {
   "cell_type": "code",
   "execution_count": null,
   "metadata": {},
   "outputs": [],
   "source": [
    "# Stricture-50006C\n",
    "i = 0\n",
    "s = selves[i]\n",
    "r = \"leiden_res1pt5_dist0_npc30\"\n",
    "clus = \"0\"\n",
    "# comp = [\"4\"]\n",
    "comp = list(s.rna.obs[r].unique())\n",
    "comp = list(set(comp).difference(set([clus])))\n",
    "ccc = \", \".join([x + \": \" + str(int(100 * np.mean(s.rna[s.rna.obs[r] == clus][\n",
    "    :, x].X > 0))) + \" vs. \" + str(int(100 * np.mean(s.rna[s.rna.obs[\n",
    "        r].isin(comp)][:, x].X > 0))) + \"%\" for x in assign[\n",
    "            assign.Bucket == \"B Cell\"].index.intersection(\n",
    "                s.rna.var_names)])\n",
    "f\"{clus} compared to {comp}: {ccc}\""
   ]
  },
  {
   "cell_type": "code",
   "execution_count": null,
   "metadata": {},
   "outputs": [],
   "source": [
    "# Stricture-50006C\n",
    "# Stem/TA\n",
    "i = 0\n",
    "s = selves[i]\n",
    "r = \"leiden_res1pt5_dist0_npc30\"\n",
    "ggx = assign[assign[\"group\"].isin([\"Stem cells\",\n",
    "                                   \"Proximal progenitor\"])].index\n",
    "# ggx = [\"LGR5\"]\n",
    "clus = \"13\"\n",
    "comp = [\"2\"]\n",
    "# comp = list(s.rna.obs[r].unique())\n",
    "ccc = \", \".join([x + \": \" + str(int(100 * np.mean(s.rna[s.rna.obs[r] == clus][\n",
    "    :, x].X > 0))) + \" vs. \" + str(int(100 * np.mean(s.rna[s.rna.obs[r].isin(\n",
    "        list(set(comp).difference(set([clus]))))][:, x].X > 0))) + \"%\"\n",
    "    for x in set(ggx).intersection(s.rna.var_names)])\n",
    "f\"{clus} compared to {comp}: {ccc}\""
   ]
  },
  {
   "cell_type": "code",
   "execution_count": null,
   "metadata": {},
   "outputs": [],
   "source": [
    "# Stricture-50006C\n",
    "# Goblet\n",
    "i = 0\n",
    "s = selves[i]\n",
    "r = \"leiden_res1pt5_dist0_npc30\"\n",
    "ggx = assign[assign[\"Bin\"].isin([\"Goblet\"])].index\n",
    "# ggx = [\"LGR5\"]\n",
    "clus = \"14\"\n",
    "comp = [\"3\"]\n",
    "# comp = list(s.rna.obs[r].unique())\n",
    "ccc = \", \".join([x + \": \" + str(int(100 * np.mean(s.rna[s.rna.obs[r] == clus][\n",
    "    :, x].X > 0))) + \" vs. \" + str(int(100 * np.mean(s.rna[s.rna.obs[r].isin(\n",
    "        list(set(comp).difference(set([clus]))))][:, x].X > 0))) + \"%\"\n",
    "    for x in set(ggx).intersection(s.rna.var_names)])\n",
    "f\"{clus} compared to {comp}: {ccc}\""
   ]
  },
  {
   "cell_type": "code",
   "execution_count": null,
   "metadata": {},
   "outputs": [],
   "source": [
    "# Stricture-50006C\n",
    "# Stem/Paneth\n",
    "i = 0\n",
    "s = selves[i]\n",
    "r = \"leiden_res1pt5_dist0_npc30\"\n",
    "ggx = [\"LYZ\", \"LCN2\", \"RAMP1\"]\n",
    "clus = \"19\"\n",
    "comp = [\"3\"]\n",
    "# comp = list(s.rna.obs[r].unique())\n",
    "ccc = \", \".join([x + \": \" + str(int(100 * np.mean(s.rna[s.rna.obs[r] == clus][\n",
    "    :, x].X > 0))) + \" vs. \" + str(int(100 * np.mean(s.rna[s.rna.obs[r].isin(\n",
    "        list(set(comp).difference(set([clus]))))][:, x].X > 0))) + \"%\"\n",
    "    for x in set(ggx).intersection(s.rna.var_names)])\n",
    "f\"{clus} compared to {comp}: {ccc}\""
   ]
  },
  {
   "cell_type": "code",
   "execution_count": null,
   "metadata": {},
   "outputs": [],
   "source": [
    "# Stricture-50006C\n",
    "# Stem/Paneth\n",
    "i = 0\n",
    "s = selves[i]\n",
    "r = \"leiden_res1pt5_dist0_npc30\"\n",
    "ggx = assign[assign[\"group\"].isin([\"Mast Cell\"])].index\n",
    "clus = \"24\"\n",
    "comp = list(s.rna.obs[r].unique())\n",
    "ccc = \", \".join([x + \": \" + str(int(100 * np.mean(s.rna[s.rna.obs[r] == clus][\n",
    "    :, x].X > 0))) + \" vs. \" + str(int(100 * np.mean(s.rna[s.rna.obs[r].isin(\n",
    "        list(set(comp).difference(set([clus]))))][:, x].X > 0))) + \"%\"\n",
    "    for x in set(ggx).intersection(s.rna.var_names)])\n",
    "f\"{clus} compared to {comp}: {ccc}\""
   ]
  },
  {
   "cell_type": "code",
   "execution_count": null,
   "metadata": {},
   "outputs": [],
   "source": [
    "# Stricture-50006C\n",
    "# MF/DP\n",
    "i = 0\n",
    "s = selves[i]\n",
    "r = \"leiden_res1pt5_dist0_npc30\"\n",
    "ggx = assign[assign[\"Bin\"].isin([\"Myofibroblast\"])].index\n",
    "clus = \"31\"\n",
    "# comp = list(s.rna.obs[r].unique())\n",
    "# comp = [\"1\", \"6\"]\n",
    "comp = [\"17\", \"22\"]\n",
    "ccc = \", \".join([x + \": \" + str(int(100 * np.mean(s.rna[s.rna.obs[r] == clus][\n",
    "    :, x].X > 0))) + \" vs. \" + str(int(100 * np.mean(s.rna[s.rna.obs[r].isin(\n",
    "        list(set(comp).difference(set([clus]))))][:, x].X > 0))) + \"%\"\n",
    "    for x in set(ggx).intersection(s.rna.var_names)])\n",
    "f\"{clus} compared to {comp}: {ccc}\""
   ]
  },
  {
   "cell_type": "code",
   "execution_count": null,
   "metadata": {},
   "outputs": [],
   "source": [
    "# Stricture-50006C\n",
    "# SMC/MF/DP\n",
    "i = 0\n",
    "s = selves[i]\n",
    "r = \"leiden_res1pt5_dist0_npc30\"\n",
    "ggx = assign[assign[\"Bin\"].isin([\"SMC\"])].index\n",
    "clus = \"1\"\n",
    "comp = [\"6\"]\n",
    "ccc = \", \".join([x + \": \" + str(int(100 * np.mean(s.rna[s.rna.obs[r] == clus][\n",
    "    :, x].X > 0))) + \" vs. \" + str(int(100 * np.mean(s.rna[s.rna.obs[r].isin(\n",
    "        list(set(comp).difference(set([clus]))))][:, x].X > 0))) + \"%\"\n",
    "    for x in set(ggx).intersection(s.rna.var_names)])\n",
    "f\"{clus} compared to {comp}: {ccc}\""
   ]
  },
  {
   "cell_type": "markdown",
   "metadata": {},
   "source": [
    "## CD34"
   ]
  },
  {
   "cell_type": "code",
   "execution_count": null,
   "metadata": {},
   "outputs": [],
   "source": [
    "import matplotlib.pyplot as plt\n",
    "\n",
    "gene = \"CD34\"\n",
    "thr = np.arange(1, 15)  # thresholds\n",
    "fig, axes = plt.subplots(1, len(selves))\n",
    "for i, s in enumerate(selves):\n",
    "    print(f\"{s._library_id}: {np.sum(s.rna[:, gene].X > 0)} / {s.rna.n_obs}\")\n",
    "    a_x = axes[i].bar(thr, [np.sum(s.rna[:, gene].X >= i) for i in thr])\n",
    "    axes[i].set_title(s._library_id)\n",
    "    # for x in s.rna.obs[f\"leiden_{r}\"].unique():\n",
    "    #     print(str(x) + \": \" + np.mean(s.rna[s.rna.obs[\n",
    "    #         f\"leiden_{r}\"] == x][:, \"CD34\"].X > 0))\n",
    "fig.suptitle(\"Total Cells above Count Thresholds for CD34\")"
   ]
  },
  {
   "cell_type": "markdown",
   "metadata": {},
   "source": [
    "## CSF"
   ]
  },
  {
   "cell_type": "code",
   "execution_count": null,
   "metadata": {},
   "outputs": [],
   "source": [
    "csf, thresh, ggg = [np.nan] * len(selves), [1, 2, 3, 4], [\n",
    "    \"CSF1\", \"CSF2\", \"CSF3\"]\n",
    "for i, s in enumerate(selves):\n",
    "    csf[i] = pd.DataFrame(dict(\n",
    "        Gene=ggg * len(thresh), Threshold=[t for t in thresh for g in ggg],\n",
    "        Count=np.nan, Total=[s.rna.n_obs] * len(ggg) * len(thresh))).assign(\n",
    "            Sample=s._library_id, Condition=s._library_id.split(\n",
    "                \"-\")[0]).set_index([\"Threshold\", \"Gene\"])\n",
    "    for t in thresh:\n",
    "        csf[i].loc[t, \"Count\"] = [np.sum(s.rna[:, g].X >= t)\n",
    "                                  for g in csf[i].loc[t].index]\n",
    "csf = pd.concat(csf).sort_index()\n",
    "csf = csf.assign(Ratio=csf.Count / csf.Total)\n",
    "csf"
   ]
  },
  {
   "cell_type": "code",
   "execution_count": null,
   "metadata": {},
   "outputs": [],
   "source": [
    "import seaborn as sb\n",
    "from statannotations.Annotator import Annotator\n",
    "import matplotlib.pyplot as plt\n",
    "\n",
    "csfp = csf[csf.Condition.isin([\"Inflamed\", \"Uninflamed\"])].set_index(\n",
    "    \"Condition\", append=True)[[\"Count\", \"Ratio\"]].rename_axis(\n",
    "        \"Metric\", axis=1).stack().to_frame(\"Score\")\n",
    "fig = sb.catplot(csfp.reset_index(), x=\"Gene\", y=\"Score\", col=\"Metric\",\n",
    "                 margin_titles=True,\n",
    "                 row=\"Threshold\", hue=\"Condition\", kind=\"bar\",\n",
    "                 sharex=False, sharey=False)\n",
    "for a in fig.axes[:, 1]:\n",
    "    a.set_ylim([0, max(csfp.Ratio, 0.3)])\n",
    "fig.fig.tight_layout()"
   ]
  },
  {
   "cell_type": "code",
   "execution_count": null,
   "metadata": {},
   "outputs": [],
   "source": [
    "arg = dict(x=\"Gene\", y=\"Ratio\", hue=\"Condition\", hue_order=[\n",
    "    \"Inflamed\", \"Uninflamed\"], order=[\"CSF1\", \"CSF2\"])\n",
    "fig = sb.catplot(kind=\"bar\", errorbar=\"se\", row=\"Threshold\", data=csfp, **arg)\n",
    "pairs = [\n",
    "    ((\"CSF1\", \"Inflamed\"), (\"CSF2\", \"Inflamed\")),\n",
    "    ((\"CSF1\", \"Uninflamed\"), (\"CSF2\", \"Uninflamed\")),\n",
    "    ((\"CSF1\", \"Uninflamed\"), (\"CSF1\", \"Inflamed\")),\n",
    "    ((\"CSF2\", \"Uninflamed\"), (\"CSF2\", \"Inflamed\"))\n",
    "]\n",
    "\n",
    "ant = Annotator(None, pairs)\n",
    "fig.map_dataframe(ant.plot_and_annotate_facets, plot_params=arg,\n",
    "                  plot=\"boxplot\", annotation_func=\"apply_test\",\n",
    "                  configuration={\"test\": \"wilcox\"})\n",
    "plt.show()"
   ]
  },
  {
   "cell_type": "code",
   "execution_count": null,
   "metadata": {},
   "outputs": [],
   "source": [
    "arg = dict(x=\"Gene\", y=\"Ratio\", hue=\"Condition\", hue_order=[\n",
    "    \"Inflamed\", \"Uninflamed\"], order=[\"CSF1\", \"CSF2\"])\n",
    "fig = sb.catplot(kind=\"bar\", errorbar=\"se\", row=\"Threshold\", data=csfp, **arg)\n",
    "pairs = [\n",
    "    ((\"CSF1\", \"Inflamed\"), (\"CSF2\", \"Inflamed\")),\n",
    "    ((\"CSF1\", \"Uninflamed\"), (\"CSF2\", \"Uninflamed\"))\n",
    "]\n",
    "\n",
    "ant = Annotator(None, pairs)\n",
    "fig.map_dataframe(ant.plot_and_annotate_facets, plot_params=arg,\n",
    "                  plot=\"boxplot\", annotation_func=\"apply_test\",\n",
    "                  configuration={\"test\": \"wilcox\"})\n",
    "plt.show()"
   ]
  },
  {
   "cell_type": "code",
   "execution_count": null,
   "metadata": {},
   "outputs": [],
   "source": [
    "csfp = csf.reset_index()\n",
    "arg = dict(x=\"Gene\", y=\"Ratio\", hue=\"Condition\", hue_order=[\n",
    "    \"Inflamed\", \"Uninflamed\"], order=[\"CSF1\", \"CSF2\"])\n",
    "fig = sb.catplot(kind=\"bar\", errorbar=\"se\", row=\"Threshold\", data=csfp, **arg)\n",
    "# fig.map(sb.stripplot, arg[\"x\"], arg[\"y\"], arg[\"hue\"],\n",
    "#         hue_order=arg[\"hue_order\"], order=arg[\"order\"], dodge=True,\n",
    "#         palette=sb.color_palette(), alpha=0.6, linewidth=1)\n",
    "pairs = [\n",
    "    ((\"CSF1\", \"Inflamed\"), (\"CSF2\", \"Inflamed\")),\n",
    "    ((\"CSF1\", \"Uninflamed\"), (\"CSF2\", \"Uninflamed\")),\n",
    "    ((\"CSF1\", \"Uninflamed\"), (\"CSF1\", \"Inflamed\")),\n",
    "    ((\"CSF2\", \"Uninflamed\"), (\"CSF2\", \"Inflamed\"))\n",
    "]\n",
    "for t, ax in fig.axes_dict.items():\n",
    "        annot = Annotator(ax, pairs, **arg, data=csfp[csfp.Threshold == t])\n",
    "        annot.configure(test=\"Mann-Whitney\", text_format=\"simple\",\n",
    "                        loc=\"inside\", verbose=2)\n",
    "        annot.apply_test().annotate()"
   ]
  },
  {
   "cell_type": "code",
   "execution_count": null,
   "metadata": {},
   "outputs": [],
   "source": [
    "csfp = csf[csf.Condition.isin([\"Inflamed\", \"Uninflamed\"])].set_index(\n",
    "    \"Condition\", append=True)[[\"Count\", \"Ratio\"]].rename_axis(\n",
    "        \"Metric\", axis=1).stack().to_frame(\"Score\")\n",
    "fig = sb.catplot(csfp, x=\"Gene\", y=\"Score\", col=\"Metric\", margin_titles=True,\n",
    "                 row=\"Threshold\", kind=\"bar\", errorbar=\"se\",\n",
    "                 sharex=False, sharey=False)\n",
    "for a in fig.axes[:, 1]:\n",
    "    a.set_ylim([0, max([csf.Ratio.max(), 0.3])])\n",
    "fig.fig.tight_layout()"
   ]
  },
  {
   "cell_type": "markdown",
   "metadata": {},
   "source": [
    "## Aligned Images"
   ]
  },
  {
   "cell_type": "code",
   "execution_count": null,
   "metadata": {},
   "outputs": [],
   "source": [
    "landmarks = ShapesModel.parse(\n",
    "    np.array([[10556.699, 7829.764], [13959.155, 13522.025], [10621.200, 17392.116]]), geometry=0, radius=500\n",
    ")\n",
    "visium_sdata[\"visium_landmarks\"] = visium_landmarks\n",
    "\n",
    "xenium_landmarks = ShapesModel.parse(\n",
    "    np.array([[9438.385, 13933.017], [24847.866, 5948.002], [34082.584, 15234.235]]), geometry=0, radius=500\n",
    ")\n",
    "xenium_sdata[\"xenium_landmarks\"] = xenium_landmarks"
   ]
  },
  {
   "cell_type": "code",
   "execution_count": null,
   "metadata": {},
   "outputs": [],
   "source": [
    "import spatialdata_io as sdio\n",
    "from spatialdata.models import ShapesModel\n",
    "\n",
    "fai = os.path.join(\n",
    "    \"~/corescpy/examples/data/spatial\",\n",
    "    \"Stricture-50452C__P53Red_P16Green_DAPIBlue.ome.tif\")\n",
    "faa = os.path.join(\n",
    "    \"~/corescpy/examples/data/spatial\",\n",
    "    \"Stricture-50452C__P53Red_P16Green_DAPIBlue_matrix.csv\")\n",
    "\n",
    "img = sdio.xenium_aligned_image(fai, faa)"
   ]
  }
 ],
 "metadata": {
  "kernelspec": {
   "display_name": "py-bio",
   "language": "python",
   "name": "python3"
  },
  "language_info": {
   "codemirror_mode": {
    "name": "ipython",
    "version": 3
   },
   "file_extension": ".py",
   "mimetype": "text/x-python",
   "name": "python",
   "nbconvert_exporter": "python",
   "pygments_lexer": "ipython3",
   "version": "3.10.4"
  }
 },
 "nbformat": 4,
 "nbformat_minor": 2
}
