{
 "cells": [
  {
   "cell_type": "markdown",
   "metadata": {},
   "source": [
    "# Setup"
   ]
  },
  {
   "cell_type": "markdown",
   "metadata": {},
   "source": [
    "## Imports & Constants\n",
    "\n",
    "May need to change things here if, for instance, default directories for data storage or metadata export column names change."
   ]
  },
  {
   "cell_type": "code",
   "execution_count": 1,
   "metadata": {},
   "outputs": [
    {
     "data": {
      "text/html": [
       "<pre style=\"white-space:pre;overflow-x:auto;line-height:normal;font-family:Menlo,'DejaVu Sans Mono',consolas,'Courier New',monospace\"><span style=\"color: #808000; text-decoration-color: #808000; font-weight: bold\">ryp2 is not installed. Install with </span><span style=\"color: #008000; text-decoration-color: #008000; font-weight: bold\">pip install rpy2 </span><span style=\"color: #808000; text-decoration-color: #808000; font-weight: bold\">to run tools with R support.</span>\n",
       "</pre>\n"
      ],
      "text/plain": [
       "\u001b[1;33mryp2 is not installed. Install with \u001b[0m\u001b[1;32mpip install rpy2 \u001b[0m\u001b[1;33mto run tools with R support.\u001b[0m\n"
      ]
     },
     "metadata": {},
     "output_type": "display_data"
    },
    {
     "name": "stderr",
     "output_type": "stream",
     "text": [
      "Downloading data from `https://omnipathdb.org/queries/enzsub?format=json`\n",
      "Downloading data from `https://omnipathdb.org/queries/interactions?format=json`\n",
      "Downloading data from `https://omnipathdb.org/queries/complexes?format=json`\n",
      "Downloading data from `https://omnipathdb.org/queries/annotations?format=json`\n",
      "Downloading data from `https://omnipathdb.org/queries/intercell?format=json`\n",
      "Downloading data from `https://omnipathdb.org/about?format=text`\n"
     ]
    }
   ],
   "source": [
    "%load_ext autoreload\n",
    "%autoreload 2\n",
    "%matplotlib inline\n",
    "\n",
    "import os\n",
    "import re\n",
    "import functools\n",
    "import matplotlib.pyplot as plt\n",
    "import seaborn as sb\n",
    "import anndata\n",
    "import scanpy as sc\n",
    "import spatialdata\n",
    "import spatialdata_io as sdio\n",
    "import numpy as np\n",
    "import pandas as pd\n",
    "import corescpy as cr\n",
    "\n",
    "ddm = \"/mnt/cho_lab\" if os.path.exists(\"/mnt/cho_lab\") else \"/mnt\"  # Spark?\n",
    "ddl = f\"{ddm}/disk2/{os.getlogin()}/data/shared-xenium-library\" if (\n",
    "    \"cho\" in ddm) else os.path.join(ddu, \"shared-xenium-library\")\n",
    "file_mdf = os.path.join(ddl, \"samples.csv\")  # metadata\n",
    "path_marker_maps = os.path.join(\n",
    "    os.path.expanduser(\"~\"), \"corescpy/examples/markers_lineages.csv\")\n",
    "col_inflamed, col_stricture = \"Inflamed\", \"Stricture\"  # in metadata file\n",
    "key_uninfl, key_infl, key_stric = \"Uninflamed\", \"Inflamed\", \"Stricture\"\n",
    "col_sample_id_o = \"Sample ID\"  # in metadata file\n",
    "col_condition = \"Condition\"  # constructed from col_inflamed & col_stricture\n",
    "col_sample_id, col_condition, col_subject = \"Sample\", \"Condition\", \"Patient\""
   ]
  },
  {
   "cell_type": "markdown",
   "metadata": {},
   "source": [
    "## Options & Data\n",
    "\n",
    "You may make changes here because these are variable options, depending on what you want to analyze."
   ]
  },
  {
   "cell_type": "code",
   "execution_count": 4,
   "metadata": {},
   "outputs": [],
   "source": [
    "# Settings/Options\n",
    "sc.settings.set_figure_params(dpi_save=200, dpi=200)\n",
    "panel = \"TUQ97N\"\n",
    "out_dir = str(ddl, f\"outputs/{panel}/nebraska\")\n",
    "samps = [\"Uninflamed-50006B\", \"Inflamed-50006A\", \"Stricture-50006C\",\n",
    "         \"Uninflamed-50217B\", \"Inflamed-50217A\", \"Stricture-50217C\",\n",
    "         \"Uninflamed-50336C\", \"Inflamed-50336B\", \"Stricture-50336A\",\n",
    "         \"Uninflamed-50452A\", \"Inflamed-50452B\", \"Stricture-50452C\"]\n",
    "col_cell_type = \"bucket_res1pt5_dist0_npc30\"\n",
    "hue_order = [\"Uninflamed\", \"Inflamed\", \"Stricture\"]\n",
    "palette = [\"blue\", \"red\", \"yellow\"]\n",
    "layer = \"counts\"\n",
    "threshold = 0\n",
    "\n",
    "# Quantification Files/Options\n",
    "c_m = \"bucket\"\n",
    "c_ann = [\"bucket\", \"bin\", \"annotation\"]\n",
    "directory = \"/home/elizabeth/elizabeth/projects/senescence/analysis\"\n",
    "label = \"snc\" if \"senescence\" in directory else \"csf\"\n",
    "fff_tx = os.path.join(directory, f\"quantification_{label}_tx_cts\")\n",
    "fff_ct = os.path.join(directory, f\"quantification_ncells_{label}\")\n",
    "\n",
    "# Gene Categories\n",
    "assign = pd.read_csv(path_marker_maps).set_index(\"gene\").rename_axis(\"Gene\")\n",
    "snc_genes = {\n",
    "    \"Cell Cycle Control\": [\"CDKN2A\", \"CDKN1A\", \"PLAUR\", \"TP53\"],\n",
    "    \"SASP\": [\"IL6\", \"IL6ST\", \"IL1A\", \"CXCL8\", \"CCL2\", \"CEBPB\",\n",
    "             \"NFKB1\", \"IGFBP7\", \"TGFB1\"],\n",
    "    # \"DNA Repair\": [\"ERCC1\", \"ERCC4\"],\n",
    "    \"Fibrosis\": [\"PLAUR\", \"IL1\", \"IL4\", \"IL6\", \"IL11\", \"IL12\", \"IL13\", \"IL17\",\n",
    "                 \"IL22\", \"IL23\", \"IL33\", \"IL34\", \"IL36\", \"TL1A\", \"TGFβ\",\n",
    "                 \"CXCR4\", \"CCL8\", \"CCL11\", \"CHMP1A\", \"TBX3\",\n",
    "                 \"RNF168\", \"SUCNR1\"]}\n",
    "\n",
    "# Data\n",
    "adatas = {}\n",
    "for s in samps:\n",
    "    adatas[s] = sc.read(os.path.join(out_dir, s + \".h5ad\"))\n",
    "\n",
    "# Constructed Variables\n",
    "marker_genes_dict = dict(assign[\"Bucket\"].reset_index().groupby(\n",
    "    \"Bucket\").apply(lambda x: list(pd.unique(list(set(\n",
    "        x.Gene).intersection(adatas[s].var_names))))))  # cell type markers\n",
    "snc_genes_dict = dict(pd.Series(snc_genes).apply(\n",
    "    lambda x: list(set(x).intersection(adatas[s].var_names))))\n",
    "hue = dict(hue=col_condition, hue_order=hue_order, palette=palette)\n",
    "c_l = \"leiden_\" + \"_\".join(col_cell_type.split(\"_\")[1:])  # Leiden version\n",
    "\n",
    "# Annotations\n",
    "fmrs = {}\n",
    "for x in samps:\n",
    "    fann = os.path.join(out_dir, \"annotation_dictionaries\", str(\n",
    "        f\"{x}___{c_l}_dictionary.xlsx\"))\n",
    "    if os.path.exists(fann):\n",
    "        fmr = pd.read_excel(fann).astype(str).replace(\"nan\", np.nan)\n",
    "        fmrs[x] = fmr.set_index(fmr.columns[0]).rename_axis(c_l)\n",
    "fmrs = pd.concat(fmrs, names=[\"Sample\", c_l])"
   ]
  },
  {
   "cell_type": "markdown",
   "metadata": {},
   "source": [
    "## Samples"
   ]
  },
  {
   "cell_type": "code",
   "execution_count": 15,
   "metadata": {},
   "outputs": [
    {
     "name": "stdout",
     "output_type": "stream",
     "text": [
      "Condition\n",
      "Uninflamed    4\n",
      "Inflamed      4\n",
      "Stricture     4\n",
      "Name: count, dtype: int64\n"
     ]
    }
   ],
   "source": [
    "# Load Metadata\n",
    "m_d = (pd.read_excel if file_mdf[-4:] == \"xlsx\" else pd.read_csv)(\n",
    "    file_mdf, dtype={\"Slide ID\": str}).rename({\n",
    "        \"Name\": col_subject, \"Inflammation\": col_inflamed}, axis=1)\n",
    "m_d.loc[:, col_condition] = m_d.apply(lambda x: \"Stricture\" if x[\n",
    "    col_stricture].lower() in [\"stricture\", \"yes\"] else x[\n",
    "        col_inflamed].capitalize(), axis=1)  # inflamation/stricture condition\n",
    "m_d.loc[:, col_sample_id] = m_d[[col_condition, col_sample_id_o]].apply(\n",
    "    \"-\".join, axis=1)\n",
    "m_d = m_d.set_index(col_sample_id).loc[samps]\n",
    "print(m_d[[col_subject, col_condition]].reset_index(0)[\n",
    "    col_condition].value_counts())\n",
    "m_d.reset_index().set_index([col_subject, col_condition]).sort_index()[\n",
    "    [\"Age\", \"Sex\", \"Race\", \"Hispanic\", \"Diagnosis\", \"Disease_Status\"]]\n",
    "\n",
    "# Add Metadata & Annotations to AnnData Objects & Concatenate\n",
    "for s in adatas:\n",
    "    adatas[s].obs.loc[:, col_condition] = m_d.loc[s][col_condition]\n",
    "    adatas[s].obs.loc[:, col_subject] = m_d.loc[s][col_subject]\n",
    "    adatas[s].obs.loc[:, col_cell_type] = adatas[s].obs[c_l].astype(\n",
    "        str).replace(dict(fmrs.loc[s][c_m]))  # annotations\n",
    "adata = anndata.AnnData.concatenate(\n",
    "    *[adatas[x] for x in adatas], join=\"outer\", batch_key=col_sample_id,\n",
    "    batch_categories=list(adatas.keys()), index_unique=\"-\", fill_value=None,\n",
    "    uns_merge=\"same\")  # concatenate adata"
   ]
  },
  {
   "cell_type": "markdown",
   "metadata": {},
   "source": [
    "# UMAPs"
   ]
  },
  {
   "cell_type": "code",
   "execution_count": null,
   "metadata": {},
   "outputs": [],
   "source": [
    "fig, axes = plt.subplots(len(m_d[col_subject].unique()),\n",
    "                         len(m_d[col_condition].unique()),\n",
    "                         dpi=200, figsize=(60, 60))\n",
    "for r, s in enumerate(m_d[col_subject].unique()):\n",
    "    for c, g in enumerate(m_d[col_condition].unique()):\n",
    "        lib = m_d.reset_index().set_index([col_subject, col_condition]).loc[\n",
    "            s].loc[g][col_sample_id]\n",
    "        sc.pl.umap(adatas[lib], color=col_cell_type, title=\"\",\n",
    "                   frameon=False, show=False, ax=axes[r, c],\n",
    "                   legend_loc=\"on data\")\n",
    "        axes.flatten()[i].set_title(x)\n",
    "        axes[r, c].set_title(f\"{lib} (Age {m_d['Age'].loc[lib]})\")"
   ]
  },
  {
   "cell_type": "markdown",
   "metadata": {},
   "source": [
    "# Spatial Plots"
   ]
  },
  {
   "cell_type": "code",
   "execution_count": null,
   "metadata": {},
   "outputs": [],
   "source": [
    "for s in selves:\n",
    "    m_d = metadata.loc[s._library_id]\n",
    "    fig = s.plot_spatial(color=\"bucket_res1pt5_dist0_npc30\")\n",
    "    fig.set_title(f\"{s._library_id} (Age {m_d['Age']})\")\n",
    "    fig.fig.set_dpi(200)"
   ]
  },
  {
   "cell_type": "markdown",
   "metadata": {},
   "source": [
    "# Quantifications"
   ]
  },
  {
   "cell_type": "markdown",
   "metadata": {},
   "source": [
    "## Native Plotting"
   ]
  },
  {
   "cell_type": "markdown",
   "metadata": {},
   "source": [
    "### Facet=Cell Type; Rows=Condition"
   ]
  },
  {
   "cell_type": "code",
   "execution_count": null,
   "metadata": {},
   "outputs": [],
   "source": [
    "for j, k in enumerate([\"var\", \"group\"]):\n",
    "    fig, axes = plt.subplots(*cr.pl.square_grid(len(in_all_cond)),\n",
    "                             figsize=(40, 20))\n",
    "    for i, x in enumerate(in_all_cond):\n",
    "        sc.pl.dotplot(\n",
    "            adata[adata.obs[col_cell_type] == x], snc_genes_dict, layer=layer,\n",
    "            groupby=col_condition, title=x, ax=axes.flatten()[i],\n",
    "            use_raw=False, show=False, expression_cutoff=threshold,\n",
    "            figsize=(40, 20), standard_scale=k)\n",
    "        # d_p.add_totals().style(dot_edge_color=\"black\", dot_edge_lw=0.5).show()\n",
    "        # axes.flatten()[i].set_title(x)\n",
    "    fig.suptitle(f\"GEX (Normalized by {['Gene', 'Condition'][j]})\")\n",
    "    plt.subplots_adjust(hspace=1, wspace=1, top=0.85)\n",
    "    fig.show()"
   ]
  },
  {
   "cell_type": "markdown",
   "metadata": {},
   "source": [
    "### Facet=Condition; Rows=Cell Type"
   ]
  },
  {
   "cell_type": "code",
   "execution_count": null,
   "metadata": {},
   "outputs": [],
   "source": [
    "for j, k in enumerate([\"var\", \"group\"]):\n",
    "    fig, axes = plt.subplots(*cr.pl.square_grid(\n",
    "        len(adata.obs[col_condition].unique())), figsize=(40, 20))\n",
    "    for i, x in enumerate(adata.obs[col_condition].unique()):\n",
    "        sc.pl.dotplot(\n",
    "            adata[adata.obs[col_condition] == x], snc_genes_dict, layer=layer,\n",
    "            groupby=col_cell_type, ax=axes.flatten()[i],\n",
    "            use_raw=False, show=False, expression_cutoff=threshold,\n",
    "            # title=x,\n",
    "            figsize=(40, 20), standard_scale=k)\n",
    "        # d_p.add_totals().style(dot_edge_color=\"black\", dot_edge_lw=0.5).show()\n",
    "        axes.flatten()[i].set_title(x)\n",
    "    fig.suptitle(f\"GEX (Normalized by {['Gene', 'Cluster'][j]})\")\n",
    "    plt.subplots_adjust(hspace=1, wspace=0.5, top=0.85)\n",
    "    fig.show()"
   ]
  },
  {
   "cell_type": "markdown",
   "metadata": {},
   "source": [
    "### By Sample"
   ]
  },
  {
   "cell_type": "code",
   "execution_count": null,
   "metadata": {},
   "outputs": [],
   "source": [
    "for j, k in enumerate([\"var\", \"group\"]):\n",
    "    fig, axes = plt.subplots(len(m_d[col_subject].unique()),\n",
    "                             len(m_d[col_condition].unique()),\n",
    "                             dpi=200, figsize=(60, 60))\n",
    "    for r, s in enumerate(m_d[col_subject].unique()):\n",
    "        for c, g in enumerate(m_d[col_condition].unique()):\n",
    "            lib = m_d.reset_index().set_index([\n",
    "                col_subject, col_condition]).loc[s].loc[g][col_sample_id]\n",
    "            sc.pl.dotplot(\n",
    "                adatas[lib], snc_genes_dict, layer=layer,\n",
    "                groupby=col_cell_type, ax=axes[r, c],\n",
    "                use_raw=False, show=False, expression_cutoff=threshold,\n",
    "                figsize=(40, 20), standard_scale=k)\n",
    "            axes[r, c].set_title(f\"{lib} (Age {m_d['Age'].loc[lib]})\")\n",
    "    fig.suptitle(f\"GEX (Normalized by {['Gene', 'Cluster'][j]})\")\n",
    "    plt.subplots_adjust(hspace=1, wspace=0.5, top=0.85)\n",
    "    fig.show()"
   ]
  },
  {
   "cell_type": "markdown",
   "metadata": {},
   "source": [
    "### Transcripts"
   ]
  },
  {
   "cell_type": "code",
   "execution_count": null,
   "metadata": {},
   "outputs": [],
   "source": [
    "layer = \"counts\"\n",
    "threshold = 0\n",
    "\n",
    "in_all_cond = [i for i in adata.obs[col_cell_type].unique() if all(\n",
    "    (any(adata[adata.obs[col_cell_type] == i].obs[col_condition] == x)\n",
    "     for x in hue_order))]  # clusters present in all condition-samples\n",
    "percs_txs = {}\n",
    "for c in snc_genes:\n",
    "    stx = {}\n",
    "    for g in snc_genes[c]:\n",
    "        stx[g] = pd.concat([pd.Series([100 * np.sum(adatas[a][adatas[a].obs[\n",
    "            col_cell_type] == x][:, g].X) / adatas[a][adatas[a].obs[\n",
    "                col_cell_type] == x].obs.shape[0] for x in in_all_cond],\n",
    "                                      index=all_cond) for a in adatas],\n",
    "                           keys=adatas.keys(), names=[\"Sample\"])\n",
    "    percs_txs[c] = pd.concat(stx, names=[\"Gene\"])\n",
    "percs_txs = pd.concat(percs_txs, names=[\"Category\"])"
   ]
  },
  {
   "cell_type": "markdown",
   "metadata": {},
   "source": [
    "## Saved Quantifications"
   ]
  },
  {
   "cell_type": "markdown",
   "metadata": {},
   "source": [
    "### Load"
   ]
  },
  {
   "cell_type": "code",
   "execution_count": null,
   "metadata": {},
   "outputs": [],
   "source": [
    "# Transcript Ratios\n",
    "txs = pd.read_csv(f\"{fff_tx}.csv\")\n",
    "tx_cl = pd.read_csv(fff_tx + \"_by_cluster.csv\", index_col=np.arange(\n",
    "    len(txs.index.names))).reset_index().astype(\n",
    "        {c_l: str}).set_index(tx_cl.index.names)\n",
    "tx_cl = tx_cl.reset_index().astype({c_l: str}).set_index(\n",
    "    tx_cl.index.names).drop(set(c_ann).intersection(\n",
    "        tx_cl.columns), axis=1).join(fmrs[c_ann], on=[\"Sample\", c_l])\n",
    "tx_cl = tx_cl.reset_index().drop_duplicates().astype(\n",
    "    {c_l: int}).set_index(tx_cl.index.names).sort_index().reset_index(\n",
    "        ).astype({c_l: \"string\"}).set_index(tx_cl.index.names)\n",
    "\n",
    "# Gene+ Cell Ratios\n",
    "cts = pd.read_csv(fff_ct + \".csv\", index_col=0)\n",
    "cts_cl = pd.read_csv(fff_ct + \"_by_cluster.csv\", header=[0, 1],\n",
    "                     index_col=[0, 1, 2])\n",
    "cts_cl_s = pd.concat([fmrs[c_ann].reset_index().astype(\"string\").set_index(\n",
    "    fmrs.index.names)], axis=1, keys=[\"Annotation\"])\n",
    "cts_cl_s = cts_cl_s.reset_index().drop_duplicates().astype(str).set_index(\n",
    "    cts_cl_s.index.names)\n",
    "cts_cl = cts_cl[cts_cl.columns.difference(cts_cl_s.columns)].reset_index(\n",
    "    ).drop_duplicates().astype(str).set_index(\n",
    "        cts_cl.index.names).join(cts_cl_s)"
   ]
  },
  {
   "cell_type": "markdown",
   "metadata": {},
   "source": [
    "### Plot"
   ]
  },
  {
   "cell_type": "markdown",
   "metadata": {},
   "source": [
    "#### Transcripts"
   ]
  },
  {
   "cell_type": "code",
   "execution_count": null,
   "metadata": {},
   "outputs": [],
   "source": [
    "y_label = \"Gene Transcript Counts: Percent of Total Counts\"\n",
    "dff = tx_cl.set_index(c_ann, append=True).apply(lambda x: tx_cl[\n",
    "    x.name] / tx_cl[\"total_counts\"]).drop(\n",
    "        \"total_counts\", axis=1).rename_axis(\"Gene\", axis=1).stack()\n",
    "dff = dff * 100\n",
    "dff = dff.to_frame(y_label).join(\n",
    "    metadata_o[[col_sample_id, col_subject, col_condition]].set_index(\n",
    "        col_sample_id), how=\"left\").join(fmrs[c_ann]).reset_index(\n",
    "            ).drop_duplicates()\n",
    "if dff[y_label].max() > 1:\n",
    "    raise ValueError(f\"Percentages > 1: {dff[dff[y_label] > 1]}\")\n",
    "for x in [None, col_subject]:  # aggregate across subjects, or facet\n",
    "    fig = sb.catplot(dff.dropna(subset=[c_m]), x=c_m, y=y_label,\n",
    "                     kind=\"box\" if x is None else \"bar\",\n",
    "                     sharex=False, sharey=False, row=x, col=\"Gene\",\n",
    "                     margin_titles=True, **hue)\n",
    "    fig.set_xticklabels(rotation=90)\n",
    "    fig.set_titles(col_template=\"{col_name}\", row_template=\"{row_name}\")\n",
    "    fig.fig.set_size_inches(60, 25)\n",
    "    plt.subplots_adjust(hspace=0.8)\n",
    "    fig.fig.tight_layout()\n",
    "    plt.show()"
   ]
  },
  {
   "cell_type": "markdown",
   "metadata": {},
   "source": [
    "#### Cells"
   ]
  },
  {
   "cell_type": "code",
   "execution_count": null,
   "metadata": {},
   "outputs": [],
   "source": [
    "vvr = cts_cl.copy()[\"Percent\"].rename_axis(\"Label\", axis=1).dropna(\n",
    "    how=\"all\").stack().to_frame(\"Percent\").astype(float).join(fmrs[[c_m]])\n",
    "vvr = vvr.join(vvr.groupby(\"Sample\").apply(lambda x: x.name.split(\"-\")[\n",
    "    0]).to_frame(col_condition)).reset_index().drop_duplicates()\n",
    "vvr = vvr[vvr.apply(lambda x: \"|\" not in x[c_m], axis=1)]  # no mixes\n",
    "for x in vvr.Threshold.unique():\n",
    "    fig = sb.catplot(vvr[vvr.Threshold == x], x=c_m, y=\"Percent\",\n",
    "                     sharey=False, kind=\"box\", margin_titles=True,\n",
    "                     col=\"Label\", col_wrap=2, sharex=False, **hue)\n",
    "    fig.set_titles(col_template=\"{col_name}\", row_template=\"{row_name}\")\n",
    "    fig.set_xticklabels(rotation=90)\n",
    "    fig.fig.set_size_inches(35, 25)\n",
    "    fig.fig.suptitle(f\"Threshold = {x}\")\n",
    "    fig.fig.set_dpi(100)\n",
    "    fig.fig.tight_layout()"
   ]
  },
  {
   "cell_type": "markdown",
   "metadata": {},
   "source": [
    "# More Analysis"
   ]
  },
  {
   "cell_type": "code",
   "execution_count": null,
   "metadata": {},
   "outputs": [],
   "source": [
    "for s in selves:\n",
    "    s.run_composition_analysis(col_condition=col_condition)"
   ]
  }
 ],
 "metadata": {
  "kernelspec": {
   "display_name": "bio",
   "language": "python",
   "name": "python3"
  },
  "language_info": {
   "codemirror_mode": {
    "name": "ipython",
    "version": 3
   },
   "file_extension": ".py",
   "mimetype": "text/x-python",
   "name": "python",
   "nbconvert_exporter": "python",
   "pygments_lexer": "ipython3",
   "version": "3.10.4"
  }
 },
 "nbformat": 4,
 "nbformat_minor": 2
}
