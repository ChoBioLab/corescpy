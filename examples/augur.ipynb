{
 "cells": [
  {
   "cell_type": "markdown",
   "metadata": {},
   "source": [
    "# Data\n",
    "\n",
    "## Set Options"
   ]
  },
  {
   "cell_type": "code",
   "execution_count": 1,
   "metadata": {},
   "outputs": [],
   "source": [
    "import pertpy\n",
    "import crispr as cr \n",
    "\n",
    "# regress_out = ['total_counts', 'pct_counts_mt']\n",
    "n_threads = 12\n",
    "regress_out = None\n",
    "process_kws = dict(hvg_kws = dict(min_mean=0.0125, max_mean=3, min_disp=0.5),\n",
    "                   target_sum = 1e4, max_genes_by_counts = 2500, \n",
    "                   max_pct_mt = 5, min_genes = 200, min_cells = 3, scale = 10,\n",
    "                   regress_out = regress_out)"
   ]
  },
  {
   "cell_type": "markdown",
   "metadata": {},
   "source": [
    "## Load & Pre-Process"
   ]
  },
  {
   "cell_type": "code",
   "execution_count": 2,
   "metadata": {},
   "outputs": [
    {
     "name": "stdout",
     "output_type": "stream",
     "text": [
      "\n",
      "<<< NORMALIZING >>>\n",
      "\n",
      "<<< FILTERING >>>\n",
      "\n",
      "<<< DETECTING VARIABLE GENES >>>\n",
      "\n",
      "<<< SCALING >>>\n",
      "\n",
      "\n",
      "\n",
      "AnnData object with n_obs × n_vars = 11180 × 594\n",
      "    obs: 'orig.ident', 'nCount_RNA', 'nFeature_RNA', 'nGene', 'nUMI', 'percent.mito', 'replicate', 'Period', 'label', 'cell_type', 'subtype', 'n_genes', 'n_genes_by_counts', 'total_counts', 'total_counts_mt', 'pct_counts_mt'\n",
      "    var: 'name', 'highly_variable', 'means', 'dispersions', 'dispersions_norm', 'n_cells', 'mt', 'n_cells_by_counts', 'mean_counts', 'pct_dropout_by_counts', 'total_counts', 'mean', 'std'\n",
      "    uns: 'log1p', 'hvg'\n"
     ]
    },
    {
     "data": {
      "text/html": [
       "<div>\n",
       "<style scoped>\n",
       "    .dataframe tbody tr th:only-of-type {\n",
       "        vertical-align: middle;\n",
       "    }\n",
       "\n",
       "    .dataframe tbody tr th {\n",
       "        vertical-align: top;\n",
       "    }\n",
       "\n",
       "    .dataframe thead th {\n",
       "        text-align: right;\n",
       "    }\n",
       "</style>\n",
       "<table border=\"1\" class=\"dataframe\">\n",
       "  <thead>\n",
       "    <tr style=\"text-align: right;\">\n",
       "      <th></th>\n",
       "      <th>orig.ident</th>\n",
       "      <th>nCount_RNA</th>\n",
       "      <th>nFeature_RNA</th>\n",
       "      <th>nGene</th>\n",
       "      <th>nUMI</th>\n",
       "      <th>percent.mito</th>\n",
       "      <th>replicate</th>\n",
       "      <th>Period</th>\n",
       "      <th>label</th>\n",
       "      <th>cell_type</th>\n",
       "      <th>subtype</th>\n",
       "      <th>n_genes</th>\n",
       "      <th>n_genes_by_counts</th>\n",
       "      <th>total_counts</th>\n",
       "      <th>total_counts_mt</th>\n",
       "      <th>pct_counts_mt</th>\n",
       "    </tr>\n",
       "    <tr>\n",
       "      <th>index</th>\n",
       "      <th></th>\n",
       "      <th></th>\n",
       "      <th></th>\n",
       "      <th></th>\n",
       "      <th></th>\n",
       "      <th></th>\n",
       "      <th></th>\n",
       "      <th></th>\n",
       "      <th></th>\n",
       "      <th></th>\n",
       "      <th></th>\n",
       "      <th></th>\n",
       "      <th></th>\n",
       "      <th></th>\n",
       "      <th></th>\n",
       "      <th></th>\n",
       "    </tr>\n",
       "  </thead>\n",
       "  <tbody>\n",
       "    <tr>\n",
       "      <th>PFCSample9_AGCTCCTAGTGAACAT</th>\n",
       "      <td>PFCSample9</td>\n",
       "      <td>6186.0</td>\n",
       "      <td>2718</td>\n",
       "      <td>2805</td>\n",
       "      <td>6758</td>\n",
       "      <td>0.019236</td>\n",
       "      <td>PFCSample9</td>\n",
       "      <td>withdraw_15d</td>\n",
       "      <td>withdraw_15d_Cocaine</td>\n",
       "      <td>Astro</td>\n",
       "      <td>Inhib_4</td>\n",
       "      <td>409</td>\n",
       "      <td>409</td>\n",
       "      <td>530.437378</td>\n",
       "      <td>0.0</td>\n",
       "      <td>0.0</td>\n",
       "    </tr>\n",
       "    <tr>\n",
       "      <th>PFCSample1_CCGTTCACAATGACCT</th>\n",
       "      <td>PFCSample1</td>\n",
       "      <td>2346.0</td>\n",
       "      <td>1080</td>\n",
       "      <td>1154</td>\n",
       "      <td>2621</td>\n",
       "      <td>0.046166</td>\n",
       "      <td>PFCSample1</td>\n",
       "      <td>Maintenance</td>\n",
       "      <td>Maintenance_Cocaine</td>\n",
       "      <td>Astro</td>\n",
       "      <td>Astro_7</td>\n",
       "      <td>278</td>\n",
       "      <td>278</td>\n",
       "      <td>546.899658</td>\n",
       "      <td>0.0</td>\n",
       "      <td>0.0</td>\n",
       "    </tr>\n",
       "    <tr>\n",
       "      <th>PFCSample1_CCTACCAAGACGCAAC</th>\n",
       "      <td>PFCSample1</td>\n",
       "      <td>3337.0</td>\n",
       "      <td>1401</td>\n",
       "      <td>1476</td>\n",
       "      <td>3648</td>\n",
       "      <td>0.026042</td>\n",
       "      <td>PFCSample1</td>\n",
       "      <td>Maintenance</td>\n",
       "      <td>Maintenance_Cocaine</td>\n",
       "      <td>Astro</td>\n",
       "      <td>Astro_7</td>\n",
       "      <td>323</td>\n",
       "      <td>323</td>\n",
       "      <td>582.011536</td>\n",
       "      <td>0.0</td>\n",
       "      <td>0.0</td>\n",
       "    </tr>\n",
       "    <tr>\n",
       "      <th>PFCSample1_TCAGGTAGTAGTACCT</th>\n",
       "      <td>PFCSample1</td>\n",
       "      <td>2621.0</td>\n",
       "      <td>1126</td>\n",
       "      <td>1202</td>\n",
       "      <td>2848</td>\n",
       "      <td>0.029143</td>\n",
       "      <td>PFCSample1</td>\n",
       "      <td>Maintenance</td>\n",
       "      <td>Maintenance_Cocaine</td>\n",
       "      <td>Astro</td>\n",
       "      <td>Astro_7</td>\n",
       "      <td>290</td>\n",
       "      <td>290</td>\n",
       "      <td>556.032227</td>\n",
       "      <td>0.0</td>\n",
       "      <td>0.0</td>\n",
       "    </tr>\n",
       "    <tr>\n",
       "      <th>PFCSample4_AAATGCCAGCAGCCTC</th>\n",
       "      <td>PFCSample4</td>\n",
       "      <td>2369.0</td>\n",
       "      <td>1002</td>\n",
       "      <td>1064</td>\n",
       "      <td>2583</td>\n",
       "      <td>0.044135</td>\n",
       "      <td>PFCSample4</td>\n",
       "      <td>Maintenance</td>\n",
       "      <td>Maintenance_Cocaine</td>\n",
       "      <td>Astro</td>\n",
       "      <td>Astro_7</td>\n",
       "      <td>239</td>\n",
       "      <td>239</td>\n",
       "      <td>486.209473</td>\n",
       "      <td>0.0</td>\n",
       "      <td>0.0</td>\n",
       "    </tr>\n",
       "    <tr>\n",
       "      <th>...</th>\n",
       "      <td>...</td>\n",
       "      <td>...</td>\n",
       "      <td>...</td>\n",
       "      <td>...</td>\n",
       "      <td>...</td>\n",
       "      <td>...</td>\n",
       "      <td>...</td>\n",
       "      <td>...</td>\n",
       "      <td>...</td>\n",
       "      <td>...</td>\n",
       "      <td>...</td>\n",
       "      <td>...</td>\n",
       "      <td>...</td>\n",
       "      <td>...</td>\n",
       "      <td>...</td>\n",
       "      <td>...</td>\n",
       "    </tr>\n",
       "    <tr>\n",
       "      <th>PFCSample8_ATGCGATCAATGGAGC</th>\n",
       "      <td>PFCSample8</td>\n",
       "      <td>5872.0</td>\n",
       "      <td>1736</td>\n",
       "      <td>1835</td>\n",
       "      <td>7950</td>\n",
       "      <td>0.019119</td>\n",
       "      <td>PFCSample8</td>\n",
       "      <td>withdraw_48h</td>\n",
       "      <td>withdraw_48h_Cocaine</td>\n",
       "      <td>Microglia</td>\n",
       "      <td>Microglia_1</td>\n",
       "      <td>416</td>\n",
       "      <td>416</td>\n",
       "      <td>651.145203</td>\n",
       "      <td>0.0</td>\n",
       "      <td>0.0</td>\n",
       "    </tr>\n",
       "    <tr>\n",
       "      <th>PFCSample8_CTCGGAGTCAGTTGAC</th>\n",
       "      <td>PFCSample8</td>\n",
       "      <td>4170.0</td>\n",
       "      <td>1677</td>\n",
       "      <td>1773</td>\n",
       "      <td>5900</td>\n",
       "      <td>0.031356</td>\n",
       "      <td>PFCSample8</td>\n",
       "      <td>withdraw_48h</td>\n",
       "      <td>withdraw_48h_Cocaine</td>\n",
       "      <td>Microglia</td>\n",
       "      <td>Microglia_1</td>\n",
       "      <td>412</td>\n",
       "      <td>412</td>\n",
       "      <td>710.829590</td>\n",
       "      <td>0.0</td>\n",
       "      <td>0.0</td>\n",
       "    </tr>\n",
       "    <tr>\n",
       "      <th>PFCSample8_GCAATCACAAGGACTG</th>\n",
       "      <td>PFCSample8</td>\n",
       "      <td>2754.0</td>\n",
       "      <td>1280</td>\n",
       "      <td>1369</td>\n",
       "      <td>3788</td>\n",
       "      <td>0.034055</td>\n",
       "      <td>PFCSample8</td>\n",
       "      <td>withdraw_48h</td>\n",
       "      <td>withdraw_48h_Cocaine</td>\n",
       "      <td>Microglia</td>\n",
       "      <td>Microglia_1</td>\n",
       "      <td>318</td>\n",
       "      <td>318</td>\n",
       "      <td>656.778076</td>\n",
       "      <td>0.0</td>\n",
       "      <td>0.0</td>\n",
       "    </tr>\n",
       "    <tr>\n",
       "      <th>PFCSample8_GGACAAGGTCGAGTTT</th>\n",
       "      <td>PFCSample8</td>\n",
       "      <td>2895.0</td>\n",
       "      <td>1215</td>\n",
       "      <td>1303</td>\n",
       "      <td>3518</td>\n",
       "      <td>0.022172</td>\n",
       "      <td>PFCSample8</td>\n",
       "      <td>withdraw_48h</td>\n",
       "      <td>withdraw_48h_Cocaine</td>\n",
       "      <td>Microglia</td>\n",
       "      <td>Microglia_1</td>\n",
       "      <td>355</td>\n",
       "      <td>355</td>\n",
       "      <td>697.052734</td>\n",
       "      <td>0.0</td>\n",
       "      <td>0.0</td>\n",
       "    </tr>\n",
       "    <tr>\n",
       "      <th>PFCSample10_CCATGTCGTAGATTAG</th>\n",
       "      <td>PFCSample10</td>\n",
       "      <td>2297.0</td>\n",
       "      <td>920</td>\n",
       "      <td>1008</td>\n",
       "      <td>3732</td>\n",
       "      <td>0.021168</td>\n",
       "      <td>PFCSample10</td>\n",
       "      <td>withdraw_15d</td>\n",
       "      <td>withdraw_15d_Cocaine</td>\n",
       "      <td>Microglia</td>\n",
       "      <td>Microglia_1</td>\n",
       "      <td>256</td>\n",
       "      <td>256</td>\n",
       "      <td>552.958862</td>\n",
       "      <td>0.0</td>\n",
       "      <td>0.0</td>\n",
       "    </tr>\n",
       "  </tbody>\n",
       "</table>\n",
       "<p>11180 rows × 16 columns</p>\n",
       "</div>"
      ],
      "text/plain": [
       "                               orig.ident  nCount_RNA  nFeature_RNA  nGene  \\\n",
       "index                                                                        \n",
       "PFCSample9_AGCTCCTAGTGAACAT    PFCSample9      6186.0          2718   2805   \n",
       "PFCSample1_CCGTTCACAATGACCT    PFCSample1      2346.0          1080   1154   \n",
       "PFCSample1_CCTACCAAGACGCAAC    PFCSample1      3337.0          1401   1476   \n",
       "PFCSample1_TCAGGTAGTAGTACCT    PFCSample1      2621.0          1126   1202   \n",
       "PFCSample4_AAATGCCAGCAGCCTC    PFCSample4      2369.0          1002   1064   \n",
       "...                                   ...         ...           ...    ...   \n",
       "PFCSample8_ATGCGATCAATGGAGC    PFCSample8      5872.0          1736   1835   \n",
       "PFCSample8_CTCGGAGTCAGTTGAC    PFCSample8      4170.0          1677   1773   \n",
       "PFCSample8_GCAATCACAAGGACTG    PFCSample8      2754.0          1280   1369   \n",
       "PFCSample8_GGACAAGGTCGAGTTT    PFCSample8      2895.0          1215   1303   \n",
       "PFCSample10_CCATGTCGTAGATTAG  PFCSample10      2297.0           920   1008   \n",
       "\n",
       "                              nUMI  percent.mito    replicate        Period  \\\n",
       "index                                                                         \n",
       "PFCSample9_AGCTCCTAGTGAACAT   6758      0.019236   PFCSample9  withdraw_15d   \n",
       "PFCSample1_CCGTTCACAATGACCT   2621      0.046166   PFCSample1   Maintenance   \n",
       "PFCSample1_CCTACCAAGACGCAAC   3648      0.026042   PFCSample1   Maintenance   \n",
       "PFCSample1_TCAGGTAGTAGTACCT   2848      0.029143   PFCSample1   Maintenance   \n",
       "PFCSample4_AAATGCCAGCAGCCTC   2583      0.044135   PFCSample4   Maintenance   \n",
       "...                            ...           ...          ...           ...   \n",
       "PFCSample8_ATGCGATCAATGGAGC   7950      0.019119   PFCSample8  withdraw_48h   \n",
       "PFCSample8_CTCGGAGTCAGTTGAC   5900      0.031356   PFCSample8  withdraw_48h   \n",
       "PFCSample8_GCAATCACAAGGACTG   3788      0.034055   PFCSample8  withdraw_48h   \n",
       "PFCSample8_GGACAAGGTCGAGTTT   3518      0.022172   PFCSample8  withdraw_48h   \n",
       "PFCSample10_CCATGTCGTAGATTAG  3732      0.021168  PFCSample10  withdraw_15d   \n",
       "\n",
       "                                             label  cell_type      subtype  \\\n",
       "index                                                                        \n",
       "PFCSample9_AGCTCCTAGTGAACAT   withdraw_15d_Cocaine      Astro      Inhib_4   \n",
       "PFCSample1_CCGTTCACAATGACCT    Maintenance_Cocaine      Astro      Astro_7   \n",
       "PFCSample1_CCTACCAAGACGCAAC    Maintenance_Cocaine      Astro      Astro_7   \n",
       "PFCSample1_TCAGGTAGTAGTACCT    Maintenance_Cocaine      Astro      Astro_7   \n",
       "PFCSample4_AAATGCCAGCAGCCTC    Maintenance_Cocaine      Astro      Astro_7   \n",
       "...                                            ...        ...          ...   \n",
       "PFCSample8_ATGCGATCAATGGAGC   withdraw_48h_Cocaine  Microglia  Microglia_1   \n",
       "PFCSample8_CTCGGAGTCAGTTGAC   withdraw_48h_Cocaine  Microglia  Microglia_1   \n",
       "PFCSample8_GCAATCACAAGGACTG   withdraw_48h_Cocaine  Microglia  Microglia_1   \n",
       "PFCSample8_GGACAAGGTCGAGTTT   withdraw_48h_Cocaine  Microglia  Microglia_1   \n",
       "PFCSample10_CCATGTCGTAGATTAG  withdraw_15d_Cocaine  Microglia  Microglia_1   \n",
       "\n",
       "                              n_genes  n_genes_by_counts  total_counts  \\\n",
       "index                                                                    \n",
       "PFCSample9_AGCTCCTAGTGAACAT       409                409    530.437378   \n",
       "PFCSample1_CCGTTCACAATGACCT       278                278    546.899658   \n",
       "PFCSample1_CCTACCAAGACGCAAC       323                323    582.011536   \n",
       "PFCSample1_TCAGGTAGTAGTACCT       290                290    556.032227   \n",
       "PFCSample4_AAATGCCAGCAGCCTC       239                239    486.209473   \n",
       "...                               ...                ...           ...   \n",
       "PFCSample8_ATGCGATCAATGGAGC       416                416    651.145203   \n",
       "PFCSample8_CTCGGAGTCAGTTGAC       412                412    710.829590   \n",
       "PFCSample8_GCAATCACAAGGACTG       318                318    656.778076   \n",
       "PFCSample8_GGACAAGGTCGAGTTT       355                355    697.052734   \n",
       "PFCSample10_CCATGTCGTAGATTAG      256                256    552.958862   \n",
       "\n",
       "                              total_counts_mt  pct_counts_mt  \n",
       "index                                                         \n",
       "PFCSample9_AGCTCCTAGTGAACAT               0.0            0.0  \n",
       "PFCSample1_CCGTTCACAATGACCT               0.0            0.0  \n",
       "PFCSample1_CCTACCAAGACGCAAC               0.0            0.0  \n",
       "PFCSample1_TCAGGTAGTAGTACCT               0.0            0.0  \n",
       "PFCSample4_AAATGCCAGCAGCCTC               0.0            0.0  \n",
       "...                                       ...            ...  \n",
       "PFCSample8_ATGCGATCAATGGAGC               0.0            0.0  \n",
       "PFCSample8_CTCGGAGTCAGTTGAC               0.0            0.0  \n",
       "PFCSample8_GCAATCACAAGGACTG               0.0            0.0  \n",
       "PFCSample8_GGACAAGGTCGAGTTT               0.0            0.0  \n",
       "PFCSample10_CCATGTCGTAGATTAG              0.0            0.0  \n",
       "\n",
       "[11180 rows x 16 columns]"
      ]
     },
     "execution_count": 2,
     "metadata": {},
     "output_type": "execute_result"
    }
   ],
   "source": [
    "adata = pertpy.data.bhattacherjee()\n",
    "adata = cr.pp.process_data(adata, **process_kws)  # process\n",
    "print(adata)\n",
    "adata.obs"
   ]
  },
  {
   "cell_type": "markdown",
   "metadata": {},
   "source": [
    "# AUGUR Cell Type Prioritization Prediction\n",
    "\n",
    "## Overall"
   ]
  },
  {
   "cell_type": "code",
   "execution_count": 3,
   "metadata": {},
   "outputs": [
    {
     "data": {
      "text/html": [
       "<pre style=\"white-space:pre;overflow-x:auto;line-height:normal;font-family:Menlo,'DejaVu Sans Mono',consolas,'Courier New',monospace\">Filtering samples with Maintenance_Cocaine and withdraw_48h_Cocaine labels.\n",
       "</pre>\n"
      ],
      "text/plain": [
       "Filtering samples with Maintenance_Cocaine and withdraw_48h_Cocaine labels.\n"
      ]
     },
     "metadata": {},
     "output_type": "display_data"
    },
    {
     "data": {
      "application/vnd.jupyter.widget-view+json": {
       "model_id": "836c6aaa42654241985627588099c5fa",
       "version_major": 2,
       "version_minor": 0
      },
      "text/plain": [
       "Output()"
      ]
     },
     "metadata": {},
     "output_type": "display_data"
    },
    {
     "data": {
      "text/html": [
       "<pre style=\"white-space:pre;overflow-x:auto;line-height:normal;font-family:Menlo,'DejaVu Sans Mono',consolas,'Courier New',monospace\">index\n",
       "PFCSample1_CCGTTCACAATGACCT-<span style=\"color: #008080; text-decoration-color: #008080; font-weight: bold\">0</span>        Astro\n",
       "PFCSample1_CCTACCAAGACGCAAC-<span style=\"color: #008080; text-decoration-color: #008080; font-weight: bold\">0</span>        Astro\n",
       "PFCSample1_TCAGGTAGTAGTACCT-<span style=\"color: #008080; text-decoration-color: #008080; font-weight: bold\">0</span>        Astro\n",
       "PFCSample4_AAATGCCAGCAGCCTC-<span style=\"color: #008080; text-decoration-color: #008080; font-weight: bold\">0</span>        Astro\n",
       "PFCSample4_AGCCTAACAGCTGTTA-<span style=\"color: #008080; text-decoration-color: #008080; font-weight: bold\">0</span>        Astro\n",
       "                                   <span style=\"color: #808000; text-decoration-color: #808000\">...</span>    \n",
       "PFCSample6_TGCTGCTCAGGTTTCA-<span style=\"color: #008080; text-decoration-color: #008080; font-weight: bold\">1</span>    Microglia\n",
       "PFCSample8_ATGCGATCAATGGAGC-<span style=\"color: #008080; text-decoration-color: #008080; font-weight: bold\">1</span>    Microglia\n",
       "PFCSample8_CTCGGAGTCAGTTGAC-<span style=\"color: #008080; text-decoration-color: #008080; font-weight: bold\">1</span>    Microglia\n",
       "PFCSample8_GCAATCACAAGGACTG-<span style=\"color: #008080; text-decoration-color: #008080; font-weight: bold\">1</span>    Microglia\n",
       "PFCSample8_GGACAAGGTCGAGTTT-<span style=\"color: #008080; text-decoration-color: #008080; font-weight: bold\">1</span>    Microglia\n",
       "Name: cell_type, Length: <span style=\"color: #008080; text-decoration-color: #008080; font-weight: bold\">5486</span>, dtype: category\n",
       "Categories <span style=\"font-weight: bold\">(</span><span style=\"color: #008080; text-decoration-color: #008080; font-weight: bold\">8</span>, object<span style=\"font-weight: bold\">)</span>: <span style=\"font-weight: bold\">[</span><span style=\"color: #008000; text-decoration-color: #008000\">'Astro'</span>, <span style=\"color: #008000; text-decoration-color: #008000\">'Endo'</span>, <span style=\"color: #008000; text-decoration-color: #008000\">'Excitatory'</span>, <span style=\"color: #008000; text-decoration-color: #008000\">'Inhibitory'</span>, <span style=\"color: #008000; text-decoration-color: #008000\">'Microglia'</span>, <span style=\"color: #008000; text-decoration-color: #008000\">'NF Oligo'</span>, <span style=\"color: #008000; text-decoration-color: #008000\">'OPC'</span>, <span style=\"color: #008000; text-decoration-color: #008000\">'Oligo'</span><span style=\"font-weight: bold\">]</span>\n",
       "</pre>\n"
      ],
      "text/plain": [
       "index\n",
       "PFCSample1_CCGTTCACAATGACCT-\u001b[1;36m0\u001b[0m        Astro\n",
       "PFCSample1_CCTACCAAGACGCAAC-\u001b[1;36m0\u001b[0m        Astro\n",
       "PFCSample1_TCAGGTAGTAGTACCT-\u001b[1;36m0\u001b[0m        Astro\n",
       "PFCSample4_AAATGCCAGCAGCCTC-\u001b[1;36m0\u001b[0m        Astro\n",
       "PFCSample4_AGCCTAACAGCTGTTA-\u001b[1;36m0\u001b[0m        Astro\n",
       "                                   \u001b[33m...\u001b[0m    \n",
       "PFCSample6_TGCTGCTCAGGTTTCA-\u001b[1;36m1\u001b[0m    Microglia\n",
       "PFCSample8_ATGCGATCAATGGAGC-\u001b[1;36m1\u001b[0m    Microglia\n",
       "PFCSample8_CTCGGAGTCAGTTGAC-\u001b[1;36m1\u001b[0m    Microglia\n",
       "PFCSample8_GCAATCACAAGGACTG-\u001b[1;36m1\u001b[0m    Microglia\n",
       "PFCSample8_GGACAAGGTCGAGTTT-\u001b[1;36m1\u001b[0m    Microglia\n",
       "Name: cell_type, Length: \u001b[1;36m5486\u001b[0m, dtype: category\n",
       "Categories \u001b[1m(\u001b[0m\u001b[1;36m8\u001b[0m, object\u001b[1m)\u001b[0m: \u001b[1m[\u001b[0m\u001b[32m'Astro'\u001b[0m, \u001b[32m'Endo'\u001b[0m, \u001b[32m'Excitatory'\u001b[0m, \u001b[32m'Inhibitory'\u001b[0m, \u001b[32m'Microglia'\u001b[0m, \u001b[32m'NF Oligo'\u001b[0m, \u001b[32m'OPC'\u001b[0m, \u001b[32m'Oligo'\u001b[0m\u001b[1m]\u001b[0m\n"
      ]
     },
     "metadata": {},
     "output_type": "display_data"
    },
    {
     "data": {
      "text/html": [
       "<pre style=\"white-space:pre;overflow-x:auto;line-height:normal;font-family:Menlo,'DejaVu Sans Mono',consolas,'Courier New',monospace\">index\n",
       "PFCSample1_CCGTTCACAATGACCT-<span style=\"color: #008080; text-decoration-color: #008080; font-weight: bold\">0</span>        Astro\n",
       "PFCSample1_CCTACCAAGACGCAAC-<span style=\"color: #008080; text-decoration-color: #008080; font-weight: bold\">0</span>        Astro\n",
       "PFCSample1_TCAGGTAGTAGTACCT-<span style=\"color: #008080; text-decoration-color: #008080; font-weight: bold\">0</span>        Astro\n",
       "PFCSample4_AAATGCCAGCAGCCTC-<span style=\"color: #008080; text-decoration-color: #008080; font-weight: bold\">0</span>        Astro\n",
       "PFCSample4_AGCCTAACAGCTGTTA-<span style=\"color: #008080; text-decoration-color: #008080; font-weight: bold\">0</span>        Astro\n",
       "                                   <span style=\"color: #808000; text-decoration-color: #808000\">...</span>    \n",
       "PFCSample6_TGCTGCTCAGGTTTCA-<span style=\"color: #008080; text-decoration-color: #008080; font-weight: bold\">1</span>    Microglia\n",
       "PFCSample8_ATGCGATCAATGGAGC-<span style=\"color: #008080; text-decoration-color: #008080; font-weight: bold\">1</span>    Microglia\n",
       "PFCSample8_CTCGGAGTCAGTTGAC-<span style=\"color: #008080; text-decoration-color: #008080; font-weight: bold\">1</span>    Microglia\n",
       "PFCSample8_GCAATCACAAGGACTG-<span style=\"color: #008080; text-decoration-color: #008080; font-weight: bold\">1</span>    Microglia\n",
       "PFCSample8_GGACAAGGTCGAGTTT-<span style=\"color: #008080; text-decoration-color: #008080; font-weight: bold\">1</span>    Microglia\n",
       "Name: cell_type, Length: <span style=\"color: #008080; text-decoration-color: #008080; font-weight: bold\">5486</span>, dtype: category\n",
       "Categories <span style=\"font-weight: bold\">(</span><span style=\"color: #008080; text-decoration-color: #008080; font-weight: bold\">8</span>, object<span style=\"font-weight: bold\">)</span>: <span style=\"font-weight: bold\">[</span><span style=\"color: #008000; text-decoration-color: #008000\">'Astro'</span>, <span style=\"color: #008000; text-decoration-color: #008000\">'Endo'</span>, <span style=\"color: #008000; text-decoration-color: #008000\">'Excitatory'</span>, <span style=\"color: #008000; text-decoration-color: #008000\">'Inhibitory'</span>, <span style=\"color: #008000; text-decoration-color: #008000\">'Microglia'</span>, <span style=\"color: #008000; text-decoration-color: #008000\">'NF Oligo'</span>, <span style=\"color: #008000; text-decoration-color: #008000\">'OPC'</span>, <span style=\"color: #008000; text-decoration-color: #008000\">'Oligo'</span><span style=\"font-weight: bold\">]</span>\n",
       "</pre>\n"
      ],
      "text/plain": [
       "index\n",
       "PFCSample1_CCGTTCACAATGACCT-\u001b[1;36m0\u001b[0m        Astro\n",
       "PFCSample1_CCTACCAAGACGCAAC-\u001b[1;36m0\u001b[0m        Astro\n",
       "PFCSample1_TCAGGTAGTAGTACCT-\u001b[1;36m0\u001b[0m        Astro\n",
       "PFCSample4_AAATGCCAGCAGCCTC-\u001b[1;36m0\u001b[0m        Astro\n",
       "PFCSample4_AGCCTAACAGCTGTTA-\u001b[1;36m0\u001b[0m        Astro\n",
       "                                   \u001b[33m...\u001b[0m    \n",
       "PFCSample6_TGCTGCTCAGGTTTCA-\u001b[1;36m1\u001b[0m    Microglia\n",
       "PFCSample8_ATGCGATCAATGGAGC-\u001b[1;36m1\u001b[0m    Microglia\n",
       "PFCSample8_CTCGGAGTCAGTTGAC-\u001b[1;36m1\u001b[0m    Microglia\n",
       "PFCSample8_GCAATCACAAGGACTG-\u001b[1;36m1\u001b[0m    Microglia\n",
       "PFCSample8_GGACAAGGTCGAGTTT-\u001b[1;36m1\u001b[0m    Microglia\n",
       "Name: cell_type, Length: \u001b[1;36m5486\u001b[0m, dtype: category\n",
       "Categories \u001b[1m(\u001b[0m\u001b[1;36m8\u001b[0m, object\u001b[1m)\u001b[0m: \u001b[1m[\u001b[0m\u001b[32m'Astro'\u001b[0m, \u001b[32m'Endo'\u001b[0m, \u001b[32m'Excitatory'\u001b[0m, \u001b[32m'Inhibitory'\u001b[0m, \u001b[32m'Microglia'\u001b[0m, \u001b[32m'NF Oligo'\u001b[0m, \u001b[32m'OPC'\u001b[0m, \u001b[32m'Oligo'\u001b[0m\u001b[1m]\u001b[0m\n"
      ]
     },
     "metadata": {},
     "output_type": "display_data"
    },
    {
     "data": {
      "text/html": [
       "<pre style=\"white-space:pre;overflow-x:auto;line-height:normal;font-family:Menlo,'DejaVu Sans Mono',consolas,'Courier New',monospace\">index\n",
       "PFCSample1_CCGTTCACAATGACCT-<span style=\"color: #008080; text-decoration-color: #008080; font-weight: bold\">0</span>        Astro\n",
       "PFCSample1_CCTACCAAGACGCAAC-<span style=\"color: #008080; text-decoration-color: #008080; font-weight: bold\">0</span>        Astro\n",
       "PFCSample1_TCAGGTAGTAGTACCT-<span style=\"color: #008080; text-decoration-color: #008080; font-weight: bold\">0</span>        Astro\n",
       "PFCSample4_AAATGCCAGCAGCCTC-<span style=\"color: #008080; text-decoration-color: #008080; font-weight: bold\">0</span>        Astro\n",
       "PFCSample4_AGCCTAACAGCTGTTA-<span style=\"color: #008080; text-decoration-color: #008080; font-weight: bold\">0</span>        Astro\n",
       "                                   <span style=\"color: #808000; text-decoration-color: #808000\">...</span>    \n",
       "PFCSample6_TGCTGCTCAGGTTTCA-<span style=\"color: #008080; text-decoration-color: #008080; font-weight: bold\">1</span>    Microglia\n",
       "PFCSample8_ATGCGATCAATGGAGC-<span style=\"color: #008080; text-decoration-color: #008080; font-weight: bold\">1</span>    Microglia\n",
       "PFCSample8_CTCGGAGTCAGTTGAC-<span style=\"color: #008080; text-decoration-color: #008080; font-weight: bold\">1</span>    Microglia\n",
       "PFCSample8_GCAATCACAAGGACTG-<span style=\"color: #008080; text-decoration-color: #008080; font-weight: bold\">1</span>    Microglia\n",
       "PFCSample8_GGACAAGGTCGAGTTT-<span style=\"color: #008080; text-decoration-color: #008080; font-weight: bold\">1</span>    Microglia\n",
       "Name: cell_type, Length: <span style=\"color: #008080; text-decoration-color: #008080; font-weight: bold\">5486</span>, dtype: category\n",
       "Categories <span style=\"font-weight: bold\">(</span><span style=\"color: #008080; text-decoration-color: #008080; font-weight: bold\">8</span>, object<span style=\"font-weight: bold\">)</span>: <span style=\"font-weight: bold\">[</span><span style=\"color: #008000; text-decoration-color: #008000\">'Astro'</span>, <span style=\"color: #008000; text-decoration-color: #008000\">'Endo'</span>, <span style=\"color: #008000; text-decoration-color: #008000\">'Excitatory'</span>, <span style=\"color: #008000; text-decoration-color: #008000\">'Inhibitory'</span>, <span style=\"color: #008000; text-decoration-color: #008000\">'Microglia'</span>, <span style=\"color: #008000; text-decoration-color: #008000\">'NF Oligo'</span>, <span style=\"color: #008000; text-decoration-color: #008000\">'OPC'</span>, <span style=\"color: #008000; text-decoration-color: #008000\">'Oligo'</span><span style=\"font-weight: bold\">]</span>\n",
       "</pre>\n"
      ],
      "text/plain": [
       "index\n",
       "PFCSample1_CCGTTCACAATGACCT-\u001b[1;36m0\u001b[0m        Astro\n",
       "PFCSample1_CCTACCAAGACGCAAC-\u001b[1;36m0\u001b[0m        Astro\n",
       "PFCSample1_TCAGGTAGTAGTACCT-\u001b[1;36m0\u001b[0m        Astro\n",
       "PFCSample4_AAATGCCAGCAGCCTC-\u001b[1;36m0\u001b[0m        Astro\n",
       "PFCSample4_AGCCTAACAGCTGTTA-\u001b[1;36m0\u001b[0m        Astro\n",
       "                                   \u001b[33m...\u001b[0m    \n",
       "PFCSample6_TGCTGCTCAGGTTTCA-\u001b[1;36m1\u001b[0m    Microglia\n",
       "PFCSample8_ATGCGATCAATGGAGC-\u001b[1;36m1\u001b[0m    Microglia\n",
       "PFCSample8_CTCGGAGTCAGTTGAC-\u001b[1;36m1\u001b[0m    Microglia\n",
       "PFCSample8_GCAATCACAAGGACTG-\u001b[1;36m1\u001b[0m    Microglia\n",
       "PFCSample8_GGACAAGGTCGAGTTT-\u001b[1;36m1\u001b[0m    Microglia\n",
       "Name: cell_type, Length: \u001b[1;36m5486\u001b[0m, dtype: category\n",
       "Categories \u001b[1m(\u001b[0m\u001b[1;36m8\u001b[0m, object\u001b[1m)\u001b[0m: \u001b[1m[\u001b[0m\u001b[32m'Astro'\u001b[0m, \u001b[32m'Endo'\u001b[0m, \u001b[32m'Excitatory'\u001b[0m, \u001b[32m'Inhibitory'\u001b[0m, \u001b[32m'Microglia'\u001b[0m, \u001b[32m'NF Oligo'\u001b[0m, \u001b[32m'OPC'\u001b[0m, \u001b[32m'Oligo'\u001b[0m\u001b[1m]\u001b[0m\n"
      ]
     },
     "metadata": {},
     "output_type": "display_data"
    },
    {
     "data": {
      "text/html": [
       "<pre style=\"white-space:pre;overflow-x:auto;line-height:normal;font-family:Menlo,'DejaVu Sans Mono',consolas,'Courier New',monospace\">index\n",
       "PFCSample1_CCGTTCACAATGACCT-<span style=\"color: #008080; text-decoration-color: #008080; font-weight: bold\">0</span>        Astro\n",
       "PFCSample1_CCTACCAAGACGCAAC-<span style=\"color: #008080; text-decoration-color: #008080; font-weight: bold\">0</span>        Astro\n",
       "PFCSample1_TCAGGTAGTAGTACCT-<span style=\"color: #008080; text-decoration-color: #008080; font-weight: bold\">0</span>        Astro\n",
       "PFCSample4_AAATGCCAGCAGCCTC-<span style=\"color: #008080; text-decoration-color: #008080; font-weight: bold\">0</span>        Astro\n",
       "PFCSample4_AGCCTAACAGCTGTTA-<span style=\"color: #008080; text-decoration-color: #008080; font-weight: bold\">0</span>        Astro\n",
       "                                   <span style=\"color: #808000; text-decoration-color: #808000\">...</span>    \n",
       "PFCSample6_TGCTGCTCAGGTTTCA-<span style=\"color: #008080; text-decoration-color: #008080; font-weight: bold\">1</span>    Microglia\n",
       "PFCSample8_ATGCGATCAATGGAGC-<span style=\"color: #008080; text-decoration-color: #008080; font-weight: bold\">1</span>    Microglia\n",
       "PFCSample8_CTCGGAGTCAGTTGAC-<span style=\"color: #008080; text-decoration-color: #008080; font-weight: bold\">1</span>    Microglia\n",
       "PFCSample8_GCAATCACAAGGACTG-<span style=\"color: #008080; text-decoration-color: #008080; font-weight: bold\">1</span>    Microglia\n",
       "PFCSample8_GGACAAGGTCGAGTTT-<span style=\"color: #008080; text-decoration-color: #008080; font-weight: bold\">1</span>    Microglia\n",
       "Name: cell_type, Length: <span style=\"color: #008080; text-decoration-color: #008080; font-weight: bold\">5486</span>, dtype: category\n",
       "Categories <span style=\"font-weight: bold\">(</span><span style=\"color: #008080; text-decoration-color: #008080; font-weight: bold\">8</span>, object<span style=\"font-weight: bold\">)</span>: <span style=\"font-weight: bold\">[</span><span style=\"color: #008000; text-decoration-color: #008000\">'Astro'</span>, <span style=\"color: #008000; text-decoration-color: #008000\">'Endo'</span>, <span style=\"color: #008000; text-decoration-color: #008000\">'Excitatory'</span>, <span style=\"color: #008000; text-decoration-color: #008000\">'Inhibitory'</span>, <span style=\"color: #008000; text-decoration-color: #008000\">'Microglia'</span>, <span style=\"color: #008000; text-decoration-color: #008000\">'NF Oligo'</span>, <span style=\"color: #008000; text-decoration-color: #008000\">'OPC'</span>, <span style=\"color: #008000; text-decoration-color: #008000\">'Oligo'</span><span style=\"font-weight: bold\">]</span>\n",
       "</pre>\n"
      ],
      "text/plain": [
       "index\n",
       "PFCSample1_CCGTTCACAATGACCT-\u001b[1;36m0\u001b[0m        Astro\n",
       "PFCSample1_CCTACCAAGACGCAAC-\u001b[1;36m0\u001b[0m        Astro\n",
       "PFCSample1_TCAGGTAGTAGTACCT-\u001b[1;36m0\u001b[0m        Astro\n",
       "PFCSample4_AAATGCCAGCAGCCTC-\u001b[1;36m0\u001b[0m        Astro\n",
       "PFCSample4_AGCCTAACAGCTGTTA-\u001b[1;36m0\u001b[0m        Astro\n",
       "                                   \u001b[33m...\u001b[0m    \n",
       "PFCSample6_TGCTGCTCAGGTTTCA-\u001b[1;36m1\u001b[0m    Microglia\n",
       "PFCSample8_ATGCGATCAATGGAGC-\u001b[1;36m1\u001b[0m    Microglia\n",
       "PFCSample8_CTCGGAGTCAGTTGAC-\u001b[1;36m1\u001b[0m    Microglia\n",
       "PFCSample8_GCAATCACAAGGACTG-\u001b[1;36m1\u001b[0m    Microglia\n",
       "PFCSample8_GGACAAGGTCGAGTTT-\u001b[1;36m1\u001b[0m    Microglia\n",
       "Name: cell_type, Length: \u001b[1;36m5486\u001b[0m, dtype: category\n",
       "Categories \u001b[1m(\u001b[0m\u001b[1;36m8\u001b[0m, object\u001b[1m)\u001b[0m: \u001b[1m[\u001b[0m\u001b[32m'Astro'\u001b[0m, \u001b[32m'Endo'\u001b[0m, \u001b[32m'Excitatory'\u001b[0m, \u001b[32m'Inhibitory'\u001b[0m, \u001b[32m'Microglia'\u001b[0m, \u001b[32m'NF Oligo'\u001b[0m, \u001b[32m'OPC'\u001b[0m, \u001b[32m'Oligo'\u001b[0m\u001b[1m]\u001b[0m\n"
      ]
     },
     "metadata": {},
     "output_type": "display_data"
    },
    {
     "data": {
      "text/html": [
       "<pre style=\"white-space:pre;overflow-x:auto;line-height:normal;font-family:Menlo,'DejaVu Sans Mono',consolas,'Courier New',monospace\">index\n",
       "PFCSample1_CCGTTCACAATGACCT-<span style=\"color: #008080; text-decoration-color: #008080; font-weight: bold\">0</span>        Astro\n",
       "PFCSample1_CCTACCAAGACGCAAC-<span style=\"color: #008080; text-decoration-color: #008080; font-weight: bold\">0</span>        Astro\n",
       "PFCSample1_TCAGGTAGTAGTACCT-<span style=\"color: #008080; text-decoration-color: #008080; font-weight: bold\">0</span>        Astro\n",
       "PFCSample4_AAATGCCAGCAGCCTC-<span style=\"color: #008080; text-decoration-color: #008080; font-weight: bold\">0</span>        Astro\n",
       "PFCSample4_AGCCTAACAGCTGTTA-<span style=\"color: #008080; text-decoration-color: #008080; font-weight: bold\">0</span>        Astro\n",
       "                                   <span style=\"color: #808000; text-decoration-color: #808000\">...</span>    \n",
       "PFCSample6_TGCTGCTCAGGTTTCA-<span style=\"color: #008080; text-decoration-color: #008080; font-weight: bold\">1</span>    Microglia\n",
       "PFCSample8_ATGCGATCAATGGAGC-<span style=\"color: #008080; text-decoration-color: #008080; font-weight: bold\">1</span>    Microglia\n",
       "PFCSample8_CTCGGAGTCAGTTGAC-<span style=\"color: #008080; text-decoration-color: #008080; font-weight: bold\">1</span>    Microglia\n",
       "PFCSample8_GCAATCACAAGGACTG-<span style=\"color: #008080; text-decoration-color: #008080; font-weight: bold\">1</span>    Microglia\n",
       "PFCSample8_GGACAAGGTCGAGTTT-<span style=\"color: #008080; text-decoration-color: #008080; font-weight: bold\">1</span>    Microglia\n",
       "Name: cell_type, Length: <span style=\"color: #008080; text-decoration-color: #008080; font-weight: bold\">5486</span>, dtype: category\n",
       "Categories <span style=\"font-weight: bold\">(</span><span style=\"color: #008080; text-decoration-color: #008080; font-weight: bold\">8</span>, object<span style=\"font-weight: bold\">)</span>: <span style=\"font-weight: bold\">[</span><span style=\"color: #008000; text-decoration-color: #008000\">'Astro'</span>, <span style=\"color: #008000; text-decoration-color: #008000\">'Endo'</span>, <span style=\"color: #008000; text-decoration-color: #008000\">'Excitatory'</span>, <span style=\"color: #008000; text-decoration-color: #008000\">'Inhibitory'</span>, <span style=\"color: #008000; text-decoration-color: #008000\">'Microglia'</span>, <span style=\"color: #008000; text-decoration-color: #008000\">'NF Oligo'</span>, <span style=\"color: #008000; text-decoration-color: #008000\">'OPC'</span>, <span style=\"color: #008000; text-decoration-color: #008000\">'Oligo'</span><span style=\"font-weight: bold\">]</span>\n",
       "</pre>\n"
      ],
      "text/plain": [
       "index\n",
       "PFCSample1_CCGTTCACAATGACCT-\u001b[1;36m0\u001b[0m        Astro\n",
       "PFCSample1_CCTACCAAGACGCAAC-\u001b[1;36m0\u001b[0m        Astro\n",
       "PFCSample1_TCAGGTAGTAGTACCT-\u001b[1;36m0\u001b[0m        Astro\n",
       "PFCSample4_AAATGCCAGCAGCCTC-\u001b[1;36m0\u001b[0m        Astro\n",
       "PFCSample4_AGCCTAACAGCTGTTA-\u001b[1;36m0\u001b[0m        Astro\n",
       "                                   \u001b[33m...\u001b[0m    \n",
       "PFCSample6_TGCTGCTCAGGTTTCA-\u001b[1;36m1\u001b[0m    Microglia\n",
       "PFCSample8_ATGCGATCAATGGAGC-\u001b[1;36m1\u001b[0m    Microglia\n",
       "PFCSample8_CTCGGAGTCAGTTGAC-\u001b[1;36m1\u001b[0m    Microglia\n",
       "PFCSample8_GCAATCACAAGGACTG-\u001b[1;36m1\u001b[0m    Microglia\n",
       "PFCSample8_GGACAAGGTCGAGTTT-\u001b[1;36m1\u001b[0m    Microglia\n",
       "Name: cell_type, Length: \u001b[1;36m5486\u001b[0m, dtype: category\n",
       "Categories \u001b[1m(\u001b[0m\u001b[1;36m8\u001b[0m, object\u001b[1m)\u001b[0m: \u001b[1m[\u001b[0m\u001b[32m'Astro'\u001b[0m, \u001b[32m'Endo'\u001b[0m, \u001b[32m'Excitatory'\u001b[0m, \u001b[32m'Inhibitory'\u001b[0m, \u001b[32m'Microglia'\u001b[0m, \u001b[32m'NF Oligo'\u001b[0m, \u001b[32m'OPC'\u001b[0m, \u001b[32m'Oligo'\u001b[0m\u001b[1m]\u001b[0m\n"
      ]
     },
     "metadata": {},
     "output_type": "display_data"
    },
    {
     "data": {
      "text/html": [
       "<pre style=\"white-space:pre;overflow-x:auto;line-height:normal;font-family:Menlo,'DejaVu Sans Mono',consolas,'Courier New',monospace\">index\n",
       "PFCSample1_CCGTTCACAATGACCT-<span style=\"color: #008080; text-decoration-color: #008080; font-weight: bold\">0</span>        Astro\n",
       "PFCSample1_CCTACCAAGACGCAAC-<span style=\"color: #008080; text-decoration-color: #008080; font-weight: bold\">0</span>        Astro\n",
       "PFCSample1_TCAGGTAGTAGTACCT-<span style=\"color: #008080; text-decoration-color: #008080; font-weight: bold\">0</span>        Astro\n",
       "PFCSample4_AAATGCCAGCAGCCTC-<span style=\"color: #008080; text-decoration-color: #008080; font-weight: bold\">0</span>        Astro\n",
       "PFCSample4_AGCCTAACAGCTGTTA-<span style=\"color: #008080; text-decoration-color: #008080; font-weight: bold\">0</span>        Astro\n",
       "                                   <span style=\"color: #808000; text-decoration-color: #808000\">...</span>    \n",
       "PFCSample6_TGCTGCTCAGGTTTCA-<span style=\"color: #008080; text-decoration-color: #008080; font-weight: bold\">1</span>    Microglia\n",
       "PFCSample8_ATGCGATCAATGGAGC-<span style=\"color: #008080; text-decoration-color: #008080; font-weight: bold\">1</span>    Microglia\n",
       "PFCSample8_CTCGGAGTCAGTTGAC-<span style=\"color: #008080; text-decoration-color: #008080; font-weight: bold\">1</span>    Microglia\n",
       "PFCSample8_GCAATCACAAGGACTG-<span style=\"color: #008080; text-decoration-color: #008080; font-weight: bold\">1</span>    Microglia\n",
       "PFCSample8_GGACAAGGTCGAGTTT-<span style=\"color: #008080; text-decoration-color: #008080; font-weight: bold\">1</span>    Microglia\n",
       "Name: cell_type, Length: <span style=\"color: #008080; text-decoration-color: #008080; font-weight: bold\">5486</span>, dtype: category\n",
       "Categories <span style=\"font-weight: bold\">(</span><span style=\"color: #008080; text-decoration-color: #008080; font-weight: bold\">8</span>, object<span style=\"font-weight: bold\">)</span>: <span style=\"font-weight: bold\">[</span><span style=\"color: #008000; text-decoration-color: #008000\">'Astro'</span>, <span style=\"color: #008000; text-decoration-color: #008000\">'Endo'</span>, <span style=\"color: #008000; text-decoration-color: #008000\">'Excitatory'</span>, <span style=\"color: #008000; text-decoration-color: #008000\">'Inhibitory'</span>, <span style=\"color: #008000; text-decoration-color: #008000\">'Microglia'</span>, <span style=\"color: #008000; text-decoration-color: #008000\">'NF Oligo'</span>, <span style=\"color: #008000; text-decoration-color: #008000\">'OPC'</span>, <span style=\"color: #008000; text-decoration-color: #008000\">'Oligo'</span><span style=\"font-weight: bold\">]</span>\n",
       "</pre>\n"
      ],
      "text/plain": [
       "index\n",
       "PFCSample1_CCGTTCACAATGACCT-\u001b[1;36m0\u001b[0m        Astro\n",
       "PFCSample1_CCTACCAAGACGCAAC-\u001b[1;36m0\u001b[0m        Astro\n",
       "PFCSample1_TCAGGTAGTAGTACCT-\u001b[1;36m0\u001b[0m        Astro\n",
       "PFCSample4_AAATGCCAGCAGCCTC-\u001b[1;36m0\u001b[0m        Astro\n",
       "PFCSample4_AGCCTAACAGCTGTTA-\u001b[1;36m0\u001b[0m        Astro\n",
       "                                   \u001b[33m...\u001b[0m    \n",
       "PFCSample6_TGCTGCTCAGGTTTCA-\u001b[1;36m1\u001b[0m    Microglia\n",
       "PFCSample8_ATGCGATCAATGGAGC-\u001b[1;36m1\u001b[0m    Microglia\n",
       "PFCSample8_CTCGGAGTCAGTTGAC-\u001b[1;36m1\u001b[0m    Microglia\n",
       "PFCSample8_GCAATCACAAGGACTG-\u001b[1;36m1\u001b[0m    Microglia\n",
       "PFCSample8_GGACAAGGTCGAGTTT-\u001b[1;36m1\u001b[0m    Microglia\n",
       "Name: cell_type, Length: \u001b[1;36m5486\u001b[0m, dtype: category\n",
       "Categories \u001b[1m(\u001b[0m\u001b[1;36m8\u001b[0m, object\u001b[1m)\u001b[0m: \u001b[1m[\u001b[0m\u001b[32m'Astro'\u001b[0m, \u001b[32m'Endo'\u001b[0m, \u001b[32m'Excitatory'\u001b[0m, \u001b[32m'Inhibitory'\u001b[0m, \u001b[32m'Microglia'\u001b[0m, \u001b[32m'NF Oligo'\u001b[0m, \u001b[32m'OPC'\u001b[0m, \u001b[32m'Oligo'\u001b[0m\u001b[1m]\u001b[0m\n"
      ]
     },
     "metadata": {},
     "output_type": "display_data"
    },
    {
     "data": {
      "text/html": [
       "<pre style=\"white-space:pre;overflow-x:auto;line-height:normal;font-family:Menlo,'DejaVu Sans Mono',consolas,'Courier New',monospace\">index\n",
       "PFCSample1_CCGTTCACAATGACCT-<span style=\"color: #008080; text-decoration-color: #008080; font-weight: bold\">0</span>        Astro\n",
       "PFCSample1_CCTACCAAGACGCAAC-<span style=\"color: #008080; text-decoration-color: #008080; font-weight: bold\">0</span>        Astro\n",
       "PFCSample1_TCAGGTAGTAGTACCT-<span style=\"color: #008080; text-decoration-color: #008080; font-weight: bold\">0</span>        Astro\n",
       "PFCSample4_AAATGCCAGCAGCCTC-<span style=\"color: #008080; text-decoration-color: #008080; font-weight: bold\">0</span>        Astro\n",
       "PFCSample4_AGCCTAACAGCTGTTA-<span style=\"color: #008080; text-decoration-color: #008080; font-weight: bold\">0</span>        Astro\n",
       "                                   <span style=\"color: #808000; text-decoration-color: #808000\">...</span>    \n",
       "PFCSample6_TGCTGCTCAGGTTTCA-<span style=\"color: #008080; text-decoration-color: #008080; font-weight: bold\">1</span>    Microglia\n",
       "PFCSample8_ATGCGATCAATGGAGC-<span style=\"color: #008080; text-decoration-color: #008080; font-weight: bold\">1</span>    Microglia\n",
       "PFCSample8_CTCGGAGTCAGTTGAC-<span style=\"color: #008080; text-decoration-color: #008080; font-weight: bold\">1</span>    Microglia\n",
       "PFCSample8_GCAATCACAAGGACTG-<span style=\"color: #008080; text-decoration-color: #008080; font-weight: bold\">1</span>    Microglia\n",
       "PFCSample8_GGACAAGGTCGAGTTT-<span style=\"color: #008080; text-decoration-color: #008080; font-weight: bold\">1</span>    Microglia\n",
       "Name: cell_type, Length: <span style=\"color: #008080; text-decoration-color: #008080; font-weight: bold\">5486</span>, dtype: category\n",
       "Categories <span style=\"font-weight: bold\">(</span><span style=\"color: #008080; text-decoration-color: #008080; font-weight: bold\">8</span>, object<span style=\"font-weight: bold\">)</span>: <span style=\"font-weight: bold\">[</span><span style=\"color: #008000; text-decoration-color: #008000\">'Astro'</span>, <span style=\"color: #008000; text-decoration-color: #008000\">'Endo'</span>, <span style=\"color: #008000; text-decoration-color: #008000\">'Excitatory'</span>, <span style=\"color: #008000; text-decoration-color: #008000\">'Inhibitory'</span>, <span style=\"color: #008000; text-decoration-color: #008000\">'Microglia'</span>, <span style=\"color: #008000; text-decoration-color: #008000\">'NF Oligo'</span>, <span style=\"color: #008000; text-decoration-color: #008000\">'OPC'</span>, <span style=\"color: #008000; text-decoration-color: #008000\">'Oligo'</span><span style=\"font-weight: bold\">]</span>\n",
       "</pre>\n"
      ],
      "text/plain": [
       "index\n",
       "PFCSample1_CCGTTCACAATGACCT-\u001b[1;36m0\u001b[0m        Astro\n",
       "PFCSample1_CCTACCAAGACGCAAC-\u001b[1;36m0\u001b[0m        Astro\n",
       "PFCSample1_TCAGGTAGTAGTACCT-\u001b[1;36m0\u001b[0m        Astro\n",
       "PFCSample4_AAATGCCAGCAGCCTC-\u001b[1;36m0\u001b[0m        Astro\n",
       "PFCSample4_AGCCTAACAGCTGTTA-\u001b[1;36m0\u001b[0m        Astro\n",
       "                                   \u001b[33m...\u001b[0m    \n",
       "PFCSample6_TGCTGCTCAGGTTTCA-\u001b[1;36m1\u001b[0m    Microglia\n",
       "PFCSample8_ATGCGATCAATGGAGC-\u001b[1;36m1\u001b[0m    Microglia\n",
       "PFCSample8_CTCGGAGTCAGTTGAC-\u001b[1;36m1\u001b[0m    Microglia\n",
       "PFCSample8_GCAATCACAAGGACTG-\u001b[1;36m1\u001b[0m    Microglia\n",
       "PFCSample8_GGACAAGGTCGAGTTT-\u001b[1;36m1\u001b[0m    Microglia\n",
       "Name: cell_type, Length: \u001b[1;36m5486\u001b[0m, dtype: category\n",
       "Categories \u001b[1m(\u001b[0m\u001b[1;36m8\u001b[0m, object\u001b[1m)\u001b[0m: \u001b[1m[\u001b[0m\u001b[32m'Astro'\u001b[0m, \u001b[32m'Endo'\u001b[0m, \u001b[32m'Excitatory'\u001b[0m, \u001b[32m'Inhibitory'\u001b[0m, \u001b[32m'Microglia'\u001b[0m, \u001b[32m'NF Oligo'\u001b[0m, \u001b[32m'OPC'\u001b[0m, \u001b[32m'Oligo'\u001b[0m\u001b[1m]\u001b[0m\n"
      ]
     },
     "metadata": {},
     "output_type": "display_data"
    },
    {
     "data": {
      "text/html": [
       "<pre style=\"white-space:pre;overflow-x:auto;line-height:normal;font-family:Menlo,'DejaVu Sans Mono',consolas,'Courier New',monospace\">index\n",
       "PFCSample1_CCGTTCACAATGACCT-<span style=\"color: #008080; text-decoration-color: #008080; font-weight: bold\">0</span>        Astro\n",
       "PFCSample1_CCTACCAAGACGCAAC-<span style=\"color: #008080; text-decoration-color: #008080; font-weight: bold\">0</span>        Astro\n",
       "PFCSample1_TCAGGTAGTAGTACCT-<span style=\"color: #008080; text-decoration-color: #008080; font-weight: bold\">0</span>        Astro\n",
       "PFCSample4_AAATGCCAGCAGCCTC-<span style=\"color: #008080; text-decoration-color: #008080; font-weight: bold\">0</span>        Astro\n",
       "PFCSample4_AGCCTAACAGCTGTTA-<span style=\"color: #008080; text-decoration-color: #008080; font-weight: bold\">0</span>        Astro\n",
       "                                   <span style=\"color: #808000; text-decoration-color: #808000\">...</span>    \n",
       "PFCSample6_TGCTGCTCAGGTTTCA-<span style=\"color: #008080; text-decoration-color: #008080; font-weight: bold\">1</span>    Microglia\n",
       "PFCSample8_ATGCGATCAATGGAGC-<span style=\"color: #008080; text-decoration-color: #008080; font-weight: bold\">1</span>    Microglia\n",
       "PFCSample8_CTCGGAGTCAGTTGAC-<span style=\"color: #008080; text-decoration-color: #008080; font-weight: bold\">1</span>    Microglia\n",
       "PFCSample8_GCAATCACAAGGACTG-<span style=\"color: #008080; text-decoration-color: #008080; font-weight: bold\">1</span>    Microglia\n",
       "PFCSample8_GGACAAGGTCGAGTTT-<span style=\"color: #008080; text-decoration-color: #008080; font-weight: bold\">1</span>    Microglia\n",
       "Name: cell_type, Length: <span style=\"color: #008080; text-decoration-color: #008080; font-weight: bold\">5486</span>, dtype: category\n",
       "Categories <span style=\"font-weight: bold\">(</span><span style=\"color: #008080; text-decoration-color: #008080; font-weight: bold\">8</span>, object<span style=\"font-weight: bold\">)</span>: <span style=\"font-weight: bold\">[</span><span style=\"color: #008000; text-decoration-color: #008000\">'Astro'</span>, <span style=\"color: #008000; text-decoration-color: #008000\">'Endo'</span>, <span style=\"color: #008000; text-decoration-color: #008000\">'Excitatory'</span>, <span style=\"color: #008000; text-decoration-color: #008000\">'Inhibitory'</span>, <span style=\"color: #008000; text-decoration-color: #008000\">'Microglia'</span>, <span style=\"color: #008000; text-decoration-color: #008000\">'NF Oligo'</span>, <span style=\"color: #008000; text-decoration-color: #008000\">'OPC'</span>, <span style=\"color: #008000; text-decoration-color: #008000\">'Oligo'</span><span style=\"font-weight: bold\">]</span>\n",
       "</pre>\n"
      ],
      "text/plain": [
       "index\n",
       "PFCSample1_CCGTTCACAATGACCT-\u001b[1;36m0\u001b[0m        Astro\n",
       "PFCSample1_CCTACCAAGACGCAAC-\u001b[1;36m0\u001b[0m        Astro\n",
       "PFCSample1_TCAGGTAGTAGTACCT-\u001b[1;36m0\u001b[0m        Astro\n",
       "PFCSample4_AAATGCCAGCAGCCTC-\u001b[1;36m0\u001b[0m        Astro\n",
       "PFCSample4_AGCCTAACAGCTGTTA-\u001b[1;36m0\u001b[0m        Astro\n",
       "                                   \u001b[33m...\u001b[0m    \n",
       "PFCSample6_TGCTGCTCAGGTTTCA-\u001b[1;36m1\u001b[0m    Microglia\n",
       "PFCSample8_ATGCGATCAATGGAGC-\u001b[1;36m1\u001b[0m    Microglia\n",
       "PFCSample8_CTCGGAGTCAGTTGAC-\u001b[1;36m1\u001b[0m    Microglia\n",
       "PFCSample8_GCAATCACAAGGACTG-\u001b[1;36m1\u001b[0m    Microglia\n",
       "PFCSample8_GGACAAGGTCGAGTTT-\u001b[1;36m1\u001b[0m    Microglia\n",
       "Name: cell_type, Length: \u001b[1;36m5486\u001b[0m, dtype: category\n",
       "Categories \u001b[1m(\u001b[0m\u001b[1;36m8\u001b[0m, object\u001b[1m)\u001b[0m: \u001b[1m[\u001b[0m\u001b[32m'Astro'\u001b[0m, \u001b[32m'Endo'\u001b[0m, \u001b[32m'Excitatory'\u001b[0m, \u001b[32m'Inhibitory'\u001b[0m, \u001b[32m'Microglia'\u001b[0m, \u001b[32m'NF Oligo'\u001b[0m, \u001b[32m'OPC'\u001b[0m, \u001b[32m'Oligo'\u001b[0m\u001b[1m]\u001b[0m\n"
      ]
     },
     "metadata": {},
     "output_type": "display_data"
    },
    {
     "data": {
      "text/html": [
       "<pre style=\"white-space:pre;overflow-x:auto;line-height:normal;font-family:Menlo,'DejaVu Sans Mono',consolas,'Courier New',monospace\"></pre>\n"
      ],
      "text/plain": []
     },
     "metadata": {},
     "output_type": "display_data"
    },
    {
     "data": {
      "text/html": [
       "<pre style=\"white-space:pre;overflow-x:auto;line-height:normal;font-family:Menlo,'DejaVu Sans Mono',consolas,'Courier New',monospace\">\n",
       "</pre>\n"
      ],
      "text/plain": [
       "\n"
      ]
     },
     "metadata": {},
     "output_type": "display_data"
    },
    {
     "name": "stdout",
     "output_type": "stream",
     "text": [
      "                     Astro  Microglia  Excitatory      Endo     Oligo  \\\n",
      "mean_augur_score  0.704501   0.684184    0.528912  0.604138  0.595839   \n",
      "mean_auc          0.704501   0.684184    0.528912  0.604138  0.595839   \n",
      "mean_accuracy     0.639084   0.629487    0.527473  0.570110  0.554799   \n",
      "mean_precision    0.676472   0.654556    0.538444  0.612877  0.573580   \n",
      "mean_f1           0.612067   0.595693    0.503475  0.521265  0.542464   \n",
      "mean_recall       0.611746   0.587619    0.511270  0.503333  0.559206   \n",
      "\n",
      "                       OPC  Inhibitory  NF Oligo  \n",
      "mean_augur_score  0.665317    0.526610  0.518503  \n",
      "mean_auc          0.665317    0.526610  0.518503  \n",
      "mean_accuracy     0.618095    0.506007  0.505275  \n",
      "mean_precision    0.637445    0.508891  0.516945  \n",
      "mean_f1           0.588544    0.443928  0.515859  \n",
      "mean_recall       0.593651    0.425079  0.553651  \n"
     ]
    },
    {
     "data": {
      "image/png": "[encoded data removed]",
      "text/plain": [
       "<Figure size 640x480 with 1 Axes>"
      ]
     },
     "metadata": {},
     "output_type": "display_data"
    },
    {
     "data": {
      "image/png": "[encoded data removed]",
      "text/plain": [
       "<Figure size 640x480 with 1 Axes>"
      ]
     },
     "metadata": {},
     "output_type": "display_data"
    }
   ],
   "source": [
    "data, results, figs_aug = cr.ax.perform_augur(adata, assay=None,\n",
    "                                              classifier=\"random_forest_classifier\", \n",
    "                                              augur_mode=\"velocity\", subsample_size=20,\n",
    "                                              select_variance_features=False, \n",
    "                                              col_cell_type=\"cell_type\",\n",
    "                                              col_perturbation=\"label\",\n",
    "                                              key_control=\"Maintenance_Cocaine\",\n",
    "                                              key_treatment=\"withdraw_48h_Cocaine\",\n",
    "                                              seed=1618, n_threads=n_threads, plot=True)"
   ]
  },
  {
   "cell_type": "markdown",
   "metadata": {},
   "source": [
    "## Differential Prioritization\n",
    "\n",
    "We'll set a low number of permutations and subsamples just for the purpose of speed.\n",
    "The defaults are 1000 and 50, respectively, for reference."
   ]
  },
  {
   "cell_type": "code",
   "execution_count": 4,
   "metadata": {},
   "outputs": [
    {
     "data": {
      "text/html": [
       "<pre style=\"white-space:pre;overflow-x:auto;line-height:normal;font-family:Menlo,'DejaVu Sans Mono',consolas,'Courier New',monospace\">Filtering samples with Maintenance_Cocaine and withdraw_48h_Cocaine labels.\n",
       "</pre>\n"
      ],
      "text/plain": [
       "Filtering samples with Maintenance_Cocaine and withdraw_48h_Cocaine labels.\n"
      ]
     },
     "metadata": {},
     "output_type": "display_data"
    },
    {
     "data": {
      "text/html": [
       "<pre style=\"white-space:pre;overflow-x:auto;line-height:normal;font-family:Menlo,'DejaVu Sans Mono',consolas,'Courier New',monospace\">Filtering samples with Maintenance_Cocaine and withdraw_48h_Cocaine labels.\n",
       "</pre>\n"
      ],
      "text/plain": [
       "Filtering samples with Maintenance_Cocaine and withdraw_48h_Cocaine labels.\n"
      ]
     },
     "metadata": {},
     "output_type": "display_data"
    },
    {
     "data": {
      "text/html": [
       "<pre style=\"white-space:pre;overflow-x:auto;line-height:normal;font-family:Menlo,'DejaVu Sans Mono',consolas,'Courier New',monospace\"><span style=\"color: #808000; text-decoration-color: #808000; font-weight: bold\">Set smaller span value in the case of a `segmentation fault` error.</span>\n",
       "</pre>\n"
      ],
      "text/plain": [
       "\u001b[1;33mSet smaller span value in the case of a `segmentation fault` error.\u001b[0m\n"
      ]
     },
     "metadata": {},
     "output_type": "display_data"
    },
    {
     "data": {
      "text/html": [
       "<pre style=\"white-space:pre;overflow-x:auto;line-height:normal;font-family:Menlo,'DejaVu Sans Mono',consolas,'Courier New',monospace\"><span style=\"color: #808000; text-decoration-color: #808000; font-weight: bold\">Set larger span in case of svddc or other near singularities error.</span>\n",
       "</pre>\n"
      ],
      "text/plain": [
       "\u001b[1;33mSet larger span in case of svddc or other near singularities error.\u001b[0m\n"
      ]
     },
     "metadata": {},
     "output_type": "display_data"
    },
    {
     "data": {
      "application/vnd.jupyter.widget-view+json": {
       "model_id": "388effc1f4a143d7a396f38499fa106d",
       "version_major": 2,
       "version_minor": 0
      },
      "text/plain": [
       "Output()"
      ]
     },
     "metadata": {},
     "output_type": "display_data"
    },
    {
     "data": {
      "text/html": [
       "<pre style=\"white-space:pre;overflow-x:auto;line-height:normal;font-family:Menlo,'DejaVu Sans Mono',consolas,'Courier New',monospace\">index\n",
       "PFCSample1_CCGTTCACAATGACCT-<span style=\"color: #008080; text-decoration-color: #008080; font-weight: bold\">0</span>        Astro\n",
       "PFCSample1_CCTACCAAGACGCAAC-<span style=\"color: #008080; text-decoration-color: #008080; font-weight: bold\">0</span>        Astro\n",
       "PFCSample1_TCAGGTAGTAGTACCT-<span style=\"color: #008080; text-decoration-color: #008080; font-weight: bold\">0</span>        Astro\n",
       "PFCSample4_AAATGCCAGCAGCCTC-<span style=\"color: #008080; text-decoration-color: #008080; font-weight: bold\">0</span>        Astro\n",
       "PFCSample4_AGCCTAACAGCTGTTA-<span style=\"color: #008080; text-decoration-color: #008080; font-weight: bold\">0</span>        Astro\n",
       "                                   <span style=\"color: #808000; text-decoration-color: #808000\">...</span>    \n",
       "PFCSample6_TGCTGCTCAGGTTTCA-<span style=\"color: #008080; text-decoration-color: #008080; font-weight: bold\">1</span>    Microglia\n",
       "PFCSample8_ATGCGATCAATGGAGC-<span style=\"color: #008080; text-decoration-color: #008080; font-weight: bold\">1</span>    Microglia\n",
       "PFCSample8_CTCGGAGTCAGTTGAC-<span style=\"color: #008080; text-decoration-color: #008080; font-weight: bold\">1</span>    Microglia\n",
       "PFCSample8_GCAATCACAAGGACTG-<span style=\"color: #008080; text-decoration-color: #008080; font-weight: bold\">1</span>    Microglia\n",
       "PFCSample8_GGACAAGGTCGAGTTT-<span style=\"color: #008080; text-decoration-color: #008080; font-weight: bold\">1</span>    Microglia\n",
       "Name: cell_type, Length: <span style=\"color: #008080; text-decoration-color: #008080; font-weight: bold\">5486</span>, dtype: category\n",
       "Categories <span style=\"font-weight: bold\">(</span><span style=\"color: #008080; text-decoration-color: #008080; font-weight: bold\">8</span>, object<span style=\"font-weight: bold\">)</span>: <span style=\"font-weight: bold\">[</span><span style=\"color: #008000; text-decoration-color: #008000\">'Astro'</span>, <span style=\"color: #008000; text-decoration-color: #008000\">'Endo'</span>, <span style=\"color: #008000; text-decoration-color: #008000\">'Excitatory'</span>, <span style=\"color: #008000; text-decoration-color: #008000\">'Inhibitory'</span>, <span style=\"color: #008000; text-decoration-color: #008000\">'Microglia'</span>, <span style=\"color: #008000; text-decoration-color: #008000\">'NF Oligo'</span>, <span style=\"color: #008000; text-decoration-color: #008000\">'OPC'</span>, <span style=\"color: #008000; text-decoration-color: #008000\">'Oligo'</span><span style=\"font-weight: bold\">]</span>\n",
       "</pre>\n"
      ],
      "text/plain": [
       "index\n",
       "PFCSample1_CCGTTCACAATGACCT-\u001b[1;36m0\u001b[0m        Astro\n",
       "PFCSample1_CCTACCAAGACGCAAC-\u001b[1;36m0\u001b[0m        Astro\n",
       "PFCSample1_TCAGGTAGTAGTACCT-\u001b[1;36m0\u001b[0m        Astro\n",
       "PFCSample4_AAATGCCAGCAGCCTC-\u001b[1;36m0\u001b[0m        Astro\n",
       "PFCSample4_AGCCTAACAGCTGTTA-\u001b[1;36m0\u001b[0m        Astro\n",
       "                                   \u001b[33m...\u001b[0m    \n",
       "PFCSample6_TGCTGCTCAGGTTTCA-\u001b[1;36m1\u001b[0m    Microglia\n",
       "PFCSample8_ATGCGATCAATGGAGC-\u001b[1;36m1\u001b[0m    Microglia\n",
       "PFCSample8_CTCGGAGTCAGTTGAC-\u001b[1;36m1\u001b[0m    Microglia\n",
       "PFCSample8_GCAATCACAAGGACTG-\u001b[1;36m1\u001b[0m    Microglia\n",
       "PFCSample8_GGACAAGGTCGAGTTT-\u001b[1;36m1\u001b[0m    Microglia\n",
       "Name: cell_type, Length: \u001b[1;36m5486\u001b[0m, dtype: category\n",
       "Categories \u001b[1m(\u001b[0m\u001b[1;36m8\u001b[0m, object\u001b[1m)\u001b[0m: \u001b[1m[\u001b[0m\u001b[32m'Astro'\u001b[0m, \u001b[32m'Endo'\u001b[0m, \u001b[32m'Excitatory'\u001b[0m, \u001b[32m'Inhibitory'\u001b[0m, \u001b[32m'Microglia'\u001b[0m, \u001b[32m'NF Oligo'\u001b[0m, \u001b[32m'OPC'\u001b[0m, \u001b[32m'Oligo'\u001b[0m\u001b[1m]\u001b[0m\n"
      ]
     },
     "metadata": {},
     "output_type": "display_data"
    },
    {
     "data": {
      "text/html": [
       "<pre style=\"white-space:pre;overflow-x:auto;line-height:normal;font-family:Menlo,'DejaVu Sans Mono',consolas,'Courier New',monospace\">index\n",
       "PFCSample1_CCGTTCACAATGACCT-<span style=\"color: #008080; text-decoration-color: #008080; font-weight: bold\">0</span>        Astro\n",
       "PFCSample1_CCTACCAAGACGCAAC-<span style=\"color: #008080; text-decoration-color: #008080; font-weight: bold\">0</span>        Astro\n",
       "PFCSample1_TCAGGTAGTAGTACCT-<span style=\"color: #008080; text-decoration-color: #008080; font-weight: bold\">0</span>        Astro\n",
       "PFCSample4_AAATGCCAGCAGCCTC-<span style=\"color: #008080; text-decoration-color: #008080; font-weight: bold\">0</span>        Astro\n",
       "PFCSample4_AGCCTAACAGCTGTTA-<span style=\"color: #008080; text-decoration-color: #008080; font-weight: bold\">0</span>        Astro\n",
       "                                   <span style=\"color: #808000; text-decoration-color: #808000\">...</span>    \n",
       "PFCSample6_TGCTGCTCAGGTTTCA-<span style=\"color: #008080; text-decoration-color: #008080; font-weight: bold\">1</span>    Microglia\n",
       "PFCSample8_ATGCGATCAATGGAGC-<span style=\"color: #008080; text-decoration-color: #008080; font-weight: bold\">1</span>    Microglia\n",
       "PFCSample8_CTCGGAGTCAGTTGAC-<span style=\"color: #008080; text-decoration-color: #008080; font-weight: bold\">1</span>    Microglia\n",
       "PFCSample8_GCAATCACAAGGACTG-<span style=\"color: #008080; text-decoration-color: #008080; font-weight: bold\">1</span>    Microglia\n",
       "PFCSample8_GGACAAGGTCGAGTTT-<span style=\"color: #008080; text-decoration-color: #008080; font-weight: bold\">1</span>    Microglia\n",
       "Name: cell_type, Length: <span style=\"color: #008080; text-decoration-color: #008080; font-weight: bold\">5486</span>, dtype: category\n",
       "Categories <span style=\"font-weight: bold\">(</span><span style=\"color: #008080; text-decoration-color: #008080; font-weight: bold\">8</span>, object<span style=\"font-weight: bold\">)</span>: <span style=\"font-weight: bold\">[</span><span style=\"color: #008000; text-decoration-color: #008000\">'Astro'</span>, <span style=\"color: #008000; text-decoration-color: #008000\">'Endo'</span>, <span style=\"color: #008000; text-decoration-color: #008000\">'Excitatory'</span>, <span style=\"color: #008000; text-decoration-color: #008000\">'Inhibitory'</span>, <span style=\"color: #008000; text-decoration-color: #008000\">'Microglia'</span>, <span style=\"color: #008000; text-decoration-color: #008000\">'NF Oligo'</span>, <span style=\"color: #008000; text-decoration-color: #008000\">'OPC'</span>, <span style=\"color: #008000; text-decoration-color: #008000\">'Oligo'</span><span style=\"font-weight: bold\">]</span>\n",
       "</pre>\n"
      ],
      "text/plain": [
       "index\n",
       "PFCSample1_CCGTTCACAATGACCT-\u001b[1;36m0\u001b[0m        Astro\n",
       "PFCSample1_CCTACCAAGACGCAAC-\u001b[1;36m0\u001b[0m        Astro\n",
       "PFCSample1_TCAGGTAGTAGTACCT-\u001b[1;36m0\u001b[0m        Astro\n",
       "PFCSample4_AAATGCCAGCAGCCTC-\u001b[1;36m0\u001b[0m        Astro\n",
       "PFCSample4_AGCCTAACAGCTGTTA-\u001b[1;36m0\u001b[0m        Astro\n",
       "                                   \u001b[33m...\u001b[0m    \n",
       "PFCSample6_TGCTGCTCAGGTTTCA-\u001b[1;36m1\u001b[0m    Microglia\n",
       "PFCSample8_ATGCGATCAATGGAGC-\u001b[1;36m1\u001b[0m    Microglia\n",
       "PFCSample8_CTCGGAGTCAGTTGAC-\u001b[1;36m1\u001b[0m    Microglia\n",
       "PFCSample8_GCAATCACAAGGACTG-\u001b[1;36m1\u001b[0m    Microglia\n",
       "PFCSample8_GGACAAGGTCGAGTTT-\u001b[1;36m1\u001b[0m    Microglia\n",
       "Name: cell_type, Length: \u001b[1;36m5486\u001b[0m, dtype: category\n",
       "Categories \u001b[1m(\u001b[0m\u001b[1;36m8\u001b[0m, object\u001b[1m)\u001b[0m: \u001b[1m[\u001b[0m\u001b[32m'Astro'\u001b[0m, \u001b[32m'Endo'\u001b[0m, \u001b[32m'Excitatory'\u001b[0m, \u001b[32m'Inhibitory'\u001b[0m, \u001b[32m'Microglia'\u001b[0m, \u001b[32m'NF Oligo'\u001b[0m, \u001b[32m'OPC'\u001b[0m, \u001b[32m'Oligo'\u001b[0m\u001b[1m]\u001b[0m\n"
      ]
     },
     "metadata": {},
     "output_type": "display_data"
    },
    {
     "data": {
      "text/html": [
       "<pre style=\"white-space:pre;overflow-x:auto;line-height:normal;font-family:Menlo,'DejaVu Sans Mono',consolas,'Courier New',monospace\">index\n",
       "PFCSample1_CCGTTCACAATGACCT-<span style=\"color: #008080; text-decoration-color: #008080; font-weight: bold\">0</span>        Astro\n",
       "PFCSample1_CCTACCAAGACGCAAC-<span style=\"color: #008080; text-decoration-color: #008080; font-weight: bold\">0</span>        Astro\n",
       "PFCSample1_TCAGGTAGTAGTACCT-<span style=\"color: #008080; text-decoration-color: #008080; font-weight: bold\">0</span>        Astro\n",
       "PFCSample4_AAATGCCAGCAGCCTC-<span style=\"color: #008080; text-decoration-color: #008080; font-weight: bold\">0</span>        Astro\n",
       "PFCSample4_AGCCTAACAGCTGTTA-<span style=\"color: #008080; text-decoration-color: #008080; font-weight: bold\">0</span>        Astro\n",
       "                                   <span style=\"color: #808000; text-decoration-color: #808000\">...</span>    \n",
       "PFCSample6_TGCTGCTCAGGTTTCA-<span style=\"color: #008080; text-decoration-color: #008080; font-weight: bold\">1</span>    Microglia\n",
       "PFCSample8_ATGCGATCAATGGAGC-<span style=\"color: #008080; text-decoration-color: #008080; font-weight: bold\">1</span>    Microglia\n",
       "PFCSample8_CTCGGAGTCAGTTGAC-<span style=\"color: #008080; text-decoration-color: #008080; font-weight: bold\">1</span>    Microglia\n",
       "PFCSample8_GCAATCACAAGGACTG-<span style=\"color: #008080; text-decoration-color: #008080; font-weight: bold\">1</span>    Microglia\n",
       "PFCSample8_GGACAAGGTCGAGTTT-<span style=\"color: #008080; text-decoration-color: #008080; font-weight: bold\">1</span>    Microglia\n",
       "Name: cell_type, Length: <span style=\"color: #008080; text-decoration-color: #008080; font-weight: bold\">5486</span>, dtype: category\n",
       "Categories <span style=\"font-weight: bold\">(</span><span style=\"color: #008080; text-decoration-color: #008080; font-weight: bold\">8</span>, object<span style=\"font-weight: bold\">)</span>: <span style=\"font-weight: bold\">[</span><span style=\"color: #008000; text-decoration-color: #008000\">'Astro'</span>, <span style=\"color: #008000; text-decoration-color: #008000\">'Endo'</span>, <span style=\"color: #008000; text-decoration-color: #008000\">'Excitatory'</span>, <span style=\"color: #008000; text-decoration-color: #008000\">'Inhibitory'</span>, <span style=\"color: #008000; text-decoration-color: #008000\">'Microglia'</span>, <span style=\"color: #008000; text-decoration-color: #008000\">'NF Oligo'</span>, <span style=\"color: #008000; text-decoration-color: #008000\">'OPC'</span>, <span style=\"color: #008000; text-decoration-color: #008000\">'Oligo'</span><span style=\"font-weight: bold\">]</span>\n",
       "</pre>\n"
      ],
      "text/plain": [
       "index\n",
       "PFCSample1_CCGTTCACAATGACCT-\u001b[1;36m0\u001b[0m        Astro\n",
       "PFCSample1_CCTACCAAGACGCAAC-\u001b[1;36m0\u001b[0m        Astro\n",
       "PFCSample1_TCAGGTAGTAGTACCT-\u001b[1;36m0\u001b[0m        Astro\n",
       "PFCSample4_AAATGCCAGCAGCCTC-\u001b[1;36m0\u001b[0m        Astro\n",
       "PFCSample4_AGCCTAACAGCTGTTA-\u001b[1;36m0\u001b[0m        Astro\n",
       "                                   \u001b[33m...\u001b[0m    \n",
       "PFCSample6_TGCTGCTCAGGTTTCA-\u001b[1;36m1\u001b[0m    Microglia\n",
       "PFCSample8_ATGCGATCAATGGAGC-\u001b[1;36m1\u001b[0m    Microglia\n",
       "PFCSample8_CTCGGAGTCAGTTGAC-\u001b[1;36m1\u001b[0m    Microglia\n",
       "PFCSample8_GCAATCACAAGGACTG-\u001b[1;36m1\u001b[0m    Microglia\n",
       "PFCSample8_GGACAAGGTCGAGTTT-\u001b[1;36m1\u001b[0m    Microglia\n",
       "Name: cell_type, Length: \u001b[1;36m5486\u001b[0m, dtype: category\n",
       "Categories \u001b[1m(\u001b[0m\u001b[1;36m8\u001b[0m, object\u001b[1m)\u001b[0m: \u001b[1m[\u001b[0m\u001b[32m'Astro'\u001b[0m, \u001b[32m'Endo'\u001b[0m, \u001b[32m'Excitatory'\u001b[0m, \u001b[32m'Inhibitory'\u001b[0m, \u001b[32m'Microglia'\u001b[0m, \u001b[32m'NF Oligo'\u001b[0m, \u001b[32m'OPC'\u001b[0m, \u001b[32m'Oligo'\u001b[0m\u001b[1m]\u001b[0m\n"
      ]
     },
     "metadata": {},
     "output_type": "display_data"
    },
    {
     "data": {
      "text/html": [
       "<pre style=\"white-space:pre;overflow-x:auto;line-height:normal;font-family:Menlo,'DejaVu Sans Mono',consolas,'Courier New',monospace\">index\n",
       "PFCSample1_CCGTTCACAATGACCT-<span style=\"color: #008080; text-decoration-color: #008080; font-weight: bold\">0</span>        Astro\n",
       "PFCSample1_CCTACCAAGACGCAAC-<span style=\"color: #008080; text-decoration-color: #008080; font-weight: bold\">0</span>        Astro\n",
       "PFCSample1_TCAGGTAGTAGTACCT-<span style=\"color: #008080; text-decoration-color: #008080; font-weight: bold\">0</span>        Astro\n",
       "PFCSample4_AAATGCCAGCAGCCTC-<span style=\"color: #008080; text-decoration-color: #008080; font-weight: bold\">0</span>        Astro\n",
       "PFCSample4_AGCCTAACAGCTGTTA-<span style=\"color: #008080; text-decoration-color: #008080; font-weight: bold\">0</span>        Astro\n",
       "                                   <span style=\"color: #808000; text-decoration-color: #808000\">...</span>    \n",
       "PFCSample6_TGCTGCTCAGGTTTCA-<span style=\"color: #008080; text-decoration-color: #008080; font-weight: bold\">1</span>    Microglia\n",
       "PFCSample8_ATGCGATCAATGGAGC-<span style=\"color: #008080; text-decoration-color: #008080; font-weight: bold\">1</span>    Microglia\n",
       "PFCSample8_CTCGGAGTCAGTTGAC-<span style=\"color: #008080; text-decoration-color: #008080; font-weight: bold\">1</span>    Microglia\n",
       "PFCSample8_GCAATCACAAGGACTG-<span style=\"color: #008080; text-decoration-color: #008080; font-weight: bold\">1</span>    Microglia\n",
       "PFCSample8_GGACAAGGTCGAGTTT-<span style=\"color: #008080; text-decoration-color: #008080; font-weight: bold\">1</span>    Microglia\n",
       "Name: cell_type, Length: <span style=\"color: #008080; text-decoration-color: #008080; font-weight: bold\">5486</span>, dtype: category\n",
       "Categories <span style=\"font-weight: bold\">(</span><span style=\"color: #008080; text-decoration-color: #008080; font-weight: bold\">8</span>, object<span style=\"font-weight: bold\">)</span>: <span style=\"font-weight: bold\">[</span><span style=\"color: #008000; text-decoration-color: #008000\">'Astro'</span>, <span style=\"color: #008000; text-decoration-color: #008000\">'Endo'</span>, <span style=\"color: #008000; text-decoration-color: #008000\">'Excitatory'</span>, <span style=\"color: #008000; text-decoration-color: #008000\">'Inhibitory'</span>, <span style=\"color: #008000; text-decoration-color: #008000\">'Microglia'</span>, <span style=\"color: #008000; text-decoration-color: #008000\">'NF Oligo'</span>, <span style=\"color: #008000; text-decoration-color: #008000\">'OPC'</span>, <span style=\"color: #008000; text-decoration-color: #008000\">'Oligo'</span><span style=\"font-weight: bold\">]</span>\n",
       "</pre>\n"
      ],
      "text/plain": [
       "index\n",
       "PFCSample1_CCGTTCACAATGACCT-\u001b[1;36m0\u001b[0m        Astro\n",
       "PFCSample1_CCTACCAAGACGCAAC-\u001b[1;36m0\u001b[0m        Astro\n",
       "PFCSample1_TCAGGTAGTAGTACCT-\u001b[1;36m0\u001b[0m        Astro\n",
       "PFCSample4_AAATGCCAGCAGCCTC-\u001b[1;36m0\u001b[0m        Astro\n",
       "PFCSample4_AGCCTAACAGCTGTTA-\u001b[1;36m0\u001b[0m        Astro\n",
       "                                   \u001b[33m...\u001b[0m    \n",
       "PFCSample6_TGCTGCTCAGGTTTCA-\u001b[1;36m1\u001b[0m    Microglia\n",
       "PFCSample8_ATGCGATCAATGGAGC-\u001b[1;36m1\u001b[0m    Microglia\n",
       "PFCSample8_CTCGGAGTCAGTTGAC-\u001b[1;36m1\u001b[0m    Microglia\n",
       "PFCSample8_GCAATCACAAGGACTG-\u001b[1;36m1\u001b[0m    Microglia\n",
       "PFCSample8_GGACAAGGTCGAGTTT-\u001b[1;36m1\u001b[0m    Microglia\n",
       "Name: cell_type, Length: \u001b[1;36m5486\u001b[0m, dtype: category\n",
       "Categories \u001b[1m(\u001b[0m\u001b[1;36m8\u001b[0m, object\u001b[1m)\u001b[0m: \u001b[1m[\u001b[0m\u001b[32m'Astro'\u001b[0m, \u001b[32m'Endo'\u001b[0m, \u001b[32m'Excitatory'\u001b[0m, \u001b[32m'Inhibitory'\u001b[0m, \u001b[32m'Microglia'\u001b[0m, \u001b[32m'NF Oligo'\u001b[0m, \u001b[32m'OPC'\u001b[0m, \u001b[32m'Oligo'\u001b[0m\u001b[1m]\u001b[0m\n"
      ]
     },
     "metadata": {},
     "output_type": "display_data"
    },
    {
     "data": {
      "text/html": [
       "<pre style=\"white-space:pre;overflow-x:auto;line-height:normal;font-family:Menlo,'DejaVu Sans Mono',consolas,'Courier New',monospace\">index\n",
       "PFCSample1_CCGTTCACAATGACCT-<span style=\"color: #008080; text-decoration-color: #008080; font-weight: bold\">0</span>        Astro\n",
       "PFCSample1_CCTACCAAGACGCAAC-<span style=\"color: #008080; text-decoration-color: #008080; font-weight: bold\">0</span>        Astro\n",
       "PFCSample1_TCAGGTAGTAGTACCT-<span style=\"color: #008080; text-decoration-color: #008080; font-weight: bold\">0</span>        Astro\n",
       "PFCSample4_AAATGCCAGCAGCCTC-<span style=\"color: #008080; text-decoration-color: #008080; font-weight: bold\">0</span>        Astro\n",
       "PFCSample4_AGCCTAACAGCTGTTA-<span style=\"color: #008080; text-decoration-color: #008080; font-weight: bold\">0</span>        Astro\n",
       "                                   <span style=\"color: #808000; text-decoration-color: #808000\">...</span>    \n",
       "PFCSample6_TGCTGCTCAGGTTTCA-<span style=\"color: #008080; text-decoration-color: #008080; font-weight: bold\">1</span>    Microglia\n",
       "PFCSample8_ATGCGATCAATGGAGC-<span style=\"color: #008080; text-decoration-color: #008080; font-weight: bold\">1</span>    Microglia\n",
       "PFCSample8_CTCGGAGTCAGTTGAC-<span style=\"color: #008080; text-decoration-color: #008080; font-weight: bold\">1</span>    Microglia\n",
       "PFCSample8_GCAATCACAAGGACTG-<span style=\"color: #008080; text-decoration-color: #008080; font-weight: bold\">1</span>    Microglia\n",
       "PFCSample8_GGACAAGGTCGAGTTT-<span style=\"color: #008080; text-decoration-color: #008080; font-weight: bold\">1</span>    Microglia\n",
       "Name: cell_type, Length: <span style=\"color: #008080; text-decoration-color: #008080; font-weight: bold\">5486</span>, dtype: category\n",
       "Categories <span style=\"font-weight: bold\">(</span><span style=\"color: #008080; text-decoration-color: #008080; font-weight: bold\">8</span>, object<span style=\"font-weight: bold\">)</span>: <span style=\"font-weight: bold\">[</span><span style=\"color: #008000; text-decoration-color: #008000\">'Astro'</span>, <span style=\"color: #008000; text-decoration-color: #008000\">'Endo'</span>, <span style=\"color: #008000; text-decoration-color: #008000\">'Excitatory'</span>, <span style=\"color: #008000; text-decoration-color: #008000\">'Inhibitory'</span>, <span style=\"color: #008000; text-decoration-color: #008000\">'Microglia'</span>, <span style=\"color: #008000; text-decoration-color: #008000\">'NF Oligo'</span>, <span style=\"color: #008000; text-decoration-color: #008000\">'OPC'</span>, <span style=\"color: #008000; text-decoration-color: #008000\">'Oligo'</span><span style=\"font-weight: bold\">]</span>\n",
       "</pre>\n"
      ],
      "text/plain": [
       "index\n",
       "PFCSample1_CCGTTCACAATGACCT-\u001b[1;36m0\u001b[0m        Astro\n",
       "PFCSample1_CCTACCAAGACGCAAC-\u001b[1;36m0\u001b[0m        Astro\n",
       "PFCSample1_TCAGGTAGTAGTACCT-\u001b[1;36m0\u001b[0m        Astro\n",
       "PFCSample4_AAATGCCAGCAGCCTC-\u001b[1;36m0\u001b[0m        Astro\n",
       "PFCSample4_AGCCTAACAGCTGTTA-\u001b[1;36m0\u001b[0m        Astro\n",
       "                                   \u001b[33m...\u001b[0m    \n",
       "PFCSample6_TGCTGCTCAGGTTTCA-\u001b[1;36m1\u001b[0m    Microglia\n",
       "PFCSample8_ATGCGATCAATGGAGC-\u001b[1;36m1\u001b[0m    Microglia\n",
       "PFCSample8_CTCGGAGTCAGTTGAC-\u001b[1;36m1\u001b[0m    Microglia\n",
       "PFCSample8_GCAATCACAAGGACTG-\u001b[1;36m1\u001b[0m    Microglia\n",
       "PFCSample8_GGACAAGGTCGAGTTT-\u001b[1;36m1\u001b[0m    Microglia\n",
       "Name: cell_type, Length: \u001b[1;36m5486\u001b[0m, dtype: category\n",
       "Categories \u001b[1m(\u001b[0m\u001b[1;36m8\u001b[0m, object\u001b[1m)\u001b[0m: \u001b[1m[\u001b[0m\u001b[32m'Astro'\u001b[0m, \u001b[32m'Endo'\u001b[0m, \u001b[32m'Excitatory'\u001b[0m, \u001b[32m'Inhibitory'\u001b[0m, \u001b[32m'Microglia'\u001b[0m, \u001b[32m'NF Oligo'\u001b[0m, \u001b[32m'OPC'\u001b[0m, \u001b[32m'Oligo'\u001b[0m\u001b[1m]\u001b[0m\n"
      ]
     },
     "metadata": {},
     "output_type": "display_data"
    },
    {
     "data": {
      "text/html": [
       "<pre style=\"white-space:pre;overflow-x:auto;line-height:normal;font-family:Menlo,'DejaVu Sans Mono',consolas,'Courier New',monospace\">index\n",
       "PFCSample1_CCGTTCACAATGACCT-<span style=\"color: #008080; text-decoration-color: #008080; font-weight: bold\">0</span>        Astro\n",
       "PFCSample1_CCTACCAAGACGCAAC-<span style=\"color: #008080; text-decoration-color: #008080; font-weight: bold\">0</span>        Astro\n",
       "PFCSample1_TCAGGTAGTAGTACCT-<span style=\"color: #008080; text-decoration-color: #008080; font-weight: bold\">0</span>        Astro\n",
       "PFCSample4_AAATGCCAGCAGCCTC-<span style=\"color: #008080; text-decoration-color: #008080; font-weight: bold\">0</span>        Astro\n",
       "PFCSample4_AGCCTAACAGCTGTTA-<span style=\"color: #008080; text-decoration-color: #008080; font-weight: bold\">0</span>        Astro\n",
       "                                   <span style=\"color: #808000; text-decoration-color: #808000\">...</span>    \n",
       "PFCSample6_TGCTGCTCAGGTTTCA-<span style=\"color: #008080; text-decoration-color: #008080; font-weight: bold\">1</span>    Microglia\n",
       "PFCSample8_ATGCGATCAATGGAGC-<span style=\"color: #008080; text-decoration-color: #008080; font-weight: bold\">1</span>    Microglia\n",
       "PFCSample8_CTCGGAGTCAGTTGAC-<span style=\"color: #008080; text-decoration-color: #008080; font-weight: bold\">1</span>    Microglia\n",
       "PFCSample8_GCAATCACAAGGACTG-<span style=\"color: #008080; text-decoration-color: #008080; font-weight: bold\">1</span>    Microglia\n",
       "PFCSample8_GGACAAGGTCGAGTTT-<span style=\"color: #008080; text-decoration-color: #008080; font-weight: bold\">1</span>    Microglia\n",
       "Name: cell_type, Length: <span style=\"color: #008080; text-decoration-color: #008080; font-weight: bold\">5486</span>, dtype: category\n",
       "Categories <span style=\"font-weight: bold\">(</span><span style=\"color: #008080; text-decoration-color: #008080; font-weight: bold\">8</span>, object<span style=\"font-weight: bold\">)</span>: <span style=\"font-weight: bold\">[</span><span style=\"color: #008000; text-decoration-color: #008000\">'Astro'</span>, <span style=\"color: #008000; text-decoration-color: #008000\">'Endo'</span>, <span style=\"color: #008000; text-decoration-color: #008000\">'Excitatory'</span>, <span style=\"color: #008000; text-decoration-color: #008000\">'Inhibitory'</span>, <span style=\"color: #008000; text-decoration-color: #008000\">'Microglia'</span>, <span style=\"color: #008000; text-decoration-color: #008000\">'NF Oligo'</span>, <span style=\"color: #008000; text-decoration-color: #008000\">'OPC'</span>, <span style=\"color: #008000; text-decoration-color: #008000\">'Oligo'</span><span style=\"font-weight: bold\">]</span>\n",
       "</pre>\n"
      ],
      "text/plain": [
       "index\n",
       "PFCSample1_CCGTTCACAATGACCT-\u001b[1;36m0\u001b[0m        Astro\n",
       "PFCSample1_CCTACCAAGACGCAAC-\u001b[1;36m0\u001b[0m        Astro\n",
       "PFCSample1_TCAGGTAGTAGTACCT-\u001b[1;36m0\u001b[0m        Astro\n",
       "PFCSample4_AAATGCCAGCAGCCTC-\u001b[1;36m0\u001b[0m        Astro\n",
       "PFCSample4_AGCCTAACAGCTGTTA-\u001b[1;36m0\u001b[0m        Astro\n",
       "                                   \u001b[33m...\u001b[0m    \n",
       "PFCSample6_TGCTGCTCAGGTTTCA-\u001b[1;36m1\u001b[0m    Microglia\n",
       "PFCSample8_ATGCGATCAATGGAGC-\u001b[1;36m1\u001b[0m    Microglia\n",
       "PFCSample8_CTCGGAGTCAGTTGAC-\u001b[1;36m1\u001b[0m    Microglia\n",
       "PFCSample8_GCAATCACAAGGACTG-\u001b[1;36m1\u001b[0m    Microglia\n",
       "PFCSample8_GGACAAGGTCGAGTTT-\u001b[1;36m1\u001b[0m    Microglia\n",
       "Name: cell_type, Length: \u001b[1;36m5486\u001b[0m, dtype: category\n",
       "Categories \u001b[1m(\u001b[0m\u001b[1;36m8\u001b[0m, object\u001b[1m)\u001b[0m: \u001b[1m[\u001b[0m\u001b[32m'Astro'\u001b[0m, \u001b[32m'Endo'\u001b[0m, \u001b[32m'Excitatory'\u001b[0m, \u001b[32m'Inhibitory'\u001b[0m, \u001b[32m'Microglia'\u001b[0m, \u001b[32m'NF Oligo'\u001b[0m, \u001b[32m'OPC'\u001b[0m, \u001b[32m'Oligo'\u001b[0m\u001b[1m]\u001b[0m\n"
      ]
     },
     "metadata": {},
     "output_type": "display_data"
    },
    {
     "data": {
      "text/html": [
       "<pre style=\"white-space:pre;overflow-x:auto;line-height:normal;font-family:Menlo,'DejaVu Sans Mono',consolas,'Courier New',monospace\">index\n",
       "PFCSample1_CCGTTCACAATGACCT-<span style=\"color: #008080; text-decoration-color: #008080; font-weight: bold\">0</span>        Astro\n",
       "PFCSample1_CCTACCAAGACGCAAC-<span style=\"color: #008080; text-decoration-color: #008080; font-weight: bold\">0</span>        Astro\n",
       "PFCSample1_TCAGGTAGTAGTACCT-<span style=\"color: #008080; text-decoration-color: #008080; font-weight: bold\">0</span>        Astro\n",
       "PFCSample4_AAATGCCAGCAGCCTC-<span style=\"color: #008080; text-decoration-color: #008080; font-weight: bold\">0</span>        Astro\n",
       "PFCSample4_AGCCTAACAGCTGTTA-<span style=\"color: #008080; text-decoration-color: #008080; font-weight: bold\">0</span>        Astro\n",
       "                                   <span style=\"color: #808000; text-decoration-color: #808000\">...</span>    \n",
       "PFCSample6_TGCTGCTCAGGTTTCA-<span style=\"color: #008080; text-decoration-color: #008080; font-weight: bold\">1</span>    Microglia\n",
       "PFCSample8_ATGCGATCAATGGAGC-<span style=\"color: #008080; text-decoration-color: #008080; font-weight: bold\">1</span>    Microglia\n",
       "PFCSample8_CTCGGAGTCAGTTGAC-<span style=\"color: #008080; text-decoration-color: #008080; font-weight: bold\">1</span>    Microglia\n",
       "PFCSample8_GCAATCACAAGGACTG-<span style=\"color: #008080; text-decoration-color: #008080; font-weight: bold\">1</span>    Microglia\n",
       "PFCSample8_GGACAAGGTCGAGTTT-<span style=\"color: #008080; text-decoration-color: #008080; font-weight: bold\">1</span>    Microglia\n",
       "Name: cell_type, Length: <span style=\"color: #008080; text-decoration-color: #008080; font-weight: bold\">5486</span>, dtype: category\n",
       "Categories <span style=\"font-weight: bold\">(</span><span style=\"color: #008080; text-decoration-color: #008080; font-weight: bold\">8</span>, object<span style=\"font-weight: bold\">)</span>: <span style=\"font-weight: bold\">[</span><span style=\"color: #008000; text-decoration-color: #008000\">'Astro'</span>, <span style=\"color: #008000; text-decoration-color: #008000\">'Endo'</span>, <span style=\"color: #008000; text-decoration-color: #008000\">'Excitatory'</span>, <span style=\"color: #008000; text-decoration-color: #008000\">'Inhibitory'</span>, <span style=\"color: #008000; text-decoration-color: #008000\">'Microglia'</span>, <span style=\"color: #008000; text-decoration-color: #008000\">'NF Oligo'</span>, <span style=\"color: #008000; text-decoration-color: #008000\">'OPC'</span>, <span style=\"color: #008000; text-decoration-color: #008000\">'Oligo'</span><span style=\"font-weight: bold\">]</span>\n",
       "</pre>\n"
      ],
      "text/plain": [
       "index\n",
       "PFCSample1_CCGTTCACAATGACCT-\u001b[1;36m0\u001b[0m        Astro\n",
       "PFCSample1_CCTACCAAGACGCAAC-\u001b[1;36m0\u001b[0m        Astro\n",
       "PFCSample1_TCAGGTAGTAGTACCT-\u001b[1;36m0\u001b[0m        Astro\n",
       "PFCSample4_AAATGCCAGCAGCCTC-\u001b[1;36m0\u001b[0m        Astro\n",
       "PFCSample4_AGCCTAACAGCTGTTA-\u001b[1;36m0\u001b[0m        Astro\n",
       "                                   \u001b[33m...\u001b[0m    \n",
       "PFCSample6_TGCTGCTCAGGTTTCA-\u001b[1;36m1\u001b[0m    Microglia\n",
       "PFCSample8_ATGCGATCAATGGAGC-\u001b[1;36m1\u001b[0m    Microglia\n",
       "PFCSample8_CTCGGAGTCAGTTGAC-\u001b[1;36m1\u001b[0m    Microglia\n",
       "PFCSample8_GCAATCACAAGGACTG-\u001b[1;36m1\u001b[0m    Microglia\n",
       "PFCSample8_GGACAAGGTCGAGTTT-\u001b[1;36m1\u001b[0m    Microglia\n",
       "Name: cell_type, Length: \u001b[1;36m5486\u001b[0m, dtype: category\n",
       "Categories \u001b[1m(\u001b[0m\u001b[1;36m8\u001b[0m, object\u001b[1m)\u001b[0m: \u001b[1m[\u001b[0m\u001b[32m'Astro'\u001b[0m, \u001b[32m'Endo'\u001b[0m, \u001b[32m'Excitatory'\u001b[0m, \u001b[32m'Inhibitory'\u001b[0m, \u001b[32m'Microglia'\u001b[0m, \u001b[32m'NF Oligo'\u001b[0m, \u001b[32m'OPC'\u001b[0m, \u001b[32m'Oligo'\u001b[0m\u001b[1m]\u001b[0m\n"
      ]
     },
     "metadata": {},
     "output_type": "display_data"
    },
    {
     "data": {
      "text/html": [
       "<pre style=\"white-space:pre;overflow-x:auto;line-height:normal;font-family:Menlo,'DejaVu Sans Mono',consolas,'Courier New',monospace\">index\n",
       "PFCSample1_CCGTTCACAATGACCT-<span style=\"color: #008080; text-decoration-color: #008080; font-weight: bold\">0</span>        Astro\n",
       "PFCSample1_CCTACCAAGACGCAAC-<span style=\"color: #008080; text-decoration-color: #008080; font-weight: bold\">0</span>        Astro\n",
       "PFCSample1_TCAGGTAGTAGTACCT-<span style=\"color: #008080; text-decoration-color: #008080; font-weight: bold\">0</span>        Astro\n",
       "PFCSample4_AAATGCCAGCAGCCTC-<span style=\"color: #008080; text-decoration-color: #008080; font-weight: bold\">0</span>        Astro\n",
       "PFCSample4_AGCCTAACAGCTGTTA-<span style=\"color: #008080; text-decoration-color: #008080; font-weight: bold\">0</span>        Astro\n",
       "                                   <span style=\"color: #808000; text-decoration-color: #808000\">...</span>    \n",
       "PFCSample6_TGCTGCTCAGGTTTCA-<span style=\"color: #008080; text-decoration-color: #008080; font-weight: bold\">1</span>    Microglia\n",
       "PFCSample8_ATGCGATCAATGGAGC-<span style=\"color: #008080; text-decoration-color: #008080; font-weight: bold\">1</span>    Microglia\n",
       "PFCSample8_CTCGGAGTCAGTTGAC-<span style=\"color: #008080; text-decoration-color: #008080; font-weight: bold\">1</span>    Microglia\n",
       "PFCSample8_GCAATCACAAGGACTG-<span style=\"color: #008080; text-decoration-color: #008080; font-weight: bold\">1</span>    Microglia\n",
       "PFCSample8_GGACAAGGTCGAGTTT-<span style=\"color: #008080; text-decoration-color: #008080; font-weight: bold\">1</span>    Microglia\n",
       "Name: cell_type, Length: <span style=\"color: #008080; text-decoration-color: #008080; font-weight: bold\">5486</span>, dtype: category\n",
       "Categories <span style=\"font-weight: bold\">(</span><span style=\"color: #008080; text-decoration-color: #008080; font-weight: bold\">8</span>, object<span style=\"font-weight: bold\">)</span>: <span style=\"font-weight: bold\">[</span><span style=\"color: #008000; text-decoration-color: #008000\">'Astro'</span>, <span style=\"color: #008000; text-decoration-color: #008000\">'Endo'</span>, <span style=\"color: #008000; text-decoration-color: #008000\">'Excitatory'</span>, <span style=\"color: #008000; text-decoration-color: #008000\">'Inhibitory'</span>, <span style=\"color: #008000; text-decoration-color: #008000\">'Microglia'</span>, <span style=\"color: #008000; text-decoration-color: #008000\">'NF Oligo'</span>, <span style=\"color: #008000; text-decoration-color: #008000\">'OPC'</span>, <span style=\"color: #008000; text-decoration-color: #008000\">'Oligo'</span><span style=\"font-weight: bold\">]</span>\n",
       "</pre>\n"
      ],
      "text/plain": [
       "index\n",
       "PFCSample1_CCGTTCACAATGACCT-\u001b[1;36m0\u001b[0m        Astro\n",
       "PFCSample1_CCTACCAAGACGCAAC-\u001b[1;36m0\u001b[0m        Astro\n",
       "PFCSample1_TCAGGTAGTAGTACCT-\u001b[1;36m0\u001b[0m        Astro\n",
       "PFCSample4_AAATGCCAGCAGCCTC-\u001b[1;36m0\u001b[0m        Astro\n",
       "PFCSample4_AGCCTAACAGCTGTTA-\u001b[1;36m0\u001b[0m        Astro\n",
       "                                   \u001b[33m...\u001b[0m    \n",
       "PFCSample6_TGCTGCTCAGGTTTCA-\u001b[1;36m1\u001b[0m    Microglia\n",
       "PFCSample8_ATGCGATCAATGGAGC-\u001b[1;36m1\u001b[0m    Microglia\n",
       "PFCSample8_CTCGGAGTCAGTTGAC-\u001b[1;36m1\u001b[0m    Microglia\n",
       "PFCSample8_GCAATCACAAGGACTG-\u001b[1;36m1\u001b[0m    Microglia\n",
       "PFCSample8_GGACAAGGTCGAGTTT-\u001b[1;36m1\u001b[0m    Microglia\n",
       "Name: cell_type, Length: \u001b[1;36m5486\u001b[0m, dtype: category\n",
       "Categories \u001b[1m(\u001b[0m\u001b[1;36m8\u001b[0m, object\u001b[1m)\u001b[0m: \u001b[1m[\u001b[0m\u001b[32m'Astro'\u001b[0m, \u001b[32m'Endo'\u001b[0m, \u001b[32m'Excitatory'\u001b[0m, \u001b[32m'Inhibitory'\u001b[0m, \u001b[32m'Microglia'\u001b[0m, \u001b[32m'NF Oligo'\u001b[0m, \u001b[32m'OPC'\u001b[0m, \u001b[32m'Oligo'\u001b[0m\u001b[1m]\u001b[0m\n"
      ]
     },
     "metadata": {},
     "output_type": "display_data"
    },
    {
     "data": {
      "text/html": [
       "<pre style=\"white-space:pre;overflow-x:auto;line-height:normal;font-family:Menlo,'DejaVu Sans Mono',consolas,'Courier New',monospace\"></pre>\n"
      ],
      "text/plain": []
     },
     "metadata": {},
     "output_type": "display_data"
    },
    {
     "data": {
      "text/html": [
       "<pre style=\"white-space:pre;overflow-x:auto;line-height:normal;font-family:Menlo,'DejaVu Sans Mono',consolas,'Courier New',monospace\">\n",
       "</pre>\n"
      ],
      "text/plain": [
       "\n"
      ]
     },
     "metadata": {},
     "output_type": "display_data"
    },
    {
     "data": {
      "text/html": [
       "<pre style=\"white-space:pre;overflow-x:auto;line-height:normal;font-family:Menlo,'DejaVu Sans Mono',consolas,'Courier New',monospace\"><span style=\"color: #808000; text-decoration-color: #808000; font-weight: bold\">Set smaller span value in the case of a `segmentation fault` error.</span>\n",
       "</pre>\n"
      ],
      "text/plain": [
       "\u001b[1;33mSet smaller span value in the case of a `segmentation fault` error.\u001b[0m\n"
      ]
     },
     "metadata": {},
     "output_type": "display_data"
    },
    {
     "data": {
      "text/html": [
       "<pre style=\"white-space:pre;overflow-x:auto;line-height:normal;font-family:Menlo,'DejaVu Sans Mono',consolas,'Courier New',monospace\"><span style=\"color: #808000; text-decoration-color: #808000; font-weight: bold\">Set larger span in case of svddc or other near singularities error.</span>\n",
       "</pre>\n"
      ],
      "text/plain": [
       "\u001b[1;33mSet larger span in case of svddc or other near singularities error.\u001b[0m\n"
      ]
     },
     "metadata": {},
     "output_type": "display_data"
    },
    {
     "data": {
      "application/vnd.jupyter.widget-view+json": {
       "model_id": "db825ee37d034a469a6175ea97923bde",
       "version_major": 2,
       "version_minor": 0
      },
      "text/plain": [
       "Output()"
      ]
     },
     "metadata": {},
     "output_type": "display_data"
    },
    {
     "data": {
      "text/html": [
       "<pre style=\"white-space:pre;overflow-x:auto;line-height:normal;font-family:Menlo,'DejaVu Sans Mono',consolas,'Courier New',monospace\"><span style=\"color: #800000; text-decoration-color: #800000; font-weight: bold\">Skipping Astro cell type - </span><span style=\"color: #800000; text-decoration-color: #800000; font-weight: bold\">486</span><span style=\"color: #800000; text-decoration-color: #800000; font-weight: bold\"> samples is less than min_cells </span><span style=\"color: #800000; text-decoration-color: #800000; font-weight: bold\">500</span><span style=\"color: #800000; text-decoration-color: #800000; font-weight: bold\">.</span>\n",
       "</pre>\n"
      ],
      "text/plain": [
       "\u001b[1;31mSkipping Astro cell type - \u001b[0m\u001b[1;31m486\u001b[0m\u001b[1;31m samples is less than min_cells \u001b[0m\u001b[1;31m500\u001b[0m\u001b[1;31m.\u001b[0m\n"
      ]
     },
     "metadata": {},
     "output_type": "display_data"
    },
    {
     "name": "stderr",
     "output_type": "stream",
     "text": [
      "Numba: Attempted to fork from a non-main thread, the TBB library may be in an invalid state in the child process.\n"
     ]
    },
    {
     "name": "stderr",
     "output_type": "stream",
     "text": [
      "Numba: Attempted to fork from a non-main thread, the TBB library may be in an invalid state in the child process.\n"
     ]
    },
    {
     "name": "stderr",
     "output_type": "stream",
     "text": [
      "Numba: Attempted to fork from a non-main thread, the TBB library may be in an invalid state in the child process.\n"
     ]
    },
    {
     "name": "stderr",
     "output_type": "stream",
     "text": [
      "Numba: Attempted to fork from a non-main thread, the TBB library may be in an invalid state in the child process.\n"
     ]
    },
    {
     "name": "stderr",
     "output_type": "stream",
     "text": [
      "Numba: Attempted to fork from a non-main thread, the TBB library may be in an invalid state in the child process.\n"
     ]
    },
    {
     "name": "stderr",
     "output_type": "stream",
     "text": [
      "Numba: Attempted to fork from a non-main thread, the TBB library may be in an invalid state in the child process.\n"
     ]
    },
    {
     "name": "stderr",
     "output_type": "stream",
     "text": [
      "Numba: Attempted to fork from a non-main thread, the TBB library may be in an invalid state in the child process.\n"
     ]
    },
    {
     "name": "stderr",
     "output_type": "stream",
     "text": [
      "Numba: Attempted to fork from a non-main thread, the TBB library may be in an invalid state in the child process.\n"
     ]
    },
    {
     "name": "stderr",
     "output_type": "stream",
     "text": [
      "Numba: Attempted to fork from a non-main thread, the TBB library may be in an invalid state in the child process.\n"
     ]
    },
    {
     "name": "stderr",
     "output_type": "stream",
     "text": [
      "/home/asline01/anaconda3/envs/py-bio/lib/python3.10/site-packages/scvi/_settings.py:63: UserWarning: Since v1.0.0, scvi-tools no longer uses a random seed by default. Run `scvi.settings.seed = 0` to reproduce results from previous versions.\n",
      "/home/asline01/anaconda3/envs/py-bio/lib/python3.10/site-packages/scvi/_settings.py:70: UserWarning: Setting `dl_pin_memory_gpu_training` is deprecated in v1.0 and will be removed in v1.1. Please pass in `pin_memory` to the data loaders instead.\n",
      "Numba: Attempted to fork from a non-main thread, the TBB library may be in an invalid state in the child process.\n"
     ]
    },
    {
     "name": "stdout",
     "output_type": "stream",
     "text": [
      "\u001b[1;33mTo use sccoda or tasccoda please install ete3 with \u001b[0m\u001b[1;32mpip install ete3\u001b[0m\n"
     ]
    },
    {
     "name": "stderr",
     "output_type": "stream",
     "text": [
      "/home/asline01/anaconda3/envs/py-bio/lib/python3.10/site-packages/scvi/_settings.py:63: UserWarning: Since v1.0.0, scvi-tools no longer uses a random seed by default. Run `scvi.settings.seed = 0` to reproduce results from previous versions.\n",
      "/home/asline01/anaconda3/envs/py-bio/lib/python3.10/site-packages/scvi/_settings.py:70: UserWarning: Setting `dl_pin_memory_gpu_training` is deprecated in v1.0 and will be removed in v1.1. Please pass in `pin_memory` to the data loaders instead.\n",
      "Numba: Attempted to fork from a non-main thread, the TBB library may be in an invalid state in the child process.\n"
     ]
    },
    {
     "name": "stdout",
     "output_type": "stream",
     "text": [
      "\u001b[1;33mTo use sccoda or tasccoda please install ete3 with \u001b[0m\u001b[1;32mpip install ete3\u001b[0m\n"
     ]
    },
    {
     "name": "stderr",
     "output_type": "stream",
     "text": [
      "/home/asline01/anaconda3/envs/py-bio/lib/python3.10/site-packages/scvi/_settings.py:63: UserWarning: Since v1.0.0, scvi-tools no longer uses a random seed by default. Run `scvi.settings.seed = 0` to reproduce results from previous versions.\n",
      "/home/asline01/anaconda3/envs/py-bio/lib/python3.10/site-packages/scvi/_settings.py:70: UserWarning: Setting `dl_pin_memory_gpu_training` is deprecated in v1.0 and will be removed in v1.1. Please pass in `pin_memory` to the data loaders instead.\n",
      "Numba: Attempted to fork from a non-main thread, the TBB library may be in an invalid state in the child process.\n"
     ]
    },
    {
     "name": "stdout",
     "output_type": "stream",
     "text": [
      "\u001b[1;33mTo use sccoda or tasccoda please install ete3 with \u001b[0m\u001b[1;32mpip install ete3\u001b[0m\n"
     ]
    },
    {
     "name": "stderr",
     "output_type": "stream",
     "text": [
      "/home/asline01/anaconda3/envs/py-bio/lib/python3.10/site-packages/scvi/_settings.py:63: UserWarning: Since v1.0.0, scvi-tools no longer uses a random seed by default. Run `scvi.settings.seed = 0` to reproduce results from previous versions.\n",
      "/home/asline01/anaconda3/envs/py-bio/lib/python3.10/site-packages/scvi/_settings.py:70: UserWarning: Setting `dl_pin_memory_gpu_training` is deprecated in v1.0 and will be removed in v1.1. Please pass in `pin_memory` to the data loaders instead.\n"
     ]
    },
    {
     "name": "stdout",
     "output_type": "stream",
     "text": [
      "\u001b[1;33mTo use sccoda or tasccoda please install ete3 with \u001b[0m\u001b[1;32mpip install ete3\u001b[0m\n"
     ]
    },
    {
     "name": "stderr",
     "output_type": "stream",
     "text": [
      "/home/asline01/anaconda3/envs/py-bio/lib/python3.10/site-packages/scvi/_settings.py:63: UserWarning: Since v1.0.0, scvi-tools no longer uses a random seed by default. Run `scvi.settings.seed = 0` to reproduce results from previous versions.\n",
      "/home/asline01/anaconda3/envs/py-bio/lib/python3.10/site-packages/scvi/_settings.py:70: UserWarning: Setting `dl_pin_memory_gpu_training` is deprecated in v1.0 and will be removed in v1.1. Please pass in `pin_memory` to the data loaders instead.\n"
     ]
    },
    {
     "name": "stdout",
     "output_type": "stream",
     "text": [
      "\u001b[1;33mTo use sccoda or tasccoda please install ete3 with \u001b[0m\u001b[1;32mpip install ete3\u001b[0m\n"
     ]
    },
    {
     "name": "stderr",
     "output_type": "stream",
     "text": [
      "/home/asline01/anaconda3/envs/py-bio/lib/python3.10/site-packages/scvi/_settings.py:63: UserWarning: Since v1.0.0, scvi-tools no longer uses a random seed by default. Run `scvi.settings.seed = 0` to reproduce results from previous versions.\n",
      "/home/asline01/anaconda3/envs/py-bio/lib/python3.10/site-packages/scvi/_settings.py:70: UserWarning: Setting `dl_pin_memory_gpu_training` is deprecated in v1.0 and will be removed in v1.1. Please pass in `pin_memory` to the data loaders instead.\n"
     ]
    },
    {
     "name": "stdout",
     "output_type": "stream",
     "text": [
      "\u001b[1;33mTo use sccoda or tasccoda please install ete3 with \u001b[0m\u001b[1;32mpip install ete3\u001b[0m\n"
     ]
    },
    {
     "name": "stderr",
     "output_type": "stream",
     "text": [
      "/home/asline01/anaconda3/envs/py-bio/lib/python3.10/site-packages/scvi/_settings.py:63: UserWarning: Since v1.0.0, scvi-tools no longer uses a random seed by default. Run `scvi.settings.seed = 0` to reproduce results from previous versions.\n",
      "/home/asline01/anaconda3/envs/py-bio/lib/python3.10/site-packages/scvi/_settings.py:70: UserWarning: Setting `dl_pin_memory_gpu_training` is deprecated in v1.0 and will be removed in v1.1. Please pass in `pin_memory` to the data loaders instead.\n"
     ]
    },
    {
     "name": "stdout",
     "output_type": "stream",
     "text": [
      "\u001b[1;33mTo use sccoda or tasccoda please install ete3 with \u001b[0m\u001b[1;32mpip install ete3\u001b[0m\n"
     ]
    },
    {
     "name": "stderr",
     "output_type": "stream",
     "text": [
      "/home/asline01/anaconda3/envs/py-bio/lib/python3.10/site-packages/scvi/_settings.py:63: UserWarning: Since v1.0.0, scvi-tools no longer uses a random seed by default. Run `scvi.settings.seed = 0` to reproduce results from previous versions.\n",
      "/home/asline01/anaconda3/envs/py-bio/lib/python3.10/site-packages/scvi/_settings.py:70: UserWarning: Setting `dl_pin_memory_gpu_training` is deprecated in v1.0 and will be removed in v1.1. Please pass in `pin_memory` to the data loaders instead.\n"
     ]
    },
    {
     "name": "stdout",
     "output_type": "stream",
     "text": [
      "\u001b[1;33mTo use sccoda or tasccoda please install ete3 with \u001b[0m\u001b[1;32mpip install ete3\u001b[0m\n"
     ]
    },
    {
     "name": "stderr",
     "output_type": "stream",
     "text": [
      "/home/asline01/anaconda3/envs/py-bio/lib/python3.10/site-packages/scvi/_settings.py:63: UserWarning: Since v1.0.0, scvi-tools no longer uses a random seed by default. Run `scvi.settings.seed = 0` to reproduce results from previous versions.\n",
      "/home/asline01/anaconda3/envs/py-bio/lib/python3.10/site-packages/scvi/_settings.py:70: UserWarning: Setting `dl_pin_memory_gpu_training` is deprecated in v1.0 and will be removed in v1.1. Please pass in `pin_memory` to the data loaders instead.\n"
     ]
    },
    {
     "name": "stdout",
     "output_type": "stream",
     "text": [
      "\u001b[1;33mTo use sccoda or tasccoda please install ete3 with \u001b[0m\u001b[1;32mpip install ete3\u001b[0m\n"
     ]
    }
   ],
   "source": [
    "data_diff, results_diff, figs_aug_iff = cr.ax.perform_differential_prioritization(\n",
    "    adata, \"Maintenance_Cocaine\", \n",
    "    [\"withdraw_48h_Cocaine\", \"withdraw_15h_Cocaine\"],\n",
    "    n_permutations=2, n_subsamples=3, n_threads=n_threads, \n",
    "    classifier=\"random_forest_classifier\", plot=True)"
   ]
  }
 ],
 "metadata": {
  "kernelspec": {
   "display_name": "py-bio",
   "language": "python",
   "name": "python3"
  },
  "language_info": {
   "codemirror_mode": {
    "name": "ipython",
    "version": 3
   },
   "file_extension": ".py",
   "mimetype": "text/x-python",
   "name": "python",
   "nbconvert_exporter": "python",
   "pygments_lexer": "ipython3",
   "version": "3.10.4"
  },
  "orig_nbformat": 4
 },
 "nbformat": 4,
 "nbformat_minor": 2
}
