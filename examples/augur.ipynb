{
 "cells": [
  {
   "cell_type": "markdown",
   "metadata": {},
   "source": [
    "# Setup\n",
    "\n",
    "First, we need to initialize the object (a Pertpy package internal dataset), and if the object isn't already preprocessed and/or clustered, perform those steps.\n",
    "\n",
    "## Imports & Options"
   ]
  },
  {
   "cell_type": "code",
   "execution_count": 1,
   "metadata": {},
   "outputs": [
    {
     "data": {
      "text/html": [
       "<pre style=\"white-space:pre;overflow-x:auto;line-height:normal;font-family:Menlo,'DejaVu Sans Mono',consolas,'Courier New',monospace\"><span style=\"color: #808000; text-decoration-color: #808000; font-weight: bold\">ryp2 is not installed. Install with </span><span style=\"color: #008000; text-decoration-color: #008000; font-weight: bold\">pip install rpy2 </span><span style=\"color: #808000; text-decoration-color: #808000; font-weight: bold\">to run tools with R support.</span>\n",
       "</pre>\n"
      ],
      "text/plain": [
       "\u001b[1;33mryp2 is not installed. Install with \u001b[0m\u001b[1;32mpip install rpy2 \u001b[0m\u001b[1;33mto run tools with R support.\u001b[0m\n"
      ]
     },
     "metadata": {},
     "output_type": "display_data"
    },
    {
     "name": "stdout",
     "output_type": "stream",
     "text": [
      "\n",
      "Analysis Functions\n",
      "\tanalyze_composition\n",
      "\tcluster\n",
      "\tclustering\n",
      "\tcomposition\n",
      "\tcompute_distance\n",
      "\tfind_marker_genes\n",
      "\tperform_augur\n",
      "\tperform_celltypist\n",
      "\tperform_differential_prioritization\n",
      "\tperform_gsea\n",
      "\tperform_mixscape\n",
      "\tperturbations\n"
     ]
    },
    {
     "data": {
      "application/vnd.jupyter.widget-view+json": {
       "model_id": "27ea4bdc8dd34a049a40c94e0bc37e6f",
       "version_major": 2,
       "version_minor": 0
      },
      "text/plain": [
       "Output()"
      ]
     },
     "metadata": {},
     "output_type": "display_data"
    }
   ],
   "source": [
    "%load_ext autoreload\n",
    "%autoreload 2\n",
    "\n",
    "import crispr as cr \n",
    "from crispr import Crispr\n",
    "import pertpy as pt\n",
    "import scanpy as sc\n",
    "import pandas as pd\n",
    "import numpy as np\n",
    "\n",
    "# Options\n",
    "print(\"\\nAnalysis Functions\\n\\t\" + \"\\n\\t\".join(list(pd.Series(\n",
    "    [np.nan if \"__\" in x else x for x in dir(cr.ax)]).dropna())))\n",
    "file = \"perturb-seq\"\n",
    "pd.options.display.max_columns = 100\n",
    "\n",
    "#  Set Arguments\n",
    "kwargs_init = dict(assay=None,\n",
    "                   col_gene_symbols=\"gene_symbol\",  \n",
    "                   col_cell_type=\"celltype\", \n",
    "                   col_perturbed=\"perturbation\", \n",
    "                   col_guide_rna=\"perturbation\", \n",
    "                   col_num_umis=None,\n",
    "                   kws_process_guide_rna=None,\n",
    "                   col_condition=\"target_gene_name\", \n",
    "                   key_control=\"Control\", \n",
    "                   key_treatment=\"KO\")\n",
    "file_path = pt.dt.papalexi_2021()"
   ]
  },
  {
   "cell_type": "markdown",
   "metadata": {},
   "source": [
    "## Object\n",
    "\n",
    "This code instantiates the CRISPR object, which is the main way of interacting with this package as an end-user.\n",
    "\n",
    "This is more code than you would need in real life; it just ensures that certain public datasets are loaded from the source for various reasons."
   ]
  },
  {
   "cell_type": "code",
   "execution_count": null,
   "metadata": {},
   "outputs": [],
   "source": [
    "self = Crispr(file_path, **kwargs_init)"
   ]
  },
  {
   "cell_type": "markdown",
   "metadata": {},
   "source": [
    "# Processing\n",
    "\n",
    "We will just use defaults for the preprocessing arguments (very little filtering, consistent with the Pertpy tutorial for this object)."
   ]
  },
  {
   "cell_type": "markdown",
   "metadata": {},
   "source": [
    "## Preprocess"
   ]
  },
  {
   "cell_type": "code",
   "execution_count": null,
   "metadata": {},
   "outputs": [],
   "source": [
    "self.preprocess(kws_hvg=True)  # preprocessing "
   ]
  },
  {
   "cell_type": "markdown",
   "metadata": {},
   "source": [
    "## Cluster"
   ]
  },
  {
   "cell_type": "code",
   "execution_count": null,
   "metadata": {},
   "outputs": [],
   "source": [
    "_ = self.cluster()"
   ]
  },
  {
   "cell_type": "markdown",
   "metadata": {},
   "source": [
    "### CellTypist Annotations\n",
    "\n",
    "Now let's detect cell types using `CellTypist`."
   ]
  },
  {
   "cell_type": "code",
   "execution_count": null,
   "metadata": {},
   "outputs": [],
   "source": [
    "_ = self.annotate_clusters(\"ImmuneAllHigh.pkl\")"
   ]
  },
  {
   "cell_type": "markdown",
   "metadata": {},
   "source": [
    "# Inspection\n",
    "\n",
    "First, you can easily print the `.adata` representation, the gene expression modality `.obs` preview, and columns and keys stored in the object's attributes using the `print()` method."
   ]
  },
  {
   "cell_type": "code",
   "execution_count": null,
   "metadata": {},
   "outputs": [],
   "source": [
    "self.print()"
   ]
  },
  {
   "cell_type": "markdown",
   "metadata": {},
   "source": [
    "## Set Up Arguments for Later\n",
    "\n",
    "\n",
    "This code looks more complicated than it actually would actually be for an end user because it was made to be generalizable across several datasets with particular column names, sizes that make it necessary to subset them in order to run the vignettes in a reasonable period of time, etc.\n",
    "\n",
    "Basically, you won't need this code as an end user; this is just to choose random subsets of genes and perturbations, etc. that are available in a given example dataset.\n",
    "\n",
    "In real use cases, you will know what genes and conditions are of interest, and you can manually specify them by simply stating them in the appropriate arguments (such as `target_gene_idents`) or (in many cases) by not specifying the argument (resulting in the code using all available genes, etc.)."
   ]
  },
  {
   "cell_type": "code",
   "execution_count": null,
   "metadata": {},
   "outputs": [],
   "source": [
    "genes = self.rna.var.reset_index()[self._columns[\"col_gene_symbols\"]]\n",
    "genes_subset = list(pd.Series(genes).sample(10))\n",
    "target_gene_idents = list(self.obs[self._columns[\n",
    "    \"col_target_genes\"]].sample(10))  # 10 random guide gene targets"
   ]
  },
  {
   "cell_type": "markdown",
   "metadata": {},
   "source": [
    "## Explore Data Descriptives\n",
    "\n",
    "You can plot and explore descriptives using the `describe()` method."
   ]
  },
  {
   "cell_type": "code",
   "execution_count": null,
   "metadata": {},
   "outputs": [],
   "source": [
    "_ = self.describe()  # simple\n",
    "# _ = self.describe(group_by=self._columns[\"col_target_genes\"], plot=True)"
   ]
  },
  {
   "cell_type": "markdown",
   "metadata": {},
   "source": [
    "# Plots\n",
    "\n",
    "Create plots applicable to scRNA-seq data broadly (e.g., UMAP, dotplots) without having to do any perturbation-specific analyses.\n",
    "\n",
    "## Basic Usage\n",
    "\n",
    "You can create simple plots easily without having to remember a bunch of arguments to specify! \n",
    "\n",
    "The most useful is the `genes` argument, which allows you to subset the number of features plotted (useful for spead and layout/interpretability of plots)."
   ]
  },
  {
   "cell_type": "code",
   "execution_count": null,
   "metadata": {},
   "outputs": [],
   "source": [
    "# figs = self.plot(genes=[\"gene A\", \"gene B\"...])  # to specify specific genes\n",
    "figs = self.plot(genes=24)  # to specify random subset of this # of genes"
   ]
  },
  {
   "cell_type": "markdown",
   "metadata": {},
   "source": [
    "## Advanced Usage\n",
    "\n",
    "Use the `layers` argument to plot more layers (in this instance, all of them, including the scaled data) for certain plot types.\n",
    " \n",
    "Use the `cell_types_circle` argument to create a UMAP with certain cell types circled in red.\n",
    "\n",
    "Use the `genes_highlight` argument to highlight in gold the names of specified genes on the gene expression dot plot.\n",
    "\n",
    "Use the `kws_clustering` argument to specify a dictionary keywords to pass to certain UMAP-based plots. For instance, specify `kws_clustering=dict(col_cell_type=\"leiden\")` to use leiden clusters instead of whatever is stored in `self._columns[\"col_cell_type\"]`.\n",
    "\n",
    "Use the `kws_gex_violin` argument to pass additional arguments to the violin plots of gene expression."
   ]
  },
  {
   "cell_type": "code",
   "execution_count": null,
   "metadata": {},
   "outputs": [],
   "source": [
    "cct = \"predicted_labels\" if \"predicted_labels\" in self.rna.obs else None\n",
    "clus = list(self.rna.obs[cct].sample(2))  # clusters to circle\n",
    "figs = self.plot(genes=36, \n",
    "                 col_cell_type=cct,\n",
    "                 cell_types_circle=clus,  # list cell types to circle on UMAP\n",
    "                 genes_highlight=list(np.array(genes_subset)[1:3]), \n",
    "                 kws_gex_violin=dict(scale=\"area\", height=10),\n",
    "                 kws_umap=dict(col_cell_type=cct))"
   ]
  },
  {
   "cell_type": "markdown",
   "metadata": {},
   "source": [
    "## Specific Plots\n",
    "\n",
    "Use the package visualization sub-module function to make specific, customizable plots. \n",
    "\n",
    "Use arguments creatively to customize. For example, set the `col_cell_type` argument to the name of the perturbation condition column in the `plot_gex()` function to plot gene expression across perturbation conditions instead of cell types.\n",
    "\n",
    "Use `kws_<kind>` (replacing <kind> with the plot type, e.g., `kws_dot`) arguments to specify a dictionary of keyword arguments to pass to a Scanpy plotting functions (e.g., https://scanpy.readthedocs.io/en/stable/generated/scanpy.pl.dotplot.html) for further customization."
   ]
  },
  {
   "cell_type": "code",
   "execution_count": null,
   "metadata": {},
   "outputs": [],
   "source": [
    "# Scanpy Figure Defaults\n",
    "sc.set_figure_params(scanpy=True, dpi=100, dpi_save=200, frameon=True, \n",
    "                     fontsize=8, figsize=(20, 40), color_map=None, \n",
    "                     format=\"pdf\", facecolor=None, transparent=False)\n",
    "\n",
    "# Simple GEX Heatmap by Cell Type\n",
    "fig = self.plot(kind=\"hm\", genes=genes_subset, figsize=(60, 60))\n",
    "\n",
    "# Argument to Subset Data to Target Genes of Interest\n",
    "subset = list(self.rna.obs[self._columns[\"col_condition\"]].isin(\n",
    "    target_gene_idents))\n",
    "\n",
    "# Dot Plot\n",
    "fig = self.plot(subset=subset, kind=\"dot\",  # specify dot plot\n",
    "                col_cell_type=self._columns[\"col_condition\"], \n",
    "                genes=target_gene_idents)\n",
    "\n",
    "# Dot Plot with Genes Grouped & Labeled\n",
    "marker_genes_dict = {\"Monocyte\": [\"FCGR3A\", \"FCN1\", \"S100A4\", \"S100A6\"],\n",
    "                     \"B\": [\"CD79A\", \"CD19\"]\n",
    "                     }  # labeled ~ cell type here, but labels can be anything\n",
    "fig = self.plot(subset=subset, kind=\"dot\",  # specify dot plot\n",
    "                col_cell_type=self._columns[\"col_condition\"], \n",
    "                marker_genes_dict=marker_genes_dict)\n",
    "\n",
    "# Heatmap\n",
    "fig = self.plot(subset=subset, kind=\"hm\",  # specify heatmap plot\n",
    "                col_cell_type=self._columns[\"col_condition\"], \n",
    "                genes=target_gene_idents, figsize=(60, 60), layer=\"scaled\")\n",
    "\n",
    "# Matrix Plot\n",
    "fig = self.plot(subset=subset, kind=\"matrix\",  # specify heatmap plot\n",
    "                col_cell_type=self._columns[\"col_condition\"], \n",
    "                genes=target_gene_idents, layer=\"scaled\", figsize=(60, 60))"
   ]
  },
  {
   "cell_type": "markdown",
   "metadata": {},
   "source": [
    "# Analyses\n",
    "\n",
    "The following examples concern CRISPR or other perturbation design-specific analyses."
   ]
  },
  {
   "cell_type": "markdown",
   "metadata": {},
   "source": [
    "## Guide RNA Counts/Percentage"
   ]
  },
  {
   "cell_type": "code",
   "execution_count": null,
   "metadata": {},
   "outputs": [],
   "source": [
    "# Choose Subset of Target Genes (optional)\n",
    "tgis = list(pd.Series(target_gene_idents).sample(3)) if len(\n",
    "    target_gene_idents) > 3 else target_gene_idents  # smaller subset = faster\n",
    "cct = \"majority_voting\" if \"majority_voting\" in self.rna.obs else None\n",
    "\n",
    "# Guide RNA Counts\n",
    "_ = self.get_guide_rna_counts(target_gene_idents=tgis)\n",
    "\n",
    "# ...By Cell Type\n",
    "_ = self.get_guide_rna_counts(target_gene_idents=tgis, group_by=cct)\n",
    "\n",
    "# # ...By Target Gene Ultimately Assigned\n",
    "# _ = self.get_guide_rna_counts(target_gene_idents=tgis, \n",
    "#                               group_by=self._columns[\"col_target_genes\"])\n",
    "\n",
    "# ...By Cell Type & Target Gene Ultimately Assigned\n",
    "_ = self.get_guide_rna_counts(target_gene_idents=tgis, group_by=[\n",
    "    cct, self._columns[\"col_target_genes\"]], margin_titles=True)"
   ]
  },
  {
   "cell_type": "markdown",
   "metadata": {},
   "source": [
    "## Augur: Perturbation Responses by Cell Type\n",
    "\n",
    "**Which cell types are most affected by perturbations?** Quantify perturbation responses by cell type with Augur, which uses supervised machine learning classification of experimental condition labels (e.g., treated versus untreated). The more separable the condition among cells of a given type, the higher the perturbation effect score.\n",
    "\n",
    "<u> __Features__ </u>  \n",
    "\n",
    "- Quantify and visualize degree of perturbation response by cell type\n",
    "- Identify the most important features (genes).\n",
    "\n",
    "<u> __Input__ </u>  \n",
    "\n",
    "There are no required arguments. \n",
    "* If you want to override defaults drawn from `._columns` and/or `._keys`, specify the appropriate argument (e.g., `col_cell_type`). \n",
    "* You can also specify a different `classifer` (default \"random_forest_classifer\") used in the machine learning classification procedure used to calculate the AUCs/accuracy. \n",
    "* You may pass keyword arguments to the Augur predict method by specifying a dictionary in `kws_augur_predict`.\n",
    "* Specify `select_variance_features` as True to run the original Augur implementation, which removes genes that don't vary much across cell type. If False, use features selected by `scanpy.pp.highly_variable_genes()`, which is faster and sensitively recovers effects; however, the feature selection may yield inflated Augur scores because this reduced feature set is used in training, resulting in it taking advantage of the pre-existing power of this feature selection to separate cell types.\n",
    "* Specify `n_folds` and/or `subsample_size` to choose the number and sample size of folds in cross-validation.\n",
    "* Set an integer for `seed` to allow reproducibility across runs.\n",
    "\n",
    "<u> __Output__ </u>  \n",
    "\n",
    "Tuple, where the first element is the AnnData object created by the function, the second, the results dictionary, and the third, a dictionary of figures visualizing results. If copy is False (default), these outputs can also be found in `.results[\"augur\"]` and `.figures[\"augur\"]`.\n",
    "\n",
    "<u> __Notes__ </u>  \n",
    "\n",
    "- Sub-sample sizes equal across conditions; does not account for perturbation-induced compositional shifts (cell type abundance)\n",
    "- Scores are for cell types (aggregated across cells, not individual cells)\n",
    "- Two modes\n",
    "    - If select_variance_feature=True, \n",
    "    - If False, you also have to be sure that \"highly_variable_features\" is a variable in your data. This can be complicated if you have a separate layer for perturbation data."
   ]
  },
  {
   "cell_type": "code",
   "execution_count": null,
   "metadata": {},
   "outputs": [],
   "source": [
    "cct = \"majority_voting\" if \"majority_voting\" in self.rna.obs else \\\n",
    "    self._columns[\"col_cell_type\"]\n",
    "_ = self.run_augur(\n",
    "    col_cell_type=cct, \n",
    "    # ^ will be label in self._columns by default, but can override here\n",
    "    col_perturbed=self._columns[\"col_perturbed\"], \n",
    "    # ^ will be this by default if unspecified, but can override here\n",
    "    key_treatment=self._keys[\"key_treatment\"],  \n",
    "    # ^ will be this by default if unspecified, but can o verride here\n",
    "    select_variance_features=True,  # filter by highly variable genes\n",
    "    classifier=\"random_forest_classifier\", n_folds=3, augur_mode=\"default\", \n",
    "    kws_umap=kws_umap, subsample_size=5, kws_augur_predict=dict(span=0.7))"
   ]
  },
  {
   "cell_type": "markdown",
   "metadata": {},
   "source": [
    "## Mixscape: Cell-Level Perturbation Classification & Scoring\n",
    "\n",
    "**Is a perturbed cell detectibly perturbed, and to what extent?** Mixscape first calculates the \"**perturbation signature**\" by determining which control condition cells most closely resemble each perturbed cell in terms of mRNA expression and then subtracts the control expression from that of the perturbed cells' (i.e., centers perturbed cells' gene expression on their control neighbors).\n",
    "\n",
    "Then, it **identifies** and removes perturbed **cells with no detectible perturbation** (i.e., assigns them to predicted classes of perturbed versus not perturbed). You can then create visuals based on whether the cell is detectibly perturbed, \"non-perturbed\" (not detectibly perturbed), or control (no treatment). Optionally, you can visualize protein expression by this predicted class in certain multi-modal data.\n",
    "\n",
    "**Are there perturbation-specific clusters?** Mixscape uses linear discriminant analysis (LDA) to cluster cells that resemble each other in terms of gene expression and perturbation condition. _(LDA reduces dimensionality and attempts to maximize the separability of classes. Unperturbed cells are removed from analysis.)_ \n",
    "\n",
    "<u> __Features__ </u>  \n",
    "\n",
    "- Plot targeting efficiency.\n",
    "- Remove confounds (e.g., cell cycle, batch effects)\n",
    "- Classify cells as affected or unaffected (i.e., \"escapees\") by the perturbation\n",
    "- Quantify and visualize degree of perturbation response\n",
    "\n",
    "<u> __Input__ </u> \n",
    "\n",
    "See documentation, but the key arguments are listed here.\n",
    "\n",
    "* **col_cell_type**: If you want to run using a different cell classification column, (e.g., CellTypist annotations that weren't used for the original `self._columns[\"col_cell_type\"]``), you can specify a different column by passing `col_cell_type=<column name>` if you'd like.\n",
    "* **target_gene_idents**: A list of gene symbols to focus on in plots/analyses. Specify as True to include all.\n",
    "* **target_gene_idents**: The default layer of data used is \"log1p.\" Remember that Mixscape centers cells on their control neighbors when considering whether to use centered and/or scaled data.\n",
    "\n",
    "<u> __Output__ </u>  \n",
    "\n",
    "Assuming your `Crispr` object is named \"self\":\n",
    "- Targeting Efficiency: `self.figures[\"mixscape\"][\"targeting_efficiency\"]`\n",
    "- Differential Expression Ordered by Posterior Probabilities: `self.figures[\"mixscape\"][\"DEX_ordered_by_ppp_heat\"]`\n",
    "- Posterior Probabilities Violin Plot: `self.figures[\"mixscape\"][\"ppp_violin\"]`\n",
    "- Perturbation Scores: `self.figures[\"mixscape\"][\"perturbation_score\"]`\n",
    "- Perturbation Clusters (from LDA): `self.figures[\"mixscape\"][\"perturbation_clusters\"]`\n",
    "\n",
    "The above instructions are for accessing output via the object attributes. Assuming output is assigned to a variable `figs` (i.e., `figs = ` would replace the `_ = ` in the code below), replace `self.figures[\"mixscape\"]` in the above code with `figs`.\n",
    "\n",
    "<u> __Notes__ </u>  \n",
    "\n",
    "- If `._columns[\"col_sample_id\"]` is not None, perturbation scores will by default be calculated and/or plotted taking that into consideration (e.g., biological replicates) unless `col_split_by=False`. That argument can also be set to a different column name explicitly, in which case that specification will be used as the `col_split_by` argument in Pertpy Mixscape functions in place of sample ID."
   ]
  },
  {
   "cell_type": "markdown",
   "metadata": {},
   "source": [
    "#### Run Mixscape"
   ]
  },
  {
   "cell_type": "code",
   "execution_count": null,
   "metadata": {},
   "outputs": [],
   "source": [
    "import scanpy as sc\n",
    "import matplotlib.pyplot as plt\n",
    "\n",
    "adata = self.rna.copy()\n",
    "col_target_genes = self._columns[\"col_target_genes\"]\n",
    "target_gene_idents = [\"PDGFRA\", \"SP100\"]\n",
    "\n",
    "nrow, ncol = cr.pl.square_grid(len(target_gene_idents))\n",
    "\n",
    "fig, axs = plt.subplots(nrow, ncol, figsize=(50, 50))\n",
    "if \"flatten\" in dir(axs):\n",
    "    axs = axs.flatten()\n",
    "for i, x in enumerate(target_gene_idents):  # iterate target genes\n",
    "    try:\n",
    "        sc.pl.violin(\n",
    "            adata[adata.obs[col_target_genes] == x], keys=x,\n",
    "            groupby=\"mixscape_class_global\", ax=axs[i])\n",
    "    except Exception as err:\n",
    "        print(f\"{err}\\n\\nGene expression violin plot failed for {x}!\")\n",
    "        figs = err\n",
    "        "
   ]
  },
  {
   "cell_type": "code",
   "execution_count": null,
   "metadata": {},
   "outputs": [],
   "source": [
    "cct = \"predicted_labels\" if \"predicted_labels\" in self.rna.obs else None\n",
    "tgis = list(self.rna.obs[self._columns[\"col_target_genes\"]].sample(3))\n",
    "_ = self.run_mixscape(col_cell_type=cct, target_gene_idents=tgis)\n",
    "# _ = self.run_mixscape(target_gene_idents=True)  # plot all target genes"
   ]
  },
  {
   "cell_type": "markdown",
   "metadata": {},
   "source": [
    "#### Create Different Mixscape Plots\n",
    "\n",
    "If you want to re-create mixscape **plots with <u> different target genes and/or proteins of interest**</u> later, you can use `self.plot_mixscape(<ONE OR MORE TARGET GENES>)`. If you want a different color for the perturbation score curves, specify `color=` in that method."
   ]
  },
  {
   "cell_type": "code",
   "execution_count": null,
   "metadata": {},
   "outputs": [],
   "source": [
    "tgis = pd.Series(self.rna.uns[\"mixscape\"].keys()).sample(1)\n",
    "_ = self.plot_mixscape(tgis, color=\"red\")"
   ]
  },
  {
   "cell_type": "markdown",
   "metadata": {},
   "source": [
    "## Distance\n",
    "\n",
    "Distance Metrics\n",
    "\n",
    "See `self.figures[\"distances\"]` and  `self.results[\"distances\"]` for results."
   ]
  },
  {
   "cell_type": "code",
   "execution_count": null,
   "metadata": {},
   "outputs": [],
   "source": [
    "for x in [\"mmd\", \"edistance\"]:\n",
    "    _ = self.compute_distance(distance_type=x, method=\"X_pca\", kws_plot=dict(\n",
    "        figsize=(15, 15), robust=True))"
   ]
  },
  {
   "cell_type": "markdown",
   "metadata": {},
   "source": [
    "## Multi-Cellular Programs (Dialogue)"
   ]
  },
  {
   "cell_type": "code",
   "execution_count": null,
   "metadata": {},
   "outputs": [],
   "source": [
    "cct = \"majority_voting\" if \"majority_voting\" in self.rna.obs else \\\n",
    "    self._columns[\"col_cell_type\"]\n",
    "fig_mcp = self.run_dialogue(n_programs=4, col_cell_type=cct, cmap=\"coolwarm\")"
   ]
  }
 ],
 "metadata": {
  "kernelspec": {
   "display_name": "py-bio",
   "language": "python",
   "name": "python3"
  },
  "language_info": {
   "codemirror_mode": {
    "name": "ipython",
    "version": 3
   },
   "file_extension": ".py",
   "mimetype": "text/x-python",
   "name": "python",
   "nbconvert_exporter": "python",
   "pygments_lexer": "ipython3",
   "version": "3.10.4"
  },
  "orig_nbformat": 4
 },
 "nbformat": 4,
 "nbformat_minor": 2
}
