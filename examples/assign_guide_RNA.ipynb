{
 "cells": [
  {
   "cell_type": "markdown",
   "metadata": {},
   "source": [
    "# Setup"
   ]
  },
  {
   "cell_type": "code",
   "execution_count": 17,
   "metadata": {},
   "outputs": [
    {
     "ename": "ImportError",
     "evalue": "cannot import name 'perform_augur' from 'crispr.analysis.perturbations' (/home/asline01/anaconda3/envs/py-bio/lib/python3.10/site-packages/crispr/analysis/perturbations.py)",
     "output_type": "error",
     "traceback": [
      "\u001b[0;31m---------------------------------------------------------------------------\u001b[0m",
      "\u001b[0;31mImportError\u001b[0m                               Traceback (most recent call last)",
      "Cell \u001b[0;32mIn[17], line 4\u001b[0m\n\u001b[1;32m      2\u001b[0m \u001b[39mimport\u001b[39;00m \u001b[39mcrispr\u001b[39;00m\u001b[39m.\u001b[39;00m\u001b[39mprocessing\u001b[39;00m\u001b[39m.\u001b[39;00m\u001b[39mpreprocessing\u001b[39;00m \u001b[39mas\u001b[39;00m \u001b[39mpp\u001b[39;00m\n\u001b[1;32m      3\u001b[0m \u001b[39mimport\u001b[39;00m \u001b[39mcrispr\u001b[39;00m\u001b[39m.\u001b[39;00m\u001b[39manalysis\u001b[39;00m\u001b[39m.\u001b[39;00m\u001b[39mperturbations\u001b[39;00m \u001b[39mas\u001b[39;00m \u001b[39mca\u001b[39;00m\n\u001b[0;32m----> 4\u001b[0m \u001b[39mfrom\u001b[39;00m \u001b[39mcrispr\u001b[39;00m\u001b[39m.\u001b[39;00m\u001b[39manalysis\u001b[39;00m\u001b[39m.\u001b[39;00m\u001b[39mperturbations\u001b[39;00m \u001b[39mimport\u001b[39;00m perform_augur\n\u001b[1;32m      5\u001b[0m \u001b[39mimport\u001b[39;00m \u001b[39mpertpy\u001b[39;00m\n\u001b[1;32m      6\u001b[0m \u001b[39mimport\u001b[39;00m \u001b[39mos\u001b[39;00m\n",
      "\u001b[0;31mImportError\u001b[0m: cannot import name 'perform_augur' from 'crispr.analysis.perturbations' (/home/asline01/anaconda3/envs/py-bio/lib/python3.10/site-packages/crispr/analysis/perturbations.py)"
     ]
    }
   ],
   "source": [
    "import crispr as cr\n",
    "import crispr.processing.preprocessing as pp\n",
    "import crispr.analysis.perturbations as ca\n",
    "from crispr.analysis.perturbations import perform_augur\n",
    "import pertpy\n",
    "import os\n",
    "\n",
    "# File Paths\n",
    "DIR_PRJ = \"/home/asline01/projects/crispr-screening\"\n",
    "DIR_CRC = \"analysis/cellranger/cr_count_2023-05-09_0828\"\n",
    "SUBJ = \"HH03\"\n",
    "file = os.path.join(DIR_PRJ, DIR_CRC, f\"{SUBJ}/outs/filtered_feature_bc_matrix\")\n",
    "# file = \"CRISPRi\"\n",
    "# file = \"screen\"\n",
    "# file = \"2KO\"\n",
    "# file = \"bulk\"\n",
    "files_public_data = {\n",
    "    \"CRISPRi\": \"data/replogle_2022_k562_essential.h5ad\",\n",
    "    \"pool\": \"data/data_pertpy_normal_2019_raw.h5ad\",\n",
    "    \"bulk\": \"data/burczynski_crohn.h5ad\",\n",
    "    \"screen\": \"data/dixit_2016_raw.h5ad\"\n",
    "    }\n",
    "write_public = True  # if need to download public data, write to examples/data?\n",
    "print(file)"
   ]
  },
  {
   "cell_type": "markdown",
   "metadata": {},
   "source": [
    "## Data"
   ]
  },
  {
   "cell_type": "code",
   "execution_count": 3,
   "metadata": {},
   "outputs": [
    {
     "data": {
      "application/vnd.jupyter.widget-view+json": {
       "model_id": "e0781badcd2f430b87141a8a67cbe1ab",
       "version_major": 2,
       "version_minor": 0
      },
      "text/plain": [
       "Output()"
      ]
     },
     "metadata": {},
     "output_type": "display_data"
    },
    {
     "data": {
      "text/html": [
       "<pre style=\"white-space:pre;overflow-x:auto;line-height:normal;font-family:Menlo,'DejaVu Sans Mono',consolas,'Courier New',monospace\"></pre>\n"
      ],
      "text/plain": []
     },
     "metadata": {},
     "output_type": "display_data"
    },
    {
     "data": {
      "text/html": [
       "<pre style=\"white-space:pre;overflow-x:auto;line-height:normal;font-family:Menlo,'DejaVu Sans Mono',consolas,'Courier New',monospace\">\n",
       "</pre>\n"
      ],
      "text/plain": [
       "\n"
      ]
     },
     "metadata": {},
     "output_type": "display_data"
    }
   ],
   "source": [
    "adata = pertpy.data.adamson_2016_upr_perturb_seq()"
   ]
  },
  {
   "cell_type": "code",
   "execution_count": 16,
   "metadata": {},
   "outputs": [
    {
     "ename": "NameError",
     "evalue": "name 'crispr' is not defined",
     "output_type": "error",
     "traceback": [
      "\u001b[0;31m---------------------------------------------------------------------------\u001b[0m",
      "\u001b[0;31mNameError\u001b[0m                                 Traceback (most recent call last)",
      "Cell \u001b[0;32mIn[16], line 1\u001b[0m\n\u001b[0;32m----> 1\u001b[0m data, results, figs \u001b[39m=\u001b[39m crispr\u001b[39m.\u001b[39manalysis\u001b[39m.\u001b[39mperturbations\u001b[39m.\u001b[39mperform_augur(adata, classifier\u001b[39m=\u001b[39m\u001b[39m\"\u001b[39m\u001b[39mrandom_forest_classifier\u001b[39m\u001b[39m\"\u001b[39m, \n\u001b[1;32m      2\u001b[0m                                        augur_mode\u001b[39m=\u001b[39m\u001b[39m\"\u001b[39m\u001b[39mdefault\u001b[39m\u001b[39m\"\u001b[39m, subsample_size\u001b[39m=\u001b[39m\u001b[39m20\u001b[39m, n_threads\u001b[39m=\u001b[39m\u001b[39m4\u001b[39m, \n\u001b[1;32m      3\u001b[0m                                        label_col\u001b[39m=\u001b[39m\u001b[39m\"\u001b[39m\u001b[39mperturbation\u001b[39m\u001b[39m\"\u001b[39m, label_cell_type\u001b[39m=\u001b[39m\u001b[39m\"\u001b[39m\u001b[39mcelltype\u001b[39m\u001b[39m\"\u001b[39m,\n\u001b[1;32m      4\u001b[0m                                        label_condition\u001b[39m=\u001b[39m\u001b[39mNone\u001b[39;00m, label_treatment\u001b[39m=\u001b[39m\u001b[39mNone\u001b[39;00m, \n\u001b[1;32m      5\u001b[0m                                        random_state\u001b[39m=\u001b[39m\u001b[39m1618\u001b[39m)\n",
      "\u001b[0;31mNameError\u001b[0m: name 'crispr' is not defined"
     ]
    }
   ],
   "source": [
    "data, results, figs = perform_augur(adata, classifier=\"random_forest_classifier\", \n",
    "                                       augur_mode=\"default\", subsample_size=20, n_threads=4, \n",
    "                                       label_col=\"perturbation\", label_cell_type=\"celltype\",\n",
    "                                       label_condition=None, label_treatment=None, \n",
    "                                       random_state=1618)"
   ]
  },
  {
   "cell_type": "code",
   "execution_count": 20,
   "metadata": {},
   "outputs": [
    {
     "data": {
      "text/plain": [
       "AnnData object with n_obs × n_vars = 111445 × 33694\n",
       "    obs: 'guide_identity', 'read_count', 'UMI_count', 'coverage', 'gemgroup', 'good_coverage', 'number_of_cells', 'guide_AHR', 'guide_ARID1A', 'guide_ARRDC3', 'guide_ATL1', 'guide_BAK1', 'guide_BCL2L11', 'guide_BCORL1', 'guide_BPGM', 'guide_C19orf26', 'guide_C3orf72', 'guide_CBFA2T3', 'guide_CBL', 'guide_CDKN1A', 'guide_CDKN1B', 'guide_CDKN1C', 'guide_CEBPA', 'guide_CEBPB', 'guide_CEBPE', 'guide_CELF2', 'guide_CITED1', 'guide_CKS1B', 'guide_CLDN6', 'guide_CNN1', 'guide_CNNM4', 'guide_COL1A1', 'guide_COL2A1', 'guide_CSRNP1', 'guide_DLX2', 'guide_DUSP9', 'guide_EGR1', 'guide_ELMSAN1', 'guide_ETS2', 'guide_FEV', 'guide_FOSB', 'guide_FOXA1', 'guide_FOXA3', 'guide_FOXF1', 'guide_FOXL2', 'guide_FOXO4', 'guide_GLB1L2', 'guide_HES7', 'guide_HK2', 'guide_HNF4A', 'guide_HOXA13', 'guide_HOXB9', 'guide_HOXC13', 'guide_IER5L', 'guide_IGDCC3', 'guide_IKZF3', 'guide_IRF1', 'guide_ISL2', 'guide_JUN', 'guide_KIAA1804', 'guide_KIF18B', 'guide_KIF2C', 'guide_KLF1', 'guide_KMT2A', 'guide_LHX1', 'guide_LYL1', 'guide_MAML2', 'guide_MAP2K3', 'guide_MAP2K6', 'guide_MAP4K3', 'guide_MAP4K5', 'guide_MAP7D1', 'guide_MAPK1', 'guide_MEIS1', 'guide_MIDN', 'guide_NCL', 'guide_NIT1', 'guide_OSR2', 'guide_PLK4', 'guide_POU3F2', 'guide_PRDM1', 'guide_PRTG', 'guide_PTPN1', 'guide_PTPN12', 'guide_PTPN13', 'guide_PTPN9', 'guide_RHOXF2', 'guide_RREB1', 'guide_RUNX1T1', 'guide_S1PR2', 'guide_SAMD1', 'guide_SET', 'guide_SGK1', 'guide_SLC38A2', 'guide_SLC4A1', 'guide_SLC6A9', 'guide_SNAI1', 'guide_SPI1', 'guide_STIL', 'guide_TBX2', 'guide_TBX3', 'guide_TGFBR2', 'guide_TMSB4X', 'guide_TP73', 'guide_TSC22D1', 'guide_UBASH3A', 'guide_UBASH3B', 'guide_ZBTB1', 'guide_ZBTB10', 'guide_ZBTB25', 'guide_ZC3HAV1', 'guide_ZNF318', 'guide_ids'\n",
       "    var: 'gene_symbols'"
      ]
     },
     "execution_count": 20,
     "metadata": {},
     "output_type": "execute_result"
    }
   ],
   "source": [
    "# save h5ad from scanpy object"
   ]
  },
  {
   "cell_type": "code",
   "execution_count": 14,
   "metadata": {},
   "outputs": [],
   "source": [
    "if file in files_public_data:\n",
    "    if os.path.exists(files_public_data[file]):\n",
    "        adata = pp.create_object_scanpy(files_public_data[file])  # create scanpy object\n",
    "    else:\n",
    "        if file == \"CRISPRi\"  # CRISPRi Perturb-seq Pertpy data\n",
    "            adata = pertpy.data.replogle_2022_k562_essential()  # download takes ~1 hour\n",
    "            # pertpy.data.replogle_2022_k562_gwps()\n",
    "            # pertpy.data.replogle_2022_rpe1()\n",
    "            # pertpy.data.adamson_2016_upr_perturb_seq()  # 8 minutes to load\n",
    "        elif file == \"screen\":  # Perturb-seq CRISPR screen Pertpy data\n",
    "            adata = pertpy.data.dixit_2016_raw()\n",
    "        elif file == \"bulk\":  # bulk RNA-seq data\n",
    "            adata = pertpy.data.burczynski_crohn()\n",
    "        elif file == \"pool\":\n",
    "            adata = pertpy.data.norman_2019_raw()  # download ~ 10 minutes\n",
    "        if write_public is True:\n",
    "            adata.write(files_public_data[file])\n",
    "elif os.path.exists(file):\n",
    "    adata = pp.create_object_scanpy(file)  # create scanpy object\n",
    "else:\n",
    "    raise ValueError(f\"{file} not a valid option for 'file' argument.\")\n",
    "adata"
   ]
  },
  {
   "cell_type": "markdown",
   "metadata": {},
   "source": [
    "# Analysis"
   ]
  },
  {
   "cell_type": "markdown",
   "metadata": {},
   "source": [
    "## Guide RNA Assignment"
   ]
  },
  {
   "cell_type": "code",
   "execution_count": null,
   "metadata": {},
   "outputs": [],
   "source": [
    "figs_guide_rna = ca.assign_guide_rna(adata)\n",
    "adata\n",
    "\n",
    "sc.pl.violin(eval_adata, keys=\"ISG15\", groupby=\"condition\")"
   ]
  }
 ],
 "metadata": {
  "kernelspec": {
   "display_name": "py-bio",
   "language": "python",
   "name": "python3"
  },
  "language_info": {
   "codemirror_mode": {
    "name": "ipython",
    "version": 3
   },
   "file_extension": ".py",
   "mimetype": "text/x-python",
   "name": "python",
   "nbconvert_exporter": "python",
   "pygments_lexer": "ipython3",
   "version": "3.10.4"
  },
  "orig_nbformat": 4
 },
 "nbformat": 4,
 "nbformat_minor": 2
}
