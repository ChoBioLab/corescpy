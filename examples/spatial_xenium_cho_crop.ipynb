{
 "cells": [
  {
   "cell_type": "markdown",
   "metadata": {},
   "source": [
    "# Setup\n",
    "\n",
    "```\n",
    "pip install git+https://github.com/scverse/spatialdata.git@main\n",
    "pip install git+https://github.com/scverse/spatialdata-io.git@main\n",
    "```\n",
    "\n",
    "This is the stuff you have to edit; the rest of the sections can run as-is after you've set the needed parameters.\n",
    "\n",
    "---\n",
    "\n",
    "`coord_suffix` must align with \n",
    "* the sub-directory (corresponds to region, e.g., \"mucosa\") under the `dir_coord` directory where the Xenium Explorer-exported selection files are stored, and\n",
    "* the suffixes of the coordinate selection files (see file naming conventions below).\n",
    "  \n",
    "The `AnnData` objects created will have this suffix as well (e.g., `Uninflamed-50452A_mucosa.h5ad`).\n",
    "\n",
    "---\n",
    "\n",
    "Selection files should be named by this convention:\n",
    "`<library_id>_<coord_suffix>.csv`.\n",
    "\n",
    "For example, if `dir_coord` is `.../coordinates/mucosa`, the mucosa selection file for sample 50452A should be under `.../coordinates/mucosa/50452A_mucosa.csv`. \n",
    "\n",
    "More specifically, if the coordinates directory is under `/mnt/cho_lab/disk2/elizabeth/data/shared-xenium-library/outputs/TUQ97N/nebraska/coordinates`, and the selection region is \"mucosa,\"`dir_coord` should be `/mnt/cho_lab/disk2/elizabeth/data/shared-xenium-library/outputs/TUQ97N/nebraska/coordinates/mucosa`, and the full file path for this sample would be `/mnt/cho_lab/disk2/elizabeth/data/shared-xenium-library/outputs/TUQ97N/nebraska/coordinates/mucosa/50452A_mucosa.csv`.\n",
    "\n",
    "---\n",
    "\n",
    "**As with any other file naming schema, suffixes/directory names should not any special characters other than underscores (`_`) (no periods, dashes, spaces, etc.).**\n",
    "\n",
    "N.B. In the above explanation, `library_id` refers to library/original sample ID without condition (e.g., \"50452A\", not \"Uninflamed-50452A\" like in other places). Remember that `coord_suffix` should also be the name of the parent directory of the coordinate file. I include this information in both the directory and file name to prevent mix-ups should files be moved or placed in the wrong folder.\n",
    "\n",
    "Loading the metadata allows us to find the object IDs (e.g., for TUQ97N, object IDs are in the format <condition (Inflamed/Uninflamed/Stricture)><block_id>) corresponding to the sample IDs.\n"
   ]
  },
  {
   "cell_type": "code",
   "execution_count": 1,
   "metadata": {},
   "outputs": [
    {
     "data": {
      "text/html": [
       "<pre style=\"white-space:pre;overflow-x:auto;line-height:normal;font-family:Menlo,'DejaVu Sans Mono',consolas,'Courier New',monospace\"><span style=\"color: #808000; text-decoration-color: #808000; font-weight: bold\">ryp2 is not installed. Install with </span><span style=\"color: #008000; text-decoration-color: #008000; font-weight: bold\">pip install rpy2 </span><span style=\"color: #808000; text-decoration-color: #808000; font-weight: bold\">to run tools with R support.</span>\n",
       "</pre>\n"
      ],
      "text/plain": [
       "\u001b[1;33mryp2 is not installed. Install with \u001b[0m\u001b[1;32mpip install rpy2 \u001b[0m\u001b[1;33mto run tools with R support.\u001b[0m\n"
      ]
     },
     "metadata": {},
     "output_type": "display_data"
    },
    {
     "name": "stderr",
     "output_type": "stream",
     "text": [
      "Downloading data from `https://omnipathdb.org/queries/enzsub?format=json`\n",
      "Downloading data from `https://omnipathdb.org/queries/interactions?format=json`\n",
      "Downloading data from `https://omnipathdb.org/queries/complexes?format=json`\n",
      "Downloading data from `https://omnipathdb.org/queries/annotations?format=json`\n",
      "Downloading data from `https://omnipathdb.org/queries/intercell?format=json`\n",
      "Downloading data from `https://omnipathdb.org/about?format=text`\n"
     ]
    },
    {
     "data": {
      "text/plain": [
       "Sample\n",
       "Uninflamed-50452A     50452\n",
       "Inflamed-50452B       50452\n",
       "Stricture-50452C      50452\n",
       "Inflamed-50006A       50006\n",
       "Uninflamed-50006B     50006\n",
       "Stricture-50006C      50006\n",
       "Inflamed-50217A       50217\n",
       "Uninflamed-50217B     50217\n",
       "Stricture-50217C      50217\n",
       "Inflamed-50336B       50336\n",
       "Uninflamed-50336C     50336\n",
       "Stricture-50336A      50336\n",
       "Uninflamed-50403A2    50403\n",
       "Inflamed-50403B       50403\n",
       "Stricture-50403C1     50403\n",
       "Name: subject_id, dtype: int64"
      ]
     },
     "execution_count": 1,
     "metadata": {},
     "output_type": "execute_result"
    }
   ],
   "source": [
    "%load_ext autoreload\n",
    "%autoreload 2\n",
    "%matplotlib inline\n",
    "\n",
    "import os\n",
    "import re\n",
    "import math\n",
    "import functools\n",
    "import traceback\n",
    "import matplotlib.pyplot as plt\n",
    "import geopandas as gpd\n",
    "import shapely\n",
    "import shapely.validation\n",
    "from shapely.geometry import box\n",
    "import anndata\n",
    "import scanpy as sc\n",
    "# import spatialdata_plot\n",
    "import numpy as np\n",
    "import pandas as pd\n",
    "import corescpy as cr\n",
    "\n",
    "# Main\n",
    "write_object = True  # change to True when you're ready to save objects\n",
    "overwrite = False  # overwrite if already exists?\n",
    "regions = [\"mucosa\", \"serosa\", \"myenteric_plexus\", \"submucosa\",\n",
    "           \"smc_circular\", \"smc_longitudinal\"]\n",
    "col_leiden = \"leiden_res1pt5_dist0_npc30\"\n",
    "col_ann = \"Bucket\"\n",
    "cells_as_circles = True\n",
    "allow_make_valid = True  # allow shapely package to correct invalid geometries\n",
    "\n",
    "# Process Options\n",
    "panel = \"TUQ97N\"  # Xenium panel ID\n",
    "constants_dict = cr.get_panel_constants(panel_id=panel)\n",
    "libs = [  # sample IDs from patients for whom we have all conditions\n",
    "    \"50452A\", \"50452B\", \"50452C\",  # old segmentation\n",
    "    \"50006A\", \"50006B\", \"50006C\",  # rest are new segmentation\n",
    "    \"50217A\", \"50217B\", \"50217C\",\n",
    "    \"50336B\", \"50336C\", \"50336A\",\n",
    "    \"50403A2\", \"50403B\", \"50403C1\"\n",
    "]  # excludes low-quality sample/condition replicates 50403A1 & 50403C2\n",
    "# libs = [\"50006A\", \"50006B\", \"50217A\", \"50217B\", \"50336B\", \"50336C\",\n",
    "#         \"50403B\", \"50403A2\"]  # just inflamed/uninflamed (no strictures)\n",
    "# libs = None  # to run all available samples\n",
    "input_suffix = \"\"  # in case want to crop objects with some suffix\n",
    "# due to creation of a subsidiary object, e.g., for\n",
    "# \"Stricture-50452C_downsampled.h5ad\"\n",
    "# input_suffix would be \"_downsampled\". For \"main\" objects, input_suffix=\"\"\n",
    "plot = True  # could slow process down if large samples/cropped area\n",
    "\n",
    "# Files & Directories\n",
    "direc = \"/mnt/cho_lab/bbdata2/\"  # mounted NFS with data\n",
    "dir_entry = \"/mnt/cho_lab/disk2\"  # Spark writeable data directory\n",
    "mdf = str(\"/mnt/cho_lab/disk2/elizabeth/data/shared-xenium-library/samples_\"\n",
    "          f\"{panel}.csv\")  # metadata file path (for now; will soon be on NFS)\n",
    "dir_writeable = os.path.join(\n",
    "    dir_entry, f\"elizabeth/data/shared-xenium-library\")  # where objects are\n",
    "out_dir = os.path.join(\n",
    "    dir_writeable, f\"outputs/{panel}/nebraska\")  # object output directory\n",
    "\n",
    "#  Your Folders\n",
    "out_new = os.path.join(\n",
    "    dir_entry,\n",
    "    f\"{os.getlogin()}/data/shared-xenium-library/outputs/{panel}/nebraska\")\n",
    "\n",
    "# Constants (Shouldn't Need Edits Unless Extreme Process Changes)\n",
    "cso, col_sample, col_condition, col_inflamed, col_subject = [\n",
    "    constants_dict[x] if x in constants_dict else None for x in [\n",
    "        \"col_sample_id_o\", \"col_sample_id\", \"col_condition\",\n",
    "        \"col_inflamed\", \"col_subject\"]]\n",
    "dir_data = os.path.join(direc, f\"outputs/{panel}\")\n",
    "files = functools.reduce(lambda i, j: i + j, [[os.path.join(\n",
    "    run, i) for i in os.listdir(os.path.join(\n",
    "        dir_data, run))] for run in os.listdir(dir_data)])  # all data paths\n",
    "os.makedirs(out_dir, exist_ok=True)  # make output directory if needed\n",
    "metadata = cr.pp.get_metadata_cho(direc, mdf, panel_id=panel, samples=libs)\n",
    "metadata[col_subject]"
   ]
  },
  {
   "cell_type": "markdown",
   "metadata": {},
   "source": [
    "# Subset Data by Coordinate Files & Write Cropped Objects\n",
    "\n",
    "Subset the data by coordinates (`corescpy` can use Xenium Explorer-exported manual selection files to get those coordinates) and then write the cropped objects to `out_dir/<coord_suffix>`."
   ]
  },
  {
   "cell_type": "code",
   "execution_count": 6,
   "metadata": {},
   "outputs": [
    {
     "name": "stdout",
     "output_type": "stream",
     "text": [
      "\n",
      "\n",
      "================================================================================\n",
      "50217A\n",
      "================================================================================\n",
      "\n",
      "\n",
      "\n",
      "\n",
      "<<< INITIALIZING SPATIAL CLASS OBJECT >>>\n",
      "\n",
      "\u001b[34mINFO    \u001b[0m reading                                                                                                   \n",
      "         \u001b[35m/mnt/cho_lab/bbdata2/outputs/TUQ97N/CHO-008/output-XETG00189__0015521__50217A-TUQ97N-EA__20240415__212906/\u001b[0m\n",
      "         \u001b[95mcell_feature_matrix.h5\u001b[0m                                                                                    \n"
     ]
    },
    {
     "name": "stdout",
     "output_type": "stream",
     "text": [
      "WARNING: Unable to find `y`, `x` or `z` dimension in `('c', 'y', 'x')`. Renaming to `('channels', 'y', 'x', 'z')`\n",
      "WARNING: Unable to find `y`, `x` or `z` dimension in `('c', 'y', 'x')`. Renaming to `('channels', 'y', 'x', 'z')`\n",
      "WARNING: Unable to find `y`, `x` or `z` dimension in `('c', 'y', 'x')`. Renaming to `('channels', 'y', 'x', 'z')`\n",
      "WARNING: Unable to find `y`, `x` or `z` dimension in `('c', 'y', 'x')`. Renaming to `('channels', 'y', 'x', 'z')`\n",
      "WARNING: Unable to find `y`, `x` or `z` dimension in `('c', 'y', 'x')`. Renaming to `('channels', 'y', 'x', 'z')`\n",
      "\n",
      "\n",
      "================================================================================\n",
      "Counts: Initial\n",
      "================================================================================\n",
      "\n",
      "'SpatialData' object has no attribute 'n_obs'\n",
      "\n",
      "Error printing counts SpatialData object\n",
      "├── Images\n",
      "│     └── 'morphology_focus': DataTree[cyx] (5, 91804, 54105), (5, 45902, 27052), (5, 22951, 13526), (5, 11475, 6763), (5, 5737, 3381)\n",
      "├── Labels\n",
      "│     ├── 'cell_labels': DataTree[yx] (91804, 54105), (45902, 27052), (22951, 13526), (11475, 6763), (5737, 3381)\n",
      "│     └── 'nucleus_labels': DataTree[yx] (91804, 54105), (45902, 27052), (22951, 13526), (11475, 6763), (5737, 3381)\n",
      "├── Points\n",
      "│     └── 'transcripts': DataFrame with shape: (<Delayed>, 11) (3D points)\n",
      "├── Shapes\n",
      "│     ├── 'cell_boundaries': GeoDataFrame shape: (1038830, 1) (2D shapes)\n",
      "│     ├── 'cell_circles': GeoDataFrame shape: (1038830, 2) (2D shapes)\n",
      "│     └── 'nucleus_boundaries': GeoDataFrame shape: (1010453, 1) (2D shapes)\n",
      "└── Tables\n",
      "      └── 'table': AnnData (1038830, 469)\n",
      "with coordinate systems:\n",
      "    ▸ 'global', with elements:\n",
      "        morphology_focus (Images), cell_labels (Labels), nucleus_labels (Labels), transcripts (Points), cell_boundaries (Shapes), cell_circles (Shapes), nucleus_boundaries (Shapes)\n",
      "\n",
      "\n",
      "================================================================================\n",
      "\n",
      "\n",
      "\n",
      "\n",
      " AnnData object with n_obs × n_vars = 1038830 × 469\n",
      "    obs: 'cell_id', 'transcript_counts', 'control_probe_counts', 'control_codeword_counts', 'unassigned_codeword_counts', 'deprecated_codeword_counts', 'total_counts', 'cell_area', 'nucleus_area', 'region', 'z_level', 'nucleus_count', 'cell_labels', 'Sample'\n",
      "    var: 'gene_ids', 'feature_types', 'genome'\n",
      "    uns: 'spatialdata_attrs', 'spatial', 'original_ix'\n",
      "    obsm: 'spatial'\n",
      "    layers: 'counts' \n",
      "\n",
      "                      gene_ids    feature_types   genome\n",
      "gene_symbols                                           \n",
      "ABCA7         ENSG00000064687  Gene Expression  Unknown\n",
      "ACTA2         ENSG00000107796  Gene Expression  Unknown\n",
      "ACTG2         ENSG00000163017  Gene Expression  Unknown\n",
      "ADAM15        ENSG00000143537  Gene Expression  Unknown\n",
      "ADAM28        ENSG00000042980  Gene Expression  Unknown \n",
      "\n",
      " \n",
      "\n",
      "\n",
      "\n",
      "col_gene_symbols=\"gene_symbols\"\n",
      "col_cell_type=\"leiden\"\n",
      "col_sample_id=\"Sample\"\n",
      "col_batch=\"Sample\"\n",
      "col_subject=None\n",
      "col_condition=None\n",
      "col_num_umis=None\n",
      "col_segment=\"region\"\n",
      "\n",
      "\n",
      "\n",
      "key_control=None\n",
      "key_treatment=None\n",
      "key_table=\"table\"\n",
      "\n",
      "\n",
      "\t\t****************************************\n",
      "\t\t50217A\n",
      "\t\t****************************************\n",
      "\n",
      "\n",
      "\n",
      "\n",
      "Data: /mnt/cho_lab/bbdata2/outputs/TUQ97N/CHO-008/output-XETG00189__0015521__50217A-TUQ97N-EA__20240415__212906\n",
      "Object: /mnt/cho_lab/disk2/elizabeth/data/shared-xenium-library/outputs/TUQ97N/nebraska/Inflamed-50217A.h5ad\n",
      "Coordinates: /mnt/cho_lab/disk2/elizabeth/data/shared-xenium-library/outputs/TUQ97N/nebraska/coordinates/mucosa/50217A_mucosa.csv\n",
      "Ouput: /mnt/cho_lab/disk2/elizabeth/data/shared-xenium-library/outputs/TUQ97N/nebraska/objects_cropped/mucosa/Inflamed-50217A_mucosa.h5ad\n",
      "\n",
      "\n",
      "\t\t****************************************\n",
      "\t\t50217A\n",
      "\t\t****************************************\n",
      "\n",
      "\n",
      "*** Subset /mnt/cho_lab/disk2/elizabeth/data/shared-xenium-library/outputs/TUQ97N/nebraska/objects_cropped/submucosa/Inflamed-50217A_submucosa.h5ad already exists\n",
      "\n",
      "\n",
      "\t\t****************************************\n",
      "\t\t50217A\n",
      "\t\t****************************************\n",
      "\n",
      "\n",
      "*** Subset /mnt/cho_lab/disk2/elizabeth/data/shared-xenium-library/outputs/TUQ97N/nebraska/objects_cropped/smc_circular/Inflamed-50217A_smc_circular.h5ad already exists\n",
      "\n",
      "\n",
      "\t\t****************************************\n",
      "\t\t50217A\n",
      "\t\t****************************************\n",
      "\n",
      "\n",
      "\n",
      "\n",
      "Data: /mnt/cho_lab/bbdata2/outputs/TUQ97N/CHO-008/output-XETG00189__0015521__50217A-TUQ97N-EA__20240415__212906\n",
      "Object: /mnt/cho_lab/disk2/elizabeth/data/shared-xenium-library/outputs/TUQ97N/nebraska/Inflamed-50217A.h5ad\n",
      "Coordinates: /mnt/cho_lab/disk2/elizabeth/data/shared-xenium-library/outputs/TUQ97N/nebraska/coordinates/smc_longitudinal/50217A_smc_longitudinal.csv\n",
      "Ouput: /mnt/cho_lab/disk2/elizabeth/data/shared-xenium-library/outputs/TUQ97N/nebraska/objects_cropped/smc_longitudinal/Inflamed-50217A_smc_longitudinal.h5ad\n"
     ]
    },
    {
     "data": {
      "image/png": "[encoded data removed]",
      "text/plain": [
       "<Figure size 640x480 with 1 Axes>"
      ]
     },
     "metadata": {},
     "output_type": "display_data"
    },
    {
     "data": {
      "image/png": "[encoded data removed]",
      "text/plain": [
       "<Figure size 640x480 with 1 Axes>"
      ]
     },
     "metadata": {},
     "output_type": "display_data"
    },
    {
     "data": {
      "image/png": "[encoded data removed]",
      "text/plain": [
       "<Figure size 640x480 with 1 Axes>"
      ]
     },
     "metadata": {},
     "output_type": "display_data"
    },
    {
     "name": "stdout",
     "output_type": "stream",
     "text": [
      "elements_dict must contain at least one dict which contains at least one element\n"
     ]
    },
    {
     "name": "stderr",
     "output_type": "stream",
     "text": [
      "Traceback (most recent call last):\n",
      "  File \"/home/elizabeth/elizabeth/corescpy/corescpy/class_spatial.py\", line 315, in crop\n",
      "    sdata_crop = self.adata.query.polygon(coords, **kws)\n",
      "  File \"/home/elizabeth/elizabeth/miniconda3/envs/bio/lib/python3.10/site-packages/spatialdata/_core/spatialdata.py\", line 2232, in polygon\n",
      "    return polygon_query(  # type: ignore[return-value]\n",
      "  File \"/home/elizabeth/elizabeth/miniconda3/envs/bio/lib/python3.10/functools.py\", line 889, in wrapper\n",
      "    return dispatch(args[0].__class__)(*args, **kw)\n",
      "  File \"/home/elizabeth/elizabeth/miniconda3/envs/bio/lib/python3.10/site-packages/spatialdata/_core/query/spatial_query.py\", line 831, in _\n",
      "    tables = _get_filtered_or_unfiltered_tables(filter_table, new_elements, sdata)\n",
      "  File \"/home/elizabeth/elizabeth/miniconda3/envs/bio/lib/python3.10/site-packages/spatialdata/_core/query/_utils.py\", line 99, in _get_filtered_or_unfiltered_tables\n",
      "    return {\n",
      "  File \"/home/elizabeth/elizabeth/miniconda3/envs/bio/lib/python3.10/site-packages/spatialdata/_core/query/_utils.py\", line 102, in <dictcomp>\n",
      "    if (filtered_table := _filter_table_by_elements(table, elements)) and len(filtered_table) != 0\n",
      "  File \"/home/elizabeth/elizabeth/miniconda3/envs/bio/lib/python3.10/site-packages/spatialdata/_core/query/relational_query.py\", line 192, in _filter_table_by_elements\n",
      "    assert any(\n",
      "AssertionError: elements_dict must contain at least one dict which contains at least one element\n"
     ]
    },
    {
     "ename": "AttributeError",
     "evalue": "'NoneType' object has no attribute 'shapes'",
     "output_type": "error",
     "traceback": [
      "\u001b[0;31m---------------------------------------------------------------------------\u001b[0m",
      "\u001b[0;31mAttributeError\u001b[0m                            Traceback (most recent call last)",
      "Cell \u001b[0;32mIn[6], line 35\u001b[0m\n\u001b[1;32m     32\u001b[0m \u001b[38;5;28mprint\u001b[39m(\u001b[38;5;124mf\u001b[39m\u001b[38;5;124m\"\u001b[39m\u001b[38;5;130;01m\\n\u001b[39;00m\u001b[38;5;130;01m\\n\u001b[39;00m\u001b[38;5;124mData: \u001b[39m\u001b[38;5;132;01m{\u001b[39;00mfff\u001b[38;5;132;01m}\u001b[39;00m\u001b[38;5;130;01m\\n\u001b[39;00m\u001b[38;5;124mObject: \u001b[39m\u001b[38;5;132;01m{\u001b[39;00mfile_obj_proc\u001b[38;5;132;01m}\u001b[39;00m\u001b[38;5;124m\"\u001b[39m\n\u001b[1;32m     33\u001b[0m       \u001b[38;5;124mf\u001b[39m\u001b[38;5;124m\"\u001b[39m\u001b[38;5;130;01m\\n\u001b[39;00m\u001b[38;5;124mCoordinates: \u001b[39m\u001b[38;5;132;01m{\u001b[39;00mfile_coord\u001b[38;5;132;01m}\u001b[39;00m\u001b[38;5;130;01m\\n\u001b[39;00m\u001b[38;5;124mOuput: \u001b[39m\u001b[38;5;132;01m{\u001b[39;00mfile_obj_crop\u001b[38;5;132;01m}\u001b[39;00m\u001b[38;5;124m\"\u001b[39m)\n\u001b[1;32m     34\u001b[0m \u001b[38;5;66;03m# try:\u001b[39;00m\n\u001b[0;32m---> 35\u001b[0m sdata \u001b[38;5;241m=\u001b[39m \u001b[38;5;28;43mself\u001b[39;49m\u001b[38;5;241;43m.\u001b[39;49m\u001b[43mcrop\u001b[49m\u001b[43m(\u001b[49m\n\u001b[1;32m     36\u001b[0m \u001b[43m    \u001b[49m\u001b[43mfile_coord\u001b[49m\u001b[43m,\u001b[49m\u001b[43m \u001b[49m\u001b[43mallow_make_valid\u001b[49m\u001b[38;5;241;43m=\u001b[39;49m\u001b[43mallow_make_valid\u001b[49m\u001b[43m)\u001b[49m  \u001b[38;5;66;03m# crop\u001b[39;00m\n\u001b[1;32m     37\u001b[0m i_x \u001b[38;5;241m=\u001b[39m sdata\u001b[38;5;241m.\u001b[39mtable\u001b[38;5;241m.\u001b[39mobs[\u001b[38;5;124m\"\u001b[39m\u001b[38;5;124mcell_id\u001b[39m\u001b[38;5;124m\"\u001b[39m]\u001b[38;5;241m.\u001b[39mcopy()\n\u001b[1;32m     38\u001b[0m \u001b[38;5;28;01mdel\u001b[39;00m sdata\u001b[38;5;241m.\u001b[39mtable\n",
      "File \u001b[0;32m~/corescpy/corescpy/class_spatial.py:322\u001b[0m, in \u001b[0;36mSpatial.crop\u001b[0;34m(self, bounds_x, bounds_y, bounds_z, pixel_size, allow_make_valid, **kwargs)\u001b[0m\n\u001b[1;32m    319\u001b[0m             traceback\u001b[38;5;241m.\u001b[39mprint_exc()\n\u001b[1;32m    320\u001b[0m \u001b[38;5;28;01mif\u001b[39;00m \u001b[38;5;124m\"\u001b[39m\u001b[38;5;124mtable\u001b[39m\u001b[38;5;124m\"\u001b[39m \u001b[38;5;129;01mnot\u001b[39;00m \u001b[38;5;129;01min\u001b[39;00m \u001b[38;5;28mdir\u001b[39m(sdata_crop):\n\u001b[1;32m    321\u001b[0m     sdata_crop\u001b[38;5;241m.\u001b[39mtable \u001b[38;5;241m=\u001b[39m \u001b[38;5;28mself\u001b[39m\u001b[38;5;241m.\u001b[39mrna[\u001b[38;5;28mself\u001b[39m\u001b[38;5;241m.\u001b[39mrna\u001b[38;5;241m.\u001b[39mobs[\n\u001b[0;32m--> 322\u001b[0m         XeniumKeys\u001b[38;5;241m.\u001b[39mCELL_ID]\u001b[38;5;241m.\u001b[39misin(\u001b[43msdata_crop\u001b[49m\u001b[38;5;241;43m.\u001b[39;49m\u001b[43mshapes\u001b[49m[\n\u001b[1;32m    323\u001b[0m             \u001b[38;5;124m\"\u001b[39m\u001b[38;5;124mcell_boundaries\u001b[39m\u001b[38;5;124m\"\u001b[39m]\u001b[38;5;241m.\u001b[39mindex)]\u001b[38;5;241m.\u001b[39mcopy()  \u001b[38;5;66;03m# add back table\u001b[39;00m\n\u001b[1;32m    324\u001b[0m     \u001b[38;5;66;03m# needed for now b/c issue if any nuclei radius = NA\u001b[39;00m\n\u001b[1;32m    325\u001b[0m     \u001b[38;5;66;03m# github.com/scverse/spatialdata-io/\u001b[39;00m\n\u001b[1;32m    326\u001b[0m     \u001b[38;5;66;03m# issues/173#issuecomment-2231152498\u001b[39;00m\n\u001b[1;32m    327\u001b[0m \u001b[38;5;28;01melse\u001b[39;00m:\n\u001b[1;32m    328\u001b[0m     i_x \u001b[38;5;241m=\u001b[39m sdata_crop\u001b[38;5;241m.\u001b[39mtable\u001b[38;5;241m.\u001b[39mobs[\u001b[38;5;124m\"\u001b[39m\u001b[38;5;124mcell_id\u001b[39m\u001b[38;5;124m\"\u001b[39m]\u001b[38;5;241m.\u001b[39mcopy()\n",
      "\u001b[0;31mAttributeError\u001b[0m: 'NoneType' object has no attribute 'shapes'"
     ]
    }
   ],
   "source": [
    "for s in libs:  # iterate samples\n",
    "    print(f\"\\n\\n{'=' * 80}\\n{s}\\n{'=' * 80}\\n\\n\")\n",
    "    fff = os.path.join(dir_data, np.array(files)[np.where([\n",
    "        s == os.path.basename(x).split(\"__\")[2].split(\"-\")[0]\n",
    "        for x in files])[0][0]])  # sample's Xenium data directory path\n",
    "    lib = metadata.reset_index().set_index(cso).loc[s][col_sample]\n",
    "    file_obj_proc = os.path.join(out_dir, f\"{lib}{input_suffix}.h5ad\")\n",
    "    if overwrite is False:  # skip entirely if all crops exist & no overwrite\n",
    "        all_files = [os.path.join(out_new, \"objects_cropped\",\n",
    "                                  r, f'{lib}_{r}.h5ad') for r in regions]\n",
    "        if overwrite is False and all([os.path.exists(r) for r in all_files]):\n",
    "            print(f\"*** All subsets {', '.join(all_files)} already exist\")\n",
    "            continue\n",
    "    self = cr.Spatial(fff, library_id=lib,\n",
    "                      cells_as_circles=cells_as_circles)  # load original data\n",
    "    adata = sc.read_h5ad(file_obj_proc)  # processed adata\n",
    "    # self.update_from_h5ad(file_obj_proc)  # update with processed object\n",
    "    for coord_suffix in regions:\n",
    "        print(f\"\\n\\n\\t\\t{'*' * 40}\\n\\t\\t{s}\\n\\t\\t{'*' * 40}\\n\\n\")\n",
    "        dir_coord = os.path.join(\n",
    "            out_new, \"coordinates\", coord_suffix)  # coordinates (NFS soon?)\n",
    "        out = os.path.join(out_new, \"objects_cropped\", coord_suffix)  # path\n",
    "        os.makedirs(out, exist_ok=True)  # make sub-directory for new objects?\n",
    "        file_coord = os.path.join(dir_coord, s + f\"_{coord_suffix}.csv\")\n",
    "        file_obj_crop = os.path.join(out, f\"{lib}_{coord_suffix}.h5ad\")\n",
    "        if overwrite is False and os.path.exists(file_obj_crop):\n",
    "            print(f\"*** Subset {file_obj_crop} already exists\")\n",
    "            continue\n",
    "        if not os.path.exists(file_coord):\n",
    "            print(f\"*** Coordinate file {file_coord} doesn't exist\")\n",
    "            continue\n",
    "        print(f\"\\n\\nData: {fff}\\nObject: {file_obj_proc}\"\n",
    "              f\"\\nCoordinates: {file_coord}\\nOuput: {file_obj_crop}\")\n",
    "        # try:\n",
    "        sdata = self.crop(\n",
    "            file_coord, allow_make_valid=allow_make_valid)  # crop\n",
    "        i_x = sdata.table.obs[\"cell_id\"].copy()\n",
    "        del sdata.table\n",
    "        sdata.table = adata[adata.obs[\"cell_id\"].isin(i_x[\n",
    "            i_x.isin(adata.obs[\"cell_id\"])])]  # coordinate- & pp-filtered\n",
    "        if plot:\n",
    "            try:\n",
    "                sdata.pl.render_labels(\"cell_labels\").pl.show()  # plot\n",
    "            except Exception:\n",
    "                pass\n",
    "        self.adata = sdata\n",
    "        if write_object is True:\n",
    "            self.write(file_obj_crop)  # write cropped\n",
    "        # except Exception:\n",
    "        #     print(traceback.format_exc(),\n",
    "        #           f\"Cropping \\n\\n{s}, {coord_suffix} failed!\")\n",
    "print(\"\\n\\nCompleted!\")"
   ]
  },
  {
   "cell_type": "code",
   "execution_count": 14,
   "metadata": {},
   "outputs": [
    {
     "data": {
      "text/plain": [
       "View of AnnData object with n_obs × n_vars = 5131 × 469\n",
       "    obs: 'cell_id', 'transcript_counts', 'control_probe_counts', 'control_codeword_counts', 'unassigned_codeword_counts', 'deprecated_codeword_counts', 'total_counts', 'cell_area', 'nucleus_area', 'region', 'Sample', 'sample_id', 'subject_id', 'run_id', 'panel_id', 'slide_id', 'clinical_block', 'description', 'date_hybridization', 'date_sectioned', 'location', 'inflammation', 'stricture', 'Condition', 'Age', 'Annotation', 'CDKN1A_PLAUR_threshold2', 'CDKN1A_TP53_PLAUR_threshold2', 'CDKN1A_TP53_threshold2', 'CDKN1A_threshold2', 'Diagnosis', 'Disease_Status', 'Hispanic', 'IL7R_KLRB1_RORC_threshold2', 'IL7R_KLRB1_threshold2', 'IL7R_RORC_threshold2', 'IL7R_threshold2', 'KLRB1_RORC_threshold2', 'KLRB1_threshold2', 'PLAUR_threshold2', 'RORC_threshold2', 'Race', 'Sex', 'TP53_PLAUR_threshold2', 'TP53_threshold2', 'annotation_res0pt5_dist0pt5_npc30', 'annotation_res0pt75_dist0pt3_npc30', 'annotation_res1pt5_dist0_npc30', 'assay_protein', 'bin_res0pt5_dist0pt5_npc30', 'bin_res0pt75_dist0pt3_npc30', 'bin_res1pt5_dist0_npc30', 'bucket_res0pt5_dist0pt5_npc30', 'bucket_res0pt75_dist0pt3_npc30', 'bucket_res1pt5_dist0_npc30', 'cell_filter_ncounts', 'cell_filter_ngene', 'cell_filter_pmt', 'cell_labels', 'col_batch', 'col_cell_type', 'col_condition', 'col_gene_symbols', 'col_num_umis', 'col_sample_id', 'col_segment', 'col_subject', 'custom_thresholds', 'figsize', 'file_path', 'gene_filter_ncell', 'gene_filter_ncounts', 'kws_scale', 'label_res0pt5_dist0pt5_npc30', 'label_res0pt75_dist0pt3_npc30', 'label_res1pt5_dist0_npc30', 'leiden_res0pt5_dist0pt5_npc30', 'leiden_res0pt75_dist0pt3_npc30', 'leiden_res1pt5_dist0_npc30', 'log1p_n_genes_by_counts', 'log1p_total_counts', 'log_counts', 'method_norm', 'n_counts', 'n_genes', 'n_genes_by_counts', 'n_obs_raw', 'nucleus_count', 'out_file', 'z_level'\n",
       "    var: 'gene_ids', 'feature_types', 'genome', 'mt', 'ribo', 'hb', 'n_cells_by_counts', 'mean_counts', 'log1p_mean_counts', 'pct_dropout_by_counts', 'total_counts', 'log1p_total_counts', 'n_cells', 'n_counts', 'highly_variable', 'means', 'dispersions', 'dispersions_norm', 'mean', 'std'\n",
       "    uns: 'Annotation_colors', 'Sample_colors', 'hvg', 'label_res0pt5_dist0pt5_npc30_colors', 'label_res0pt75_dist0pt3_npc30_colors', 'label_res1pt5_dist0_npc30_colors', 'leiden_res0pt5_dist0pt5_npc30', 'leiden_res0pt75_dist0pt3_npc30', 'leiden_res1pt5_dist0_npc30', 'log1p', 'neighbors', 'original_ix', 'pca', 'rank_genes_groups_leiden_res0pt5_dist0pt5_npc30', 'rank_genes_groups_leiden_res0pt75_dist0pt3_npc30', 'rank_genes_groups_leiden_res1pt5_dist0_npc30', 'spatialdata_attrs', 'specifications', 'umap'\n",
       "    obsm: 'X_pca', 'X_umap', 'spatial'\n",
       "    varm: 'PCs'\n",
       "    layers: 'counts', 'log1p', 'scaled'\n",
       "    obsp: 'connectivities', 'distances'"
      ]
     },
     "execution_count": 14,
     "metadata": {},
     "output_type": "execute_result"
    }
   ],
   "source": [
    "self.adata.table"
   ]
  },
  {
   "cell_type": "code",
   "execution_count": 16,
   "metadata": {},
   "outputs": [
    {
     "data": {
      "text/plain": [
       "AnnData object with n_obs × n_vars = 1038830 × 469\n",
       "    obs: 'cell_id', 'transcript_counts', 'control_probe_counts', 'control_codeword_counts', 'unassigned_codeword_counts', 'deprecated_codeword_counts', 'total_counts', 'cell_area', 'nucleus_area', 'region', 'z_level', 'nucleus_count', 'cell_labels', 'Sample'\n",
       "    var: 'gene_ids', 'feature_types', 'genome'\n",
       "    uns: 'spatialdata_attrs', 'spatial', 'original_ix'\n",
       "    obsm: 'spatial'\n",
       "    layers: 'counts'"
      ]
     },
     "execution_count": 16,
     "metadata": {},
     "output_type": "execute_result"
    }
   ],
   "source": [
    "self.adata.table"
   ]
  },
  {
   "cell_type": "code",
   "execution_count": 15,
   "metadata": {},
   "outputs": [],
   "source": [
    "sdata_crop = self.adata.query.polygon(coords, **kws)"
   ]
  },
  {
   "cell_type": "code",
   "execution_count": null,
   "metadata": {},
   "outputs": [],
   "source": [
    "sdata_crop"
   ]
  },
  {
   "cell_type": "code",
   "execution_count": 9,
   "metadata": {},
   "outputs": [],
   "source": [
    "        import os\n",
    "        import traceback\n",
    "        import json\n",
    "        from itertools import permutations\n",
    "        from warnings import warn\n",
    "        from copy import deepcopy\n",
    "        from dask_image.imread import imread\n",
    "        import matplotlib\n",
    "        import matplotlib.pyplot as plt\n",
    "        from matplotlib.backends.backend_pdf import PdfPages\n",
    "        import shapely\n",
    "        from shapely.geometry.multipolygon import MultiPolygon\n",
    "        from shapely.geometry.polygon import Polygon\n",
    "        import geopandas as gpd\n",
    "        import squidpy as sq\n",
    "        import spatialdata\n",
    "        from spatialdata.models import TableModel\n",
    "        import spatialdata_plot as sdp\n",
    "        import spatialdata_io as sdio\n",
    "        from spatialdata_io._constants._constants import XeniumKeys\n",
    "        import liana\n",
    "\n",
    "        bounds_x = file_coord\n",
    "        bounds_y=None\n",
    "        bounds_z=None\n",
    "        pixel_size=0.2125\n",
    "        allow_make_valid=True\n",
    "        kwargs={}\n",
    "\n",
    "        if isinstance(bounds_x, (str, Polygon, MultiPolygon)) or isinstance(\n",
    "                bounds_x[0], str):  # Xenium Explorer selection(s)\n",
    "            if isinstance(bounds_x, (list, np.ndarray, tuple, str)):  # file\n",
    "                if isinstance(bounds_x, (list, np.ndarray, tuple)):  # fileS\n",
    "                    coords = [cr.pp.xenium_explorer_selection(\n",
    "                         i, pixel_size=pixel_size, as_list=False)\n",
    "                               for i in bounds_x]\n",
    "                else:  # single file\n",
    "                    coords = cr.pp.xenium_explorer_selection(\n",
    "                        bounds_x, pixel_size=pixel_size, as_list=False)\n",
    "            else:  # if shapely object\n",
    "                coords = bounds_x\n",
    "            if isinstance(coords, list):  # if multiple selections...\n",
    "                coords = shapely.MultiPolygon(coords)  # ...union of areas\n",
    "            kws = {\"target_coordinate_system\": \"global\",\n",
    "                   \"filter_table\": True, **kwargs}\n",
    "            if \"is_valid\" in dir(coords) and coords.is_valid is False:\n",
    "                if allow_make_valid is True:\n",
    "                    invalid, error = True, None\n",
    "                else:\n",
    "                    p_coords = gpd.GeoSeries(coords).plot()\n",
    "                    p_coords.set_title(\"Input\")\n",
    "                    raise ValueError(\n",
    "                        \"Input coordinates have invalid geometry!\")"
   ]
  },
  {
   "cell_type": "code",
   "execution_count": 13,
   "metadata": {},
   "outputs": [
    {
     "data": {
      "text/plain": [
       "View of AnnData object with n_obs × n_vars = 5131 × 469\n",
       "    obs: 'cell_id', 'transcript_counts', 'control_probe_counts', 'control_codeword_counts', 'unassigned_codeword_counts', 'deprecated_codeword_counts', 'total_counts', 'cell_area', 'nucleus_area', 'region', 'Sample', 'sample_id', 'subject_id', 'run_id', 'panel_id', 'slide_id', 'clinical_block', 'description', 'date_hybridization', 'date_sectioned', 'location', 'inflammation', 'stricture', 'Condition', 'Age', 'Annotation', 'CDKN1A_PLAUR_threshold2', 'CDKN1A_TP53_PLAUR_threshold2', 'CDKN1A_TP53_threshold2', 'CDKN1A_threshold2', 'Diagnosis', 'Disease_Status', 'Hispanic', 'IL7R_KLRB1_RORC_threshold2', 'IL7R_KLRB1_threshold2', 'IL7R_RORC_threshold2', 'IL7R_threshold2', 'KLRB1_RORC_threshold2', 'KLRB1_threshold2', 'PLAUR_threshold2', 'RORC_threshold2', 'Race', 'Sex', 'TP53_PLAUR_threshold2', 'TP53_threshold2', 'annotation_res0pt5_dist0pt5_npc30', 'annotation_res0pt75_dist0pt3_npc30', 'annotation_res1pt5_dist0_npc30', 'assay_protein', 'bin_res0pt5_dist0pt5_npc30', 'bin_res0pt75_dist0pt3_npc30', 'bin_res1pt5_dist0_npc30', 'bucket_res0pt5_dist0pt5_npc30', 'bucket_res0pt75_dist0pt3_npc30', 'bucket_res1pt5_dist0_npc30', 'cell_filter_ncounts', 'cell_filter_ngene', 'cell_filter_pmt', 'cell_labels', 'col_batch', 'col_cell_type', 'col_condition', 'col_gene_symbols', 'col_num_umis', 'col_sample_id', 'col_segment', 'col_subject', 'custom_thresholds', 'figsize', 'file_path', 'gene_filter_ncell', 'gene_filter_ncounts', 'kws_scale', 'label_res0pt5_dist0pt5_npc30', 'label_res0pt75_dist0pt3_npc30', 'label_res1pt5_dist0_npc30', 'leiden_res0pt5_dist0pt5_npc30', 'leiden_res0pt75_dist0pt3_npc30', 'leiden_res1pt5_dist0_npc30', 'log1p_n_genes_by_counts', 'log1p_total_counts', 'log_counts', 'method_norm', 'n_counts', 'n_genes', 'n_genes_by_counts', 'n_obs_raw', 'nucleus_count', 'out_file', 'z_level'\n",
       "    var: 'gene_ids', 'feature_types', 'genome', 'mt', 'ribo', 'hb', 'n_cells_by_counts', 'mean_counts', 'log1p_mean_counts', 'pct_dropout_by_counts', 'total_counts', 'log1p_total_counts', 'n_cells', 'n_counts', 'highly_variable', 'means', 'dispersions', 'dispersions_norm', 'mean', 'std'\n",
       "    uns: 'Annotation_colors', 'Sample_colors', 'hvg', 'label_res0pt5_dist0pt5_npc30_colors', 'label_res0pt75_dist0pt3_npc30_colors', 'label_res1pt5_dist0_npc30_colors', 'leiden_res0pt5_dist0pt5_npc30', 'leiden_res0pt75_dist0pt3_npc30', 'leiden_res1pt5_dist0_npc30', 'log1p', 'neighbors', 'original_ix', 'pca', 'rank_genes_groups_leiden_res0pt5_dist0pt5_npc30', 'rank_genes_groups_leiden_res0pt75_dist0pt3_npc30', 'rank_genes_groups_leiden_res1pt5_dist0_npc30', 'spatialdata_attrs', 'specifications', 'umap'\n",
       "    obsm: 'X_pca', 'X_umap', 'spatial'\n",
       "    varm: 'PCs'\n",
       "    layers: 'counts', 'log1p', 'scaled'\n",
       "    obsp: 'connectivities', 'distances'"
      ]
     },
     "execution_count": 13,
     "metadata": {},
     "output_type": "execute_result"
    }
   ],
   "source": [
    "self.adata.table"
   ]
  },
  {
   "cell_type": "code",
   "execution_count": 25,
   "metadata": {},
   "outputs": [],
   "source": [
    "                    sdata_crop = self.adata.query.polygon(\n",
    "                        coords, **kws)  # crop"
   ]
  },
  {
   "cell_type": "code",
   "execution_count": 28,
   "metadata": {},
   "outputs": [],
   "source": [
    "ann = sdata_crop.table.copy()"
   ]
  },
  {
   "cell_type": "code",
   "execution_count": 31,
   "metadata": {},
   "outputs": [
    {
     "data": {
      "image/svg+xml": [
       "<svg xmlns=\"http://www.w3.org/2000/svg\" xmlns:xlink=\"http://www.w3.org/1999/xlink\" width=\"300\" height=\"300\" viewBox=\"-27223.35003460208 75996.69148788927 229970.13259515574 217669.50975778548\" preserveAspectRatio=\"xMinYMin meet\"><g transform=\"matrix(1,0,0,-1,0,369662.892733564)\"><g><path fill-rule=\"evenodd\" fill=\"#66cc99\" stroke=\"#555555\" stroke-width=\"1533.1342173010382\" opacity=\"0.6\" d=\"M 156107.51557093425,124595.82006920416 L 151933.12110726646,120766.67128027683 L 150050.54671280278,118795.95847750866 L 148012.51211072665,116669.56401384083 L 145211.57093425604,114412.51211072665 L 143328.9965397924,112882.71280276819 L 136118.25605536334,111092.26297577858 L 135235.98615916955,110827.62629757785 L 134971.12802768167,110562.76816608997 L 134163.04498269898,109866.96193771627 L 132006.9757785467,107486.11764705883 L 131653.9792387543,107221.48096885816 L 129867.73702422147,104457.30103806229 L 129514.74048442904,104192.66435986159 L 129161.96539792388,104104.52595155711 L 126135.8062283737,103438.39446366782 L 124900.53979238754,102732.40138408306 L 122372.87197231835,101889.99307958478 L 120198.20069204152,101400.35986159171 L 118641.16262975779,101111.36332179932 L 114476.06920415226,99938.10380622838 L 110121.63321799308,98581.70242214533 L 107327.55709342562,97730.4359861592 L 105344.8858131488,96727.03114186852 L 102189.39792387544,95134.11764705883 L 101395.26643598617,94516.48442906578 L 99194.68512110725,93982.33910034603 L 96303.83391003463,93403.68166089966 L 88909.50865051904,92565.48096885813 L 83330.65743944637,92164.20761245672 L 82624.8858131488,91899.34948096886 L 77027.43252595156,89782.03460207614 L 72756.70588235294,88620.73356401385 L 71962.57439446366,88356.09688581314 L 68070.53287197233,87304.8581314879 L 66939.12802768165,87015.86159169549 L 63306.40830449827,86254.28373702423 L 57976.6920415225,85828.87197231835 L 49077.591695501724,85334.36678200695 L 41979.12802768166,84514.10380622838 L 37132.17993079585,84514.10380622838 L 36088.91349480969,84514.10380622838 L 33535.335640138415,85268.37370242213 L 32139.294117647063,85822.00692041525 L 30052.76124567474,87154.26989619377 L 28522.961937716263,88507.34948096886 L 28606.671280276816,89383.86159169547 L 29577.079584775085,92897.66089965397 L 37362.49134948097,102492.78892733564 L 39111.52941176471,103286.69896193771 L 40258.657439446375,103904.33217993079 L 41301.92387543253,104193.32871972317 L 44779.18339100346,104193.32871972317 L 50845.23183391004,104533.92387543252 L 55697.71626297577,104646.42214532872 L 57446.97577854671,104646.42214532872 L 60337.82698961938,104646.42214532872 L 63903.446366782,104979.93079584776 L 67308.06920415226,105763.21107266437 L 69596.78892733564,106361.13494809688 L 70551.69550173011,106537.63321799309 L 74682.68512110726,107656.8581314879 L 75637.81314878893,107921.49480968858 L 81128.30449826989,109597.45328719723 L 81216.6643598616,109597.45328719723 L 82083.43252595156,110151.08650519034 L 82789.20415224913,110680.35986159171 L 85197.50865051903,111924.26297577855 L 86240.77508650521,112189.12110726646 L 95513.24567474052,114711.69550173011 L 108947.93079584776,118819.21107266437 L 111299.10034602077,119436.84429065743 L 112357.86851211073,120319.3356401384 L 113930.62975778547,121250.10380622838 L 116468.48442906573,122803.15570934255 L 118829.84083044983,123935.44636678201 L 120931.87543252597,125042.71280276819 L 126807.03114186852,127952.38754325261 L 130157.61937716264,130781.89619377164 L 131875.65397923876,131873.66089965397 L 132669.78546712804,132314.79584775088 L 134464.0,134373.86851211073 L 135346.49134948096,136195.76470588235 L 135875.76470588235,136989.89619377162 L 136870.53287197233,138474.29757785468 L 137841.1626297578,139444.70588235295 L 138811.79238754328,140327.1972318339 L 139076.42906574396,141209.4671280277 L 139164.78892733564,142356.59515570936 L 139341.28719723184,143856.4982698962 L 139694.06228373703,145180.12456747406 L 140135.1972318339,146238.89273356405 L 141683.59861591697,148164.42906574396 L 143697.4948096886,149801.19031141867 L 146607.83391003462,152221.89619377165 L 147313.8269896194,152839.52941176473 L 147867.46020761246,154323.93079584776 L 148396.73356401385,157204.59515570936 L 148837.86851211073,158880.9965397924 L 151593.63321799308,160744.08304498272 L 152917.03806228374,162067.48788927335 L 154245.31487889274,164709.20415224912 L 154887.30795847753,165928.9688581315 L 155857.71626297577,166899.598615917 L 157798.9757785467,168752.4982698962 L 161072.4982698962,170644.59515570934 L 162249.07958477509,171733.03806228374 L 165027.65397923876,174730.85121107267 L 165845.92387543252,176391.7508650519 L 167149.84083044983,179209.9653979239 L 167751.97231833913,180228.87197231833 L 168457.96539792386,181552.4982698962 L 168546.1038062284,181905.49480968862 L 168546.1038062284,181993.6332179931 L 168257.10726643598,184593.93771626303 L 167879.9723183391,187749.64705882355 L 167438.83737024223,190188.95501730105 L 166856.1937716263,193152.4429065744 L 166454.92041522491,194636.84429065746 L 165901.28719723184,196282.2422145329 L 164154.2422145329,200209.27335640142 L 163624.74740484433,200826.90657439444 L 163536.60899653978,200915.26643598618 L 162581.48096885814,201733.53633217997 L 160025.2456747405,203793.0519031142 L 158966.2560553633,204763.6816608997 L 158436.98269896195,205998.9480968858 L 158260.48442906575,208303.16955017304 L 158701.61937716263,211038.56055363323 L 158878.11764705883,213228.95501730108 L 158878.11764705883,215756.62283737023 L 158236.34602076124,217064.52595155715 L 157035.18339100346,218666.9619377163 L 155237.64705882352,220175.5017301038 L 154884.87197231836,220528.4982698962 L 153061.42560553635,223376.3875432526 L 152419.65397923876,225109.92387543255 L 152062.00692041527,227647.7785467128 L 151459.87543252594,229806.9480968858 L 151018.74048442906,231042.21453287196 L 150376.7474048443,233144.2491349481 L 148613.53633217994,236559.2802768166 L 147143.97231833913,239097.13494809685 L 146349.84083044983,239891.26643598618 L 144635.79238754328,241449.85467128028 L 143416.0276816609,242243.98615916955 L 141080.3598615917,243287.25259515573 L 139170.32525951558,244306.15916955023 L 137670.42214532875,245806.06228373706 L 134718.4498269896,249232.1660899654 L 133472.9965397924,252256.33217993085 L 133201.0519031142,254674.60207612457 L 133201.0519031142,260124.1245674741 L 133289.4117647059,260653.39792387543 L 134220.17993079586,262989.06574394467 L 134220.17993079586,263165.56401384086 L 134308.31833910034,263253.70242214535 L 137344.6643598616,264502.4775086505 L 137520.9411764706,264502.4775086505 L 139270.20069204154,264855.47404844296 L 139975.97231833907,264855.47404844296 L 141444.87197231836,264967.75086505193 L 145607.0865051903,263690.1868512111 L 148233.30103806232,263156.0415224914 L 155515.34948096884,260384.9965397924 L 157990.75432525954,259674.3529411765 L 161977.13494809688,257403.57093425604 L 163975.3079584775,255895.03114186856 L 164681.3010380623,255277.39792387545 L 167593.1903114187,252566.8096885813 L 169165.73010380624,251018.40830449827 L 170890.62975778547,249092.87197231836 L 172110.3944636678,247182.83737024228 L 173442.65743944637,245184.6643598616 L 174838.69896193774,242568.6366782007 L 175480.6920415225,241260.73356401385 L 177615.5017301038,238347.0726643599 L 189704.6366782007,221545.19031141867 L 190658.65743944637,219425.2179930796 L 190658.65743944637,219337.0795847751 L 190923.29411764705,218101.81314878893 L 191212.29065743947,216882.04844290658 L 191565.06574394467,215734.92041522494 L 192167.19723183394,212547.98615916958 L 192632.69204152247,210108.67820069205 L 192921.46712802773,206849.10726643604 L 193298.60207612455,203034.35294117648 L 193675.95847750868,199743.5570934256 L 194141.23183391007,196556.84429065746 L 194229.37024221456,195145.0795847751 L 194229.37024221456,192928.99653979242 L 194229.37024221456,189991.19723183394 L 194229.37024221456,186555.12802768164 L 193715.59861591697,181494.69896193777 L 193113.4671280277,179159.0311418685 L 192824.6920415225,176180.04152249134 L 192912.830449827,173460.37370242213 L 193089.3287197232,172754.38062283737 L 193089.3287197232,171005.34256055363 L 192208.16608996538,166599.52941176473 L 189135.94463667824,166129.384083045 L 170108.01384083045,165702.86505190315 L 169931.51557093428,165702.86505190315 L 169843.15570934254,165614.7266435986 L 170108.01384083045,164997.09342560553 L 170460.78892733564,164732.45674740485 L 171078.42214532875,164114.82352941178 L 172225.5501730104,164114.82352941178 L 173533.45328719725,164114.82352941178 L 176963.98615916955,164403.59861591697 L 178874.02076124566,164604.45674740485 L 179579.79238754325,164692.59515570936 L 180638.56055363323,165045.59169550173 L 181344.55363321796,165310.22837370244 L 181432.69204152247,165310.22837370244 L 182579.8200692042,165574.86505190312 L 182844.45674740485,165663.2249134948 L 180784.05536332182,164230.64359861592 L 179132.01384083048,162265.46712802767 L 179308.51211072665,162177.32871972318 L 179396.6505190312,161647.8339100346 L 180190.7820069204,161206.69896193774 L 180455.6401384083,161206.69896193774 L 181410.54671280278,161760.3321799308 L 181498.90657439444,161760.3321799308 L 181234.04844290658,159585.660899654 L 179877.64705882352,157980.12456747406 L 179436.51211072668,157009.4948096886 L 179260.01384083045,154497.32871972318 L 179260.01384083045,153012.92733564015 L 179372.51211072665,150942.11764705883 L 178255.94463667824,148139.40484429066 L 175647.8892733564,142865.27335640136 L 175118.61591695502,142335.77854671283 L 173741.84083044977,139533.28719723187 L 172850.0484429066,137260.06920415227 L 171869.23183391007,136661.92387543252 L 169570.32525951558,135770.13148788927 L 168864.553633218,135681.9930795848 L 166326.6989619377,135417.3564013841 L 164875.07266435988,134279.52941176473 L 156837.64705882352,128980.9511293521 L 156837.64705882352,126256.71972318339 L 156107.51557093425,124595.82006920416 z\" /><path fill-rule=\"evenodd\" fill=\"#66cc99\" stroke=\"#555555\" stroke-width=\"1533.1342173010382\" opacity=\"0.6\" d=\"M 39790.72664359862,256497.38408304498 L 38298.352941176476,251721.96539792386 L 38000.05536332181,248737.43944636677 L 37701.53633217993,247245.28719723184 L 37701.53633217993,244857.5778546713 L 37104.71972318339,240679.19723183394 L 35313.82698961938,232621.17647058825 L 34120.1937716263,228144.276816609 L 32926.33910034602,223965.89619377162 L 31433.96539792388,218593.88235294117 L 30538.62975778547,213818.4636678201 L 29941.81314878893,212027.79238754325 L 26061.951557093427,206954.07612456748 L 23972.76124567474,203969.55017301042 L 23077.425605536333,202178.87889273357 L 20988.235294117647,196806.8650519031 L 20092.89965397924,194120.6366782007 L 19197.564013840834,189643.95847750866 L 18302.006920415228,187853.28719723184 L 16809.854671280278,184868.76124567472 L 13228.512110726646,177407.33564013842 L 9348.429065743943,171139.76470588235 L 7259.460207612457,165767.75086505193 L 5170.269896193771,160096.9965397924 L 2782.560553633218,156515.65397923873 L -1694.1176470588236,154724.98269896195 L -6767.833910034603,154426.46366782006 L -13632.221453287199,158306.32525951558 L -18109.121107266437,169349.09342560553 L -18705.93771626298,183376.3875432526 L -15423.114186851211,198895.8339100346 L -8260.207612456747,213818.4636678201 L -4081.8269896193774,222473.7439446367 L 5170.269896193771,246051.43252595156 L 9646.948096885815,258884.8719723184 L 14422.145328719722,268136.9688581315 L 19794.380622837372,276792.0276816609 L 26061.951557093427,283656.4152249135 L 29643.29411764706,285148.78892733564 L 31732.48442906575,284253.4532871973 L 32926.33910034602,282761.07958477514 L 41879.9169550173,271121.4948096886 L 41282.87889273357,261570.87889273357 L 39790.72664359862,256497.38408304498 z\" /></g></g></svg>"
      ],
      "text/plain": [
       "<MULTIPOLYGON (((156107.516 124595.82, 151933.121 120766.671, 150050.547 118...>"
      ]
     },
     "execution_count": 31,
     "metadata": {},
     "output_type": "execute_result"
    }
   ],
   "source": [
    "coords"
   ]
  },
  {
   "cell_type": "code",
   "execution_count": 30,
   "metadata": {},
   "outputs": [
    {
     "data": {
      "image/png": "[encoded data removed]",
      "text/plain": [
       "<Figure size 640x480 with 1 Axes>"
      ]
     },
     "metadata": {},
     "output_type": "display_data"
    }
   ],
   "source": [
    "        sq.pl.spatial_scatter(\n",
    "            sdata_crop.table, library_id=\"spatial\",\n",
    "            shape=None, color=None, wspace=0.4)"
   ]
  },
  {
   "cell_type": "code",
   "execution_count": 26,
   "metadata": {},
   "outputs": [
    {
     "data": {
      "text/plain": [
       "AnnData object with n_obs × n_vars = 5464 × 469\n",
       "    obs: 'cell_id', 'transcript_counts', 'control_probe_counts', 'control_codeword_counts', 'unassigned_codeword_counts', 'deprecated_codeword_counts', 'total_counts', 'cell_area', 'nucleus_area', 'region', 'z_level', 'nucleus_count', 'cell_labels', 'Sample'\n",
       "    var: 'gene_ids', 'feature_types', 'genome'\n",
       "    uns: 'spatialdata_attrs', 'spatial', 'original_ix'\n",
       "    obsm: 'spatial'\n",
       "    layers: 'counts'"
      ]
     },
     "execution_count": 26,
     "metadata": {},
     "output_type": "execute_result"
    }
   ],
   "source": []
  },
  {
   "cell_type": "code",
   "execution_count": 32,
   "metadata": {},
   "outputs": [
    {
     "name": "stdout",
     "output_type": "stream",
     "text": [
      "\n",
      "\n",
      "\t\t****************************************\n",
      "\t\t50217A\n",
      "\t\t****************************************\n",
      "\n",
      "\n",
      "\n",
      "\n",
      "Data: /mnt/cho_lab/bbdata2/outputs/TUQ97N/CHO-008/output-XETG00189__0015521__50217A-TUQ97N-EA__20240415__212906\n",
      "Object: /mnt/cho_lab/disk2/elizabeth/data/shared-xenium-library/outputs/TUQ97N/nebraska/Inflamed-50217A.h5ad\n",
      "Coordinates: /mnt/cho_lab/disk2/elizabeth/data/shared-xenium-library/outputs/TUQ97N/nebraska/coordinates/smc_longitudinal/50217A_smc_longitudinal.csv\n",
      "Ouput: /mnt/cho_lab/disk2/elizabeth/data/shared-xenium-library/outputs/TUQ97N/nebraska/objects_cropped/smc_longitudinal/Inflamed-50217A_smc_longitudinal.h5ad\n"
     ]
    }
   ],
   "source": [
    "        import os\n",
    "        import traceback\n",
    "        import json\n",
    "        from itertools import permutations\n",
    "        from warnings import warn\n",
    "        from copy import deepcopy\n",
    "        from dask_image.imread import imread\n",
    "        import matplotlib\n",
    "        import matplotlib.pyplot as plt\n",
    "        from matplotlib.backends.backend_pdf import PdfPages\n",
    "        import shapely\n",
    "        from shapely.geometry.multipolygon import MultiPolygon\n",
    "        from shapely.geometry.polygon import Polygon\n",
    "        import geopandas as gpd\n",
    "        import squidpy as sq\n",
    "        import spatialdata\n",
    "        from spatialdata.models import TableModel\n",
    "        import spatialdata_plot as sdp\n",
    "        import spatialdata_io as sdio\n",
    "        from spatialdata_io._constants._constants import XeniumKeys\n",
    "        import liana\n",
    "\n",
    "\n",
    "        bounds_y=None\n",
    "        bounds_z=None\n",
    "        pixel_size=0.2125\n",
    "        allow_make_valid=True\n",
    "        kwargs={}\n",
    "        coord_suffix = \"smc_longitudinal\"\n",
    "\n",
    "        print(f\"\\n\\n\\t\\t{'*' * 40}\\n\\t\\t{s}\\n\\t\\t{'*' * 40}\\n\\n\")\n",
    "        dir_coord = os.path.join(\n",
    "            out_new, \"coordinates\", coord_suffix)  # coordinates (NFS soon?)\n",
    "        out = os.path.join(out_new, \"objects_cropped\", coord_suffix)  # path\n",
    "        os.makedirs(out, exist_ok=True)  # make sub-directory for new objects?\n",
    "        file_coord = os.path.join(dir_coord, s + f\"_{coord_suffix}.csv\")\n",
    "        file_obj_crop = os.path.join(out, f\"{lib}_{coord_suffix}.h5ad\")\n",
    "        print(f\"\\n\\nData: {fff}\\nObject: {file_obj_proc}\"\n",
    "              f\"\\nCoordinates: {file_coord}\\nOuput: {file_obj_crop}\")\n",
    "\n",
    "        bounds_x = file_coord\n",
    "\n",
    "        if isinstance(bounds_x, (str, Polygon, MultiPolygon)) or isinstance(\n",
    "                bounds_x[0], str):  # Xenium Explorer selection(s)\n",
    "            if isinstance(bounds_x, (list, np.ndarray, tuple, str)):  # file\n",
    "                if isinstance(bounds_x, (list, np.ndarray, tuple)):  # fileS\n",
    "                    coords = [cr.pp.xenium_explorer_selection(\n",
    "                         i, pixel_size=pixel_size, as_list=False)\n",
    "                               for i in bounds_x]\n",
    "                else:  # single file\n",
    "                    coords = cr.pp.xenium_explorer_selection(\n",
    "                        bounds_x, pixel_size=pixel_size, as_list=False)\n",
    "            else:  # if shapely object\n",
    "                coords = bounds_x\n",
    "            if isinstance(coords, list):  # if multiple selections...\n",
    "                coords = shapely.MultiPolygon(coords)  # ...union of areas\n",
    "            kws = {\"target_coordinate_system\": \"global\",\n",
    "                   \"filter_table\": True, **kwargs}\n",
    "        #     if \"is_valid\" in dir(coords) and coords.is_valid is False:\n",
    "        #         if allow_make_valid is True:\n",
    "        #             invalid, error = True, None\n",
    "        #         else:\n",
    "        #             p_coords = gpd.GeoSeries(coords).plot()\n",
    "        #             p_coords.set_title(\"Input\")\n",
    "        #             raise ValueError(\n",
    "        #                 \"Input coordinates have invalid geometry!\")\n",
    "        #     else:\n",
    "        #         invalid = False\n",
    "        #         try:\n",
    "        #             sdata_crop = self.adata.query.polygon(\n",
    "        #                 coords, **kws)  # crop\n",
    "        #         except Exception as err:\n",
    "        #             sdata_crop = None\n",
    "        #             if allow_make_valid is False:\n",
    "        #                 raise err\n",
    "        #             invalid, error = True, err\n",
    "        #     if invalid is True:\n",
    "        #         if allow_make_valid is True:\n",
    "        #             try:\n",
    "        #                 warn(\"\\n\\n*** Invalid geometry! Making geometry valid\"\n",
    "        #                      \". Check new coordinates!\\n\\n\")\n",
    "        #                 p_coords = gpd.GeoSeries(coords).plot()\n",
    "        #                 p_coords.set_title(\"Input\")\n",
    "        #                 plt.show()\n",
    "        #                 coords = shapely.validation.make_valid(coords)\n",
    "        #                 p_coords_new = gpd.GeoSeries(coords).plot()\n",
    "        #                 p_coords_new.set_title(\"Corrected\")\n",
    "        #                 plt.show()\n",
    "        #                 sdata_crop = self.adata.query.polygon(coords, **kws)\n",
    "        #             except Exception:\n",
    "        #                 sdata_crop = None\n",
    "        #                 print(error)\n",
    "        #                 traceback.print_exc()\n",
    "        #     if \"table\" not in dir(sdata_crop):\n",
    "        #         sdata_crop.table = self.rna[self.rna.obs[\n",
    "        #             XeniumKeys.CELL_ID].isin(sdata_crop.shapes[\n",
    "        #                 \"cell_boundaries\"].index)].copy()  # add back table\n",
    "        #         # needed for now b/c issue if any nuclei radius = NA\n",
    "        #         # github.com/scverse/spatialdata-io/\n",
    "        #         # issues/173#issuecomment-2231152498\n",
    "        #     else:\n",
    "        #         i_x = sdata_crop.table.obs[\"cell_id\"].copy()\n",
    "        #         del sdata_crop.table\n",
    "        #         sdata_crop.table = self.rna[self.rna.obs[\"cell_id\"].isin(i_x[\n",
    "        #             i_x.isin(self.rna.obs[\"cell_id\"])])]\n",
    "        # else:  # specified coordinates\n",
    "        #     minc, maxc = [[x[i] for x in [bounds_x, bounds_y, bounds_z] if (\n",
    "        #         x is not None)] for i in [0, 1]]\n",
    "        #     kws_def = dict(axes=(\"x\", \"y\", \"z\") if bounds_z else (\"x\", \"y\"),\n",
    "        #                    target_coordinate_system=\"global\")\n",
    "        #     sdata_crop = spatialdata.bounding_box_query(\n",
    "        #         self.adata, min_coordinate=minc,\n",
    "        #         max_coordinate=maxc, **{**kws_def, **kwargs})"
   ]
  },
  {
   "cell_type": "code",
   "execution_count": null,
   "metadata": {},
   "outputs": [],
   "source": [
    "ls"
   ]
  },
  {
   "cell_type": "code",
   "execution_count": 23,
   "metadata": {},
   "outputs": [
    {
     "data": {
      "image/png": "[encoded data removed]",
      "text/plain": [
       "<Figure size 640x480 with 1 Axes>"
      ]
     },
     "metadata": {},
     "output_type": "display_data"
    },
    {
     "data": {
      "text/plain": [
       "<Axes: >"
      ]
     },
     "execution_count": 23,
     "metadata": {},
     "output_type": "execute_result"
    },
    {
     "data": {
      "image/png": "[encoded data removed]",
      "text/plain": [
       "<Figure size 640x480 with 1 Axes>"
      ]
     },
     "metadata": {},
     "output_type": "display_data"
    }
   ],
   "source": [
    "coords = shapely.validation.make_valid(coords)\n",
    "p_coords_new = gpd.GeoSeries(coords).plot()\n",
    "p_coords_new.set_title(\"Corrected\")\n",
    "plt.show()\n",
    "gpd.GeoSeries(coords).plot()"
   ]
  },
  {
   "cell_type": "markdown",
   "metadata": {},
   "source": [
    "# Example Setting Regions by Exclusion"
   ]
  },
  {
   "cell_type": "code",
   "execution_count": null,
   "metadata": {},
   "outputs": [],
   "source": [
    "s_o = \"50217A\"\n",
    "out_new = str(\"/mnt/cho_lab/disk2/elizabeth/data/shared-xenium-library/\"\n",
    "              \"outputs/TUQ97N/nebraska\")\n",
    "# mid = pd.read_csv(os.path.join(out_new, f\"coordinates/{s_o}_mid.csv\"),\n",
    "#                   index_col=0).iloc[:, 0]\n",
    "# mid = gpd.GeoDataFrame(mid, geometry=gpd.GeoSeries.from_wkt(\n",
    "#     mid), crs=\"EPSG:4326\")\n",
    "# mid = mid.geometry.apply(lambda geom: shapely.Polygon(geom)).iloc[0]\n",
    "mye, ser, muc, icm = [cr.pp.xenium_explorer_selection(os.path.join(\n",
    "    out_new, \"coordinates\", r, f\"{s_o}_{r}.csv\"))\n",
    "            for r in [\"myenteric_plexus\", \"serosa\", \"mucosa\", \"smc_circular\"]]\n",
    "mye, ser, muc, icm = [x if x.is_valid else shapely.validation.make_valid(\n",
    "    x) for x in [mye, ser, muc, icm]]\n",
    "# muc = cr.pp.xenium_explorer_selection(os.path.join(\n",
    "#     out_new, \"coordinates\", \"mucosa\", f\"{s_o}_mucosa_full.csv\"))\n",
    "# muc = shapely.validation.make_valid(muc)\n",
    "# other = shapely.validation.make_valid(cr.pp.xenium_explorer_selection(\n",
    "#     os.path.join(out_new, \"coordinates/50217A_other.csv\")))\n",
    "# smc = shapely.validation.make_valid(cr.pp.xenium_explorer_selection(\n",
    "#     os.path.join(out_new, \"coordinates/50217A_smc.csv\")))\n",
    "# whole = shapely.validation.make_valid(cr.pp.xenium_explorer_selection(\n",
    "#     os.path.join(out_new, \"coordinates/50217A_all.csv\")))\n",
    "# olm = cr.pp.xenium_explorer_selection(os.path.join(\n",
    "#     out_new, \"coordinates\", \"smc_longitudinal\",\n",
    "#     f\"{s_o}_smc_longitudinal.csv\"))\n",
    "other, olm, smc, whole = None, None, None, None"
   ]
  },
  {
   "cell_type": "code",
   "execution_count": null,
   "metadata": {},
   "outputs": [],
   "source": [
    "for r in zip([\"whole\", \"mye\", \"ser\", \"muc\", \"smc\", \"icm\", \"olm\"], [\n",
    "        whole, mye, ser, muc, smc, icm, olm]):\n",
    "    if r[1] is None:\n",
    "        continue\n",
    "    p_coords = gpd.GeoSeries(r[1]).plot()\n",
    "    p_coords.set_title(r[0])\n",
    "    plt.show()"
   ]
  },
  {
   "cell_type": "code",
   "execution_count": null,
   "metadata": {},
   "outputs": [],
   "source": [
    "olm = smc.difference(mye).difference(icm).difference(ser)\n",
    "olm"
   ]
  },
  {
   "cell_type": "code",
   "execution_count": null,
   "metadata": {},
   "outputs": [],
   "source": [
    "\n",
    "muc"
   ]
  },
  {
   "cell_type": "code",
   "execution_count": null,
   "metadata": {},
   "outputs": [],
   "source": [
    "sub = whole.difference(muc).difference(icm).difference(olm).difference(\n",
    "    mye).difference(ser).difference(smc)\n",
    "sub"
   ]
  },
  {
   "cell_type": "code",
   "execution_count": null,
   "metadata": {},
   "outputs": [],
   "source": [
    "data = {}\n",
    "for i, p in enumerate(olm.geoms):  # Handle each Polygon in MultiPolygon\n",
    "    data[f\"Selection {i}\"] = []\n",
    "    for xi, yi in zip(*p.exterior.xy):\n",
    "        data[f\"Selection {i}\"] += [{\"X\": xi, \"Y\": yi}]\n",
    "    data[f\"Selection {i}\"] = pd.DataFrame(data[f\"Selection {i}\"])\n",
    "data = pd.concat(data, names=[\"Selection\"]).reset_index(1, drop=True)\n",
    "cols = [f\"\", \", \".join(data.reset_index().Selection.unique())]\n",
    "data = pd.concat([pd.DataFrame([[\"\", \"\"]], index=[\n",
    "    \"Areas (µm^2): x\"], columns=cols), pd.DataFrame(data.columns, columns=[\n",
    "        \"Selection\"], index=cols).T, pd.DataFrame(np.array(\n",
    "            data), index=data.index, columns=cols)]).rename_axis(\n",
    "                \"#Selection name: \")  # Xenium format\n",
    "# os.system(\"mv \" + os.path.join(\n",
    "#     out_new, \"coordinates\", \"smc_longitudinal\",\n",
    "#     \"50217A_smc_longitudinal.csv\") + \" \" + os.path.join(\n",
    "#         out_new, \"coordinates\", \"smc_longitudinal\",\n",
    "#         \"50217A_smc_longitudinal_old.csv\"))\n",
    "# data.to_csv(os.path.join(out_new, \"coordinates\", \"smc_longitudinal\",\n",
    "#                          \"50217A_smc_longitudinal.csv\"))\n",
    "\n",
    "data = {}\n",
    "for i, p in enumerate(muc.geoms):  # Handle each Polygon in MultiPolygon\n",
    "    data[f\"Selection {i}\"] = []\n",
    "    for xi, yi in zip(*p.exterior.xy):\n",
    "        data[f\"Selection {i}\"] += [{\"X\": xi, \"Y\": yi}]\n",
    "    data[f\"Selection {i}\"] = pd.DataFrame(data[f\"Selection {i}\"])\n",
    "data = pd.concat(data, names=[\"Selection\"]).reset_index(1, drop=True)\n",
    "cols = [f\"\", \", \".join(data.reset_index().Selection.unique())]\n",
    "data = pd.concat([pd.DataFrame([[\"\", \"\"]], index=[\n",
    "    \"Areas (µm^2): x\"], columns=cols), pd.DataFrame(data.columns, columns=[\n",
    "        \"Selection\"], index=cols).T, pd.DataFrame(np.array(\n",
    "            data), index=data.index, columns=cols)]).rename_axis(\n",
    "                \"#Selection name: \")  # Xenium format\n",
    "# os.system(\"mv \" + os.path.join(\n",
    "#     out_new, \"coordinates\", \"mucosa\",\n",
    "#     \"50217A_mucosa.csv\") + \" \" + os.path.join(\n",
    "#         out_new, \"coordinates\", \"mucosa\", \"50217A_mucosa_old.csv\"))\n",
    "# data.to_csv(os.path.join(out_new, \"coordinates\", \"mucosa\",\n",
    "#                          \"50217A_mucosa.csv\"))\n",
    "\n",
    "data = {}\n",
    "for i, p in enumerate(icm.geoms):  # Handle each Polygon in MultiPolygon\n",
    "    data[f\"Selection {i}\"] = []\n",
    "    for xi, yi in zip(*p.exterior.xy):\n",
    "        data[f\"Selection {i}\"] += [{\"X\": xi, \"Y\": yi}]\n",
    "    data[f\"Selection {i}\"] = pd.DataFrame(data[f\"Selection {i}\"])\n",
    "data = pd.concat(data, names=[\"Selection\"]).reset_index(1, drop=True)\n",
    "cols = [f\"\", \", \".join(data.reset_index().Selection.unique())]\n",
    "data = pd.concat([pd.DataFrame([[\"\", \"\"]], index=[\n",
    "    \"Areas (µm^2): x\"], columns=cols), pd.DataFrame(data.columns, columns=[\n",
    "        \"Selection\"], index=cols).T, pd.DataFrame(np.array(\n",
    "            data), index=data.index, columns=cols)]).rename_axis(\n",
    "                \"#Selection name: \")  # Xenium format\n",
    "# os.system(\"mv \" + os.path.join(\n",
    "#     out_new, \"coordinates\", \"smc_circular\",\n",
    "#     \"50217A_smc_circular.csv\") + \" \" + os.path.join(\n",
    "#         out_new, \"coordinates\", \"smc_circular\",\n",
    "#         \"50217A_smc_circular_old.csv\"))\n",
    "# data.to_csv(os.path.join(out_new, \"coordinates\", \"smc_circular\",\n",
    "#                          \"50217A_smc_circular.csv\"))\n",
    "\n",
    "data = {}\n",
    "for i, p in enumerate(sub.geoms):  # Handle each Polygon in MultiPolygon\n",
    "    data[f\"Selection {i}\"] = []\n",
    "    for xi, yi in zip(*p.exterior.xy):\n",
    "        data[f\"Selection {i}\"] += [{\"X\": xi, \"Y\": yi}]\n",
    "    data[f\"Selection {i}\"] = pd.DataFrame(data[f\"Selection {i}\"])\n",
    "data = pd.concat(data, names=[\"Selection\"]).reset_index(1, drop=True)\n",
    "cols = [f\"\", \", \".join(data.reset_index().Selection.unique())]\n",
    "data = pd.concat([pd.DataFrame([[\"\", \"\"]], index=[\n",
    "    \"Areas (µm^2): x\"], columns=cols), pd.DataFrame(data.columns, columns=[\n",
    "        \"Selection\"], index=cols).T, pd.DataFrame(np.array(\n",
    "            data), index=data.index, columns=cols)]).rename_axis(\n",
    "                \"#Selection name: \")  # Xenium format\n",
    "# os.system(\"mv \" + os.path.join(\n",
    "#     out_new, \"coordinates\", \"submucosa\",\n",
    "#     \"50217A_submucosa.csv\") + \" \" + os.path.join(\n",
    "#         out_new, \"coordinates\", \"submucosa\",\n",
    "#         \"50217A_submucosa_old.csv\"))\n",
    "# data.to_csv(os.path.join(out_new, \"coordinates\", \"submucosa\",\n",
    "#                          \"50217A_submucosa.csv\"))"
   ]
  },
  {
   "cell_type": "code",
   "execution_count": null,
   "metadata": {},
   "outputs": [],
   "source": [
    "for r in zip([\"whole\", \"mye\", \"ser\", \"muc\", \"smc\", \"icm\", \"olm\"], [\n",
    "        whole, mye, ser, muc, smc, icm, olm]):\n",
    "    if r[1] is None:\n",
    "        continue\n",
    "    p_coords = gpd.GeoSeries(r[1]).plot()\n",
    "    p_coords.set_title(r[0])\n",
    "    plt.show()"
   ]
  },
  {
   "cell_type": "markdown",
   "metadata": {},
   "source": [
    "# Workspace"
   ]
  },
  {
   "cell_type": "code",
   "execution_count": null,
   "metadata": {},
   "outputs": [],
   "source": [
    "self.adata.shapes[\"cell_circles\"][\"radius\"].isna().sum()"
   ]
  },
  {
   "cell_type": "code",
   "execution_count": null,
   "metadata": {},
   "outputs": [],
   "source": [
    "self.rna[self.rna.obs[\"cell_id\"].isin(sdata.shapes[\"cell_boundaries\"].index)]"
   ]
  },
  {
   "cell_type": "code",
   "execution_count": null,
   "metadata": {},
   "outputs": [],
   "source": [
    "self.adata.get_annotated_regions(self.adata.table)"
   ]
  },
  {
   "cell_type": "code",
   "execution_count": null,
   "metadata": {},
   "outputs": [],
   "source": [
    "from spatialdata_io._constants._constants import XeniumKeys\n",
    "\n",
    "transform = Scale([1.0 / 0.2125, 1.0 / 0.2125], axes=(\"x\", \"y\"))\n",
    "radii = np.sqrt(self.rna.obs[XeniumKeys.CELL_NUCLEUS_AREA].to_numpy() / np.pi)"
   ]
  },
  {
   "cell_type": "code",
   "execution_count": null,
   "metadata": {},
   "outputs": [],
   "source": [
    "self.rna.obs[XeniumKeys.CELL_NUCLEUS_AREA]"
   ]
  },
  {
   "cell_type": "code",
   "execution_count": null,
   "metadata": {},
   "outputs": [],
   "source": [
    "[i[1] for i in self.adata._gen_elements()]"
   ]
  },
  {
   "cell_type": "code",
   "execution_count": null,
   "metadata": {},
   "outputs": [],
   "source": [
    "found_regions = set(table.obs[\"cell_id\"].unique().tolist())\n",
    "target_element_set = [\"cell_boundaries\"]\n",
    "symmetric_difference = found_regions.symmetric_difference(target_element_set)\n",
    "len(symmetric_difference)"
   ]
  },
  {
   "cell_type": "code",
   "execution_count": null,
   "metadata": {},
   "outputs": [],
   "source": [
    "self.adata._change_table_annotation_target(self.adata.table, \"cell_labels\")"
   ]
  },
  {
   "cell_type": "code",
   "execution_count": null,
   "metadata": {},
   "outputs": [],
   "source": [
    "table.uns.get(\"spatialdata_attrs\")"
   ]
  },
  {
   "cell_type": "code",
   "execution_count": null,
   "metadata": {},
   "outputs": [],
   "source": [
    "self.adata.set_table_annotates_spatialelement(\"table\", region=\"cell_labels\")"
   ]
  },
  {
   "cell_type": "code",
   "execution_count": null,
   "metadata": {},
   "outputs": [],
   "source": [
    "# element = self.adata.shapes[\"cell_circles\"]\n",
    "# buffered_df = element.copy()\n",
    "# buffered = to_polygons(element)"
   ]
  },
  {
   "cell_type": "code",
   "execution_count": null,
   "metadata": {},
   "outputs": [],
   "source": [
    "# coord_suffix = \"myenteric_plexus\"\n",
    "# coord_suffix = \"smc_circular\"\n",
    "coord_suffix = \"smc_longitudinal\"\n",
    "# s = \"50006B\"\n",
    "# s =  \"50217A\"\n",
    "# s = \"50217B\"\n",
    "\n",
    "# for s in [\"50006A\", \"50217A\", \"50403B\"]:\n",
    "for s in [\"50006A\"]:\n",
    "    fff = os.path.join(dir_data, np.array(files)[np.where([\n",
    "        s == os.path.basename(x).split(\"__\")[2].split(\"-\")[0]\n",
    "        for x in files])[0][0]])  # sample's Xenium data directory path\n",
    "    lib = metadata.reset_index().set_index(cso).loc[s][col_sample]\n",
    "    file_obj_proc = os.path.join(out_dir, f\"{lib}{input_suffix}.h5ad\")\n",
    "    dir_coord = os.path.join(\n",
    "        out_new, \"coordinates\", coord_suffix)  # coordinates (NFS soon?)\n",
    "    out = os.path.join(out_new, \"objects_cropped\", coord_suffix)  # path\n",
    "    os.makedirs(out, exist_ok=True)  # make sub-directory for new objects?\n",
    "    file_coord = os.path.join(dir_coord, s + f\"_{coord_suffix}.csv\")\n",
    "    file_obj_crop = os.path.join(out, f\"{lib}_{coord_suffix}.h5ad\")\n",
    "    if os.path.exists(file_obj_crop):\n",
    "        continue\n",
    "    self = cr.Spatial(fff, library_id=lib,\n",
    "                      cells_as_circles=cells_as_circles)  # load original data\n",
    "    adata = sc.read_h5ad(file_obj_proc)  # processed adata\n",
    "    # coords = cr.pp.xenium_explorer_selection(file_coord, pixel_size=0.2125)\n",
    "    # if isinstance(coords, list):  # if multiple selections...\n",
    "    #     coords = shapely.MultiPolygon(coords)  # ...union of areas\n",
    "    # kws = {\"target_coordinate_system\": \"global\", \"filter_table\": True}\n",
    "    # try:\n",
    "    #     sdata = self.adata.query.polygon(coords, **kws)  # crop\n",
    "    # except Exception as err:\n",
    "    #     if allow_make_valid:\n",
    "    #         warn(\"\\n\\n*** Invalid geometry! Making geometry valid.\"\n",
    "    #              \"Check new coordinates!\\n\\n\")\n",
    "    #         coords_new = shapely.validation.make_valid(coords)\n",
    "    #         sdata = self.adata.query.polygon(coords_new, **kws)  # crop\n",
    "    #     else:\n",
    "    #         raise err\n",
    "    # i_x = sdata.table.obs[\"cell_id\"].copy()\n",
    "    # del sdata.table\n",
    "    # sdata.table = adata[adata.obs[\"cell_id\"].isin(i_x[\n",
    "    #     i_x.isin(adata.obs[\"cell_id\"])])]\n",
    "    sdata = self.crop(file_coord, allow_make_valid=allow_make_valid)\n",
    "    if not os.path.exists(file_obj_crop):\n",
    "        sdata.tables[\"table\"].write_h5ad(os.path.join(\n",
    "            out, f\"{self._library_id}_{coord_suffix}.h5ad\"))"
   ]
  },
  {
   "cell_type": "code",
   "execution_count": null,
   "metadata": {},
   "outputs": [],
   "source": [
    "import geopandas as gpd\n",
    "import shapely\n",
    "\n",
    "#Create a test dataframe\n",
    "    #The first line is valid, the second is not, it starts and ends at the same point\n",
    "wkts  = [\"LINESTRING (30 10, 10 30, 40 40)\", \"LINESTRING (30 10, 30 10)\"]\n",
    "geometries = [shapely.wkt.loads(x) for x in wkts] #Create shapely geometries\n",
    "df = gpd.GeoDataFrame(geometry=geometries) #And a data frame\n",
    "\n",
    "invalid = df.loc[~df.geometry.is_valid]"
   ]
  },
  {
   "cell_type": "code",
   "execution_count": null,
   "metadata": {},
   "outputs": [],
   "source": [
    "from shapely.validation import make_valid"
   ]
  },
  {
   "cell_type": "code",
   "execution_count": null,
   "metadata": {},
   "outputs": [],
   "source": [
    "import squidpy as sq\n",
    "\n",
    "sq.pl.spatial_scatter(sdata_crop.table)"
   ]
  },
  {
   "cell_type": "code",
   "execution_count": null,
   "metadata": {},
   "outputs": [],
   "source": [
    "sdata.pl.render_labels(\"cell_labels\").pl.show()  # plot"
   ]
  },
  {
   "cell_type": "code",
   "execution_count": null,
   "metadata": {},
   "outputs": [],
   "source": [
    "elements = self.gen_spatial_elements()"
   ]
  },
  {
   "cell_type": "code",
   "execution_count": null,
   "metadata": {},
   "outputs": [],
   "source": [
    "cr.pp.xenium_explorer_selection(file_coord)"
   ]
  }
 ],
 "metadata": {
  "kernelspec": {
   "display_name": "bio",
   "language": "python",
   "name": "python3"
  },
  "language_info": {
   "codemirror_mode": {
    "name": "ipython",
    "version": 3
   },
   "file_extension": ".py",
   "mimetype": "text/x-python",
   "name": "python",
   "nbconvert_exporter": "python",
   "pygments_lexer": "ipython3",
   "version": "3.10.4"
  }
 },
 "nbformat": 4,
 "nbformat_minor": 2
}
