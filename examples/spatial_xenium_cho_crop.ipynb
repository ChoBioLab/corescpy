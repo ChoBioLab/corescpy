{
 "cells": [
  {
   "cell_type": "markdown",
   "metadata": {},
   "source": [
    "# Setup\n",
    "\n",
    "```\n",
    "pip install git+https://github.com/scverse/spatialdata.git@main\n",
    "pip install git+https://github.com/scverse/spatialdata-io.git@main\n",
    "```\n",
    "\n",
    "This is the stuff you have to edit; the rest of the sections can run as-is after you've set the needed parameters.\n",
    "\n",
    "---\n",
    "\n",
    "`coord_suffix` must align with \n",
    "* the sub-directory (corresponds to region, e.g., \"mucosa\") under the `dir_coord` directory where the Xenium Explorer-exported selection files are stored, and\n",
    "* the suffixes of the coordinate selection files (see file naming conventions below).\n",
    "  \n",
    "The `AnnData` objects created will have this suffix as well (e.g., `Uninflamed-50452A_mucosa.h5ad`).\n",
    "\n",
    "---\n",
    "\n",
    "Selection files should be named by this convention:\n",
    "`<library_id>_<coord_suffix>.csv`.\n",
    "\n",
    "For example, if `dir_coord` is `.../coordinates/mucosa`, the mucosa selection file for sample 50452A should be under `.../coordinates/mucosa/50452A_mucosa.csv`. \n",
    "\n",
    "More specifically, if the coordinates directory is under `/mnt/cho_lab/disk2/elizabeth/data/shared-xenium-library/outputs/TUQ97N/nebraska/coordinates`, and the selection region is \"mucosa,\"`dir_coord` should be `/mnt/cho_lab/disk2/elizabeth/data/shared-xenium-library/outputs/TUQ97N/nebraska/coordinates/mucosa`, and the full file path for this sample would be `/mnt/cho_lab/disk2/elizabeth/data/shared-xenium-library/outputs/TUQ97N/nebraska/coordinates/mucosa/50452A_mucosa.csv`.\n",
    "\n",
    "---\n",
    "\n",
    "**As with any other file naming schema, suffixes/directory names should not any special characters other than underscores (`_`) (no periods, dashes, spaces, etc.).**\n",
    "\n",
    "N.B. In the above explanation, `library_id` refers to library/original sample ID without condition (e.g., \"50452A\", not \"Uninflamed-50452A\" like in other places). Remember that `coord_suffix` should also be the name of the parent directory of the coordinate file. I include this information in both the directory and file name to prevent mix-ups should files be moved or placed in the wrong folder.\n",
    "\n",
    "Loading the metadata allows us to find the object IDs (e.g., for TUQ97N, object IDs are in the format <condition (Inflamed/Uninflamed/Stricture)><block_id>) corresponding to the sample IDs.\n"
   ]
  },
  {
   "cell_type": "code",
   "execution_count": 1,
   "metadata": {},
   "outputs": [
    {
     "data": {
      "text/html": [
       "<pre style=\"white-space:pre;overflow-x:auto;line-height:normal;font-family:Menlo,'DejaVu Sans Mono',consolas,'Courier New',monospace\"><span style=\"color: #808000; text-decoration-color: #808000; font-weight: bold\">ryp2 is not installed. Install with </span><span style=\"color: #008000; text-decoration-color: #008000; font-weight: bold\">pip install rpy2 </span><span style=\"color: #808000; text-decoration-color: #808000; font-weight: bold\">to run tools with R support.</span>\n",
       "</pre>\n"
      ],
      "text/plain": [
       "\u001b[1;33mryp2 is not installed. Install with \u001b[0m\u001b[1;32mpip install rpy2 \u001b[0m\u001b[1;33mto run tools with R support.\u001b[0m\n"
      ]
     },
     "metadata": {},
     "output_type": "display_data"
    },
    {
     "name": "stderr",
     "output_type": "stream",
     "text": [
      "Downloading data from `https://omnipathdb.org/queries/enzsub?format=json`\n",
      "Downloading data from `https://omnipathdb.org/queries/interactions?format=json`\n",
      "Downloading data from `https://omnipathdb.org/queries/complexes?format=json`\n",
      "Downloading data from `https://omnipathdb.org/queries/annotations?format=json`\n",
      "Downloading data from `https://omnipathdb.org/queries/intercell?format=json`\n",
      "Downloading data from `https://omnipathdb.org/about?format=text`\n"
     ]
    },
    {
     "data": {
      "text/plain": [
       "Sample\n",
       "Inflamed-50006A       50006\n",
       "Uninflamed-50006B     50006\n",
       "Inflamed-50217A       50217\n",
       "Uninflamed-50217B     50217\n",
       "Inflamed-50336B       50336\n",
       "Uninflamed-50336C     50336\n",
       "Inflamed-50403B       50403\n",
       "Uninflamed-50403A2    50403\n",
       "Name: subject_id, dtype: int64"
      ]
     },
     "execution_count": 1,
     "metadata": {},
     "output_type": "execute_result"
    }
   ],
   "source": [
    "%load_ext autoreload\n",
    "%autoreload 2\n",
    "%matplotlib inline\n",
    "\n",
    "import os\n",
    "import re\n",
    "import math\n",
    "import functools\n",
    "import traceback\n",
    "import anndata\n",
    "import scanpy as sc\n",
    "# import spatialdata_plot\n",
    "import numpy as np\n",
    "import pandas as pd\n",
    "import corescpy as cr\n",
    "\n",
    "# Main\n",
    "write_object = True  # change to True when you're ready to save objects\n",
    "overwrite = False  # overwrite if already exists?\n",
    "regions = [\"mucosa\", \"serosa\", \"myenteric_plexus\", \"submucosa\",\n",
    "           \"smc_circular\", \"smc_longitudinal\"]\n",
    "col_leiden = \"leiden_res1pt5_dist0_npc30\"\n",
    "col_ann = \"Bucket\"\n",
    "cells_as_circles = True\n",
    "allow_make_valid = True  # allow shapely package to correct invalid geometries\n",
    "\n",
    "# Process Options\n",
    "panel = \"TUQ97N\"  # Xenium panel ID\n",
    "constants_dict = cr.get_panel_constants(panel_id=panel)\n",
    "# libs = [  # sample IDs from patients for whom we have all conditions\n",
    "#     \"50452A\", \"50452B\", \"50452C\",  # old segmentation\n",
    "#     \"50006A\", \"50006B\", \"50006C\",  # rest are new segmentation\n",
    "#     \"50217A\", \"50217B\", \"50217C\",\n",
    "#     \"50336B\", \"50336C\", \"50336A\",\n",
    "#     \"50403A2\", \"50403B\", \"50403C1\"\n",
    "# ]  # excludes low-quality sample/condition replicates 50403A1 & 50403C2\n",
    "libs = [\"50006A\", \"50006B\", \"50217A\", \"50217B\", \"50336B\", \"50336C\",\n",
    "        \"50403B\", \"50403A2\"]  # just inflamed/uninflamed (no strictures)\n",
    "# libs = None  # to run all available samples\n",
    "input_suffix = \"\"  # in case want to crop objects with some suffix\n",
    "# due to creation of a subsidiary object, e.g., for\n",
    "# \"Stricture-50452C_downsampled.h5ad\"\n",
    "# input_suffix would be \"_downsampled\". For \"main\" objects, input_suffix=\"\"\n",
    "plot = True  # could slow process down if large samples/cropped area\n",
    "\n",
    "# Files & Directories\n",
    "direc = \"/mnt/cho_lab/bbdata2/\"  # mounted NFS with data\n",
    "dir_entry = \"/mnt/cho_lab/disk2\"  # Spark writeable data directory\n",
    "mdf = str(\"/mnt/cho_lab/disk2/elizabeth/data/shared-xenium-library/samples_\"\n",
    "          f\"{panel}.csv\")  # metadata file path (for now; will soon be on NFS)\n",
    "dir_writeable = os.path.join(\n",
    "    dir_entry, f\"elizabeth/data/shared-xenium-library\")  # where objects are\n",
    "out_dir = os.path.join(\n",
    "    dir_writeable, f\"outputs/{panel}/nebraska\")  # object output directory\n",
    "\n",
    "#  Your Folders\n",
    "out_new = os.path.join(\n",
    "    dir_entry,\n",
    "    f\"{os.getlogin()}/data/shared-xenium-library/outputs/{panel}/nebraska\")\n",
    "\n",
    "# Constants (Shouldn't Need Edits Unless Extreme Process Changes)\n",
    "cso, col_sample, col_condition, col_inflamed, col_subject = [\n",
    "    constants_dict[x] if x in constants_dict else None for x in [\n",
    "        \"col_sample_id_o\", \"col_sample_id\", \"col_condition\",\n",
    "        \"col_inflamed\", \"col_subject\"]]\n",
    "dir_data = os.path.join(direc, f\"outputs/{panel}\")\n",
    "files = functools.reduce(lambda i, j: i + j, [[os.path.join(\n",
    "    run, i) for i in os.listdir(os.path.join(\n",
    "        dir_data, run))] for run in os.listdir(dir_data)])  # all data paths\n",
    "os.makedirs(out_dir, exist_ok=True)  # make output directory if needed\n",
    "metadata = cr.pp.get_metadata_cho(direc, mdf, panel_id=panel, samples=libs)\n",
    "metadata[col_subject]"
   ]
  },
  {
   "cell_type": "markdown",
   "metadata": {},
   "source": [
    "# Subset Data by Coordinate Files & Write Cropped Objects\n",
    "\n",
    "Subset the data by coordinates (`corescpy` can use Xenium Explorer-exported manual selection files to get those coordinates) and then write the cropped objects to `out_dir/<coord_suffix>`."
   ]
  },
  {
   "cell_type": "code",
   "execution_count": 11,
   "metadata": {},
   "outputs": [
    {
     "name": "stdout",
     "output_type": "stream",
     "text": [
      "\n",
      "\n",
      "================================================================================\n",
      "50006A\n",
      "================================================================================\n",
      "\n",
      "\n",
      "\n",
      "\n",
      "<<< INITIALIZING SPATIAL CLASS OBJECT >>>\n",
      "\n",
      "\u001b[34mINFO    \u001b[0m reading                                                                                                   \n",
      "         \u001b[35m/mnt/cho_lab/bbdata2/outputs/TUQ97N/CHO-007/output-XETG00189__0022407__50006A-TUQ97N-EA__20240411__205514/\u001b[0m\n",
      "         \u001b[95mcell_feature_matrix.h5\u001b[0m                                                                                    \n",
      "WARNING: Unable to find `y`, `x` or `z` dimension in `('c', 'y', 'x')`. Renaming to `('channels', 'y', 'x', 'z')`\n",
      "WARNING: Unable to find `y`, `x` or `z` dimension in `('c', 'y', 'x')`. Renaming to `('channels', 'y', 'x', 'z')`\n",
      "WARNING: Unable to find `y`, `x` or `z` dimension in `('c', 'y', 'x')`. Renaming to `('channels', 'y', 'x', 'z')`\n",
      "WARNING: Unable to find `y`, `x` or `z` dimension in `('c', 'y', 'x')`. Renaming to `('channels', 'y', 'x', 'z')`\n",
      "WARNING: Unable to find `y`, `x` or `z` dimension in `('c', 'y', 'x')`. Renaming to `('channels', 'y', 'x', 'z')`\n",
      "\n",
      "\n",
      "================================================================================\n",
      "Counts: Initial\n",
      "================================================================================\n",
      "\n",
      "\n",
      "\tObservations: 297656\n",
      "\n",
      "\tGenes: 469\n",
      "\n",
      "\n",
      "\n",
      "================================================================================\n",
      "\n",
      "\n",
      "\n",
      "\n",
      " AnnData object with n_obs × n_vars = 297656 × 469\n",
      "    obs: 'cell_id', 'transcript_counts', 'control_probe_counts', 'control_codeword_counts', 'unassigned_codeword_counts', 'deprecated_codeword_counts', 'total_counts', 'cell_area', 'nucleus_area', 'region', 'z_level', 'nucleus_count', 'cell_labels', 'Sample'\n",
      "    var: 'gene_ids', 'feature_types', 'genome'\n",
      "    uns: 'spatialdata_attrs', 'spatial', 'original_ix'\n",
      "    obsm: 'spatial'\n",
      "    layers: 'counts' \n",
      "\n",
      "                      gene_ids    feature_types   genome\n",
      "gene_symbols                                           \n",
      "ABCA7         ENSG00000064687  Gene Expression  Unknown\n",
      "ACTA2         ENSG00000107796  Gene Expression  Unknown\n",
      "ACTG2         ENSG00000163017  Gene Expression  Unknown\n",
      "ADAM15        ENSG00000143537  Gene Expression  Unknown\n",
      "ADAM28        ENSG00000042980  Gene Expression  Unknown \n",
      "\n",
      " \n",
      "\n",
      "\n",
      "\n",
      "col_gene_symbols=\"gene_symbols\"\n",
      "col_cell_type=\"leiden\"\n",
      "col_sample_id=\"Sample\"\n",
      "col_batch=\"Sample\"\n",
      "col_subject=None\n",
      "col_condition=None\n",
      "col_num_umis=None\n",
      "col_segment=\"region\"\n",
      "\n",
      "\n",
      "\n",
      "key_control=None\n",
      "key_treatment=None\n",
      "\n",
      "\n",
      "\t\t****************************************\n",
      "\t\t50006A\n",
      "\t\t****************************************\n",
      "\n",
      "\n",
      "*** Subset /mnt/cho_lab/disk2/elizabeth/data/shared-xenium-library/outputs/TUQ97N/nebraska/objects_cropped/mucosa/Inflamed-50006A_mucosa.h5ad already exists\n",
      "\n",
      "\n",
      "\t\t****************************************\n",
      "\t\t50006A\n",
      "\t\t****************************************\n",
      "\n",
      "\n",
      "*** Subset /mnt/cho_lab/disk2/elizabeth/data/shared-xenium-library/outputs/TUQ97N/nebraska/objects_cropped/serosa/Inflamed-50006A_serosa.h5ad already exists\n",
      "\n",
      "\n",
      "\t\t****************************************\n",
      "\t\t50006A\n",
      "\t\t****************************************\n",
      "\n",
      "\n",
      "*** Subset /mnt/cho_lab/disk2/elizabeth/data/shared-xenium-library/outputs/TUQ97N/nebraska/objects_cropped/myenteric_plexus/Inflamed-50006A_myenteric_plexus.h5ad already exists\n",
      "\n",
      "\n",
      "\t\t****************************************\n",
      "\t\t50006A\n",
      "\t\t****************************************\n",
      "\n",
      "\n",
      "*** Subset /mnt/cho_lab/disk2/elizabeth/data/shared-xenium-library/outputs/TUQ97N/nebraska/objects_cropped/submucosa/Inflamed-50006A_submucosa.h5ad already exists\n",
      "\n",
      "\n",
      "\t\t****************************************\n",
      "\t\t50006A\n",
      "\t\t****************************************\n",
      "\n",
      "\n",
      "\n",
      "\n",
      "Data: /mnt/cho_lab/bbdata2/outputs/TUQ97N/CHO-007/output-XETG00189__0022407__50006A-TUQ97N-EA__20240411__205514\n",
      "Object: /mnt/cho_lab/disk2/elizabeth/data/shared-xenium-library/outputs/TUQ97N/nebraska/Inflamed-50006A.h5ad\n",
      "Coordinates: /mnt/cho_lab/disk2/elizabeth/data/shared-xenium-library/outputs/TUQ97N/nebraska/coordinates/smc_longitudinal/50006A_smc_longitudinal.csv\n",
      "Ouput: /mnt/cho_lab/disk2/elizabeth/data/shared-xenium-library/outputs/TUQ97N/nebraska/objects_cropped/smc_longitudinal/Inflamed-50006A_smc_longitudinal.h5ad\n",
      "Traceback (most recent call last):\n",
      "  File \"/tmp/ipykernel_14633/2194243964.py\", line 35, in <module>\n",
      "    sdata = self.crop(file_coord)  # crop data to coordinates\n",
      "  File \"/home/elizabeth/elizabeth/corescpy/corescpy/class_spatial.py\", line 267, in crop\n",
      "    sdata_crop = self.adata.query.polygon(coords, **kws)  # crop\n",
      "  File \"/home/elizabeth/elizabeth/miniconda3/envs/bio/lib/python3.10/site-packages/spatialdata/_core/spatialdata.py\", line 2232, in polygon\n",
      "    return polygon_query(  # type: ignore[return-value]\n",
      "  File \"/home/elizabeth/elizabeth/miniconda3/envs/bio/lib/python3.10/functools.py\", line 889, in wrapper\n",
      "    return dispatch(args[0].__class__)(*args, **kw)\n",
      "  File \"/home/elizabeth/elizabeth/miniconda3/envs/bio/lib/python3.10/site-packages/spatialdata/_core/query/spatial_query.py\", line 823, in _\n",
      "    queried_elements = _dict_query_dispatcher(\n",
      "  File \"/home/elizabeth/elizabeth/miniconda3/envs/bio/lib/python3.10/site-packages/spatialdata/_core/query/spatial_query.py\", line 422, in _dict_query_dispatcher\n",
      "    result = query_function(element, **kwargs)\n",
      "  File \"/home/elizabeth/elizabeth/miniconda3/envs/bio/lib/python3.10/functools.py\", line 889, in wrapper\n",
      "    return dispatch(args[0].__class__)(*args, **kw)\n",
      "  File \"/home/elizabeth/elizabeth/miniconda3/envs/bio/lib/python3.10/site-packages/spatialdata/_core/query/spatial_query.py\", line 911, in _\n",
      "    indices = buffered.geometry.apply(\n",
      "  File \"/home/elizabeth/elizabeth/miniconda3/envs/bio/lib/python3.10/site-packages/geopandas/geoseries.py\", line 673, in apply\n",
      "    result = super().apply(func, args=args, **kwargs)\n",
      "  File \"/home/elizabeth/elizabeth/miniconda3/envs/bio/lib/python3.10/site-packages/pandas/core/series.py\", line 4924, in apply\n",
      "    ).apply()\n",
      "  File \"/home/elizabeth/elizabeth/miniconda3/envs/bio/lib/python3.10/site-packages/pandas/core/apply.py\", line 1427, in apply\n",
      "    return self.apply_standard()\n",
      "  File \"/home/elizabeth/elizabeth/miniconda3/envs/bio/lib/python3.10/site-packages/pandas/core/apply.py\", line 1507, in apply_standard\n",
      "    mapped = obj._map_values(\n",
      "  File \"/home/elizabeth/elizabeth/miniconda3/envs/bio/lib/python3.10/site-packages/pandas/core/base.py\", line 919, in _map_values\n",
      "    return arr.map(mapper, na_action=na_action)\n",
      "  File \"/home/elizabeth/elizabeth/miniconda3/envs/bio/lib/python3.10/site-packages/pandas/core/arrays/base.py\", line 2322, in map\n",
      "    return map_array(self, mapper, na_action=na_action)\n",
      "  File \"/home/elizabeth/elizabeth/miniconda3/envs/bio/lib/python3.10/site-packages/pandas/core/algorithms.py\", line 1743, in map_array\n",
      "    return lib.map_infer(values, mapper, convert=convert)\n",
      "  File \"lib.pyx\", line 2972, in pandas._libs.lib.map_infer\n",
      "  File \"/home/elizabeth/elizabeth/miniconda3/envs/bio/lib/python3.10/site-packages/spatialdata/_core/query/spatial_query.py\", line 912, in <lambda>\n",
      "    lambda x: False if x is None else x.intersects(polygon))\n",
      "  File \"/home/elizabeth/elizabeth/miniconda3/envs/bio/lib/python3.10/site-packages/shapely/geometry/base.py\", line 719, in intersects\n",
      "    return _maybe_unpack(shapely.intersects(self, other))\n",
      "  File \"/home/elizabeth/elizabeth/miniconda3/envs/bio/lib/python3.10/site-packages/shapely/decorators.py\", line 77, in wrapped\n",
      "    return func(*args, **kwargs)\n",
      "  File \"/home/elizabeth/elizabeth/miniconda3/envs/bio/lib/python3.10/site-packages/shapely/predicates.py\", line 778, in intersects\n",
      "    return lib.intersects(a, b, **kwargs)\n",
      "shapely.errors.GEOSException: TopologyException: side location conflict at 835.64874037966194 2747.0864731432866. This can occur if the input geometry is invalid.\n",
      " Cropping \n",
      "\n",
      "50006A failed!\n",
      "\n",
      "\n",
      "\t\t****************************************\n",
      "\t\t50006A\n",
      "\t\t****************************************\n",
      "\n",
      "\n",
      "*** Subset /mnt/cho_lab/disk2/elizabeth/data/shared-xenium-library/outputs/TUQ97N/nebraska/objects_cropped/smc_circular/Inflamed-50006A_smc_circular.h5ad already exists\n",
      "\n",
      "\n",
      "================================================================================\n",
      "50006B\n",
      "================================================================================\n",
      "\n",
      "\n",
      "*** All subsets /mnt/cho_lab/disk2/elizabeth/data/shared-xenium-library/outputs/TUQ97N/nebraska/objects_cropped/mucosa/Uninflamed-50006B_mucosa.h5ad, /mnt/cho_lab/disk2/elizabeth/data/shared-xenium-library/outputs/TUQ97N/nebraska/objects_cropped/serosa/Uninflamed-50006B_serosa.h5ad, /mnt/cho_lab/disk2/elizabeth/data/shared-xenium-library/outputs/TUQ97N/nebraska/objects_cropped/myenteric_plexus/Uninflamed-50006B_myenteric_plexus.h5ad, /mnt/cho_lab/disk2/elizabeth/data/shared-xenium-library/outputs/TUQ97N/nebraska/objects_cropped/submucosa/Uninflamed-50006B_submucosa.h5ad, /mnt/cho_lab/disk2/elizabeth/data/shared-xenium-library/outputs/TUQ97N/nebraska/objects_cropped/smc_longitudinal/Uninflamed-50006B_smc_longitudinal.h5ad, /mnt/cho_lab/disk2/elizabeth/data/shared-xenium-library/outputs/TUQ97N/nebraska/objects_cropped/smc_circular/Uninflamed-50006B_smc_circular.h5ad already exist\n",
      "\n",
      "\n",
      "================================================================================\n",
      "50217A\n",
      "================================================================================\n",
      "\n",
      "\n",
      "\n",
      "\n",
      "<<< INITIALIZING SPATIAL CLASS OBJECT >>>\n",
      "\n",
      "\u001b[34mINFO    \u001b[0m reading                                                                                                   \n",
      "         \u001b[35m/mnt/cho_lab/bbdata2/outputs/TUQ97N/CHO-008/output-XETG00189__0015521__50217A-TUQ97N-EA__20240415__212906/\u001b[0m\n",
      "         \u001b[95mcell_feature_matrix.h5\u001b[0m                                                                                    \n",
      "WARNING: Unable to find `y`, `x` or `z` dimension in `('c', 'y', 'x')`. Renaming to `('channels', 'y', 'x', 'z')`\n",
      "WARNING: Unable to find `y`, `x` or `z` dimension in `('c', 'y', 'x')`. Renaming to `('channels', 'y', 'x', 'z')`\n",
      "WARNING: Unable to find `y`, `x` or `z` dimension in `('c', 'y', 'x')`. Renaming to `('channels', 'y', 'x', 'z')`\n",
      "WARNING: Unable to find `y`, `x` or `z` dimension in `('c', 'y', 'x')`. Renaming to `('channels', 'y', 'x', 'z')`\n",
      "WARNING: Unable to find `y`, `x` or `z` dimension in `('c', 'y', 'x')`. Renaming to `('channels', 'y', 'x', 'z')`\n",
      "\n",
      "\n",
      "================================================================================\n",
      "Counts: Initial\n",
      "================================================================================\n",
      "\n",
      "\n",
      "\tObservations: 1038830\n",
      "\n",
      "\tGenes: 469\n",
      "\n",
      "\n",
      "\n",
      "================================================================================\n",
      "\n",
      "\n",
      "\n",
      "\n",
      " AnnData object with n_obs × n_vars = 1038830 × 469\n",
      "    obs: 'cell_id', 'transcript_counts', 'control_probe_counts', 'control_codeword_counts', 'unassigned_codeword_counts', 'deprecated_codeword_counts', 'total_counts', 'cell_area', 'nucleus_area', 'region', 'z_level', 'nucleus_count', 'cell_labels', 'Sample'\n",
      "    var: 'gene_ids', 'feature_types', 'genome'\n",
      "    uns: 'spatialdata_attrs', 'spatial', 'original_ix'\n",
      "    obsm: 'spatial'\n",
      "    layers: 'counts' \n",
      "\n",
      "                      gene_ids    feature_types   genome\n",
      "gene_symbols                                           \n",
      "ABCA7         ENSG00000064687  Gene Expression  Unknown\n",
      "ACTA2         ENSG00000107796  Gene Expression  Unknown\n",
      "ACTG2         ENSG00000163017  Gene Expression  Unknown\n",
      "ADAM15        ENSG00000143537  Gene Expression  Unknown\n",
      "ADAM28        ENSG00000042980  Gene Expression  Unknown \n",
      "\n",
      " \n",
      "\n",
      "\n",
      "\n",
      "col_gene_symbols=\"gene_symbols\"\n",
      "col_cell_type=\"leiden\"\n",
      "col_sample_id=\"Sample\"\n",
      "col_batch=\"Sample\"\n",
      "col_subject=None\n",
      "col_condition=None\n",
      "col_num_umis=None\n",
      "col_segment=\"region\"\n",
      "\n",
      "\n",
      "\n",
      "key_control=None\n",
      "key_treatment=None\n",
      "\n",
      "\n",
      "\t\t****************************************\n",
      "\t\t50217A\n",
      "\t\t****************************************\n",
      "\n",
      "\n",
      "*** Subset /mnt/cho_lab/disk2/elizabeth/data/shared-xenium-library/outputs/TUQ97N/nebraska/objects_cropped/mucosa/Inflamed-50217A_mucosa.h5ad already exists\n",
      "\n",
      "\n",
      "\t\t****************************************\n",
      "\t\t50217A\n",
      "\t\t****************************************\n",
      "\n",
      "\n",
      "*** Subset /mnt/cho_lab/disk2/elizabeth/data/shared-xenium-library/outputs/TUQ97N/nebraska/objects_cropped/serosa/Inflamed-50217A_serosa.h5ad already exists\n",
      "\n",
      "\n",
      "\t\t****************************************\n",
      "\t\t50217A\n",
      "\t\t****************************************\n",
      "\n",
      "\n",
      "*** Subset /mnt/cho_lab/disk2/elizabeth/data/shared-xenium-library/outputs/TUQ97N/nebraska/objects_cropped/myenteric_plexus/Inflamed-50217A_myenteric_plexus.h5ad already exists\n",
      "\n",
      "\n",
      "\t\t****************************************\n",
      "\t\t50217A\n",
      "\t\t****************************************\n",
      "\n",
      "\n",
      "*** Subset /mnt/cho_lab/disk2/elizabeth/data/shared-xenium-library/outputs/TUQ97N/nebraska/objects_cropped/submucosa/Inflamed-50217A_submucosa.h5ad already exists\n",
      "\n",
      "\n",
      "\t\t****************************************\n",
      "\t\t50217A\n",
      "\t\t****************************************\n",
      "\n",
      "\n",
      "\n",
      "\n",
      "Data: /mnt/cho_lab/bbdata2/outputs/TUQ97N/CHO-008/output-XETG00189__0015521__50217A-TUQ97N-EA__20240415__212906\n",
      "Object: /mnt/cho_lab/disk2/elizabeth/data/shared-xenium-library/outputs/TUQ97N/nebraska/Inflamed-50217A.h5ad\n",
      "Coordinates: /mnt/cho_lab/disk2/elizabeth/data/shared-xenium-library/outputs/TUQ97N/nebraska/coordinates/smc_longitudinal/50217A_smc_longitudinal.csv\n",
      "Ouput: /mnt/cho_lab/disk2/elizabeth/data/shared-xenium-library/outputs/TUQ97N/nebraska/objects_cropped/smc_longitudinal/Inflamed-50217A_smc_longitudinal.h5ad\n"
     ]
    },
    {
     "ename": "KeyboardInterrupt",
     "evalue": "",
     "output_type": "error",
     "traceback": [
      "\u001b[0;31m---------------------------------------------------------------------------\u001b[0m",
      "\u001b[0;31mKeyboardInterrupt\u001b[0m                         Traceback (most recent call last)",
      "Cell \u001b[0;32mIn[11], line 35\u001b[0m\n\u001b[1;32m     32\u001b[0m \u001b[38;5;28mprint\u001b[39m(\u001b[38;5;124mf\u001b[39m\u001b[38;5;124m\"\u001b[39m\u001b[38;5;130;01m\\n\u001b[39;00m\u001b[38;5;130;01m\\n\u001b[39;00m\u001b[38;5;124mData: \u001b[39m\u001b[38;5;132;01m{\u001b[39;00mfff\u001b[38;5;132;01m}\u001b[39;00m\u001b[38;5;130;01m\\n\u001b[39;00m\u001b[38;5;124mObject: \u001b[39m\u001b[38;5;132;01m{\u001b[39;00mfile_obj_proc\u001b[38;5;132;01m}\u001b[39;00m\u001b[38;5;124m\"\u001b[39m\n\u001b[1;32m     33\u001b[0m       \u001b[38;5;124mf\u001b[39m\u001b[38;5;124m\"\u001b[39m\u001b[38;5;130;01m\\n\u001b[39;00m\u001b[38;5;124mCoordinates: \u001b[39m\u001b[38;5;132;01m{\u001b[39;00mfile_coord\u001b[38;5;132;01m}\u001b[39;00m\u001b[38;5;130;01m\\n\u001b[39;00m\u001b[38;5;124mOuput: \u001b[39m\u001b[38;5;132;01m{\u001b[39;00mfile_obj_crop\u001b[38;5;132;01m}\u001b[39;00m\u001b[38;5;124m\"\u001b[39m)\n\u001b[1;32m     34\u001b[0m \u001b[38;5;28;01mtry\u001b[39;00m:\n\u001b[0;32m---> 35\u001b[0m     sdata \u001b[38;5;241m=\u001b[39m \u001b[38;5;28;43mself\u001b[39;49m\u001b[38;5;241;43m.\u001b[39;49m\u001b[43mcrop\u001b[49m\u001b[43m(\u001b[49m\u001b[43mfile_coord\u001b[49m\u001b[43m)\u001b[49m  \u001b[38;5;66;03m# crop data to coordinates\u001b[39;00m\n\u001b[1;32m     36\u001b[0m     i_x \u001b[38;5;241m=\u001b[39m sdata\u001b[38;5;241m.\u001b[39mtable\u001b[38;5;241m.\u001b[39mobs[\u001b[38;5;124m\"\u001b[39m\u001b[38;5;124mcell_id\u001b[39m\u001b[38;5;124m\"\u001b[39m]\u001b[38;5;241m.\u001b[39mcopy()\n\u001b[1;32m     37\u001b[0m     \u001b[38;5;28;01mdel\u001b[39;00m sdata\u001b[38;5;241m.\u001b[39mtable\n",
      "File \u001b[0;32m~/corescpy/corescpy/class_spatial.py:267\u001b[0m, in \u001b[0;36mSpatial.crop\u001b[0;34m(self, bounds_x, bounds_y, bounds_z, pixel_size, **kwargs)\u001b[0m\n\u001b[1;32m    264\u001b[0m     coords \u001b[38;5;241m=\u001b[39m shapely\u001b[38;5;241m.\u001b[39mMultiPolygon(coords)  \u001b[38;5;66;03m# ...union of areas\u001b[39;00m\n\u001b[1;32m    265\u001b[0m kws \u001b[38;5;241m=\u001b[39m {\u001b[38;5;124m\"\u001b[39m\u001b[38;5;124mtarget_coordinate_system\u001b[39m\u001b[38;5;124m\"\u001b[39m: \u001b[38;5;124m\"\u001b[39m\u001b[38;5;124mglobal\u001b[39m\u001b[38;5;124m\"\u001b[39m,\n\u001b[1;32m    266\u001b[0m        \u001b[38;5;124m\"\u001b[39m\u001b[38;5;124mfilter_table\u001b[39m\u001b[38;5;124m\"\u001b[39m: \u001b[38;5;28;01mTrue\u001b[39;00m, \u001b[38;5;241m*\u001b[39m\u001b[38;5;241m*\u001b[39mkwargs}\n\u001b[0;32m--> 267\u001b[0m sdata_crop \u001b[38;5;241m=\u001b[39m \u001b[38;5;28;43mself\u001b[39;49m\u001b[38;5;241;43m.\u001b[39;49m\u001b[43madata\u001b[49m\u001b[38;5;241;43m.\u001b[39;49m\u001b[43mquery\u001b[49m\u001b[38;5;241;43m.\u001b[39;49m\u001b[43mpolygon\u001b[49m\u001b[43m(\u001b[49m\u001b[43mcoords\u001b[49m\u001b[43m,\u001b[49m\u001b[43m \u001b[49m\u001b[38;5;241;43m*\u001b[39;49m\u001b[38;5;241;43m*\u001b[39;49m\u001b[43mkws\u001b[49m\u001b[43m)\u001b[49m  \u001b[38;5;66;03m# crop\u001b[39;00m\n\u001b[1;32m    268\u001b[0m \u001b[38;5;28;01mif\u001b[39;00m \u001b[38;5;124m\"\u001b[39m\u001b[38;5;124mtable\u001b[39m\u001b[38;5;124m\"\u001b[39m \u001b[38;5;129;01mnot\u001b[39;00m \u001b[38;5;129;01min\u001b[39;00m \u001b[38;5;28mdir\u001b[39m(sdata_crop):\n\u001b[1;32m    269\u001b[0m     sdata_crop\u001b[38;5;241m.\u001b[39mtable \u001b[38;5;241m=\u001b[39m \u001b[38;5;28mself\u001b[39m\u001b[38;5;241m.\u001b[39mrna[\u001b[38;5;28mself\u001b[39m\u001b[38;5;241m.\u001b[39mrna\u001b[38;5;241m.\u001b[39mobs[\n\u001b[1;32m    270\u001b[0m         XeniumKeys\u001b[38;5;241m.\u001b[39mCELL_ID]\u001b[38;5;241m.\u001b[39misin(sdata_crop\u001b[38;5;241m.\u001b[39mshapes[\n\u001b[1;32m    271\u001b[0m             \u001b[38;5;124m\"\u001b[39m\u001b[38;5;124mcell_boundaries\u001b[39m\u001b[38;5;124m\"\u001b[39m]\u001b[38;5;241m.\u001b[39mindex)]\u001b[38;5;241m.\u001b[39mcopy()  \u001b[38;5;66;03m# add back table\u001b[39;00m\n",
      "File \u001b[0;32m~/miniconda3/envs/bio/lib/python3.10/site-packages/spatialdata/_core/spatialdata.py:2232\u001b[0m, in \u001b[0;36mQueryManager.polygon\u001b[0;34m(self, polygon, target_coordinate_system, filter_table)\u001b[0m\n\u001b[1;32m   2224\u001b[0m \u001b[38;5;250m\u001b[39m\u001b[38;5;124;03m\"\"\"\u001b[39;00m\n\u001b[1;32m   2225\u001b[0m \u001b[38;5;124;03mPerform a polygon query on the SpatialData object.\u001b[39;00m\n\u001b[1;32m   2226\u001b[0m \n\u001b[1;32m   2227\u001b[0m \u001b[38;5;124;03mPlease see\u001b[39;00m\n\u001b[1;32m   2228\u001b[0m \u001b[38;5;124;03m:func:`spatialdata.polygon_query` for the complete docstring.\u001b[39;00m\n\u001b[1;32m   2229\u001b[0m \u001b[38;5;124;03m\"\"\"\u001b[39;00m\n\u001b[1;32m   2230\u001b[0m \u001b[38;5;28;01mfrom\u001b[39;00m \u001b[38;5;21;01mspatialdata\u001b[39;00m\u001b[38;5;21;01m.\u001b[39;00m\u001b[38;5;21;01m_core\u001b[39;00m\u001b[38;5;21;01m.\u001b[39;00m\u001b[38;5;21;01mquery\u001b[39;00m\u001b[38;5;21;01m.\u001b[39;00m\u001b[38;5;21;01mspatial_query\u001b[39;00m \u001b[38;5;28;01mimport\u001b[39;00m polygon_query\n\u001b[0;32m-> 2232\u001b[0m \u001b[38;5;28;01mreturn\u001b[39;00m \u001b[43mpolygon_query\u001b[49m\u001b[43m(\u001b[49m\u001b[43m  \u001b[49m\u001b[38;5;66;43;03m# type: ignore[return-value]\u001b[39;49;00m\n\u001b[1;32m   2233\u001b[0m \u001b[43m    \u001b[49m\u001b[38;5;28;43mself\u001b[39;49m\u001b[38;5;241;43m.\u001b[39;49m\u001b[43m_sdata\u001b[49m\u001b[43m,\u001b[49m\n\u001b[1;32m   2234\u001b[0m \u001b[43m    \u001b[49m\u001b[43mpolygon\u001b[49m\u001b[38;5;241;43m=\u001b[39;49m\u001b[43mpolygon\u001b[49m\u001b[43m,\u001b[49m\n\u001b[1;32m   2235\u001b[0m \u001b[43m    \u001b[49m\u001b[43mtarget_coordinate_system\u001b[49m\u001b[38;5;241;43m=\u001b[39;49m\u001b[43mtarget_coordinate_system\u001b[49m\u001b[43m,\u001b[49m\n\u001b[1;32m   2236\u001b[0m \u001b[43m    \u001b[49m\u001b[43mfilter_table\u001b[49m\u001b[38;5;241;43m=\u001b[39;49m\u001b[43mfilter_table\u001b[49m\u001b[43m,\u001b[49m\n\u001b[1;32m   2237\u001b[0m \u001b[43m\u001b[49m\u001b[43m)\u001b[49m\n",
      "File \u001b[0;32m~/miniconda3/envs/bio/lib/python3.10/functools.py:889\u001b[0m, in \u001b[0;36msingledispatch.<locals>.wrapper\u001b[0;34m(*args, **kw)\u001b[0m\n\u001b[1;32m    885\u001b[0m \u001b[38;5;28;01mif\u001b[39;00m \u001b[38;5;129;01mnot\u001b[39;00m args:\n\u001b[1;32m    886\u001b[0m     \u001b[38;5;28;01mraise\u001b[39;00m \u001b[38;5;167;01mTypeError\u001b[39;00m(\u001b[38;5;124mf\u001b[39m\u001b[38;5;124m'\u001b[39m\u001b[38;5;132;01m{\u001b[39;00mfuncname\u001b[38;5;132;01m}\u001b[39;00m\u001b[38;5;124m requires at least \u001b[39m\u001b[38;5;124m'\u001b[39m\n\u001b[1;32m    887\u001b[0m                     \u001b[38;5;124m'\u001b[39m\u001b[38;5;124m1 positional argument\u001b[39m\u001b[38;5;124m'\u001b[39m)\n\u001b[0;32m--> 889\u001b[0m \u001b[38;5;28;01mreturn\u001b[39;00m \u001b[43mdispatch\u001b[49m\u001b[43m(\u001b[49m\u001b[43margs\u001b[49m\u001b[43m[\u001b[49m\u001b[38;5;241;43m0\u001b[39;49m\u001b[43m]\u001b[49m\u001b[38;5;241;43m.\u001b[39;49m\u001b[38;5;18;43m__class__\u001b[39;49m\u001b[43m)\u001b[49m\u001b[43m(\u001b[49m\u001b[38;5;241;43m*\u001b[39;49m\u001b[43margs\u001b[49m\u001b[43m,\u001b[49m\u001b[43m \u001b[49m\u001b[38;5;241;43m*\u001b[39;49m\u001b[38;5;241;43m*\u001b[39;49m\u001b[43mkw\u001b[49m\u001b[43m)\u001b[49m\n",
      "File \u001b[0;32m~/miniconda3/envs/bio/lib/python3.10/site-packages/spatialdata/_core/query/spatial_query.py:823\u001b[0m, in \u001b[0;36m_\u001b[0;34m(sdata, polygon, target_coordinate_system, filter_table, shapes, points, images, labels)\u001b[0m\n\u001b[1;32m    821\u001b[0m \u001b[38;5;28;01mfor\u001b[39;00m element_type \u001b[38;5;129;01min\u001b[39;00m [\u001b[38;5;124m\"\u001b[39m\u001b[38;5;124mpoints\u001b[39m\u001b[38;5;124m\"\u001b[39m, \u001b[38;5;124m\"\u001b[39m\u001b[38;5;124mimages\u001b[39m\u001b[38;5;124m\"\u001b[39m, \u001b[38;5;124m\"\u001b[39m\u001b[38;5;124mlabels\u001b[39m\u001b[38;5;124m\"\u001b[39m, \u001b[38;5;124m\"\u001b[39m\u001b[38;5;124mshapes\u001b[39m\u001b[38;5;124m\"\u001b[39m]:\n\u001b[1;32m    822\u001b[0m     elements \u001b[38;5;241m=\u001b[39m \u001b[38;5;28mgetattr\u001b[39m(sdata, element_type)\n\u001b[0;32m--> 823\u001b[0m     queried_elements \u001b[38;5;241m=\u001b[39m \u001b[43m_dict_query_dispatcher\u001b[49m\u001b[43m(\u001b[49m\n\u001b[1;32m    824\u001b[0m \u001b[43m        \u001b[49m\u001b[43melements\u001b[49m\u001b[43m,\u001b[49m\n\u001b[1;32m    825\u001b[0m \u001b[43m        \u001b[49m\u001b[43mpolygon_query\u001b[49m\u001b[43m,\u001b[49m\n\u001b[1;32m    826\u001b[0m \u001b[43m        \u001b[49m\u001b[43mpolygon\u001b[49m\u001b[38;5;241;43m=\u001b[39;49m\u001b[43mpolygon\u001b[49m\u001b[43m,\u001b[49m\n\u001b[1;32m    827\u001b[0m \u001b[43m        \u001b[49m\u001b[43mtarget_coordinate_system\u001b[49m\u001b[38;5;241;43m=\u001b[39;49m\u001b[43mtarget_coordinate_system\u001b[49m\u001b[43m,\u001b[49m\n\u001b[1;32m    828\u001b[0m \u001b[43m    \u001b[49m\u001b[43m)\u001b[49m\n\u001b[1;32m    829\u001b[0m     new_elements[element_type] \u001b[38;5;241m=\u001b[39m queried_elements\n\u001b[1;32m    831\u001b[0m tables \u001b[38;5;241m=\u001b[39m _get_filtered_or_unfiltered_tables(filter_table, new_elements, sdata)\n",
      "File \u001b[0;32m~/miniconda3/envs/bio/lib/python3.10/site-packages/spatialdata/_core/query/spatial_query.py:422\u001b[0m, in \u001b[0;36m_dict_query_dispatcher\u001b[0;34m(elements, query_function, **kwargs)\u001b[0m\n\u001b[1;32m    420\u001b[0m \u001b[38;5;28;01massert\u001b[39;00m \u001b[38;5;28misinstance\u001b[39m(d, \u001b[38;5;28mdict\u001b[39m)\n\u001b[1;32m    421\u001b[0m \u001b[38;5;28;01mif\u001b[39;00m target_coordinate_system \u001b[38;5;129;01min\u001b[39;00m d:\n\u001b[0;32m--> 422\u001b[0m     result \u001b[38;5;241m=\u001b[39m \u001b[43mquery_function\u001b[49m\u001b[43m(\u001b[49m\u001b[43melement\u001b[49m\u001b[43m,\u001b[49m\u001b[43m \u001b[49m\u001b[38;5;241;43m*\u001b[39;49m\u001b[38;5;241;43m*\u001b[39;49m\u001b[43mkwargs\u001b[49m\u001b[43m)\u001b[49m\n\u001b[1;32m    423\u001b[0m     \u001b[38;5;28;01mif\u001b[39;00m result \u001b[38;5;129;01mis\u001b[39;00m \u001b[38;5;129;01mnot\u001b[39;00m \u001b[38;5;28;01mNone\u001b[39;00m:\n\u001b[1;32m    424\u001b[0m         \u001b[38;5;66;03m# query returns None if it is empty\u001b[39;00m\n\u001b[1;32m    425\u001b[0m         queried_elements[key] \u001b[38;5;241m=\u001b[39m result\n",
      "File \u001b[0;32m~/miniconda3/envs/bio/lib/python3.10/functools.py:889\u001b[0m, in \u001b[0;36msingledispatch.<locals>.wrapper\u001b[0;34m(*args, **kw)\u001b[0m\n\u001b[1;32m    885\u001b[0m \u001b[38;5;28;01mif\u001b[39;00m \u001b[38;5;129;01mnot\u001b[39;00m args:\n\u001b[1;32m    886\u001b[0m     \u001b[38;5;28;01mraise\u001b[39;00m \u001b[38;5;167;01mTypeError\u001b[39;00m(\u001b[38;5;124mf\u001b[39m\u001b[38;5;124m'\u001b[39m\u001b[38;5;132;01m{\u001b[39;00mfuncname\u001b[38;5;132;01m}\u001b[39;00m\u001b[38;5;124m requires at least \u001b[39m\u001b[38;5;124m'\u001b[39m\n\u001b[1;32m    887\u001b[0m                     \u001b[38;5;124m'\u001b[39m\u001b[38;5;124m1 positional argument\u001b[39m\u001b[38;5;124m'\u001b[39m)\n\u001b[0;32m--> 889\u001b[0m \u001b[38;5;28;01mreturn\u001b[39;00m \u001b[43mdispatch\u001b[49m\u001b[43m(\u001b[49m\u001b[43margs\u001b[49m\u001b[43m[\u001b[49m\u001b[38;5;241;43m0\u001b[39;49m\u001b[43m]\u001b[49m\u001b[38;5;241;43m.\u001b[39;49m\u001b[38;5;18;43m__class__\u001b[39;49m\u001b[43m)\u001b[49m\u001b[43m(\u001b[49m\u001b[38;5;241;43m*\u001b[39;49m\u001b[43margs\u001b[49m\u001b[43m,\u001b[49m\u001b[43m \u001b[49m\u001b[38;5;241;43m*\u001b[39;49m\u001b[38;5;241;43m*\u001b[39;49m\u001b[43mkw\u001b[49m\u001b[43m)\u001b[49m\n",
      "\u001b[0;31mKeyboardInterrupt\u001b[0m: "
     ]
    }
   ],
   "source": [
    "for s in libs:  # iterate samples\n",
    "    print(f\"\\n\\n{'=' * 80}\\n{s}\\n{'=' * 80}\\n\\n\")\n",
    "    fff = os.path.join(dir_data, np.array(files)[np.where([\n",
    "        s == os.path.basename(x).split(\"__\")[2].split(\"-\")[0]\n",
    "        for x in files])[0][0]])  # sample's Xenium data directory path\n",
    "    lib = metadata.reset_index().set_index(cso).loc[s][col_sample]\n",
    "    file_obj_proc = os.path.join(out_dir, f\"{lib}{input_suffix}.h5ad\")\n",
    "    if overwrite is False:  # skip entirely if all crops exist & no overwrite\n",
    "        all_files = [os.path.join(out_new, \"objects_cropped\",\n",
    "                                  r, f'{lib}_{r}.h5ad') for r in regions]\n",
    "        if all([os.path.exists(r) for r in all_files]):\n",
    "            print(f\"*** All subsets {', '.join(all_files)} already exist\")\n",
    "            continue\n",
    "    self = cr.Spatial(fff, library_id=lib,\n",
    "                      cells_as_circles=cells_as_circles)  # load original data\n",
    "    adata = sc.read_h5ad(file_obj_proc)  # processed adata\n",
    "    # self.update_from_h5ad(file_obj_proc)  # update with processed object\n",
    "    for coord_suffix in regions:\n",
    "        print(f\"\\n\\n\\t\\t{'*' * 40}\\n\\t\\t{s}\\n\\t\\t{'*' * 40}\\n\\n\")\n",
    "        dir_coord = os.path.join(\n",
    "            out_new, \"coordinates\", coord_suffix)  # coordinates (NFS soon?)\n",
    "        out = os.path.join(out_new, \"objects_cropped\", coord_suffix)  # path\n",
    "        os.makedirs(out, exist_ok=True)  # make sub-directory for new objects?\n",
    "        file_coord = os.path.join(dir_coord, s + f\"_{coord_suffix}.csv\")\n",
    "        file_obj_crop = os.path.join(out, f\"{lib}_{coord_suffix}.h5ad\")\n",
    "        if overwrite is False and os.path.exists(file_obj_crop):\n",
    "            print(f\"*** Subset {file_obj_crop} already exists\")\n",
    "            continue\n",
    "        if not os.path.exists(file_coord):\n",
    "            print(f\"*** Coordinate file {file_coord} doesn't exist\")\n",
    "            continue\n",
    "        print(f\"\\n\\nData: {fff}\\nObject: {file_obj_proc}\"\n",
    "              f\"\\nCoordinates: {file_coord}\\nOuput: {file_obj_crop}\")\n",
    "        try:\n",
    "            sdata = self.crop(\n",
    "                file_coord, allow_make_valid=allow_make_valid)  # crop\n",
    "            i_x = sdata.table.obs[\"cell_id\"].copy()\n",
    "            del sdata.table\n",
    "            sdata.table = adata[adata.obs[\"cell_id\"].isin(i_x[\n",
    "                i_x.isin(adata.obs[\"cell_id\"])])]  # corrdinate- & pp-filtered\n",
    "            if plot:\n",
    "                try:\n",
    "                    sdata.pl.render_labels(\"cell_labels\").pl.show()  # plot\n",
    "                except Exception:\n",
    "                    pass\n",
    "            self.adata = sdata\n",
    "            if write_object is True:\n",
    "                self.write(file_obj_crop)  # write cropped\n",
    "        except Exception:\n",
    "            print(traceback.format_exc(), f\"Cropping \\n\\n{s} failed!\")\n",
    "print(\"\\n\\nCompleted!\")"
   ]
  },
  {
   "cell_type": "markdown",
   "metadata": {},
   "source": [
    "# Workspace"
   ]
  },
  {
   "cell_type": "code",
   "execution_count": null,
   "metadata": {},
   "outputs": [],
   "source": [
    "self.adata.shapes[\"cell_circles\"][\"radius\"].isna().sum()"
   ]
  },
  {
   "cell_type": "code",
   "execution_count": null,
   "metadata": {},
   "outputs": [],
   "source": [
    "print(f\"\\n\\n{'=' * 80}\\n{s}\\n{'=' * 80}\\n\\n\")\n",
    "fff = os.path.join(dir_data, np.array(files)[np.where([\n",
    "    s == os.path.basename(x).split(\"__\")[2].split(\"-\")[0]\n",
    "    for x in files])[0][0]])  # sample's Xenium data directory path\n",
    "lib = metadata.reset_index().set_index(cso).loc[s][col_sample]\n",
    "file_obj_proc = os.path.join(out_dir, f\"{lib}{input_suffix}.h5ad\")\n",
    "self = cr.Spatial(fff, library_id=lib, cells_as_circles=False)  # original\n",
    "self.update_from_h5ad(file_obj_proc)  # update with processed object"
   ]
  },
  {
   "cell_type": "code",
   "execution_count": null,
   "metadata": {},
   "outputs": [],
   "source": [
    "self.rna[self.rna.obs[\"cell_id\"].isin(sdata.shapes[\"cell_boundaries\"].index)]"
   ]
  },
  {
   "cell_type": "code",
   "execution_count": null,
   "metadata": {},
   "outputs": [],
   "source": [
    "self.adata.get_annotated_regions(self.adata.table)"
   ]
  },
  {
   "cell_type": "code",
   "execution_count": null,
   "metadata": {},
   "outputs": [],
   "source": [
    "sdata = self.crop(file_coord)  # crop data to coordinates\n",
    "sdata.pl.render_labels(\"cell_labels\").pl.show()  # plot\n",
    "\n",
    "# self.adata = sdata\n",
    "# self.write(file_obj_crop)  # write cropped"
   ]
  },
  {
   "cell_type": "code",
   "execution_count": null,
   "metadata": {},
   "outputs": [],
   "source": [
    "file_obj_crop"
   ]
  },
  {
   "cell_type": "code",
   "execution_count": null,
   "metadata": {},
   "outputs": [],
   "source": [
    "dir(self.adata)"
   ]
  },
  {
   "cell_type": "code",
   "execution_count": null,
   "metadata": {},
   "outputs": [],
   "source": [
    "self.adata"
   ]
  },
  {
   "cell_type": "code",
   "execution_count": null,
   "metadata": {},
   "outputs": [],
   "source": [
    "self.adata.shapes[\"cell_circles\"][self.adata.shapes[\"cell_circles\"].radius.isna()].iloc[0]"
   ]
  },
  {
   "cell_type": "code",
   "execution_count": null,
   "metadata": {},
   "outputs": [],
   "source": [
    "cell_circles = self.adata.shapes[\"cell_circles\"].copy()"
   ]
  },
  {
   "cell_type": "code",
   "execution_count": null,
   "metadata": {},
   "outputs": [],
   "source": [
    "self.adata.shapes[\"cell_circles\"]"
   ]
  },
  {
   "cell_type": "code",
   "execution_count": null,
   "metadata": {},
   "outputs": [],
   "source": [
    "import spatialdata\n",
    "\n",
    "cell_circles = spatialdata.deepcopy(self.adata.shapes[\"cell_circles\"])"
   ]
  },
  {
   "cell_type": "code",
   "execution_count": null,
   "metadata": {},
   "outputs": [],
   "source": [
    "from spatialdata.transformations.transformations import Affine, Identity, Scale\n",
    "from spatialdata_io._constants._constants import XeniumKeys"
   ]
  },
  {
   "cell_type": "code",
   "execution_count": null,
   "metadata": {},
   "outputs": [],
   "source": [
    "        transform = Scale([1.0 / 0.2125, 1.0 / 0.2125], axes=(\"x\", \"y\"))\n",
    "        radii = np.sqrt(self.rna.obs[XeniumKeys.CELL_NUCLEUS_AREA].to_numpy() / np.pi)"
   ]
  },
  {
   "cell_type": "code",
   "execution_count": null,
   "metadata": {},
   "outputs": [],
   "source": [
    "self.rna.obs.iloc[:, 1:12]"
   ]
  },
  {
   "cell_type": "code",
   "execution_count": null,
   "metadata": {},
   "outputs": [],
   "source": [
    "self.rna.obs[XeniumKeys.CELL_NUCLEUS_AREA]"
   ]
  },
  {
   "cell_type": "code",
   "execution_count": null,
   "metadata": {},
   "outputs": [],
   "source": [
    "self.adata.shapes[\"cell_circles\"] = self.adata.shapes[\"cell_circles\"].drop(\"radius\", axis=1)"
   ]
  },
  {
   "cell_type": "code",
   "execution_count": null,
   "metadata": {},
   "outputs": [],
   "source": [
    "self.adata"
   ]
  },
  {
   "cell_type": "code",
   "execution_count": null,
   "metadata": {},
   "outputs": [],
   "source": [
    "\n",
    "XeniumKeys.CELL_ID\n"
   ]
  },
  {
   "cell_type": "code",
   "execution_count": null,
   "metadata": {},
   "outputs": [],
   "source": [
    "sdata"
   ]
  },
  {
   "cell_type": "code",
   "execution_count": null,
   "metadata": {},
   "outputs": [],
   "source": [
    "\n",
    "queried_points = sdata_crop[\"my_points\"].index.compute()\n",
    "sdata_crop[\"my_table\"] = sdata[\"my_table\"][queried_points].copy()"
   ]
  },
  {
   "cell_type": "code",
   "execution_count": null,
   "metadata": {},
   "outputs": [],
   "source": [
    "[i[1] for i in self.adata._gen_elements()]"
   ]
  },
  {
   "cell_type": "code",
   "execution_count": null,
   "metadata": {},
   "outputs": [],
   "source": [
    "found_regions"
   ]
  },
  {
   "cell_type": "code",
   "execution_count": null,
   "metadata": {},
   "outputs": [],
   "source": [
    "set(table.obs[\"region_key\"].unique().tolist())"
   ]
  },
  {
   "cell_type": "code",
   "execution_count": null,
   "metadata": {},
   "outputs": [],
   "source": [
    "    found_regions = set(table.obs[\"cell_id\"].unique().tolist())\n",
    "    target_element_set = [\"cell_boundaries\"]\n",
    "    symmetric_difference = found_regions.symmetric_difference(target_element_set)"
   ]
  },
  {
   "cell_type": "code",
   "execution_count": null,
   "metadata": {},
   "outputs": [],
   "source": [
    "len(symmetric_difference)"
   ]
  },
  {
   "cell_type": "code",
   "execution_count": null,
   "metadata": {},
   "outputs": [],
   "source": [
    "self.adata"
   ]
  },
  {
   "cell_type": "code",
   "execution_count": null,
   "metadata": {},
   "outputs": [],
   "source": [
    "self.adata"
   ]
  },
  {
   "cell_type": "code",
   "execution_count": null,
   "metadata": {},
   "outputs": [],
   "source": [
    "self.adata._change_table_annotation_target(self.adata.table, \"cell_labels\")"
   ]
  },
  {
   "cell_type": "code",
   "execution_count": null,
   "metadata": {},
   "outputs": [],
   "source": [
    "table.uns.get(\"spatialdata_attrs\")"
   ]
  },
  {
   "cell_type": "code",
   "execution_count": null,
   "metadata": {},
   "outputs": [],
   "source": [
    "self.adata"
   ]
  },
  {
   "cell_type": "code",
   "execution_count": null,
   "metadata": {},
   "outputs": [],
   "source": [
    "self.adata.set_table_annotates_spatialelement(\"table\", region=\"cell_labels\")"
   ]
  },
  {
   "cell_type": "code",
   "execution_count": null,
   "metadata": {},
   "outputs": [],
   "source": [
    "sdata = self.crop(file_coord)  # crop data to coordinates\n",
    "sdata.pl.render_labels(\"cell_labels\").pl.show()  # plot\n",
    "\n",
    "self.adata = sdata\n",
    "self.write(file_obj_crop)  # write cropped"
   ]
  },
  {
   "cell_type": "code",
   "execution_count": null,
   "metadata": {},
   "outputs": [],
   "source": [
    "# element = self.adata.shapes[\"cell_circles\"]\n",
    "# buffered_df = element.copy()\n",
    "# buffered = to_polygons(element)"
   ]
  },
  {
   "cell_type": "code",
   "execution_count": null,
   "metadata": {},
   "outputs": [],
   "source": [
    "# n_cells = {}\n",
    "# for s in libs:  # iterate samples\n",
    "#     print(f\"\\n\\n{'*' * 40}\\n{s}\\n{'*' * 40}\\n\\n\")\n",
    "#     fff = os.path.join(dir_data, np.array(files)[np.where([\n",
    "#         s == os.path.basename(x).split(\"__\")[2].split(\"-\")[0]\n",
    "#         for x in files])[0][0]])  # sample's Xenium data directory path\n",
    "#     lib = metadata.reset_index().set_index(cso).loc[s][col_sample]\n",
    "#     file_obj_proc = os.path.join(out_dir, f\"{lib}{input_suffix}.h5ad\")\n",
    "#     self = cr.Spatial(fff, library_id=lib)  # load original data\n",
    "#     n_obs = self.rna.obs.shape[0]\n",
    "#     self.update_from_h5ad(file_obj_proc)  # update with processed object)\n",
    "#     self.rna.obs.loc[:, \"n_obs_raw\"] = n_obs\n",
    "#     self.write(file_obj_proc)\n",
    "#     n_cells[s] = pd.Series([n_obs, self.rna.obs.shape[0]], index=pd.Index([\n",
    "#         \"Raw\", \"Processed\"], name=\"Source\"))\n",
    "# n_cells = pd.concat(n_cells).unstack(\"Source\")\n",
    "# n_cells.to_excel(\"/home/elizabeth/elizabeth/projects/senescence/meta.xlsx\")\n",
    "# n_cells"
   ]
  },
  {
   "cell_type": "code",
   "execution_count": null,
   "metadata": {},
   "outputs": [],
   "source": [
    "%%time\n",
    "\n",
    "file_annotations = os.path.join(\n",
    "    out_dir, \"annotation_dictionaries/annotations_all.xlsx\")\n",
    "fmr = pd.read_excel(file_annotations, index_col=[0, 1])[\n",
    "    col_ann].dropna().astype(str)  # annotation mapping\n",
    "c_ann = col_ann + \"_\" + col_leiden.split(\"leiden_\")[1]\n",
    "\n",
    "for s in libs:  # iterate samples\n",
    "    print(f\"\\n\\n{'=' * 80}\\n{s}\\n{'=' * 80}\\n\\n\")\n",
    "    fff = os.path.join(dir_data, np.array(files)[np.where([\n",
    "        s == os.path.basename(x).split(\"__\")[2].split(\"-\")[0]\n",
    "        for x in files])[0][0]])  # sample's Xenium data directory path\n",
    "    lib = metadata.reset_index().set_index(cso).loc[s][col_sample]\n",
    "    file_obj_proc = os.path.join(out_dir, f\"{lib}{input_suffix}.h5ad\")\n",
    "    for coord_suffix in regions:\n",
    "        print(f\"\\n\\n\\t\\t{'*' * 40}\\n\\t\\t{s}\\n\\t\\t{'*' * 40}\\n\\n\")\n",
    "        self = cr.Spatial(fff, library_id=lib, col_cell_type=c_ann)  # load\n",
    "        self.update_from_h5ad(os.path.join(\n",
    "            out_new, \"objects_cropped\", coord_suffix,\n",
    "            f\"{lib}_{coord_suffix}.h5ad\"))  # update with cropped object\n",
    "        self.annotate_clusters(fmr.loc[i_x], col_cell_type=col_leiden,\n",
    "                               col_annotation=c_ann, copy=False)  # annotate\n",
    "        _ = self.calculate_centrality(n_jobs=sc.settings.n_jobs)\n",
    "        _, fig = self.calculate_neighborhood(figsize=(60, 30))"
   ]
  },
  {
   "cell_type": "code",
   "execution_count": 12,
   "metadata": {},
   "outputs": [
    {
     "name": "stdout",
     "output_type": "stream",
     "text": [
      "\n",
      "\n",
      "<<< INITIALIZING SPATIAL CLASS OBJECT >>>\n",
      "\n",
      "\u001b[34mINFO    \u001b[0m reading                                                                                                   \n",
      "         \u001b[35m/mnt/cho_lab/bbdata2/outputs/TUQ97N/CHO-008/output-XETG00189__0015522__50217B-TUQ97N-EA__20240415__212906/\u001b[0m\n",
      "         \u001b[95mcell_feature_matrix.h5\u001b[0m                                                                                    \n"
     ]
    },
    {
     "name": "stdout",
     "output_type": "stream",
     "text": [
      "WARNING: Unable to find `y`, `x` or `z` dimension in `('c', 'y', 'x')`. Renaming to `('channels', 'y', 'x', 'z')`\n",
      "WARNING: Unable to find `y`, `x` or `z` dimension in `('c', 'y', 'x')`. Renaming to `('channels', 'y', 'x', 'z')`\n",
      "WARNING: Unable to find `y`, `x` or `z` dimension in `('c', 'y', 'x')`. Renaming to `('channels', 'y', 'x', 'z')`\n",
      "WARNING: Unable to find `y`, `x` or `z` dimension in `('c', 'y', 'x')`. Renaming to `('channels', 'y', 'x', 'z')`\n",
      "WARNING: Unable to find `y`, `x` or `z` dimension in `('c', 'y', 'x')`. Renaming to `('channels', 'y', 'x', 'z')`\n",
      "\n",
      "\n",
      "================================================================================\n",
      "Counts: Initial\n",
      "================================================================================\n",
      "\n",
      "\n",
      "\tObservations: 814930\n",
      "\n",
      "\tGenes: 469\n",
      "\n",
      "\n",
      "\n",
      "================================================================================\n",
      "\n",
      "\n",
      "\n",
      "\n",
      " AnnData object with n_obs × n_vars = 814930 × 469\n",
      "    obs: 'cell_id', 'transcript_counts', 'control_probe_counts', 'control_codeword_counts', 'unassigned_codeword_counts', 'deprecated_codeword_counts', 'total_counts', 'cell_area', 'nucleus_area', 'region', 'z_level', 'nucleus_count', 'cell_labels', 'Sample'\n",
      "    var: 'gene_ids', 'feature_types', 'genome'\n",
      "    uns: 'spatialdata_attrs', 'spatial', 'original_ix'\n",
      "    obsm: 'spatial'\n",
      "    layers: 'counts' \n",
      "\n",
      "                      gene_ids    feature_types   genome\n",
      "gene_symbols                                           \n",
      "ABCA7         ENSG00000064687  Gene Expression  Unknown\n",
      "ACTA2         ENSG00000107796  Gene Expression  Unknown\n",
      "ACTG2         ENSG00000163017  Gene Expression  Unknown\n",
      "ADAM15        ENSG00000143537  Gene Expression  Unknown\n",
      "ADAM28        ENSG00000042980  Gene Expression  Unknown \n",
      "\n",
      " \n",
      "\n",
      "\n",
      "\n",
      "col_gene_symbols=\"gene_symbols\"\n",
      "col_cell_type=\"leiden\"\n",
      "col_sample_id=\"Sample\"\n",
      "col_batch=\"Sample\"\n",
      "col_subject=None\n",
      "col_condition=None\n",
      "col_num_umis=None\n",
      "col_segment=\"region\"\n",
      "\n",
      "\n",
      "\n",
      "key_control=None\n",
      "key_treatment=None\n"
     ]
    }
   ],
   "source": [
    "# coord_suffix = \"myenteric_plexus\"\n",
    "# coord_suffix = \"smc_circular\"\n",
    "coord_suffix = \"smc_longitudinal\"\n",
    "# s = \"50006B\"\n",
    "# s =  \"50217A\"\n",
    "s = \"50217B\"\n",
    "\n",
    "fff = os.path.join(dir_data, np.array(files)[np.where([\n",
    "    s == os.path.basename(x).split(\"__\")[2].split(\"-\")[0]\n",
    "    for x in files])[0][0]])  # sample's Xenium data directory path\n",
    "lib = metadata.reset_index().set_index(cso).loc[s][col_sample]\n",
    "file_obj_proc = os.path.join(out_dir, f\"{lib}{input_suffix}.h5ad\")\n",
    "self = cr.Spatial(fff, library_id=lib,\n",
    "                  cells_as_circles=cells_as_circles)  # load original data\n",
    "adata = sc.read_h5ad(file_obj_proc)  # processed adata\n",
    "dir_coord = os.path.join(\n",
    "    out_new, \"coordinates\", coord_suffix)  # coordinates (NFS soon?)\n",
    "out = os.path.join(out_new, \"objects_cropped\", coord_suffix)  # path\n",
    "os.makedirs(out, exist_ok=True)  # make sub-directory for new objects?\n",
    "file_coord = os.path.join(dir_coord, s + f\"_{coord_suffix}.csv\")\n",
    "file_obj_crop = os.path.join(out, f\"{lib}_{coord_suffix}.h5ad\")"
   ]
  },
  {
   "cell_type": "code",
   "execution_count": null,
   "metadata": {},
   "outputs": [],
   "source": []
  },
  {
   "cell_type": "code",
   "execution_count": 13,
   "metadata": {},
   "outputs": [],
   "source": [
    "# coords = cr.pp.xenium_explorer_selection(file_coord, pixel_size=0.2125)\n",
    "# if isinstance(coords, list):  # if multiple selections...\n",
    "#     coords = shapely.MultiPolygon(coords)  # ...union of areas\n",
    "# kws = {\"target_coordinate_system\": \"global\", \"filter_table\": True}\n",
    "# sdata = self.adata.query.polygon(coords, **kws)  # crop\n",
    "# i_x = sdata.table.obs[\"cell_id\"].copy()\n",
    "# del sdata.table\n",
    "# sdata.table = adata[adata.obs[\"cell_id\"].isin(i_x[\n",
    "#     i_x.isin(adata.obs[\"cell_id\"])])]\n",
    "# if not os.path.exists(file_obj_crop):\n",
    "#     sdata.table.write_h5ad(file_obj_crop)"
   ]
  },
  {
   "cell_type": "code",
   "execution_count": 29,
   "metadata": {},
   "outputs": [
    {
     "name": "stderr",
     "output_type": "stream",
     "text": [
      "\n",
      "KeyboardInterrupt\n",
      "\n"
     ]
    }
   ],
   "source": [
    "sdata_crop = self.crop(file_coord, allow_make_valid=allow_make_valid)"
   ]
  },
  {
   "cell_type": "code",
   "execution_count": 37,
   "metadata": {},
   "outputs": [
    {
     "name": "stdout",
     "output_type": "stream",
     "text": [
      "\n",
      "\n",
      "<<< INITIALIZING SPATIAL CLASS OBJECT >>>\n",
      "\n",
      "\u001b[34mINFO    \u001b[0m reading                                                                                                   \n",
      "         \u001b[35m/mnt/cho_lab/bbdata2/outputs/TUQ97N/CHO-011/output-XETG00189__0010592__50403B-TUQ97N-EA__20240513__201050/\u001b[0m\n",
      "         \u001b[95mcell_feature_matrix.h5\u001b[0m                                                                                    \n"
     ]
    }
   ],
   "source": [
    "# coord_suffix = \"myenteric_plexus\"\n",
    "# coord_suffix = \"smc_circular\"\n",
    "coord_suffix = \"smc_longitudinal\"\n",
    "# s = \"50006B\"\n",
    "# s =  \"50217A\"\n",
    "# s = \"50217B\"\n",
    "\n",
    "# for s in [\"50006A\", \"50217A\", \"50403B\"]:\n",
    "for s in [\"50217A\", \"50217B\", \"50403B\"]:\n",
    "    fff = os.path.join(dir_data, np.array(files)[np.where([\n",
    "        s == os.path.basename(x).split(\"__\")[2].split(\"-\")[0]\n",
    "        for x in files])[0][0]])  # sample's Xenium data directory path\n",
    "    lib = metadata.reset_index().set_index(cso).loc[s][col_sample]\n",
    "    file_obj_proc = os.path.join(out_dir, f\"{lib}{input_suffix}.h5ad\")\n",
    "    dir_coord = os.path.join(\n",
    "        out_new, \"coordinates\", coord_suffix)  # coordinates (NFS soon?)\n",
    "    out = os.path.join(out_new, \"objects_cropped\", coord_suffix)  # path\n",
    "    os.makedirs(out, exist_ok=True)  # make sub-directory for new objects?\n",
    "    file_coord = os.path.join(dir_coord, s + f\"_{coord_suffix}.csv\")\n",
    "    file_obj_crop = os.path.join(out, f\"{lib}_{coord_suffix}.h5ad\")\n",
    "    if os.path.exists(file_obj_crop):\n",
    "        continue\n",
    "    self = cr.Spatial(fff, library_id=lib,\n",
    "                    cells_as_circles=cells_as_circles)  # load original data\n",
    "    adata = sc.read_h5ad(file_obj_proc)  # processed adata\n",
    "    # coords = cr.pp.xenium_explorer_selection(file_coord, pixel_size=0.2125)\n",
    "    # if isinstance(coords, list):  # if multiple selections...\n",
    "    #     coords = shapely.MultiPolygon(coords)  # ...union of areas\n",
    "    # kws = {\"target_coordinate_system\": \"global\", \"filter_table\": True}\n",
    "    # try:\n",
    "    #     sdata = self.adata.query.polygon(coords, **kws)  # crop\n",
    "    # except Exception as err:\n",
    "    #     if allow_make_valid:\n",
    "    #         warn(\"\\n\\n*** Invalid geometry! Making geometry valid.\"\n",
    "    #              \"Check new coordinates!\\n\\n\")\n",
    "    #         coords_new = shapely.validation.make_valid(coords)\n",
    "    #         sdata = self.adata.query.polygon(coords_new, **kws)  # crop\n",
    "    #     else:\n",
    "    #         raise err\n",
    "    # i_x = sdata.table.obs[\"cell_id\"].copy()\n",
    "    # del sdata.table\n",
    "    # sdata.table = adata[adata.obs[\"cell_id\"].isin(i_x[\n",
    "    #     i_x.isin(adata.obs[\"cell_id\"])])]\n",
    "    sdata = self.crop(file_coord, allow_make_valid=allow_make_valid)\n",
    "    if not os.path.exists(file_obj_crop):\n",
    "        sdata.table.write_h5ad(file_obj_crop)"
   ]
  },
  {
   "cell_type": "code",
   "execution_count": 33,
   "metadata": {},
   "outputs": [
    {
     "ename": "ImportError",
     "evalue": "cannot import name 'GEOSException' from 'geopandas' (/home/elizabeth/elizabeth/miniconda3/envs/bio/lib/python3.10/site-packages/geopandas/__init__.py)",
     "output_type": "error",
     "traceback": [
      "\u001b[0;31m---------------------------------------------------------------------------\u001b[0m",
      "\u001b[0;31mImportError\u001b[0m                               Traceback (most recent call last)",
      "Cell \u001b[0;32mIn[33], line 1\u001b[0m\n\u001b[0;32m----> 1\u001b[0m \u001b[38;5;28;01mfrom\u001b[39;00m \u001b[38;5;21;01mgeopandas\u001b[39;00m \u001b[38;5;28;01mimport\u001b[39;00m GEOSException\n\u001b[1;32m      2\u001b[0m GEOSException\n",
      "\u001b[0;31mImportError\u001b[0m: cannot import name 'GEOSException' from 'geopandas' (/home/elizabeth/elizabeth/miniconda3/envs/bio/lib/python3.10/site-packages/geopandas/__init__.py)"
     ]
    }
   ],
   "source": [
    "from geopandas import GEOSException\n",
    "GEOSException"
   ]
  },
  {
   "cell_type": "code",
   "execution_count": null,
   "metadata": {},
   "outputs": [],
   "source": [
    "import geopandas as gpd\n",
    "import shapely\n",
    "\n",
    "#Create a test dataframe\n",
    "    #The first line is valid, the second is not, it starts and ends at the same point\n",
    "wkts  = [\"LINESTRING (30 10, 10 30, 40 40)\", \"LINESTRING (30 10, 30 10)\"]\n",
    "geometries = [shapely.wkt.loads(x) for x in wkts] #Create shapely geometries\n",
    "df = gpd.GeoDataFrame(geometry=geometries) #And a data frame\n",
    "\n",
    "invalid = df.loc[~df.geometry.is_valid]"
   ]
  },
  {
   "cell_type": "code",
   "execution_count": 12,
   "metadata": {},
   "outputs": [],
   "source": [
    "from shapely.validation import make_valid"
   ]
  },
  {
   "cell_type": "code",
   "execution_count": 13,
   "metadata": {},
   "outputs": [],
   "source": []
  },
  {
   "cell_type": "code",
   "execution_count": 14,
   "metadata": {},
   "outputs": [
    {
     "data": {
      "image/svg+xml": [
       "<svg xmlns=\"http://www.w3.org/2000/svg\" xmlns:xlink=\"http://www.w3.org/1999/xlink\" width=\"300\" height=\"300\" viewBox=\"18702.814117647056 17948.27294117647 31529.336470588238 45530.512941176465\" preserveAspectRatio=\"xMinYMin meet\"><g transform=\"matrix(1,0,0,-1,0,81427.05882352941)\"><g><path fill-rule=\"evenodd\" fill=\"#66cc99\" stroke=\"#555555\" stroke-width=\"303.5367529411764\" opacity=\"0.6\" d=\"M 20678.58823529412,22022.917647058825 L 20586.682352941178,22084.235294117647 L 20785.739232582906,22048.808867498148 L 20709.223529411767,22022.917647058825 L 20678.58823529412,22022.917647058825 z\" /><path fill-rule=\"evenodd\" fill=\"#66cc99\" stroke=\"#555555\" stroke-width=\"303.5367529411764\" opacity=\"0.6\" d=\"M 20813.552941176473,22043.858823529412 L 20785.739232582906,22048.808867498148 L 21903.29411764706,22426.96470588235 L 22041.176470588234,22457.6 L 22344.894117647058,22472.941176470587 L 22739.576470588236,22523.105882352942 L 22923.435294117644,22523.105882352942 L 23076.61176470588,22538.4 L 23199.2,22538.4 L 23502.87058823529,22569.08235294118 L 23729.976470588237,22615.01176470588 L 23926.44705882353,22680.517647058823 L 24306.776470588233,22757.08235294118 L 24475.29411764706,22772.423529411768 L 24659.105882352942,22787.764705882353 L 25049.317647058822,22787.764705882353 L 25125.929411764708,22787.764705882353 L 25141.270588235297,22787.764705882353 L 25248.517647058827,22772.423529411768 L 25417.035294117646,22711.15294117647 L 25575.952941176474,22633.03529411765 L 25757.08235294118,22613.50588235294 L 25787.717647058827,22613.50588235294 L 25803.011764705883,22613.50588235294 L 26060.75294117647,22613.50588235294 L 26195.952941176474,22628.847058823532 L 26453.694117647057,22755.623529411765 L 26724.04705882353,22897.69411764706 L 27215.15294117647,23045.223529411764 L 27383.670588235294,23075.858823529412 L 28487.105882352942,23149.08235294118 L 28648.705882352944,23207.670588235294 L 28858.20338710663,23241.037031551157 L 28773.929411764708,23194.211764705884 L 28636.04705882353,23148.235294117647 L 28304.423529411764,23047.905882352945 L 28243.15294117647,23032.611764705885 L 27880.847058823532,22921.129411764705 L 27469.929411764704,22825.035294117646 L 27332.047058823533,22779.058823529413 L 26268.8,22617.317647058826 L 25993.976470588237,22590.070588235296 L 25764.141176470588,22544.09411764706 L 25199.15294117647,22478.63529411765 L 24895.482352941177,22459.105882352942 L 24513.411764705885,22428.423529411764 L 24209.69411764706,22367.152941176475 L 23905.976470588237,22301.694117647057 L 23722.164705882355,22271.058823529413 L 23431.058823529413,22194.447058823527 L 23203.95294117647,22148.470588235297 L 22974.164705882355,22087.2 L 22762.4,22087.2 L 22443.38823529412,22041.223529411767 L 22144.164660665698,21828.805342478267 L 22013.03529411765,21809.83529411765 L 21675.952941176474,21779.2 L 21331.717647058824,21779.2 L 21058.63529411765,21890.63529411765 L 20936.09411764706,21997.88235294118 L 20890.11764705882,22028.517647058827 L 20844.18823529412,22043.858823529412 L 20813.552941176473,22043.858823529412 z\" /><path fill-rule=\"evenodd\" fill=\"#66cc99\" stroke=\"#555555\" stroke-width=\"303.5367529411764\" opacity=\"0.6\" d=\"M 29034.4,23347.38823529412 L 29351.371925512256,23469.302948930985 L 29256.09411764706,23365.082352941175 L 29090.30588235294,23299.576470588236 L 28937.08235294118,23253.600000000002 L 28858.20338710663,23241.037031551157 L 28911.811764705883,23270.823529411766 L 29034.4,23347.38823529412 z\" /><path fill-rule=\"evenodd\" fill=\"#66cc99\" stroke=\"#555555\" stroke-width=\"303.5367529411764\" opacity=\"0.6\" d=\"M 29586.399999999998,23719.2 L 29739.576470588236,23918.35294117647 L 29831.482352941177,23994.964705882354 L 29969.36470588235,24132.84705882353 L 30122.58823529412,24224.752941176474 L 30245.12941176471,24255.388235294122 L 30413.694117647057,24270.729411764707 L 30760.611764705885,24316.65882352941 L 30791.29411764706,24332.0 L 30821.929411764708,24620.376470588235 L 30852.564705882352,24727.623529411765 L 30898.49411764706,24773.600000000002 L 31367.105882352942,24788.89411764706 L 31413.082352941175,24788.89411764706 L 31535.623529411765,24758.258823529413 L 31566.258823529413,24742.964705882354 L 31581.600000000002,24727.623529411765 L 31719.48235294118,24696.988235294117 L 31734.776470588236,24696.988235294117 L 32089.600000000002,24966.776470588233 L 32240.094117647062,25032.282352941176 L 33005.129411764705,25257.08235294118 L 33054.24015859528,25287.78599957719 L 32927.05882352941,25111.90588235294 L 32727.905882352945,24866.776470588233 L 32590.023529411767,24698.258823529413 L 32563.600884398795,24668.905339052544 L 32352.98823529412,24543.15294117647 L 31952.308292569192,24304.251006734456 L 31907.152941176475,24281.176470588234 L 31677.36470588235,24189.270588235297 L 31376.376470588235,24038.776470588236 L 31192.517647058823,23977.505882352943 L 31144.324866089803,23955.995048966404 L 30919.670588235298,23931.2 L 30572.70588235294,23850.4 L 30281.600000000002,23743.15294117647 L 29870.682352941178,23635.90588235294 L 29505.69411764706,23528.658823529415 L 29351.371925512256,23469.302948930985 L 29509.78823529412,23642.58823529412 L 29586.399999999998,23719.2 z\" /><path fill-rule=\"evenodd\" fill=\"#66cc99\" stroke=\"#555555\" stroke-width=\"303.5367529411764\" opacity=\"0.6\" d=\"M 33191.717647058824,25415.623529411765 L 33208.89568082717,25421.67584066953 L 33127.6705882353,25333.694117647057 L 33054.24015859528,25287.78599957719 L 33069.129411764705,25308.376470588235 L 33191.717647058824,25415.623529411765 z\" /><path fill-rule=\"evenodd\" fill=\"#66cc99\" stroke=\"#555555\" stroke-width=\"303.5367529411764\" opacity=\"0.6\" d=\"M 33519.105882352946,25775.24705882353 L 33733.55294117647,26020.376470588235 L 34631.05882352941,27031.811764705883 L 34646.352941176476,27047.105882352942 L 34676.98823529412,27062.44705882353 L 34784.23529411764,27123.717647058824 L 35103.24705882353,27361.929411764704 L 35256.470588235294,27499.811764705883 L 35302.4,27561.082352941175 L 35424.98823529412,27714.305882352943 L 35582.4,27956.705882352944 L 35678.541176470586,28199.15294117647 L 35770.447058823534,28398.305882352943 L 35892.98823529412,28656.04705882353 L 35984.94117647059,28793.929411764708 L 36046.211764705884,28901.176470588238 L 36135.43529411765,28986.164705882355 L 36273.31764705882,29124.04705882353 L 36411.200000000004,29246.588235294115 L 36518.4,29384.517647058823 L 36696.282352941176,29693.364705882355 L 36788.23529411765,29938.49411764706 L 36864.84705882353,30122.305882352943 L 36972.04705882353,30456.65882352941 L 37068.18823529412,30699.058823529413 L 37183.85882352941,30864.894117647058 L 37245.129411764705,30941.50588235294 L 37321.74117647059,31094.682352941178 L 37352.376470588235,31140.658823529415 L 37490.25882352942,31293.835294117645 L 37597.50588235294,31431.717647058824 L 37704.705882352944,31569.600000000002 L 37857.92941176471,31845.364705882355 L 37965.17647058824,32105.835294117645 L 38011.10588235294,32274.352941176472 L 38026.44705882353,32289.64705882353 L 38087.717647058824,32396.89411764706 L 38118.35294117647,32473.50588235294 L 38168.51764705883,32639.34117647059 L 38183.85882352941,32685.270588235293 L 38229.83529411765,32761.882352941175 L 38291.10588235294,32884.470588235294 L 38321.74117647059,32945.74117647059 L 38321.74117647059,32961.035294117646 L 38452.705882352944,33188.141176470584 L 38468.04705882353,33203.48235294117 L 38544.61176470588,33402.63529411765 L 38590.58823529412,33525.17647058824 L 38686.72941176471,33798.25882352941 L 38717.364705882355,33951.43529411765 L 38778.635294117645,34135.29411764706 L 38793.97647058823,34150.63529411765 L 38809.27058823529,34273.17647058824 L 38824.61176470588,34457.035294117646 L 38855.24705882353,34656.18823529412 L 38870.541176470586,34748.09411764706 L 38931.858823529416,34959.858823529416 L 38931.858823529416,34975.2 L 39069.69411764706,35204.98823529412 L 39085.035294117646,35235.6705882353 L 39131.01176470589,35342.870588235295 L 39146.30588235294,35572.705882352944 L 39131.01176470589,35725.882352941175 L 39050.211764705884,36103.48235294117 L 39050.211764705884,36256.705882352944 L 39019.529411764706,36609.08235294118 L 39019.529411764706,36700.98823529412 L 39019.529411764706,36792.89411764706 L 39138.7294117647,37147.05882352941 L 39245.97647058824,37284.94117647059 L 39383.85882352941,37514.72941176471 L 39533.64705882353,37822.870588235295 L 39533.64705882353,37960.75294117647 L 39448.65882352941,38488.89411764706 L 39429.12941176471,38593.41176470589 L 39398.49411764706,38807.90588235294 L 39291.24705882353,39083.6705882353 L 39179.81176470588,39402.68235294118 L 39160.282352941176,39872.18823529412 L 39160.282352941176,40185.83529411765 L 39160.282352941176,40201.129411764705 L 39267.529411764706,40277.74117647059 L 39359.43529411765,40308.37647058824 L 39420.70588235294,40354.35294117647 L 39609.69411764706,40512.705882352944 L 39640.3294117647,40528.047058823526 L 39655.6705882353,40543.34117647058 L 39793.552941176466,40849.74117647059 L 39920.3294117647,41323.76470588235 L 39935.623529411765,41400.32941176471 L 39935.623529411765,41415.6705882353 L 39935.623529411765,42024.89411764706 L 39966.25882352941,42086.16470588235 L 40150.117647058825,42315.95294117647 L 40385.64705882353,42551.48235294118 L 40385.64705882353,42582.117647058825 L 40385.64705882353,42732.611764705885 L 40385.64705882353,43184.141176470584 L 40431.57647058823,43771.623529411765 L 40446.91764705882,43817.6 L 40788.94117647059,44005.17647058824 L 40850.211764705884,44051.105882352946 L 40896.18823529412,44143.05882352941 L 40972.799999999996,44388.18823529412 L 41231.57647058823,45124.94117647059 L 41246.87058823529,45216.84705882353 L 41262.211764705884,45308.8 L 41277.55294117647,45477.31764705883 L 41277.55294117647,45945.882352941175 L 41277.55294117647,46628.047058823526 L 41277.55294117647,46701.92941176471 L 41277.55294117647,46717.2705882353 L 41412.705882352944,46828.705882352944 L 41659.623529411765,47067.717647058824 L 41659.623529411765,47083.05882352941 L 41674.91764705883,47294.82352941176 L 41751.52941176471,47692.23529411765 L 41766.82352941177,47814.77647058824 L 41828.141176470584,48029.27058823529 L 41858.77647058824,48409.600000000006 L 41889.41176470588,48486.16470588235 L 41996.65882352942,48547.48235294118 L 42073.2705882353,48639.38823529412 L 42103.90588235294,48716.0 L 42103.90588235294,48792.56470588235 L 42103.90588235294,48915.15294117647 L 42103.90588235294,49053.03529411765 L 42103.90588235294,49541.41176470588 L 42119.200000000004,49618.02352941177 L 42149.83529411765,49771.2 L 42289.22352941176,50189.364705882355 L 42400.65882352941,50508.37647058824 L 42400.65882352941,50539.01176470589 L 42400.65882352941,50674.211764705884 L 42446.635294117645,51251.81176470588 L 42481.50588235294,51720.376470588235 L 42512.14117647059,51812.32941176471 L 42558.0705882353,52072.75294117647 L 42573.41176470589,52256.611764705885 L 42573.41176470589,52348.51764705882 L 42604.04705882353,52593.64705882353 L 42619.38823529412,53070.399999999994 L 42665.31764705882,53131.67058823529 L 42711.294117647056,53284.847058823536 L 42741.92941176471,53453.41176470589 L 42846.447058823534,54052.705882352944 L 42877.08235294117,54129.31764705882 L 42877.08235294117,54236.51764705883 L 42877.08235294117,54343.76470588235 L 42877.08235294117,54632.14117647059 L 42877.08235294117,54800.65882352941 L 42877.08235294117,54984.51764705882 L 42877.08235294117,55214.30588235295 L 42938.4,55336.89411764706 L 43034.49411764706,55548.65882352941 L 43141.74117647059,55640.56470588236 L 43288.047058823526,55837.03529411765 L 43303.388235294115,55852.376470588235 L 43318.68235294118,55867.67058823529 L 43414.82352941176,56064.141176470584 L 43955.529411764706,57323.29411764706 L 43970.870588235295,57338.635294117645 L 44001.50588235294,57353.9294117647 L 44001.50588235294,57399.90588235294 L 43955.529411764706,57491.81176470588 L 43831.48235294118,57681.364705882355 L 43800.8,57727.34117647059 L 43662.964705882354,57865.22352941177 L 43459.57647058824,58138.25882352941 L 43382.964705882354,58214.870588235295 L 43367.67058823529,58291.48235294118 L 43352.32941176471,58306.77647058824 L 43313.2705882353,58380.705882352944 L 43282.635294117645,58411.34117647059 L 43282.635294117645,58623.105882352946 L 43343.90588235294,58730.352941176476 L 43359.24705882353,58745.69411764706 L 43481.788235294116,58806.964705882354 L 43589.035294117646,58822.25882352941 L 43742.25882352941,58868.23529411765 L 43895.435294117655,58868.23529411765 L 44109.92941176471,58852.89411764706 L 44155.90588235294,58806.964705882354 L 44155.90588235294,58715.01176470589 L 44155.90588235294,58638.447058823534 L 44140.56470588236,58592.470588235294 L 44140.56470588236,58577.129411764705 L 44140.56470588236,58561.83529411765 L 44155.90588235294,58515.858823529416 L 44201.83529411765,58469.92941176471 L 44217.17647058824,58454.58823529412 L 44247.81176470588,58439.24705882353 L 44278.447058823534,58347.34117647059 L 44278.447058823534,58224.8 L 44278.447058823534,58071.57647058823 L 44278.447058823534,57933.69411764706 L 44278.447058823534,57857.08235294117 L 44278.447058823534,57688.56470588235 L 44278.447058823534,57520.04705882353 L 44293.78823529412,57139.76470588236 L 44293.78823529412,57063.15294117647 L 44293.78823529412,56787.388235294115 L 44293.78823529412,56684.7637480799 L 44279.717647058824,56642.54117647059 L 44187.81176470588,56366.77647058824 L 44137.64705882353,56188.37647058824 L 44136.32102489638,56184.24836496888 L 44094.58823529412,56128.611764705885 L 44044.42352941177,56008.75294117648 L 44029.12941176471,55901.50588235294 L 43952.51764705883,55735.717647058824 L 43875.90588235294,55490.58823529412 L 43772.047058823526,55136.470588235294 L 43660.61176470588,54758.82352941177 L 43599.34117647059,54498.4 L 43507.43529411765,54192.0 L 43430.82352941176,53888.282352941176 L 43334.682352941185,53513.41176470589 L 43288.75294117648,53268.282352941176 L 43242.77647058824,53099.76470588236 L 43181.50588235294,52869.97647058824 L 43166.16470588235,52627.529411764706 L 43120.23529411764,52229.22352941176 L 43104.89411764706,52183.24705882353 L 43104.89411764706,52167.952941176474 L 43104.89411764706,51999.38823529412 L 43070.02352941176,51547.90588235294 L 43070.02352941176,51142.35294117647 L 43070.02352941176,51081.08235294118 L 43040.201544430296,50873.94788963237 L 43034.16470588236,50845.2705882353 L 42988.18823529412,50554.16470588236 L 42988.18823529412,50309.035294117646 L 42988.18823529412,50294.76801301162 L 42978.117647058825,50193.458823529414 L 42978.117647058825,49937.16873588145 L 42957.55294117647,49803.48235294117 L 42880.941176470595,49453.83529411765 L 42865.745753248855,49297.1684587926 L 42840.23529411764,49265.2705882353 L 42809.600000000006,49142.68235294118 L 42794.30588235295,49112.047058823526 L 42763.6705882353,49035.435294117655 L 42671.717647058824,48808.37647058824 L 42602.02352941177,48522.68235294118 L 42602.02352941177,48507.34117647059 L 42602.02352941177,48476.70588235294 L 42586.72941176471,48354.16470588236 L 42447.05882352941,47309.83529411765 L 42447.05882352941,47263.90588235294 L 42447.05882352941,47202.58823529412 L 42447.05882352941,47095.38823529412 L 42431.76470588236,47003.43529411765 L 42285.458823529414,46595.2 L 42224.18823529412,46533.9294117647 L 42208.84705882353,46518.58823529412 L 42077.882352941175,46337.45882352941 L 42031.90588235295,46199.57647058824 L 41970.63529411765,46015.76470588236 L 41872.42352941176,44826.541176470586 L 41856.94167921502,44355.10951156391 L 41828.42352941177,44263.05882352941 L 41751.858823529416,44079.200000000004 L 41747.891771942,44067.298845237754 L 41745.69411764706,44063.34117647059 L 41695.076159777855,43949.51875394046 L 41606.78642965744,43821.9657069781 L 41592.470588235294,43802.870588235295 L 41515.858823529416,43710.964705882354 L 41393.31764705882,43588.42352941177 L 40851.24705882353,42960.941176470595 L 40704.141176470584,42555.15294117647 L 40704.141176470584,42539.81176470588 L 40688.84705882353,42251.43529411765 L 40564.18823529412,41237.78823529412 L 40564.18823529412,41207.15294117647 L 40564.18823529412,41191.81176470588 L 40548.894117647054,41023.29411764706 L 40548.894117647054,40854.77647058824 L 40491.01176470589,40561.92941176471 L 40445.035294117646,40136.611764705885 L 40334.07058823529,39636.56470588235 L 40318.7294117647,39605.92941176471 L 40180.84705882353,39437.41176470589 L 40134.870588235295,39391.43529411765 L 40073.6,39268.894117647054 L 40027.62352941177,39161.64705882353 L 39977.45882352941,38794.870588235295 L 39880.42352941177,38395.717647058824 L 39880.42352941177,38334.44705882353 L 39880.42352941177,38122.68235294118 L 39880.42352941177,38092.0 L 39768.94117647059,37714.4 L 39768.94117647059,37607.2 L 39652.470588235294,37021.41176470588 L 39457.64705882353,35970.870588235295 L 39457.64705882353,35955.57647058824 L 39457.64705882353,35894.25882352941 L 39488.282352941176,35832.98823529412 L 39507.81176470588,35470.7294117647 L 39507.81176470588,35455.38823529412 L 39507.81176470588,35271.57647058824 L 39344.0,34030.91764705882 L 39344.0,33969.64705882353 L 39313.364705882355,33801.129411764705 L 39123.81176470588,33051.34117647059 L 39093.17647058823,32959.43529411765 L 38997.03529411765,32808.89411764706 L 38874.44705882353,32655.717647058824 L 38674.49411764706,32105.12941176471 L 38517.08235294118,31663.529411764706 L 38333.22352941177,31372.470588235294 L 38213.364705882355,31056.14117647059 L 37993.74117647059,30685.976470588237 L 37840.56470588235,30287.670588235294 L 37659.388235294115,29972.84705882353 L 37486.68235294118,29577.223529411764 L 37422.726202638325,29430.038344051114 L 37153.600000000006,29181.270588235297 L 37138.25882352941,29165.976470588237 L 37138.25882352941,29150.63529411765 L 37107.623529411765,29104.70588235294 L 37092.32941176471,29043.38823529412 L 37076.98823529412,29028.094117647062 L 37061.69411764706,29012.75294117647 L 37015.717647058824,28936.14117647059 L 36985.08235294118,28890.211764705884 L 36442.870588235295,27880.847058823532 L 36299.77057112608,27619.90706471638 L 36198.44705882353,27478.16470588235 L 36121.83529411765,27340.28235294118 L 35642.82352941177,26658.964705882354 L 35504.94117647059,26521.082352941175 L 35073.50588235294,26270.776470588236 L 34830.8026662027,26148.43409769493 L 34513.2705882353,26096.188235294117 L 34329.41176470588,26034.917647058825 L 34252.8,25988.941176470587 L 34160.894117647054,25943.011764705883 L 34053.64705882353,25866.399999999998 L 33977.08235294118,25805.12941176471 L 33900.470588235294,25774.49411764706 L 33854.49411764706,25713.176470588238 L 33721.75297170891,25496.635238936 L 33615.24705882353,25527.058823529413 L 33508.0,25527.058823529413 L 33208.89568082717,25421.67584066953 L 33311.529411764706,25532.84705882353 L 33519.105882352946,25775.24705882353 z\" /><path fill-rule=\"evenodd\" fill=\"#66cc99\" stroke=\"#555555\" stroke-width=\"303.5367529411764\" opacity=\"0.6\" d=\"M 44402.25882352941,56933.64705882353 L 44432.89411764706,57114.77647058824 L 44463.529411764706,57375.2 L 44509.50588235295,57482.447058823534 L 44544.376470588235,57786.16470588235 L 44571.623529411765,57956.470588235294 L 44571.623529411765,57971.76470588236 L 44571.623529411765,58094.35294117647 L 44591.15294117648,58471.952941176474 L 44621.788235294116,58671.105882352946 L 44683.05882352941,58763.01176470588 L 44729.035294117646,58839.623529411765 L 44943.48235294117,59069.41176470588 L 45096.70588235294,59237.92941176471 L 45142.68235294118,59299.200000000004 L 45265.22352941177,59391.15294117648 L 45431.05882352941,59533.22352941176 L 45522.964705882354,59594.49411764706 L 45811.34117647059,59909.31764705882 L 46025.83529411765,60185.08235294118 L 46087.105882352946,60276.98823529412 L 46179.01176470589,60460.847058823536 L 46301.6,60568.09411764706 L 46544.0,60660.0 L 46888.282352941176,60764.56470588235 L 47146.02352941177,60891.294117647056 L 47299.200000000004,61075.15294117647 L 47406.447058823534,61197.694117647065 L 47609.83529411765,61547.388235294115 L 47671.105882352946,61654.63529411765 L 47686.4,61685.2705882353 L 47717.03529411765,61731.2 L 47747.717647058824,61761.83529411765 L 47824.282352941176,61792.470588235294 L 47839.623529411765,61792.470588235294 L 47854.91764705883,61792.470588235294 L 47900.89411764706,61777.17647058824 L 47962.16470588235,61761.83529411765 L 48023.43529411765,61746.541176470586 L 48158.635294117645,61700.56470588236 L 48219.90588235294,61669.92941176471 L 48296.51764705883,61608.65882352941 L 48373.12941176471,61547.388235294115 L 48403.76470588235,61516.75294117647 L 48419.05882352941,61501.41176470588 L 48434.4,61486.0705882353 L 48449.69411764706,61440.14117647059 L 48511.01176470589,61348.23529411765 L 48545.83529411765,61274.30588235295 L 48545.83529411765,61167.05882352941 L 48545.83529411765,61151.76470588236 L 48530.541176470586,61105.788235294116 L 48388.42352941177,60725.50588235294 L 48327.15294117647,60602.91764705883 L 48281.17647058824,60511.01176470589 L 48128.00000000001,60281.22352941177 L 47506.4,59250.68235294118 L 47445.129411764705,59112.799999999996 L 47329.50588235295,58885.69411764706 L 47279.34117647059,58719.90588235294 L 47156.75294117647,58505.41176470588 L 46882.211764705884,58058.117647058825 L 46744.32941176471,57874.25882352942 L 46621.74117647059,57601.22352941177 L 46525.64705882353,57435.38823529412 L 46262.7294117647,56931.67058823529 L 45941.364705882355,56393.41176470589 L 45718.49411764706,56074.4 L 45595.95294117647,55921.17647058824 L 45534.63529411765,55768.00000000001 L 45396.75294117647,55522.870588235295 L 45320.188235294125,55415.623529411765 L 45224.04705882353,55038.02352941177 L 45100.65882352941,54388.282352941176 L 45050.49411764706,54069.27058823529 L 45019.85882352941,53793.50588235295 L 44989.22352941176,53425.788235294116 L 44989.22352941176,52997.78823529412 L 44973.88235294118,52709.41176470588 L 44958.58823529412,52207.48235294118 L 44908.42352941177,51919.05882352941 L 44877.78823529412,51827.15294117647 L 44847.15294117647,51490.117647058825 L 44785.83529411765,51214.35294117647 L 44724.56470588235,51015.2 L 44678.635294117645,50816.04705882353 L 44602.02352941177,50601.55294117647 L 44516.98823529412,50177.97647058823 L 44486.352941176476,49981.50588235294 L 44405.55294117647,49468.75294117648 L 44355.38823529412,49078.49411764706 L 44282.16470588235,48589.17647058824 L 44247.34117647059,48094.44705882353 L 44232.0,47956.56470588236 L 44186.02352941177,47576.23529411765 L 44038.77647058824,46789.55294117647 L 43946.87058823529,46455.24705882353 L 43835.435294117655,46074.91764705883 L 43804.8,45875.76470588236 L 43669.600000000006,45424.23529411764 L 43450.91764705882,44850.211764705884 L 43324.141176470584,44561.788235294116 L 43247.57647058824,44423.952941176474 L 43166.72941176471,44166.16470588235 L 43081.74117647059,43957.129411764705 L 43035.76470588236,43773.2705882353 L 43000.941176470595,43437.17647058824 L 42907.529411764706,42526.11764705882 L 42876.84705882353,42326.964705882354 L 42780.75294117647,41903.43529411765 L 42734.77647058824,41688.94117647059 L 42673.50588235295,41400.56470588236 L 42623.34117647059,41158.117647058825 L 42592.705882352944,41020.23529411764 L 42557.83529411765,40581.364705882355 L 42461.74117647059,40111.858823529416 L 42415.76470588236,39943.34117647058 L 42354.49411764706,39685.600000000006 L 42354.49411764706,39547.717647058824 L 42354.49411764706,39213.364705882355 L 42354.49411764706,39198.02352941177 L 42354.49411764706,39182.7294117647 L 42339.15294117647,38968.23529411765 L 42308.51764705882,38636.611764705885 L 42277.882352941175,38544.65882352941 L 42223.529411764706,38001.2705882353 L 42208.18823529412,37835.43529411765 L 42192.84705882353,37728.18823529412 L 42162.211764705884,37559.6705882353 L 42077.22352941176,36873.03529411765 L 42031.24705882353,36505.364705882355 L 41985.31764705882,36244.94117647059 L 41939.34117647059,36017.83529411765 L 41878.0705882353,35566.30588235294 L 41816.75294117647,35382.49411764706 L 41801.458823529414,35367.15294117647 L 41751.294117647056,34954.44705882353 L 41670.49411764706,34592.14117647059 L 41624.51764705882,34257.83529411765 L 41578.54117647059,34119.95294117647 L 41563.24705882353,34058.635294117645 L 41471.34117647059,33813.55294117647 L 41170.776470588244,33237.17647058824 L 41094.16470588236,33068.65882352941 L 40956.282352941176,32854.16470588236 L 40864.376470588235,32716.282352941176 L 40803.10588235294,32609.03529411765 L 40580.09411764706,32193.647058823528 L 40418.44705882353,31831.34117647059 L 40215.57647058823,31446.070588235296 L 40058.16470588236,31172.98823529412 L 39744.141176470584,30712.70588235294 L 39571.38823529412,30393.647058823528 L 39479.48235294117,30240.470588235297 L 39387.57647058824,30071.95294117647 L 39341.6,30010.682352941178 L 39245.458823529414,29752.941176470587 L 39076.94117647059,29360.0 L 38985.035294117646,29117.6 L 38877.78823529412,28841.83529411765 L 38757.92941176471,28431.811764705883 L 38509.50588235295,27770.44705882353 L 38448.23529411765,27678.49411764706 L 38402.25882352941,27632.564705882352 L 38283.10588235294,27309.03529411765 L 38145.22352941176,27048.61176470588 L 37937.64705882353,26729.600000000002 L 37738.49411764706,26423.2 L 37542.02352941177,26184.98823529412 L 37404.14117647059,26047.105882352942 L 37250.91764705882,25924.517647058823 L 37143.67058823529,25817.270588235297 L 36959.858823529416,25694.729411764707 L 36531.81176470588,25386.682352941178 L 36347.95294117647,25172.188235294117 L 36186.352941176476,25006.399999999998 L 36048.470588235294,24899.15294117647 L 35925.92941176471,24807.2 L 35910.58823529412,24791.90588235294 L 35696.14117647059,24715.29411764706 L 35545.6,24684.65882352941 L 35499.6705882353,24623.38823529412 L 35392.42352941177,24457.55294117647 L 35265.64705882353,24047.52941176471 L 35127.76470588235,23863.717647058824 L 35020.51764705882,23710.494117647057 L 34855.38823529412,23310.4 L 34717.50588235294,23111.24705882353 L 34501.55294117647,22814.447058823527 L 34267.529411764706,22541.411764705885 L 33963.81176470588,22257.223529411764 L 33841.2705882353,22165.317647058826 L 33337.55294117647,21864.04705882353 L 33018.541176470586,21610.494117647057 L 32865.31764705882,21533.882352941175 L 32758.070588235296,21487.95294117647 L 32302.117647058825,21341.64705882353 L 32102.964705882354,21311.011764705883 L 31664.04705882353,21118.776470588236 L 31406.305882352943,20992.0 L 31018.16470588235,20726.399999999998 L 30956.89411764706,20695.764705882357 L 30681.129411764705,20573.176470588238 L 30344.98823529412,20484.65882352941 L 30148.564705882352,20408.04705882353 L 30117.88235294118,20408.04705882353 L 29526.729411764707,20261.64705882353 L 29266.305882352943,20215.670588235294 L 28751.764705882353,20076.988235294117 L 28404.800000000003,19969.741176470587 L 27976.752941176474,19876.988235294117 L 27583.811764705886,19811.529411764706 L 27430.63529411765,19780.847058823532 L 26745.788235294116,19700.04705882353 L 26350.164705882355,19669.41176470588 L 25837.36470588235,19634.58823529412 L 25261.55294117647,19634.58823529412 L 24861.458823529414,19634.58823529412 L 24468.517647058827,19634.58823529412 L 24269.36470588235,19634.58823529412 L 21399.105882352942,19958.63529411765 L 20583.529411764706,20151.67058823529 L 20557.64705882353,20417.317647058826 L 20557.64705882353,20478.58823529412 L 20542.352941176472,20570.494117647057 L 20511.717647058824,20693.082352941175 L 20465.74117647059,20830.964705882354 L 20404.470588235294,21076.09411764706 L 20389.129411764705,21259.90588235294 L 20389.129411764705,21471.717647058824 L 20389.129411764705,21778.117647058825 L 20404.470588235294,21778.117647058825 L 20631.576470588236,21778.117647058825 L 20646.870588235295,21778.117647058825 L 20677.505882352943,21778.117647058825 L 20873.976470588237,21708.423529411764 L 21177.69411764706,21708.423529411764 L 21521.929411764704,21518.870588235295 L 21712.047058823533,21486.96470588235 L 21885.69411764706,21645.317647058826 L 22144.164660665698,21828.805342478267 L 22224.800000000003,21840.470588235297 L 22676.282352941176,21886.44705882353 L 23053.882352941175,21917.08235294118 L 23400.847058823532,21997.88235294118 L 23704.564705882356,22074.49411764706 L 23931.670588235294,22124.65882352941 L 24341.694117647057,22139.95294117647 L 24678.729411764703,22139.95294117647 L 24967.105882352942,22139.95294117647 L 25298.729411764703,22139.95294117647 L 25479.90588235294,22139.95294117647 L 25984.517647058823,22174.823529411762 L 26377.458823529414,22259.811764705883 L 26607.24705882353,22305.788235294116 L 26923.576470588236,22351.764705882353 L 27260.61176470588,22443.670588235294 L 27530.964705882354,22528.705882352944 L 27992.376470588235,22613.694117647057 L 28314.117647058825,22659.670588235294 L 28633.129411764705,22755.764705882357 L 28977.41176470588,22871.435294117648 L 29161.223529411767,22993.976470588237 L 29357.69411764706,23120.75294117647 L 29747.905882352945,23332.517647058823 L 30008.376470588235,23455.105882352942 L 30130.917647058825,23531.717647058824 L 30358.023529411767,23719.764705882353 L 30646.399999999998,23861.83529411765 L 30723.011764705883,23877.176470588234 L 30845.552941176473,23877.176470588234 L 30906.823529411766,23877.176470588234 L 31011.38823529412,23896.65882352941 L 31144.324866089803,23955.995048966404 L 31166.54117647059,23958.44705882353 L 31304.423529411764,24004.423529411764 L 31472.941176470587,24065.69411764706 L 31666.729411764707,24139.576470588236 L 31804.61176470588,24216.188235294117 L 31952.308292569192,24304.251006734456 L 32411.811764705883,24539.058823529413 L 32469.6378175688,24564.519747744824 L 32452.141176470588,24545.082352941175 L 32360.23529411765,24437.83529411765 L 32344.894117647058,24422.494117647057 L 32314.25882352941,24391.858823529416 L 32161.03529411765,24238.682352941178 L 32084.470588235294,24116.09411764706 L 31988.32941176471,23888.988235294117 L 31881.082352941175,23781.78823529412 L 31804.470588235294,23628.564705882352 L 31789.176470588234,23490.682352941178 L 31789.176470588234,23322.164705882355 L 31808.705882352944,22987.811764705883 L 31885.270588235293,22788.658823529415 L 31885.270588235293,22773.364705882355 L 31900.611764705885,22742.682352941174 L 31946.588235294115,22696.752941176474 L 31961.882352941175,22681.411764705885 L 31977.223529411764,22666.117647058825 L 31977.223529411764,22650.776470588236 L 33659.36205770754,25394.856658780758 L 33908.32941176471,25576.235294117647 L 34354.4,25863.95294117647 L 34739.2,26102.25882352941 L 34830.8026662027,26148.43409769493 L 34936.84705882353,26165.88235294118 L 35163.90588235294,26200.75294117647 L 35406.352941176476,26262.023529411767 L 35559.529411764706,26323.29411764706 L 35590.211764705884,26338.63529411765 L 35605.50588235294,26353.929411764708 L 36299.77057112608,27619.90706471638 L 36638.35294117647,28093.552941176473 L 36806.870588235295,28354.023529411763 L 36957.364705882355,28515.623529411765 L 37064.61176470588,28684.141176470588 L 37237.364705882355,28987.858823529412 L 37329.2705882353,29214.964705882354 L 37422.726202638325,29430.038344051114 L 37519.388235294115,29519.38823529412 L 37626.58823529412,29641.929411764708 L 37733.83529411765,29733.835294117645 L 37779.81176470588,29810.44705882353 L 37887.05882352941,29932.98823529412 L 37978.964705882354,30070.870588235295 L 38024.94117647059,30193.45882352941 L 38101.55294117647,30300.70588235294 L 38162.82352941177,30469.223529411767 L 38208.75294117647,30622.4 L 38316.0,30867.52941176471 L 38470.7294117647,31179.670588235298 L 38532.0,31302.211764705884 L 38669.88235294118,31470.729411764707 L 38761.788235294116,31728.470588235297 L 38842.58823529411,31894.305882352943 L 38903.85882352941,32032.188235294117 L 38965.17647058824,32170.070588235296 L 39041.788235294116,32369.223529411767 L 39133.69411764706,32642.25882352941 L 39194.964705882354,32887.388235294115 L 39256.23529411765,33132.51764705883 L 39344.8,33471.34117647059 L 39456.23529411765,33759.717647058824 L 39471.52941176471,33882.25882352941 L 39537.03529411765,34140.0 L 39552.32941176471,34277.882352941175 L 39567.67058823529,34397.74117647059 L 39583.01176470588,34474.352941176476 L 39633.17647058823,34701.458823529414 L 39679.10588235294,34885.31764705882 L 39694.44705882353,34992.56470588235 L 39725.08235294118,35329.6 L 39755.717647058824,35648.611764705885 L 39771.05882352941,35786.49411764706 L 39847.62352941177,36016.282352941176 L 39878.25882352941,36169.50588235295 L 39959.10588235294,36531.76470588236 L 40055.2,36896.75294117647 L 40131.81176470588,37141.882352941175 L 40181.97647058823,37445.6 L 40197.31764705882,37522.16470588235 L 40258.58823529412,37782.63529411765 L 40319.85882352941,38180.94117647059 L 40381.129411764705,38426.07058823529 L 40427.105882352946,38563.952941176474 L 40427.105882352946,38671.2 L 40473.08235294118,38974.870588235295 L 40538.54117647059,39293.9294117647 L 40584.51764705882,39523.71764705883 L 40654.211764705884,39735.48235294118 L 40769.83529411765,40220.3294117647 L 40865.97647058824,40628.56470588235 L 40881.31764705883,40843.05882352941 L 40911.952941176474,41103.529411764706 L 40973.22352941176,41256.70588235294 L 41003.85882352941,41486.49411764705 L 41034.49411764706,41762.25882352941 L 41095.76470588236,42035.34117647059 L 41126.4,42295.76470588236 L 41172.376470588235,42739.15294117647 L 41233.64705882353,43014.870588235295 L 41294.91764705883,43287.952941176474 L 41421.694117647065,43530.352941176476 L 41583.34117647059,43788.09411764706 L 41606.78642965744,43821.9657069781 L 41684.376470588235,43925.458823529414 L 41695.076159777855,43949.51875394046 L 41721.22352941176,43987.294117647056 L 41747.891771942,44067.298845237754 L 41822.25882352941,44201.22352941176 L 41837.6,44216.51764705883 L 41852.89411764706,44231.858823529416 L 41856.94167921502,44355.10951156391 L 41947.62352941177,44647.81176470588 L 41993.6,44816.3294117647 L 42082.77647058824,45147.952941176474 L 42132.94117647059,45421.035294117646 L 42148.282352941176,45589.55294117647 L 42229.08235294118,45954.54117647059 L 42275.05882352942,46107.717647058824 L 42366.964705882354,46383.48235294117 L 42417.129411764705,46518.68235294118 L 42524.376470588235,46794.44705882353 L 42524.376470588235,46825.08235294118 L 42539.717647058824,46871.05882352941 L 42555.01176470589,46932.32941176471 L 42585.64705882353,47162.117647058825 L 42646.91764705882,47453.22352941176 L 42662.25882352941,47575.76470588236 L 42677.55294117647,47820.89411764706 L 42697.08235294117,48137.22352941176 L 42727.717647058824,48412.98823529412 L 42789.035294117646,48596.8 L 42819.6705882353,48795.95294117647 L 42834.964705882354,48979.81176470588 L 42865.745753248855,49297.1684587926 L 42901.50588235294,49341.882352941175 L 42916.84705882353,49357.17647058824 L 42916.84705882353,49372.51764705883 L 42947.48235294118,49614.91764705883 L 42962.82352941177,49752.799999999996 L 42978.117647058825,49829.41176470588 L 42978.117647058825,49844.705882352944 L 42978.117647058825,49937.16873588145 L 42988.18823529412,50002.635294117645 L 42988.18823529412,50294.76801301162 L 43008.75294117648,50501.64705882353 L 43008.75294117648,50532.28235294118 L 43024.094117647066,50670.16470588235 L 43024.094117647066,50762.0705882353 L 43040.201544430296,50873.94788963237 L 43095.435294117655,51136.3294117647 L 43114.964705882354,51437.31764705883 L 43145.600000000006,51697.78823529412 L 43145.600000000006,51988.84705882353 L 43145.600000000006,52307.90588235294 L 43160.89411764706,52568.32941176471 L 43245.92941176471,53004.51764705882 L 43322.54117647059,53356.89411764706 L 43433.97647058823,53629.92941176471 L 43537.83529411765,54073.2705882353 L 43583.76470588235,54287.76470588235 L 43679.90588235294,54576.14117647059 L 43756.51764705883,54851.90588235295 L 43802.447058823534,54928.51764705882 L 43875.6705882353,55295.29411764706 L 43971.81176470588,55614.30588235295 L 44002.447058823534,55767.48235294118 L 44136.32102489638,56184.24836496888 L 44186.541176470586,56251.2 L 44217.17647058824,56327.76470588235 L 44278.447058823534,56480.98823529411 L 44293.78823529412,56634.211764705884 L 44293.78823529412,56684.7637480799 L 44340.98823529411,56826.4 L 44402.25882352941,56933.64705882353 z\" /><path fill-rule=\"evenodd\" fill=\"#66cc99\" stroke=\"#555555\" stroke-width=\"303.5367529411764\" opacity=\"0.6\" d=\"M 32885.788235294116,24796.09411764706 L 32717.270588235297,24673.552941176473 L 32469.6378175688,24564.519747744824 L 32563.600884398795,24668.905339052544 L 33119.858823529416,25001.03529411765 L 33273.54528004237,25098.076887900323 L 33250.77647058824,25080.28235294118 L 33143.529411764706,24988.376470588235 L 32885.788235294116,24796.09411764706 z\" /><path fill-rule=\"evenodd\" fill=\"#66cc99\" stroke=\"#555555\" stroke-width=\"303.5367529411764\" opacity=\"0.6\" d=\"M 33410.964705882354,25184.84705882353 L 33273.54528004237,25098.076887900323 L 33569.788235294116,25329.600000000002 L 33578.582029370315,25336.00648801131 L 33410.964705882354,25184.84705882353 z\" /><path fill-rule=\"evenodd\" fill=\"#66cc99\" stroke=\"#555555\" stroke-width=\"303.5367529411764\" opacity=\"0.6\" d=\"M 33659.36205770754,25394.856658780758 L 33578.582029370315,25336.00648801131 L 33678.551146807324,25426.159906606314 L 33659.36205770754,25394.856658780758 z\" /><path fill-rule=\"evenodd\" fill=\"#66cc99\" stroke=\"#555555\" stroke-width=\"303.5367529411764\" opacity=\"0.6\" d=\"M 33722.49411764706,25465.788235294116 L 33678.551146807324,25426.159906606314 L 33721.75297170891,25496.635238936 L 33722.49411764706,25496.423529411764 L 33722.49411764706,25465.788235294116 z\" /></g></g></svg>"
      ],
      "text/plain": [
       "<MULTIPOLYGON (((20678.588 22022.918, 20586.682 22084.235, 20785.739 22048.8...>"
      ]
     },
     "execution_count": 14,
     "metadata": {},
     "output_type": "execute_result"
    }
   ],
   "source": []
  },
  {
   "cell_type": "code",
   "execution_count": 9,
   "metadata": {},
   "outputs": [
    {
     "data": {
      "image/svg+xml": [
       "<svg xmlns=\"http://www.w3.org/2000/svg\" xmlns:xlink=\"http://www.w3.org/1999/xlink\" width=\"300\" height=\"300\" viewBox=\"18702.814117647056 17948.27294117647 31529.336470588238 45530.512941176465\" preserveAspectRatio=\"xMinYMin meet\"><g transform=\"matrix(1,0,0,-1,0,81427.05882352941)\"><g><path fill-rule=\"evenodd\" fill=\"#ff3333\" stroke=\"#555555\" stroke-width=\"303.5367529411764\" opacity=\"0.6\" d=\"M 20586.682352941178,22084.235294117647 L 20813.552941176473,22043.858823529412 L 20844.18823529412,22043.858823529412 L 20890.11764705882,22028.517647058827 L 20936.09411764706,21997.88235294118 L 21058.63529411765,21890.63529411765 L 21331.717647058824,21779.2 L 21675.952941176474,21779.2 L 22013.03529411765,21809.83529411765 L 22224.800000000003,21840.470588235297 L 22676.282352941176,21886.44705882353 L 23053.882352941175,21917.08235294118 L 23400.847058823532,21997.88235294118 L 23704.564705882356,22074.49411764706 L 23931.670588235294,22124.65882352941 L 24341.694117647057,22139.95294117647 L 24678.729411764703,22139.95294117647 L 24967.105882352942,22139.95294117647 L 25298.729411764703,22139.95294117647 L 25479.90588235294,22139.95294117647 L 25984.517647058823,22174.823529411762 L 26377.458823529414,22259.811764705883 L 26607.24705882353,22305.788235294116 L 26923.576470588236,22351.764705882353 L 27260.61176470588,22443.670588235294 L 27530.964705882354,22528.705882352944 L 27992.376470588235,22613.694117647057 L 28314.117647058825,22659.670588235294 L 28633.129411764705,22755.764705882357 L 28977.41176470588,22871.435294117648 L 29161.223529411767,22993.976470588237 L 29357.69411764706,23120.75294117647 L 29747.905882352945,23332.517647058823 L 30008.376470588235,23455.105882352942 L 30130.917647058825,23531.717647058824 L 30358.023529411767,23719.764705882353 L 30646.399999999998,23861.83529411765 L 30723.011764705883,23877.176470588234 L 30845.552941176473,23877.176470588234 L 30906.823529411766,23877.176470588234 L 31011.38823529412,23896.65882352941 L 31192.517647058823,23977.505882352943 L 31376.376470588235,24038.776470588236 L 31677.36470588235,24189.270588235297 L 31907.152941176475,24281.176470588234 L 32411.811764705883,24539.058823529413 L 32717.270588235297,24673.552941176473 L 32885.788235294116,24796.09411764706 L 33143.529411764706,24988.376470588235 L 33250.77647058824,25080.28235294118 L 33569.788235294116,25329.600000000002 L 33908.32941176471,25576.235294117647 L 34354.4,25863.95294117647 L 34739.2,26102.25882352941 L 35073.50588235294,26270.776470588236 L 35504.94117647059,26521.082352941175 L 35642.82352941177,26658.964705882354 L 36121.83529411765,27340.28235294118 L 36198.44705882353,27478.16470588235 L 36638.35294117647,28093.552941176473 L 36806.870588235295,28354.023529411763 L 36957.364705882355,28515.623529411765 L 37064.61176470588,28684.141176470588 L 37237.364705882355,28987.858823529412 L 37329.2705882353,29214.964705882354 L 37486.68235294118,29577.223529411764 L 37659.388235294115,29972.84705882353 L 37840.56470588235,30287.670588235294 L 37993.74117647059,30685.976470588237 L 38213.364705882355,31056.14117647059 L 38333.22352941177,31372.470588235294 L 38517.08235294118,31663.529411764706 L 38674.49411764706,32105.12941176471 L 38874.44705882353,32655.717647058824 L 38997.03529411765,32808.89411764706 L 39093.17647058823,32959.43529411765 L 39123.81176470588,33051.34117647059 L 39313.364705882355,33801.129411764705 L 39344.0,33969.64705882353 L 39344.0,34030.91764705882 L 39507.81176470588,35271.57647058824 L 39507.81176470588,35455.38823529412 L 39507.81176470588,35470.7294117647 L 39488.282352941176,35832.98823529412 L 39457.64705882353,35894.25882352941 L 39457.64705882353,35955.57647058824 L 39457.64705882353,35970.870588235295 L 39652.470588235294,37021.41176470588 L 39768.94117647059,37607.2 L 39768.94117647059,37714.4 L 39880.42352941177,38092.0 L 39880.42352941177,38122.68235294118 L 39880.42352941177,38334.44705882353 L 39880.42352941177,38395.717647058824 L 39977.45882352941,38794.870588235295 L 40027.62352941177,39161.64705882353 L 40073.6,39268.894117647054 L 40134.870588235295,39391.43529411765 L 40180.84705882353,39437.41176470589 L 40318.7294117647,39605.92941176471 L 40334.07058823529,39636.56470588235 L 40445.035294117646,40136.611764705885 L 40491.01176470589,40561.92941176471 L 40548.894117647054,40854.77647058824 L 40548.894117647054,41023.29411764706 L 40564.18823529412,41191.81176470588 L 40564.18823529412,41207.15294117647 L 40564.18823529412,41237.78823529412 L 40688.84705882353,42251.43529411765 L 40704.141176470584,42539.81176470588 L 40704.141176470584,42555.15294117647 L 40851.24705882353,42960.941176470595 L 41393.31764705882,43588.42352941177 L 41515.858823529416,43710.964705882354 L 41592.470588235294,43802.870588235295 L 41684.376470588235,43925.458823529414 L 41745.69411764706,44063.34117647059 L 41822.25882352941,44201.22352941176 L 41837.6,44216.51764705883 L 41852.89411764706,44231.858823529416 L 41872.42352941176,44826.541176470586 L 41970.63529411765,46015.76470588236 L 42031.90588235295,46199.57647058824 L 42077.882352941175,46337.45882352941 L 42208.84705882353,46518.58823529412 L 42224.18823529412,46533.9294117647 L 42285.458823529414,46595.2 L 42431.76470588236,47003.43529411765 L 42447.05882352941,47095.38823529412 L 42447.05882352941,47202.58823529412 L 42447.05882352941,47263.90588235294 L 42447.05882352941,47309.83529411765 L 42586.72941176471,48354.16470588236 L 42602.02352941177,48476.70588235294 L 42602.02352941177,48507.34117647059 L 42602.02352941177,48522.68235294118 L 42671.717647058824,48808.37647058824 L 42763.6705882353,49035.435294117655 L 42794.30588235295,49112.047058823526 L 42809.600000000006,49142.68235294118 L 42840.23529411764,49265.2705882353 L 42901.50588235294,49341.882352941175 L 42916.84705882353,49357.17647058824 L 42916.84705882353,49372.51764705883 L 42947.48235294118,49614.91764705883 L 42962.82352941177,49752.799999999996 L 42978.117647058825,49829.41176470588 L 42978.117647058825,49844.705882352944 L 42978.117647058825,50193.458823529414 L 43008.75294117648,50501.64705882353 L 43008.75294117648,50532.28235294118 L 43024.094117647066,50670.16470588235 L 43024.094117647066,50762.0705882353 L 43070.02352941176,51081.08235294118 L 43070.02352941176,51142.35294117647 L 43070.02352941176,51547.90588235294 L 43104.89411764706,51999.38823529412 L 43104.89411764706,52167.952941176474 L 43104.89411764706,52183.24705882353 L 43120.23529411764,52229.22352941176 L 43166.16470588235,52627.529411764706 L 43181.50588235294,52869.97647058824 L 43242.77647058824,53099.76470588236 L 43288.75294117648,53268.282352941176 L 43334.682352941185,53513.41176470589 L 43430.82352941176,53888.282352941176 L 43507.43529411765,54192.0 L 43599.34117647059,54498.4 L 43660.61176470588,54758.82352941177 L 43772.047058823526,55136.470588235294 L 43875.90588235294,55490.58823529412 L 43952.51764705883,55735.717647058824 L 44029.12941176471,55901.50588235294 L 44044.42352941177,56008.75294117648 L 44094.58823529412,56128.611764705885 L 44186.541176470586,56251.2 L 44217.17647058824,56327.76470588235 L 44278.447058823534,56480.98823529411 L 44293.78823529412,56634.211764705884 L 44293.78823529412,56787.388235294115 L 44293.78823529412,57063.15294117647 L 44293.78823529412,57139.76470588236 L 44278.447058823534,57520.04705882353 L 44278.447058823534,57688.56470588235 L 44278.447058823534,57857.08235294117 L 44278.447058823534,57933.69411764706 L 44278.447058823534,58071.57647058823 L 44278.447058823534,58224.8 L 44278.447058823534,58347.34117647059 L 44247.81176470588,58439.24705882353 L 44217.17647058824,58454.58823529412 L 44201.83529411765,58469.92941176471 L 44155.90588235294,58515.858823529416 L 44140.56470588236,58561.83529411765 L 44140.56470588236,58577.129411764705 L 44140.56470588236,58592.470588235294 L 44155.90588235294,58638.447058823534 L 44155.90588235294,58715.01176470589 L 44155.90588235294,58806.964705882354 L 44109.92941176471,58852.89411764706 L 43895.435294117655,58868.23529411765 L 43742.25882352941,58868.23529411765 L 43589.035294117646,58822.25882352941 L 43481.788235294116,58806.964705882354 L 43359.24705882353,58745.69411764706 L 43343.90588235294,58730.352941176476 L 43282.635294117645,58623.105882352946 L 43282.635294117645,58411.34117647059 L 43313.2705882353,58380.705882352944 L 43352.32941176471,58306.77647058824 L 43367.67058823529,58291.48235294118 L 43382.964705882354,58214.870588235295 L 43459.57647058824,58138.25882352941 L 43662.964705882354,57865.22352941177 L 43800.8,57727.34117647059 L 43831.48235294118,57681.364705882355 L 43955.529411764706,57491.81176470588 L 44001.50588235294,57399.90588235294 L 44001.50588235294,57353.9294117647 L 43970.870588235295,57338.635294117645 L 43955.529411764706,57323.29411764706 L 43414.82352941176,56064.141176470584 L 43318.68235294118,55867.67058823529 L 43303.388235294115,55852.376470588235 L 43288.047058823526,55837.03529411765 L 43141.74117647059,55640.56470588236 L 43034.49411764706,55548.65882352941 L 42938.4,55336.89411764706 L 42877.08235294117,55214.30588235295 L 42877.08235294117,54984.51764705882 L 42877.08235294117,54800.65882352941 L 42877.08235294117,54632.14117647059 L 42877.08235294117,54343.76470588235 L 42877.08235294117,54236.51764705883 L 42877.08235294117,54129.31764705882 L 42846.447058823534,54052.705882352944 L 42741.92941176471,53453.41176470589 L 42711.294117647056,53284.847058823536 L 42665.31764705882,53131.67058823529 L 42619.38823529412,53070.399999999994 L 42604.04705882353,52593.64705882353 L 42573.41176470589,52348.51764705882 L 42573.41176470589,52256.611764705885 L 42558.0705882353,52072.75294117647 L 42512.14117647059,51812.32941176471 L 42481.50588235294,51720.376470588235 L 42446.635294117645,51251.81176470588 L 42400.65882352941,50674.211764705884 L 42400.65882352941,50539.01176470589 L 42400.65882352941,50508.37647058824 L 42289.22352941176,50189.364705882355 L 42149.83529411765,49771.2 L 42119.200000000004,49618.02352941177 L 42103.90588235294,49541.41176470588 L 42103.90588235294,49053.03529411765 L 42103.90588235294,48915.15294117647 L 42103.90588235294,48792.56470588235 L 42103.90588235294,48716.0 L 42073.2705882353,48639.38823529412 L 41996.65882352942,48547.48235294118 L 41889.41176470588,48486.16470588235 L 41858.77647058824,48409.600000000006 L 41828.141176470584,48029.27058823529 L 41766.82352941177,47814.77647058824 L 41751.52941176471,47692.23529411765 L 41674.91764705883,47294.82352941176 L 41659.623529411765,47083.05882352941 L 41659.623529411765,47067.717647058824 L 41412.705882352944,46828.705882352944 L 41277.55294117647,46717.2705882353 L 41277.55294117647,46701.92941176471 L 41277.55294117647,46628.047058823526 L 41277.55294117647,45945.882352941175 L 41277.55294117647,45477.31764705883 L 41262.211764705884,45308.8 L 41246.87058823529,45216.84705882353 L 41231.57647058823,45124.94117647059 L 40972.799999999996,44388.18823529412 L 40896.18823529412,44143.05882352941 L 40850.211764705884,44051.105882352946 L 40788.94117647059,44005.17647058824 L 40446.91764705882,43817.6 L 40431.57647058823,43771.623529411765 L 40385.64705882353,43184.141176470584 L 40385.64705882353,42732.611764705885 L 40385.64705882353,42582.117647058825 L 40385.64705882353,42551.48235294118 L 40150.117647058825,42315.95294117647 L 39966.25882352941,42086.16470588235 L 39935.623529411765,42024.89411764706 L 39935.623529411765,41415.6705882353 L 39935.623529411765,41400.32941176471 L 39920.3294117647,41323.76470588235 L 39793.552941176466,40849.74117647059 L 39655.6705882353,40543.34117647058 L 39640.3294117647,40528.047058823526 L 39609.69411764706,40512.705882352944 L 39420.70588235294,40354.35294117647 L 39359.43529411765,40308.37647058824 L 39267.529411764706,40277.74117647059 L 39160.282352941176,40201.129411764705 L 39160.282352941176,40185.83529411765 L 39160.282352941176,39872.18823529412 L 39179.81176470588,39402.68235294118 L 39291.24705882353,39083.6705882353 L 39398.49411764706,38807.90588235294 L 39429.12941176471,38593.41176470589 L 39448.65882352941,38488.89411764706 L 39533.64705882353,37960.75294117647 L 39533.64705882353,37822.870588235295 L 39383.85882352941,37514.72941176471 L 39245.97647058824,37284.94117647059 L 39138.7294117647,37147.05882352941 L 39019.529411764706,36792.89411764706 L 39019.529411764706,36700.98823529412 L 39019.529411764706,36609.08235294118 L 39050.211764705884,36256.705882352944 L 39050.211764705884,36103.48235294117 L 39131.01176470589,35725.882352941175 L 39146.30588235294,35572.705882352944 L 39131.01176470589,35342.870588235295 L 39085.035294117646,35235.6705882353 L 39069.69411764706,35204.98823529412 L 38931.858823529416,34975.2 L 38931.858823529416,34959.858823529416 L 38870.541176470586,34748.09411764706 L 38855.24705882353,34656.18823529412 L 38824.61176470588,34457.035294117646 L 38809.27058823529,34273.17647058824 L 38793.97647058823,34150.63529411765 L 38778.635294117645,34135.29411764706 L 38717.364705882355,33951.43529411765 L 38686.72941176471,33798.25882352941 L 38590.58823529412,33525.17647058824 L 38544.61176470588,33402.63529411765 L 38468.04705882353,33203.48235294117 L 38452.705882352944,33188.141176470584 L 38321.74117647059,32961.035294117646 L 38321.74117647059,32945.74117647059 L 38291.10588235294,32884.470588235294 L 38229.83529411765,32761.882352941175 L 38183.85882352941,32685.270588235293 L 38168.51764705883,32639.34117647059 L 38118.35294117647,32473.50588235294 L 38087.717647058824,32396.89411764706 L 38026.44705882353,32289.64705882353 L 38011.10588235294,32274.352941176472 L 37965.17647058824,32105.835294117645 L 37857.92941176471,31845.364705882355 L 37704.705882352944,31569.600000000002 L 37597.50588235294,31431.717647058824 L 37490.25882352942,31293.835294117645 L 37352.376470588235,31140.658823529415 L 37321.74117647059,31094.682352941178 L 37245.129411764705,30941.50588235294 L 37183.85882352941,30864.894117647058 L 37068.18823529412,30699.058823529413 L 36972.04705882353,30456.65882352941 L 36864.84705882353,30122.305882352943 L 36788.23529411765,29938.49411764706 L 36696.282352941176,29693.364705882355 L 36518.4,29384.517647058823 L 36411.200000000004,29246.588235294115 L 36273.31764705882,29124.04705882353 L 36135.43529411765,28986.164705882355 L 36046.211764705884,28901.176470588238 L 35984.94117647059,28793.929411764708 L 35892.98823529412,28656.04705882353 L 35770.447058823534,28398.305882352943 L 35678.541176470586,28199.15294117647 L 35582.4,27956.705882352944 L 35424.98823529412,27714.305882352943 L 35302.4,27561.082352941175 L 35256.470588235294,27499.811764705883 L 35103.24705882353,27361.929411764704 L 34784.23529411764,27123.717647058824 L 34676.98823529412,27062.44705882353 L 34646.352941176476,27047.105882352942 L 34631.05882352941,27031.811764705883 L 33733.55294117647,26020.376470588235 L 33519.105882352946,25775.24705882353 L 33311.529411764706,25532.84705882353 L 33127.6705882353,25333.694117647057 L 33005.129411764705,25257.08235294118 L 32240.094117647062,25032.282352941176 L 32089.600000000002,24966.776470588233 L 31734.776470588236,24696.988235294117 L 31719.48235294118,24696.988235294117 L 31581.600000000002,24727.623529411765 L 31566.258823529413,24742.964705882354 L 31535.623529411765,24758.258823529413 L 31413.082352941175,24788.89411764706 L 31367.105882352942,24788.89411764706 L 30898.49411764706,24773.600000000002 L 30852.564705882352,24727.623529411765 L 30821.929411764708,24620.376470588235 L 30791.29411764706,24332.0 L 30760.611764705885,24316.65882352941 L 30413.694117647057,24270.729411764707 L 30245.12941176471,24255.388235294122 L 30122.58823529412,24224.752941176474 L 29969.36470588235,24132.84705882353 L 29831.482352941177,23994.964705882354 L 29739.576470588236,23918.35294117647 L 29586.399999999998,23719.2 L 29509.78823529412,23642.58823529412 L 29256.09411764706,23365.082352941175 L 29090.30588235294,23299.576470588236 L 28937.08235294118,23253.600000000002 L 28648.705882352944,23207.670588235294 L 28487.105882352942,23149.08235294118 L 27383.670588235294,23075.858823529412 L 27215.15294117647,23045.223529411764 L 26724.04705882353,22897.69411764706 L 26453.694117647057,22755.623529411765 L 26195.952941176474,22628.847058823532 L 26060.75294117647,22613.50588235294 L 25803.011764705883,22613.50588235294 L 25787.717647058827,22613.50588235294 L 25757.08235294118,22613.50588235294 L 25575.952941176474,22633.03529411765 L 25417.035294117646,22711.15294117647 L 25248.517647058827,22772.423529411768 L 25141.270588235297,22787.764705882353 L 25125.929411764708,22787.764705882353 L 25049.317647058822,22787.764705882353 L 24659.105882352942,22787.764705882353 L 24475.29411764706,22772.423529411768 L 24306.776470588233,22757.08235294118 L 23926.44705882353,22680.517647058823 L 23729.976470588237,22615.01176470588 L 23502.87058823529,22569.08235294118 L 23199.2,22538.4 L 23076.61176470588,22538.4 L 22923.435294117644,22523.105882352942 L 22739.576470588236,22523.105882352942 L 22344.894117647058,22472.941176470587 L 22041.176470588234,22457.6 L 21903.29411764706,22426.96470588235 L 20709.223529411767,22022.917647058825 L 20678.58823529412,22022.917647058825 L 20586.682352941178,22084.235294117647 z\" /><path fill-rule=\"evenodd\" fill=\"#ff3333\" stroke=\"#555555\" stroke-width=\"303.5367529411764\" opacity=\"0.6\" d=\"M 20583.529411764706,20151.67058823529 L 21399.105882352942,19958.63529411765 L 24269.36470588235,19634.58823529412 L 24468.517647058827,19634.58823529412 L 24861.458823529414,19634.58823529412 L 25261.55294117647,19634.58823529412 L 25837.36470588235,19634.58823529412 L 26350.164705882355,19669.41176470588 L 26745.788235294116,19700.04705882353 L 27430.63529411765,19780.847058823532 L 27583.811764705886,19811.529411764706 L 27976.752941176474,19876.988235294117 L 28404.800000000003,19969.741176470587 L 28751.764705882353,20076.988235294117 L 29266.305882352943,20215.670588235294 L 29526.729411764707,20261.64705882353 L 30117.88235294118,20408.04705882353 L 30148.564705882352,20408.04705882353 L 30344.98823529412,20484.65882352941 L 30681.129411764705,20573.176470588238 L 30956.89411764706,20695.764705882357 L 31018.16470588235,20726.399999999998 L 31406.305882352943,20992.0 L 31664.04705882353,21118.776470588236 L 32102.964705882354,21311.011764705883 L 32302.117647058825,21341.64705882353 L 32758.070588235296,21487.95294117647 L 32865.31764705882,21533.882352941175 L 33018.541176470586,21610.494117647057 L 33337.55294117647,21864.04705882353 L 33841.2705882353,22165.317647058826 L 33963.81176470588,22257.223529411764 L 34267.529411764706,22541.411764705885 L 34501.55294117647,22814.447058823527 L 34717.50588235294,23111.24705882353 L 34855.38823529412,23310.4 L 35020.51764705882,23710.494117647057 L 35127.76470588235,23863.717647058824 L 35265.64705882353,24047.52941176471 L 35392.42352941177,24457.55294117647 L 35499.6705882353,24623.38823529412 L 35545.6,24684.65882352941 L 35696.14117647059,24715.29411764706 L 35910.58823529412,24791.90588235294 L 35925.92941176471,24807.2 L 36048.470588235294,24899.15294117647 L 36186.352941176476,25006.399999999998 L 36347.95294117647,25172.188235294117 L 36531.81176470588,25386.682352941178 L 36959.858823529416,25694.729411764707 L 37143.67058823529,25817.270588235297 L 37250.91764705882,25924.517647058823 L 37404.14117647059,26047.105882352942 L 37542.02352941177,26184.98823529412 L 37738.49411764706,26423.2 L 37937.64705882353,26729.600000000002 L 38145.22352941176,27048.61176470588 L 38283.10588235294,27309.03529411765 L 38402.25882352941,27632.564705882352 L 38448.23529411765,27678.49411764706 L 38509.50588235295,27770.44705882353 L 38757.92941176471,28431.811764705883 L 38877.78823529412,28841.83529411765 L 38985.035294117646,29117.6 L 39076.94117647059,29360.0 L 39245.458823529414,29752.941176470587 L 39341.6,30010.682352941178 L 39387.57647058824,30071.95294117647 L 39479.48235294117,30240.470588235297 L 39571.38823529412,30393.647058823528 L 39744.141176470584,30712.70588235294 L 40058.16470588236,31172.98823529412 L 40215.57647058823,31446.070588235296 L 40418.44705882353,31831.34117647059 L 40580.09411764706,32193.647058823528 L 40803.10588235294,32609.03529411765 L 40864.376470588235,32716.282352941176 L 40956.282352941176,32854.16470588236 L 41094.16470588236,33068.65882352941 L 41170.776470588244,33237.17647058824 L 41471.34117647059,33813.55294117647 L 41563.24705882353,34058.635294117645 L 41578.54117647059,34119.95294117647 L 41624.51764705882,34257.83529411765 L 41670.49411764706,34592.14117647059 L 41751.294117647056,34954.44705882353 L 41801.458823529414,35367.15294117647 L 41816.75294117647,35382.49411764706 L 41878.0705882353,35566.30588235294 L 41939.34117647059,36017.83529411765 L 41985.31764705882,36244.94117647059 L 42031.24705882353,36505.364705882355 L 42077.22352941176,36873.03529411765 L 42162.211764705884,37559.6705882353 L 42192.84705882353,37728.18823529412 L 42208.18823529412,37835.43529411765 L 42223.529411764706,38001.2705882353 L 42277.882352941175,38544.65882352941 L 42308.51764705882,38636.611764705885 L 42339.15294117647,38968.23529411765 L 42354.49411764706,39182.7294117647 L 42354.49411764706,39198.02352941177 L 42354.49411764706,39213.364705882355 L 42354.49411764706,39547.717647058824 L 42354.49411764706,39685.600000000006 L 42415.76470588236,39943.34117647058 L 42461.74117647059,40111.858823529416 L 42557.83529411765,40581.364705882355 L 42592.705882352944,41020.23529411764 L 42623.34117647059,41158.117647058825 L 42673.50588235295,41400.56470588236 L 42734.77647058824,41688.94117647059 L 42780.75294117647,41903.43529411765 L 42876.84705882353,42326.964705882354 L 42907.529411764706,42526.11764705882 L 43000.941176470595,43437.17647058824 L 43035.76470588236,43773.2705882353 L 43081.74117647059,43957.129411764705 L 43166.72941176471,44166.16470588235 L 43247.57647058824,44423.952941176474 L 43324.141176470584,44561.788235294116 L 43450.91764705882,44850.211764705884 L 43669.600000000006,45424.23529411764 L 43804.8,45875.76470588236 L 43835.435294117655,46074.91764705883 L 43946.87058823529,46455.24705882353 L 44038.77647058824,46789.55294117647 L 44186.02352941177,47576.23529411765 L 44232.0,47956.56470588236 L 44247.34117647059,48094.44705882353 L 44282.16470588235,48589.17647058824 L 44355.38823529412,49078.49411764706 L 44405.55294117647,49468.75294117648 L 44486.352941176476,49981.50588235294 L 44516.98823529412,50177.97647058823 L 44602.02352941177,50601.55294117647 L 44678.635294117645,50816.04705882353 L 44724.56470588235,51015.2 L 44785.83529411765,51214.35294117647 L 44847.15294117647,51490.117647058825 L 44877.78823529412,51827.15294117647 L 44908.42352941177,51919.05882352941 L 44958.58823529412,52207.48235294118 L 44973.88235294118,52709.41176470588 L 44989.22352941176,52997.78823529412 L 44989.22352941176,53425.788235294116 L 45019.85882352941,53793.50588235295 L 45050.49411764706,54069.27058823529 L 45100.65882352941,54388.282352941176 L 45224.04705882353,55038.02352941177 L 45320.188235294125,55415.623529411765 L 45396.75294117647,55522.870588235295 L 45534.63529411765,55768.00000000001 L 45595.95294117647,55921.17647058824 L 45718.49411764706,56074.4 L 45941.364705882355,56393.41176470589 L 46262.7294117647,56931.67058823529 L 46525.64705882353,57435.38823529412 L 46621.74117647059,57601.22352941177 L 46744.32941176471,57874.25882352942 L 46882.211764705884,58058.117647058825 L 47156.75294117647,58505.41176470588 L 47279.34117647059,58719.90588235294 L 47329.50588235295,58885.69411764706 L 47445.129411764705,59112.799999999996 L 47506.4,59250.68235294118 L 48128.00000000001,60281.22352941177 L 48281.17647058824,60511.01176470589 L 48327.15294117647,60602.91764705883 L 48388.42352941177,60725.50588235294 L 48530.541176470586,61105.788235294116 L 48545.83529411765,61151.76470588236 L 48545.83529411765,61167.05882352941 L 48545.83529411765,61274.30588235295 L 48511.01176470589,61348.23529411765 L 48449.69411764706,61440.14117647059 L 48434.4,61486.0705882353 L 48419.05882352941,61501.41176470588 L 48403.76470588235,61516.75294117647 L 48373.12941176471,61547.388235294115 L 48296.51764705883,61608.65882352941 L 48219.90588235294,61669.92941176471 L 48158.635294117645,61700.56470588236 L 48023.43529411765,61746.541176470586 L 47962.16470588235,61761.83529411765 L 47900.89411764706,61777.17647058824 L 47854.91764705883,61792.470588235294 L 47839.623529411765,61792.470588235294 L 47824.282352941176,61792.470588235294 L 47747.717647058824,61761.83529411765 L 47717.03529411765,61731.2 L 47686.4,61685.2705882353 L 47671.105882352946,61654.63529411765 L 47609.83529411765,61547.388235294115 L 47406.447058823534,61197.694117647065 L 47299.200000000004,61075.15294117647 L 47146.02352941177,60891.294117647056 L 46888.282352941176,60764.56470588235 L 46544.0,60660.0 L 46301.6,60568.09411764706 L 46179.01176470589,60460.847058823536 L 46087.105882352946,60276.98823529412 L 46025.83529411765,60185.08235294118 L 45811.34117647059,59909.31764705882 L 45522.964705882354,59594.49411764706 L 45431.05882352941,59533.22352941176 L 45265.22352941177,59391.15294117648 L 45142.68235294118,59299.200000000004 L 45096.70588235294,59237.92941176471 L 44943.48235294117,59069.41176470588 L 44729.035294117646,58839.623529411765 L 44683.05882352941,58763.01176470588 L 44621.788235294116,58671.105882352946 L 44591.15294117648,58471.952941176474 L 44571.623529411765,58094.35294117647 L 44571.623529411765,57971.76470588236 L 44571.623529411765,57956.470588235294 L 44544.376470588235,57786.16470588235 L 44509.50588235295,57482.447058823534 L 44463.529411764706,57375.2 L 44432.89411764706,57114.77647058824 L 44402.25882352941,56933.64705882353 L 44340.98823529411,56826.4 L 44279.717647058824,56642.54117647059 L 44187.81176470588,56366.77647058824 L 44137.64705882353,56188.37647058824 L 44002.447058823534,55767.48235294118 L 43971.81176470588,55614.30588235295 L 43875.6705882353,55295.29411764706 L 43802.447058823534,54928.51764705882 L 43756.51764705883,54851.90588235295 L 43679.90588235294,54576.14117647059 L 43583.76470588235,54287.76470588235 L 43537.83529411765,54073.2705882353 L 43433.97647058823,53629.92941176471 L 43322.54117647059,53356.89411764706 L 43245.92941176471,53004.51764705882 L 43160.89411764706,52568.32941176471 L 43145.600000000006,52307.90588235294 L 43145.600000000006,51988.84705882353 L 43145.600000000006,51697.78823529412 L 43114.964705882354,51437.31764705883 L 43095.435294117655,51136.3294117647 L 43034.16470588236,50845.2705882353 L 42988.18823529412,50554.16470588236 L 42988.18823529412,50309.035294117646 L 42988.18823529412,50002.635294117645 L 42957.55294117647,49803.48235294117 L 42880.941176470595,49453.83529411765 L 42834.964705882354,48979.81176470588 L 42819.6705882353,48795.95294117647 L 42789.035294117646,48596.8 L 42727.717647058824,48412.98823529412 L 42697.08235294117,48137.22352941176 L 42677.55294117647,47820.89411764706 L 42662.25882352941,47575.76470588236 L 42646.91764705882,47453.22352941176 L 42585.64705882353,47162.117647058825 L 42555.01176470589,46932.32941176471 L 42539.717647058824,46871.05882352941 L 42524.376470588235,46825.08235294118 L 42524.376470588235,46794.44705882353 L 42417.129411764705,46518.68235294118 L 42366.964705882354,46383.48235294117 L 42275.05882352942,46107.717647058824 L 42229.08235294118,45954.54117647059 L 42148.282352941176,45589.55294117647 L 42132.94117647059,45421.035294117646 L 42082.77647058824,45147.952941176474 L 41993.6,44816.3294117647 L 41947.62352941177,44647.81176470588 L 41828.42352941177,44263.05882352941 L 41751.858823529416,44079.200000000004 L 41721.22352941176,43987.294117647056 L 41583.34117647059,43788.09411764706 L 41421.694117647065,43530.352941176476 L 41294.91764705883,43287.952941176474 L 41233.64705882353,43014.870588235295 L 41172.376470588235,42739.15294117647 L 41126.4,42295.76470588236 L 41095.76470588236,42035.34117647059 L 41034.49411764706,41762.25882352941 L 41003.85882352941,41486.49411764705 L 40973.22352941176,41256.70588235294 L 40911.952941176474,41103.529411764706 L 40881.31764705883,40843.05882352941 L 40865.97647058824,40628.56470588235 L 40769.83529411765,40220.3294117647 L 40654.211764705884,39735.48235294118 L 40584.51764705882,39523.71764705883 L 40538.54117647059,39293.9294117647 L 40473.08235294118,38974.870588235295 L 40427.105882352946,38671.2 L 40427.105882352946,38563.952941176474 L 40381.129411764705,38426.07058823529 L 40319.85882352941,38180.94117647059 L 40258.58823529412,37782.63529411765 L 40197.31764705882,37522.16470588235 L 40181.97647058823,37445.6 L 40131.81176470588,37141.882352941175 L 40055.2,36896.75294117647 L 39959.10588235294,36531.76470588236 L 39878.25882352941,36169.50588235295 L 39847.62352941177,36016.282352941176 L 39771.05882352941,35786.49411764706 L 39755.717647058824,35648.611764705885 L 39725.08235294118,35329.6 L 39694.44705882353,34992.56470588235 L 39679.10588235294,34885.31764705882 L 39633.17647058823,34701.458823529414 L 39583.01176470588,34474.352941176476 L 39567.67058823529,34397.74117647059 L 39552.32941176471,34277.882352941175 L 39537.03529411765,34140.0 L 39471.52941176471,33882.25882352941 L 39456.23529411765,33759.717647058824 L 39344.8,33471.34117647059 L 39256.23529411765,33132.51764705883 L 39194.964705882354,32887.388235294115 L 39133.69411764706,32642.25882352941 L 39041.788235294116,32369.223529411767 L 38965.17647058824,32170.070588235296 L 38903.85882352941,32032.188235294117 L 38842.58823529411,31894.305882352943 L 38761.788235294116,31728.470588235297 L 38669.88235294118,31470.729411764707 L 38532.0,31302.211764705884 L 38470.7294117647,31179.670588235298 L 38316.0,30867.52941176471 L 38208.75294117647,30622.4 L 38162.82352941177,30469.223529411767 L 38101.55294117647,30300.70588235294 L 38024.94117647059,30193.45882352941 L 37978.964705882354,30070.870588235295 L 37887.05882352941,29932.98823529412 L 37779.81176470588,29810.44705882353 L 37733.83529411765,29733.835294117645 L 37626.58823529412,29641.929411764708 L 37519.388235294115,29519.38823529412 L 37153.600000000006,29181.270588235297 L 37138.25882352941,29165.976470588237 L 37138.25882352941,29150.63529411765 L 37107.623529411765,29104.70588235294 L 37092.32941176471,29043.38823529412 L 37076.98823529412,29028.094117647062 L 37061.69411764706,29012.75294117647 L 37015.717647058824,28936.14117647059 L 36985.08235294118,28890.211764705884 L 36442.870588235295,27880.847058823532 L 35605.50588235294,26353.929411764708 L 35590.211764705884,26338.63529411765 L 35559.529411764706,26323.29411764706 L 35406.352941176476,26262.023529411767 L 35163.90588235294,26200.75294117647 L 34936.84705882353,26165.88235294118 L 34513.2705882353,26096.188235294117 L 34329.41176470588,26034.917647058825 L 34252.8,25988.941176470587 L 34160.894117647054,25943.011764705883 L 34053.64705882353,25866.399999999998 L 33977.08235294118,25805.12941176471 L 33900.470588235294,25774.49411764706 L 33854.49411764706,25713.176470588238 L 31977.223529411764,22650.776470588236 L 31977.223529411764,22666.117647058825 L 31961.882352941175,22681.411764705885 L 31946.588235294115,22696.752941176474 L 31900.611764705885,22742.682352941174 L 31885.270588235293,22773.364705882355 L 31885.270588235293,22788.658823529415 L 31808.705882352944,22987.811764705883 L 31789.176470588234,23322.164705882355 L 31789.176470588234,23490.682352941178 L 31804.470588235294,23628.564705882352 L 31881.082352941175,23781.78823529412 L 31988.32941176471,23888.988235294117 L 32084.470588235294,24116.09411764706 L 32161.03529411765,24238.682352941178 L 32314.25882352941,24391.858823529416 L 32344.894117647058,24422.494117647057 L 32360.23529411765,24437.83529411765 L 32452.141176470588,24545.082352941175 L 32590.023529411767,24698.258823529413 L 32727.905882352945,24866.776470588233 L 32927.05882352941,25111.90588235294 L 33069.129411764705,25308.376470588235 L 33191.717647058824,25415.623529411765 L 33508.0,25527.058823529413 L 33615.24705882353,25527.058823529413 L 33722.49411764706,25496.423529411764 L 33722.49411764706,25465.788235294116 L 33410.964705882354,25184.84705882353 L 33119.858823529416,25001.03529411765 L 32352.98823529412,24543.15294117647 L 31804.61176470588,24216.188235294117 L 31666.729411764707,24139.576470588236 L 31472.941176470587,24065.69411764706 L 31304.423529411764,24004.423529411764 L 31166.54117647059,23958.44705882353 L 30919.670588235298,23931.2 L 30572.70588235294,23850.4 L 30281.600000000002,23743.15294117647 L 29870.682352941178,23635.90588235294 L 29505.69411764706,23528.658823529415 L 29034.4,23347.38823529412 L 28911.811764705883,23270.823529411766 L 28773.929411764708,23194.211764705884 L 28636.04705882353,23148.235294117647 L 28304.423529411764,23047.905882352945 L 28243.15294117647,23032.611764705885 L 27880.847058823532,22921.129411764705 L 27469.929411764704,22825.035294117646 L 27332.047058823533,22779.058823529413 L 26268.8,22617.317647058826 L 25993.976470588237,22590.070588235296 L 25764.141176470588,22544.09411764706 L 25199.15294117647,22478.63529411765 L 24895.482352941177,22459.105882352942 L 24513.411764705885,22428.423529411764 L 24209.69411764706,22367.152941176475 L 23905.976470588237,22301.694117647057 L 23722.164705882355,22271.058823529413 L 23431.058823529413,22194.447058823527 L 23203.95294117647,22148.470588235297 L 22974.164705882355,22087.2 L 22762.4,22087.2 L 22443.38823529412,22041.223529411767 L 21885.69411764706,21645.317647058826 L 21712.047058823533,21486.96470588235 L 21521.929411764704,21518.870588235295 L 21177.69411764706,21708.423529411764 L 20873.976470588237,21708.423529411764 L 20677.505882352943,21778.117647058825 L 20646.870588235295,21778.117647058825 L 20631.576470588236,21778.117647058825 L 20404.470588235294,21778.117647058825 L 20389.129411764705,21778.117647058825 L 20389.129411764705,21471.717647058824 L 20389.129411764705,21259.90588235294 L 20404.470588235294,21076.09411764706 L 20465.74117647059,20830.964705882354 L 20511.717647058824,20693.082352941175 L 20542.352941176472,20570.494117647057 L 20557.64705882353,20478.58823529412 L 20557.64705882353,20417.317647058826 L 20557.64705882353,20417.317647058826 L 20583.529411764706,20151.67058823529 z\" /></g></g></svg>"
      ],
      "text/plain": [
       "<MULTIPOLYGON (((20586.682 22084.235, 20813.553 22043.859, 20844.188 22043.8...>"
      ]
     },
     "execution_count": 9,
     "metadata": {},
     "output_type": "execute_result"
    }
   ],
   "source": [
    "coords"
   ]
  },
  {
   "cell_type": "code",
   "execution_count": 7,
   "metadata": {},
   "outputs": [
    {
     "data": {
      "text/plain": [
       "'/mnt/cho_lab/disk2/elizabeth/data/shared-xenium-library/outputs/TUQ97N/nebraska/objects_cropped/smc_longitudinal/Inflamed-50217A_smc_longitudinal.h5ad'"
      ]
     },
     "execution_count": 7,
     "metadata": {},
     "output_type": "execute_result"
    }
   ],
   "source": [
    "file_obj_crop"
   ]
  },
  {
   "cell_type": "code",
   "execution_count": 4,
   "metadata": {},
   "outputs": [
    {
     "ename": "KeyError",
     "evalue": "'sdfa'",
     "output_type": "error",
     "traceback": [
      "\u001b[0;31m---------------------------------------------------------------------------\u001b[0m",
      "\u001b[0;31mKeyError\u001b[0m                                  Traceback (most recent call last)",
      "Cell \u001b[0;32mIn[4], line 1\u001b[0m\n\u001b[0;32m----> 1\u001b[0m \u001b[43mcr\u001b[49m\u001b[38;5;241;43m.\u001b[39;49m\u001b[43mget_panel_constants\u001b[49m\u001b[43m(\u001b[49m\u001b[38;5;124;43m\"\u001b[39;49m\u001b[38;5;124;43msdfa\u001b[39;49m\u001b[38;5;124;43m\"\u001b[39;49m\u001b[43m)\u001b[49m\n",
      "File \u001b[0;32m~/corescpy/corescpy/constants.py:45\u001b[0m, in \u001b[0;36mget_panel_constants\u001b[0;34m(panel_id)\u001b[0m\n\u001b[1;32m     13\u001b[0m cons \u001b[38;5;241m=\u001b[39m {\n\u001b[1;32m     14\u001b[0m     \u001b[38;5;124m\"\u001b[39m\u001b[38;5;124mTUQ97N\u001b[39m\u001b[38;5;124m\"\u001b[39m: \u001b[38;5;28mdict\u001b[39m(\n\u001b[1;32m     15\u001b[0m         col_sample_id_o\u001b[38;5;241m=\u001b[39m\u001b[38;5;124m\"\u001b[39m\u001b[38;5;124msample_id\u001b[39m\u001b[38;5;124m\"\u001b[39m,\n\u001b[0;32m   (...)\u001b[0m\n\u001b[1;32m     42\u001b[0m     )\n\u001b[1;32m     43\u001b[0m }\n\u001b[1;32m     44\u001b[0m \u001b[38;5;28;01mif\u001b[39;00m panel_id \u001b[38;5;129;01mis\u001b[39;00m \u001b[38;5;129;01mnot\u001b[39;00m \u001b[38;5;28;01mNone\u001b[39;00m:\n\u001b[0;32m---> 45\u001b[0m     cons \u001b[38;5;241m=\u001b[39m \u001b[43mcons\u001b[49m\u001b[43m[\u001b[49m\u001b[43mpanel_id\u001b[49m\u001b[43m]\u001b[49m\n\u001b[1;32m     46\u001b[0m \u001b[38;5;28;01mreturn\u001b[39;00m cons\n",
      "\u001b[0;31mKeyError\u001b[0m: 'sdfa'"
     ]
    }
   ],
   "source": [
    "cr.get_panel_constants(\"sdfa\")\n"
   ]
  },
  {
   "cell_type": "code",
   "execution_count": null,
   "metadata": {},
   "outputs": [],
   "source": [
    "sdata_crop"
   ]
  },
  {
   "cell_type": "code",
   "execution_count": null,
   "metadata": {},
   "outputs": [],
   "source": [
    "sdata_crop.table"
   ]
  },
  {
   "cell_type": "code",
   "execution_count": null,
   "metadata": {},
   "outputs": [],
   "source": [
    "import squidpy as sq\n",
    "\n",
    "sq.pl.spatial_scatter(sdata_crop.table)"
   ]
  },
  {
   "cell_type": "code",
   "execution_count": null,
   "metadata": {},
   "outputs": [],
   "source": []
  },
  {
   "cell_type": "code",
   "execution_count": null,
   "metadata": {},
   "outputs": [],
   "source": [
    "sdata.pl.render_labels(\"cell_labels\").pl.show()  # plot"
   ]
  },
  {
   "cell_type": "code",
   "execution_count": null,
   "metadata": {},
   "outputs": [],
   "source": [
    "elements = self.gen_spatial_elements()"
   ]
  },
  {
   "cell_type": "code",
   "execution_count": null,
   "metadata": {},
   "outputs": [],
   "source": [
    "cr.pp.xenium_explorer_selection(file_coord)"
   ]
  }
 ],
 "metadata": {
  "kernelspec": {
   "display_name": "bio",
   "language": "python",
   "name": "python3"
  },
  "language_info": {
   "codemirror_mode": {
    "name": "ipython",
    "version": 3
   },
   "file_extension": ".py",
   "mimetype": "text/x-python",
   "name": "python",
   "nbconvert_exporter": "python",
   "pygments_lexer": "ipython3",
   "version": "3.10.4"
  }
 },
 "nbformat": 4,
 "nbformat_minor": 2
}
