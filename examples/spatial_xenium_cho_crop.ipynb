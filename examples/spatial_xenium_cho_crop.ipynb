{
 "cells": [
  {
   "cell_type": "markdown",
   "metadata": {},
   "source": [
    "# Setup\n",
    "\n",
    "```\n",
    "pip install git+https://github.com/scverse/spatialdata.git@main\n",
    "pip install git+https://github.com/scverse/spatialdata-io.git@main\n",
    "```\n",
    "\n",
    "This is the stuff you have to edit; the rest of the sections can run as-is after you've set the needed parameters.\n",
    "\n",
    "---\n",
    "\n",
    "`coord_suffix` must align with \n",
    "* the sub-directory (corresponds to region, e.g., \"mucosa\") under the `dir_coord` directory where the Xenium Explorer-exported selection files are stored, and\n",
    "* the suffixes of the coordinate selection files (see file naming conventions below).\n",
    "  \n",
    "The `AnnData` objects created will have this suffix as well (e.g., `Uninflamed-50452A_mucosa.h5ad`).\n",
    "\n",
    "---\n",
    "\n",
    "Selection files should be named by this convention:\n",
    "`<library_id>_<coord_suffix>.csv`.\n",
    "\n",
    "For example, if `dir_coord` is `.../coordinates/mucosa`, the mucosa selection file for sample 50452A should be under `.../coordinates/mucosa/50452A_mucosa.csv`. \n",
    "\n",
    "More specifically, if the coordinates directory is under `/mnt/cho_lab/disk2/elizabeth/data/shared-xenium-library/outputs/TUQ97N/nebraska/coordinates`, and the selection region is \"mucosa,\"`dir_coord` should be `/mnt/cho_lab/disk2/elizabeth/data/shared-xenium-library/outputs/TUQ97N/nebraska/coordinates/mucosa`, and the full file path for this sample would be `/mnt/cho_lab/disk2/elizabeth/data/shared-xenium-library/outputs/TUQ97N/nebraska/coordinates/mucosa/50452A_mucosa.csv`.\n",
    "\n",
    "---\n",
    "\n",
    "**As with any other file naming schema, suffixes/directory names should not any special characters other than underscores (`_`) (no periods, dashes, spaces, etc.).**\n",
    "\n",
    "N.B. In the above explanation, `library_id` refers to library/original sample ID without condition (e.g., \"50452A\", not \"Uninflamed-50452A\" like in other places). Remember that `coord_suffix` should also be the name of the parent directory of the coordinate file. I include this information in both the directory and file name to prevent mix-ups should files be moved or placed in the wrong folder.\n",
    "\n",
    "Loading the metadata allows us to find the object IDs (e.g., for TUQ97N, object IDs are in the format <condition (Inflamed/Uninflamed/Stricture)><block_id>) corresponding to the sample IDs.\n"
   ]
  },
  {
   "cell_type": "code",
   "execution_count": 186,
   "metadata": {},
   "outputs": [
    {
     "name": "stdout",
     "output_type": "stream",
     "text": [
      "The autoreload extension is already loaded. To reload it, use:\n",
      "  %reload_ext autoreload\n"
     ]
    },
    {
     "data": {
      "text/plain": [
       "Sample\n",
       "Uninflamed-50217B    50217\n",
       "Name: subject_id, dtype: int64"
      ]
     },
     "execution_count": 186,
     "metadata": {},
     "output_type": "execute_result"
    }
   ],
   "source": [
    "%load_ext autoreload\n",
    "%autoreload 2\n",
    "%matplotlib inline\n",
    "\n",
    "import os\n",
    "import re\n",
    "import math\n",
    "import functools\n",
    "import traceback\n",
    "import matplotlib.pyplot as plt\n",
    "import geopandas as gpd\n",
    "import shapely\n",
    "import shapely.validation\n",
    "from shapely.geometry import box\n",
    "import anndata\n",
    "import scanpy as sc\n",
    "# import spatialdata_plot\n",
    "import numpy as np\n",
    "import pandas as pd\n",
    "import corescpy as cr\n",
    "\n",
    "# Files & Directories\n",
    "panel = \"TUQ97N\"  # Xenium panel ID\n",
    "direc = \"/mnt/cho_lab/bb-xenium-registry/\"  # mounted NFS with Xenium raw data\n",
    "obj_dir = os.path.join(  # this path will point to where original .h5ads are\n",
    "    \"/mnt/cho_lab/disk2\",  # Spark entry directory\n",
    "    \"elizabeth\",  # change if objects in different person's/your folder\n",
    "    f\"data/shared-xenium-library/outputs/{panel}/nebraska\")  # subdirectory\n",
    "out_new = os.path.join(\"/mnt/cho_lab/disk2\", os.getlogin(),  # for new objects\n",
    "                       f\"data/shared-xenium-library/outputs/{panel}/nebraska\")\n",
    "mdf = str(\"/mnt/cho_lab/disk2/elizabeth/data/shared-xenium-library/samples_\"\n",
    "          f\"{panel}.csv\")  # metadata file path (for now; will soon be on NFS)\n",
    "\n",
    "# Main\n",
    "write_object = True  # change to True when you're ready to save objects\n",
    "overwrite = False  # overwrite if already exists?\n",
    "regions = [\"mucosa\", \"serosa\", \"myenteric_plexus\", \"submucosa\",\n",
    "           \"smc_circular\", \"smc_longitudinal\"]\n",
    "col_leiden = \"leiden_res1pt5_dist0_npc30\"\n",
    "col_ann = \"Bucket\"\n",
    "cells_as_circles = True\n",
    "allow_make_valid = True  # allow shapely package to correct invalid geometries\n",
    "# libs = [  # sample IDs from patients for whom we have all conditions\n",
    "#     \"50452A\", \"50452B\", \"50452C\",  # old segmentation\n",
    "#     \"50006A\", \"50006B\", \"50006C\",  # rest are new segmentation\n",
    "#     \"50217A\", \"50217B\", \"50217C\",\n",
    "#     \"50336B\", \"50336C\", \"50336A\",\n",
    "#     \"50403A2\", \"50403B\", \"50403C1\"\n",
    "# ]  # excludes low-quality sample/condition replicates 50403A1 & 50403C2\n",
    "# libs = [\"50006A\", \"50006B\", \"50217A\", \"50217B\", \"50336B\", \"50336C\",\n",
    "#         \"50403B\", \"50403A2\"]  # just inflamed/uninflamed (no strictures)\n",
    "# libs = None  # to run all available samples\n",
    "libs = [\"50006B\", \"50217B\"]\n",
    "input_suffix = \"\"  # in case want to crop objects with some suffix\n",
    "# due to creation of a subsidiary object, e.g., for\n",
    "# \"Stricture-50452C_downsampled.h5ad\"\n",
    "# input_suffix would be \"_downsampled\". For \"main\" objects, input_suffix=\"\"\n",
    "plot = True  # could slow process down if large samples/cropped area\n",
    "\n",
    "#  Your Folders\n",
    "constants_dict = cr.get_panel_constants(panel_id=panel)\n",
    "\n",
    "# Constants (Shouldn't Need Edits Unless Extreme Process Changes)\n",
    "cso, col_sample, col_condition, col_inflamed, col_subject = [\n",
    "    constants_dict[x] if x in constants_dict else None for x in [\n",
    "        \"col_sample_id_o\", \"col_sample_id\", \"col_condition\",\n",
    "        \"col_inflamed\", \"col_subject\"]]\n",
    "dir_data = os.path.join(direc, f\"outputs/{panel}\")\n",
    "files = functools.reduce(lambda i, j: i + j, [[os.path.join(\n",
    "    run, i) for i in os.listdir(os.path.join(\n",
    "        dir_data, run))] for run in os.listdir(dir_data)])  # all data paths\n",
    "os.makedirs(obj_dir, exist_ok=True)  # make output directory if needed\n",
    "metadata = cr.pp.get_metadata_cho(direc, mdf, panel_id=panel, samples=libs,\n",
    "                                  capitalize_sample=panel == \"TUQ97N\")\n",
    "metadata[col_subject]"
   ]
  },
  {
   "cell_type": "markdown",
   "metadata": {},
   "source": [
    "# Subset Data by Coordinate Files & Write Cropped Objects\n",
    "\n",
    "Subset the data by coordinates (`corescpy` can use Xenium Explorer-exported manual selection files to get those coordinates) and then write the cropped objects to `obj_dir/<coord_suffix>`."
   ]
  },
  {
   "cell_type": "code",
   "execution_count": 188,
   "metadata": {},
   "outputs": [],
   "source": [
    "overwrite=True\n",
    "regions=[\"mucosa\", \"submucosa\"]\n",
    "libs=[\"50217B\"]"
   ]
  },
  {
   "cell_type": "code",
   "execution_count": 189,
   "metadata": {},
   "outputs": [
    {
     "name": "stdout",
     "output_type": "stream",
     "text": [
      "\n",
      "\n",
      "================================================================================\n",
      "50217B\n",
      "================================================================================\n",
      "\n",
      "\n",
      "\n",
      "\n",
      "<<< INITIALIZING SPATIAL CLASS OBJECT >>>\n",
      "\n",
      "\u001b[34mINFO    \u001b[0m reading                                                                                                   \n",
      "         \u001b[35m/mnt/cho_lab/bb-xenium-registry/outputs/TUQ97N/CHO-008/output-XETG00189__0015522__50217B-TUQ97N-EA__202404\u001b[0m\n",
      "         \u001b[35m15__212906/\u001b[0m\u001b[95mcell_feature_matrix.h5\u001b[0m                                                                         \n"
     ]
    },
    {
     "name": "stdout",
     "output_type": "stream",
     "text": [
      "WARNING: Unable to find `y`, `x` or `z` dimension in `('c', 'y', 'x')`. Renaming to `('channels', 'y', 'x', 'z')`\n",
      "WARNING: Unable to find `y`, `x` or `z` dimension in `('c', 'y', 'x')`. Renaming to `('channels', 'y', 'x', 'z')`\n",
      "WARNING: Unable to find `y`, `x` or `z` dimension in `('c', 'y', 'x')`. Renaming to `('channels', 'y', 'x', 'z')`\n",
      "WARNING: Unable to find `y`, `x` or `z` dimension in `('c', 'y', 'x')`. Renaming to `('channels', 'y', 'x', 'z')`\n",
      "WARNING: Unable to find `y`, `x` or `z` dimension in `('c', 'y', 'x')`. Renaming to `('channels', 'y', 'x', 'z')`\n",
      "\n",
      "\n",
      "================================================================================\n",
      "Counts: Initial: table\n",
      "================================================================================\n",
      "\n",
      "\n",
      "\tObservations: 814930\n",
      "\n",
      "\tGenes: 469\n",
      "\n",
      "\n",
      "\n",
      "================================================================================\n",
      "\n",
      "\n",
      "\n",
      "\n",
      " AnnData object with n_obs × n_vars = 814930 × 469\n",
      "    obs: 'cell_id', 'transcript_counts', 'control_probe_counts', 'control_codeword_counts', 'unassigned_codeword_counts', 'deprecated_codeword_counts', 'total_counts', 'cell_area', 'nucleus_area', 'region', 'z_level', 'nucleus_count', 'cell_labels', 'Sample'\n",
      "    var: 'gene_ids', 'feature_types', 'genome'\n",
      "    uns: 'spatialdata_attrs', 'spatial'\n",
      "    obsm: 'spatial'\n",
      "    layers: 'counts' \n",
      "\n",
      "                gene_ids    feature_types   genome\n",
      "ABCA7   ENSG00000064687  Gene Expression  Unknown\n",
      "ACTA2   ENSG00000107796  Gene Expression  Unknown\n",
      "ACTG2   ENSG00000163017  Gene Expression  Unknown\n",
      "ADAM15  ENSG00000143537  Gene Expression  Unknown\n",
      "ADAM28  ENSG00000042980  Gene Expression  Unknown \n",
      "\n",
      "  \n",
      "\n",
      "\n",
      "\n",
      "\n",
      "SpatialData object\n",
      "├── Images\n",
      "│     └── 'morphology_focus': DataTree[cyx] (5, 108796, 42816), (5, 54398, 21408), (5, 27199, 10704), (5, 13599, 5352), (5, 6799, 2676)\n",
      "├── Labels\n",
      "│     ├── 'cell_labels': DataTree[yx] (108796, 42816), (54398, 21408), (27199, 10704), (13599, 5352), (6799, 2676)\n",
      "│     └── 'nucleus_labels': DataTree[yx] (108796, 42816), (54398, 21408), (27199, 10704), (13599, 5352), (6799, 2676)\n",
      "├── Points\n",
      "│     └── 'transcripts': DataFrame with shape: (<Delayed>, 11) (3D points)\n",
      "├── Shapes\n",
      "│     ├── 'cell_boundaries': GeoDataFrame shape: (814930, 1) (2D shapes)\n",
      "│     ├── 'cell_circles': GeoDataFrame shape: (814930, 2) (2D shapes)\n",
      "│     └── 'nucleus_boundaries': GeoDataFrame shape: (796233, 1) (2D shapes)\n",
      "└── Tables\n",
      "      └── 'table': AnnData (814930, 469)\n",
      "with coordinate systems:\n",
      "    ▸ 'global', with elements:\n",
      "        morphology_focus (Images), cell_labels (Labels), nucleus_labels (Labels), transcripts (Points), cell_boundaries (Shapes), cell_circles (Shapes), nucleus_boundaries (Shapes)\n",
      "\n",
      "\n",
      "\n",
      "\n",
      "col_gene_symbols=None\n",
      "col_cell_type=\"leiden\"\n",
      "col_sample_id=\"Sample\"\n",
      "col_batch=\"Sample\"\n",
      "col_subject=None\n",
      "col_condition=None\n",
      "col_num_umis=None\n",
      "col_segment=\"region\"\n",
      "\n",
      "\n",
      "\n",
      "\n",
      "\n",
      "\n",
      "\n",
      "\n",
      "key_control=None\n",
      "key_treatment=None\n",
      "key_table=\"table\"\n",
      "\n",
      "\n",
      "\n",
      "\n",
      "\n",
      "\n",
      "\t\t****************************************\n",
      "\t\tmucosa\n",
      "\t\t****************************************\n",
      "\n",
      "\n",
      "\n",
      "\n",
      "Data: /mnt/cho_lab/bb-xenium-registry/outputs/TUQ97N/CHO-008/output-XETG00189__0015522__50217B-TUQ97N-EA__20240415__212906\n",
      "Object: /mnt/cho_lab/disk2/elizabeth/data/shared-xenium-library/outputs/TUQ97N/nebraska/Uninflamed-50217B.h5ad\n",
      "Coordinates: /mnt/cho_lab/disk2/elizabeth/data/shared-xenium-library/outputs/TUQ97N/nebraska/coordinates/mucosa/50217B_mucosa.csv\n",
      "Ouput: /mnt/cho_lab/disk2/elizabeth/data/shared-xenium-library/outputs/TUQ97N/nebraska/objects_cropped/mucosa/Uninflamed-50217B_mucosa.h5ad\n"
     ]
    },
    {
     "data": {
      "image/png": "[encoded data removed]",
      "text/plain": [
       "<Figure size 640x480 with 1 Axes>"
      ]
     },
     "metadata": {},
     "output_type": "display_data"
    },
    {
     "data": {
      "image/png": "[encoded data removed]",
      "text/plain": [
       "<Figure size 640x480 with 1 Axes>"
      ]
     },
     "metadata": {},
     "output_type": "display_data"
    }
   ],
   "source": [
    "for s in libs:  # iterate samples\n",
    "    print(f\"\\n\\n{'=' * 80}\\n{s}\\n{'=' * 80}\\n\\n\")\n",
    "    fff = os.path.join(dir_data, np.array(files)[np.where([\n",
    "        s == os.path.basename(x).split(\"__\")[2].split(\"-\")[0]\n",
    "        for x in files])[0][0]])  # sample's Xenium data directory path\n",
    "    lib = metadata.reset_index().set_index(cso).loc[s][col_sample]\n",
    "    file_obj_proc = os.path.join(obj_dir, f\"{lib}{input_suffix}.h5ad\")\n",
    "    if overwrite is False:  # skip entirely if all crops exist & no overwrite\n",
    "        all_files = [os.path.join(out_new, \"objects_cropped\",\n",
    "                                  r, f'{lib}_{r}.h5ad') for r in regions]\n",
    "        if overwrite is False and all([os.path.exists(r) for r in all_files]):\n",
    "            print(f\"*** All subsets {', '.join(all_files)} already exist\")\n",
    "            continue\n",
    "    self = cr.Spatial(fff, library_id=lib,\n",
    "                      cells_as_circles=cells_as_circles)  # load original data\n",
    "    adata = sc.read_h5ad(file_obj_proc)  # processed adata\n",
    "    # self.update_from_h5ad(file_obj_proc)  # update with processed object\n",
    "    for coord_suffix in regions:\n",
    "        sdata = None\n",
    "        print(f\"\\n\\n\\t\\t{'*' * 40}\\n\\t\\t{coord_suffix}\\n\\t\\t{'*' * 40}\\n\\n\")\n",
    "        dir_coord = os.path.join(\n",
    "            out_new, \"coordinates\", coord_suffix)  # coordinates (NFS soon?)\n",
    "        out = os.path.join(out_new, \"objects_cropped\", coord_suffix)  # path\n",
    "        os.makedirs(out, exist_ok=True)  # make sub-directory for new objects?\n",
    "        file_coord = os.path.join(dir_coord, s + f\"_{coord_suffix}.csv\")\n",
    "        file_obj_crop = os.path.join(out, f\"{lib}_{coord_suffix}.h5ad\")\n",
    "        if overwrite is False and os.path.exists(file_obj_crop):\n",
    "            print(f\"*** Subset {file_obj_crop} already exists\")\n",
    "            continue\n",
    "        if not os.path.exists(file_coord):\n",
    "            print(f\"*** Coordinate file {file_coord} doesn't exist\")\n",
    "            continue\n",
    "        print(f\"\\n\\nData: {fff}\\nObject: {file_obj_proc}\"\n",
    "              f\"\\nCoordinates: {file_coord}\\nOuput: {file_obj_crop}\")\n",
    "        # try:\n",
    "        sdata = self.crop(\n",
    "            file_coord, allow_make_valid=allow_make_valid)  # crop\n",
    "        i_x = sdata.table.obs[\"cell_id\"].copy()\n",
    "        # orig = sdata.table.copy()\n",
    "        del sdata.table\n",
    "        sdata.table = adata[adata.obs[\"cell_id\"].isin(i_x[\n",
    "            i_x.isin(adata.obs[\"cell_id\"])])]  # coordinate- & pp-filtered\n",
    "        if plot:\n",
    "            try:\n",
    "                sdata.pl.render_labels(\"cell_labels\").pl.show()  # plot\n",
    "            except Exception:\n",
    "                pass\n",
    "        if write_object is True:\n",
    "            sdata.table.write_h5ad(file_obj_crop)  # write cropped\n",
    "        # except Exception:\n",
    "        #     print(traceback.format_exc(),\n",
    "        #           f\"Cropping \\n\\n{s}, {coord_suffix} failed!\")\n",
    "print(\"\\n\\nCompleted!\")"
   ]
  },
  {
   "cell_type": "code",
   "execution_count": null,
   "metadata": {},
   "outputs": [],
   "source": [
    "dff = gpd.GeoDataFrame(geometry=coords)\n",
    "dff[\"geometries\"] = dff.apply(lambda x: [g for g in x.geometry.geoms], axis=1)\n",
    "dff = dff.explode(column=\"geometries\").drop(columns=\"geometry\").set_geometry(\"geometries\").rename_geometry(\"geometry\")\n",
    "dff"
   ]
  },
  {
   "cell_type": "code",
   "execution_count": null,
   "metadata": {},
   "outputs": [],
   "source": [
    "kws = {\"target_coordinate_system\": \"global\", \"filter_table\": True}\n",
    "coords = cr.pp.xenium_explorer_selection(file_coord)\n",
    "print(type(coords))\n",
    "p_coords = gpd.GeoSeries(coords).plot()\n",
    "p_coords.set_title(\"Input\")\n",
    "plt.show()\n",
    "coords = shapely.validation.make_valid(coords)\n",
    "print(type(coords))\n",
    "p_coords_new = gpd.GeoSeries(coords).plot()"
   ]
  },
  {
   "cell_type": "code",
   "execution_count": null,
   "metadata": {},
   "outputs": [],
   "source": [
    "coord_suffix"
   ]
  },
  {
   "cell_type": "code",
   "execution_count": null,
   "metadata": {},
   "outputs": [],
   "source": [
    "data = {}\n",
    "for i, p in enumerate(coords.geoms):  # Handle each Polygon in MultiPolygon\n",
    "    data[f\"Selection { + 1i}\"] = []\n",
    "    for xi, yi in zip(*p.exterior.xy):\n",
    "        data[f\"Selection { + 1i}\"] += [{\"X\": xi * p_size, \"Y\": yi * p_size}]\n",
    "    data[f\"Selection {i + 1}\"] = pd.DataFrame(data[f\"Selection { + 1i}\"])\n",
    "data = pd.concat(data, names=[\"Selection\"]).reset_index(1, drop=True)\n",
    "cols = [f\"\", \", \".join(data.reset_index().Selection.unique())]\n",
    "data = pd.concat([pd.DataFrame([[\"\", \"\"]], index=[\n",
    "    \"Areas (µm^2): x\"], columns=cols), pd.DataFrame(data.columns, columns=[\n",
    "        \"Selection\"], index=cols).T, pd.DataFrame(np.array(\n",
    "            data), index=data.index, columns=cols)]).rename_axis(\n",
    "                \"#Selection name: \")  # Xenium format\n",
    "# data.to_csv(os.path.join(out_new, \"coordinates\", \"mucosa\",\n",
    "#                          \"50217A_mucosa.csv\"))"
   ]
  },
  {
   "cell_type": "code",
   "execution_count": null,
   "metadata": {},
   "outputs": [],
   "source": [
    "sdata_crop = self.adata.query.polygon(coords, **kws)"
   ]
  },
  {
   "cell_type": "code",
   "execution_count": null,
   "metadata": {},
   "outputs": [],
   "source": [
    "import squidpy as sq\n",
    "\n",
    "sq.pl.spatial_scatter(\n",
    "    sdata_crop.table, library_id=\"spatial\", shape=None,\n",
    "    color=None, wspace=0.4, legend_loc=None)"
   ]
  },
  {
   "cell_type": "code",
   "execution_count": null,
   "metadata": {},
   "outputs": [],
   "source": [
    "i_x = sdata_crop.table.obs[\"cell_id\"]\n",
    "ann = adata[adata.obs[\"cell_id\"].isin(i_x[\n",
    "                i_x.isin(adata.obs[\"cell_id\"])])]  # coordinate- & pp-filtered"
   ]
  },
  {
   "cell_type": "code",
   "execution_count": null,
   "metadata": {},
   "outputs": [],
   "source": [
    "sq.pl.spatial_scatter(\n",
    "    ann, library_id=\"spatial\", shape=None,\n",
    "    color=\"bucket_res1pt5_dist0_npc30\", wspace=0.4)"
   ]
  },
  {
   "cell_type": "code",
   "execution_count": null,
   "metadata": {},
   "outputs": [],
   "source": [
    "ann.write_h5ad(file_obj_crop)"
   ]
  },
  {
   "cell_type": "code",
   "execution_count": null,
   "metadata": {},
   "outputs": [],
   "source": [
    "ann.obs[\"bucket_res1pt5_dist0_npc30\"].value_counts()"
   ]
  },
  {
   "cell_type": "code",
   "execution_count": null,
   "metadata": {},
   "outputs": [],
   "source": [
    "        coord_suffix = \"submucosa\"\n",
    "        dir_coord = os.path.join(\n",
    "            out_new, \"coordinates\", coord_suffix)  # coordinates (NFS soon?)\n",
    "        out = os.path.join(out_new, \"objects_cropped\", coord_suffix)  # path\n",
    "        os.makedirs(out, exist_ok=True)  # make sub-directory for new objects?\n",
    "        file_coord = os.path.join(dir_coord, s + f\"_{coord_suffix}.csv\")\n",
    "        file_obj_crop = os.path.join(out, f\"{lib}_{coord_suffix}.h5ad\")"
   ]
  },
  {
   "cell_type": "code",
   "execution_count": null,
   "metadata": {},
   "outputs": [],
   "source": [
    "                    coords = cr.pp.xenium_explorer_selection(file_coord)\n",
    "                    print(coords.is_valid)\n",
    "                    coords = shapely.validation.make_valid(coords)\n",
    "                    coords"
   ]
  },
  {
   "cell_type": "code",
   "execution_count": null,
   "metadata": {},
   "outputs": [],
   "source": [
    "spatialdata.SpatialData.get_annotated_regions(sdata_crop.table)"
   ]
  },
  {
   "cell_type": "code",
   "execution_count": null,
   "metadata": {},
   "outputs": [],
   "source": [
    "sdata_crop.shapes[\"cell_circles\"].index"
   ]
  },
  {
   "cell_type": "code",
   "execution_count": null,
   "metadata": {},
   "outputs": [],
   "source": [
    "sdata_crop.tables"
   ]
  },
  {
   "cell_type": "code",
   "execution_count": null,
   "metadata": {},
   "outputs": [],
   "source": [
    "sdata.tables"
   ]
  },
  {
   "cell_type": "code",
   "execution_count": null,
   "metadata": {},
   "outputs": [],
   "source": [
    "sdata = self.adata.query.polygon(coords, **kws)"
   ]
  },
  {
   "cell_type": "code",
   "execution_count": null,
   "metadata": {},
   "outputs": [],
   "source": [
    "sdata.labels[\"cell_labels\"]"
   ]
  },
  {
   "cell_type": "code",
   "execution_count": null,
   "metadata": {},
   "outputs": [],
   "source": [
    "coords"
   ]
  },
  {
   "cell_type": "code",
   "execution_count": null,
   "metadata": {},
   "outputs": [],
   "source": [
    "sdata.shapes[\"cell_circles\"]"
   ]
  },
  {
   "cell_type": "code",
   "execution_count": null,
   "metadata": {},
   "outputs": [],
   "source": [
    "# sdata.tables[\"table\"].write_h5ad(file_obj_crop)  # write cropped"
   ]
  },
  {
   "cell_type": "markdown",
   "metadata": {},
   "source": [
    "# Example Setting Regions by Exclusion"
   ]
  },
  {
   "cell_type": "code",
   "execution_count": null,
   "metadata": {},
   "outputs": [],
   "source": [
    "olm = cr.pp.xenium_explorer_selection(os.path.join(\n",
    "    out_new, \"coordinates\", \"smc_longitudinal\",\n",
    "    f\"{s_o}_smc_longitudinal.csv\"))"
   ]
  },
  {
   "cell_type": "code",
   "execution_count": null,
   "metadata": {},
   "outputs": [],
   "source": [
    "whole_valid = shapely.validation.make_valid(whole)"
   ]
  },
  {
   "cell_type": "code",
   "execution_count": null,
   "metadata": {},
   "outputs": [],
   "source": [
    "whole_valid"
   ]
  },
  {
   "cell_type": "code",
   "execution_count": null,
   "metadata": {},
   "outputs": [],
   "source": [
    "leftover = shapely.validation.make_valid(whole_valid.difference(muc))\n",
    "for x in [mye, icm, olm, ser]:\n",
    "    leftover = shapely.validation.make_valid(whole_valid.difference(x))\n",
    "leftover"
   ]
  },
  {
   "cell_type": "code",
   "execution_count": null,
   "metadata": {},
   "outputs": [],
   "source": [
    "# whole = shapely.Polygon(list(self.adata.shapes[\"cell_circles\"].geometry))"
   ]
  },
  {
   "cell_type": "code",
   "execution_count": null,
   "metadata": {},
   "outputs": [],
   "source": [
    "s_o = \"50217A\"\n",
    "out_new = str(\"/mnt/cho_lab/disk2/elizabeth/data/shared-xenium-library/\"\n",
    "              \"outputs/TUQ97N/nebraska\")\n",
    "# mid = pd.read_csv(os.path.join(out_new, f\"coordinates/{s_o}_mid.csv\"),\n",
    "#                   index_col=0).iloc[:, 0]\n",
    "# mid = gpd.GeoDataFrame(mid, geometry=gpd.GeoSeries.from_wkt(\n",
    "#     mid), crs=\"EPSG:4326\")\n",
    "# mid = mid.geometry.apply(lambda geom: shapely.Polygon(geom)).iloc[0]\n",
    "mye, ser, muc, icm = [cr.pp.xenium_explorer_selection(os.path.join(\n",
    "    out_new, \"coordinates\", r, f\"{s_o}_{r}.csv\"))\n",
    "            for r in [\"myenteric_plexus\", \"serosa\", \"mucosa\", \"smc_circular\"]]\n",
    "mye, ser, muc, icm = [x if x.is_valid else shapely.validation.make_valid(\n",
    "    x) for x in [mye, ser, muc, icm]]\n",
    "# muc = cr.pp.xenium_explorer_selection(os.path.join(\n",
    "#     out_new, \"coordinates\", \"mucosa\", f\"{s_o}_mucosa_full.csv\"))\n",
    "# muc = shapely.validation.make_valid(muc)\n",
    "# other = shapely.validation.make_valid(cr.pp.xenium_explorer_selection(\n",
    "#     os.path.join(out_new, \"coordinates/50217A_other.csv\")))\n",
    "# smc = shapely.validation.make_valid(cr.pp.xenium_explorer_selection(\n",
    "#     os.path.join(out_new, \"coordinates/50217A_smc.csv\")))\n",
    "# whole = shapely.validation.make_valid(cr.pp.xenium_explorer_selection(\n",
    "#     os.path.join(out_new, \"coordinates/50217A_all.csv\")))\n",
    "# olm = cr.pp.xenium_explorer_selection(os.path.join(\n",
    "#     out_new, \"coordinates\", \"smc_longitudinal\",\n",
    "#     f\"{s_o}_smc_longitudinal.csv\"))\n",
    "other, olm, smc, whole = None, None, None, None"
   ]
  },
  {
   "cell_type": "code",
   "execution_count": null,
   "metadata": {},
   "outputs": [],
   "source": [
    "for r in zip([\"whole\", \"mye\", \"ser\", \"muc\", \"smc\", \"icm\", \"olm\"], [\n",
    "        whole, mye, ser, muc, smc, icm, olm]):\n",
    "    if r[1] is None:\n",
    "        continue\n",
    "    p_coords = gpd.GeoSeries(r[1]).plot()\n",
    "    p_coords.set_title(r[0])\n",
    "    plt.show()"
   ]
  },
  {
   "cell_type": "code",
   "execution_count": null,
   "metadata": {},
   "outputs": [],
   "source": [
    "olm = smc.difference(mye).difference(icm).difference(ser)\n",
    "olm"
   ]
  },
  {
   "cell_type": "code",
   "execution_count": null,
   "metadata": {},
   "outputs": [],
   "source": [
    "sub = whole.difference(muc).difference(icm).difference(olm).difference(\n",
    "    mye).difference(ser).difference(smc)\n",
    "sub"
   ]
  },
  {
   "cell_type": "code",
   "execution_count": null,
   "metadata": {},
   "outputs": [],
   "source": []
  },
  {
   "cell_type": "code",
   "execution_count": null,
   "metadata": {},
   "outputs": [],
   "source": []
  },
  {
   "cell_type": "code",
   "execution_count": null,
   "metadata": {},
   "outputs": [],
   "source": [
    "coords.boundary.xy[0][1]"
   ]
  },
  {
   "cell_type": "code",
   "execution_count": null,
   "metadata": {},
   "outputs": [],
   "source": []
  },
  {
   "cell_type": "code",
   "execution_count": null,
   "metadata": {},
   "outputs": [],
   "source": [
    "pd.DataFrame([[j / 100 for j in i] for i in coords.boundary.xy], index=[\"X\", \"Y\"]).T"
   ]
  },
  {
   "cell_type": "code",
   "execution_count": null,
   "metadata": {},
   "outputs": [],
   "source": [
    "shapely.Polygon(pd.DataFrame([[j / 10 for j in i] for i in coords.boundary.xy], index=[\"X\", \"Y\"]).T.values / 0.2125)"
   ]
  },
  {
   "cell_type": "code",
   "execution_count": null,
   "metadata": {},
   "outputs": [],
   "source": [
    "self.rna.obsm[\"spatial\"]"
   ]
  },
  {
   "cell_type": "code",
   "execution_count": null,
   "metadata": {},
   "outputs": [],
   "source": [
    "coords"
   ]
  },
  {
   "cell_type": "code",
   "execution_count": null,
   "metadata": {},
   "outputs": [],
   "source": [
    "kws = {\"target_coordinate_system\": \"global\",\n",
    "        \"filter_table\": True}\n",
    "\n",
    "sdata_crop = self.adata.query.polygon(shapely.Polygon(pd.DataFrame([[j / 100 for j in i] for i in coords.boundary.xy], index=[\"X\", \"Y\"]).T.values), **kws)\n",
    "sdata_crop"
   ]
  },
  {
   "cell_type": "code",
   "execution_count": null,
   "metadata": {},
   "outputs": [],
   "source": [
    "i_x = sdata.table.obs[\"cell_id\"].copy()\n",
    "orig = sdata.table.copy()\n",
    "del sdata.table\n",
    "sdata.table = adata[adata.obs[\"cell_id\"].isin(i_x[\n",
    "    i_x.isin(list(adata.obs[\"cell_id\"]))])]  # coordinate- & pp-filtered\n",
    "if plot:\n",
    "    try:\n",
    "        sdata.pl.render_labels(\"cell_labels\").pl.show()  # plot\n",
    "    except Exception:\n",
    "        pass\n",
    "if write_object is True:\n",
    "    sdata.table.write_h5ad(file_obj_crop)  # write cropped"
   ]
  },
  {
   "cell_type": "code",
   "execution_count": null,
   "metadata": {},
   "outputs": [],
   "source": [
    "p_size = 0.2125  # pixel size\n",
    "\n",
    "data = {}\n",
    "for i, p in enumerate(muc.boundary.geoms):  # Handle each Polygon in MultiPolygon\n",
    "    data[f\"Selection {i + 1}\"] = []\n",
    "    for xi, yi in zip(*p.xy):\n",
    "        data[f\"Selection {i + 1}\"] += [{\"X\": xi * p_size, \"Y\": yi * p_size}]\n",
    "    data[f\"Selection {i + 1}\"] = pd.DataFrame(data[f\"Selection {i + 1}\"])\n",
    "data = pd.concat(data, names=[\"Selection\"]).reset_index(1, drop=True)\n",
    "cols = [f\"\", \", \".join(data.reset_index().Selection.unique())]\n",
    "data = pd.concat([pd.DataFrame([[\"\", \"\"]], index=[\n",
    "    \"Areas (µm^2): x\"], columns=cols), pd.DataFrame(data.columns, columns=[\n",
    "        \"Selection\"], index=cols).T, pd.DataFrame(np.array(\n",
    "            data), index=data.index, columns=cols)]).rename_axis(\n",
    "                \"#Selection name: \")  # Explorer format\n",
    "\n",
    "############## DIFFERENT WAY (CAN CAUSE ISSUES -- CHECK FIRST)\n",
    "\n",
    "data = {}\n",
    "for i, p in enumerate(olm.geoms):  # Handle each Polygon in MultiPolygon\n",
    "    data[f\"Selection {i + 1}\"] = []\n",
    "    for xi, yi in zip(*p.exterior.xy):\n",
    "        data[f\"Selection {i + 1}\"] += [{\"X\": xi * p_size, \"Y\": yi * p_size}]\n",
    "    data[f\"Selection {i + 1}\"] = pd.DataFrame(data[f\"Selection {i + 1}\"])\n",
    "data = pd.concat(data, names=[\"Selection\"]).reset_index(1, drop=True)\n",
    "cols = [f\"\", \", \".join(data.reset_index().Selection.unique())]\n",
    "data = pd.concat([pd.DataFrame([[\"\", \"\"]], index=[\n",
    "    \"Areas (µm^2): x\"], columns=cols), pd.DataFrame(data.columns, columns=[\n",
    "        \"Selection\"], index=cols).T, pd.DataFrame(np.array(\n",
    "            data), index=data.index, columns=cols)]).rename_axis(\n",
    "                \"#Selection name: \")  # Explorer format\n",
    "# os.system(\"mv \" + os.path.join(\n",
    "#     out_new, \"coordinates\", \"smc_longitudinal\",\n",
    "#     \"50217A_smc_longitudinal.csv\") + \" \" + os.path.join(\n",
    "#         out_new, \"coordinates\", \"smc_longitudinal\",\n",
    "#         \"50217A_smc_longitudinal_old.csv\"))\n",
    "# data.to_csv(os.path.join(out_new, \"coordinates\", \"smc_longitudinal\",\n",
    "#                          \"50217A_smc_longitudinal.csv\"))\n",
    "\n",
    "data = {}\n",
    "for i, p in enumerate(muc.geoms):  # Handle each Polygon in MultiPolygon\n",
    "    data[f\"Selection {i + 1}\"] = []\n",
    "    for xi, yi in zip(*p.exterior.xy):\n",
    "        data[f\"Selection {i + 1}\"] += [{\"X\": xi * p_size, \"Y\": yi * p_size}]\n",
    "    data[f\"Selection {i + 1}\"] = pd.DataFrame(data[f\"Selection {i + 1}\"])\n",
    "data = pd.concat(data, names=[\"Selection\"]).reset_index(1, drop=True)\n",
    "cols = [f\"\", \", \".join(data.reset_index().Selection.unique())]\n",
    "data = pd.concat([pd.DataFrame([[\"\", \"\"]], index=[\n",
    "    \"Areas (µm^2): x\"], columns=cols), pd.DataFrame(data.columns, columns=[\n",
    "        \"Selection\"], index=cols).T, pd.DataFrame(np.array(\n",
    "            data), index=data.index, columns=cols)]).rename_axis(\n",
    "                \"#Selection name: \")  # Explorer format\n",
    "# os.system(\"mv \" + os.path.join(\n",
    "#     out_new, \"coordinates\", \"mucosa\",\n",
    "#     \"50217A_mucosa.csv\") + \" \" + os.path.join(\n",
    "#         out_new, \"coordinates\", \"mucosa\", \"50217A_mucosa_old.csv\"))\n",
    "# data.to_csv(os.path.join(out_new, \"coordinates\", \"mucosa\",\n",
    "#                          \"50217A_mucosa.csv\"))\n",
    "\n",
    "data = {}\n",
    "for i, p in enumerate(icm.geoms):  # Handle each Polygon in MultiPolygon\n",
    "    data[f\"Selection {i + 1}\"] = []\n",
    "    for xi, yi in zip(*p.exterior.xy):\n",
    "        data[f\"Selection {i + 1}\"] += [{\"X\": xi * p_size, \"Y\": yi * p_size}]\n",
    "    data[f\"Selection {i + 1}\"] = pd.DataFrame(data[f\"Selection {i + 1}\"])\n",
    "data = pd.concat(data, names=[\"Selection\"]).reset_index(1, drop=True)\n",
    "cols = [f\"\", \", \".join(data.reset_index().Selection.unique())]\n",
    "data = pd.concat([pd.DataFrame([[\"\", \"\"]], index=[\n",
    "    \"Areas (µm^2): x\"], columns=cols), pd.DataFrame(data.columns, columns=[\n",
    "        \"Selection\"], index=cols).T, pd.DataFrame(np.array(\n",
    "            data), index=data.index, columns=cols)]).rename_axis(\n",
    "                \"#Selection name: \")  # Xenium format\n",
    "# os.system(\"mv \" + os.path.join(\n",
    "#     out_new, \"coordinates\", \"smc_circular\",\n",
    "#     \"50217A_smc_circular.csv\") + \" \" + os.path.join(\n",
    "#         out_new, \"coordinates\", \"smc_circular\",\n",
    "#         \"50217A_smc_circular_old.csv\"))\n",
    "# data.to_csv(os.path.join(out_new, \"coordinates\", \"smc_circular\",\n",
    "#                          \"50217A_smc_circular.csv\"))\n",
    "\n",
    "data = {}\n",
    "for i, p in enumerate(sub.geoms):  # Handle each Polygon in MultiPolygon\n",
    "    data[f\"Selection {i + 1}\"] = []\n",
    "    for xi, yi in zip(*p.exterior.xy):\n",
    "        data[f\"Selection {i + 1}\"] += [{\"X\": xi * p_size, \"Y\": yi * p_size}]\n",
    "    data[f\"Selection {i + 1}\"] = pd.DataFrame(data[f\"Selection {i + 1}\"])\n",
    "data = pd.concat(data, names=[\"Selection\"]).reset_index(1, drop=True)\n",
    "cols = [f\"\", \", \".join(data.reset_index().Selection.unique())]\n",
    "data = pd.concat([pd.DataFrame([[\"\", \"\"]], index=[\n",
    "    \"Areas (µm^2): x\"], columns=cols), pd.DataFrame(data.columns, columns=[\n",
    "        \"Selection\"], index=cols).T, pd.DataFrame(np.array(\n",
    "            data), index=data.index, columns=cols)]).rename_axis(\n",
    "                \"#Selection name: \")  # Explorer format\n",
    "# os.system(\"mv \" + os.path.join(\n",
    "#     out_new, \"coordinates\", \"submucosa\",\n",
    "#     \"50217A_submucosa.csv\") + \" \" + os.path.join(\n",
    "#         out_new, \"coordinates\", \"submucosa\",\n",
    "#         \"50217A_submucosa_old.csv\"))\n",
    "# data.to_csv(os.path.join(out_new, \"coordinates\", \"submucosa\",\n",
    "#                          \"50217A_submucosa.csv\"))\n",
    "\n",
    "\n",
    "# Example if Not MultiPolygon\n",
    "# data = {}\n",
    "# for i, p in enumerate(coords.boundary.geoms):\n",
    "#     data[f\"Selection {i + 1}\"] = []\n",
    "#     for xi, yi in zip(*p.xy):\n",
    "#         data[f\"Selection {i + 1}\"] += [{\"X\": xi * p_size, \"Y\": yi * p_size}]\n",
    "#     data[f\"Selection {i + 1}\"] = pd.DataFrame(data[f\"Selection {i + 1}\"])\n",
    "# data = pd.concat(data, names=[\"Selection\"]).reset_index(1, drop=True)\n",
    "# cols = [f\"\", \", \".join(data.reset_index().Selection.unique())]\n",
    "# data = pd.concat([pd.DataFrame([[\"\", \"\"]], index=[\n",
    "#     \"Areas (µm^2): x\"], columns=cols), pd.DataFrame(data.columns, columns=[\n",
    "#         \"Selection\"], index=cols).T, pd.DataFrame(np.array(\n",
    "#             data), index=data.index, columns=cols)]).rename_axis(\n",
    "#                 \"#Selection name: \")  # Explorer format\n",
    "\n",
    "# Or\n",
    "# data = pd.DataFrame(coords.boundary.xy, index=[\"X\", \"Y\"]).T.assign(\n",
    "#     Selection=\"Selection 1\").set_index(\"Selection\")\n",
    "# cols = [f\"\", \", \".join(data.reset_index().Selection.unique())]\n",
    "# data = pd.concat([pd.DataFrame([[\"\", \"\"]], index=[\n",
    "#     \"Areas (µm^2): x\"], columns=cols), pd.DataFrame(data.columns, columns=[\n",
    "#         \"Selection\"], index=cols).T, pd.DataFrame(np.array(\n",
    "#             data), index=data.index, columns=cols)]).rename_axis(\n",
    "#                 \"#Selection name: \")  # Explorer format"
   ]
  },
  {
   "cell_type": "code",
   "execution_count": 74,
   "metadata": {},
   "outputs": [
    {
     "data": {
      "text/plain": [
       "(array('d', [6607.482352941176, 999.9058823529411, 0.0, 0.0, 194.68235294117648, 2351.4823529411765, 5629.7411764705885, 6607.482352941176, 8045.317647058824, 9425.64705882353, 10000.800000000001, 11553.69411764706, 15867.2, 17333.83529411765, 18110.25882352941, 18196.517647058827, 18225.270588235293, 19749.41176470588, 26536.04705882353, 26622.30588235294, 26794.870588235295, 32862.58823529412, 34846.77647058824, 36054.58823529412, 38815.24705882353, 39217.83529411765, 39562.91764705883, 38815.24705882353, 38268.89411764706, 35191.858823529416, 33207.6705882353, 30331.95294117647, 28376.470588235294, 25472.047058823533, 24494.305882352943, 24408.04705882353, 19404.329411764706, 19318.070588235296, 19289.317647058822, 19203.011764705883, 16643.670588235294, 8390.4, 7728.988235294119, 6032.329411764706, 6607.482352941176]),\n",
       " array('d', [1370.9176470588236, 4677.976470588235, 10601.929411764706, 14886.682352941178, 17216.0, 20292.98823529412, 20638.070588235296, 21328.235294117647, 22852.376470588235, 23542.54117647059, 23571.29411764706, 23571.29411764706, 23456.282352941176, 22938.63529411765, 22823.62352941177, 22766.117647058825, 22766.117647058825, 23858.870588235295, 23369.976470588237, 23369.976470588237, 23369.976470588237, 22593.552941176473, 21960.894117647058, 21328.235294117647, 16468.329411764706, 16008.235294117647, 14167.764705882353, 11033.270588235295, 8272.611764705884, 3757.7411764705885, 3010.070588235294, 2204.894117647059, 1342.1647058823528, 1284.6588235294118, 1284.6588235294118, 1313.4117647058824, 1773.5529411764705, 1773.5529411764705, 1773.5529411764705, 1802.3058823529414, 2003.5764705882352, -124.42352941176472, 19.341176470588238, 163.1529411764706, 1370.9176470588236]))"
      ]
     },
     "execution_count": 74,
     "metadata": {},
     "output_type": "execute_result"
    }
   ],
   "source": [
    "muc.boundary.geoms[0].xy"
   ]
  },
  {
   "cell_type": "code",
   "execution_count": 64,
   "metadata": {},
   "outputs": [
    {
     "data": {
      "text/plain": [
       "['__and__',\n",
       " '__bool__',\n",
       " '__class__',\n",
       " '__delattr__',\n",
       " '__dir__',\n",
       " '__doc__',\n",
       " '__eq__',\n",
       " '__format__',\n",
       " '__ge__',\n",
       " '__geo_interface__',\n",
       " '__getattribute__',\n",
       " '__gt__',\n",
       " '__hash__',\n",
       " '__init__',\n",
       " '__init_subclass__',\n",
       " '__le__',\n",
       " '__lt__',\n",
       " '__module__',\n",
       " '__ne__',\n",
       " '__new__',\n",
       " '__nonzero__',\n",
       " '__or__',\n",
       " '__reduce__',\n",
       " '__reduce_ex__',\n",
       " '__repr__',\n",
       " '__setattr__',\n",
       " '__setstate__',\n",
       " '__sizeof__',\n",
       " '__slots__',\n",
       " '__str__',\n",
       " '__sub__',\n",
       " '__subclasshook__',\n",
       " '__xor__',\n",
       " '_geom',\n",
       " '_geom_prepared',\n",
       " '_ndim',\n",
       " '_repr_svg_',\n",
       " 'almost_equals',\n",
       " 'area',\n",
       " 'boundary',\n",
       " 'bounds',\n",
       " 'buffer',\n",
       " 'centroid',\n",
       " 'contains',\n",
       " 'contains_properly',\n",
       " 'convex_hull',\n",
       " 'coords',\n",
       " 'covered_by',\n",
       " 'covers',\n",
       " 'crosses',\n",
       " 'difference',\n",
       " 'disjoint',\n",
       " 'distance',\n",
       " 'dwithin',\n",
       " 'envelope',\n",
       " 'equals',\n",
       " 'equals_exact',\n",
       " 'geom_type',\n",
       " 'geometryType',\n",
       " 'geoms',\n",
       " 'has_z',\n",
       " 'hausdorff_distance',\n",
       " 'interpolate',\n",
       " 'intersection',\n",
       " 'intersects',\n",
       " 'is_closed',\n",
       " 'is_empty',\n",
       " 'is_ring',\n",
       " 'is_simple',\n",
       " 'is_valid',\n",
       " 'length',\n",
       " 'line_interpolate_point',\n",
       " 'line_locate_point',\n",
       " 'minimum_clearance',\n",
       " 'minimum_rotated_rectangle',\n",
       " 'normalize',\n",
       " 'oriented_envelope',\n",
       " 'overlaps',\n",
       " 'point_on_surface',\n",
       " 'project',\n",
       " 'relate',\n",
       " 'relate_pattern',\n",
       " 'representative_point',\n",
       " 'reverse',\n",
       " 'segmentize',\n",
       " 'simplify',\n",
       " 'svg',\n",
       " 'symmetric_difference',\n",
       " 'touches',\n",
       " 'type',\n",
       " 'union',\n",
       " 'within',\n",
       " 'wkb',\n",
       " 'wkb_hex',\n",
       " 'wkt',\n",
       " 'xy']"
      ]
     },
     "execution_count": 64,
     "metadata": {},
     "output_type": "execute_result"
    }
   ],
   "source": [
    "dir(muc)"
   ]
  },
  {
   "cell_type": "code",
   "execution_count": 171,
   "metadata": {},
   "outputs": [
    {
     "ename": "AttributeError",
     "evalue": "'Polygon' object has no attribute 'geoms'",
     "output_type": "error",
     "traceback": [
      "\u001b[0;31m---------------------------------------------------------------------------\u001b[0m",
      "\u001b[0;31mAttributeError\u001b[0m                            Traceback (most recent call last)",
      "Cell \u001b[0;32mIn[171], line 2\u001b[0m\n\u001b[1;32m      1\u001b[0m data \u001b[38;5;241m=\u001b[39m {}\n\u001b[0;32m----> 2\u001b[0m \u001b[38;5;28;01mfor\u001b[39;00m i, p \u001b[38;5;129;01min\u001b[39;00m \u001b[38;5;28menumerate\u001b[39m(\u001b[43mmmm\u001b[49m\u001b[38;5;241;43m.\u001b[39;49m\u001b[43mgeoms\u001b[49m):  \u001b[38;5;66;03m# Handle each Polygon in MultiPolygon\u001b[39;00m\n\u001b[1;32m      3\u001b[0m     data[\u001b[38;5;124mf\u001b[39m\u001b[38;5;124m\"\u001b[39m\u001b[38;5;124mSelection \u001b[39m\u001b[38;5;132;01m{\u001b[39;00mi\u001b[38;5;250m \u001b[39m\u001b[38;5;241m+\u001b[39m\u001b[38;5;250m \u001b[39m\u001b[38;5;241m1\u001b[39m\u001b[38;5;132;01m}\u001b[39;00m\u001b[38;5;124m\"\u001b[39m] \u001b[38;5;241m=\u001b[39m []\n\u001b[1;32m      4\u001b[0m     \u001b[38;5;28;01mfor\u001b[39;00m xi, yi \u001b[38;5;129;01min\u001b[39;00m \u001b[38;5;28mzip\u001b[39m(\u001b[38;5;241m*\u001b[39mp\u001b[38;5;241m.\u001b[39mexterior\u001b[38;5;241m.\u001b[39mxy):\n",
      "\u001b[0;31mAttributeError\u001b[0m: 'Polygon' object has no attribute 'geoms'"
     ]
    }
   ],
   "source": [
    "\n",
    "data = {}\n",
    "for i, p in enumerate(mmm.geoms):  # Handle each Polygon in MultiPolygon\n",
    "    data[f\"Selection {i + 1}\"] = []\n",
    "    for xi, yi in zip(*p.exterior.xy):\n",
    "        data[f\"Selection {i + 1}\"] += [{\"X\": xi * p_size, \"Y\": yi * p_size}]\n",
    "    data[f\"Selection {i + 1}\"] = pd.DataFrame(data[f\"Selection {i + 1}\"])\n",
    "data = pd.concat(data, names=[\"Selection\"]).reset_index(1, drop=True)\n",
    "cols = [f\"\", \", \".join(data.reset_index().Selection.unique())]\n",
    "data = pd.concat([pd.DataFrame([[\"\", \"\"]], index=[\n",
    "    \"Areas (µm^2): x\"], columns=cols), pd.DataFrame(data.columns, columns=[\n",
    "        \"Selection\"], index=cols).T, pd.DataFrame(np.array(\n",
    "            data), index=data.index, columns=cols)]).rename_axis(\n",
    "                \"#Selection name: \")  # Xenium format\n",
    "\n",
    "\n",
    "print(data)\n",
    "data.to_csv(\"/mnt/cho_lab/disk2/elizabeth/data/shared-xenium-library/outputs/TUQ97N/nebraska/coordinates/mucosa/50217B_mucosa.csv\")\n",
    "cr.pp.xenium_explorer_selection(\n",
    "                        \"/mnt/cho_lab/disk2/elizabeth/data/shared-xenium-library/outputs/TUQ97N/nebraska/coordinates/mucosa/50217B_mucosa.csv\", as_list=False)"
   ]
  },
  {
   "cell_type": "code",
   "execution_count": 165,
   "metadata": {},
   "outputs": [
    {
     "data": {
      "image/svg+xml": [
       "<svg xmlns=\"http://www.w3.org/2000/svg\" xmlns:xlink=\"http://www.w3.org/1999/xlink\" width=\"300\" height=\"300\" viewBox=\"25359.75905882353 8325.312 8262.834823529414 10323.681882352941\" preserveAspectRatio=\"xMinYMin meet\"><g transform=\"matrix(1,0,0,-1,0,26974.305882352943)\"><path fill-rule=\"evenodd\" fill=\"#66cc99\" stroke=\"#555555\" stroke-width=\"68.82454588235294\" opacity=\"0.6\" d=\"M 31931.868228090774,16418.14831466866 L 31860.188235294117,16444.988235294117 L 31823.38823529412,16518.58823529412 L 31786.588235294115,16564.61176470588 L 31667.011764705883,16628.988235294117 L 31657.788235294116,16628.988235294117 L 31593.411764705885,16656.611764705885 L 31372.611764705885,16776.235294117647 L 31335.811764705883,16803.811764705883 L 31115.01176470588,16987.811764705883 L 30949.411764705885,17079.811764705883 L 30765.41176470588,17227.011764705883 L 30756.188235294117,17227.011764705883 L 30572.188235294117,17300.61176470588 L 30553.78823529412,17300.61176470588 L 30498.58823529412,17300.61176470588 L 30470.964705882354,17291.435294117648 L 30434.164705882355,17291.435294117648 L 30102.964705882354,17411.011764705883 L 30084.564705882356,17420.235294117647 L 29983.38823529412,17466.211764705884 L 29863.764705882353,17512.235294117647 L 29532.564705882352,17622.63529411765 L 29514.164705882355,17631.811764705883 L 29495.764705882357,17631.811764705883 L 29458.964705882354,17650.211764705884 L 29422.164705882355,17687.011764705883 L 29385.364705882355,17705.41176470589 L 29320.941176470587,17760.61176470588 L 29265.74117647059,17797.41176470588 L 29081.74117647059,17981.45882352941 L 28998.964705882354,18082.63529411765 L 28925.364705882355,18128.65882352941 L 28842.54117647059,18193.035294117646 L 28630.964705882354,18266.63529411765 L 28557.36470588235,18220.65882352941 L 28520.564705882352,18174.63529411765 L 28143.34117647059,18082.63529411765 L 28106.54117647059,18073.458823529414 L 27922.54117647059,18045.835294117645 L 27747.717647058827,18082.63529411765 L 27186.54117647059,18137.83529411765 L 26864.517647058823,18110.25882352941 L 26478.117647058825,18018.258823529413 L 26395.29411764706,18027.435294117648 L 26165.317647058826,18055.058823529413 L 25880.094117647062,18027.435294117648 L 25852.517647058823,17999.858823529412 L 25769.69411764706,17797.41176470588 L 25742.11764705882,17696.235294117647 L 25742.11764705882,17613.41176470588 L 25760.517647058823,17374.211764705884 L 25797.317647058826,17309.83529411765 L 25907.717647058827,16978.63529411765 L 25916.89411764706,16941.835294117645 L 25926.117647058825,16748.61176470588 L 25944.517647058823,16628.988235294117 L 25944.517647058823,16619.811764705883 L 25944.517647058823,16610.58823529412 L 25990.494117647057,16491.011764705883 L 25990.494117647057,16426.58823529412 L 26008.89411764706,16297.78823529412 L 25999.717647058824,16141.411764705883 L 25999.717647058824,15902.211764705882 L 27158.917647058825,16564.61176470588 L 27250.917647058825,16546.211764705884 L 27480.941176470587,16417.41176470588 L 27582.11764705882,16325.411764705883 L 27766.117647058825,16012.611764705882 L 27821.317647058822,15948.188235294117 L 27876.517647058827,15883.811764705883 L 27894.917647058825,15856.188235294117 L 27959.34117647059,15800.988235294119 L 27968.517647058827,15791.811764705884 L 28456.14117647059,15386.964705882354 L 28548.141176470588,15212.18823529412 L 28594.164705882355,14880.988235294119 L 28594.164705882355,14862.588235294119 L 28713.74117647059,14724.564705882352 L 28778.16470588235,14724.564705882352 L 28870.164705882355,14696.988235294119 L 28833.364705882355,14549.788235294118 L 28603.34117647059,14144.94117647059 L 27848.941176470587,13197.364705882354 L 27830.54117647059,13169.741176470588 L 27683.34117647059,12994.917647058825 L 27582.11764705882,12893.741176470588 L 27554.54117647059,12847.717647058824 L 27398.117647058825,12691.341176470587 L 27306.117647058825,12534.917647058825 L 27296.94117647059,12488.94117647059 L 27361.317647058822,11982.917647058823 L 27480.941176470587,11651.717647058822 L 27876.517647058827,11191.717647058822 L 27968.517647058827,11081.317647058824 L 27996.14117647059,11026.117647058825 L 28005.317647058826,11016.89411764706 L 28023.717647058824,10934.117647058823 L 28032.941176470587,10796.094117647059 L 28042.11764705882,10648.894117647058 L 28069.741176470587,10602.917647058823 L 28170.917647058825,10501.69411764706 L 28290.54117647059,10418.870588235295 L 28299.764705882353,10418.870588235295 L 28308.941176470587,10418.870588235295 L 28336.564705882356,10400.470588235294 L 28446.96470588235,10354.494117647058 L 28971.34117647059,10225.69411764706 L 29127.764705882353,10225.69411764706 L 29136.94117647059,10225.69411764706 L 29173.74117647059,10225.69411764706 L 29357.74117647059,10225.69411764706 L 29578.58823529412,10188.894117647058 L 29716.564705882356,10161.270588235295 L 29900.564705882352,10142.870588235295 L 29928.188235294117,10142.870588235295 L 29983.38823529412,10179.670588235294 L 30102.964705882354,10262.49411764706 L 30167.38823529412,10290.070588235294 L 30332.98823529412,10372.894117647058 L 30434.164705882355,10400.470588235294 L 30700.98823529412,10418.870588235295 L 31004.61176470588,10437.270588235295 L 31078.211764705884,10400.470588235294 L 31142.58823529412,10345.270588235295 L 31225.41176470588,10262.49411764706 L 31289.78823529412,10133.69411764706 L 31280.611764705885,10050.870588235293 L 31262.211764705884,9830.070588235294 L 31059.811764705883,9397.69411764706 L 31032.188235294117,9370.070588235294 L 30829.78823529412,9176.847058823529 L 30802.211764705884,8974.447058823529 L 30884.98823529412,8873.270588235295 L 31032.188235294117,8735.24705882353 L 31188.61176470588,8707.670588235294 L 31280.611764705885,8726.070588235294 L 31409.411764705885,8781.270588235295 L 31611.811764705883,8808.84705882353 L 31620.98823529412,8808.84705882353 L 31648.61176470588,8818.070588235294 L 31722.211764705884,8836.470588235294 L 31795.811764705883,8974.447058823529 L 31841.78823529412,9075.670588235294 L 31869.411764705885,9112.470588235296 L 32127.011764705883,9278.070588235294 L 32191.435294117648,9333.270588235295 L 32237.41176470588,9425.270588235293 L 32301.83529411765,9489.69411764706 L 32357.035294117646,9526.49411764706 L 32449.03529411765,9701.270588235295 L 32504.235294117647,9765.69411764706 L 32633.03529411765,9995.670588235294 L 32688.235294117647,10078.494117647058 L 32807.81176470588,10253.270588235295 L 32872.23529411765,10372.894117647058 L 32872.23529411765,10400.470588235294 L 32817.035294117646,10713.317647058824 L 32826.211764705884,10915.717647058824 L 33001.035294117646,11292.894117647058 L 33175.858823529416,11752.894117647058 L 33212.65882352941,11955.341176470589 L 33240.23529411765,12231.341176470587 L 33231.05882352941,12608.517647058823 L 33175.858823529416,12838.54117647059 L 32955.01176470588,13261.741176470588 L 32945.83529411765,13270.964705882352 L 32881.41176470588,13721.741176470588 L 32872.23529411765,13859.764705882353 L 32927.43529411765,13997.741176470588 L 32918.211764705884,14319.764705882353 L 32909.035294117646,14522.164705882353 L 32899.81176470588,14586.588235294119 L 32890.63529411765,14936.188235294117 L 32789.41176470588,15230.588235294119 L 32789.41176470588,15239.764705882353 L 32761.83529411765,15258.164705882355 L 32679.011764705883,15313.364705882354 L 32384.61176470588,15304.188235294117 L 32366.21176470588,15313.364705882354 L 32347.811764705883,15313.364705882354 L 32301.83529411765,15331.764705882353 L 32274.211764705884,15368.564705882354 L 32228.235294117647,15506.588235294119 L 32154.635294117645,15616.988235294119 L 32117.83529411765,15672.18823529412 L 31924.61176470588,15911.388235294118 L 31915.435294117648,15920.611764705884 L 31906.21176470588,15920.611764705884 L 31906.21176470588,15929.788235294118 L 31906.21176470588,15939.011764705883 L 31924.61176470588,15957.411764705881 L 31933.835294117645,16040.188235294117 L 31943.011764705883,16307.011764705881 L 31943.011764705883,16316.188235294117 L 31943.011764705883,16325.411764705883 L 31924.61176470588,16343.811764705883 L 31924.61176470588,16352.988235294119 L 31931.868228090774,16418.14831466866 z\" /></g></svg>"
      ],
      "text/plain": [
       "<POLYGON ((31931.868 16418.148, 31860.188 16444.988, 31823.388 16518.588, 31...>"
      ]
     },
     "execution_count": 165,
     "metadata": {},
     "output_type": "execute_result"
    }
   ],
   "source": [
    "new.geoms[3]"
   ]
  },
  {
   "cell_type": "code",
   "execution_count": 169,
   "metadata": {},
   "outputs": [],
   "source": [
    "mmm = shapely.validation.make_valid(new.geoms[0].difference(shapely.validation.make_valid(new.geoms[2]))).difference(shapely.validation.make_valid(new.geoms[3]))"
   ]
  },
  {
   "cell_type": "code",
   "execution_count": 170,
   "metadata": {},
   "outputs": [
    {
     "name": "stdout",
     "output_type": "stream",
     "text": [
      "                               Selection 1, Selection 2, Selection 3\n",
      "#Selection name:                                                    \n",
      "Areas (µm^2): x                                                     \n",
      "Selection                    X                                     Y\n",
      "Selection 1                0.0                               2252.91\n",
      "Selection 1                0.0                               3163.42\n",
      "Selection 1              41.37                                3658.4\n",
      "...                        ...                                   ...\n",
      "Selection 3            6787.89                               3469.15\n",
      "Selection 3            6783.98                               3473.06\n",
      "Selection 3            6783.98                               3475.01\n",
      "Selection 3        6785.521998                           3488.856517\n",
      "Selection 3            6770.29                               3494.56\n",
      "\n",
      "[535 rows x 2 columns]\n"
     ]
    },
    {
     "data": {
      "image/svg+xml": [
       "<svg xmlns=\"http://www.w3.org/2000/svg\" xmlns:xlink=\"http://www.w3.org/1999/xlink\" width=\"300\" height=\"300\" viewBox=\"-1582.516705882353 -1706.9402352941179 42727.95105882353 27148.327529411767\" preserveAspectRatio=\"xMinYMin meet\"><g transform=\"matrix(1,0,0,-1,0,23734.44705882353)\"><g><path fill-rule=\"evenodd\" fill=\"#ff3333\" stroke=\"#555555\" stroke-width=\"284.8530070588235\" opacity=\"0.6\" d=\"M 0.0,10601.929411764706 L 0.0,14886.682352941178 L 194.68235294117648,17216.0 L 2351.4823529411765,20292.98823529412 L 5629.7411764705885,20638.070588235296 L 6607.482352941176,21328.235294117647 L 8045.317647058824,22852.376470588235 L 9425.64705882353,23542.54117647059 L 10000.800000000001,23571.29411764706 L 11553.69411764706,23571.29411764706 L 15867.2,23456.282352941176 L 17333.835294117653,22938.63529411765 L 18110.25882352941,22823.62352941177 L 18196.517647058827,22766.117647058825 L 18225.270588235293,22766.117647058825 L 19749.41176470588,23858.870588235295 L 26536.04705882353,23369.976470588237 L 26622.30588235294,23369.976470588237 L 26794.870588235295,23369.976470588237 L 32862.58823529412,22593.552941176473 L 34846.77647058824,21960.894117647058 L 36054.58823529412,21328.235294117647 L 38815.24705882353,16468.329411764706 L 39217.83529411765,16008.235294117647 L 39562.91764705883,14167.764705882353 L 38815.24705882353,11033.270588235295 L 38268.89411764706,8272.611764705884 L 35191.858823529416,3757.7411764705885 L 33207.6705882353,3010.070588235294 L 30331.95294117647,2204.894117647059 L 28376.470588235294,1342.1647058823528 L 25472.047058823533,1284.6588235294118 L 24494.305882352943,1284.6588235294118 L 24408.04705882353,1313.4117647058824 L 19404.329411764706,1773.5529411764705 L 19318.070588235296,1773.5529411764705 L 19289.317647058822,1773.5529411764705 L 19203.011764705883,1802.3058823529414 L 16643.670588235294,2003.5764705882352 L 8390.4,-124.42352941176472 L 7728.988235294119,19.341176470588238 L 6032.329411764706,163.1529411764706 L 6607.482352941176,1370.9176470588236 L 999.9058823529411,4677.976470588235 L 0.0,10601.929411764706 z\" /><path fill-rule=\"evenodd\" fill=\"#ff3333\" stroke=\"#555555\" stroke-width=\"284.8530070588235\" opacity=\"0.6\" d=\"M 6927.717647058824,12212.94117647059 L 6936.941176470588,12093.317647058824 L 6918.541176470589,12084.14117647059 L 6780.517647058823,11835.717647058824 L 6697.7411764705885,11670.117647058823 L 6716.141176470589,11568.894117647058 L 6725.317647058824,11532.09411764706 L 6798.917647058824,11357.317647058822 L 6835.717647058823,11246.917647058823 L 6863.341176470589,11108.894117647058 L 6872.517647058824,11053.69411764706 L 6918.541176470589,10934.117647058823 L 6946.117647058823,10878.917647058825 L 7028.941176470589,10777.694117647061 L 7102.541176470589,10713.317647058824 L 7130.117647058824,10685.69411764706 L 7341.741176470588,10308.470588235296 L 7387.764705882353,10216.470588235294 L 7387.764705882353,10198.070588235296 L 7424.564705882353,10078.494117647058 L 7424.564705882353,10069.270588235293 L 7424.564705882353,10014.070588235294 L 7433.7411764705885,9995.670588235294 L 7488.941176470589,9922.070588235294 L 7498.164705882353,9903.670588235294 L 7682.164705882354,9784.094117647059 L 7691.341176470589,9774.870588235293 L 7930.541176470589,9664.470588235294 L 8114.541176470588,9627.670588235294 L 8132.941176470588,9618.49411764706 L 8399.764705882353,9452.89411764706 L 8427.341176470589,9388.470588235294 L 8546.964705882354,9268.84705882353 L 8638.964705882354,9195.24705882353 L 8666.588235294119,9176.847058823529 L 8740.188235294117,9112.470588235296 L 8887.388235294118,9029.64705882353 L 8905.788235294118,9029.64705882353 L 9117.364705882354,8965.270588235293 L 9246.164705882353,8910.070588235294 L 9328.988235294119,8900.84705882353 L 9328.988235294119,8891.670588235294 L 9945.411764705883,8726.070588235294 L 10101.788235294118,8707.670588235294 L 10479.011764705883,8578.870588235295 L 10488.188235294117,8578.870588235295 L 10469.788235294118,8643.24705882353 L 10442.211764705882,8680.04705882353 L 10589.411764705883,8670.870588235293 L 10616.988235294119,8680.04705882353 L 11169.035294117648,8606.447058823529 L 11233.411764705883,8588.04705882353 L 11288.611764705882,8578.870588235295 L 11426.635294117646,8597.270588235295 L 11445.035294117648,8597.270588235295 L 11454.211764705882,8597.270588235295 L 11785.411764705883,8661.64705882353 L 12171.858823529412,8716.847058823529 L 12291.435294117646,8716.847058823529 L 12429.458823529412,8744.470588235294 L 12457.035294117646,8744.470588235294 L 12622.635294117646,8808.84705882353 L 12760.658823529411,8808.84705882353 L 12834.258823529413,8836.470588235294 L 13073.458823529412,8919.24705882353 L 13147.058823529413,8937.64705882353 L 13349.458823529412,8983.670588235294 L 13579.482352941177,9029.64705882353 L 13625.458823529412,9048.04705882353 L 14186.682352941178,9140.04705882353 L 14343.058823529413,9195.24705882353 L 14407.482352941177,9213.64705882353 L 14720.282352941176,9222.870588235293 L 14729.505882352942,9232.04705882353 L 14747.905882352941,9241.270588235295 L 14821.505882352942,9241.270588235295 L 14904.282352941176,9250.447058823529 L 15447.105882352942,9222.870588235293 L 15511.482352941177,9241.270588235295 L 15603.482352941175,9278.070588235294 L 15787.482352941177,9333.270588235295 L 16201.505882352942,9526.49411764706 L 16385.505882352943,9664.470588235294 L 16422.30588235294,9682.870588235295 L 16661.505882352943,9738.070588235296 L 16891.529411764706,9747.29411764706 L 17204.329411764706,9940.470588235294 L 17563.15294117647,10115.29411764706 L 17802.352941176472,10225.69411764706 L 17811.529411764706,10234.870588235293 L 18013.92941176471,10336.094117647059 L 18271.529411764706,10400.470588235294 L 18372.75294117647,10400.470588235294 L 18446.352941176472,10418.870588235295 L 18547.576470588236,10474.070588235294 L 18694.776470588236,10547.717647058824 L 18786.776470588236,10593.69411764706 L 18805.176470588234,10593.69411764706 L 18823.576470588236,10593.69411764706 L 18841.976470588237,10593.69411764706 L 18933.976470588233,10612.09411764706 L 18989.176470588234,10685.69411764706 L 19154.776470588236,10897.317647058822 L 19421.55294117647,11173.317647058824 L 19430.776470588236,11210.117647058823 L 19504.37647058824,11384.89411764706 L 19568.8,11440.094117647059 L 19761.976470588237,11578.117647058823 L 19881.600000000002,11688.517647058823 L 19945.976470588237,11771.29411764706 L 19945.976470588237,11771.623529411763 L 20043.764705882353,11771.623529411763 L 20159.058823529413,11836.800000000001 L 20202.494117647057,11860.188235294117 L 20339.529411764706,12008.894117647058 L 20389.64705882353,12079.105882352942 L 20400.03656509695,12090.439889196674 L 20544.000000000004,12176.141176470588 L 20994.823529411762,12222.117647058823 L 21077.6,12240.517647058825 L 21224.800000000003,12295.717647058824 L 21234.023529411763,12295.717647058824 L 21537.6,12452.141176470588 L 22052.84705882353,12709.741176470588 L 22328.847058823532,12737.317647058822 L 22338.023529411767,12737.317647058822 L 22347.24705882353,12728.141176470588 L 22365.647058823528,12728.141176470588 L 22430.023529411767,12728.141176470588 L 22466.823529411766,12700.517647058825 L 22485.223529411764,12682.117647058823 L 22503.62352941177,12682.117647058823 L 22512.84705882353,12682.117647058823 L 22522.023529411767,12682.117647058823 L 22715.24705882353,12737.317647058822 L 22742.823529411766,12737.317647058822 L 22752.047058823533,12737.317647058822 L 23350.070588235296,12820.14117647059 L 23322.44705882353,12856.941176470587 L 23230.44705882353,12902.917647058823 L 23083.247058823526,12994.917647058825 L 22982.023529411767,13050.164705882353 L 22200.04705882353,13105.364705882354 L 20827.714641122115,12854.177223035495 L 20792.329411764706,12902.823529411764 L 20697.08235294118,13028.141176470588 L 20677.035294117646,13043.199999999999 L 20598.49411764706,13100.0 L 20595.15294117647,13101.64705882353 L 20573.45882352941,13111.670588235294 L 20438.117647058825,13160.14117647059 L 20314.447058823527,13168.470588235296 L 20301.082352941175,13168.470588235296 L 20018.729411764703,13115.011764705883 L 19945.176470588238,13096.658823529411 L 19806.49411764706,13061.552941176471 L 19729.64705882353,13038.164705882355 L 19684.564705882356,13024.800000000001 L 19642.776470588236,12994.729411764707 L 19632.75294117647,12989.69411764706 L 19577.6,12961.317647058824 L 19462.30588235294,12894.44705882353 L 19437.270588235297,12871.05882352941 L 19407.2,12842.682352941178 L 19353.694117647057,12802.588235294119 L 19330.30588235294,12790.870588235293 L 19113.08235294118,12704.0 L 19101.411764705885,12685.6 L 19078.023529411767,12612.09411764706 L 19055.438954693192,12555.455424262347 L 18989.176470588234,12479.717647058824 L 18823.576470588236,12157.741176470588 L 18759.15294117647,12074.917647058825 L 17921.929411764704,11642.49411764706 L 17802.352941176472,11568.894117647058 L 17461.929411764704,11467.717647058824 L 17112.329411764706,11440.094117647059 L 16845.505882352943,11412.517647058823 L 16514.305882352943,11375.717647058824 L 15989.929411764708,11375.717647058824 L 15336.705882352942,11440.094117647059 L 15171.105882352942,11467.717647058824 L 15143.482352941175,11467.717647058824 L 13846.258823529412,11863.341176470589 L 13607.058823529413,12038.117647058823 L 13413.882352941177,12258.917647058825 L 13404.658823529411,12258.917647058825 L 13386.258823529412,12268.141176470588 L 13358.635294117648,12268.141176470588 L 13165.458823529412,12277.317647058822 L 13091.858823529412,12277.317647058822 L 12659.435294117648,12590.117647058823 L 12779.058823529413,12902.917647058823 L 12834.258823529413,13004.14117647059 L 13229.835294117647,13546.964705882354 L 13193.035294117648,13694.164705882355 L 13137.835294117647,13878.164705882355 L 13073.458823529412,14052.94117647059 L 12990.635294117648,14227.764705882353 L 12898.635294117648,14494.588235294117 L 12852.658823529413,14586.588235294119 L 12696.235294117647,14926.964705882354 L 12061.411764705883,15727.388235294118 L 11849.835294117647,15929.788235294118 L 11757.835294117647,16168.988235294117 L 11840.611764705884,16242.588235294119 L 11969.411764705883,16242.588235294119 L 11895.811764705883,16472.61176470588 L 11905.035294117648,16932.61176470588 L 11905.035294117648,16960.235294117647 L 11905.035294117648,16978.63529411765 L 12052.235294117647,17558.211764705884 L 12098.211764705882,17687.011764705883 L 12171.858823529412,17806.63529411765 L 12291.435294117646,17953.835294117653 L 12291.435294117646,17963.058823529413 L 12300.658823529411,17990.63529411765 L 12328.235294117647,18018.258823529413 L 12346.635294117646,18045.835294117645 L 12346.635294117646,18064.235294117647 L 12282.258823529412,18156.235294117647 L 11886.635294117646,18294.258823529413 L 11702.635294117646,18340.235294117647 L 11533.68049698961,18404.84836682706 L 11417.411764705881,18542.63529411765 L 11307.375599551677,18519.056115870317 L 11251.811764705884,18561.035294117646 L 11288.611764705882,18524.235294117647 L 11299.431870154036,18517.353888142254 L 11159.811764705883,18487.435294117648 L 10929.835294117647,18579.435294117648 L 10800.988235294119,18671.435294117648 L 10690.588235294117,18754.258823529413 L 10598.588235294117,18809.458823529414 L 10524.988235294119,18846.258823529413 L 10506.588235294119,18846.258823529413 L 10451.388235294118,18818.63529411765 L 10414.588235294117,18772.65882352941 L 10239.811764705883,18570.25882352941 L 10184.611764705882,18423.058823529413 L 9954.588235294117,17687.011764705883 L 9917.78823529412,17585.835294117645 L 9890.211764705882,17521.411764705885 L 9696.988235294119,17585.835294117645 L 9632.564705882354,17613.41176470588 L 9512.988235294119,17604.235294117647 L 9457.788235294118,17613.41176470588 L 9384.188235294117,17613.41176470588 L 9301.364705882354,17631.811764705883 L 9227.764705882353,17641.035294117646 L 9190.964705882352,17650.211764705884 L 9126.588235294119,17604.235294117647 L 9117.364705882354,17595.011764705883 L 8914.964705882354,17024.61176470588 L 8933.364705882354,16868.235294117647 L 8933.364705882354,16757.83529411765 L 8924.188235294117,16693.41176470588 L 8786.164705882353,16343.811764705883 L 8694.164705882353,16113.788235294118 L 8648.188235294117,16003.388235294116 L 8491.764705882353,15755.011764705883 L 8215.764705882353,15304.188235294117 L 8096.141176470589,15037.364705882354 L 8050.164705882354,14945.364705882354 L 7902.964705882354,14660.188235294117 L 7866.164705882353,14558.964705882354 L 7792.564705882353,14356.564705882352 L 7636.141176470589,14144.94117647059 L 7488.941176470589,13896.564705882352 L 7433.7411764705885,13832.141176470588 L 7185.317647058824,13602.164705882353 L 7148.517647058823,13565.364705882354 L 7093.317647058823,13473.364705882354 L 7065.7411764705885,13418.164705882355 L 7056.517647058824,13381.364705882354 L 7047.341176470588,13362.964705882354 L 6946.117647058823,13068.564705882354 L 6826.541176470589,12829.317647058824 L 6798.917647058824,12774.117647058823 L 6771.341176470589,12645.317647058824 L 6798.917647058824,12479.717647058824 L 6798.917647058824,12452.141176470588 L 6817.317647058824,12341.741176470588 L 6817.317647058824,12332.517647058823 L 6798.917647058824,12240.517647058825 L 6808.141176470588,12120.941176470587 L 6805.155466479613,12117.95546647961 L 6927.717647058824,12222.117647058823 L 6927.717647058824,12212.94117647059 z\" /><path fill-rule=\"evenodd\" fill=\"#ff3333\" stroke=\"#555555\" stroke-width=\"284.8530070588235\" opacity=\"0.6\" d=\"M 31860.188235294117,16444.988235294117 L 31823.38823529412,16518.58823529412 L 31786.588235294115,16564.61176470588 L 31667.011764705883,16628.988235294117 L 31657.788235294116,16628.988235294117 L 31593.411764705885,16656.611764705885 L 31372.611764705885,16776.235294117647 L 31335.811764705883,16803.811764705883 L 31115.01176470588,16987.811764705883 L 30949.411764705885,17079.811764705883 L 30765.41176470588,17227.011764705883 L 30756.188235294117,17227.011764705883 L 30572.188235294117,17300.61176470588 L 30553.78823529412,17300.61176470588 L 30498.58823529412,17300.61176470588 L 30470.964705882354,17291.435294117648 L 30434.164705882355,17291.435294117648 L 30102.964705882354,17411.011764705883 L 30084.564705882356,17420.235294117647 L 29983.38823529412,17466.211764705884 L 29863.764705882353,17512.235294117647 L 29532.564705882352,17622.63529411765 L 29514.164705882355,17631.811764705883 L 29495.764705882357,17631.811764705883 L 29458.964705882354,17650.211764705884 L 29422.164705882355,17687.011764705883 L 29385.364705882355,17705.41176470589 L 29320.941176470587,17760.61176470588 L 29265.74117647059,17797.41176470588 L 29081.74117647059,17981.45882352941 L 28998.964705882354,18082.63529411765 L 28925.364705882355,18128.65882352941 L 28842.54117647059,18193.035294117646 L 28630.964705882354,18266.63529411765 L 28557.36470588235,18220.65882352941 L 28520.564705882352,18174.63529411765 L 28143.34117647059,18082.63529411765 L 28106.54117647059,18073.458823529414 L 27922.54117647059,18045.835294117645 L 27747.717647058827,18082.63529411765 L 27186.54117647059,18137.83529411765 L 26864.517647058823,18110.25882352941 L 26478.117647058825,18018.258823529413 L 26395.29411764706,18027.435294117648 L 26165.317647058826,18055.058823529413 L 25880.094117647062,18027.435294117648 L 25852.517647058823,17999.858823529412 L 25769.69411764706,17797.41176470588 L 25742.11764705882,17696.235294117647 L 25742.11764705882,17613.41176470588 L 25760.517647058823,17374.211764705884 L 25797.317647058826,17309.83529411765 L 25907.717647058827,16978.63529411765 L 25916.89411764706,16941.835294117645 L 25926.117647058825,16748.61176470588 L 25944.517647058823,16628.988235294117 L 25944.517647058823,16619.811764705883 L 25944.517647058823,16610.58823529412 L 25990.494117647057,16491.011764705883 L 25990.494117647057,16426.58823529412 L 26008.89411764706,16297.78823529412 L 25999.717647058824,16141.411764705883 L 25999.717647058824,15902.211764705882 L 27158.917647058825,16564.61176470588 L 27250.917647058825,16546.211764705884 L 27480.941176470587,16417.41176470588 L 27582.11764705882,16325.411764705883 L 27766.117647058825,16012.611764705882 L 27821.317647058822,15948.188235294117 L 27876.517647058827,15883.811764705883 L 27894.917647058825,15856.188235294117 L 27959.34117647059,15800.988235294119 L 27968.517647058827,15791.811764705884 L 28456.14117647059,15386.964705882354 L 28548.141176470588,15212.18823529412 L 28594.164705882355,14880.988235294119 L 28594.164705882355,14862.588235294119 L 28713.74117647059,14724.564705882352 L 28778.16470588235,14724.564705882352 L 28870.164705882355,14696.988235294119 L 28833.364705882355,14549.788235294118 L 28603.34117647059,14144.94117647059 L 27848.941176470587,13197.364705882354 L 27830.54117647059,13169.741176470588 L 27683.34117647059,12994.917647058825 L 27582.11764705882,12893.741176470588 L 27554.54117647059,12847.717647058824 L 27398.117647058825,12691.341176470587 L 27306.117647058825,12534.917647058825 L 27296.94117647059,12488.94117647059 L 27361.317647058822,11982.917647058823 L 27480.941176470587,11651.717647058822 L 27876.517647058827,11191.717647058822 L 27968.517647058827,11081.317647058824 L 27996.14117647059,11026.117647058825 L 28005.317647058826,11016.89411764706 L 28023.717647058824,10934.117647058823 L 28032.941176470587,10796.094117647059 L 28042.11764705882,10648.894117647058 L 28069.741176470587,10602.917647058823 L 28170.917647058825,10501.69411764706 L 28290.54117647059,10418.870588235295 L 28299.764705882353,10418.870588235295 L 28308.941176470587,10418.870588235295 L 28336.564705882356,10400.470588235294 L 28446.96470588235,10354.494117647058 L 28971.34117647059,10225.69411764706 L 29127.764705882353,10225.69411764706 L 29136.94117647059,10225.69411764706 L 29173.74117647059,10225.69411764706 L 29357.74117647059,10225.69411764706 L 29578.58823529412,10188.894117647058 L 29716.564705882356,10161.270588235295 L 29900.564705882352,10142.870588235295 L 29928.188235294117,10142.870588235295 L 29983.38823529412,10179.670588235294 L 30102.964705882354,10262.49411764706 L 30167.38823529412,10290.070588235294 L 30332.98823529412,10372.894117647058 L 30434.164705882355,10400.470588235294 L 30700.98823529412,10418.870588235295 L 31004.61176470588,10437.270588235295 L 31078.211764705884,10400.470588235294 L 31142.58823529412,10345.270588235295 L 31225.41176470588,10262.49411764706 L 31289.78823529412,10133.69411764706 L 31280.611764705885,10050.870588235293 L 31262.211764705884,9830.070588235294 L 31059.811764705883,9397.69411764706 L 31032.188235294117,9370.070588235294 L 30829.78823529412,9176.847058823529 L 30802.211764705884,8974.447058823529 L 30884.98823529412,8873.270588235295 L 31032.188235294117,8735.24705882353 L 31188.61176470588,8707.670588235294 L 31280.611764705885,8726.070588235294 L 31409.411764705885,8781.270588235295 L 31611.811764705883,8808.84705882353 L 31620.98823529412,8808.84705882353 L 31648.61176470588,8818.070588235294 L 31722.211764705884,8836.470588235294 L 31795.811764705883,8974.447058823529 L 31841.78823529412,9075.670588235294 L 31869.411764705885,9112.470588235296 L 32127.011764705883,9278.070588235294 L 32191.435294117648,9333.270588235295 L 32237.41176470588,9425.270588235293 L 32301.83529411765,9489.69411764706 L 32357.035294117646,9526.49411764706 L 32449.03529411765,9701.270588235295 L 32504.235294117647,9765.69411764706 L 32633.03529411765,9995.670588235294 L 32688.235294117647,10078.494117647058 L 32807.81176470588,10253.270588235295 L 32872.23529411765,10372.894117647058 L 32872.23529411765,10400.470588235294 L 32817.035294117646,10713.317647058824 L 32826.211764705884,10915.717647058824 L 33001.035294117646,11292.894117647058 L 33175.858823529416,11752.894117647058 L 33212.65882352941,11955.341176470589 L 33240.23529411765,12231.341176470587 L 33231.05882352941,12608.517647058823 L 33175.858823529416,12838.54117647059 L 32955.01176470588,13261.741176470588 L 32945.83529411765,13270.964705882352 L 32881.41176470588,13721.741176470588 L 32872.23529411765,13859.764705882353 L 32927.43529411765,13997.741176470588 L 32918.211764705884,14319.764705882353 L 32909.035294117646,14522.164705882353 L 32899.81176470588,14586.588235294119 L 32890.63529411765,14936.188235294117 L 32789.41176470588,15230.588235294119 L 32789.41176470588,15239.764705882353 L 32761.83529411765,15258.164705882355 L 32679.011764705883,15313.364705882354 L 32384.61176470588,15304.188235294117 L 32366.21176470588,15313.364705882354 L 32347.811764705883,15313.364705882354 L 32301.83529411765,15331.764705882353 L 32274.211764705884,15368.564705882354 L 32228.235294117647,15506.588235294119 L 32154.635294117645,15616.988235294119 L 32117.83529411765,15672.18823529412 L 31924.61176470588,15911.388235294118 L 31915.435294117648,15920.611764705884 L 31906.21176470588,15920.611764705884 L 31906.21176470588,15929.788235294118 L 31906.21176470588,15939.011764705883 L 31924.61176470588,15957.411764705881 L 31933.835294117645,16040.188235294117 L 31943.011764705883,16307.011764705881 L 31943.011764705883,16316.188235294117 L 31943.011764705883,16325.411764705883 L 31924.61176470588,16343.811764705883 L 31924.61176470588,16352.988235294119 L 31931.868228090774,16418.14831466866 L 31860.188235294117,16444.988235294117 z\" /></g></g></svg>"
      ],
      "text/plain": [
       "<MULTIPOLYGON (((0 10601.929, 0 14886.682, 194.682 17216, 2351.482 20292.988...>"
      ]
     },
     "execution_count": 170,
     "metadata": {},
     "output_type": "execute_result"
    }
   ],
   "source": [
    "data = {}\n",
    "for i, p in enumerate(mmm.boundary.geoms):  # Handle each Polygon in MultiPolygon\n",
    "    data[f\"Selection {i + 1}\"] = []\n",
    "    for xi, yi in zip(*p.xy):\n",
    "        data[f\"Selection {i + 1}\"] += [{\"X\": xi * p_size, \"Y\": yi * p_size}]\n",
    "    data[f\"Selection {i + 1}\"] = pd.DataFrame(data[f\"Selection {i + 1}\"])\n",
    "data = pd.concat(data, names=[\"Selection\"]).reset_index(1, drop=True)\n",
    "cols = [f\"\", \", \".join(data.reset_index().Selection.unique())]\n",
    "data = pd.concat([pd.DataFrame([[\"\", \"\"]], index=[\n",
    "    \"Areas (µm^2): x\"], columns=cols), pd.DataFrame(data.columns, columns=[\n",
    "        \"Selection\"], index=cols).T, pd.DataFrame(np.array(\n",
    "            data), index=data.index, columns=cols)]).rename_axis(\n",
    "                \"#Selection name: \")  # Explorer format\n",
    "\n",
    "\n",
    "print(data)\n",
    "data.to_csv(\"/mnt/cho_lab/disk2/elizabeth/data/shared-xenium-library/outputs/TUQ97N/nebraska/coordinates/mucosa/50217B_mucosa.csv\")\n",
    "new = cr.pp.xenium_explorer_selection(\n",
    "                        \"/mnt/cho_lab/disk2/elizabeth/data/shared-xenium-library/outputs/TUQ97N/nebraska/coordinates/mucosa/50217B_mucosa.csv\", as_list=False)\n",
    "new"
   ]
  },
  {
   "cell_type": "code",
   "execution_count": null,
   "metadata": {},
   "outputs": [],
   "source": [
    "for r in zip([\"whole\", \"mye\", \"ser\", \"muc\", \"smc\", \"icm\", \"olm\"], [\n",
    "        whole, mye, ser, muc, smc, icm, olm]):\n",
    "    if r[1] is None:\n",
    "        continue\n",
    "    p_coords = gpd.GeoSeries(r[1]).plot()\n",
    "    p_coords.set_title(r[0])\n",
    "    plt.show()"
   ]
  },
  {
   "cell_type": "code",
   "execution_count": null,
   "metadata": {},
   "outputs": [],
   "source": [
    "coord_suffix=\"submucosa\""
   ]
  },
  {
   "cell_type": "code",
   "execution_count": null,
   "metadata": {},
   "outputs": [],
   "source": [
    "        # s = \"50217A\"\n",
    "\n",
    "        # fff = os.path.join(dir_data, np.array(files)[np.where([\n",
    "        #     s == os.path.basename(x).split(\"__\")[2].split(\"-\")[0]\n",
    "        #     for x in files])[0][0]])  # sample's Xenium data directory path\n",
    "        # lib = metadata.reset_index().set_index(cso).loc[s][col_sample]\n",
    "        # file_obj_proc = os.path.join(obj_dir, f\"{lib}{input_suffix}.h5ad\")\n",
    "        # self = cr.Spatial(fff, library_id=lib,\n",
    "        #                 cells_as_circles=cells_as_circles)  # load original data\n",
    "        # adata = sc.read_h5ad(file_obj_proc)  # processed adata\n",
    "        # print(f\"\\n\\n\\t\\t{'*' * 40}\\n\\t\\t{s}\\n\\t\\t{'*' * 40}\\n\\n\")\n",
    "        dir_coord = os.path.join(\n",
    "            out_new, \"coordinates\", coord_suffix)  # coordinates (NFS soon?)\n",
    "        out = os.path.join(out_new, \"objects_cropped\", coord_suffix)  # path\n",
    "        os.makedirs(out, exist_ok=True)  # make sub-directory for new objects?\n",
    "        file_coord = os.path.join(dir_coord, s + f\"_{coord_suffix}.csv\")\n",
    "        file_obj_crop = os.path.join(out, f\"{lib}_{coord_suffix}.h5ad\")\n",
    "        print(f\"\\n\\nData: {fff}\\nObject: {file_obj_proc}\"\n",
    "              f\"\\nCoordinates: {file_coord}\\nOuput: {file_obj_crop}\")\n",
    "        sdata = self.crop(\n",
    "            file_coord, allow_make_valid=allow_make_valid)  # crop\n",
    "        i_x = sdata.table.obs[\"cell_id\"].copy()\n",
    "        del sdata.table\n",
    "        sdata.table = adata[adata.obs[\"cell_id\"].isin(i_x[\n",
    "            i_x.isin(adata.obs[\"cell_id\"])])]  # coordinate- & pp-filtered\n",
    "        sdata.table"
   ]
  },
  {
   "cell_type": "code",
   "execution_count": null,
   "metadata": {},
   "outputs": [],
   "source": [
    "file_obj_crop"
   ]
  },
  {
   "cell_type": "code",
   "execution_count": null,
   "metadata": {},
   "outputs": [],
   "source": [
    "        # s = \"50217A\"\n",
    "\n",
    "        # fff = os.path.join(dir_data, np.array(files)[np.where([\n",
    "        #     s == os.path.basename(x).split(\"__\")[2].split(\"-\")[0]\n",
    "        #     for x in files])[0][0]])  # sample's Xenium data directory path\n",
    "        # lib = metadata.reset_index().set_index(cso).loc[s][col_sample]\n",
    "        # file_obj_proc = os.path.join(obj_dir, f\"{lib}{input_suffix}.h5ad\")\n",
    "        # self = cr.Spatial(fff, library_id=lib,\n",
    "        #                 cells_as_circles=cells_as_circles)  # load original data\n",
    "        # adata = sc.read_h5ad(file_obj_proc)  # processed adata\n",
    "        # print(f\"\\n\\n\\t\\t{'*' * 40}\\n\\t\\t{s}\\n\\t\\t{'*' * 40}\\n\\n\")\n",
    "        dir_coord = os.path.join(\n",
    "            out_new, \"coordinates\", coord_suffix)  # coordinates (NFS soon?)\n",
    "        out = os.path.join(out_new, \"objects_cropped\", coord_suffix)  # path\n",
    "        os.makedirs(out, exist_ok=True)  # make sub-directory for new objects?\n",
    "        file_coord = os.path.join(dir_coord, s + f\"_{coord_suffix}.csv\")\n",
    "        file_obj_crop = os.path.join(out, f\"{lib}_{coord_suffix}.h5ad\")\n",
    "        print(f\"\\n\\nData: {fff}\\nObject: {file_obj_proc}\"\n",
    "              f\"\\nCoordinates: {file_coord}\\nOuput: {file_obj_crop}\")\n",
    "        sdata = self.crop(\n",
    "            file_coord, allow_make_valid=allow_make_valid)  # crop\n",
    "        i_x = sdata.table.obs[\"cell_id\"].copy()\n",
    "        del sdata.table\n",
    "        sdata.table = adata[adata.obs[\"cell_id\"].isin(i_x[\n",
    "            i_x.isin(adata.obs[\"cell_id\"])])]  # coordinate- & pp-filtered"
   ]
  },
  {
   "cell_type": "code",
   "execution_count": null,
   "metadata": {},
   "outputs": [],
   "source": [
    "sdata.table.write_h5ad(\"/mnt/cho_lab/disk2/elizabeth/data/shared-xenium-library/outputs/TUQ97N/nebraska/objects_cropped/smc_longitudinal/Inflamed-50217A_smc_longitudinal.h5ad\")"
   ]
  },
  {
   "cell_type": "code",
   "execution_count": null,
   "metadata": {},
   "outputs": [],
   "source": [
    "poly_right"
   ]
  },
  {
   "cell_type": "code",
   "execution_count": null,
   "metadata": {},
   "outputs": [],
   "source": [
    "sdata_right = self.adata.query.polygon(poly_right, **kws)"
   ]
  },
  {
   "cell_type": "code",
   "execution_count": null,
   "metadata": {},
   "outputs": [],
   "source": [
    "# kws = {\"target_coordinate_system\": \"global\", \"filter_table\": True}\n",
    "# dff = pd.read_csv(file_coord, skiprows=2)\n",
    "# poly = dff.groupby(\"Selection\").apply(lambda x: shapely.Polygon(\n",
    "#     x.drop(\"Selection\", axis=1).values / 0.2125))\n",
    "# poly_right = poly.iloc[4]\n",
    "# poly_left = shapely.MultiPolygon(list(poly.drop(poly.index.values[4])))\n",
    "sdata_left = self.adata.query.polygon(poly_left, **kws)\n",
    "sdata_right = self.adata.query.polygon(poly_right, **kws)"
   ]
  },
  {
   "cell_type": "code",
   "execution_count": null,
   "metadata": {},
   "outputs": [],
   "source": [
    "left, right = sdata_left.table.copy(), sdata_right.table.copy()"
   ]
  },
  {
   "cell_type": "code",
   "execution_count": null,
   "metadata": {},
   "outputs": [],
   "source": [
    "sdata = spatialdata.concatenate([sdata_left, sdata_right],\n",
    "                                concatenate_tables=True)"
   ]
  },
  {
   "cell_type": "markdown",
   "metadata": {},
   "source": [
    "# Workspace"
   ]
  },
  {
   "cell_type": "code",
   "execution_count": null,
   "metadata": {},
   "outputs": [],
   "source": [
    "self.adata.shapes[\"cell_circles\"][\"radius\"].isna().sum()"
   ]
  },
  {
   "cell_type": "code",
   "execution_count": null,
   "metadata": {},
   "outputs": [],
   "source": [
    "self.rna[self.rna.obs[\"cell_id\"].isin(sdata.shapes[\"cell_boundaries\"].index)]"
   ]
  },
  {
   "cell_type": "code",
   "execution_count": null,
   "metadata": {},
   "outputs": [],
   "source": [
    "self.adata.get_annotated_regions(self.adata.table)"
   ]
  },
  {
   "cell_type": "code",
   "execution_count": null,
   "metadata": {},
   "outputs": [],
   "source": [
    "from spatialdata_io._constants._constants import XeniumKeys\n",
    "\n",
    "transform = Scale([1.0 / 0.2125, 1.0 / 0.2125], axes=(\"x\", \"y\"))\n",
    "radii = np.sqrt(self.rna.obs[XeniumKeys.CELL_NUCLEUS_AREA].to_numpy() / np.pi)"
   ]
  },
  {
   "cell_type": "code",
   "execution_count": null,
   "metadata": {},
   "outputs": [],
   "source": [
    "self.rna.obs[XeniumKeys.CELL_NUCLEUS_AREA]"
   ]
  },
  {
   "cell_type": "code",
   "execution_count": null,
   "metadata": {},
   "outputs": [],
   "source": [
    "[i[1] for i in self.adata._gen_elements()]"
   ]
  },
  {
   "cell_type": "code",
   "execution_count": null,
   "metadata": {},
   "outputs": [],
   "source": [
    "found_regions = set(table.obs[\"cell_id\"].unique().tolist())\n",
    "target_element_set = [\"cell_boundaries\"]\n",
    "symmetric_difference = found_regions.symmetric_difference(target_element_set)\n",
    "len(symmetric_difference)"
   ]
  },
  {
   "cell_type": "code",
   "execution_count": null,
   "metadata": {},
   "outputs": [],
   "source": [
    "self.adata._change_table_annotation_target(self.adata.table, \"cell_labels\")"
   ]
  },
  {
   "cell_type": "code",
   "execution_count": null,
   "metadata": {},
   "outputs": [],
   "source": [
    "table.uns.get(\"spatialdata_attrs\")"
   ]
  },
  {
   "cell_type": "code",
   "execution_count": null,
   "metadata": {},
   "outputs": [],
   "source": [
    "self.adata.set_table_annotates_spatialelement(\"table\", region=\"cell_labels\")"
   ]
  },
  {
   "cell_type": "code",
   "execution_count": null,
   "metadata": {},
   "outputs": [],
   "source": [
    "# element = self.adata.shapes[\"cell_circles\"]\n",
    "# buffered_df = element.copy()\n",
    "# buffered = to_polygons(element)"
   ]
  },
  {
   "cell_type": "code",
   "execution_count": null,
   "metadata": {},
   "outputs": [],
   "source": [
    "# coord_suffix = \"myenteric_plexus\"\n",
    "# coord_suffix = \"smc_circular\"\n",
    "coord_suffix = \"smc_longitudinal\"\n",
    "# s = \"50006B\"\n",
    "# s =  \"50217A\"\n",
    "# s = \"50217B\"\n",
    "\n",
    "# for s in [\"50006A\", \"50217A\", \"50403B\"]:\n",
    "for s in [\"50006A\"]:\n",
    "    fff = os.path.join(dir_data, np.array(files)[np.where([\n",
    "        s == os.path.basename(x).split(\"__\")[2].split(\"-\")[0]\n",
    "        for x in files])[0][0]])  # sample's Xenium data directory path\n",
    "    lib = metadata.reset_index().set_index(cso).loc[s][col_sample]\n",
    "    file_obj_proc = os.path.join(obj_dir, f\"{lib}{input_suffix}.h5ad\")\n",
    "    dir_coord = os.path.join(\n",
    "        out_new, \"coordinates\", coord_suffix)  # coordinates (NFS soon?)\n",
    "    out = os.path.join(out_new, \"objects_cropped\", coord_suffix)  # path\n",
    "    os.makedirs(out, exist_ok=True)  # make sub-directory for new objects?\n",
    "    file_coord = os.path.join(dir_coord, s + f\"_{coord_suffix}.csv\")\n",
    "    file_obj_crop = os.path.join(out, f\"{lib}_{coord_suffix}.h5ad\")\n",
    "    if os.path.exists(file_obj_crop):\n",
    "        continue\n",
    "    self = cr.Spatial(fff, library_id=lib,\n",
    "                      cells_as_circles=cells_as_circles)  # load original data\n",
    "    adata = sc.read_h5ad(file_obj_proc)  # processed adata\n",
    "    # coords = cr.pp.xenium_explorer_selection(file_coord, pixel_size=0.2125)\n",
    "    # if isinstance(coords, list):  # if multiple selections...\n",
    "    #     coords = shapely.MultiPolygon(coords)  # ...union of areas\n",
    "    # kws = {\"target_coordinate_system\": \"global\", \"filter_table\": True}\n",
    "    # try:\n",
    "    #     sdata = self.adata.query.polygon(coords, **kws)  # crop\n",
    "    # except Exception as err:\n",
    "    #     if allow_make_valid:\n",
    "    #         warn(\"\\n\\n*** Invalid geometry! Making geometry valid.\"\n",
    "    #              \"Check new coordinates!\\n\\n\")\n",
    "    #         coords_new = shapely.validation.make_valid(coords)\n",
    "    #         sdata = self.adata.query.polygon(coords_new, **kws)  # crop\n",
    "    #     else:\n",
    "    #         raise err\n",
    "    # i_x = sdata.table.obs[\"cell_id\"].copy()\n",
    "    # del sdata.table\n",
    "    # sdata.table = adata[adata.obs[\"cell_id\"].isin(i_x[\n",
    "    #     i_x.isin(adata.obs[\"cell_id\"])])]\n",
    "    sdata = self.crop(file_coord, allow_make_valid=allow_make_valid)\n",
    "    if not os.path.exists(file_obj_crop):\n",
    "        sdata.tables[\"table\"].write_h5ad(os.path.join(\n",
    "            out, f\"{self._library_id}_{coord_suffix}.h5ad\"))"
   ]
  },
  {
   "cell_type": "code",
   "execution_count": null,
   "metadata": {},
   "outputs": [],
   "source": [
    "import geopandas as gpd\n",
    "import shapely\n",
    "\n",
    "#Create a test dataframe\n",
    "    #The first line is valid, the second is not, it starts and ends at the same point\n",
    "wkts  = [\"LINESTRING (30 10, 10 30, 40 40)\", \"LINESTRING (30 10, 30 10)\"]\n",
    "geometries = [shapely.wkt.loads(x) for x in wkts] #Create shapely geometries\n",
    "df = gpd.GeoDataFrame(geometry=geometries) #And a data frame\n",
    "\n",
    "invalid = df.loc[~df.geometry.is_valid]"
   ]
  },
  {
   "cell_type": "code",
   "execution_count": null,
   "metadata": {},
   "outputs": [],
   "source": [
    "from shapely.validation import make_valid"
   ]
  },
  {
   "cell_type": "code",
   "execution_count": null,
   "metadata": {},
   "outputs": [],
   "source": [
    "import squidpy as sq\n",
    "\n",
    "sq.pl.spatial_scatter(sdata_crop.table)"
   ]
  },
  {
   "cell_type": "code",
   "execution_count": null,
   "metadata": {},
   "outputs": [],
   "source": [
    "sdata.pl.render_labels(\"cell_labels\").pl.show()  # plot"
   ]
  },
  {
   "cell_type": "code",
   "execution_count": null,
   "metadata": {},
   "outputs": [],
   "source": [
    "elements = self.gen_spatial_elements()"
   ]
  },
  {
   "cell_type": "code",
   "execution_count": null,
   "metadata": {},
   "outputs": [],
   "source": [
    "cr.pp.xenium_explorer_selection(file_coord)"
   ]
  }
 ],
 "metadata": {
  "kernelspec": {
   "display_name": "bio",
   "language": "python",
   "name": "python3"
  },
  "language_info": {
   "codemirror_mode": {
    "name": "ipython",
    "version": 3
   },
   "file_extension": ".py",
   "mimetype": "text/x-python",
   "name": "python",
   "nbconvert_exporter": "python",
   "pygments_lexer": "ipython3",
   "version": "3.10.4"
  }
 },
 "nbformat": 4,
 "nbformat_minor": 2
}
