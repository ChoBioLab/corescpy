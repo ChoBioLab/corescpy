{
 "cells": [
  {
   "cell_type": "markdown",
   "metadata": {},
   "source": [
    "# Setup\n",
    "\n",
    "```\n",
    "pip install git+https://github.com/scverse/spatialdata.git@main\n",
    "pip install git+https://github.com/scverse/spatialdata-io.git@main\n",
    "```\n",
    "\n",
    "This is the stuff you have to edit; the rest of the sections can run as-is after you've set the needed parameters.\n",
    "\n",
    "---\n",
    "\n",
    "`coord_suffix` must align with \n",
    "* the sub-directory (corresponds to region, e.g., \"mucosa\") under the `dir_coord` directory where the Xenium Explorer-exported selection files are stored, and\n",
    "* the suffixes of the coordinate selection files (see file naming conventions below).\n",
    "  \n",
    "The `AnnData` objects created will have this suffix as well (e.g., `Uninflamed-50452A_mucosa.h5ad`).\n",
    "\n",
    "---\n",
    "\n",
    "Selection files should be named by this convention:\n",
    "`<library_id>_<coord_suffix>.csv`.\n",
    "\n",
    "For example, if `dir_coord` is `.../coordinates/mucosa`, the mucosa selection file for sample 50452A should be under `.../coordinates/mucosa/50452A_mucosa.csv`. \n",
    "\n",
    "More specifically, if the coordinates directory is under `/mnt/cho_lab/disk2/elizabeth/data/shared-xenium-library/outputs/TUQ97N/nebraska/coordinates`, and the selection region is \"mucosa,\"`dir_coord` should be `/mnt/cho_lab/disk2/elizabeth/data/shared-xenium-library/outputs/TUQ97N/nebraska/coordinates/mucosa`, and the full file path for this sample would be `/mnt/cho_lab/disk2/elizabeth/data/shared-xenium-library/outputs/TUQ97N/nebraska/coordinates/mucosa/50452A_mucosa.csv`.\n",
    "\n",
    "---\n",
    "\n",
    "**As with any other file naming schema, suffixes/directory names should not any special characters other than underscores (`_`) (no periods, dashes, spaces, etc.).**\n",
    "\n",
    "N.B. In the above explanation, `library_id` refers to library/original sample ID without condition (e.g., \"50452A\", not \"Uninflamed-50452A\" like in other places). Remember that `coord_suffix` should also be the name of the parent directory of the coordinate file. I include this information in both the directory and file name to prevent mix-ups should files be moved or placed in the wrong folder.\n",
    "\n",
    "Loading the metadata allows us to find the object IDs (e.g., for TUQ97N, object IDs are in the format <condition (Inflamed/Uninflamed/Stricture)><block_id>) corresponding to the sample IDs.\n"
   ]
  },
  {
   "cell_type": "code",
   "execution_count": 3,
   "metadata": {},
   "outputs": [
    {
     "name": "stdout",
     "output_type": "stream",
     "text": [
      "The autoreload extension is already loaded. To reload it, use:\n",
      "  %reload_ext autoreload\n"
     ]
    },
    {
     "data": {
      "text/plain": [
       "Sample\n",
       "Uninflamed-50452A     50452\n",
       "Inflamed-50452B       50452\n",
       "Stricture-50452C      50452\n",
       "Inflamed-50006A       50006\n",
       "Uninflamed-50006B     50006\n",
       "Stricture-50006C      50006\n",
       "Inflamed-50217A       50217\n",
       "Uninflamed-50217B     50217\n",
       "Stricture-50217C      50217\n",
       "Inflamed-50336B       50336\n",
       "Uninflamed-50336C     50336\n",
       "Stricture-50336A      50336\n",
       "Uninflamed-50403A2    50403\n",
       "Inflamed-50403B       50403\n",
       "Stricture-50403C1     50403\n",
       "Name: subject_id, dtype: int64"
      ]
     },
     "execution_count": 3,
     "metadata": {},
     "output_type": "execute_result"
    }
   ],
   "source": [
    "%load_ext autoreload\n",
    "%autoreload 2\n",
    "%matplotlib inline\n",
    "\n",
    "import os\n",
    "import re\n",
    "import math\n",
    "import functools\n",
    "import traceback\n",
    "import matplotlib.pyplot as plt\n",
    "import geopandas as gpd\n",
    "import shapely\n",
    "import shapely.validation\n",
    "from shapely.geometry import box\n",
    "import anndata\n",
    "import scanpy as sc\n",
    "# import spatialdata_plot\n",
    "import numpy as np\n",
    "import pandas as pd\n",
    "import corescpy as cr\n",
    "\n",
    "# Files & Directories\n",
    "panel = \"TUQ97N\"  # Xenium panel ID\n",
    "direc = \"/mnt/cho_lab/bbdata2/\"  # mounted NFS with Xenium raw data\n",
    "obj_dir = os.path.join(  # this path will point to where original .h5ads are\n",
    "    \"/mnt/cho_lab/disk2\",  # Spark entry directory\n",
    "    \"elizabeth\",  # change if objects in different person's/your folder\n",
    "    f\"data/shared-xenium-library/outputs/{panel}/nebraska\")  # subdirectory\n",
    "out_new = os.path.join(\"/mnt/cho_lab/disk2\", os.getlogin(),  # for new objects\n",
    "                       f\"data/shared-xenium-library/outputs/{panel}/nebraska\")\n",
    "mdf = str(\"/mnt/cho_lab/disk2/elizabeth/data/shared-xenium-library/samples_\"\n",
    "          f\"{panel}.csv\")  # metadata file path (for now; will soon be on NFS)\n",
    "\n",
    "# Main\n",
    "write_object = True  # change to True when you're ready to save objects\n",
    "overwrite = False  # overwrite if already exists?\n",
    "regions = [\"mucosa\", \"serosa\", \"myenteric_plexus\", \"submucosa\",\n",
    "           \"smc_circular\", \"smc_longitudinal\"]\n",
    "col_leiden = \"leiden_res1pt5_dist0_npc30\"\n",
    "col_ann = \"Bucket\"\n",
    "cells_as_circles = True\n",
    "allow_make_valid = True  # allow shapely package to correct invalid geometries\n",
    "libs = [  # sample IDs from patients for whom we have all conditions\n",
    "    \"50452A\", \"50452B\", \"50452C\",  # old segmentation\n",
    "    \"50006A\", \"50006B\", \"50006C\",  # rest are new segmentation\n",
    "    \"50217A\", \"50217B\", \"50217C\",\n",
    "    \"50336B\", \"50336C\", \"50336A\",\n",
    "    \"50403A2\", \"50403B\", \"50403C1\"\n",
    "]  # excludes low-quality sample/condition replicates 50403A1 & 50403C2\n",
    "# libs = [\"50006A\", \"50006B\", \"50217A\", \"50217B\", \"50336B\", \"50336C\",\n",
    "#         \"50403B\", \"50403A2\"]  # just inflamed/uninflamed (no strictures)\n",
    "# libs = None  # to run all available samples\n",
    "input_suffix = \"\"  # in case want to crop objects with some suffix\n",
    "# due to creation of a subsidiary object, e.g., for\n",
    "# \"Stricture-50452C_downsampled.h5ad\"\n",
    "# input_suffix would be \"_downsampled\". For \"main\" objects, input_suffix=\"\"\n",
    "plot = True  # could slow process down if large samples/cropped area\n",
    "\n",
    "#  Your Folders\n",
    "constants_dict = cr.get_panel_constants(panel_id=panel)\n",
    "\n",
    "# Constants (Shouldn't Need Edits Unless Extreme Process Changes)\n",
    "cso, col_sample, col_condition, col_inflamed, col_subject = [\n",
    "    constants_dict[x] if x in constants_dict else None for x in [\n",
    "        \"col_sample_id_o\", \"col_sample_id\", \"col_condition\",\n",
    "        \"col_inflamed\", \"col_subject\"]]\n",
    "dir_data = os.path.join(direc, f\"outputs/{panel}\")\n",
    "files = functools.reduce(lambda i, j: i + j, [[os.path.join(\n",
    "    run, i) for i in os.listdir(os.path.join(\n",
    "        dir_data, run))] for run in os.listdir(dir_data)])  # all data paths\n",
    "os.makedirs(obj_dir, exist_ok=True)  # make output directory if needed\n",
    "metadata = cr.pp.get_metadata_cho(direc, mdf, panel_id=panel, samples=libs)\n",
    "metadata[col_subject]"
   ]
  },
  {
   "cell_type": "markdown",
   "metadata": {},
   "source": [
    "# Subset Data by Coordinate Files & Write Cropped Objects\n",
    "\n",
    "Subset the data by coordinates (`corescpy` can use Xenium Explorer-exported manual selection files to get those coordinates) and then write the cropped objects to `obj_dir/<coord_suffix>`."
   ]
  },
  {
   "cell_type": "code",
   "execution_count": null,
   "metadata": {},
   "outputs": [],
   "source": [
    "overwrite=True"
   ]
  },
  {
   "cell_type": "code",
   "execution_count": 6,
   "metadata": {},
   "outputs": [
    {
     "name": "stdout",
     "output_type": "stream",
     "text": [
      "\n",
      "\n",
      "================================================================================\n",
      "50217A\n",
      "================================================================================\n",
      "\n",
      "\n",
      "\n",
      "\n",
      "<<< INITIALIZING SPATIAL CLASS OBJECT >>>\n",
      "\n",
      "\u001b[34mINFO    \u001b[0m reading                                                                                                   \n",
      "         \u001b[35m/mnt/cho_lab/bbdata2/outputs/TUQ97N/CHO-008/output-XETG00189__0015521__50217A-TUQ97N-EA__20240415__212906/\u001b[0m\n",
      "         \u001b[95mcell_feature_matrix.h5\u001b[0m                                                                                    \n"
     ]
    },
    {
     "name": "stdout",
     "output_type": "stream",
     "text": [
      "WARNING: Unable to find `y`, `x` or `z` dimension in `('c', 'y', 'x')`. Renaming to `('channels', 'y', 'x', 'z')`\n",
      "WARNING: Unable to find `y`, `x` or `z` dimension in `('c', 'y', 'x')`. Renaming to `('channels', 'y', 'x', 'z')`\n",
      "WARNING: Unable to find `y`, `x` or `z` dimension in `('c', 'y', 'x')`. Renaming to `('channels', 'y', 'x', 'z')`\n",
      "WARNING: Unable to find `y`, `x` or `z` dimension in `('c', 'y', 'x')`. Renaming to `('channels', 'y', 'x', 'z')`\n",
      "WARNING: Unable to find `y`, `x` or `z` dimension in `('c', 'y', 'x')`. Renaming to `('channels', 'y', 'x', 'z')`\n",
      "\n",
      "\n",
      "================================================================================\n",
      "Counts: Initial\n",
      "================================================================================\n",
      "\n",
      "'SpatialData' object has no attribute 'n_obs'\n",
      "\n",
      "Error printing counts SpatialData object\n",
      "├── Images\n",
      "│     └── 'morphology_focus': DataTree[cyx] (5, 91804, 54105), (5, 45902, 27052), (5, 22951, 13526), (5, 11475, 6763), (5, 5737, 3381)\n",
      "├── Labels\n",
      "│     ├── 'cell_labels': DataTree[yx] (91804, 54105), (45902, 27052), (22951, 13526), (11475, 6763), (5737, 3381)\n",
      "│     └── 'nucleus_labels': DataTree[yx] (91804, 54105), (45902, 27052), (22951, 13526), (11475, 6763), (5737, 3381)\n",
      "├── Points\n",
      "│     └── 'transcripts': DataFrame with shape: (<Delayed>, 11) (3D points)\n",
      "├── Shapes\n",
      "│     ├── 'cell_boundaries': GeoDataFrame shape: (1038830, 1) (2D shapes)\n",
      "│     ├── 'cell_circles': GeoDataFrame shape: (1038830, 2) (2D shapes)\n",
      "│     └── 'nucleus_boundaries': GeoDataFrame shape: (1010453, 1) (2D shapes)\n",
      "└── Tables\n",
      "      └── 'table': AnnData (1038830, 469)\n",
      "with coordinate systems:\n",
      "    ▸ 'global', with elements:\n",
      "        morphology_focus (Images), cell_labels (Labels), nucleus_labels (Labels), transcripts (Points), cell_boundaries (Shapes), cell_circles (Shapes), nucleus_boundaries (Shapes)\n",
      "\n",
      "\n",
      "================================================================================\n",
      "\n",
      "\n",
      "\n",
      "\n",
      " AnnData object with n_obs × n_vars = 1038830 × 469\n",
      "    obs: 'cell_id', 'transcript_counts', 'control_probe_counts', 'control_codeword_counts', 'unassigned_codeword_counts', 'deprecated_codeword_counts', 'total_counts', 'cell_area', 'nucleus_area', 'region', 'z_level', 'nucleus_count', 'cell_labels', 'Sample'\n",
      "    var: 'gene_ids', 'feature_types', 'genome'\n",
      "    uns: 'spatialdata_attrs', 'spatial', 'original_ix'\n",
      "    obsm: 'spatial'\n",
      "    layers: 'counts' \n",
      "\n",
      "                      gene_ids    feature_types   genome\n",
      "gene_symbols                                           \n",
      "ABCA7         ENSG00000064687  Gene Expression  Unknown\n",
      "ACTA2         ENSG00000107796  Gene Expression  Unknown\n",
      "ACTG2         ENSG00000163017  Gene Expression  Unknown\n",
      "ADAM15        ENSG00000143537  Gene Expression  Unknown\n",
      "ADAM28        ENSG00000042980  Gene Expression  Unknown \n",
      "\n",
      " \n",
      "\n",
      "\n",
      "\n",
      "col_gene_symbols=\"gene_symbols\"\n",
      "col_cell_type=\"leiden\"\n",
      "col_sample_id=\"Sample\"\n",
      "col_batch=\"Sample\"\n",
      "col_subject=None\n",
      "col_condition=None\n",
      "col_num_umis=None\n",
      "col_segment=\"region\"\n",
      "\n",
      "\n",
      "\n",
      "key_control=None\n",
      "key_treatment=None\n",
      "key_table=\"table\"\n",
      "\n",
      "\n",
      "\t\t****************************************\n",
      "\t\t50217A\n",
      "\t\t****************************************\n",
      "\n",
      "\n",
      "*** Subset /mnt/cho_lab/disk2/elizabeth/data/shared-xenium-library/outputs/TUQ97N/nebraska/objects_cropped/mucosa/Inflamed-50217A_mucosa.h5ad already exists\n",
      "\n",
      "\n",
      "\t\t****************************************\n",
      "\t\t50217A\n",
      "\t\t****************************************\n",
      "\n",
      "\n",
      "*** Subset /mnt/cho_lab/disk2/elizabeth/data/shared-xenium-library/outputs/TUQ97N/nebraska/objects_cropped/submucosa/Inflamed-50217A_submucosa.h5ad already exists\n",
      "\n",
      "\n",
      "\t\t****************************************\n",
      "\t\t50217A\n",
      "\t\t****************************************\n",
      "\n",
      "\n",
      "\n",
      "\n",
      "Data: /mnt/cho_lab/bbdata2/outputs/TUQ97N/CHO-008/output-XETG00189__0015521__50217A-TUQ97N-EA__20240415__212906\n",
      "Object: /mnt/cho_lab/disk2/elizabeth/data/shared-xenium-library/outputs/TUQ97N/nebraska/Inflamed-50217A.h5ad\n",
      "Coordinates: /mnt/cho_lab/disk2/elizabeth/data/shared-xenium-library/outputs/TUQ97N/nebraska/coordinates/smc_longitudinal/50217A_smc_longitudinal.csv\n",
      "Ouput: /mnt/cho_lab/disk2/elizabeth/data/shared-xenium-library/outputs/TUQ97N/nebraska/objects_cropped/smc_longitudinal/Inflamed-50217A_smc_longitudinal.h5ad\n"
     ]
    },
    {
     "data": {
      "image/png": "[encoded data removed]",
      "text/plain": [
       "<Figure size 640x480 with 1 Axes>"
      ]
     },
     "metadata": {},
     "output_type": "display_data"
    },
    {
     "data": {
      "image/png": "[encoded data removed]",
      "text/plain": [
       "<Figure size 640x480 with 1 Axes>"
      ]
     },
     "metadata": {},
     "output_type": "display_data"
    }
   ],
   "source": [
    "for s in libs:  # iterate samples\n",
    "    print(f\"\\n\\n{'=' * 80}\\n{s}\\n{'=' * 80}\\n\\n\")\n",
    "    fff = os.path.join(dir_data, np.array(files)[np.where([\n",
    "        s == os.path.basename(x).split(\"__\")[2].split(\"-\")[0]\n",
    "        for x in files])[0][0]])  # sample's Xenium data directory path\n",
    "    lib = metadata.reset_index().set_index(cso).loc[s][col_sample]\n",
    "    file_obj_proc = os.path.join(obj_dir, f\"{lib}{input_suffix}.h5ad\")\n",
    "    if overwrite is False:  # skip entirely if all crops exist & no overwrite\n",
    "        all_files = [os.path.join(out_new, \"objects_cropped\",\n",
    "                                  r, f'{lib}_{r}.h5ad') for r in regions]\n",
    "        if overwrite is False and all([os.path.exists(r) for r in all_files]):\n",
    "            print(f\"*** All subsets {', '.join(all_files)} already exist\")\n",
    "            continue\n",
    "    self = cr.Spatial(fff, library_id=lib,\n",
    "                      cells_as_circles=cells_as_circles)  # load original data\n",
    "    adata = sc.read_h5ad(file_obj_proc)  # processed adata\n",
    "    # self.update_from_h5ad(file_obj_proc)  # update with processed object\n",
    "    for coord_suffix in regions:\n",
    "        print(f\"\\n\\n\\t\\t{'*' * 40}\\n\\t\\t{coord_suffix}\\n\\t\\t{'*' * 40}\\n\\n\")\n",
    "        dir_coord = os.path.join(\n",
    "            out_new, \"coordinates\", coord_suffix)  # coordinates (NFS soon?)\n",
    "        out = os.path.join(out_new, \"objects_cropped\", coord_suffix)  # path\n",
    "        os.makedirs(out, exist_ok=True)  # make sub-directory for new objects?\n",
    "        file_coord = os.path.join(dir_coord, s + f\"_{coord_suffix}.csv\")\n",
    "        file_obj_crop = os.path.join(out, f\"{lib}_{coord_suffix}.h5ad\")\n",
    "        if overwrite is False and os.path.exists(file_obj_crop):\n",
    "            print(f\"*** Subset {file_obj_crop} already exists\")\n",
    "            continue\n",
    "        if not os.path.exists(file_coord):\n",
    "            print(f\"*** Coordinate file {file_coord} doesn't exist\")\n",
    "            continue\n",
    "        print(f\"\\n\\nData: {fff}\\nObject: {file_obj_proc}\"\n",
    "              f\"\\nCoordinates: {file_coord}\\nOuput: {file_obj_crop}\")\n",
    "        try:\n",
    "            sdata = self.crop(\n",
    "                file_coord, allow_make_valid=allow_make_valid)  # crop\n",
    "            i_x = sdata.table.obs[\"cell_id\"].copy()\n",
    "            del sdata.table\n",
    "            sdata.table = adata[adata.obs[\"cell_id\"].isin(i_x[\n",
    "                i_x.isin(adata.obs[\"cell_id\"])])]  # coordinate- & pp-filtered\n",
    "            if plot:\n",
    "                try:\n",
    "                    sdata.pl.render_labels(\"cell_labels\").pl.show()  # plot\n",
    "                except Exception:\n",
    "                    pass\n",
    "        except Exception:\n",
    "            print(traceback.format_exc(),\n",
    "                  f\"Cropping \\n\\n{s}, {coord_suffix} failed!\")\n",
    "        if write_object is True:\n",
    "            sdata.tables[\"table\"].write_h5ad(file_obj_crop)  # write cropped\n",
    "print(\"\\n\\nCompleted!\")"
   ]
  },
  {
   "cell_type": "code",
   "execution_count": 6,
   "metadata": {},
   "outputs": [
    {
     "ename": "TypeError",
     "evalue": "unsupported operand type(s) for /: 'str' and 'float'",
     "output_type": "error",
     "traceback": [
      "\u001b[0;31m---------------------------------------------------------------------------\u001b[0m",
      "\u001b[0;31mTypeError\u001b[0m                                 Traceback (most recent call last)",
      "Cell \u001b[0;32mIn[6], line 38\u001b[0m\n\u001b[1;32m     34\u001b[0m         coords \u001b[38;5;241m=\u001b[39m [cr\u001b[38;5;241m.\u001b[39mpp\u001b[38;5;241m.\u001b[39mxenium_explorer_selection(\n\u001b[1;32m     35\u001b[0m              i, pixel_size\u001b[38;5;241m=\u001b[39mpixel_size, as_list\u001b[38;5;241m=\u001b[39m\u001b[38;5;28;01mFalse\u001b[39;00m)\n\u001b[1;32m     36\u001b[0m                    \u001b[38;5;28;01mfor\u001b[39;00m i \u001b[38;5;129;01min\u001b[39;00m bounds_x]\n\u001b[1;32m     37\u001b[0m     \u001b[38;5;28;01melse\u001b[39;00m:  \u001b[38;5;66;03m# single file\u001b[39;00m\n\u001b[0;32m---> 38\u001b[0m         coords \u001b[38;5;241m=\u001b[39m \u001b[43mcr\u001b[49m\u001b[38;5;241;43m.\u001b[39;49m\u001b[43mpp\u001b[49m\u001b[38;5;241;43m.\u001b[39;49m\u001b[43mxenium_explorer_selection\u001b[49m\u001b[43m(\u001b[49m\n\u001b[1;32m     39\u001b[0m \u001b[43m            \u001b[49m\u001b[43mbounds_x\u001b[49m\u001b[43m,\u001b[49m\u001b[43m \u001b[49m\u001b[43mpixel_size\u001b[49m\u001b[38;5;241;43m=\u001b[39;49m\u001b[43mpixel_size\u001b[49m\u001b[43m,\u001b[49m\u001b[43m \u001b[49m\u001b[43mas_list\u001b[49m\u001b[38;5;241;43m=\u001b[39;49m\u001b[38;5;28;43;01mFalse\u001b[39;49;00m\u001b[43m)\u001b[49m\n\u001b[1;32m     40\u001b[0m \u001b[38;5;28;01melse\u001b[39;00m:  \u001b[38;5;66;03m# if shapely object\u001b[39;00m\n\u001b[1;32m     41\u001b[0m     coords \u001b[38;5;241m=\u001b[39m bounds_x\n",
      "File \u001b[0;32m~/corescpy/corescpy/processing/spatial_pp.py:178\u001b[0m, in \u001b[0;36mxenium_explorer_selection\u001b[0;34m(file_coord, pixel_size, as_list)\u001b[0m\n\u001b[1;32m    176\u001b[0m         poly \u001b[38;5;241m=\u001b[39m MultiPolygon(poly)\n\u001b[1;32m    177\u001b[0m \u001b[38;5;28;01melse\u001b[39;00m:\n\u001b[0;32m--> 178\u001b[0m     poly \u001b[38;5;241m=\u001b[39m Polygon(\u001b[43mdff\u001b[49m\u001b[38;5;241;43m.\u001b[39;49m\u001b[43mvalues\u001b[49m\u001b[43m \u001b[49m\u001b[38;5;241;43m/\u001b[39;49m\u001b[43m \u001b[49m\u001b[43mpixel_size\u001b[49m)\n\u001b[1;32m    179\u001b[0m     \u001b[38;5;28;01mif\u001b[39;00m as_list \u001b[38;5;129;01mis\u001b[39;00m \u001b[38;5;28;01mTrue\u001b[39;00m:\n\u001b[1;32m    180\u001b[0m         poly \u001b[38;5;241m=\u001b[39m [poly]\n",
      "\u001b[0;31mTypeError\u001b[0m: unsupported operand type(s) for /: 'str' and 'float'"
     ]
    }
   ],
   "source": [
    "        import os\n",
    "        import traceback\n",
    "        import json\n",
    "        from itertools import permutations\n",
    "        from warnings import warn\n",
    "        from copy import deepcopy\n",
    "        from dask_image.imread import imread\n",
    "        import matplotlib\n",
    "        import matplotlib.pyplot as plt\n",
    "        from matplotlib.backends.backend_pdf import PdfPages\n",
    "        import shapely\n",
    "        from shapely.geometry.multipolygon import MultiPolygon\n",
    "        from shapely.geometry.polygon import Polygon\n",
    "        import geopandas as gpd\n",
    "        import squidpy as sq\n",
    "        import spatialdata\n",
    "        from spatialdata.models import TableModel\n",
    "        import spatialdata_plot as sdp\n",
    "        import spatialdata_io as sdio\n",
    "        from spatialdata_io._constants._constants import XeniumKeys\n",
    "        import liana\n",
    "\n",
    "        bounds_x = file_coord\n",
    "        bounds_y=None\n",
    "        bounds_z=None\n",
    "        pixel_size=0.2125\n",
    "        allow_make_valid=True\n",
    "        kwargs={}\n",
    "\n",
    "        if isinstance(bounds_x, (str, Polygon, MultiPolygon)) or isinstance(\n",
    "                bounds_x[0], str):  # Xenium Explorer selection(s)\n",
    "            if isinstance(bounds_x, (list, np.ndarray, tuple, str)):  # file\n",
    "                if isinstance(bounds_x, (list, np.ndarray, tuple)):  # fileS\n",
    "                    coords = [cr.pp.xenium_explorer_selection(\n",
    "                         i, pixel_size=pixel_size, as_list=False)\n",
    "                               for i in bounds_x]\n",
    "                else:  # single file\n",
    "                    coords = cr.pp.xenium_explorer_selection(\n",
    "                        bounds_x, pixel_size=pixel_size, as_list=False)\n",
    "            else:  # if shapely object\n",
    "                coords = bounds_x\n",
    "            if isinstance(coords, list):  # if multiple selections...\n",
    "                coords = shapely.MultiPolygon(coords)  # ...union of areas\n",
    "            kws = {\"target_coordinate_system\": \"global\",\n",
    "                   \"filter_table\": True, **kwargs}\n",
    "            if \"is_valid\" in dir(coords) and coords.is_valid is False:\n",
    "                if allow_make_valid is True:\n",
    "                    invalid, error = True, None\n",
    "                else:\n",
    "                    p_coords = gpd.GeoSeries(coords).plot()\n",
    "                    p_coords.set_title(\"Input\")\n",
    "                    raise ValueError(\n",
    "                        \"Input coordinates have invalid geometry!\")"
   ]
  },
  {
   "cell_type": "code",
   "execution_count": 13,
   "metadata": {},
   "outputs": [
    {
     "data": {
      "text/plain": [
       "View of AnnData object with n_obs × n_vars = 5131 × 469\n",
       "    obs: 'cell_id', 'transcript_counts', 'control_probe_counts', 'control_codeword_counts', 'unassigned_codeword_counts', 'deprecated_codeword_counts', 'total_counts', 'cell_area', 'nucleus_area', 'region', 'Sample', 'sample_id', 'subject_id', 'run_id', 'panel_id', 'slide_id', 'clinical_block', 'description', 'date_hybridization', 'date_sectioned', 'location', 'inflammation', 'stricture', 'Condition', 'Age', 'Annotation', 'CDKN1A_PLAUR_threshold2', 'CDKN1A_TP53_PLAUR_threshold2', 'CDKN1A_TP53_threshold2', 'CDKN1A_threshold2', 'Diagnosis', 'Disease_Status', 'Hispanic', 'IL7R_KLRB1_RORC_threshold2', 'IL7R_KLRB1_threshold2', 'IL7R_RORC_threshold2', 'IL7R_threshold2', 'KLRB1_RORC_threshold2', 'KLRB1_threshold2', 'PLAUR_threshold2', 'RORC_threshold2', 'Race', 'Sex', 'TP53_PLAUR_threshold2', 'TP53_threshold2', 'annotation_res0pt5_dist0pt5_npc30', 'annotation_res0pt75_dist0pt3_npc30', 'annotation_res1pt5_dist0_npc30', 'assay_protein', 'bin_res0pt5_dist0pt5_npc30', 'bin_res0pt75_dist0pt3_npc30', 'bin_res1pt5_dist0_npc30', 'bucket_res0pt5_dist0pt5_npc30', 'bucket_res0pt75_dist0pt3_npc30', 'bucket_res1pt5_dist0_npc30', 'cell_filter_ncounts', 'cell_filter_ngene', 'cell_filter_pmt', 'cell_labels', 'col_batch', 'col_cell_type', 'col_condition', 'col_gene_symbols', 'col_num_umis', 'col_sample_id', 'col_segment', 'col_subject', 'custom_thresholds', 'figsize', 'file_path', 'gene_filter_ncell', 'gene_filter_ncounts', 'kws_scale', 'label_res0pt5_dist0pt5_npc30', 'label_res0pt75_dist0pt3_npc30', 'label_res1pt5_dist0_npc30', 'leiden_res0pt5_dist0pt5_npc30', 'leiden_res0pt75_dist0pt3_npc30', 'leiden_res1pt5_dist0_npc30', 'log1p_n_genes_by_counts', 'log1p_total_counts', 'log_counts', 'method_norm', 'n_counts', 'n_genes', 'n_genes_by_counts', 'n_obs_raw', 'nucleus_count', 'out_file', 'z_level'\n",
       "    var: 'gene_ids', 'feature_types', 'genome', 'mt', 'ribo', 'hb', 'n_cells_by_counts', 'mean_counts', 'log1p_mean_counts', 'pct_dropout_by_counts', 'total_counts', 'log1p_total_counts', 'n_cells', 'n_counts', 'highly_variable', 'means', 'dispersions', 'dispersions_norm', 'mean', 'std'\n",
       "    uns: 'Annotation_colors', 'Sample_colors', 'hvg', 'label_res0pt5_dist0pt5_npc30_colors', 'label_res0pt75_dist0pt3_npc30_colors', 'label_res1pt5_dist0_npc30_colors', 'leiden_res0pt5_dist0pt5_npc30', 'leiden_res0pt75_dist0pt3_npc30', 'leiden_res1pt5_dist0_npc30', 'log1p', 'neighbors', 'original_ix', 'pca', 'rank_genes_groups_leiden_res0pt5_dist0pt5_npc30', 'rank_genes_groups_leiden_res0pt75_dist0pt3_npc30', 'rank_genes_groups_leiden_res1pt5_dist0_npc30', 'spatialdata_attrs', 'specifications', 'umap'\n",
       "    obsm: 'X_pca', 'X_umap', 'spatial'\n",
       "    varm: 'PCs'\n",
       "    layers: 'counts', 'log1p', 'scaled'\n",
       "    obsp: 'connectivities', 'distances'"
      ]
     },
     "execution_count": 13,
     "metadata": {},
     "output_type": "execute_result"
    }
   ],
   "source": [
    "self.adata.table"
   ]
  },
  {
   "cell_type": "markdown",
   "metadata": {},
   "source": [
    "# Example Setting Regions by Exclusion"
   ]
  },
  {
   "cell_type": "code",
   "execution_count": null,
   "metadata": {},
   "outputs": [],
   "source": [
    "s_o = \"50217A\"\n",
    "out_new = str(\"/mnt/cho_lab/disk2/elizabeth/data/shared-xenium-library/\"\n",
    "              \"outputs/TUQ97N/nebraska\")\n",
    "# mid = pd.read_csv(os.path.join(out_new, f\"coordinates/{s_o}_mid.csv\"),\n",
    "#                   index_col=0).iloc[:, 0]\n",
    "# mid = gpd.GeoDataFrame(mid, geometry=gpd.GeoSeries.from_wkt(\n",
    "#     mid), crs=\"EPSG:4326\")\n",
    "# mid = mid.geometry.apply(lambda geom: shapely.Polygon(geom)).iloc[0]\n",
    "mye, ser, muc, icm = [cr.pp.xenium_explorer_selection(os.path.join(\n",
    "    out_new, \"coordinates\", r, f\"{s_o}_{r}.csv\"))\n",
    "            for r in [\"myenteric_plexus\", \"serosa\", \"mucosa\", \"smc_circular\"]]\n",
    "mye, ser, muc, icm = [x if x.is_valid else shapely.validation.make_valid(\n",
    "    x) for x in [mye, ser, muc, icm]]\n",
    "# muc = cr.pp.xenium_explorer_selection(os.path.join(\n",
    "#     out_new, \"coordinates\", \"mucosa\", f\"{s_o}_mucosa_full.csv\"))\n",
    "# muc = shapely.validation.make_valid(muc)\n",
    "# other = shapely.validation.make_valid(cr.pp.xenium_explorer_selection(\n",
    "#     os.path.join(out_new, \"coordinates/50217A_other.csv\")))\n",
    "# smc = shapely.validation.make_valid(cr.pp.xenium_explorer_selection(\n",
    "#     os.path.join(out_new, \"coordinates/50217A_smc.csv\")))\n",
    "# whole = shapely.validation.make_valid(cr.pp.xenium_explorer_selection(\n",
    "#     os.path.join(out_new, \"coordinates/50217A_all.csv\")))\n",
    "# olm = cr.pp.xenium_explorer_selection(os.path.join(\n",
    "#     out_new, \"coordinates\", \"smc_longitudinal\",\n",
    "#     f\"{s_o}_smc_longitudinal.csv\"))\n",
    "other, olm, smc, whole = None, None, None, None"
   ]
  },
  {
   "cell_type": "code",
   "execution_count": null,
   "metadata": {},
   "outputs": [],
   "source": [
    "for r in zip([\"whole\", \"mye\", \"ser\", \"muc\", \"smc\", \"icm\", \"olm\"], [\n",
    "        whole, mye, ser, muc, smc, icm, olm]):\n",
    "    if r[1] is None:\n",
    "        continue\n",
    "    p_coords = gpd.GeoSeries(r[1]).plot()\n",
    "    p_coords.set_title(r[0])\n",
    "    plt.show()"
   ]
  },
  {
   "cell_type": "code",
   "execution_count": null,
   "metadata": {},
   "outputs": [],
   "source": [
    "olm = smc.difference(mye).difference(icm).difference(ser)\n",
    "olm"
   ]
  },
  {
   "cell_type": "code",
   "execution_count": null,
   "metadata": {},
   "outputs": [],
   "source": [
    "sub = whole.difference(muc).difference(icm).difference(olm).difference(\n",
    "    mye).difference(ser).difference(smc)\n",
    "sub"
   ]
  },
  {
   "cell_type": "code",
   "execution_count": null,
   "metadata": {},
   "outputs": [],
   "source": [
    "data = {}\n",
    "for i, p in enumerate(olm.geoms):  # Handle each Polygon in MultiPolygon\n",
    "    data[f\"Selection {i}\"] = []\n",
    "    for xi, yi in zip(*p.exterior.xy):\n",
    "        data[f\"Selection {i}\"] += [{\"X\": xi, \"Y\": yi}]\n",
    "    data[f\"Selection {i}\"] = pd.DataFrame(data[f\"Selection {i}\"])\n",
    "data = pd.concat(data, names=[\"Selection\"]).reset_index(1, drop=True)\n",
    "cols = [f\"\", \", \".join(data.reset_index().Selection.unique())]\n",
    "data = pd.concat([pd.DataFrame([[\"\", \"\"]], index=[\n",
    "    \"Areas (µm^2): x\"], columns=cols), pd.DataFrame(data.columns, columns=[\n",
    "        \"Selection\"], index=cols).T, pd.DataFrame(np.array(\n",
    "            data), index=data.index, columns=cols)]).rename_axis(\n",
    "                \"#Selection name: \")  # Xenium format\n",
    "# os.system(\"mv \" + os.path.join(\n",
    "#     out_new, \"coordinates\", \"smc_longitudinal\",\n",
    "#     \"50217A_smc_longitudinal.csv\") + \" \" + os.path.join(\n",
    "#         out_new, \"coordinates\", \"smc_longitudinal\",\n",
    "#         \"50217A_smc_longitudinal_old.csv\"))\n",
    "# data.to_csv(os.path.join(out_new, \"coordinates\", \"smc_longitudinal\",\n",
    "#                          \"50217A_smc_longitudinal.csv\"))\n",
    "\n",
    "data = {}\n",
    "for i, p in enumerate(muc.geoms):  # Handle each Polygon in MultiPolygon\n",
    "    data[f\"Selection {i}\"] = []\n",
    "    for xi, yi in zip(*p.exterior.xy):\n",
    "        data[f\"Selection {i}\"] += [{\"X\": xi, \"Y\": yi}]\n",
    "    data[f\"Selection {i}\"] = pd.DataFrame(data[f\"Selection {i}\"])\n",
    "data = pd.concat(data, names=[\"Selection\"]).reset_index(1, drop=True)\n",
    "cols = [f\"\", \", \".join(data.reset_index().Selection.unique())]\n",
    "data = pd.concat([pd.DataFrame([[\"\", \"\"]], index=[\n",
    "    \"Areas (µm^2): x\"], columns=cols), pd.DataFrame(data.columns, columns=[\n",
    "        \"Selection\"], index=cols).T, pd.DataFrame(np.array(\n",
    "            data), index=data.index, columns=cols)]).rename_axis(\n",
    "                \"#Selection name: \")  # Xenium format\n",
    "# os.system(\"mv \" + os.path.join(\n",
    "#     out_new, \"coordinates\", \"mucosa\",\n",
    "#     \"50217A_mucosa.csv\") + \" \" + os.path.join(\n",
    "#         out_new, \"coordinates\", \"mucosa\", \"50217A_mucosa_old.csv\"))\n",
    "# data.to_csv(os.path.join(out_new, \"coordinates\", \"mucosa\",\n",
    "#                          \"50217A_mucosa.csv\"))\n",
    "\n",
    "data = {}\n",
    "for i, p in enumerate(icm.geoms):  # Handle each Polygon in MultiPolygon\n",
    "    data[f\"Selection {i}\"] = []\n",
    "    for xi, yi in zip(*p.exterior.xy):\n",
    "        data[f\"Selection {i}\"] += [{\"X\": xi, \"Y\": yi}]\n",
    "    data[f\"Selection {i}\"] = pd.DataFrame(data[f\"Selection {i}\"])\n",
    "data = pd.concat(data, names=[\"Selection\"]).reset_index(1, drop=True)\n",
    "cols = [f\"\", \", \".join(data.reset_index().Selection.unique())]\n",
    "data = pd.concat([pd.DataFrame([[\"\", \"\"]], index=[\n",
    "    \"Areas (µm^2): x\"], columns=cols), pd.DataFrame(data.columns, columns=[\n",
    "        \"Selection\"], index=cols).T, pd.DataFrame(np.array(\n",
    "            data), index=data.index, columns=cols)]).rename_axis(\n",
    "                \"#Selection name: \")  # Xenium format\n",
    "# os.system(\"mv \" + os.path.join(\n",
    "#     out_new, \"coordinates\", \"smc_circular\",\n",
    "#     \"50217A_smc_circular.csv\") + \" \" + os.path.join(\n",
    "#         out_new, \"coordinates\", \"smc_circular\",\n",
    "#         \"50217A_smc_circular_old.csv\"))\n",
    "# data.to_csv(os.path.join(out_new, \"coordinates\", \"smc_circular\",\n",
    "#                          \"50217A_smc_circular.csv\"))\n",
    "\n",
    "data = {}\n",
    "for i, p in enumerate(sub.geoms):  # Handle each Polygon in MultiPolygon\n",
    "    data[f\"Selection {i}\"] = []\n",
    "    for xi, yi in zip(*p.exterior.xy):\n",
    "        data[f\"Selection {i}\"] += [{\"X\": xi, \"Y\": yi}]\n",
    "    data[f\"Selection {i}\"] = pd.DataFrame(data[f\"Selection {i}\"])\n",
    "data = pd.concat(data, names=[\"Selection\"]).reset_index(1, drop=True)\n",
    "cols = [f\"\", \", \".join(data.reset_index().Selection.unique())]\n",
    "data = pd.concat([pd.DataFrame([[\"\", \"\"]], index=[\n",
    "    \"Areas (µm^2): x\"], columns=cols), pd.DataFrame(data.columns, columns=[\n",
    "        \"Selection\"], index=cols).T, pd.DataFrame(np.array(\n",
    "            data), index=data.index, columns=cols)]).rename_axis(\n",
    "                \"#Selection name: \")  # Xenium format\n",
    "# os.system(\"mv \" + os.path.join(\n",
    "#     out_new, \"coordinates\", \"submucosa\",\n",
    "#     \"50217A_submucosa.csv\") + \" \" + os.path.join(\n",
    "#         out_new, \"coordinates\", \"submucosa\",\n",
    "#         \"50217A_submucosa_old.csv\"))\n",
    "# data.to_csv(os.path.join(out_new, \"coordinates\", \"submucosa\",\n",
    "#                          \"50217A_submucosa.csv\"))"
   ]
  },
  {
   "cell_type": "code",
   "execution_count": null,
   "metadata": {},
   "outputs": [],
   "source": [
    "for r in zip([\"whole\", \"mye\", \"ser\", \"muc\", \"smc\", \"icm\", \"olm\"], [\n",
    "        whole, mye, ser, muc, smc, icm, olm]):\n",
    "    if r[1] is None:\n",
    "        continue\n",
    "    p_coords = gpd.GeoSeries(r[1]).plot()\n",
    "    p_coords.set_title(r[0])\n",
    "    plt.show()"
   ]
  },
  {
   "cell_type": "code",
   "execution_count": 4,
   "metadata": {},
   "outputs": [],
   "source": [
    "coord_suffix=\"mucosa\""
   ]
  },
  {
   "cell_type": "code",
   "execution_count": 5,
   "metadata": {},
   "outputs": [
    {
     "name": "stdout",
     "output_type": "stream",
     "text": [
      "\n",
      "\n",
      "Data: /mnt/cho_lab/bbdata2/outputs/TUQ97N/CHO-008/output-XETG00189__0015521__50217A-TUQ97N-EA__20240415__212906\n",
      "Object: /mnt/cho_lab/disk2/elizabeth/data/shared-xenium-library/outputs/TUQ97N/nebraska/Inflamed-50217A.h5ad\n",
      "Coordinates: /mnt/cho_lab/disk2/elizabeth/data/shared-xenium-library/outputs/TUQ97N/nebraska/coordinates/mucosa/50217A_mucosa.csv\n",
      "Ouput: /mnt/cho_lab/disk2/elizabeth/data/shared-xenium-library/outputs/TUQ97N/nebraska/objects_cropped/mucosa/Inflamed-50217A_mucosa.h5ad\n"
     ]
    },
    {
     "ename": "TypeError",
     "evalue": "unsupported operand type(s) for /: 'str' and 'float'",
     "output_type": "error",
     "traceback": [
      "\u001b[0;31m---------------------------------------------------------------------------\u001b[0m",
      "\u001b[0;31mTypeError\u001b[0m                                 Traceback (most recent call last)",
      "Cell \u001b[0;32mIn[5], line 20\u001b[0m\n\u001b[1;32m     17\u001b[0m file_obj_crop \u001b[38;5;241m=\u001b[39m os\u001b[38;5;241m.\u001b[39mpath\u001b[38;5;241m.\u001b[39mjoin(out, \u001b[38;5;124mf\u001b[39m\u001b[38;5;124m\"\u001b[39m\u001b[38;5;132;01m{\u001b[39;00mlib\u001b[38;5;132;01m}\u001b[39;00m\u001b[38;5;124m_\u001b[39m\u001b[38;5;132;01m{\u001b[39;00mcoord_suffix\u001b[38;5;132;01m}\u001b[39;00m\u001b[38;5;124m.h5ad\u001b[39m\u001b[38;5;124m\"\u001b[39m)\n\u001b[1;32m     18\u001b[0m \u001b[38;5;28mprint\u001b[39m(\u001b[38;5;124mf\u001b[39m\u001b[38;5;124m\"\u001b[39m\u001b[38;5;130;01m\\n\u001b[39;00m\u001b[38;5;130;01m\\n\u001b[39;00m\u001b[38;5;124mData: \u001b[39m\u001b[38;5;132;01m{\u001b[39;00mfff\u001b[38;5;132;01m}\u001b[39;00m\u001b[38;5;130;01m\\n\u001b[39;00m\u001b[38;5;124mObject: \u001b[39m\u001b[38;5;132;01m{\u001b[39;00mfile_obj_proc\u001b[38;5;132;01m}\u001b[39;00m\u001b[38;5;124m\"\u001b[39m\n\u001b[1;32m     19\u001b[0m       \u001b[38;5;124mf\u001b[39m\u001b[38;5;124m\"\u001b[39m\u001b[38;5;130;01m\\n\u001b[39;00m\u001b[38;5;124mCoordinates: \u001b[39m\u001b[38;5;132;01m{\u001b[39;00mfile_coord\u001b[38;5;132;01m}\u001b[39;00m\u001b[38;5;130;01m\\n\u001b[39;00m\u001b[38;5;124mOuput: \u001b[39m\u001b[38;5;132;01m{\u001b[39;00mfile_obj_crop\u001b[38;5;132;01m}\u001b[39;00m\u001b[38;5;124m\"\u001b[39m)\n\u001b[0;32m---> 20\u001b[0m sdata \u001b[38;5;241m=\u001b[39m \u001b[38;5;28;43mself\u001b[39;49m\u001b[38;5;241;43m.\u001b[39;49m\u001b[43mcrop\u001b[49m\u001b[43m(\u001b[49m\n\u001b[1;32m     21\u001b[0m \u001b[43m    \u001b[49m\u001b[43mfile_coord\u001b[49m\u001b[43m,\u001b[49m\u001b[43m \u001b[49m\u001b[43mallow_make_valid\u001b[49m\u001b[38;5;241;43m=\u001b[39;49m\u001b[43mallow_make_valid\u001b[49m\u001b[43m)\u001b[49m  \u001b[38;5;66;03m# crop\u001b[39;00m\n\u001b[1;32m     22\u001b[0m i_x \u001b[38;5;241m=\u001b[39m sdata\u001b[38;5;241m.\u001b[39mtable\u001b[38;5;241m.\u001b[39mobs[\u001b[38;5;124m\"\u001b[39m\u001b[38;5;124mcell_id\u001b[39m\u001b[38;5;124m\"\u001b[39m]\u001b[38;5;241m.\u001b[39mcopy()\n\u001b[1;32m     23\u001b[0m \u001b[38;5;28;01mdel\u001b[39;00m sdata\u001b[38;5;241m.\u001b[39mtable\n",
      "File \u001b[0;32m~/corescpy/corescpy/class_spatial.py:277\u001b[0m, in \u001b[0;36mSpatial.crop\u001b[0;34m(self, bounds_x, bounds_y, bounds_z, pixel_size, allow_make_valid, **kwargs)\u001b[0m\n\u001b[1;32m    273\u001b[0m         coords \u001b[38;5;241m=\u001b[39m [cr\u001b[38;5;241m.\u001b[39mpp\u001b[38;5;241m.\u001b[39mxenium_explorer_selection(\n\u001b[1;32m    274\u001b[0m              i, pixel_size\u001b[38;5;241m=\u001b[39mpixel_size, as_list\u001b[38;5;241m=\u001b[39m\u001b[38;5;28;01mFalse\u001b[39;00m)\n\u001b[1;32m    275\u001b[0m                    \u001b[38;5;28;01mfor\u001b[39;00m i \u001b[38;5;129;01min\u001b[39;00m bounds_x]\n\u001b[1;32m    276\u001b[0m     \u001b[38;5;28;01melse\u001b[39;00m:  \u001b[38;5;66;03m# single file\u001b[39;00m\n\u001b[0;32m--> 277\u001b[0m         coords \u001b[38;5;241m=\u001b[39m \u001b[43mcr\u001b[49m\u001b[38;5;241;43m.\u001b[39;49m\u001b[43mpp\u001b[49m\u001b[38;5;241;43m.\u001b[39;49m\u001b[43mxenium_explorer_selection\u001b[49m\u001b[43m(\u001b[49m\n\u001b[1;32m    278\u001b[0m \u001b[43m            \u001b[49m\u001b[43mbounds_x\u001b[49m\u001b[43m,\u001b[49m\u001b[43m \u001b[49m\u001b[43mpixel_size\u001b[49m\u001b[38;5;241;43m=\u001b[39;49m\u001b[43mpixel_size\u001b[49m\u001b[43m,\u001b[49m\u001b[43m \u001b[49m\u001b[43mas_list\u001b[49m\u001b[38;5;241;43m=\u001b[39;49m\u001b[38;5;28;43;01mFalse\u001b[39;49;00m\u001b[43m)\u001b[49m\n\u001b[1;32m    279\u001b[0m \u001b[38;5;28;01melse\u001b[39;00m:  \u001b[38;5;66;03m# if shapely object\u001b[39;00m\n\u001b[1;32m    280\u001b[0m     coords \u001b[38;5;241m=\u001b[39m bounds_x\n",
      "File \u001b[0;32m~/corescpy/corescpy/processing/spatial_pp.py:178\u001b[0m, in \u001b[0;36mxenium_explorer_selection\u001b[0;34m(file_coord, pixel_size, as_list)\u001b[0m\n\u001b[1;32m    176\u001b[0m         poly \u001b[38;5;241m=\u001b[39m MultiPolygon(poly)\n\u001b[1;32m    177\u001b[0m \u001b[38;5;28;01melse\u001b[39;00m:\n\u001b[0;32m--> 178\u001b[0m     poly \u001b[38;5;241m=\u001b[39m Polygon(\u001b[43mdff\u001b[49m\u001b[38;5;241;43m.\u001b[39;49m\u001b[43mvalues\u001b[49m\u001b[43m \u001b[49m\u001b[38;5;241;43m/\u001b[39;49m\u001b[43m \u001b[49m\u001b[43mpixel_size\u001b[49m)\n\u001b[1;32m    179\u001b[0m     \u001b[38;5;28;01mif\u001b[39;00m as_list \u001b[38;5;129;01mis\u001b[39;00m \u001b[38;5;28;01mTrue\u001b[39;00m:\n\u001b[1;32m    180\u001b[0m         poly \u001b[38;5;241m=\u001b[39m [poly]\n",
      "\u001b[0;31mTypeError\u001b[0m: unsupported operand type(s) for /: 'str' and 'float'"
     ]
    }
   ],
   "source": [
    "        # s = \"50217A\"\n",
    "\n",
    "        # fff = os.path.join(dir_data, np.array(files)[np.where([\n",
    "        #     s == os.path.basename(x).split(\"__\")[2].split(\"-\")[0]\n",
    "        #     for x in files])[0][0]])  # sample's Xenium data directory path\n",
    "        # lib = metadata.reset_index().set_index(cso).loc[s][col_sample]\n",
    "        # file_obj_proc = os.path.join(obj_dir, f\"{lib}{input_suffix}.h5ad\")\n",
    "        # self = cr.Spatial(fff, library_id=lib,\n",
    "        #                 cells_as_circles=cells_as_circles)  # load original data\n",
    "        # adata = sc.read_h5ad(file_obj_proc)  # processed adata\n",
    "        # print(f\"\\n\\n\\t\\t{'*' * 40}\\n\\t\\t{s}\\n\\t\\t{'*' * 40}\\n\\n\")\n",
    "        dir_coord = os.path.join(\n",
    "            out_new, \"coordinates\", coord_suffix)  # coordinates (NFS soon?)\n",
    "        out = os.path.join(out_new, \"objects_cropped\", coord_suffix)  # path\n",
    "        os.makedirs(out, exist_ok=True)  # make sub-directory for new objects?\n",
    "        file_coord = os.path.join(dir_coord, s + f\"_{coord_suffix}.csv\")\n",
    "        file_obj_crop = os.path.join(out, f\"{lib}_{coord_suffix}.h5ad\")\n",
    "        print(f\"\\n\\nData: {fff}\\nObject: {file_obj_proc}\"\n",
    "              f\"\\nCoordinates: {file_coord}\\nOuput: {file_obj_crop}\")\n",
    "        sdata = self.crop(\n",
    "            file_coord, allow_make_valid=allow_make_valid)  # crop\n",
    "        i_x = sdata.table.obs[\"cell_id\"].copy()\n",
    "        del sdata.table\n",
    "        sdata.table = adata[adata.obs[\"cell_id\"].isin(i_x[\n",
    "            i_x.isin(adata.obs[\"cell_id\"])])]  # coordinate- & pp-filtered"
   ]
  },
  {
   "cell_type": "code",
   "execution_count": 58,
   "metadata": {},
   "outputs": [],
   "source": [
    "coord_suffix=\"mucosa\""
   ]
  },
  {
   "cell_type": "code",
   "execution_count": 55,
   "metadata": {},
   "outputs": [
    {
     "data": {
      "image/svg+xml": [
       "<svg xmlns=\"http://www.w3.org/2000/svg\" xmlns:xlink=\"http://www.w3.org/1999/xlink\" width=\"300\" height=\"300\" viewBox=\"123931.96235451206 137828.73196795213 49121.099512429195 121687.86763924715\" preserveAspectRatio=\"xMinYMin meet\"><g transform=\"matrix(1,0,0,-1,0,397345.3315751514)\"><path fill-rule=\"evenodd\" fill=\"#66cc99\" stroke=\"#555555\" stroke-width=\"811.2524509283144\" opacity=\"0.6\" d=\"M 138221.93309474335,149393.74110986514 L 140010.74048442906,150357.03806228374 L 140735.4267795388,151806.4990720121 L 140835.4325259516,151904.553633218 L 140835.4325259516,151965.89619377162 L 141141.92387543252,152395.07266435988 L 142568.9688581315,153324.95501730108 L 144069.09342560553,153910.25605536334 L 144682.29757785468,154278.08996539793 L 146802.49134948096,155745.2179930796 L 146802.49134948096,155867.90311418686 L 146568.1937716263,156330.74048442906 L 146288.7197231834,157318.64359861592 L 146288.7197231834,157686.4775086505 L 146288.7197231834,158674.38062283737 L 146891.07266435988,160419.87543252594 L 147520.8858131488,161512.5259515571 L 148757.25951557094,163368.5259515571 L 149019.23875432526,163848.1937716263 L 149080.5813148789,163909.53633217994 L 149448.4152249135,164277.37024221453 L 150606.17301038065,165942.47750865054 L 150990.83737024225,166483.48788927338 L 150990.83737024225,166544.60899653978 L 152002.43598615917,168000.4429065744 L 153322.51903114188,170469.64705882355 L 153567.6678200692,171021.28719723184 L 153874.38062283737,172370.15916955017 L 154058.18685121107,173524.15224913493 L 154487.36332179932,174014.4498269896 L 155773.78546712804,174943.8892733564 L 157305.35640138408,176162.98961937716 L 158385.16262975777,178134.58823529416 L 158385.16262975777,178441.07958477509 L 156154.02076124566,178952.1937716263 L 155602.38062283737,178952.1937716263 L 154275.21107266436,179582.00692041524 L 154152.5259515571,179766.03460207614 L 154213.86851211076,180501.70242214535 L 154397.89619377165,180930.87889273357 L 159589.20415224915,183725.61937716266 L 161197.17647058825,184958.67128027685 L 161626.35294117648,185632.99653979237 L 160912.38754325258,187401.3010380623 L 160151.69550173014,187717.7577854671 L 160090.35294117645,187717.7577854671 L 160029.01038062287,187840.4429065744 L 160151.69550173014,188330.96193771626 L 160475.01730103805,189178.4636678201 L 160475.01730103805,189607.41868512108 L 160413.67474048442,190159.2802768166 L 160290.9896193772,190772.26297577855 L 160107.18339100346,191324.1245674741 L 159705.6885813149,192344.5813148789 L 159505.0519031142,193130.74048442906 L 159014.53287197233,194295.58477508652 L 158830.5051903114,195337.74394463666 L 158708.04152249137,196430.3944636678 L 158401.55017301036,197350.08996539793 L 157405.67474048445,199214.28373702426 L 157282.9896193772,199336.7474048443 L 157282.9896193772,199398.08996539793 L 157204.81660899654,199816.41522491348 L 157004.17993079586,201868.4013840831 L 157004.17993079586,201929.74394463666 L 156942.8373702422,201991.0865051903 L 156112.1660899654,202838.36678200692 L 154907.68166089966,203440.71972318343 L 154172.01384083048,204115.04498269895 L 152062.4498269896,205136.1660899654 L 151510.80968858133,206055.64013840834 L 151326.78200692043,207159.14186851215 L 151571.93079584776,208854.14532871972 L 152263.30795847753,210873.5778546713 L 153244.12456747406,211731.70934256059 L 154537.63321799308,212902.53287197236 L 155201.107266436,214285.06574394464 L 155201.107266436,215204.53979238754 L 154955.95847750863,215878.86505190315 L 154465.4394463668,216369.384083045 L 153791.11418685122,216921.2456747405 L 152568.6920415225,217786.02076124572 L 152262.20069204152,218215.19723183394 L 153491.04498269895,219365.86851211073 L 153491.04498269895,219802.13148788933 L 153429.70242214538,219802.13148788933 L 153307.23875432528,219802.13148788933 L 152214.58823529413,219924.81660899657 L 150321.38408304498,220033.7716262976 L 149585.71626297577,220217.79930795848 L 149095.41868512114,220585.4117647059 L 148727.5847750865,221137.27335640136 L 148482.21453287196,221872.94117647063 L 148342.92041522491,223149.61937716266 L 147910.42214532875,225237.25951557097 L 147849.07958477509,225789.1211072665 L 147280.6089965398,227869.67474048445 L 147280.6089965398,227931.01730103808 L 147341.95155709345,227992.35986159174 L 147464.4152249135,228890.35294117648 L 148005.42560553635,230696.96885813147 L 148390.0899653979,232034.9896193772 L 148390.0899653979,233729.77162629762 L 148390.0899653979,235067.7923875433 L 148267.4048442907,235619.4325259516 L 147453.78546712804,237509.09342560556 L 147331.10034602074,237876.92733564015 L 146310.42214532875,238925.28719723184 L 143994.4636678201,240618.2975778547 L 143565.28719723184,240618.2975778547 L 143013.42560553635,240618.2975778547 L 142093.95155709345,240495.61245674742 L 141787.46020761246,240434.26989619381 L 141140.59515570934,239893.48096885817 L 140343.80622837372,239341.61937716263 L 139384.4705882353,238940.12456747406 L 137062.31141868513,237788.1245674741 L 136414.5787814319,237678.48696251278 L 134288.48860374384,239804.5771402008 L 134236.1245674741,240218.5743944637 L 133807.169550173,240709.09342560556 L 133133.62591917717,240959.43982476747 L 132976.7197231834,241116.34602076124 L 128438.92041522491,246788.65051903116 L 129119.44636678202,251099.90311418683 L 130479.4347363793,255009.64154648644 L 133386.23697692784,253027.84229921483 L 133472.9965397924,252256.33217993085 L 134718.4498269896,249232.1660899654 L 137670.42214532875,245806.06228373706 L 139170.32525951558,244306.15916955023 L 141080.3598615917,243287.25259515573 L 143416.0276816609,242243.98615916955 L 144635.79238754328,241449.85467128028 L 146349.84083044983,239891.26643598618 L 147143.97231833913,239097.13494809685 L 148613.53633217994,236559.2802768166 L 150376.7474048443,233144.2491349481 L 151018.74048442906,231042.21453287196 L 151459.87543252594,229806.9480968858 L 152062.00692041527,227647.7785467128 L 152419.65397923876,225109.92387543255 L 153061.42560553635,223376.3875432526 L 154884.87197231836,220528.4982698962 L 155237.64705882352,220175.5017301038 L 157035.18339100346,218666.9619377163 L 158236.34602076124,217064.52595155715 L 158878.11764705883,215756.62283737023 L 158878.11764705883,213228.95501730108 L 158701.61937716263,211038.56055363323 L 158260.48442906575,208303.16955017304 L 158436.98269896195,205998.9480968858 L 158966.2560553633,204763.6816608997 L 160025.2456747405,203793.0519031142 L 162581.48096885814,201733.53633217997 L 163536.60899653978,200915.26643598618 L 163624.74740484433,200826.90657439444 L 164154.2422145329,200209.27335640142 L 165901.28719723184,196282.2422145329 L 166454.92041522491,194636.84429065746 L 166856.1937716263,193152.4429065744 L 167438.83737024223,190188.95501730105 L 167879.9723183391,187749.64705882355 L 168257.10726643598,184593.93771626303 L 168546.1038062284,181993.6332179931 L 168546.1038062284,181905.49480968862 L 168457.96539792386,181552.4982698962 L 167751.97231833913,180228.87197231833 L 167149.84083044983,179209.9653979239 L 165845.92387543252,176391.7508650519 L 165027.65397923876,174730.85121107267 L 162249.07958477509,171733.03806228374 L 161072.4982698962,170644.59515570934 L 157798.9757785467,168752.4982698962 L 155857.71626297577,166899.598615917 L 154887.30795847753,165928.9688581315 L 154245.31487889274,164709.20415224912 L 152917.03806228374,162067.48788927335 L 151593.63321799308,160744.08304498272 L 148837.86851211073,158880.9965397924 L 148396.73356401385,157204.59515570936 L 147867.46020761246,154323.93079584776 L 147313.8269896194,152839.52941176473 L 146607.83391003462,152221.89619377165 L 143697.4948096886,149801.19031141867 L 141683.59861591697,148164.42906574396 L 140135.1972318339,146238.89273356405 L 139694.06228373703,145180.12456747406 L 139341.28719723184,143856.4982698962 L 139164.78892733564,142356.59515570936 L 139163.1786675498,142335.69002866498 L 138965.48096885814,142377.85467128028 L 138038.92041522491,142609.4948096886 L 137130.07612456748,142810.1314878893 L 136946.26989619376,143545.79930795848 L 136946.26989619376,144281.4671280277 L 136946.26989619376,145374.11764705883 L 137007.3910034602,146109.78546712804 L 137191.41868512114,146906.79584775088 L 137252.76124567474,147815.64013840834 L 137436.56747404844,148551.30795847753 L 138221.93309474335,149393.74110986514 z\" /></g></svg>"
      ],
      "text/plain": [
       "<POLYGON ((138221.933 149393.741, 140010.74 150357.038, 140735.427 151806.49...>"
      ]
     },
     "execution_count": 55,
     "metadata": {},
     "output_type": "execute_result"
    }
   ],
   "source": [
    "poly_right"
   ]
  },
  {
   "cell_type": "code",
   "execution_count": 54,
   "metadata": {},
   "outputs": [
    {
     "ename": "AssertionError",
     "evalue": "elements_dict must contain at least one dict which contains at least one element",
     "output_type": "error",
     "traceback": [
      "\u001b[0;31m---------------------------------------------------------------------------\u001b[0m",
      "\u001b[0;31mAssertionError\u001b[0m                            Traceback (most recent call last)",
      "Cell \u001b[0;32mIn[54], line 1\u001b[0m\n\u001b[0;32m----> 1\u001b[0m sdata_right \u001b[38;5;241m=\u001b[39m \u001b[38;5;28;43mself\u001b[39;49m\u001b[38;5;241;43m.\u001b[39;49m\u001b[43madata\u001b[49m\u001b[38;5;241;43m.\u001b[39;49m\u001b[43mquery\u001b[49m\u001b[38;5;241;43m.\u001b[39;49m\u001b[43mpolygon\u001b[49m\u001b[43m(\u001b[49m\u001b[43mpoly_right\u001b[49m\u001b[43m,\u001b[49m\u001b[43m \u001b[49m\u001b[38;5;241;43m*\u001b[39;49m\u001b[38;5;241;43m*\u001b[39;49m\u001b[43mkws\u001b[49m\u001b[43m)\u001b[49m\n",
      "File \u001b[0;32m~/miniconda3/envs/bio/lib/python3.10/site-packages/spatialdata/_core/spatialdata.py:2232\u001b[0m, in \u001b[0;36mQueryManager.polygon\u001b[0;34m(self, polygon, target_coordinate_system, filter_table)\u001b[0m\n\u001b[1;32m   2224\u001b[0m \u001b[38;5;250m\u001b[39m\u001b[38;5;124;03m\"\"\"\u001b[39;00m\n\u001b[1;32m   2225\u001b[0m \u001b[38;5;124;03mPerform a polygon query on the SpatialData object.\u001b[39;00m\n\u001b[1;32m   2226\u001b[0m \n\u001b[1;32m   2227\u001b[0m \u001b[38;5;124;03mPlease see\u001b[39;00m\n\u001b[1;32m   2228\u001b[0m \u001b[38;5;124;03m:func:`spatialdata.polygon_query` for the complete docstring.\u001b[39;00m\n\u001b[1;32m   2229\u001b[0m \u001b[38;5;124;03m\"\"\"\u001b[39;00m\n\u001b[1;32m   2230\u001b[0m \u001b[38;5;28;01mfrom\u001b[39;00m \u001b[38;5;21;01mspatialdata\u001b[39;00m\u001b[38;5;21;01m.\u001b[39;00m\u001b[38;5;21;01m_core\u001b[39;00m\u001b[38;5;21;01m.\u001b[39;00m\u001b[38;5;21;01mquery\u001b[39;00m\u001b[38;5;21;01m.\u001b[39;00m\u001b[38;5;21;01mspatial_query\u001b[39;00m \u001b[38;5;28;01mimport\u001b[39;00m polygon_query\n\u001b[0;32m-> 2232\u001b[0m \u001b[38;5;28;01mreturn\u001b[39;00m \u001b[43mpolygon_query\u001b[49m\u001b[43m(\u001b[49m\u001b[43m  \u001b[49m\u001b[38;5;66;43;03m# type: ignore[return-value]\u001b[39;49;00m\n\u001b[1;32m   2233\u001b[0m \u001b[43m    \u001b[49m\u001b[38;5;28;43mself\u001b[39;49m\u001b[38;5;241;43m.\u001b[39;49m\u001b[43m_sdata\u001b[49m\u001b[43m,\u001b[49m\n\u001b[1;32m   2234\u001b[0m \u001b[43m    \u001b[49m\u001b[43mpolygon\u001b[49m\u001b[38;5;241;43m=\u001b[39;49m\u001b[43mpolygon\u001b[49m\u001b[43m,\u001b[49m\n\u001b[1;32m   2235\u001b[0m \u001b[43m    \u001b[49m\u001b[43mtarget_coordinate_system\u001b[49m\u001b[38;5;241;43m=\u001b[39;49m\u001b[43mtarget_coordinate_system\u001b[49m\u001b[43m,\u001b[49m\n\u001b[1;32m   2236\u001b[0m \u001b[43m    \u001b[49m\u001b[43mfilter_table\u001b[49m\u001b[38;5;241;43m=\u001b[39;49m\u001b[43mfilter_table\u001b[49m\u001b[43m,\u001b[49m\n\u001b[1;32m   2237\u001b[0m \u001b[43m\u001b[49m\u001b[43m)\u001b[49m\n",
      "File \u001b[0;32m~/miniconda3/envs/bio/lib/python3.10/functools.py:889\u001b[0m, in \u001b[0;36msingledispatch.<locals>.wrapper\u001b[0;34m(*args, **kw)\u001b[0m\n\u001b[1;32m    885\u001b[0m \u001b[38;5;28;01mif\u001b[39;00m \u001b[38;5;129;01mnot\u001b[39;00m args:\n\u001b[1;32m    886\u001b[0m     \u001b[38;5;28;01mraise\u001b[39;00m \u001b[38;5;167;01mTypeError\u001b[39;00m(\u001b[38;5;124mf\u001b[39m\u001b[38;5;124m'\u001b[39m\u001b[38;5;132;01m{\u001b[39;00mfuncname\u001b[38;5;132;01m}\u001b[39;00m\u001b[38;5;124m requires at least \u001b[39m\u001b[38;5;124m'\u001b[39m\n\u001b[1;32m    887\u001b[0m                     \u001b[38;5;124m'\u001b[39m\u001b[38;5;124m1 positional argument\u001b[39m\u001b[38;5;124m'\u001b[39m)\n\u001b[0;32m--> 889\u001b[0m \u001b[38;5;28;01mreturn\u001b[39;00m \u001b[43mdispatch\u001b[49m\u001b[43m(\u001b[49m\u001b[43margs\u001b[49m\u001b[43m[\u001b[49m\u001b[38;5;241;43m0\u001b[39;49m\u001b[43m]\u001b[49m\u001b[38;5;241;43m.\u001b[39;49m\u001b[38;5;18;43m__class__\u001b[39;49m\u001b[43m)\u001b[49m\u001b[43m(\u001b[49m\u001b[38;5;241;43m*\u001b[39;49m\u001b[43margs\u001b[49m\u001b[43m,\u001b[49m\u001b[43m \u001b[49m\u001b[38;5;241;43m*\u001b[39;49m\u001b[38;5;241;43m*\u001b[39;49m\u001b[43mkw\u001b[49m\u001b[43m)\u001b[49m\n",
      "File \u001b[0;32m~/miniconda3/envs/bio/lib/python3.10/site-packages/spatialdata/_core/query/spatial_query.py:831\u001b[0m, in \u001b[0;36m_\u001b[0;34m(sdata, polygon, target_coordinate_system, filter_table, shapes, points, images, labels)\u001b[0m\n\u001b[1;32m    823\u001b[0m     queried_elements \u001b[38;5;241m=\u001b[39m _dict_query_dispatcher(\n\u001b[1;32m    824\u001b[0m         elements,\n\u001b[1;32m    825\u001b[0m         polygon_query,\n\u001b[1;32m    826\u001b[0m         polygon\u001b[38;5;241m=\u001b[39mpolygon,\n\u001b[1;32m    827\u001b[0m         target_coordinate_system\u001b[38;5;241m=\u001b[39mtarget_coordinate_system,\n\u001b[1;32m    828\u001b[0m     )\n\u001b[1;32m    829\u001b[0m     new_elements[element_type] \u001b[38;5;241m=\u001b[39m queried_elements\n\u001b[0;32m--> 831\u001b[0m tables \u001b[38;5;241m=\u001b[39m \u001b[43m_get_filtered_or_unfiltered_tables\u001b[49m\u001b[43m(\u001b[49m\u001b[43mfilter_table\u001b[49m\u001b[43m,\u001b[49m\u001b[43m \u001b[49m\u001b[43mnew_elements\u001b[49m\u001b[43m,\u001b[49m\u001b[43m \u001b[49m\u001b[43msdata\u001b[49m\u001b[43m)\u001b[49m\n\u001b[1;32m    833\u001b[0m \u001b[38;5;28;01mreturn\u001b[39;00m SpatialData(\u001b[38;5;241m*\u001b[39m\u001b[38;5;241m*\u001b[39mnew_elements, tables\u001b[38;5;241m=\u001b[39mtables)\n",
      "File \u001b[0;32m~/miniconda3/envs/bio/lib/python3.10/site-packages/spatialdata/_core/query/_utils.py:99\u001b[0m, in \u001b[0;36m_get_filtered_or_unfiltered_tables\u001b[0;34m(filter_table, elements, sdata)\u001b[0m\n\u001b[1;32m     96\u001b[0m \u001b[38;5;28;01mif\u001b[39;00m filter_table:\n\u001b[1;32m     97\u001b[0m     \u001b[38;5;28;01mfrom\u001b[39;00m \u001b[38;5;21;01mspatialdata\u001b[39;00m\u001b[38;5;21;01m.\u001b[39;00m\u001b[38;5;21;01m_core\u001b[39;00m\u001b[38;5;21;01m.\u001b[39;00m\u001b[38;5;21;01mquery\u001b[39;00m\u001b[38;5;21;01m.\u001b[39;00m\u001b[38;5;21;01mrelational_query\u001b[39;00m \u001b[38;5;28;01mimport\u001b[39;00m _filter_table_by_elements\n\u001b[0;32m---> 99\u001b[0m     \u001b[38;5;28;01mreturn\u001b[39;00m {\n\u001b[1;32m    100\u001b[0m         name: filtered_table\n\u001b[1;32m    101\u001b[0m         \u001b[38;5;28;01mfor\u001b[39;00m name, table \u001b[38;5;129;01min\u001b[39;00m sdata\u001b[38;5;241m.\u001b[39mtables\u001b[38;5;241m.\u001b[39mitems()\n\u001b[1;32m    102\u001b[0m         \u001b[38;5;28;01mif\u001b[39;00m (filtered_table \u001b[38;5;241m:=\u001b[39m _filter_table_by_elements(table, elements)) \u001b[38;5;129;01mand\u001b[39;00m \u001b[38;5;28mlen\u001b[39m(filtered_table) \u001b[38;5;241m!=\u001b[39m \u001b[38;5;241m0\u001b[39m\n\u001b[1;32m    103\u001b[0m     }\n\u001b[1;32m    105\u001b[0m \u001b[38;5;28;01mreturn\u001b[39;00m sdata\u001b[38;5;241m.\u001b[39mtables\n",
      "File \u001b[0;32m~/miniconda3/envs/bio/lib/python3.10/site-packages/spatialdata/_core/query/_utils.py:102\u001b[0m, in \u001b[0;36m<dictcomp>\u001b[0;34m(.0)\u001b[0m\n\u001b[1;32m     96\u001b[0m \u001b[38;5;28;01mif\u001b[39;00m filter_table:\n\u001b[1;32m     97\u001b[0m     \u001b[38;5;28;01mfrom\u001b[39;00m \u001b[38;5;21;01mspatialdata\u001b[39;00m\u001b[38;5;21;01m.\u001b[39;00m\u001b[38;5;21;01m_core\u001b[39;00m\u001b[38;5;21;01m.\u001b[39;00m\u001b[38;5;21;01mquery\u001b[39;00m\u001b[38;5;21;01m.\u001b[39;00m\u001b[38;5;21;01mrelational_query\u001b[39;00m \u001b[38;5;28;01mimport\u001b[39;00m _filter_table_by_elements\n\u001b[1;32m     99\u001b[0m     \u001b[38;5;28;01mreturn\u001b[39;00m {\n\u001b[1;32m    100\u001b[0m         name: filtered_table\n\u001b[1;32m    101\u001b[0m         \u001b[38;5;28;01mfor\u001b[39;00m name, table \u001b[38;5;129;01min\u001b[39;00m sdata\u001b[38;5;241m.\u001b[39mtables\u001b[38;5;241m.\u001b[39mitems()\n\u001b[0;32m--> 102\u001b[0m         \u001b[38;5;28;01mif\u001b[39;00m (filtered_table \u001b[38;5;241m:=\u001b[39m \u001b[43m_filter_table_by_elements\u001b[49m\u001b[43m(\u001b[49m\u001b[43mtable\u001b[49m\u001b[43m,\u001b[49m\u001b[43m \u001b[49m\u001b[43melements\u001b[49m\u001b[43m)\u001b[49m) \u001b[38;5;129;01mand\u001b[39;00m \u001b[38;5;28mlen\u001b[39m(filtered_table) \u001b[38;5;241m!=\u001b[39m \u001b[38;5;241m0\u001b[39m\n\u001b[1;32m    103\u001b[0m     }\n\u001b[1;32m    105\u001b[0m \u001b[38;5;28;01mreturn\u001b[39;00m sdata\u001b[38;5;241m.\u001b[39mtables\n",
      "File \u001b[0;32m~/miniconda3/envs/bio/lib/python3.10/site-packages/spatialdata/_core/query/relational_query.py:192\u001b[0m, in \u001b[0;36m_filter_table_by_elements\u001b[0;34m(table, elements_dict, match_rows)\u001b[0m\n\u001b[1;32m    190\u001b[0m \u001b[38;5;28;01massert\u001b[39;00m \u001b[38;5;28mset\u001b[39m(elements_dict\u001b[38;5;241m.\u001b[39mkeys())\u001b[38;5;241m.\u001b[39missubset({\u001b[38;5;124m\"\u001b[39m\u001b[38;5;124mimages\u001b[39m\u001b[38;5;124m\"\u001b[39m, \u001b[38;5;124m\"\u001b[39m\u001b[38;5;124mlabels\u001b[39m\u001b[38;5;124m\"\u001b[39m, \u001b[38;5;124m\"\u001b[39m\u001b[38;5;124mshapes\u001b[39m\u001b[38;5;124m\"\u001b[39m, \u001b[38;5;124m\"\u001b[39m\u001b[38;5;124mpoints\u001b[39m\u001b[38;5;124m\"\u001b[39m})\n\u001b[1;32m    191\u001b[0m \u001b[38;5;28;01massert\u001b[39;00m \u001b[38;5;28mlen\u001b[39m(elements_dict) \u001b[38;5;241m>\u001b[39m \u001b[38;5;241m0\u001b[39m, \u001b[38;5;124m\"\u001b[39m\u001b[38;5;124melements_dict must not be empty\u001b[39m\u001b[38;5;124m\"\u001b[39m\n\u001b[0;32m--> 192\u001b[0m \u001b[38;5;28;01massert\u001b[39;00m \u001b[38;5;28many\u001b[39m(\n\u001b[1;32m    193\u001b[0m     \u001b[38;5;28mlen\u001b[39m(elements) \u001b[38;5;241m>\u001b[39m \u001b[38;5;241m0\u001b[39m \u001b[38;5;28;01mfor\u001b[39;00m elements \u001b[38;5;129;01min\u001b[39;00m elements_dict\u001b[38;5;241m.\u001b[39mvalues()\n\u001b[1;32m    194\u001b[0m ), \u001b[38;5;124m\"\u001b[39m\u001b[38;5;124melements_dict must contain at least one dict which contains at least one element\u001b[39m\u001b[38;5;124m\"\u001b[39m\n\u001b[1;32m    195\u001b[0m \u001b[38;5;28;01mif\u001b[39;00m table \u001b[38;5;129;01mis\u001b[39;00m \u001b[38;5;28;01mNone\u001b[39;00m:\n\u001b[1;32m    196\u001b[0m     \u001b[38;5;28;01mreturn\u001b[39;00m \u001b[38;5;28;01mNone\u001b[39;00m\n",
      "\u001b[0;31mAssertionError\u001b[0m: elements_dict must contain at least one dict which contains at least one element"
     ]
    }
   ],
   "source": [
    "sdata_right = self.adata.query.polygon(poly_right, **kws)"
   ]
  },
  {
   "cell_type": "code",
   "execution_count": 52,
   "metadata": {},
   "outputs": [
    {
     "ename": "AssertionError",
     "evalue": "elements_dict must contain at least one dict which contains at least one element",
     "output_type": "error",
     "traceback": [
      "\u001b[0;31m---------------------------------------------------------------------------\u001b[0m",
      "\u001b[0;31mAssertionError\u001b[0m                            Traceback (most recent call last)",
      "Cell \u001b[0;32mIn[52], line 7\u001b[0m\n\u001b[1;32m      1\u001b[0m \u001b[38;5;66;03m# kws = {\"target_coordinate_system\": \"global\", \"filter_table\": True}\u001b[39;00m\n\u001b[1;32m      2\u001b[0m \u001b[38;5;66;03m# dff = pd.read_csv(file_coord, skiprows=2)\u001b[39;00m\n\u001b[1;32m      3\u001b[0m \u001b[38;5;66;03m# poly = dff.groupby(\"Selection\").apply(lambda x: shapely.Polygon(\u001b[39;00m\n\u001b[1;32m      4\u001b[0m \u001b[38;5;66;03m#     x.drop(\"Selection\", axis=1).values / 0.2125))\u001b[39;00m\n\u001b[1;32m      5\u001b[0m \u001b[38;5;66;03m# poly_right = poly.iloc[4]\u001b[39;00m\n\u001b[1;32m      6\u001b[0m \u001b[38;5;66;03m# poly_left = shapely.MultiPolygon(list(poly.drop(poly.index.values[4])))\u001b[39;00m\n\u001b[0;32m----> 7\u001b[0m sdata_left \u001b[38;5;241m=\u001b[39m \u001b[38;5;28;43mself\u001b[39;49m\u001b[38;5;241;43m.\u001b[39;49m\u001b[43madata\u001b[49m\u001b[38;5;241;43m.\u001b[39;49m\u001b[43mquery\u001b[49m\u001b[38;5;241;43m.\u001b[39;49m\u001b[43mpolygon\u001b[49m\u001b[43m(\u001b[49m\u001b[43mpoly_left\u001b[49m\u001b[43m,\u001b[49m\u001b[43m \u001b[49m\u001b[38;5;241;43m*\u001b[39;49m\u001b[38;5;241;43m*\u001b[39;49m\u001b[43mkws\u001b[49m\u001b[43m)\u001b[49m\n\u001b[1;32m      8\u001b[0m sdata_right \u001b[38;5;241m=\u001b[39m \u001b[38;5;28mself\u001b[39m\u001b[38;5;241m.\u001b[39madata\u001b[38;5;241m.\u001b[39mquery\u001b[38;5;241m.\u001b[39mpolygon(poly_right, \u001b[38;5;241m*\u001b[39m\u001b[38;5;241m*\u001b[39mkws)\n",
      "File \u001b[0;32m~/miniconda3/envs/bio/lib/python3.10/site-packages/spatialdata/_core/spatialdata.py:2232\u001b[0m, in \u001b[0;36mQueryManager.polygon\u001b[0;34m(self, polygon, target_coordinate_system, filter_table)\u001b[0m\n\u001b[1;32m   2224\u001b[0m \u001b[38;5;250m\u001b[39m\u001b[38;5;124;03m\"\"\"\u001b[39;00m\n\u001b[1;32m   2225\u001b[0m \u001b[38;5;124;03mPerform a polygon query on the SpatialData object.\u001b[39;00m\n\u001b[1;32m   2226\u001b[0m \n\u001b[1;32m   2227\u001b[0m \u001b[38;5;124;03mPlease see\u001b[39;00m\n\u001b[1;32m   2228\u001b[0m \u001b[38;5;124;03m:func:`spatialdata.polygon_query` for the complete docstring.\u001b[39;00m\n\u001b[1;32m   2229\u001b[0m \u001b[38;5;124;03m\"\"\"\u001b[39;00m\n\u001b[1;32m   2230\u001b[0m \u001b[38;5;28;01mfrom\u001b[39;00m \u001b[38;5;21;01mspatialdata\u001b[39;00m\u001b[38;5;21;01m.\u001b[39;00m\u001b[38;5;21;01m_core\u001b[39;00m\u001b[38;5;21;01m.\u001b[39;00m\u001b[38;5;21;01mquery\u001b[39;00m\u001b[38;5;21;01m.\u001b[39;00m\u001b[38;5;21;01mspatial_query\u001b[39;00m \u001b[38;5;28;01mimport\u001b[39;00m polygon_query\n\u001b[0;32m-> 2232\u001b[0m \u001b[38;5;28;01mreturn\u001b[39;00m \u001b[43mpolygon_query\u001b[49m\u001b[43m(\u001b[49m\u001b[43m  \u001b[49m\u001b[38;5;66;43;03m# type: ignore[return-value]\u001b[39;49;00m\n\u001b[1;32m   2233\u001b[0m \u001b[43m    \u001b[49m\u001b[38;5;28;43mself\u001b[39;49m\u001b[38;5;241;43m.\u001b[39;49m\u001b[43m_sdata\u001b[49m\u001b[43m,\u001b[49m\n\u001b[1;32m   2234\u001b[0m \u001b[43m    \u001b[49m\u001b[43mpolygon\u001b[49m\u001b[38;5;241;43m=\u001b[39;49m\u001b[43mpolygon\u001b[49m\u001b[43m,\u001b[49m\n\u001b[1;32m   2235\u001b[0m \u001b[43m    \u001b[49m\u001b[43mtarget_coordinate_system\u001b[49m\u001b[38;5;241;43m=\u001b[39;49m\u001b[43mtarget_coordinate_system\u001b[49m\u001b[43m,\u001b[49m\n\u001b[1;32m   2236\u001b[0m \u001b[43m    \u001b[49m\u001b[43mfilter_table\u001b[49m\u001b[38;5;241;43m=\u001b[39;49m\u001b[43mfilter_table\u001b[49m\u001b[43m,\u001b[49m\n\u001b[1;32m   2237\u001b[0m \u001b[43m\u001b[49m\u001b[43m)\u001b[49m\n",
      "File \u001b[0;32m~/miniconda3/envs/bio/lib/python3.10/functools.py:889\u001b[0m, in \u001b[0;36msingledispatch.<locals>.wrapper\u001b[0;34m(*args, **kw)\u001b[0m\n\u001b[1;32m    885\u001b[0m \u001b[38;5;28;01mif\u001b[39;00m \u001b[38;5;129;01mnot\u001b[39;00m args:\n\u001b[1;32m    886\u001b[0m     \u001b[38;5;28;01mraise\u001b[39;00m \u001b[38;5;167;01mTypeError\u001b[39;00m(\u001b[38;5;124mf\u001b[39m\u001b[38;5;124m'\u001b[39m\u001b[38;5;132;01m{\u001b[39;00mfuncname\u001b[38;5;132;01m}\u001b[39;00m\u001b[38;5;124m requires at least \u001b[39m\u001b[38;5;124m'\u001b[39m\n\u001b[1;32m    887\u001b[0m                     \u001b[38;5;124m'\u001b[39m\u001b[38;5;124m1 positional argument\u001b[39m\u001b[38;5;124m'\u001b[39m)\n\u001b[0;32m--> 889\u001b[0m \u001b[38;5;28;01mreturn\u001b[39;00m \u001b[43mdispatch\u001b[49m\u001b[43m(\u001b[49m\u001b[43margs\u001b[49m\u001b[43m[\u001b[49m\u001b[38;5;241;43m0\u001b[39;49m\u001b[43m]\u001b[49m\u001b[38;5;241;43m.\u001b[39;49m\u001b[38;5;18;43m__class__\u001b[39;49m\u001b[43m)\u001b[49m\u001b[43m(\u001b[49m\u001b[38;5;241;43m*\u001b[39;49m\u001b[43margs\u001b[49m\u001b[43m,\u001b[49m\u001b[43m \u001b[49m\u001b[38;5;241;43m*\u001b[39;49m\u001b[38;5;241;43m*\u001b[39;49m\u001b[43mkw\u001b[49m\u001b[43m)\u001b[49m\n",
      "File \u001b[0;32m~/miniconda3/envs/bio/lib/python3.10/site-packages/spatialdata/_core/query/spatial_query.py:831\u001b[0m, in \u001b[0;36m_\u001b[0;34m(sdata, polygon, target_coordinate_system, filter_table, shapes, points, images, labels)\u001b[0m\n\u001b[1;32m    823\u001b[0m     queried_elements \u001b[38;5;241m=\u001b[39m _dict_query_dispatcher(\n\u001b[1;32m    824\u001b[0m         elements,\n\u001b[1;32m    825\u001b[0m         polygon_query,\n\u001b[1;32m    826\u001b[0m         polygon\u001b[38;5;241m=\u001b[39mpolygon,\n\u001b[1;32m    827\u001b[0m         target_coordinate_system\u001b[38;5;241m=\u001b[39mtarget_coordinate_system,\n\u001b[1;32m    828\u001b[0m     )\n\u001b[1;32m    829\u001b[0m     new_elements[element_type] \u001b[38;5;241m=\u001b[39m queried_elements\n\u001b[0;32m--> 831\u001b[0m tables \u001b[38;5;241m=\u001b[39m \u001b[43m_get_filtered_or_unfiltered_tables\u001b[49m\u001b[43m(\u001b[49m\u001b[43mfilter_table\u001b[49m\u001b[43m,\u001b[49m\u001b[43m \u001b[49m\u001b[43mnew_elements\u001b[49m\u001b[43m,\u001b[49m\u001b[43m \u001b[49m\u001b[43msdata\u001b[49m\u001b[43m)\u001b[49m\n\u001b[1;32m    833\u001b[0m \u001b[38;5;28;01mreturn\u001b[39;00m SpatialData(\u001b[38;5;241m*\u001b[39m\u001b[38;5;241m*\u001b[39mnew_elements, tables\u001b[38;5;241m=\u001b[39mtables)\n",
      "File \u001b[0;32m~/miniconda3/envs/bio/lib/python3.10/site-packages/spatialdata/_core/query/_utils.py:99\u001b[0m, in \u001b[0;36m_get_filtered_or_unfiltered_tables\u001b[0;34m(filter_table, elements, sdata)\u001b[0m\n\u001b[1;32m     96\u001b[0m \u001b[38;5;28;01mif\u001b[39;00m filter_table:\n\u001b[1;32m     97\u001b[0m     \u001b[38;5;28;01mfrom\u001b[39;00m \u001b[38;5;21;01mspatialdata\u001b[39;00m\u001b[38;5;21;01m.\u001b[39;00m\u001b[38;5;21;01m_core\u001b[39;00m\u001b[38;5;21;01m.\u001b[39;00m\u001b[38;5;21;01mquery\u001b[39;00m\u001b[38;5;21;01m.\u001b[39;00m\u001b[38;5;21;01mrelational_query\u001b[39;00m \u001b[38;5;28;01mimport\u001b[39;00m _filter_table_by_elements\n\u001b[0;32m---> 99\u001b[0m     \u001b[38;5;28;01mreturn\u001b[39;00m {\n\u001b[1;32m    100\u001b[0m         name: filtered_table\n\u001b[1;32m    101\u001b[0m         \u001b[38;5;28;01mfor\u001b[39;00m name, table \u001b[38;5;129;01min\u001b[39;00m sdata\u001b[38;5;241m.\u001b[39mtables\u001b[38;5;241m.\u001b[39mitems()\n\u001b[1;32m    102\u001b[0m         \u001b[38;5;28;01mif\u001b[39;00m (filtered_table \u001b[38;5;241m:=\u001b[39m _filter_table_by_elements(table, elements)) \u001b[38;5;129;01mand\u001b[39;00m \u001b[38;5;28mlen\u001b[39m(filtered_table) \u001b[38;5;241m!=\u001b[39m \u001b[38;5;241m0\u001b[39m\n\u001b[1;32m    103\u001b[0m     }\n\u001b[1;32m    105\u001b[0m \u001b[38;5;28;01mreturn\u001b[39;00m sdata\u001b[38;5;241m.\u001b[39mtables\n",
      "File \u001b[0;32m~/miniconda3/envs/bio/lib/python3.10/site-packages/spatialdata/_core/query/_utils.py:102\u001b[0m, in \u001b[0;36m<dictcomp>\u001b[0;34m(.0)\u001b[0m\n\u001b[1;32m     96\u001b[0m \u001b[38;5;28;01mif\u001b[39;00m filter_table:\n\u001b[1;32m     97\u001b[0m     \u001b[38;5;28;01mfrom\u001b[39;00m \u001b[38;5;21;01mspatialdata\u001b[39;00m\u001b[38;5;21;01m.\u001b[39;00m\u001b[38;5;21;01m_core\u001b[39;00m\u001b[38;5;21;01m.\u001b[39;00m\u001b[38;5;21;01mquery\u001b[39;00m\u001b[38;5;21;01m.\u001b[39;00m\u001b[38;5;21;01mrelational_query\u001b[39;00m \u001b[38;5;28;01mimport\u001b[39;00m _filter_table_by_elements\n\u001b[1;32m     99\u001b[0m     \u001b[38;5;28;01mreturn\u001b[39;00m {\n\u001b[1;32m    100\u001b[0m         name: filtered_table\n\u001b[1;32m    101\u001b[0m         \u001b[38;5;28;01mfor\u001b[39;00m name, table \u001b[38;5;129;01min\u001b[39;00m sdata\u001b[38;5;241m.\u001b[39mtables\u001b[38;5;241m.\u001b[39mitems()\n\u001b[0;32m--> 102\u001b[0m         \u001b[38;5;28;01mif\u001b[39;00m (filtered_table \u001b[38;5;241m:=\u001b[39m \u001b[43m_filter_table_by_elements\u001b[49m\u001b[43m(\u001b[49m\u001b[43mtable\u001b[49m\u001b[43m,\u001b[49m\u001b[43m \u001b[49m\u001b[43melements\u001b[49m\u001b[43m)\u001b[49m) \u001b[38;5;129;01mand\u001b[39;00m \u001b[38;5;28mlen\u001b[39m(filtered_table) \u001b[38;5;241m!=\u001b[39m \u001b[38;5;241m0\u001b[39m\n\u001b[1;32m    103\u001b[0m     }\n\u001b[1;32m    105\u001b[0m \u001b[38;5;28;01mreturn\u001b[39;00m sdata\u001b[38;5;241m.\u001b[39mtables\n",
      "File \u001b[0;32m~/miniconda3/envs/bio/lib/python3.10/site-packages/spatialdata/_core/query/relational_query.py:192\u001b[0m, in \u001b[0;36m_filter_table_by_elements\u001b[0;34m(table, elements_dict, match_rows)\u001b[0m\n\u001b[1;32m    190\u001b[0m \u001b[38;5;28;01massert\u001b[39;00m \u001b[38;5;28mset\u001b[39m(elements_dict\u001b[38;5;241m.\u001b[39mkeys())\u001b[38;5;241m.\u001b[39missubset({\u001b[38;5;124m\"\u001b[39m\u001b[38;5;124mimages\u001b[39m\u001b[38;5;124m\"\u001b[39m, \u001b[38;5;124m\"\u001b[39m\u001b[38;5;124mlabels\u001b[39m\u001b[38;5;124m\"\u001b[39m, \u001b[38;5;124m\"\u001b[39m\u001b[38;5;124mshapes\u001b[39m\u001b[38;5;124m\"\u001b[39m, \u001b[38;5;124m\"\u001b[39m\u001b[38;5;124mpoints\u001b[39m\u001b[38;5;124m\"\u001b[39m})\n\u001b[1;32m    191\u001b[0m \u001b[38;5;28;01massert\u001b[39;00m \u001b[38;5;28mlen\u001b[39m(elements_dict) \u001b[38;5;241m>\u001b[39m \u001b[38;5;241m0\u001b[39m, \u001b[38;5;124m\"\u001b[39m\u001b[38;5;124melements_dict must not be empty\u001b[39m\u001b[38;5;124m\"\u001b[39m\n\u001b[0;32m--> 192\u001b[0m \u001b[38;5;28;01massert\u001b[39;00m \u001b[38;5;28many\u001b[39m(\n\u001b[1;32m    193\u001b[0m     \u001b[38;5;28mlen\u001b[39m(elements) \u001b[38;5;241m>\u001b[39m \u001b[38;5;241m0\u001b[39m \u001b[38;5;28;01mfor\u001b[39;00m elements \u001b[38;5;129;01min\u001b[39;00m elements_dict\u001b[38;5;241m.\u001b[39mvalues()\n\u001b[1;32m    194\u001b[0m ), \u001b[38;5;124m\"\u001b[39m\u001b[38;5;124melements_dict must contain at least one dict which contains at least one element\u001b[39m\u001b[38;5;124m\"\u001b[39m\n\u001b[1;32m    195\u001b[0m \u001b[38;5;28;01mif\u001b[39;00m table \u001b[38;5;129;01mis\u001b[39;00m \u001b[38;5;28;01mNone\u001b[39;00m:\n\u001b[1;32m    196\u001b[0m     \u001b[38;5;28;01mreturn\u001b[39;00m \u001b[38;5;28;01mNone\u001b[39;00m\n",
      "\u001b[0;31mAssertionError\u001b[0m: elements_dict must contain at least one dict which contains at least one element"
     ]
    }
   ],
   "source": [
    "# kws = {\"target_coordinate_system\": \"global\", \"filter_table\": True}\n",
    "# dff = pd.read_csv(file_coord, skiprows=2)\n",
    "# poly = dff.groupby(\"Selection\").apply(lambda x: shapely.Polygon(\n",
    "#     x.drop(\"Selection\", axis=1).values / 0.2125))\n",
    "# poly_right = poly.iloc[4]\n",
    "# poly_left = shapely.MultiPolygon(list(poly.drop(poly.index.values[4])))\n",
    "sdata_left = self.adata.query.polygon(poly_left, **kws)\n",
    "sdata_right = self.adata.query.polygon(poly_right, **kws)"
   ]
  },
  {
   "cell_type": "code",
   "execution_count": 53,
   "metadata": {},
   "outputs": [
    {
     "ename": "NameError",
     "evalue": "name 'sdata_left' is not defined",
     "output_type": "error",
     "traceback": [
      "\u001b[0;31m---------------------------------------------------------------------------\u001b[0m",
      "\u001b[0;31mNameError\u001b[0m                                 Traceback (most recent call last)",
      "Cell \u001b[0;32mIn[53], line 1\u001b[0m\n\u001b[0;32m----> 1\u001b[0m left, right \u001b[38;5;241m=\u001b[39m \u001b[43msdata_left\u001b[49m\u001b[38;5;241m.\u001b[39mtable\u001b[38;5;241m.\u001b[39mcopy(), sdata_right\u001b[38;5;241m.\u001b[39mtable\u001b[38;5;241m.\u001b[39mcopy()\n",
      "\u001b[0;31mNameError\u001b[0m: name 'sdata_left' is not defined"
     ]
    }
   ],
   "source": [
    "left, right = sdata_left.table.copy(), sdata_right.table.copy()"
   ]
  },
  {
   "cell_type": "code",
   "execution_count": null,
   "metadata": {},
   "outputs": [],
   "source": [
    "lib = \"Inflamed-50217A\"\n",
    "adata = sc.read_h5ad(os.path.join(obj_dir, f\"{lib}{input_suffix}.h5ad\"))\n",
    "i_x = sdata_left.table.obs[\"cell_id\"].copy()\n",
    "del sdata_left.table\n",
    "sdata_left.table = adata[adata.obs[\"cell_id\"].isin(i_x[\n",
    "    i_x.isin(adata.obs[\"cell_id\"])])]  # coordinate- & pp-filtered\n",
    "i_x = sdata_right.table.obs[\"cell_id\"].copy()\n",
    "del sdata_right.table\n",
    "sdata_right.table = adata[adata.obs[\"cell_id\"].isin(i_x[\n",
    "    i_x.isin(adata.obs[\"cell_id\"])])]  # coordinate- & pp-filtered"
   ]
  },
  {
   "cell_type": "code",
   "execution_count": null,
   "metadata": {},
   "outputs": [],
   "source": [
    "sdata = spatialdata.concatenate([sdata_left, sdata_right],\n",
    "                                concatenate_tables=True)"
   ]
  },
  {
   "cell_type": "markdown",
   "metadata": {},
   "source": [
    "# Workspace"
   ]
  },
  {
   "cell_type": "code",
   "execution_count": null,
   "metadata": {},
   "outputs": [],
   "source": [
    "self.adata.shapes[\"cell_circles\"][\"radius\"].isna().sum()"
   ]
  },
  {
   "cell_type": "code",
   "execution_count": null,
   "metadata": {},
   "outputs": [],
   "source": [
    "self.rna[self.rna.obs[\"cell_id\"].isin(sdata.shapes[\"cell_boundaries\"].index)]"
   ]
  },
  {
   "cell_type": "code",
   "execution_count": null,
   "metadata": {},
   "outputs": [],
   "source": [
    "self.adata.get_annotated_regions(self.adata.table)"
   ]
  },
  {
   "cell_type": "code",
   "execution_count": null,
   "metadata": {},
   "outputs": [],
   "source": [
    "from spatialdata_io._constants._constants import XeniumKeys\n",
    "\n",
    "transform = Scale([1.0 / 0.2125, 1.0 / 0.2125], axes=(\"x\", \"y\"))\n",
    "radii = np.sqrt(self.rna.obs[XeniumKeys.CELL_NUCLEUS_AREA].to_numpy() / np.pi)"
   ]
  },
  {
   "cell_type": "code",
   "execution_count": null,
   "metadata": {},
   "outputs": [],
   "source": [
    "self.rna.obs[XeniumKeys.CELL_NUCLEUS_AREA]"
   ]
  },
  {
   "cell_type": "code",
   "execution_count": null,
   "metadata": {},
   "outputs": [],
   "source": [
    "[i[1] for i in self.adata._gen_elements()]"
   ]
  },
  {
   "cell_type": "code",
   "execution_count": null,
   "metadata": {},
   "outputs": [],
   "source": [
    "found_regions = set(table.obs[\"cell_id\"].unique().tolist())\n",
    "target_element_set = [\"cell_boundaries\"]\n",
    "symmetric_difference = found_regions.symmetric_difference(target_element_set)\n",
    "len(symmetric_difference)"
   ]
  },
  {
   "cell_type": "code",
   "execution_count": null,
   "metadata": {},
   "outputs": [],
   "source": [
    "self.adata._change_table_annotation_target(self.adata.table, \"cell_labels\")"
   ]
  },
  {
   "cell_type": "code",
   "execution_count": null,
   "metadata": {},
   "outputs": [],
   "source": [
    "table.uns.get(\"spatialdata_attrs\")"
   ]
  },
  {
   "cell_type": "code",
   "execution_count": null,
   "metadata": {},
   "outputs": [],
   "source": [
    "self.adata.set_table_annotates_spatialelement(\"table\", region=\"cell_labels\")"
   ]
  },
  {
   "cell_type": "code",
   "execution_count": null,
   "metadata": {},
   "outputs": [],
   "source": [
    "# element = self.adata.shapes[\"cell_circles\"]\n",
    "# buffered_df = element.copy()\n",
    "# buffered = to_polygons(element)"
   ]
  },
  {
   "cell_type": "code",
   "execution_count": null,
   "metadata": {},
   "outputs": [],
   "source": [
    "# coord_suffix = \"myenteric_plexus\"\n",
    "# coord_suffix = \"smc_circular\"\n",
    "coord_suffix = \"smc_longitudinal\"\n",
    "# s = \"50006B\"\n",
    "# s =  \"50217A\"\n",
    "# s = \"50217B\"\n",
    "\n",
    "# for s in [\"50006A\", \"50217A\", \"50403B\"]:\n",
    "for s in [\"50006A\"]:\n",
    "    fff = os.path.join(dir_data, np.array(files)[np.where([\n",
    "        s == os.path.basename(x).split(\"__\")[2].split(\"-\")[0]\n",
    "        for x in files])[0][0]])  # sample's Xenium data directory path\n",
    "    lib = metadata.reset_index().set_index(cso).loc[s][col_sample]\n",
    "    file_obj_proc = os.path.join(obj_dir, f\"{lib}{input_suffix}.h5ad\")\n",
    "    dir_coord = os.path.join(\n",
    "        out_new, \"coordinates\", coord_suffix)  # coordinates (NFS soon?)\n",
    "    out = os.path.join(out_new, \"objects_cropped\", coord_suffix)  # path\n",
    "    os.makedirs(out, exist_ok=True)  # make sub-directory for new objects?\n",
    "    file_coord = os.path.join(dir_coord, s + f\"_{coord_suffix}.csv\")\n",
    "    file_obj_crop = os.path.join(out, f\"{lib}_{coord_suffix}.h5ad\")\n",
    "    if os.path.exists(file_obj_crop):\n",
    "        continue\n",
    "    self = cr.Spatial(fff, library_id=lib,\n",
    "                      cells_as_circles=cells_as_circles)  # load original data\n",
    "    adata = sc.read_h5ad(file_obj_proc)  # processed adata\n",
    "    # coords = cr.pp.xenium_explorer_selection(file_coord, pixel_size=0.2125)\n",
    "    # if isinstance(coords, list):  # if multiple selections...\n",
    "    #     coords = shapely.MultiPolygon(coords)  # ...union of areas\n",
    "    # kws = {\"target_coordinate_system\": \"global\", \"filter_table\": True}\n",
    "    # try:\n",
    "    #     sdata = self.adata.query.polygon(coords, **kws)  # crop\n",
    "    # except Exception as err:\n",
    "    #     if allow_make_valid:\n",
    "    #         warn(\"\\n\\n*** Invalid geometry! Making geometry valid.\"\n",
    "    #              \"Check new coordinates!\\n\\n\")\n",
    "    #         coords_new = shapely.validation.make_valid(coords)\n",
    "    #         sdata = self.adata.query.polygon(coords_new, **kws)  # crop\n",
    "    #     else:\n",
    "    #         raise err\n",
    "    # i_x = sdata.table.obs[\"cell_id\"].copy()\n",
    "    # del sdata.table\n",
    "    # sdata.table = adata[adata.obs[\"cell_id\"].isin(i_x[\n",
    "    #     i_x.isin(adata.obs[\"cell_id\"])])]\n",
    "    sdata = self.crop(file_coord, allow_make_valid=allow_make_valid)\n",
    "    if not os.path.exists(file_obj_crop):\n",
    "        sdata.tables[\"table\"].write_h5ad(os.path.join(\n",
    "            out, f\"{self._library_id}_{coord_suffix}.h5ad\"))"
   ]
  },
  {
   "cell_type": "code",
   "execution_count": null,
   "metadata": {},
   "outputs": [],
   "source": [
    "import geopandas as gpd\n",
    "import shapely\n",
    "\n",
    "#Create a test dataframe\n",
    "    #The first line is valid, the second is not, it starts and ends at the same point\n",
    "wkts  = [\"LINESTRING (30 10, 10 30, 40 40)\", \"LINESTRING (30 10, 30 10)\"]\n",
    "geometries = [shapely.wkt.loads(x) for x in wkts] #Create shapely geometries\n",
    "df = gpd.GeoDataFrame(geometry=geometries) #And a data frame\n",
    "\n",
    "invalid = df.loc[~df.geometry.is_valid]"
   ]
  },
  {
   "cell_type": "code",
   "execution_count": null,
   "metadata": {},
   "outputs": [],
   "source": [
    "from shapely.validation import make_valid"
   ]
  },
  {
   "cell_type": "code",
   "execution_count": null,
   "metadata": {},
   "outputs": [],
   "source": [
    "import squidpy as sq\n",
    "\n",
    "sq.pl.spatial_scatter(sdata_crop.table)"
   ]
  },
  {
   "cell_type": "code",
   "execution_count": null,
   "metadata": {},
   "outputs": [],
   "source": [
    "sdata.pl.render_labels(\"cell_labels\").pl.show()  # plot"
   ]
  },
  {
   "cell_type": "code",
   "execution_count": null,
   "metadata": {},
   "outputs": [],
   "source": [
    "elements = self.gen_spatial_elements()"
   ]
  },
  {
   "cell_type": "code",
   "execution_count": null,
   "metadata": {},
   "outputs": [],
   "source": [
    "cr.pp.xenium_explorer_selection(file_coord)"
   ]
  }
 ],
 "metadata": {
  "kernelspec": {
   "display_name": "bio",
   "language": "python",
   "name": "python3"
  },
  "language_info": {
   "codemirror_mode": {
    "name": "ipython",
    "version": 3
   },
   "file_extension": ".py",
   "mimetype": "text/x-python",
   "name": "python",
   "nbconvert_exporter": "python",
   "pygments_lexer": "ipython3",
   "version": "3.10.4"
  }
 },
 "nbformat": 4,
 "nbformat_minor": 2
}
