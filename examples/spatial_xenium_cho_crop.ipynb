{
 "cells": [
  {
   "cell_type": "markdown",
   "metadata": {},
   "source": [
    "# Setup\n",
    "\n",
    "```\n",
    "pip install git+https://github.com/scverse/spatialdata.git@main\n",
    "pip install git+https://github.com/scverse/spatialdata-io.git@main\n",
    "```\n",
    "\n",
    "This is the stuff you have to edit; the rest of the sections can run as-is after you've set the needed parameters.\n",
    "\n",
    "---\n",
    "\n",
    "`coord_suffix` must align with \n",
    "* the sub-directory (corresponds to region, e.g., \"mucosa\") under the `dir_coord` directory where the Xenium Explorer-exported selection files are stored, and\n",
    "* the suffixes of the coordinate selection files (see file naming conventions below).\n",
    "  \n",
    "The `AnnData` objects created will have this suffix as well (e.g., `Uninflamed-50452A_mucosa.h5ad`).\n",
    "\n",
    "---\n",
    "\n",
    "Selection files should be named by this convention:\n",
    "`<library_id>_<coord_suffix>.csv`.\n",
    "\n",
    "For example, if `dir_coord` is `.../coordinates/mucosa`, the mucosa selection file for sample 50452A should be under `.../coordinates/mucosa/50452A_mucosa.csv`. \n",
    "\n",
    "More specifically, if the coordinates directory is under `/mnt/cho_lab/disk2/elizabeth/data/shared-xenium-library/outputs/TUQ97N/nebraska/coordinates`, and the selection region is \"mucosa,\"`dir_coord` should be `/mnt/cho_lab/disk2/elizabeth/data/shared-xenium-library/outputs/TUQ97N/nebraska/coordinates/mucosa`, and the full file path for this sample would be `/mnt/cho_lab/disk2/elizabeth/data/shared-xenium-library/outputs/TUQ97N/nebraska/coordinates/mucosa/50452A_mucosa.csv`.\n",
    "\n",
    "---\n",
    "\n",
    "**As with any other file naming schema, suffixes/directory names should not any special characters other than underscores (`_`) (no periods, dashes, spaces, etc.).**\n",
    "\n",
    "N.B. In the above explanation, `library_id` refers to library/original sample ID without condition (e.g., \"50452A\", not \"Uninflamed-50452A\" like in other places). Remember that `coord_suffix` should also be the name of the parent directory of the coordinate file. I include this information in both the directory and file name to prevent mix-ups should files be moved or placed in the wrong folder.\n",
    "\n",
    "Loading the metadata allows us to find the object IDs (e.g., for TUQ97N, object IDs are in the format <condition (Inflamed/Uninflamed/Stricture)><block_id>) corresponding to the sample IDs.\n"
   ]
  },
  {
   "cell_type": "code",
   "execution_count": 1,
   "metadata": {},
   "outputs": [
    {
     "data": {
      "text/html": [
       "<pre style=\"white-space:pre;overflow-x:auto;line-height:normal;font-family:Menlo,'DejaVu Sans Mono',consolas,'Courier New',monospace\"><span style=\"color: #808000; text-decoration-color: #808000; font-weight: bold\">ryp2 is not installed. Install with </span><span style=\"color: #008000; text-decoration-color: #008000; font-weight: bold\">pip install rpy2 </span><span style=\"color: #808000; text-decoration-color: #808000; font-weight: bold\">to run tools with R support.</span>\n",
       "</pre>\n"
      ],
      "text/plain": [
       "\u001b[1;33mryp2 is not installed. Install with \u001b[0m\u001b[1;32mpip install rpy2 \u001b[0m\u001b[1;33mto run tools with R support.\u001b[0m\n"
      ]
     },
     "metadata": {},
     "output_type": "display_data"
    },
    {
     "name": "stderr",
     "output_type": "stream",
     "text": [
      "Downloading data from `https://omnipathdb.org/queries/enzsub?format=json`\n",
      "Downloading data from `https://omnipathdb.org/queries/interactions?format=json`\n",
      "Downloading data from `https://omnipathdb.org/queries/complexes?format=json`\n",
      "Downloading data from `https://omnipathdb.org/queries/annotations?format=json`\n",
      "Downloading data from `https://omnipathdb.org/queries/intercell?format=json`\n",
      "Downloading data from `https://omnipathdb.org/about?format=text`\n"
     ]
    },
    {
     "data": {
      "text/html": [
       "<div>\n",
       "<style scoped>\n",
       "    .dataframe tbody tr th:only-of-type {\n",
       "        vertical-align: middle;\n",
       "    }\n",
       "\n",
       "    .dataframe tbody tr th {\n",
       "        vertical-align: top;\n",
       "    }\n",
       "\n",
       "    .dataframe thead th {\n",
       "        text-align: right;\n",
       "    }\n",
       "</style>\n",
       "<table border=\"1\" class=\"dataframe\">\n",
       "  <thead>\n",
       "    <tr style=\"text-align: right;\">\n",
       "      <th></th>\n",
       "      <th>Name</th>\n",
       "    </tr>\n",
       "    <tr>\n",
       "      <th>Sample</th>\n",
       "      <th></th>\n",
       "    </tr>\n",
       "  </thead>\n",
       "  <tbody>\n",
       "    <tr>\n",
       "      <th>Inflamed-50006A</th>\n",
       "      <td>50006</td>\n",
       "    </tr>\n",
       "    <tr>\n",
       "      <th>Uninflamed-50006B</th>\n",
       "      <td>50006</td>\n",
       "    </tr>\n",
       "    <tr>\n",
       "      <th>Inflamed-50217A</th>\n",
       "      <td>50217</td>\n",
       "    </tr>\n",
       "    <tr>\n",
       "      <th>Uninflamed-50217B</th>\n",
       "      <td>50217</td>\n",
       "    </tr>\n",
       "    <tr>\n",
       "      <th>Inflamed-50336B</th>\n",
       "      <td>50336</td>\n",
       "    </tr>\n",
       "    <tr>\n",
       "      <th>Uninflamed-50336C</th>\n",
       "      <td>50336</td>\n",
       "    </tr>\n",
       "    <tr>\n",
       "      <th>Inflamed-50403B</th>\n",
       "      <td>50403</td>\n",
       "    </tr>\n",
       "    <tr>\n",
       "      <th>Uninflamed-50403A2</th>\n",
       "      <td>50403</td>\n",
       "    </tr>\n",
       "  </tbody>\n",
       "</table>\n",
       "</div>"
      ],
      "text/plain": [
       "                     Name\n",
       "Sample                   \n",
       "Inflamed-50006A     50006\n",
       "Uninflamed-50006B   50006\n",
       "Inflamed-50217A     50217\n",
       "Uninflamed-50217B   50217\n",
       "Inflamed-50336B     50336\n",
       "Uninflamed-50336C   50336\n",
       "Inflamed-50403B     50403\n",
       "Uninflamed-50403A2  50403"
      ]
     },
     "execution_count": 1,
     "metadata": {},
     "output_type": "execute_result"
    }
   ],
   "source": [
    "%load_ext autoreload\n",
    "%autoreload 2\n",
    "%matplotlib inline\n",
    "\n",
    "import os\n",
    "import re\n",
    "import math\n",
    "import functools\n",
    "import traceback\n",
    "import anndata\n",
    "import scanpy as sc\n",
    "import spatialdata_plot\n",
    "import numpy as np\n",
    "import pandas as pd\n",
    "import corescpy as cr\n",
    "\n",
    "# Main\n",
    "write_object = True  # change to True when you're ready to save objects\n",
    "overwrite = False  # overwrite if already exists?\n",
    "regions = [\"mucosa\", \"serosa\", \"myenteric_plexus\", \"submucosa\",\n",
    "           \"smc_longitudinal\", \"smc_circular\"]\n",
    "col_leiden = \"leiden_res1pt5_dist0_npc30\"\n",
    "col_ann = \"Lump\"\n",
    "\n",
    "# Process Options\n",
    "panel = \"TUQ97N\"  # Xenium panel ID\n",
    "constants_dict = cr.pp.CONSTANTS_PANELS[panel]\n",
    "cso, col_sample, col_condition, col_inflamed, col_subject = [\n",
    "    constants_dict[x] if x in constants_dict else None for x in [\n",
    "        \"col_sample_id_o\", \"col_sample_id\", \"col_condition\",\n",
    "        \"col_inflamed\", \"col_subject\"]]\n",
    "col_stricture, key_stricture, col_fff = [\n",
    "    constants_dict[x] if (x in constants_dict) else None for x in [\n",
    "        \"col_stricture\", \"key_stricture\", \"col_data_dir\"]]\n",
    "# libs = [  # sample IDs from patients for whom we have all conditions\n",
    "#     \"50452A\", \"50452B\", \"50452C\",  # old segmentation\n",
    "#     \"50006A\", \"50006B\", \"50006C\",  # rest are new segmentation\n",
    "#     \"50217A\", \"50217B\", \"50217C\",\n",
    "#     \"50336B\", \"50336C\", \"50336A\",\n",
    "#     \"50403A2\", \"50403B\", \"50403C1\"\n",
    "# ]  # excludes low-quality sample/condition replicates 50403A1 & 50403C2\n",
    "libs = [\"50006A\", \"50006B\", \"50217A\", \"50217B\", \"50336B\", \"50336C\",\n",
    "        \"50403B\", \"50403A2\"]  # just inflamed/uninflamed (no strictures)\n",
    "# libs = None  # to run all available samples\n",
    "input_suffix = \"\"  # in case want to crop objects with some suffix\n",
    "# due to creation of a subsidiary object, e.g., for\n",
    "# \"Stricture-50452C_downsampled.h5ad\"\n",
    "# input_suffix would be \"_downsampled\". For \"main\" objects, input_suffix=\"\"\n",
    "plot = True  # could slow process down if large samples/cropped area\n",
    "\n",
    "# Files & Directories\n",
    "direc = \"/mnt/cho_lab/bbdata2/\"  # mounted NFS with data\n",
    "dir_entry = \"/mnt/cho_lab/disk2\"  # Spark writeable data directory\n",
    "mdf = str(\"/mnt/cho_lab/disk2/elizabeth/data/shared-xenium-library/samples_\"\n",
    "          f\"{panel}.csv\")  # metadata file path (for now; will soon be on NFS)\n",
    "dir_writeable = os.path.join(\n",
    "    dir_entry, f\"elizabeth/data/shared-xenium-library\")  # where objects are\n",
    "out_dir = os.path.join(\n",
    "    dir_writeable, f\"outputs/{panel}/nebraska\")  # object output directory\n",
    "\n",
    "#  Your Folders\n",
    "out_new = os.path.join(\n",
    "    dir_entry,\n",
    "    f\"{os.getlogin()}/data/shared-xenium-library/outputs/{panel}/nebraska\")\n",
    "\n",
    "# Constants (Shouldn't Need Edits Unless Extreme Process Changes)\n",
    "dir_data = os.path.join(direc, f\"outputs/{panel}\")\n",
    "files = functools.reduce(lambda i, j: i + j, [[os.path.join(\n",
    "    run, i) for i in os.listdir(os.path.join(\n",
    "        dir_data, run))] for run in os.listdir(dir_data)])  # all data paths\n",
    "os.makedirs(out_dir, exist_ok=True)  # make output directory if needed\n",
    "metadata = cr.pp.get_metadata_cho(direc, mdf, panel=panel, samples=libs)\n",
    "metadata[col_subject]"
   ]
  },
  {
   "cell_type": "markdown",
   "metadata": {},
   "source": [
    "# Subset Data by Coordinate Files & Write Cropped Objects\n",
    "\n",
    "Subset the data by coordinates (`corescpy` can use Xenium Explorer-exported manual selection files to get those coordinates) and then write the cropped objects to `out_dir/<coord_suffix>`."
   ]
  },
  {
   "cell_type": "code",
   "execution_count": 156,
   "metadata": {},
   "outputs": [
    {
     "name": "stdout",
     "output_type": "stream",
     "text": [
      "\n",
      "\n",
      "================================================================================\n",
      "50006A\n",
      "================================================================================\n",
      "\n",
      "\n",
      "\n",
      "\n",
      "<<< INITIALIZING SPATIAL CLASS OBJECT >>>\n",
      "\n",
      "\u001b[34mINFO    \u001b[0m reading                                                                                                   \n",
      "         \u001b[35m/mnt/cho_lab/bbdata2/outputs/TUQ97N/CHO-007/output-XETG00189__0022407__50006A-TUQ97N-EA__20240411__205514/\u001b[0m\n",
      "         \u001b[95mcell_feature_matrix.h5\u001b[0m                                                                                    \n"
     ]
    }
   ],
   "source": [
    "%%time\n",
    "\n",
    "for s in libs:  # iterate samples\n",
    "    print(f\"\\n\\n{'=' * 80}\\n{s}\\n{'=' * 80}\\n\\n\")\n",
    "    fff = os.path.join(dir_data, np.array(files)[np.where([\n",
    "        s == os.path.basename(x).split(\"__\")[2].split(\"-\")[0]\n",
    "        for x in files])[0][0]])  # sample's Xenium data directory path\n",
    "    lib = metadata.reset_index().set_index(cso).loc[s][col_sample]\n",
    "    file_obj_proc = os.path.join(out_dir, f\"{lib}{input_suffix}.h5ad\")\n",
    "    self = cr.Spatial(fff, library_id=lib)  # load original data\n",
    "    self.update_from_h5ad(file_obj_proc)  # update with processed object\n",
    "    if \"shapes\" in dir(sdata):\n",
    "        for x in sdata.shapes:\n",
    "            if self.adata.shapes[x].isnull().any().any():\n",
    "                self.adata.shapes[x] = sdata.shapes[x].dropna()\n",
    "    for coord_suffix in regions:\n",
    "        print(f\"\\n\\n\\t\\t{'*' * 40}\\n\\t\\t{s}\\n\\t\\t{'*' * 40}\\n\\n\")\n",
    "        dir_coord = os.path.join(\n",
    "            out_new, \"coordinates\", coord_suffix)  # coordinates (NFS soon?)\n",
    "        out = os.path.join(out_new, \"objects_cropped\", coord_suffix)  # path\n",
    "        os.makedirs(out, exist_ok=True)  # make sub-directory for new objects?\n",
    "        file_coord = os.path.join(dir_coord, s + f\"_{coord_suffix}.csv\")\n",
    "        file_obj_crop = os.path.join(out, f\"{lib}_{coord_suffix}.h5ad\")\n",
    "        if overwrite is False and os.path.exists(file_obj_crop):\n",
    "            print(f\"*** Subset {file_obj_crop} already exists\")\n",
    "            continue\n",
    "        if not os.path.exists(file_coord):\n",
    "            print(f\"*** Coordinate file {file_coord} doesn't exist\")\n",
    "            continue\n",
    "        print(f\"\\n\\nData: {fff}\\nObject: {file_obj_proc}\"\n",
    "              f\"\\nCoordinates: {file_coord}\\nOuput: {file_obj_crop}\")\n",
    "        sdata = self.crop(file_coord)  # crop data to coordinates\n",
    "        try:\n",
    "            # sdata = self.crop(file_coord)  # crop data to coordinates\n",
    "            if plot:\n",
    "                try:\n",
    "                    sdata.pl.render_labels(\"cell_labels\").pl.show()  # plot\n",
    "                except Exception:\n",
    "                    pass\n",
    "            self.adata = sdata\n",
    "            if write_object is True:\n",
    "                self.write(file_obj_crop)  # write cropped\n",
    "        except Exception:\n",
    "            print(traceback.format_exc(), f\"Cropping \\n\\n{s} failed!\")\n",
    "print(\"\\n\\nCompleted!\")"
   ]
  },
  {
   "cell_type": "code",
   "execution_count": 6,
   "metadata": {},
   "outputs": [
    {
     "data": {
      "text/plain": [
       "AnnData object with n_obs × n_vars = 220569 × 469\n",
       "    obs: 'cell_id', 'transcript_counts', 'control_probe_counts', 'control_codeword_counts', 'unassigned_codeword_counts', 'deprecated_codeword_counts', 'total_counts', 'cell_area', 'nucleus_area', 'region', 'z_level', 'nucleus_count', 'cell_labels', 'Sample', 'Sample ID', 'Patient', 'Status', 'Slide Id', 'Project', 'Location', 'Stricture', 'GRID ID', 'Inflamed', 'Procedure Date', 'Age', 'Sex', 'Race', 'Hispanic', 'Diagnosis', 'Project.1', 'Procedure', 'Disease_Status', 'Date Collected', 'Date Sectioned', 'Date Hybridization', 'Storage 4c', 'Created By', 'Created', 'Storage Status', 'Location.1', 'Storage Row', 'Storage Col', 'Checked Out By', 'out_file', 'Condition', 'file_path', 'n_counts', 'log_counts', 'n_genes', 'n_genes_by_counts', 'log1p_n_genes_by_counts', 'log1p_total_counts', 'assay_protein', 'col_gene_symbols', 'col_cell_type', 'col_sample_id', 'col_batch', 'col_subject', 'col_condition', 'col_num_umis', 'col_segment', 'cell_filter_pmt', 'cell_filter_ncounts', 'cell_filter_ngene', 'gene_filter_ncell', 'gene_filter_ncounts', 'custom_thresholds', 'method_norm', 'figsize', 'kws_scale', 'leiden_res0pt5_dist0pt5_npc30', 'label_res0pt5_dist0pt5_npc30', 'leiden_res0pt75_dist0pt3_npc30', 'label_res0pt75_dist0pt3_npc30', 'leiden_res1pt5_dist0_npc30', 'label_res1pt5_dist0_npc30', 'manual_res0pt5_dist0pt5_npc30', 'manual_res0pt75_dist0pt3_npc30', 'manual_res1pt5_dist0_npc30', 'annotation_res0pt5_dist0pt5_npc30', 'bin_res0pt5_dist0pt5_npc30', 'bucket_res0pt5_dist0pt5_npc30', 'annotation_res0pt75_dist0pt3_npc30', 'bin_res0pt75_dist0pt3_npc30', 'bucket_res0pt75_dist0pt3_npc30', 'annotation_res1pt5_dist0_npc30', 'bin_res1pt5_dist0_npc30', 'bucket_res1pt5_dist0_npc30', 'CDKN1A_threshold2', 'TP53_threshold2', 'PLAUR_threshold2', 'CDKN1A_TP53_threshold2', 'CDKN1A_PLAUR_threshold2', 'TP53_PLAUR_threshold2', 'CDKN1A_TP53_PLAUR_threshold2', 'IL7R_threshold2', 'KLRB1_threshold2', 'RORC_threshold2', 'IL7R_KLRB1_threshold2', 'IL7R_RORC_threshold2', 'KLRB1_RORC_threshold2', 'IL7R_KLRB1_RORC_threshold2', 'Name', 'Inflammation', 'Annotation', 'n_obs_raw'\n",
       "    var: 'gene_ids', 'feature_types', 'genome', 'mt', 'ribo', 'hb', 'n_cells_by_counts', 'mean_counts', 'log1p_mean_counts', 'pct_dropout_by_counts', 'total_counts', 'log1p_total_counts', 'n_cells', 'n_counts', 'highly_variable', 'means', 'dispersions', 'dispersions_norm', 'mean', 'std'\n",
       "    uns: 'Annotation_colors', 'Sample_colors', 'hvg', 'label_res0pt5_dist0pt5_npc30_colors', 'label_res0pt75_dist0pt3_npc30_colors', 'label_res1pt5_dist0_npc30_colors', 'leiden_res0pt5_dist0pt5_npc30', 'leiden_res0pt75_dist0pt3_npc30', 'leiden_res1pt5_dist0_npc30', 'liana_res', 'log1p', 'manual_res1pt5_dist0_npc30_centrality_scores', 'manual_res1pt5_dist0_npc30_co_occurrence', 'manual_res1pt5_dist0_npc30_interactions', 'manual_res1pt5_dist0_npc30_nhood_enrichment', 'neighbors', 'original_ix', 'pca', 'rank_genes_groups_leiden_res0pt5_dist0pt5_npc30', 'rank_genes_groups_leiden_res0pt75_dist0pt3_npc30', 'rank_genes_groups_leiden_res1pt5_dist0_npc30', 'spatial_neighbors', 'spatialdata_attrs', 'specifications', 'umap', 'spatial'\n",
       "    obsm: 'X_pca', 'X_umap', 'spatial'\n",
       "    varm: 'PCs'\n",
       "    layers: 'counts', 'log1p', 'scaled'\n",
       "    obsp: 'connectivities', 'distances', 'spatial_connectivities', 'spatial_distances'"
      ]
     },
     "execution_count": 6,
     "metadata": {},
     "output_type": "execute_result"
    }
   ],
   "source": [
    "self.rna"
   ]
  },
  {
   "cell_type": "code",
   "execution_count": 125,
   "metadata": {},
   "outputs": [
    {
     "name": "stdout",
     "output_type": "stream",
     "text": [
      "\n",
      "\n",
      "================================================================================\n",
      "50006B\n",
      "================================================================================\n",
      "\n",
      "\n",
      "\n",
      "\n",
      "<<< INITIALIZING SPATIAL CLASS OBJECT >>>\n",
      "\n",
      "\u001b[34mINFO    \u001b[0m reading                                                                                                   \n",
      "         \u001b[35m/mnt/cho_lab/bbdata2/outputs/TUQ97N/CHO-007/output-XETG00189__0022407__50006B-TUQ97N-EA__20240411__205514/\u001b[0m\n",
      "         \u001b[95mcell_feature_matrix.h5\u001b[0m                                                                                    \n",
      "WARNING: Unable to find `y`, `x` or `z` dimension in `('c', 'y', 'x')`. Renaming to `('channels', 'y', 'x', 'z')`\n",
      "WARNING: Unable to find `y`, `x` or `z` dimension in `('c', 'y', 'x')`. Renaming to `('channels', 'y', 'x', 'z')`\n",
      "WARNING: Unable to find `y`, `x` or `z` dimension in `('c', 'y', 'x')`. Renaming to `('channels', 'y', 'x', 'z')`\n",
      "WARNING: Unable to find `y`, `x` or `z` dimension in `('c', 'y', 'x')`. Renaming to `('channels', 'y', 'x', 'z')`\n",
      "WARNING: Unable to find `y`, `x` or `z` dimension in `('c', 'y', 'x')`. Renaming to `('channels', 'y', 'x', 'z')`\n",
      "\n",
      "\n",
      "================================================================================\n",
      "Counts: Initial\n",
      "================================================================================\n",
      "\n",
      "\n",
      "\tObservations: 116837\n",
      "\n",
      "\tGenes: 469\n",
      "\n",
      "\n",
      "\n",
      "================================================================================\n",
      "\n",
      "\n",
      "\n",
      "\n",
      " AnnData object with n_obs × n_vars = 116837 × 469\n",
      "    obs: 'cell_id', 'transcript_counts', 'control_probe_counts', 'control_codeword_counts', 'unassigned_codeword_counts', 'deprecated_codeword_counts', 'total_counts', 'cell_area', 'nucleus_area', 'region', 'z_level', 'nucleus_count', 'cell_labels', 'Sample'\n",
      "    var: 'gene_ids', 'feature_types', 'genome'\n",
      "    uns: 'spatialdata_attrs', 'spatial', 'original_ix'\n",
      "    obsm: 'spatial'\n",
      "    layers: 'counts' \n",
      "\n",
      "                      gene_ids    feature_types   genome\n",
      "gene_symbols                                           \n",
      "ABCA7         ENSG00000064687  Gene Expression  Unknown\n",
      "ACTA2         ENSG00000107796  Gene Expression  Unknown\n",
      "ACTG2         ENSG00000163017  Gene Expression  Unknown\n",
      "ADAM15        ENSG00000143537  Gene Expression  Unknown\n",
      "ADAM28        ENSG00000042980  Gene Expression  Unknown \n",
      "\n",
      " \n",
      "\n",
      "\n",
      "\n",
      "col_gene_symbols=\"gene_symbols\"\n",
      "col_cell_type=\"leiden\"\n",
      "col_sample_id=\"Sample\"\n",
      "col_batch=\"Sample\"\n",
      "col_subject=None\n",
      "col_condition=None\n",
      "col_num_umis=None\n",
      "col_segment=\"region\"\n",
      "\n",
      "\n",
      "\n",
      "key_control=None\n",
      "key_treatment=None\n",
      "\n",
      "\n",
      "<<< RESTORING SINGLE-SAMPLE FROM h5ad >>>\n",
      "\n",
      "WARNING: Unable to find `y`, `x` or `z` dimension in `('c', 'y', 'x')`. Renaming to `('channels', 'y', 'x', 'z')`\n",
      "WARNING: Unable to find `y`, `x` or `z` dimension in `('c', 'y', 'x')`. Renaming to `('channels', 'y', 'x', 'z')`\n",
      "WARNING: Unable to find `y`, `x` or `z` dimension in `('c', 'y', 'x')`. Renaming to `('channels', 'y', 'x', 'z')`\n",
      "WARNING: Unable to find `y`, `x` or `z` dimension in `('c', 'y', 'x')`. Renaming to `('channels', 'y', 'x', 'z')`\n",
      "WARNING: Unable to find `y`, `x` or `z` dimension in `('c', 'y', 'x')`. Renaming to `('channels', 'y', 'x', 'z')`\n"
     ]
    }
   ],
   "source": [
    "print(f\"\\n\\n{'=' * 80}\\n{s}\\n{'=' * 80}\\n\\n\")\n",
    "fff = os.path.join(dir_data, np.array(files)[np.where([\n",
    "    s == os.path.basename(x).split(\"__\")[2].split(\"-\")[0]\n",
    "    for x in files])[0][0]])  # sample's Xenium data directory path\n",
    "lib = metadata.reset_index().set_index(cso).loc[s][col_sample]\n",
    "file_obj_proc = os.path.join(out_dir, f\"{lib}{input_suffix}.h5ad\")\n",
    "self = cr.Spatial(fff, library_id=lib, cells_as_circles=False)  # original\n",
    "self.update_from_h5ad(file_obj_proc)  # update with processed object"
   ]
  },
  {
   "cell_type": "markdown",
   "metadata": {},
   "source": [
    "# Workspace"
   ]
  },
  {
   "cell_type": "code",
   "execution_count": 104,
   "metadata": {},
   "outputs": [
    {
     "ename": "KeyError",
     "evalue": "'cell_circles'",
     "output_type": "error",
     "traceback": [
      "\u001b[0;31m---------------------------------------------------------------------------\u001b[0m",
      "\u001b[0;31mKeyError\u001b[0m                                  Traceback (most recent call last)",
      "Cell \u001b[0;32mIn[104], line 1\u001b[0m\n\u001b[0;32m----> 1\u001b[0m \u001b[38;5;28;43mself\u001b[39;49m\u001b[38;5;241;43m.\u001b[39;49m\u001b[43madata\u001b[49m\u001b[38;5;241;43m.\u001b[39;49m\u001b[43mshapes\u001b[49m\u001b[43m[\u001b[49m\u001b[38;5;124;43m\"\u001b[39;49m\u001b[38;5;124;43mcell_circles\u001b[39;49m\u001b[38;5;124;43m\"\u001b[39;49m\u001b[43m]\u001b[49m[\u001b[38;5;124m\"\u001b[39m\u001b[38;5;124mradius\u001b[39m\u001b[38;5;124m\"\u001b[39m]\u001b[38;5;241m.\u001b[39misna()\u001b[38;5;241m.\u001b[39msum()\n",
      "File \u001b[0;32m~/miniconda3/envs/corescpy/lib/python3.10/collections/__init__.py:1106\u001b[0m, in \u001b[0;36mUserDict.__getitem__\u001b[0;34m(self, key)\u001b[0m\n\u001b[1;32m   1104\u001b[0m \u001b[38;5;28;01mif\u001b[39;00m \u001b[38;5;28mhasattr\u001b[39m(\u001b[38;5;28mself\u001b[39m\u001b[38;5;241m.\u001b[39m\u001b[38;5;18m__class__\u001b[39m, \u001b[38;5;124m\"\u001b[39m\u001b[38;5;124m__missing__\u001b[39m\u001b[38;5;124m\"\u001b[39m):\n\u001b[1;32m   1105\u001b[0m     \u001b[38;5;28;01mreturn\u001b[39;00m \u001b[38;5;28mself\u001b[39m\u001b[38;5;241m.\u001b[39m\u001b[38;5;18m__class__\u001b[39m\u001b[38;5;241m.\u001b[39m\u001b[38;5;21m__missing__\u001b[39m(\u001b[38;5;28mself\u001b[39m, key)\n\u001b[0;32m-> 1106\u001b[0m \u001b[38;5;28;01mraise\u001b[39;00m \u001b[38;5;167;01mKeyError\u001b[39;00m(key)\n",
      "\u001b[0;31mKeyError\u001b[0m: 'cell_circles'"
     ]
    }
   ],
   "source": [
    "self.adata.shapes[\"cell_circles\"][\"radius\"].isna().sum()"
   ]
  },
  {
   "cell_type": "code",
   "execution_count": 106,
   "metadata": {},
   "outputs": [
    {
     "data": {
      "text/plain": [
       "SpatialData object\n",
       "├── Images\n",
       "│     └── 'morphology_focus': DataTree[cyx] (5, 16631, 17416), (5, 8316, 8708), (5, 4158, 4354), (5, 2079, 2177), (5, 1040, 1089)\n",
       "├── Labels\n",
       "│     ├── 'cell_labels': DataTree[yx] (16631, 17416), (8316, 8708), (4158, 4354), (2079, 2177), (1040, 1089)\n",
       "│     └── 'nucleus_labels': DataTree[yx] (16631, 17416), (8316, 8708), (4158, 4354), (2079, 2177), (1040, 1089)\n",
       "├── Points\n",
       "│     └── 'transcripts': DataFrame with shape: (<Delayed>, 11) (3D points)\n",
       "└── Shapes\n",
       "      ├── 'cell_boundaries': GeoDataFrame shape: (8733, 1) (2D shapes)\n",
       "      └── 'nucleus_boundaries': GeoDataFrame shape: (8646, 1) (2D shapes)\n",
       "with coordinate systems:\n",
       "    ▸ 'global', with elements:\n",
       "        morphology_focus (Images), cell_labels (Labels), nucleus_labels (Labels), transcripts (Points), cell_boundaries (Shapes), nucleus_boundaries (Shapes)"
      ]
     },
     "execution_count": 106,
     "metadata": {},
     "output_type": "execute_result"
    }
   ],
   "source": [
    "sdata"
   ]
  },
  {
   "cell_type": "code",
   "execution_count": 109,
   "metadata": {},
   "outputs": [
    {
     "data": {
      "text/plain": [
       "SpatialData object\n",
       "├── Images\n",
       "│     └── 'morphology_focus': DataTree[cyx] (5, 16631, 17416), (5, 8316, 8708), (5, 4158, 4354), (5, 2079, 2177), (5, 1040, 1089)\n",
       "├── Labels\n",
       "│     ├── 'cell_labels': DataTree[yx] (16631, 17416), (8316, 8708), (4158, 4354), (2079, 2177), (1040, 1089)\n",
       "│     └── 'nucleus_labels': DataTree[yx] (16631, 17416), (8316, 8708), (4158, 4354), (2079, 2177), (1040, 1089)\n",
       "├── Points\n",
       "│     └── 'transcripts': DataFrame with shape: (<Delayed>, 11) (3D points)\n",
       "└── Shapes\n",
       "      ├── 'cell_boundaries': GeoDataFrame shape: (8733, 1) (2D shapes)\n",
       "      └── 'nucleus_boundaries': GeoDataFrame shape: (8646, 1) (2D shapes)\n",
       "with coordinate systems:\n",
       "    ▸ 'global', with elements:\n",
       "        morphology_focus (Images), cell_labels (Labels), nucleus_labels (Labels), transcripts (Points), cell_boundaries (Shapes), nucleus_boundaries (Shapes)"
      ]
     },
     "execution_count": 109,
     "metadata": {},
     "output_type": "execute_result"
    }
   ],
   "source": [
    "sdata"
   ]
  },
  {
   "cell_type": "code",
   "execution_count": 150,
   "metadata": {},
   "outputs": [
    {
     "data": {
      "text/plain": [
       "'cell_id'"
      ]
     },
     "execution_count": 150,
     "metadata": {},
     "output_type": "execute_result"
    }
   ],
   "source": []
  },
  {
   "cell_type": "code",
   "execution_count": 121,
   "metadata": {},
   "outputs": [
    {
     "data": {
      "text/plain": [
       "SpatialData object\n",
       "├── Images\n",
       "│     └── 'morphology_focus': DataTree[cyx] (5, 16631, 17416), (5, 8316, 8708), (5, 4158, 4354), (5, 2079, 2177), (5, 1040, 1089)\n",
       "├── Labels\n",
       "│     ├── 'cell_labels': DataTree[yx] (16631, 17416), (8316, 8708), (4158, 4354), (2079, 2177), (1040, 1089)\n",
       "│     └── 'nucleus_labels': DataTree[yx] (16631, 17416), (8316, 8708), (4158, 4354), (2079, 2177), (1040, 1089)\n",
       "├── Points\n",
       "│     └── 'transcripts': DataFrame with shape: (<Delayed>, 11) (3D points)\n",
       "└── Shapes\n",
       "      ├── 'cell_boundaries': GeoDataFrame shape: (8733, 1) (2D shapes)\n",
       "      └── 'nucleus_boundaries': GeoDataFrame shape: (8646, 1) (2D shapes)\n",
       "with coordinate systems:\n",
       "    ▸ 'global', with elements:\n",
       "        morphology_focus (Images), cell_labels (Labels), nucleus_labels (Labels), transcripts (Points), cell_boundaries (Shapes), nucleus_boundaries (Shapes)"
      ]
     },
     "execution_count": 121,
     "metadata": {},
     "output_type": "execute_result"
    }
   ],
   "source": [
    "sdata"
   ]
  },
  {
   "cell_type": "code",
   "execution_count": 140,
   "metadata": {},
   "outputs": [
    {
     "data": {
      "text/plain": [
       "View of AnnData object with n_obs × n_vars = 5215 × 469\n",
       "    obs: 'cell_id', 'transcript_counts', 'control_probe_counts', 'control_codeword_counts', 'unassigned_codeword_counts', 'deprecated_codeword_counts', 'total_counts', 'cell_area', 'nucleus_area', 'region', 'z_level', 'nucleus_count', 'cell_labels', 'Sample', 'Sample ID', 'Patient', 'Status', 'Slide Id', 'Project', 'Location', 'Stricture', 'GRID ID', 'Inflamed', 'Procedure Date', 'Age', 'Sex', 'Race', 'Hispanic', 'Diagnosis', 'Project.1', 'Procedure', 'Disease_Status', 'Date Collected', 'Date Sectioned', 'Date Hybridization', 'Storage 4c', 'Created By', 'Created', 'Storage Status', 'Location.1', 'Storage Row', 'Storage Col', 'Checked Out By', 'out_file', 'Condition', 'file_path', 'n_counts', 'log_counts', 'n_genes', 'n_genes_by_counts', 'log1p_n_genes_by_counts', 'log1p_total_counts', 'assay_protein', 'col_gene_symbols', 'col_cell_type', 'col_sample_id', 'col_batch', 'col_subject', 'col_condition', 'col_num_umis', 'col_segment', 'cell_filter_pmt', 'cell_filter_ncounts', 'cell_filter_ngene', 'gene_filter_ncell', 'gene_filter_ncounts', 'custom_thresholds', 'method_norm', 'figsize', 'kws_scale', 'leiden_res0pt5_dist0pt5_npc30', 'label_res0pt5_dist0pt5_npc30', 'leiden_res0pt75_dist0pt3_npc30', 'label_res0pt75_dist0pt3_npc30', 'leiden_res1pt5_dist0_npc30', 'label_res1pt5_dist0_npc30', 'manual_res0pt5_dist0pt5_npc30', 'manual_res0pt75_dist0pt3_npc30', 'manual_res1pt5_dist0_npc30', 'annotation_res0pt5_dist0pt5_npc30', 'bin_res0pt5_dist0pt5_npc30', 'bucket_res0pt5_dist0pt5_npc30', 'annotation_res0pt75_dist0pt3_npc30', 'bin_res0pt75_dist0pt3_npc30', 'bucket_res0pt75_dist0pt3_npc30', 'annotation_res1pt5_dist0_npc30', 'bin_res1pt5_dist0_npc30', 'bucket_res1pt5_dist0_npc30', 'CDKN1A_threshold2', 'TP53_threshold2', 'PLAUR_threshold2', 'CDKN1A_TP53_threshold2', 'CDKN1A_PLAUR_threshold2', 'TP53_PLAUR_threshold2', 'CDKN1A_TP53_PLAUR_threshold2', 'IL7R_threshold2', 'KLRB1_threshold2', 'RORC_threshold2', 'IL7R_KLRB1_threshold2', 'IL7R_RORC_threshold2', 'KLRB1_RORC_threshold2', 'IL7R_KLRB1_RORC_threshold2', 'Name', 'Inflammation', 'Annotation', 'n_obs_raw'\n",
       "    var: 'gene_ids', 'feature_types', 'genome', 'mt', 'ribo', 'hb', 'n_cells_by_counts', 'mean_counts', 'log1p_mean_counts', 'pct_dropout_by_counts', 'total_counts', 'log1p_total_counts', 'n_cells', 'n_counts', 'highly_variable', 'means', 'dispersions', 'dispersions_norm', 'mean', 'std'\n",
       "    uns: 'Annotation_colors', 'Sample_colors', 'hvg', 'label_res0pt5_dist0pt5_npc30_colors', 'label_res0pt75_dist0pt3_npc30_colors', 'label_res1pt5_dist0_npc30_colors', 'leiden_res0pt5_dist0pt5_npc30', 'leiden_res0pt75_dist0pt3_npc30', 'leiden_res1pt5_dist0_npc30', 'liana_res', 'log1p', 'manual_res1pt5_dist0_npc30_centrality_scores', 'manual_res1pt5_dist0_npc30_co_occurrence', 'manual_res1pt5_dist0_npc30_interactions', 'manual_res1pt5_dist0_npc30_nhood_enrichment', 'neighbors', 'original_ix', 'pca', 'rank_genes_groups_leiden_res0pt5_dist0pt5_npc30', 'rank_genes_groups_leiden_res0pt75_dist0pt3_npc30', 'rank_genes_groups_leiden_res1pt5_dist0_npc30', 'spatial_neighbors', 'spatialdata_attrs', 'specifications', 'umap', 'spatial'\n",
       "    obsm: 'X_pca', 'X_umap', 'spatial'\n",
       "    varm: 'PCs'\n",
       "    layers: 'counts', 'log1p', 'scaled'\n",
       "    obsp: 'connectivities', 'distances', 'spatial_connectivities', 'spatial_distances'"
      ]
     },
     "execution_count": 140,
     "metadata": {},
     "output_type": "execute_result"
    }
   ],
   "source": [
    "self.rna[self.rna.obs[\"cell_id\"].isin(sdata.shapes[\"cell_boundaries\"].index)]"
   ]
  },
  {
   "cell_type": "code",
   "execution_count": 136,
   "metadata": {},
   "outputs": [
    {
     "data": {
      "text/plain": [
       "SpatialData object\n",
       "├── Images\n",
       "│     └── 'morphology_focus': DataTree[cyx] (5, 34128, 51148), (5, 17064, 25574), (5, 8532, 12787), (5, 4266, 6393), (5, 2133, 3196)\n",
       "├── Labels\n",
       "│     ├── 'cell_labels': DataTree[yx] (34128, 51148), (17064, 25574), (8532, 12787), (4266, 6393), (2133, 3196)\n",
       "│     └── 'nucleus_labels': DataTree[yx] (34128, 51148), (17064, 25574), (8532, 12787), (4266, 6393), (2133, 3196)\n",
       "├── Points\n",
       "│     └── 'transcripts': DataFrame with shape: (<Delayed>, 11) (3D points)\n",
       "├── Shapes\n",
       "│     ├── 'cell_boundaries': GeoDataFrame shape: (116837, 1) (2D shapes)\n",
       "│     └── 'nucleus_boundaries': GeoDataFrame shape: (114734, 1) (2D shapes)\n",
       "└── Tables\n",
       "      └── 'table': AnnData (78976, 469)\n",
       "with coordinate systems:\n",
       "    ▸ 'global', with elements:\n",
       "        morphology_focus (Images), cell_labels (Labels), nucleus_labels (Labels), transcripts (Points), cell_boundaries (Shapes), nucleus_boundaries (Shapes)"
      ]
     },
     "execution_count": 136,
     "metadata": {},
     "output_type": "execute_result"
    }
   ],
   "source": [
    "self.adata"
   ]
  },
  {
   "cell_type": "code",
   "execution_count": null,
   "metadata": {},
   "outputs": [],
   "source": [
    "self.adata.get_annotated_regions(self.adata.table)"
   ]
  },
  {
   "cell_type": "code",
   "execution_count": 134,
   "metadata": {},
   "outputs": [
    {
     "ename": "AttributeError",
     "evalue": "'SpatialData' object has no attribute 'pl'",
     "output_type": "error",
     "traceback": [
      "\u001b[0;31m---------------------------------------------------------------------------\u001b[0m",
      "\u001b[0;31mAttributeError\u001b[0m                            Traceback (most recent call last)",
      "Cell \u001b[0;32mIn[134], line 2\u001b[0m\n\u001b[1;32m      1\u001b[0m sdata \u001b[38;5;241m=\u001b[39m \u001b[38;5;28mself\u001b[39m\u001b[38;5;241m.\u001b[39mcrop(file_coord)  \u001b[38;5;66;03m# crop data to coordinates\u001b[39;00m\n\u001b[0;32m----> 2\u001b[0m \u001b[43msdata\u001b[49m\u001b[38;5;241;43m.\u001b[39;49m\u001b[43mpl\u001b[49m\u001b[38;5;241m.\u001b[39mrender_labels(\u001b[38;5;124m\"\u001b[39m\u001b[38;5;124mcell_labels\u001b[39m\u001b[38;5;124m\"\u001b[39m)\u001b[38;5;241m.\u001b[39mpl\u001b[38;5;241m.\u001b[39mshow()  \u001b[38;5;66;03m# plot\u001b[39;00m\n\u001b[1;32m      4\u001b[0m \u001b[38;5;66;03m# self.adata = sdata\u001b[39;00m\n\u001b[1;32m      5\u001b[0m \u001b[38;5;66;03m# self.write(file_obj_crop)  # write cropped\u001b[39;00m\n",
      "\u001b[0;31mAttributeError\u001b[0m: 'SpatialData' object has no attribute 'pl'"
     ]
    }
   ],
   "source": [
    "sdata = self.crop(file_coord)  # crop data to coordinates\n",
    "sdata.pl.render_labels(\"cell_labels\").pl.show()  # plot\n",
    "\n",
    "# self.adata = sdata\n",
    "# self.write(file_obj_crop)  # write cropped"
   ]
  },
  {
   "cell_type": "code",
   "execution_count": 119,
   "metadata": {},
   "outputs": [
    {
     "data": {
      "text/plain": [
       "'/mnt/cho_lab/disk2/elizabeth/data/shared-xenium-library/outputs/TUQ97N/nebraska/objects_cropped/serosa/Uninflamed-50006B_serosa.h5ad'"
      ]
     },
     "execution_count": 119,
     "metadata": {},
     "output_type": "execute_result"
    }
   ],
   "source": [
    "file_obj_crop"
   ]
  },
  {
   "cell_type": "code",
   "execution_count": 31,
   "metadata": {},
   "outputs": [
    {
     "data": {
      "text/plain": [
       "['__class__',\n",
       " '__contains__',\n",
       " '__delattr__',\n",
       " '__delitem__',\n",
       " '__dict__',\n",
       " '__dir__',\n",
       " '__doc__',\n",
       " '__eq__',\n",
       " '__format__',\n",
       " '__ge__',\n",
       " '__getattribute__',\n",
       " '__getitem__',\n",
       " '__gt__',\n",
       " '__hash__',\n",
       " '__init__',\n",
       " '__init_subclass__',\n",
       " '__le__',\n",
       " '__lt__',\n",
       " '__module__',\n",
       " '__ne__',\n",
       " '__new__',\n",
       " '__reduce__',\n",
       " '__reduce_ex__',\n",
       " '__repr__',\n",
       " '__setattr__',\n",
       " '__setitem__',\n",
       " '__sizeof__',\n",
       " '__str__',\n",
       " '__subclasshook__',\n",
       " '__weakref__',\n",
       " '_change_table_annotation_target',\n",
       " '_check_element_not_on_disk_with_different_type',\n",
       " '_element_type_and_name_from_element_path',\n",
       " '_element_type_from_element_name',\n",
       " '_filter_tables',\n",
       " '_find_element',\n",
       " '_gen_elements',\n",
       " '_gen_repr',\n",
       " '_gen_spatial_element_values',\n",
       " '_get_groups_for_element',\n",
       " '_group_for_element_exists',\n",
       " '_images',\n",
       " '_labels',\n",
       " '_non_empty_elements',\n",
       " '_path',\n",
       " '_points',\n",
       " '_query',\n",
       " '_set_table_annotation_target',\n",
       " '_shapes',\n",
       " '_shared_keys',\n",
       " '_symmetric_difference_with_zarr_store',\n",
       " '_tables',\n",
       " '_validate_can_safely_write_to_path',\n",
       " '_validate_can_write_metadata_on_element',\n",
       " '_validate_element_names_are_unique',\n",
       " '_write_element',\n",
       " 'add_image',\n",
       " 'add_labels',\n",
       " 'add_points',\n",
       " 'add_shapes',\n",
       " 'aggregate',\n",
       " 'coordinate_systems',\n",
       " 'delete_element_from_disk',\n",
       " 'elements_are_self_contained',\n",
       " 'elements_paths_in_memory',\n",
       " 'elements_paths_on_disk',\n",
       " 'filter_by_coordinate_system',\n",
       " 'from_elements_dict',\n",
       " 'gen_elements',\n",
       " 'gen_spatial_elements',\n",
       " 'get',\n",
       " 'get_annotated_regions',\n",
       " 'get_instance_key_column',\n",
       " 'get_region_key_column',\n",
       " 'has_consolidated_metadata',\n",
       " 'images',\n",
       " 'init_from_elements',\n",
       " 'is_backed',\n",
       " 'is_self_contained',\n",
       " 'labels',\n",
       " 'locate_element',\n",
       " 'path',\n",
       " 'pl',\n",
       " 'points',\n",
       " 'pp',\n",
       " 'query',\n",
       " 'read',\n",
       " 'rename_coordinate_systems',\n",
       " 'set_table_annotates_spatialelement',\n",
       " 'shapes',\n",
       " 'subset',\n",
       " 'table',\n",
       " 'tables',\n",
       " 'transform_element_to_coordinate_system',\n",
       " 'transform_to_coordinate_system',\n",
       " 'update_annotated_regions_metadata',\n",
       " 'validate_table_in_spatialdata',\n",
       " 'write',\n",
       " 'write_consolidated_metadata',\n",
       " 'write_element',\n",
       " 'write_metadata',\n",
       " 'write_transformations']"
      ]
     },
     "execution_count": 31,
     "metadata": {},
     "output_type": "execute_result"
    }
   ],
   "source": [
    "dir(self.adata)"
   ]
  },
  {
   "cell_type": "code",
   "execution_count": 33,
   "metadata": {},
   "outputs": [
    {
     "data": {
      "text/plain": [
       "SpatialData object\n",
       "├── Images\n",
       "│     └── 'morphology_focus': DataTree[cyx] (5, 34128, 51148), (5, 17064, 25574), (5, 8532, 12787), (5, 4266, 6393), (5, 2133, 3196)\n",
       "├── Labels\n",
       "│     ├── 'cell_labels': DataTree[yx] (34128, 51148), (17064, 25574), (8532, 12787), (4266, 6393), (2133, 3196)\n",
       "│     └── 'nucleus_labels': DataTree[yx] (34128, 51148), (17064, 25574), (8532, 12787), (4266, 6393), (2133, 3196)\n",
       "├── Points\n",
       "│     └── 'transcripts': DataFrame with shape: (<Delayed>, 11) (3D points)\n",
       "├── Shapes\n",
       "│     ├── 'cell_boundaries': GeoDataFrame shape: (116837, 1) (2D shapes)\n",
       "│     ├── 'cell_circles': GeoDataFrame shape: (116837, 2) (2D shapes)\n",
       "│     └── 'nucleus_boundaries': GeoDataFrame shape: (114734, 1) (2D shapes)\n",
       "└── Tables\n",
       "      └── 'table': AnnData (78976, 469)\n",
       "with coordinate systems:\n",
       "    ▸ 'global', with elements:\n",
       "        morphology_focus (Images), cell_labels (Labels), nucleus_labels (Labels), transcripts (Points), cell_boundaries (Shapes), cell_circles (Shapes), nucleus_boundaries (Shapes)"
      ]
     },
     "execution_count": 33,
     "metadata": {},
     "output_type": "execute_result"
    }
   ],
   "source": [
    "self.adata"
   ]
  },
  {
   "cell_type": "code",
   "execution_count": 72,
   "metadata": {},
   "outputs": [
    {
     "data": {
      "text/plain": [
       "geometry    POINT (195.42831420898438 3911.943359375)\n",
       "radius                                            NaN\n",
       "Name: aaafgjnh-1, dtype: object"
      ]
     },
     "execution_count": 72,
     "metadata": {},
     "output_type": "execute_result"
    }
   ],
   "source": [
    "self.adata.shapes[\"cell_circles\"][self.adata.shapes[\"cell_circles\"].radius.isna()].iloc[0]"
   ]
  },
  {
   "cell_type": "code",
   "execution_count": 75,
   "metadata": {},
   "outputs": [
    {
     "data": {
      "text/html": [
       "<div>\n",
       "<style scoped>\n",
       "    .dataframe tbody tr th:only-of-type {\n",
       "        vertical-align: middle;\n",
       "    }\n",
       "\n",
       "    .dataframe tbody tr th {\n",
       "        vertical-align: top;\n",
       "    }\n",
       "\n",
       "    .dataframe thead th {\n",
       "        text-align: right;\n",
       "    }\n",
       "</style>\n",
       "<table border=\"1\" class=\"dataframe\">\n",
       "  <thead>\n",
       "    <tr style=\"text-align: right;\">\n",
       "      <th></th>\n",
       "      <th>geometry</th>\n",
       "      <th>radius</th>\n",
       "    </tr>\n",
       "    <tr>\n",
       "      <th>cell_id</th>\n",
       "      <th></th>\n",
       "      <th></th>\n",
       "    </tr>\n",
       "  </thead>\n",
       "  <tbody>\n",
       "    <tr>\n",
       "      <th>aaacnfei-1</th>\n",
       "      <td>POINT (228.882 3886.67)</td>\n",
       "      <td>2.509118</td>\n",
       "    </tr>\n",
       "    <tr>\n",
       "      <th>aaaddime-1</th>\n",
       "      <td>POINT (243.282 3913.385)</td>\n",
       "      <td>3.259164</td>\n",
       "    </tr>\n",
       "    <tr>\n",
       "      <th>aaadjknl-1</th>\n",
       "      <td>POINT (239.285 3898.489)</td>\n",
       "      <td>3.371881</td>\n",
       "    </tr>\n",
       "    <tr>\n",
       "      <th>aaaekipn-1</th>\n",
       "      <td>POINT (233.972 3899.172)</td>\n",
       "      <td>2.154692</td>\n",
       "    </tr>\n",
       "    <tr>\n",
       "      <th>aaaemmpi-1</th>\n",
       "      <td>POINT (203.626 3904.753)</td>\n",
       "      <td>3.532188</td>\n",
       "    </tr>\n",
       "    <tr>\n",
       "      <th>...</th>\n",
       "      <td>...</td>\n",
       "      <td>...</td>\n",
       "    </tr>\n",
       "    <tr>\n",
       "      <th>oindhmhj-1</th>\n",
       "      <td>POINT (6890.228 3650.433)</td>\n",
       "      <td>2.045175</td>\n",
       "    </tr>\n",
       "    <tr>\n",
       "      <th>oindmibp-1</th>\n",
       "      <td>POINT (6903.345 3731.109)</td>\n",
       "      <td>3.056615</td>\n",
       "    </tr>\n",
       "    <tr>\n",
       "      <th>oinecfni-1</th>\n",
       "      <td>POINT (6895.435 3653.535)</td>\n",
       "      <td>2.107479</td>\n",
       "    </tr>\n",
       "    <tr>\n",
       "      <th>oineebdc-1</th>\n",
       "      <td>POINT (6930.453 3651.84)</td>\n",
       "      <td>1.818226</td>\n",
       "    </tr>\n",
       "    <tr>\n",
       "      <th>oinefoap-1</th>\n",
       "      <td>POINT (6898.504 3493.027)</td>\n",
       "      <td>1.703961</td>\n",
       "    </tr>\n",
       "  </tbody>\n",
       "</table>\n",
       "<p>116837 rows × 2 columns</p>\n",
       "</div>"
      ],
      "text/plain": [
       "                             geometry    radius\n",
       "cell_id                                        \n",
       "aaacnfei-1    POINT (228.882 3886.67)  2.509118\n",
       "aaaddime-1   POINT (243.282 3913.385)  3.259164\n",
       "aaadjknl-1   POINT (239.285 3898.489)  3.371881\n",
       "aaaekipn-1   POINT (233.972 3899.172)  2.154692\n",
       "aaaemmpi-1   POINT (203.626 3904.753)  3.532188\n",
       "...                               ...       ...\n",
       "oindhmhj-1  POINT (6890.228 3650.433)  2.045175\n",
       "oindmibp-1  POINT (6903.345 3731.109)  3.056615\n",
       "oinecfni-1  POINT (6895.435 3653.535)  2.107479\n",
       "oineebdc-1   POINT (6930.453 3651.84)  1.818226\n",
       "oinefoap-1  POINT (6898.504 3493.027)  1.703961\n",
       "\n",
       "[116837 rows x 2 columns]"
      ]
     },
     "execution_count": 75,
     "metadata": {},
     "output_type": "execute_result"
    }
   ],
   "source": [
    "cell_circles = self.adata.shapes[\"cell_circles\"].copy()"
   ]
  },
  {
   "cell_type": "code",
   "execution_count": 77,
   "metadata": {},
   "outputs": [
    {
     "data": {
      "text/html": [
       "<div>\n",
       "<style scoped>\n",
       "    .dataframe tbody tr th:only-of-type {\n",
       "        vertical-align: middle;\n",
       "    }\n",
       "\n",
       "    .dataframe tbody tr th {\n",
       "        vertical-align: top;\n",
       "    }\n",
       "\n",
       "    .dataframe thead th {\n",
       "        text-align: right;\n",
       "    }\n",
       "</style>\n",
       "<table border=\"1\" class=\"dataframe\">\n",
       "  <thead>\n",
       "    <tr style=\"text-align: right;\">\n",
       "      <th></th>\n",
       "      <th>geometry</th>\n",
       "      <th>radius</th>\n",
       "    </tr>\n",
       "    <tr>\n",
       "      <th>cell_id</th>\n",
       "      <th></th>\n",
       "      <th></th>\n",
       "    </tr>\n",
       "  </thead>\n",
       "  <tbody>\n",
       "    <tr>\n",
       "      <th>aaacnfei-1</th>\n",
       "      <td>POINT (228.882 3886.67)</td>\n",
       "      <td>2.509118</td>\n",
       "    </tr>\n",
       "    <tr>\n",
       "      <th>aaaddime-1</th>\n",
       "      <td>POINT (243.282 3913.385)</td>\n",
       "      <td>3.259164</td>\n",
       "    </tr>\n",
       "    <tr>\n",
       "      <th>aaadjknl-1</th>\n",
       "      <td>POINT (239.285 3898.489)</td>\n",
       "      <td>3.371881</td>\n",
       "    </tr>\n",
       "    <tr>\n",
       "      <th>aaaekipn-1</th>\n",
       "      <td>POINT (233.972 3899.172)</td>\n",
       "      <td>2.154692</td>\n",
       "    </tr>\n",
       "    <tr>\n",
       "      <th>aaaemmpi-1</th>\n",
       "      <td>POINT (203.626 3904.753)</td>\n",
       "      <td>3.532188</td>\n",
       "    </tr>\n",
       "    <tr>\n",
       "      <th>...</th>\n",
       "      <td>...</td>\n",
       "      <td>...</td>\n",
       "    </tr>\n",
       "    <tr>\n",
       "      <th>oindhmhj-1</th>\n",
       "      <td>POINT (6890.228 3650.433)</td>\n",
       "      <td>2.045175</td>\n",
       "    </tr>\n",
       "    <tr>\n",
       "      <th>oindmibp-1</th>\n",
       "      <td>POINT (6903.345 3731.109)</td>\n",
       "      <td>3.056615</td>\n",
       "    </tr>\n",
       "    <tr>\n",
       "      <th>oinecfni-1</th>\n",
       "      <td>POINT (6895.435 3653.535)</td>\n",
       "      <td>2.107479</td>\n",
       "    </tr>\n",
       "    <tr>\n",
       "      <th>oineebdc-1</th>\n",
       "      <td>POINT (6930.453 3651.84)</td>\n",
       "      <td>1.818226</td>\n",
       "    </tr>\n",
       "    <tr>\n",
       "      <th>oinefoap-1</th>\n",
       "      <td>POINT (6898.504 3493.027)</td>\n",
       "      <td>1.703961</td>\n",
       "    </tr>\n",
       "  </tbody>\n",
       "</table>\n",
       "<p>116837 rows × 2 columns</p>\n",
       "</div>"
      ],
      "text/plain": [
       "                             geometry    radius\n",
       "cell_id                                        \n",
       "aaacnfei-1    POINT (228.882 3886.67)  2.509118\n",
       "aaaddime-1   POINT (243.282 3913.385)  3.259164\n",
       "aaadjknl-1   POINT (239.285 3898.489)  3.371881\n",
       "aaaekipn-1   POINT (233.972 3899.172)  2.154692\n",
       "aaaemmpi-1   POINT (203.626 3904.753)  3.532188\n",
       "...                               ...       ...\n",
       "oindhmhj-1  POINT (6890.228 3650.433)  2.045175\n",
       "oindmibp-1  POINT (6903.345 3731.109)  3.056615\n",
       "oinecfni-1  POINT (6895.435 3653.535)  2.107479\n",
       "oineebdc-1   POINT (6930.453 3651.84)  1.818226\n",
       "oinefoap-1  POINT (6898.504 3493.027)  1.703961\n",
       "\n",
       "[116837 rows x 2 columns]"
      ]
     },
     "execution_count": 77,
     "metadata": {},
     "output_type": "execute_result"
    }
   ],
   "source": [
    "self.adata.shapes[\"cell_circles\"]"
   ]
  },
  {
   "cell_type": "code",
   "execution_count": 81,
   "metadata": {},
   "outputs": [],
   "source": [
    "import spatialdata\n",
    "\n",
    "cell_circles = spatialdata.deepcopy(self.adata.shapes[\"cell_circles\"])"
   ]
  },
  {
   "cell_type": "code",
   "execution_count": 82,
   "metadata": {},
   "outputs": [],
   "source": [
    "from spatialdata.transformations.transformations import Affine, Identity, Scale\n",
    "from spatialdata_io._constants._constants import XeniumKeys"
   ]
  },
  {
   "cell_type": "code",
   "execution_count": 83,
   "metadata": {},
   "outputs": [],
   "source": [
    "        transform = Scale([1.0 / 0.2125, 1.0 / 0.2125], axes=(\"x\", \"y\"))\n",
    "        radii = np.sqrt(self.rna.obs[XeniumKeys.CELL_NUCLEUS_AREA].to_numpy() / np.pi)"
   ]
  },
  {
   "cell_type": "code",
   "execution_count": 97,
   "metadata": {},
   "outputs": [
    {
     "data": {
      "text/html": [
       "<div>\n",
       "<style scoped>\n",
       "    .dataframe tbody tr th:only-of-type {\n",
       "        vertical-align: middle;\n",
       "    }\n",
       "\n",
       "    .dataframe tbody tr th {\n",
       "        vertical-align: top;\n",
       "    }\n",
       "\n",
       "    .dataframe thead th {\n",
       "        text-align: right;\n",
       "    }\n",
       "</style>\n",
       "<table border=\"1\" class=\"dataframe\">\n",
       "  <thead>\n",
       "    <tr style=\"text-align: right;\">\n",
       "      <th></th>\n",
       "      <th>transcript_counts</th>\n",
       "      <th>control_probe_counts</th>\n",
       "      <th>control_codeword_counts</th>\n",
       "      <th>unassigned_codeword_counts</th>\n",
       "      <th>deprecated_codeword_counts</th>\n",
       "      <th>total_counts</th>\n",
       "      <th>cell_area</th>\n",
       "      <th>nucleus_area</th>\n",
       "      <th>region</th>\n",
       "      <th>z_level</th>\n",
       "      <th>nucleus_count</th>\n",
       "    </tr>\n",
       "  </thead>\n",
       "  <tbody>\n",
       "    <tr>\n",
       "      <th>0</th>\n",
       "      <td>243</td>\n",
       "      <td>0</td>\n",
       "      <td>0</td>\n",
       "      <td>0</td>\n",
       "      <td>0</td>\n",
       "      <td>243.0</td>\n",
       "      <td>71.346878</td>\n",
       "      <td>19.778438</td>\n",
       "      <td>cell_circles</td>\n",
       "      <td>0.0</td>\n",
       "      <td>1.0</td>\n",
       "    </tr>\n",
       "    <tr>\n",
       "      <th>1</th>\n",
       "      <td>260</td>\n",
       "      <td>0</td>\n",
       "      <td>0</td>\n",
       "      <td>0</td>\n",
       "      <td>0</td>\n",
       "      <td>260.0</td>\n",
       "      <td>80.197503</td>\n",
       "      <td>33.370470</td>\n",
       "      <td>cell_circles</td>\n",
       "      <td>0.0</td>\n",
       "      <td>1.0</td>\n",
       "    </tr>\n",
       "    <tr>\n",
       "      <th>2</th>\n",
       "      <td>254</td>\n",
       "      <td>0</td>\n",
       "      <td>0</td>\n",
       "      <td>0</td>\n",
       "      <td>0</td>\n",
       "      <td>254.0</td>\n",
       "      <td>89.183597</td>\n",
       "      <td>35.718595</td>\n",
       "      <td>cell_circles</td>\n",
       "      <td>0.0</td>\n",
       "      <td>1.0</td>\n",
       "    </tr>\n",
       "    <tr>\n",
       "      <th>3</th>\n",
       "      <td>180</td>\n",
       "      <td>0</td>\n",
       "      <td>0</td>\n",
       "      <td>0</td>\n",
       "      <td>0</td>\n",
       "      <td>180.0</td>\n",
       "      <td>58.748283</td>\n",
       "      <td>14.585469</td>\n",
       "      <td>cell_circles</td>\n",
       "      <td>0.0</td>\n",
       "      <td>1.0</td>\n",
       "    </tr>\n",
       "    <tr>\n",
       "      <th>4</th>\n",
       "      <td>274</td>\n",
       "      <td>0</td>\n",
       "      <td>0</td>\n",
       "      <td>0</td>\n",
       "      <td>0</td>\n",
       "      <td>274.0</td>\n",
       "      <td>127.069692</td>\n",
       "      <td>39.195626</td>\n",
       "      <td>cell_circles</td>\n",
       "      <td>0.0</td>\n",
       "      <td>1.0</td>\n",
       "    </tr>\n",
       "    <tr>\n",
       "      <th>...</th>\n",
       "      <td>...</td>\n",
       "      <td>...</td>\n",
       "      <td>...</td>\n",
       "      <td>...</td>\n",
       "      <td>...</td>\n",
       "      <td>...</td>\n",
       "      <td>...</td>\n",
       "      <td>...</td>\n",
       "      <td>...</td>\n",
       "      <td>...</td>\n",
       "      <td>...</td>\n",
       "    </tr>\n",
       "    <tr>\n",
       "      <th>116812</th>\n",
       "      <td>138</td>\n",
       "      <td>0</td>\n",
       "      <td>0</td>\n",
       "      <td>0</td>\n",
       "      <td>0</td>\n",
       "      <td>138.0</td>\n",
       "      <td>135.604224</td>\n",
       "      <td>11.560000</td>\n",
       "      <td>cell_circles</td>\n",
       "      <td>12.0</td>\n",
       "      <td>1.0</td>\n",
       "    </tr>\n",
       "    <tr>\n",
       "      <th>116815</th>\n",
       "      <td>97</td>\n",
       "      <td>0</td>\n",
       "      <td>0</td>\n",
       "      <td>0</td>\n",
       "      <td>0</td>\n",
       "      <td>97.0</td>\n",
       "      <td>114.832348</td>\n",
       "      <td>14.043594</td>\n",
       "      <td>cell_circles</td>\n",
       "      <td>12.0</td>\n",
       "      <td>1.0</td>\n",
       "    </tr>\n",
       "    <tr>\n",
       "      <th>116816</th>\n",
       "      <td>104</td>\n",
       "      <td>0</td>\n",
       "      <td>0</td>\n",
       "      <td>0</td>\n",
       "      <td>0</td>\n",
       "      <td>104.0</td>\n",
       "      <td>140.661724</td>\n",
       "      <td>23.255470</td>\n",
       "      <td>cell_circles</td>\n",
       "      <td>11.0</td>\n",
       "      <td>1.0</td>\n",
       "    </tr>\n",
       "    <tr>\n",
       "      <th>116817</th>\n",
       "      <td>53</td>\n",
       "      <td>0</td>\n",
       "      <td>0</td>\n",
       "      <td>0</td>\n",
       "      <td>0</td>\n",
       "      <td>53.0</td>\n",
       "      <td>49.265471</td>\n",
       "      <td>49.265471</td>\n",
       "      <td>cell_circles</td>\n",
       "      <td>12.0</td>\n",
       "      <td>1.0</td>\n",
       "    </tr>\n",
       "    <tr>\n",
       "      <th>116818</th>\n",
       "      <td>133</td>\n",
       "      <td>0</td>\n",
       "      <td>0</td>\n",
       "      <td>0</td>\n",
       "      <td>0</td>\n",
       "      <td>133.0</td>\n",
       "      <td>154.027974</td>\n",
       "      <td>17.385157</td>\n",
       "      <td>cell_circles</td>\n",
       "      <td>12.0</td>\n",
       "      <td>1.0</td>\n",
       "    </tr>\n",
       "  </tbody>\n",
       "</table>\n",
       "<p>78976 rows × 11 columns</p>\n",
       "</div>"
      ],
      "text/plain": [
       "        transcript_counts  control_probe_counts  control_codeword_counts  \\\n",
       "0                     243                     0                        0   \n",
       "1                     260                     0                        0   \n",
       "2                     254                     0                        0   \n",
       "3                     180                     0                        0   \n",
       "4                     274                     0                        0   \n",
       "...                   ...                   ...                      ...   \n",
       "116812                138                     0                        0   \n",
       "116815                 97                     0                        0   \n",
       "116816                104                     0                        0   \n",
       "116817                 53                     0                        0   \n",
       "116818                133                     0                        0   \n",
       "\n",
       "        unassigned_codeword_counts  deprecated_codeword_counts  total_counts  \\\n",
       "0                                0                           0         243.0   \n",
       "1                                0                           0         260.0   \n",
       "2                                0                           0         254.0   \n",
       "3                                0                           0         180.0   \n",
       "4                                0                           0         274.0   \n",
       "...                            ...                         ...           ...   \n",
       "116812                           0                           0         138.0   \n",
       "116815                           0                           0          97.0   \n",
       "116816                           0                           0         104.0   \n",
       "116817                           0                           0          53.0   \n",
       "116818                           0                           0         133.0   \n",
       "\n",
       "         cell_area  nucleus_area        region  z_level  nucleus_count  \n",
       "0        71.346878     19.778438  cell_circles      0.0            1.0  \n",
       "1        80.197503     33.370470  cell_circles      0.0            1.0  \n",
       "2        89.183597     35.718595  cell_circles      0.0            1.0  \n",
       "3        58.748283     14.585469  cell_circles      0.0            1.0  \n",
       "4       127.069692     39.195626  cell_circles      0.0            1.0  \n",
       "...            ...           ...           ...      ...            ...  \n",
       "116812  135.604224     11.560000  cell_circles     12.0            1.0  \n",
       "116815  114.832348     14.043594  cell_circles     12.0            1.0  \n",
       "116816  140.661724     23.255470  cell_circles     11.0            1.0  \n",
       "116817   49.265471     49.265471  cell_circles     12.0            1.0  \n",
       "116818  154.027974     17.385157  cell_circles     12.0            1.0  \n",
       "\n",
       "[78976 rows x 11 columns]"
      ]
     },
     "execution_count": 97,
     "metadata": {},
     "output_type": "execute_result"
    }
   ],
   "source": [
    "self.rna.obs.iloc[:, 1:12]"
   ]
  },
  {
   "cell_type": "code",
   "execution_count": 98,
   "metadata": {},
   "outputs": [
    {
     "data": {
      "text/plain": [
       "0         19.778438\n",
       "1         33.370470\n",
       "2         35.718595\n",
       "3         14.585469\n",
       "4         39.195626\n",
       "            ...    \n",
       "116812    11.560000\n",
       "116815    14.043594\n",
       "116816    23.255470\n",
       "116817    49.265471\n",
       "116818    17.385157\n",
       "Name: nucleus_area, Length: 78976, dtype: float64"
      ]
     },
     "execution_count": 98,
     "metadata": {},
     "output_type": "execute_result"
    }
   ],
   "source": [
    "self.rna.obs[XeniumKeys.CELL_NUCLEUS_AREA]"
   ]
  },
  {
   "cell_type": "code",
   "execution_count": 76,
   "metadata": {},
   "outputs": [
    {
     "ename": "ValueError",
     "evalue": "Column `radius` not found. Please use ShapesModel.parse() to construct data that is guaranteed to be valid.",
     "output_type": "error",
     "traceback": [
      "\u001b[0;31m---------------------------------------------------------------------------\u001b[0m",
      "\u001b[0;31mValueError\u001b[0m                                Traceback (most recent call last)",
      "Cell \u001b[0;32mIn[76], line 1\u001b[0m\n\u001b[0;32m----> 1\u001b[0m \u001b[38;5;28;43mself\u001b[39;49m\u001b[38;5;241;43m.\u001b[39;49m\u001b[43madata\u001b[49m\u001b[38;5;241;43m.\u001b[39;49m\u001b[43mshapes\u001b[49m\u001b[43m[\u001b[49m\u001b[38;5;124;43m\"\u001b[39;49m\u001b[38;5;124;43mcell_circles\u001b[39;49m\u001b[38;5;124;43m\"\u001b[39;49m\u001b[43m]\u001b[49m \u001b[38;5;241m=\u001b[39m \u001b[38;5;28mself\u001b[39m\u001b[38;5;241m.\u001b[39madata\u001b[38;5;241m.\u001b[39mshapes[\u001b[38;5;124m\"\u001b[39m\u001b[38;5;124mcell_circles\u001b[39m\u001b[38;5;124m\"\u001b[39m]\u001b[38;5;241m.\u001b[39mdrop(\u001b[38;5;124m\"\u001b[39m\u001b[38;5;124mradius\u001b[39m\u001b[38;5;124m\"\u001b[39m, axis\u001b[38;5;241m=\u001b[39m\u001b[38;5;241m1\u001b[39m)\n",
      "File \u001b[0;32m~/miniconda3/envs/corescpy/lib/python3.10/site-packages/spatialdata/_core/_elements.py:97\u001b[0m, in \u001b[0;36mShapes.__setitem__\u001b[0;34m(self, key, value)\u001b[0m\n\u001b[1;32m     95\u001b[0m \u001b[38;5;28;01mdef\u001b[39;00m \u001b[38;5;21m__setitem__\u001b[39m(\u001b[38;5;28mself\u001b[39m, key: \u001b[38;5;28mstr\u001b[39m, value: GeoDataFrame) \u001b[38;5;241m-\u001b[39m\u001b[38;5;241m>\u001b[39m \u001b[38;5;28;01mNone\u001b[39;00m:\n\u001b[1;32m     96\u001b[0m     \u001b[38;5;28mself\u001b[39m\u001b[38;5;241m.\u001b[39m_check_key(key, \u001b[38;5;28mself\u001b[39m\u001b[38;5;241m.\u001b[39mkeys(), \u001b[38;5;28mself\u001b[39m\u001b[38;5;241m.\u001b[39m_shared_keys)\n\u001b[0;32m---> 97\u001b[0m     schema \u001b[38;5;241m=\u001b[39m \u001b[43mget_model\u001b[49m\u001b[43m(\u001b[49m\u001b[43mvalue\u001b[49m\u001b[43m)\u001b[49m\n\u001b[1;32m     98\u001b[0m     \u001b[38;5;28;01mif\u001b[39;00m schema \u001b[38;5;241m!=\u001b[39m ShapesModel:\n\u001b[1;32m     99\u001b[0m         \u001b[38;5;28;01mraise\u001b[39;00m \u001b[38;5;167;01mTypeError\u001b[39;00m(\u001b[38;5;124mf\u001b[39m\u001b[38;5;124m\"\u001b[39m\u001b[38;5;124mUnknown element type with schema: \u001b[39m\u001b[38;5;132;01m{\u001b[39;00mschema\u001b[38;5;132;01m!r}\u001b[39;00m\u001b[38;5;124m.\u001b[39m\u001b[38;5;124m\"\u001b[39m)\n",
      "File \u001b[0;32m~/miniconda3/envs/corescpy/lib/python3.10/site-packages/spatialdata/models/models.py:1013\u001b[0m, in \u001b[0;36mget_model\u001b[0;34m(e)\u001b[0m\n\u001b[1;32m   1011\u001b[0m     \u001b[38;5;28;01mreturn\u001b[39;00m _validate_and_return(Labels2DModel, e)\n\u001b[1;32m   1012\u001b[0m \u001b[38;5;28;01mif\u001b[39;00m \u001b[38;5;28misinstance\u001b[39m(e, GeoDataFrame):\n\u001b[0;32m-> 1013\u001b[0m     \u001b[38;5;28;01mreturn\u001b[39;00m \u001b[43m_validate_and_return\u001b[49m\u001b[43m(\u001b[49m\u001b[43mShapesModel\u001b[49m\u001b[43m,\u001b[49m\u001b[43m \u001b[49m\u001b[43me\u001b[49m\u001b[43m)\u001b[49m\n\u001b[1;32m   1014\u001b[0m \u001b[38;5;28;01mif\u001b[39;00m \u001b[38;5;28misinstance\u001b[39m(e, DaskDataFrame):\n\u001b[1;32m   1015\u001b[0m     \u001b[38;5;28;01mreturn\u001b[39;00m _validate_and_return(PointsModel, e)\n",
      "File \u001b[0;32m~/miniconda3/envs/corescpy/lib/python3.10/site-packages/spatialdata/models/models.py:1000\u001b[0m, in \u001b[0;36mget_model.<locals>._validate_and_return\u001b[0;34m(schema, e)\u001b[0m\n\u001b[1;32m    996\u001b[0m \u001b[38;5;28;01mdef\u001b[39;00m \u001b[38;5;21m_validate_and_return\u001b[39m(\n\u001b[1;32m    997\u001b[0m     schema: Schema_t,\n\u001b[1;32m    998\u001b[0m     e: SpatialElement,\n\u001b[1;32m    999\u001b[0m ) \u001b[38;5;241m-\u001b[39m\u001b[38;5;241m>\u001b[39m Schema_t:\n\u001b[0;32m-> 1000\u001b[0m     \u001b[43mschema\u001b[49m\u001b[43m(\u001b[49m\u001b[43m)\u001b[49m\u001b[38;5;241;43m.\u001b[39;49m\u001b[43mvalidate\u001b[49m\u001b[43m(\u001b[49m\u001b[43me\u001b[49m\u001b[43m)\u001b[49m\n\u001b[1;32m   1001\u001b[0m     \u001b[38;5;28;01mreturn\u001b[39;00m schema\n",
      "File \u001b[0;32m~/miniconda3/envs/corescpy/lib/python3.10/site-packages/spatialdata/models/models.py:339\u001b[0m, in \u001b[0;36mShapesModel.validate\u001b[0;34m(cls, data)\u001b[0m\n\u001b[1;32m    337\u001b[0m \u001b[38;5;28;01mif\u001b[39;00m \u001b[38;5;28misinstance\u001b[39m(geom_, Point):\n\u001b[1;32m    338\u001b[0m     \u001b[38;5;28;01mif\u001b[39;00m \u001b[38;5;28mcls\u001b[39m\u001b[38;5;241m.\u001b[39mRADIUS_KEY \u001b[38;5;129;01mnot\u001b[39;00m \u001b[38;5;129;01min\u001b[39;00m data\u001b[38;5;241m.\u001b[39mcolumns:\n\u001b[0;32m--> 339\u001b[0m         \u001b[38;5;28;01mraise\u001b[39;00m \u001b[38;5;167;01mValueError\u001b[39;00m(\u001b[38;5;124mf\u001b[39m\u001b[38;5;124m\"\u001b[39m\u001b[38;5;124mColumn `\u001b[39m\u001b[38;5;132;01m{\u001b[39;00m\u001b[38;5;28mcls\u001b[39m\u001b[38;5;241m.\u001b[39mRADIUS_KEY\u001b[38;5;132;01m}\u001b[39;00m\u001b[38;5;124m` not found.\u001b[39m\u001b[38;5;124m\"\u001b[39m \u001b[38;5;241m+\u001b[39m SUGGESTION)\n\u001b[1;32m    340\u001b[0m     radii \u001b[38;5;241m=\u001b[39m data[\u001b[38;5;28mcls\u001b[39m\u001b[38;5;241m.\u001b[39mRADIUS_KEY]\u001b[38;5;241m.\u001b[39mvalues\n\u001b[1;32m    341\u001b[0m     \u001b[38;5;28;01mif\u001b[39;00m np\u001b[38;5;241m.\u001b[39many(radii \u001b[38;5;241m<\u001b[39m\u001b[38;5;241m=\u001b[39m \u001b[38;5;241m0\u001b[39m):\n",
      "\u001b[0;31mValueError\u001b[0m: Column `radius` not found. Please use ShapesModel.parse() to construct data that is guaranteed to be valid."
     ]
    }
   ],
   "source": [
    "self.adata.shapes[\"cell_circles\"] = self.adata.shapes[\"cell_circles\"].drop(\"radius\", axis=1)"
   ]
  },
  {
   "cell_type": "code",
   "execution_count": 154,
   "metadata": {},
   "outputs": [
    {
     "data": {
      "text/plain": [
       "SpatialData object\n",
       "├── Images\n",
       "│     └── 'morphology_focus': DataTree[cyx] (5, 34128, 51148), (5, 17064, 25574), (5, 8532, 12787), (5, 4266, 6393), (5, 2133, 3196)\n",
       "├── Labels\n",
       "│     ├── 'cell_labels': DataTree[yx] (34128, 51148), (17064, 25574), (8532, 12787), (4266, 6393), (2133, 3196)\n",
       "│     └── 'nucleus_labels': DataTree[yx] (34128, 51148), (17064, 25574), (8532, 12787), (4266, 6393), (2133, 3196)\n",
       "├── Points\n",
       "│     └── 'transcripts': DataFrame with shape: (<Delayed>, 11) (3D points)\n",
       "├── Shapes\n",
       "│     ├── 'cell_boundaries': GeoDataFrame shape: (116837, 1) (2D shapes)\n",
       "│     └── 'nucleus_boundaries': GeoDataFrame shape: (114734, 1) (2D shapes)\n",
       "└── Tables\n",
       "      └── 'table': AnnData (78976, 469)\n",
       "with coordinate systems:\n",
       "    ▸ 'global', with elements:\n",
       "        morphology_focus (Images), cell_labels (Labels), nucleus_labels (Labels), transcripts (Points), cell_boundaries (Shapes), nucleus_boundaries (Shapes)"
      ]
     },
     "execution_count": 154,
     "metadata": {},
     "output_type": "execute_result"
    }
   ],
   "source": [
    "self.adata"
   ]
  },
  {
   "cell_type": "code",
   "execution_count": 151,
   "metadata": {},
   "outputs": [],
   "source": [
    "\n",
    "XeniumKeys.CELL_ID\n"
   ]
  },
  {
   "cell_type": "code",
   "execution_count": 152,
   "metadata": {},
   "outputs": [
    {
     "data": {
      "text/plain": [
       "SpatialData object\n",
       "├── Images\n",
       "│     └── 'morphology_focus': DataTree[cyx] (5, 16631, 17416), (5, 8316, 8708), (5, 4158, 4354), (5, 2079, 2177), (5, 1040, 1089)\n",
       "├── Labels\n",
       "│     ├── 'cell_labels': DataTree[yx] (16631, 17416), (8316, 8708), (4158, 4354), (2079, 2177), (1040, 1089)\n",
       "│     └── 'nucleus_labels': DataTree[yx] (16631, 17416), (8316, 8708), (4158, 4354), (2079, 2177), (1040, 1089)\n",
       "├── Points\n",
       "│     └── 'transcripts': DataFrame with shape: (<Delayed>, 11) (3D points)\n",
       "├── Shapes\n",
       "│     ├── 'cell_boundaries': GeoDataFrame shape: (8733, 1) (2D shapes)\n",
       "│     └── 'nucleus_boundaries': GeoDataFrame shape: (8646, 1) (2D shapes)\n",
       "└── Tables\n",
       "      └── 'table': AnnData (5215, 469)\n",
       "with coordinate systems:\n",
       "    ▸ 'global', with elements:\n",
       "        morphology_focus (Images), cell_labels (Labels), nucleus_labels (Labels), transcripts (Points), cell_boundaries (Shapes), nucleus_boundaries (Shapes)"
      ]
     },
     "execution_count": 152,
     "metadata": {},
     "output_type": "execute_result"
    }
   ],
   "source": [
    "sdata"
   ]
  },
  {
   "cell_type": "code",
   "execution_count": 35,
   "metadata": {},
   "outputs": [
    {
     "data": {
      "text/plain": [
       "'cell_circles'"
      ]
     },
     "execution_count": 35,
     "metadata": {},
     "output_type": "execute_result"
    }
   ],
   "source": [
    "\n",
    "queried_points = sdata_crop[\"my_points\"].index.compute()\n",
    "sdata_crop[\"my_table\"] = sdata[\"my_table\"][queried_points].copy()"
   ]
  },
  {
   "cell_type": "code",
   "execution_count": 43,
   "metadata": {},
   "outputs": [
    {
     "data": {
      "text/plain": [
       "['morphology_focus',\n",
       " 'nucleus_labels',\n",
       " 'cell_labels',\n",
       " 'transcripts',\n",
       " 'nucleus_boundaries',\n",
       " 'cell_boundaries',\n",
       " 'cell_circles']"
      ]
     },
     "execution_count": 43,
     "metadata": {},
     "output_type": "execute_result"
    }
   ],
   "source": [
    "[i[1] for i in self.adata._gen_elements()]"
   ]
  },
  {
   "cell_type": "code",
   "execution_count": 56,
   "metadata": {},
   "outputs": [
    {
     "ename": "NameError",
     "evalue": "name 'found_regions' is not defined",
     "output_type": "error",
     "traceback": [
      "\u001b[0;31m---------------------------------------------------------------------------\u001b[0m",
      "\u001b[0;31mNameError\u001b[0m                                 Traceback (most recent call last)",
      "Cell \u001b[0;32mIn[56], line 1\u001b[0m\n\u001b[0;32m----> 1\u001b[0m \u001b[43mfound_regions\u001b[49m\n",
      "\u001b[0;31mNameError\u001b[0m: name 'found_regions' is not defined"
     ]
    }
   ],
   "source": [
    "found_regions"
   ]
  },
  {
   "cell_type": "code",
   "execution_count": 59,
   "metadata": {},
   "outputs": [
    {
     "ename": "KeyError",
     "evalue": "'region_key'",
     "output_type": "error",
     "traceback": [
      "\u001b[0;31m---------------------------------------------------------------------------\u001b[0m",
      "\u001b[0;31mKeyError\u001b[0m                                  Traceback (most recent call last)",
      "File \u001b[0;32m~/miniconda3/envs/corescpy/lib/python3.10/site-packages/pandas/core/indexes/base.py:3805\u001b[0m, in \u001b[0;36mIndex.get_loc\u001b[0;34m(self, key)\u001b[0m\n\u001b[1;32m   3804\u001b[0m \u001b[38;5;28;01mtry\u001b[39;00m:\n\u001b[0;32m-> 3805\u001b[0m     \u001b[38;5;28;01mreturn\u001b[39;00m \u001b[38;5;28;43mself\u001b[39;49m\u001b[38;5;241;43m.\u001b[39;49m\u001b[43m_engine\u001b[49m\u001b[38;5;241;43m.\u001b[39;49m\u001b[43mget_loc\u001b[49m\u001b[43m(\u001b[49m\u001b[43mcasted_key\u001b[49m\u001b[43m)\u001b[49m\n\u001b[1;32m   3806\u001b[0m \u001b[38;5;28;01mexcept\u001b[39;00m \u001b[38;5;167;01mKeyError\u001b[39;00m \u001b[38;5;28;01mas\u001b[39;00m err:\n",
      "File \u001b[0;32mindex.pyx:167\u001b[0m, in \u001b[0;36mpandas._libs.index.IndexEngine.get_loc\u001b[0;34m()\u001b[0m\n",
      "File \u001b[0;32mindex.pyx:196\u001b[0m, in \u001b[0;36mpandas._libs.index.IndexEngine.get_loc\u001b[0;34m()\u001b[0m\n",
      "File \u001b[0;32mpandas/_libs/hashtable_class_helper.pxi:7081\u001b[0m, in \u001b[0;36mpandas._libs.hashtable.PyObjectHashTable.get_item\u001b[0;34m()\u001b[0m\n",
      "File \u001b[0;32mpandas/_libs/hashtable_class_helper.pxi:7089\u001b[0m, in \u001b[0;36mpandas._libs.hashtable.PyObjectHashTable.get_item\u001b[0;34m()\u001b[0m\n",
      "\u001b[0;31mKeyError\u001b[0m: 'region_key'",
      "\nThe above exception was the direct cause of the following exception:\n",
      "\u001b[0;31mKeyError\u001b[0m                                  Traceback (most recent call last)",
      "Cell \u001b[0;32mIn[59], line 1\u001b[0m\n\u001b[0;32m----> 1\u001b[0m \u001b[38;5;28mset\u001b[39m(\u001b[43mtable\u001b[49m\u001b[38;5;241;43m.\u001b[39;49m\u001b[43mobs\u001b[49m\u001b[43m[\u001b[49m\u001b[38;5;124;43m\"\u001b[39;49m\u001b[38;5;124;43mregion_key\u001b[39;49m\u001b[38;5;124;43m\"\u001b[39;49m\u001b[43m]\u001b[49m\u001b[38;5;241m.\u001b[39munique()\u001b[38;5;241m.\u001b[39mtolist())\n",
      "File \u001b[0;32m~/miniconda3/envs/corescpy/lib/python3.10/site-packages/pandas/core/frame.py:4102\u001b[0m, in \u001b[0;36mDataFrame.__getitem__\u001b[0;34m(self, key)\u001b[0m\n\u001b[1;32m   4100\u001b[0m \u001b[38;5;28;01mif\u001b[39;00m \u001b[38;5;28mself\u001b[39m\u001b[38;5;241m.\u001b[39mcolumns\u001b[38;5;241m.\u001b[39mnlevels \u001b[38;5;241m>\u001b[39m \u001b[38;5;241m1\u001b[39m:\n\u001b[1;32m   4101\u001b[0m     \u001b[38;5;28;01mreturn\u001b[39;00m \u001b[38;5;28mself\u001b[39m\u001b[38;5;241m.\u001b[39m_getitem_multilevel(key)\n\u001b[0;32m-> 4102\u001b[0m indexer \u001b[38;5;241m=\u001b[39m \u001b[38;5;28;43mself\u001b[39;49m\u001b[38;5;241;43m.\u001b[39;49m\u001b[43mcolumns\u001b[49m\u001b[38;5;241;43m.\u001b[39;49m\u001b[43mget_loc\u001b[49m\u001b[43m(\u001b[49m\u001b[43mkey\u001b[49m\u001b[43m)\u001b[49m\n\u001b[1;32m   4103\u001b[0m \u001b[38;5;28;01mif\u001b[39;00m is_integer(indexer):\n\u001b[1;32m   4104\u001b[0m     indexer \u001b[38;5;241m=\u001b[39m [indexer]\n",
      "File \u001b[0;32m~/miniconda3/envs/corescpy/lib/python3.10/site-packages/pandas/core/indexes/base.py:3812\u001b[0m, in \u001b[0;36mIndex.get_loc\u001b[0;34m(self, key)\u001b[0m\n\u001b[1;32m   3807\u001b[0m     \u001b[38;5;28;01mif\u001b[39;00m \u001b[38;5;28misinstance\u001b[39m(casted_key, \u001b[38;5;28mslice\u001b[39m) \u001b[38;5;129;01mor\u001b[39;00m (\n\u001b[1;32m   3808\u001b[0m         \u001b[38;5;28misinstance\u001b[39m(casted_key, abc\u001b[38;5;241m.\u001b[39mIterable)\n\u001b[1;32m   3809\u001b[0m         \u001b[38;5;129;01mand\u001b[39;00m \u001b[38;5;28many\u001b[39m(\u001b[38;5;28misinstance\u001b[39m(x, \u001b[38;5;28mslice\u001b[39m) \u001b[38;5;28;01mfor\u001b[39;00m x \u001b[38;5;129;01min\u001b[39;00m casted_key)\n\u001b[1;32m   3810\u001b[0m     ):\n\u001b[1;32m   3811\u001b[0m         \u001b[38;5;28;01mraise\u001b[39;00m InvalidIndexError(key)\n\u001b[0;32m-> 3812\u001b[0m     \u001b[38;5;28;01mraise\u001b[39;00m \u001b[38;5;167;01mKeyError\u001b[39;00m(key) \u001b[38;5;28;01mfrom\u001b[39;00m \u001b[38;5;21;01merr\u001b[39;00m\n\u001b[1;32m   3813\u001b[0m \u001b[38;5;28;01mexcept\u001b[39;00m \u001b[38;5;167;01mTypeError\u001b[39;00m:\n\u001b[1;32m   3814\u001b[0m     \u001b[38;5;66;03m# If we have a listlike key, _check_indexing_error will raise\u001b[39;00m\n\u001b[1;32m   3815\u001b[0m     \u001b[38;5;66;03m#  InvalidIndexError. Otherwise we fall through and re-raise\u001b[39;00m\n\u001b[1;32m   3816\u001b[0m     \u001b[38;5;66;03m#  the TypeError.\u001b[39;00m\n\u001b[1;32m   3817\u001b[0m     \u001b[38;5;28mself\u001b[39m\u001b[38;5;241m.\u001b[39m_check_indexing_error(key)\n",
      "\u001b[0;31mKeyError\u001b[0m: 'region_key'"
     ]
    }
   ],
   "source": [
    "set(table.obs[\"region_key\"].unique().tolist())"
   ]
  },
  {
   "cell_type": "code",
   "execution_count": 62,
   "metadata": {},
   "outputs": [],
   "source": [
    "    found_regions = set(table.obs[\"cell_id\"].unique().tolist())\n",
    "    target_element_set = [\"cell_boundaries\"]\n",
    "    symmetric_difference = found_regions.symmetric_difference(target_element_set)"
   ]
  },
  {
   "cell_type": "code",
   "execution_count": 64,
   "metadata": {},
   "outputs": [
    {
     "data": {
      "text/plain": [
       "78977"
      ]
     },
     "execution_count": 64,
     "metadata": {},
     "output_type": "execute_result"
    }
   ],
   "source": [
    "len(symmetric_difference)"
   ]
  },
  {
   "cell_type": "code",
   "execution_count": 127,
   "metadata": {},
   "outputs": [
    {
     "data": {
      "text/plain": [
       "SpatialData object\n",
       "├── Images\n",
       "│     └── 'morphology_focus': DataTree[cyx] (5, 34128, 51148), (5, 17064, 25574), (5, 8532, 12787), (5, 4266, 6393), (5, 2133, 3196)\n",
       "├── Labels\n",
       "│     ├── 'cell_labels': DataTree[yx] (34128, 51148), (17064, 25574), (8532, 12787), (4266, 6393), (2133, 3196)\n",
       "│     └── 'nucleus_labels': DataTree[yx] (34128, 51148), (17064, 25574), (8532, 12787), (4266, 6393), (2133, 3196)\n",
       "├── Points\n",
       "│     └── 'transcripts': DataFrame with shape: (<Delayed>, 11) (3D points)\n",
       "├── Shapes\n",
       "│     ├── 'cell_boundaries': GeoDataFrame shape: (116837, 1) (2D shapes)\n",
       "│     └── 'nucleus_boundaries': GeoDataFrame shape: (114734, 1) (2D shapes)\n",
       "└── Tables\n",
       "      └── 'table': AnnData (78976, 469)\n",
       "with coordinate systems:\n",
       "    ▸ 'global', with elements:\n",
       "        morphology_focus (Images), cell_labels (Labels), nucleus_labels (Labels), transcripts (Points), cell_boundaries (Shapes), nucleus_boundaries (Shapes)"
      ]
     },
     "execution_count": 127,
     "metadata": {},
     "output_type": "execute_result"
    }
   ],
   "source": [
    "self.adata"
   ]
  },
  {
   "cell_type": "code",
   "execution_count": 131,
   "metadata": {},
   "outputs": [],
   "source": [
    "self.adata"
   ]
  },
  {
   "cell_type": "code",
   "execution_count": 132,
   "metadata": {},
   "outputs": [
    {
     "ename": "ValueError",
     "evalue": "Mismatch(es) found between regions in region column in obs and target element: cell_circles, cell_labels",
     "output_type": "error",
     "traceback": [
      "\u001b[0;31m---------------------------------------------------------------------------\u001b[0m",
      "\u001b[0;31mValueError\u001b[0m                                Traceback (most recent call last)",
      "Cell \u001b[0;32mIn[132], line 1\u001b[0m\n\u001b[0;32m----> 1\u001b[0m \u001b[38;5;28;43mself\u001b[39;49m\u001b[38;5;241;43m.\u001b[39;49m\u001b[43madata\u001b[49m\u001b[38;5;241;43m.\u001b[39;49m\u001b[43m_change_table_annotation_target\u001b[49m\u001b[43m(\u001b[49m\u001b[38;5;28;43mself\u001b[39;49m\u001b[38;5;241;43m.\u001b[39;49m\u001b[43madata\u001b[49m\u001b[38;5;241;43m.\u001b[39;49m\u001b[43mtable\u001b[49m\u001b[43m,\u001b[49m\u001b[43m \u001b[49m\u001b[38;5;124;43m\"\u001b[39;49m\u001b[38;5;124;43mcell_labels\u001b[39;49m\u001b[38;5;124;43m\"\u001b[39;49m\u001b[43m)\u001b[49m\n",
      "File \u001b[0;32m~/miniconda3/envs/corescpy/lib/python3.10/site-packages/spatialdata/_core/spatialdata.py:396\u001b[0m, in \u001b[0;36mSpatialData._change_table_annotation_target\u001b[0;34m(table, region, region_key, instance_key)\u001b[0m\n\u001b[1;32m    394\u001b[0m TableModel()\u001b[38;5;241m.\u001b[39m_validate_set_region_key(table, region_key)\n\u001b[1;32m    395\u001b[0m TableModel()\u001b[38;5;241m.\u001b[39m_validate_set_instance_key(table, instance_key)\n\u001b[0;32m--> 396\u001b[0m \u001b[43mcheck_target_region_column_symmetry\u001b[49m\u001b[43m(\u001b[49m\u001b[43mtable\u001b[49m\u001b[43m,\u001b[49m\u001b[43m \u001b[49m\u001b[43mtable_region_key\u001b[49m\u001b[43m,\u001b[49m\u001b[43m \u001b[49m\u001b[43mregion\u001b[49m\u001b[43m)\u001b[49m\n\u001b[1;32m    397\u001b[0m attrs[TableModel\u001b[38;5;241m.\u001b[39mREGION_KEY] \u001b[38;5;241m=\u001b[39m region\n",
      "File \u001b[0;32m~/miniconda3/envs/corescpy/lib/python3.10/site-packages/spatialdata/models/models.py:1085\u001b[0m, in \u001b[0;36mcheck_target_region_column_symmetry\u001b[0;34m(table, region_key, target)\u001b[0m\n\u001b[1;32m   1083\u001b[0m symmetric_difference \u001b[38;5;241m=\u001b[39m found_regions\u001b[38;5;241m.\u001b[39msymmetric_difference(target_element_set)\n\u001b[1;32m   1084\u001b[0m \u001b[38;5;28;01mif\u001b[39;00m symmetric_difference:\n\u001b[0;32m-> 1085\u001b[0m     \u001b[38;5;28;01mraise\u001b[39;00m \u001b[38;5;167;01mValueError\u001b[39;00m(\n\u001b[1;32m   1086\u001b[0m         \u001b[38;5;124mf\u001b[39m\u001b[38;5;124m\"\u001b[39m\u001b[38;5;124mMismatch(es) found between regions in region column in obs and target element: \u001b[39m\u001b[38;5;124m\"\u001b[39m\n\u001b[1;32m   1087\u001b[0m         \u001b[38;5;124mf\u001b[39m\u001b[38;5;124m\"\u001b[39m\u001b[38;5;132;01m{\u001b[39;00m\u001b[38;5;124m'\u001b[39m\u001b[38;5;124m, \u001b[39m\u001b[38;5;124m'\u001b[39m\u001b[38;5;241m.\u001b[39mjoin(diff\u001b[38;5;250m \u001b[39m\u001b[38;5;28;01mfor\u001b[39;00m\u001b[38;5;250m \u001b[39mdiff\u001b[38;5;250m \u001b[39m\u001b[38;5;129;01min\u001b[39;00m\u001b[38;5;250m \u001b[39msymmetric_difference)\u001b[38;5;132;01m}\u001b[39;00m\u001b[38;5;124m\"\u001b[39m\n\u001b[1;32m   1088\u001b[0m     )\n",
      "\u001b[0;31mValueError\u001b[0m: Mismatch(es) found between regions in region column in obs and target element: cell_circles, cell_labels"
     ]
    }
   ],
   "source": [
    "self.adata._change_table_annotation_target(self.adata.table, \"cell_labels\")"
   ]
  },
  {
   "cell_type": "code",
   "execution_count": 51,
   "metadata": {},
   "outputs": [
    {
     "data": {
      "text/plain": [
       "{'instance_key': 'cell_id', 'region': 'cell_circles', 'region_key': 'region'}"
      ]
     },
     "execution_count": 51,
     "metadata": {},
     "output_type": "execute_result"
    }
   ],
   "source": [
    "table.uns.get(\"spatialdata_attrs\")"
   ]
  },
  {
   "cell_type": "code",
   "execution_count": 129,
   "metadata": {},
   "outputs": [
    {
     "data": {
      "text/plain": [
       "SpatialData object\n",
       "├── Images\n",
       "│     └── 'morphology_focus': DataTree[cyx] (5, 34128, 51148), (5, 17064, 25574), (5, 8532, 12787), (5, 4266, 6393), (5, 2133, 3196)\n",
       "├── Labels\n",
       "│     ├── 'cell_labels': DataTree[yx] (34128, 51148), (17064, 25574), (8532, 12787), (4266, 6393), (2133, 3196)\n",
       "│     └── 'nucleus_labels': DataTree[yx] (34128, 51148), (17064, 25574), (8532, 12787), (4266, 6393), (2133, 3196)\n",
       "├── Points\n",
       "│     └── 'transcripts': DataFrame with shape: (<Delayed>, 11) (3D points)\n",
       "├── Shapes\n",
       "│     ├── 'cell_boundaries': GeoDataFrame shape: (116837, 1) (2D shapes)\n",
       "│     └── 'nucleus_boundaries': GeoDataFrame shape: (114734, 1) (2D shapes)\n",
       "└── Tables\n",
       "      └── 'table': AnnData (78976, 469)\n",
       "with coordinate systems:\n",
       "    ▸ 'global', with elements:\n",
       "        morphology_focus (Images), cell_labels (Labels), nucleus_labels (Labels), transcripts (Points), cell_boundaries (Shapes), nucleus_boundaries (Shapes)"
      ]
     },
     "execution_count": 129,
     "metadata": {},
     "output_type": "execute_result"
    }
   ],
   "source": [
    "self.adata"
   ]
  },
  {
   "cell_type": "code",
   "execution_count": 128,
   "metadata": {},
   "outputs": [
    {
     "ename": "ValueError",
     "evalue": "Mismatch(es) found between regions in region column in obs and target element: cell_circles, cell_labels",
     "output_type": "error",
     "traceback": [
      "\u001b[0;31m---------------------------------------------------------------------------\u001b[0m",
      "\u001b[0;31mValueError\u001b[0m                                Traceback (most recent call last)",
      "Cell \u001b[0;32mIn[128], line 1\u001b[0m\n\u001b[0;32m----> 1\u001b[0m \u001b[38;5;28;43mself\u001b[39;49m\u001b[38;5;241;43m.\u001b[39;49m\u001b[43madata\u001b[49m\u001b[38;5;241;43m.\u001b[39;49m\u001b[43mset_table_annotates_spatialelement\u001b[49m\u001b[43m(\u001b[49m\u001b[38;5;124;43m\"\u001b[39;49m\u001b[38;5;124;43mtable\u001b[39;49m\u001b[38;5;124;43m\"\u001b[39;49m\u001b[43m,\u001b[49m\u001b[43m \u001b[49m\u001b[43mregion\u001b[49m\u001b[38;5;241;43m=\u001b[39;49m\u001b[38;5;124;43m\"\u001b[39;49m\u001b[38;5;124;43mcell_labels\u001b[39;49m\u001b[38;5;124;43m\"\u001b[39;49m\u001b[43m)\u001b[49m\n",
      "File \u001b[0;32m~/miniconda3/envs/corescpy/lib/python3.10/site-packages/spatialdata/_core/spatialdata.py:469\u001b[0m, in \u001b[0;36mSpatialData.set_table_annotates_spatialelement\u001b[0;34m(self, table_name, region, region_key, instance_key)\u001b[0m\n\u001b[1;32m    466\u001b[0m     \u001b[38;5;28;01mraise\u001b[39;00m \u001b[38;5;167;01mValueError\u001b[39;00m(\u001b[38;5;124mf\u001b[39m\u001b[38;5;124m\"\u001b[39m\u001b[38;5;124mAnnotation target \u001b[39m\u001b[38;5;124m'\u001b[39m\u001b[38;5;132;01m{\u001b[39;00mregion\u001b[38;5;132;01m}\u001b[39;00m\u001b[38;5;124m'\u001b[39m\u001b[38;5;124m not present as SpatialElement in SpatialData object.\u001b[39m\u001b[38;5;124m\"\u001b[39m)\n\u001b[1;32m    468\u001b[0m \u001b[38;5;28;01mif\u001b[39;00m table\u001b[38;5;241m.\u001b[39muns\u001b[38;5;241m.\u001b[39mget(TableModel\u001b[38;5;241m.\u001b[39mATTRS_KEY):\n\u001b[0;32m--> 469\u001b[0m     \u001b[38;5;28;43mself\u001b[39;49m\u001b[38;5;241;43m.\u001b[39;49m\u001b[43m_change_table_annotation_target\u001b[49m\u001b[43m(\u001b[49m\u001b[43mtable\u001b[49m\u001b[43m,\u001b[49m\u001b[43m \u001b[49m\u001b[43mregion\u001b[49m\u001b[43m,\u001b[49m\u001b[43m \u001b[49m\u001b[43mregion_key\u001b[49m\u001b[43m,\u001b[49m\u001b[43m \u001b[49m\u001b[43minstance_key\u001b[49m\u001b[43m)\u001b[49m\n\u001b[1;32m    470\u001b[0m \u001b[38;5;28;01melif\u001b[39;00m \u001b[38;5;28misinstance\u001b[39m(region_key, \u001b[38;5;28mstr\u001b[39m) \u001b[38;5;129;01mand\u001b[39;00m \u001b[38;5;28misinstance\u001b[39m(instance_key, \u001b[38;5;28mstr\u001b[39m):\n\u001b[1;32m    471\u001b[0m     \u001b[38;5;28mself\u001b[39m\u001b[38;5;241m.\u001b[39m_set_table_annotation_target(table, region, region_key, instance_key)\n",
      "File \u001b[0;32m~/miniconda3/envs/corescpy/lib/python3.10/site-packages/spatialdata/_core/spatialdata.py:396\u001b[0m, in \u001b[0;36mSpatialData._change_table_annotation_target\u001b[0;34m(table, region, region_key, instance_key)\u001b[0m\n\u001b[1;32m    394\u001b[0m TableModel()\u001b[38;5;241m.\u001b[39m_validate_set_region_key(table, region_key)\n\u001b[1;32m    395\u001b[0m TableModel()\u001b[38;5;241m.\u001b[39m_validate_set_instance_key(table, instance_key)\n\u001b[0;32m--> 396\u001b[0m \u001b[43mcheck_target_region_column_symmetry\u001b[49m\u001b[43m(\u001b[49m\u001b[43mtable\u001b[49m\u001b[43m,\u001b[49m\u001b[43m \u001b[49m\u001b[43mtable_region_key\u001b[49m\u001b[43m,\u001b[49m\u001b[43m \u001b[49m\u001b[43mregion\u001b[49m\u001b[43m)\u001b[49m\n\u001b[1;32m    397\u001b[0m attrs[TableModel\u001b[38;5;241m.\u001b[39mREGION_KEY] \u001b[38;5;241m=\u001b[39m region\n",
      "File \u001b[0;32m~/miniconda3/envs/corescpy/lib/python3.10/site-packages/spatialdata/models/models.py:1085\u001b[0m, in \u001b[0;36mcheck_target_region_column_symmetry\u001b[0;34m(table, region_key, target)\u001b[0m\n\u001b[1;32m   1083\u001b[0m symmetric_difference \u001b[38;5;241m=\u001b[39m found_regions\u001b[38;5;241m.\u001b[39msymmetric_difference(target_element_set)\n\u001b[1;32m   1084\u001b[0m \u001b[38;5;28;01mif\u001b[39;00m symmetric_difference:\n\u001b[0;32m-> 1085\u001b[0m     \u001b[38;5;28;01mraise\u001b[39;00m \u001b[38;5;167;01mValueError\u001b[39;00m(\n\u001b[1;32m   1086\u001b[0m         \u001b[38;5;124mf\u001b[39m\u001b[38;5;124m\"\u001b[39m\u001b[38;5;124mMismatch(es) found between regions in region column in obs and target element: \u001b[39m\u001b[38;5;124m\"\u001b[39m\n\u001b[1;32m   1087\u001b[0m         \u001b[38;5;124mf\u001b[39m\u001b[38;5;124m\"\u001b[39m\u001b[38;5;132;01m{\u001b[39;00m\u001b[38;5;124m'\u001b[39m\u001b[38;5;124m, \u001b[39m\u001b[38;5;124m'\u001b[39m\u001b[38;5;241m.\u001b[39mjoin(diff\u001b[38;5;250m \u001b[39m\u001b[38;5;28;01mfor\u001b[39;00m\u001b[38;5;250m \u001b[39mdiff\u001b[38;5;250m \u001b[39m\u001b[38;5;129;01min\u001b[39;00m\u001b[38;5;250m \u001b[39msymmetric_difference)\u001b[38;5;132;01m}\u001b[39;00m\u001b[38;5;124m\"\u001b[39m\n\u001b[1;32m   1088\u001b[0m     )\n",
      "\u001b[0;31mValueError\u001b[0m: Mismatch(es) found between regions in region column in obs and target element: cell_circles, cell_labels"
     ]
    }
   ],
   "source": [
    "self.adata.set_table_annotates_spatialelement(\"table\", region=\"cell_labels\")"
   ]
  },
  {
   "cell_type": "code",
   "execution_count": null,
   "metadata": {},
   "outputs": [],
   "source": [
    "sdata = self.crop(file_coord)  # crop data to coordinates\n",
    "sdata.pl.render_labels(\"cell_labels\").pl.show()  # plot\n",
    "\n",
    "self.adata = sdata\n",
    "self.write(file_obj_crop)  # write cropped"
   ]
  },
  {
   "cell_type": "code",
   "execution_count": null,
   "metadata": {},
   "outputs": [],
   "source": [
    "# element = self.adata.shapes[\"cell_circles\"]\n",
    "# buffered_df = element.copy()\n",
    "# buffered = to_polygons(element)"
   ]
  },
  {
   "cell_type": "code",
   "execution_count": null,
   "metadata": {},
   "outputs": [],
   "source": [
    "# n_cells = {}\n",
    "# for s in libs:  # iterate samples\n",
    "#     print(f\"\\n\\n{'*' * 40}\\n{s}\\n{'*' * 40}\\n\\n\")\n",
    "#     fff = os.path.join(dir_data, np.array(files)[np.where([\n",
    "#         s == os.path.basename(x).split(\"__\")[2].split(\"-\")[0]\n",
    "#         for x in files])[0][0]])  # sample's Xenium data directory path\n",
    "#     lib = metadata.reset_index().set_index(cso).loc[s][col_sample]\n",
    "#     file_obj_proc = os.path.join(out_dir, f\"{lib}{input_suffix}.h5ad\")\n",
    "#     self = cr.Spatial(fff, library_id=lib)  # load original data\n",
    "#     n_obs = self.rna.obs.shape[0]\n",
    "#     self.update_from_h5ad(file_obj_proc)  # update with processed object)\n",
    "#     self.rna.obs.loc[:, \"n_obs_raw\"] = n_obs\n",
    "#     self.write(file_obj_proc)\n",
    "#     n_cells[s] = pd.Series([n_obs, self.rna.obs.shape[0]], index=pd.Index([\n",
    "#         \"Raw\", \"Processed\"], name=\"Source\"))\n",
    "# n_cells = pd.concat(n_cells).unstack(\"Source\")\n",
    "# n_cells.to_excel(\"/home/elizabeth/elizabeth/projects/senescence/meta.xlsx\")\n",
    "# n_cells"
   ]
  },
  {
   "cell_type": "code",
   "execution_count": null,
   "metadata": {},
   "outputs": [],
   "source": [
    "%%time\n",
    "\n",
    "file_annotations = os.path.join(\n",
    "    out_dir, \"annotation_dictionaries/annotations_all.xlsx\")\n",
    "fmr = pd.read_excel(file_annotations, index_col=[0, 1])[\n",
    "    col_ann].dropna().astype(str)  # annotation mapping\n",
    "c_ann = col_ann + \"_\" + col_leiden.split(\"leiden_\")[1]\n",
    "\n",
    "for s in libs:  # iterate samples\n",
    "    print(f\"\\n\\n{'=' * 80}\\n{s}\\n{'=' * 80}\\n\\n\")\n",
    "    fff = os.path.join(dir_data, np.array(files)[np.where([\n",
    "        s == os.path.basename(x).split(\"__\")[2].split(\"-\")[0]\n",
    "        for x in files])[0][0]])  # sample's Xenium data directory path\n",
    "    lib = metadata.reset_index().set_index(cso).loc[s][col_sample]\n",
    "    file_obj_proc = os.path.join(out_dir, f\"{lib}{input_suffix}.h5ad\")\n",
    "    for coord_suffix in regions:\n",
    "        print(f\"\\n\\n\\t\\t{'*' * 40}\\n\\t\\t{s}\\n\\t\\t{'*' * 40}\\n\\n\")\n",
    "        self = cr.Spatial(fff, library_id=lib, col_cell_type=c_ann)  # load\n",
    "        self.update_from_h5ad(os.path.join(\n",
    "            out_new, \"objects_cropped\", coord_suffix,\n",
    "            f\"{lib}_{coord_suffix}.h5ad\"))  # update with cropped object\n",
    "        self.annotate_clusters(fmr.loc[i_x], col_cell_type=col_leiden,\n",
    "                               col_annotation=c_ann, copy=False)  # annotate\n",
    "        _ = self.calculate_centrality(n_jobs=sc.settings.n_jobs)\n",
    "        _, fig = self.calculate_neighborhood(figsize=(60, 30))"
   ]
  }
 ],
 "metadata": {
  "kernelspec": {
   "display_name": "bio",
   "language": "python",
   "name": "python3"
  },
  "language_info": {
   "codemirror_mode": {
    "name": "ipython",
    "version": 3
   },
   "file_extension": ".py",
   "mimetype": "text/x-python",
   "name": "python",
   "nbconvert_exporter": "python",
   "pygments_lexer": "ipython3",
   "version": "3.10.4"
  }
 },
 "nbformat": 4,
 "nbformat_minor": 2
}
