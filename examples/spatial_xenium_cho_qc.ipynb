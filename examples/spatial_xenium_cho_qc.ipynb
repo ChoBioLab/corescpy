{
 "cells": [
  {
   "cell_type": "code",
   "execution_count": 1,
   "metadata": {},
   "outputs": [
    {
     "data": {
      "text/html": [
       "<pre style=\"white-space:pre;overflow-x:auto;line-height:normal;font-family:Menlo,'DejaVu Sans Mono',consolas,'Courier New',monospace\"><span style=\"color: #808000; text-decoration-color: #808000; font-weight: bold\">ryp2 is not installed. Install with </span><span style=\"color: #008000; text-decoration-color: #008000; font-weight: bold\">pip install rpy2 </span><span style=\"color: #808000; text-decoration-color: #808000; font-weight: bold\">to run tools with R support.</span>\n",
       "</pre>\n"
      ],
      "text/plain": [
       "\u001b[1;33mryp2 is not installed. Install with \u001b[0m\u001b[1;32mpip install rpy2 \u001b[0m\u001b[1;33mto run tools with R support.\u001b[0m\n"
      ]
     },
     "metadata": {},
     "output_type": "display_data"
    },
    {
     "name": "stderr",
     "output_type": "stream",
     "text": [
      "Downloading data from `https://omnipathdb.org/queries/enzsub?format=json`\n",
      "Downloading data from `https://omnipathdb.org/queries/interactions?format=json`\n",
      "Downloading data from `https://omnipathdb.org/queries/complexes?format=json`\n",
      "Downloading data from `https://omnipathdb.org/queries/annotations?format=json`\n",
      "Downloading data from `https://omnipathdb.org/queries/intercell?format=json`\n",
      "Downloading data from `https://omnipathdb.org/about?format=text`\n"
     ]
    },
    {
     "data": {
      "text/plain": [
       "Sample\n",
       "Uninflamed-50452A     50452\n",
       "Inflamed-50452B       50452\n",
       "Stricture-50452C      50452\n",
       "Inflamed-50006A       50006\n",
       "Uninflamed-50006B     50006\n",
       "Stricture-50006C      50006\n",
       "Inflamed-50217A       50217\n",
       "Uninflamed-50217B     50217\n",
       "Stricture-50217C      50217\n",
       "Inflamed-50336B       50336\n",
       "Uninflamed-50336C     50336\n",
       "Stricture-50336A      50336\n",
       "Uninflamed-50403A2    50403\n",
       "Inflamed-50403B       50403\n",
       "Stricture-50403C1     50403\n",
       "Name: subject_id, dtype: int64"
      ]
     },
     "execution_count": 1,
     "metadata": {},
     "output_type": "execute_result"
    }
   ],
   "source": [
    "%load_ext autoreload\n",
    "%autoreload 2\n",
    "%matplotlib inline\n",
    "\n",
    "import os\n",
    "import re\n",
    "import math\n",
    "import functools\n",
    "import traceback\n",
    "import seaborn as sb\n",
    "import matplotlib.pyplot as plt\n",
    "import anndata\n",
    "import scanpy as sc\n",
    "import spatialdata_plot\n",
    "import numpy as np\n",
    "import pandas as pd\n",
    "import corescpy as cr\n",
    "\n",
    "# Main\n",
    "write_object = True  # change to True when you're ready to save objects\n",
    "overwrite = False  # overwrite if already exists?\n",
    "col_cell_type = \"leiden_res1pt5_dist0_npc30\"\n",
    "col_ann = \"Bucket\"\n",
    "regions = [\"mucosa\", \"serosa\", \"myenteric_plexus\",\n",
    "           \"submucosa\", \"smc_circular\", \"smc_longitudinal\"]\n",
    "\n",
    "# Process Options\n",
    "panel = \"TUQ97N\"  # Xenium panel ID\n",
    "constants_dict = cr.get_panel_constants(panel_id=panel)\n",
    "libs = [  # sample IDs from patients for whom we have all conditions\n",
    "    \"50452A\", \"50452B\", \"50452C\",  # old segmentation\n",
    "    \"50006A\", \"50006B\", \"50006C\",  # rest are new segmentation\n",
    "    \"50217A\", \"50217B\", \"50217C\",\n",
    "    \"50336B\", \"50336C\", \"50336A\",\n",
    "    \"50403A2\", \"50403B\", \"50403C1\"\n",
    "]  # excludes low-quality sample/condition replicates 50403A1 & 50403C2\n",
    "# libs = None  # to run all available samples\n",
    "cols = [\n",
    "    \"transcript_counts\", \"cell_area\", \"nucleus_area\", \"nucleus_count\",\n",
    "    \"control_probe_counts\", \"control_codeword_counts\",\n",
    "    \"unassigned_codeword_counts\", \"deprecated_codeword_counts\"\n",
    "]\n",
    "# cols_plot = list(cols)\n",
    "cols_plot = [\"transcript_counts\", \"cell_area\", \"nucleus_area\",\n",
    "             \"nucleus_count\", \"control_probe_counts\"]\n",
    "input_suffix = \"\"  # in case want to load objects with some suffix\n",
    "\n",
    "# Files & Directories\n",
    "direc = \"/mnt/cho_lab/bbdata2/\"  # mounted NFS with data\n",
    "dir_entry = \"/mnt/cho_lab/disk2\"  # Spark writeable data directory\n",
    "mdf = str(\"/mnt/cho_lab/disk2/elizabeth/data/shared-xenium-library/samples_\"\n",
    "          f\"{panel}.csv\")  # metadata file path (for now; will soon be on NFS)\n",
    "dir_writeable = os.path.join(\n",
    "    dir_entry, f\"elizabeth/data/shared-xenium-library\")  # where objects are\n",
    "out_dir = os.path.join(\n",
    "    dir_writeable, f\"outputs/{panel}/nebraska\")  # object output directory\n",
    "\n",
    "#  Your Folders\n",
    "out_new = os.path.join(\n",
    "    dir_entry,\n",
    "    f\"{os.getlogin()}/data/shared-xenium-library/outputs/{panel}/nebraska\")\n",
    "\n",
    "# Constants (Shouldn't Need Edits Unless Extreme Process Changes)\n",
    "cso, col_sample, col_condition, col_inflamed, col_subject = [\n",
    "    constants_dict[x] if x in constants_dict else None for x in [\n",
    "        \"col_sample_id_o\", \"col_sample_id\", \"col_condition\",\n",
    "        \"col_inflamed\", \"col_subject\"]]\n",
    "dir_data = os.path.join(direc, f\"outputs/{panel}\")\n",
    "files = functools.reduce(lambda i, j: i + j, [[os.path.join(\n",
    "    run, i) for i in os.listdir(os.path.join(\n",
    "        dir_data, run))] for run in os.listdir(dir_data)])  # all data paths\n",
    "os.makedirs(out_dir, exist_ok=True)  # make output directory if needed\n",
    "metadata = cr.pp.get_metadata_cho(direc, mdf, panel_id=panel, samples=libs)\n",
    "f_ann = pd.read_excel(os.path.join(\n",
    "    out_dir, \"annotation_dictionaries/annotations_all.xlsx\"), index_col=[\n",
    "        0, 1]).dropna(how=\"all\").dropna(how=\"all\", axis=1)\n",
    "f_ann = f_ann.reset_index().astype({f_ann.index.names[1]: \"int\"}).astype({\n",
    "    f_ann.index.names[1]: \"string\"}).set_index(f_ann.index.names)\n",
    "metadata[col_subject]"
   ]
  },
  {
   "cell_type": "markdown",
   "metadata": {},
   "source": [
    "# Overall Cell Counts & Metadata"
   ]
  },
  {
   "cell_type": "code",
   "execution_count": null,
   "metadata": {},
   "outputs": [],
   "source": [
    "n_origin, n_proc, obs = {}, {}, {}\n",
    "for s in libs:  # iterate samples\n",
    "    print(f\"\\n\\n{'=' * 80}\\n{s}\\n{'=' * 80}\\n\\n\")\n",
    "    fff = os.path.join(dir_data, np.array(files)[np.where([\n",
    "        s == os.path.basename(x).split(\"__\")[2].split(\"-\")[0]\n",
    "        for x in files])[0][0]])  # sample's Xenium data directory path\n",
    "    lib = metadata.reset_index().set_index(cso).loc[s][col_sample]\n",
    "    file_obj_proc = os.path.join(out_dir, f\"{lib}{input_suffix}.h5ad\")\n",
    "    self = cr.Spatial(fff, library_id=lib)  # load original data\n",
    "    adata = sc.read_h5ad(file_obj_proc)  # processed adata\n",
    "    n_origin[s], n_proc[s] = self.rna.obs.shape[0], adata.obs.shape[0]\n",
    "    obs[s] = adata.obs[adata.obs.columns.intersection(set(cols + [\n",
    "        col_cell_type]))].groupby(col_cell_type).describe().copy()\n",
    "    sb.pairplot(adata.obs[adata.obs.columns.intersection(set(cols))])\n",
    "n_cells = pd.concat([pd.Series(x, index=pd.Index(libs, name=cso))\n",
    "                     for x in [n_origin, n_proc]],\n",
    "                    keys=[\"Original\", \"Processed\"], names=[\"Source\"], axis=1)\n",
    "n_cells = n_cells.assign(Percent=100 * n_cells[\"Processed\"] / n_cells[\n",
    "    \"Original\"])  # percent of cells remaining after processing\n",
    "obs = pd.concat(obs, keys=libs, names=[cso])"
   ]
  },
  {
   "cell_type": "markdown",
   "metadata": {},
   "source": [
    "## Write"
   ]
  },
  {
   "cell_type": "code",
   "execution_count": null,
   "metadata": {},
   "outputs": [],
   "source": [
    "# n_cells.to_csv(os.path.join(\n",
    "#     out_new, f\"quantification/xenium_n_cells{input_suffix}.csv\"))\n",
    "# obs.to_csv(os.path.join(\n",
    "#     out_new, f\"quantification/xenium_qc{input_suffix}.csv\"))"
   ]
  },
  {
   "cell_type": "markdown",
   "metadata": {},
   "source": [
    "## Reload"
   ]
  },
  {
   "cell_type": "code",
   "execution_count": null,
   "metadata": {},
   "outputs": [],
   "source": [
    "# n_cells = pd.read_csv(os.path.join(\n",
    "#     out_new, f\"quantification/xenium_n_cells{input_suffix}.csv\"),\n",
    "#                       index_col=0)\n",
    "# obs = pd.read_csv(os.path.join(\n",
    "#     out_new, f\"quantification/xenium_qc{input_suffix}.csv\"),\n",
    "#                   header=[0, 1], index_col=[0, 1]).rename_axis([\n",
    "#                       \"Variable\", \"Metric\"], axis=1).stack(0)"
   ]
  },
  {
   "cell_type": "markdown",
   "metadata": {},
   "source": [
    "# Inspect"
   ]
  },
  {
   "cell_type": "code",
   "execution_count": null,
   "metadata": {},
   "outputs": [],
   "source": [
    "n_cells"
   ]
  },
  {
   "cell_type": "code",
   "execution_count": null,
   "metadata": {},
   "outputs": [],
   "source": [
    "obs"
   ]
  },
  {
   "cell_type": "markdown",
   "metadata": {},
   "source": [
    "## Plot"
   ]
  },
  {
   "cell_type": "code",
   "execution_count": null,
   "metadata": {},
   "outputs": [],
   "source": [
    "palette = \"tab20\"\n",
    "# palette = [\"r\", \"b\", \"y\"]\n",
    "\n",
    "fig = sb.catplot(obs[[\"25%\", \"50%\", \"75%\"]].stack().to_frame(\"Value\").join(\n",
    "    metadata.reset_index().set_index(cso)), x=col_subject, y=\"Value\",\n",
    "                 row=\"Variable\", col=\"Metric\", kind=\"bar\", hue=col_condition,\n",
    "                 sharex=False, sharey=False, palette=palette)\n",
    "fig.set_xticklabels(rotation=45, fontsize=10)\n",
    "plt.subplots_adjust(hspace=0.3)"
   ]
  },
  {
   "cell_type": "markdown",
   "metadata": {},
   "source": [
    "# By Region"
   ]
  },
  {
   "cell_type": "code",
   "execution_count": null,
   "metadata": {},
   "outputs": [],
   "source": [
    "adata.obs.columns"
   ]
  },
  {
   "cell_type": "code",
   "execution_count": null,
   "metadata": {},
   "outputs": [],
   "source": [
    "col_cell_type = \"leiden_res1pt5_dist0_npc30\"\n",
    "\n",
    "obs_reg, n_cells_reg = {},{}\n",
    "for r in regions:\n",
    "    obs_reg[r], n_cells_reg[r] = {},{}\n",
    "    for s in libs:  # iterate samples\n",
    "        print(f\"\\n\\n{'=' * 80}\\n{s}\\n{'=' * 80}\\n\\n\")\n",
    "        fff = os.path.join(dir_data, np.array(files)[np.where([\n",
    "            s == os.path.basename(x).split(\"__\")[2].split(\"-\")[0]\n",
    "            for x in files])[0][0]])  # sample's Xenium data directory path\n",
    "        lib = metadata.reset_index().set_index(cso).loc[s][col_sample]\n",
    "        file_obj_proc = os.path.join(out_dir, \"objects_cropped\",\n",
    "                                     r, f\"{lib}_{r}{input_suffix}.h5ad\")\n",
    "        if not os.path.exists(file_obj_proc):\n",
    "            print(f\"{file_obj_proc} doesn't exist\")\n",
    "            continue\n",
    "        adata = sc.read_h5ad(file_obj_proc)  # processed adata\n",
    "        obs_reg[r][s] = adata.obs[adata.obs.columns.intersection(set(cols + [\n",
    "            col_cell_type]))].assign(n_cells=adata.obs.shape[0])\n",
    "        n_cells_reg[r][s] = adata.obs[col_cell_type].value_counts()\n",
    "        # adata.obs = adata.obs.join(\n",
    "        #     adata.obs[col_cell_type].astype(str).map(dict(f_ann.loc[\n",
    "        #         f\"{lib}___{col_cell_type}_dictionary.xlsx\"])[\n",
    "        #             \"bucket\"]).to_frame(\"Annotation\"),\n",
    "        #     lsuffix=\"_original\")\n",
    "        # n_cells_reg[r][s] = adata.obs[\"Annotation\"].value_counts()\n",
    "    n_cells_reg[r] = pd.concat(n_cells_reg[r], names=[cso])\n",
    "    obs_reg[r] = pd.concat(obs_reg[r], names=[cso])\n",
    "obs_reg = pd.concat(obs_reg, names=[\"Region\"])\n",
    "n_cells_reg = pd.concat(n_cells_reg, names=[\"Region\"])\n",
    "n_cells_reg = n_cells_reg.to_frame(\"Count\").join(n_cells_reg.groupby([\n",
    "    \"Region\", \"sample_id\"]).sum().to_frame(\"Total\"))\n",
    "n_cells_reg.loc[:, \"Percent\"] = 100 * n_cells_reg[\n",
    "    \"Count\"] / n_cells_reg[\"Total\"]"
   ]
  },
  {
   "cell_type": "markdown",
   "metadata": {},
   "source": [
    "## Write"
   ]
  },
  {
   "cell_type": "code",
   "execution_count": null,
   "metadata": {},
   "outputs": [],
   "source": [
    "files = [os.path.join(\n",
    "    out_new, f\"quantification/xenium_qc_{'_'.join(regions)}{input_suffix}\"\n",
    "    \".csv\"), os.path.join(\n",
    "        out_new, f\"quantification/xenium_n_cells_{'_'.join(regions)}\"\n",
    "        f\"{input_suffix}.csv\")]\n",
    "print(files)\n",
    "obs_reg.to_csv(files[0])\n",
    "n_cells_reg.to_csv(files[1])"
   ]
  },
  {
   "cell_type": "markdown",
   "metadata": {},
   "source": [
    "## Reload"
   ]
  },
  {
   "cell_type": "code",
   "execution_count": null,
   "metadata": {},
   "outputs": [],
   "source": [
    "obs_reg = pd.read_csv(os.path.join(\n",
    "    out_new, f\"quantification/xenium_qc_{'_'.join(regions)}{input_suffix}\"\n",
    "    \".csv\"), index_col=0)\n",
    "n_cells_reg = pd.read_csv(os.path.join(\n",
    "    out_new, f\"quantification/xenium_n_cells_{'_'.join(regions)}\"\n",
    "    f\"{input_suffix}.csv\"), index_col=[0, 1, 2])"
   ]
  },
  {
   "cell_type": "markdown",
   "metadata": {},
   "source": [
    "## Inspect"
   ]
  },
  {
   "cell_type": "code",
   "execution_count": null,
   "metadata": {},
   "outputs": [],
   "source": [
    "n_cells_reg"
   ]
  },
  {
   "cell_type": "code",
   "execution_count": null,
   "metadata": {},
   "outputs": [],
   "source": [
    "obs_reg"
   ]
  },
  {
   "cell_type": "markdown",
   "metadata": {},
   "source": [
    "## Plot"
   ]
  },
  {
   "cell_type": "markdown",
   "metadata": {},
   "source": [
    "## By Region"
   ]
  },
  {
   "cell_type": "code",
   "execution_count": null,
   "metadata": {},
   "outputs": [],
   "source": [
    "obs_reg = obs_reg.join(metadata.reset_index().set_index(cso))\n",
    "n_cells_reg = n_cells_reg.join(metadata.reset_index().set_index(cso))\n",
    "sb.catplot(n_cells_reg, x=col_cell_type, y=\"Percent\", hue=\"Region\",\n",
    "           kind=\"bar\", col=col_condition, row=col_subject)\n",
    "fig = sb.pairplot(obs_reg.reset_index()[cols_plot + [\"Region\"]], hue=\"Region\",\n",
    "                  kind=\"scatter\", diag_kind=\"kde\",\n",
    "                  diag_kws=dict(cut=0, fill=True))"
   ]
  },
  {
   "cell_type": "markdown",
   "metadata": {},
   "source": [
    "## By Condition & Region"
   ]
  },
  {
   "cell_type": "code",
   "execution_count": null,
   "metadata": {},
   "outputs": [],
   "source": [
    "for r in obs_reg.reset_index().Region.unique():\n",
    "    fig = sb.pairplot(obs_reg.loc[r][cols_plot], hue=col_condition,\n",
    "                      kind=\"scatter\", diag_kind=\"kde\",\n",
    "                      diag_kws=dict(cut=0, fill=True))\n",
    "    fig.fig.suptitle(r)"
   ]
  }
 ],
 "metadata": {
  "kernelspec": {
   "display_name": "bio",
   "language": "python",
   "name": "python3"
  },
  "language_info": {
   "codemirror_mode": {
    "name": "ipython",
    "version": 3
   },
   "file_extension": ".py",
   "mimetype": "text/x-python",
   "name": "python",
   "nbconvert_exporter": "python",
   "pygments_lexer": "ipython3",
   "version": "3.10.4"
  }
 },
 "nbformat": 4,
 "nbformat_minor": 2
}
