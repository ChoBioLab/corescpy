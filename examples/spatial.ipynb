{
 "cells": [
  {
   "cell_type": "markdown",
   "metadata": {},
   "source": [
    "# Setup\n",
    "\n",
    "You'll want to set file paths here.\n",
    "\n",
    "For Xenium data, \n",
    "\n",
    "```\n",
    "wget https://cf.10xgenomics.com/samples/xenium/1.6.0/Xenium_V1_hColon_Non_diseased_Base_FFPE/Xenium_V1_hColon_Non_diseased_Base_FFPE_outs.zip\n",
    "```\n",
    "\n",
    "If you need to unzip the spatial/cells file:\n",
    "\n",
    "`unzip Xenium_V1_hColon_Non_diseased_Base_FFPE_outs.zip Xenium_V1_hColon_Non_diseased_Base_FFPE_outs`\n",
    "\n",
    "`tar -xvf Xenium_V1_hColon_Non_diseased_Base_FFPE_outs/cells.csv.gz`\n",
    "\n",
    "(replacing <file_path_spatial> and <data_dir> with the paths to the cells.csv.gz file and the data directory).\n"
   ]
  },
  {
   "cell_type": "code",
   "execution_count": null,
   "metadata": {},
   "outputs": [],
   "source": [
    "%load_ext autoreload\n",
    "%autoreload 2\n",
    "\n",
    "from crispr import Spatial\n",
    "import scanpy as sc\n",
    "import squidpy as sq\n",
    "import os\n",
    "import pandas as pd\n",
    "\n",
    "ddd = os.path.join(os.path.expanduser(\"~\"), str(\n",
    "    \"projects/data/public/xenium/Xenium_V1_hColon_Non_diseased_Base_FFPE_outs\"\n",
    "    ))\n",
    "fpd, fps = \"cell_feature_matrix.h5\", \"cells.csv\"\n",
    "file_path, file_path_spatial = [os.path.join(ddd, x) for x in [fpd, fps]]\n",
    "\n",
    "genes = [\"CDKN1A\", \"CDKN2A\", \"TP53\", \"PLAUR\", \n",
    "         \"PTGER4\", \"ATG16L1\", \"NOD2\", \"LACC1\"]\n",
    "\n",
    "pd.options.display.max_columns = 100\n"
   ]
  },
  {
   "cell_type": "markdown",
   "metadata": {},
   "source": [
    "# Object"
   ]
  },
  {
   "cell_type": "code",
   "execution_count": null,
   "metadata": {},
   "outputs": [],
   "source": [
    "self = Spatial(file_path, file_path_spatial=file_path_spatial, \n",
    "               visium=False, col_cell_type=\"majority_voting\")"
   ]
  },
  {
   "cell_type": "markdown",
   "metadata": {},
   "source": [
    "# Processing Data"
   ]
  },
  {
   "cell_type": "markdown",
   "metadata": {},
   "source": [
    "## Preprocessing"
   ]
  },
  {
   "cell_type": "code",
   "execution_count": null,
   "metadata": {},
   "outputs": [],
   "source": [
    "self.preprocess(regress_out=None)"
   ]
  },
  {
   "cell_type": "markdown",
   "metadata": {},
   "source": [
    "## Clustering"
   ]
  },
  {
   "cell_type": "code",
   "execution_count": null,
   "metadata": {},
   "outputs": [],
   "source": [
    "_ = self.cluster()"
   ]
  },
  {
   "cell_type": "markdown",
   "metadata": {},
   "source": [
    "## Annotation"
   ]
  },
  {
   "cell_type": "code",
   "execution_count": null,
   "metadata": {},
   "outputs": [],
   "source": [
    "_ = self.annotate_clusters(\"Cells_Intestinal_Tract.pkl\")"
   ]
  },
  {
   "cell_type": "markdown",
   "metadata": {},
   "source": [
    "# Analysis\n",
    "\n",
    "You can run everything in a one-liner command:\n",
    "```\n",
    "self.analyze_spatial(genes=genes, method_autocorr=\"moran\", alpha=0.005, \n",
    "                     n_perms=10, seed=1618, figsize_multiplier=2)\n",
    "```\n",
    "\n",
    "You can also run the steps of the overall workflow separately. Here are some examples running parts of the workflow (sometimes illustrating further customization options). "
   ]
  },
  {
   "cell_type": "markdown",
   "metadata": {},
   "source": [
    "## Basic Plots"
   ]
  },
  {
   "cell_type": "code",
   "execution_count": null,
   "metadata": {},
   "outputs": [],
   "source": [
    "_ = self.plot(color=genes, shape=\"circle\")\n",
    "_ = self.plot(color=\"predicted_labels\")"
   ]
  },
  {
   "cell_type": "code",
   "execution_count": null,
   "metadata": {},
   "outputs": [],
   "source": [
    "anchor_key = 192\n",
    "adata = self.adata.copy()\n",
    "col_cell_type = None\n",
    "\n",
    "if not col_cell_type:\n",
    "    col_cell_type = self._columns[\"col_cell_type\"]\n",
    "sq.tl.var_by_distance(adata, genes, col_cell_type, spatial_key=self._assay_spatial)\n",
    "sq.pl.var_by_distance(adata, genes, anchor_key)"
   ]
  },
  {
   "cell_type": "markdown",
   "metadata": {},
   "source": [
    "## Centrality Scores "
   ]
  },
  {
   "cell_type": "code",
   "execution_count": null,
   "metadata": {},
   "outputs": [],
   "source": [
    "self.calculate_centrality()  # run"
   ]
  },
  {
   "cell_type": "markdown",
   "metadata": {},
   "source": [
    "## Co-Occurrence of Cell Types\n",
    "\n",
    "We'll first randomly choose three clusters to focus the plots on, then run the analysis.\n"
   ]
  },
  {
   "cell_type": "code",
   "execution_count": null,
   "metadata": {},
   "outputs": [],
   "source": [
    "kct = list(self.rna.obs[self._columns[\"col_cell_type\"]].sample(3))\n",
    "_ = self.find_cooccurrence(key_cell_type=kct, figsize=(40, 20),\n",
    "                           kws_plot=dict(wspace=3, palette=\"tab20\"))"
   ]
  },
  {
   "cell_type": "markdown",
   "metadata": {},
   "source": [
    "## Neighbors Enrichment Analysis"
   ]
  },
  {
   "cell_type": "code",
   "execution_count": null,
   "metadata": {},
   "outputs": [],
   "source": [
    "_ = self.calculate_neighborhood()  # analyze enrichment"
   ]
  },
  {
   "cell_type": "markdown",
   "metadata": {},
   "source": [
    "## Spatially-Variable Genes"
   ]
  },
  {
   "cell_type": "code",
   "execution_count": null,
   "metadata": {},
   "outputs": [],
   "source": [
    "self.find_svgs(genes=genes, method=\"moran\", n_perms=10)"
   ]
  },
  {
   "cell_type": "markdown",
   "metadata": {},
   "source": [
    "## Receptor-Ligand Interactions"
   ]
  },
  {
   "cell_type": "code",
   "execution_count": null,
   "metadata": {},
   "outputs": [],
   "source": [
    "out = self.calculate_receptor_ligand(\n",
    "    key_sources=None, key_targets=None, p_threshold=0.0005, \n",
    "    remove_ns=True, hspace=0.2)"
   ]
  }
 ],
 "metadata": {
  "kernelspec": {
   "display_name": "py-bio",
   "language": "python",
   "name": "python3"
  },
  "language_info": {
   "codemirror_mode": {
    "name": "ipython",
    "version": 3
   },
   "file_extension": ".py",
   "mimetype": "text/x-python",
   "name": "python",
   "nbconvert_exporter": "python",
   "pygments_lexer": "ipython3",
   "version": "3.10.4"
  },
  "orig_nbformat": 4
 },
 "nbformat": 4,
 "nbformat_minor": 2
}
