{
 "cells": [
  {
   "cell_type": "markdown",
   "metadata": {},
   "source": [
    "# Setup\n",
    "\n",
    "You'll want to set file paths here.\n",
    "\n",
    "For Xenium data, \n",
    "\n",
    "```\n",
    "wget https://cf.10xgenomics.com/samples/xenium/1.6.0/Xenium_V1_hColon_Non_diseased_Base_FFPE/Xenium_V1_hColon_Non_diseased_Base_FFPE_outs.zip\n",
    "```\n",
    "\n",
    "If you need to unzip the spatial/cells file:\n",
    "\n",
    "`!tar -xzf <file_path_spatial>.gz -C <data_dir>`\n",
    "\n",
    "(replacing <file_path_spatial> and <data_dir> with the paths to the cells.csv.gz file and the data directory).\n"
   ]
  },
  {
   "cell_type": "code",
   "execution_count": null,
   "metadata": {},
   "outputs": [],
   "source": [
    "%load_ext autoreload\n",
    "%autoreload 2\n",
    "\n",
    "from crispr import Spatial\n",
    "import scanpy as sc\n",
    "import squidpy as sq\n",
    "import os\n",
    "import pandas as pd\n",
    "\n",
    "ddd = os.path.join(os.path.expanduser(\"~\"), \"visium/spatial/xenium_colon/\")\n",
    "fpd, fps = \"Xenium_V1_hColon_Non_diseased_Base_FFPE_outs\", \"cells.csv\"\n",
    "file_path, file_path_spatial = [os.path.join(ddd, x) for x in [fpd, fps]]\n",
    "\n",
    "pd.options.display.max_columns = 100\n"
   ]
  },
  {
   "cell_type": "markdown",
   "metadata": {},
   "source": [
    "# Object"
   ]
  },
  {
   "cell_type": "code",
   "execution_count": null,
   "metadata": {},
   "outputs": [],
   "source": [
    "self = Spatial(file_path, visium=True, col_cell_type=\"majority_voting\")"
   ]
  },
  {
   "cell_type": "markdown",
   "metadata": {},
   "source": [
    "# Processing Data"
   ]
  },
  {
   "cell_type": "markdown",
   "metadata": {},
   "source": [
    "## Preprocessing"
   ]
  },
  {
   "cell_type": "code",
   "execution_count": null,
   "metadata": {},
   "outputs": [],
   "source": [
    "kws_pp = {\"kws_hvg\": {\"min_mean\": 0.0125, \"max_mean\": 10, \n",
    "                      \"min_disp\": 0.5, \"flavor\": \"cell_ranger\"}, \n",
    "          \"target_sum\": 10000.0, \"cell_filter_pmt\": [0, 15], \n",
    "          \"cell_filter_ngene\": [200, None], \"cell_filter_ncounts\": [3, 40000], \n",
    "          \"gene_filter_ncell\": [3, None], \"regress_out\": None, \n",
    "          \"kws_scale\": \"log\", \"kws_umap\": {\"min_dist\": 0.3}}\n",
    "self.preprocess(**kws_pp)"
   ]
  },
  {
   "cell_type": "markdown",
   "metadata": {},
   "source": [
    "## Clustering"
   ]
  },
  {
   "cell_type": "code",
   "execution_count": null,
   "metadata": {},
   "outputs": [],
   "source": [
    "_ = self.cluster(method_cluster=\"leiden\", \n",
    "                 resolution=0.5,\n",
    "                 kws_pca=dict(n_comps=None, use_highly_variable=True), \n",
    "                 kws_umap=dict(min_dist=0.3), \n",
    "                 kws_neighbors=None, \n",
    "                 kws_cluster=None)"
   ]
  },
  {
   "cell_type": "markdown",
   "metadata": {},
   "source": [
    "## Annotation"
   ]
  },
  {
   "cell_type": "code",
   "execution_count": null,
   "metadata": {},
   "outputs": [],
   "source": [
    "_ = self.annotate_clusters(\"Cells_Intestinal_Tract.pkl\")"
   ]
  },
  {
   "cell_type": "markdown",
   "metadata": {},
   "source": [
    "# Analysis"
   ]
  },
  {
   "cell_type": "code",
   "execution_count": null,
   "metadata": {},
   "outputs": [],
   "source": [
    "coords = self.adata.obsm[\"spatial\"]\n",
    "[coords * sf for sf in [1.0]]"
   ]
  },
  {
   "cell_type": "code",
   "execution_count": null,
   "metadata": {},
   "outputs": [],
   "source": [
    "self.find_cooccurrence()"
   ]
  }
 ],
 "metadata": {
  "kernelspec": {
   "display_name": "py-bio",
   "language": "python",
   "name": "python3"
  },
  "language_info": {
   "codemirror_mode": {
    "name": "ipython",
    "version": 3
   },
   "file_extension": ".py",
   "mimetype": "text/x-python",
   "name": "python",
   "nbconvert_exporter": "python",
   "pygments_lexer": "ipython3",
   "version": "3.10.4"
  },
  "orig_nbformat": 4
 },
 "nbformat": 4,
 "nbformat_minor": 2
}
