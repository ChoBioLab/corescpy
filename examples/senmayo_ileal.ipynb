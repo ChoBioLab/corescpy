{
 "cells": [
  {
   "cell_type": "markdown",
   "metadata": {},
   "source": [
    "# Imports and Options\n",
    "\n",
    "Original parameters for combinedCD version 2:\n",
    "\n",
    "```\n",
    "min.cells,3\n",
    "min.count.rna,500\n",
    "max.count.rna,60000\n",
    "min.count.atac,1000\n",
    "max.count.atac,70000\n",
    "min.features,200\n",
    "max.features,2000\n",
    "max.percent.mt,30\n",
    "min.percent.mt,0\n",
    "pct.reads.peaks,20\n",
    "nucleosome,2\n",
    "tss.score,1\n",
    "dims,20\n",
    "res,0.5\n",
    "future.mem,62000\n",
    "future.workers,6\n",
    "```"
   ]
  },
  {
   "cell_type": "code",
   "execution_count": 1,
   "metadata": {},
   "outputs": [
    {
     "data": {
      "text/html": [
       "<pre style=\"white-space:pre;overflow-x:auto;line-height:normal;font-family:Menlo,'DejaVu Sans Mono',consolas,'Courier New',monospace\"><span style=\"color: #808000; text-decoration-color: #808000; font-weight: bold\">ryp2 is not installed. Install with </span><span style=\"color: #008000; text-decoration-color: #008000; font-weight: bold\">pip install rpy2 </span><span style=\"color: #808000; text-decoration-color: #808000; font-weight: bold\">to run tools with R support.</span>\n",
       "</pre>\n"
      ],
      "text/plain": [
       "\u001b[1;33mryp2 is not installed. Install with \u001b[0m\u001b[1;32mpip install rpy2 \u001b[0m\u001b[1;33mto run tools with R support.\u001b[0m\n"
      ]
     },
     "metadata": {},
     "output_type": "display_data"
    },
    {
     "name": "stderr",
     "output_type": "stream",
     "text": [
      "Downloading data from `https://omnipathdb.org/queries/enzsub?format=json`\n",
      "Downloading data from `https://omnipathdb.org/queries/interactions?format=json`\n",
      "Downloading data from `https://omnipathdb.org/queries/complexes?format=json`\n",
      "Downloading data from `https://omnipathdb.org/queries/annotations?format=json`\n",
      "Downloading data from `https://omnipathdb.org/queries/intercell?format=json`\n",
      "Downloading data from `https://omnipathdb.org/about?format=text`\n"
     ]
    }
   ],
   "source": [
    "%load_ext autoreload\n",
    "%autoreload 2\n",
    "\n",
    "import os\n",
    "import re\n",
    "import scanpy as scale\n",
    "import matplotlib\n",
    "import matplotlib.pyplot as plt\n",
    "import crispr as cr\n",
    "from crispr.class_sc import Omics\n",
    "import warnings\n",
    "import pandas as pd\n",
    "import numpy as np\n",
    "\n",
    "matplotlib.rcParams['figure.figsize'] = (10, 10)\n",
    "warnings.showwarning = lambda mess, cat, path, lineno, file=None, line=None: \\\n",
    "    print(f\"{path}:{lineno}: {cat.__name__}: {mess}\", file=file)\n",
    "warnings.filterwarnings(\"always\", category=UserWarning, module=\"crispr\")\n",
    "\n",
    "ddd = \"/home/elizabeth/elizabeth/projects/data/\"\n",
    "file = os.path.join(ddd,\n",
    "                    \"combined-cd/2023-05-12_CombinedCD-v2_new.h5ad\")\n",
    "file_gca = os.path.join(\n",
    "    ddd, \"public/gut-cell-atlas/Full_obj_log_counts_soupx_v2.h5ad\")\n",
    "genes = list(pd.read_csv(os.path.join(ddd, \"panel_senmayo.csv\")).gene)\n",
    "genes_main = [\"CDKN1A\", \"CDKN2A\", \"TP53\", \"PLAUR\", \"PTGER4\", \"FTL\", \"IL6ST\"]\n",
    "\n",
    "raw = False\n",
    "\n",
    "col_sample_id = \"object\"\n",
    "col_subject = \"PubID\"\n",
    "method_cluster = \"leiden\"\n",
    "col_cell_type = \"ClusterAnnotation\"\n",
    "col_condition = \"Inflammation\"\n",
    "key_control, key_treatment = \"Non-inflamed\", \"Inflamed\"\n",
    "# col_cell_type = \"majority_voting\"\n",
    "kws_init = {\n",
    "    \"assay\": None, \"assay_protein\": None,\n",
    "    \"col_gene_symbols\": [\"features\", \"_index\"][int(raw)],\n",
    "    \"col_cell_type\": col_cell_type, \"col_sample_id\": col_sample_id,\n",
    "    \"col_subject\": col_subject, \"col_condition\": col_condition,\n",
    "    \"key_control\": key_control, \"key_treatment\": key_treatment}\n",
    "kws_pp = {\"kws_hvg\": {\"flavor\": \"cell_ranger\", \"batch_key\": col_sample_id},\n",
    "          \"target_sum\": 10000.0,\n",
    "          \"cell_filter_pmt\": [0, 30],\n",
    "          \"cell_filter_ngene\": [200, 2000],\n",
    "          \"cell_filter_ncounts\": [500, 60000],\n",
    "          \"gene_filter_ncell\": [3, None],\n",
    "          \"regress_out\": None,\n",
    "          \"kws_scale\": True}\n",
    "kws_cluster = {\"method_cluster\": method_cluster,\n",
    "               \"kws_umap\": {},\n",
    "               \"kws_neighbors\": None,\n",
    "               \"kws_pca\": {\"n_comps\": 20, \"use_highly_variable\": True},\n",
    "               \"kws_cluster\": {},\n",
    "               \"resolution\": 0.5}\n",
    "if method_cluster == \"louvain\":\n",
    "    kws_cluster[\"kws_cluster\"].update({\"flavor\": \"vtraag\"})"
   ]
  },
  {
   "cell_type": "markdown",
   "metadata": {},
   "source": [
    "# Object Initialization"
   ]
  },
  {
   "cell_type": "code",
   "execution_count": 2,
   "metadata": {},
   "outputs": [
    {
     "name": "stdout",
     "output_type": "stream",
     "text": [
      "\n",
      "\n",
      "<<< INITIALIZING OMICS CLASS OBJECT >>>\n",
      "\n",
      "col_gene_symbols=\"features\"\n",
      "col_cell_type=\"ClusterAnnotation\"\n",
      "col_sample_id=\"object\"\n",
      "col_batch=\"object\"\n",
      "col_subject=\"PubID\"\n",
      "col_condition=\"Inflammation\"\n",
      "col_num_umis=None\n",
      "key_control=\"Non-inflamed\"\n",
      "key_treatment=\"Inflamed\"\n",
      "\n",
      "\n",
      "<<< LOADING FILE /home/elizabeth/elizabeth/projects/data/combined-cd/2023-05-12_CombinedCD-v2_new.h5ad with sc.read() >>>\n",
      "\n",
      "\n",
      "================================================================================\n",
      "Cell Counts: Initial\n",
      "================================================================================\n",
      "\n",
      "\n",
      "Observations: 215723\n",
      "\n",
      "\n",
      "\n",
      "================================================================================\n",
      "Gene Counts: Initial\n",
      "================================================================================\n",
      "\n",
      "Empty DataFrame\n",
      "Columns: [index]\n",
      "Index: []\n",
      "\n",
      "\n",
      "\n",
      "\n",
      "\n",
      " AnnData object with n_obs × n_vars = 215723 × 36511\n",
      "    obs: 'orig.ident', 'nCount_RNA', 'nFeature_RNA', 'nCount_ADT', 'nFeature_ADT', 'percent.mt', 'object', 'group', 'percent.rb', 'percent.hb', 'nCount_SCT', 'nFeature_SCT', 'SCT_snn_res.0.5', 'seurat_clusters', 'ClusterAnnotation', 'Bin', 'PubID', 'PubID_Obj', 'Library', 'AgeAtEnrollment', 'Sex', 'Ancestry', 'TNFAtProcedure', 'DiagnosisYear', 'FistulaCurrent', 'Region', 'Inflammation', 'Race', 'MultiomePair', 'ident'\n",
      "    uns: 'X_name'\n",
      "    obsm: 'HARMONY', 'PCA', 'UMAP'\n",
      "    layers: 'logcounts', 'counts'\n",
      "\n",
      "\n",
      " AnnData object with n_obs × n_vars = 215723 × 36511\n",
      "    obs: 'orig.ident', 'nCount_RNA', 'nFeature_RNA', 'nCount_ADT', 'nFeature_ADT', 'percent.mt', 'object', 'group', 'percent.rb', 'percent.hb', 'nCount_SCT', 'nFeature_SCT', 'SCT_snn_res.0.5', 'seurat_clusters', 'ClusterAnnotation', 'Bin', 'PubID', 'PubID_Obj', 'Library', 'AgeAtEnrollment', 'Sex', 'Ancestry', 'TNFAtProcedure', 'DiagnosisYear', 'FistulaCurrent', 'Region', 'Inflammation', 'Race', 'MultiomePair', 'ident'\n",
      "    uns: 'X_name'\n",
      "    obsm: 'HARMONY', 'PCA', 'UMAP'\n",
      "    layers: 'logcounts', 'counts'\n",
      "Empty DataFrame\n",
      "Columns: []\n",
      "Index: [MIR1302-2HG, FAM138A, OR4F5, AL627309.1, AL627309.3]\n",
      "                                                    orig.ident  nCount_RNA  \\\n",
      "AAACCCACAAGGCCTC-1_1_1_1_1_1_1_1_1_1_1_1_1_1_1_...  PerianalCD     19769.0   \n",
      "AAACCCACAGGACTAG-1_1_1_1_1_1_1_1_1_1_1_1_1_1_1_...  PerianalCD     35007.0   \n",
      "AAACCCATCCTGTAGA-1_1_1_1_1_1_1_1_1_1_1_1_1_1_1_...  PerianalCD      1718.0   \n",
      "AAACGAACACATATGC-1_1_1_1_1_1_1_1_1_1_1_1_1_1_1_...  PerianalCD     17579.0   \n",
      "AAACGAAGTGACCGTC-1_1_1_1_1_1_1_1_1_1_1_1_1_1_1_...  PerianalCD      1830.0   \n",
      "\n",
      "                                                    nFeature_RNA  nCount_ADT  \\\n",
      "AAACCCACAAGGCCTC-1_1_1_1_1_1_1_1_1_1_1_1_1_1_1_...          1695      1096.0   \n",
      "AAACCCACAGGACTAG-1_1_1_1_1_1_1_1_1_1_1_1_1_1_1_...          1888      3848.0   \n",
      "AAACCCATCCTGTAGA-1_1_1_1_1_1_1_1_1_1_1_1_1_1_1_...           774       458.0   \n",
      "AAACGAACACATATGC-1_1_1_1_1_1_1_1_1_1_1_1_1_1_1_...          1659      2040.0   \n",
      "AAACGAAGTGACCGTC-1_1_1_1_1_1_1_1_1_1_1_1_1_1_1_...           929      1367.0   \n",
      "\n",
      "                                                    nFeature_ADT  percent.mt  \\\n",
      "AAACCCACAAGGCCTC-1_1_1_1_1_1_1_1_1_1_1_1_1_1_1_...            24    2.503920   \n",
      "AAACCCACAGGACTAG-1_1_1_1_1_1_1_1_1_1_1_1_1_1_1_...            22    1.036935   \n",
      "AAACCCATCCTGTAGA-1_1_1_1_1_1_1_1_1_1_1_1_1_1_1_...            22   19.906868   \n",
      "AAACGAACACATATGC-1_1_1_1_1_1_1_1_1_1_1_1_1_1_1_...            24    1.058081   \n",
      "AAACGAAGTGACCGTC-1_1_1_1_1_1_1_1_1_1_1_1_1_1_1_...            23   17.704918   \n",
      "\n",
      "                                                    object      group  \\\n",
      "AAACCCACAAGGCCTC-1_1_1_1_1_1_1_1_1_1_1_1_1_1_1_...  AA1inf  RL_Hu_AA1   \n",
      "AAACCCACAGGACTAG-1_1_1_1_1_1_1_1_1_1_1_1_1_1_1_...  AA1inf  RL_Hu_AA1   \n",
      "AAACCCATCCTGTAGA-1_1_1_1_1_1_1_1_1_1_1_1_1_1_1_...  AA1inf  RL_Hu_AA1   \n",
      "AAACGAACACATATGC-1_1_1_1_1_1_1_1_1_1_1_1_1_1_1_...  AA1inf  RL_Hu_AA1   \n",
      "AAACGAAGTGACCGTC-1_1_1_1_1_1_1_1_1_1_1_1_1_1_1_...  AA1inf  RL_Hu_AA1   \n",
      "\n",
      "                                                    percent.rb  percent.hb  \\\n",
      "AAACCCACAAGGCCTC-1_1_1_1_1_1_1_1_1_1_1_1_1_1_1_...    6.358440    0.005058   \n",
      "AAACCCACAGGACTAG-1_1_1_1_1_1_1_1_1_1_1_1_1_1_1_...    3.316480    0.000000   \n",
      "AAACCCATCCTGTAGA-1_1_1_1_1_1_1_1_1_1_1_1_1_1_1_...    3.899884    0.000000   \n",
      "AAACGAACACATATGC-1_1_1_1_1_1_1_1_1_1_1_1_1_1_1_...    9.448774    0.000000   \n",
      "AAACGAAGTGACCGTC-1_1_1_1_1_1_1_1_1_1_1_1_1_1_1_...    3.825137    0.000000   \n",
      "\n",
      "                                                    ...   Sex  Ancestry  \\\n",
      "AAACCCACAAGGCCTC-1_1_1_1_1_1_1_1_1_1_1_1_1_1_1_...  ...  Male        AA   \n",
      "AAACCCACAGGACTAG-1_1_1_1_1_1_1_1_1_1_1_1_1_1_1_...  ...  Male        AA   \n",
      "AAACCCATCCTGTAGA-1_1_1_1_1_1_1_1_1_1_1_1_1_1_1_...  ...  Male        AA   \n",
      "AAACGAACACATATGC-1_1_1_1_1_1_1_1_1_1_1_1_1_1_1_...  ...  Male        AA   \n",
      "AAACGAAGTGACCGTC-1_1_1_1_1_1_1_1_1_1_1_1_1_1_1_...  ...  Male        AA   \n",
      "\n",
      "                                                   TNFAtProcedure  \\\n",
      "AAACCCACAAGGCCTC-1_1_1_1_1_1_1_1_1_1_1_1_1_1_1_...             No   \n",
      "AAACCCACAGGACTAG-1_1_1_1_1_1_1_1_1_1_1_1_1_1_1_...             No   \n",
      "AAACCCATCCTGTAGA-1_1_1_1_1_1_1_1_1_1_1_1_1_1_1_...             No   \n",
      "AAACGAACACATATGC-1_1_1_1_1_1_1_1_1_1_1_1_1_1_1_...             No   \n",
      "AAACGAAGTGACCGTC-1_1_1_1_1_1_1_1_1_1_1_1_1_1_1_...             No   \n",
      "\n",
      "                                                    DiagnosisYear  \\\n",
      "AAACCCACAAGGCCTC-1_1_1_1_1_1_1_1_1_1_1_1_1_1_1_...           2018   \n",
      "AAACCCACAGGACTAG-1_1_1_1_1_1_1_1_1_1_1_1_1_1_1_...           2018   \n",
      "AAACCCATCCTGTAGA-1_1_1_1_1_1_1_1_1_1_1_1_1_1_1_...           2018   \n",
      "AAACGAACACATATGC-1_1_1_1_1_1_1_1_1_1_1_1_1_1_1_...           2018   \n",
      "AAACGAAGTGACCGTC-1_1_1_1_1_1_1_1_1_1_1_1_1_1_1_...           2018   \n",
      "\n",
      "                                                   FistulaCurrent   Region  \\\n",
      "AAACCCACAAGGCCTC-1_1_1_1_1_1_1_1_1_1_1_1_1_1_1_...            Yes  Sigmoid   \n",
      "AAACCCACAGGACTAG-1_1_1_1_1_1_1_1_1_1_1_1_1_1_1_...            Yes  Sigmoid   \n",
      "AAACCCATCCTGTAGA-1_1_1_1_1_1_1_1_1_1_1_1_1_1_1_...            Yes  Sigmoid   \n",
      "AAACGAACACATATGC-1_1_1_1_1_1_1_1_1_1_1_1_1_1_1_...            Yes  Sigmoid   \n",
      "AAACGAAGTGACCGTC-1_1_1_1_1_1_1_1_1_1_1_1_1_1_1_...            Yes  Sigmoid   \n",
      "\n",
      "                                                   Inflammation   Race  \\\n",
      "AAACCCACAAGGCCTC-1_1_1_1_1_1_1_1_1_1_1_1_1_1_1_...     Inflamed  Black   \n",
      "AAACCCACAGGACTAG-1_1_1_1_1_1_1_1_1_1_1_1_1_1_1_...     Inflamed  Black   \n",
      "AAACCCATCCTGTAGA-1_1_1_1_1_1_1_1_1_1_1_1_1_1_1_...     Inflamed  Black   \n",
      "AAACGAACACATATGC-1_1_1_1_1_1_1_1_1_1_1_1_1_1_1_...     Inflamed  Black   \n",
      "AAACGAAGTGACCGTC-1_1_1_1_1_1_1_1_1_1_1_1_1_1_1_...     Inflamed  Black   \n",
      "\n",
      "                                                   MultiomePair        ident  \n",
      "AAACCCACAAGGCCTC-1_1_1_1_1_1_1_1_1_1_1_1_1_1_1_...           No  IgA1 Plasma  \n",
      "AAACCCACAGGACTAG-1_1_1_1_1_1_1_1_1_1_1_1_1_1_1_...           No   IgG Plasma  \n",
      "AAACCCATCCTGTAGA-1_1_1_1_1_1_1_1_1_1_1_1_1_1_1_...           No   Epithelial  \n",
      "AAACGAACACATATGC-1_1_1_1_1_1_1_1_1_1_1_1_1_1_1_...           No   IgG Plasma  \n",
      "AAACGAAGTGACCGTC-1_1_1_1_1_1_1_1_1_1_1_1_1_1_1_...           No  Fibroblasts  \n",
      "\n",
      "[5 rows x 30 columns]\n"
     ]
    }
   ],
   "source": [
    "self = Omics(file, **kws_init, raw=raw)\n",
    "self.adata.raw = None  # causes problems\n",
    "# if raw is False:  # if using converted object directly, add some attributes\n",
    "#     self.adata.layers[\"log1p\"] = self.adata.X.copy()\n",
    "#     self.adata.layers[\"scaled\"] = sc.pp.scale(self.adata, copy=True,\n",
    "#                                               zero_center=True).X\n",
    "#     sc.pp.highly_variable_genes(self.adata, **kws_pp[\"kws_hvg\"])\n",
    "self.adata = self.adata[self.adata.obs.Region == \"Ileum\"]\n",
    "self.adata.obs.replace({\"Sex\": {\"M\": \"Male\"}}, inplace=True)\n",
    "self.adata.obs.loc[:, col_condition] = self.adata.obs[col_condition].apply(\n",
    "    lambda x: re.sub(\"_\", \"-\", x))  # causes issues with pydeseq2 package\n",
    "key_treatment, key_control = [re.sub(\"_\", \"-\", x)\n",
    "                              for x in [key_treatment, key_control ]]\n",
    "self._keys.update({\"key_treatment\": key_treatment,\n",
    "                   \"key_control\": key_control})"
   ]
  },
  {
   "cell_type": "markdown",
   "metadata": {},
   "source": [
    "# Processing"
   ]
  },
  {
   "cell_type": "code",
   "execution_count": 4,
   "metadata": {},
   "outputs": [],
   "source": [
    "%%time\n",
    "\n",
    "_ = self.preprocess(**kws_pp)"
   ]
  },
  {
   "cell_type": "code",
   "execution_count": null,
   "metadata": {},
   "outputs": [],
   "source": [
    "    qc_vars = list(np.array(list(patterns.keys()))[\n",
    "        np.where(nonzero)[0]]) if any(nonzero) else []  # only plot if present"
   ]
  },
  {
   "cell_type": "code",
   "execution_count": null,
   "metadata": {},
   "outputs": [],
   "source": [
    "list(patterns)"
   ]
  },
  {
   "cell_type": "markdown",
   "metadata": {},
   "source": [
    "# Clustering"
   ]
  },
  {
   "cell_type": "markdown",
   "metadata": {},
   "source": [
    "## UMAP"
   ]
  },
  {
   "cell_type": "code",
   "execution_count": null,
   "metadata": {},
   "outputs": [],
   "source": [
    "%%time\n",
    "\n",
    "self.cluster(**kws_cluster)\n",
    "# self.plot_umap(legend_loc=\"on data\")"
   ]
  },
  {
   "cell_type": "markdown",
   "metadata": {},
   "source": [
    "## Markers"
   ]
  },
  {
   "cell_type": "code",
   "execution_count": null,
   "metadata": {},
   "outputs": [],
   "source": [
    "%%time\n",
    "\n",
    "marks = self.find_markers(n_genes=3, plot_kws={\"kind\": \"box\"})"
   ]
  },
  {
   "cell_type": "markdown",
   "metadata": {},
   "source": [
    "## Annotation"
   ]
  },
  {
   "cell_type": "code",
   "execution_count": null,
   "metadata": {},
   "outputs": [],
   "source": [
    "%%time\n",
    "\n",
    "self.annotate_clusters(\"Cells_Intestinal_Tract.pkl\")\n",
    "marks = self.find_markers(col_cell_type=\"majority_voting\", n_genes=3)"
   ]
  },
  {
   "cell_type": "markdown",
   "metadata": {},
   "source": [
    "# Plots"
   ]
  },
  {
   "cell_type": "markdown",
   "metadata": {},
   "source": [
    "## Options\n",
    "\n",
    "Choose available genes of interest, etc."
   ]
  },
  {
   "cell_type": "code",
   "execution_count": null,
   "metadata": {},
   "outputs": [],
   "source": [
    "goi = list(set(genes_main).intersection(self.rna.var_names))"
   ]
  },
  {
   "cell_type": "markdown",
   "metadata": {},
   "source": [
    "## General GEX"
   ]
  },
  {
   "cell_type": "code",
   "execution_count": null,
   "metadata": {},
   "outputs": [],
   "source": [
    "_ = self.plot(goi, kws_umap=dict(cmap=\"magma\", vcenter=None, vmax=10),\n",
    "              kws_heat=dict(vcenter=0, cmap=\"coolwarm\"),\n",
    "              kws_matrix=dict(vcenter=0, cmap=\"coolwarm\"))"
   ]
  },
  {
   "cell_type": "markdown",
   "metadata": {},
   "source": [
    "## GEX by Inflammation (and TNF)"
   ]
  },
  {
   "cell_type": "markdown",
   "metadata": {},
   "source": [
    "### Single Gene"
   ]
  },
  {
   "cell_type": "code",
   "execution_count": null,
   "metadata": {},
   "outputs": [],
   "source": [
    "# fig = self.plot_compare(genes=goi, kind=\"violin\", palette=[\"r\", \"gray\"])\n",
    "_ = self.plot_compare(genes=goi, kind=\"box\", palette=[\"r\", \"gray\"])\n",
    "_ = self.plot_compare(genes=goi, kind=\"box\", palette=[\"r\", \"gray\"],\n",
    "                      columns=\"TNFAtProcedure\", long_labels=True)"
   ]
  },
  {
   "cell_type": "markdown",
   "metadata": {},
   "source": [
    "### Multi-Gene, Multi-Color"
   ]
  },
  {
   "cell_type": "code",
   "execution_count": null,
   "metadata": {},
   "outputs": [],
   "source": [
    "# default_fs = plt.rcParams[\"figure.figsize\"]\n",
    "# plt.rcParams[\"figure.figsize\"] = (60, 60)\n",
    "ggg = list(set(genes).intersection(set(self.rna.var_names)))\n",
    "for g in [list(x) for x in np.array_split(ggg, 24)]:\n",
    "    _ = self.plot_umap(g, group=self._columns[\"col_condition\"],\n",
    "                       figsize=(20, 20), frameon=False)"
   ]
  },
  {
   "cell_type": "code",
   "execution_count": null,
   "metadata": {},
   "outputs": [],
   "source": [
    "# import re\n",
    "# self.adata.write_h5ade.sub(\"_new.h5ad\", \"_processed.h5ad\", file))"
   ]
  },
  {
   "cell_type": "markdown",
   "metadata": {},
   "source": [
    "# Analysis  \n",
    "\n",
    "To save the preprocessed object:\n",
    "\n",
    "```\n",
    "import re\n",
    "self.adata.write_h5ade.sub(\"_new.h5ad\", \"_processed.h5ad\", file))\n",
    "```"
   ]
  },
  {
   "cell_type": "markdown",
   "metadata": {},
   "source": [
    "## Ligand-Receptor with DEA\n",
    "\n",
    "Ligand-receptor analysis with overlaid differential expression analysis on pseudo-bulk data"
   ]
  },
  {
   "cell_type": "code",
   "execution_count": null,
   "metadata": {},
   "outputs": [],
   "source": [
    "%%time\n",
    "\n",
    "key_targets = None\n",
    "key_sources = [\"Epithelial\", \"Endothelial, Lymphatic\",\n",
    "               \"Fibroblasts\", \"Myofibroblasts\", \"Myeloid\", \"ILC3\"]\n",
    "# kws_deseq2 = dict(min_mu=0.5, min_disp=1e-08, max_disp=10, min_replicates=3)\n",
    "kws_deseq2 = dict(figsize=(45, 30))\n",
    "out_lr = self.calculate_receptor_ligand(\n",
    "    col_condition=True, figsize=(25, 15), p_threshold=0.01,\n",
    "    min_prop=0, min_count=0, min_total_count=0, kws_deseq2=kws_deseq2,\n",
    "    key_targets=key_targets, key_sources=key_sources, n_jobs=4)"
   ]
  },
  {
   "cell_type": "code",
   "execution_count": null,
   "metadata": {},
   "outputs": [],
   "source": [
    "# You can make new plots (e.., different targets/source, figure size, etc.)\n",
    "# without re-running all the analyses. You can also save figures this way.\n",
    "key_sources = [\"Epithelial\", \"Endothelial, Lymphatic\", \"Myeloid\"]\n",
    "self.plot_receptor_ligand(key_sources=key_sources, key_targets=key_sources,\n",
    "                          out_dir=\"plots_ilealCD\", figsize=(30, 15),\n",
    "                          figsize_dea=(45, 30), dpi=100)\n",
    "\n",
    "# Save Figures\n",
    "# for c in self.figures[\"receptor_ligand\"]:\n",
    "#     if isinstance(self.figures[\"receptor_ligand\"][c], dict):\n",
    "#         for q in self.figures[\"receptor_ligand\"][c]:\n",
    "#             self.figures[\"receptor_ligand\"][c][q].save(\n",
    "#                 f\"plots_ilealCD/{c}_{q}.png\", limitsize=False)\n",
    "#     else:\n",
    "#         self.figures[\"receptor_ligand\"][c].save(\n",
    "#             f\"plots_ilealCD/{c}.png\", limitsize=False)"
   ]
  },
  {
   "cell_type": "markdown",
   "metadata": {},
   "source": [
    "## Causal Network"
   ]
  },
  {
   "cell_type": "code",
   "execution_count": null,
   "metadata": {},
   "outputs": [],
   "source": [
    "%%time\n",
    "\n",
    "key_source, key_target = \"Epithelial\", \"Myeloid\"\n",
    "out = self.calculate_causal_network(key_source, key_target)"
   ]
  },
  {
   "cell_type": "markdown",
   "metadata": {},
   "source": [
    "## Functional Analysis (Pseudo-Bulk)"
   ]
  },
  {
   "cell_type": "code",
   "execution_count": null,
   "metadata": {},
   "outputs": [],
   "source": [
    "# out_fx = self.run_fx_analysis([self._columns[\"col_condition\"]])"
   ]
  },
  {
   "cell_type": "markdown",
   "metadata": {},
   "source": [
    "## Gene Set Enrichment Analysis"
   ]
  },
  {
   "cell_type": "markdown",
   "metadata": {},
   "source": [
    "### By Cell Type & Inflammation\n",
    "\n",
    "This way will choose the pathways shown in the plot using the scores and p-values."
   ]
  },
  {
   "cell_type": "code",
   "execution_count": null,
   "metadata": {},
   "outputs": [],
   "source": [
    "%%time\n",
    "\n",
    "out_gsea = self.run_gsea(key_condition=\"Epithelial_Inflamed\")"
   ]
  },
  {
   "cell_type": "markdown",
   "metadata": {},
   "source": [
    "### Plot Specified Pathways\n",
    "\n",
    "This list could have been supplied to the `ifn_pathways` argument in the `self.run_gsea()` call above to get these plots with the original run.\n",
    "\n",
    "This function allows you to plot different pathways and/or use different arguments for plotting (e.g., for aesthetics) without re-running the analysis."
   ]
  },
  {
   "cell_type": "code",
   "execution_count": null,
   "metadata": {},
   "outputs": [],
   "source": [
    "ifn_pathways = [\n",
    "    \"REACTOME_DNA_DOUBLE_STRAND_BREAK_REPAIR\",\n",
    "    \"REACTOME_NUCLEOTIDE_EXCISION_REPAIR\",\n",
    "    \"REACTOME_CELLULAR_RESPONSE_TO_STARVATION\",\n",
    "    \"REACTOME_TIGHT_JUNCTION_INTERACTIONS\",\n",
    "    \"REACTOME_CELL_CELL_JUNCTION_ORGANIZATION\",\n",
    "    \"REACTOME_PLASMA_LIPOPROTEIN_REMODELING\",\n",
    "    str(\"REACTOME_IMMUNOREGULATORY_INTERACTIONS_BETWEEN_A_LYMPHOID_AND_\"\n",
    "        \"A_NON_LYMPHOID_CELL\"),\n",
    "    \"REACTOME_SIGNALING_BY_PDGFR_IN_DISEASE\",\n",
    "    \"REACTOME_SWITCHING_OF_ORIGINS_TO_A_POST_REPLICATIVE_STATE\"]\n",
    "self.plot_gsea(ifn_pathways=ifn_pathways, cmap=\"magma\")"
   ]
  },
  {
   "cell_type": "markdown",
   "metadata": {},
   "source": [
    "### Across Cell Types"
   ]
  },
  {
   "cell_type": "code",
   "execution_count": null,
   "metadata": {},
   "outputs": [],
   "source": [
    "out_gsea_i = self.run_gsea(col_condition=self._columns[\"col_condition\"],\n",
    "                           key_condition=self._keys[\"key_treatment\"],\n",
    "                           ifn_pathways=True)  # auto-choose pathways to plot"
   ]
  },
  {
   "cell_type": "markdown",
   "metadata": {},
   "source": [
    "## Composition Analysis"
   ]
  },
  {
   "cell_type": "code",
   "execution_count": null,
   "metadata": {},
   "outputs": [],
   "source": [
    "out_comp = self.run_composition_analysis(covariates=[\"TNFAtProcedure\"])"
   ]
  },
  {
   "cell_type": "markdown",
   "metadata": {},
   "source": [
    "# Workspace"
   ]
  },
  {
   "cell_type": "code",
   "execution_count": null,
   "metadata": {},
   "outputs": [],
   "source": [
    "# lig_rec = \"COPA-CD74\"\n",
    "# lig_rec = \"MYL9-CD69\"\n",
    "# lig_rec = \"HMGB1-CXCR4\"\n",
    "# lig_rec = \"CXCL14-CXCR4\"\n",
    "# lig_rec = \"MFGE8-PDGFRB\"\n",
    "# lig_rec = \"CALM1-MYLK\"\n",
    "# lig_rec = \"CALM2-MYLK\"\n",
    "# lig_rec = \"CALM3-MYLK\"\n",
    "lig_rec = \"HMGB1-CXCR4\"\n",
    "p_threshold = 0.001\n",
    "\n",
    "out_lr = self.results[\"receptor_ligand\"]\n",
    "ligand, receptor = lig_rec.split(\"-\")\n",
    "for s in out_lr[list(out_lr.keys())[0]].source.unique():\n",
    "    print(f\"Source = {s}\\n\\n\")\n",
    "    for c in out_lr:\n",
    "        dff = out_lr[c][out_lr[c].cellphone_pvals < p_threshold]\n",
    "        targs = list(dff[(dff[\"source\"] == s) & (\n",
    "            dff[\"ligand\"] == ligand) & (\n",
    "                dff[\"receptor_complex\"] == receptor)][\"target\"])\n",
    "        print(f\"{c}\\n{'-' * len(c)}\\n{targs}\")\n",
    "    print(\"\\n\\n\", \"=\" * 80, \"\\n\\n\\n\")"
   ]
  },
  {
   "cell_type": "code",
   "execution_count": null,
   "metadata": {},
   "outputs": [],
   "source": [
    "res = self.results[\"receptor_ligand\"][\"liana_res\"]\n",
    "targs = res[(res.cellphone_pvals < p_threshold) & (res.lr_means > 1)\n",
    "            ].groupby([\"receptor\", \"ligand\", \"source\", res.index.names[0]]\n",
    "                      ).apply(lambda x: list(x.target))\n",
    "print(targs.head())\n",
    "ktc = self._keys[\"key_treatment\"], self._keys[\"key_control\"]\n",
    "for i in [[0, 1], [1, 0]]:  # loop (1)  tx v. control, (2) vice-versa\n",
    "    print(\"=\" * 80, [\"Tx v. C\", \"C vs. Tx\"][i], \"=\" * 80, \"\\n\\n\")\n",
    "    print(targs.loc[receptor, ligand, :].reset_index(0).groupby(\n",
    "        \"source\").apply(lambda x: list(set(x.loc[ktc[i[0]], 0]).difference(\n",
    "            set(x.loc[ktc[i[1]], 0])))))  # difference in significant sources"
   ]
  },
  {
   "cell_type": "code",
   "execution_count": null,
   "metadata": {},
   "outputs": [],
   "source": [
    "targs.reset_index()[targs.reset_index().receptor == \"MYLK\"\n",
    "                    ].reset_index().ligand.unique()"
   ]
  },
  {
   "cell_type": "code",
   "execution_count": null,
   "metadata": {},
   "outputs": [],
   "source": [
    "rrr = res[(res.ligand == ligand) & (res.receptor == receptor) & (\n",
    "    res.cellphone_pvals < 1e-3) & (res.lr_means > 1)]\n",
    "rrr"
   ]
  },
  {
   "cell_type": "code",
   "execution_count": null,
   "metadata": {},
   "outputs": [],
   "source": [
    "tmp = [out_lr[c][out_lr[c].cellphone_pvals < 0.01].target for c in ktc]\n",
    "targs = []\n",
    "for s in out_lr[list(out_lr.keys())[0]].source.unique():\n",
    "    print(s)\n",
    "    for t in tmp:\n",
    "        targs += [list(dff[(dff[\"source\"] == s) & (dff[\"ligand\"] == ligand) & (\n",
    "            dff[\"receptor_complex\"] == receptor)][\"target\"])]\n",
    "    print(s + \": \" + \", \".join(set(targs[0]).difference(targs[1])))"
   ]
  }
 ],
 "metadata": {
  "kernelspec": {
   "display_name": "py-bio",
   "language": "python",
   "name": "python3"
  },
  "language_info": {
   "codemirror_mode": {
    "name": "ipython",
    "version": 3
   },
   "file_extension": ".py",
   "mimetype": "text/x-python",
   "name": "python",
   "nbconvert_exporter": "python",
   "pygments_lexer": "ipython3",
   "version": "3.10.4"
  },
  "orig_nbformat": 4
 },
 "nbformat": 4,
 "nbformat_minor": 2
}
