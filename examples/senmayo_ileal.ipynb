{
 "cells": [
  {
   "cell_type": "markdown",
   "metadata": {},
   "source": [
    "# Imports and Options\n",
    "\n",
    "Original parameters for combinedCD version 2:\n",
    "\n",
    "```\n",
    "min.cells,3\n",
    "min.count.rna,500\n",
    "max.count.rna,60000\n",
    "min.count.atac,1000\n",
    "max.count.atac,70000\n",
    "min.features,200\n",
    "max.features,2000\n",
    "max.percent.mt,30\n",
    "min.percent.mt,0\n",
    "pct.reads.peaks,20\n",
    "nucleosome,2\n",
    "tss.score,1\n",
    "dims,20\n",
    "res,0.5\n",
    "future.mem,62000\n",
    "future.workers,6\n",
    "```"
   ]
  },
  {
   "cell_type": "code",
   "execution_count": 1,
   "metadata": {},
   "outputs": [
    {
     "data": {
      "text/html": [
       "<pre style=\"white-space:pre;overflow-x:auto;line-height:normal;font-family:Menlo,'DejaVu Sans Mono',consolas,'Courier New',monospace\"><span style=\"color: #808000; text-decoration-color: #808000; font-weight: bold\">ryp2 is not installed. Install with </span><span style=\"color: #008000; text-decoration-color: #008000; font-weight: bold\">pip install rpy2 </span><span style=\"color: #808000; text-decoration-color: #808000; font-weight: bold\">to run tools with R support.</span>\n",
       "</pre>\n"
      ],
      "text/plain": [
       "\u001b[1;33mryp2 is not installed. Install with \u001b[0m\u001b[1;32mpip install rpy2 \u001b[0m\u001b[1;33mto run tools with R support.\u001b[0m\n"
      ]
     },
     "metadata": {},
     "output_type": "display_data"
    },
    {
     "name": "stderr",
     "output_type": "stream",
     "text": [
      "Downloading data from `https://omnipathdb.org/queries/enzsub?format=json`\n",
      "Downloading data from `https://omnipathdb.org/queries/interactions?format=json`\n",
      "Downloading data from `https://omnipathdb.org/queries/complexes?format=json`\n",
      "Downloading data from `https://omnipathdb.org/queries/annotations?format=json`\n",
      "Downloading data from `https://omnipathdb.org/queries/intercell?format=json`\n",
      "Downloading data from `https://omnipathdb.org/about?format=text`\n"
     ]
    },
    {
     "ename": "FileNotFoundError",
     "evalue": "[Errno 2] No such file or directory: '/home/elizabeth/elizabeth/projects/data/panel_senmayo.csv'",
     "output_type": "error",
     "traceback": [
      "\u001b[0;31m---------------------------------------------------------------------------\u001b[0m",
      "\u001b[0;31mFileNotFoundError\u001b[0m                         Traceback (most recent call last)",
      "\u001b[1;32m/home/ubuntu/corescpy/examples/senmayo_ileal.ipynb Cell 2\u001b[0m line \u001b[0;36m2\n\u001b[1;32m     <a href='vscode-notebook-cell://ssh-remote%2Baws/home/ubuntu/corescpy/examples/senmayo_ileal.ipynb#W2sdnNjb2RlLXJlbW90ZQ%3D%3D?line=20'>21</a>\u001b[0m file \u001b[39m=\u001b[39m os\u001b[39m.\u001b[39mpath\u001b[39m.\u001b[39mjoin(ddd,\n\u001b[1;32m     <a href='vscode-notebook-cell://ssh-remote%2Baws/home/ubuntu/corescpy/examples/senmayo_ileal.ipynb#W2sdnNjb2RlLXJlbW90ZQ%3D%3D?line=21'>22</a>\u001b[0m                     \u001b[39m\"\u001b[39m\u001b[39mcombined-cd/2023-05-12_CombinedCD-v2_new.h5ad\u001b[39m\u001b[39m\"\u001b[39m)\n\u001b[1;32m     <a href='vscode-notebook-cell://ssh-remote%2Baws/home/ubuntu/corescpy/examples/senmayo_ileal.ipynb#W2sdnNjb2RlLXJlbW90ZQ%3D%3D?line=22'>23</a>\u001b[0m file_gca \u001b[39m=\u001b[39m os\u001b[39m.\u001b[39mpath\u001b[39m.\u001b[39mjoin(\n\u001b[1;32m     <a href='vscode-notebook-cell://ssh-remote%2Baws/home/ubuntu/corescpy/examples/senmayo_ileal.ipynb#W2sdnNjb2RlLXJlbW90ZQ%3D%3D?line=23'>24</a>\u001b[0m     ddd, \u001b[39m\"\u001b[39m\u001b[39mpublic/gut-cell-atlas/Full_obj_log_counts_soupx_v2.h5ad\u001b[39m\u001b[39m\"\u001b[39m)\n\u001b[0;32m---> <a href='vscode-notebook-cell://ssh-remote%2Baws/home/ubuntu/corescpy/examples/senmayo_ileal.ipynb#W2sdnNjb2RlLXJlbW90ZQ%3D%3D?line=24'>25</a>\u001b[0m genes \u001b[39m=\u001b[39m \u001b[39mlist\u001b[39m(pd\u001b[39m.\u001b[39;49mread_csv(os\u001b[39m.\u001b[39;49mpath\u001b[39m.\u001b[39;49mjoin(ddd, \u001b[39m\"\u001b[39;49m\u001b[39mpanel_senmayo.csv\u001b[39;49m\u001b[39m\"\u001b[39;49m))\u001b[39m.\u001b[39mgene)\n\u001b[1;32m     <a href='vscode-notebook-cell://ssh-remote%2Baws/home/ubuntu/corescpy/examples/senmayo_ileal.ipynb#W2sdnNjb2RlLXJlbW90ZQ%3D%3D?line=25'>26</a>\u001b[0m genes_main \u001b[39m=\u001b[39m [\u001b[39m\"\u001b[39m\u001b[39mCDKN1A\u001b[39m\u001b[39m\"\u001b[39m, \u001b[39m\"\u001b[39m\u001b[39mCDKN2A\u001b[39m\u001b[39m\"\u001b[39m, \u001b[39m\"\u001b[39m\u001b[39mTP53\u001b[39m\u001b[39m\"\u001b[39m, \u001b[39m\"\u001b[39m\u001b[39mPLAUR\u001b[39m\u001b[39m\"\u001b[39m, \u001b[39m\"\u001b[39m\u001b[39mPTGER4\u001b[39m\u001b[39m\"\u001b[39m, \u001b[39m\"\u001b[39m\u001b[39mFTL\u001b[39m\u001b[39m\"\u001b[39m, \u001b[39m\"\u001b[39m\u001b[39mIL6ST\u001b[39m\u001b[39m\"\u001b[39m]\n\u001b[1;32m     <a href='vscode-notebook-cell://ssh-remote%2Baws/home/ubuntu/corescpy/examples/senmayo_ileal.ipynb#W2sdnNjb2RlLXJlbW90ZQ%3D%3D?line=27'>28</a>\u001b[0m raw \u001b[39m=\u001b[39m \u001b[39mFalse\u001b[39;00m\n",
      "File \u001b[0;32m~/miniconda3/envs/py-bio/lib/python3.10/site-packages/pandas/io/parsers/readers.py:1024\u001b[0m, in \u001b[0;36mread_csv\u001b[0;34m(filepath_or_buffer, sep, delimiter, header, names, index_col, usecols, dtype, engine, converters, true_values, false_values, skipinitialspace, skiprows, skipfooter, nrows, na_values, keep_default_na, na_filter, verbose, skip_blank_lines, parse_dates, infer_datetime_format, keep_date_col, date_parser, date_format, dayfirst, cache_dates, iterator, chunksize, compression, thousands, decimal, lineterminator, quotechar, quoting, doublequote, escapechar, comment, encoding, encoding_errors, dialect, on_bad_lines, delim_whitespace, low_memory, memory_map, float_precision, storage_options, dtype_backend)\u001b[0m\n\u001b[1;32m   1011\u001b[0m kwds_defaults \u001b[39m=\u001b[39m _refine_defaults_read(\n\u001b[1;32m   1012\u001b[0m     dialect,\n\u001b[1;32m   1013\u001b[0m     delimiter,\n\u001b[0;32m   (...)\u001b[0m\n\u001b[1;32m   1020\u001b[0m     dtype_backend\u001b[39m=\u001b[39mdtype_backend,\n\u001b[1;32m   1021\u001b[0m )\n\u001b[1;32m   1022\u001b[0m kwds\u001b[39m.\u001b[39mupdate(kwds_defaults)\n\u001b[0;32m-> 1024\u001b[0m \u001b[39mreturn\u001b[39;00m _read(filepath_or_buffer, kwds)\n",
      "File \u001b[0;32m~/miniconda3/envs/py-bio/lib/python3.10/site-packages/pandas/io/parsers/readers.py:618\u001b[0m, in \u001b[0;36m_read\u001b[0;34m(filepath_or_buffer, kwds)\u001b[0m\n\u001b[1;32m    615\u001b[0m _validate_names(kwds\u001b[39m.\u001b[39mget(\u001b[39m\"\u001b[39m\u001b[39mnames\u001b[39m\u001b[39m\"\u001b[39m, \u001b[39mNone\u001b[39;00m))\n\u001b[1;32m    617\u001b[0m \u001b[39m# Create the parser.\u001b[39;00m\n\u001b[0;32m--> 618\u001b[0m parser \u001b[39m=\u001b[39m TextFileReader(filepath_or_buffer, \u001b[39m*\u001b[39;49m\u001b[39m*\u001b[39;49mkwds)\n\u001b[1;32m    620\u001b[0m \u001b[39mif\u001b[39;00m chunksize \u001b[39mor\u001b[39;00m iterator:\n\u001b[1;32m    621\u001b[0m     \u001b[39mreturn\u001b[39;00m parser\n",
      "File \u001b[0;32m~/miniconda3/envs/py-bio/lib/python3.10/site-packages/pandas/io/parsers/readers.py:1618\u001b[0m, in \u001b[0;36mTextFileReader.__init__\u001b[0;34m(self, f, engine, **kwds)\u001b[0m\n\u001b[1;32m   1615\u001b[0m     \u001b[39mself\u001b[39m\u001b[39m.\u001b[39moptions[\u001b[39m\"\u001b[39m\u001b[39mhas_index_names\u001b[39m\u001b[39m\"\u001b[39m] \u001b[39m=\u001b[39m kwds[\u001b[39m\"\u001b[39m\u001b[39mhas_index_names\u001b[39m\u001b[39m\"\u001b[39m]\n\u001b[1;32m   1617\u001b[0m \u001b[39mself\u001b[39m\u001b[39m.\u001b[39mhandles: IOHandles \u001b[39m|\u001b[39m \u001b[39mNone\u001b[39;00m \u001b[39m=\u001b[39m \u001b[39mNone\u001b[39;00m\n\u001b[0;32m-> 1618\u001b[0m \u001b[39mself\u001b[39m\u001b[39m.\u001b[39m_engine \u001b[39m=\u001b[39m \u001b[39mself\u001b[39;49m\u001b[39m.\u001b[39;49m_make_engine(f, \u001b[39mself\u001b[39;49m\u001b[39m.\u001b[39;49mengine)\n",
      "File \u001b[0;32m~/miniconda3/envs/py-bio/lib/python3.10/site-packages/pandas/io/parsers/readers.py:1878\u001b[0m, in \u001b[0;36mTextFileReader._make_engine\u001b[0;34m(self, f, engine)\u001b[0m\n\u001b[1;32m   1876\u001b[0m     \u001b[39mif\u001b[39;00m \u001b[39m\"\u001b[39m\u001b[39mb\u001b[39m\u001b[39m\"\u001b[39m \u001b[39mnot\u001b[39;00m \u001b[39min\u001b[39;00m mode:\n\u001b[1;32m   1877\u001b[0m         mode \u001b[39m+\u001b[39m\u001b[39m=\u001b[39m \u001b[39m\"\u001b[39m\u001b[39mb\u001b[39m\u001b[39m\"\u001b[39m\n\u001b[0;32m-> 1878\u001b[0m \u001b[39mself\u001b[39m\u001b[39m.\u001b[39mhandles \u001b[39m=\u001b[39m get_handle(\n\u001b[1;32m   1879\u001b[0m     f,\n\u001b[1;32m   1880\u001b[0m     mode,\n\u001b[1;32m   1881\u001b[0m     encoding\u001b[39m=\u001b[39;49m\u001b[39mself\u001b[39;49m\u001b[39m.\u001b[39;49moptions\u001b[39m.\u001b[39;49mget(\u001b[39m\"\u001b[39;49m\u001b[39mencoding\u001b[39;49m\u001b[39m\"\u001b[39;49m, \u001b[39mNone\u001b[39;49;00m),\n\u001b[1;32m   1882\u001b[0m     compression\u001b[39m=\u001b[39;49m\u001b[39mself\u001b[39;49m\u001b[39m.\u001b[39;49moptions\u001b[39m.\u001b[39;49mget(\u001b[39m\"\u001b[39;49m\u001b[39mcompression\u001b[39;49m\u001b[39m\"\u001b[39;49m, \u001b[39mNone\u001b[39;49;00m),\n\u001b[1;32m   1883\u001b[0m     memory_map\u001b[39m=\u001b[39;49m\u001b[39mself\u001b[39;49m\u001b[39m.\u001b[39;49moptions\u001b[39m.\u001b[39;49mget(\u001b[39m\"\u001b[39;49m\u001b[39mmemory_map\u001b[39;49m\u001b[39m\"\u001b[39;49m, \u001b[39mFalse\u001b[39;49;00m),\n\u001b[1;32m   1884\u001b[0m     is_text\u001b[39m=\u001b[39;49mis_text,\n\u001b[1;32m   1885\u001b[0m     errors\u001b[39m=\u001b[39;49m\u001b[39mself\u001b[39;49m\u001b[39m.\u001b[39;49moptions\u001b[39m.\u001b[39;49mget(\u001b[39m\"\u001b[39;49m\u001b[39mencoding_errors\u001b[39;49m\u001b[39m\"\u001b[39;49m, \u001b[39m\"\u001b[39;49m\u001b[39mstrict\u001b[39;49m\u001b[39m\"\u001b[39;49m),\n\u001b[1;32m   1886\u001b[0m     storage_options\u001b[39m=\u001b[39;49m\u001b[39mself\u001b[39;49m\u001b[39m.\u001b[39;49moptions\u001b[39m.\u001b[39;49mget(\u001b[39m\"\u001b[39;49m\u001b[39mstorage_options\u001b[39;49m\u001b[39m\"\u001b[39;49m, \u001b[39mNone\u001b[39;49;00m),\n\u001b[1;32m   1887\u001b[0m )\n\u001b[1;32m   1888\u001b[0m \u001b[39massert\u001b[39;00m \u001b[39mself\u001b[39m\u001b[39m.\u001b[39mhandles \u001b[39mis\u001b[39;00m \u001b[39mnot\u001b[39;00m \u001b[39mNone\u001b[39;00m\n\u001b[1;32m   1889\u001b[0m f \u001b[39m=\u001b[39m \u001b[39mself\u001b[39m\u001b[39m.\u001b[39mhandles\u001b[39m.\u001b[39mhandle\n",
      "File \u001b[0;32m~/miniconda3/envs/py-bio/lib/python3.10/site-packages/pandas/io/common.py:873\u001b[0m, in \u001b[0;36mget_handle\u001b[0;34m(path_or_buf, mode, encoding, compression, memory_map, is_text, errors, storage_options)\u001b[0m\n\u001b[1;32m    868\u001b[0m \u001b[39melif\u001b[39;00m \u001b[39misinstance\u001b[39m(handle, \u001b[39mstr\u001b[39m):\n\u001b[1;32m    869\u001b[0m     \u001b[39m# Check whether the filename is to be opened in binary mode.\u001b[39;00m\n\u001b[1;32m    870\u001b[0m     \u001b[39m# Binary mode does not support 'encoding' and 'newline'.\u001b[39;00m\n\u001b[1;32m    871\u001b[0m     \u001b[39mif\u001b[39;00m ioargs\u001b[39m.\u001b[39mencoding \u001b[39mand\u001b[39;00m \u001b[39m\"\u001b[39m\u001b[39mb\u001b[39m\u001b[39m\"\u001b[39m \u001b[39mnot\u001b[39;00m \u001b[39min\u001b[39;00m ioargs\u001b[39m.\u001b[39mmode:\n\u001b[1;32m    872\u001b[0m         \u001b[39m# Encoding\u001b[39;00m\n\u001b[0;32m--> 873\u001b[0m         handle \u001b[39m=\u001b[39m \u001b[39mopen\u001b[39;49m(\n\u001b[1;32m    874\u001b[0m             handle,\n\u001b[1;32m    875\u001b[0m             ioargs\u001b[39m.\u001b[39;49mmode,\n\u001b[1;32m    876\u001b[0m             encoding\u001b[39m=\u001b[39;49mioargs\u001b[39m.\u001b[39;49mencoding,\n\u001b[1;32m    877\u001b[0m             errors\u001b[39m=\u001b[39;49merrors,\n\u001b[1;32m    878\u001b[0m             newline\u001b[39m=\u001b[39;49m\u001b[39m\"\u001b[39;49m\u001b[39m\"\u001b[39;49m,\n\u001b[1;32m    879\u001b[0m         )\n\u001b[1;32m    880\u001b[0m     \u001b[39melse\u001b[39;00m:\n\u001b[1;32m    881\u001b[0m         \u001b[39m# Binary mode\u001b[39;00m\n\u001b[1;32m    882\u001b[0m         handle \u001b[39m=\u001b[39m \u001b[39mopen\u001b[39m(handle, ioargs\u001b[39m.\u001b[39mmode)\n",
      "\u001b[0;31mFileNotFoundError\u001b[0m: [Errno 2] No such file or directory: '/home/elizabeth/elizabeth/projects/data/panel_senmayo.csv'"
     ]
    }
   ],
   "source": [
    "%load_ext autoreload\n",
    "%autoreload 2\n",
    "\n",
    "import os\n",
    "import re\n",
    "import scanpy as scale\n",
    "import matplotlib\n",
    "import matplotlib.pyplot as plt\n",
    "import corescpy as cr\n",
    "from corescpy import Omics\n",
    "import warnings\n",
    "import pandas as pd\n",
    "import numpy as np\n",
    "\n",
    "matplotlib.rcParams['figure.figsize'] = (10, 10)\n",
    "warnings.showwarning = lambda mess, cat, path, lineno, file=None, line=None: \\\n",
    "    print(f\"{path}:{lineno}: {cat.__name__}: {mess}\", file=file)\n",
    "warnings.filterwarnings(\"always\", category=UserWarning, module=\"corescpy\")\n",
    "\n",
    "ddd = \"/home/elizabeth/elizabeth/projects/data/\"\n",
    "file = os.path.join(ddd,\n",
    "                    \"combined-cd/2023-05-12_CombinedCD-v2_new.h5ad\")\n",
    "file_gca = os.path.join(\n",
    "    ddd, \"public/gut-cell-atlas/Full_obj_log_counts_soupx_v2.h5ad\")\n",
    "genes = list(pd.read_csv(os.path.join(ddd, \"panel_senmayo.csv\")).gene)\n",
    "genes_main = [\"CDKN1A\", \"CDKN2A\", \"TP53\", \"PLAUR\", \"PTGER4\", \"FTL\", \"IL6ST\"]\n",
    "\n",
    "raw = False\n",
    "\n",
    "col_sample_id = \"object\"\n",
    "col_subject = \"PubID\"\n",
    "method_cluster = \"leiden\"\n",
    "col_cell_type = \"ClusterAnnotation\"\n",
    "col_condition = \"Inflammation\"\n",
    "key_control, key_treatment = \"Non-inflamed\", \"Inflamed\"\n",
    "# col_cell_type = \"majority_voting\"\n",
    "kws_init = {\n",
    "    \"assay\": None, \"col_gene_symbols\": [\"features\", \"_index\"][int(raw)],\n",
    "    \"col_cell_type\": col_cell_type, \"col_sample_id\": col_sample_id,\n",
    "    \"col_subject\": col_subject, \"col_condition\": col_condition,\n",
    "    \"key_control\": key_control, \"key_treatment\": key_treatment}\n",
    "kws_pp = {\"kws_hvg\": {\"flavor\": \"cell_ranger\", \"batch_key\": col_sample_id},\n",
    "          \"target_sum\": 10000.0,\n",
    "          \"cell_filter_pmt\": [0, 30],\n",
    "          \"cell_filter_ngene\": [200, 2000],\n",
    "          \"cell_filter_ncounts\": [500, 60000],\n",
    "          \"gene_filter_ncell\": [3, None],\n",
    "          \"regress_out\": None,\n",
    "          \"kws_scale\": True}\n",
    "kws_cluster = {\"method_cluster\": method_cluster,\n",
    "               \"kws_umap\": {},\n",
    "               \"kws_neighbors\": None,\n",
    "               \"kws_pca\": {\"n_comps\": 20, \"use_highly_variable\": True},\n",
    "               \"kws_cluster\": {},\n",
    "               \"resolution\": 0.5}\n",
    "if method_cluster == \"louvain\":\n",
    "    kws_cluster[\"kws_cluster\"].update({\"flavor\": \"vtraag\"})\n"
   ]
  },
  {
   "cell_type": "markdown",
   "metadata": {},
   "source": [
    "# Object Initialization"
   ]
  },
  {
   "cell_type": "code",
   "execution_count": null,
   "metadata": {},
   "outputs": [],
   "source": [
    "self = Omics(file, **kws_init, raw=raw)\n",
    "self.adata.raw = None  # causes problems for some reason\n",
    "\n",
    "# Certain Aesthetic Changes\n",
    "self.adata = self.adata[self.adata.obs.Region == \"Ileum\"]\n",
    "self.adata.obs.replace({\"Sex\": {\"M\": \"Male\"}}, inplace=True)\n",
    "\n",
    "# Fix Special Characters\n",
    "self.adata.obs.loc[:, col_condition] = self.adata.obs[col_condition].apply(\n",
    "    lambda x: re.sub(\"_\", \"-\", x))  # causes issues with pydeseq2 package\n",
    "key_treatment, key_control = [re.sub(\"_\", \"-\", x)\n",
    "                              for x in [key_treatment, key_control ]]\n",
    "self._keys.update({\"key_treatment\": key_treatment,\n",
    "                   \"key_control\": key_control})\n"
   ]
  },
  {
   "cell_type": "markdown",
   "metadata": {},
   "source": [
    "# Processing"
   ]
  },
  {
   "cell_type": "code",
   "execution_count": null,
   "metadata": {},
   "outputs": [],
   "source": [
    "%%time\n",
    "\n",
    "_ = self.preprocess(**kws_pp)\n"
   ]
  },
  {
   "cell_type": "markdown",
   "metadata": {},
   "source": [
    "# Clustering"
   ]
  },
  {
   "cell_type": "markdown",
   "metadata": {},
   "source": [
    "## UMAP"
   ]
  },
  {
   "cell_type": "code",
   "execution_count": null,
   "metadata": {},
   "outputs": [],
   "source": [
    "%%time\n",
    "\n",
    "self.cluster(**kws_cluster)\n",
    "# self.plot_umap(legend_loc=\"on data\")\n"
   ]
  },
  {
   "cell_type": "markdown",
   "metadata": {},
   "source": [
    "## Markers"
   ]
  },
  {
   "cell_type": "code",
   "execution_count": null,
   "metadata": {},
   "outputs": [],
   "source": [
    "%%time\n",
    "\n",
    "marks = self.find_markers(n_genes=3, plot_kws={\"kind\": \"box\"})\n"
   ]
  },
  {
   "cell_type": "markdown",
   "metadata": {},
   "source": [
    "## Annotation"
   ]
  },
  {
   "cell_type": "code",
   "execution_count": null,
   "metadata": {},
   "outputs": [],
   "source": [
    "%%time\n",
    "\n",
    "self.annotate_clusters(\"Cells_Intestinal_Tract.pkl\")\n",
    "marks = self.find_markers(col_cell_type=\"majority_voting\", n_genes=3)\n"
   ]
  },
  {
   "cell_type": "markdown",
   "metadata": {},
   "source": [
    "# Plots"
   ]
  },
  {
   "cell_type": "markdown",
   "metadata": {},
   "source": [
    "## Options\n",
    "\n",
    "Choose available genes of interest, etc."
   ]
  },
  {
   "cell_type": "code",
   "execution_count": null,
   "metadata": {},
   "outputs": [],
   "source": [
    "goi = list(set(genes_main).intersection(self.rna.var_names))\n"
   ]
  },
  {
   "cell_type": "markdown",
   "metadata": {},
   "source": [
    "## General GEX"
   ]
  },
  {
   "cell_type": "code",
   "execution_count": null,
   "metadata": {},
   "outputs": [],
   "source": [
    "_ = self.plot(goi, kws_umap=dict(cmap=\"magma\", vcenter=None, vmax=10),\n",
    "              kws_heat=dict(vcenter=0, cmap=\"coolwarm\"),\n",
    "              kws_matrix=dict(vcenter=0, cmap=\"coolwarm\"))\n"
   ]
  },
  {
   "cell_type": "markdown",
   "metadata": {},
   "source": [
    "## Coexpression"
   ]
  },
  {
   "cell_type": "code",
   "execution_count": null,
   "metadata": {},
   "outputs": [],
   "source": [
    "self.plot_coex([goi[0], goi[1]])\n"
   ]
  },
  {
   "cell_type": "markdown",
   "metadata": {},
   "source": [
    "## GEX by Inflammation (and TNF)"
   ]
  },
  {
   "cell_type": "markdown",
   "metadata": {},
   "source": [
    "### Single Gene"
   ]
  },
  {
   "cell_type": "code",
   "execution_count": null,
   "metadata": {},
   "outputs": [],
   "source": [
    "# fig = self.plot_compare(genes=goi, kind=\"violin\", palette=[\"r\", \"gray\"])\n",
    "_ = self.plot_compare(genes=goi, kind=\"box\", palette=[\"r\", \"gray\"])\n",
    "_ = self.plot_compare(genes=goi, kind=\"box\", palette=[\"r\", \"gray\"],\n",
    "                      columns=\"TNFAtProcedure\", long_labels=True)\n"
   ]
  },
  {
   "cell_type": "markdown",
   "metadata": {},
   "source": [
    "### Multi-Gene, Multi-Color"
   ]
  },
  {
   "cell_type": "code",
   "execution_count": null,
   "metadata": {},
   "outputs": [],
   "source": [
    "# default_fs = plt.rcParams[\"figure.figsize\"]\n",
    "# plt.rcParams[\"figure.figsize\"] = (60, 60)\n",
    "# ggg = list(set(genes).intersection(set(self.rna.var_names)))\n",
    "# for g in [list(x) for x in np.array_split(ggg, 24)]:\n",
    "#     _ = self.plot_umap(g, group=self._columns[\"col_condition\"],\n",
    "#                        figsize=(20, 20), frameon=False)\n"
   ]
  },
  {
   "cell_type": "markdown",
   "metadata": {},
   "source": [
    "# Analysis  \n",
    "\n",
    "To save the preprocessed object:\n",
    "\n",
    "```\n",
    "import re\n",
    "self.adata.write_h5ade.sub(\"_new.h5ad\", \"_processed.h5ad\", file))\n",
    "```"
   ]
  },
  {
   "cell_type": "markdown",
   "metadata": {},
   "source": [
    "## Ligand-Receptor with DEA\n",
    "\n",
    "Ligand-receptor analysis with overlaid differential expression analysis on pseudo-bulk data"
   ]
  },
  {
   "cell_type": "code",
   "execution_count": null,
   "metadata": {},
   "outputs": [],
   "source": [
    "%%time\n",
    "\n",
    "key_targets = None\n",
    "key_sources = [\"Epithelial\", \"Endothelial, Lymphatic\",\n",
    "               \"Fibroblasts\", \"Myofibroblasts\", \"Myeloid\", \"ILC3\"]\n",
    "# kws_deseq2 = dict(min_mu=0.5, min_disp=1e-08, max_disp=10, min_replicates=3)\n",
    "kws_deseq2 = dict(figsize=(45, 30))\n",
    "out_lr = self.calculate_receptor_ligand(\n",
    "    col_condition=True, figsize=(25, 15), p_threshold=0.01,\n",
    "    min_prop=0, min_count=0, min_total_count=0, kws_deseq2=kws_deseq2,\n",
    "    key_targets=key_targets, key_sources=key_sources, n_jobs=4)\n"
   ]
  },
  {
   "cell_type": "code",
   "execution_count": null,
   "metadata": {},
   "outputs": [],
   "source": [
    "# You can make new plots (e.., different targets/source, figure size, etc.)\n",
    "# without re-running all the analyses. You can also save figures this way.\n",
    "# key_sources = [\"Epithelial\", \"Endothelial, Lymphatic\", \"Myeloid\"]\n",
    "# self.plot_receptor_ligand(key_sources=key_sources, key_targets=key_sources,\n",
    "#                           out_dir=\"plots_ilealCD\", figsize=(30, 15),\n",
    "#                           figsize_dea=(45, 30), dpi=100)\n",
    "\n",
    "# Save Figures\n",
    "# for c in self.figures[\"receptor_ligand\"]:\n",
    "#     if isinstance(self.figures[\"receptor_ligand\"][c], dict):\n",
    "#         for q in self.figures[\"receptor_ligand\"][c]:\n",
    "#             self.figures[\"receptor_ligand\"][c][q].save(\n",
    "#                 f\"plots_ilealCD/{c}_{q}.png\", limitsize=False)\n",
    "#     else:\n",
    "#         self.figures[\"receptor_ligand\"][c].save(\n",
    "#             f\"plots_ilealCD/{c}.png\", limitsize=False)\n"
   ]
  },
  {
   "cell_type": "markdown",
   "metadata": {},
   "source": [
    "## Causal Network"
   ]
  },
  {
   "cell_type": "code",
   "execution_count": null,
   "metadata": {},
   "outputs": [],
   "source": [
    "%%time\n",
    "\n",
    "key_source, key_target = \"Epithelial\", \"Myeloid\"\n",
    "out = self.calculate_causal_network(key_source, key_target)\n"
   ]
  },
  {
   "cell_type": "markdown",
   "metadata": {},
   "source": [
    "## Functional Analysis (Pseudo-Bulk)"
   ]
  },
  {
   "cell_type": "code",
   "execution_count": null,
   "metadata": {},
   "outputs": [],
   "source": [
    "# out_fx = self.run_fx_analysis([self._columns[\"col_condition\"]])\n"
   ]
  },
  {
   "cell_type": "markdown",
   "metadata": {},
   "source": [
    "## Gene Set Enrichment Analysis"
   ]
  },
  {
   "cell_type": "markdown",
   "metadata": {},
   "source": [
    "### By Cell Type & Inflammation\n",
    "\n",
    "This way will choose the pathways shown in the plot using the scores and p-values."
   ]
  },
  {
   "cell_type": "code",
   "execution_count": null,
   "metadata": {},
   "outputs": [],
   "source": [
    "%%time\n",
    "\n",
    "out_gsea = self.run_gsea(key_condition=\"Epithelial_Inflamed\")\n"
   ]
  },
  {
   "cell_type": "markdown",
   "metadata": {},
   "source": [
    "### Plot Specified Pathways\n",
    "\n",
    "This list could have been supplied to the `ifn_pathways` argument in the `self.run_gsea()` call above to get these plots with the original run.\n",
    "\n",
    "This function allows you to plot different pathways and/or use different arguments for plotting (e.g., for aesthetics) without re-running the analysis."
   ]
  },
  {
   "cell_type": "code",
   "execution_count": null,
   "metadata": {},
   "outputs": [],
   "source": [
    "ifn_pathways = [\n",
    "    \"REACTOME_DNA_DOUBLE_STRAND_BREAK_REPAIR\",\n",
    "    \"REACTOME_NUCLEOTIDE_EXCISION_REPAIR\",\n",
    "    \"REACTOME_CELLULAR_RESPONSE_TO_STARVATION\",\n",
    "    \"REACTOME_TIGHT_JUNCTION_INTERACTIONS\",\n",
    "    \"REACTOME_CELL_CELL_JUNCTION_ORGANIZATION\",\n",
    "    \"REACTOME_PLASMA_LIPOPROTEIN_REMODELING\",\n",
    "    str(\"REACTOME_IMMUNOREGULATORY_INTERACTIONS_BETWEEN_A_LYMPHOID_AND_\"\n",
    "        \"A_NON_LYMPHOID_CELL\"),\n",
    "    \"REACTOME_SIGNALING_BY_PDGFR_IN_DISEASE\",\n",
    "    \"REACTOME_SWITCHING_OF_ORIGINS_TO_A_POST_REPLICATIVE_STATE\"]\n",
    "self.plot_gsea(ifn_pathways=ifn_pathways, cmap=\"magma\")\n"
   ]
  },
  {
   "cell_type": "markdown",
   "metadata": {},
   "source": [
    "### Across Cell Types"
   ]
  },
  {
   "cell_type": "code",
   "execution_count": null,
   "metadata": {},
   "outputs": [],
   "source": [
    "out_gsea_i = self.run_gsea(col_condition=self._columns[\"col_condition\"],\n",
    "                           key_condition=self._keys[\"key_treatment\"],\n",
    "                           ifn_pathways=True)  # auto-choose pathways to plot\n"
   ]
  },
  {
   "cell_type": "markdown",
   "metadata": {},
   "source": [
    "## Composition Analysis"
   ]
  },
  {
   "cell_type": "code",
   "execution_count": null,
   "metadata": {},
   "outputs": [],
   "source": [
    "out_comp = self.run_composition_analysis(covariates=[\"TNFAtProcedure\"])\n"
   ]
  },
  {
   "cell_type": "markdown",
   "metadata": {},
   "source": [
    "# Workspace"
   ]
  },
  {
   "cell_type": "code",
   "execution_count": null,
   "metadata": {},
   "outputs": [],
   "source": [
    "# # lig_rec = \"COPA-CD74\"\n",
    "# # lig_rec = \"MYL9-CD69\"\n",
    "# # lig_rec = \"HMGB1-CXCR4\"\n",
    "# # lig_rec = \"CXCL14-CXCR4\"\n",
    "# # lig_rec = \"MFGE8-PDGFRB\"\n",
    "# # lig_rec = \"CALM1-MYLK\"\n",
    "# # lig_rec = \"CALM2-MYLK\"\n",
    "# # lig_rec = \"CALM3-MYLK\"\n",
    "# lig_rec = \"HMGB1-CXCR4\"\n",
    "# p_threshold = 0.001\n",
    "\n",
    "# out_lr = self.results[\"receptor_ligand\"]\n",
    "# ligand, receptor = lig_rec.split(\"-\")\n",
    "# for s in out_lr[list(out_lr.keys())[0]].source.unique():\n",
    "#     print(f\"Source = {s}\\n\\n\")\n",
    "#     for c in out_lr:\n",
    "#         dff = out_lr[c][out_lr[c].cellphone_pvals < p_threshold]\n",
    "#         targs = list(dff[(dff[\"source\"] == s) & (\n",
    "#             dff[\"ligand\"] == ligand) & (\n",
    "#                 dff[\"receptor_complex\"] == receptor)][\"target\"])\n",
    "#         print(f\"{c}\\n{'-' * len(c)}\\n{targs}\")\n",
    "#     print(\"\\n\\n\", \"=\" * 80, \"\\n\\n\\n\")\n"
   ]
  },
  {
   "cell_type": "code",
   "execution_count": null,
   "metadata": {},
   "outputs": [],
   "source": [
    "# res = self.results[\"receptor_ligand\"][\"liana_res\"]\n",
    "# targs = res[(res.cellphone_pvals < p_threshold) & (res.lr_means > 1)\n",
    "#             ].groupby([\"receptor\", \"ligand\", \"source\", res.index.names[0]]\n",
    "#                       ).apply(lambda x: list(x.target))\n",
    "# print(targs.head())\n",
    "# ktc = self._keys[\"key_treatment\"], self._keys[\"key_control\"]\n",
    "# for i in [[0, 1], [1, 0]]:  # loop (1)  tx v. control, (2) vice-versa\n",
    "#     print(\"=\" * 80, [\"Tx v. C\", \"C vs. Tx\"][i], \"=\" * 80, \"\\n\\n\")\n",
    "#     print(targs.loc[receptor, ligand, :].reset_index(0).groupby(\n",
    "#         \"source\").apply(lambda x: list(set(x.loc[ktc[i[0]], 0]).difference(\n",
    "#             set(x.loc[ktc[i[1]], 0])))))  # difference in significant sources\n"
   ]
  },
  {
   "cell_type": "code",
   "execution_count": null,
   "metadata": {},
   "outputs": [],
   "source": [
    "# targs.reset_index()[targs.reset_index().receptor == \"MYLK\"\n",
    "#                     ].reset_index().ligand.unique()\n"
   ]
  },
  {
   "cell_type": "code",
   "execution_count": null,
   "metadata": {},
   "outputs": [],
   "source": [
    "# rrr = res[(res.ligand == ligand) & (res.receptor == receptor) & (\n",
    "#     res.cellphone_pvals < 1e-3) & (res.lr_means > 1)]\n",
    "# rrr\n"
   ]
  },
  {
   "cell_type": "code",
   "execution_count": null,
   "metadata": {},
   "outputs": [],
   "source": [
    "# tmp = [out_lr[c][out_lr[c].cellphone_pvals < 0.01].target for c in ktc]\n",
    "# targs = []\n",
    "# for s in out_lr[list(out_lr.keys())[0]].source.unique():\n",
    "#     print(s)\n",
    "#     for t in tmp:\n",
    "#         targs += [list(dff[(dff[\"source\"] == s) & (dff[\"ligand\"] == ligand) & (\n",
    "#             dff[\"receptor_complex\"] == receptor)][\"target\"])]\n",
    "#     print(s + \": \" + \", \".join(set(targs[0]).difference(targs[1])))\n"
   ]
  }
 ],
 "metadata": {
  "kernelspec": {
   "display_name": "py-bio",
   "language": "python",
   "name": "python3"
  },
  "language_info": {
   "codemirror_mode": {
    "name": "ipython",
    "version": 3
   },
   "file_extension": ".py",
   "mimetype": "text/x-python",
   "name": "python",
   "nbconvert_exporter": "python",
   "pygments_lexer": "ipython3",
   "version": "3.10.13"
  },
  "orig_nbformat": 4
 },
 "nbformat": 4,
 "nbformat_minor": 2
}
