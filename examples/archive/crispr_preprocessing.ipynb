{
 "cells": [
  {
   "cell_type": "markdown",
   "metadata": {},
   "source": [
    "# Setup\n",
    "\n",
    "The package is imported as `cr` in this chunk. Sub-modules can be called using:\n",
    "- `cr.pp` (functions in the `crispr/processing` directory scripts)\n",
    "- `cr.ax` (functions in the `crispr/processing` directory scripts)\n",
    "- `cr.pl` (functions in the `crispr/visualization` directory scripts)\n",
    "- `cr.tl` (functions in the `crispr/utils` directory scripts)\n",
    "\n",
    "You can access functions this way directly (e.g., `cr.tl.print_counts()`) if they are \"exposed,\" i.e., listed in the `__init__.py` script under a given sub-module (e.g., `crispr/processing/__init__.py`).\n",
    "\n",
    "Other functions or objects you may need to import (e.g., the default perturbation layer name, using `from crispr.analysis.perturbations import layer_perturbation`); however, most or all functions are exposed.\n",
    "\n",
    "There are also certain `Crispr` class initialization arguments defined here. No need to change anything***; these arguments are all just to identify columns in the CRISPR screening data and such.\n",
    "\n",
    "You will specify arguments to your liking in the next chunk of code under the \"Options\" section.\n",
    "\n",
    "---\n",
    "\n",
    "\\*** One exception may be `col_cell_type` to \"leiden\" or \"majority_voting\" if you want one of those as the default cell type label used in downstream processes, though you can always just specify something different using the `col_cell_type` argument in a given method."
   ]
  },
  {
   "cell_type": "code",
   "execution_count": 1,
   "metadata": {},
   "outputs": [
    {
     "data": {
      "text/html": [
       "<pre style=\"white-space:pre;overflow-x:auto;line-height:normal;font-family:Menlo,'DejaVu Sans Mono',consolas,'Courier New',monospace\"><span style=\"color: #808000; text-decoration-color: #808000; font-weight: bold\">ryp2 is not installed. Install with </span><span style=\"color: #008000; text-decoration-color: #008000; font-weight: bold\">pip install rpy2 </span><span style=\"color: #808000; text-decoration-color: #808000; font-weight: bold\">to run tools with R support.</span>\n",
       "</pre>\n"
      ],
      "text/plain": [
       "\u001b[1;33mryp2 is not installed. Install with \u001b[0m\u001b[1;32mpip install rpy2 \u001b[0m\u001b[1;33mto run tools with R support.\u001b[0m\n"
      ]
     },
     "metadata": {},
     "output_type": "display_data"
    },
    {
     "name": "stderr",
     "output_type": "stream",
     "text": [
      "Downloading data from `https://omnipathdb.org/queries/enzsub?format=json`\n",
      "Downloading data from `https://omnipathdb.org/queries/interactions?format=json`\n",
      "Downloading data from `https://omnipathdb.org/queries/complexes?format=json`\n",
      "Downloading data from `https://omnipathdb.org/queries/annotations?format=json`\n",
      "Downloading data from `https://omnipathdb.org/queries/intercell?format=json`\n",
      "Downloading data from `https://omnipathdb.org/about?format=text`\n"
     ]
    }
   ],
   "source": [
    "%load_ext autoreload\n",
    "%autoreload 2\n",
    "\n",
    "import crispr as cr\n",
    "from crispr.class_sc import Omics\n",
    "import scanpy as sc\n",
    "import copy\n",
    "import os\n",
    "import seaborn as sns\n",
    "import matplotlib.pyplot as plt\n",
    "import functools\n",
    "import pandas as pd\n",
    "import numpy as np\n",
    "from examples import config\n",
    "\n",
    "kws_init = dict(assay=None, assay_protein=None, col_sample_id=None,\n",
    "                col_gene_symbols=\"gene_symbols\",\n",
    "                col_cell_type=\"predicted_labels\",\n",
    "                col_perturbed=\"perturbation\",\n",
    "                col_guide_rna=\"feature_call\",\n",
    "                col_num_umis=\"num_umis\",\n",
    "                col_condition=\"target_gene_name\",\n",
    "                key_control=\"NT\", key_treatment=\"KD\")"
   ]
  },
  {
   "cell_type": "markdown",
   "metadata": {},
   "source": [
    "## Options\n",
    "\n",
    "Here you can specify certain arguments to guide pre-processing of the scRNA-seq (e.g., filtering by MT counts) and Perturb-seq data (e.g., guide RNA filtering and target gene mapping/assignment)."
   ]
  },
  {
   "cell_type": "markdown",
   "metadata": {},
   "source": [
    "### File Path\n",
    "\n",
    "Here I specify the file paths for HH03-HH06. \n",
    "\n",
    "<details><summary>Click the arrow to expand details on integrating multiple samples.</summary> \n",
    "Note: You can specify a dictionary of multiple files in order to integrate the samples into one object using Harmony (replacing \\<DIR\\> below with the path to the directory). \n",
    "\n",
    "I specify the `file_path` argument via code below in order to detect where your data are relative to the working directory of this script; however, in practice, you can specify paths directly/manually. \n",
    "\n",
    "```\n",
    "file_path = {\"HH03_normoxia_noMDP\": {\"directory\": \"<DIR>/HH03\"}, \"HH04_normoxia_MDP\": {\"directory\": \"<DIR>/HH04\"},\n",
    "             \"HH05_hypoxia_noMDP\": {\"directory\": \"<DIR>/HH05\"}, \"HH06_hypoxia_MDP\": {\"directory\": \"<DIR>/HH06\"}}\n",
    "```\n",
    "\n",
    "If you use this method, you'd need to specify certain initialization arguments differently. Refer to `crispr/examples/crispr_integration.ipynb` for an example.\n",
    "\n",
    "</details>\n",
    "\n",
    "**In this notebook**, for ease of examining minimally-processed objects separately, we will create multiple objects, using each element of the `file_path_list` as the `file_path` argument for each dataset. This will return a list of individual objects (instantiations of the class defined in `crispr/class_crispr.py`) for each dataset. These paths should point to the directory within which the feature_bc_matrix (and any protospacer files) are found (i.e., in the \"outs\" subdirectory in CellRanger output)\n",
    "\n",
    "<details><summary>Click to expand details</summary>\n",
    "\n",
    "```\n",
    "crd = \"<YOUR DIRECTORY HERE>\"\n",
    "# e.g., \"/home/asline01/projects/crispr/examples/data/crispr-screening/HH03\"\n",
    "\n",
    "subd = \"<YOUR SUB-DIRECTORY WITH THE .mtx, barcodes, features files HERE>\"\n",
    "# e.g., \"filtered_feature_bc_matrix\"\n",
    "\n",
    "proto = \"<YOUR PROTOSPACER .csv HERE; file should be under `crdir` directory>\" \n",
    "# e.g., \"crispr_analysis/protospacer_calls_per_cell.csv\"\n",
    "\n",
    "file_path = dict(directory=crd, subdirectory_mtx=subd, file_protospacer=proto)\n",
    "```\n",
    "If you have the typical/default file tree/naming (e.g., \"filtered_feature_bc_matrix\" and \"crispr_analysis/protospacer_calls_per_cell.csv\" are contained in the directory defined in `file_path[\"directory\"]`), you should be able to specify just `file_path=dict(directory=<YOUR DIRECTORY HERE>)` (e.g., `file_path=dict(directory=\"/home/projects/crispr-screening/crispr-screening/analysis/cellranger/cr_count_2023-05-15_1837/HH02/outs\")`).\n",
    " \n",
    "</details>"
   ]
  },
  {
   "cell_type": "code",
   "execution_count": 2,
   "metadata": {},
   "outputs": [],
   "source": [
    "file_path = [\"HH03_normoxia_noMDP\", \"HH04_normoxia_MDP\",\n",
    "             \"HH05_hypoxia_noMDP\", \"HH06_hypoxia_MDP\"]\n",
    "file_path = dict([(x, {\"directory\": os.path.join(\n",
    "    config.DIR, \"crispr-screening\", x.split(\"_\")[0])}) for x in file_path])\n",
    "file_path_list = [file_path[x] for x in file_path]"
   ]
  },
  {
   "cell_type": "markdown",
   "metadata": {},
   "source": [
    "### scRNA-seq Pre-Processing & Clustering\n",
    "\n",
    "You don't necessarily need to change these, but you can if you want to fiddle with the options. \n",
    "\n",
    "The main wrapper function for preprocessing is `cr.pp.process_data()`. This function calls additional functions in the same script (and some others in the visualization module, `crispr/visualization/preprocessing.py`).\n",
    "\n",
    "<u> __Notes__ </u>  \n",
    "\n",
    "- More options are available for greater customization. See the docstring in the functions in `crispr/processing/preprocessing.py` (the `cr.pp` module, if you imported the package using `import crispr as cr` as is done in the first chunk in this notebook) and `crispr/analysis/clustering.py`. \n",
    "\n",
    "- Certain highly-customized (i.e., infrequently-used) arguments are \"catch-alls\" that require you to specify a dictionary of arguments to be passed to a function in an external package (e.g., the `kws_neighbors` argument in the pre-processing method is passed to `scanpy.pp.neighbors()`). Refer to the relevant package's documentation for a list of potential arguments."
   ]
  },
  {
   "cell_type": "code",
   "execution_count": 3,
   "metadata": {},
   "outputs": [],
   "source": [
    "kws_umap = dict(min_dist=0.3)\n",
    "kws_pp = dict(kws_hvg=dict(min_mean=0.0125, max_mean=10, min_disp=0.5),\n",
    "              target_sum=10000, cell_filter_pmt=[0, 15],\n",
    "              cell_filter_ngene=[200, 7000], cell_filter_ncounts=[500, 60000],\n",
    "              gene_filter_ncell=[3, None],\n",
    "              kws_scale=\"z\",  # z-scoring method like in the Cell paper\n",
    "              regress_out=None,  # may want [\"total_counts\", \"pct_counts_mt\"]\n",
    "              kws_umap=kws_umap)\n",
    "kws_cluster = dict(method_cluster=\"leiden\", kws_umap=kws_umap,\n",
    "                   kws_neighbors=None, resolution=1.2,\n",
    "                   kws_pca=dict(n_comps=20, use_highly_variable=True))"
   ]
  },
  {
   "cell_type": "markdown",
   "metadata": {},
   "source": [
    "### Guide RNA Processing\n",
    "\n",
    "These are arguments for gRNA filtering and target gene assignment fed to functions contained in `crispr/processing/guide_rna.py`. Note that columns with the original labels of guide RNA combinations exist in the object's anndata attributes (e.g., `selves[0].adata[\"feature_call_original\"]`).\n",
    "\n",
    "The main wrapper function is `cr.pp.process_guide_rna()`. \n",
    "- This function calls other functions in that same script, where you can see their code. \n",
    "- You can explore how they work individually by **importing them from the submodule** and providing appropriate inputs or by using the **debugger** to step into the function when it's called within `cr.Crispr` initialization.\n",
    "- Some arguments used by this function (column names, keys) are provided via the object `kws_init` in this example because the `Crispr` class object will use these definitions across multiple contexts beyond gRNA processing (so they are stored in attributes, e.g., `self._columns[\"col_guide_rna\"]`) so they are consistently accessible.\n",
    "- Not all possible arguments are explicitly listed in the wrapper function's definition. A list of **additional keyword arguments** that can be provided can be found in documentation of the function `filter_by_guide_counts()`, to which the wrapper function feeds additional arguments not listed in its function definition. These additional arguments are also specified in the example below.\n",
    "\n",
    "Many of these arguments are designed to implement the complex procedure requested in [Jira issue 737](https://mssm-ipm.atlassian.net/browse/CHOLAB-737?atlOrigin=eyJpIjoiYjNjMzFkNzkzZjBhNDU5Zjg0YjY5OTQ2MjM4NDI0NTQiLCJwIjoiaiJ9) (particularly, [this comment](https://mssm-ipm.atlassian.net/browse/CHOLAB-737?focusedCommentId=11589)) and (for now) have defaults reflecting that procedure for ease of remembering them. Most users not wanting to employ this particular procedure will therefore probably have to specify None, 0 (for minimum), 100 (for maximum percent arguments), etc. for certain arguments to avoid these steps.\n",
    "\n",
    "<u> __Label Processing Arguments__ </u>  \n",
    "\n",
    "- `feature_split`: This argument defines the character that separates multiple guide RNAs, (e.g., \"|\" in \"STAT1-1|NOD2-2-2\").\n",
    "- `guide_split`: This argument defines the character that separates individual IDs within gRNAs targeting the same gene (e.g., \"-\" in \"STAT1\" and \"STAT1-1-2\").\n",
    "- `key_control_patterns`: This is a list of patterns that count as control guides. For instance, if control guides are denoted by labels such as \"NEGCTRL-1-2\" and \"CONTROL\" and \"CTRL-2\" and such, you could specify `[\"CTRL\", \"CONTROL\"]` if those specific strings are not found in any targeting gRNA labels.\n",
    "- `key_control` is mainly aesthetic because it simply renames the control guides to something else (e.g., \"Control\") in the final targeting gene label column.\n",
    "\n",
    "<u> __Guide Mapping and Filtering Arguments__ </u>  \n",
    "\n",
    "The arguments below are listed roughly in order that the mapping/filtering steps in which they are used are performed.\n",
    "\n",
    "First, we determine which control guides can be removed from the list of guides with which that cell is considered transfected.\n",
    "- `remove_multi_transfected`: If True, multiply-transfected cells will be removed from the data, unless they are labeled as pseudo-single-transfected according to other argument specifications.\n",
    "- `max_pct_control_drop`: If the percent of UMI counts that are control guides (combined across individual guide IDs, e.g., \"NEGCTRL-1-1\" and \"NEGCTRL-1-2\" and so on) is below this number, the control label will be removed from the list of guides for that cell (e.g, \"CTRL|STAT1|NOD2\" --> \"STAT1|NOD2\").\n",
    "- `min_n_target_control_drop`: If the percent of control UMI counts is above `max_pct_control_drop`, but the total non-control (targeting) sgRNA UMI count is over 100, control is removed from the list of guides.\n",
    "\n",
    "For cells that are still not considered pseudo-single-transfected after the control guide filtering described above:\n",
    "\n",
    "- `min_pct_avg_n`: All guides whose UMIs make up less than this percentage of the total UMIs will be dropped from the list of guides.\n",
    "- `min_pct_dominant`: For cells that after that step are still considered multiply-transfected, if a single guide makes up this percent or greater of the total UMIs, it is considered the dominant guide and the cell pseudo-single-transfected for the corresponding target gene.\n",
    "\n",
    "For cells that are still considered multiply-transfected:\n",
    "- `drop_multi_control`: If False, cells that (after the filtering described above) are still considered transfected with a control guide plus only one type of targeting guide will be considered pseudo-single-transfected for the target guide. Otherwise, if both control and targeting guides remain in the list of guides for that cell after all other gRNA filtering/processing, the cell will be dropped.\n",
    "\n",
    "If `remove_multi_transfected` is True, then all cells that are still considered multiply-transfected will be dropped."
   ]
  },
  {
   "cell_type": "code",
   "execution_count": 4,
   "metadata": {},
   "outputs": [],
   "source": [
    "kws_grna = dict(feature_split=\"|\", guide_split=\"-\",\n",
    "                key_control_patterns=[\"CTRL\"],\n",
    "                remove_multi_transfected=True, drop_multi_control=False,\n",
    "                max_pct_control_drop=75, min_n_target_control_drop=None,\n",
    "                min_pct_avg_n=40, min_pct_dominant=80)"
   ]
  },
  {
   "cell_type": "markdown",
   "metadata": {},
   "source": [
    "## Data Loading & Guide RNA Processing\n",
    "\n",
    "Now, we can use those specifications to initialize an object that stores the data, attributes with information about the data and results from downstream analyses, and methods allowing you to conduct those analyses conveniently and consistently without having to \n",
    "- repeatedly specify information about your data across related functions within the same workflow/analysis,\n",
    "- keep track of and pass outputs from previous processes across many steps, and\n",
    "- change all your code if you decide to use different datasets later."
   ]
  },
  {
   "cell_type": "code",
   "execution_count": 5,
   "metadata": {},
   "outputs": [
    {
     "name": "stdout",
     "output_type": "stream",
     "text": [
      "\n",
      "\n",
      "<<< INITIALIZING OMICS CLASS OBJECT >>>\n",
      "\n",
      "Unused keyword arguments: {'kws_process_guide_rna': {'col_guide_rna': 'feature_call', 'col_num_umis': 'num_umis', 'key_control': 'NT', 'col_guide_rna_new': 'target_gene_name', 'feature_split': '|', 'guide_split': '-', 'key_control_patterns': ['CTRL'], 'remove_multi_transfected': True, 'drop_multi_control': False, 'max_pct_control_drop': 75, 'min_n_target_control_drop': None, 'min_pct_avg_n': 40, 'min_pct_dominant': 80}}.\n",
      "\n",
      "col_gene_symbols=\"gene_symbols\"\n",
      "col_cell_type=\"leiden\"\n",
      "col_sample_id=None\n",
      "col_batch=None\n",
      "col_subject=None\n",
      "col_condition=\"target_gene_name\"\n",
      "col_num_umis=\"num_umis\"\n",
      "key_control=\"NT\"\n",
      "key_treatment=\"KD\"\n",
      "\n",
      "\n",
      "<<< LOADING PROTOSPACER METADATA >>>\n",
      "\n",
      "\n",
      "================================================================================\n",
      "Cell Counts: Initial\n",
      "================================================================================\n",
      "\n",
      "\n",
      "Observations: 15078\n",
      "\n",
      "\n",
      "\n",
      "================================================================================\n",
      "Gene Counts: Initial\n",
      "================================================================================\n",
      "\n",
      "Empty DataFrame\n",
      "Columns: [index, gene_ids, feature_types]\n",
      "Index: []\n",
      "\n",
      "\n",
      "\n",
      "                     gene_ids    feature_types\n",
      "gene_symbols                                  \n",
      "MIR1302-2HG   ENSG00000243485  Gene Expression\n",
      "FAM138A       ENSG00000237613  Gene Expression\n",
      "OR4F5         ENSG00000186092  Gene Expression\n",
      "AL627309.1    ENSG00000238009  Gene Expression\n",
      "AL627309.3    ENSG00000239945  Gene Expression\n",
      "...                       ...              ...\n",
      "AC141272.1    ENSG00000277836  Gene Expression\n",
      "AC023491.2    ENSG00000278633  Gene Expression\n",
      "AC007325.1    ENSG00000276017  Gene Expression\n",
      "AC007325.4    ENSG00000278817  Gene Expression\n",
      "AC007325.2    ENSG00000277196  Gene Expression\n",
      "\n",
      "[36601 rows x 2 columns]\n",
      "\n",
      "\n",
      "<<< PERFORMING gRNA PROCESSING & FILTERING >>>\n",
      "\n",
      "{'feature_split': '|', 'guide_split': '-', 'key_control_patterns': ['CTRL'], 'drop_multi_control': False, 'max_pct_control_drop': 75, 'min_n_target_control_drop': None, 'min_pct_avg_n': 40, 'min_pct_dominant': 80}\n"
     ]
    }
   ],
   "source": [
    "selves = [cr.Crispr(f, **kws_init, kws_process_guide_rna=kws_grna)\n",
    "          for f in file_path_list] # create object"
   ]
  },
  {
   "cell_type": "markdown",
   "metadata": {},
   "source": [
    "### Check Whether Target Gene Expression Data is Available"
   ]
  },
  {
   "cell_type": "code",
   "execution_count": null,
   "metadata": {},
   "outputs": [],
   "source": [
    "[np.mean([x in s.adata.var_names for x in s.adata.obs.target_gene_name.unique(\n",
    "    )]) for s in selves]"
   ]
  },
  {
   "cell_type": "markdown",
   "metadata": {},
   "source": [
    "### Set Genes to Plot\n",
    "\n",
    "This code will simply use all target genes as the genes of interest to plot. Alternatively, you could specify genes manually in this variable (e.g., `genes = [\"NOD2\", \"ATG16L1\"]`) to plot those in the code chunks below."
   ]
  },
  {
   "cell_type": "code",
   "execution_count": null,
   "metadata": {},
   "outputs": [],
   "source": [
    "genes = functools.reduce(lambda i, j: i + j, [list(s.adata.obs[\n",
    "    s._columns[\"col_target_genes\"]].unique()) for s in selves])\n",
    "genes = list(set(genes).intersection(selves[0].adata.var_names))"
   ]
  },
  {
   "cell_type": "markdown",
   "metadata": {},
   "source": [
    "### Store Original Data (Optional)\n",
    "\n",
    "Store original objects before pre-processing in case you want to compare."
   ]
  },
  {
   "cell_type": "code",
   "execution_count": null,
   "metadata": {},
   "outputs": [],
   "source": [
    "selves_original = [copy.deepcopy(selves) for s in selves]"
   ]
  },
  {
   "cell_type": "markdown",
   "metadata": {},
   "source": [
    "# scRNA-seq Processing \n",
    "\n",
    "This process produces plots and other information; however, in the compiled version of the example notebook, those outputs may have been hidden for convenience of focusing on other features. To see the output, run the code in the notebook."
   ]
  },
  {
   "cell_type": "markdown",
   "metadata": {},
   "source": [
    "## Preprocessing & Clustering"
   ]
  },
  {
   "cell_type": "code",
   "execution_count": null,
   "metadata": {},
   "outputs": [],
   "source": [
    "figs_pp, figs_cl = [], []  # to store figures\n",
    "for s in selves:\n",
    "    fpp = s.preprocess(**kws_pp)\n",
    "    fcl = s.cluster(**kws_pp)\n",
    "    figs_pp, figs_cl = figs_pp + [fpp], figs_cl + [fcl]"
   ]
  },
  {
   "cell_type": "markdown",
   "metadata": {},
   "source": [
    "## DEGs"
   ]
  },
  {
   "cell_type": "code",
   "execution_count": null,
   "metadata": {},
   "outputs": [],
   "source": [
    "marks = [s.find_markers(3) for s in selves]"
   ]
  },
  {
   "cell_type": "markdown",
   "metadata": {},
   "source": [
    "# Plotting\n",
    "\n",
    "\n",
    "<u>__These are just examples!__</u>  \n",
    "\n",
    "The plotting functionality is highly flexible, feature-rich, and customizable. Its capabilities cannot easily be summarized here. \n",
    "\n",
    "<u>__If you want to create different plots, explore the documentation__</u> and other <u>__example notebooks__</u> and <u>__experiment__</u> with the functions/methods to see if your desired figures can be created.  "
   ]
  },
  {
   "cell_type": "markdown",
   "metadata": {},
   "source": [
    "## Compare KD vs. NT"
   ]
  },
  {
   "cell_type": "code",
   "execution_count": null,
   "metadata": {},
   "outputs": [],
   "source": [
    "for self in selves:\n",
    "    fig, axs = self.plot_gex_targets(layer=\"log1p\", figsize=(40, 40))"
   ]
  },
  {
   "cell_type": "markdown",
   "metadata": {},
   "source": [
    "## By Cell Type"
   ]
  },
  {
   "cell_type": "markdown",
   "metadata": {},
   "source": [
    "### UMAP "
   ]
  },
  {
   "cell_type": "code",
   "execution_count": null,
   "metadata": {},
   "outputs": [],
   "source": [
    "for self in selves:\n",
    "    self.map()\n",
    "    self.map(legend_loc=\"right margin\")\n",
    "    self.map(\"NOD2\")\n",
    "    self.map([\"NOD2\", \"LACC1\", \"CDKN1A\"], legend_loc=\"right margin\")\n",
    "    self.plot_umap(\"CDKN1A\", group=self._columns[\"col_perturbed\"],\n",
    "                   palette=\"coolwarm\", vcenter=0)"
   ]
  },
  {
   "cell_type": "markdown",
   "metadata": {},
   "source": [
    "### Violin Plots"
   ]
  },
  {
   "cell_type": "code",
   "execution_count": null,
   "metadata": {},
   "outputs": [],
   "source": [
    "for self in selves:\n",
    "    self.plot(kind=\"violin\", genes=genes, layer=\"log1p\")"
   ]
  },
  {
   "cell_type": "markdown",
   "metadata": {},
   "source": [
    "### Matrix Plots"
   ]
  },
  {
   "cell_type": "code",
   "execution_count": null,
   "metadata": {},
   "outputs": [],
   "source": [
    "for self in selves:\n",
    "    self.plot(kind=\"matrix\", genes=genes, layer=\"log1p\")"
   ]
  },
  {
   "cell_type": "markdown",
   "metadata": {},
   "source": [
    "## By Target Gene"
   ]
  },
  {
   "cell_type": "markdown",
   "metadata": {},
   "source": [
    "### Dot Plot"
   ]
  },
  {
   "cell_type": "code",
   "execution_count": null,
   "metadata": {},
   "outputs": [],
   "source": [
    "for self in selves:\n",
    "    self.plot(kind=\"dot\", genes=genes, layer=\"counts\",\n",
    "              col_cell_type=self._columns[\"col_target_genes\"],\n",
    "              categories_order=genes + [self._keys[\"key_control\"]])  # target"
   ]
  },
  {
   "cell_type": "markdown",
   "metadata": {},
   "source": [
    "### Matrix Plot"
   ]
  },
  {
   "cell_type": "code",
   "execution_count": null,
   "metadata": {},
   "outputs": [],
   "source": [
    "for self in selves:\n",
    "    self.plot(kind=\"matrix\", genes=genes, layer=\"log1p\",\n",
    "              col_cell_type=self._columns[\"col_target_genes\"],\n",
    "              kws_matrix=dict(vcenter=0, cmap=\"magma\"))  # ~ target"
   ]
  },
  {
   "cell_type": "markdown",
   "metadata": {},
   "source": [
    "### Violin\n",
    "\n",
    "We'll choose a random subset of the target genes to be able to see the violin plots more clearly."
   ]
  },
  {
   "cell_type": "code",
   "execution_count": null,
   "metadata": {},
   "outputs": [],
   "source": [
    "ggg = list(pd.Series(genes).sample(10))\n",
    "for self in selves:\n",
    "    self.plot(kind=\"violin\", genes=ggg, layer=\"log1p\",\n",
    "              col_cell_type=self._columns[\"col_target_genes\"],\n",
    "              categories_order=ggg + [self._keys[\"key_control\"]],\n",
    "              kws_violin=dict(figsize=(20, 20)))"
   ]
  },
  {
   "cell_type": "markdown",
   "metadata": {},
   "source": [
    "### Heatmaps"
   ]
  },
  {
   "cell_type": "markdown",
   "metadata": {},
   "source": [
    "#### Standardize by Cell"
   ]
  },
  {
   "cell_type": "code",
   "execution_count": null,
   "metadata": {},
   "outputs": [],
   "source": [
    "for self in selves:\n",
    "    self.plot(kind=\"heat\", genes=genes, layer=\"counts\",\n",
    "              col_cell_type=self._columns[\"col_target_genes\"],\n",
    "              kws_heat=dict(cmap=\"magma\", swap_axes=True,\n",
    "                            standard_scale=\"obs\", figsize=(40, 30)))"
   ]
  },
  {
   "cell_type": "markdown",
   "metadata": {},
   "source": [
    "#### Standardize by Gene"
   ]
  },
  {
   "cell_type": "code",
   "execution_count": null,
   "metadata": {},
   "outputs": [],
   "source": [
    "for self in selves:\n",
    "    self.plot(kind=\"heat\", genes=genes, layer=\"counts\",\n",
    "              col_cell_type=self._columns[\"col_target_genes\"],\n",
    "              kws_heat=dict(cmap=\"magma\", swap_axes=True,\n",
    "                            standard_scale=\"var\", figsize=(20, 20)))"
   ]
  }
 ],
 "metadata": {
  "kernelspec": {
   "display_name": "py-bio",
   "language": "python",
   "name": "python3"
  },
  "language_info": {
   "codemirror_mode": {
    "name": "ipython",
    "version": 3
   },
   "file_extension": ".py",
   "mimetype": "text/x-python",
   "name": "python",
   "nbconvert_exporter": "python",
   "pygments_lexer": "ipython3",
   "version": "3.10.4"
  }
 },
 "nbformat": 4,
 "nbformat_minor": 2
}
