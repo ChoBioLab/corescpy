{
 "cells": [
  {
   "cell_type": "markdown",
   "metadata": {},
   "source": [
    "# Setup\n",
    "\n",
    "First, we need to initialize the object (a Pertpy package internal dataset), and if the object isn't already preprocessed and/or clustered, perform those steps.\n",
    "\n",
    "## Imports & Options"
   ]
  },
  {
   "cell_type": "code",
   "execution_count": null,
   "metadata": {},
   "outputs": [
    {
     "data": {
      "text/html": [
       "<pre style=\"white-space:pre;overflow-x:auto;line-height:normal;font-family:Menlo,'DejaVu Sans Mono',consolas,'Courier New',monospace\"><span style=\"color: #808000; text-decoration-color: #808000; font-weight: bold\">ryp2 is not installed. Install with </span><span style=\"color: #008000; text-decoration-color: #008000; font-weight: bold\">pip install rpy2 </span><span style=\"color: #808000; text-decoration-color: #808000; font-weight: bold\">to run tools with R support.</span>\n",
       "</pre>\n"
      ],
      "text/plain": [
       "\u001b[1;33mryp2 is not installed. Install with \u001b[0m\u001b[1;32mpip install rpy2 \u001b[0m\u001b[1;33mto run tools with R support.\u001b[0m\n"
      ]
     },
     "metadata": {},
     "output_type": "display_data"
    },
    {
     "name": "stdout",
     "output_type": "stream",
     "text": [
      "\n",
      "Analysis Functions\n",
      "\tanalyze_composition\n",
      "\tcluster\n",
      "\tclustering\n",
      "\tcomposition\n",
      "\tcompute_distance\n",
      "\tfind_marker_genes\n",
      "\tperform_augur\n",
      "\tperform_celltypist\n",
      "\tperform_differential_prioritization\n",
      "\tperform_gsea\n",
      "\tperform_mixscape\n",
      "\tperturbations\n"
     ]
    },
    {
     "data": {
      "application/vnd.jupyter.widget-view+json": {
       "model_id": "27ea4bdc8dd34a049a40c94e0bc37e6f",
       "version_major": 2,
       "version_minor": 0
      },
      "text/plain": [
       "Output()"
      ]
     },
     "metadata": {},
     "output_type": "display_data"
    }
   ],
   "source": [
    "%load_ext autoreload\n",
    "%autoreload 2\n",
    "\n",
    "import  as cr\n",
    "from  import Crispr\n",
    "import pertpy as pt\n",
    "import scanpy as sc\n",
    "import pandas as pd\n",
    "import numpy as np\n",
    "\n",
    "# Options\n",
    "print(\"\\nAnalysis Functions\\n\\t\" + \"\\n\\t\".join(list(pd.Series(\n",
    "    [np.nan if \"__\" in x else x for x in dir(cr.ax)]).dropna())))\n",
    "file = \"perturb-seq\"\n",
    "pd.options.display.max_columns = 100\n",
    "\n",
    "#  Set Arguments\n",
    "kwargs_init = dict(assay=None,\n",
    "                   col_gene_symbols=\"gene_symbol\",\n",
    "                   col_cell_type=\"celltype\",\n",
    "                   col_perturbed=\"perturbation\",\n",
    "                   col_guide_rna=\"perturbation\",\n",
    "                   col_num_umis=None,\n",
    "                   kws_process_guide_rna=None,\n",
    "                   col_condition=\"target_gene_name\",\n",
    "                   key_control=\"Control\",\n",
    "                   key_treatment=\"KO\")\n",
    "file_path = pt.dt.papalexi_2021()"
   ]
  },
  {
   "cell_type": "markdown",
   "metadata": {},
   "source": [
    "## Object\n",
    "\n",
    "This code instantiates the CRISPR object, which is the main way of interacting with this package as an end-user.\n",
    "\n",
    "This is more code than you would need in real life; it just ensures that certain public datasets are loaded from the source for various reasons."
   ]
  },
  {
   "cell_type": "code",
   "execution_count": null,
   "metadata": {},
   "outputs": [],
   "source": [
    "self = Crispr(file_path, **kwargs_init)"
   ]
  },
  {
   "cell_type": "markdown",
   "metadata": {},
   "source": [
    "# Processing\n",
    "\n",
    "We will just use defaults for the preprocessing arguments (very little filtering, consistent with the Pertpy tutorial for this object)."
   ]
  },
  {
   "cell_type": "markdown",
   "metadata": {},
   "source": [
    "## Preprocess"
   ]
  },
  {
   "cell_type": "code",
   "execution_count": null,
   "metadata": {},
   "outputs": [],
   "source": [
    "self.preprocess(kws_hvg=True)  # preprocessing"
   ]
  },
  {
   "cell_type": "markdown",
   "metadata": {},
   "source": [
    "## Cluster"
   ]
  },
  {
   "cell_type": "code",
   "execution_count": null,
   "metadata": {},
   "outputs": [],
   "source": [
    "_ = self.cluster()"
   ]
  },
  {
   "cell_type": "markdown",
   "metadata": {},
   "source": [
    "### CellTypist Annotations\n",
    "\n",
    "Now let's detect cell types using `CellTypist`."
   ]
  },
  {
   "cell_type": "code",
   "execution_count": null,
   "metadata": {},
   "outputs": [],
   "source": [
    "_ = self.annotate_clusters(\"ImmuneAllHigh.pkl\")"
   ]
  },
  {
   "cell_type": "markdown",
   "metadata": {},
   "source": [
    "# Inspection\n",
    "\n",
    "First, you can easily print the `.adata` representation, the gene expression modality `.obs` preview, and columns and keys stored in the object's attributes using the `print()` method."
   ]
  },
  {
   "cell_type": "code",
   "execution_count": null,
   "metadata": {},
   "outputs": [],
   "source": [
    "self.print()"
   ]
  },
  {
   "cell_type": "markdown",
   "metadata": {},
   "source": [
    "## Set Up Arguments for Later\n",
    "\n",
    "\n",
    "This code looks more complicated than it actually would actually be for an end user because it was made to be generalizable across several datasets with particular column names, sizes that make it necessary to subset them in order to run the vignettes in a reasonable period of time, etc.\n",
    "\n",
    "Basically, you won't need this code as an end user; this is just to choose random subsets of genes and perturbations, etc. that are available in a given example dataset.\n",
    "\n",
    "In real use cases, you will know what genes and conditions are of interest, and you can manually specify them by simply stating them in the appropriate arguments (such as `target_gene_idents`) or (in many cases) by not specifying the argument (resulting in the code using all available genes, etc.)."
   ]
  },
  {
   "cell_type": "code",
   "execution_count": null,
   "metadata": {},
   "outputs": [],
   "source": [
    "genes = self.rna.var.reset_index()[self._columns[\"col_gene_symbols\"]]\n",
    "genes_subset = list(pd.Series(genes).sample(10))\n",
    "target_gene_idents = list(self.rna.obs[self._columns[\n",
    "    \"col_target_genes\"]].sample(10))  # 10 random guide gene targets"
   ]
  },
  {
   "cell_type": "markdown",
   "metadata": {},
   "source": [
    "## Explore Data Descriptives\n",
    "\n",
    "You can plot and explore descriptives using the `describe()` method."
   ]
  },
  {
   "cell_type": "code",
   "execution_count": null,
   "metadata": {},
   "outputs": [],
   "source": [
    "_ = self.describe()  # simple\n",
    "# _ = self.describe(group_by=self._columns[\"col_target_genes\"], plot=True)"
   ]
  },
  {
   "cell_type": "markdown",
   "metadata": {},
   "source": [
    "# Plots\n",
    "\n",
    "Create plots applicable to scRNA-seq data broadly (e.g., UMAP, dotplots) without having to do any perturbation-specific analyses.\n",
    "\n",
    "## Basic Usage\n",
    "\n",
    "You can create simple plots easily without having to remember a bunch of arguments to specify! \n",
    "\n",
    "The most useful is the `genes` argument, which allows you to subset the number of features plotted (useful for spead and layout/interpretability of plots)."
   ]
  },
  {
   "cell_type": "code",
   "execution_count": null,
   "metadata": {},
   "outputs": [],
   "source": [
    "# figs = self.plot(genes=[\"gene A\", \"gene B\"...])  # to specify specific genes\n",
    "figs = self.plot(genes=24)  # to specify random subset of this # of genes"
   ]
  },
  {
   "cell_type": "markdown",
   "metadata": {},
   "source": [
    "# Analyses\n",
    "\n",
    "The following examples concern CRISPR or other perturbation design-specific analyses."
   ]
  },
  {
   "cell_type": "code",
   "execution_count": null,
   "metadata": {},
   "outputs": [],
   "source": [
    "# Choose Subset of Target Genes (optional)\n",
    "tgis = list(pd.Series(target_gene_idents).sample(3)) if len(\n",
    "    target_gene_idents) > 3 else target_gene_idents  # smaller subset = faster\n",
    "cct = \"majority_voting\" if \"majority_voting\" in self.rna.obs else None"
   ]
  },
  {
   "cell_type": "markdown",
   "metadata": {},
   "source": [
    "## Augur: Perturbation Responses by Cell Type\n",
    "\n",
    "**Which cell types are most affected by perturbations?** Quantify perturbation responses by cell type with Augur, which uses supervised machine learning classification of experimental condition labels (e.g., treated versus untreated). The more separable the condition among cells of a given type, the higher the perturbation effect score.\n",
    "\n",
    "<u> __Features__ </u>  \n",
    "\n",
    "- Quantify and visualize degree of perturbation response by cell type\n",
    "- Identify the most important features (genes).\n",
    "\n",
    "<u> __Input__ </u>  \n",
    "\n",
    "There are no required arguments. \n",
    "* If you want to override defaults drawn from `._columns` and/or `._keys`, specify the appropriate argument (e.g., `col_cell_type`). \n",
    "* You can also specify a different `classifer` (default \"random_forest_classifer\") used in the machine learning classification procedure used to calculate the AUCs/accuracy. \n",
    "* You may pass keyword arguments to the Augur predict method by specifying a dictionary in `kws_augur_predict`.\n",
    "* Specify `select_variance_features` as True to run the original Augur implementation, which removes genes that don't vary much across cell type. If False, use features selected by `scanpy.pp.highly_variable_genes()`, which is faster and sensitively recovers effects; however, the feature selection may yield inflated Augur scores because this reduced feature set is used in training, resulting in it taking advantage of the pre-existing power of this feature selection to separate cell types.\n",
    "* Specify `n_folds` and/or `subsample_size` to choose the number and sample size of folds in cross-validation.\n",
    "* Set an integer for `seed` to allow reproducibility across runs.\n",
    "\n",
    "<u> __Output__ </u>  \n",
    "\n",
    "Tuple, where the first element is the AnnData object created by the function, the second, the results dictionary, and the third, a dictionary of figures visualizing results. If copy is False (default), these outputs can also be found in `.results[\"augur\"]` and `.figures[\"augur\"]`.\n",
    "\n",
    "<u> __Notes__ </u>  \n",
    "\n",
    "- Sub-sample sizes equal across conditions; does not account for perturbation-induced compositional shifts (cell type abundance)\n",
    "- Scores are for cell types (aggregated across cells, not individual cells)\n",
    "- Two modes\n",
    "    - If select_variance_feature=True, \n",
    "    - If False, you also have to be sure that \"highly_variable_features\" is a variable in your data. This can be complicated if you have a separate layer for perturbation data."
   ]
  },
  {
   "cell_type": "code",
   "execution_count": null,
   "metadata": {},
   "outputs": [],
   "source": [
    "cct = \"majority_voting\" if \"majority_voting\" in self.rna.obs else \\\n",
    "    self._columns[\"col_cell_type\"]\n",
    "_ = self.run_augur(\n",
    "    col_cell_type=cct,\n",
    "    # ^ will be label in self._columns by default, but can override here\n",
    "    col_perturbed=self._columns[\"col_perturbed\"],\n",
    "    # ^ will be this by default if unspecified, but can override here\n",
    "    key_treatment=self._keys[\"key_treatment\"],\n",
    "    # ^ will be this by default if unspecified, but can o verride here\n",
    "    select_variance_features=True,  # filter by highly variable genes\n",
    "    classifier=\"random_forest_classifier\", n_folds=3, augur_mode=\"default\",\n",
    "    kws_umap=kws_umap, subsample_size=5, kws_augur_predict=dict(span=0.7))"
   ]
  }
 ],
 "metadata": {
  "kernelspec": {
   "display_name": "py-bio",
   "language": "python",
   "name": "python3"
  },
  "language_info": {
   "codemirror_mode": {
    "name": "ipython",
    "version": 3
   },
   "file_extension": ".py",
   "mimetype": "text/x-python",
   "name": "python",
   "nbconvert_exporter": "python",
   "pygments_lexer": "ipython3",
   "version": "3.10.4"
  },
  "orig_nbformat": 4
 },
 "nbformat": 4,
 "nbformat_minor": 2
}
